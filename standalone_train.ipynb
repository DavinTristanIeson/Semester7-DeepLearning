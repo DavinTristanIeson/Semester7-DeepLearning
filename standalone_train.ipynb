{
 "cells": [
  {
   "cell_type": "code",
   "execution_count": 1,
   "metadata": {},
   "outputs": [
    {
     "data": {
      "text/html": [
       "        <script type=\"text/javascript\">\n",
       "        window.PlotlyConfig = {MathJaxConfig: 'local'};\n",
       "        if (window.MathJax && window.MathJax.Hub && window.MathJax.Hub.Config) {window.MathJax.Hub.Config({SVG: {font: \"STIX-Web\"}});}\n",
       "        if (typeof require !== 'undefined') {\n",
       "        require.undef(\"plotly\");\n",
       "        requirejs.config({\n",
       "            paths: {\n",
       "                'plotly': ['https://cdn.plot.ly/plotly-2.35.2.min']\n",
       "            }\n",
       "        });\n",
       "        require(['plotly'], function(Plotly) {\n",
       "            window._Plotly = Plotly;\n",
       "        });\n",
       "        }\n",
       "        </script>\n",
       "        "
      ]
     },
     "metadata": {},
     "output_type": "display_data"
    }
   ],
   "source": [
    "import shutil\n",
    "import os\n",
    "import zipfile\n",
    "import urllib.request\n",
    "from typing import Optional, Sequence, cast, ClassVar, cast\n",
    "from dataclasses import dataclass\n",
    "\n",
    "import tensorflow as tf\n",
    "import keras\n",
    "import pandas as pd\n",
    "import numpy as np\n",
    "import numpy.typing as npt\n",
    "import cv2 as cv\n",
    "import tqdm\n",
    "\n",
    "import scipy.spatial.distance\n",
    "\n",
    "import sklearn.metrics\n",
    "import sklearn.manifold\n",
    "\n",
    "import plotly.express as px\n",
    "import plotly.offline\n",
    "\n",
    "import skimage.feature\n",
    "\n",
    "from standalone_preprocessing_library import *\n",
    "\n",
    "plotly.offline.init_notebook_mode(connected=True)"
   ]
  },
  {
   "cell_type": "markdown",
   "metadata": {},
   "source": [
    "Various constants"
   ]
  },
  {
   "cell_type": "code",
   "execution_count": 2,
   "metadata": {},
   "outputs": [],
   "source": [
    "DATA_DIR_PATH = \"data\"\n",
    "DATASET_PATH = \"dataset.zip\"\n",
    "TRAINING_DATA_CSV_PATH = os.path.join(DATA_DIR_PATH, \"data.csv\")\n",
    "\n",
    "MODEL_DIR_PATH = \"models\"\n",
    "EXPRESSION_RECOGNITION_MODEL_PATH = os.path.join(MODEL_DIR_PATH, \"expression_recognition.keras\")\n",
    "LBFMODEL_PATH = os.path.join(MODEL_DIR_PATH, \"lbfmodel.yaml\")\n",
    "CASCADE_CLASSIFIER_PATH = os.path.join(MODEL_DIR_PATH, \"haarcascade_frontalface_default.xml\")\n",
    "\n",
    "STANDARD_DIMENSIONS = Dimension(240, 240)\n",
    "FACE_DIMENSIONS = Dimension(120, 120)\n",
    "PREVIEW_DIMENSIONS = Dimension(500, 500)\n",
    "\n",
    "LBP_HISTOGRAM_BIN_COUNT = 8\n",
    "LBP_GRID_SIZE = (8,8)"
   ]
  },
  {
   "cell_type": "code",
   "execution_count": 3,
   "metadata": {},
   "outputs": [],
   "source": [
    "class SupportedFacialExpressionLabels:\n",
    "  Ours = [\"angry\", \"disgusted\", \"happy\", \"neutral\", \"sad\", \"surprised\"]\n",
    "  Fer2013 = [\"angry\", \"disgust\", \"fear\", \"happy\", \"neutral\", \"sad\", \"surprise\"] \n",
    "  CkPlus = [\"Anger\", \"Disgust\", \"Fear\", \"Happiness\", \"Sadness\", \"Surprise\", \"Neutral\", \"Contempt\"]\n",
    "\n",
    "CLASS_NAMES = SupportedFacialExpressionLabels.Ours"
   ]
  },
  {
   "cell_type": "markdown",
   "metadata": {},
   "source": [
    "Utility functions"
   ]
  },
  {
   "cell_type": "code",
   "execution_count": 4,
   "metadata": {},
   "outputs": [],
   "source": [
    "def get_files_in_folder(basepath: str)->list[str]:\n",
    "  if not os.path.exists(basepath):\n",
    "    return []\n",
    "  file_paths = [os.path.join(basepath, filename) for filename in os.listdir(basepath)]\n",
    "  return [path for path in file_paths if os.path.isfile(path)]\n",
    "\n",
    "def partition_grid(self, rows: int, cols: int)->list[\"Rectangle\"]:\n",
    "  row_delta = int(self.width / rows)\n",
    "  col_delta = int(self.height / cols)\n",
    "  rects: list[\"Rectangle\"] = []\n",
    "  for row in range(rows):\n",
    "    for col in range(cols):\n",
    "      row_start = row * row_delta\n",
    "      col_start = col * col_delta\n",
    "      rect = Rectangle(col_start, row_start, col_start + col_delta, row_start + row_delta)\n",
    "      rects.append(rect)\n",
    "  return rects\n",
    "\n",
    "@dataclass\n",
    "class FaceLandmark:\n",
    "  face_shape: npt.NDArray\n",
    "  eyes: npt.NDArray\n",
    "  eyebrows: npt.NDArray\n",
    "  nose: npt.NDArray\n",
    "  lips: npt.NDArray\n",
    "  dims: Dimension\n",
    "\n",
    "  @property\n",
    "  def feature_points(self)->npt.NDArray:\n",
    "    return np.vstack([self.eyes, self.eyebrows, self.nose, self.lips])\n",
    "\n",
    "  def as_feature_vector(self)->npt.NDArray:\n",
    "    # https://arxiv.org/pdf/1812.04510\n",
    "    # 17 points are dedicated for the shape of the face, which we don't really need.\n",
    "    normalized_points = self.feature_points / np.array((self.dims.width, self.dims.height))\n",
    "    interdistance_map = scipy.spatial.distance.cdist(normalized_points, normalized_points, \"euclidean\").flatten()\n",
    "    # All diagonal values are excluded\n",
    "    excluded_points = np.eye(len(self.feature_points)).flatten() == 1\n",
    "\n",
    "    # Square the interdistance map to make larger differences more prominent\n",
    "    interdistance_map = np.power(interdistance_map[~excluded_points], 2)\n",
    "\n",
    "    # Also calculate the distance to the average point in the face\n",
    "    average_point = normalized_points.mean(axis=0)\n",
    "    distances_to_center = scipy.spatial.distance.cdist(np.array([average_point]), normalized_points, \"euclidean\")[0]\n",
    "\n",
    "    feature_vector = np.hstack((interdistance_map, distances_to_center))\n",
    "\n",
    "    return feature_vector\n",
    "\n",
    "\n",
    "  EYE_COLOR: ClassVar[tuple[int, int, int]] = (0, 0, 255)\n",
    "  LIP_COLOR: ClassVar[tuple[int, int, int]] = (0, 255, 0)\n",
    "  NOSE_COLOR: ClassVar[tuple[int, int, int]] = (255, 0, 0)\n",
    "  FACE_SHAPE_COLOR: ClassVar[tuple[int, int, int]] = (255, 255, 0)\n",
    "  EYEBROW_COLOR: ClassVar[tuple[int, int, int]] = (0, 255, 255)\n",
    "\n",
    "  def project_point(self, point: npt.NDArray, rect: Optional[Rectangle] = None)->Sequence[int]:\n",
    "    if rect is None:\n",
    "      return cast(Sequence[int], point.astype(np.int32))\n",
    "    projected_point = point * rect.dimensions.ndarray / self.dims.ndarray\n",
    "    return cast(Sequence[int], (projected_point + rect.p0.ndarray).astype(np.int32))\n",
    "  \n",
    "  def draw_on(self, img: cv.typing.MatLike, *, offset: Optional[Rectangle] = None):\n",
    "    for point in self.eyes:\n",
    "      cv.circle(img, self.project_point(point, offset), 1, self.EYE_COLOR, -1)\n",
    "    for point in self.lips:\n",
    "      cv.circle(img, self.project_point(point, offset), 1, self.LIP_COLOR, -1)\n",
    "    for point in self.nose:\n",
    "      cv.circle(img, self.project_point(point, offset), 1, self.NOSE_COLOR, -1)\n",
    "    for point in self.face_shape:\n",
    "      cv.circle(img, self.project_point(point, offset), 1, self.FACE_SHAPE_COLOR, -1)\n",
    "    for point in self.eyebrows:\n",
    "      cv.circle(img, self.project_point(point, offset), 1, self.EYEBROW_COLOR, -1)\n",
    "\n",
    "  @staticmethod\n",
    "  def from_raw_landmark(points: npt.NDArray, dims: Dimension):\n",
    "    return FaceLandmark(\n",
    "      face_shape=points[:17],\n",
    "      eyebrows=points[17:27],\n",
    "      nose=points[27:36],\n",
    "      eyes=points[36:48],\n",
    "      lips=points[48:],\n",
    "      dims=dims\n",
    "    )\n",
    "  \n",
    "def face_alignment(img: cv.typing.MatLike, landmark: FaceLandmark):\n",
    "  # https://pyimagesearch.com/2017/05/22/face-alignment-with-opencv-and-python/\n",
    "  dims = Dimension.from_shape(img.shape)\n",
    "  desired_left_eye = Point(int(dims.width * 0.22), int(dims.height * 0.25))\n",
    "  desired_right_eye_x = FACE_DIMENSIONS.width - desired_left_eye.x\n",
    "\n",
    "  left_eye_avg = landmark.eyes[0:6].mean(axis=0)\n",
    "  right_eye_avg = landmark.eyes[6:].mean(axis=0)\n",
    "\n",
    "  delta = right_eye_avg - left_eye_avg\n",
    "  angle = np.degrees(np.arctan2(delta[1], delta[0]))\n",
    "\n",
    "  dist = np.sqrt(delta[0] ** 2 + delta[1] ** 2)\n",
    "  desired_dist = desired_right_eye_x - desired_left_eye.x\n",
    "  scale = desired_dist / dist\n",
    "\n",
    "  eyes_center = np.array([left_eye_avg, right_eye_avg]).mean(axis=0)\n",
    "  rotation_matrix = cv.getRotationMatrix2D(eyes_center, angle, scale)\n",
    "\n",
    "  translation_x = FACE_DIMENSIONS.width * 0.5\n",
    "  translation_y = desired_left_eye.y\n",
    "  rotation_matrix[0, 2] += (translation_x - eyes_center[0])\n",
    "  rotation_matrix[1, 2] += (translation_y - eyes_center[1])\n",
    "\n",
    "  img = cv.warpAffine(img, rotation_matrix, FACE_DIMENSIONS.tuple, flags=cv.INTER_CUBIC)\n",
    "\n",
    "  return img\n"
   ]
  },
  {
   "cell_type": "markdown",
   "metadata": {},
   "source": [
    "Load various preprocessing models"
   ]
  },
  {
   "cell_type": "code",
   "execution_count": 6,
   "metadata": {},
   "outputs": [],
   "source": [
    "# https://medium.com/analytics-vidhya/facial-landmarks-and-face-detection-in-python-with-opencv-73979391f30e\n",
    "LBFMODEL_URL = \"https://github.com/kurnianggoro/GSOC2017/raw/master/data/lbfmodel.yaml\"\n",
    "if not os.path.exists(LBFMODEL_PATH):\n",
    "  print(f\"Cannot find any LBFmodel installation. Installing from {LBFMODEL_URL} to {LBFMODEL_PATH}\")\n",
    "  urllib.request.urlretrieve(LBFMODEL_URL, LBFMODEL_PATH)\n",
    "landmark_model = cv.face.createFacemarkLBF()\n",
    "landmark_model.loadModel(LBFMODEL_PATH)"
   ]
  },
  {
   "cell_type": "code",
   "execution_count": 5,
   "metadata": {},
   "outputs": [],
   "source": [
    "CASCADE_CLASSIFIER_URL = \"https://raw.githubusercontent.com/opencv/opencv/refs/heads/4.x/data/haarcascades/haarcascade_frontalface_default.xml\"\n",
    "if not os.path.exists(CASCADE_CLASSIFIER_PATH):\n",
    "  urllib.request.urlretrieve(CASCADE_CLASSIFIER_URL, CASCADE_CLASSIFIER_PATH) \n",
    "locator_model = cv.CascadeClassifier(CASCADE_CLASSIFIER_PATH)\n",
    "locator_model.load(CASCADE_CLASSIFIER_PATH)\n",
    "\n",
    "clahe = cv.createCLAHE(tileGridSize=(8, 8), clipLimit=2.0)"
   ]
  },
  {
   "cell_type": "markdown",
   "metadata": {},
   "source": [
    "Dump the contents of the zip file into the data folder. You don't have to run this if this has been performed."
   ]
  },
  {
   "cell_type": "code",
   "execution_count": 18,
   "metadata": {},
   "outputs": [],
   "source": [
    "if (os.path.exists(DATA_DIR_PATH)):\n",
    "  shutil.rmtree(DATA_DIR_PATH)\n",
    "with zipfile.ZipFile(DATASET_PATH, 'r') as zip_ref:\n",
    "  zip_ref.extractall(DATA_DIR_PATH)"
   ]
  },
  {
   "cell_type": "markdown",
   "metadata": {},
   "source": [
    "List all folder contents"
   ]
  },
  {
   "cell_type": "code",
   "execution_count": 19,
   "metadata": {},
   "outputs": [],
   "source": [
    "@dataclass\n",
    "class TrainDataEntry:\n",
    "  path: str\n",
    "  label: int\n",
    "\n",
    "entries: list[TrainDataEntry] = []\n",
    "for folder in os.scandir(DATA_DIR_PATH):\n",
    "  if not folder.is_dir():\n",
    "    continue\n",
    "  try:\n",
    "    expression = CLASS_NAMES.index(folder.name)\n",
    "  except ValueError:\n",
    "    print(f\"Skipping the inclusion of {folder.name} in the dataset.\")\n",
    "    continue\n",
    "\n",
    "  entries.extend(map(\n",
    "    lambda fpath: TrainDataEntry(path=fpath, label=expression),\n",
    "    get_files_in_folder(folder.path)\n",
    "  ))"
   ]
  },
  {
   "cell_type": "markdown",
   "metadata": {},
   "source": [
    "Execute data preprocessing steps for our dataset"
   ]
  },
  {
   "cell_type": "code",
   "execution_count": 20,
   "metadata": {},
   "outputs": [
    {
     "name": "stderr",
     "output_type": "stream",
     "text": [
      "Building dataset from images:   0%|          | 5/1089 [00:00<00:26, 40.62it/s]"
     ]
    },
    {
     "name": "stdout",
     "output_type": "stream",
     "text": [
      "\n",
      "Skipping data\\angry\\20240927_173906.jpg because no faces were found in the image.\n",
      "\n",
      "Skipping data\\angry\\20241008_180500.jpg because no faces were found in the image.\n"
     ]
    },
    {
     "name": "stderr",
     "output_type": "stream",
     "text": [
      "Building dataset from images:   1%|▏         | 14/1089 [00:00<00:34, 31.57it/s]"
     ]
    },
    {
     "name": "stdout",
     "output_type": "stream",
     "text": [
      "\n",
      "Skipping data\\angry\\20241008_180548.jpg because no faces were found in the image.\n",
      "\n",
      "Skipping data\\angry\\20241008_180735.jpg because no faces were found in the image.\n",
      "\n",
      "Skipping data\\angry\\20241008_180740.jpg because no faces were found in the image.\n"
     ]
    },
    {
     "name": "stderr",
     "output_type": "stream",
     "text": [
      "Building dataset from images:   9%|▉         | 100/1089 [00:08<01:25, 11.64it/s]"
     ]
    },
    {
     "name": "stdout",
     "output_type": "stream",
     "text": [
      "\n",
      "Skipping data\\angry\\marah_4.jpg because no faces were found in the image.\n",
      "\n",
      "Skipping data\\angry\\marah_5.jpg because no faces were found in the image.\n",
      "\n",
      "Skipping data\\angry\\marah_7.jpg because no faces were found in the image.\n"
     ]
    },
    {
     "name": "stderr",
     "output_type": "stream",
     "text": [
      "Building dataset from images:  11%|█         | 116/1089 [00:09<01:33, 10.39it/s]"
     ]
    },
    {
     "name": "stdout",
     "output_type": "stream",
     "text": [
      "\n",
      "Skipping data\\angry\\Resize_20241210_223059_9926.jpg because no faces were found in the image.\n",
      "\n",
      "Skipping data\\angry\\Resize_20241210_223104_4667.jpg because no faces were found in the image.\n",
      "\n",
      "Skipping data\\angry\\Resize_20241210_223109_9133.jpg because no faces were found in the image.\n"
     ]
    },
    {
     "name": "stderr",
     "output_type": "stream",
     "text": [
      "Building dataset from images:  11%|█▏        | 125/1089 [00:10<02:16,  7.04it/s]"
     ]
    },
    {
     "name": "stdout",
     "output_type": "stream",
     "text": [
      "\n",
      "Skipping data\\angry\\Resize_20241210_223148_8201.jpg because no faces were found in the image.\n",
      "\n",
      "Skipping data\\angry\\Resize_20241210_223150_0517.jpg because no faces were found in the image.\n"
     ]
    },
    {
     "name": "stderr",
     "output_type": "stream",
     "text": [
      "Building dataset from images:  12%|█▏        | 127/1089 [00:11<02:19,  6.89it/s]"
     ]
    },
    {
     "name": "stdout",
     "output_type": "stream",
     "text": [
      "\n",
      "Skipping data\\angry\\Resize_20241210_223152_2656.jpg because no faces were found in the image.\n"
     ]
    },
    {
     "name": "stderr",
     "output_type": "stream",
     "text": [
      "Building dataset from images:  12%|█▏        | 134/1089 [00:11<01:30, 10.56it/s]"
     ]
    },
    {
     "name": "stdout",
     "output_type": "stream",
     "text": [
      "\n",
      "Skipping data\\angry\\Resize_20241210_223217_7806.jpg because no faces were found in the image.\n"
     ]
    },
    {
     "name": "stderr",
     "output_type": "stream",
     "text": [
      "Building dataset from images:  13%|█▎        | 138/1089 [00:12<01:23, 11.44it/s]"
     ]
    },
    {
     "name": "stdout",
     "output_type": "stream",
     "text": [
      "\n",
      "Skipping data\\angry\\Resize_20241210_223227_7281.jpg because no faces were found in the image.\n",
      "\n",
      "Skipping data\\angry\\Resize_20241210_223229_9963.jpg because no faces were found in the image.\n",
      "\n",
      "Skipping data\\angry\\Resize_20241210_223234_4400.jpg because no faces were found in the image.\n"
     ]
    },
    {
     "name": "stderr",
     "output_type": "stream",
     "text": [
      "Building dataset from images:  16%|█▌        | 173/1089 [00:14<00:55, 16.50it/s]"
     ]
    },
    {
     "name": "stdout",
     "output_type": "stream",
     "text": [
      "\n",
      "Skipping data\\disgusted\\20241008_180238.jpg because no faces were found in the image.\n"
     ]
    },
    {
     "name": "stderr",
     "output_type": "stream",
     "text": [
      "Building dataset from images:  23%|██▎       | 249/1089 [00:20<01:25,  9.86it/s]"
     ]
    },
    {
     "name": "stdout",
     "output_type": "stream",
     "text": [
      "\n",
      "Skipping data\\disgusted\\IMG_20241010_213941_9_11zon.jpg because no faces were found in the image.\n"
     ]
    },
    {
     "name": "stderr",
     "output_type": "stream",
     "text": [
      "Building dataset from images:  27%|██▋       | 289/1089 [00:23<01:09, 11.55it/s]"
     ]
    },
    {
     "name": "stdout",
     "output_type": "stream",
     "text": [
      "\n",
      "Skipping data\\disgusted\\jijik_7.jpg because no faces were found in the image.\n"
     ]
    },
    {
     "name": "stderr",
     "output_type": "stream",
     "text": [
      "Building dataset from images:  29%|██▉       | 317/1089 [00:25<01:07, 11.46it/s]"
     ]
    },
    {
     "name": "stdout",
     "output_type": "stream",
     "text": [
      "\n",
      "Skipping data\\disgusted\\WA_Disgusted_195915-min.jpg because no faces were found in the image.\n"
     ]
    },
    {
     "name": "stderr",
     "output_type": "stream",
     "text": [
      "Building dataset from images:  43%|████▎     | 469/1089 [00:45<00:33, 18.55it/s]"
     ]
    },
    {
     "name": "stdout",
     "output_type": "stream",
     "text": [
      "\n",
      "Skipping data\\happy\\IMG_20241215_230738.jpg because no faces were found in the image.\n"
     ]
    },
    {
     "name": "stderr",
     "output_type": "stream",
     "text": [
      "Building dataset from images:  45%|████▌     | 494/1089 [00:47<00:53, 11.13it/s]"
     ]
    },
    {
     "name": "stdout",
     "output_type": "stream",
     "text": [
      "\n",
      "Skipping data\\happy\\Resize_20241210_223206_6401.jpg because no faces were found in the image.\n"
     ]
    },
    {
     "name": "stderr",
     "output_type": "stream",
     "text": [
      "Building dataset from images:  46%|████▌     | 502/1089 [00:48<00:51, 11.31it/s]"
     ]
    },
    {
     "name": "stdout",
     "output_type": "stream",
     "text": [
      "\n",
      "Skipping data\\happy\\Resize_20241210_223245_5560.jpg because no faces were found in the image.\n"
     ]
    },
    {
     "name": "stderr",
     "output_type": "stream",
     "text": [
      "Building dataset from images:  47%|████▋     | 508/1089 [00:49<00:41, 14.03it/s]"
     ]
    },
    {
     "name": "stdout",
     "output_type": "stream",
     "text": [
      "\n",
      "Skipping data\\happy\\Resize_20241210_223303_3593.jpg because no faces were found in the image.\n"
     ]
    },
    {
     "name": "stderr",
     "output_type": "stream",
     "text": [
      "Building dataset from images:  47%|████▋     | 514/1089 [00:49<00:49, 11.59it/s]"
     ]
    },
    {
     "name": "stdout",
     "output_type": "stream",
     "text": [
      "\n",
      "Skipping data\\happy\\Resize_20241210_223315_5498.jpg because no faces were found in the image.\n"
     ]
    },
    {
     "name": "stderr",
     "output_type": "stream",
     "text": [
      "Building dataset from images:  48%|████▊     | 522/1089 [00:50<00:44, 12.84it/s]"
     ]
    },
    {
     "name": "stdout",
     "output_type": "stream",
     "text": [
      "\n",
      "Skipping data\\happy\\senyum_4.jpg because no faces were found in the image.\n",
      "\n",
      "Skipping data\\happy\\senyum_5.jpg because no faces were found in the image.\n"
     ]
    },
    {
     "name": "stderr",
     "output_type": "stream",
     "text": [
      "Building dataset from images:  52%|█████▏    | 565/1089 [00:53<00:32, 16.15it/s]"
     ]
    },
    {
     "name": "stdout",
     "output_type": "stream",
     "text": [
      "\n",
      "Skipping data\\neutral\\20240927_173857.jpg because no faces were found in the image.\n"
     ]
    },
    {
     "name": "stderr",
     "output_type": "stream",
     "text": [
      "Building dataset from images:  53%|█████▎    | 572/1089 [00:53<00:27, 18.96it/s]"
     ]
    },
    {
     "name": "stdout",
     "output_type": "stream",
     "text": [
      "\n",
      "Skipping data\\neutral\\20241008_181350.jpg because no faces were found in the image.\n"
     ]
    },
    {
     "name": "stderr",
     "output_type": "stream",
     "text": [
      "Building dataset from images:  61%|██████    | 660/1089 [01:00<00:28, 14.84it/s]"
     ]
    },
    {
     "name": "stdout",
     "output_type": "stream",
     "text": [
      "\n",
      "Skipping data\\neutral\\IMG_20241215_231542.jpg because no faces were found in the image.\n"
     ]
    },
    {
     "name": "stderr",
     "output_type": "stream",
     "text": [
      "Building dataset from images:  65%|██████▍   | 705/1089 [01:02<00:18, 21.17it/s]"
     ]
    },
    {
     "name": "stdout",
     "output_type": "stream",
     "text": [
      "\n",
      "Skipping data\\neutral\\Resize_20241210_223106_6875.jpg because no faces were found in the image.\n",
      "\n",
      "Skipping data\\neutral\\Resize_20241210_223115_5905.jpg because no faces were found in the image.\n"
     ]
    },
    {
     "name": "stderr",
     "output_type": "stream",
     "text": [
      "Building dataset from images:  66%|██████▌   | 716/1089 [01:03<00:19, 19.56it/s]"
     ]
    },
    {
     "name": "stdout",
     "output_type": "stream",
     "text": [
      "\n",
      "Skipping data\\neutral\\WhatsApp Image 2024-09-19 at 12.24.47 PM.jpg because no faces were found in the image.\n",
      "\n",
      "Skipping data\\neutral\\WhatsApp Image 2024-12-17 at 23.39.51 (2).jpg because no faces were found in the image.\n"
     ]
    },
    {
     "name": "stderr",
     "output_type": "stream",
     "text": [
      "Building dataset from images:  67%|██████▋   | 725/1089 [01:03<00:15, 23.76it/s]"
     ]
    },
    {
     "name": "stdout",
     "output_type": "stream",
     "text": [
      "\n",
      "Skipping data\\neutral\\WhatsApp Image 2024-12-17 at 23.39.52 (1).jpg because no faces were found in the image.\n",
      "\n",
      "Skipping data\\neutral\\WhatsApp Image 2024-12-17 at 23.39.52 (2).jpg because no faces were found in the image.\n",
      "\n",
      "Skipping data\\neutral\\WhatsApp Image 2024-12-17 at 23.39.52.jpg because no faces were found in the image.\n",
      "\n",
      "Skipping data\\neutral\\WhatsApp Image 2024-12-17 at 23.39.53 (1).jpg because no faces were found in the image.\n",
      "\n",
      "Skipping data\\neutral\\WhatsApp Image 2024-12-17 at 23.39.53 (2).jpg because no faces were found in the image.\n",
      "\n",
      "Skipping data\\neutral\\WhatsApp Image 2024-12-17 at 23.39.53.jpg because no faces were found in the image.\n",
      "\n",
      "Skipping data\\neutral\\WhatsApp Image 2024-12-17 at 23.39.54 (1).jpg because no faces were found in the image.\n"
     ]
    },
    {
     "name": "stderr",
     "output_type": "stream",
     "text": [
      "Building dataset from images:  67%|██████▋   | 733/1089 [01:04<00:12, 28.16it/s]"
     ]
    },
    {
     "name": "stdout",
     "output_type": "stream",
     "text": [
      "\n",
      "Skipping data\\neutral\\WhatsApp Image 2024-12-17 at 23.39.54 (2).jpg because no faces were found in the image.\n",
      "\n",
      "Skipping data\\neutral\\WhatsApp Image 2024-12-17 at 23.39.54.jpg because no faces were found in the image.\n",
      "\n",
      "Skipping data\\neutral\\WhatsApp Image 2024-12-17 at 23.39.55 (1).jpg because no faces were found in the image.\n",
      "\n",
      "Skipping data\\neutral\\WhatsApp Image 2024-12-17 at 23.39.55 (2).jpg because no faces were found in the image.\n",
      "\n",
      "Skipping data\\neutral\\WhatsApp Image 2024-12-17 at 23.39.55.jpg because no faces were found in the image.\n",
      "\n",
      "Skipping data\\neutral\\WhatsApp Image 2024-12-17 at 23.39.56 (1).jpg because no faces were found in the image.\n"
     ]
    },
    {
     "name": "stderr",
     "output_type": "stream",
     "text": [
      "Building dataset from images:  68%|██████▊   | 739/1089 [01:04<00:16, 21.22it/s]"
     ]
    },
    {
     "name": "stdout",
     "output_type": "stream",
     "text": [
      "\n",
      "Skipping data\\neutral\\WhatsApp Image 2024-12-17 at 23.39.56.jpg because no faces were found in the image.\n",
      "\n",
      "Skipping data\\neutral\\WhatsApp Image 2024-12-17 at 23.39.57.jpg because no faces were found in the image.\n"
     ]
    },
    {
     "name": "stderr",
     "output_type": "stream",
     "text": [
      "Building dataset from images:  76%|███████▌  | 828/1089 [01:11<00:17, 15.01it/s]"
     ]
    },
    {
     "name": "stdout",
     "output_type": "stream",
     "text": [
      "\n",
      "Skipping data\\sad\\IMG_20241215_230952.jpg because no faces were found in the image.\n"
     ]
    },
    {
     "name": "stderr",
     "output_type": "stream",
     "text": [
      "Building dataset from images:  79%|███████▉  | 863/1089 [01:13<00:13, 16.66it/s]"
     ]
    },
    {
     "name": "stdout",
     "output_type": "stream",
     "text": [
      "\n",
      "Skipping data\\sad\\Resize_20241210_222832_2123.jpg because no faces were found in the image.\n"
     ]
    },
    {
     "name": "stderr",
     "output_type": "stream",
     "text": [
      "Building dataset from images:  80%|███████▉  | 869/1089 [01:13<00:15, 13.77it/s]"
     ]
    },
    {
     "name": "stdout",
     "output_type": "stream",
     "text": [
      "\n",
      "Skipping data\\sad\\Resize_20241210_222839_9322.jpg because no faces were found in the image.\n",
      "\n",
      "Skipping data\\sad\\Resize_20241210_222845_5876.jpg because no faces were found in the image.\n"
     ]
    },
    {
     "name": "stderr",
     "output_type": "stream",
     "text": [
      "Building dataset from images:  80%|████████  | 874/1089 [01:14<00:13, 16.25it/s]"
     ]
    },
    {
     "name": "stdout",
     "output_type": "stream",
     "text": [
      "\n",
      "Skipping data\\sad\\Resize_20241210_222850_0264.jpg because no faces were found in the image.\n",
      "\n",
      "Skipping data\\sad\\Resize_20241210_222852_2560.jpg because no faces were found in the image.\n"
     ]
    },
    {
     "name": "stderr",
     "output_type": "stream",
     "text": [
      "Building dataset from images:  80%|████████  | 876/1089 [01:14<00:12, 16.86it/s]"
     ]
    },
    {
     "name": "stdout",
     "output_type": "stream",
     "text": [
      "\n",
      "Skipping data\\sad\\Resize_20241210_223123_3199.jpg because no faces were found in the image.\n"
     ]
    },
    {
     "name": "stderr",
     "output_type": "stream",
     "text": [
      "Building dataset from images:  81%|████████  | 882/1089 [01:15<00:21,  9.72it/s]"
     ]
    },
    {
     "name": "stdout",
     "output_type": "stream",
     "text": [
      "\n",
      "Skipping data\\sad\\sedih_5.jpg because no faces were found in the image.\n"
     ]
    },
    {
     "name": "stderr",
     "output_type": "stream",
     "text": [
      "Building dataset from images:  81%|████████  | 884/1089 [01:15<00:21,  9.33it/s]"
     ]
    },
    {
     "name": "stdout",
     "output_type": "stream",
     "text": [
      "\n",
      "Skipping data\\sad\\sedih_7.jpg because no faces were found in the image.\n"
     ]
    },
    {
     "name": "stderr",
     "output_type": "stream",
     "text": [
      "Building dataset from images:  83%|████████▎ | 904/1089 [01:17<00:16, 11.27it/s]"
     ]
    },
    {
     "name": "stdout",
     "output_type": "stream",
     "text": [
      "\n",
      "Skipping data\\sad\\WhatsApp Image 2024-12-17 at 23.31.37 (1).jpg because no faces were found in the image.\n",
      "\n",
      "Skipping data\\sad\\WhatsApp Image 2024-12-17 at 23.31.37 (2).jpg because no faces were found in the image.\n"
     ]
    },
    {
     "name": "stderr",
     "output_type": "stream",
     "text": [
      "Building dataset from images:  83%|████████▎ | 908/1089 [01:17<00:14, 12.44it/s]"
     ]
    },
    {
     "name": "stdout",
     "output_type": "stream",
     "text": [
      "\n",
      "Skipping data\\sad\\WhatsApp Image 2024-12-17 at 23.31.38 (2).jpg because no faces were found in the image.\n",
      "\n",
      "Skipping data\\sad\\WhatsApp Image 2024-12-17 at 23.31.38.jpg because no faces were found in the image.\n",
      "\n",
      "Skipping data\\sad\\WhatsApp Image 2024-12-17 at 23.31.39 (2).jpg because no faces were found in the image.\n"
     ]
    },
    {
     "name": "stderr",
     "output_type": "stream",
     "text": [
      "Building dataset from images:  84%|████████▍ | 914/1089 [01:18<00:15, 11.19it/s]"
     ]
    },
    {
     "name": "stdout",
     "output_type": "stream",
     "text": [
      "\n",
      "Skipping data\\sad\\WhatsApp Image 2024-12-17 at 23.31.40 (2).jpg because no faces were found in the image.\n",
      "\n",
      "Skipping data\\sad\\WhatsApp Image 2024-12-17 at 23.31.41 (1).jpg because no faces were found in the image.\n"
     ]
    },
    {
     "name": "stderr",
     "output_type": "stream",
     "text": [
      "Building dataset from images:  85%|████████▌ | 926/1089 [01:19<00:13, 11.67it/s]"
     ]
    },
    {
     "name": "stdout",
     "output_type": "stream",
     "text": [
      "\n",
      "Skipping data\\surprised\\20241008_181307.jpg because no faces were found in the image.\n"
     ]
    },
    {
     "name": "stderr",
     "output_type": "stream",
     "text": [
      "Building dataset from images:  92%|█████████▏| 1004/1089 [01:25<00:08, 10.56it/s]"
     ]
    },
    {
     "name": "stdout",
     "output_type": "stream",
     "text": [
      "\n",
      "Skipping data\\surprised\\IMG_20241215_231052_1.jpg because no faces were found in the image.\n"
     ]
    },
    {
     "name": "stderr",
     "output_type": "stream",
     "text": [
      "Building dataset from images:  93%|█████████▎| 1014/1089 [01:26<00:06, 11.64it/s]"
     ]
    },
    {
     "name": "stdout",
     "output_type": "stream",
     "text": [
      "\n",
      "Skipping data\\surprised\\IMG_20241215_231102.jpg because no faces were found in the image.\n"
     ]
    },
    {
     "name": "stderr",
     "output_type": "stream",
     "text": [
      "Building dataset from images:  94%|█████████▍| 1026/1089 [01:27<00:04, 12.73it/s]"
     ]
    },
    {
     "name": "stdout",
     "output_type": "stream",
     "text": [
      "\n",
      "Skipping data\\surprised\\Resize_20241210_222854_4662.jpg because no faces were found in the image.\n",
      "\n",
      "Skipping data\\surprised\\Resize_20241210_222856_6766.jpg because no faces were found in the image.\n"
     ]
    },
    {
     "name": "stderr",
     "output_type": "stream",
     "text": [
      "Building dataset from images:  96%|█████████▋| 1049/1089 [01:30<00:03, 10.68it/s]"
     ]
    },
    {
     "name": "stdout",
     "output_type": "stream",
     "text": [
      "\n",
      "Skipping data\\surprised\\Resize_20241210_223046_6304.jpg because no faces were found in the image.\n"
     ]
    },
    {
     "name": "stderr",
     "output_type": "stream",
     "text": [
      "Building dataset from images:  97%|█████████▋| 1055/1089 [01:30<00:03, 10.99it/s]"
     ]
    },
    {
     "name": "stdout",
     "output_type": "stream",
     "text": [
      "\n",
      "Skipping data\\surprised\\terkejut_4.jpg because no faces were found in the image.\n",
      "\n",
      "Skipping data\\surprised\\terkejut_5.jpg because no faces were found in the image.\n"
     ]
    },
    {
     "name": "stderr",
     "output_type": "stream",
     "text": [
      "Building dataset from images: 100%|██████████| 1089/1089 [01:32<00:00, 11.72it/s]\n"
     ]
    },
    {
     "name": "stdout",
     "output_type": "stream",
     "text": [
      "Skipped over 75 images because no faces were found in the images.\n"
     ]
    }
   ],
   "source": [
    "skipped = 0\n",
    "list_data: list[npt.NDArray] = []\n",
    "list_labels: list[int] = []\n",
    "for entry in tqdm.tqdm(entries, desc=\"Building dataset from images\"):\n",
    "  original = cv.imread(entry.path)\n",
    "  \n",
    "  # Preprocessing\n",
    "  img_resized = resize_image(original, STANDARD_DIMENSIONS)\n",
    "  img_grayscale = cv.cvtColor(img_resized, cv.COLOR_BGR2GRAY)\n",
    "  img_clahe = clahe.apply(img_grayscale)\n",
    "\n",
    "  # Extract face coordinates\n",
    "  face_coordinates = locator_model.detectMultiScale(img_clahe)\n",
    "  face_rects = list(Rectangle.from_tuple(coords) for coords in face_coordinates)\n",
    "  face_rects.sort(key=lambda x: x.area)\n",
    "  saved_face_rects: list[Rectangle] = []\n",
    "  # Prevent overlapping face rectangles\n",
    "  for face_rect_a in face_rects:\n",
    "    is_overlapping = False\n",
    "    for face_rect_b in saved_face_rects:\n",
    "      IOU = face_rect_a.intersection_with_union(face_rect_b)\n",
    "      if IOU > 0.4:\n",
    "        is_overlapping = True\n",
    "        break\n",
    "\n",
    "    if not is_overlapping:\n",
    "      saved_face_rects.append(face_rect_a)\n",
    "\n",
    "  # Get faces from original image\n",
    "  faces = list(\n",
    "    img_clahe[pos.slice]\n",
    "    for pos in face_rects\n",
    "  )\n",
    "\n",
    "  features: list[npt.NDArray] = []\n",
    "  for raw_face_img in faces:\n",
    "    # Additional preprocessing\n",
    "    face_resized = cv.resize(raw_face_img, FACE_DIMENSIONS.tuple, interpolation=cv.INTER_CUBIC)\n",
    "    face_blurred = cv.filter2D(face_resized, -1, GAUSSIAN_3X3_KERNEL)\n",
    "    face_preprocessed = cv.filter2D(face_blurred, -1, SHARPEN_KERNEL)\n",
    "\n",
    "    # Get face landmarks\n",
    "    _, raw_face_landmarks = landmark_model.fit(face_preprocessed, np.array(((0, 0, face_preprocessed.shape[0], face_preprocessed.shape[1]),)))\n",
    "    face_landmark_points: npt.NDArray = raw_face_landmarks[0][0]\n",
    "    face_landmark = FaceLandmark(\n",
    "      face_shape=face_landmark_points[:17],\n",
    "      eyebrows=face_landmark_points[17:27],\n",
    "      nose=face_landmark_points[27:36],\n",
    "      eyes=face_landmark_points[36:48],\n",
    "      lips=face_landmark_points[48:],\n",
    "      dims=Dimension.from_shape(face_preprocessed.shape)\n",
    "    )\n",
    "    face_dims = Dimension.from_shape(raw_face_img.shape)\n",
    "    face_landmark = FaceLandmark.from_raw_landmark(face_landmark_points, face_dims)\n",
    "    face_aligned = face_alignment(face_preprocessed, face_landmark)\n",
    "\n",
    "    # Split image to grids for LBP\n",
    "    lbp_grid_rects = partition_grid(face_dims, *LBP_GRID_SIZE)\n",
    "    histograms: list[npt.NDArray] = []\n",
    "\n",
    "    # Perform LBP\n",
    "    lbp_image: npt.NDArray = skimage.feature.local_binary_pattern(face_aligned, 8, 1)\n",
    "    for lbp_grid_rect in lbp_grid_rects:\n",
    "      chunk = lbp_image[lbp_grid_rect.slice]\n",
    "\n",
    "      if chunk.size == 0:\n",
    "        histograms.append(np.full((LBP_HISTOGRAM_BIN_COUNT,), 0))\n",
    "        continue\n",
    "      histograms.append(scipy.ndimage.histogram(chunk, 0, 255, LBP_HISTOGRAM_BIN_COUNT) / chunk.size)\n",
    "\n",
    "    feature_vector = np.hstack(histograms)\n",
    "    features.append(feature_vector)\n",
    "\n",
    "  if len(features) == 0:\n",
    "    print(f\"\\nSkipping {entry.path} because no faces were found in the image.\")\n",
    "    skipped += 1\n",
    "    continue\n",
    "  list_data.extend(features)\n",
    "  list_labels.extend([entry.label] * len(features))\n",
    "\n",
    "print(f\"Skipped over {skipped} images because no faces were found in the images.\")\n",
    "\n",
    "data = np.array(list_data)\n",
    "labels = np.array(list_labels).reshape((-1, 1))\n",
    "dfdata = np.hstack((labels, data))\n",
    "df = pd.DataFrame(dfdata, columns=[\n",
    "  \"label\",\n",
    "  *map(lambda idx: f'feature-{idx + 1}', range(data.shape[1])),\n",
    "])\n",
    "\n",
    "df.to_csv(TRAINING_DATA_CSV_PATH, index=False)"
   ]
  },
  {
   "cell_type": "markdown",
   "metadata": {},
   "source": [
    "Start training process"
   ]
  },
  {
   "cell_type": "code",
   "execution_count": 7,
   "metadata": {},
   "outputs": [
    {
     "data": {
      "text/html": [
       "<div>\n",
       "<style scoped>\n",
       "    .dataframe tbody tr th:only-of-type {\n",
       "        vertical-align: middle;\n",
       "    }\n",
       "\n",
       "    .dataframe tbody tr th {\n",
       "        vertical-align: top;\n",
       "    }\n",
       "\n",
       "    .dataframe thead th {\n",
       "        text-align: right;\n",
       "    }\n",
       "</style>\n",
       "<table border=\"1\" class=\"dataframe\">\n",
       "  <thead>\n",
       "    <tr style=\"text-align: right;\">\n",
       "      <th></th>\n",
       "      <th>feature-1</th>\n",
       "      <th>feature-2</th>\n",
       "      <th>feature-3</th>\n",
       "      <th>feature-4</th>\n",
       "      <th>feature-5</th>\n",
       "      <th>feature-6</th>\n",
       "      <th>feature-7</th>\n",
       "      <th>feature-8</th>\n",
       "      <th>feature-9</th>\n",
       "      <th>feature-10</th>\n",
       "      <th>...</th>\n",
       "      <th>feature-503</th>\n",
       "      <th>feature-504</th>\n",
       "      <th>feature-505</th>\n",
       "      <th>feature-506</th>\n",
       "      <th>feature-507</th>\n",
       "      <th>feature-508</th>\n",
       "      <th>feature-509</th>\n",
       "      <th>feature-510</th>\n",
       "      <th>feature-511</th>\n",
       "      <th>feature-512</th>\n",
       "    </tr>\n",
       "  </thead>\n",
       "  <tbody>\n",
       "    <tr>\n",
       "      <th>0</th>\n",
       "      <td>0.376731</td>\n",
       "      <td>0.041551</td>\n",
       "      <td>0.016620</td>\n",
       "      <td>0.058172</td>\n",
       "      <td>0.030471</td>\n",
       "      <td>0.000000</td>\n",
       "      <td>0.072022</td>\n",
       "      <td>0.404432</td>\n",
       "      <td>0.479224</td>\n",
       "      <td>0.008310</td>\n",
       "      <td>...</td>\n",
       "      <td>0.000000</td>\n",
       "      <td>0.000000</td>\n",
       "      <td>0.000000</td>\n",
       "      <td>0.000000</td>\n",
       "      <td>0.000000</td>\n",
       "      <td>0.000000</td>\n",
       "      <td>0.000000</td>\n",
       "      <td>0.000000</td>\n",
       "      <td>0.000000</td>\n",
       "      <td>0.000000</td>\n",
       "    </tr>\n",
       "    <tr>\n",
       "      <th>1</th>\n",
       "      <td>0.408163</td>\n",
       "      <td>0.090703</td>\n",
       "      <td>0.018141</td>\n",
       "      <td>0.083900</td>\n",
       "      <td>0.006803</td>\n",
       "      <td>0.002268</td>\n",
       "      <td>0.081633</td>\n",
       "      <td>0.308390</td>\n",
       "      <td>0.512472</td>\n",
       "      <td>0.036281</td>\n",
       "      <td>...</td>\n",
       "      <td>0.000000</td>\n",
       "      <td>0.000000</td>\n",
       "      <td>0.000000</td>\n",
       "      <td>0.000000</td>\n",
       "      <td>0.000000</td>\n",
       "      <td>0.000000</td>\n",
       "      <td>0.000000</td>\n",
       "      <td>0.000000</td>\n",
       "      <td>0.000000</td>\n",
       "      <td>0.000000</td>\n",
       "    </tr>\n",
       "    <tr>\n",
       "      <th>2</th>\n",
       "      <td>0.503086</td>\n",
       "      <td>0.089506</td>\n",
       "      <td>0.018519</td>\n",
       "      <td>0.080247</td>\n",
       "      <td>0.015432</td>\n",
       "      <td>0.000000</td>\n",
       "      <td>0.061728</td>\n",
       "      <td>0.231481</td>\n",
       "      <td>0.444444</td>\n",
       "      <td>0.046296</td>\n",
       "      <td>...</td>\n",
       "      <td>0.000000</td>\n",
       "      <td>0.000000</td>\n",
       "      <td>0.000000</td>\n",
       "      <td>0.000000</td>\n",
       "      <td>0.000000</td>\n",
       "      <td>0.000000</td>\n",
       "      <td>0.000000</td>\n",
       "      <td>0.000000</td>\n",
       "      <td>0.000000</td>\n",
       "      <td>0.000000</td>\n",
       "    </tr>\n",
       "    <tr>\n",
       "      <th>3</th>\n",
       "      <td>0.404959</td>\n",
       "      <td>0.047521</td>\n",
       "      <td>0.020661</td>\n",
       "      <td>0.068182</td>\n",
       "      <td>0.045455</td>\n",
       "      <td>0.004132</td>\n",
       "      <td>0.076446</td>\n",
       "      <td>0.332645</td>\n",
       "      <td>0.438017</td>\n",
       "      <td>0.066116</td>\n",
       "      <td>...</td>\n",
       "      <td>0.000000</td>\n",
       "      <td>0.000000</td>\n",
       "      <td>0.000000</td>\n",
       "      <td>0.000000</td>\n",
       "      <td>0.000000</td>\n",
       "      <td>0.000000</td>\n",
       "      <td>0.000000</td>\n",
       "      <td>0.000000</td>\n",
       "      <td>0.000000</td>\n",
       "      <td>0.000000</td>\n",
       "    </tr>\n",
       "    <tr>\n",
       "      <th>4</th>\n",
       "      <td>0.371901</td>\n",
       "      <td>0.057851</td>\n",
       "      <td>0.020661</td>\n",
       "      <td>0.082645</td>\n",
       "      <td>0.045455</td>\n",
       "      <td>0.004132</td>\n",
       "      <td>0.053719</td>\n",
       "      <td>0.363636</td>\n",
       "      <td>0.458678</td>\n",
       "      <td>0.039256</td>\n",
       "      <td>...</td>\n",
       "      <td>0.000000</td>\n",
       "      <td>0.000000</td>\n",
       "      <td>0.000000</td>\n",
       "      <td>0.000000</td>\n",
       "      <td>0.000000</td>\n",
       "      <td>0.000000</td>\n",
       "      <td>0.000000</td>\n",
       "      <td>0.000000</td>\n",
       "      <td>0.000000</td>\n",
       "      <td>0.000000</td>\n",
       "    </tr>\n",
       "    <tr>\n",
       "      <th>...</th>\n",
       "      <td>...</td>\n",
       "      <td>...</td>\n",
       "      <td>...</td>\n",
       "      <td>...</td>\n",
       "      <td>...</td>\n",
       "      <td>...</td>\n",
       "      <td>...</td>\n",
       "      <td>...</td>\n",
       "      <td>...</td>\n",
       "      <td>...</td>\n",
       "      <td>...</td>\n",
       "      <td>...</td>\n",
       "      <td>...</td>\n",
       "      <td>...</td>\n",
       "      <td>...</td>\n",
       "      <td>...</td>\n",
       "      <td>...</td>\n",
       "      <td>...</td>\n",
       "      <td>...</td>\n",
       "      <td>...</td>\n",
       "      <td>...</td>\n",
       "    </tr>\n",
       "    <tr>\n",
       "      <th>1077</th>\n",
       "      <td>0.173469</td>\n",
       "      <td>0.076531</td>\n",
       "      <td>0.040816</td>\n",
       "      <td>0.193878</td>\n",
       "      <td>0.127551</td>\n",
       "      <td>0.010204</td>\n",
       "      <td>0.178571</td>\n",
       "      <td>0.198980</td>\n",
       "      <td>0.153061</td>\n",
       "      <td>0.122449</td>\n",
       "      <td>...</td>\n",
       "      <td>0.229592</td>\n",
       "      <td>0.275510</td>\n",
       "      <td>0.107143</td>\n",
       "      <td>0.107143</td>\n",
       "      <td>0.025510</td>\n",
       "      <td>0.056122</td>\n",
       "      <td>0.107143</td>\n",
       "      <td>0.020408</td>\n",
       "      <td>0.428571</td>\n",
       "      <td>0.147959</td>\n",
       "    </tr>\n",
       "    <tr>\n",
       "      <th>1078</th>\n",
       "      <td>0.146667</td>\n",
       "      <td>0.111111</td>\n",
       "      <td>0.035556</td>\n",
       "      <td>0.168889</td>\n",
       "      <td>0.120000</td>\n",
       "      <td>0.013333</td>\n",
       "      <td>0.186667</td>\n",
       "      <td>0.217778</td>\n",
       "      <td>0.191111</td>\n",
       "      <td>0.128889</td>\n",
       "      <td>...</td>\n",
       "      <td>0.546667</td>\n",
       "      <td>0.128889</td>\n",
       "      <td>0.342222</td>\n",
       "      <td>0.093333</td>\n",
       "      <td>0.057778</td>\n",
       "      <td>0.142222</td>\n",
       "      <td>0.013333</td>\n",
       "      <td>0.008889</td>\n",
       "      <td>0.057778</td>\n",
       "      <td>0.284444</td>\n",
       "    </tr>\n",
       "    <tr>\n",
       "      <th>1079</th>\n",
       "      <td>0.142857</td>\n",
       "      <td>0.117347</td>\n",
       "      <td>0.040816</td>\n",
       "      <td>0.178571</td>\n",
       "      <td>0.117347</td>\n",
       "      <td>0.015306</td>\n",
       "      <td>0.193878</td>\n",
       "      <td>0.193878</td>\n",
       "      <td>0.188776</td>\n",
       "      <td>0.081633</td>\n",
       "      <td>...</td>\n",
       "      <td>0.250000</td>\n",
       "      <td>0.244898</td>\n",
       "      <td>0.163265</td>\n",
       "      <td>0.066327</td>\n",
       "      <td>0.020408</td>\n",
       "      <td>0.061224</td>\n",
       "      <td>0.091837</td>\n",
       "      <td>0.010204</td>\n",
       "      <td>0.418367</td>\n",
       "      <td>0.168367</td>\n",
       "    </tr>\n",
       "    <tr>\n",
       "      <th>1080</th>\n",
       "      <td>0.158163</td>\n",
       "      <td>0.096939</td>\n",
       "      <td>0.040816</td>\n",
       "      <td>0.173469</td>\n",
       "      <td>0.102041</td>\n",
       "      <td>0.010204</td>\n",
       "      <td>0.198980</td>\n",
       "      <td>0.219388</td>\n",
       "      <td>0.168367</td>\n",
       "      <td>0.086735</td>\n",
       "      <td>...</td>\n",
       "      <td>0.239796</td>\n",
       "      <td>0.244898</td>\n",
       "      <td>0.158163</td>\n",
       "      <td>0.076531</td>\n",
       "      <td>0.030612</td>\n",
       "      <td>0.056122</td>\n",
       "      <td>0.081633</td>\n",
       "      <td>0.010204</td>\n",
       "      <td>0.454082</td>\n",
       "      <td>0.132653</td>\n",
       "    </tr>\n",
       "    <tr>\n",
       "      <th>1081</th>\n",
       "      <td>0.133333</td>\n",
       "      <td>0.111111</td>\n",
       "      <td>0.035556</td>\n",
       "      <td>0.231111</td>\n",
       "      <td>0.084444</td>\n",
       "      <td>0.013333</td>\n",
       "      <td>0.177778</td>\n",
       "      <td>0.213333</td>\n",
       "      <td>0.173333</td>\n",
       "      <td>0.084444</td>\n",
       "      <td>...</td>\n",
       "      <td>0.573333</td>\n",
       "      <td>0.102222</td>\n",
       "      <td>0.324444</td>\n",
       "      <td>0.133333</td>\n",
       "      <td>0.053333</td>\n",
       "      <td>0.168889</td>\n",
       "      <td>0.040000</td>\n",
       "      <td>0.008889</td>\n",
       "      <td>0.044444</td>\n",
       "      <td>0.226667</td>\n",
       "    </tr>\n",
       "  </tbody>\n",
       "</table>\n",
       "<p>1082 rows × 512 columns</p>\n",
       "</div>"
      ],
      "text/plain": [
       "      feature-1  feature-2  feature-3  feature-4  feature-5  feature-6  \\\n",
       "0      0.376731   0.041551   0.016620   0.058172   0.030471   0.000000   \n",
       "1      0.408163   0.090703   0.018141   0.083900   0.006803   0.002268   \n",
       "2      0.503086   0.089506   0.018519   0.080247   0.015432   0.000000   \n",
       "3      0.404959   0.047521   0.020661   0.068182   0.045455   0.004132   \n",
       "4      0.371901   0.057851   0.020661   0.082645   0.045455   0.004132   \n",
       "...         ...        ...        ...        ...        ...        ...   \n",
       "1077   0.173469   0.076531   0.040816   0.193878   0.127551   0.010204   \n",
       "1078   0.146667   0.111111   0.035556   0.168889   0.120000   0.013333   \n",
       "1079   0.142857   0.117347   0.040816   0.178571   0.117347   0.015306   \n",
       "1080   0.158163   0.096939   0.040816   0.173469   0.102041   0.010204   \n",
       "1081   0.133333   0.111111   0.035556   0.231111   0.084444   0.013333   \n",
       "\n",
       "      feature-7  feature-8  feature-9  feature-10  ...  feature-503  \\\n",
       "0      0.072022   0.404432   0.479224    0.008310  ...     0.000000   \n",
       "1      0.081633   0.308390   0.512472    0.036281  ...     0.000000   \n",
       "2      0.061728   0.231481   0.444444    0.046296  ...     0.000000   \n",
       "3      0.076446   0.332645   0.438017    0.066116  ...     0.000000   \n",
       "4      0.053719   0.363636   0.458678    0.039256  ...     0.000000   \n",
       "...         ...        ...        ...         ...  ...          ...   \n",
       "1077   0.178571   0.198980   0.153061    0.122449  ...     0.229592   \n",
       "1078   0.186667   0.217778   0.191111    0.128889  ...     0.546667   \n",
       "1079   0.193878   0.193878   0.188776    0.081633  ...     0.250000   \n",
       "1080   0.198980   0.219388   0.168367    0.086735  ...     0.239796   \n",
       "1081   0.177778   0.213333   0.173333    0.084444  ...     0.573333   \n",
       "\n",
       "      feature-504  feature-505  feature-506  feature-507  feature-508  \\\n",
       "0        0.000000     0.000000     0.000000     0.000000     0.000000   \n",
       "1        0.000000     0.000000     0.000000     0.000000     0.000000   \n",
       "2        0.000000     0.000000     0.000000     0.000000     0.000000   \n",
       "3        0.000000     0.000000     0.000000     0.000000     0.000000   \n",
       "4        0.000000     0.000000     0.000000     0.000000     0.000000   \n",
       "...           ...          ...          ...          ...          ...   \n",
       "1077     0.275510     0.107143     0.107143     0.025510     0.056122   \n",
       "1078     0.128889     0.342222     0.093333     0.057778     0.142222   \n",
       "1079     0.244898     0.163265     0.066327     0.020408     0.061224   \n",
       "1080     0.244898     0.158163     0.076531     0.030612     0.056122   \n",
       "1081     0.102222     0.324444     0.133333     0.053333     0.168889   \n",
       "\n",
       "      feature-509  feature-510  feature-511  feature-512  \n",
       "0        0.000000     0.000000     0.000000     0.000000  \n",
       "1        0.000000     0.000000     0.000000     0.000000  \n",
       "2        0.000000     0.000000     0.000000     0.000000  \n",
       "3        0.000000     0.000000     0.000000     0.000000  \n",
       "4        0.000000     0.000000     0.000000     0.000000  \n",
       "...           ...          ...          ...          ...  \n",
       "1077     0.107143     0.020408     0.428571     0.147959  \n",
       "1078     0.013333     0.008889     0.057778     0.284444  \n",
       "1079     0.091837     0.010204     0.418367     0.168367  \n",
       "1080     0.081633     0.010204     0.454082     0.132653  \n",
       "1081     0.040000     0.008889     0.044444     0.226667  \n",
       "\n",
       "[1082 rows x 512 columns]"
      ]
     },
     "execution_count": 7,
     "metadata": {},
     "output_type": "execute_result"
    }
   ],
   "source": [
    "df = pd.read_csv(TRAINING_DATA_CSV_PATH, index_col=False)\n",
    "labels = df[\"label\"]\n",
    "df = df.drop(columns=[\"label\"])\n",
    "df"
   ]
  },
  {
   "cell_type": "markdown",
   "metadata": {},
   "source": [
    "Data Visualization"
   ]
  },
  {
   "cell_type": "code",
   "execution_count": 19,
   "metadata": {},
   "outputs": [
    {
     "data": {
      "application/vnd.plotly.v1+json": {
       "config": {
        "plotlyServerURL": "https://plot.ly"
       },
       "data": [
        {
         "hovertemplate": "Label=surprised<br>x=%{x}<br>y=%{y}<extra></extra>",
         "legendgroup": "surprised",
         "marker": {
          "color": "#636efa",
          "symbol": "circle"
         },
         "mode": "markers",
         "name": "surprised",
         "showlegend": true,
         "type": "scattergl",
         "x": [
          -11.212021827697754,
          -16.847169876098633,
          -24.90557861328125,
          -25.27507781982422,
          -25.032642364501953,
          -25.466524124145508,
          29.460769653320312,
          29.457534790039062,
          39.47742462158203,
          -12.419837951660156,
          -33.60379409790039,
          22.503252029418945,
          22.141204833984375,
          21.8055477142334,
          30.173751831054688,
          29.56520652770996,
          -13.503744125366211,
          -15.69908618927002,
          -17.001850128173828,
          -14.069242477416992,
          19.1512508392334,
          -16.037206649780273,
          -1.9381425380706787,
          -23.296409606933594,
          -23.384517669677734,
          -23.04693031311035,
          18.6823673248291,
          -15.208673477172852,
          -16.981746673583984,
          27.193803787231445,
          -17.33193588256836,
          -17.814992904663086,
          28.10382080078125,
          20.06062126159668,
          -7.318872451782227,
          -4.729280948638916,
          -29.94635772705078,
          -6.438998699188232,
          -7.6260986328125,
          -5.744842529296875,
          18.524127960205078,
          21.188167572021484,
          16.483203887939453,
          15.334602355957031,
          27.845890045166016,
          25.093555450439453,
          28.075984954833984,
          -14.152053833007812,
          -42.469398498535156,
          -18.614662170410156,
          -42.56444549560547,
          -43.52598571777344,
          -1.0672868490219116,
          -3.2060463428497314,
          25.91193199157715,
          23.748966217041016
         ],
         "xaxis": "x",
         "y": [
          10.641724586486816,
          -44.01690673828125,
          3.9814400672912598,
          4.605867385864258,
          3.3856444358825684,
          4.105062007904053,
          -20.50189971923828,
          -19.648487091064453,
          -19.42462730407715,
          -50.21064376831055,
          17.733745574951172,
          -27.294029235839844,
          -27.911733627319336,
          -27.275209426879883,
          -6.801575183868408,
          -21.553115844726562,
          -37.01535415649414,
          -38.08120346069336,
          -36.75946807861328,
          -35.08782958984375,
          24.06525230407715,
          -43.36917495727539,
          -0.63837730884552,
          20.499109268188477,
          20.17346954345703,
          19.971153259277344,
          -27.411399841308594,
          -47.58098602294922,
          -0.6239755749702454,
          -14.609548568725586,
          -1.25864577293396,
          -0.9611607193946838,
          -15.807868003845215,
          27.170270919799805,
          -54.015045166015625,
          -52.574745178222656,
          23.31072425842285,
          -52.031494140625,
          -52.52265930175781,
          -50.61920166015625,
          33.11277389526367,
          42.587425231933594,
          41.18526077270508,
          41.72117233276367,
          21.37790870666504,
          22.1276912689209,
          18.878095626831055,
          -38.29561233520508,
          -19.21218490600586,
          8.993125915527344,
          -17.211406707763672,
          -17.846315383911133,
          -0.7063696980476379,
          -1.2570990324020386,
          41.7923583984375,
          40.55559539794922
         ],
         "yaxis": "y"
        },
        {
         "hovertemplate": "Label=disgusted<br>x=%{x}<br>y=%{y}<extra></extra>",
         "legendgroup": "disgusted",
         "marker": {
          "color": "#EF553B",
          "symbol": "circle"
         },
         "mode": "markers",
         "name": "disgusted",
         "showlegend": true,
         "type": "scattergl",
         "x": [
          -10.181806564331055,
          -42.192649841308594,
          -18.652658462524414,
          29.45635223388672,
          29.86148452758789,
          22.334426879882812,
          -34.20920181274414,
          -35.19412612915039,
          -36.86848068237305,
          22.217479705810547,
          14.347936630249023,
          13.986540794372559,
          29.645092010498047,
          29.61188507080078,
          -18.48676300048828,
          -17.83042335510254,
          -13.565346717834473,
          -15.467931747436523,
          -15.626167297363281,
          -13.365619659423828,
          -22.90934181213379,
          19.22910499572754,
          19.335111618041992,
          18.92519187927246,
          -12.300899505615234,
          28.322534561157227,
          -5.687222003936768,
          -6.503806114196777,
          -5.714798927307129,
          -5.547985553741455,
          20.134220123291016,
          20.757549285888672,
          16.51145362854004,
          16.36881446838379,
          14.697149276733398,
          29.18667984008789,
          25.882137298583984,
          27.84099006652832,
          26.271196365356445,
          26.730207443237305,
          28.879179000854492,
          -20.305908203125,
          -9.711187362670898,
          -16.32233428955078,
          -9.33886432647705,
          23.316267013549805,
          32.540279388427734,
          -8.567282676696777,
          0.1480276733636856,
          25.27215003967285,
          25.469757080078125,
          23.818645477294922,
          24.579675674438477,
          30.5628604888916
         ],
         "xaxis": "x",
         "y": [
          5.714942932128906,
          -20.336421966552734,
          -40.891597747802734,
          -20.09661865234375,
          -19.68452262878418,
          29.175676345825195,
          16.31269073486328,
          21.442121505737305,
          20.266611099243164,
          -26.966228485107422,
          37.942848205566406,
          40.64296340942383,
          -7.973839282989502,
          -7.987028121948242,
          12.085638999938965,
          9.203496932983398,
          -36.400203704833984,
          -43.64516830444336,
          -43.57398223876953,
          -44.76433563232422,
          20.791316986083984,
          -27.444080352783203,
          -28.282190322875977,
          -27.982059478759766,
          3.792423725128174,
          -15.083621978759766,
          -53.58311462402344,
          -50.858734130859375,
          -51.27399444580078,
          -51.00774383544922,
          36.03691864013672,
          36.55312728881836,
          41.132057189941406,
          41.155643463134766,
          41.934444427490234,
          19.08185577392578,
          23.967041015625,
          19.530847549438477,
          19.35039520263672,
          19.793134689331055,
          18.340852737426758,
          6.987476825714111,
          8.364972114562988,
          3.674264430999756,
          5.9600396156311035,
          26.23587989807129,
          -11.59376335144043,
          5.431201457977295,
          -0.16858479380607605,
          43.055030822753906,
          41.20711898803711,
          42.475284576416016,
          42.421207427978516,
          -15.525178909301758
         ],
         "yaxis": "y"
        },
        {
         "hovertemplate": "Label=happy<br>x=%{x}<br>y=%{y}<extra></extra>",
         "legendgroup": "happy",
         "marker": {
          "color": "#00cc96",
          "symbol": "circle"
         },
         "mode": "markers",
         "name": "happy",
         "showlegend": true,
         "type": "scattergl",
         "x": [
          -17.644289016723633,
          -19.145483016967773,
          -25.670822143554688,
          29.5589599609375,
          -26.301050186157227,
          -36.64060974121094,
          -35.1468391418457,
          -37.356563568115234,
          -34.967899322509766,
          -36.97983932495117,
          -35.09817886352539,
          -34.28913116455078,
          -21.602575302124023,
          22.309207916259766,
          14.014552116394043,
          -10.252059936523438,
          -10.261259078979492,
          27.36008071899414,
          -15.18781852722168,
          -17.77923011779785,
          -18.59133529663086,
          -18.430633544921875,
          31.38018035888672,
          -43.68587875366211,
          30.664182662963867,
          -14.20795726776123,
          -6.223578929901123,
          -4.653960227966309,
          -23.031686782836914,
          -23.255239486694336,
          19.37264633178711,
          18.680601119995117,
          -10.455533027648926,
          -20.196229934692383,
          -17.6247501373291,
          -17.306976318359375,
          28.11981201171875,
          17.932836532592773,
          19.36517333984375,
          -7.398292064666748,
          -6.409736156463623,
          -6.427536487579346,
          -6.725164413452148,
          -7.429111480712891,
          -7.485979080200195,
          -6.177393436431885,
          20.03313446044922,
          17.223941802978516,
          20.70032501220703,
          15.714298248291016,
          26.579042434692383,
          25.796464920043945,
          27.810300827026367,
          28.39349365234375,
          25.632049560546875,
          23.20589828491211,
          -12.081175804138184,
          -11.077584266662598,
          24.64474868774414,
          -0.6280423998832703,
          35.807891845703125,
          23.954830169677734,
          23.886350631713867,
          24.5303955078125,
          24.477344512939453,
          23.408912658691406,
          23.408443450927734,
          23.668418884277344
         ],
         "xaxis": "x",
         "y": [
          -42.81300735473633,
          -38.52943801879883,
          4.767104625701904,
          -19.993791580200195,
          3.3521294593811035,
          21.74648094177246,
          16.4542293548584,
          20.99620819091797,
          21.134868621826172,
          19.852581024169922,
          17.690292358398438,
          17.503442764282227,
          14.641600608825684,
          -27.567277908325195,
          40.30556869506836,
          -2.3916754722595215,
          -2.3905911445617676,
          -21.49087905883789,
          -37.18570327758789,
          5.504210472106934,
          -35.29206466674805,
          -34.97682571411133,
          -11.365986824035645,
          -17.266714096069336,
          -6.11594820022583,
          7.827582359313965,
          -32.1871452331543,
          -30.886795043945312,
          -37.563899993896484,
          20.778667449951172,
          -28.076757431030273,
          -27.830060958862305,
          7.786099433898926,
          -44.60858154296875,
          -42.70589828491211,
          -0.5532214045524597,
          -14.822611808776855,
          26.555513381958008,
          26.58000946044922,
          -53.97976303100586,
          -51.13475036621094,
          -51.3606071472168,
          -51.921043395996094,
          -52.87128448486328,
          -52.53864288330078,
          -50.59642028808594,
          34.55929946899414,
          32.073143005371094,
          36.4930534362793,
          41.54604721069336,
          23.69727325439453,
          21.959749221801758,
          19.209489822387695,
          19.37041664123535,
          30.877544403076172,
          34.316192626953125,
          -40.118770599365234,
          2.776914596557617,
          26.233501434326172,
          0.09995553642511368,
          -7.641880512237549,
          41.788272857666016,
          40.830841064453125,
          43.24415588378906,
          42.98274612426758,
          42.378257751464844,
          42.37805938720703,
          42.94707107543945
         ],
         "yaxis": "y"
        },
        {
         "hovertemplate": "Label=sad<br>x=%{x}<br>y=%{y}<extra></extra>",
         "legendgroup": "sad",
         "marker": {
          "color": "#ab63fa",
          "symbol": "circle"
         },
         "mode": "markers",
         "name": "sad",
         "showlegend": true,
         "type": "scattergl",
         "x": [
          -17.962081909179688,
          -12.05917739868164,
          22.431222915649414,
          -25.448524475097656,
          -25.560548782348633,
          -26.28548812866211,
          -35.29158401489258,
          -35.153377532958984,
          -36.14860153198242,
          -36.45195770263672,
          -34.29530334472656,
          22.41118049621582,
          27.217182159423828,
          -16.794937133789062,
          -13.48926830291748,
          31.4962158203125,
          32.72523880004883,
          -8.28810977935791,
          -13.514182090759277,
          -10.672991752624512,
          -22.553712844848633,
          -22.90915298461914,
          -22.701866149902344,
          -22.470096588134766,
          19.458274841308594,
          -22.274137496948242,
          18.977676391601562,
          -16.18300437927246,
          -17.529478073120117,
          27.020048141479492,
          28.626718521118164,
          -16.19144058227539,
          -5.295243263244629,
          -6.465895652770996,
          23.213720321655273,
          -30.601545333862305,
          -5.62143087387085,
          17.219072341918945,
          15.371209144592285,
          24.33176040649414,
          25.587770462036133,
          25.613121032714844,
          27.523160934448242,
          29.19239044189453,
          27.647241592407227,
          17.831377029418945,
          -11.125004768371582,
          -11.057284355163574,
          -43.49045944213867,
          -44.095367431640625,
          18.97406768798828,
          35.86036682128906,
          22.35821533203125,
          25.46982192993164
         ],
         "xaxis": "x",
         "y": [
          -43.303955078125,
          5.6899638175964355,
          29.2508602142334,
          3.4638280868530273,
          4.095505714416504,
          3.2068679332733154,
          20.922222137451172,
          18.044790267944336,
          20.63610076904297,
          19.637319564819336,
          16.5221004486084,
          -27.008760452270508,
          -22.272119522094727,
          -38.33138656616211,
          -37.05512619018555,
          -10.613880157470703,
          -11.698881149291992,
          6.115189075469971,
          -44.70512771606445,
          7.077821731567383,
          -38.00602340698242,
          20.016992568969727,
          20.723613739013672,
          20.132497787475586,
          -27.944913864135742,
          20.747215270996094,
          -27.431163787841797,
          -44.50971984863281,
          -0.023118657991290092,
          -14.517359733581543,
          -15.375882148742676,
          -1.4706814289093018,
          -52.59625244140625,
          -54.70664978027344,
          27.504899978637695,
          23.32905387878418,
          -51.4751091003418,
          32.052982330322266,
          42.36015701293945,
          22.654640197753906,
          22.48845100402832,
          22.911863327026367,
          20.239675521850586,
          19.376977920532227,
          20.33064079284668,
          28.095897674560547,
          -40.20487976074219,
          2.6931915283203125,
          -16.761798858642578,
          -17.377174377441406,
          24.41618537902832,
          -7.515722274780273,
          41.32002639770508,
          41.20711135864258
         ],
         "yaxis": "y"
        },
        {
         "hovertemplate": "Label=angry<br>x=%{x}<br>y=%{y}<extra></extra>",
         "legendgroup": "angry",
         "marker": {
          "color": "#FFA15A",
          "symbol": "circle"
         },
         "mode": "markers",
         "name": "angry",
         "showlegend": true,
         "type": "scattergl",
         "x": [
          -42.250064849853516,
          -19.19832420349121,
          28.831005096435547,
          29.247661590576172,
          30.146678924560547,
          -35.73580551147461,
          -36.67815017700195,
          -11.470197677612305,
          -35.0403938293457,
          -34.19972610473633,
          -34.070350646972656,
          21.9112606048584,
          16.471881866455078,
          11.523639678955078,
          11.853813171386719,
          13.896052360534668,
          -6.674288272857666,
          32.599510192871094,
          1.099762201309204,
          -20.48825454711914,
          -12.532181739807129,
          -11.431028366088867,
          -16.049942016601562,
          -1.3371602296829224,
          -17.737150192260742,
          10.848023414611816,
          -12.154010772705078,
          -19.02081871032715,
          -17.531572341918945,
          -16.15357780456543,
          -6.096700191497803,
          31.078054428100586,
          -7.516016960144043,
          -30.074247360229492,
          16.100902557373047,
          25.866622924804688,
          27.06559181213379,
          26.16900062561035,
          -18.349451065063477,
          32.857421875,
          34.14653396606445,
          1.1639480590820312,
          24.08478546142578,
          24.48415184020996,
          24.331953048706055,
          23.873031616210938
         ],
         "xaxis": "x",
         "y": [
          -20.4683780670166,
          -37.5894660949707,
          -20.19896697998047,
          -20.292015075683594,
          -20.281919479370117,
          18.406686782836914,
          22.11826515197754,
          -50.35377883911133,
          17.304046630859375,
          15.998231887817383,
          17.705909729003906,
          -26.86315155029297,
          32.757781982421875,
          42.6783561706543,
          42.9741325378418,
          38.705684661865234,
          -4.376615047454834,
          -12.255048751831055,
          35.66242980957031,
          8.47412395477295,
          -44.122718811035156,
          5.587433338165283,
          -43.45743179321289,
          1.0240118503570557,
          -41.8507194519043,
          33.05403518676758,
          9.077728271484375,
          -43.819950103759766,
          0.9919824600219727,
          -1.448673129081726,
          -52.92192077636719,
          -20.025848388671875,
          -52.95719528198242,
          23.378591537475586,
          41.78467559814453,
          19.939529418945312,
          21.9740047454834,
          22.298627853393555,
          -35.97669219970703,
          -12.769184112548828,
          -13.278443336486816,
          1.721225619316101,
          41.53561782836914,
          41.912601470947266,
          42.60677719116211,
          43.27015686035156
         ],
         "yaxis": "y"
        },
        {
         "hovertemplate": "Label=neutral<br>x=%{x}<br>y=%{y}<extra></extra>",
         "legendgroup": "neutral",
         "marker": {
          "color": "#19d3f3",
          "symbol": "circle"
         },
         "mode": "markers",
         "name": "neutral",
         "showlegend": true,
         "type": "scattergl",
         "x": [
          28.696083068847656,
          -37.11313247680664,
          -36.89774703979492,
          -36.62617492675781,
          -33.67427444458008,
          -33.67422866821289,
          -33.76194763183594,
          17.70601463317871,
          14.001944541931152,
          14.052590370178223,
          13.890363693237305,
          -20.41049575805664,
          -20.342735290527344,
          -41.74634552001953,
          -15.65282917022705,
          -14.751530647277832,
          -18.996212005615234,
          -23.377408981323242,
          -22.498336791992188,
          10.865056991577148,
          -15.076809883117676,
          -16.26643943786621,
          18.115976333618164,
          19.916440963745117,
          -6.581515789031982,
          -30.357040405273438,
          -29.697036743164062,
          -5.754968643188477,
          18.669363021850586,
          20.14165687561035,
          15.389725685119629,
          25.704273223876953,
          26.34084701538086,
          27.482227325439453,
          26.728897094726562,
          26.130908966064453,
          26.13230323791504,
          35.967384338378906,
          16.906831741333008,
          33.079254150390625,
          -27.96576690673828,
          -14.624457359313965,
          -13.263178825378418,
          -8.228482246398926,
          -2.964221239089966,
          -3.308307409286499,
          22.76866340637207
         ],
         "xaxis": "x",
         "y": [
          -19.89338493347168,
          21.649858474731445,
          22.308670043945312,
          19.654024124145508,
          16.521137237548828,
          17.67093849182129,
          15.849279403686523,
          33.226871490478516,
          40.16093063354492,
          38.28073501586914,
          38.80465316772461,
          9.80659008026123,
          3.8539929389953613,
          -19.063779830932617,
          9.072948455810547,
          -37.211463928222656,
          -35.686424255371094,
          -37.45308303833008,
          20.247133255004883,
          33.06067657470703,
          -41.71151351928711,
          -0.8783940672874451,
          26.598026275634766,
          27.026201248168945,
          -53.81524658203125,
          23.0982723236084,
          23.376819610595703,
          -52.246009826660156,
          33.17592239379883,
          35.78710174560547,
          42.31902313232422,
          24.557933807373047,
          23.14911651611328,
          20.4265079498291,
          20.600601196289062,
          20.003564834594727,
          22.140913009643555,
          -6.631552219390869,
          37.61743927001953,
          -19.305469512939453,
          7.296236038208008,
          0.7882527112960815,
          -41.690093994140625,
          5.453247547149658,
          -0.10820081830024719,
          -1.2603428363800049,
          41.844024658203125
         ],
         "yaxis": "y"
        }
       ],
       "layout": {
        "legend": {
         "title": {
          "text": "Label"
         },
         "tracegroupgap": 0
        },
        "margin": {
         "t": 60
        },
        "template": {
         "data": {
          "bar": [
           {
            "error_x": {
             "color": "#2a3f5f"
            },
            "error_y": {
             "color": "#2a3f5f"
            },
            "marker": {
             "line": {
              "color": "#E5ECF6",
              "width": 0.5
             },
             "pattern": {
              "fillmode": "overlay",
              "size": 10,
              "solidity": 0.2
             }
            },
            "type": "bar"
           }
          ],
          "barpolar": [
           {
            "marker": {
             "line": {
              "color": "#E5ECF6",
              "width": 0.5
             },
             "pattern": {
              "fillmode": "overlay",
              "size": 10,
              "solidity": 0.2
             }
            },
            "type": "barpolar"
           }
          ],
          "carpet": [
           {
            "aaxis": {
             "endlinecolor": "#2a3f5f",
             "gridcolor": "white",
             "linecolor": "white",
             "minorgridcolor": "white",
             "startlinecolor": "#2a3f5f"
            },
            "baxis": {
             "endlinecolor": "#2a3f5f",
             "gridcolor": "white",
             "linecolor": "white",
             "minorgridcolor": "white",
             "startlinecolor": "#2a3f5f"
            },
            "type": "carpet"
           }
          ],
          "choropleth": [
           {
            "colorbar": {
             "outlinewidth": 0,
             "ticks": ""
            },
            "type": "choropleth"
           }
          ],
          "contour": [
           {
            "colorbar": {
             "outlinewidth": 0,
             "ticks": ""
            },
            "colorscale": [
             [
              0,
              "#0d0887"
             ],
             [
              0.1111111111111111,
              "#46039f"
             ],
             [
              0.2222222222222222,
              "#7201a8"
             ],
             [
              0.3333333333333333,
              "#9c179e"
             ],
             [
              0.4444444444444444,
              "#bd3786"
             ],
             [
              0.5555555555555556,
              "#d8576b"
             ],
             [
              0.6666666666666666,
              "#ed7953"
             ],
             [
              0.7777777777777778,
              "#fb9f3a"
             ],
             [
              0.8888888888888888,
              "#fdca26"
             ],
             [
              1,
              "#f0f921"
             ]
            ],
            "type": "contour"
           }
          ],
          "contourcarpet": [
           {
            "colorbar": {
             "outlinewidth": 0,
             "ticks": ""
            },
            "type": "contourcarpet"
           }
          ],
          "heatmap": [
           {
            "colorbar": {
             "outlinewidth": 0,
             "ticks": ""
            },
            "colorscale": [
             [
              0,
              "#0d0887"
             ],
             [
              0.1111111111111111,
              "#46039f"
             ],
             [
              0.2222222222222222,
              "#7201a8"
             ],
             [
              0.3333333333333333,
              "#9c179e"
             ],
             [
              0.4444444444444444,
              "#bd3786"
             ],
             [
              0.5555555555555556,
              "#d8576b"
             ],
             [
              0.6666666666666666,
              "#ed7953"
             ],
             [
              0.7777777777777778,
              "#fb9f3a"
             ],
             [
              0.8888888888888888,
              "#fdca26"
             ],
             [
              1,
              "#f0f921"
             ]
            ],
            "type": "heatmap"
           }
          ],
          "heatmapgl": [
           {
            "colorbar": {
             "outlinewidth": 0,
             "ticks": ""
            },
            "colorscale": [
             [
              0,
              "#0d0887"
             ],
             [
              0.1111111111111111,
              "#46039f"
             ],
             [
              0.2222222222222222,
              "#7201a8"
             ],
             [
              0.3333333333333333,
              "#9c179e"
             ],
             [
              0.4444444444444444,
              "#bd3786"
             ],
             [
              0.5555555555555556,
              "#d8576b"
             ],
             [
              0.6666666666666666,
              "#ed7953"
             ],
             [
              0.7777777777777778,
              "#fb9f3a"
             ],
             [
              0.8888888888888888,
              "#fdca26"
             ],
             [
              1,
              "#f0f921"
             ]
            ],
            "type": "heatmapgl"
           }
          ],
          "histogram": [
           {
            "marker": {
             "pattern": {
              "fillmode": "overlay",
              "size": 10,
              "solidity": 0.2
             }
            },
            "type": "histogram"
           }
          ],
          "histogram2d": [
           {
            "colorbar": {
             "outlinewidth": 0,
             "ticks": ""
            },
            "colorscale": [
             [
              0,
              "#0d0887"
             ],
             [
              0.1111111111111111,
              "#46039f"
             ],
             [
              0.2222222222222222,
              "#7201a8"
             ],
             [
              0.3333333333333333,
              "#9c179e"
             ],
             [
              0.4444444444444444,
              "#bd3786"
             ],
             [
              0.5555555555555556,
              "#d8576b"
             ],
             [
              0.6666666666666666,
              "#ed7953"
             ],
             [
              0.7777777777777778,
              "#fb9f3a"
             ],
             [
              0.8888888888888888,
              "#fdca26"
             ],
             [
              1,
              "#f0f921"
             ]
            ],
            "type": "histogram2d"
           }
          ],
          "histogram2dcontour": [
           {
            "colorbar": {
             "outlinewidth": 0,
             "ticks": ""
            },
            "colorscale": [
             [
              0,
              "#0d0887"
             ],
             [
              0.1111111111111111,
              "#46039f"
             ],
             [
              0.2222222222222222,
              "#7201a8"
             ],
             [
              0.3333333333333333,
              "#9c179e"
             ],
             [
              0.4444444444444444,
              "#bd3786"
             ],
             [
              0.5555555555555556,
              "#d8576b"
             ],
             [
              0.6666666666666666,
              "#ed7953"
             ],
             [
              0.7777777777777778,
              "#fb9f3a"
             ],
             [
              0.8888888888888888,
              "#fdca26"
             ],
             [
              1,
              "#f0f921"
             ]
            ],
            "type": "histogram2dcontour"
           }
          ],
          "mesh3d": [
           {
            "colorbar": {
             "outlinewidth": 0,
             "ticks": ""
            },
            "type": "mesh3d"
           }
          ],
          "parcoords": [
           {
            "line": {
             "colorbar": {
              "outlinewidth": 0,
              "ticks": ""
             }
            },
            "type": "parcoords"
           }
          ],
          "pie": [
           {
            "automargin": true,
            "type": "pie"
           }
          ],
          "scatter": [
           {
            "fillpattern": {
             "fillmode": "overlay",
             "size": 10,
             "solidity": 0.2
            },
            "type": "scatter"
           }
          ],
          "scatter3d": [
           {
            "line": {
             "colorbar": {
              "outlinewidth": 0,
              "ticks": ""
             }
            },
            "marker": {
             "colorbar": {
              "outlinewidth": 0,
              "ticks": ""
             }
            },
            "type": "scatter3d"
           }
          ],
          "scattercarpet": [
           {
            "marker": {
             "colorbar": {
              "outlinewidth": 0,
              "ticks": ""
             }
            },
            "type": "scattercarpet"
           }
          ],
          "scattergeo": [
           {
            "marker": {
             "colorbar": {
              "outlinewidth": 0,
              "ticks": ""
             }
            },
            "type": "scattergeo"
           }
          ],
          "scattergl": [
           {
            "marker": {
             "colorbar": {
              "outlinewidth": 0,
              "ticks": ""
             }
            },
            "type": "scattergl"
           }
          ],
          "scattermapbox": [
           {
            "marker": {
             "colorbar": {
              "outlinewidth": 0,
              "ticks": ""
             }
            },
            "type": "scattermapbox"
           }
          ],
          "scatterpolar": [
           {
            "marker": {
             "colorbar": {
              "outlinewidth": 0,
              "ticks": ""
             }
            },
            "type": "scatterpolar"
           }
          ],
          "scatterpolargl": [
           {
            "marker": {
             "colorbar": {
              "outlinewidth": 0,
              "ticks": ""
             }
            },
            "type": "scatterpolargl"
           }
          ],
          "scatterternary": [
           {
            "marker": {
             "colorbar": {
              "outlinewidth": 0,
              "ticks": ""
             }
            },
            "type": "scatterternary"
           }
          ],
          "surface": [
           {
            "colorbar": {
             "outlinewidth": 0,
             "ticks": ""
            },
            "colorscale": [
             [
              0,
              "#0d0887"
             ],
             [
              0.1111111111111111,
              "#46039f"
             ],
             [
              0.2222222222222222,
              "#7201a8"
             ],
             [
              0.3333333333333333,
              "#9c179e"
             ],
             [
              0.4444444444444444,
              "#bd3786"
             ],
             [
              0.5555555555555556,
              "#d8576b"
             ],
             [
              0.6666666666666666,
              "#ed7953"
             ],
             [
              0.7777777777777778,
              "#fb9f3a"
             ],
             [
              0.8888888888888888,
              "#fdca26"
             ],
             [
              1,
              "#f0f921"
             ]
            ],
            "type": "surface"
           }
          ],
          "table": [
           {
            "cells": {
             "fill": {
              "color": "#EBF0F8"
             },
             "line": {
              "color": "white"
             }
            },
            "header": {
             "fill": {
              "color": "#C8D4E3"
             },
             "line": {
              "color": "white"
             }
            },
            "type": "table"
           }
          ]
         },
         "layout": {
          "annotationdefaults": {
           "arrowcolor": "#2a3f5f",
           "arrowhead": 0,
           "arrowwidth": 1
          },
          "autotypenumbers": "strict",
          "coloraxis": {
           "colorbar": {
            "outlinewidth": 0,
            "ticks": ""
           }
          },
          "colorscale": {
           "diverging": [
            [
             0,
             "#8e0152"
            ],
            [
             0.1,
             "#c51b7d"
            ],
            [
             0.2,
             "#de77ae"
            ],
            [
             0.3,
             "#f1b6da"
            ],
            [
             0.4,
             "#fde0ef"
            ],
            [
             0.5,
             "#f7f7f7"
            ],
            [
             0.6,
             "#e6f5d0"
            ],
            [
             0.7,
             "#b8e186"
            ],
            [
             0.8,
             "#7fbc41"
            ],
            [
             0.9,
             "#4d9221"
            ],
            [
             1,
             "#276419"
            ]
           ],
           "sequential": [
            [
             0,
             "#0d0887"
            ],
            [
             0.1111111111111111,
             "#46039f"
            ],
            [
             0.2222222222222222,
             "#7201a8"
            ],
            [
             0.3333333333333333,
             "#9c179e"
            ],
            [
             0.4444444444444444,
             "#bd3786"
            ],
            [
             0.5555555555555556,
             "#d8576b"
            ],
            [
             0.6666666666666666,
             "#ed7953"
            ],
            [
             0.7777777777777778,
             "#fb9f3a"
            ],
            [
             0.8888888888888888,
             "#fdca26"
            ],
            [
             1,
             "#f0f921"
            ]
           ],
           "sequentialminus": [
            [
             0,
             "#0d0887"
            ],
            [
             0.1111111111111111,
             "#46039f"
            ],
            [
             0.2222222222222222,
             "#7201a8"
            ],
            [
             0.3333333333333333,
             "#9c179e"
            ],
            [
             0.4444444444444444,
             "#bd3786"
            ],
            [
             0.5555555555555556,
             "#d8576b"
            ],
            [
             0.6666666666666666,
             "#ed7953"
            ],
            [
             0.7777777777777778,
             "#fb9f3a"
            ],
            [
             0.8888888888888888,
             "#fdca26"
            ],
            [
             1,
             "#f0f921"
            ]
           ]
          },
          "colorway": [
           "#636efa",
           "#EF553B",
           "#00cc96",
           "#ab63fa",
           "#FFA15A",
           "#19d3f3",
           "#FF6692",
           "#B6E880",
           "#FF97FF",
           "#FECB52"
          ],
          "font": {
           "color": "#2a3f5f"
          },
          "geo": {
           "bgcolor": "white",
           "lakecolor": "white",
           "landcolor": "#E5ECF6",
           "showlakes": true,
           "showland": true,
           "subunitcolor": "white"
          },
          "hoverlabel": {
           "align": "left"
          },
          "hovermode": "closest",
          "mapbox": {
           "style": "light"
          },
          "paper_bgcolor": "white",
          "plot_bgcolor": "#E5ECF6",
          "polar": {
           "angularaxis": {
            "gridcolor": "white",
            "linecolor": "white",
            "ticks": ""
           },
           "bgcolor": "#E5ECF6",
           "radialaxis": {
            "gridcolor": "white",
            "linecolor": "white",
            "ticks": ""
           }
          },
          "scene": {
           "xaxis": {
            "backgroundcolor": "#E5ECF6",
            "gridcolor": "white",
            "gridwidth": 2,
            "linecolor": "white",
            "showbackground": true,
            "ticks": "",
            "zerolinecolor": "white"
           },
           "yaxis": {
            "backgroundcolor": "#E5ECF6",
            "gridcolor": "white",
            "gridwidth": 2,
            "linecolor": "white",
            "showbackground": true,
            "ticks": "",
            "zerolinecolor": "white"
           },
           "zaxis": {
            "backgroundcolor": "#E5ECF6",
            "gridcolor": "white",
            "gridwidth": 2,
            "linecolor": "white",
            "showbackground": true,
            "ticks": "",
            "zerolinecolor": "white"
           }
          },
          "shapedefaults": {
           "line": {
            "color": "#2a3f5f"
           }
          },
          "ternary": {
           "aaxis": {
            "gridcolor": "white",
            "linecolor": "white",
            "ticks": ""
           },
           "baxis": {
            "gridcolor": "white",
            "linecolor": "white",
            "ticks": ""
           },
           "bgcolor": "#E5ECF6",
           "caxis": {
            "gridcolor": "white",
            "linecolor": "white",
            "ticks": ""
           }
          },
          "title": {
           "x": 0.05
          },
          "xaxis": {
           "automargin": true,
           "gridcolor": "white",
           "linecolor": "white",
           "ticks": "",
           "title": {
            "standoff": 15
           },
           "zerolinecolor": "white",
           "zerolinewidth": 2
          },
          "yaxis": {
           "automargin": true,
           "gridcolor": "white",
           "linecolor": "white",
           "ticks": "",
           "title": {
            "standoff": 15
           },
           "zerolinecolor": "white",
           "zerolinewidth": 2
          }
         }
        },
        "xaxis": {
         "anchor": "y",
         "domain": [
          0,
          1
         ],
         "title": {
          "text": "x"
         }
        },
        "yaxis": {
         "anchor": "x",
         "domain": [
          0,
          1
         ],
         "title": {
          "text": "y"
         }
        }
       }
      },
      "text/html": [
       "<div>                            <div id=\"10bb6050-18ca-48c9-bd7f-eb62e4bb386d\" class=\"plotly-graph-div\" style=\"height:525px; width:100%;\"></div>            <script type=\"text/javascript\">                require([\"plotly\"], function(Plotly) {                    window.PLOTLYENV=window.PLOTLYENV || {};                                    if (document.getElementById(\"10bb6050-18ca-48c9-bd7f-eb62e4bb386d\")) {                    Plotly.newPlot(                        \"10bb6050-18ca-48c9-bd7f-eb62e4bb386d\",                        [{\"hovertemplate\":\"Label=surprised\\u003cbr\\u003ex=%{x}\\u003cbr\\u003ey=%{y}\\u003cextra\\u003e\\u003c\\u002fextra\\u003e\",\"legendgroup\":\"surprised\",\"marker\":{\"color\":\"#636efa\",\"symbol\":\"circle\"},\"mode\":\"markers\",\"name\":\"surprised\",\"showlegend\":true,\"x\":[-11.212021827697754,-16.847169876098633,-24.90557861328125,-25.27507781982422,-25.032642364501953,-25.466524124145508,29.460769653320312,29.457534790039062,39.47742462158203,-12.419837951660156,-33.60379409790039,22.503252029418945,22.141204833984375,21.8055477142334,30.173751831054688,29.56520652770996,-13.503744125366211,-15.69908618927002,-17.001850128173828,-14.069242477416992,19.1512508392334,-16.037206649780273,-1.9381425380706787,-23.296409606933594,-23.384517669677734,-23.04693031311035,18.6823673248291,-15.208673477172852,-16.981746673583984,27.193803787231445,-17.33193588256836,-17.814992904663086,28.10382080078125,20.06062126159668,-7.318872451782227,-4.729280948638916,-29.94635772705078,-6.438998699188232,-7.6260986328125,-5.744842529296875,18.524127960205078,21.188167572021484,16.483203887939453,15.334602355957031,27.845890045166016,25.093555450439453,28.075984954833984,-14.152053833007812,-42.469398498535156,-18.614662170410156,-42.56444549560547,-43.52598571777344,-1.0672868490219116,-3.2060463428497314,25.91193199157715,23.748966217041016],\"xaxis\":\"x\",\"y\":[10.641724586486816,-44.01690673828125,3.9814400672912598,4.605867385864258,3.3856444358825684,4.105062007904053,-20.50189971923828,-19.648487091064453,-19.42462730407715,-50.21064376831055,17.733745574951172,-27.294029235839844,-27.911733627319336,-27.275209426879883,-6.801575183868408,-21.553115844726562,-37.01535415649414,-38.08120346069336,-36.75946807861328,-35.08782958984375,24.06525230407715,-43.36917495727539,-0.63837730884552,20.499109268188477,20.17346954345703,19.971153259277344,-27.411399841308594,-47.58098602294922,-0.6239755749702454,-14.609548568725586,-1.25864577293396,-0.9611607193946838,-15.807868003845215,27.170270919799805,-54.015045166015625,-52.574745178222656,23.31072425842285,-52.031494140625,-52.52265930175781,-50.61920166015625,33.11277389526367,42.587425231933594,41.18526077270508,41.72117233276367,21.37790870666504,22.1276912689209,18.878095626831055,-38.29561233520508,-19.21218490600586,8.993125915527344,-17.211406707763672,-17.846315383911133,-0.7063696980476379,-1.2570990324020386,41.7923583984375,40.55559539794922],\"yaxis\":\"y\",\"type\":\"scattergl\"},{\"hovertemplate\":\"Label=disgusted\\u003cbr\\u003ex=%{x}\\u003cbr\\u003ey=%{y}\\u003cextra\\u003e\\u003c\\u002fextra\\u003e\",\"legendgroup\":\"disgusted\",\"marker\":{\"color\":\"#EF553B\",\"symbol\":\"circle\"},\"mode\":\"markers\",\"name\":\"disgusted\",\"showlegend\":true,\"x\":[-10.181806564331055,-42.192649841308594,-18.652658462524414,29.45635223388672,29.86148452758789,22.334426879882812,-34.20920181274414,-35.19412612915039,-36.86848068237305,22.217479705810547,14.347936630249023,13.986540794372559,29.645092010498047,29.61188507080078,-18.48676300048828,-17.83042335510254,-13.565346717834473,-15.467931747436523,-15.626167297363281,-13.365619659423828,-22.90934181213379,19.22910499572754,19.335111618041992,18.92519187927246,-12.300899505615234,28.322534561157227,-5.687222003936768,-6.503806114196777,-5.714798927307129,-5.547985553741455,20.134220123291016,20.757549285888672,16.51145362854004,16.36881446838379,14.697149276733398,29.18667984008789,25.882137298583984,27.84099006652832,26.271196365356445,26.730207443237305,28.879179000854492,-20.305908203125,-9.711187362670898,-16.32233428955078,-9.33886432647705,23.316267013549805,32.540279388427734,-8.567282676696777,0.1480276733636856,25.27215003967285,25.469757080078125,23.818645477294922,24.579675674438477,30.5628604888916],\"xaxis\":\"x\",\"y\":[5.714942932128906,-20.336421966552734,-40.891597747802734,-20.09661865234375,-19.68452262878418,29.175676345825195,16.31269073486328,21.442121505737305,20.266611099243164,-26.966228485107422,37.942848205566406,40.64296340942383,-7.973839282989502,-7.987028121948242,12.085638999938965,9.203496932983398,-36.400203704833984,-43.64516830444336,-43.57398223876953,-44.76433563232422,20.791316986083984,-27.444080352783203,-28.282190322875977,-27.982059478759766,3.792423725128174,-15.083621978759766,-53.58311462402344,-50.858734130859375,-51.27399444580078,-51.00774383544922,36.03691864013672,36.55312728881836,41.132057189941406,41.155643463134766,41.934444427490234,19.08185577392578,23.967041015625,19.530847549438477,19.35039520263672,19.793134689331055,18.340852737426758,6.987476825714111,8.364972114562988,3.674264430999756,5.9600396156311035,26.23587989807129,-11.59376335144043,5.431201457977295,-0.16858479380607605,43.055030822753906,41.20711898803711,42.475284576416016,42.421207427978516,-15.525178909301758],\"yaxis\":\"y\",\"type\":\"scattergl\"},{\"hovertemplate\":\"Label=happy\\u003cbr\\u003ex=%{x}\\u003cbr\\u003ey=%{y}\\u003cextra\\u003e\\u003c\\u002fextra\\u003e\",\"legendgroup\":\"happy\",\"marker\":{\"color\":\"#00cc96\",\"symbol\":\"circle\"},\"mode\":\"markers\",\"name\":\"happy\",\"showlegend\":true,\"x\":[-17.644289016723633,-19.145483016967773,-25.670822143554688,29.5589599609375,-26.301050186157227,-36.64060974121094,-35.1468391418457,-37.356563568115234,-34.967899322509766,-36.97983932495117,-35.09817886352539,-34.28913116455078,-21.602575302124023,22.309207916259766,14.014552116394043,-10.252059936523438,-10.261259078979492,27.36008071899414,-15.18781852722168,-17.77923011779785,-18.59133529663086,-18.430633544921875,31.38018035888672,-43.68587875366211,30.664182662963867,-14.20795726776123,-6.223578929901123,-4.653960227966309,-23.031686782836914,-23.255239486694336,19.37264633178711,18.680601119995117,-10.455533027648926,-20.196229934692383,-17.6247501373291,-17.306976318359375,28.11981201171875,17.932836532592773,19.36517333984375,-7.398292064666748,-6.409736156463623,-6.427536487579346,-6.725164413452148,-7.429111480712891,-7.485979080200195,-6.177393436431885,20.03313446044922,17.223941802978516,20.70032501220703,15.714298248291016,26.579042434692383,25.796464920043945,27.810300827026367,28.39349365234375,25.632049560546875,23.20589828491211,-12.081175804138184,-11.077584266662598,24.64474868774414,-0.6280423998832703,35.807891845703125,23.954830169677734,23.886350631713867,24.5303955078125,24.477344512939453,23.408912658691406,23.408443450927734,23.668418884277344],\"xaxis\":\"x\",\"y\":[-42.81300735473633,-38.52943801879883,4.767104625701904,-19.993791580200195,3.3521294593811035,21.74648094177246,16.4542293548584,20.99620819091797,21.134868621826172,19.852581024169922,17.690292358398438,17.503442764282227,14.641600608825684,-27.567277908325195,40.30556869506836,-2.3916754722595215,-2.3905911445617676,-21.49087905883789,-37.18570327758789,5.504210472106934,-35.29206466674805,-34.97682571411133,-11.365986824035645,-17.266714096069336,-6.11594820022583,7.827582359313965,-32.1871452331543,-30.886795043945312,-37.563899993896484,20.778667449951172,-28.076757431030273,-27.830060958862305,7.786099433898926,-44.60858154296875,-42.70589828491211,-0.5532214045524597,-14.822611808776855,26.555513381958008,26.58000946044922,-53.97976303100586,-51.13475036621094,-51.3606071472168,-51.921043395996094,-52.87128448486328,-52.53864288330078,-50.59642028808594,34.55929946899414,32.073143005371094,36.4930534362793,41.54604721069336,23.69727325439453,21.959749221801758,19.209489822387695,19.37041664123535,30.877544403076172,34.316192626953125,-40.118770599365234,2.776914596557617,26.233501434326172,0.09995553642511368,-7.641880512237549,41.788272857666016,40.830841064453125,43.24415588378906,42.98274612426758,42.378257751464844,42.37805938720703,42.94707107543945],\"yaxis\":\"y\",\"type\":\"scattergl\"},{\"hovertemplate\":\"Label=sad\\u003cbr\\u003ex=%{x}\\u003cbr\\u003ey=%{y}\\u003cextra\\u003e\\u003c\\u002fextra\\u003e\",\"legendgroup\":\"sad\",\"marker\":{\"color\":\"#ab63fa\",\"symbol\":\"circle\"},\"mode\":\"markers\",\"name\":\"sad\",\"showlegend\":true,\"x\":[-17.962081909179688,-12.05917739868164,22.431222915649414,-25.448524475097656,-25.560548782348633,-26.28548812866211,-35.29158401489258,-35.153377532958984,-36.14860153198242,-36.45195770263672,-34.29530334472656,22.41118049621582,27.217182159423828,-16.794937133789062,-13.48926830291748,31.4962158203125,32.72523880004883,-8.28810977935791,-13.514182090759277,-10.672991752624512,-22.553712844848633,-22.90915298461914,-22.701866149902344,-22.470096588134766,19.458274841308594,-22.274137496948242,18.977676391601562,-16.18300437927246,-17.529478073120117,27.020048141479492,28.626718521118164,-16.19144058227539,-5.295243263244629,-6.465895652770996,23.213720321655273,-30.601545333862305,-5.62143087387085,17.219072341918945,15.371209144592285,24.33176040649414,25.587770462036133,25.613121032714844,27.523160934448242,29.19239044189453,27.647241592407227,17.831377029418945,-11.125004768371582,-11.057284355163574,-43.49045944213867,-44.095367431640625,18.97406768798828,35.86036682128906,22.35821533203125,25.46982192993164],\"xaxis\":\"x\",\"y\":[-43.303955078125,5.6899638175964355,29.2508602142334,3.4638280868530273,4.095505714416504,3.2068679332733154,20.922222137451172,18.044790267944336,20.63610076904297,19.637319564819336,16.5221004486084,-27.008760452270508,-22.272119522094727,-38.33138656616211,-37.05512619018555,-10.613880157470703,-11.698881149291992,6.115189075469971,-44.70512771606445,7.077821731567383,-38.00602340698242,20.016992568969727,20.723613739013672,20.132497787475586,-27.944913864135742,20.747215270996094,-27.431163787841797,-44.50971984863281,-0.023118657991290092,-14.517359733581543,-15.375882148742676,-1.4706814289093018,-52.59625244140625,-54.70664978027344,27.504899978637695,23.32905387878418,-51.4751091003418,32.052982330322266,42.36015701293945,22.654640197753906,22.48845100402832,22.911863327026367,20.239675521850586,19.376977920532227,20.33064079284668,28.095897674560547,-40.20487976074219,2.6931915283203125,-16.761798858642578,-17.377174377441406,24.41618537902832,-7.515722274780273,41.32002639770508,41.20711135864258],\"yaxis\":\"y\",\"type\":\"scattergl\"},{\"hovertemplate\":\"Label=angry\\u003cbr\\u003ex=%{x}\\u003cbr\\u003ey=%{y}\\u003cextra\\u003e\\u003c\\u002fextra\\u003e\",\"legendgroup\":\"angry\",\"marker\":{\"color\":\"#FFA15A\",\"symbol\":\"circle\"},\"mode\":\"markers\",\"name\":\"angry\",\"showlegend\":true,\"x\":[-42.250064849853516,-19.19832420349121,28.831005096435547,29.247661590576172,30.146678924560547,-35.73580551147461,-36.67815017700195,-11.470197677612305,-35.0403938293457,-34.19972610473633,-34.070350646972656,21.9112606048584,16.471881866455078,11.523639678955078,11.853813171386719,13.896052360534668,-6.674288272857666,32.599510192871094,1.099762201309204,-20.48825454711914,-12.532181739807129,-11.431028366088867,-16.049942016601562,-1.3371602296829224,-17.737150192260742,10.848023414611816,-12.154010772705078,-19.02081871032715,-17.531572341918945,-16.15357780456543,-6.096700191497803,31.078054428100586,-7.516016960144043,-30.074247360229492,16.100902557373047,25.866622924804688,27.06559181213379,26.16900062561035,-18.349451065063477,32.857421875,34.14653396606445,1.1639480590820312,24.08478546142578,24.48415184020996,24.331953048706055,23.873031616210938],\"xaxis\":\"x\",\"y\":[-20.4683780670166,-37.5894660949707,-20.19896697998047,-20.292015075683594,-20.281919479370117,18.406686782836914,22.11826515197754,-50.35377883911133,17.304046630859375,15.998231887817383,17.705909729003906,-26.86315155029297,32.757781982421875,42.6783561706543,42.9741325378418,38.705684661865234,-4.376615047454834,-12.255048751831055,35.66242980957031,8.47412395477295,-44.122718811035156,5.587433338165283,-43.45743179321289,1.0240118503570557,-41.8507194519043,33.05403518676758,9.077728271484375,-43.819950103759766,0.9919824600219727,-1.448673129081726,-52.92192077636719,-20.025848388671875,-52.95719528198242,23.378591537475586,41.78467559814453,19.939529418945312,21.9740047454834,22.298627853393555,-35.97669219970703,-12.769184112548828,-13.278443336486816,1.721225619316101,41.53561782836914,41.912601470947266,42.60677719116211,43.27015686035156],\"yaxis\":\"y\",\"type\":\"scattergl\"},{\"hovertemplate\":\"Label=neutral\\u003cbr\\u003ex=%{x}\\u003cbr\\u003ey=%{y}\\u003cextra\\u003e\\u003c\\u002fextra\\u003e\",\"legendgroup\":\"neutral\",\"marker\":{\"color\":\"#19d3f3\",\"symbol\":\"circle\"},\"mode\":\"markers\",\"name\":\"neutral\",\"showlegend\":true,\"x\":[28.696083068847656,-37.11313247680664,-36.89774703979492,-36.62617492675781,-33.67427444458008,-33.67422866821289,-33.76194763183594,17.70601463317871,14.001944541931152,14.052590370178223,13.890363693237305,-20.41049575805664,-20.342735290527344,-41.74634552001953,-15.65282917022705,-14.751530647277832,-18.996212005615234,-23.377408981323242,-22.498336791992188,10.865056991577148,-15.076809883117676,-16.26643943786621,18.115976333618164,19.916440963745117,-6.581515789031982,-30.357040405273438,-29.697036743164062,-5.754968643188477,18.669363021850586,20.14165687561035,15.389725685119629,25.704273223876953,26.34084701538086,27.482227325439453,26.728897094726562,26.130908966064453,26.13230323791504,35.967384338378906,16.906831741333008,33.079254150390625,-27.96576690673828,-14.624457359313965,-13.263178825378418,-8.228482246398926,-2.964221239089966,-3.308307409286499,22.76866340637207],\"xaxis\":\"x\",\"y\":[-19.89338493347168,21.649858474731445,22.308670043945312,19.654024124145508,16.521137237548828,17.67093849182129,15.849279403686523,33.226871490478516,40.16093063354492,38.28073501586914,38.80465316772461,9.80659008026123,3.8539929389953613,-19.063779830932617,9.072948455810547,-37.211463928222656,-35.686424255371094,-37.45308303833008,20.247133255004883,33.06067657470703,-41.71151351928711,-0.8783940672874451,26.598026275634766,27.026201248168945,-53.81524658203125,23.0982723236084,23.376819610595703,-52.246009826660156,33.17592239379883,35.78710174560547,42.31902313232422,24.557933807373047,23.14911651611328,20.4265079498291,20.600601196289062,20.003564834594727,22.140913009643555,-6.631552219390869,37.61743927001953,-19.305469512939453,7.296236038208008,0.7882527112960815,-41.690093994140625,5.453247547149658,-0.10820081830024719,-1.2603428363800049,41.844024658203125],\"yaxis\":\"y\",\"type\":\"scattergl\"}],                        {\"template\":{\"data\":{\"histogram2dcontour\":[{\"type\":\"histogram2dcontour\",\"colorbar\":{\"outlinewidth\":0,\"ticks\":\"\"},\"colorscale\":[[0.0,\"#0d0887\"],[0.1111111111111111,\"#46039f\"],[0.2222222222222222,\"#7201a8\"],[0.3333333333333333,\"#9c179e\"],[0.4444444444444444,\"#bd3786\"],[0.5555555555555556,\"#d8576b\"],[0.6666666666666666,\"#ed7953\"],[0.7777777777777778,\"#fb9f3a\"],[0.8888888888888888,\"#fdca26\"],[1.0,\"#f0f921\"]]}],\"choropleth\":[{\"type\":\"choropleth\",\"colorbar\":{\"outlinewidth\":0,\"ticks\":\"\"}}],\"histogram2d\":[{\"type\":\"histogram2d\",\"colorbar\":{\"outlinewidth\":0,\"ticks\":\"\"},\"colorscale\":[[0.0,\"#0d0887\"],[0.1111111111111111,\"#46039f\"],[0.2222222222222222,\"#7201a8\"],[0.3333333333333333,\"#9c179e\"],[0.4444444444444444,\"#bd3786\"],[0.5555555555555556,\"#d8576b\"],[0.6666666666666666,\"#ed7953\"],[0.7777777777777778,\"#fb9f3a\"],[0.8888888888888888,\"#fdca26\"],[1.0,\"#f0f921\"]]}],\"heatmap\":[{\"type\":\"heatmap\",\"colorbar\":{\"outlinewidth\":0,\"ticks\":\"\"},\"colorscale\":[[0.0,\"#0d0887\"],[0.1111111111111111,\"#46039f\"],[0.2222222222222222,\"#7201a8\"],[0.3333333333333333,\"#9c179e\"],[0.4444444444444444,\"#bd3786\"],[0.5555555555555556,\"#d8576b\"],[0.6666666666666666,\"#ed7953\"],[0.7777777777777778,\"#fb9f3a\"],[0.8888888888888888,\"#fdca26\"],[1.0,\"#f0f921\"]]}],\"heatmapgl\":[{\"type\":\"heatmapgl\",\"colorbar\":{\"outlinewidth\":0,\"ticks\":\"\"},\"colorscale\":[[0.0,\"#0d0887\"],[0.1111111111111111,\"#46039f\"],[0.2222222222222222,\"#7201a8\"],[0.3333333333333333,\"#9c179e\"],[0.4444444444444444,\"#bd3786\"],[0.5555555555555556,\"#d8576b\"],[0.6666666666666666,\"#ed7953\"],[0.7777777777777778,\"#fb9f3a\"],[0.8888888888888888,\"#fdca26\"],[1.0,\"#f0f921\"]]}],\"contourcarpet\":[{\"type\":\"contourcarpet\",\"colorbar\":{\"outlinewidth\":0,\"ticks\":\"\"}}],\"contour\":[{\"type\":\"contour\",\"colorbar\":{\"outlinewidth\":0,\"ticks\":\"\"},\"colorscale\":[[0.0,\"#0d0887\"],[0.1111111111111111,\"#46039f\"],[0.2222222222222222,\"#7201a8\"],[0.3333333333333333,\"#9c179e\"],[0.4444444444444444,\"#bd3786\"],[0.5555555555555556,\"#d8576b\"],[0.6666666666666666,\"#ed7953\"],[0.7777777777777778,\"#fb9f3a\"],[0.8888888888888888,\"#fdca26\"],[1.0,\"#f0f921\"]]}],\"surface\":[{\"type\":\"surface\",\"colorbar\":{\"outlinewidth\":0,\"ticks\":\"\"},\"colorscale\":[[0.0,\"#0d0887\"],[0.1111111111111111,\"#46039f\"],[0.2222222222222222,\"#7201a8\"],[0.3333333333333333,\"#9c179e\"],[0.4444444444444444,\"#bd3786\"],[0.5555555555555556,\"#d8576b\"],[0.6666666666666666,\"#ed7953\"],[0.7777777777777778,\"#fb9f3a\"],[0.8888888888888888,\"#fdca26\"],[1.0,\"#f0f921\"]]}],\"mesh3d\":[{\"type\":\"mesh3d\",\"colorbar\":{\"outlinewidth\":0,\"ticks\":\"\"}}],\"scatter\":[{\"fillpattern\":{\"fillmode\":\"overlay\",\"size\":10,\"solidity\":0.2},\"type\":\"scatter\"}],\"parcoords\":[{\"type\":\"parcoords\",\"line\":{\"colorbar\":{\"outlinewidth\":0,\"ticks\":\"\"}}}],\"scatterpolargl\":[{\"type\":\"scatterpolargl\",\"marker\":{\"colorbar\":{\"outlinewidth\":0,\"ticks\":\"\"}}}],\"bar\":[{\"error_x\":{\"color\":\"#2a3f5f\"},\"error_y\":{\"color\":\"#2a3f5f\"},\"marker\":{\"line\":{\"color\":\"#E5ECF6\",\"width\":0.5},\"pattern\":{\"fillmode\":\"overlay\",\"size\":10,\"solidity\":0.2}},\"type\":\"bar\"}],\"scattergeo\":[{\"type\":\"scattergeo\",\"marker\":{\"colorbar\":{\"outlinewidth\":0,\"ticks\":\"\"}}}],\"scatterpolar\":[{\"type\":\"scatterpolar\",\"marker\":{\"colorbar\":{\"outlinewidth\":0,\"ticks\":\"\"}}}],\"histogram\":[{\"marker\":{\"pattern\":{\"fillmode\":\"overlay\",\"size\":10,\"solidity\":0.2}},\"type\":\"histogram\"}],\"scattergl\":[{\"type\":\"scattergl\",\"marker\":{\"colorbar\":{\"outlinewidth\":0,\"ticks\":\"\"}}}],\"scatter3d\":[{\"type\":\"scatter3d\",\"line\":{\"colorbar\":{\"outlinewidth\":0,\"ticks\":\"\"}},\"marker\":{\"colorbar\":{\"outlinewidth\":0,\"ticks\":\"\"}}}],\"scattermapbox\":[{\"type\":\"scattermapbox\",\"marker\":{\"colorbar\":{\"outlinewidth\":0,\"ticks\":\"\"}}}],\"scatterternary\":[{\"type\":\"scatterternary\",\"marker\":{\"colorbar\":{\"outlinewidth\":0,\"ticks\":\"\"}}}],\"scattercarpet\":[{\"type\":\"scattercarpet\",\"marker\":{\"colorbar\":{\"outlinewidth\":0,\"ticks\":\"\"}}}],\"carpet\":[{\"aaxis\":{\"endlinecolor\":\"#2a3f5f\",\"gridcolor\":\"white\",\"linecolor\":\"white\",\"minorgridcolor\":\"white\",\"startlinecolor\":\"#2a3f5f\"},\"baxis\":{\"endlinecolor\":\"#2a3f5f\",\"gridcolor\":\"white\",\"linecolor\":\"white\",\"minorgridcolor\":\"white\",\"startlinecolor\":\"#2a3f5f\"},\"type\":\"carpet\"}],\"table\":[{\"cells\":{\"fill\":{\"color\":\"#EBF0F8\"},\"line\":{\"color\":\"white\"}},\"header\":{\"fill\":{\"color\":\"#C8D4E3\"},\"line\":{\"color\":\"white\"}},\"type\":\"table\"}],\"barpolar\":[{\"marker\":{\"line\":{\"color\":\"#E5ECF6\",\"width\":0.5},\"pattern\":{\"fillmode\":\"overlay\",\"size\":10,\"solidity\":0.2}},\"type\":\"barpolar\"}],\"pie\":[{\"automargin\":true,\"type\":\"pie\"}]},\"layout\":{\"autotypenumbers\":\"strict\",\"colorway\":[\"#636efa\",\"#EF553B\",\"#00cc96\",\"#ab63fa\",\"#FFA15A\",\"#19d3f3\",\"#FF6692\",\"#B6E880\",\"#FF97FF\",\"#FECB52\"],\"font\":{\"color\":\"#2a3f5f\"},\"hovermode\":\"closest\",\"hoverlabel\":{\"align\":\"left\"},\"paper_bgcolor\":\"white\",\"plot_bgcolor\":\"#E5ECF6\",\"polar\":{\"bgcolor\":\"#E5ECF6\",\"angularaxis\":{\"gridcolor\":\"white\",\"linecolor\":\"white\",\"ticks\":\"\"},\"radialaxis\":{\"gridcolor\":\"white\",\"linecolor\":\"white\",\"ticks\":\"\"}},\"ternary\":{\"bgcolor\":\"#E5ECF6\",\"aaxis\":{\"gridcolor\":\"white\",\"linecolor\":\"white\",\"ticks\":\"\"},\"baxis\":{\"gridcolor\":\"white\",\"linecolor\":\"white\",\"ticks\":\"\"},\"caxis\":{\"gridcolor\":\"white\",\"linecolor\":\"white\",\"ticks\":\"\"}},\"coloraxis\":{\"colorbar\":{\"outlinewidth\":0,\"ticks\":\"\"}},\"colorscale\":{\"sequential\":[[0.0,\"#0d0887\"],[0.1111111111111111,\"#46039f\"],[0.2222222222222222,\"#7201a8\"],[0.3333333333333333,\"#9c179e\"],[0.4444444444444444,\"#bd3786\"],[0.5555555555555556,\"#d8576b\"],[0.6666666666666666,\"#ed7953\"],[0.7777777777777778,\"#fb9f3a\"],[0.8888888888888888,\"#fdca26\"],[1.0,\"#f0f921\"]],\"sequentialminus\":[[0.0,\"#0d0887\"],[0.1111111111111111,\"#46039f\"],[0.2222222222222222,\"#7201a8\"],[0.3333333333333333,\"#9c179e\"],[0.4444444444444444,\"#bd3786\"],[0.5555555555555556,\"#d8576b\"],[0.6666666666666666,\"#ed7953\"],[0.7777777777777778,\"#fb9f3a\"],[0.8888888888888888,\"#fdca26\"],[1.0,\"#f0f921\"]],\"diverging\":[[0,\"#8e0152\"],[0.1,\"#c51b7d\"],[0.2,\"#de77ae\"],[0.3,\"#f1b6da\"],[0.4,\"#fde0ef\"],[0.5,\"#f7f7f7\"],[0.6,\"#e6f5d0\"],[0.7,\"#b8e186\"],[0.8,\"#7fbc41\"],[0.9,\"#4d9221\"],[1,\"#276419\"]]},\"xaxis\":{\"gridcolor\":\"white\",\"linecolor\":\"white\",\"ticks\":\"\",\"title\":{\"standoff\":15},\"zerolinecolor\":\"white\",\"automargin\":true,\"zerolinewidth\":2},\"yaxis\":{\"gridcolor\":\"white\",\"linecolor\":\"white\",\"ticks\":\"\",\"title\":{\"standoff\":15},\"zerolinecolor\":\"white\",\"automargin\":true,\"zerolinewidth\":2},\"scene\":{\"xaxis\":{\"backgroundcolor\":\"#E5ECF6\",\"gridcolor\":\"white\",\"linecolor\":\"white\",\"showbackground\":true,\"ticks\":\"\",\"zerolinecolor\":\"white\",\"gridwidth\":2},\"yaxis\":{\"backgroundcolor\":\"#E5ECF6\",\"gridcolor\":\"white\",\"linecolor\":\"white\",\"showbackground\":true,\"ticks\":\"\",\"zerolinecolor\":\"white\",\"gridwidth\":2},\"zaxis\":{\"backgroundcolor\":\"#E5ECF6\",\"gridcolor\":\"white\",\"linecolor\":\"white\",\"showbackground\":true,\"ticks\":\"\",\"zerolinecolor\":\"white\",\"gridwidth\":2}},\"shapedefaults\":{\"line\":{\"color\":\"#2a3f5f\"}},\"annotationdefaults\":{\"arrowcolor\":\"#2a3f5f\",\"arrowhead\":0,\"arrowwidth\":1},\"geo\":{\"bgcolor\":\"white\",\"landcolor\":\"#E5ECF6\",\"subunitcolor\":\"white\",\"showland\":true,\"showlakes\":true,\"lakecolor\":\"white\"},\"title\":{\"x\":0.05},\"mapbox\":{\"style\":\"light\"}}},\"xaxis\":{\"anchor\":\"y\",\"domain\":[0.0,1.0],\"title\":{\"text\":\"x\"}},\"yaxis\":{\"anchor\":\"x\",\"domain\":[0.0,1.0],\"title\":{\"text\":\"y\"}},\"legend\":{\"title\":{\"text\":\"Label\"},\"tracegroupgap\":0},\"margin\":{\"t\":60}},                        {\"responsive\": true}                    ).then(function(){\n",
       "                            \n",
       "var gd = document.getElementById('10bb6050-18ca-48c9-bd7f-eb62e4bb386d');\n",
       "var x = new MutationObserver(function (mutations, observer) {{\n",
       "        var display = window.getComputedStyle(gd).display;\n",
       "        if (!display || display === 'none') {{\n",
       "            console.log([gd, 'removed!']);\n",
       "            Plotly.purge(gd);\n",
       "            observer.disconnect();\n",
       "        }}\n",
       "}});\n",
       "\n",
       "// Listen for the removal of the full notebook cells\n",
       "var notebookContainer = gd.closest('#notebook-container');\n",
       "if (notebookContainer) {{\n",
       "    x.observe(notebookContainer, {childList: true});\n",
       "}}\n",
       "\n",
       "// Listen for the clearing of the current output cell\n",
       "var outputEl = gd.closest('.output');\n",
       "if (outputEl) {{\n",
       "    x.observe(outputEl, {childList: true});\n",
       "}}\n",
       "\n",
       "                        })                };                });            </script>        </div>"
      ]
     },
     "metadata": {},
     "output_type": "display_data"
    }
   ],
   "source": [
    "tsne = sklearn.manifold.TSNE()\n",
    "data_points2d = tsne.fit_transform(df)\n",
    "\n",
    "labels_series = pd.Series(labels, name=\"Label\").replace(range(len(CLASS_NAMES)), CLASS_NAMES) # type: ignore\n",
    "\n",
    "data_points2d_df = pd.DataFrame(data_points2d, columns=[\"x\", \"y\"])\n",
    "visdf = pd.concat([data_points2d_df, labels_series], axis=1)\n",
    "\n",
    "fig = px.scatter(visdf, x=\"x\", y=\"y\", color=\"Label\")\n",
    "fig.show()"
   ]
  },
  {
   "cell_type": "code",
   "execution_count": 9,
   "metadata": {},
   "outputs": [
    {
     "data": {
      "text/plain": [
       "<_TensorSliceDataset element_spec=(TensorSpec(shape=(512,), dtype=tf.float64, name=None), TensorSpec(shape=(), dtype=tf.float64, name=None))>"
      ]
     },
     "execution_count": 9,
     "metadata": {},
     "output_type": "execute_result"
    }
   ],
   "source": [
    "dataset = tf.data.Dataset.from_tensor_slices((df, labels))\n",
    "train_dataset, test_dataset = keras.utils.split_dataset(dataset, shuffle=True, seed=42, left_size=0.7)\n",
    "train_dataset, validation_dataset = keras.utils.split_dataset(train_dataset, shuffle=True, seed=42, left_size=0.7)\n",
    "\n",
    "train_dataset: tf.data.Dataset = train_dataset.shuffle(100).batch(16)\n",
    "test_dataset: tf.data.Dataset = test_dataset.batch(16)\n",
    "validation_dataset: tf.data.Dataset = validation_dataset.batch(16)\n",
    "\n",
    "dataset"
   ]
  },
  {
   "cell_type": "code",
   "execution_count": 10,
   "metadata": {},
   "outputs": [
    {
     "data": {
      "text/html": [
       "<pre style=\"white-space:pre;overflow-x:auto;line-height:normal;font-family:Menlo,'DejaVu Sans Mono',consolas,'Courier New',monospace\"><span style=\"font-weight: bold\">Model: \"sequential\"</span>\n",
       "</pre>\n"
      ],
      "text/plain": [
       "\u001b[1mModel: \"sequential\"\u001b[0m\n"
      ]
     },
     "metadata": {},
     "output_type": "display_data"
    },
    {
     "data": {
      "text/html": [
       "<pre style=\"white-space:pre;overflow-x:auto;line-height:normal;font-family:Menlo,'DejaVu Sans Mono',consolas,'Courier New',monospace\">┏━━━━━━━━━━━━━━━━━━━━━━━━━━━━━━━━━┳━━━━━━━━━━━━━━━━━━━━━━━━┳━━━━━━━━━━━━━━━┓\n",
       "┃<span style=\"font-weight: bold\"> Layer (type)                    </span>┃<span style=\"font-weight: bold\"> Output Shape           </span>┃<span style=\"font-weight: bold\">       Param # </span>┃\n",
       "┡━━━━━━━━━━━━━━━━━━━━━━━━━━━━━━━━━╇━━━━━━━━━━━━━━━━━━━━━━━━╇━━━━━━━━━━━━━━━┩\n",
       "│ dense (<span style=\"color: #0087ff; text-decoration-color: #0087ff\">Dense</span>)                   │ (<span style=\"color: #00d7ff; text-decoration-color: #00d7ff\">None</span>, <span style=\"color: #00af00; text-decoration-color: #00af00\">256</span>)            │       <span style=\"color: #00af00; text-decoration-color: #00af00\">131,328</span> │\n",
       "├─────────────────────────────────┼────────────────────────┼───────────────┤\n",
       "│ dense_1 (<span style=\"color: #0087ff; text-decoration-color: #0087ff\">Dense</span>)                 │ (<span style=\"color: #00d7ff; text-decoration-color: #00d7ff\">None</span>, <span style=\"color: #00af00; text-decoration-color: #00af00\">256</span>)            │        <span style=\"color: #00af00; text-decoration-color: #00af00\">65,792</span> │\n",
       "├─────────────────────────────────┼────────────────────────┼───────────────┤\n",
       "│ dense_2 (<span style=\"color: #0087ff; text-decoration-color: #0087ff\">Dense</span>)                 │ (<span style=\"color: #00d7ff; text-decoration-color: #00d7ff\">None</span>, <span style=\"color: #00af00; text-decoration-color: #00af00\">6</span>)              │         <span style=\"color: #00af00; text-decoration-color: #00af00\">1,542</span> │\n",
       "└─────────────────────────────────┴────────────────────────┴───────────────┘\n",
       "</pre>\n"
      ],
      "text/plain": [
       "┏━━━━━━━━━━━━━━━━━━━━━━━━━━━━━━━━━┳━━━━━━━━━━━━━━━━━━━━━━━━┳━━━━━━━━━━━━━━━┓\n",
       "┃\u001b[1m \u001b[0m\u001b[1mLayer (type)                   \u001b[0m\u001b[1m \u001b[0m┃\u001b[1m \u001b[0m\u001b[1mOutput Shape          \u001b[0m\u001b[1m \u001b[0m┃\u001b[1m \u001b[0m\u001b[1m      Param #\u001b[0m\u001b[1m \u001b[0m┃\n",
       "┡━━━━━━━━━━━━━━━━━━━━━━━━━━━━━━━━━╇━━━━━━━━━━━━━━━━━━━━━━━━╇━━━━━━━━━━━━━━━┩\n",
       "│ dense (\u001b[38;5;33mDense\u001b[0m)                   │ (\u001b[38;5;45mNone\u001b[0m, \u001b[38;5;34m256\u001b[0m)            │       \u001b[38;5;34m131,328\u001b[0m │\n",
       "├─────────────────────────────────┼────────────────────────┼───────────────┤\n",
       "│ dense_1 (\u001b[38;5;33mDense\u001b[0m)                 │ (\u001b[38;5;45mNone\u001b[0m, \u001b[38;5;34m256\u001b[0m)            │        \u001b[38;5;34m65,792\u001b[0m │\n",
       "├─────────────────────────────────┼────────────────────────┼───────────────┤\n",
       "│ dense_2 (\u001b[38;5;33mDense\u001b[0m)                 │ (\u001b[38;5;45mNone\u001b[0m, \u001b[38;5;34m6\u001b[0m)              │         \u001b[38;5;34m1,542\u001b[0m │\n",
       "└─────────────────────────────────┴────────────────────────┴───────────────┘\n"
      ]
     },
     "metadata": {},
     "output_type": "display_data"
    },
    {
     "data": {
      "text/html": [
       "<pre style=\"white-space:pre;overflow-x:auto;line-height:normal;font-family:Menlo,'DejaVu Sans Mono',consolas,'Courier New',monospace\"><span style=\"font-weight: bold\"> Total params: </span><span style=\"color: #00af00; text-decoration-color: #00af00\">198,662</span> (776.02 KB)\n",
       "</pre>\n"
      ],
      "text/plain": [
       "\u001b[1m Total params: \u001b[0m\u001b[38;5;34m198,662\u001b[0m (776.02 KB)\n"
      ]
     },
     "metadata": {},
     "output_type": "display_data"
    },
    {
     "data": {
      "text/html": [
       "<pre style=\"white-space:pre;overflow-x:auto;line-height:normal;font-family:Menlo,'DejaVu Sans Mono',consolas,'Courier New',monospace\"><span style=\"font-weight: bold\"> Trainable params: </span><span style=\"color: #00af00; text-decoration-color: #00af00\">198,662</span> (776.02 KB)\n",
       "</pre>\n"
      ],
      "text/plain": [
       "\u001b[1m Trainable params: \u001b[0m\u001b[38;5;34m198,662\u001b[0m (776.02 KB)\n"
      ]
     },
     "metadata": {},
     "output_type": "display_data"
    },
    {
     "data": {
      "text/html": [
       "<pre style=\"white-space:pre;overflow-x:auto;line-height:normal;font-family:Menlo,'DejaVu Sans Mono',consolas,'Courier New',monospace\"><span style=\"font-weight: bold\"> Non-trainable params: </span><span style=\"color: #00af00; text-decoration-color: #00af00\">0</span> (0.00 B)\n",
       "</pre>\n"
      ],
      "text/plain": [
       "\u001b[1m Non-trainable params: \u001b[0m\u001b[38;5;34m0\u001b[0m (0.00 B)\n"
      ]
     },
     "metadata": {},
     "output_type": "display_data"
    }
   ],
   "source": [
    "model = keras.Sequential([\n",
    "  keras.layers.Input(shape=dataset.element_spec[0].shape),\n",
    "  keras.layers.Dense(256, activation=\"relu\"),\n",
    "  keras.layers.Dense(256, activation=\"relu\"),\n",
    "  keras.layers.Dense(6, activation=\"softmax\"),\n",
    "])\n",
    "\n",
    "model.compile(\n",
    "  optimizer=keras.optimizers.Adam(learning_rate=0.001), # type: ignore\n",
    "  loss=keras.losses.SparseCategoricalCrossentropy(),\n",
    "  metrics=[\"accuracy\"],\n",
    ")\n",
    "\n",
    "model.summary()"
   ]
  },
  {
   "cell_type": "code",
   "execution_count": 11,
   "metadata": {},
   "outputs": [
    {
     "name": "stdout",
     "output_type": "stream",
     "text": [
      "Epoch 1/40\n"
     ]
    },
    {
     "name": "stdout",
     "output_type": "stream",
     "text": [
      "\u001b[1m34/34\u001b[0m \u001b[32m━━━━━━━━━━━━━━━━━━━━\u001b[0m\u001b[37m\u001b[0m \u001b[1m5s\u001b[0m 12ms/step - accuracy: 0.2335 - loss: 1.7596 - val_accuracy: 0.2775 - val_loss: 1.6659\n",
      "Epoch 2/40\n",
      "\u001b[1m34/34\u001b[0m \u001b[32m━━━━━━━━━━━━━━━━━━━━\u001b[0m\u001b[37m\u001b[0m \u001b[1m0s\u001b[0m 5ms/step - accuracy: 0.3752 - loss: 1.5651 - val_accuracy: 0.4581 - val_loss: 1.4953\n",
      "Epoch 3/40\n",
      "\u001b[1m34/34\u001b[0m \u001b[32m━━━━━━━━━━━━━━━━━━━━\u001b[0m\u001b[37m\u001b[0m \u001b[1m0s\u001b[0m 6ms/step - accuracy: 0.5234 - loss: 1.3838 - val_accuracy: 0.5330 - val_loss: 1.3126\n",
      "Epoch 4/40\n",
      "\u001b[1m34/34\u001b[0m \u001b[32m━━━━━━━━━━━━━━━━━━━━\u001b[0m\u001b[37m\u001b[0m \u001b[1m0s\u001b[0m 6ms/step - accuracy: 0.6180 - loss: 1.1549 - val_accuracy: 0.5727 - val_loss: 1.1694\n",
      "Epoch 5/40\n",
      "\u001b[1m34/34\u001b[0m \u001b[32m━━━━━━━━━━━━━━━━━━━━\u001b[0m\u001b[37m\u001b[0m \u001b[1m0s\u001b[0m 7ms/step - accuracy: 0.6226 - loss: 1.0164 - val_accuracy: 0.6256 - val_loss: 1.0749\n",
      "Epoch 6/40\n",
      "\u001b[1m34/34\u001b[0m \u001b[32m━━━━━━━━━━━━━━━━━━━━\u001b[0m\u001b[37m\u001b[0m \u001b[1m0s\u001b[0m 6ms/step - accuracy: 0.7110 - loss: 0.8361 - val_accuracy: 0.6476 - val_loss: 1.0343\n",
      "Epoch 7/40\n",
      "\u001b[1m34/34\u001b[0m \u001b[32m━━━━━━━━━━━━━━━━━━━━\u001b[0m\u001b[37m\u001b[0m \u001b[1m0s\u001b[0m 5ms/step - accuracy: 0.7909 - loss: 0.6960 - val_accuracy: 0.6564 - val_loss: 0.9784\n",
      "Epoch 8/40\n",
      "\u001b[1m34/34\u001b[0m \u001b[32m━━━━━━━━━━━━━━━━━━━━\u001b[0m\u001b[37m\u001b[0m \u001b[1m0s\u001b[0m 11ms/step - accuracy: 0.8350 - loss: 0.5497 - val_accuracy: 0.6344 - val_loss: 1.0162\n",
      "Epoch 9/40\n",
      "\u001b[1m34/34\u001b[0m \u001b[32m━━━━━━━━━━━━━━━━━━━━\u001b[0m\u001b[37m\u001b[0m \u001b[1m0s\u001b[0m 13ms/step - accuracy: 0.8300 - loss: 0.5151 - val_accuracy: 0.6784 - val_loss: 0.8876\n",
      "Epoch 10/40\n",
      "\u001b[1m34/34\u001b[0m \u001b[32m━━━━━━━━━━━━━━━━━━━━\u001b[0m\u001b[37m\u001b[0m \u001b[1m0s\u001b[0m 12ms/step - accuracy: 0.8679 - loss: 0.4197 - val_accuracy: 0.6784 - val_loss: 0.8814\n",
      "Epoch 11/40\n",
      "\u001b[1m34/34\u001b[0m \u001b[32m━━━━━━━━━━━━━━━━━━━━\u001b[0m\u001b[37m\u001b[0m \u001b[1m1s\u001b[0m 17ms/step - accuracy: 0.8568 - loss: 0.4137 - val_accuracy: 0.6432 - val_loss: 1.0887\n",
      "Epoch 12/40\n",
      "\u001b[1m34/34\u001b[0m \u001b[32m━━━━━━━━━━━━━━━━━━━━\u001b[0m\u001b[37m\u001b[0m \u001b[1m0s\u001b[0m 12ms/step - accuracy: 0.8222 - loss: 0.4596 - val_accuracy: 0.6608 - val_loss: 1.0688\n",
      "Epoch 13/40\n",
      "\u001b[1m34/34\u001b[0m \u001b[32m━━━━━━━━━━━━━━━━━━━━\u001b[0m\u001b[37m\u001b[0m \u001b[1m1s\u001b[0m 14ms/step - accuracy: 0.8921 - loss: 0.3518 - val_accuracy: 0.6608 - val_loss: 1.0955\n",
      "Epoch 14/40\n",
      "\u001b[1m34/34\u001b[0m \u001b[32m━━━━━━━━━━━━━━━━━━━━\u001b[0m\u001b[37m\u001b[0m \u001b[1m0s\u001b[0m 14ms/step - accuracy: 0.8746 - loss: 0.3314 - val_accuracy: 0.6872 - val_loss: 0.8768\n",
      "Epoch 15/40\n",
      "\u001b[1m34/34\u001b[0m \u001b[32m━━━━━━━━━━━━━━━━━━━━\u001b[0m\u001b[37m\u001b[0m \u001b[1m0s\u001b[0m 8ms/step - accuracy: 0.9197 - loss: 0.2325 - val_accuracy: 0.6784 - val_loss: 0.9640\n",
      "Epoch 16/40\n",
      "\u001b[1m34/34\u001b[0m \u001b[32m━━━━━━━━━━━━━━━━━━━━\u001b[0m\u001b[37m\u001b[0m \u001b[1m0s\u001b[0m 7ms/step - accuracy: 0.9429 - loss: 0.2106 - val_accuracy: 0.6916 - val_loss: 0.9691\n",
      "Epoch 17/40\n",
      "\u001b[1m34/34\u001b[0m \u001b[32m━━━━━━━━━━━━━━━━━━━━\u001b[0m\u001b[37m\u001b[0m \u001b[1m0s\u001b[0m 9ms/step - accuracy: 0.9445 - loss: 0.2094 - val_accuracy: 0.7048 - val_loss: 1.0079\n",
      "Epoch 18/40\n",
      "\u001b[1m34/34\u001b[0m \u001b[32m━━━━━━━━━━━━━━━━━━━━\u001b[0m\u001b[37m\u001b[0m \u001b[1m0s\u001b[0m 13ms/step - accuracy: 0.9638 - loss: 0.1635 - val_accuracy: 0.7137 - val_loss: 0.9702\n",
      "Epoch 19/40\n",
      "\u001b[1m34/34\u001b[0m \u001b[32m━━━━━━━━━━━━━━━━━━━━\u001b[0m\u001b[37m\u001b[0m \u001b[1m0s\u001b[0m 9ms/step - accuracy: 0.9721 - loss: 0.1316 - val_accuracy: 0.7048 - val_loss: 0.9370\n",
      "Epoch 20/40\n",
      "\u001b[1m34/34\u001b[0m \u001b[32m━━━━━━━━━━━━━━━━━━━━\u001b[0m\u001b[37m\u001b[0m \u001b[1m0s\u001b[0m 6ms/step - accuracy: 0.9643 - loss: 0.1324 - val_accuracy: 0.7357 - val_loss: 1.0637\n",
      "Epoch 21/40\n",
      "\u001b[1m34/34\u001b[0m \u001b[32m━━━━━━━━━━━━━━━━━━━━\u001b[0m\u001b[37m\u001b[0m \u001b[1m0s\u001b[0m 10ms/step - accuracy: 0.9540 - loss: 0.1384 - val_accuracy: 0.7709 - val_loss: 0.9087\n",
      "Epoch 22/40\n",
      "\u001b[1m34/34\u001b[0m \u001b[32m━━━━━━━━━━━━━━━━━━━━\u001b[0m\u001b[37m\u001b[0m \u001b[1m1s\u001b[0m 12ms/step - accuracy: 0.9784 - loss: 0.0871 - val_accuracy: 0.7401 - val_loss: 0.9788\n",
      "Epoch 23/40\n",
      "\u001b[1m34/34\u001b[0m \u001b[32m━━━━━━━━━━━━━━━━━━━━\u001b[0m\u001b[37m\u001b[0m \u001b[1m0s\u001b[0m 10ms/step - accuracy: 0.9862 - loss: 0.0780 - val_accuracy: 0.7445 - val_loss: 0.9632\n",
      "Epoch 24/40\n",
      "\u001b[1m34/34\u001b[0m \u001b[32m━━━━━━━━━━━━━━━━━━━━\u001b[0m\u001b[37m\u001b[0m \u001b[1m0s\u001b[0m 7ms/step - accuracy: 0.9927 - loss: 0.0619 - val_accuracy: 0.7489 - val_loss: 0.9683\n",
      "Epoch 25/40\n",
      "\u001b[1m34/34\u001b[0m \u001b[32m━━━━━━━━━━━━━━━━━━━━\u001b[0m\u001b[37m\u001b[0m \u001b[1m0s\u001b[0m 11ms/step - accuracy: 0.9822 - loss: 0.0620 - val_accuracy: 0.7665 - val_loss: 1.0103\n",
      "Epoch 26/40\n",
      "\u001b[1m34/34\u001b[0m \u001b[32m━━━━━━━━━━━━━━━━━━━━\u001b[0m\u001b[37m\u001b[0m \u001b[1m0s\u001b[0m 8ms/step - accuracy: 0.9947 - loss: 0.0439 - val_accuracy: 0.7489 - val_loss: 0.9795\n",
      "Epoch 27/40\n",
      "\u001b[1m34/34\u001b[0m \u001b[32m━━━━━━━━━━━━━━━━━━━━\u001b[0m\u001b[37m\u001b[0m \u001b[1m1s\u001b[0m 15ms/step - accuracy: 0.9984 - loss: 0.0426 - val_accuracy: 0.7269 - val_loss: 1.0135\n",
      "Epoch 28/40\n",
      "\u001b[1m34/34\u001b[0m \u001b[32m━━━━━━━━━━━━━━━━━━━━\u001b[0m\u001b[37m\u001b[0m \u001b[1m0s\u001b[0m 14ms/step - accuracy: 0.9914 - loss: 0.0564 - val_accuracy: 0.7533 - val_loss: 1.0336\n",
      "Epoch 29/40\n",
      "\u001b[1m34/34\u001b[0m \u001b[32m━━━━━━━━━━━━━━━━━━━━\u001b[0m\u001b[37m\u001b[0m \u001b[1m0s\u001b[0m 9ms/step - accuracy: 0.9572 - loss: 0.1523 - val_accuracy: 0.7445 - val_loss: 0.9332\n",
      "Epoch 30/40\n",
      "\u001b[1m34/34\u001b[0m \u001b[32m━━━━━━━━━━━━━━━━━━━━\u001b[0m\u001b[37m\u001b[0m \u001b[1m0s\u001b[0m 10ms/step - accuracy: 0.9700 - loss: 0.1180 - val_accuracy: 0.7357 - val_loss: 1.1226\n",
      "Epoch 31/40\n",
      "\u001b[1m34/34\u001b[0m \u001b[32m━━━━━━━━━━━━━━━━━━━━\u001b[0m\u001b[37m\u001b[0m \u001b[1m0s\u001b[0m 6ms/step - accuracy: 0.9906 - loss: 0.0635 - val_accuracy: 0.7533 - val_loss: 1.0617\n",
      "Epoch 32/40\n",
      "\u001b[1m34/34\u001b[0m \u001b[32m━━━━━━━━━━━━━━━━━━━━\u001b[0m\u001b[37m\u001b[0m \u001b[1m0s\u001b[0m 6ms/step - accuracy: 0.9961 - loss: 0.0368 - val_accuracy: 0.7797 - val_loss: 1.0985\n",
      "Epoch 33/40\n",
      "\u001b[1m34/34\u001b[0m \u001b[32m━━━━━━━━━━━━━━━━━━━━\u001b[0m\u001b[37m\u001b[0m \u001b[1m0s\u001b[0m 7ms/step - accuracy: 1.0000 - loss: 0.0243 - val_accuracy: 0.7665 - val_loss: 1.0526\n",
      "Epoch 34/40\n",
      "\u001b[1m34/34\u001b[0m \u001b[32m━━━━━━━━━━━━━━━━━━━━\u001b[0m\u001b[37m\u001b[0m \u001b[1m0s\u001b[0m 6ms/step - accuracy: 1.0000 - loss: 0.0194 - val_accuracy: 0.7621 - val_loss: 1.0426\n",
      "Epoch 35/40\n",
      "\u001b[1m34/34\u001b[0m \u001b[32m━━━━━━━━━━━━━━━━━━━━\u001b[0m\u001b[37m\u001b[0m \u001b[1m0s\u001b[0m 7ms/step - accuracy: 1.0000 - loss: 0.0140 - val_accuracy: 0.7577 - val_loss: 1.0506\n",
      "Epoch 36/40\n",
      "\u001b[1m34/34\u001b[0m \u001b[32m━━━━━━━━━━━━━━━━━━━━\u001b[0m\u001b[37m\u001b[0m \u001b[1m0s\u001b[0m 6ms/step - accuracy: 1.0000 - loss: 0.0182 - val_accuracy: 0.7665 - val_loss: 1.0629\n",
      "Epoch 37/40\n",
      "\u001b[1m34/34\u001b[0m \u001b[32m━━━━━━━━━━━━━━━━━━━━\u001b[0m\u001b[37m\u001b[0m \u001b[1m0s\u001b[0m 5ms/step - accuracy: 1.0000 - loss: 0.0118 - val_accuracy: 0.7621 - val_loss: 1.0775\n",
      "Epoch 38/40\n",
      "\u001b[1m34/34\u001b[0m \u001b[32m━━━━━━━━━━━━━━━━━━━━\u001b[0m\u001b[37m\u001b[0m \u001b[1m0s\u001b[0m 6ms/step - accuracy: 1.0000 - loss: 0.0113 - val_accuracy: 0.7665 - val_loss: 1.0913\n",
      "Epoch 39/40\n",
      "\u001b[1m34/34\u001b[0m \u001b[32m━━━━━━━━━━━━━━━━━━━━\u001b[0m\u001b[37m\u001b[0m \u001b[1m0s\u001b[0m 8ms/step - accuracy: 1.0000 - loss: 0.0118 - val_accuracy: 0.7621 - val_loss: 1.0948\n",
      "Epoch 40/40\n",
      "\u001b[1m34/34\u001b[0m \u001b[32m━━━━━━━━━━━━━━━━━━━━\u001b[0m\u001b[37m\u001b[0m \u001b[1m0s\u001b[0m 7ms/step - accuracy: 1.0000 - loss: 0.0100 - val_accuracy: 0.7621 - val_loss: 1.1348\n"
     ]
    }
   ],
   "source": [
    "history = model.fit(\n",
    "  train_dataset, epochs=40,\n",
    "  validation_data=validation_dataset,\n",
    ")"
   ]
  },
  {
   "cell_type": "code",
   "execution_count": 79,
   "metadata": {},
   "outputs": [
    {
     "name": "stdout",
     "output_type": "stream",
     "text": [
      "\u001b[1m21/21\u001b[0m \u001b[32m━━━━━━━━━━━━━━━━━━━━\u001b[0m\u001b[37m\u001b[0m \u001b[1m0s\u001b[0m 9ms/step\n"
     ]
    },
    {
     "data": {
      "application/vnd.plotly.v1+json": {
       "config": {
        "plotlyServerURL": "https://plot.ly"
       },
       "data": [
        {
         "coloraxis": "coloraxis",
         "hovertemplate": "x: %{x}<br>y: %{y}<br>color: %{z}<extra></extra>",
         "name": "0",
         "type": "heatmap",
         "x": [
          "angry",
          "disgusted",
          "happy",
          "neutral",
          "sad",
          "surprised"
         ],
         "xaxis": "x",
         "y": [
          "angry",
          "disgusted",
          "happy",
          "neutral",
          "sad",
          "surprised"
         ],
         "yaxis": "y",
         "z": [
          [
           0.6521739130434783,
           0.10869565217391304,
           0.06521739130434782,
           0.043478260869565216,
           0.06521739130434782,
           0.06521739130434782
          ],
          [
           0.018518518518518517,
           0.7962962962962963,
           0.05555555555555555,
           0.018518518518518517,
           0.09259259259259259,
           0.018518518518518517
          ],
          [
           0.014705882352941176,
           0.029411764705882353,
           0.8529411764705882,
           0.04411764705882353,
           0,
           0.058823529411764705
          ],
          [
           0.0425531914893617,
           0.02127659574468085,
           0.10638297872340426,
           0.7021276595744681,
           0.0425531914893617,
           0.0851063829787234
          ],
          [
           0.14814814814814814,
           0.05555555555555555,
           0.1111111111111111,
           0.018518518518518517,
           0.6481481481481481,
           0.018518518518518517
          ],
          [
           0.05357142857142857,
           0,
           0.05357142857142857,
           0.14285714285714285,
           0.017857142857142856,
           0.7321428571428571
          ]
         ]
        }
       ],
       "layout": {
        "coloraxis": {
         "cmax": 1,
         "cmin": 0,
         "colorscale": [
          [
           0,
           "#0d0887"
          ],
          [
           0.1111111111111111,
           "#46039f"
          ],
          [
           0.2222222222222222,
           "#7201a8"
          ],
          [
           0.3333333333333333,
           "#9c179e"
          ],
          [
           0.4444444444444444,
           "#bd3786"
          ],
          [
           0.5555555555555556,
           "#d8576b"
          ],
          [
           0.6666666666666666,
           "#ed7953"
          ],
          [
           0.7777777777777778,
           "#fb9f3a"
          ],
          [
           0.8888888888888888,
           "#fdca26"
          ],
          [
           1,
           "#f0f921"
          ]
         ]
        },
        "margin": {
         "t": 60
        },
        "template": {
         "data": {
          "bar": [
           {
            "error_x": {
             "color": "#2a3f5f"
            },
            "error_y": {
             "color": "#2a3f5f"
            },
            "marker": {
             "line": {
              "color": "#E5ECF6",
              "width": 0.5
             },
             "pattern": {
              "fillmode": "overlay",
              "size": 10,
              "solidity": 0.2
             }
            },
            "type": "bar"
           }
          ],
          "barpolar": [
           {
            "marker": {
             "line": {
              "color": "#E5ECF6",
              "width": 0.5
             },
             "pattern": {
              "fillmode": "overlay",
              "size": 10,
              "solidity": 0.2
             }
            },
            "type": "barpolar"
           }
          ],
          "carpet": [
           {
            "aaxis": {
             "endlinecolor": "#2a3f5f",
             "gridcolor": "white",
             "linecolor": "white",
             "minorgridcolor": "white",
             "startlinecolor": "#2a3f5f"
            },
            "baxis": {
             "endlinecolor": "#2a3f5f",
             "gridcolor": "white",
             "linecolor": "white",
             "minorgridcolor": "white",
             "startlinecolor": "#2a3f5f"
            },
            "type": "carpet"
           }
          ],
          "choropleth": [
           {
            "colorbar": {
             "outlinewidth": 0,
             "ticks": ""
            },
            "type": "choropleth"
           }
          ],
          "contour": [
           {
            "colorbar": {
             "outlinewidth": 0,
             "ticks": ""
            },
            "colorscale": [
             [
              0,
              "#0d0887"
             ],
             [
              0.1111111111111111,
              "#46039f"
             ],
             [
              0.2222222222222222,
              "#7201a8"
             ],
             [
              0.3333333333333333,
              "#9c179e"
             ],
             [
              0.4444444444444444,
              "#bd3786"
             ],
             [
              0.5555555555555556,
              "#d8576b"
             ],
             [
              0.6666666666666666,
              "#ed7953"
             ],
             [
              0.7777777777777778,
              "#fb9f3a"
             ],
             [
              0.8888888888888888,
              "#fdca26"
             ],
             [
              1,
              "#f0f921"
             ]
            ],
            "type": "contour"
           }
          ],
          "contourcarpet": [
           {
            "colorbar": {
             "outlinewidth": 0,
             "ticks": ""
            },
            "type": "contourcarpet"
           }
          ],
          "heatmap": [
           {
            "colorbar": {
             "outlinewidth": 0,
             "ticks": ""
            },
            "colorscale": [
             [
              0,
              "#0d0887"
             ],
             [
              0.1111111111111111,
              "#46039f"
             ],
             [
              0.2222222222222222,
              "#7201a8"
             ],
             [
              0.3333333333333333,
              "#9c179e"
             ],
             [
              0.4444444444444444,
              "#bd3786"
             ],
             [
              0.5555555555555556,
              "#d8576b"
             ],
             [
              0.6666666666666666,
              "#ed7953"
             ],
             [
              0.7777777777777778,
              "#fb9f3a"
             ],
             [
              0.8888888888888888,
              "#fdca26"
             ],
             [
              1,
              "#f0f921"
             ]
            ],
            "type": "heatmap"
           }
          ],
          "heatmapgl": [
           {
            "colorbar": {
             "outlinewidth": 0,
             "ticks": ""
            },
            "colorscale": [
             [
              0,
              "#0d0887"
             ],
             [
              0.1111111111111111,
              "#46039f"
             ],
             [
              0.2222222222222222,
              "#7201a8"
             ],
             [
              0.3333333333333333,
              "#9c179e"
             ],
             [
              0.4444444444444444,
              "#bd3786"
             ],
             [
              0.5555555555555556,
              "#d8576b"
             ],
             [
              0.6666666666666666,
              "#ed7953"
             ],
             [
              0.7777777777777778,
              "#fb9f3a"
             ],
             [
              0.8888888888888888,
              "#fdca26"
             ],
             [
              1,
              "#f0f921"
             ]
            ],
            "type": "heatmapgl"
           }
          ],
          "histogram": [
           {
            "marker": {
             "pattern": {
              "fillmode": "overlay",
              "size": 10,
              "solidity": 0.2
             }
            },
            "type": "histogram"
           }
          ],
          "histogram2d": [
           {
            "colorbar": {
             "outlinewidth": 0,
             "ticks": ""
            },
            "colorscale": [
             [
              0,
              "#0d0887"
             ],
             [
              0.1111111111111111,
              "#46039f"
             ],
             [
              0.2222222222222222,
              "#7201a8"
             ],
             [
              0.3333333333333333,
              "#9c179e"
             ],
             [
              0.4444444444444444,
              "#bd3786"
             ],
             [
              0.5555555555555556,
              "#d8576b"
             ],
             [
              0.6666666666666666,
              "#ed7953"
             ],
             [
              0.7777777777777778,
              "#fb9f3a"
             ],
             [
              0.8888888888888888,
              "#fdca26"
             ],
             [
              1,
              "#f0f921"
             ]
            ],
            "type": "histogram2d"
           }
          ],
          "histogram2dcontour": [
           {
            "colorbar": {
             "outlinewidth": 0,
             "ticks": ""
            },
            "colorscale": [
             [
              0,
              "#0d0887"
             ],
             [
              0.1111111111111111,
              "#46039f"
             ],
             [
              0.2222222222222222,
              "#7201a8"
             ],
             [
              0.3333333333333333,
              "#9c179e"
             ],
             [
              0.4444444444444444,
              "#bd3786"
             ],
             [
              0.5555555555555556,
              "#d8576b"
             ],
             [
              0.6666666666666666,
              "#ed7953"
             ],
             [
              0.7777777777777778,
              "#fb9f3a"
             ],
             [
              0.8888888888888888,
              "#fdca26"
             ],
             [
              1,
              "#f0f921"
             ]
            ],
            "type": "histogram2dcontour"
           }
          ],
          "mesh3d": [
           {
            "colorbar": {
             "outlinewidth": 0,
             "ticks": ""
            },
            "type": "mesh3d"
           }
          ],
          "parcoords": [
           {
            "line": {
             "colorbar": {
              "outlinewidth": 0,
              "ticks": ""
             }
            },
            "type": "parcoords"
           }
          ],
          "pie": [
           {
            "automargin": true,
            "type": "pie"
           }
          ],
          "scatter": [
           {
            "fillpattern": {
             "fillmode": "overlay",
             "size": 10,
             "solidity": 0.2
            },
            "type": "scatter"
           }
          ],
          "scatter3d": [
           {
            "line": {
             "colorbar": {
              "outlinewidth": 0,
              "ticks": ""
             }
            },
            "marker": {
             "colorbar": {
              "outlinewidth": 0,
              "ticks": ""
             }
            },
            "type": "scatter3d"
           }
          ],
          "scattercarpet": [
           {
            "marker": {
             "colorbar": {
              "outlinewidth": 0,
              "ticks": ""
             }
            },
            "type": "scattercarpet"
           }
          ],
          "scattergeo": [
           {
            "marker": {
             "colorbar": {
              "outlinewidth": 0,
              "ticks": ""
             }
            },
            "type": "scattergeo"
           }
          ],
          "scattergl": [
           {
            "marker": {
             "colorbar": {
              "outlinewidth": 0,
              "ticks": ""
             }
            },
            "type": "scattergl"
           }
          ],
          "scattermapbox": [
           {
            "marker": {
             "colorbar": {
              "outlinewidth": 0,
              "ticks": ""
             }
            },
            "type": "scattermapbox"
           }
          ],
          "scatterpolar": [
           {
            "marker": {
             "colorbar": {
              "outlinewidth": 0,
              "ticks": ""
             }
            },
            "type": "scatterpolar"
           }
          ],
          "scatterpolargl": [
           {
            "marker": {
             "colorbar": {
              "outlinewidth": 0,
              "ticks": ""
             }
            },
            "type": "scatterpolargl"
           }
          ],
          "scatterternary": [
           {
            "marker": {
             "colorbar": {
              "outlinewidth": 0,
              "ticks": ""
             }
            },
            "type": "scatterternary"
           }
          ],
          "surface": [
           {
            "colorbar": {
             "outlinewidth": 0,
             "ticks": ""
            },
            "colorscale": [
             [
              0,
              "#0d0887"
             ],
             [
              0.1111111111111111,
              "#46039f"
             ],
             [
              0.2222222222222222,
              "#7201a8"
             ],
             [
              0.3333333333333333,
              "#9c179e"
             ],
             [
              0.4444444444444444,
              "#bd3786"
             ],
             [
              0.5555555555555556,
              "#d8576b"
             ],
             [
              0.6666666666666666,
              "#ed7953"
             ],
             [
              0.7777777777777778,
              "#fb9f3a"
             ],
             [
              0.8888888888888888,
              "#fdca26"
             ],
             [
              1,
              "#f0f921"
             ]
            ],
            "type": "surface"
           }
          ],
          "table": [
           {
            "cells": {
             "fill": {
              "color": "#EBF0F8"
             },
             "line": {
              "color": "white"
             }
            },
            "header": {
             "fill": {
              "color": "#C8D4E3"
             },
             "line": {
              "color": "white"
             }
            },
            "type": "table"
           }
          ]
         },
         "layout": {
          "annotationdefaults": {
           "arrowcolor": "#2a3f5f",
           "arrowhead": 0,
           "arrowwidth": 1
          },
          "autotypenumbers": "strict",
          "coloraxis": {
           "colorbar": {
            "outlinewidth": 0,
            "ticks": ""
           }
          },
          "colorscale": {
           "diverging": [
            [
             0,
             "#8e0152"
            ],
            [
             0.1,
             "#c51b7d"
            ],
            [
             0.2,
             "#de77ae"
            ],
            [
             0.3,
             "#f1b6da"
            ],
            [
             0.4,
             "#fde0ef"
            ],
            [
             0.5,
             "#f7f7f7"
            ],
            [
             0.6,
             "#e6f5d0"
            ],
            [
             0.7,
             "#b8e186"
            ],
            [
             0.8,
             "#7fbc41"
            ],
            [
             0.9,
             "#4d9221"
            ],
            [
             1,
             "#276419"
            ]
           ],
           "sequential": [
            [
             0,
             "#0d0887"
            ],
            [
             0.1111111111111111,
             "#46039f"
            ],
            [
             0.2222222222222222,
             "#7201a8"
            ],
            [
             0.3333333333333333,
             "#9c179e"
            ],
            [
             0.4444444444444444,
             "#bd3786"
            ],
            [
             0.5555555555555556,
             "#d8576b"
            ],
            [
             0.6666666666666666,
             "#ed7953"
            ],
            [
             0.7777777777777778,
             "#fb9f3a"
            ],
            [
             0.8888888888888888,
             "#fdca26"
            ],
            [
             1,
             "#f0f921"
            ]
           ],
           "sequentialminus": [
            [
             0,
             "#0d0887"
            ],
            [
             0.1111111111111111,
             "#46039f"
            ],
            [
             0.2222222222222222,
             "#7201a8"
            ],
            [
             0.3333333333333333,
             "#9c179e"
            ],
            [
             0.4444444444444444,
             "#bd3786"
            ],
            [
             0.5555555555555556,
             "#d8576b"
            ],
            [
             0.6666666666666666,
             "#ed7953"
            ],
            [
             0.7777777777777778,
             "#fb9f3a"
            ],
            [
             0.8888888888888888,
             "#fdca26"
            ],
            [
             1,
             "#f0f921"
            ]
           ]
          },
          "colorway": [
           "#636efa",
           "#EF553B",
           "#00cc96",
           "#ab63fa",
           "#FFA15A",
           "#19d3f3",
           "#FF6692",
           "#B6E880",
           "#FF97FF",
           "#FECB52"
          ],
          "font": {
           "color": "#2a3f5f"
          },
          "geo": {
           "bgcolor": "white",
           "lakecolor": "white",
           "landcolor": "#E5ECF6",
           "showlakes": true,
           "showland": true,
           "subunitcolor": "white"
          },
          "hoverlabel": {
           "align": "left"
          },
          "hovermode": "closest",
          "mapbox": {
           "style": "light"
          },
          "paper_bgcolor": "white",
          "plot_bgcolor": "#E5ECF6",
          "polar": {
           "angularaxis": {
            "gridcolor": "white",
            "linecolor": "white",
            "ticks": ""
           },
           "bgcolor": "#E5ECF6",
           "radialaxis": {
            "gridcolor": "white",
            "linecolor": "white",
            "ticks": ""
           }
          },
          "scene": {
           "xaxis": {
            "backgroundcolor": "#E5ECF6",
            "gridcolor": "white",
            "gridwidth": 2,
            "linecolor": "white",
            "showbackground": true,
            "ticks": "",
            "zerolinecolor": "white"
           },
           "yaxis": {
            "backgroundcolor": "#E5ECF6",
            "gridcolor": "white",
            "gridwidth": 2,
            "linecolor": "white",
            "showbackground": true,
            "ticks": "",
            "zerolinecolor": "white"
           },
           "zaxis": {
            "backgroundcolor": "#E5ECF6",
            "gridcolor": "white",
            "gridwidth": 2,
            "linecolor": "white",
            "showbackground": true,
            "ticks": "",
            "zerolinecolor": "white"
           }
          },
          "shapedefaults": {
           "line": {
            "color": "#2a3f5f"
           }
          },
          "ternary": {
           "aaxis": {
            "gridcolor": "white",
            "linecolor": "white",
            "ticks": ""
           },
           "baxis": {
            "gridcolor": "white",
            "linecolor": "white",
            "ticks": ""
           },
           "bgcolor": "#E5ECF6",
           "caxis": {
            "gridcolor": "white",
            "linecolor": "white",
            "ticks": ""
           }
          },
          "title": {
           "x": 0.05
          },
          "xaxis": {
           "automargin": true,
           "gridcolor": "white",
           "linecolor": "white",
           "ticks": "",
           "title": {
            "standoff": 15
           },
           "zerolinecolor": "white",
           "zerolinewidth": 2
          },
          "yaxis": {
           "automargin": true,
           "gridcolor": "white",
           "linecolor": "white",
           "ticks": "",
           "title": {
            "standoff": 15
           },
           "zerolinecolor": "white",
           "zerolinewidth": 2
          }
         }
        },
        "xaxis": {
         "anchor": "y",
         "constrain": "domain",
         "domain": [
          0,
          1
         ],
         "scaleanchor": "y"
        },
        "yaxis": {
         "anchor": "x",
         "autorange": "reversed",
         "constrain": "domain",
         "domain": [
          0,
          1
         ]
        }
       }
      },
      "text/html": [
       "<div>                            <div id=\"11875eee-b504-497a-aaed-e9d3efb75c79\" class=\"plotly-graph-div\" style=\"height:525px; width:100%;\"></div>            <script type=\"text/javascript\">                require([\"plotly\"], function(Plotly) {                    window.PLOTLYENV=window.PLOTLYENV || {};                                    if (document.getElementById(\"11875eee-b504-497a-aaed-e9d3efb75c79\")) {                    Plotly.newPlot(                        \"11875eee-b504-497a-aaed-e9d3efb75c79\",                        [{\"coloraxis\":\"coloraxis\",\"name\":\"0\",\"x\":[\"angry\",\"disgusted\",\"happy\",\"neutral\",\"sad\",\"surprised\"],\"y\":[\"angry\",\"disgusted\",\"happy\",\"neutral\",\"sad\",\"surprised\"],\"z\":[[0.6521739130434783,0.10869565217391304,0.06521739130434782,0.043478260869565216,0.06521739130434782,0.06521739130434782],[0.018518518518518517,0.7962962962962963,0.05555555555555555,0.018518518518518517,0.09259259259259259,0.018518518518518517],[0.014705882352941176,0.029411764705882353,0.8529411764705882,0.04411764705882353,0.0,0.058823529411764705],[0.0425531914893617,0.02127659574468085,0.10638297872340426,0.7021276595744681,0.0425531914893617,0.0851063829787234],[0.14814814814814814,0.05555555555555555,0.1111111111111111,0.018518518518518517,0.6481481481481481,0.018518518518518517],[0.05357142857142857,0.0,0.05357142857142857,0.14285714285714285,0.017857142857142856,0.7321428571428571]],\"type\":\"heatmap\",\"xaxis\":\"x\",\"yaxis\":\"y\",\"hovertemplate\":\"x: %{x}\\u003cbr\\u003ey: %{y}\\u003cbr\\u003ecolor: %{z}\\u003cextra\\u003e\\u003c\\u002fextra\\u003e\"}],                        {\"template\":{\"data\":{\"histogram2dcontour\":[{\"type\":\"histogram2dcontour\",\"colorbar\":{\"outlinewidth\":0,\"ticks\":\"\"},\"colorscale\":[[0.0,\"#0d0887\"],[0.1111111111111111,\"#46039f\"],[0.2222222222222222,\"#7201a8\"],[0.3333333333333333,\"#9c179e\"],[0.4444444444444444,\"#bd3786\"],[0.5555555555555556,\"#d8576b\"],[0.6666666666666666,\"#ed7953\"],[0.7777777777777778,\"#fb9f3a\"],[0.8888888888888888,\"#fdca26\"],[1.0,\"#f0f921\"]]}],\"choropleth\":[{\"type\":\"choropleth\",\"colorbar\":{\"outlinewidth\":0,\"ticks\":\"\"}}],\"histogram2d\":[{\"type\":\"histogram2d\",\"colorbar\":{\"outlinewidth\":0,\"ticks\":\"\"},\"colorscale\":[[0.0,\"#0d0887\"],[0.1111111111111111,\"#46039f\"],[0.2222222222222222,\"#7201a8\"],[0.3333333333333333,\"#9c179e\"],[0.4444444444444444,\"#bd3786\"],[0.5555555555555556,\"#d8576b\"],[0.6666666666666666,\"#ed7953\"],[0.7777777777777778,\"#fb9f3a\"],[0.8888888888888888,\"#fdca26\"],[1.0,\"#f0f921\"]]}],\"heatmap\":[{\"type\":\"heatmap\",\"colorbar\":{\"outlinewidth\":0,\"ticks\":\"\"},\"colorscale\":[[0.0,\"#0d0887\"],[0.1111111111111111,\"#46039f\"],[0.2222222222222222,\"#7201a8\"],[0.3333333333333333,\"#9c179e\"],[0.4444444444444444,\"#bd3786\"],[0.5555555555555556,\"#d8576b\"],[0.6666666666666666,\"#ed7953\"],[0.7777777777777778,\"#fb9f3a\"],[0.8888888888888888,\"#fdca26\"],[1.0,\"#f0f921\"]]}],\"heatmapgl\":[{\"type\":\"heatmapgl\",\"colorbar\":{\"outlinewidth\":0,\"ticks\":\"\"},\"colorscale\":[[0.0,\"#0d0887\"],[0.1111111111111111,\"#46039f\"],[0.2222222222222222,\"#7201a8\"],[0.3333333333333333,\"#9c179e\"],[0.4444444444444444,\"#bd3786\"],[0.5555555555555556,\"#d8576b\"],[0.6666666666666666,\"#ed7953\"],[0.7777777777777778,\"#fb9f3a\"],[0.8888888888888888,\"#fdca26\"],[1.0,\"#f0f921\"]]}],\"contourcarpet\":[{\"type\":\"contourcarpet\",\"colorbar\":{\"outlinewidth\":0,\"ticks\":\"\"}}],\"contour\":[{\"type\":\"contour\",\"colorbar\":{\"outlinewidth\":0,\"ticks\":\"\"},\"colorscale\":[[0.0,\"#0d0887\"],[0.1111111111111111,\"#46039f\"],[0.2222222222222222,\"#7201a8\"],[0.3333333333333333,\"#9c179e\"],[0.4444444444444444,\"#bd3786\"],[0.5555555555555556,\"#d8576b\"],[0.6666666666666666,\"#ed7953\"],[0.7777777777777778,\"#fb9f3a\"],[0.8888888888888888,\"#fdca26\"],[1.0,\"#f0f921\"]]}],\"surface\":[{\"type\":\"surface\",\"colorbar\":{\"outlinewidth\":0,\"ticks\":\"\"},\"colorscale\":[[0.0,\"#0d0887\"],[0.1111111111111111,\"#46039f\"],[0.2222222222222222,\"#7201a8\"],[0.3333333333333333,\"#9c179e\"],[0.4444444444444444,\"#bd3786\"],[0.5555555555555556,\"#d8576b\"],[0.6666666666666666,\"#ed7953\"],[0.7777777777777778,\"#fb9f3a\"],[0.8888888888888888,\"#fdca26\"],[1.0,\"#f0f921\"]]}],\"mesh3d\":[{\"type\":\"mesh3d\",\"colorbar\":{\"outlinewidth\":0,\"ticks\":\"\"}}],\"scatter\":[{\"fillpattern\":{\"fillmode\":\"overlay\",\"size\":10,\"solidity\":0.2},\"type\":\"scatter\"}],\"parcoords\":[{\"type\":\"parcoords\",\"line\":{\"colorbar\":{\"outlinewidth\":0,\"ticks\":\"\"}}}],\"scatterpolargl\":[{\"type\":\"scatterpolargl\",\"marker\":{\"colorbar\":{\"outlinewidth\":0,\"ticks\":\"\"}}}],\"bar\":[{\"error_x\":{\"color\":\"#2a3f5f\"},\"error_y\":{\"color\":\"#2a3f5f\"},\"marker\":{\"line\":{\"color\":\"#E5ECF6\",\"width\":0.5},\"pattern\":{\"fillmode\":\"overlay\",\"size\":10,\"solidity\":0.2}},\"type\":\"bar\"}],\"scattergeo\":[{\"type\":\"scattergeo\",\"marker\":{\"colorbar\":{\"outlinewidth\":0,\"ticks\":\"\"}}}],\"scatterpolar\":[{\"type\":\"scatterpolar\",\"marker\":{\"colorbar\":{\"outlinewidth\":0,\"ticks\":\"\"}}}],\"histogram\":[{\"marker\":{\"pattern\":{\"fillmode\":\"overlay\",\"size\":10,\"solidity\":0.2}},\"type\":\"histogram\"}],\"scattergl\":[{\"type\":\"scattergl\",\"marker\":{\"colorbar\":{\"outlinewidth\":0,\"ticks\":\"\"}}}],\"scatter3d\":[{\"type\":\"scatter3d\",\"line\":{\"colorbar\":{\"outlinewidth\":0,\"ticks\":\"\"}},\"marker\":{\"colorbar\":{\"outlinewidth\":0,\"ticks\":\"\"}}}],\"scattermapbox\":[{\"type\":\"scattermapbox\",\"marker\":{\"colorbar\":{\"outlinewidth\":0,\"ticks\":\"\"}}}],\"scatterternary\":[{\"type\":\"scatterternary\",\"marker\":{\"colorbar\":{\"outlinewidth\":0,\"ticks\":\"\"}}}],\"scattercarpet\":[{\"type\":\"scattercarpet\",\"marker\":{\"colorbar\":{\"outlinewidth\":0,\"ticks\":\"\"}}}],\"carpet\":[{\"aaxis\":{\"endlinecolor\":\"#2a3f5f\",\"gridcolor\":\"white\",\"linecolor\":\"white\",\"minorgridcolor\":\"white\",\"startlinecolor\":\"#2a3f5f\"},\"baxis\":{\"endlinecolor\":\"#2a3f5f\",\"gridcolor\":\"white\",\"linecolor\":\"white\",\"minorgridcolor\":\"white\",\"startlinecolor\":\"#2a3f5f\"},\"type\":\"carpet\"}],\"table\":[{\"cells\":{\"fill\":{\"color\":\"#EBF0F8\"},\"line\":{\"color\":\"white\"}},\"header\":{\"fill\":{\"color\":\"#C8D4E3\"},\"line\":{\"color\":\"white\"}},\"type\":\"table\"}],\"barpolar\":[{\"marker\":{\"line\":{\"color\":\"#E5ECF6\",\"width\":0.5},\"pattern\":{\"fillmode\":\"overlay\",\"size\":10,\"solidity\":0.2}},\"type\":\"barpolar\"}],\"pie\":[{\"automargin\":true,\"type\":\"pie\"}]},\"layout\":{\"autotypenumbers\":\"strict\",\"colorway\":[\"#636efa\",\"#EF553B\",\"#00cc96\",\"#ab63fa\",\"#FFA15A\",\"#19d3f3\",\"#FF6692\",\"#B6E880\",\"#FF97FF\",\"#FECB52\"],\"font\":{\"color\":\"#2a3f5f\"},\"hovermode\":\"closest\",\"hoverlabel\":{\"align\":\"left\"},\"paper_bgcolor\":\"white\",\"plot_bgcolor\":\"#E5ECF6\",\"polar\":{\"bgcolor\":\"#E5ECF6\",\"angularaxis\":{\"gridcolor\":\"white\",\"linecolor\":\"white\",\"ticks\":\"\"},\"radialaxis\":{\"gridcolor\":\"white\",\"linecolor\":\"white\",\"ticks\":\"\"}},\"ternary\":{\"bgcolor\":\"#E5ECF6\",\"aaxis\":{\"gridcolor\":\"white\",\"linecolor\":\"white\",\"ticks\":\"\"},\"baxis\":{\"gridcolor\":\"white\",\"linecolor\":\"white\",\"ticks\":\"\"},\"caxis\":{\"gridcolor\":\"white\",\"linecolor\":\"white\",\"ticks\":\"\"}},\"coloraxis\":{\"colorbar\":{\"outlinewidth\":0,\"ticks\":\"\"}},\"colorscale\":{\"sequential\":[[0.0,\"#0d0887\"],[0.1111111111111111,\"#46039f\"],[0.2222222222222222,\"#7201a8\"],[0.3333333333333333,\"#9c179e\"],[0.4444444444444444,\"#bd3786\"],[0.5555555555555556,\"#d8576b\"],[0.6666666666666666,\"#ed7953\"],[0.7777777777777778,\"#fb9f3a\"],[0.8888888888888888,\"#fdca26\"],[1.0,\"#f0f921\"]],\"sequentialminus\":[[0.0,\"#0d0887\"],[0.1111111111111111,\"#46039f\"],[0.2222222222222222,\"#7201a8\"],[0.3333333333333333,\"#9c179e\"],[0.4444444444444444,\"#bd3786\"],[0.5555555555555556,\"#d8576b\"],[0.6666666666666666,\"#ed7953\"],[0.7777777777777778,\"#fb9f3a\"],[0.8888888888888888,\"#fdca26\"],[1.0,\"#f0f921\"]],\"diverging\":[[0,\"#8e0152\"],[0.1,\"#c51b7d\"],[0.2,\"#de77ae\"],[0.3,\"#f1b6da\"],[0.4,\"#fde0ef\"],[0.5,\"#f7f7f7\"],[0.6,\"#e6f5d0\"],[0.7,\"#b8e186\"],[0.8,\"#7fbc41\"],[0.9,\"#4d9221\"],[1,\"#276419\"]]},\"xaxis\":{\"gridcolor\":\"white\",\"linecolor\":\"white\",\"ticks\":\"\",\"title\":{\"standoff\":15},\"zerolinecolor\":\"white\",\"automargin\":true,\"zerolinewidth\":2},\"yaxis\":{\"gridcolor\":\"white\",\"linecolor\":\"white\",\"ticks\":\"\",\"title\":{\"standoff\":15},\"zerolinecolor\":\"white\",\"automargin\":true,\"zerolinewidth\":2},\"scene\":{\"xaxis\":{\"backgroundcolor\":\"#E5ECF6\",\"gridcolor\":\"white\",\"linecolor\":\"white\",\"showbackground\":true,\"ticks\":\"\",\"zerolinecolor\":\"white\",\"gridwidth\":2},\"yaxis\":{\"backgroundcolor\":\"#E5ECF6\",\"gridcolor\":\"white\",\"linecolor\":\"white\",\"showbackground\":true,\"ticks\":\"\",\"zerolinecolor\":\"white\",\"gridwidth\":2},\"zaxis\":{\"backgroundcolor\":\"#E5ECF6\",\"gridcolor\":\"white\",\"linecolor\":\"white\",\"showbackground\":true,\"ticks\":\"\",\"zerolinecolor\":\"white\",\"gridwidth\":2}},\"shapedefaults\":{\"line\":{\"color\":\"#2a3f5f\"}},\"annotationdefaults\":{\"arrowcolor\":\"#2a3f5f\",\"arrowhead\":0,\"arrowwidth\":1},\"geo\":{\"bgcolor\":\"white\",\"landcolor\":\"#E5ECF6\",\"subunitcolor\":\"white\",\"showland\":true,\"showlakes\":true,\"lakecolor\":\"white\"},\"title\":{\"x\":0.05},\"mapbox\":{\"style\":\"light\"}}},\"xaxis\":{\"anchor\":\"y\",\"domain\":[0.0,1.0],\"scaleanchor\":\"y\",\"constrain\":\"domain\"},\"yaxis\":{\"anchor\":\"x\",\"domain\":[0.0,1.0],\"autorange\":\"reversed\",\"constrain\":\"domain\"},\"coloraxis\":{\"colorscale\":[[0.0,\"#0d0887\"],[0.1111111111111111,\"#46039f\"],[0.2222222222222222,\"#7201a8\"],[0.3333333333333333,\"#9c179e\"],[0.4444444444444444,\"#bd3786\"],[0.5555555555555556,\"#d8576b\"],[0.6666666666666666,\"#ed7953\"],[0.7777777777777778,\"#fb9f3a\"],[0.8888888888888888,\"#fdca26\"],[1.0,\"#f0f921\"]],\"cmin\":0,\"cmax\":1},\"margin\":{\"t\":60}},                        {\"responsive\": true}                    ).then(function(){\n",
       "                            \n",
       "var gd = document.getElementById('11875eee-b504-497a-aaed-e9d3efb75c79');\n",
       "var x = new MutationObserver(function (mutations, observer) {{\n",
       "        var display = window.getComputedStyle(gd).display;\n",
       "        if (!display || display === 'none') {{\n",
       "            console.log([gd, 'removed!']);\n",
       "            Plotly.purge(gd);\n",
       "            observer.disconnect();\n",
       "        }}\n",
       "}});\n",
       "\n",
       "// Listen for the removal of the full notebook cells\n",
       "var notebookContainer = gd.closest('#notebook-container');\n",
       "if (notebookContainer) {{\n",
       "    x.observe(notebookContainer, {childList: true});\n",
       "}}\n",
       "\n",
       "// Listen for the clearing of the current output cell\n",
       "var outputEl = gd.closest('.output');\n",
       "if (outputEl) {{\n",
       "    x.observe(outputEl, {childList: true});\n",
       "}}\n",
       "\n",
       "                        })                };                });            </script>        </div>"
      ]
     },
     "metadata": {},
     "output_type": "display_data"
    },
    {
     "data": {
      "text/plain": [
       "{'angry': {'precision': 0.6666666666666666,\n",
       "  'recall': 0.6521739130434783,\n",
       "  'f1-score': 0.6593406593406593,\n",
       "  'support': 46.0},\n",
       " 'disgusted': {'precision': 0.7962962962962963,\n",
       "  'recall': 0.7962962962962963,\n",
       "  'f1-score': 0.7962962962962963,\n",
       "  'support': 54.0},\n",
       " 'happy': {'precision': 0.7435897435897436,\n",
       "  'recall': 0.8529411764705882,\n",
       "  'f1-score': 0.7945205479452054,\n",
       "  'support': 68.0},\n",
       " 'neutral': {'precision': 0.6875,\n",
       "  'recall': 0.7021276595744681,\n",
       "  'f1-score': 0.6947368421052632,\n",
       "  'support': 47.0},\n",
       " 'sad': {'precision': 0.7608695652173914,\n",
       "  'recall': 0.6481481481481481,\n",
       "  'f1-score': 0.7,\n",
       "  'support': 54.0},\n",
       " 'surprised': {'precision': 0.7592592592592593,\n",
       "  'recall': 0.7321428571428571,\n",
       "  'f1-score': 0.7454545454545455,\n",
       "  'support': 56.0},\n",
       " 'accuracy': 0.7384615384615385,\n",
       " 'macro avg': {'precision': 0.7356969218382262,\n",
       "  'recall': 0.730638341779306,\n",
       "  'f1-score': 0.7317248151903283,\n",
       "  'support': 325.0},\n",
       " 'weighted avg': {'precision': 0.7389192131416212,\n",
       "  'recall': 0.7384615384615385,\n",
       "  'f1-score': 0.7370927806595268,\n",
       "  'support': 325.0}}"
      ]
     },
     "execution_count": 79,
     "metadata": {},
     "output_type": "execute_result"
    }
   ],
   "source": [
    "from typing import cast\n",
    "\n",
    "confidences = model.predict(test_dataset)\n",
    "predictions = np.argmax(confidences, axis=1)\n",
    "\n",
    "labels = cast(list[int], list(test_dataset.unbatch().map(lambda x, y: y).as_numpy_iterator()))\n",
    "\n",
    "cmat = sklearn.metrics.confusion_matrix(labels, predictions, normalize=\"true\")\n",
    "\n",
    "fig = px.imshow(cmat, x=CLASS_NAMES, y=CLASS_NAMES, range_color=[0,1])\n",
    "fig.show()\n",
    "\n",
    "sklearn.metrics.classification_report(labels, predictions, output_dict=True, target_names=CLASS_NAMES)"
   ]
  },
  {
   "cell_type": "code",
   "execution_count": 36,
   "metadata": {},
   "outputs": [
    {
     "data": {
      "application/vnd.plotly.v1+json": {
       "config": {
        "plotlyServerURL": "https://plot.ly"
       },
       "data": [
        {
         "customdata": [
          [
           "surprised"
          ],
          [
           "surprised"
          ],
          [
           "surprised"
          ],
          [
           "surprised"
          ],
          [
           "surprised"
          ],
          [
           "surprised"
          ],
          [
           "surprised"
          ],
          [
           "surprised"
          ],
          [
           "surprised"
          ],
          [
           "surprised"
          ],
          [
           "surprised"
          ],
          [
           "surprised"
          ],
          [
           "surprised"
          ],
          [
           "surprised"
          ],
          [
           "surprised"
          ],
          [
           "surprised"
          ],
          [
           "surprised"
          ],
          [
           "surprised"
          ],
          [
           "surprised"
          ],
          [
           "surprised"
          ],
          [
           "surprised"
          ],
          [
           "surprised"
          ],
          [
           "surprised"
          ],
          [
           "surprised"
          ],
          [
           "surprised"
          ],
          [
           "surprised"
          ],
          [
           "surprised"
          ],
          [
           "surprised"
          ],
          [
           "surprised"
          ],
          [
           "surprised"
          ],
          [
           "surprised"
          ],
          [
           "surprised"
          ],
          [
           "surprised"
          ],
          [
           "surprised"
          ],
          [
           "surprised"
          ],
          [
           "surprised"
          ],
          [
           "surprised"
          ],
          [
           "surprised"
          ],
          [
           "surprised"
          ],
          [
           "surprised"
          ],
          [
           "surprised"
          ]
         ],
         "hovertemplate": "Predictions=surprised<br>Correct=True<br>x=%{x}<br>y=%{y}<br>Label=%{customdata[0]}<extra></extra>",
         "legendgroup": "surprised, True",
         "marker": {
          "color": "#19D3F3",
          "symbol": "circle"
         },
         "mode": "markers",
         "name": "surprised, True",
         "showlegend": true,
         "type": "scattergl",
         "x": [
          -11.212021827697754,
          -16.847169876098633,
          -24.90557861328125,
          -25.27507781982422,
          -25.032642364501953,
          -25.466524124145508,
          29.460769653320312,
          39.47742462158203,
          -12.419837951660156,
          22.503252029418945,
          22.141204833984375,
          21.8055477142334,
          29.56520652770996,
          -15.69908618927002,
          -17.001850128173828,
          -14.069242477416992,
          19.1512508392334,
          -16.037206649780273,
          -1.9381425380706787,
          -23.296409606933594,
          -23.384517669677734,
          -23.04693031311035,
          18.6823673248291,
          27.193803787231445,
          -17.33193588256836,
          28.10382080078125,
          20.06062126159668,
          -7.318872451782227,
          -4.729280948638916,
          -29.94635772705078,
          -6.438998699188232,
          -7.6260986328125,
          18.524127960205078,
          25.093555450439453,
          -14.152053833007812,
          -42.469398498535156,
          -42.56444549560547,
          -43.52598571777344,
          -1.0672868490219116,
          -3.2060463428497314,
          25.91193199157715
         ],
         "xaxis": "x",
         "y": [
          10.641724586486816,
          -44.01690673828125,
          3.9814400672912598,
          4.605867385864258,
          3.3856444358825684,
          4.105062007904053,
          -20.50189971923828,
          -19.42462730407715,
          -50.21064376831055,
          -27.294029235839844,
          -27.911733627319336,
          -27.275209426879883,
          -21.553115844726562,
          -38.08120346069336,
          -36.75946807861328,
          -35.08782958984375,
          24.06525230407715,
          -43.36917495727539,
          -0.63837730884552,
          20.499109268188477,
          20.17346954345703,
          19.971153259277344,
          -27.411399841308594,
          -14.609548568725586,
          -1.25864577293396,
          -15.807868003845215,
          27.170270919799805,
          -54.015045166015625,
          -52.574745178222656,
          23.31072425842285,
          -52.031494140625,
          -52.52265930175781,
          33.11277389526367,
          22.1276912689209,
          -38.29561233520508,
          -19.21218490600586,
          -17.211406707763672,
          -17.846315383911133,
          -0.7063696980476379,
          -1.2570990324020386,
          41.7923583984375
         ],
         "yaxis": "y"
        },
        {
         "customdata": [
          [
           "neutral"
          ],
          [
           "angry"
          ],
          [
           "happy"
          ],
          [
           "angry"
          ],
          [
           "happy"
          ],
          [
           "angry"
          ],
          [
           "happy"
          ],
          [
           "sad"
          ],
          [
           "disgusted"
          ],
          [
           "neutral"
          ],
          [
           "neutral"
          ],
          [
           "neutral"
          ],
          [
           "happy"
          ]
         ],
         "hovertemplate": "Predictions=surprised<br>Correct=False<br>x=%{x}<br>y=%{y}<br>Label=%{customdata[0]}<extra></extra>",
         "legendgroup": "surprised, False",
         "marker": {
          "color": "#19D3F3",
          "symbol": "x"
         },
         "mode": "markers",
         "name": "surprised, False",
         "showlegend": true,
         "type": "scattergl",
         "x": [
          14.052590370178223,
          32.599510192871094,
          31.38018035888672,
          -20.48825454711914,
          -43.68587875366211,
          -12.532181739807129,
          -20.196229934692383,
          -17.529478073120117,
          -6.503806114196777,
          25.704273223876953,
          35.967384338378906,
          -2.964221239089966,
          35.807891845703125
         ],
         "xaxis": "x",
         "y": [
          38.28073501586914,
          -12.255048751831055,
          -11.365986824035645,
          8.47412395477295,
          -17.266714096069336,
          -44.122718811035156,
          -44.60858154296875,
          -0.023118657991290092,
          -50.858734130859375,
          24.557933807373047,
          -6.631552219390869,
          -0.10820081830024719,
          -7.641880512237549
         ],
         "yaxis": "y"
        },
        {
         "customdata": [
          [
           "happy"
          ],
          [
           "happy"
          ],
          [
           "happy"
          ],
          [
           "happy"
          ],
          [
           "happy"
          ],
          [
           "happy"
          ],
          [
           "happy"
          ],
          [
           "happy"
          ],
          [
           "happy"
          ],
          [
           "happy"
          ],
          [
           "happy"
          ],
          [
           "happy"
          ],
          [
           "happy"
          ],
          [
           "happy"
          ],
          [
           "happy"
          ],
          [
           "happy"
          ],
          [
           "happy"
          ],
          [
           "happy"
          ],
          [
           "happy"
          ],
          [
           "happy"
          ],
          [
           "happy"
          ],
          [
           "happy"
          ],
          [
           "happy"
          ],
          [
           "happy"
          ],
          [
           "happy"
          ],
          [
           "happy"
          ],
          [
           "happy"
          ],
          [
           "happy"
          ],
          [
           "happy"
          ],
          [
           "happy"
          ],
          [
           "happy"
          ],
          [
           "happy"
          ],
          [
           "happy"
          ],
          [
           "happy"
          ],
          [
           "happy"
          ],
          [
           "happy"
          ],
          [
           "happy"
          ],
          [
           "happy"
          ],
          [
           "happy"
          ],
          [
           "happy"
          ],
          [
           "happy"
          ],
          [
           "happy"
          ],
          [
           "happy"
          ],
          [
           "happy"
          ],
          [
           "happy"
          ],
          [
           "happy"
          ],
          [
           "happy"
          ],
          [
           "happy"
          ],
          [
           "happy"
          ],
          [
           "happy"
          ],
          [
           "happy"
          ],
          [
           "happy"
          ],
          [
           "happy"
          ],
          [
           "happy"
          ],
          [
           "happy"
          ],
          [
           "happy"
          ],
          [
           "happy"
          ],
          [
           "happy"
          ]
         ],
         "hovertemplate": "Predictions=happy<br>Correct=True<br>x=%{x}<br>y=%{y}<br>Label=%{customdata[0]}<extra></extra>",
         "legendgroup": "happy, True",
         "marker": {
          "color": "#00CC96",
          "symbol": "circle"
         },
         "mode": "markers",
         "name": "happy, True",
         "showlegend": true,
         "type": "scattergl",
         "x": [
          -17.644289016723633,
          -19.145483016967773,
          -25.670822143554688,
          29.5589599609375,
          -26.301050186157227,
          -36.64060974121094,
          -35.1468391418457,
          -37.356563568115234,
          -34.967899322509766,
          -36.97983932495117,
          -35.09817886352539,
          -34.28913116455078,
          -21.602575302124023,
          14.014552116394043,
          -10.252059936523438,
          -10.261259078979492,
          27.36008071899414,
          -15.18781852722168,
          -17.77923011779785,
          -18.59133529663086,
          -18.430633544921875,
          30.664182662963867,
          -14.20795726776123,
          -4.653960227966309,
          -23.031686782836914,
          -23.255239486694336,
          18.680601119995117,
          -10.455533027648926,
          -17.6247501373291,
          -17.306976318359375,
          28.11981201171875,
          17.932836532592773,
          19.36517333984375,
          -6.409736156463623,
          -6.427536487579346,
          -6.725164413452148,
          -7.429111480712891,
          -7.485979080200195,
          -6.177393436431885,
          20.03313446044922,
          17.223941802978516,
          15.714298248291016,
          26.579042434692383,
          25.796464920043945,
          27.810300827026367,
          28.39349365234375,
          25.632049560546875,
          23.20589828491211,
          -12.081175804138184,
          -11.077584266662598,
          24.64474868774414,
          -0.6280423998832703,
          23.954830169677734,
          23.886350631713867,
          24.5303955078125,
          24.477344512939453,
          23.408912658691406,
          23.668418884277344
         ],
         "xaxis": "x",
         "y": [
          -42.81300735473633,
          -38.52943801879883,
          4.767104625701904,
          -19.993791580200195,
          3.3521294593811035,
          21.74648094177246,
          16.4542293548584,
          20.99620819091797,
          21.134868621826172,
          19.852581024169922,
          17.690292358398438,
          17.503442764282227,
          14.641600608825684,
          40.30556869506836,
          -2.3916754722595215,
          -2.3905911445617676,
          -21.49087905883789,
          -37.18570327758789,
          5.504210472106934,
          -35.29206466674805,
          -34.97682571411133,
          -6.11594820022583,
          7.827582359313965,
          -30.886795043945312,
          -37.563899993896484,
          20.778667449951172,
          -27.830060958862305,
          7.786099433898926,
          -42.70589828491211,
          -0.5532214045524597,
          -14.822611808776855,
          26.555513381958008,
          26.58000946044922,
          -51.13475036621094,
          -51.3606071472168,
          -51.921043395996094,
          -52.87128448486328,
          -52.53864288330078,
          -50.59642028808594,
          34.55929946899414,
          32.073143005371094,
          41.54604721069336,
          23.69727325439453,
          21.959749221801758,
          19.209489822387695,
          19.37041664123535,
          30.877544403076172,
          34.316192626953125,
          -40.118770599365234,
          2.776914596557617,
          26.233501434326172,
          0.09995553642511368,
          41.788272857666016,
          40.830841064453125,
          43.24415588378906,
          42.98274612426758,
          42.378257751464844,
          42.94707107543945
         ],
         "yaxis": "y"
        },
        {
         "customdata": [
          [
           "disgusted"
          ],
          [
           "sad"
          ],
          [
           "sad"
          ],
          [
           "sad"
          ],
          [
           "surprised"
          ],
          [
           "sad"
          ],
          [
           "neutral"
          ],
          [
           "sad"
          ],
          [
           "disgusted"
          ],
          [
           "angry"
          ],
          [
           "angry"
          ],
          [
           "neutral"
          ],
          [
           "sad"
          ],
          [
           "neutral"
          ],
          [
           "surprised"
          ],
          [
           "disgusted"
          ],
          [
           "neutral"
          ],
          [
           "angry"
          ],
          [
           "neutral"
          ],
          [
           "surprised"
          ]
         ],
         "hovertemplate": "Predictions=happy<br>Correct=False<br>x=%{x}<br>y=%{y}<br>Label=%{customdata[0]}<extra></extra>",
         "legendgroup": "happy, False",
         "marker": {
          "color": "#00CC96",
          "symbol": "x"
         },
         "mode": "markers",
         "name": "happy, False",
         "showlegend": true,
         "type": "scattergl",
         "x": [
          -10.181806564331055,
          -17.962081909179688,
          -12.05917739868164,
          -25.448524475097656,
          29.457534790039062,
          -25.560548782348633,
          -37.11313247680664,
          -36.14860153198242,
          -36.86848068237305,
          11.523639678955078,
          1.099762201309204,
          -15.076809883117676,
          -5.295243263244629,
          -6.581515789031982,
          15.334602355957031,
          16.51145362854004,
          27.482227325439453,
          26.16900062561035,
          -3.308307409286499,
          23.748966217041016
         ],
         "xaxis": "x",
         "y": [
          5.714942932128906,
          -43.303955078125,
          5.6899638175964355,
          3.4638280868530273,
          -19.648487091064453,
          4.095505714416504,
          21.649858474731445,
          20.63610076904297,
          20.266611099243164,
          42.6783561706543,
          35.66242980957031,
          -41.71151351928711,
          -52.59625244140625,
          -53.81524658203125,
          41.72117233276367,
          41.132057189941406,
          20.4265079498291,
          22.298627853393555,
          -1.2603428363800049,
          40.55559539794922
         ],
         "yaxis": "y"
        },
        {
         "customdata": [
          [
           "disgusted"
          ],
          [
           "disgusted"
          ],
          [
           "disgusted"
          ],
          [
           "disgusted"
          ],
          [
           "disgusted"
          ],
          [
           "disgusted"
          ],
          [
           "disgusted"
          ],
          [
           "disgusted"
          ],
          [
           "disgusted"
          ],
          [
           "disgusted"
          ],
          [
           "disgusted"
          ],
          [
           "disgusted"
          ],
          [
           "disgusted"
          ],
          [
           "disgusted"
          ],
          [
           "disgusted"
          ],
          [
           "disgusted"
          ],
          [
           "disgusted"
          ],
          [
           "disgusted"
          ],
          [
           "disgusted"
          ],
          [
           "disgusted"
          ],
          [
           "disgusted"
          ],
          [
           "disgusted"
          ],
          [
           "disgusted"
          ],
          [
           "disgusted"
          ],
          [
           "disgusted"
          ],
          [
           "disgusted"
          ],
          [
           "disgusted"
          ],
          [
           "disgusted"
          ],
          [
           "disgusted"
          ],
          [
           "disgusted"
          ],
          [
           "disgusted"
          ],
          [
           "disgusted"
          ],
          [
           "disgusted"
          ],
          [
           "disgusted"
          ],
          [
           "disgusted"
          ],
          [
           "disgusted"
          ],
          [
           "disgusted"
          ],
          [
           "disgusted"
          ],
          [
           "disgusted"
          ],
          [
           "disgusted"
          ],
          [
           "disgusted"
          ],
          [
           "disgusted"
          ],
          [
           "disgusted"
          ]
         ],
         "hovertemplate": "Predictions=disgusted<br>Correct=True<br>x=%{x}<br>y=%{y}<br>Label=%{customdata[0]}<extra></extra>",
         "legendgroup": "disgusted, True",
         "marker": {
          "color": "#EF553B",
          "symbol": "circle"
         },
         "mode": "markers",
         "name": "disgusted, True",
         "showlegend": true,
         "type": "scattergl",
         "x": [
          -42.192649841308594,
          -18.652658462524414,
          29.45635223388672,
          29.86148452758789,
          22.334426879882812,
          -34.20920181274414,
          -35.19412612915039,
          22.217479705810547,
          14.347936630249023,
          13.986540794372559,
          29.645092010498047,
          29.61188507080078,
          -18.48676300048828,
          -17.83042335510254,
          -13.565346717834473,
          -15.467931747436523,
          -15.626167297363281,
          -13.365619659423828,
          19.22910499572754,
          19.335111618041992,
          18.92519187927246,
          -12.300899505615234,
          28.322534561157227,
          -5.714798927307129,
          20.134220123291016,
          20.757549285888672,
          14.697149276733398,
          29.18667984008789,
          25.882137298583984,
          27.84099006652832,
          26.271196365356445,
          26.730207443237305,
          28.879179000854492,
          -9.711187362670898,
          -9.33886432647705,
          23.316267013549805,
          32.540279388427734,
          -8.567282676696777,
          0.1480276733636856,
          25.27215003967285,
          23.818645477294922,
          24.579675674438477,
          30.5628604888916
         ],
         "xaxis": "x",
         "y": [
          -20.336421966552734,
          -40.891597747802734,
          -20.09661865234375,
          -19.68452262878418,
          29.175676345825195,
          16.31269073486328,
          21.442121505737305,
          -26.966228485107422,
          37.942848205566406,
          40.64296340942383,
          -7.973839282989502,
          -7.987028121948242,
          12.085638999938965,
          9.203496932983398,
          -36.400203704833984,
          -43.64516830444336,
          -43.57398223876953,
          -44.76433563232422,
          -27.444080352783203,
          -28.282190322875977,
          -27.982059478759766,
          3.792423725128174,
          -15.083621978759766,
          -51.27399444580078,
          36.03691864013672,
          36.55312728881836,
          41.934444427490234,
          19.08185577392578,
          23.967041015625,
          19.530847549438477,
          19.35039520263672,
          19.793134689331055,
          18.340852737426758,
          8.364972114562988,
          5.9600396156311035,
          26.23587989807129,
          -11.59376335144043,
          5.431201457977295,
          -0.16858479380607605,
          43.055030822753906,
          42.475284576416016,
          42.421207427978516,
          -15.525178909301758
         ],
         "yaxis": "y"
        },
        {
         "customdata": [
          [
           "angry"
          ],
          [
           "angry"
          ],
          [
           "happy"
          ],
          [
           "angry"
          ],
          [
           "sad"
          ],
          [
           "angry"
          ],
          [
           "happy"
          ],
          [
           "angry"
          ],
          [
           "sad"
          ],
          [
           "sad"
          ],
          [
           "neutral"
          ]
         ],
         "hovertemplate": "Predictions=disgusted<br>Correct=False<br>x=%{x}<br>y=%{y}<br>Label=%{customdata[0]}<extra></extra>",
         "legendgroup": "disgusted, False",
         "marker": {
          "color": "#EF553B",
          "symbol": "x"
         },
         "mode": "markers",
         "name": "disgusted, False",
         "showlegend": true,
         "type": "scattergl",
         "x": [
          30.146678924560547,
          10.848023414611816,
          19.37264633178711,
          -19.02081871032715,
          28.626718521118164,
          -17.531572341918945,
          -7.398292064666748,
          -6.096700191497803,
          -5.62143087387085,
          25.613121032714844,
          26.728897094726562
         ],
         "xaxis": "x",
         "y": [
          -20.281919479370117,
          33.05403518676758,
          -28.076757431030273,
          -43.819950103759766,
          -15.375882148742676,
          0.9919824600219727,
          -53.97976303100586,
          -52.92192077636719,
          -51.4751091003418,
          22.911863327026367,
          20.600601196289062
         ],
         "yaxis": "y"
        },
        {
         "customdata": [
          [
           "angry"
          ],
          [
           "angry"
          ],
          [
           "angry"
          ],
          [
           "angry"
          ],
          [
           "angry"
          ],
          [
           "angry"
          ],
          [
           "angry"
          ],
          [
           "angry"
          ],
          [
           "angry"
          ],
          [
           "angry"
          ],
          [
           "angry"
          ],
          [
           "angry"
          ],
          [
           "angry"
          ],
          [
           "angry"
          ],
          [
           "angry"
          ],
          [
           "angry"
          ],
          [
           "angry"
          ],
          [
           "angry"
          ],
          [
           "angry"
          ],
          [
           "angry"
          ],
          [
           "angry"
          ],
          [
           "angry"
          ],
          [
           "angry"
          ],
          [
           "angry"
          ],
          [
           "angry"
          ],
          [
           "angry"
          ],
          [
           "angry"
          ],
          [
           "angry"
          ],
          [
           "angry"
          ],
          [
           "angry"
          ]
         ],
         "hovertemplate": "Predictions=angry<br>Correct=True<br>x=%{x}<br>y=%{y}<br>Label=%{customdata[0]}<extra></extra>",
         "legendgroup": "angry, True",
         "marker": {
          "color": "#636EFA",
          "symbol": "circle"
         },
         "mode": "markers",
         "name": "angry, True",
         "showlegend": true,
         "type": "scattergl",
         "x": [
          -42.250064849853516,
          -19.19832420349121,
          28.831005096435547,
          29.247661590576172,
          -35.73580551147461,
          -36.67815017700195,
          -11.470197677612305,
          -35.0403938293457,
          -34.19972610473633,
          -34.070350646972656,
          16.471881866455078,
          11.853813171386719,
          13.896052360534668,
          -6.674288272857666,
          -11.431028366088867,
          -16.049942016601562,
          -1.3371602296829224,
          -17.737150192260742,
          -12.154010772705078,
          -16.15357780456543,
          31.078054428100586,
          -7.516016960144043,
          16.100902557373047,
          25.866622924804688,
          27.06559181213379,
          32.857421875,
          1.1639480590820312,
          24.08478546142578,
          24.331953048706055,
          23.873031616210938
         ],
         "xaxis": "x",
         "y": [
          -20.4683780670166,
          -37.5894660949707,
          -20.19896697998047,
          -20.292015075683594,
          18.406686782836914,
          22.11826515197754,
          -50.35377883911133,
          17.304046630859375,
          15.998231887817383,
          17.705909729003906,
          32.757781982421875,
          42.9741325378418,
          38.705684661865234,
          -4.376615047454834,
          5.587433338165283,
          -43.45743179321289,
          1.0240118503570557,
          -41.8507194519043,
          9.077728271484375,
          -1.448673129081726,
          -20.025848388671875,
          -52.95719528198242,
          41.78467559814453,
          19.939529418945312,
          21.9740047454834,
          -12.769184112548828,
          1.721225619316101,
          41.53561782836914,
          42.60677719116211,
          43.27015686035156
         ],
         "yaxis": "y"
        },
        {
         "customdata": [
          [
           "sad"
          ],
          [
           "neutral"
          ],
          [
           "surprised"
          ],
          [
           "sad"
          ],
          [
           "sad"
          ],
          [
           "sad"
          ],
          [
           "sad"
          ],
          [
           "surprised"
          ],
          [
           "sad"
          ],
          [
           "neutral"
          ],
          [
           "surprised"
          ],
          [
           "disgusted"
          ],
          [
           "sad"
          ],
          [
           "sad"
          ],
          [
           "happy"
          ]
         ],
         "hovertemplate": "Predictions=angry<br>Correct=False<br>x=%{x}<br>y=%{y}<br>Label=%{customdata[0]}<extra></extra>",
         "legendgroup": "angry, False",
         "marker": {
          "color": "#636EFA",
          "symbol": "x"
         },
         "mode": "markers",
         "name": "angry, False",
         "showlegend": true,
         "type": "scattergl",
         "x": [
          -34.29530334472656,
          14.001944541931152,
          30.173751831054688,
          -16.794937133789062,
          32.72523880004883,
          18.977676391601562,
          -16.18300437927246,
          -16.981746673583984,
          -6.465895652770996,
          26.34084701538086,
          27.845890045166016,
          -16.32233428955078,
          35.86036682128906,
          22.35821533203125,
          23.408443450927734
         ],
         "xaxis": "x",
         "y": [
          16.5221004486084,
          40.16093063354492,
          -6.801575183868408,
          -38.33138656616211,
          -11.698881149291992,
          -27.431163787841797,
          -44.50971984863281,
          -0.6239755749702454,
          -54.70664978027344,
          23.14911651611328,
          21.37790870666504,
          3.674264430999756,
          -7.515722274780273,
          41.32002639770508,
          42.37805938720703
         ],
         "yaxis": "y"
        },
        {
         "customdata": [
          [
           "neutral"
          ],
          [
           "neutral"
          ],
          [
           "neutral"
          ],
          [
           "neutral"
          ],
          [
           "neutral"
          ],
          [
           "neutral"
          ],
          [
           "neutral"
          ],
          [
           "neutral"
          ],
          [
           "neutral"
          ],
          [
           "neutral"
          ],
          [
           "neutral"
          ],
          [
           "neutral"
          ],
          [
           "neutral"
          ],
          [
           "neutral"
          ],
          [
           "neutral"
          ],
          [
           "neutral"
          ],
          [
           "neutral"
          ],
          [
           "neutral"
          ],
          [
           "neutral"
          ],
          [
           "neutral"
          ],
          [
           "neutral"
          ],
          [
           "neutral"
          ],
          [
           "neutral"
          ],
          [
           "neutral"
          ],
          [
           "neutral"
          ],
          [
           "neutral"
          ],
          [
           "neutral"
          ],
          [
           "neutral"
          ],
          [
           "neutral"
          ],
          [
           "neutral"
          ],
          [
           "neutral"
          ],
          [
           "neutral"
          ],
          [
           "neutral"
          ]
         ],
         "hovertemplate": "Predictions=neutral<br>Correct=True<br>x=%{x}<br>y=%{y}<br>Label=%{customdata[0]}<extra></extra>",
         "legendgroup": "neutral, True",
         "marker": {
          "color": "#AB63FA",
          "symbol": "circle"
         },
         "mode": "markers",
         "name": "neutral, True",
         "showlegend": true,
         "type": "scattergl",
         "x": [
          28.696083068847656,
          -36.89774703979492,
          -36.62617492675781,
          -33.67427444458008,
          -33.67422866821289,
          -33.76194763183594,
          17.70601463317871,
          13.890363693237305,
          -20.41049575805664,
          -20.342735290527344,
          -41.74634552001953,
          -15.65282917022705,
          -14.751530647277832,
          -18.996212005615234,
          -23.377408981323242,
          -22.498336791992188,
          10.865056991577148,
          18.115976333618164,
          19.916440963745117,
          -30.357040405273438,
          -29.697036743164062,
          -5.754968643188477,
          18.669363021850586,
          20.14165687561035,
          15.389725685119629,
          26.130908966064453,
          26.13230323791504,
          16.906831741333008,
          33.079254150390625,
          -14.624457359313965,
          -13.263178825378418,
          -8.228482246398926,
          22.76866340637207
         ],
         "xaxis": "x",
         "y": [
          -19.89338493347168,
          22.308670043945312,
          19.654024124145508,
          16.521137237548828,
          17.67093849182129,
          15.849279403686523,
          33.226871490478516,
          38.80465316772461,
          9.80659008026123,
          3.8539929389953613,
          -19.063779830932617,
          9.072948455810547,
          -37.211463928222656,
          -35.686424255371094,
          -37.45308303833008,
          20.247133255004883,
          33.06067657470703,
          26.598026275634766,
          27.026201248168945,
          23.0982723236084,
          23.376819610595703,
          -52.246009826660156,
          33.17592239379883,
          35.78710174560547,
          42.31902313232422,
          20.003564834594727,
          22.140913009643555,
          37.61743927001953,
          -19.305469512939453,
          0.7882527112960815,
          -41.690093994140625,
          5.453247547149658,
          41.844024658203125
         ],
         "yaxis": "y"
        },
        {
         "customdata": [
          [
           "happy"
          ],
          [
           "surprised"
          ],
          [
           "happy"
          ],
          [
           "sad"
          ],
          [
           "surprised"
          ],
          [
           "surprised"
          ],
          [
           "surprised"
          ],
          [
           "disgusted"
          ],
          [
           "happy"
          ],
          [
           "surprised"
          ],
          [
           "surprised"
          ],
          [
           "surprised"
          ],
          [
           "surprised"
          ],
          [
           "angry"
          ],
          [
           "angry"
          ]
         ],
         "hovertemplate": "Predictions=neutral<br>Correct=False<br>x=%{x}<br>y=%{y}<br>Label=%{customdata[0]}<extra></extra>",
         "legendgroup": "neutral, False",
         "marker": {
          "color": "#AB63FA",
          "symbol": "x"
         },
         "mode": "markers",
         "name": "neutral, False",
         "showlegend": true,
         "type": "scattergl",
         "x": [
          22.309207916259766,
          -13.503744125366211,
          -6.223578929901123,
          -22.701866149902344,
          -15.208673477172852,
          -17.814992904663086,
          -5.744842529296875,
          -5.547985553741455,
          20.70032501220703,
          21.188167572021484,
          16.483203887939453,
          28.075984954833984,
          -18.614662170410156,
          34.14653396606445,
          24.48415184020996
         ],
         "xaxis": "x",
         "y": [
          -27.567277908325195,
          -37.01535415649414,
          -32.1871452331543,
          20.723613739013672,
          -47.58098602294922,
          -0.9611607193946838,
          -50.61920166015625,
          -51.00774383544922,
          36.4930534362793,
          42.587425231933594,
          41.18526077270508,
          18.878095626831055,
          8.993125915527344,
          -13.278443336486816,
          41.912601470947266
         ],
         "yaxis": "y"
        },
        {
         "customdata": [
          [
           "sad"
          ],
          [
           "sad"
          ],
          [
           "sad"
          ],
          [
           "sad"
          ],
          [
           "sad"
          ],
          [
           "sad"
          ],
          [
           "sad"
          ],
          [
           "sad"
          ],
          [
           "sad"
          ],
          [
           "sad"
          ],
          [
           "sad"
          ],
          [
           "sad"
          ],
          [
           "sad"
          ],
          [
           "sad"
          ],
          [
           "sad"
          ],
          [
           "sad"
          ],
          [
           "sad"
          ],
          [
           "sad"
          ],
          [
           "sad"
          ],
          [
           "sad"
          ],
          [
           "sad"
          ],
          [
           "sad"
          ],
          [
           "sad"
          ],
          [
           "sad"
          ],
          [
           "sad"
          ],
          [
           "sad"
          ],
          [
           "sad"
          ],
          [
           "sad"
          ],
          [
           "sad"
          ],
          [
           "sad"
          ],
          [
           "sad"
          ],
          [
           "sad"
          ],
          [
           "sad"
          ],
          [
           "sad"
          ],
          [
           "sad"
          ]
         ],
         "hovertemplate": "Predictions=sad<br>Correct=True<br>x=%{x}<br>y=%{y}<br>Label=%{customdata[0]}<extra></extra>",
         "legendgroup": "sad, True",
         "marker": {
          "color": "#FFA15A",
          "symbol": "circle"
         },
         "mode": "markers",
         "name": "sad, True",
         "showlegend": true,
         "type": "scattergl",
         "x": [
          22.431222915649414,
          -26.28548812866211,
          -35.29158401489258,
          -35.153377532958984,
          -36.45195770263672,
          22.41118049621582,
          27.217182159423828,
          -13.48926830291748,
          31.4962158203125,
          -8.28810977935791,
          -13.514182090759277,
          -10.672991752624512,
          -22.553712844848633,
          -22.90915298461914,
          -22.470096588134766,
          19.458274841308594,
          -22.274137496948242,
          27.020048141479492,
          -16.19144058227539,
          23.213720321655273,
          -30.601545333862305,
          17.219072341918945,
          15.371209144592285,
          24.33176040649414,
          25.587770462036133,
          27.523160934448242,
          29.19239044189453,
          27.647241592407227,
          17.831377029418945,
          -11.125004768371582,
          -11.057284355163574,
          -43.49045944213867,
          -44.095367431640625,
          18.97406768798828,
          25.46982192993164
         ],
         "xaxis": "x",
         "y": [
          29.2508602142334,
          3.2068679332733154,
          20.922222137451172,
          18.044790267944336,
          19.637319564819336,
          -27.008760452270508,
          -22.272119522094727,
          -37.05512619018555,
          -10.613880157470703,
          6.115189075469971,
          -44.70512771606445,
          7.077821731567383,
          -38.00602340698242,
          20.016992568969727,
          20.132497787475586,
          -27.944913864135742,
          20.747215270996094,
          -14.517359733581543,
          -1.4706814289093018,
          27.504899978637695,
          23.32905387878418,
          32.052982330322266,
          42.36015701293945,
          22.654640197753906,
          22.48845100402832,
          20.239675521850586,
          19.376977920532227,
          20.33064079284668,
          28.095897674560547,
          -40.20487976074219,
          2.6931915283203125,
          -16.761798858642578,
          -17.377174377441406,
          24.41618537902832,
          41.20711135864258
         ],
         "yaxis": "y"
        },
        {
         "customdata": [
          [
           "surprised"
          ],
          [
           "angry"
          ],
          [
           "disgusted"
          ],
          [
           "neutral"
          ],
          [
           "disgusted"
          ],
          [
           "angry"
          ],
          [
           "disgusted"
          ],
          [
           "disgusted"
          ],
          [
           "neutral"
          ],
          [
           "angry"
          ],
          [
           "disgusted"
          ]
         ],
         "hovertemplate": "Predictions=sad<br>Correct=False<br>x=%{x}<br>y=%{y}<br>Label=%{customdata[0]}<extra></extra>",
         "legendgroup": "sad, False",
         "marker": {
          "color": "#FFA15A",
          "symbol": "x"
         },
         "mode": "markers",
         "name": "sad, False",
         "showlegend": true,
         "type": "scattergl",
         "x": [
          -33.60379409790039,
          21.9112606048584,
          -22.90934181213379,
          -16.26643943786621,
          -5.687222003936768,
          -30.074247360229492,
          16.36881446838379,
          -20.305908203125,
          -27.96576690673828,
          -18.349451065063477,
          25.469757080078125
         ],
         "xaxis": "x",
         "y": [
          17.733745574951172,
          -26.86315155029297,
          20.791316986083984,
          -0.8783940672874451,
          -53.58311462402344,
          23.378591537475586,
          41.155643463134766,
          6.987476825714111,
          7.296236038208008,
          -35.97669219970703,
          41.20711898803711
         ],
         "yaxis": "y"
        },
        {
         "customdata": [
          [
           "surprised"
          ],
          [
           "surprised"
          ],
          [
           "surprised"
          ],
          [
           "surprised"
          ],
          [
           "surprised"
          ],
          [
           "surprised"
          ],
          [
           "surprised"
          ],
          [
           "happy"
          ],
          [
           "surprised"
          ],
          [
           "surprised"
          ],
          [
           "sad"
          ],
          [
           "surprised"
          ],
          [
           "surprised"
          ],
          [
           "surprised"
          ],
          [
           "angry"
          ],
          [
           "surprised"
          ],
          [
           "neutral"
          ],
          [
           "surprised"
          ],
          [
           "surprised"
          ],
          [
           "surprised"
          ],
          [
           "surprised"
          ],
          [
           "surprised"
          ],
          [
           "surprised"
          ],
          [
           "surprised"
          ],
          [
           "surprised"
          ],
          [
           "surprised"
          ],
          [
           "surprised"
          ],
          [
           "neutral"
          ],
          [
           "angry"
          ],
          [
           "surprised"
          ],
          [
           "surprised"
          ],
          [
           "neutral"
          ],
          [
           "surprised"
          ],
          [
           "surprised"
          ],
          [
           "surprised"
          ],
          [
           "surprised"
          ],
          [
           "surprised"
          ],
          [
           "surprised"
          ],
          [
           "surprised"
          ],
          [
           "neutral"
          ],
          [
           "surprised"
          ],
          [
           "neutral"
          ],
          [
           "neutral"
          ],
          [
           "happy"
          ],
          [
           "angry"
          ],
          [
           "surprised"
          ],
          [
           "neutral"
          ],
          [
           "surprised"
          ],
          [
           "surprised"
          ],
          [
           "neutral"
          ],
          [
           "surprised"
          ],
          [
           "surprised"
          ],
          [
           "surprised"
          ],
          [
           "surprised"
          ],
          [
           "surprised"
          ],
          [
           "happy"
          ]
         ],
         "hovertemplate": "Label=surprised<br>x=%{x}<br>y=%{y}<br>Predictions=%{customdata[0]}<extra></extra>",
         "legendgroup": "surprised",
         "marker": {
          "color": "#19D3F3",
          "opacity": 0.2,
          "size": 12,
          "symbol": "circle"
         },
         "mode": "markers",
         "name": "surprised",
         "showlegend": false,
         "type": "scattergl",
         "x": [
          -11.212021827697754,
          -16.847169876098633,
          -24.90557861328125,
          -25.27507781982422,
          -25.032642364501953,
          -25.466524124145508,
          29.460769653320312,
          29.457534790039062,
          39.47742462158203,
          -12.419837951660156,
          -33.60379409790039,
          22.503252029418945,
          22.141204833984375,
          21.8055477142334,
          30.173751831054688,
          29.56520652770996,
          -13.503744125366211,
          -15.69908618927002,
          -17.001850128173828,
          -14.069242477416992,
          19.1512508392334,
          -16.037206649780273,
          -1.9381425380706787,
          -23.296409606933594,
          -23.384517669677734,
          -23.04693031311035,
          18.6823673248291,
          -15.208673477172852,
          -16.981746673583984,
          27.193803787231445,
          -17.33193588256836,
          -17.814992904663086,
          28.10382080078125,
          20.06062126159668,
          -7.318872451782227,
          -4.729280948638916,
          -29.94635772705078,
          -6.438998699188232,
          -7.6260986328125,
          -5.744842529296875,
          18.524127960205078,
          21.188167572021484,
          16.483203887939453,
          15.334602355957031,
          27.845890045166016,
          25.093555450439453,
          28.075984954833984,
          -14.152053833007812,
          -42.469398498535156,
          -18.614662170410156,
          -42.56444549560547,
          -43.52598571777344,
          -1.0672868490219116,
          -3.2060463428497314,
          25.91193199157715,
          23.748966217041016
         ],
         "xaxis": "x",
         "y": [
          10.641724586486816,
          -44.01690673828125,
          3.9814400672912598,
          4.605867385864258,
          3.3856444358825684,
          4.105062007904053,
          -20.50189971923828,
          -19.648487091064453,
          -19.42462730407715,
          -50.21064376831055,
          17.733745574951172,
          -27.294029235839844,
          -27.911733627319336,
          -27.275209426879883,
          -6.801575183868408,
          -21.553115844726562,
          -37.01535415649414,
          -38.08120346069336,
          -36.75946807861328,
          -35.08782958984375,
          24.06525230407715,
          -43.36917495727539,
          -0.63837730884552,
          20.499109268188477,
          20.17346954345703,
          19.971153259277344,
          -27.411399841308594,
          -47.58098602294922,
          -0.6239755749702454,
          -14.609548568725586,
          -1.25864577293396,
          -0.9611607193946838,
          -15.807868003845215,
          27.170270919799805,
          -54.015045166015625,
          -52.574745178222656,
          23.31072425842285,
          -52.031494140625,
          -52.52265930175781,
          -50.61920166015625,
          33.11277389526367,
          42.587425231933594,
          41.18526077270508,
          41.72117233276367,
          21.37790870666504,
          22.1276912689209,
          18.878095626831055,
          -38.29561233520508,
          -19.21218490600586,
          8.993125915527344,
          -17.211406707763672,
          -17.846315383911133,
          -0.7063696980476379,
          -1.2570990324020386,
          41.7923583984375,
          40.55559539794922
         ],
         "yaxis": "y"
        },
        {
         "customdata": [
          [
           "happy"
          ],
          [
           "disgusted"
          ],
          [
           "disgusted"
          ],
          [
           "disgusted"
          ],
          [
           "disgusted"
          ],
          [
           "disgusted"
          ],
          [
           "disgusted"
          ],
          [
           "disgusted"
          ],
          [
           "happy"
          ],
          [
           "disgusted"
          ],
          [
           "disgusted"
          ],
          [
           "disgusted"
          ],
          [
           "disgusted"
          ],
          [
           "disgusted"
          ],
          [
           "disgusted"
          ],
          [
           "disgusted"
          ],
          [
           "disgusted"
          ],
          [
           "disgusted"
          ],
          [
           "disgusted"
          ],
          [
           "disgusted"
          ],
          [
           "sad"
          ],
          [
           "disgusted"
          ],
          [
           "disgusted"
          ],
          [
           "disgusted"
          ],
          [
           "disgusted"
          ],
          [
           "disgusted"
          ],
          [
           "sad"
          ],
          [
           "surprised"
          ],
          [
           "disgusted"
          ],
          [
           "neutral"
          ],
          [
           "disgusted"
          ],
          [
           "disgusted"
          ],
          [
           "happy"
          ],
          [
           "sad"
          ],
          [
           "disgusted"
          ],
          [
           "disgusted"
          ],
          [
           "disgusted"
          ],
          [
           "disgusted"
          ],
          [
           "disgusted"
          ],
          [
           "disgusted"
          ],
          [
           "disgusted"
          ],
          [
           "sad"
          ],
          [
           "disgusted"
          ],
          [
           "angry"
          ],
          [
           "disgusted"
          ],
          [
           "disgusted"
          ],
          [
           "disgusted"
          ],
          [
           "disgusted"
          ],
          [
           "disgusted"
          ],
          [
           "disgusted"
          ],
          [
           "sad"
          ],
          [
           "disgusted"
          ],
          [
           "disgusted"
          ],
          [
           "disgusted"
          ]
         ],
         "hovertemplate": "Label=disgusted<br>x=%{x}<br>y=%{y}<br>Predictions=%{customdata[0]}<extra></extra>",
         "legendgroup": "disgusted",
         "marker": {
          "color": "#EF553B",
          "opacity": 0.2,
          "size": 12,
          "symbol": "circle"
         },
         "mode": "markers",
         "name": "disgusted",
         "showlegend": false,
         "type": "scattergl",
         "x": [
          -10.181806564331055,
          -42.192649841308594,
          -18.652658462524414,
          29.45635223388672,
          29.86148452758789,
          22.334426879882812,
          -34.20920181274414,
          -35.19412612915039,
          -36.86848068237305,
          22.217479705810547,
          14.347936630249023,
          13.986540794372559,
          29.645092010498047,
          29.61188507080078,
          -18.48676300048828,
          -17.83042335510254,
          -13.565346717834473,
          -15.467931747436523,
          -15.626167297363281,
          -13.365619659423828,
          -22.90934181213379,
          19.22910499572754,
          19.335111618041992,
          18.92519187927246,
          -12.300899505615234,
          28.322534561157227,
          -5.687222003936768,
          -6.503806114196777,
          -5.714798927307129,
          -5.547985553741455,
          20.134220123291016,
          20.757549285888672,
          16.51145362854004,
          16.36881446838379,
          14.697149276733398,
          29.18667984008789,
          25.882137298583984,
          27.84099006652832,
          26.271196365356445,
          26.730207443237305,
          28.879179000854492,
          -20.305908203125,
          -9.711187362670898,
          -16.32233428955078,
          -9.33886432647705,
          23.316267013549805,
          32.540279388427734,
          -8.567282676696777,
          0.1480276733636856,
          25.27215003967285,
          25.469757080078125,
          23.818645477294922,
          24.579675674438477,
          30.5628604888916
         ],
         "xaxis": "x",
         "y": [
          5.714942932128906,
          -20.336421966552734,
          -40.891597747802734,
          -20.09661865234375,
          -19.68452262878418,
          29.175676345825195,
          16.31269073486328,
          21.442121505737305,
          20.266611099243164,
          -26.966228485107422,
          37.942848205566406,
          40.64296340942383,
          -7.973839282989502,
          -7.987028121948242,
          12.085638999938965,
          9.203496932983398,
          -36.400203704833984,
          -43.64516830444336,
          -43.57398223876953,
          -44.76433563232422,
          20.791316986083984,
          -27.444080352783203,
          -28.282190322875977,
          -27.982059478759766,
          3.792423725128174,
          -15.083621978759766,
          -53.58311462402344,
          -50.858734130859375,
          -51.27399444580078,
          -51.00774383544922,
          36.03691864013672,
          36.55312728881836,
          41.132057189941406,
          41.155643463134766,
          41.934444427490234,
          19.08185577392578,
          23.967041015625,
          19.530847549438477,
          19.35039520263672,
          19.793134689331055,
          18.340852737426758,
          6.987476825714111,
          8.364972114562988,
          3.674264430999756,
          5.9600396156311035,
          26.23587989807129,
          -11.59376335144043,
          5.431201457977295,
          -0.16858479380607605,
          43.055030822753906,
          41.20711898803711,
          42.475284576416016,
          42.421207427978516,
          -15.525178909301758
         ],
         "yaxis": "y"
        },
        {
         "customdata": [
          [
           "happy"
          ],
          [
           "happy"
          ],
          [
           "happy"
          ],
          [
           "happy"
          ],
          [
           "happy"
          ],
          [
           "happy"
          ],
          [
           "happy"
          ],
          [
           "happy"
          ],
          [
           "happy"
          ],
          [
           "happy"
          ],
          [
           "happy"
          ],
          [
           "happy"
          ],
          [
           "happy"
          ],
          [
           "neutral"
          ],
          [
           "happy"
          ],
          [
           "happy"
          ],
          [
           "happy"
          ],
          [
           "happy"
          ],
          [
           "happy"
          ],
          [
           "happy"
          ],
          [
           "happy"
          ],
          [
           "happy"
          ],
          [
           "surprised"
          ],
          [
           "surprised"
          ],
          [
           "happy"
          ],
          [
           "happy"
          ],
          [
           "neutral"
          ],
          [
           "happy"
          ],
          [
           "happy"
          ],
          [
           "happy"
          ],
          [
           "disgusted"
          ],
          [
           "happy"
          ],
          [
           "happy"
          ],
          [
           "surprised"
          ],
          [
           "happy"
          ],
          [
           "happy"
          ],
          [
           "happy"
          ],
          [
           "happy"
          ],
          [
           "happy"
          ],
          [
           "disgusted"
          ],
          [
           "happy"
          ],
          [
           "happy"
          ],
          [
           "happy"
          ],
          [
           "happy"
          ],
          [
           "happy"
          ],
          [
           "happy"
          ],
          [
           "happy"
          ],
          [
           "happy"
          ],
          [
           "neutral"
          ],
          [
           "happy"
          ],
          [
           "happy"
          ],
          [
           "happy"
          ],
          [
           "happy"
          ],
          [
           "happy"
          ],
          [
           "happy"
          ],
          [
           "happy"
          ],
          [
           "happy"
          ],
          [
           "happy"
          ],
          [
           "happy"
          ],
          [
           "happy"
          ],
          [
           "surprised"
          ],
          [
           "happy"
          ],
          [
           "happy"
          ],
          [
           "happy"
          ],
          [
           "happy"
          ],
          [
           "happy"
          ],
          [
           "angry"
          ],
          [
           "happy"
          ]
         ],
         "hovertemplate": "Label=happy<br>x=%{x}<br>y=%{y}<br>Predictions=%{customdata[0]}<extra></extra>",
         "legendgroup": "happy",
         "marker": {
          "color": "#00CC96",
          "opacity": 0.2,
          "size": 12,
          "symbol": "circle"
         },
         "mode": "markers",
         "name": "happy",
         "showlegend": false,
         "type": "scattergl",
         "x": [
          -17.644289016723633,
          -19.145483016967773,
          -25.670822143554688,
          29.5589599609375,
          -26.301050186157227,
          -36.64060974121094,
          -35.1468391418457,
          -37.356563568115234,
          -34.967899322509766,
          -36.97983932495117,
          -35.09817886352539,
          -34.28913116455078,
          -21.602575302124023,
          22.309207916259766,
          14.014552116394043,
          -10.252059936523438,
          -10.261259078979492,
          27.36008071899414,
          -15.18781852722168,
          -17.77923011779785,
          -18.59133529663086,
          -18.430633544921875,
          31.38018035888672,
          -43.68587875366211,
          30.664182662963867,
          -14.20795726776123,
          -6.223578929901123,
          -4.653960227966309,
          -23.031686782836914,
          -23.255239486694336,
          19.37264633178711,
          18.680601119995117,
          -10.455533027648926,
          -20.196229934692383,
          -17.6247501373291,
          -17.306976318359375,
          28.11981201171875,
          17.932836532592773,
          19.36517333984375,
          -7.398292064666748,
          -6.409736156463623,
          -6.427536487579346,
          -6.725164413452148,
          -7.429111480712891,
          -7.485979080200195,
          -6.177393436431885,
          20.03313446044922,
          17.223941802978516,
          20.70032501220703,
          15.714298248291016,
          26.579042434692383,
          25.796464920043945,
          27.810300827026367,
          28.39349365234375,
          25.632049560546875,
          23.20589828491211,
          -12.081175804138184,
          -11.077584266662598,
          24.64474868774414,
          -0.6280423998832703,
          35.807891845703125,
          23.954830169677734,
          23.886350631713867,
          24.5303955078125,
          24.477344512939453,
          23.408912658691406,
          23.408443450927734,
          23.668418884277344
         ],
         "xaxis": "x",
         "y": [
          -42.81300735473633,
          -38.52943801879883,
          4.767104625701904,
          -19.993791580200195,
          3.3521294593811035,
          21.74648094177246,
          16.4542293548584,
          20.99620819091797,
          21.134868621826172,
          19.852581024169922,
          17.690292358398438,
          17.503442764282227,
          14.641600608825684,
          -27.567277908325195,
          40.30556869506836,
          -2.3916754722595215,
          -2.3905911445617676,
          -21.49087905883789,
          -37.18570327758789,
          5.504210472106934,
          -35.29206466674805,
          -34.97682571411133,
          -11.365986824035645,
          -17.266714096069336,
          -6.11594820022583,
          7.827582359313965,
          -32.1871452331543,
          -30.886795043945312,
          -37.563899993896484,
          20.778667449951172,
          -28.076757431030273,
          -27.830060958862305,
          7.786099433898926,
          -44.60858154296875,
          -42.70589828491211,
          -0.5532214045524597,
          -14.822611808776855,
          26.555513381958008,
          26.58000946044922,
          -53.97976303100586,
          -51.13475036621094,
          -51.3606071472168,
          -51.921043395996094,
          -52.87128448486328,
          -52.53864288330078,
          -50.59642028808594,
          34.55929946899414,
          32.073143005371094,
          36.4930534362793,
          41.54604721069336,
          23.69727325439453,
          21.959749221801758,
          19.209489822387695,
          19.37041664123535,
          30.877544403076172,
          34.316192626953125,
          -40.118770599365234,
          2.776914596557617,
          26.233501434326172,
          0.09995553642511368,
          -7.641880512237549,
          41.788272857666016,
          40.830841064453125,
          43.24415588378906,
          42.98274612426758,
          42.378257751464844,
          42.37805938720703,
          42.94707107543945
         ],
         "yaxis": "y"
        },
        {
         "customdata": [
          [
           "happy"
          ],
          [
           "happy"
          ],
          [
           "sad"
          ],
          [
           "happy"
          ],
          [
           "happy"
          ],
          [
           "sad"
          ],
          [
           "sad"
          ],
          [
           "sad"
          ],
          [
           "happy"
          ],
          [
           "sad"
          ],
          [
           "angry"
          ],
          [
           "sad"
          ],
          [
           "sad"
          ],
          [
           "angry"
          ],
          [
           "sad"
          ],
          [
           "sad"
          ],
          [
           "angry"
          ],
          [
           "sad"
          ],
          [
           "sad"
          ],
          [
           "sad"
          ],
          [
           "sad"
          ],
          [
           "sad"
          ],
          [
           "neutral"
          ],
          [
           "sad"
          ],
          [
           "sad"
          ],
          [
           "sad"
          ],
          [
           "angry"
          ],
          [
           "angry"
          ],
          [
           "surprised"
          ],
          [
           "sad"
          ],
          [
           "disgusted"
          ],
          [
           "sad"
          ],
          [
           "happy"
          ],
          [
           "angry"
          ],
          [
           "sad"
          ],
          [
           "sad"
          ],
          [
           "disgusted"
          ],
          [
           "sad"
          ],
          [
           "sad"
          ],
          [
           "sad"
          ],
          [
           "sad"
          ],
          [
           "disgusted"
          ],
          [
           "sad"
          ],
          [
           "sad"
          ],
          [
           "sad"
          ],
          [
           "sad"
          ],
          [
           "sad"
          ],
          [
           "sad"
          ],
          [
           "sad"
          ],
          [
           "sad"
          ],
          [
           "sad"
          ],
          [
           "angry"
          ],
          [
           "angry"
          ],
          [
           "sad"
          ]
         ],
         "hovertemplate": "Label=sad<br>x=%{x}<br>y=%{y}<br>Predictions=%{customdata[0]}<extra></extra>",
         "legendgroup": "sad",
         "marker": {
          "color": "#FFA15A",
          "opacity": 0.2,
          "size": 12,
          "symbol": "circle"
         },
         "mode": "markers",
         "name": "sad",
         "showlegend": false,
         "type": "scattergl",
         "x": [
          -17.962081909179688,
          -12.05917739868164,
          22.431222915649414,
          -25.448524475097656,
          -25.560548782348633,
          -26.28548812866211,
          -35.29158401489258,
          -35.153377532958984,
          -36.14860153198242,
          -36.45195770263672,
          -34.29530334472656,
          22.41118049621582,
          27.217182159423828,
          -16.794937133789062,
          -13.48926830291748,
          31.4962158203125,
          32.72523880004883,
          -8.28810977935791,
          -13.514182090759277,
          -10.672991752624512,
          -22.553712844848633,
          -22.90915298461914,
          -22.701866149902344,
          -22.470096588134766,
          19.458274841308594,
          -22.274137496948242,
          18.977676391601562,
          -16.18300437927246,
          -17.529478073120117,
          27.020048141479492,
          28.626718521118164,
          -16.19144058227539,
          -5.295243263244629,
          -6.465895652770996,
          23.213720321655273,
          -30.601545333862305,
          -5.62143087387085,
          17.219072341918945,
          15.371209144592285,
          24.33176040649414,
          25.587770462036133,
          25.613121032714844,
          27.523160934448242,
          29.19239044189453,
          27.647241592407227,
          17.831377029418945,
          -11.125004768371582,
          -11.057284355163574,
          -43.49045944213867,
          -44.095367431640625,
          18.97406768798828,
          35.86036682128906,
          22.35821533203125,
          25.46982192993164
         ],
         "xaxis": "x",
         "y": [
          -43.303955078125,
          5.6899638175964355,
          29.2508602142334,
          3.4638280868530273,
          4.095505714416504,
          3.2068679332733154,
          20.922222137451172,
          18.044790267944336,
          20.63610076904297,
          19.637319564819336,
          16.5221004486084,
          -27.008760452270508,
          -22.272119522094727,
          -38.33138656616211,
          -37.05512619018555,
          -10.613880157470703,
          -11.698881149291992,
          6.115189075469971,
          -44.70512771606445,
          7.077821731567383,
          -38.00602340698242,
          20.016992568969727,
          20.723613739013672,
          20.132497787475586,
          -27.944913864135742,
          20.747215270996094,
          -27.431163787841797,
          -44.50971984863281,
          -0.023118657991290092,
          -14.517359733581543,
          -15.375882148742676,
          -1.4706814289093018,
          -52.59625244140625,
          -54.70664978027344,
          27.504899978637695,
          23.32905387878418,
          -51.4751091003418,
          32.052982330322266,
          42.36015701293945,
          22.654640197753906,
          22.48845100402832,
          22.911863327026367,
          20.239675521850586,
          19.376977920532227,
          20.33064079284668,
          28.095897674560547,
          -40.20487976074219,
          2.6931915283203125,
          -16.761798858642578,
          -17.377174377441406,
          24.41618537902832,
          -7.515722274780273,
          41.32002639770508,
          41.20711135864258
         ],
         "yaxis": "y"
        },
        {
         "customdata": [
          [
           "angry"
          ],
          [
           "angry"
          ],
          [
           "angry"
          ],
          [
           "angry"
          ],
          [
           "disgusted"
          ],
          [
           "angry"
          ],
          [
           "angry"
          ],
          [
           "angry"
          ],
          [
           "angry"
          ],
          [
           "angry"
          ],
          [
           "angry"
          ],
          [
           "sad"
          ],
          [
           "angry"
          ],
          [
           "happy"
          ],
          [
           "angry"
          ],
          [
           "angry"
          ],
          [
           "angry"
          ],
          [
           "surprised"
          ],
          [
           "happy"
          ],
          [
           "surprised"
          ],
          [
           "surprised"
          ],
          [
           "angry"
          ],
          [
           "angry"
          ],
          [
           "angry"
          ],
          [
           "angry"
          ],
          [
           "disgusted"
          ],
          [
           "angry"
          ],
          [
           "disgusted"
          ],
          [
           "disgusted"
          ],
          [
           "angry"
          ],
          [
           "disgusted"
          ],
          [
           "angry"
          ],
          [
           "angry"
          ],
          [
           "sad"
          ],
          [
           "angry"
          ],
          [
           "angry"
          ],
          [
           "angry"
          ],
          [
           "happy"
          ],
          [
           "sad"
          ],
          [
           "angry"
          ],
          [
           "neutral"
          ],
          [
           "angry"
          ],
          [
           "angry"
          ],
          [
           "neutral"
          ],
          [
           "angry"
          ],
          [
           "angry"
          ]
         ],
         "hovertemplate": "Label=angry<br>x=%{x}<br>y=%{y}<br>Predictions=%{customdata[0]}<extra></extra>",
         "legendgroup": "angry",
         "marker": {
          "color": "#636EFA",
          "opacity": 0.2,
          "size": 12,
          "symbol": "circle"
         },
         "mode": "markers",
         "name": "angry",
         "showlegend": false,
         "type": "scattergl",
         "x": [
          -42.250064849853516,
          -19.19832420349121,
          28.831005096435547,
          29.247661590576172,
          30.146678924560547,
          -35.73580551147461,
          -36.67815017700195,
          -11.470197677612305,
          -35.0403938293457,
          -34.19972610473633,
          -34.070350646972656,
          21.9112606048584,
          16.471881866455078,
          11.523639678955078,
          11.853813171386719,
          13.896052360534668,
          -6.674288272857666,
          32.599510192871094,
          1.099762201309204,
          -20.48825454711914,
          -12.532181739807129,
          -11.431028366088867,
          -16.049942016601562,
          -1.3371602296829224,
          -17.737150192260742,
          10.848023414611816,
          -12.154010772705078,
          -19.02081871032715,
          -17.531572341918945,
          -16.15357780456543,
          -6.096700191497803,
          31.078054428100586,
          -7.516016960144043,
          -30.074247360229492,
          16.100902557373047,
          25.866622924804688,
          27.06559181213379,
          26.16900062561035,
          -18.349451065063477,
          32.857421875,
          34.14653396606445,
          1.1639480590820312,
          24.08478546142578,
          24.48415184020996,
          24.331953048706055,
          23.873031616210938
         ],
         "xaxis": "x",
         "y": [
          -20.4683780670166,
          -37.5894660949707,
          -20.19896697998047,
          -20.292015075683594,
          -20.281919479370117,
          18.406686782836914,
          22.11826515197754,
          -50.35377883911133,
          17.304046630859375,
          15.998231887817383,
          17.705909729003906,
          -26.86315155029297,
          32.757781982421875,
          42.6783561706543,
          42.9741325378418,
          38.705684661865234,
          -4.376615047454834,
          -12.255048751831055,
          35.66242980957031,
          8.47412395477295,
          -44.122718811035156,
          5.587433338165283,
          -43.45743179321289,
          1.0240118503570557,
          -41.8507194519043,
          33.05403518676758,
          9.077728271484375,
          -43.819950103759766,
          0.9919824600219727,
          -1.448673129081726,
          -52.92192077636719,
          -20.025848388671875,
          -52.95719528198242,
          23.378591537475586,
          41.78467559814453,
          19.939529418945312,
          21.9740047454834,
          22.298627853393555,
          -35.97669219970703,
          -12.769184112548828,
          -13.278443336486816,
          1.721225619316101,
          41.53561782836914,
          41.912601470947266,
          42.60677719116211,
          43.27015686035156
         ],
         "yaxis": "y"
        },
        {
         "customdata": [
          [
           "neutral"
          ],
          [
           "happy"
          ],
          [
           "neutral"
          ],
          [
           "neutral"
          ],
          [
           "neutral"
          ],
          [
           "neutral"
          ],
          [
           "neutral"
          ],
          [
           "neutral"
          ],
          [
           "angry"
          ],
          [
           "surprised"
          ],
          [
           "neutral"
          ],
          [
           "neutral"
          ],
          [
           "neutral"
          ],
          [
           "neutral"
          ],
          [
           "neutral"
          ],
          [
           "neutral"
          ],
          [
           "neutral"
          ],
          [
           "neutral"
          ],
          [
           "neutral"
          ],
          [
           "neutral"
          ],
          [
           "happy"
          ],
          [
           "sad"
          ],
          [
           "neutral"
          ],
          [
           "neutral"
          ],
          [
           "happy"
          ],
          [
           "neutral"
          ],
          [
           "neutral"
          ],
          [
           "neutral"
          ],
          [
           "neutral"
          ],
          [
           "neutral"
          ],
          [
           "neutral"
          ],
          [
           "surprised"
          ],
          [
           "angry"
          ],
          [
           "happy"
          ],
          [
           "disgusted"
          ],
          [
           "neutral"
          ],
          [
           "neutral"
          ],
          [
           "surprised"
          ],
          [
           "neutral"
          ],
          [
           "neutral"
          ],
          [
           "sad"
          ],
          [
           "neutral"
          ],
          [
           "neutral"
          ],
          [
           "neutral"
          ],
          [
           "surprised"
          ],
          [
           "happy"
          ],
          [
           "neutral"
          ]
         ],
         "hovertemplate": "Label=neutral<br>x=%{x}<br>y=%{y}<br>Predictions=%{customdata[0]}<extra></extra>",
         "legendgroup": "neutral",
         "marker": {
          "color": "#AB63FA",
          "opacity": 0.2,
          "size": 12,
          "symbol": "circle"
         },
         "mode": "markers",
         "name": "neutral",
         "showlegend": false,
         "type": "scattergl",
         "x": [
          28.696083068847656,
          -37.11313247680664,
          -36.89774703979492,
          -36.62617492675781,
          -33.67427444458008,
          -33.67422866821289,
          -33.76194763183594,
          17.70601463317871,
          14.001944541931152,
          14.052590370178223,
          13.890363693237305,
          -20.41049575805664,
          -20.342735290527344,
          -41.74634552001953,
          -15.65282917022705,
          -14.751530647277832,
          -18.996212005615234,
          -23.377408981323242,
          -22.498336791992188,
          10.865056991577148,
          -15.076809883117676,
          -16.26643943786621,
          18.115976333618164,
          19.916440963745117,
          -6.581515789031982,
          -30.357040405273438,
          -29.697036743164062,
          -5.754968643188477,
          18.669363021850586,
          20.14165687561035,
          15.389725685119629,
          25.704273223876953,
          26.34084701538086,
          27.482227325439453,
          26.728897094726562,
          26.130908966064453,
          26.13230323791504,
          35.967384338378906,
          16.906831741333008,
          33.079254150390625,
          -27.96576690673828,
          -14.624457359313965,
          -13.263178825378418,
          -8.228482246398926,
          -2.964221239089966,
          -3.308307409286499,
          22.76866340637207
         ],
         "xaxis": "x",
         "y": [
          -19.89338493347168,
          21.649858474731445,
          22.308670043945312,
          19.654024124145508,
          16.521137237548828,
          17.67093849182129,
          15.849279403686523,
          33.226871490478516,
          40.16093063354492,
          38.28073501586914,
          38.80465316772461,
          9.80659008026123,
          3.8539929389953613,
          -19.063779830932617,
          9.072948455810547,
          -37.211463928222656,
          -35.686424255371094,
          -37.45308303833008,
          20.247133255004883,
          33.06067657470703,
          -41.71151351928711,
          -0.8783940672874451,
          26.598026275634766,
          27.026201248168945,
          -53.81524658203125,
          23.0982723236084,
          23.376819610595703,
          -52.246009826660156,
          33.17592239379883,
          35.78710174560547,
          42.31902313232422,
          24.557933807373047,
          23.14911651611328,
          20.4265079498291,
          20.600601196289062,
          20.003564834594727,
          22.140913009643555,
          -6.631552219390869,
          37.61743927001953,
          -19.305469512939453,
          7.296236038208008,
          0.7882527112960815,
          -41.690093994140625,
          5.453247547149658,
          -0.10820081830024719,
          -1.2603428363800049,
          41.844024658203125
         ],
         "yaxis": "y"
        }
       ],
       "layout": {
        "legend": {
         "title": {
          "text": "Predictions, Correct"
         },
         "tracegroupgap": 0
        },
        "margin": {
         "t": 60
        },
        "template": {
         "data": {
          "bar": [
           {
            "error_x": {
             "color": "#2a3f5f"
            },
            "error_y": {
             "color": "#2a3f5f"
            },
            "marker": {
             "line": {
              "color": "#E5ECF6",
              "width": 0.5
             },
             "pattern": {
              "fillmode": "overlay",
              "size": 10,
              "solidity": 0.2
             }
            },
            "type": "bar"
           }
          ],
          "barpolar": [
           {
            "marker": {
             "line": {
              "color": "#E5ECF6",
              "width": 0.5
             },
             "pattern": {
              "fillmode": "overlay",
              "size": 10,
              "solidity": 0.2
             }
            },
            "type": "barpolar"
           }
          ],
          "carpet": [
           {
            "aaxis": {
             "endlinecolor": "#2a3f5f",
             "gridcolor": "white",
             "linecolor": "white",
             "minorgridcolor": "white",
             "startlinecolor": "#2a3f5f"
            },
            "baxis": {
             "endlinecolor": "#2a3f5f",
             "gridcolor": "white",
             "linecolor": "white",
             "minorgridcolor": "white",
             "startlinecolor": "#2a3f5f"
            },
            "type": "carpet"
           }
          ],
          "choropleth": [
           {
            "colorbar": {
             "outlinewidth": 0,
             "ticks": ""
            },
            "type": "choropleth"
           }
          ],
          "contour": [
           {
            "colorbar": {
             "outlinewidth": 0,
             "ticks": ""
            },
            "colorscale": [
             [
              0,
              "#0d0887"
             ],
             [
              0.1111111111111111,
              "#46039f"
             ],
             [
              0.2222222222222222,
              "#7201a8"
             ],
             [
              0.3333333333333333,
              "#9c179e"
             ],
             [
              0.4444444444444444,
              "#bd3786"
             ],
             [
              0.5555555555555556,
              "#d8576b"
             ],
             [
              0.6666666666666666,
              "#ed7953"
             ],
             [
              0.7777777777777778,
              "#fb9f3a"
             ],
             [
              0.8888888888888888,
              "#fdca26"
             ],
             [
              1,
              "#f0f921"
             ]
            ],
            "type": "contour"
           }
          ],
          "contourcarpet": [
           {
            "colorbar": {
             "outlinewidth": 0,
             "ticks": ""
            },
            "type": "contourcarpet"
           }
          ],
          "heatmap": [
           {
            "colorbar": {
             "outlinewidth": 0,
             "ticks": ""
            },
            "colorscale": [
             [
              0,
              "#0d0887"
             ],
             [
              0.1111111111111111,
              "#46039f"
             ],
             [
              0.2222222222222222,
              "#7201a8"
             ],
             [
              0.3333333333333333,
              "#9c179e"
             ],
             [
              0.4444444444444444,
              "#bd3786"
             ],
             [
              0.5555555555555556,
              "#d8576b"
             ],
             [
              0.6666666666666666,
              "#ed7953"
             ],
             [
              0.7777777777777778,
              "#fb9f3a"
             ],
             [
              0.8888888888888888,
              "#fdca26"
             ],
             [
              1,
              "#f0f921"
             ]
            ],
            "type": "heatmap"
           }
          ],
          "heatmapgl": [
           {
            "colorbar": {
             "outlinewidth": 0,
             "ticks": ""
            },
            "colorscale": [
             [
              0,
              "#0d0887"
             ],
             [
              0.1111111111111111,
              "#46039f"
             ],
             [
              0.2222222222222222,
              "#7201a8"
             ],
             [
              0.3333333333333333,
              "#9c179e"
             ],
             [
              0.4444444444444444,
              "#bd3786"
             ],
             [
              0.5555555555555556,
              "#d8576b"
             ],
             [
              0.6666666666666666,
              "#ed7953"
             ],
             [
              0.7777777777777778,
              "#fb9f3a"
             ],
             [
              0.8888888888888888,
              "#fdca26"
             ],
             [
              1,
              "#f0f921"
             ]
            ],
            "type": "heatmapgl"
           }
          ],
          "histogram": [
           {
            "marker": {
             "pattern": {
              "fillmode": "overlay",
              "size": 10,
              "solidity": 0.2
             }
            },
            "type": "histogram"
           }
          ],
          "histogram2d": [
           {
            "colorbar": {
             "outlinewidth": 0,
             "ticks": ""
            },
            "colorscale": [
             [
              0,
              "#0d0887"
             ],
             [
              0.1111111111111111,
              "#46039f"
             ],
             [
              0.2222222222222222,
              "#7201a8"
             ],
             [
              0.3333333333333333,
              "#9c179e"
             ],
             [
              0.4444444444444444,
              "#bd3786"
             ],
             [
              0.5555555555555556,
              "#d8576b"
             ],
             [
              0.6666666666666666,
              "#ed7953"
             ],
             [
              0.7777777777777778,
              "#fb9f3a"
             ],
             [
              0.8888888888888888,
              "#fdca26"
             ],
             [
              1,
              "#f0f921"
             ]
            ],
            "type": "histogram2d"
           }
          ],
          "histogram2dcontour": [
           {
            "colorbar": {
             "outlinewidth": 0,
             "ticks": ""
            },
            "colorscale": [
             [
              0,
              "#0d0887"
             ],
             [
              0.1111111111111111,
              "#46039f"
             ],
             [
              0.2222222222222222,
              "#7201a8"
             ],
             [
              0.3333333333333333,
              "#9c179e"
             ],
             [
              0.4444444444444444,
              "#bd3786"
             ],
             [
              0.5555555555555556,
              "#d8576b"
             ],
             [
              0.6666666666666666,
              "#ed7953"
             ],
             [
              0.7777777777777778,
              "#fb9f3a"
             ],
             [
              0.8888888888888888,
              "#fdca26"
             ],
             [
              1,
              "#f0f921"
             ]
            ],
            "type": "histogram2dcontour"
           }
          ],
          "mesh3d": [
           {
            "colorbar": {
             "outlinewidth": 0,
             "ticks": ""
            },
            "type": "mesh3d"
           }
          ],
          "parcoords": [
           {
            "line": {
             "colorbar": {
              "outlinewidth": 0,
              "ticks": ""
             }
            },
            "type": "parcoords"
           }
          ],
          "pie": [
           {
            "automargin": true,
            "type": "pie"
           }
          ],
          "scatter": [
           {
            "fillpattern": {
             "fillmode": "overlay",
             "size": 10,
             "solidity": 0.2
            },
            "type": "scatter"
           }
          ],
          "scatter3d": [
           {
            "line": {
             "colorbar": {
              "outlinewidth": 0,
              "ticks": ""
             }
            },
            "marker": {
             "colorbar": {
              "outlinewidth": 0,
              "ticks": ""
             }
            },
            "type": "scatter3d"
           }
          ],
          "scattercarpet": [
           {
            "marker": {
             "colorbar": {
              "outlinewidth": 0,
              "ticks": ""
             }
            },
            "type": "scattercarpet"
           }
          ],
          "scattergeo": [
           {
            "marker": {
             "colorbar": {
              "outlinewidth": 0,
              "ticks": ""
             }
            },
            "type": "scattergeo"
           }
          ],
          "scattergl": [
           {
            "marker": {
             "colorbar": {
              "outlinewidth": 0,
              "ticks": ""
             }
            },
            "type": "scattergl"
           }
          ],
          "scattermapbox": [
           {
            "marker": {
             "colorbar": {
              "outlinewidth": 0,
              "ticks": ""
             }
            },
            "type": "scattermapbox"
           }
          ],
          "scatterpolar": [
           {
            "marker": {
             "colorbar": {
              "outlinewidth": 0,
              "ticks": ""
             }
            },
            "type": "scatterpolar"
           }
          ],
          "scatterpolargl": [
           {
            "marker": {
             "colorbar": {
              "outlinewidth": 0,
              "ticks": ""
             }
            },
            "type": "scatterpolargl"
           }
          ],
          "scatterternary": [
           {
            "marker": {
             "colorbar": {
              "outlinewidth": 0,
              "ticks": ""
             }
            },
            "type": "scatterternary"
           }
          ],
          "surface": [
           {
            "colorbar": {
             "outlinewidth": 0,
             "ticks": ""
            },
            "colorscale": [
             [
              0,
              "#0d0887"
             ],
             [
              0.1111111111111111,
              "#46039f"
             ],
             [
              0.2222222222222222,
              "#7201a8"
             ],
             [
              0.3333333333333333,
              "#9c179e"
             ],
             [
              0.4444444444444444,
              "#bd3786"
             ],
             [
              0.5555555555555556,
              "#d8576b"
             ],
             [
              0.6666666666666666,
              "#ed7953"
             ],
             [
              0.7777777777777778,
              "#fb9f3a"
             ],
             [
              0.8888888888888888,
              "#fdca26"
             ],
             [
              1,
              "#f0f921"
             ]
            ],
            "type": "surface"
           }
          ],
          "table": [
           {
            "cells": {
             "fill": {
              "color": "#EBF0F8"
             },
             "line": {
              "color": "white"
             }
            },
            "header": {
             "fill": {
              "color": "#C8D4E3"
             },
             "line": {
              "color": "white"
             }
            },
            "type": "table"
           }
          ]
         },
         "layout": {
          "annotationdefaults": {
           "arrowcolor": "#2a3f5f",
           "arrowhead": 0,
           "arrowwidth": 1
          },
          "autotypenumbers": "strict",
          "coloraxis": {
           "colorbar": {
            "outlinewidth": 0,
            "ticks": ""
           }
          },
          "colorscale": {
           "diverging": [
            [
             0,
             "#8e0152"
            ],
            [
             0.1,
             "#c51b7d"
            ],
            [
             0.2,
             "#de77ae"
            ],
            [
             0.3,
             "#f1b6da"
            ],
            [
             0.4,
             "#fde0ef"
            ],
            [
             0.5,
             "#f7f7f7"
            ],
            [
             0.6,
             "#e6f5d0"
            ],
            [
             0.7,
             "#b8e186"
            ],
            [
             0.8,
             "#7fbc41"
            ],
            [
             0.9,
             "#4d9221"
            ],
            [
             1,
             "#276419"
            ]
           ],
           "sequential": [
            [
             0,
             "#0d0887"
            ],
            [
             0.1111111111111111,
             "#46039f"
            ],
            [
             0.2222222222222222,
             "#7201a8"
            ],
            [
             0.3333333333333333,
             "#9c179e"
            ],
            [
             0.4444444444444444,
             "#bd3786"
            ],
            [
             0.5555555555555556,
             "#d8576b"
            ],
            [
             0.6666666666666666,
             "#ed7953"
            ],
            [
             0.7777777777777778,
             "#fb9f3a"
            ],
            [
             0.8888888888888888,
             "#fdca26"
            ],
            [
             1,
             "#f0f921"
            ]
           ],
           "sequentialminus": [
            [
             0,
             "#0d0887"
            ],
            [
             0.1111111111111111,
             "#46039f"
            ],
            [
             0.2222222222222222,
             "#7201a8"
            ],
            [
             0.3333333333333333,
             "#9c179e"
            ],
            [
             0.4444444444444444,
             "#bd3786"
            ],
            [
             0.5555555555555556,
             "#d8576b"
            ],
            [
             0.6666666666666666,
             "#ed7953"
            ],
            [
             0.7777777777777778,
             "#fb9f3a"
            ],
            [
             0.8888888888888888,
             "#fdca26"
            ],
            [
             1,
             "#f0f921"
            ]
           ]
          },
          "colorway": [
           "#636efa",
           "#EF553B",
           "#00cc96",
           "#ab63fa",
           "#FFA15A",
           "#19d3f3",
           "#FF6692",
           "#B6E880",
           "#FF97FF",
           "#FECB52"
          ],
          "font": {
           "color": "#2a3f5f"
          },
          "geo": {
           "bgcolor": "white",
           "lakecolor": "white",
           "landcolor": "#E5ECF6",
           "showlakes": true,
           "showland": true,
           "subunitcolor": "white"
          },
          "hoverlabel": {
           "align": "left"
          },
          "hovermode": "closest",
          "mapbox": {
           "style": "light"
          },
          "paper_bgcolor": "white",
          "plot_bgcolor": "#E5ECF6",
          "polar": {
           "angularaxis": {
            "gridcolor": "white",
            "linecolor": "white",
            "ticks": ""
           },
           "bgcolor": "#E5ECF6",
           "radialaxis": {
            "gridcolor": "white",
            "linecolor": "white",
            "ticks": ""
           }
          },
          "scene": {
           "xaxis": {
            "backgroundcolor": "#E5ECF6",
            "gridcolor": "white",
            "gridwidth": 2,
            "linecolor": "white",
            "showbackground": true,
            "ticks": "",
            "zerolinecolor": "white"
           },
           "yaxis": {
            "backgroundcolor": "#E5ECF6",
            "gridcolor": "white",
            "gridwidth": 2,
            "linecolor": "white",
            "showbackground": true,
            "ticks": "",
            "zerolinecolor": "white"
           },
           "zaxis": {
            "backgroundcolor": "#E5ECF6",
            "gridcolor": "white",
            "gridwidth": 2,
            "linecolor": "white",
            "showbackground": true,
            "ticks": "",
            "zerolinecolor": "white"
           }
          },
          "shapedefaults": {
           "line": {
            "color": "#2a3f5f"
           }
          },
          "ternary": {
           "aaxis": {
            "gridcolor": "white",
            "linecolor": "white",
            "ticks": ""
           },
           "baxis": {
            "gridcolor": "white",
            "linecolor": "white",
            "ticks": ""
           },
           "bgcolor": "#E5ECF6",
           "caxis": {
            "gridcolor": "white",
            "linecolor": "white",
            "ticks": ""
           }
          },
          "title": {
           "x": 0.05
          },
          "xaxis": {
           "automargin": true,
           "gridcolor": "white",
           "linecolor": "white",
           "ticks": "",
           "title": {
            "standoff": 15
           },
           "zerolinecolor": "white",
           "zerolinewidth": 2
          },
          "yaxis": {
           "automargin": true,
           "gridcolor": "white",
           "linecolor": "white",
           "ticks": "",
           "title": {
            "standoff": 15
           },
           "zerolinecolor": "white",
           "zerolinewidth": 2
          }
         }
        },
        "xaxis": {
         "anchor": "y",
         "domain": [
          0,
          1
         ],
         "title": {
          "text": "x"
         }
        },
        "yaxis": {
         "anchor": "x",
         "domain": [
          0,
          1
         ],
         "title": {
          "text": "y"
         }
        }
       }
      },
      "text/html": [
       "<div>                            <div id=\"60880d3e-69ae-4891-8021-5338ec5002ec\" class=\"plotly-graph-div\" style=\"height:525px; width:100%;\"></div>            <script type=\"text/javascript\">                require([\"plotly\"], function(Plotly) {                    window.PLOTLYENV=window.PLOTLYENV || {};                                    if (document.getElementById(\"60880d3e-69ae-4891-8021-5338ec5002ec\")) {                    Plotly.newPlot(                        \"60880d3e-69ae-4891-8021-5338ec5002ec\",                        [{\"customdata\":[[\"surprised\"],[\"surprised\"],[\"surprised\"],[\"surprised\"],[\"surprised\"],[\"surprised\"],[\"surprised\"],[\"surprised\"],[\"surprised\"],[\"surprised\"],[\"surprised\"],[\"surprised\"],[\"surprised\"],[\"surprised\"],[\"surprised\"],[\"surprised\"],[\"surprised\"],[\"surprised\"],[\"surprised\"],[\"surprised\"],[\"surprised\"],[\"surprised\"],[\"surprised\"],[\"surprised\"],[\"surprised\"],[\"surprised\"],[\"surprised\"],[\"surprised\"],[\"surprised\"],[\"surprised\"],[\"surprised\"],[\"surprised\"],[\"surprised\"],[\"surprised\"],[\"surprised\"],[\"surprised\"],[\"surprised\"],[\"surprised\"],[\"surprised\"],[\"surprised\"],[\"surprised\"]],\"hovertemplate\":\"Predictions=surprised\\u003cbr\\u003eCorrect=True\\u003cbr\\u003ex=%{x}\\u003cbr\\u003ey=%{y}\\u003cbr\\u003eLabel=%{customdata[0]}\\u003cextra\\u003e\\u003c\\u002fextra\\u003e\",\"legendgroup\":\"surprised, True\",\"marker\":{\"color\":\"#19D3F3\",\"symbol\":\"circle\"},\"mode\":\"markers\",\"name\":\"surprised, True\",\"showlegend\":true,\"x\":[-11.212021827697754,-16.847169876098633,-24.90557861328125,-25.27507781982422,-25.032642364501953,-25.466524124145508,29.460769653320312,39.47742462158203,-12.419837951660156,22.503252029418945,22.141204833984375,21.8055477142334,29.56520652770996,-15.69908618927002,-17.001850128173828,-14.069242477416992,19.1512508392334,-16.037206649780273,-1.9381425380706787,-23.296409606933594,-23.384517669677734,-23.04693031311035,18.6823673248291,27.193803787231445,-17.33193588256836,28.10382080078125,20.06062126159668,-7.318872451782227,-4.729280948638916,-29.94635772705078,-6.438998699188232,-7.6260986328125,18.524127960205078,25.093555450439453,-14.152053833007812,-42.469398498535156,-42.56444549560547,-43.52598571777344,-1.0672868490219116,-3.2060463428497314,25.91193199157715],\"xaxis\":\"x\",\"y\":[10.641724586486816,-44.01690673828125,3.9814400672912598,4.605867385864258,3.3856444358825684,4.105062007904053,-20.50189971923828,-19.42462730407715,-50.21064376831055,-27.294029235839844,-27.911733627319336,-27.275209426879883,-21.553115844726562,-38.08120346069336,-36.75946807861328,-35.08782958984375,24.06525230407715,-43.36917495727539,-0.63837730884552,20.499109268188477,20.17346954345703,19.971153259277344,-27.411399841308594,-14.609548568725586,-1.25864577293396,-15.807868003845215,27.170270919799805,-54.015045166015625,-52.574745178222656,23.31072425842285,-52.031494140625,-52.52265930175781,33.11277389526367,22.1276912689209,-38.29561233520508,-19.21218490600586,-17.211406707763672,-17.846315383911133,-0.7063696980476379,-1.2570990324020386,41.7923583984375],\"yaxis\":\"y\",\"type\":\"scattergl\"},{\"customdata\":[[\"neutral\"],[\"angry\"],[\"happy\"],[\"angry\"],[\"happy\"],[\"angry\"],[\"happy\"],[\"sad\"],[\"disgusted\"],[\"neutral\"],[\"neutral\"],[\"neutral\"],[\"happy\"]],\"hovertemplate\":\"Predictions=surprised\\u003cbr\\u003eCorrect=False\\u003cbr\\u003ex=%{x}\\u003cbr\\u003ey=%{y}\\u003cbr\\u003eLabel=%{customdata[0]}\\u003cextra\\u003e\\u003c\\u002fextra\\u003e\",\"legendgroup\":\"surprised, False\",\"marker\":{\"color\":\"#19D3F3\",\"symbol\":\"x\"},\"mode\":\"markers\",\"name\":\"surprised, False\",\"showlegend\":true,\"x\":[14.052590370178223,32.599510192871094,31.38018035888672,-20.48825454711914,-43.68587875366211,-12.532181739807129,-20.196229934692383,-17.529478073120117,-6.503806114196777,25.704273223876953,35.967384338378906,-2.964221239089966,35.807891845703125],\"xaxis\":\"x\",\"y\":[38.28073501586914,-12.255048751831055,-11.365986824035645,8.47412395477295,-17.266714096069336,-44.122718811035156,-44.60858154296875,-0.023118657991290092,-50.858734130859375,24.557933807373047,-6.631552219390869,-0.10820081830024719,-7.641880512237549],\"yaxis\":\"y\",\"type\":\"scattergl\"},{\"customdata\":[[\"happy\"],[\"happy\"],[\"happy\"],[\"happy\"],[\"happy\"],[\"happy\"],[\"happy\"],[\"happy\"],[\"happy\"],[\"happy\"],[\"happy\"],[\"happy\"],[\"happy\"],[\"happy\"],[\"happy\"],[\"happy\"],[\"happy\"],[\"happy\"],[\"happy\"],[\"happy\"],[\"happy\"],[\"happy\"],[\"happy\"],[\"happy\"],[\"happy\"],[\"happy\"],[\"happy\"],[\"happy\"],[\"happy\"],[\"happy\"],[\"happy\"],[\"happy\"],[\"happy\"],[\"happy\"],[\"happy\"],[\"happy\"],[\"happy\"],[\"happy\"],[\"happy\"],[\"happy\"],[\"happy\"],[\"happy\"],[\"happy\"],[\"happy\"],[\"happy\"],[\"happy\"],[\"happy\"],[\"happy\"],[\"happy\"],[\"happy\"],[\"happy\"],[\"happy\"],[\"happy\"],[\"happy\"],[\"happy\"],[\"happy\"],[\"happy\"],[\"happy\"]],\"hovertemplate\":\"Predictions=happy\\u003cbr\\u003eCorrect=True\\u003cbr\\u003ex=%{x}\\u003cbr\\u003ey=%{y}\\u003cbr\\u003eLabel=%{customdata[0]}\\u003cextra\\u003e\\u003c\\u002fextra\\u003e\",\"legendgroup\":\"happy, True\",\"marker\":{\"color\":\"#00CC96\",\"symbol\":\"circle\"},\"mode\":\"markers\",\"name\":\"happy, True\",\"showlegend\":true,\"x\":[-17.644289016723633,-19.145483016967773,-25.670822143554688,29.5589599609375,-26.301050186157227,-36.64060974121094,-35.1468391418457,-37.356563568115234,-34.967899322509766,-36.97983932495117,-35.09817886352539,-34.28913116455078,-21.602575302124023,14.014552116394043,-10.252059936523438,-10.261259078979492,27.36008071899414,-15.18781852722168,-17.77923011779785,-18.59133529663086,-18.430633544921875,30.664182662963867,-14.20795726776123,-4.653960227966309,-23.031686782836914,-23.255239486694336,18.680601119995117,-10.455533027648926,-17.6247501373291,-17.306976318359375,28.11981201171875,17.932836532592773,19.36517333984375,-6.409736156463623,-6.427536487579346,-6.725164413452148,-7.429111480712891,-7.485979080200195,-6.177393436431885,20.03313446044922,17.223941802978516,15.714298248291016,26.579042434692383,25.796464920043945,27.810300827026367,28.39349365234375,25.632049560546875,23.20589828491211,-12.081175804138184,-11.077584266662598,24.64474868774414,-0.6280423998832703,23.954830169677734,23.886350631713867,24.5303955078125,24.477344512939453,23.408912658691406,23.668418884277344],\"xaxis\":\"x\",\"y\":[-42.81300735473633,-38.52943801879883,4.767104625701904,-19.993791580200195,3.3521294593811035,21.74648094177246,16.4542293548584,20.99620819091797,21.134868621826172,19.852581024169922,17.690292358398438,17.503442764282227,14.641600608825684,40.30556869506836,-2.3916754722595215,-2.3905911445617676,-21.49087905883789,-37.18570327758789,5.504210472106934,-35.29206466674805,-34.97682571411133,-6.11594820022583,7.827582359313965,-30.886795043945312,-37.563899993896484,20.778667449951172,-27.830060958862305,7.786099433898926,-42.70589828491211,-0.5532214045524597,-14.822611808776855,26.555513381958008,26.58000946044922,-51.13475036621094,-51.3606071472168,-51.921043395996094,-52.87128448486328,-52.53864288330078,-50.59642028808594,34.55929946899414,32.073143005371094,41.54604721069336,23.69727325439453,21.959749221801758,19.209489822387695,19.37041664123535,30.877544403076172,34.316192626953125,-40.118770599365234,2.776914596557617,26.233501434326172,0.09995553642511368,41.788272857666016,40.830841064453125,43.24415588378906,42.98274612426758,42.378257751464844,42.94707107543945],\"yaxis\":\"y\",\"type\":\"scattergl\"},{\"customdata\":[[\"disgusted\"],[\"sad\"],[\"sad\"],[\"sad\"],[\"surprised\"],[\"sad\"],[\"neutral\"],[\"sad\"],[\"disgusted\"],[\"angry\"],[\"angry\"],[\"neutral\"],[\"sad\"],[\"neutral\"],[\"surprised\"],[\"disgusted\"],[\"neutral\"],[\"angry\"],[\"neutral\"],[\"surprised\"]],\"hovertemplate\":\"Predictions=happy\\u003cbr\\u003eCorrect=False\\u003cbr\\u003ex=%{x}\\u003cbr\\u003ey=%{y}\\u003cbr\\u003eLabel=%{customdata[0]}\\u003cextra\\u003e\\u003c\\u002fextra\\u003e\",\"legendgroup\":\"happy, False\",\"marker\":{\"color\":\"#00CC96\",\"symbol\":\"x\"},\"mode\":\"markers\",\"name\":\"happy, False\",\"showlegend\":true,\"x\":[-10.181806564331055,-17.962081909179688,-12.05917739868164,-25.448524475097656,29.457534790039062,-25.560548782348633,-37.11313247680664,-36.14860153198242,-36.86848068237305,11.523639678955078,1.099762201309204,-15.076809883117676,-5.295243263244629,-6.581515789031982,15.334602355957031,16.51145362854004,27.482227325439453,26.16900062561035,-3.308307409286499,23.748966217041016],\"xaxis\":\"x\",\"y\":[5.714942932128906,-43.303955078125,5.6899638175964355,3.4638280868530273,-19.648487091064453,4.095505714416504,21.649858474731445,20.63610076904297,20.266611099243164,42.6783561706543,35.66242980957031,-41.71151351928711,-52.59625244140625,-53.81524658203125,41.72117233276367,41.132057189941406,20.4265079498291,22.298627853393555,-1.2603428363800049,40.55559539794922],\"yaxis\":\"y\",\"type\":\"scattergl\"},{\"customdata\":[[\"disgusted\"],[\"disgusted\"],[\"disgusted\"],[\"disgusted\"],[\"disgusted\"],[\"disgusted\"],[\"disgusted\"],[\"disgusted\"],[\"disgusted\"],[\"disgusted\"],[\"disgusted\"],[\"disgusted\"],[\"disgusted\"],[\"disgusted\"],[\"disgusted\"],[\"disgusted\"],[\"disgusted\"],[\"disgusted\"],[\"disgusted\"],[\"disgusted\"],[\"disgusted\"],[\"disgusted\"],[\"disgusted\"],[\"disgusted\"],[\"disgusted\"],[\"disgusted\"],[\"disgusted\"],[\"disgusted\"],[\"disgusted\"],[\"disgusted\"],[\"disgusted\"],[\"disgusted\"],[\"disgusted\"],[\"disgusted\"],[\"disgusted\"],[\"disgusted\"],[\"disgusted\"],[\"disgusted\"],[\"disgusted\"],[\"disgusted\"],[\"disgusted\"],[\"disgusted\"],[\"disgusted\"]],\"hovertemplate\":\"Predictions=disgusted\\u003cbr\\u003eCorrect=True\\u003cbr\\u003ex=%{x}\\u003cbr\\u003ey=%{y}\\u003cbr\\u003eLabel=%{customdata[0]}\\u003cextra\\u003e\\u003c\\u002fextra\\u003e\",\"legendgroup\":\"disgusted, True\",\"marker\":{\"color\":\"#EF553B\",\"symbol\":\"circle\"},\"mode\":\"markers\",\"name\":\"disgusted, True\",\"showlegend\":true,\"x\":[-42.192649841308594,-18.652658462524414,29.45635223388672,29.86148452758789,22.334426879882812,-34.20920181274414,-35.19412612915039,22.217479705810547,14.347936630249023,13.986540794372559,29.645092010498047,29.61188507080078,-18.48676300048828,-17.83042335510254,-13.565346717834473,-15.467931747436523,-15.626167297363281,-13.365619659423828,19.22910499572754,19.335111618041992,18.92519187927246,-12.300899505615234,28.322534561157227,-5.714798927307129,20.134220123291016,20.757549285888672,14.697149276733398,29.18667984008789,25.882137298583984,27.84099006652832,26.271196365356445,26.730207443237305,28.879179000854492,-9.711187362670898,-9.33886432647705,23.316267013549805,32.540279388427734,-8.567282676696777,0.1480276733636856,25.27215003967285,23.818645477294922,24.579675674438477,30.5628604888916],\"xaxis\":\"x\",\"y\":[-20.336421966552734,-40.891597747802734,-20.09661865234375,-19.68452262878418,29.175676345825195,16.31269073486328,21.442121505737305,-26.966228485107422,37.942848205566406,40.64296340942383,-7.973839282989502,-7.987028121948242,12.085638999938965,9.203496932983398,-36.400203704833984,-43.64516830444336,-43.57398223876953,-44.76433563232422,-27.444080352783203,-28.282190322875977,-27.982059478759766,3.792423725128174,-15.083621978759766,-51.27399444580078,36.03691864013672,36.55312728881836,41.934444427490234,19.08185577392578,23.967041015625,19.530847549438477,19.35039520263672,19.793134689331055,18.340852737426758,8.364972114562988,5.9600396156311035,26.23587989807129,-11.59376335144043,5.431201457977295,-0.16858479380607605,43.055030822753906,42.475284576416016,42.421207427978516,-15.525178909301758],\"yaxis\":\"y\",\"type\":\"scattergl\"},{\"customdata\":[[\"angry\"],[\"angry\"],[\"happy\"],[\"angry\"],[\"sad\"],[\"angry\"],[\"happy\"],[\"angry\"],[\"sad\"],[\"sad\"],[\"neutral\"]],\"hovertemplate\":\"Predictions=disgusted\\u003cbr\\u003eCorrect=False\\u003cbr\\u003ex=%{x}\\u003cbr\\u003ey=%{y}\\u003cbr\\u003eLabel=%{customdata[0]}\\u003cextra\\u003e\\u003c\\u002fextra\\u003e\",\"legendgroup\":\"disgusted, False\",\"marker\":{\"color\":\"#EF553B\",\"symbol\":\"x\"},\"mode\":\"markers\",\"name\":\"disgusted, False\",\"showlegend\":true,\"x\":[30.146678924560547,10.848023414611816,19.37264633178711,-19.02081871032715,28.626718521118164,-17.531572341918945,-7.398292064666748,-6.096700191497803,-5.62143087387085,25.613121032714844,26.728897094726562],\"xaxis\":\"x\",\"y\":[-20.281919479370117,33.05403518676758,-28.076757431030273,-43.819950103759766,-15.375882148742676,0.9919824600219727,-53.97976303100586,-52.92192077636719,-51.4751091003418,22.911863327026367,20.600601196289062],\"yaxis\":\"y\",\"type\":\"scattergl\"},{\"customdata\":[[\"angry\"],[\"angry\"],[\"angry\"],[\"angry\"],[\"angry\"],[\"angry\"],[\"angry\"],[\"angry\"],[\"angry\"],[\"angry\"],[\"angry\"],[\"angry\"],[\"angry\"],[\"angry\"],[\"angry\"],[\"angry\"],[\"angry\"],[\"angry\"],[\"angry\"],[\"angry\"],[\"angry\"],[\"angry\"],[\"angry\"],[\"angry\"],[\"angry\"],[\"angry\"],[\"angry\"],[\"angry\"],[\"angry\"],[\"angry\"]],\"hovertemplate\":\"Predictions=angry\\u003cbr\\u003eCorrect=True\\u003cbr\\u003ex=%{x}\\u003cbr\\u003ey=%{y}\\u003cbr\\u003eLabel=%{customdata[0]}\\u003cextra\\u003e\\u003c\\u002fextra\\u003e\",\"legendgroup\":\"angry, True\",\"marker\":{\"color\":\"#636EFA\",\"symbol\":\"circle\"},\"mode\":\"markers\",\"name\":\"angry, True\",\"showlegend\":true,\"x\":[-42.250064849853516,-19.19832420349121,28.831005096435547,29.247661590576172,-35.73580551147461,-36.67815017700195,-11.470197677612305,-35.0403938293457,-34.19972610473633,-34.070350646972656,16.471881866455078,11.853813171386719,13.896052360534668,-6.674288272857666,-11.431028366088867,-16.049942016601562,-1.3371602296829224,-17.737150192260742,-12.154010772705078,-16.15357780456543,31.078054428100586,-7.516016960144043,16.100902557373047,25.866622924804688,27.06559181213379,32.857421875,1.1639480590820312,24.08478546142578,24.331953048706055,23.873031616210938],\"xaxis\":\"x\",\"y\":[-20.4683780670166,-37.5894660949707,-20.19896697998047,-20.292015075683594,18.406686782836914,22.11826515197754,-50.35377883911133,17.304046630859375,15.998231887817383,17.705909729003906,32.757781982421875,42.9741325378418,38.705684661865234,-4.376615047454834,5.587433338165283,-43.45743179321289,1.0240118503570557,-41.8507194519043,9.077728271484375,-1.448673129081726,-20.025848388671875,-52.95719528198242,41.78467559814453,19.939529418945312,21.9740047454834,-12.769184112548828,1.721225619316101,41.53561782836914,42.60677719116211,43.27015686035156],\"yaxis\":\"y\",\"type\":\"scattergl\"},{\"customdata\":[[\"sad\"],[\"neutral\"],[\"surprised\"],[\"sad\"],[\"sad\"],[\"sad\"],[\"sad\"],[\"surprised\"],[\"sad\"],[\"neutral\"],[\"surprised\"],[\"disgusted\"],[\"sad\"],[\"sad\"],[\"happy\"]],\"hovertemplate\":\"Predictions=angry\\u003cbr\\u003eCorrect=False\\u003cbr\\u003ex=%{x}\\u003cbr\\u003ey=%{y}\\u003cbr\\u003eLabel=%{customdata[0]}\\u003cextra\\u003e\\u003c\\u002fextra\\u003e\",\"legendgroup\":\"angry, False\",\"marker\":{\"color\":\"#636EFA\",\"symbol\":\"x\"},\"mode\":\"markers\",\"name\":\"angry, False\",\"showlegend\":true,\"x\":[-34.29530334472656,14.001944541931152,30.173751831054688,-16.794937133789062,32.72523880004883,18.977676391601562,-16.18300437927246,-16.981746673583984,-6.465895652770996,26.34084701538086,27.845890045166016,-16.32233428955078,35.86036682128906,22.35821533203125,23.408443450927734],\"xaxis\":\"x\",\"y\":[16.5221004486084,40.16093063354492,-6.801575183868408,-38.33138656616211,-11.698881149291992,-27.431163787841797,-44.50971984863281,-0.6239755749702454,-54.70664978027344,23.14911651611328,21.37790870666504,3.674264430999756,-7.515722274780273,41.32002639770508,42.37805938720703],\"yaxis\":\"y\",\"type\":\"scattergl\"},{\"customdata\":[[\"neutral\"],[\"neutral\"],[\"neutral\"],[\"neutral\"],[\"neutral\"],[\"neutral\"],[\"neutral\"],[\"neutral\"],[\"neutral\"],[\"neutral\"],[\"neutral\"],[\"neutral\"],[\"neutral\"],[\"neutral\"],[\"neutral\"],[\"neutral\"],[\"neutral\"],[\"neutral\"],[\"neutral\"],[\"neutral\"],[\"neutral\"],[\"neutral\"],[\"neutral\"],[\"neutral\"],[\"neutral\"],[\"neutral\"],[\"neutral\"],[\"neutral\"],[\"neutral\"],[\"neutral\"],[\"neutral\"],[\"neutral\"],[\"neutral\"]],\"hovertemplate\":\"Predictions=neutral\\u003cbr\\u003eCorrect=True\\u003cbr\\u003ex=%{x}\\u003cbr\\u003ey=%{y}\\u003cbr\\u003eLabel=%{customdata[0]}\\u003cextra\\u003e\\u003c\\u002fextra\\u003e\",\"legendgroup\":\"neutral, True\",\"marker\":{\"color\":\"#AB63FA\",\"symbol\":\"circle\"},\"mode\":\"markers\",\"name\":\"neutral, True\",\"showlegend\":true,\"x\":[28.696083068847656,-36.89774703979492,-36.62617492675781,-33.67427444458008,-33.67422866821289,-33.76194763183594,17.70601463317871,13.890363693237305,-20.41049575805664,-20.342735290527344,-41.74634552001953,-15.65282917022705,-14.751530647277832,-18.996212005615234,-23.377408981323242,-22.498336791992188,10.865056991577148,18.115976333618164,19.916440963745117,-30.357040405273438,-29.697036743164062,-5.754968643188477,18.669363021850586,20.14165687561035,15.389725685119629,26.130908966064453,26.13230323791504,16.906831741333008,33.079254150390625,-14.624457359313965,-13.263178825378418,-8.228482246398926,22.76866340637207],\"xaxis\":\"x\",\"y\":[-19.89338493347168,22.308670043945312,19.654024124145508,16.521137237548828,17.67093849182129,15.849279403686523,33.226871490478516,38.80465316772461,9.80659008026123,3.8539929389953613,-19.063779830932617,9.072948455810547,-37.211463928222656,-35.686424255371094,-37.45308303833008,20.247133255004883,33.06067657470703,26.598026275634766,27.026201248168945,23.0982723236084,23.376819610595703,-52.246009826660156,33.17592239379883,35.78710174560547,42.31902313232422,20.003564834594727,22.140913009643555,37.61743927001953,-19.305469512939453,0.7882527112960815,-41.690093994140625,5.453247547149658,41.844024658203125],\"yaxis\":\"y\",\"type\":\"scattergl\"},{\"customdata\":[[\"happy\"],[\"surprised\"],[\"happy\"],[\"sad\"],[\"surprised\"],[\"surprised\"],[\"surprised\"],[\"disgusted\"],[\"happy\"],[\"surprised\"],[\"surprised\"],[\"surprised\"],[\"surprised\"],[\"angry\"],[\"angry\"]],\"hovertemplate\":\"Predictions=neutral\\u003cbr\\u003eCorrect=False\\u003cbr\\u003ex=%{x}\\u003cbr\\u003ey=%{y}\\u003cbr\\u003eLabel=%{customdata[0]}\\u003cextra\\u003e\\u003c\\u002fextra\\u003e\",\"legendgroup\":\"neutral, False\",\"marker\":{\"color\":\"#AB63FA\",\"symbol\":\"x\"},\"mode\":\"markers\",\"name\":\"neutral, False\",\"showlegend\":true,\"x\":[22.309207916259766,-13.503744125366211,-6.223578929901123,-22.701866149902344,-15.208673477172852,-17.814992904663086,-5.744842529296875,-5.547985553741455,20.70032501220703,21.188167572021484,16.483203887939453,28.075984954833984,-18.614662170410156,34.14653396606445,24.48415184020996],\"xaxis\":\"x\",\"y\":[-27.567277908325195,-37.01535415649414,-32.1871452331543,20.723613739013672,-47.58098602294922,-0.9611607193946838,-50.61920166015625,-51.00774383544922,36.4930534362793,42.587425231933594,41.18526077270508,18.878095626831055,8.993125915527344,-13.278443336486816,41.912601470947266],\"yaxis\":\"y\",\"type\":\"scattergl\"},{\"customdata\":[[\"sad\"],[\"sad\"],[\"sad\"],[\"sad\"],[\"sad\"],[\"sad\"],[\"sad\"],[\"sad\"],[\"sad\"],[\"sad\"],[\"sad\"],[\"sad\"],[\"sad\"],[\"sad\"],[\"sad\"],[\"sad\"],[\"sad\"],[\"sad\"],[\"sad\"],[\"sad\"],[\"sad\"],[\"sad\"],[\"sad\"],[\"sad\"],[\"sad\"],[\"sad\"],[\"sad\"],[\"sad\"],[\"sad\"],[\"sad\"],[\"sad\"],[\"sad\"],[\"sad\"],[\"sad\"],[\"sad\"]],\"hovertemplate\":\"Predictions=sad\\u003cbr\\u003eCorrect=True\\u003cbr\\u003ex=%{x}\\u003cbr\\u003ey=%{y}\\u003cbr\\u003eLabel=%{customdata[0]}\\u003cextra\\u003e\\u003c\\u002fextra\\u003e\",\"legendgroup\":\"sad, True\",\"marker\":{\"color\":\"#FFA15A\",\"symbol\":\"circle\"},\"mode\":\"markers\",\"name\":\"sad, True\",\"showlegend\":true,\"x\":[22.431222915649414,-26.28548812866211,-35.29158401489258,-35.153377532958984,-36.45195770263672,22.41118049621582,27.217182159423828,-13.48926830291748,31.4962158203125,-8.28810977935791,-13.514182090759277,-10.672991752624512,-22.553712844848633,-22.90915298461914,-22.470096588134766,19.458274841308594,-22.274137496948242,27.020048141479492,-16.19144058227539,23.213720321655273,-30.601545333862305,17.219072341918945,15.371209144592285,24.33176040649414,25.587770462036133,27.523160934448242,29.19239044189453,27.647241592407227,17.831377029418945,-11.125004768371582,-11.057284355163574,-43.49045944213867,-44.095367431640625,18.97406768798828,25.46982192993164],\"xaxis\":\"x\",\"y\":[29.2508602142334,3.2068679332733154,20.922222137451172,18.044790267944336,19.637319564819336,-27.008760452270508,-22.272119522094727,-37.05512619018555,-10.613880157470703,6.115189075469971,-44.70512771606445,7.077821731567383,-38.00602340698242,20.016992568969727,20.132497787475586,-27.944913864135742,20.747215270996094,-14.517359733581543,-1.4706814289093018,27.504899978637695,23.32905387878418,32.052982330322266,42.36015701293945,22.654640197753906,22.48845100402832,20.239675521850586,19.376977920532227,20.33064079284668,28.095897674560547,-40.20487976074219,2.6931915283203125,-16.761798858642578,-17.377174377441406,24.41618537902832,41.20711135864258],\"yaxis\":\"y\",\"type\":\"scattergl\"},{\"customdata\":[[\"surprised\"],[\"angry\"],[\"disgusted\"],[\"neutral\"],[\"disgusted\"],[\"angry\"],[\"disgusted\"],[\"disgusted\"],[\"neutral\"],[\"angry\"],[\"disgusted\"]],\"hovertemplate\":\"Predictions=sad\\u003cbr\\u003eCorrect=False\\u003cbr\\u003ex=%{x}\\u003cbr\\u003ey=%{y}\\u003cbr\\u003eLabel=%{customdata[0]}\\u003cextra\\u003e\\u003c\\u002fextra\\u003e\",\"legendgroup\":\"sad, False\",\"marker\":{\"color\":\"#FFA15A\",\"symbol\":\"x\"},\"mode\":\"markers\",\"name\":\"sad, False\",\"showlegend\":true,\"x\":[-33.60379409790039,21.9112606048584,-22.90934181213379,-16.26643943786621,-5.687222003936768,-30.074247360229492,16.36881446838379,-20.305908203125,-27.96576690673828,-18.349451065063477,25.469757080078125],\"xaxis\":\"x\",\"y\":[17.733745574951172,-26.86315155029297,20.791316986083984,-0.8783940672874451,-53.58311462402344,23.378591537475586,41.155643463134766,6.987476825714111,7.296236038208008,-35.97669219970703,41.20711898803711],\"yaxis\":\"y\",\"type\":\"scattergl\"},{\"customdata\":[[\"surprised\"],[\"surprised\"],[\"surprised\"],[\"surprised\"],[\"surprised\"],[\"surprised\"],[\"surprised\"],[\"happy\"],[\"surprised\"],[\"surprised\"],[\"sad\"],[\"surprised\"],[\"surprised\"],[\"surprised\"],[\"angry\"],[\"surprised\"],[\"neutral\"],[\"surprised\"],[\"surprised\"],[\"surprised\"],[\"surprised\"],[\"surprised\"],[\"surprised\"],[\"surprised\"],[\"surprised\"],[\"surprised\"],[\"surprised\"],[\"neutral\"],[\"angry\"],[\"surprised\"],[\"surprised\"],[\"neutral\"],[\"surprised\"],[\"surprised\"],[\"surprised\"],[\"surprised\"],[\"surprised\"],[\"surprised\"],[\"surprised\"],[\"neutral\"],[\"surprised\"],[\"neutral\"],[\"neutral\"],[\"happy\"],[\"angry\"],[\"surprised\"],[\"neutral\"],[\"surprised\"],[\"surprised\"],[\"neutral\"],[\"surprised\"],[\"surprised\"],[\"surprised\"],[\"surprised\"],[\"surprised\"],[\"happy\"]],\"hovertemplate\":\"Label=surprised\\u003cbr\\u003ex=%{x}\\u003cbr\\u003ey=%{y}\\u003cbr\\u003ePredictions=%{customdata[0]}\\u003cextra\\u003e\\u003c\\u002fextra\\u003e\",\"legendgroup\":\"surprised\",\"marker\":{\"color\":\"#19D3F3\",\"opacity\":0.2,\"size\":12,\"symbol\":\"circle\"},\"mode\":\"markers\",\"name\":\"surprised\",\"showlegend\":false,\"x\":[-11.212021827697754,-16.847169876098633,-24.90557861328125,-25.27507781982422,-25.032642364501953,-25.466524124145508,29.460769653320312,29.457534790039062,39.47742462158203,-12.419837951660156,-33.60379409790039,22.503252029418945,22.141204833984375,21.8055477142334,30.173751831054688,29.56520652770996,-13.503744125366211,-15.69908618927002,-17.001850128173828,-14.069242477416992,19.1512508392334,-16.037206649780273,-1.9381425380706787,-23.296409606933594,-23.384517669677734,-23.04693031311035,18.6823673248291,-15.208673477172852,-16.981746673583984,27.193803787231445,-17.33193588256836,-17.814992904663086,28.10382080078125,20.06062126159668,-7.318872451782227,-4.729280948638916,-29.94635772705078,-6.438998699188232,-7.6260986328125,-5.744842529296875,18.524127960205078,21.188167572021484,16.483203887939453,15.334602355957031,27.845890045166016,25.093555450439453,28.075984954833984,-14.152053833007812,-42.469398498535156,-18.614662170410156,-42.56444549560547,-43.52598571777344,-1.0672868490219116,-3.2060463428497314,25.91193199157715,23.748966217041016],\"xaxis\":\"x\",\"y\":[10.641724586486816,-44.01690673828125,3.9814400672912598,4.605867385864258,3.3856444358825684,4.105062007904053,-20.50189971923828,-19.648487091064453,-19.42462730407715,-50.21064376831055,17.733745574951172,-27.294029235839844,-27.911733627319336,-27.275209426879883,-6.801575183868408,-21.553115844726562,-37.01535415649414,-38.08120346069336,-36.75946807861328,-35.08782958984375,24.06525230407715,-43.36917495727539,-0.63837730884552,20.499109268188477,20.17346954345703,19.971153259277344,-27.411399841308594,-47.58098602294922,-0.6239755749702454,-14.609548568725586,-1.25864577293396,-0.9611607193946838,-15.807868003845215,27.170270919799805,-54.015045166015625,-52.574745178222656,23.31072425842285,-52.031494140625,-52.52265930175781,-50.61920166015625,33.11277389526367,42.587425231933594,41.18526077270508,41.72117233276367,21.37790870666504,22.1276912689209,18.878095626831055,-38.29561233520508,-19.21218490600586,8.993125915527344,-17.211406707763672,-17.846315383911133,-0.7063696980476379,-1.2570990324020386,41.7923583984375,40.55559539794922],\"yaxis\":\"y\",\"type\":\"scattergl\"},{\"customdata\":[[\"happy\"],[\"disgusted\"],[\"disgusted\"],[\"disgusted\"],[\"disgusted\"],[\"disgusted\"],[\"disgusted\"],[\"disgusted\"],[\"happy\"],[\"disgusted\"],[\"disgusted\"],[\"disgusted\"],[\"disgusted\"],[\"disgusted\"],[\"disgusted\"],[\"disgusted\"],[\"disgusted\"],[\"disgusted\"],[\"disgusted\"],[\"disgusted\"],[\"sad\"],[\"disgusted\"],[\"disgusted\"],[\"disgusted\"],[\"disgusted\"],[\"disgusted\"],[\"sad\"],[\"surprised\"],[\"disgusted\"],[\"neutral\"],[\"disgusted\"],[\"disgusted\"],[\"happy\"],[\"sad\"],[\"disgusted\"],[\"disgusted\"],[\"disgusted\"],[\"disgusted\"],[\"disgusted\"],[\"disgusted\"],[\"disgusted\"],[\"sad\"],[\"disgusted\"],[\"angry\"],[\"disgusted\"],[\"disgusted\"],[\"disgusted\"],[\"disgusted\"],[\"disgusted\"],[\"disgusted\"],[\"sad\"],[\"disgusted\"],[\"disgusted\"],[\"disgusted\"]],\"hovertemplate\":\"Label=disgusted\\u003cbr\\u003ex=%{x}\\u003cbr\\u003ey=%{y}\\u003cbr\\u003ePredictions=%{customdata[0]}\\u003cextra\\u003e\\u003c\\u002fextra\\u003e\",\"legendgroup\":\"disgusted\",\"marker\":{\"color\":\"#EF553B\",\"opacity\":0.2,\"size\":12,\"symbol\":\"circle\"},\"mode\":\"markers\",\"name\":\"disgusted\",\"showlegend\":false,\"x\":[-10.181806564331055,-42.192649841308594,-18.652658462524414,29.45635223388672,29.86148452758789,22.334426879882812,-34.20920181274414,-35.19412612915039,-36.86848068237305,22.217479705810547,14.347936630249023,13.986540794372559,29.645092010498047,29.61188507080078,-18.48676300048828,-17.83042335510254,-13.565346717834473,-15.467931747436523,-15.626167297363281,-13.365619659423828,-22.90934181213379,19.22910499572754,19.335111618041992,18.92519187927246,-12.300899505615234,28.322534561157227,-5.687222003936768,-6.503806114196777,-5.714798927307129,-5.547985553741455,20.134220123291016,20.757549285888672,16.51145362854004,16.36881446838379,14.697149276733398,29.18667984008789,25.882137298583984,27.84099006652832,26.271196365356445,26.730207443237305,28.879179000854492,-20.305908203125,-9.711187362670898,-16.32233428955078,-9.33886432647705,23.316267013549805,32.540279388427734,-8.567282676696777,0.1480276733636856,25.27215003967285,25.469757080078125,23.818645477294922,24.579675674438477,30.5628604888916],\"xaxis\":\"x\",\"y\":[5.714942932128906,-20.336421966552734,-40.891597747802734,-20.09661865234375,-19.68452262878418,29.175676345825195,16.31269073486328,21.442121505737305,20.266611099243164,-26.966228485107422,37.942848205566406,40.64296340942383,-7.973839282989502,-7.987028121948242,12.085638999938965,9.203496932983398,-36.400203704833984,-43.64516830444336,-43.57398223876953,-44.76433563232422,20.791316986083984,-27.444080352783203,-28.282190322875977,-27.982059478759766,3.792423725128174,-15.083621978759766,-53.58311462402344,-50.858734130859375,-51.27399444580078,-51.00774383544922,36.03691864013672,36.55312728881836,41.132057189941406,41.155643463134766,41.934444427490234,19.08185577392578,23.967041015625,19.530847549438477,19.35039520263672,19.793134689331055,18.340852737426758,6.987476825714111,8.364972114562988,3.674264430999756,5.9600396156311035,26.23587989807129,-11.59376335144043,5.431201457977295,-0.16858479380607605,43.055030822753906,41.20711898803711,42.475284576416016,42.421207427978516,-15.525178909301758],\"yaxis\":\"y\",\"type\":\"scattergl\"},{\"customdata\":[[\"happy\"],[\"happy\"],[\"happy\"],[\"happy\"],[\"happy\"],[\"happy\"],[\"happy\"],[\"happy\"],[\"happy\"],[\"happy\"],[\"happy\"],[\"happy\"],[\"happy\"],[\"neutral\"],[\"happy\"],[\"happy\"],[\"happy\"],[\"happy\"],[\"happy\"],[\"happy\"],[\"happy\"],[\"happy\"],[\"surprised\"],[\"surprised\"],[\"happy\"],[\"happy\"],[\"neutral\"],[\"happy\"],[\"happy\"],[\"happy\"],[\"disgusted\"],[\"happy\"],[\"happy\"],[\"surprised\"],[\"happy\"],[\"happy\"],[\"happy\"],[\"happy\"],[\"happy\"],[\"disgusted\"],[\"happy\"],[\"happy\"],[\"happy\"],[\"happy\"],[\"happy\"],[\"happy\"],[\"happy\"],[\"happy\"],[\"neutral\"],[\"happy\"],[\"happy\"],[\"happy\"],[\"happy\"],[\"happy\"],[\"happy\"],[\"happy\"],[\"happy\"],[\"happy\"],[\"happy\"],[\"happy\"],[\"surprised\"],[\"happy\"],[\"happy\"],[\"happy\"],[\"happy\"],[\"happy\"],[\"angry\"],[\"happy\"]],\"hovertemplate\":\"Label=happy\\u003cbr\\u003ex=%{x}\\u003cbr\\u003ey=%{y}\\u003cbr\\u003ePredictions=%{customdata[0]}\\u003cextra\\u003e\\u003c\\u002fextra\\u003e\",\"legendgroup\":\"happy\",\"marker\":{\"color\":\"#00CC96\",\"opacity\":0.2,\"size\":12,\"symbol\":\"circle\"},\"mode\":\"markers\",\"name\":\"happy\",\"showlegend\":false,\"x\":[-17.644289016723633,-19.145483016967773,-25.670822143554688,29.5589599609375,-26.301050186157227,-36.64060974121094,-35.1468391418457,-37.356563568115234,-34.967899322509766,-36.97983932495117,-35.09817886352539,-34.28913116455078,-21.602575302124023,22.309207916259766,14.014552116394043,-10.252059936523438,-10.261259078979492,27.36008071899414,-15.18781852722168,-17.77923011779785,-18.59133529663086,-18.430633544921875,31.38018035888672,-43.68587875366211,30.664182662963867,-14.20795726776123,-6.223578929901123,-4.653960227966309,-23.031686782836914,-23.255239486694336,19.37264633178711,18.680601119995117,-10.455533027648926,-20.196229934692383,-17.6247501373291,-17.306976318359375,28.11981201171875,17.932836532592773,19.36517333984375,-7.398292064666748,-6.409736156463623,-6.427536487579346,-6.725164413452148,-7.429111480712891,-7.485979080200195,-6.177393436431885,20.03313446044922,17.223941802978516,20.70032501220703,15.714298248291016,26.579042434692383,25.796464920043945,27.810300827026367,28.39349365234375,25.632049560546875,23.20589828491211,-12.081175804138184,-11.077584266662598,24.64474868774414,-0.6280423998832703,35.807891845703125,23.954830169677734,23.886350631713867,24.5303955078125,24.477344512939453,23.408912658691406,23.408443450927734,23.668418884277344],\"xaxis\":\"x\",\"y\":[-42.81300735473633,-38.52943801879883,4.767104625701904,-19.993791580200195,3.3521294593811035,21.74648094177246,16.4542293548584,20.99620819091797,21.134868621826172,19.852581024169922,17.690292358398438,17.503442764282227,14.641600608825684,-27.567277908325195,40.30556869506836,-2.3916754722595215,-2.3905911445617676,-21.49087905883789,-37.18570327758789,5.504210472106934,-35.29206466674805,-34.97682571411133,-11.365986824035645,-17.266714096069336,-6.11594820022583,7.827582359313965,-32.1871452331543,-30.886795043945312,-37.563899993896484,20.778667449951172,-28.076757431030273,-27.830060958862305,7.786099433898926,-44.60858154296875,-42.70589828491211,-0.5532214045524597,-14.822611808776855,26.555513381958008,26.58000946044922,-53.97976303100586,-51.13475036621094,-51.3606071472168,-51.921043395996094,-52.87128448486328,-52.53864288330078,-50.59642028808594,34.55929946899414,32.073143005371094,36.4930534362793,41.54604721069336,23.69727325439453,21.959749221801758,19.209489822387695,19.37041664123535,30.877544403076172,34.316192626953125,-40.118770599365234,2.776914596557617,26.233501434326172,0.09995553642511368,-7.641880512237549,41.788272857666016,40.830841064453125,43.24415588378906,42.98274612426758,42.378257751464844,42.37805938720703,42.94707107543945],\"yaxis\":\"y\",\"type\":\"scattergl\"},{\"customdata\":[[\"happy\"],[\"happy\"],[\"sad\"],[\"happy\"],[\"happy\"],[\"sad\"],[\"sad\"],[\"sad\"],[\"happy\"],[\"sad\"],[\"angry\"],[\"sad\"],[\"sad\"],[\"angry\"],[\"sad\"],[\"sad\"],[\"angry\"],[\"sad\"],[\"sad\"],[\"sad\"],[\"sad\"],[\"sad\"],[\"neutral\"],[\"sad\"],[\"sad\"],[\"sad\"],[\"angry\"],[\"angry\"],[\"surprised\"],[\"sad\"],[\"disgusted\"],[\"sad\"],[\"happy\"],[\"angry\"],[\"sad\"],[\"sad\"],[\"disgusted\"],[\"sad\"],[\"sad\"],[\"sad\"],[\"sad\"],[\"disgusted\"],[\"sad\"],[\"sad\"],[\"sad\"],[\"sad\"],[\"sad\"],[\"sad\"],[\"sad\"],[\"sad\"],[\"sad\"],[\"angry\"],[\"angry\"],[\"sad\"]],\"hovertemplate\":\"Label=sad\\u003cbr\\u003ex=%{x}\\u003cbr\\u003ey=%{y}\\u003cbr\\u003ePredictions=%{customdata[0]}\\u003cextra\\u003e\\u003c\\u002fextra\\u003e\",\"legendgroup\":\"sad\",\"marker\":{\"color\":\"#FFA15A\",\"opacity\":0.2,\"size\":12,\"symbol\":\"circle\"},\"mode\":\"markers\",\"name\":\"sad\",\"showlegend\":false,\"x\":[-17.962081909179688,-12.05917739868164,22.431222915649414,-25.448524475097656,-25.560548782348633,-26.28548812866211,-35.29158401489258,-35.153377532958984,-36.14860153198242,-36.45195770263672,-34.29530334472656,22.41118049621582,27.217182159423828,-16.794937133789062,-13.48926830291748,31.4962158203125,32.72523880004883,-8.28810977935791,-13.514182090759277,-10.672991752624512,-22.553712844848633,-22.90915298461914,-22.701866149902344,-22.470096588134766,19.458274841308594,-22.274137496948242,18.977676391601562,-16.18300437927246,-17.529478073120117,27.020048141479492,28.626718521118164,-16.19144058227539,-5.295243263244629,-6.465895652770996,23.213720321655273,-30.601545333862305,-5.62143087387085,17.219072341918945,15.371209144592285,24.33176040649414,25.587770462036133,25.613121032714844,27.523160934448242,29.19239044189453,27.647241592407227,17.831377029418945,-11.125004768371582,-11.057284355163574,-43.49045944213867,-44.095367431640625,18.97406768798828,35.86036682128906,22.35821533203125,25.46982192993164],\"xaxis\":\"x\",\"y\":[-43.303955078125,5.6899638175964355,29.2508602142334,3.4638280868530273,4.095505714416504,3.2068679332733154,20.922222137451172,18.044790267944336,20.63610076904297,19.637319564819336,16.5221004486084,-27.008760452270508,-22.272119522094727,-38.33138656616211,-37.05512619018555,-10.613880157470703,-11.698881149291992,6.115189075469971,-44.70512771606445,7.077821731567383,-38.00602340698242,20.016992568969727,20.723613739013672,20.132497787475586,-27.944913864135742,20.747215270996094,-27.431163787841797,-44.50971984863281,-0.023118657991290092,-14.517359733581543,-15.375882148742676,-1.4706814289093018,-52.59625244140625,-54.70664978027344,27.504899978637695,23.32905387878418,-51.4751091003418,32.052982330322266,42.36015701293945,22.654640197753906,22.48845100402832,22.911863327026367,20.239675521850586,19.376977920532227,20.33064079284668,28.095897674560547,-40.20487976074219,2.6931915283203125,-16.761798858642578,-17.377174377441406,24.41618537902832,-7.515722274780273,41.32002639770508,41.20711135864258],\"yaxis\":\"y\",\"type\":\"scattergl\"},{\"customdata\":[[\"angry\"],[\"angry\"],[\"angry\"],[\"angry\"],[\"disgusted\"],[\"angry\"],[\"angry\"],[\"angry\"],[\"angry\"],[\"angry\"],[\"angry\"],[\"sad\"],[\"angry\"],[\"happy\"],[\"angry\"],[\"angry\"],[\"angry\"],[\"surprised\"],[\"happy\"],[\"surprised\"],[\"surprised\"],[\"angry\"],[\"angry\"],[\"angry\"],[\"angry\"],[\"disgusted\"],[\"angry\"],[\"disgusted\"],[\"disgusted\"],[\"angry\"],[\"disgusted\"],[\"angry\"],[\"angry\"],[\"sad\"],[\"angry\"],[\"angry\"],[\"angry\"],[\"happy\"],[\"sad\"],[\"angry\"],[\"neutral\"],[\"angry\"],[\"angry\"],[\"neutral\"],[\"angry\"],[\"angry\"]],\"hovertemplate\":\"Label=angry\\u003cbr\\u003ex=%{x}\\u003cbr\\u003ey=%{y}\\u003cbr\\u003ePredictions=%{customdata[0]}\\u003cextra\\u003e\\u003c\\u002fextra\\u003e\",\"legendgroup\":\"angry\",\"marker\":{\"color\":\"#636EFA\",\"opacity\":0.2,\"size\":12,\"symbol\":\"circle\"},\"mode\":\"markers\",\"name\":\"angry\",\"showlegend\":false,\"x\":[-42.250064849853516,-19.19832420349121,28.831005096435547,29.247661590576172,30.146678924560547,-35.73580551147461,-36.67815017700195,-11.470197677612305,-35.0403938293457,-34.19972610473633,-34.070350646972656,21.9112606048584,16.471881866455078,11.523639678955078,11.853813171386719,13.896052360534668,-6.674288272857666,32.599510192871094,1.099762201309204,-20.48825454711914,-12.532181739807129,-11.431028366088867,-16.049942016601562,-1.3371602296829224,-17.737150192260742,10.848023414611816,-12.154010772705078,-19.02081871032715,-17.531572341918945,-16.15357780456543,-6.096700191497803,31.078054428100586,-7.516016960144043,-30.074247360229492,16.100902557373047,25.866622924804688,27.06559181213379,26.16900062561035,-18.349451065063477,32.857421875,34.14653396606445,1.1639480590820312,24.08478546142578,24.48415184020996,24.331953048706055,23.873031616210938],\"xaxis\":\"x\",\"y\":[-20.4683780670166,-37.5894660949707,-20.19896697998047,-20.292015075683594,-20.281919479370117,18.406686782836914,22.11826515197754,-50.35377883911133,17.304046630859375,15.998231887817383,17.705909729003906,-26.86315155029297,32.757781982421875,42.6783561706543,42.9741325378418,38.705684661865234,-4.376615047454834,-12.255048751831055,35.66242980957031,8.47412395477295,-44.122718811035156,5.587433338165283,-43.45743179321289,1.0240118503570557,-41.8507194519043,33.05403518676758,9.077728271484375,-43.819950103759766,0.9919824600219727,-1.448673129081726,-52.92192077636719,-20.025848388671875,-52.95719528198242,23.378591537475586,41.78467559814453,19.939529418945312,21.9740047454834,22.298627853393555,-35.97669219970703,-12.769184112548828,-13.278443336486816,1.721225619316101,41.53561782836914,41.912601470947266,42.60677719116211,43.27015686035156],\"yaxis\":\"y\",\"type\":\"scattergl\"},{\"customdata\":[[\"neutral\"],[\"happy\"],[\"neutral\"],[\"neutral\"],[\"neutral\"],[\"neutral\"],[\"neutral\"],[\"neutral\"],[\"angry\"],[\"surprised\"],[\"neutral\"],[\"neutral\"],[\"neutral\"],[\"neutral\"],[\"neutral\"],[\"neutral\"],[\"neutral\"],[\"neutral\"],[\"neutral\"],[\"neutral\"],[\"happy\"],[\"sad\"],[\"neutral\"],[\"neutral\"],[\"happy\"],[\"neutral\"],[\"neutral\"],[\"neutral\"],[\"neutral\"],[\"neutral\"],[\"neutral\"],[\"surprised\"],[\"angry\"],[\"happy\"],[\"disgusted\"],[\"neutral\"],[\"neutral\"],[\"surprised\"],[\"neutral\"],[\"neutral\"],[\"sad\"],[\"neutral\"],[\"neutral\"],[\"neutral\"],[\"surprised\"],[\"happy\"],[\"neutral\"]],\"hovertemplate\":\"Label=neutral\\u003cbr\\u003ex=%{x}\\u003cbr\\u003ey=%{y}\\u003cbr\\u003ePredictions=%{customdata[0]}\\u003cextra\\u003e\\u003c\\u002fextra\\u003e\",\"legendgroup\":\"neutral\",\"marker\":{\"color\":\"#AB63FA\",\"opacity\":0.2,\"size\":12,\"symbol\":\"circle\"},\"mode\":\"markers\",\"name\":\"neutral\",\"showlegend\":false,\"x\":[28.696083068847656,-37.11313247680664,-36.89774703979492,-36.62617492675781,-33.67427444458008,-33.67422866821289,-33.76194763183594,17.70601463317871,14.001944541931152,14.052590370178223,13.890363693237305,-20.41049575805664,-20.342735290527344,-41.74634552001953,-15.65282917022705,-14.751530647277832,-18.996212005615234,-23.377408981323242,-22.498336791992188,10.865056991577148,-15.076809883117676,-16.26643943786621,18.115976333618164,19.916440963745117,-6.581515789031982,-30.357040405273438,-29.697036743164062,-5.754968643188477,18.669363021850586,20.14165687561035,15.389725685119629,25.704273223876953,26.34084701538086,27.482227325439453,26.728897094726562,26.130908966064453,26.13230323791504,35.967384338378906,16.906831741333008,33.079254150390625,-27.96576690673828,-14.624457359313965,-13.263178825378418,-8.228482246398926,-2.964221239089966,-3.308307409286499,22.76866340637207],\"xaxis\":\"x\",\"y\":[-19.89338493347168,21.649858474731445,22.308670043945312,19.654024124145508,16.521137237548828,17.67093849182129,15.849279403686523,33.226871490478516,40.16093063354492,38.28073501586914,38.80465316772461,9.80659008026123,3.8539929389953613,-19.063779830932617,9.072948455810547,-37.211463928222656,-35.686424255371094,-37.45308303833008,20.247133255004883,33.06067657470703,-41.71151351928711,-0.8783940672874451,26.598026275634766,27.026201248168945,-53.81524658203125,23.0982723236084,23.376819610595703,-52.246009826660156,33.17592239379883,35.78710174560547,42.31902313232422,24.557933807373047,23.14911651611328,20.4265079498291,20.600601196289062,20.003564834594727,22.140913009643555,-6.631552219390869,37.61743927001953,-19.305469512939453,7.296236038208008,0.7882527112960815,-41.690093994140625,5.453247547149658,-0.10820081830024719,-1.2603428363800049,41.844024658203125],\"yaxis\":\"y\",\"type\":\"scattergl\"}],                        {\"template\":{\"data\":{\"histogram2dcontour\":[{\"type\":\"histogram2dcontour\",\"colorbar\":{\"outlinewidth\":0,\"ticks\":\"\"},\"colorscale\":[[0.0,\"#0d0887\"],[0.1111111111111111,\"#46039f\"],[0.2222222222222222,\"#7201a8\"],[0.3333333333333333,\"#9c179e\"],[0.4444444444444444,\"#bd3786\"],[0.5555555555555556,\"#d8576b\"],[0.6666666666666666,\"#ed7953\"],[0.7777777777777778,\"#fb9f3a\"],[0.8888888888888888,\"#fdca26\"],[1.0,\"#f0f921\"]]}],\"choropleth\":[{\"type\":\"choropleth\",\"colorbar\":{\"outlinewidth\":0,\"ticks\":\"\"}}],\"histogram2d\":[{\"type\":\"histogram2d\",\"colorbar\":{\"outlinewidth\":0,\"ticks\":\"\"},\"colorscale\":[[0.0,\"#0d0887\"],[0.1111111111111111,\"#46039f\"],[0.2222222222222222,\"#7201a8\"],[0.3333333333333333,\"#9c179e\"],[0.4444444444444444,\"#bd3786\"],[0.5555555555555556,\"#d8576b\"],[0.6666666666666666,\"#ed7953\"],[0.7777777777777778,\"#fb9f3a\"],[0.8888888888888888,\"#fdca26\"],[1.0,\"#f0f921\"]]}],\"heatmap\":[{\"type\":\"heatmap\",\"colorbar\":{\"outlinewidth\":0,\"ticks\":\"\"},\"colorscale\":[[0.0,\"#0d0887\"],[0.1111111111111111,\"#46039f\"],[0.2222222222222222,\"#7201a8\"],[0.3333333333333333,\"#9c179e\"],[0.4444444444444444,\"#bd3786\"],[0.5555555555555556,\"#d8576b\"],[0.6666666666666666,\"#ed7953\"],[0.7777777777777778,\"#fb9f3a\"],[0.8888888888888888,\"#fdca26\"],[1.0,\"#f0f921\"]]}],\"heatmapgl\":[{\"type\":\"heatmapgl\",\"colorbar\":{\"outlinewidth\":0,\"ticks\":\"\"},\"colorscale\":[[0.0,\"#0d0887\"],[0.1111111111111111,\"#46039f\"],[0.2222222222222222,\"#7201a8\"],[0.3333333333333333,\"#9c179e\"],[0.4444444444444444,\"#bd3786\"],[0.5555555555555556,\"#d8576b\"],[0.6666666666666666,\"#ed7953\"],[0.7777777777777778,\"#fb9f3a\"],[0.8888888888888888,\"#fdca26\"],[1.0,\"#f0f921\"]]}],\"contourcarpet\":[{\"type\":\"contourcarpet\",\"colorbar\":{\"outlinewidth\":0,\"ticks\":\"\"}}],\"contour\":[{\"type\":\"contour\",\"colorbar\":{\"outlinewidth\":0,\"ticks\":\"\"},\"colorscale\":[[0.0,\"#0d0887\"],[0.1111111111111111,\"#46039f\"],[0.2222222222222222,\"#7201a8\"],[0.3333333333333333,\"#9c179e\"],[0.4444444444444444,\"#bd3786\"],[0.5555555555555556,\"#d8576b\"],[0.6666666666666666,\"#ed7953\"],[0.7777777777777778,\"#fb9f3a\"],[0.8888888888888888,\"#fdca26\"],[1.0,\"#f0f921\"]]}],\"surface\":[{\"type\":\"surface\",\"colorbar\":{\"outlinewidth\":0,\"ticks\":\"\"},\"colorscale\":[[0.0,\"#0d0887\"],[0.1111111111111111,\"#46039f\"],[0.2222222222222222,\"#7201a8\"],[0.3333333333333333,\"#9c179e\"],[0.4444444444444444,\"#bd3786\"],[0.5555555555555556,\"#d8576b\"],[0.6666666666666666,\"#ed7953\"],[0.7777777777777778,\"#fb9f3a\"],[0.8888888888888888,\"#fdca26\"],[1.0,\"#f0f921\"]]}],\"mesh3d\":[{\"type\":\"mesh3d\",\"colorbar\":{\"outlinewidth\":0,\"ticks\":\"\"}}],\"scatter\":[{\"fillpattern\":{\"fillmode\":\"overlay\",\"size\":10,\"solidity\":0.2},\"type\":\"scatter\"}],\"parcoords\":[{\"type\":\"parcoords\",\"line\":{\"colorbar\":{\"outlinewidth\":0,\"ticks\":\"\"}}}],\"scatterpolargl\":[{\"type\":\"scatterpolargl\",\"marker\":{\"colorbar\":{\"outlinewidth\":0,\"ticks\":\"\"}}}],\"bar\":[{\"error_x\":{\"color\":\"#2a3f5f\"},\"error_y\":{\"color\":\"#2a3f5f\"},\"marker\":{\"line\":{\"color\":\"#E5ECF6\",\"width\":0.5},\"pattern\":{\"fillmode\":\"overlay\",\"size\":10,\"solidity\":0.2}},\"type\":\"bar\"}],\"scattergeo\":[{\"type\":\"scattergeo\",\"marker\":{\"colorbar\":{\"outlinewidth\":0,\"ticks\":\"\"}}}],\"scatterpolar\":[{\"type\":\"scatterpolar\",\"marker\":{\"colorbar\":{\"outlinewidth\":0,\"ticks\":\"\"}}}],\"histogram\":[{\"marker\":{\"pattern\":{\"fillmode\":\"overlay\",\"size\":10,\"solidity\":0.2}},\"type\":\"histogram\"}],\"scattergl\":[{\"type\":\"scattergl\",\"marker\":{\"colorbar\":{\"outlinewidth\":0,\"ticks\":\"\"}}}],\"scatter3d\":[{\"type\":\"scatter3d\",\"line\":{\"colorbar\":{\"outlinewidth\":0,\"ticks\":\"\"}},\"marker\":{\"colorbar\":{\"outlinewidth\":0,\"ticks\":\"\"}}}],\"scattermapbox\":[{\"type\":\"scattermapbox\",\"marker\":{\"colorbar\":{\"outlinewidth\":0,\"ticks\":\"\"}}}],\"scatterternary\":[{\"type\":\"scatterternary\",\"marker\":{\"colorbar\":{\"outlinewidth\":0,\"ticks\":\"\"}}}],\"scattercarpet\":[{\"type\":\"scattercarpet\",\"marker\":{\"colorbar\":{\"outlinewidth\":0,\"ticks\":\"\"}}}],\"carpet\":[{\"aaxis\":{\"endlinecolor\":\"#2a3f5f\",\"gridcolor\":\"white\",\"linecolor\":\"white\",\"minorgridcolor\":\"white\",\"startlinecolor\":\"#2a3f5f\"},\"baxis\":{\"endlinecolor\":\"#2a3f5f\",\"gridcolor\":\"white\",\"linecolor\":\"white\",\"minorgridcolor\":\"white\",\"startlinecolor\":\"#2a3f5f\"},\"type\":\"carpet\"}],\"table\":[{\"cells\":{\"fill\":{\"color\":\"#EBF0F8\"},\"line\":{\"color\":\"white\"}},\"header\":{\"fill\":{\"color\":\"#C8D4E3\"},\"line\":{\"color\":\"white\"}},\"type\":\"table\"}],\"barpolar\":[{\"marker\":{\"line\":{\"color\":\"#E5ECF6\",\"width\":0.5},\"pattern\":{\"fillmode\":\"overlay\",\"size\":10,\"solidity\":0.2}},\"type\":\"barpolar\"}],\"pie\":[{\"automargin\":true,\"type\":\"pie\"}]},\"layout\":{\"autotypenumbers\":\"strict\",\"colorway\":[\"#636efa\",\"#EF553B\",\"#00cc96\",\"#ab63fa\",\"#FFA15A\",\"#19d3f3\",\"#FF6692\",\"#B6E880\",\"#FF97FF\",\"#FECB52\"],\"font\":{\"color\":\"#2a3f5f\"},\"hovermode\":\"closest\",\"hoverlabel\":{\"align\":\"left\"},\"paper_bgcolor\":\"white\",\"plot_bgcolor\":\"#E5ECF6\",\"polar\":{\"bgcolor\":\"#E5ECF6\",\"angularaxis\":{\"gridcolor\":\"white\",\"linecolor\":\"white\",\"ticks\":\"\"},\"radialaxis\":{\"gridcolor\":\"white\",\"linecolor\":\"white\",\"ticks\":\"\"}},\"ternary\":{\"bgcolor\":\"#E5ECF6\",\"aaxis\":{\"gridcolor\":\"white\",\"linecolor\":\"white\",\"ticks\":\"\"},\"baxis\":{\"gridcolor\":\"white\",\"linecolor\":\"white\",\"ticks\":\"\"},\"caxis\":{\"gridcolor\":\"white\",\"linecolor\":\"white\",\"ticks\":\"\"}},\"coloraxis\":{\"colorbar\":{\"outlinewidth\":0,\"ticks\":\"\"}},\"colorscale\":{\"sequential\":[[0.0,\"#0d0887\"],[0.1111111111111111,\"#46039f\"],[0.2222222222222222,\"#7201a8\"],[0.3333333333333333,\"#9c179e\"],[0.4444444444444444,\"#bd3786\"],[0.5555555555555556,\"#d8576b\"],[0.6666666666666666,\"#ed7953\"],[0.7777777777777778,\"#fb9f3a\"],[0.8888888888888888,\"#fdca26\"],[1.0,\"#f0f921\"]],\"sequentialminus\":[[0.0,\"#0d0887\"],[0.1111111111111111,\"#46039f\"],[0.2222222222222222,\"#7201a8\"],[0.3333333333333333,\"#9c179e\"],[0.4444444444444444,\"#bd3786\"],[0.5555555555555556,\"#d8576b\"],[0.6666666666666666,\"#ed7953\"],[0.7777777777777778,\"#fb9f3a\"],[0.8888888888888888,\"#fdca26\"],[1.0,\"#f0f921\"]],\"diverging\":[[0,\"#8e0152\"],[0.1,\"#c51b7d\"],[0.2,\"#de77ae\"],[0.3,\"#f1b6da\"],[0.4,\"#fde0ef\"],[0.5,\"#f7f7f7\"],[0.6,\"#e6f5d0\"],[0.7,\"#b8e186\"],[0.8,\"#7fbc41\"],[0.9,\"#4d9221\"],[1,\"#276419\"]]},\"xaxis\":{\"gridcolor\":\"white\",\"linecolor\":\"white\",\"ticks\":\"\",\"title\":{\"standoff\":15},\"zerolinecolor\":\"white\",\"automargin\":true,\"zerolinewidth\":2},\"yaxis\":{\"gridcolor\":\"white\",\"linecolor\":\"white\",\"ticks\":\"\",\"title\":{\"standoff\":15},\"zerolinecolor\":\"white\",\"automargin\":true,\"zerolinewidth\":2},\"scene\":{\"xaxis\":{\"backgroundcolor\":\"#E5ECF6\",\"gridcolor\":\"white\",\"linecolor\":\"white\",\"showbackground\":true,\"ticks\":\"\",\"zerolinecolor\":\"white\",\"gridwidth\":2},\"yaxis\":{\"backgroundcolor\":\"#E5ECF6\",\"gridcolor\":\"white\",\"linecolor\":\"white\",\"showbackground\":true,\"ticks\":\"\",\"zerolinecolor\":\"white\",\"gridwidth\":2},\"zaxis\":{\"backgroundcolor\":\"#E5ECF6\",\"gridcolor\":\"white\",\"linecolor\":\"white\",\"showbackground\":true,\"ticks\":\"\",\"zerolinecolor\":\"white\",\"gridwidth\":2}},\"shapedefaults\":{\"line\":{\"color\":\"#2a3f5f\"}},\"annotationdefaults\":{\"arrowcolor\":\"#2a3f5f\",\"arrowhead\":0,\"arrowwidth\":1},\"geo\":{\"bgcolor\":\"white\",\"landcolor\":\"#E5ECF6\",\"subunitcolor\":\"white\",\"showland\":true,\"showlakes\":true,\"lakecolor\":\"white\"},\"title\":{\"x\":0.05},\"mapbox\":{\"style\":\"light\"}}},\"xaxis\":{\"anchor\":\"y\",\"domain\":[0.0,1.0],\"title\":{\"text\":\"x\"}},\"yaxis\":{\"anchor\":\"x\",\"domain\":[0.0,1.0],\"title\":{\"text\":\"y\"}},\"legend\":{\"title\":{\"text\":\"Predictions, Correct\"},\"tracegroupgap\":0},\"margin\":{\"t\":60}},                        {\"responsive\": true}                    ).then(function(){\n",
       "                            \n",
       "var gd = document.getElementById('60880d3e-69ae-4891-8021-5338ec5002ec');\n",
       "var x = new MutationObserver(function (mutations, observer) {{\n",
       "        var display = window.getComputedStyle(gd).display;\n",
       "        if (!display || display === 'none') {{\n",
       "            console.log([gd, 'removed!']);\n",
       "            Plotly.purge(gd);\n",
       "            observer.disconnect();\n",
       "        }}\n",
       "}});\n",
       "\n",
       "// Listen for the removal of the full notebook cells\n",
       "var notebookContainer = gd.closest('#notebook-container');\n",
       "if (notebookContainer) {{\n",
       "    x.observe(notebookContainer, {childList: true});\n",
       "}}\n",
       "\n",
       "// Listen for the clearing of the current output cell\n",
       "var outputEl = gd.closest('.output');\n",
       "if (outputEl) {{\n",
       "    x.observe(outputEl, {childList: true});\n",
       "}}\n",
       "\n",
       "                        })                };                });            </script>        </div>"
      ]
     },
     "metadata": {},
     "output_type": "display_data"
    }
   ],
   "source": [
    "predictions_series = pd.Series(predictions, name=\"Predictions\").replace(range(len(CLASS_NAMES)), CLASS_NAMES) #type: ignore\n",
    "discrete_color_map = dict(zip(CLASS_NAMES, px.colors.qualitative.Plotly))\n",
    "symbol_map = {1: \"circle\", 0: \"x\"}\n",
    "\n",
    "correct_state = pd.Series(labels_series == predictions_series, name=\"Correct\")\n",
    "visdf = pd.concat([data_points2d_df, labels_series, predictions_series, correct_state], axis=1)\n",
    "visdf2 = pd.concat([data_points2d_df, labels_series, predictions_series, correct_state], axis=1)\n",
    "fig = px.scatter(visdf, x=\"x\", y=\"y\", color=\"Predictions\", hover_data=[\"Label\"], symbol=\"Correct\", color_discrete_map=discrete_color_map, symbol_map=symbol_map)\n",
    "fig2 = px.scatter(visdf, x=\"x\", y=\"y\", color=\"Label\", hover_data=[\"Predictions\"], opacity=0.2, color_discrete_map=discrete_color_map)\n",
    "\n",
    "fig2.update_traces(dict(\n",
    "  marker=dict(\n",
    "    size=12,\n",
    "  ),\n",
    "  showlegend=False\n",
    "))\n",
    "\n",
    "fig.add_traces(fig2.data)\n",
    "\n",
    "fig.show()"
   ]
  },
  {
   "cell_type": "code",
   "execution_count": 47,
   "metadata": {},
   "outputs": [
    {
     "data": {
      "application/vnd.plotly.v1+json": {
       "config": {
        "plotlyServerURL": "https://plot.ly"
       },
       "data": [
        {
         "hovertemplate": "Predictions=surprised<br>Correct=True<br>x=%{x}<br>y=%{y}<extra></extra>",
         "legendgroup": "surprised, True",
         "marker": {
          "color": "#19D3F3",
          "symbol": "circle"
         },
         "mode": "markers",
         "name": "surprised, True",
         "orientation": "v",
         "showlegend": true,
         "type": "scatter",
         "x": [
          -14.204243659973145,
          -14.121206283569336,
          -14.521278381347656,
          -14.557320594787598,
          -8.351432800292969,
          -12.54375171661377,
          -13.663805961608887,
          -11.381546020507812,
          -13.828579902648926,
          -14.392096519470215,
          -10.314361572265625,
          -14.083693504333496,
          -13.296010971069336,
          -14.451886177062988,
          -14.41241455078125,
          -10.749180793762207,
          -11.53421688079834,
          -13.845332145690918,
          -13.642271995544434,
          -13.869332313537598,
          -13.653520584106445,
          -13.98061466217041,
          -13.051891326904297,
          -10.92151927947998,
          -13.07280158996582,
          -12.208209037780762,
          -14.431892395019531,
          -13.865408897399902,
          -12.7449369430542,
          -11.587306022644043,
          -11.532939910888672,
          -14.41592788696289,
          -14.050664901733398,
          -13.8200101852417,
          -14.445755004882812,
          -11.323786735534668,
          -14.5403413772583,
          -14.423779487609863,
          -14.521292686462402,
          -11.79830265045166,
          -13.841192245483398
         ],
         "xaxis": "x",
         "y": [
          17.205121994018555,
          17.206600189208984,
          17.835996627807617,
          17.626953125,
          -8.059886932373047,
          18.189531326293945,
          17.61916160583496,
          17.57573890686035,
          17.35602378845215,
          17.361736297607422,
          13.300178527832031,
          18.127397537231445,
          17.819061279296875,
          17.39458465576172,
          18.06490135192871,
          14.92684268951416,
          15.392216682434082,
          17.322620391845703,
          17.914772033691406,
          18.14295196533203,
          18.225732803344727,
          17.224191665649414,
          17.95137596130371,
          17.36750602722168,
          17.945533752441406,
          18.2543888092041,
          17.38290786743164,
          17.608108520507812,
          18.821741104125977,
          16.972698211669922,
          17.849578857421875,
          18.062562942504883,
          17.204004287719727,
          17.531620025634766,
          17.99266815185547,
          17.319873809814453,
          17.546340942382812,
          18.027915954589844,
          17.835962295532227,
          18.06871795654297,
          18.267488479614258
         ],
         "yaxis": "y"
        },
        {
         "hovertemplate": "Predictions=surprised<br>Correct=False<br>x=%{x}<br>y=%{y}<extra></extra>",
         "legendgroup": "surprised, False",
         "marker": {
          "color": "#19D3F3",
          "symbol": "x"
         },
         "mode": "markers",
         "name": "surprised, False",
         "orientation": "v",
         "showlegend": true,
         "type": "scatter",
         "x": [
          -10.408957481384277,
          -11.272137641906738,
          -13.715555191040039,
          -10.420135498046875,
          -10.55053424835205,
          -11.656034469604492,
          -11.400463104248047,
          -11.620067596435547,
          -11.708110809326172,
          -11.03998851776123,
          -13.590929985046387,
          -10.7821626663208,
          -12.763230323791504
         ],
         "xaxis": "x",
         "y": [
          13.305882453918457,
          17.290538787841797,
          18.6801815032959,
          13.365296363830566,
          14.036921501159668,
          15.44328784942627,
          17.22407341003418,
          15.3973970413208,
          16.55364990234375,
          16.82699966430664,
          18.259790420532227,
          15.01340389251709,
          18.96365737915039
         ],
         "yaxis": "y"
        },
        {
         "hovertemplate": "Predictions=happy<br>Correct=True<br>x=%{x}<br>y=%{y}<extra></extra>",
         "legendgroup": "happy, True",
         "marker": {
          "color": "#00CC96",
          "symbol": "circle"
         },
         "mode": "markers",
         "name": "happy, True",
         "orientation": "v",
         "showlegend": true,
         "type": "scatter",
         "x": [
          17.441682815551758,
          20.916645050048828,
          16.379362106323242,
          19.752492904663086,
          15.954536437988281,
          20.554887771606445,
          5.761546611785889,
          20.330429077148438,
          14.294050216674805,
          19.21925926208496,
          17.402820587158203,
          15.247838020324707,
          13.828612327575684,
          15.208231925964355,
          15.15239143371582,
          16.701017379760742,
          17.43564224243164,
          20.745162963867188,
          20.110397338867188,
          20.062177658081055,
          20.50199317932129,
          20.085432052612305,
          12.290666580200195,
          20.06170082092285,
          20.469865798950195,
          18.844247817993164,
          18.4333438873291,
          20.10012435913086,
          20.631330490112305,
          20.440311431884766,
          19.108009338378906,
          20.86005401611328,
          20.92818260192871,
          18.064701080322266,
          19.009471893310547,
          3.6122524738311768,
          19.323654174804688,
          18.170698165893555,
          20.718006134033203,
          16.795413970947266,
          20.218751907348633,
          17.13283348083496,
          13.326738357543945,
          20.845930099487305,
          20.77915382385254,
          14.142081260681152,
          13.387677192687988,
          15.991575241088867,
          18.045900344848633,
          17.38599967956543,
          5.678601264953613,
          19.213973999023438,
          15.894619941711426,
          20.386789321899414,
          15.356791496276855,
          17.011709213256836,
          20.539398193359375,
          16.55602264404297
         ],
         "xaxis": "x",
         "y": [
          1.8437821865081787,
          2.279712677001953,
          3.105311393737793,
          2.2039601802825928,
          3.5513250827789307,
          2.668219804763794,
          -9.222495079040527,
          2.6338207721710205,
          3.532968521118164,
          2.9454057216644287,
          3.7687575817108154,
          1.5129584074020386,
          2.74458909034729,
          1.4698301553726196,
          1.4760898351669312,
          2.08664870262146,
          3.799374580383301,
          1.8646600246429443,
          2.0858235359191895,
          2.08809494972229,
          1.752611517906189,
          2.173811197280884,
          3.3995542526245117,
          1.8590272665023804,
          1.7673348188400269,
          2.6035947799682617,
          2.98451566696167,
          2.5646286010742188,
          1.7878000736236572,
          1.7648426294326782,
          1.817580223083496,
          1.9899396896362305,
          2.285865545272827,
          1.828776478767395,
          1.7822535037994385,
          8.230612754821777,
          2.884742259979248,
          1.8820009231567383,
          2.6252357959747314,
          2.229027271270752,
          2.5627951622009277,
          3.8621232509613037,
          2.6173219680786133,
          1.9881162643432617,
          2.5805423259735107,
          1.833509922027588,
          2.6625900268554688,
          3.6776177883148193,
          3.51320743560791,
          1.8590805530548096,
          -9.385025978088379,
          2.9233920574188232,
          3.738604784011841,
          1.7946926355361938,
          1.4909483194351196,
          3.8609061241149902,
          2.6696832180023193,
          3.05383038520813
         ],
         "yaxis": "y"
        },
        {
         "hovertemplate": "Predictions=happy<br>Correct=False<br>x=%{x}<br>y=%{y}<extra></extra>",
         "legendgroup": "happy, False",
         "marker": {
          "color": "#00CC96",
          "symbol": "x"
         },
         "mode": "markers",
         "name": "happy, False",
         "orientation": "v",
         "showlegend": true,
         "type": "scatter",
         "x": [
          18.392162322998047,
          20.55091094970703,
          17.059898376464844,
          20.885421752929688,
          12.92069149017334,
          13.05041790008545,
          14.315500259399414,
          13.710708618164062,
          17.432350158691406,
          19.70841407775879,
          14.470366477966309,
          14.479046821594238,
          20.193641662597656,
          12.206313133239746,
          14.040252685546875,
          16.88508415222168,
          18.08371925354004,
          15.30482006072998,
          12.391568183898926,
          20.934415817260742
         ],
         "xaxis": "x",
         "y": [
          1.9865587949752808,
          2.669180154800415,
          3.8618640899658203,
          2.4419076442718506,
          2.479142904281616,
          1.783581256866455,
          3.5451347827911377,
          1.6921027898788452,
          1.921817421913147,
          1.8255459070205688,
          1.7127439975738525,
          3.5836634635925293,
          2.615393877029419,
          3.457443952560425,
          2.135024309158325,
          2.020721197128296,
          3.473334789276123,
          1.476351261138916,
          3.3315882682800293,
          2.184685230255127
         ],
         "yaxis": "y"
        },
        {
         "hovertemplate": "Predictions=disgusted<br>Correct=True<br>x=%{x}<br>y=%{y}<extra></extra>",
         "legendgroup": "disgusted, True",
         "marker": {
          "color": "#EF553B",
          "symbol": "circle"
         },
         "mode": "markers",
         "name": "disgusted, True",
         "orientation": "v",
         "showlegend": true,
         "type": "scatter",
         "x": [
          6.867562770843506,
          5.906405925750732,
          7.26149320602417,
          7.722771167755127,
          6.912294387817383,
          5.5346879959106445,
          5.341553688049316,
          7.597886085510254,
          6.814752578735352,
          6.7938971519470215,
          6.909716606140137,
          6.947378158569336,
          7.684459209442139,
          6.995957851409912,
          6.433008670806885,
          7.310791492462158,
          7.001127243041992,
          7.591462135314941,
          7.71652889251709,
          6.376629829406738,
          3.878206253051758,
          3.9236302375793457,
          7.552956581115723,
          3.961029052734375,
          5.978671550750732,
          7.597126007080078,
          7.200333595275879,
          7.29185676574707,
          7.787774085998535,
          3.9227240085601807,
          7.266260147094727,
          6.936689376831055,
          4.399158477783203,
          7.767969131469727,
          7.367452144622803,
          6.920182704925537,
          7.288174152374268,
          6.976415634155273,
          7.772938251495361,
          7.765804767608643,
          7.2979865074157715,
          5.539620399475098,
          7.010410785675049
         ],
         "xaxis": "x",
         "y": [
          -14.84173583984375,
          -13.719429016113281,
          -13.924162864685059,
          -14.718478202819824,
          -15.104801177978516,
          -11.031726837158203,
          -13.206464767456055,
          -14.625353813171387,
          -14.488802909851074,
          -14.662818908691406,
          -14.632116317749023,
          -15.189532279968262,
          -15.18856143951416,
          -12.975052833557129,
          -13.853025436401367,
          -15.364368438720703,
          -15.278194427490234,
          -15.28016185760498,
          -14.709798812866211,
          -13.237669944763184,
          -10.099419593811035,
          -10.418994903564453,
          -15.301220893859863,
          -11.186114311218262,
          -11.72488784790039,
          -15.274560928344727,
          -15.36361312866211,
          -14.414968490600586,
          -14.854589462280273,
          -11.163686752319336,
          -15.358746528625488,
          -15.16228199005127,
          -11.364276885986328,
          -14.773581504821777,
          -14.336214065551758,
          -15.07827377319336,
          -14.015486717224121,
          -12.846173286437988,
          -15.006921768188477,
          -14.779203414916992,
          -14.053125381469727,
          -13.447497367858887,
          -14.589126586914062
         ],
         "yaxis": "y"
        },
        {
         "hovertemplate": "Predictions=disgusted<br>Correct=False<br>x=%{x}<br>y=%{y}<extra></extra>",
         "legendgroup": "disgusted, False",
         "marker": {
          "color": "#EF553B",
          "symbol": "x"
         },
         "mode": "markers",
         "name": "disgusted, False",
         "orientation": "v",
         "showlegend": true,
         "type": "scatter",
         "x": [
          4.01625394821167,
          5.081470966339111,
          5.564101696014404,
          4.730593204498291,
          6.114290237426758,
          5.637791156768799,
          5.487549304962158,
          5.343616962432861,
          4.114769458770752,
          4.026410102844238,
          4.6001739501953125
         ],
         "xaxis": "x",
         "y": [
          -10.90017032623291,
          -10.395569801330566,
          -13.444337844848633,
          -10.697501182556152,
          -13.612024307250977,
          -12.685490608215332,
          -9.587592124938965,
          -10.218082427978516,
          -11.119027137756348,
          -11.107400894165039,
          -11.155678749084473
         ],
         "yaxis": "y"
        },
        {
         "hovertemplate": "Predictions=angry<br>Correct=True<br>x=%{x}<br>y=%{y}<extra></extra>",
         "legendgroup": "angry, True",
         "marker": {
          "color": "#636EFA",
          "symbol": "circle"
         },
         "mode": "markers",
         "name": "angry, True",
         "orientation": "v",
         "showlegend": true,
         "type": "scatter",
         "x": [
          -9.339822769165039,
          -13.08520221710205,
          -12.988521575927734,
          -13.196176528930664,
          -8.595595359802246,
          -13.20345401763916,
          -12.687434196472168,
          -12.674001693725586,
          -12.699825286865234,
          -12.248388290405273,
          -11.768572807312012,
          -11.843160629272461,
          -13.183280944824219,
          -9.518138885498047,
          -12.753448486328125,
          -12.221477508544922,
          -13.02453327178955,
          -10.206136703491211,
          -10.991890907287598,
          -13.207730293273926,
          -12.465856552124023,
          -13.078930854797363,
          -12.367704391479492,
          -12.022918701171875,
          -12.908324241638184,
          -13.076005935668945,
          -11.543277740478516,
          -12.555124282836914,
          -11.51432991027832,
          -12.746941566467285
         ],
         "xaxis": "x",
         "y": [
          -1.414339303970337,
          -1.0494409799575806,
          -1.0262900590896606,
          -0.6328951120376587,
          -1.6743491888046265,
          -0.8680691719055176,
          -1.0815330743789673,
          -1.1205216646194458,
          -0.27088484168052673,
          -1.2653111219406128,
          -1.0870225429534912,
          -1.1058695316314697,
          -0.5703240036964417,
          -3.0761196613311768,
          -0.2567668855190277,
          -0.71030193567276,
          -0.356677383184433,
          -1.721899151802063,
          -1.5389478206634521,
          -0.6768385171890259,
          -0.4656752943992615,
          -1.021308183670044,
          -0.5418239831924438,
          -0.8174024820327759,
          -0.29755496978759766,
          -0.4044218063354492,
          -1.4355535507202148,
          -0.386790007352829,
          -0.9773808121681213,
          -0.25579971075057983
         ],
         "yaxis": "y"
        },
        {
         "hovertemplate": "Predictions=angry<br>Correct=False<br>x=%{x}<br>y=%{y}<extra></extra>",
         "legendgroup": "angry, False",
         "marker": {
          "color": "#636EFA",
          "symbol": "x"
         },
         "mode": "markers",
         "name": "angry, False",
         "orientation": "v",
         "showlegend": true,
         "type": "scatter",
         "x": [
          -9.453875541687012,
          -10.66303539276123,
          -12.137542724609375,
          -12.130648612976074,
          -9.241430282592773,
          -9.4456148147583,
          -13.043604850769043,
          -8.481660842895508,
          -11.535360336303711,
          -10.419014930725098,
          -9.649090766906738,
          -9.786882400512695,
          -12.65027904510498,
          -9.199308395385742,
          -8.988896369934082
         ],
         "xaxis": "x",
         "y": [
          -3.578848123550415,
          -1.5978609323501587,
          -1.4331902265548706,
          -0.8851336240768433,
          -4.0400590896606445,
          -2.871737480163574,
          -1.0167266130447388,
          -1.1452510356903076,
          -1.3647140264511108,
          -1.734597086906433,
          -1.2982903718948364,
          -2.4112889766693115,
          -1.2581984996795654,
          -4.249119281768799,
          -1.9299647808074951
         ],
         "yaxis": "y"
        },
        {
         "hovertemplate": "Predictions=neutral<br>Correct=True<br>x=%{x}<br>y=%{y}<extra></extra>",
         "legendgroup": "neutral, True",
         "marker": {
          "color": "#AB63FA",
          "symbol": "circle"
         },
         "mode": "markers",
         "name": "neutral, True",
         "orientation": "v",
         "showlegend": true,
         "type": "scatter",
         "x": [
          2.7901675701141357,
          3.233751058578491,
          3.209653377532959,
          2.8145203590393066,
          0.9004423022270203,
          2.476574420928955,
          2.3746814727783203,
          2.8193538188934326,
          2.3057100772857666,
          3.1630144119262695,
          3.0919361114501953,
          2.3925859928131104,
          1.8366999626159668,
          3.223543643951416,
          2.4508845806121826,
          2.421996831893921,
          3.0394105911254883,
          2.175875425338745,
          1.1046741008758545,
          2.825490713119507,
          3.2436869144439697,
          2.6701576709747314,
          3.090703248977661,
          3.03642201423645,
          3.511735677719116,
          3.2356958389282227,
          3.02117657661438,
          3.2370517253875732,
          2.3909826278686523,
          3.2378745079040527,
          3.0876245498657227,
          2.753164768218994,
          3.114515781402588
         ],
         "xaxis": "x",
         "y": [
          12.153707504272461,
          12.703591346740723,
          11.686393737792969,
          12.96216106414795,
          9.126677513122559,
          12.819151878356934,
          9.217989921569824,
          12.950675964355469,
          11.989033699035645,
          12.047866821289062,
          12.247493743896484,
          12.589434623718262,
          10.685643196105957,
          11.533707618713379,
          12.786288261413574,
          12.718836784362793,
          10.033271789550781,
          11.211987495422363,
          9.290060043334961,
          12.96121597290039,
          12.661542892456055,
          12.009455680847168,
          9.485248565673828,
          12.164533615112305,
          8.348711013793945,
          12.700460433959961,
          11.780128479003906,
          12.691508293151855,
          12.592702865600586,
          12.691140174865723,
          12.86548900604248,
          12.945030212402344,
          9.251845359802246
         ],
         "yaxis": "y"
        },
        {
         "hovertemplate": "Predictions=neutral<br>Correct=False<br>x=%{x}<br>y=%{y}<extra></extra>",
         "legendgroup": "neutral, False",
         "marker": {
          "color": "#AB63FA",
          "symbol": "x"
         },
         "mode": "markers",
         "name": "neutral, False",
         "orientation": "v",
         "showlegend": true,
         "type": "scatter",
         "x": [
          3.235036849975586,
          0.9190601110458374,
          2.457029342651367,
          2.4162251949310303,
          2.1737983226776123,
          2.32554030418396,
          0.7754178047180176,
          2.5713486671447754,
          2.6304287910461426,
          2.4039101600646973,
          1.841186761856079,
          1.8545222282409668,
          1.1061238050460815,
          -8.154674530029297,
          -8.151561737060547
         ],
         "xaxis": "x",
         "y": [
          8.647438049316406,
          9.12075138092041,
          12.332671165466309,
          12.685409545898438,
          11.207221031188965,
          8.926116943359375,
          9.07016658782959,
          10.878663063049316,
          11.814115524291992,
          11.695141792297363,
          10.50345516204834,
          10.699797630310059,
          9.29000186920166,
          -1.0272579193115234,
          -1.4508998394012451
         ],
         "yaxis": "y"
        },
        {
         "hovertemplate": "Predictions=sad<br>Correct=True<br>x=%{x}<br>y=%{y}<extra></extra>",
         "legendgroup": "sad, True",
         "marker": {
          "color": "#FFA15A",
          "symbol": "circle"
         },
         "mode": "markers",
         "name": "sad, True",
         "orientation": "v",
         "showlegend": true,
         "type": "scatter",
         "x": [
          -9.390130996704102,
          -8.601344108581543,
          -8.568845748901367,
          -9.080035209655762,
          -7.279416561126709,
          -7.351439952850342,
          -8.942985534667969,
          -8.632688522338867,
          -8.759620666503906,
          -9.370927810668945,
          -9.139396667480469,
          -8.892051696777344,
          -8.315563201904297,
          -8.496406555175781,
          -8.400458335876465,
          -8.619967460632324,
          -8.55565357208252,
          -9.119585037231445,
          -8.299294471740723,
          -9.367074012756348,
          -7.528319835662842,
          -9.39746379852295,
          -8.766026496887207,
          -8.977306365966797,
          -9.088433265686035,
          -9.064064979553223,
          -8.841682434082031,
          -8.367122650146484,
          -8.762166023254395,
          -9.377059936523438,
          -9.115137100219727,
          -9.409579277038574,
          -8.784234046936035,
          -8.477034568786621,
          -9.014792442321777
         ],
         "xaxis": "x",
         "y": [
          -11.81321907043457,
          -12.127436637878418,
          -11.99255657196045,
          -12.278827667236328,
          -9.206510543823242,
          -9.108139991760254,
          -5.161767959594727,
          -11.66778564453125,
          -12.263300895690918,
          -12.09929084777832,
          -11.314801216125488,
          -5.404051780700684,
          -8.42303466796875,
          -11.603672981262207,
          -11.154229164123535,
          -12.154179573059082,
          -11.5864839553833,
          -12.266945838928223,
          -10.141260147094727,
          -12.108394622802734,
          -9.600894927978516,
          -11.81379508972168,
          -12.267026901245117,
          -10.108749389648438,
          -10.881200790405273,
          -11.44689655303955,
          -11.389142990112305,
          -11.210240364074707,
          -12.265250205993652,
          -12.085258483886719,
          -12.267702102661133,
          -11.799793243408203,
          -11.58154296875,
          -10.964848518371582,
          -4.86468505859375
         ],
         "yaxis": "y"
        },
        {
         "hovertemplate": "Predictions=sad<br>Correct=False<br>x=%{x}<br>y=%{y}<extra></extra>",
         "legendgroup": "sad, False",
         "marker": {
          "color": "#FFA15A",
          "symbol": "x"
         },
         "mode": "markers",
         "name": "sad, False",
         "orientation": "v",
         "showlegend": true,
         "type": "scatter",
         "x": [
          -7.9396748542785645,
          -9.3079252243042,
          -7.359931945800781,
          -7.576073169708252,
          3.01141357421875,
          -8.98263168334961,
          -8.866043090820312,
          -9.075810432434082,
          -9.32644271850586,
          -7.857183933258057,
          -7.6486897468566895
         ],
         "xaxis": "x",
         "y": [
          -10.184699058532715,
          -11.582598686218262,
          -9.464949607849121,
          -8.739201545715332,
          -10.586457252502441,
          -10.048322677612305,
          -5.530104637145996,
          -10.914783477783203,
          -11.137174606323242,
          -8.714173316955566,
          -9.815105438232422
         ],
         "yaxis": "y"
        },
        {
         "customdata": [
          [
           "surprised"
          ],
          [
           "surprised"
          ],
          [
           "surprised"
          ],
          [
           "surprised"
          ],
          [
           "surprised"
          ],
          [
           "surprised"
          ],
          [
           "surprised"
          ],
          [
           "happy"
          ],
          [
           "surprised"
          ],
          [
           "surprised"
          ],
          [
           "sad"
          ],
          [
           "surprised"
          ],
          [
           "surprised"
          ],
          [
           "surprised"
          ],
          [
           "angry"
          ],
          [
           "surprised"
          ],
          [
           "neutral"
          ],
          [
           "surprised"
          ],
          [
           "surprised"
          ],
          [
           "surprised"
          ],
          [
           "surprised"
          ],
          [
           "surprised"
          ],
          [
           "surprised"
          ],
          [
           "surprised"
          ],
          [
           "surprised"
          ],
          [
           "surprised"
          ],
          [
           "surprised"
          ],
          [
           "neutral"
          ],
          [
           "angry"
          ],
          [
           "surprised"
          ],
          [
           "surprised"
          ],
          [
           "neutral"
          ],
          [
           "surprised"
          ],
          [
           "surprised"
          ],
          [
           "surprised"
          ],
          [
           "surprised"
          ],
          [
           "surprised"
          ],
          [
           "surprised"
          ],
          [
           "surprised"
          ],
          [
           "neutral"
          ],
          [
           "surprised"
          ],
          [
           "neutral"
          ],
          [
           "neutral"
          ],
          [
           "happy"
          ],
          [
           "angry"
          ],
          [
           "surprised"
          ],
          [
           "neutral"
          ],
          [
           "surprised"
          ],
          [
           "surprised"
          ],
          [
           "neutral"
          ],
          [
           "surprised"
          ],
          [
           "surprised"
          ],
          [
           "surprised"
          ],
          [
           "surprised"
          ],
          [
           "surprised"
          ],
          [
           "happy"
          ]
         ],
         "hovertemplate": "Label=surprised<br>x=%{x}<br>y=%{y}<br>Predictions=%{customdata[0]}<extra></extra>",
         "legendgroup": "surprised",
         "marker": {
          "color": "#19D3F3",
          "opacity": 0.2,
          "size": 12,
          "symbol": "circle"
         },
         "mode": "markers",
         "name": "surprised",
         "orientation": "v",
         "showlegend": false,
         "type": "scatter",
         "x": [
          -14.204243659973145,
          -14.121206283569336,
          -14.521278381347656,
          -14.557320594787598,
          -8.351432800292969,
          -12.54375171661377,
          -13.663805961608887,
          12.92069149017334,
          -11.381546020507812,
          -13.828579902648926,
          -7.9396748542785645,
          -14.392096519470215,
          -10.314361572265625,
          -14.083693504333496,
          -12.137542724609375,
          -13.296010971069336,
          0.9190601110458374,
          -14.451886177062988,
          -14.41241455078125,
          -10.749180793762207,
          -11.53421688079834,
          -13.845332145690918,
          -13.642271995544434,
          -13.869332313537598,
          -13.653520584106445,
          -13.98061466217041,
          -13.051891326904297,
          2.1737983226776123,
          -8.481660842895508,
          -10.92151927947998,
          -13.07280158996582,
          2.32554030418396,
          -12.208209037780762,
          -14.431892395019531,
          -13.865408897399902,
          -12.7449369430542,
          -11.587306022644043,
          -11.532939910888672,
          -14.41592788696289,
          0.7754178047180176,
          -14.050664901733398,
          2.4039101600646973,
          1.841186761856079,
          14.040252685546875,
          -9.649090766906738,
          -13.8200101852417,
          1.8545222282409668,
          -14.445755004882812,
          -11.323786735534668,
          1.1061238050460815,
          -14.5403413772583,
          -14.423779487609863,
          -14.521292686462402,
          -11.79830265045166,
          -13.841192245483398,
          20.934415817260742
         ],
         "xaxis": "x",
         "y": [
          17.205121994018555,
          17.206600189208984,
          17.835996627807617,
          17.626953125,
          -8.059886932373047,
          18.189531326293945,
          17.61916160583496,
          2.479142904281616,
          17.57573890686035,
          17.35602378845215,
          -10.184699058532715,
          17.361736297607422,
          13.300178527832031,
          18.127397537231445,
          -1.4331902265548706,
          17.819061279296875,
          9.12075138092041,
          17.39458465576172,
          18.06490135192871,
          14.92684268951416,
          15.392216682434082,
          17.322620391845703,
          17.914772033691406,
          18.14295196533203,
          18.225732803344727,
          17.224191665649414,
          17.95137596130371,
          11.207221031188965,
          -1.1452510356903076,
          17.36750602722168,
          17.945533752441406,
          8.926116943359375,
          18.2543888092041,
          17.38290786743164,
          17.608108520507812,
          18.821741104125977,
          16.972698211669922,
          17.849578857421875,
          18.062562942504883,
          9.07016658782959,
          17.204004287719727,
          11.695141792297363,
          10.50345516204834,
          2.135024309158325,
          -1.2982903718948364,
          17.531620025634766,
          10.699797630310059,
          17.99266815185547,
          17.319873809814453,
          9.29000186920166,
          17.546340942382812,
          18.027915954589844,
          17.835962295532227,
          18.06871795654297,
          18.267488479614258,
          2.184685230255127
         ],
         "yaxis": "y"
        },
        {
         "customdata": [
          [
           "happy"
          ],
          [
           "disgusted"
          ],
          [
           "disgusted"
          ],
          [
           "disgusted"
          ],
          [
           "disgusted"
          ],
          [
           "disgusted"
          ],
          [
           "disgusted"
          ],
          [
           "disgusted"
          ],
          [
           "happy"
          ],
          [
           "disgusted"
          ],
          [
           "disgusted"
          ],
          [
           "disgusted"
          ],
          [
           "disgusted"
          ],
          [
           "disgusted"
          ],
          [
           "disgusted"
          ],
          [
           "disgusted"
          ],
          [
           "disgusted"
          ],
          [
           "disgusted"
          ],
          [
           "disgusted"
          ],
          [
           "disgusted"
          ],
          [
           "sad"
          ],
          [
           "disgusted"
          ],
          [
           "disgusted"
          ],
          [
           "disgusted"
          ],
          [
           "disgusted"
          ],
          [
           "disgusted"
          ],
          [
           "sad"
          ],
          [
           "surprised"
          ],
          [
           "disgusted"
          ],
          [
           "neutral"
          ],
          [
           "disgusted"
          ],
          [
           "disgusted"
          ],
          [
           "happy"
          ],
          [
           "sad"
          ],
          [
           "disgusted"
          ],
          [
           "disgusted"
          ],
          [
           "disgusted"
          ],
          [
           "disgusted"
          ],
          [
           "disgusted"
          ],
          [
           "disgusted"
          ],
          [
           "disgusted"
          ],
          [
           "sad"
          ],
          [
           "disgusted"
          ],
          [
           "angry"
          ],
          [
           "disgusted"
          ],
          [
           "disgusted"
          ],
          [
           "disgusted"
          ],
          [
           "disgusted"
          ],
          [
           "disgusted"
          ],
          [
           "disgusted"
          ],
          [
           "sad"
          ],
          [
           "disgusted"
          ],
          [
           "disgusted"
          ],
          [
           "disgusted"
          ]
         ],
         "hovertemplate": "Label=disgusted<br>x=%{x}<br>y=%{y}<br>Predictions=%{customdata[0]}<extra></extra>",
         "legendgroup": "disgusted",
         "marker": {
          "color": "#EF553B",
          "opacity": 0.2,
          "size": 12,
          "symbol": "circle"
         },
         "mode": "markers",
         "name": "disgusted",
         "orientation": "v",
         "showlegend": false,
         "type": "scatter",
         "x": [
          18.392162322998047,
          6.867562770843506,
          5.906405925750732,
          7.26149320602417,
          7.722771167755127,
          6.912294387817383,
          5.5346879959106445,
          5.341553688049316,
          17.432350158691406,
          7.597886085510254,
          6.814752578735352,
          6.7938971519470215,
          6.909716606140137,
          6.947378158569336,
          7.684459209442139,
          6.995957851409912,
          6.433008670806885,
          7.310791492462158,
          7.001127243041992,
          7.591462135314941,
          -7.359931945800781,
          7.71652889251709,
          6.376629829406738,
          3.878206253051758,
          3.9236302375793457,
          7.552956581115723,
          3.01141357421875,
          -11.708110809326172,
          3.961029052734375,
          2.5713486671447754,
          5.978671550750732,
          7.597126007080078,
          16.88508415222168,
          -8.866043090820312,
          7.200333595275879,
          7.29185676574707,
          7.787774085998535,
          3.9227240085601807,
          7.266260147094727,
          6.936689376831055,
          4.399158477783203,
          -9.075810432434082,
          7.767969131469727,
          -9.786882400512695,
          7.367452144622803,
          6.920182704925537,
          7.288174152374268,
          6.976415634155273,
          7.772938251495361,
          7.765804767608643,
          -7.6486897468566895,
          7.2979865074157715,
          5.539620399475098,
          7.010410785675049
         ],
         "xaxis": "x",
         "y": [
          1.9865587949752808,
          -14.84173583984375,
          -13.719429016113281,
          -13.924162864685059,
          -14.718478202819824,
          -15.104801177978516,
          -11.031726837158203,
          -13.206464767456055,
          1.921817421913147,
          -14.625353813171387,
          -14.488802909851074,
          -14.662818908691406,
          -14.632116317749023,
          -15.189532279968262,
          -15.18856143951416,
          -12.975052833557129,
          -13.853025436401367,
          -15.364368438720703,
          -15.278194427490234,
          -15.28016185760498,
          -9.464949607849121,
          -14.709798812866211,
          -13.237669944763184,
          -10.099419593811035,
          -10.418994903564453,
          -15.301220893859863,
          -10.586457252502441,
          16.55364990234375,
          -11.186114311218262,
          10.878663063049316,
          -11.72488784790039,
          -15.274560928344727,
          2.020721197128296,
          -5.530104637145996,
          -15.36361312866211,
          -14.414968490600586,
          -14.854589462280273,
          -11.163686752319336,
          -15.358746528625488,
          -15.16228199005127,
          -11.364276885986328,
          -10.914783477783203,
          -14.773581504821777,
          -2.4112889766693115,
          -14.336214065551758,
          -15.07827377319336,
          -14.015486717224121,
          -12.846173286437988,
          -15.006921768188477,
          -14.779203414916992,
          -9.815105438232422,
          -14.053125381469727,
          -13.447497367858887,
          -14.589126586914062
         ],
         "yaxis": "y"
        },
        {
         "customdata": [
          [
           "happy"
          ],
          [
           "happy"
          ],
          [
           "happy"
          ],
          [
           "happy"
          ],
          [
           "happy"
          ],
          [
           "happy"
          ],
          [
           "happy"
          ],
          [
           "happy"
          ],
          [
           "happy"
          ],
          [
           "happy"
          ],
          [
           "happy"
          ],
          [
           "happy"
          ],
          [
           "happy"
          ],
          [
           "neutral"
          ],
          [
           "happy"
          ],
          [
           "happy"
          ],
          [
           "happy"
          ],
          [
           "happy"
          ],
          [
           "happy"
          ],
          [
           "happy"
          ],
          [
           "happy"
          ],
          [
           "happy"
          ],
          [
           "surprised"
          ],
          [
           "surprised"
          ],
          [
           "happy"
          ],
          [
           "happy"
          ],
          [
           "neutral"
          ],
          [
           "happy"
          ],
          [
           "happy"
          ],
          [
           "happy"
          ],
          [
           "disgusted"
          ],
          [
           "happy"
          ],
          [
           "happy"
          ],
          [
           "surprised"
          ],
          [
           "happy"
          ],
          [
           "happy"
          ],
          [
           "happy"
          ],
          [
           "happy"
          ],
          [
           "happy"
          ],
          [
           "disgusted"
          ],
          [
           "happy"
          ],
          [
           "happy"
          ],
          [
           "happy"
          ],
          [
           "happy"
          ],
          [
           "happy"
          ],
          [
           "happy"
          ],
          [
           "happy"
          ],
          [
           "happy"
          ],
          [
           "neutral"
          ],
          [
           "happy"
          ],
          [
           "happy"
          ],
          [
           "happy"
          ],
          [
           "happy"
          ],
          [
           "happy"
          ],
          [
           "happy"
          ],
          [
           "happy"
          ],
          [
           "happy"
          ],
          [
           "happy"
          ],
          [
           "happy"
          ],
          [
           "happy"
          ],
          [
           "surprised"
          ],
          [
           "happy"
          ],
          [
           "happy"
          ],
          [
           "happy"
          ],
          [
           "happy"
          ],
          [
           "happy"
          ],
          [
           "angry"
          ],
          [
           "happy"
          ]
         ],
         "hovertemplate": "Label=happy<br>x=%{x}<br>y=%{y}<br>Predictions=%{customdata[0]}<extra></extra>",
         "legendgroup": "happy",
         "marker": {
          "color": "#00CC96",
          "opacity": 0.2,
          "size": 12,
          "symbol": "circle"
         },
         "mode": "markers",
         "name": "happy",
         "orientation": "v",
         "showlegend": false,
         "type": "scatter",
         "x": [
          17.441682815551758,
          20.916645050048828,
          16.379362106323242,
          19.752492904663086,
          15.954536437988281,
          20.554887771606445,
          5.761546611785889,
          20.330429077148438,
          14.294050216674805,
          19.21925926208496,
          17.402820587158203,
          15.247838020324707,
          13.828612327575684,
          3.235036849975586,
          15.208231925964355,
          15.15239143371582,
          16.701017379760742,
          17.43564224243164,
          20.745162963867188,
          20.110397338867188,
          20.062177658081055,
          20.50199317932129,
          -13.715555191040039,
          -10.55053424835205,
          20.085432052612305,
          12.290666580200195,
          2.457029342651367,
          20.06170082092285,
          20.469865798950195,
          18.844247817993164,
          5.564101696014404,
          18.4333438873291,
          20.10012435913086,
          -11.400463104248047,
          20.631330490112305,
          20.440311431884766,
          19.108009338378906,
          20.86005401611328,
          20.92818260192871,
          5.487549304962158,
          18.064701080322266,
          19.009471893310547,
          3.6122524738311768,
          19.323654174804688,
          18.170698165893555,
          20.718006134033203,
          16.795413970947266,
          20.218751907348633,
          2.6304287910461426,
          17.13283348083496,
          13.326738357543945,
          20.845930099487305,
          20.77915382385254,
          14.142081260681152,
          13.387677192687988,
          15.991575241088867,
          18.045900344848633,
          17.38599967956543,
          5.678601264953613,
          19.213973999023438,
          -12.763230323791504,
          15.894619941711426,
          20.386789321899414,
          15.356791496276855,
          17.011709213256836,
          20.539398193359375,
          -8.988896369934082,
          16.55602264404297
         ],
         "xaxis": "x",
         "y": [
          1.8437821865081787,
          2.279712677001953,
          3.105311393737793,
          2.2039601802825928,
          3.5513250827789307,
          2.668219804763794,
          -9.222495079040527,
          2.6338207721710205,
          3.532968521118164,
          2.9454057216644287,
          3.7687575817108154,
          1.5129584074020386,
          2.74458909034729,
          8.647438049316406,
          1.4698301553726196,
          1.4760898351669312,
          2.08664870262146,
          3.799374580383301,
          1.8646600246429443,
          2.0858235359191895,
          2.08809494972229,
          1.752611517906189,
          18.6801815032959,
          14.036921501159668,
          2.173811197280884,
          3.3995542526245117,
          12.332671165466309,
          1.8590272665023804,
          1.7673348188400269,
          2.6035947799682617,
          -13.444337844848633,
          2.98451566696167,
          2.5646286010742188,
          17.22407341003418,
          1.7878000736236572,
          1.7648426294326782,
          1.817580223083496,
          1.9899396896362305,
          2.285865545272827,
          -9.587592124938965,
          1.828776478767395,
          1.7822535037994385,
          8.230612754821777,
          2.884742259979248,
          1.8820009231567383,
          2.6252357959747314,
          2.229027271270752,
          2.5627951622009277,
          11.814115524291992,
          3.8621232509613037,
          2.6173219680786133,
          1.9881162643432617,
          2.5805423259735107,
          1.833509922027588,
          2.6625900268554688,
          3.6776177883148193,
          3.51320743560791,
          1.8590805530548096,
          -9.385025978088379,
          2.9233920574188232,
          18.96365737915039,
          3.738604784011841,
          1.7946926355361938,
          1.4909483194351196,
          3.8609061241149902,
          2.6696832180023193,
          -1.9299647808074951,
          3.05383038520813
         ],
         "yaxis": "y"
        },
        {
         "customdata": [
          [
           "happy"
          ],
          [
           "happy"
          ],
          [
           "sad"
          ],
          [
           "happy"
          ],
          [
           "happy"
          ],
          [
           "sad"
          ],
          [
           "sad"
          ],
          [
           "sad"
          ],
          [
           "happy"
          ],
          [
           "sad"
          ],
          [
           "angry"
          ],
          [
           "sad"
          ],
          [
           "sad"
          ],
          [
           "angry"
          ],
          [
           "sad"
          ],
          [
           "sad"
          ],
          [
           "angry"
          ],
          [
           "sad"
          ],
          [
           "sad"
          ],
          [
           "sad"
          ],
          [
           "sad"
          ],
          [
           "sad"
          ],
          [
           "neutral"
          ],
          [
           "sad"
          ],
          [
           "sad"
          ],
          [
           "sad"
          ],
          [
           "angry"
          ],
          [
           "angry"
          ],
          [
           "surprised"
          ],
          [
           "sad"
          ],
          [
           "disgusted"
          ],
          [
           "sad"
          ],
          [
           "happy"
          ],
          [
           "angry"
          ],
          [
           "sad"
          ],
          [
           "sad"
          ],
          [
           "disgusted"
          ],
          [
           "sad"
          ],
          [
           "sad"
          ],
          [
           "sad"
          ],
          [
           "sad"
          ],
          [
           "disgusted"
          ],
          [
           "sad"
          ],
          [
           "sad"
          ],
          [
           "sad"
          ],
          [
           "sad"
          ],
          [
           "sad"
          ],
          [
           "sad"
          ],
          [
           "sad"
          ],
          [
           "sad"
          ],
          [
           "sad"
          ],
          [
           "angry"
          ],
          [
           "angry"
          ],
          [
           "sad"
          ]
         ],
         "hovertemplate": "Label=sad<br>x=%{x}<br>y=%{y}<br>Predictions=%{customdata[0]}<extra></extra>",
         "legendgroup": "sad",
         "marker": {
          "color": "#FFA15A",
          "opacity": 0.2,
          "size": 12,
          "symbol": "circle"
         },
         "mode": "markers",
         "name": "sad",
         "orientation": "v",
         "showlegend": false,
         "type": "scatter",
         "x": [
          20.55091094970703,
          17.059898376464844,
          -9.390130996704102,
          20.885421752929688,
          13.05041790008545,
          -8.601344108581543,
          -8.568845748901367,
          -9.080035209655762,
          13.710708618164062,
          -7.279416561126709,
          -9.453875541687012,
          -7.351439952850342,
          -8.942985534667969,
          -12.130648612976074,
          -8.632688522338867,
          -8.759620666503906,
          -9.241430282592773,
          -9.370927810668945,
          -9.139396667480469,
          -8.892051696777344,
          -8.315563201904297,
          -8.496406555175781,
          2.4162251949310303,
          -8.400458335876465,
          -8.619967460632324,
          -8.55565357208252,
          -9.4456148147583,
          -13.043604850769043,
          -11.620067596435547,
          -9.119585037231445,
          6.114290237426758,
          -8.299294471740723,
          20.193641662597656,
          -11.535360336303711,
          -9.367074012756348,
          -7.528319835662842,
          4.114769458770752,
          -9.39746379852295,
          -8.766026496887207,
          -8.977306365966797,
          -9.088433265686035,
          4.026410102844238,
          -9.064064979553223,
          -8.841682434082031,
          -8.367122650146484,
          -8.762166023254395,
          -9.377059936523438,
          -9.115137100219727,
          -9.409579277038574,
          -8.784234046936035,
          -8.477034568786621,
          -12.65027904510498,
          -9.199308395385742,
          -9.014792442321777
         ],
         "xaxis": "x",
         "y": [
          2.669180154800415,
          3.8618640899658203,
          -11.81321907043457,
          2.4419076442718506,
          1.783581256866455,
          -12.127436637878418,
          -11.99255657196045,
          -12.278827667236328,
          1.6921027898788452,
          -9.206510543823242,
          -3.578848123550415,
          -9.108139991760254,
          -5.161767959594727,
          -0.8851336240768433,
          -11.66778564453125,
          -12.263300895690918,
          -4.0400590896606445,
          -12.09929084777832,
          -11.314801216125488,
          -5.404051780700684,
          -8.42303466796875,
          -11.603672981262207,
          12.685409545898438,
          -11.154229164123535,
          -12.154179573059082,
          -11.5864839553833,
          -2.871737480163574,
          -1.0167266130447388,
          15.3973970413208,
          -12.266945838928223,
          -13.612024307250977,
          -10.141260147094727,
          2.615393877029419,
          -1.3647140264511108,
          -12.108394622802734,
          -9.600894927978516,
          -11.119027137756348,
          -11.81379508972168,
          -12.267026901245117,
          -10.108749389648438,
          -10.881200790405273,
          -11.107400894165039,
          -11.44689655303955,
          -11.389142990112305,
          -11.210240364074707,
          -12.265250205993652,
          -12.085258483886719,
          -12.267702102661133,
          -11.799793243408203,
          -11.58154296875,
          -10.964848518371582,
          -1.2581984996795654,
          -4.249119281768799,
          -4.86468505859375
         ],
         "yaxis": "y"
        },
        {
         "customdata": [
          [
           "angry"
          ],
          [
           "angry"
          ],
          [
           "angry"
          ],
          [
           "angry"
          ],
          [
           "disgusted"
          ],
          [
           "angry"
          ],
          [
           "angry"
          ],
          [
           "angry"
          ],
          [
           "angry"
          ],
          [
           "angry"
          ],
          [
           "angry"
          ],
          [
           "sad"
          ],
          [
           "angry"
          ],
          [
           "happy"
          ],
          [
           "angry"
          ],
          [
           "angry"
          ],
          [
           "angry"
          ],
          [
           "surprised"
          ],
          [
           "happy"
          ],
          [
           "surprised"
          ],
          [
           "surprised"
          ],
          [
           "angry"
          ],
          [
           "angry"
          ],
          [
           "angry"
          ],
          [
           "angry"
          ],
          [
           "disgusted"
          ],
          [
           "angry"
          ],
          [
           "disgusted"
          ],
          [
           "disgusted"
          ],
          [
           "angry"
          ],
          [
           "disgusted"
          ],
          [
           "angry"
          ],
          [
           "angry"
          ],
          [
           "sad"
          ],
          [
           "angry"
          ],
          [
           "angry"
          ],
          [
           "angry"
          ],
          [
           "happy"
          ],
          [
           "sad"
          ],
          [
           "angry"
          ],
          [
           "neutral"
          ],
          [
           "angry"
          ],
          [
           "angry"
          ],
          [
           "neutral"
          ],
          [
           "angry"
          ],
          [
           "angry"
          ]
         ],
         "hovertemplate": "Label=angry<br>x=%{x}<br>y=%{y}<br>Predictions=%{customdata[0]}<extra></extra>",
         "legendgroup": "angry",
         "marker": {
          "color": "#636EFA",
          "opacity": 0.2,
          "size": 12,
          "symbol": "circle"
         },
         "mode": "markers",
         "name": "angry",
         "orientation": "v",
         "showlegend": false,
         "type": "scatter",
         "x": [
          -9.339822769165039,
          -13.08520221710205,
          -12.988521575927734,
          -13.196176528930664,
          4.01625394821167,
          -8.595595359802246,
          -13.20345401763916,
          -12.687434196472168,
          -12.674001693725586,
          -12.699825286865234,
          -12.248388290405273,
          -9.3079252243042,
          -11.768572807312012,
          19.70841407775879,
          -11.843160629272461,
          -13.183280944824219,
          -9.518138885498047,
          -11.272137641906738,
          14.470366477966309,
          -10.420135498046875,
          -11.656034469604492,
          -12.753448486328125,
          -12.221477508544922,
          -13.02453327178955,
          -10.206136703491211,
          5.081470966339111,
          -10.991890907287598,
          4.730593204498291,
          5.637791156768799,
          -13.207730293273926,
          5.343616962432861,
          -12.465856552124023,
          -13.078930854797363,
          -8.98263168334961,
          -12.367704391479492,
          -12.022918701171875,
          -12.908324241638184,
          15.30482006072998,
          -7.857183933258057,
          -13.076005935668945,
          -8.154674530029297,
          -11.543277740478516,
          -12.555124282836914,
          -8.151561737060547,
          -11.51432991027832,
          -12.746941566467285
         ],
         "xaxis": "x",
         "y": [
          -1.414339303970337,
          -1.0494409799575806,
          -1.0262900590896606,
          -0.6328951120376587,
          -10.90017032623291,
          -1.6743491888046265,
          -0.8680691719055176,
          -1.0815330743789673,
          -1.1205216646194458,
          -0.27088484168052673,
          -1.2653111219406128,
          -11.582598686218262,
          -1.0870225429534912,
          1.8255459070205688,
          -1.1058695316314697,
          -0.5703240036964417,
          -3.0761196613311768,
          17.290538787841797,
          1.7127439975738525,
          13.365296363830566,
          15.44328784942627,
          -0.2567668855190277,
          -0.71030193567276,
          -0.356677383184433,
          -1.721899151802063,
          -10.395569801330566,
          -1.5389478206634521,
          -10.697501182556152,
          -12.685490608215332,
          -0.6768385171890259,
          -10.218082427978516,
          -0.4656752943992615,
          -1.021308183670044,
          -10.048322677612305,
          -0.5418239831924438,
          -0.8174024820327759,
          -0.29755496978759766,
          1.476351261138916,
          -8.714173316955566,
          -0.4044218063354492,
          -1.0272579193115234,
          -1.4355535507202148,
          -0.386790007352829,
          -1.4508998394012451,
          -0.9773808121681213,
          -0.25579971075057983
         ],
         "yaxis": "y"
        },
        {
         "customdata": [
          [
           "neutral"
          ],
          [
           "happy"
          ],
          [
           "neutral"
          ],
          [
           "neutral"
          ],
          [
           "neutral"
          ],
          [
           "neutral"
          ],
          [
           "neutral"
          ],
          [
           "neutral"
          ],
          [
           "angry"
          ],
          [
           "surprised"
          ],
          [
           "neutral"
          ],
          [
           "neutral"
          ],
          [
           "neutral"
          ],
          [
           "neutral"
          ],
          [
           "neutral"
          ],
          [
           "neutral"
          ],
          [
           "neutral"
          ],
          [
           "neutral"
          ],
          [
           "neutral"
          ],
          [
           "neutral"
          ],
          [
           "happy"
          ],
          [
           "sad"
          ],
          [
           "neutral"
          ],
          [
           "neutral"
          ],
          [
           "happy"
          ],
          [
           "neutral"
          ],
          [
           "neutral"
          ],
          [
           "neutral"
          ],
          [
           "neutral"
          ],
          [
           "neutral"
          ],
          [
           "neutral"
          ],
          [
           "surprised"
          ],
          [
           "angry"
          ],
          [
           "happy"
          ],
          [
           "disgusted"
          ],
          [
           "neutral"
          ],
          [
           "neutral"
          ],
          [
           "surprised"
          ],
          [
           "neutral"
          ],
          [
           "neutral"
          ],
          [
           "sad"
          ],
          [
           "neutral"
          ],
          [
           "neutral"
          ],
          [
           "neutral"
          ],
          [
           "surprised"
          ],
          [
           "happy"
          ],
          [
           "neutral"
          ]
         ],
         "hovertemplate": "Label=neutral<br>x=%{x}<br>y=%{y}<br>Predictions=%{customdata[0]}<extra></extra>",
         "legendgroup": "neutral",
         "marker": {
          "color": "#AB63FA",
          "opacity": 0.2,
          "size": 12,
          "symbol": "circle"
         },
         "mode": "markers",
         "name": "neutral",
         "orientation": "v",
         "showlegend": false,
         "type": "scatter",
         "x": [
          2.7901675701141357,
          14.315500259399414,
          3.233751058578491,
          3.209653377532959,
          2.8145203590393066,
          0.9004423022270203,
          2.476574420928955,
          2.3746814727783203,
          -10.66303539276123,
          -10.408957481384277,
          2.8193538188934326,
          2.3057100772857666,
          3.1630144119262695,
          3.0919361114501953,
          2.3925859928131104,
          1.8366999626159668,
          3.223543643951416,
          2.4508845806121826,
          2.421996831893921,
          3.0394105911254883,
          14.479046821594238,
          -7.576073169708252,
          2.175875425338745,
          1.1046741008758545,
          12.206313133239746,
          2.825490713119507,
          3.2436869144439697,
          2.6701576709747314,
          3.090703248977661,
          3.03642201423645,
          3.511735677719116,
          -11.03998851776123,
          -10.419014930725098,
          18.08371925354004,
          4.6001739501953125,
          3.2356958389282227,
          3.02117657661438,
          -13.590929985046387,
          3.2370517253875732,
          2.3909826278686523,
          -9.32644271850586,
          3.2378745079040527,
          3.0876245498657227,
          2.753164768218994,
          -10.7821626663208,
          12.391568183898926,
          3.114515781402588
         ],
         "xaxis": "x",
         "y": [
          12.153707504272461,
          3.5451347827911377,
          12.703591346740723,
          11.686393737792969,
          12.96216106414795,
          9.126677513122559,
          12.819151878356934,
          9.217989921569824,
          -1.5978609323501587,
          13.305882453918457,
          12.950675964355469,
          11.989033699035645,
          12.047866821289062,
          12.247493743896484,
          12.589434623718262,
          10.685643196105957,
          11.533707618713379,
          12.786288261413574,
          12.718836784362793,
          10.033271789550781,
          3.5836634635925293,
          -8.739201545715332,
          11.211987495422363,
          9.290060043334961,
          3.457443952560425,
          12.96121597290039,
          12.661542892456055,
          12.009455680847168,
          9.485248565673828,
          12.164533615112305,
          8.348711013793945,
          16.82699966430664,
          -1.734597086906433,
          3.473334789276123,
          -11.155678749084473,
          12.700460433959961,
          11.780128479003906,
          18.259790420532227,
          12.691508293151855,
          12.592702865600586,
          -11.137174606323242,
          12.691140174865723,
          12.86548900604248,
          12.945030212402344,
          15.01340389251709,
          3.3315882682800293,
          9.251845359802246
         ],
         "yaxis": "y"
        }
       ],
       "layout": {
        "legend": {
         "title": {
          "text": "Predictions, Correct"
         },
         "tracegroupgap": 0
        },
        "margin": {
         "t": 60
        },
        "template": {
         "data": {
          "bar": [
           {
            "error_x": {
             "color": "#2a3f5f"
            },
            "error_y": {
             "color": "#2a3f5f"
            },
            "marker": {
             "line": {
              "color": "#E5ECF6",
              "width": 0.5
             },
             "pattern": {
              "fillmode": "overlay",
              "size": 10,
              "solidity": 0.2
             }
            },
            "type": "bar"
           }
          ],
          "barpolar": [
           {
            "marker": {
             "line": {
              "color": "#E5ECF6",
              "width": 0.5
             },
             "pattern": {
              "fillmode": "overlay",
              "size": 10,
              "solidity": 0.2
             }
            },
            "type": "barpolar"
           }
          ],
          "carpet": [
           {
            "aaxis": {
             "endlinecolor": "#2a3f5f",
             "gridcolor": "white",
             "linecolor": "white",
             "minorgridcolor": "white",
             "startlinecolor": "#2a3f5f"
            },
            "baxis": {
             "endlinecolor": "#2a3f5f",
             "gridcolor": "white",
             "linecolor": "white",
             "minorgridcolor": "white",
             "startlinecolor": "#2a3f5f"
            },
            "type": "carpet"
           }
          ],
          "choropleth": [
           {
            "colorbar": {
             "outlinewidth": 0,
             "ticks": ""
            },
            "type": "choropleth"
           }
          ],
          "contour": [
           {
            "colorbar": {
             "outlinewidth": 0,
             "ticks": ""
            },
            "colorscale": [
             [
              0,
              "#0d0887"
             ],
             [
              0.1111111111111111,
              "#46039f"
             ],
             [
              0.2222222222222222,
              "#7201a8"
             ],
             [
              0.3333333333333333,
              "#9c179e"
             ],
             [
              0.4444444444444444,
              "#bd3786"
             ],
             [
              0.5555555555555556,
              "#d8576b"
             ],
             [
              0.6666666666666666,
              "#ed7953"
             ],
             [
              0.7777777777777778,
              "#fb9f3a"
             ],
             [
              0.8888888888888888,
              "#fdca26"
             ],
             [
              1,
              "#f0f921"
             ]
            ],
            "type": "contour"
           }
          ],
          "contourcarpet": [
           {
            "colorbar": {
             "outlinewidth": 0,
             "ticks": ""
            },
            "type": "contourcarpet"
           }
          ],
          "heatmap": [
           {
            "colorbar": {
             "outlinewidth": 0,
             "ticks": ""
            },
            "colorscale": [
             [
              0,
              "#0d0887"
             ],
             [
              0.1111111111111111,
              "#46039f"
             ],
             [
              0.2222222222222222,
              "#7201a8"
             ],
             [
              0.3333333333333333,
              "#9c179e"
             ],
             [
              0.4444444444444444,
              "#bd3786"
             ],
             [
              0.5555555555555556,
              "#d8576b"
             ],
             [
              0.6666666666666666,
              "#ed7953"
             ],
             [
              0.7777777777777778,
              "#fb9f3a"
             ],
             [
              0.8888888888888888,
              "#fdca26"
             ],
             [
              1,
              "#f0f921"
             ]
            ],
            "type": "heatmap"
           }
          ],
          "heatmapgl": [
           {
            "colorbar": {
             "outlinewidth": 0,
             "ticks": ""
            },
            "colorscale": [
             [
              0,
              "#0d0887"
             ],
             [
              0.1111111111111111,
              "#46039f"
             ],
             [
              0.2222222222222222,
              "#7201a8"
             ],
             [
              0.3333333333333333,
              "#9c179e"
             ],
             [
              0.4444444444444444,
              "#bd3786"
             ],
             [
              0.5555555555555556,
              "#d8576b"
             ],
             [
              0.6666666666666666,
              "#ed7953"
             ],
             [
              0.7777777777777778,
              "#fb9f3a"
             ],
             [
              0.8888888888888888,
              "#fdca26"
             ],
             [
              1,
              "#f0f921"
             ]
            ],
            "type": "heatmapgl"
           }
          ],
          "histogram": [
           {
            "marker": {
             "pattern": {
              "fillmode": "overlay",
              "size": 10,
              "solidity": 0.2
             }
            },
            "type": "histogram"
           }
          ],
          "histogram2d": [
           {
            "colorbar": {
             "outlinewidth": 0,
             "ticks": ""
            },
            "colorscale": [
             [
              0,
              "#0d0887"
             ],
             [
              0.1111111111111111,
              "#46039f"
             ],
             [
              0.2222222222222222,
              "#7201a8"
             ],
             [
              0.3333333333333333,
              "#9c179e"
             ],
             [
              0.4444444444444444,
              "#bd3786"
             ],
             [
              0.5555555555555556,
              "#d8576b"
             ],
             [
              0.6666666666666666,
              "#ed7953"
             ],
             [
              0.7777777777777778,
              "#fb9f3a"
             ],
             [
              0.8888888888888888,
              "#fdca26"
             ],
             [
              1,
              "#f0f921"
             ]
            ],
            "type": "histogram2d"
           }
          ],
          "histogram2dcontour": [
           {
            "colorbar": {
             "outlinewidth": 0,
             "ticks": ""
            },
            "colorscale": [
             [
              0,
              "#0d0887"
             ],
             [
              0.1111111111111111,
              "#46039f"
             ],
             [
              0.2222222222222222,
              "#7201a8"
             ],
             [
              0.3333333333333333,
              "#9c179e"
             ],
             [
              0.4444444444444444,
              "#bd3786"
             ],
             [
              0.5555555555555556,
              "#d8576b"
             ],
             [
              0.6666666666666666,
              "#ed7953"
             ],
             [
              0.7777777777777778,
              "#fb9f3a"
             ],
             [
              0.8888888888888888,
              "#fdca26"
             ],
             [
              1,
              "#f0f921"
             ]
            ],
            "type": "histogram2dcontour"
           }
          ],
          "mesh3d": [
           {
            "colorbar": {
             "outlinewidth": 0,
             "ticks": ""
            },
            "type": "mesh3d"
           }
          ],
          "parcoords": [
           {
            "line": {
             "colorbar": {
              "outlinewidth": 0,
              "ticks": ""
             }
            },
            "type": "parcoords"
           }
          ],
          "pie": [
           {
            "automargin": true,
            "type": "pie"
           }
          ],
          "scatter": [
           {
            "fillpattern": {
             "fillmode": "overlay",
             "size": 10,
             "solidity": 0.2
            },
            "type": "scatter"
           }
          ],
          "scatter3d": [
           {
            "line": {
             "colorbar": {
              "outlinewidth": 0,
              "ticks": ""
             }
            },
            "marker": {
             "colorbar": {
              "outlinewidth": 0,
              "ticks": ""
             }
            },
            "type": "scatter3d"
           }
          ],
          "scattercarpet": [
           {
            "marker": {
             "colorbar": {
              "outlinewidth": 0,
              "ticks": ""
             }
            },
            "type": "scattercarpet"
           }
          ],
          "scattergeo": [
           {
            "marker": {
             "colorbar": {
              "outlinewidth": 0,
              "ticks": ""
             }
            },
            "type": "scattergeo"
           }
          ],
          "scattergl": [
           {
            "marker": {
             "colorbar": {
              "outlinewidth": 0,
              "ticks": ""
             }
            },
            "type": "scattergl"
           }
          ],
          "scattermapbox": [
           {
            "marker": {
             "colorbar": {
              "outlinewidth": 0,
              "ticks": ""
             }
            },
            "type": "scattermapbox"
           }
          ],
          "scatterpolar": [
           {
            "marker": {
             "colorbar": {
              "outlinewidth": 0,
              "ticks": ""
             }
            },
            "type": "scatterpolar"
           }
          ],
          "scatterpolargl": [
           {
            "marker": {
             "colorbar": {
              "outlinewidth": 0,
              "ticks": ""
             }
            },
            "type": "scatterpolargl"
           }
          ],
          "scatterternary": [
           {
            "marker": {
             "colorbar": {
              "outlinewidth": 0,
              "ticks": ""
             }
            },
            "type": "scatterternary"
           }
          ],
          "surface": [
           {
            "colorbar": {
             "outlinewidth": 0,
             "ticks": ""
            },
            "colorscale": [
             [
              0,
              "#0d0887"
             ],
             [
              0.1111111111111111,
              "#46039f"
             ],
             [
              0.2222222222222222,
              "#7201a8"
             ],
             [
              0.3333333333333333,
              "#9c179e"
             ],
             [
              0.4444444444444444,
              "#bd3786"
             ],
             [
              0.5555555555555556,
              "#d8576b"
             ],
             [
              0.6666666666666666,
              "#ed7953"
             ],
             [
              0.7777777777777778,
              "#fb9f3a"
             ],
             [
              0.8888888888888888,
              "#fdca26"
             ],
             [
              1,
              "#f0f921"
             ]
            ],
            "type": "surface"
           }
          ],
          "table": [
           {
            "cells": {
             "fill": {
              "color": "#EBF0F8"
             },
             "line": {
              "color": "white"
             }
            },
            "header": {
             "fill": {
              "color": "#C8D4E3"
             },
             "line": {
              "color": "white"
             }
            },
            "type": "table"
           }
          ]
         },
         "layout": {
          "annotationdefaults": {
           "arrowcolor": "#2a3f5f",
           "arrowhead": 0,
           "arrowwidth": 1
          },
          "autotypenumbers": "strict",
          "coloraxis": {
           "colorbar": {
            "outlinewidth": 0,
            "ticks": ""
           }
          },
          "colorscale": {
           "diverging": [
            [
             0,
             "#8e0152"
            ],
            [
             0.1,
             "#c51b7d"
            ],
            [
             0.2,
             "#de77ae"
            ],
            [
             0.3,
             "#f1b6da"
            ],
            [
             0.4,
             "#fde0ef"
            ],
            [
             0.5,
             "#f7f7f7"
            ],
            [
             0.6,
             "#e6f5d0"
            ],
            [
             0.7,
             "#b8e186"
            ],
            [
             0.8,
             "#7fbc41"
            ],
            [
             0.9,
             "#4d9221"
            ],
            [
             1,
             "#276419"
            ]
           ],
           "sequential": [
            [
             0,
             "#0d0887"
            ],
            [
             0.1111111111111111,
             "#46039f"
            ],
            [
             0.2222222222222222,
             "#7201a8"
            ],
            [
             0.3333333333333333,
             "#9c179e"
            ],
            [
             0.4444444444444444,
             "#bd3786"
            ],
            [
             0.5555555555555556,
             "#d8576b"
            ],
            [
             0.6666666666666666,
             "#ed7953"
            ],
            [
             0.7777777777777778,
             "#fb9f3a"
            ],
            [
             0.8888888888888888,
             "#fdca26"
            ],
            [
             1,
             "#f0f921"
            ]
           ],
           "sequentialminus": [
            [
             0,
             "#0d0887"
            ],
            [
             0.1111111111111111,
             "#46039f"
            ],
            [
             0.2222222222222222,
             "#7201a8"
            ],
            [
             0.3333333333333333,
             "#9c179e"
            ],
            [
             0.4444444444444444,
             "#bd3786"
            ],
            [
             0.5555555555555556,
             "#d8576b"
            ],
            [
             0.6666666666666666,
             "#ed7953"
            ],
            [
             0.7777777777777778,
             "#fb9f3a"
            ],
            [
             0.8888888888888888,
             "#fdca26"
            ],
            [
             1,
             "#f0f921"
            ]
           ]
          },
          "colorway": [
           "#636efa",
           "#EF553B",
           "#00cc96",
           "#ab63fa",
           "#FFA15A",
           "#19d3f3",
           "#FF6692",
           "#B6E880",
           "#FF97FF",
           "#FECB52"
          ],
          "font": {
           "color": "#2a3f5f"
          },
          "geo": {
           "bgcolor": "white",
           "lakecolor": "white",
           "landcolor": "#E5ECF6",
           "showlakes": true,
           "showland": true,
           "subunitcolor": "white"
          },
          "hoverlabel": {
           "align": "left"
          },
          "hovermode": "closest",
          "mapbox": {
           "style": "light"
          },
          "paper_bgcolor": "white",
          "plot_bgcolor": "#E5ECF6",
          "polar": {
           "angularaxis": {
            "gridcolor": "white",
            "linecolor": "white",
            "ticks": ""
           },
           "bgcolor": "#E5ECF6",
           "radialaxis": {
            "gridcolor": "white",
            "linecolor": "white",
            "ticks": ""
           }
          },
          "scene": {
           "xaxis": {
            "backgroundcolor": "#E5ECF6",
            "gridcolor": "white",
            "gridwidth": 2,
            "linecolor": "white",
            "showbackground": true,
            "ticks": "",
            "zerolinecolor": "white"
           },
           "yaxis": {
            "backgroundcolor": "#E5ECF6",
            "gridcolor": "white",
            "gridwidth": 2,
            "linecolor": "white",
            "showbackground": true,
            "ticks": "",
            "zerolinecolor": "white"
           },
           "zaxis": {
            "backgroundcolor": "#E5ECF6",
            "gridcolor": "white",
            "gridwidth": 2,
            "linecolor": "white",
            "showbackground": true,
            "ticks": "",
            "zerolinecolor": "white"
           }
          },
          "shapedefaults": {
           "line": {
            "color": "#2a3f5f"
           }
          },
          "ternary": {
           "aaxis": {
            "gridcolor": "white",
            "linecolor": "white",
            "ticks": ""
           },
           "baxis": {
            "gridcolor": "white",
            "linecolor": "white",
            "ticks": ""
           },
           "bgcolor": "#E5ECF6",
           "caxis": {
            "gridcolor": "white",
            "linecolor": "white",
            "ticks": ""
           }
          },
          "title": {
           "x": 0.05
          },
          "xaxis": {
           "automargin": true,
           "gridcolor": "white",
           "linecolor": "white",
           "ticks": "",
           "title": {
            "standoff": 15
           },
           "zerolinecolor": "white",
           "zerolinewidth": 2
          },
          "yaxis": {
           "automargin": true,
           "gridcolor": "white",
           "linecolor": "white",
           "ticks": "",
           "title": {
            "standoff": 15
           },
           "zerolinecolor": "white",
           "zerolinewidth": 2
          }
         }
        },
        "xaxis": {
         "anchor": "y",
         "domain": [
          0,
          1
         ],
         "title": {
          "text": "x"
         }
        },
        "yaxis": {
         "anchor": "x",
         "domain": [
          0,
          1
         ],
         "title": {
          "text": "y"
         }
        }
       }
      },
      "text/html": [
       "<div>                            <div id=\"0fe14541-a976-41e3-8f55-bcd78d90d8f6\" class=\"plotly-graph-div\" style=\"height:525px; width:100%;\"></div>            <script type=\"text/javascript\">                require([\"plotly\"], function(Plotly) {                    window.PLOTLYENV=window.PLOTLYENV || {};                                    if (document.getElementById(\"0fe14541-a976-41e3-8f55-bcd78d90d8f6\")) {                    Plotly.newPlot(                        \"0fe14541-a976-41e3-8f55-bcd78d90d8f6\",                        [{\"hovertemplate\":\"Predictions=surprised\\u003cbr\\u003eCorrect=True\\u003cbr\\u003ex=%{x}\\u003cbr\\u003ey=%{y}\\u003cextra\\u003e\\u003c\\u002fextra\\u003e\",\"legendgroup\":\"surprised, True\",\"marker\":{\"color\":\"#19D3F3\",\"symbol\":\"circle\"},\"mode\":\"markers\",\"name\":\"surprised, True\",\"orientation\":\"v\",\"showlegend\":true,\"x\":[-14.204243659973145,-14.121206283569336,-14.521278381347656,-14.557320594787598,-8.351432800292969,-12.54375171661377,-13.663805961608887,-11.381546020507812,-13.828579902648926,-14.392096519470215,-10.314361572265625,-14.083693504333496,-13.296010971069336,-14.451886177062988,-14.41241455078125,-10.749180793762207,-11.53421688079834,-13.845332145690918,-13.642271995544434,-13.869332313537598,-13.653520584106445,-13.98061466217041,-13.051891326904297,-10.92151927947998,-13.07280158996582,-12.208209037780762,-14.431892395019531,-13.865408897399902,-12.7449369430542,-11.587306022644043,-11.532939910888672,-14.41592788696289,-14.050664901733398,-13.8200101852417,-14.445755004882812,-11.323786735534668,-14.5403413772583,-14.423779487609863,-14.521292686462402,-11.79830265045166,-13.841192245483398],\"xaxis\":\"x\",\"y\":[17.205121994018555,17.206600189208984,17.835996627807617,17.626953125,-8.059886932373047,18.189531326293945,17.61916160583496,17.57573890686035,17.35602378845215,17.361736297607422,13.300178527832031,18.127397537231445,17.819061279296875,17.39458465576172,18.06490135192871,14.92684268951416,15.392216682434082,17.322620391845703,17.914772033691406,18.14295196533203,18.225732803344727,17.224191665649414,17.95137596130371,17.36750602722168,17.945533752441406,18.2543888092041,17.38290786743164,17.608108520507812,18.821741104125977,16.972698211669922,17.849578857421875,18.062562942504883,17.204004287719727,17.531620025634766,17.99266815185547,17.319873809814453,17.546340942382812,18.027915954589844,17.835962295532227,18.06871795654297,18.267488479614258],\"yaxis\":\"y\",\"type\":\"scatter\"},{\"hovertemplate\":\"Predictions=surprised\\u003cbr\\u003eCorrect=False\\u003cbr\\u003ex=%{x}\\u003cbr\\u003ey=%{y}\\u003cextra\\u003e\\u003c\\u002fextra\\u003e\",\"legendgroup\":\"surprised, False\",\"marker\":{\"color\":\"#19D3F3\",\"symbol\":\"x\"},\"mode\":\"markers\",\"name\":\"surprised, False\",\"orientation\":\"v\",\"showlegend\":true,\"x\":[-10.408957481384277,-11.272137641906738,-13.715555191040039,-10.420135498046875,-10.55053424835205,-11.656034469604492,-11.400463104248047,-11.620067596435547,-11.708110809326172,-11.03998851776123,-13.590929985046387,-10.7821626663208,-12.763230323791504],\"xaxis\":\"x\",\"y\":[13.305882453918457,17.290538787841797,18.6801815032959,13.365296363830566,14.036921501159668,15.44328784942627,17.22407341003418,15.3973970413208,16.55364990234375,16.82699966430664,18.259790420532227,15.01340389251709,18.96365737915039],\"yaxis\":\"y\",\"type\":\"scatter\"},{\"hovertemplate\":\"Predictions=happy\\u003cbr\\u003eCorrect=True\\u003cbr\\u003ex=%{x}\\u003cbr\\u003ey=%{y}\\u003cextra\\u003e\\u003c\\u002fextra\\u003e\",\"legendgroup\":\"happy, True\",\"marker\":{\"color\":\"#00CC96\",\"symbol\":\"circle\"},\"mode\":\"markers\",\"name\":\"happy, True\",\"orientation\":\"v\",\"showlegend\":true,\"x\":[17.441682815551758,20.916645050048828,16.379362106323242,19.752492904663086,15.954536437988281,20.554887771606445,5.761546611785889,20.330429077148438,14.294050216674805,19.21925926208496,17.402820587158203,15.247838020324707,13.828612327575684,15.208231925964355,15.15239143371582,16.701017379760742,17.43564224243164,20.745162963867188,20.110397338867188,20.062177658081055,20.50199317932129,20.085432052612305,12.290666580200195,20.06170082092285,20.469865798950195,18.844247817993164,18.4333438873291,20.10012435913086,20.631330490112305,20.440311431884766,19.108009338378906,20.86005401611328,20.92818260192871,18.064701080322266,19.009471893310547,3.6122524738311768,19.323654174804688,18.170698165893555,20.718006134033203,16.795413970947266,20.218751907348633,17.13283348083496,13.326738357543945,20.845930099487305,20.77915382385254,14.142081260681152,13.387677192687988,15.991575241088867,18.045900344848633,17.38599967956543,5.678601264953613,19.213973999023438,15.894619941711426,20.386789321899414,15.356791496276855,17.011709213256836,20.539398193359375,16.55602264404297],\"xaxis\":\"x\",\"y\":[1.8437821865081787,2.279712677001953,3.105311393737793,2.2039601802825928,3.5513250827789307,2.668219804763794,-9.222495079040527,2.6338207721710205,3.532968521118164,2.9454057216644287,3.7687575817108154,1.5129584074020386,2.74458909034729,1.4698301553726196,1.4760898351669312,2.08664870262146,3.799374580383301,1.8646600246429443,2.0858235359191895,2.08809494972229,1.752611517906189,2.173811197280884,3.3995542526245117,1.8590272665023804,1.7673348188400269,2.6035947799682617,2.98451566696167,2.5646286010742188,1.7878000736236572,1.7648426294326782,1.817580223083496,1.9899396896362305,2.285865545272827,1.828776478767395,1.7822535037994385,8.230612754821777,2.884742259979248,1.8820009231567383,2.6252357959747314,2.229027271270752,2.5627951622009277,3.8621232509613037,2.6173219680786133,1.9881162643432617,2.5805423259735107,1.833509922027588,2.6625900268554688,3.6776177883148193,3.51320743560791,1.8590805530548096,-9.385025978088379,2.9233920574188232,3.738604784011841,1.7946926355361938,1.4909483194351196,3.8609061241149902,2.6696832180023193,3.05383038520813],\"yaxis\":\"y\",\"type\":\"scatter\"},{\"hovertemplate\":\"Predictions=happy\\u003cbr\\u003eCorrect=False\\u003cbr\\u003ex=%{x}\\u003cbr\\u003ey=%{y}\\u003cextra\\u003e\\u003c\\u002fextra\\u003e\",\"legendgroup\":\"happy, False\",\"marker\":{\"color\":\"#00CC96\",\"symbol\":\"x\"},\"mode\":\"markers\",\"name\":\"happy, False\",\"orientation\":\"v\",\"showlegend\":true,\"x\":[18.392162322998047,20.55091094970703,17.059898376464844,20.885421752929688,12.92069149017334,13.05041790008545,14.315500259399414,13.710708618164062,17.432350158691406,19.70841407775879,14.470366477966309,14.479046821594238,20.193641662597656,12.206313133239746,14.040252685546875,16.88508415222168,18.08371925354004,15.30482006072998,12.391568183898926,20.934415817260742],\"xaxis\":\"x\",\"y\":[1.9865587949752808,2.669180154800415,3.8618640899658203,2.4419076442718506,2.479142904281616,1.783581256866455,3.5451347827911377,1.6921027898788452,1.921817421913147,1.8255459070205688,1.7127439975738525,3.5836634635925293,2.615393877029419,3.457443952560425,2.135024309158325,2.020721197128296,3.473334789276123,1.476351261138916,3.3315882682800293,2.184685230255127],\"yaxis\":\"y\",\"type\":\"scatter\"},{\"hovertemplate\":\"Predictions=disgusted\\u003cbr\\u003eCorrect=True\\u003cbr\\u003ex=%{x}\\u003cbr\\u003ey=%{y}\\u003cextra\\u003e\\u003c\\u002fextra\\u003e\",\"legendgroup\":\"disgusted, True\",\"marker\":{\"color\":\"#EF553B\",\"symbol\":\"circle\"},\"mode\":\"markers\",\"name\":\"disgusted, True\",\"orientation\":\"v\",\"showlegend\":true,\"x\":[6.867562770843506,5.906405925750732,7.26149320602417,7.722771167755127,6.912294387817383,5.5346879959106445,5.341553688049316,7.597886085510254,6.814752578735352,6.7938971519470215,6.909716606140137,6.947378158569336,7.684459209442139,6.995957851409912,6.433008670806885,7.310791492462158,7.001127243041992,7.591462135314941,7.71652889251709,6.376629829406738,3.878206253051758,3.9236302375793457,7.552956581115723,3.961029052734375,5.978671550750732,7.597126007080078,7.200333595275879,7.29185676574707,7.787774085998535,3.9227240085601807,7.266260147094727,6.936689376831055,4.399158477783203,7.767969131469727,7.367452144622803,6.920182704925537,7.288174152374268,6.976415634155273,7.772938251495361,7.765804767608643,7.2979865074157715,5.539620399475098,7.010410785675049],\"xaxis\":\"x\",\"y\":[-14.84173583984375,-13.719429016113281,-13.924162864685059,-14.718478202819824,-15.104801177978516,-11.031726837158203,-13.206464767456055,-14.625353813171387,-14.488802909851074,-14.662818908691406,-14.632116317749023,-15.189532279968262,-15.18856143951416,-12.975052833557129,-13.853025436401367,-15.364368438720703,-15.278194427490234,-15.28016185760498,-14.709798812866211,-13.237669944763184,-10.099419593811035,-10.418994903564453,-15.301220893859863,-11.186114311218262,-11.72488784790039,-15.274560928344727,-15.36361312866211,-14.414968490600586,-14.854589462280273,-11.163686752319336,-15.358746528625488,-15.16228199005127,-11.364276885986328,-14.773581504821777,-14.336214065551758,-15.07827377319336,-14.015486717224121,-12.846173286437988,-15.006921768188477,-14.779203414916992,-14.053125381469727,-13.447497367858887,-14.589126586914062],\"yaxis\":\"y\",\"type\":\"scatter\"},{\"hovertemplate\":\"Predictions=disgusted\\u003cbr\\u003eCorrect=False\\u003cbr\\u003ex=%{x}\\u003cbr\\u003ey=%{y}\\u003cextra\\u003e\\u003c\\u002fextra\\u003e\",\"legendgroup\":\"disgusted, False\",\"marker\":{\"color\":\"#EF553B\",\"symbol\":\"x\"},\"mode\":\"markers\",\"name\":\"disgusted, False\",\"orientation\":\"v\",\"showlegend\":true,\"x\":[4.01625394821167,5.081470966339111,5.564101696014404,4.730593204498291,6.114290237426758,5.637791156768799,5.487549304962158,5.343616962432861,4.114769458770752,4.026410102844238,4.6001739501953125],\"xaxis\":\"x\",\"y\":[-10.90017032623291,-10.395569801330566,-13.444337844848633,-10.697501182556152,-13.612024307250977,-12.685490608215332,-9.587592124938965,-10.218082427978516,-11.119027137756348,-11.107400894165039,-11.155678749084473],\"yaxis\":\"y\",\"type\":\"scatter\"},{\"hovertemplate\":\"Predictions=angry\\u003cbr\\u003eCorrect=True\\u003cbr\\u003ex=%{x}\\u003cbr\\u003ey=%{y}\\u003cextra\\u003e\\u003c\\u002fextra\\u003e\",\"legendgroup\":\"angry, True\",\"marker\":{\"color\":\"#636EFA\",\"symbol\":\"circle\"},\"mode\":\"markers\",\"name\":\"angry, True\",\"orientation\":\"v\",\"showlegend\":true,\"x\":[-9.339822769165039,-13.08520221710205,-12.988521575927734,-13.196176528930664,-8.595595359802246,-13.20345401763916,-12.687434196472168,-12.674001693725586,-12.699825286865234,-12.248388290405273,-11.768572807312012,-11.843160629272461,-13.183280944824219,-9.518138885498047,-12.753448486328125,-12.221477508544922,-13.02453327178955,-10.206136703491211,-10.991890907287598,-13.207730293273926,-12.465856552124023,-13.078930854797363,-12.367704391479492,-12.022918701171875,-12.908324241638184,-13.076005935668945,-11.543277740478516,-12.555124282836914,-11.51432991027832,-12.746941566467285],\"xaxis\":\"x\",\"y\":[-1.414339303970337,-1.0494409799575806,-1.0262900590896606,-0.6328951120376587,-1.6743491888046265,-0.8680691719055176,-1.0815330743789673,-1.1205216646194458,-0.27088484168052673,-1.2653111219406128,-1.0870225429534912,-1.1058695316314697,-0.5703240036964417,-3.0761196613311768,-0.2567668855190277,-0.71030193567276,-0.356677383184433,-1.721899151802063,-1.5389478206634521,-0.6768385171890259,-0.4656752943992615,-1.021308183670044,-0.5418239831924438,-0.8174024820327759,-0.29755496978759766,-0.4044218063354492,-1.4355535507202148,-0.386790007352829,-0.9773808121681213,-0.25579971075057983],\"yaxis\":\"y\",\"type\":\"scatter\"},{\"hovertemplate\":\"Predictions=angry\\u003cbr\\u003eCorrect=False\\u003cbr\\u003ex=%{x}\\u003cbr\\u003ey=%{y}\\u003cextra\\u003e\\u003c\\u002fextra\\u003e\",\"legendgroup\":\"angry, False\",\"marker\":{\"color\":\"#636EFA\",\"symbol\":\"x\"},\"mode\":\"markers\",\"name\":\"angry, False\",\"orientation\":\"v\",\"showlegend\":true,\"x\":[-9.453875541687012,-10.66303539276123,-12.137542724609375,-12.130648612976074,-9.241430282592773,-9.4456148147583,-13.043604850769043,-8.481660842895508,-11.535360336303711,-10.419014930725098,-9.649090766906738,-9.786882400512695,-12.65027904510498,-9.199308395385742,-8.988896369934082],\"xaxis\":\"x\",\"y\":[-3.578848123550415,-1.5978609323501587,-1.4331902265548706,-0.8851336240768433,-4.0400590896606445,-2.871737480163574,-1.0167266130447388,-1.1452510356903076,-1.3647140264511108,-1.734597086906433,-1.2982903718948364,-2.4112889766693115,-1.2581984996795654,-4.249119281768799,-1.9299647808074951],\"yaxis\":\"y\",\"type\":\"scatter\"},{\"hovertemplate\":\"Predictions=neutral\\u003cbr\\u003eCorrect=True\\u003cbr\\u003ex=%{x}\\u003cbr\\u003ey=%{y}\\u003cextra\\u003e\\u003c\\u002fextra\\u003e\",\"legendgroup\":\"neutral, True\",\"marker\":{\"color\":\"#AB63FA\",\"symbol\":\"circle\"},\"mode\":\"markers\",\"name\":\"neutral, True\",\"orientation\":\"v\",\"showlegend\":true,\"x\":[2.7901675701141357,3.233751058578491,3.209653377532959,2.8145203590393066,0.9004423022270203,2.476574420928955,2.3746814727783203,2.8193538188934326,2.3057100772857666,3.1630144119262695,3.0919361114501953,2.3925859928131104,1.8366999626159668,3.223543643951416,2.4508845806121826,2.421996831893921,3.0394105911254883,2.175875425338745,1.1046741008758545,2.825490713119507,3.2436869144439697,2.6701576709747314,3.090703248977661,3.03642201423645,3.511735677719116,3.2356958389282227,3.02117657661438,3.2370517253875732,2.3909826278686523,3.2378745079040527,3.0876245498657227,2.753164768218994,3.114515781402588],\"xaxis\":\"x\",\"y\":[12.153707504272461,12.703591346740723,11.686393737792969,12.96216106414795,9.126677513122559,12.819151878356934,9.217989921569824,12.950675964355469,11.989033699035645,12.047866821289062,12.247493743896484,12.589434623718262,10.685643196105957,11.533707618713379,12.786288261413574,12.718836784362793,10.033271789550781,11.211987495422363,9.290060043334961,12.96121597290039,12.661542892456055,12.009455680847168,9.485248565673828,12.164533615112305,8.348711013793945,12.700460433959961,11.780128479003906,12.691508293151855,12.592702865600586,12.691140174865723,12.86548900604248,12.945030212402344,9.251845359802246],\"yaxis\":\"y\",\"type\":\"scatter\"},{\"hovertemplate\":\"Predictions=neutral\\u003cbr\\u003eCorrect=False\\u003cbr\\u003ex=%{x}\\u003cbr\\u003ey=%{y}\\u003cextra\\u003e\\u003c\\u002fextra\\u003e\",\"legendgroup\":\"neutral, False\",\"marker\":{\"color\":\"#AB63FA\",\"symbol\":\"x\"},\"mode\":\"markers\",\"name\":\"neutral, False\",\"orientation\":\"v\",\"showlegend\":true,\"x\":[3.235036849975586,0.9190601110458374,2.457029342651367,2.4162251949310303,2.1737983226776123,2.32554030418396,0.7754178047180176,2.5713486671447754,2.6304287910461426,2.4039101600646973,1.841186761856079,1.8545222282409668,1.1061238050460815,-8.154674530029297,-8.151561737060547],\"xaxis\":\"x\",\"y\":[8.647438049316406,9.12075138092041,12.332671165466309,12.685409545898438,11.207221031188965,8.926116943359375,9.07016658782959,10.878663063049316,11.814115524291992,11.695141792297363,10.50345516204834,10.699797630310059,9.29000186920166,-1.0272579193115234,-1.4508998394012451],\"yaxis\":\"y\",\"type\":\"scatter\"},{\"hovertemplate\":\"Predictions=sad\\u003cbr\\u003eCorrect=True\\u003cbr\\u003ex=%{x}\\u003cbr\\u003ey=%{y}\\u003cextra\\u003e\\u003c\\u002fextra\\u003e\",\"legendgroup\":\"sad, True\",\"marker\":{\"color\":\"#FFA15A\",\"symbol\":\"circle\"},\"mode\":\"markers\",\"name\":\"sad, True\",\"orientation\":\"v\",\"showlegend\":true,\"x\":[-9.390130996704102,-8.601344108581543,-8.568845748901367,-9.080035209655762,-7.279416561126709,-7.351439952850342,-8.942985534667969,-8.632688522338867,-8.759620666503906,-9.370927810668945,-9.139396667480469,-8.892051696777344,-8.315563201904297,-8.496406555175781,-8.400458335876465,-8.619967460632324,-8.55565357208252,-9.119585037231445,-8.299294471740723,-9.367074012756348,-7.528319835662842,-9.39746379852295,-8.766026496887207,-8.977306365966797,-9.088433265686035,-9.064064979553223,-8.841682434082031,-8.367122650146484,-8.762166023254395,-9.377059936523438,-9.115137100219727,-9.409579277038574,-8.784234046936035,-8.477034568786621,-9.014792442321777],\"xaxis\":\"x\",\"y\":[-11.81321907043457,-12.127436637878418,-11.99255657196045,-12.278827667236328,-9.206510543823242,-9.108139991760254,-5.161767959594727,-11.66778564453125,-12.263300895690918,-12.09929084777832,-11.314801216125488,-5.404051780700684,-8.42303466796875,-11.603672981262207,-11.154229164123535,-12.154179573059082,-11.5864839553833,-12.266945838928223,-10.141260147094727,-12.108394622802734,-9.600894927978516,-11.81379508972168,-12.267026901245117,-10.108749389648438,-10.881200790405273,-11.44689655303955,-11.389142990112305,-11.210240364074707,-12.265250205993652,-12.085258483886719,-12.267702102661133,-11.799793243408203,-11.58154296875,-10.964848518371582,-4.86468505859375],\"yaxis\":\"y\",\"type\":\"scatter\"},{\"hovertemplate\":\"Predictions=sad\\u003cbr\\u003eCorrect=False\\u003cbr\\u003ex=%{x}\\u003cbr\\u003ey=%{y}\\u003cextra\\u003e\\u003c\\u002fextra\\u003e\",\"legendgroup\":\"sad, False\",\"marker\":{\"color\":\"#FFA15A\",\"symbol\":\"x\"},\"mode\":\"markers\",\"name\":\"sad, False\",\"orientation\":\"v\",\"showlegend\":true,\"x\":[-7.9396748542785645,-9.3079252243042,-7.359931945800781,-7.576073169708252,3.01141357421875,-8.98263168334961,-8.866043090820312,-9.075810432434082,-9.32644271850586,-7.857183933258057,-7.6486897468566895],\"xaxis\":\"x\",\"y\":[-10.184699058532715,-11.582598686218262,-9.464949607849121,-8.739201545715332,-10.586457252502441,-10.048322677612305,-5.530104637145996,-10.914783477783203,-11.137174606323242,-8.714173316955566,-9.815105438232422],\"yaxis\":\"y\",\"type\":\"scatter\"},{\"customdata\":[[\"surprised\"],[\"surprised\"],[\"surprised\"],[\"surprised\"],[\"surprised\"],[\"surprised\"],[\"surprised\"],[\"happy\"],[\"surprised\"],[\"surprised\"],[\"sad\"],[\"surprised\"],[\"surprised\"],[\"surprised\"],[\"angry\"],[\"surprised\"],[\"neutral\"],[\"surprised\"],[\"surprised\"],[\"surprised\"],[\"surprised\"],[\"surprised\"],[\"surprised\"],[\"surprised\"],[\"surprised\"],[\"surprised\"],[\"surprised\"],[\"neutral\"],[\"angry\"],[\"surprised\"],[\"surprised\"],[\"neutral\"],[\"surprised\"],[\"surprised\"],[\"surprised\"],[\"surprised\"],[\"surprised\"],[\"surprised\"],[\"surprised\"],[\"neutral\"],[\"surprised\"],[\"neutral\"],[\"neutral\"],[\"happy\"],[\"angry\"],[\"surprised\"],[\"neutral\"],[\"surprised\"],[\"surprised\"],[\"neutral\"],[\"surprised\"],[\"surprised\"],[\"surprised\"],[\"surprised\"],[\"surprised\"],[\"happy\"]],\"hovertemplate\":\"Label=surprised\\u003cbr\\u003ex=%{x}\\u003cbr\\u003ey=%{y}\\u003cbr\\u003ePredictions=%{customdata[0]}\\u003cextra\\u003e\\u003c\\u002fextra\\u003e\",\"legendgroup\":\"surprised\",\"marker\":{\"color\":\"#19D3F3\",\"opacity\":0.2,\"size\":12,\"symbol\":\"circle\"},\"mode\":\"markers\",\"name\":\"surprised\",\"orientation\":\"v\",\"showlegend\":false,\"x\":[-14.204243659973145,-14.121206283569336,-14.521278381347656,-14.557320594787598,-8.351432800292969,-12.54375171661377,-13.663805961608887,12.92069149017334,-11.381546020507812,-13.828579902648926,-7.9396748542785645,-14.392096519470215,-10.314361572265625,-14.083693504333496,-12.137542724609375,-13.296010971069336,0.9190601110458374,-14.451886177062988,-14.41241455078125,-10.749180793762207,-11.53421688079834,-13.845332145690918,-13.642271995544434,-13.869332313537598,-13.653520584106445,-13.98061466217041,-13.051891326904297,2.1737983226776123,-8.481660842895508,-10.92151927947998,-13.07280158996582,2.32554030418396,-12.208209037780762,-14.431892395019531,-13.865408897399902,-12.7449369430542,-11.587306022644043,-11.532939910888672,-14.41592788696289,0.7754178047180176,-14.050664901733398,2.4039101600646973,1.841186761856079,14.040252685546875,-9.649090766906738,-13.8200101852417,1.8545222282409668,-14.445755004882812,-11.323786735534668,1.1061238050460815,-14.5403413772583,-14.423779487609863,-14.521292686462402,-11.79830265045166,-13.841192245483398,20.934415817260742],\"xaxis\":\"x\",\"y\":[17.205121994018555,17.206600189208984,17.835996627807617,17.626953125,-8.059886932373047,18.189531326293945,17.61916160583496,2.479142904281616,17.57573890686035,17.35602378845215,-10.184699058532715,17.361736297607422,13.300178527832031,18.127397537231445,-1.4331902265548706,17.819061279296875,9.12075138092041,17.39458465576172,18.06490135192871,14.92684268951416,15.392216682434082,17.322620391845703,17.914772033691406,18.14295196533203,18.225732803344727,17.224191665649414,17.95137596130371,11.207221031188965,-1.1452510356903076,17.36750602722168,17.945533752441406,8.926116943359375,18.2543888092041,17.38290786743164,17.608108520507812,18.821741104125977,16.972698211669922,17.849578857421875,18.062562942504883,9.07016658782959,17.204004287719727,11.695141792297363,10.50345516204834,2.135024309158325,-1.2982903718948364,17.531620025634766,10.699797630310059,17.99266815185547,17.319873809814453,9.29000186920166,17.546340942382812,18.027915954589844,17.835962295532227,18.06871795654297,18.267488479614258,2.184685230255127],\"yaxis\":\"y\",\"type\":\"scatter\"},{\"customdata\":[[\"happy\"],[\"disgusted\"],[\"disgusted\"],[\"disgusted\"],[\"disgusted\"],[\"disgusted\"],[\"disgusted\"],[\"disgusted\"],[\"happy\"],[\"disgusted\"],[\"disgusted\"],[\"disgusted\"],[\"disgusted\"],[\"disgusted\"],[\"disgusted\"],[\"disgusted\"],[\"disgusted\"],[\"disgusted\"],[\"disgusted\"],[\"disgusted\"],[\"sad\"],[\"disgusted\"],[\"disgusted\"],[\"disgusted\"],[\"disgusted\"],[\"disgusted\"],[\"sad\"],[\"surprised\"],[\"disgusted\"],[\"neutral\"],[\"disgusted\"],[\"disgusted\"],[\"happy\"],[\"sad\"],[\"disgusted\"],[\"disgusted\"],[\"disgusted\"],[\"disgusted\"],[\"disgusted\"],[\"disgusted\"],[\"disgusted\"],[\"sad\"],[\"disgusted\"],[\"angry\"],[\"disgusted\"],[\"disgusted\"],[\"disgusted\"],[\"disgusted\"],[\"disgusted\"],[\"disgusted\"],[\"sad\"],[\"disgusted\"],[\"disgusted\"],[\"disgusted\"]],\"hovertemplate\":\"Label=disgusted\\u003cbr\\u003ex=%{x}\\u003cbr\\u003ey=%{y}\\u003cbr\\u003ePredictions=%{customdata[0]}\\u003cextra\\u003e\\u003c\\u002fextra\\u003e\",\"legendgroup\":\"disgusted\",\"marker\":{\"color\":\"#EF553B\",\"opacity\":0.2,\"size\":12,\"symbol\":\"circle\"},\"mode\":\"markers\",\"name\":\"disgusted\",\"orientation\":\"v\",\"showlegend\":false,\"x\":[18.392162322998047,6.867562770843506,5.906405925750732,7.26149320602417,7.722771167755127,6.912294387817383,5.5346879959106445,5.341553688049316,17.432350158691406,7.597886085510254,6.814752578735352,6.7938971519470215,6.909716606140137,6.947378158569336,7.684459209442139,6.995957851409912,6.433008670806885,7.310791492462158,7.001127243041992,7.591462135314941,-7.359931945800781,7.71652889251709,6.376629829406738,3.878206253051758,3.9236302375793457,7.552956581115723,3.01141357421875,-11.708110809326172,3.961029052734375,2.5713486671447754,5.978671550750732,7.597126007080078,16.88508415222168,-8.866043090820312,7.200333595275879,7.29185676574707,7.787774085998535,3.9227240085601807,7.266260147094727,6.936689376831055,4.399158477783203,-9.075810432434082,7.767969131469727,-9.786882400512695,7.367452144622803,6.920182704925537,7.288174152374268,6.976415634155273,7.772938251495361,7.765804767608643,-7.6486897468566895,7.2979865074157715,5.539620399475098,7.010410785675049],\"xaxis\":\"x\",\"y\":[1.9865587949752808,-14.84173583984375,-13.719429016113281,-13.924162864685059,-14.718478202819824,-15.104801177978516,-11.031726837158203,-13.206464767456055,1.921817421913147,-14.625353813171387,-14.488802909851074,-14.662818908691406,-14.632116317749023,-15.189532279968262,-15.18856143951416,-12.975052833557129,-13.853025436401367,-15.364368438720703,-15.278194427490234,-15.28016185760498,-9.464949607849121,-14.709798812866211,-13.237669944763184,-10.099419593811035,-10.418994903564453,-15.301220893859863,-10.586457252502441,16.55364990234375,-11.186114311218262,10.878663063049316,-11.72488784790039,-15.274560928344727,2.020721197128296,-5.530104637145996,-15.36361312866211,-14.414968490600586,-14.854589462280273,-11.163686752319336,-15.358746528625488,-15.16228199005127,-11.364276885986328,-10.914783477783203,-14.773581504821777,-2.4112889766693115,-14.336214065551758,-15.07827377319336,-14.015486717224121,-12.846173286437988,-15.006921768188477,-14.779203414916992,-9.815105438232422,-14.053125381469727,-13.447497367858887,-14.589126586914062],\"yaxis\":\"y\",\"type\":\"scatter\"},{\"customdata\":[[\"happy\"],[\"happy\"],[\"happy\"],[\"happy\"],[\"happy\"],[\"happy\"],[\"happy\"],[\"happy\"],[\"happy\"],[\"happy\"],[\"happy\"],[\"happy\"],[\"happy\"],[\"neutral\"],[\"happy\"],[\"happy\"],[\"happy\"],[\"happy\"],[\"happy\"],[\"happy\"],[\"happy\"],[\"happy\"],[\"surprised\"],[\"surprised\"],[\"happy\"],[\"happy\"],[\"neutral\"],[\"happy\"],[\"happy\"],[\"happy\"],[\"disgusted\"],[\"happy\"],[\"happy\"],[\"surprised\"],[\"happy\"],[\"happy\"],[\"happy\"],[\"happy\"],[\"happy\"],[\"disgusted\"],[\"happy\"],[\"happy\"],[\"happy\"],[\"happy\"],[\"happy\"],[\"happy\"],[\"happy\"],[\"happy\"],[\"neutral\"],[\"happy\"],[\"happy\"],[\"happy\"],[\"happy\"],[\"happy\"],[\"happy\"],[\"happy\"],[\"happy\"],[\"happy\"],[\"happy\"],[\"happy\"],[\"surprised\"],[\"happy\"],[\"happy\"],[\"happy\"],[\"happy\"],[\"happy\"],[\"angry\"],[\"happy\"]],\"hovertemplate\":\"Label=happy\\u003cbr\\u003ex=%{x}\\u003cbr\\u003ey=%{y}\\u003cbr\\u003ePredictions=%{customdata[0]}\\u003cextra\\u003e\\u003c\\u002fextra\\u003e\",\"legendgroup\":\"happy\",\"marker\":{\"color\":\"#00CC96\",\"opacity\":0.2,\"size\":12,\"symbol\":\"circle\"},\"mode\":\"markers\",\"name\":\"happy\",\"orientation\":\"v\",\"showlegend\":false,\"x\":[17.441682815551758,20.916645050048828,16.379362106323242,19.752492904663086,15.954536437988281,20.554887771606445,5.761546611785889,20.330429077148438,14.294050216674805,19.21925926208496,17.402820587158203,15.247838020324707,13.828612327575684,3.235036849975586,15.208231925964355,15.15239143371582,16.701017379760742,17.43564224243164,20.745162963867188,20.110397338867188,20.062177658081055,20.50199317932129,-13.715555191040039,-10.55053424835205,20.085432052612305,12.290666580200195,2.457029342651367,20.06170082092285,20.469865798950195,18.844247817993164,5.564101696014404,18.4333438873291,20.10012435913086,-11.400463104248047,20.631330490112305,20.440311431884766,19.108009338378906,20.86005401611328,20.92818260192871,5.487549304962158,18.064701080322266,19.009471893310547,3.6122524738311768,19.323654174804688,18.170698165893555,20.718006134033203,16.795413970947266,20.218751907348633,2.6304287910461426,17.13283348083496,13.326738357543945,20.845930099487305,20.77915382385254,14.142081260681152,13.387677192687988,15.991575241088867,18.045900344848633,17.38599967956543,5.678601264953613,19.213973999023438,-12.763230323791504,15.894619941711426,20.386789321899414,15.356791496276855,17.011709213256836,20.539398193359375,-8.988896369934082,16.55602264404297],\"xaxis\":\"x\",\"y\":[1.8437821865081787,2.279712677001953,3.105311393737793,2.2039601802825928,3.5513250827789307,2.668219804763794,-9.222495079040527,2.6338207721710205,3.532968521118164,2.9454057216644287,3.7687575817108154,1.5129584074020386,2.74458909034729,8.647438049316406,1.4698301553726196,1.4760898351669312,2.08664870262146,3.799374580383301,1.8646600246429443,2.0858235359191895,2.08809494972229,1.752611517906189,18.6801815032959,14.036921501159668,2.173811197280884,3.3995542526245117,12.332671165466309,1.8590272665023804,1.7673348188400269,2.6035947799682617,-13.444337844848633,2.98451566696167,2.5646286010742188,17.22407341003418,1.7878000736236572,1.7648426294326782,1.817580223083496,1.9899396896362305,2.285865545272827,-9.587592124938965,1.828776478767395,1.7822535037994385,8.230612754821777,2.884742259979248,1.8820009231567383,2.6252357959747314,2.229027271270752,2.5627951622009277,11.814115524291992,3.8621232509613037,2.6173219680786133,1.9881162643432617,2.5805423259735107,1.833509922027588,2.6625900268554688,3.6776177883148193,3.51320743560791,1.8590805530548096,-9.385025978088379,2.9233920574188232,18.96365737915039,3.738604784011841,1.7946926355361938,1.4909483194351196,3.8609061241149902,2.6696832180023193,-1.9299647808074951,3.05383038520813],\"yaxis\":\"y\",\"type\":\"scatter\"},{\"customdata\":[[\"happy\"],[\"happy\"],[\"sad\"],[\"happy\"],[\"happy\"],[\"sad\"],[\"sad\"],[\"sad\"],[\"happy\"],[\"sad\"],[\"angry\"],[\"sad\"],[\"sad\"],[\"angry\"],[\"sad\"],[\"sad\"],[\"angry\"],[\"sad\"],[\"sad\"],[\"sad\"],[\"sad\"],[\"sad\"],[\"neutral\"],[\"sad\"],[\"sad\"],[\"sad\"],[\"angry\"],[\"angry\"],[\"surprised\"],[\"sad\"],[\"disgusted\"],[\"sad\"],[\"happy\"],[\"angry\"],[\"sad\"],[\"sad\"],[\"disgusted\"],[\"sad\"],[\"sad\"],[\"sad\"],[\"sad\"],[\"disgusted\"],[\"sad\"],[\"sad\"],[\"sad\"],[\"sad\"],[\"sad\"],[\"sad\"],[\"sad\"],[\"sad\"],[\"sad\"],[\"angry\"],[\"angry\"],[\"sad\"]],\"hovertemplate\":\"Label=sad\\u003cbr\\u003ex=%{x}\\u003cbr\\u003ey=%{y}\\u003cbr\\u003ePredictions=%{customdata[0]}\\u003cextra\\u003e\\u003c\\u002fextra\\u003e\",\"legendgroup\":\"sad\",\"marker\":{\"color\":\"#FFA15A\",\"opacity\":0.2,\"size\":12,\"symbol\":\"circle\"},\"mode\":\"markers\",\"name\":\"sad\",\"orientation\":\"v\",\"showlegend\":false,\"x\":[20.55091094970703,17.059898376464844,-9.390130996704102,20.885421752929688,13.05041790008545,-8.601344108581543,-8.568845748901367,-9.080035209655762,13.710708618164062,-7.279416561126709,-9.453875541687012,-7.351439952850342,-8.942985534667969,-12.130648612976074,-8.632688522338867,-8.759620666503906,-9.241430282592773,-9.370927810668945,-9.139396667480469,-8.892051696777344,-8.315563201904297,-8.496406555175781,2.4162251949310303,-8.400458335876465,-8.619967460632324,-8.55565357208252,-9.4456148147583,-13.043604850769043,-11.620067596435547,-9.119585037231445,6.114290237426758,-8.299294471740723,20.193641662597656,-11.535360336303711,-9.367074012756348,-7.528319835662842,4.114769458770752,-9.39746379852295,-8.766026496887207,-8.977306365966797,-9.088433265686035,4.026410102844238,-9.064064979553223,-8.841682434082031,-8.367122650146484,-8.762166023254395,-9.377059936523438,-9.115137100219727,-9.409579277038574,-8.784234046936035,-8.477034568786621,-12.65027904510498,-9.199308395385742,-9.014792442321777],\"xaxis\":\"x\",\"y\":[2.669180154800415,3.8618640899658203,-11.81321907043457,2.4419076442718506,1.783581256866455,-12.127436637878418,-11.99255657196045,-12.278827667236328,1.6921027898788452,-9.206510543823242,-3.578848123550415,-9.108139991760254,-5.161767959594727,-0.8851336240768433,-11.66778564453125,-12.263300895690918,-4.0400590896606445,-12.09929084777832,-11.314801216125488,-5.404051780700684,-8.42303466796875,-11.603672981262207,12.685409545898438,-11.154229164123535,-12.154179573059082,-11.5864839553833,-2.871737480163574,-1.0167266130447388,15.3973970413208,-12.266945838928223,-13.612024307250977,-10.141260147094727,2.615393877029419,-1.3647140264511108,-12.108394622802734,-9.600894927978516,-11.119027137756348,-11.81379508972168,-12.267026901245117,-10.108749389648438,-10.881200790405273,-11.107400894165039,-11.44689655303955,-11.389142990112305,-11.210240364074707,-12.265250205993652,-12.085258483886719,-12.267702102661133,-11.799793243408203,-11.58154296875,-10.964848518371582,-1.2581984996795654,-4.249119281768799,-4.86468505859375],\"yaxis\":\"y\",\"type\":\"scatter\"},{\"customdata\":[[\"angry\"],[\"angry\"],[\"angry\"],[\"angry\"],[\"disgusted\"],[\"angry\"],[\"angry\"],[\"angry\"],[\"angry\"],[\"angry\"],[\"angry\"],[\"sad\"],[\"angry\"],[\"happy\"],[\"angry\"],[\"angry\"],[\"angry\"],[\"surprised\"],[\"happy\"],[\"surprised\"],[\"surprised\"],[\"angry\"],[\"angry\"],[\"angry\"],[\"angry\"],[\"disgusted\"],[\"angry\"],[\"disgusted\"],[\"disgusted\"],[\"angry\"],[\"disgusted\"],[\"angry\"],[\"angry\"],[\"sad\"],[\"angry\"],[\"angry\"],[\"angry\"],[\"happy\"],[\"sad\"],[\"angry\"],[\"neutral\"],[\"angry\"],[\"angry\"],[\"neutral\"],[\"angry\"],[\"angry\"]],\"hovertemplate\":\"Label=angry\\u003cbr\\u003ex=%{x}\\u003cbr\\u003ey=%{y}\\u003cbr\\u003ePredictions=%{customdata[0]}\\u003cextra\\u003e\\u003c\\u002fextra\\u003e\",\"legendgroup\":\"angry\",\"marker\":{\"color\":\"#636EFA\",\"opacity\":0.2,\"size\":12,\"symbol\":\"circle\"},\"mode\":\"markers\",\"name\":\"angry\",\"orientation\":\"v\",\"showlegend\":false,\"x\":[-9.339822769165039,-13.08520221710205,-12.988521575927734,-13.196176528930664,4.01625394821167,-8.595595359802246,-13.20345401763916,-12.687434196472168,-12.674001693725586,-12.699825286865234,-12.248388290405273,-9.3079252243042,-11.768572807312012,19.70841407775879,-11.843160629272461,-13.183280944824219,-9.518138885498047,-11.272137641906738,14.470366477966309,-10.420135498046875,-11.656034469604492,-12.753448486328125,-12.221477508544922,-13.02453327178955,-10.206136703491211,5.081470966339111,-10.991890907287598,4.730593204498291,5.637791156768799,-13.207730293273926,5.343616962432861,-12.465856552124023,-13.078930854797363,-8.98263168334961,-12.367704391479492,-12.022918701171875,-12.908324241638184,15.30482006072998,-7.857183933258057,-13.076005935668945,-8.154674530029297,-11.543277740478516,-12.555124282836914,-8.151561737060547,-11.51432991027832,-12.746941566467285],\"xaxis\":\"x\",\"y\":[-1.414339303970337,-1.0494409799575806,-1.0262900590896606,-0.6328951120376587,-10.90017032623291,-1.6743491888046265,-0.8680691719055176,-1.0815330743789673,-1.1205216646194458,-0.27088484168052673,-1.2653111219406128,-11.582598686218262,-1.0870225429534912,1.8255459070205688,-1.1058695316314697,-0.5703240036964417,-3.0761196613311768,17.290538787841797,1.7127439975738525,13.365296363830566,15.44328784942627,-0.2567668855190277,-0.71030193567276,-0.356677383184433,-1.721899151802063,-10.395569801330566,-1.5389478206634521,-10.697501182556152,-12.685490608215332,-0.6768385171890259,-10.218082427978516,-0.4656752943992615,-1.021308183670044,-10.048322677612305,-0.5418239831924438,-0.8174024820327759,-0.29755496978759766,1.476351261138916,-8.714173316955566,-0.4044218063354492,-1.0272579193115234,-1.4355535507202148,-0.386790007352829,-1.4508998394012451,-0.9773808121681213,-0.25579971075057983],\"yaxis\":\"y\",\"type\":\"scatter\"},{\"customdata\":[[\"neutral\"],[\"happy\"],[\"neutral\"],[\"neutral\"],[\"neutral\"],[\"neutral\"],[\"neutral\"],[\"neutral\"],[\"angry\"],[\"surprised\"],[\"neutral\"],[\"neutral\"],[\"neutral\"],[\"neutral\"],[\"neutral\"],[\"neutral\"],[\"neutral\"],[\"neutral\"],[\"neutral\"],[\"neutral\"],[\"happy\"],[\"sad\"],[\"neutral\"],[\"neutral\"],[\"happy\"],[\"neutral\"],[\"neutral\"],[\"neutral\"],[\"neutral\"],[\"neutral\"],[\"neutral\"],[\"surprised\"],[\"angry\"],[\"happy\"],[\"disgusted\"],[\"neutral\"],[\"neutral\"],[\"surprised\"],[\"neutral\"],[\"neutral\"],[\"sad\"],[\"neutral\"],[\"neutral\"],[\"neutral\"],[\"surprised\"],[\"happy\"],[\"neutral\"]],\"hovertemplate\":\"Label=neutral\\u003cbr\\u003ex=%{x}\\u003cbr\\u003ey=%{y}\\u003cbr\\u003ePredictions=%{customdata[0]}\\u003cextra\\u003e\\u003c\\u002fextra\\u003e\",\"legendgroup\":\"neutral\",\"marker\":{\"color\":\"#AB63FA\",\"opacity\":0.2,\"size\":12,\"symbol\":\"circle\"},\"mode\":\"markers\",\"name\":\"neutral\",\"orientation\":\"v\",\"showlegend\":false,\"x\":[2.7901675701141357,14.315500259399414,3.233751058578491,3.209653377532959,2.8145203590393066,0.9004423022270203,2.476574420928955,2.3746814727783203,-10.66303539276123,-10.408957481384277,2.8193538188934326,2.3057100772857666,3.1630144119262695,3.0919361114501953,2.3925859928131104,1.8366999626159668,3.223543643951416,2.4508845806121826,2.421996831893921,3.0394105911254883,14.479046821594238,-7.576073169708252,2.175875425338745,1.1046741008758545,12.206313133239746,2.825490713119507,3.2436869144439697,2.6701576709747314,3.090703248977661,3.03642201423645,3.511735677719116,-11.03998851776123,-10.419014930725098,18.08371925354004,4.6001739501953125,3.2356958389282227,3.02117657661438,-13.590929985046387,3.2370517253875732,2.3909826278686523,-9.32644271850586,3.2378745079040527,3.0876245498657227,2.753164768218994,-10.7821626663208,12.391568183898926,3.114515781402588],\"xaxis\":\"x\",\"y\":[12.153707504272461,3.5451347827911377,12.703591346740723,11.686393737792969,12.96216106414795,9.126677513122559,12.819151878356934,9.217989921569824,-1.5978609323501587,13.305882453918457,12.950675964355469,11.989033699035645,12.047866821289062,12.247493743896484,12.589434623718262,10.685643196105957,11.533707618713379,12.786288261413574,12.718836784362793,10.033271789550781,3.5836634635925293,-8.739201545715332,11.211987495422363,9.290060043334961,3.457443952560425,12.96121597290039,12.661542892456055,12.009455680847168,9.485248565673828,12.164533615112305,8.348711013793945,16.82699966430664,-1.734597086906433,3.473334789276123,-11.155678749084473,12.700460433959961,11.780128479003906,18.259790420532227,12.691508293151855,12.592702865600586,-11.137174606323242,12.691140174865723,12.86548900604248,12.945030212402344,15.01340389251709,3.3315882682800293,9.251845359802246],\"yaxis\":\"y\",\"type\":\"scatter\"}],                        {\"template\":{\"data\":{\"histogram2dcontour\":[{\"type\":\"histogram2dcontour\",\"colorbar\":{\"outlinewidth\":0,\"ticks\":\"\"},\"colorscale\":[[0.0,\"#0d0887\"],[0.1111111111111111,\"#46039f\"],[0.2222222222222222,\"#7201a8\"],[0.3333333333333333,\"#9c179e\"],[0.4444444444444444,\"#bd3786\"],[0.5555555555555556,\"#d8576b\"],[0.6666666666666666,\"#ed7953\"],[0.7777777777777778,\"#fb9f3a\"],[0.8888888888888888,\"#fdca26\"],[1.0,\"#f0f921\"]]}],\"choropleth\":[{\"type\":\"choropleth\",\"colorbar\":{\"outlinewidth\":0,\"ticks\":\"\"}}],\"histogram2d\":[{\"type\":\"histogram2d\",\"colorbar\":{\"outlinewidth\":0,\"ticks\":\"\"},\"colorscale\":[[0.0,\"#0d0887\"],[0.1111111111111111,\"#46039f\"],[0.2222222222222222,\"#7201a8\"],[0.3333333333333333,\"#9c179e\"],[0.4444444444444444,\"#bd3786\"],[0.5555555555555556,\"#d8576b\"],[0.6666666666666666,\"#ed7953\"],[0.7777777777777778,\"#fb9f3a\"],[0.8888888888888888,\"#fdca26\"],[1.0,\"#f0f921\"]]}],\"heatmap\":[{\"type\":\"heatmap\",\"colorbar\":{\"outlinewidth\":0,\"ticks\":\"\"},\"colorscale\":[[0.0,\"#0d0887\"],[0.1111111111111111,\"#46039f\"],[0.2222222222222222,\"#7201a8\"],[0.3333333333333333,\"#9c179e\"],[0.4444444444444444,\"#bd3786\"],[0.5555555555555556,\"#d8576b\"],[0.6666666666666666,\"#ed7953\"],[0.7777777777777778,\"#fb9f3a\"],[0.8888888888888888,\"#fdca26\"],[1.0,\"#f0f921\"]]}],\"heatmapgl\":[{\"type\":\"heatmapgl\",\"colorbar\":{\"outlinewidth\":0,\"ticks\":\"\"},\"colorscale\":[[0.0,\"#0d0887\"],[0.1111111111111111,\"#46039f\"],[0.2222222222222222,\"#7201a8\"],[0.3333333333333333,\"#9c179e\"],[0.4444444444444444,\"#bd3786\"],[0.5555555555555556,\"#d8576b\"],[0.6666666666666666,\"#ed7953\"],[0.7777777777777778,\"#fb9f3a\"],[0.8888888888888888,\"#fdca26\"],[1.0,\"#f0f921\"]]}],\"contourcarpet\":[{\"type\":\"contourcarpet\",\"colorbar\":{\"outlinewidth\":0,\"ticks\":\"\"}}],\"contour\":[{\"type\":\"contour\",\"colorbar\":{\"outlinewidth\":0,\"ticks\":\"\"},\"colorscale\":[[0.0,\"#0d0887\"],[0.1111111111111111,\"#46039f\"],[0.2222222222222222,\"#7201a8\"],[0.3333333333333333,\"#9c179e\"],[0.4444444444444444,\"#bd3786\"],[0.5555555555555556,\"#d8576b\"],[0.6666666666666666,\"#ed7953\"],[0.7777777777777778,\"#fb9f3a\"],[0.8888888888888888,\"#fdca26\"],[1.0,\"#f0f921\"]]}],\"surface\":[{\"type\":\"surface\",\"colorbar\":{\"outlinewidth\":0,\"ticks\":\"\"},\"colorscale\":[[0.0,\"#0d0887\"],[0.1111111111111111,\"#46039f\"],[0.2222222222222222,\"#7201a8\"],[0.3333333333333333,\"#9c179e\"],[0.4444444444444444,\"#bd3786\"],[0.5555555555555556,\"#d8576b\"],[0.6666666666666666,\"#ed7953\"],[0.7777777777777778,\"#fb9f3a\"],[0.8888888888888888,\"#fdca26\"],[1.0,\"#f0f921\"]]}],\"mesh3d\":[{\"type\":\"mesh3d\",\"colorbar\":{\"outlinewidth\":0,\"ticks\":\"\"}}],\"scatter\":[{\"fillpattern\":{\"fillmode\":\"overlay\",\"size\":10,\"solidity\":0.2},\"type\":\"scatter\"}],\"parcoords\":[{\"type\":\"parcoords\",\"line\":{\"colorbar\":{\"outlinewidth\":0,\"ticks\":\"\"}}}],\"scatterpolargl\":[{\"type\":\"scatterpolargl\",\"marker\":{\"colorbar\":{\"outlinewidth\":0,\"ticks\":\"\"}}}],\"bar\":[{\"error_x\":{\"color\":\"#2a3f5f\"},\"error_y\":{\"color\":\"#2a3f5f\"},\"marker\":{\"line\":{\"color\":\"#E5ECF6\",\"width\":0.5},\"pattern\":{\"fillmode\":\"overlay\",\"size\":10,\"solidity\":0.2}},\"type\":\"bar\"}],\"scattergeo\":[{\"type\":\"scattergeo\",\"marker\":{\"colorbar\":{\"outlinewidth\":0,\"ticks\":\"\"}}}],\"scatterpolar\":[{\"type\":\"scatterpolar\",\"marker\":{\"colorbar\":{\"outlinewidth\":0,\"ticks\":\"\"}}}],\"histogram\":[{\"marker\":{\"pattern\":{\"fillmode\":\"overlay\",\"size\":10,\"solidity\":0.2}},\"type\":\"histogram\"}],\"scattergl\":[{\"type\":\"scattergl\",\"marker\":{\"colorbar\":{\"outlinewidth\":0,\"ticks\":\"\"}}}],\"scatter3d\":[{\"type\":\"scatter3d\",\"line\":{\"colorbar\":{\"outlinewidth\":0,\"ticks\":\"\"}},\"marker\":{\"colorbar\":{\"outlinewidth\":0,\"ticks\":\"\"}}}],\"scattermapbox\":[{\"type\":\"scattermapbox\",\"marker\":{\"colorbar\":{\"outlinewidth\":0,\"ticks\":\"\"}}}],\"scatterternary\":[{\"type\":\"scatterternary\",\"marker\":{\"colorbar\":{\"outlinewidth\":0,\"ticks\":\"\"}}}],\"scattercarpet\":[{\"type\":\"scattercarpet\",\"marker\":{\"colorbar\":{\"outlinewidth\":0,\"ticks\":\"\"}}}],\"carpet\":[{\"aaxis\":{\"endlinecolor\":\"#2a3f5f\",\"gridcolor\":\"white\",\"linecolor\":\"white\",\"minorgridcolor\":\"white\",\"startlinecolor\":\"#2a3f5f\"},\"baxis\":{\"endlinecolor\":\"#2a3f5f\",\"gridcolor\":\"white\",\"linecolor\":\"white\",\"minorgridcolor\":\"white\",\"startlinecolor\":\"#2a3f5f\"},\"type\":\"carpet\"}],\"table\":[{\"cells\":{\"fill\":{\"color\":\"#EBF0F8\"},\"line\":{\"color\":\"white\"}},\"header\":{\"fill\":{\"color\":\"#C8D4E3\"},\"line\":{\"color\":\"white\"}},\"type\":\"table\"}],\"barpolar\":[{\"marker\":{\"line\":{\"color\":\"#E5ECF6\",\"width\":0.5},\"pattern\":{\"fillmode\":\"overlay\",\"size\":10,\"solidity\":0.2}},\"type\":\"barpolar\"}],\"pie\":[{\"automargin\":true,\"type\":\"pie\"}]},\"layout\":{\"autotypenumbers\":\"strict\",\"colorway\":[\"#636efa\",\"#EF553B\",\"#00cc96\",\"#ab63fa\",\"#FFA15A\",\"#19d3f3\",\"#FF6692\",\"#B6E880\",\"#FF97FF\",\"#FECB52\"],\"font\":{\"color\":\"#2a3f5f\"},\"hovermode\":\"closest\",\"hoverlabel\":{\"align\":\"left\"},\"paper_bgcolor\":\"white\",\"plot_bgcolor\":\"#E5ECF6\",\"polar\":{\"bgcolor\":\"#E5ECF6\",\"angularaxis\":{\"gridcolor\":\"white\",\"linecolor\":\"white\",\"ticks\":\"\"},\"radialaxis\":{\"gridcolor\":\"white\",\"linecolor\":\"white\",\"ticks\":\"\"}},\"ternary\":{\"bgcolor\":\"#E5ECF6\",\"aaxis\":{\"gridcolor\":\"white\",\"linecolor\":\"white\",\"ticks\":\"\"},\"baxis\":{\"gridcolor\":\"white\",\"linecolor\":\"white\",\"ticks\":\"\"},\"caxis\":{\"gridcolor\":\"white\",\"linecolor\":\"white\",\"ticks\":\"\"}},\"coloraxis\":{\"colorbar\":{\"outlinewidth\":0,\"ticks\":\"\"}},\"colorscale\":{\"sequential\":[[0.0,\"#0d0887\"],[0.1111111111111111,\"#46039f\"],[0.2222222222222222,\"#7201a8\"],[0.3333333333333333,\"#9c179e\"],[0.4444444444444444,\"#bd3786\"],[0.5555555555555556,\"#d8576b\"],[0.6666666666666666,\"#ed7953\"],[0.7777777777777778,\"#fb9f3a\"],[0.8888888888888888,\"#fdca26\"],[1.0,\"#f0f921\"]],\"sequentialminus\":[[0.0,\"#0d0887\"],[0.1111111111111111,\"#46039f\"],[0.2222222222222222,\"#7201a8\"],[0.3333333333333333,\"#9c179e\"],[0.4444444444444444,\"#bd3786\"],[0.5555555555555556,\"#d8576b\"],[0.6666666666666666,\"#ed7953\"],[0.7777777777777778,\"#fb9f3a\"],[0.8888888888888888,\"#fdca26\"],[1.0,\"#f0f921\"]],\"diverging\":[[0,\"#8e0152\"],[0.1,\"#c51b7d\"],[0.2,\"#de77ae\"],[0.3,\"#f1b6da\"],[0.4,\"#fde0ef\"],[0.5,\"#f7f7f7\"],[0.6,\"#e6f5d0\"],[0.7,\"#b8e186\"],[0.8,\"#7fbc41\"],[0.9,\"#4d9221\"],[1,\"#276419\"]]},\"xaxis\":{\"gridcolor\":\"white\",\"linecolor\":\"white\",\"ticks\":\"\",\"title\":{\"standoff\":15},\"zerolinecolor\":\"white\",\"automargin\":true,\"zerolinewidth\":2},\"yaxis\":{\"gridcolor\":\"white\",\"linecolor\":\"white\",\"ticks\":\"\",\"title\":{\"standoff\":15},\"zerolinecolor\":\"white\",\"automargin\":true,\"zerolinewidth\":2},\"scene\":{\"xaxis\":{\"backgroundcolor\":\"#E5ECF6\",\"gridcolor\":\"white\",\"linecolor\":\"white\",\"showbackground\":true,\"ticks\":\"\",\"zerolinecolor\":\"white\",\"gridwidth\":2},\"yaxis\":{\"backgroundcolor\":\"#E5ECF6\",\"gridcolor\":\"white\",\"linecolor\":\"white\",\"showbackground\":true,\"ticks\":\"\",\"zerolinecolor\":\"white\",\"gridwidth\":2},\"zaxis\":{\"backgroundcolor\":\"#E5ECF6\",\"gridcolor\":\"white\",\"linecolor\":\"white\",\"showbackground\":true,\"ticks\":\"\",\"zerolinecolor\":\"white\",\"gridwidth\":2}},\"shapedefaults\":{\"line\":{\"color\":\"#2a3f5f\"}},\"annotationdefaults\":{\"arrowcolor\":\"#2a3f5f\",\"arrowhead\":0,\"arrowwidth\":1},\"geo\":{\"bgcolor\":\"white\",\"landcolor\":\"#E5ECF6\",\"subunitcolor\":\"white\",\"showland\":true,\"showlakes\":true,\"lakecolor\":\"white\"},\"title\":{\"x\":0.05},\"mapbox\":{\"style\":\"light\"}}},\"xaxis\":{\"anchor\":\"y\",\"domain\":[0.0,1.0],\"title\":{\"text\":\"x\"}},\"yaxis\":{\"anchor\":\"x\",\"domain\":[0.0,1.0],\"title\":{\"text\":\"y\"}},\"legend\":{\"title\":{\"text\":\"Predictions, Correct\"},\"tracegroupgap\":0},\"margin\":{\"t\":60}},                        {\"responsive\": true}                    ).then(function(){\n",
       "                            \n",
       "var gd = document.getElementById('0fe14541-a976-41e3-8f55-bcd78d90d8f6');\n",
       "var x = new MutationObserver(function (mutations, observer) {{\n",
       "        var display = window.getComputedStyle(gd).display;\n",
       "        if (!display || display === 'none') {{\n",
       "            console.log([gd, 'removed!']);\n",
       "            Plotly.purge(gd);\n",
       "            observer.disconnect();\n",
       "        }}\n",
       "}});\n",
       "\n",
       "// Listen for the removal of the full notebook cells\n",
       "var notebookContainer = gd.closest('#notebook-container');\n",
       "if (notebookContainer) {{\n",
       "    x.observe(notebookContainer, {childList: true});\n",
       "}}\n",
       "\n",
       "// Listen for the clearing of the current output cell\n",
       "var outputEl = gd.closest('.output');\n",
       "if (outputEl) {{\n",
       "    x.observe(outputEl, {childList: true});\n",
       "}}\n",
       "\n",
       "                        })                };                });            </script>        </div>"
      ]
     },
     "metadata": {},
     "output_type": "display_data"
    }
   ],
   "source": [
    "tsne_confidences = sklearn.manifold.TSNE()\n",
    "confidences_points = tsne_confidences.fit_transform(confidences)\n",
    "\n",
    "confidences_points_df = pd.DataFrame(confidences_points, columns=[\"x\", \"y\"])\n",
    "visdf = pd.concat([confidences_points_df, predictions_series, labels_series, correct_state], axis=1)\n",
    "\n",
    "fig = px.scatter(visdf, x=\"x\", y=\"y\", color=\"Predictions\", symbol=\"Correct\", symbol_map=symbol_map, color_discrete_map=discrete_color_map)\n",
    "fig2 = px.scatter(visdf, x=\"x\", y=\"y\", color=\"Label\", hover_data=[\"Predictions\"], opacity=0.2, color_discrete_map=discrete_color_map)\n",
    "fig2.update_traces(dict(\n",
    "  marker=dict(\n",
    "    size=12,\n",
    "  ),\n",
    "  showlegend=False\n",
    "))\n",
    "\n",
    "\n",
    "fig.add_traces(fig2.data)\n",
    "fig.show()"
   ]
  },
  {
   "cell_type": "code",
   "execution_count": 39,
   "metadata": {},
   "outputs": [],
   "source": [
    "model.save(EXPRESSION_RECOGNITION_MODEL_PATH)"
   ]
  },
  {
   "cell_type": "code",
   "execution_count": 77,
   "metadata": {},
   "outputs": [
    {
     "data": {
      "application/vnd.plotly.v1+json": {
       "config": {
        "plotlyServerURL": "https://plot.ly"
       },
       "data": [
        {
         "hovertemplate": "index=%{x}<br>accuracy=%{y}<extra></extra>",
         "legendgroup": "",
         "line": {
          "color": "blue",
          "dash": "solid"
         },
         "marker": {
          "color": "blue",
          "symbol": "circle"
         },
         "mode": "lines+markers",
         "name": "Accuracy",
         "orientation": "v",
         "showlegend": true,
         "type": "scatter",
         "x": [
          0,
          1,
          2,
          3,
          4,
          5,
          6,
          7,
          8,
          9,
          10,
          11,
          12,
          13,
          14,
          15,
          16,
          17,
          18,
          19,
          20,
          21,
          22,
          23,
          24,
          25,
          26,
          27,
          28,
          29,
          30,
          31,
          32,
          33,
          34,
          35,
          36,
          37,
          38,
          39
         ],
         "xaxis": "x",
         "y": [
          0.2528301775455475,
          0.38679245114326477,
          0.5150943398475647,
          0.6018868088722229,
          0.6150943636894226,
          0.7207547426223755,
          0.7603773474693298,
          0.8132075667381287,
          0.854716956615448,
          0.8792452812194824,
          0.8698112964630127,
          0.8396226167678833,
          0.9094339609146118,
          0.8905660510063171,
          0.9264150857925415,
          0.9528301954269409,
          0.9528301954269409,
          0.9660377502441406,
          0.9679245352745056,
          0.9679245352745056,
          0.9679245352745056,
          0.9792453050613403,
          0.9811320900917053,
          0.99245285987854,
          0.9849056601524353,
          0.99245285987854,
          0.998113214969635,
          0.9886792302131653,
          0.9490566253662109,
          0.9773585200309753,
          0.9830188751220703,
          0.99622642993927,
          1,
          1,
          1,
          1,
          1,
          1,
          1,
          1
         ],
         "yaxis": "y"
        },
        {
         "hovertemplate": "index=%{x}<br>val_accuracy=%{y}<extra></extra>",
         "legendgroup": "",
         "line": {
          "color": "orange",
          "dash": "solid"
         },
         "marker": {
          "color": "orange",
          "symbol": "circle"
         },
         "mode": "lines+markers",
         "name": "Validation Accuracy",
         "orientation": "v",
         "showlegend": true,
         "type": "scatter",
         "x": [
          0,
          1,
          2,
          3,
          4,
          5,
          6,
          7,
          8,
          9,
          10,
          11,
          12,
          13,
          14,
          15,
          16,
          17,
          18,
          19,
          20,
          21,
          22,
          23,
          24,
          25,
          26,
          27,
          28,
          29,
          30,
          31,
          32,
          33,
          34,
          35,
          36,
          37,
          38,
          39
         ],
         "xaxis": "x",
         "y": [
          0.27753305435180664,
          0.458149790763855,
          0.5330396294593811,
          0.5726872086524963,
          0.6255506873130798,
          0.6475771069526672,
          0.6563876867294312,
          0.634361207485199,
          0.6784141063690186,
          0.6784141063690186,
          0.6431717872619629,
          0.6607929468154907,
          0.6607929468154907,
          0.6872246861457825,
          0.6784141063690186,
          0.691629946231842,
          0.7048457860946655,
          0.7136563658714294,
          0.7048457860946655,
          0.7356828451156616,
          0.7709251046180725,
          0.7400881052017212,
          0.7444933652877808,
          0.7488986849784851,
          0.7665198445320129,
          0.7488986849784851,
          0.7268722653388977,
          0.7533039450645447,
          0.7444933652877808,
          0.7356828451156616,
          0.7533039450645447,
          0.7797356843948364,
          0.7665198445320129,
          0.7621145248413086,
          0.757709264755249,
          0.7665198445320129,
          0.7621145248413086,
          0.7665198445320129,
          0.7621145248413086,
          0.7621145248413086
         ],
         "yaxis": "y"
        }
       ],
       "layout": {
        "legend": {
         "tracegroupgap": 0
        },
        "shapes": [
         {
          "label": {
           "text": "Median Val Accuracy",
           "textposition": "start"
          },
          "line": {
           "color": "orange",
           "dash": "dash"
          },
          "type": "line",
          "x0": 0,
          "x1": 1,
          "xref": "x domain",
          "y0": 0.7312775552272797,
          "y1": 0.7312775552272797,
          "yref": "y"
         },
         {
          "label": {
           "text": "Median Accuracy",
           "textposition": "start"
          },
          "line": {
           "color": "blue",
           "dash": "dash"
          },
          "type": "line",
          "x0": 0,
          "x1": 1,
          "xref": "x domain",
          "y0": 0.9679245352745056,
          "y1": 0.9679245352745056,
          "yref": "y"
         }
        ],
        "template": {
         "data": {
          "bar": [
           {
            "error_x": {
             "color": "#2a3f5f"
            },
            "error_y": {
             "color": "#2a3f5f"
            },
            "marker": {
             "line": {
              "color": "#E5ECF6",
              "width": 0.5
             },
             "pattern": {
              "fillmode": "overlay",
              "size": 10,
              "solidity": 0.2
             }
            },
            "type": "bar"
           }
          ],
          "barpolar": [
           {
            "marker": {
             "line": {
              "color": "#E5ECF6",
              "width": 0.5
             },
             "pattern": {
              "fillmode": "overlay",
              "size": 10,
              "solidity": 0.2
             }
            },
            "type": "barpolar"
           }
          ],
          "carpet": [
           {
            "aaxis": {
             "endlinecolor": "#2a3f5f",
             "gridcolor": "white",
             "linecolor": "white",
             "minorgridcolor": "white",
             "startlinecolor": "#2a3f5f"
            },
            "baxis": {
             "endlinecolor": "#2a3f5f",
             "gridcolor": "white",
             "linecolor": "white",
             "minorgridcolor": "white",
             "startlinecolor": "#2a3f5f"
            },
            "type": "carpet"
           }
          ],
          "choropleth": [
           {
            "colorbar": {
             "outlinewidth": 0,
             "ticks": ""
            },
            "type": "choropleth"
           }
          ],
          "contour": [
           {
            "colorbar": {
             "outlinewidth": 0,
             "ticks": ""
            },
            "colorscale": [
             [
              0,
              "#0d0887"
             ],
             [
              0.1111111111111111,
              "#46039f"
             ],
             [
              0.2222222222222222,
              "#7201a8"
             ],
             [
              0.3333333333333333,
              "#9c179e"
             ],
             [
              0.4444444444444444,
              "#bd3786"
             ],
             [
              0.5555555555555556,
              "#d8576b"
             ],
             [
              0.6666666666666666,
              "#ed7953"
             ],
             [
              0.7777777777777778,
              "#fb9f3a"
             ],
             [
              0.8888888888888888,
              "#fdca26"
             ],
             [
              1,
              "#f0f921"
             ]
            ],
            "type": "contour"
           }
          ],
          "contourcarpet": [
           {
            "colorbar": {
             "outlinewidth": 0,
             "ticks": ""
            },
            "type": "contourcarpet"
           }
          ],
          "heatmap": [
           {
            "colorbar": {
             "outlinewidth": 0,
             "ticks": ""
            },
            "colorscale": [
             [
              0,
              "#0d0887"
             ],
             [
              0.1111111111111111,
              "#46039f"
             ],
             [
              0.2222222222222222,
              "#7201a8"
             ],
             [
              0.3333333333333333,
              "#9c179e"
             ],
             [
              0.4444444444444444,
              "#bd3786"
             ],
             [
              0.5555555555555556,
              "#d8576b"
             ],
             [
              0.6666666666666666,
              "#ed7953"
             ],
             [
              0.7777777777777778,
              "#fb9f3a"
             ],
             [
              0.8888888888888888,
              "#fdca26"
             ],
             [
              1,
              "#f0f921"
             ]
            ],
            "type": "heatmap"
           }
          ],
          "heatmapgl": [
           {
            "colorbar": {
             "outlinewidth": 0,
             "ticks": ""
            },
            "colorscale": [
             [
              0,
              "#0d0887"
             ],
             [
              0.1111111111111111,
              "#46039f"
             ],
             [
              0.2222222222222222,
              "#7201a8"
             ],
             [
              0.3333333333333333,
              "#9c179e"
             ],
             [
              0.4444444444444444,
              "#bd3786"
             ],
             [
              0.5555555555555556,
              "#d8576b"
             ],
             [
              0.6666666666666666,
              "#ed7953"
             ],
             [
              0.7777777777777778,
              "#fb9f3a"
             ],
             [
              0.8888888888888888,
              "#fdca26"
             ],
             [
              1,
              "#f0f921"
             ]
            ],
            "type": "heatmapgl"
           }
          ],
          "histogram": [
           {
            "marker": {
             "pattern": {
              "fillmode": "overlay",
              "size": 10,
              "solidity": 0.2
             }
            },
            "type": "histogram"
           }
          ],
          "histogram2d": [
           {
            "colorbar": {
             "outlinewidth": 0,
             "ticks": ""
            },
            "colorscale": [
             [
              0,
              "#0d0887"
             ],
             [
              0.1111111111111111,
              "#46039f"
             ],
             [
              0.2222222222222222,
              "#7201a8"
             ],
             [
              0.3333333333333333,
              "#9c179e"
             ],
             [
              0.4444444444444444,
              "#bd3786"
             ],
             [
              0.5555555555555556,
              "#d8576b"
             ],
             [
              0.6666666666666666,
              "#ed7953"
             ],
             [
              0.7777777777777778,
              "#fb9f3a"
             ],
             [
              0.8888888888888888,
              "#fdca26"
             ],
             [
              1,
              "#f0f921"
             ]
            ],
            "type": "histogram2d"
           }
          ],
          "histogram2dcontour": [
           {
            "colorbar": {
             "outlinewidth": 0,
             "ticks": ""
            },
            "colorscale": [
             [
              0,
              "#0d0887"
             ],
             [
              0.1111111111111111,
              "#46039f"
             ],
             [
              0.2222222222222222,
              "#7201a8"
             ],
             [
              0.3333333333333333,
              "#9c179e"
             ],
             [
              0.4444444444444444,
              "#bd3786"
             ],
             [
              0.5555555555555556,
              "#d8576b"
             ],
             [
              0.6666666666666666,
              "#ed7953"
             ],
             [
              0.7777777777777778,
              "#fb9f3a"
             ],
             [
              0.8888888888888888,
              "#fdca26"
             ],
             [
              1,
              "#f0f921"
             ]
            ],
            "type": "histogram2dcontour"
           }
          ],
          "mesh3d": [
           {
            "colorbar": {
             "outlinewidth": 0,
             "ticks": ""
            },
            "type": "mesh3d"
           }
          ],
          "parcoords": [
           {
            "line": {
             "colorbar": {
              "outlinewidth": 0,
              "ticks": ""
             }
            },
            "type": "parcoords"
           }
          ],
          "pie": [
           {
            "automargin": true,
            "type": "pie"
           }
          ],
          "scatter": [
           {
            "fillpattern": {
             "fillmode": "overlay",
             "size": 10,
             "solidity": 0.2
            },
            "type": "scatter"
           }
          ],
          "scatter3d": [
           {
            "line": {
             "colorbar": {
              "outlinewidth": 0,
              "ticks": ""
             }
            },
            "marker": {
             "colorbar": {
              "outlinewidth": 0,
              "ticks": ""
             }
            },
            "type": "scatter3d"
           }
          ],
          "scattercarpet": [
           {
            "marker": {
             "colorbar": {
              "outlinewidth": 0,
              "ticks": ""
             }
            },
            "type": "scattercarpet"
           }
          ],
          "scattergeo": [
           {
            "marker": {
             "colorbar": {
              "outlinewidth": 0,
              "ticks": ""
             }
            },
            "type": "scattergeo"
           }
          ],
          "scattergl": [
           {
            "marker": {
             "colorbar": {
              "outlinewidth": 0,
              "ticks": ""
             }
            },
            "type": "scattergl"
           }
          ],
          "scattermapbox": [
           {
            "marker": {
             "colorbar": {
              "outlinewidth": 0,
              "ticks": ""
             }
            },
            "type": "scattermapbox"
           }
          ],
          "scatterpolar": [
           {
            "marker": {
             "colorbar": {
              "outlinewidth": 0,
              "ticks": ""
             }
            },
            "type": "scatterpolar"
           }
          ],
          "scatterpolargl": [
           {
            "marker": {
             "colorbar": {
              "outlinewidth": 0,
              "ticks": ""
             }
            },
            "type": "scatterpolargl"
           }
          ],
          "scatterternary": [
           {
            "marker": {
             "colorbar": {
              "outlinewidth": 0,
              "ticks": ""
             }
            },
            "type": "scatterternary"
           }
          ],
          "surface": [
           {
            "colorbar": {
             "outlinewidth": 0,
             "ticks": ""
            },
            "colorscale": [
             [
              0,
              "#0d0887"
             ],
             [
              0.1111111111111111,
              "#46039f"
             ],
             [
              0.2222222222222222,
              "#7201a8"
             ],
             [
              0.3333333333333333,
              "#9c179e"
             ],
             [
              0.4444444444444444,
              "#bd3786"
             ],
             [
              0.5555555555555556,
              "#d8576b"
             ],
             [
              0.6666666666666666,
              "#ed7953"
             ],
             [
              0.7777777777777778,
              "#fb9f3a"
             ],
             [
              0.8888888888888888,
              "#fdca26"
             ],
             [
              1,
              "#f0f921"
             ]
            ],
            "type": "surface"
           }
          ],
          "table": [
           {
            "cells": {
             "fill": {
              "color": "#EBF0F8"
             },
             "line": {
              "color": "white"
             }
            },
            "header": {
             "fill": {
              "color": "#C8D4E3"
             },
             "line": {
              "color": "white"
             }
            },
            "type": "table"
           }
          ]
         },
         "layout": {
          "annotationdefaults": {
           "arrowcolor": "#2a3f5f",
           "arrowhead": 0,
           "arrowwidth": 1
          },
          "autotypenumbers": "strict",
          "coloraxis": {
           "colorbar": {
            "outlinewidth": 0,
            "ticks": ""
           }
          },
          "colorscale": {
           "diverging": [
            [
             0,
             "#8e0152"
            ],
            [
             0.1,
             "#c51b7d"
            ],
            [
             0.2,
             "#de77ae"
            ],
            [
             0.3,
             "#f1b6da"
            ],
            [
             0.4,
             "#fde0ef"
            ],
            [
             0.5,
             "#f7f7f7"
            ],
            [
             0.6,
             "#e6f5d0"
            ],
            [
             0.7,
             "#b8e186"
            ],
            [
             0.8,
             "#7fbc41"
            ],
            [
             0.9,
             "#4d9221"
            ],
            [
             1,
             "#276419"
            ]
           ],
           "sequential": [
            [
             0,
             "#0d0887"
            ],
            [
             0.1111111111111111,
             "#46039f"
            ],
            [
             0.2222222222222222,
             "#7201a8"
            ],
            [
             0.3333333333333333,
             "#9c179e"
            ],
            [
             0.4444444444444444,
             "#bd3786"
            ],
            [
             0.5555555555555556,
             "#d8576b"
            ],
            [
             0.6666666666666666,
             "#ed7953"
            ],
            [
             0.7777777777777778,
             "#fb9f3a"
            ],
            [
             0.8888888888888888,
             "#fdca26"
            ],
            [
             1,
             "#f0f921"
            ]
           ],
           "sequentialminus": [
            [
             0,
             "#0d0887"
            ],
            [
             0.1111111111111111,
             "#46039f"
            ],
            [
             0.2222222222222222,
             "#7201a8"
            ],
            [
             0.3333333333333333,
             "#9c179e"
            ],
            [
             0.4444444444444444,
             "#bd3786"
            ],
            [
             0.5555555555555556,
             "#d8576b"
            ],
            [
             0.6666666666666666,
             "#ed7953"
            ],
            [
             0.7777777777777778,
             "#fb9f3a"
            ],
            [
             0.8888888888888888,
             "#fdca26"
            ],
            [
             1,
             "#f0f921"
            ]
           ]
          },
          "colorway": [
           "#636efa",
           "#EF553B",
           "#00cc96",
           "#ab63fa",
           "#FFA15A",
           "#19d3f3",
           "#FF6692",
           "#B6E880",
           "#FF97FF",
           "#FECB52"
          ],
          "font": {
           "color": "#2a3f5f"
          },
          "geo": {
           "bgcolor": "white",
           "lakecolor": "white",
           "landcolor": "#E5ECF6",
           "showlakes": true,
           "showland": true,
           "subunitcolor": "white"
          },
          "hoverlabel": {
           "align": "left"
          },
          "hovermode": "closest",
          "mapbox": {
           "style": "light"
          },
          "paper_bgcolor": "white",
          "plot_bgcolor": "#E5ECF6",
          "polar": {
           "angularaxis": {
            "gridcolor": "white",
            "linecolor": "white",
            "ticks": ""
           },
           "bgcolor": "#E5ECF6",
           "radialaxis": {
            "gridcolor": "white",
            "linecolor": "white",
            "ticks": ""
           }
          },
          "scene": {
           "xaxis": {
            "backgroundcolor": "#E5ECF6",
            "gridcolor": "white",
            "gridwidth": 2,
            "linecolor": "white",
            "showbackground": true,
            "ticks": "",
            "zerolinecolor": "white"
           },
           "yaxis": {
            "backgroundcolor": "#E5ECF6",
            "gridcolor": "white",
            "gridwidth": 2,
            "linecolor": "white",
            "showbackground": true,
            "ticks": "",
            "zerolinecolor": "white"
           },
           "zaxis": {
            "backgroundcolor": "#E5ECF6",
            "gridcolor": "white",
            "gridwidth": 2,
            "linecolor": "white",
            "showbackground": true,
            "ticks": "",
            "zerolinecolor": "white"
           }
          },
          "shapedefaults": {
           "line": {
            "color": "#2a3f5f"
           }
          },
          "ternary": {
           "aaxis": {
            "gridcolor": "white",
            "linecolor": "white",
            "ticks": ""
           },
           "baxis": {
            "gridcolor": "white",
            "linecolor": "white",
            "ticks": ""
           },
           "bgcolor": "#E5ECF6",
           "caxis": {
            "gridcolor": "white",
            "linecolor": "white",
            "ticks": ""
           }
          },
          "title": {
           "x": 0.05
          },
          "xaxis": {
           "automargin": true,
           "gridcolor": "white",
           "linecolor": "white",
           "ticks": "",
           "title": {
            "standoff": 15
           },
           "zerolinecolor": "white",
           "zerolinewidth": 2
          },
          "yaxis": {
           "automargin": true,
           "gridcolor": "white",
           "linecolor": "white",
           "ticks": "",
           "title": {
            "standoff": 15
           },
           "zerolinecolor": "white",
           "zerolinewidth": 2
          }
         }
        },
        "title": {
         "text": "Training Accuracy"
        },
        "xaxis": {
         "anchor": "y",
         "domain": [
          0,
          1
         ],
         "title": {
          "text": "index"
         }
        },
        "yaxis": {
         "anchor": "x",
         "domain": [
          0,
          1
         ],
         "range": [
          0,
          1.2
         ],
         "title": {
          "text": "accuracy"
         }
        }
       }
      },
      "text/html": [
       "<div>                            <div id=\"a5c68df3-02c4-4164-a491-e97eccadae2c\" class=\"plotly-graph-div\" style=\"height:525px; width:100%;\"></div>            <script type=\"text/javascript\">                require([\"plotly\"], function(Plotly) {                    window.PLOTLYENV=window.PLOTLYENV || {};                                    if (document.getElementById(\"a5c68df3-02c4-4164-a491-e97eccadae2c\")) {                    Plotly.newPlot(                        \"a5c68df3-02c4-4164-a491-e97eccadae2c\",                        [{\"hovertemplate\":\"index=%{x}\\u003cbr\\u003eaccuracy=%{y}\\u003cextra\\u003e\\u003c\\u002fextra\\u003e\",\"legendgroup\":\"\",\"line\":{\"color\":\"blue\",\"dash\":\"solid\"},\"marker\":{\"symbol\":\"circle\",\"color\":\"blue\"},\"mode\":\"lines+markers\",\"name\":\"Accuracy\",\"orientation\":\"v\",\"showlegend\":true,\"x\":[0,1,2,3,4,5,6,7,8,9,10,11,12,13,14,15,16,17,18,19,20,21,22,23,24,25,26,27,28,29,30,31,32,33,34,35,36,37,38,39],\"xaxis\":\"x\",\"y\":[0.2528301775455475,0.38679245114326477,0.5150943398475647,0.6018868088722229,0.6150943636894226,0.7207547426223755,0.7603773474693298,0.8132075667381287,0.854716956615448,0.8792452812194824,0.8698112964630127,0.8396226167678833,0.9094339609146118,0.8905660510063171,0.9264150857925415,0.9528301954269409,0.9528301954269409,0.9660377502441406,0.9679245352745056,0.9679245352745056,0.9679245352745056,0.9792453050613403,0.9811320900917053,0.99245285987854,0.9849056601524353,0.99245285987854,0.998113214969635,0.9886792302131653,0.9490566253662109,0.9773585200309753,0.9830188751220703,0.99622642993927,1.0,1.0,1.0,1.0,1.0,1.0,1.0,1.0],\"yaxis\":\"y\",\"type\":\"scatter\"},{\"hovertemplate\":\"index=%{x}\\u003cbr\\u003eval_accuracy=%{y}\\u003cextra\\u003e\\u003c\\u002fextra\\u003e\",\"legendgroup\":\"\",\"line\":{\"color\":\"orange\",\"dash\":\"solid\"},\"marker\":{\"color\":\"orange\",\"symbol\":\"circle\"},\"mode\":\"lines+markers\",\"name\":\"Validation Accuracy\",\"orientation\":\"v\",\"showlegend\":true,\"x\":[0,1,2,3,4,5,6,7,8,9,10,11,12,13,14,15,16,17,18,19,20,21,22,23,24,25,26,27,28,29,30,31,32,33,34,35,36,37,38,39],\"xaxis\":\"x\",\"y\":[0.27753305435180664,0.458149790763855,0.5330396294593811,0.5726872086524963,0.6255506873130798,0.6475771069526672,0.6563876867294312,0.634361207485199,0.6784141063690186,0.6784141063690186,0.6431717872619629,0.6607929468154907,0.6607929468154907,0.6872246861457825,0.6784141063690186,0.691629946231842,0.7048457860946655,0.7136563658714294,0.7048457860946655,0.7356828451156616,0.7709251046180725,0.7400881052017212,0.7444933652877808,0.7488986849784851,0.7665198445320129,0.7488986849784851,0.7268722653388977,0.7533039450645447,0.7444933652877808,0.7356828451156616,0.7533039450645447,0.7797356843948364,0.7665198445320129,0.7621145248413086,0.757709264755249,0.7665198445320129,0.7621145248413086,0.7665198445320129,0.7621145248413086,0.7621145248413086],\"yaxis\":\"y\",\"type\":\"scatter\"}],                        {\"template\":{\"data\":{\"histogram2dcontour\":[{\"type\":\"histogram2dcontour\",\"colorbar\":{\"outlinewidth\":0,\"ticks\":\"\"},\"colorscale\":[[0.0,\"#0d0887\"],[0.1111111111111111,\"#46039f\"],[0.2222222222222222,\"#7201a8\"],[0.3333333333333333,\"#9c179e\"],[0.4444444444444444,\"#bd3786\"],[0.5555555555555556,\"#d8576b\"],[0.6666666666666666,\"#ed7953\"],[0.7777777777777778,\"#fb9f3a\"],[0.8888888888888888,\"#fdca26\"],[1.0,\"#f0f921\"]]}],\"choropleth\":[{\"type\":\"choropleth\",\"colorbar\":{\"outlinewidth\":0,\"ticks\":\"\"}}],\"histogram2d\":[{\"type\":\"histogram2d\",\"colorbar\":{\"outlinewidth\":0,\"ticks\":\"\"},\"colorscale\":[[0.0,\"#0d0887\"],[0.1111111111111111,\"#46039f\"],[0.2222222222222222,\"#7201a8\"],[0.3333333333333333,\"#9c179e\"],[0.4444444444444444,\"#bd3786\"],[0.5555555555555556,\"#d8576b\"],[0.6666666666666666,\"#ed7953\"],[0.7777777777777778,\"#fb9f3a\"],[0.8888888888888888,\"#fdca26\"],[1.0,\"#f0f921\"]]}],\"heatmap\":[{\"type\":\"heatmap\",\"colorbar\":{\"outlinewidth\":0,\"ticks\":\"\"},\"colorscale\":[[0.0,\"#0d0887\"],[0.1111111111111111,\"#46039f\"],[0.2222222222222222,\"#7201a8\"],[0.3333333333333333,\"#9c179e\"],[0.4444444444444444,\"#bd3786\"],[0.5555555555555556,\"#d8576b\"],[0.6666666666666666,\"#ed7953\"],[0.7777777777777778,\"#fb9f3a\"],[0.8888888888888888,\"#fdca26\"],[1.0,\"#f0f921\"]]}],\"heatmapgl\":[{\"type\":\"heatmapgl\",\"colorbar\":{\"outlinewidth\":0,\"ticks\":\"\"},\"colorscale\":[[0.0,\"#0d0887\"],[0.1111111111111111,\"#46039f\"],[0.2222222222222222,\"#7201a8\"],[0.3333333333333333,\"#9c179e\"],[0.4444444444444444,\"#bd3786\"],[0.5555555555555556,\"#d8576b\"],[0.6666666666666666,\"#ed7953\"],[0.7777777777777778,\"#fb9f3a\"],[0.8888888888888888,\"#fdca26\"],[1.0,\"#f0f921\"]]}],\"contourcarpet\":[{\"type\":\"contourcarpet\",\"colorbar\":{\"outlinewidth\":0,\"ticks\":\"\"}}],\"contour\":[{\"type\":\"contour\",\"colorbar\":{\"outlinewidth\":0,\"ticks\":\"\"},\"colorscale\":[[0.0,\"#0d0887\"],[0.1111111111111111,\"#46039f\"],[0.2222222222222222,\"#7201a8\"],[0.3333333333333333,\"#9c179e\"],[0.4444444444444444,\"#bd3786\"],[0.5555555555555556,\"#d8576b\"],[0.6666666666666666,\"#ed7953\"],[0.7777777777777778,\"#fb9f3a\"],[0.8888888888888888,\"#fdca26\"],[1.0,\"#f0f921\"]]}],\"surface\":[{\"type\":\"surface\",\"colorbar\":{\"outlinewidth\":0,\"ticks\":\"\"},\"colorscale\":[[0.0,\"#0d0887\"],[0.1111111111111111,\"#46039f\"],[0.2222222222222222,\"#7201a8\"],[0.3333333333333333,\"#9c179e\"],[0.4444444444444444,\"#bd3786\"],[0.5555555555555556,\"#d8576b\"],[0.6666666666666666,\"#ed7953\"],[0.7777777777777778,\"#fb9f3a\"],[0.8888888888888888,\"#fdca26\"],[1.0,\"#f0f921\"]]}],\"mesh3d\":[{\"type\":\"mesh3d\",\"colorbar\":{\"outlinewidth\":0,\"ticks\":\"\"}}],\"scatter\":[{\"fillpattern\":{\"fillmode\":\"overlay\",\"size\":10,\"solidity\":0.2},\"type\":\"scatter\"}],\"parcoords\":[{\"type\":\"parcoords\",\"line\":{\"colorbar\":{\"outlinewidth\":0,\"ticks\":\"\"}}}],\"scatterpolargl\":[{\"type\":\"scatterpolargl\",\"marker\":{\"colorbar\":{\"outlinewidth\":0,\"ticks\":\"\"}}}],\"bar\":[{\"error_x\":{\"color\":\"#2a3f5f\"},\"error_y\":{\"color\":\"#2a3f5f\"},\"marker\":{\"line\":{\"color\":\"#E5ECF6\",\"width\":0.5},\"pattern\":{\"fillmode\":\"overlay\",\"size\":10,\"solidity\":0.2}},\"type\":\"bar\"}],\"scattergeo\":[{\"type\":\"scattergeo\",\"marker\":{\"colorbar\":{\"outlinewidth\":0,\"ticks\":\"\"}}}],\"scatterpolar\":[{\"type\":\"scatterpolar\",\"marker\":{\"colorbar\":{\"outlinewidth\":0,\"ticks\":\"\"}}}],\"histogram\":[{\"marker\":{\"pattern\":{\"fillmode\":\"overlay\",\"size\":10,\"solidity\":0.2}},\"type\":\"histogram\"}],\"scattergl\":[{\"type\":\"scattergl\",\"marker\":{\"colorbar\":{\"outlinewidth\":0,\"ticks\":\"\"}}}],\"scatter3d\":[{\"type\":\"scatter3d\",\"line\":{\"colorbar\":{\"outlinewidth\":0,\"ticks\":\"\"}},\"marker\":{\"colorbar\":{\"outlinewidth\":0,\"ticks\":\"\"}}}],\"scattermapbox\":[{\"type\":\"scattermapbox\",\"marker\":{\"colorbar\":{\"outlinewidth\":0,\"ticks\":\"\"}}}],\"scatterternary\":[{\"type\":\"scatterternary\",\"marker\":{\"colorbar\":{\"outlinewidth\":0,\"ticks\":\"\"}}}],\"scattercarpet\":[{\"type\":\"scattercarpet\",\"marker\":{\"colorbar\":{\"outlinewidth\":0,\"ticks\":\"\"}}}],\"carpet\":[{\"aaxis\":{\"endlinecolor\":\"#2a3f5f\",\"gridcolor\":\"white\",\"linecolor\":\"white\",\"minorgridcolor\":\"white\",\"startlinecolor\":\"#2a3f5f\"},\"baxis\":{\"endlinecolor\":\"#2a3f5f\",\"gridcolor\":\"white\",\"linecolor\":\"white\",\"minorgridcolor\":\"white\",\"startlinecolor\":\"#2a3f5f\"},\"type\":\"carpet\"}],\"table\":[{\"cells\":{\"fill\":{\"color\":\"#EBF0F8\"},\"line\":{\"color\":\"white\"}},\"header\":{\"fill\":{\"color\":\"#C8D4E3\"},\"line\":{\"color\":\"white\"}},\"type\":\"table\"}],\"barpolar\":[{\"marker\":{\"line\":{\"color\":\"#E5ECF6\",\"width\":0.5},\"pattern\":{\"fillmode\":\"overlay\",\"size\":10,\"solidity\":0.2}},\"type\":\"barpolar\"}],\"pie\":[{\"automargin\":true,\"type\":\"pie\"}]},\"layout\":{\"autotypenumbers\":\"strict\",\"colorway\":[\"#636efa\",\"#EF553B\",\"#00cc96\",\"#ab63fa\",\"#FFA15A\",\"#19d3f3\",\"#FF6692\",\"#B6E880\",\"#FF97FF\",\"#FECB52\"],\"font\":{\"color\":\"#2a3f5f\"},\"hovermode\":\"closest\",\"hoverlabel\":{\"align\":\"left\"},\"paper_bgcolor\":\"white\",\"plot_bgcolor\":\"#E5ECF6\",\"polar\":{\"bgcolor\":\"#E5ECF6\",\"angularaxis\":{\"gridcolor\":\"white\",\"linecolor\":\"white\",\"ticks\":\"\"},\"radialaxis\":{\"gridcolor\":\"white\",\"linecolor\":\"white\",\"ticks\":\"\"}},\"ternary\":{\"bgcolor\":\"#E5ECF6\",\"aaxis\":{\"gridcolor\":\"white\",\"linecolor\":\"white\",\"ticks\":\"\"},\"baxis\":{\"gridcolor\":\"white\",\"linecolor\":\"white\",\"ticks\":\"\"},\"caxis\":{\"gridcolor\":\"white\",\"linecolor\":\"white\",\"ticks\":\"\"}},\"coloraxis\":{\"colorbar\":{\"outlinewidth\":0,\"ticks\":\"\"}},\"colorscale\":{\"sequential\":[[0.0,\"#0d0887\"],[0.1111111111111111,\"#46039f\"],[0.2222222222222222,\"#7201a8\"],[0.3333333333333333,\"#9c179e\"],[0.4444444444444444,\"#bd3786\"],[0.5555555555555556,\"#d8576b\"],[0.6666666666666666,\"#ed7953\"],[0.7777777777777778,\"#fb9f3a\"],[0.8888888888888888,\"#fdca26\"],[1.0,\"#f0f921\"]],\"sequentialminus\":[[0.0,\"#0d0887\"],[0.1111111111111111,\"#46039f\"],[0.2222222222222222,\"#7201a8\"],[0.3333333333333333,\"#9c179e\"],[0.4444444444444444,\"#bd3786\"],[0.5555555555555556,\"#d8576b\"],[0.6666666666666666,\"#ed7953\"],[0.7777777777777778,\"#fb9f3a\"],[0.8888888888888888,\"#fdca26\"],[1.0,\"#f0f921\"]],\"diverging\":[[0,\"#8e0152\"],[0.1,\"#c51b7d\"],[0.2,\"#de77ae\"],[0.3,\"#f1b6da\"],[0.4,\"#fde0ef\"],[0.5,\"#f7f7f7\"],[0.6,\"#e6f5d0\"],[0.7,\"#b8e186\"],[0.8,\"#7fbc41\"],[0.9,\"#4d9221\"],[1,\"#276419\"]]},\"xaxis\":{\"gridcolor\":\"white\",\"linecolor\":\"white\",\"ticks\":\"\",\"title\":{\"standoff\":15},\"zerolinecolor\":\"white\",\"automargin\":true,\"zerolinewidth\":2},\"yaxis\":{\"gridcolor\":\"white\",\"linecolor\":\"white\",\"ticks\":\"\",\"title\":{\"standoff\":15},\"zerolinecolor\":\"white\",\"automargin\":true,\"zerolinewidth\":2},\"scene\":{\"xaxis\":{\"backgroundcolor\":\"#E5ECF6\",\"gridcolor\":\"white\",\"linecolor\":\"white\",\"showbackground\":true,\"ticks\":\"\",\"zerolinecolor\":\"white\",\"gridwidth\":2},\"yaxis\":{\"backgroundcolor\":\"#E5ECF6\",\"gridcolor\":\"white\",\"linecolor\":\"white\",\"showbackground\":true,\"ticks\":\"\",\"zerolinecolor\":\"white\",\"gridwidth\":2},\"zaxis\":{\"backgroundcolor\":\"#E5ECF6\",\"gridcolor\":\"white\",\"linecolor\":\"white\",\"showbackground\":true,\"ticks\":\"\",\"zerolinecolor\":\"white\",\"gridwidth\":2}},\"shapedefaults\":{\"line\":{\"color\":\"#2a3f5f\"}},\"annotationdefaults\":{\"arrowcolor\":\"#2a3f5f\",\"arrowhead\":0,\"arrowwidth\":1},\"geo\":{\"bgcolor\":\"white\",\"landcolor\":\"#E5ECF6\",\"subunitcolor\":\"white\",\"showland\":true,\"showlakes\":true,\"lakecolor\":\"white\"},\"title\":{\"x\":0.05},\"mapbox\":{\"style\":\"light\"}}},\"xaxis\":{\"anchor\":\"y\",\"domain\":[0.0,1.0],\"title\":{\"text\":\"index\"}},\"yaxis\":{\"anchor\":\"x\",\"domain\":[0.0,1.0],\"title\":{\"text\":\"accuracy\"},\"range\":[0,1.2]},\"legend\":{\"tracegroupgap\":0},\"title\":{\"text\":\"Training Accuracy\"},\"shapes\":[{\"label\":{\"text\":\"Median Val Accuracy\",\"textposition\":\"start\"},\"line\":{\"color\":\"orange\",\"dash\":\"dash\"},\"type\":\"line\",\"x0\":0,\"x1\":1,\"xref\":\"x domain\",\"y0\":0.7312775552272797,\"y1\":0.7312775552272797,\"yref\":\"y\"},{\"label\":{\"text\":\"Median Accuracy\",\"textposition\":\"start\"},\"line\":{\"color\":\"blue\",\"dash\":\"dash\"},\"type\":\"line\",\"x0\":0,\"x1\":1,\"xref\":\"x domain\",\"y0\":0.9679245352745056,\"y1\":0.9679245352745056,\"yref\":\"y\"}]},                        {\"responsive\": true}                    ).then(function(){\n",
       "                            \n",
       "var gd = document.getElementById('a5c68df3-02c4-4164-a491-e97eccadae2c');\n",
       "var x = new MutationObserver(function (mutations, observer) {{\n",
       "        var display = window.getComputedStyle(gd).display;\n",
       "        if (!display || display === 'none') {{\n",
       "            console.log([gd, 'removed!']);\n",
       "            Plotly.purge(gd);\n",
       "            observer.disconnect();\n",
       "        }}\n",
       "}});\n",
       "\n",
       "// Listen for the removal of the full notebook cells\n",
       "var notebookContainer = gd.closest('#notebook-container');\n",
       "if (notebookContainer) {{\n",
       "    x.observe(notebookContainer, {childList: true});\n",
       "}}\n",
       "\n",
       "// Listen for the clearing of the current output cell\n",
       "var outputEl = gd.closest('.output');\n",
       "if (outputEl) {{\n",
       "    x.observe(outputEl, {childList: true});\n",
       "}}\n",
       "\n",
       "                        })                };                });            </script>        </div>"
      ]
     },
     "metadata": {},
     "output_type": "display_data"
    }
   ],
   "source": [
    "history_df = pd.DataFrame(history.history)\n",
    "\n",
    "fig = px.line(history_df, x=history_df.index, y=\"accuracy\", markers=True, title=\"Training Accuracy\")\n",
    "fig2 = px.line(history_df, x=history_df.index, y=\"val_accuracy\", markers=True)\n",
    "\n",
    "fig.update_traces(dict(\n",
    "  marker=dict(\n",
    "    color=\"blue\"\n",
    "  ),\n",
    "  line=dict(\n",
    "    color=\"blue\",\n",
    "  ),\n",
    "))\n",
    "fig2.update_traces(dict(\n",
    "  marker=dict(\n",
    "    color=\"orange\"\n",
    "  ),\n",
    "  line=dict(\n",
    "    color=\"orange\",\n",
    "  ),\n",
    "))\n",
    "fig.add_traces(fig2.data)\n",
    "fig.data[0][\"name\"] = \"Accuracy\" # type: ignore\n",
    "fig.data[1][\"name\"] = \"Validation Accuracy\" # type: ignore\n",
    "fig.update_yaxes(dict(range=[0,1.2]))\n",
    "\n",
    "fig.add_hline(y=history_df[\"val_accuracy\"].median(), line_color=\"orange\", line_dash=\"dash\", label=dict(text=\"Median Val Accuracy\", textposition=\"start\"))\n",
    "fig.add_hline(y=history_df[\"accuracy\"].median(), line_color=\"blue\", line_dash=\"dash\", label=dict(text=\"Median Accuracy\", textposition=\"start\"))\n",
    "\n",
    "fig.update_traces(dict(\n",
    "  showlegend=True\n",
    "))\n",
    "fig.show()"
   ]
  }
 ],
 "metadata": {
  "kernelspec": {
   "display_name": "Venv",
   "language": "python",
   "name": "python3"
  },
  "language_info": {
   "codemirror_mode": {
    "name": "ipython",
    "version": 3
   },
   "file_extension": ".py",
   "mimetype": "text/x-python",
   "name": "python",
   "nbconvert_exporter": "python",
   "pygments_lexer": "ipython3",
   "version": "3.11.3"
  }
 },
 "nbformat": 4,
 "nbformat_minor": 2
}
