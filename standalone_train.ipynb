{
 "cells": [
  {
   "cell_type": "code",
   "execution_count": 32,
   "metadata": {},
   "outputs": [
    {
     "data": {
      "text/html": [
       "        <script type=\"text/javascript\">\n",
       "        window.PlotlyConfig = {MathJaxConfig: 'local'};\n",
       "        if (window.MathJax && window.MathJax.Hub && window.MathJax.Hub.Config) {window.MathJax.Hub.Config({SVG: {font: \"STIX-Web\"}});}\n",
       "        if (typeof require !== 'undefined') {\n",
       "        require.undef(\"plotly\");\n",
       "        requirejs.config({\n",
       "            paths: {\n",
       "                'plotly': ['https://cdn.plot.ly/plotly-2.35.2.min']\n",
       "            }\n",
       "        });\n",
       "        require(['plotly'], function(Plotly) {\n",
       "            window._Plotly = Plotly;\n",
       "        });\n",
       "        }\n",
       "        </script>\n",
       "        "
      ]
     },
     "metadata": {},
     "output_type": "display_data"
    }
   ],
   "source": [
    "import shutil\n",
    "import os\n",
    "import zipfile\n",
    "import urllib.request\n",
    "from typing import Optional, Sequence, cast, ClassVar, cast\n",
    "from dataclasses import dataclass\n",
    "\n",
    "import tensorflow as tf\n",
    "import keras\n",
    "import pandas as pd\n",
    "import numpy as np\n",
    "import numpy.typing as npt\n",
    "import cv2 as cv\n",
    "import tqdm\n",
    "\n",
    "import scipy.spatial.distance\n",
    "\n",
    "import sklearn.metrics\n",
    "import sklearn.manifold\n",
    "import sklearn.decomposition\n",
    "\n",
    "import plotly.express as px\n",
    "import plotly.offline\n",
    "\n",
    "import skimage.feature\n",
    "\n",
    "from standalone_preprocessing_library import *\n",
    "\n",
    "plotly.offline.init_notebook_mode(connected=True)"
   ]
  },
  {
   "cell_type": "markdown",
   "metadata": {},
   "source": [
    "Various constants"
   ]
  },
  {
   "cell_type": "code",
   "execution_count": 2,
   "metadata": {},
   "outputs": [],
   "source": [
    "DATA_DIR_PATH = \"data\"\n",
    "DATASET_PATH = \"dataset.zip\"\n",
    "TRAINING_DATA_CSV_PATH = os.path.join(DATA_DIR_PATH, \"data.csv\")\n",
    "\n",
    "MODEL_DIR_PATH = \"models\"\n",
    "EXPRESSION_RECOGNITION_MODEL_PATH = os.path.join(MODEL_DIR_PATH, \"expression_recognition.keras\")\n",
    "LBFMODEL_PATH = os.path.join(MODEL_DIR_PATH, \"lbfmodel.yaml\")\n",
    "CASCADE_CLASSIFIER_PATH = os.path.join(MODEL_DIR_PATH, \"haarcascade_frontalface_default.xml\")\n",
    "\n",
    "STANDARD_DIMENSIONS = Dimension(240, 240)\n",
    "FACE_DIMENSIONS = Dimension(120, 120)\n",
    "PREVIEW_DIMENSIONS = Dimension(500, 500)\n",
    "\n",
    "LBP_HISTOGRAM_BIN_COUNT = 8\n",
    "LBP_GRID_SIZE = (8,8)"
   ]
  },
  {
   "cell_type": "code",
   "execution_count": 3,
   "metadata": {},
   "outputs": [],
   "source": [
    "class SupportedFacialExpressionLabels:\n",
    "  Ours = [\"angry\", \"disgusted\", \"happy\", \"neutral\", \"sad\", \"surprised\"]\n",
    "  Fer2013 = [\"angry\", \"disgust\", \"fear\", \"happy\", \"neutral\", \"sad\", \"surprise\"] \n",
    "  CkPlus = [\"Anger\", \"Disgust\", \"Fear\", \"Happiness\", \"Sadness\", \"Surprise\", \"Neutral\", \"Contempt\"]\n",
    "\n",
    "CLASS_NAMES = SupportedFacialExpressionLabels.Ours"
   ]
  },
  {
   "cell_type": "markdown",
   "metadata": {},
   "source": [
    "Utility functions"
   ]
  },
  {
   "cell_type": "code",
   "execution_count": 4,
   "metadata": {},
   "outputs": [],
   "source": [
    "def get_files_in_folder(basepath: str)->list[str]:\n",
    "  if not os.path.exists(basepath):\n",
    "    return []\n",
    "  file_paths = [os.path.join(basepath, filename) for filename in os.listdir(basepath)]\n",
    "  return [path for path in file_paths if os.path.isfile(path)]\n",
    "\n",
    "def partition_grid(self, rows: int, cols: int)->list[\"Rectangle\"]:\n",
    "  row_delta = int(self.width / rows)\n",
    "  col_delta = int(self.height / cols)\n",
    "  rects: list[\"Rectangle\"] = []\n",
    "  for row in range(rows):\n",
    "    for col in range(cols):\n",
    "      row_start = row * row_delta\n",
    "      col_start = col * col_delta\n",
    "      rect = Rectangle(col_start, row_start, col_start + col_delta, row_start + row_delta)\n",
    "      rects.append(rect)\n",
    "  return rects\n",
    "\n",
    "@dataclass\n",
    "class FaceLandmark:\n",
    "  face_shape: npt.NDArray\n",
    "  eyes: npt.NDArray\n",
    "  eyebrows: npt.NDArray\n",
    "  nose: npt.NDArray\n",
    "  lips: npt.NDArray\n",
    "  dims: Dimension\n",
    "\n",
    "  @property\n",
    "  def feature_points(self)->npt.NDArray:\n",
    "    return np.vstack([self.eyes, self.eyebrows, self.nose, self.lips])\n",
    "\n",
    "  def as_feature_vector(self)->npt.NDArray:\n",
    "    # https://arxiv.org/pdf/1812.04510\n",
    "    # 17 points are dedicated for the shape of the face, which we don't really need.\n",
    "    normalized_points = self.feature_points / np.array((self.dims.width, self.dims.height))\n",
    "    interdistance_map = scipy.spatial.distance.cdist(normalized_points, normalized_points, \"euclidean\").flatten()\n",
    "    # All diagonal values are excluded\n",
    "    excluded_points = np.eye(len(self.feature_points)).flatten() == 1\n",
    "\n",
    "    # Square the interdistance map to make larger differences more prominent\n",
    "    interdistance_map = np.power(interdistance_map[~excluded_points], 2)\n",
    "\n",
    "    # Also calculate the distance to the average point in the face\n",
    "    average_point = normalized_points.mean(axis=0)\n",
    "    distances_to_center = scipy.spatial.distance.cdist(np.array([average_point]), normalized_points, \"euclidean\")[0]\n",
    "\n",
    "    feature_vector = np.hstack((interdistance_map, distances_to_center))\n",
    "\n",
    "    return feature_vector\n",
    "\n",
    "\n",
    "  EYE_COLOR: ClassVar[tuple[int, int, int]] = (0, 0, 255)\n",
    "  LIP_COLOR: ClassVar[tuple[int, int, int]] = (0, 255, 0)\n",
    "  NOSE_COLOR: ClassVar[tuple[int, int, int]] = (255, 0, 0)\n",
    "  FACE_SHAPE_COLOR: ClassVar[tuple[int, int, int]] = (255, 255, 0)\n",
    "  EYEBROW_COLOR: ClassVar[tuple[int, int, int]] = (0, 255, 255)\n",
    "\n",
    "  def project_point(self, point: npt.NDArray, rect: Optional[Rectangle] = None)->Sequence[int]:\n",
    "    if rect is None:\n",
    "      return cast(Sequence[int], point.astype(np.int32))\n",
    "    projected_point = point * rect.dimensions.ndarray / self.dims.ndarray\n",
    "    return cast(Sequence[int], (projected_point + rect.p0.ndarray).astype(np.int32))\n",
    "  \n",
    "  def draw_on(self, img: cv.typing.MatLike, *, offset: Optional[Rectangle] = None):\n",
    "    for point in self.eyes:\n",
    "      cv.circle(img, self.project_point(point, offset), 1, self.EYE_COLOR, -1)\n",
    "    for point in self.lips:\n",
    "      cv.circle(img, self.project_point(point, offset), 1, self.LIP_COLOR, -1)\n",
    "    for point in self.nose:\n",
    "      cv.circle(img, self.project_point(point, offset), 1, self.NOSE_COLOR, -1)\n",
    "    for point in self.face_shape:\n",
    "      cv.circle(img, self.project_point(point, offset), 1, self.FACE_SHAPE_COLOR, -1)\n",
    "    for point in self.eyebrows:\n",
    "      cv.circle(img, self.project_point(point, offset), 1, self.EYEBROW_COLOR, -1)\n",
    "\n",
    "  @staticmethod\n",
    "  def from_raw_landmark(points: npt.NDArray, dims: Dimension):\n",
    "    return FaceLandmark(\n",
    "      face_shape=points[:17],\n",
    "      eyebrows=points[17:27],\n",
    "      nose=points[27:36],\n",
    "      eyes=points[36:48],\n",
    "      lips=points[48:],\n",
    "      dims=dims\n",
    "    )\n",
    "  \n",
    "def face_alignment(img: cv.typing.MatLike, landmark: FaceLandmark):\n",
    "  # https://pyimagesearch.com/2017/05/22/face-alignment-with-opencv-and-python/\n",
    "  dims = Dimension.from_shape(img.shape)\n",
    "  desired_left_eye = Point(int(dims.width * 0.22), int(dims.height * 0.25))\n",
    "  desired_right_eye_x = FACE_DIMENSIONS.width - desired_left_eye.x\n",
    "\n",
    "  left_eye_avg = landmark.eyes[0:6].mean(axis=0)\n",
    "  right_eye_avg = landmark.eyes[6:].mean(axis=0)\n",
    "\n",
    "  delta = right_eye_avg - left_eye_avg\n",
    "  angle = np.degrees(np.arctan2(delta[1], delta[0]))\n",
    "\n",
    "  dist = np.sqrt(delta[0] ** 2 + delta[1] ** 2)\n",
    "  desired_dist = desired_right_eye_x - desired_left_eye.x\n",
    "  scale = desired_dist / dist\n",
    "\n",
    "  eyes_center = np.array([left_eye_avg, right_eye_avg]).mean(axis=0)\n",
    "  rotation_matrix = cv.getRotationMatrix2D(eyes_center, angle, scale)\n",
    "\n",
    "  translation_x = FACE_DIMENSIONS.width * 0.5\n",
    "  translation_y = desired_left_eye.y\n",
    "  rotation_matrix[0, 2] += (translation_x - eyes_center[0])\n",
    "  rotation_matrix[1, 2] += (translation_y - eyes_center[1])\n",
    "\n",
    "  img = cv.warpAffine(img, rotation_matrix, FACE_DIMENSIONS.tuple, flags=cv.INTER_CUBIC)\n",
    "\n",
    "  return img\n"
   ]
  },
  {
   "cell_type": "markdown",
   "metadata": {},
   "source": [
    "Load various preprocessing models"
   ]
  },
  {
   "cell_type": "code",
   "execution_count": 5,
   "metadata": {},
   "outputs": [],
   "source": [
    "# https://medium.com/analytics-vidhya/facial-landmarks-and-face-detection-in-python-with-opencv-73979391f30e\n",
    "LBFMODEL_URL = \"https://github.com/kurnianggoro/GSOC2017/raw/master/data/lbfmodel.yaml\"\n",
    "if not os.path.exists(LBFMODEL_PATH):\n",
    "  print(f\"Cannot find any LBFmodel installation. Installing from {LBFMODEL_URL} to {LBFMODEL_PATH}\")\n",
    "  urllib.request.urlretrieve(LBFMODEL_URL, LBFMODEL_PATH)\n",
    "landmark_model = cv.face.createFacemarkLBF()\n",
    "landmark_model.loadModel(LBFMODEL_PATH)"
   ]
  },
  {
   "cell_type": "code",
   "execution_count": 6,
   "metadata": {},
   "outputs": [],
   "source": [
    "CASCADE_CLASSIFIER_URL = \"https://raw.githubusercontent.com/opencv/opencv/refs/heads/4.x/data/haarcascades/haarcascade_frontalface_default.xml\"\n",
    "if not os.path.exists(CASCADE_CLASSIFIER_PATH):\n",
    "  urllib.request.urlretrieve(CASCADE_CLASSIFIER_URL, CASCADE_CLASSIFIER_PATH) \n",
    "locator_model = cv.CascadeClassifier(CASCADE_CLASSIFIER_PATH)\n",
    "locator_model.load(CASCADE_CLASSIFIER_PATH)\n",
    "\n",
    "clahe = cv.createCLAHE(tileGridSize=(8, 8), clipLimit=2.0)"
   ]
  },
  {
   "cell_type": "markdown",
   "metadata": {},
   "source": [
    "Dump the contents of the zip file into the data folder. You don't have to run this if this has been performed."
   ]
  },
  {
   "cell_type": "code",
   "execution_count": 7,
   "metadata": {},
   "outputs": [],
   "source": [
    "if (os.path.exists(DATA_DIR_PATH)):\n",
    "  shutil.rmtree(DATA_DIR_PATH)\n",
    "with zipfile.ZipFile(DATASET_PATH, 'r') as zip_ref:\n",
    "  zip_ref.extractall(DATA_DIR_PATH)"
   ]
  },
  {
   "cell_type": "markdown",
   "metadata": {},
   "source": [
    "List all folder contents"
   ]
  },
  {
   "cell_type": "code",
   "execution_count": 8,
   "metadata": {},
   "outputs": [],
   "source": [
    "@dataclass\n",
    "class TrainDataEntry:\n",
    "  path: str\n",
    "  label: int\n",
    "\n",
    "entries: list[TrainDataEntry] = []\n",
    "for folder in os.scandir(DATA_DIR_PATH):\n",
    "  if not folder.is_dir():\n",
    "    continue\n",
    "  try:\n",
    "    expression = CLASS_NAMES.index(folder.name)\n",
    "  except ValueError:\n",
    "    print(f\"Skipping the inclusion of {folder.name} in the dataset.\")\n",
    "    continue\n",
    "\n",
    "  entries.extend(map(\n",
    "    lambda fpath: TrainDataEntry(path=fpath, label=expression),\n",
    "    get_files_in_folder(folder.path)\n",
    "  ))"
   ]
  },
  {
   "cell_type": "markdown",
   "metadata": {},
   "source": [
    "Execute data preprocessing steps for our dataset"
   ]
  },
  {
   "cell_type": "code",
   "execution_count": 44,
   "metadata": {},
   "outputs": [
    {
     "name": "stderr",
     "output_type": "stream",
     "text": [
      "Building dataset from images:   0%|          | 0/1089 [00:00<?, ?it/s]"
     ]
    },
    {
     "name": "stdout",
     "output_type": "stream",
     "text": [
      "\n",
      "Skipping data\\angry\\20240927_173906.jpg because no faces were found in the image.\n"
     ]
    },
    {
     "name": "stderr",
     "output_type": "stream",
     "text": [
      "Building dataset from images:   1%|          | 9/1089 [00:00<01:07, 15.91it/s]"
     ]
    },
    {
     "name": "stdout",
     "output_type": "stream",
     "text": [
      "\n",
      "Skipping data\\angry\\20241008_180500.jpg because no faces were found in the image.\n",
      "\n",
      "Skipping data\\angry\\20241008_180548.jpg because no faces were found in the image.\n"
     ]
    },
    {
     "name": "stderr",
     "output_type": "stream",
     "text": [
      "Building dataset from images:   1%|▏         | 14/1089 [00:01<01:14, 14.38it/s]"
     ]
    },
    {
     "name": "stdout",
     "output_type": "stream",
     "text": [
      "\n",
      "Skipping data\\angry\\20241008_180735.jpg because no faces were found in the image.\n",
      "\n",
      "Skipping data\\angry\\20241008_180740.jpg because no faces were found in the image.\n"
     ]
    },
    {
     "name": "stderr",
     "output_type": "stream",
     "text": [
      "Building dataset from images:   9%|▉         | 100/1089 [00:07<01:24, 11.73it/s]"
     ]
    },
    {
     "name": "stdout",
     "output_type": "stream",
     "text": [
      "\n",
      "Skipping data\\angry\\marah_4.jpg because no faces were found in the image.\n",
      "\n",
      "Skipping data\\angry\\marah_5.jpg because no faces were found in the image.\n",
      "\n",
      "Skipping data\\angry\\marah_7.jpg because no faces were found in the image.\n"
     ]
    },
    {
     "name": "stderr",
     "output_type": "stream",
     "text": [
      "Building dataset from images:  11%|█         | 116/1089 [00:08<01:07, 14.52it/s]"
     ]
    },
    {
     "name": "stdout",
     "output_type": "stream",
     "text": [
      "\n",
      "Skipping data\\angry\\Resize_20241210_223059_9926.jpg because no faces were found in the image.\n",
      "\n",
      "Skipping data\\angry\\Resize_20241210_223104_4667.jpg because no faces were found in the image.\n",
      "\n",
      "Skipping data\\angry\\Resize_20241210_223109_9133.jpg because no faces were found in the image.\n"
     ]
    },
    {
     "name": "stderr",
     "output_type": "stream",
     "text": [
      "Building dataset from images:  12%|█▏        | 128/1089 [00:08<00:53, 18.00it/s]"
     ]
    },
    {
     "name": "stdout",
     "output_type": "stream",
     "text": [
      "\n",
      "Skipping data\\angry\\Resize_20241210_223148_8201.jpg because no faces were found in the image.\n",
      "\n",
      "Skipping data\\angry\\Resize_20241210_223150_0517.jpg because no faces were found in the image.\n",
      "\n",
      "Skipping data\\angry\\Resize_20241210_223152_2656.jpg because no faces were found in the image.\n"
     ]
    },
    {
     "name": "stderr",
     "output_type": "stream",
     "text": [
      "Building dataset from images:  12%|█▏        | 135/1089 [00:09<00:49, 19.10it/s]"
     ]
    },
    {
     "name": "stdout",
     "output_type": "stream",
     "text": [
      "\n",
      "Skipping data\\angry\\Resize_20241210_223217_7806.jpg because no faces were found in the image.\n",
      "\n",
      "Skipping data\\angry\\Resize_20241210_223227_7281.jpg because no faces were found in the image.\n"
     ]
    },
    {
     "name": "stderr",
     "output_type": "stream",
     "text": [
      "Building dataset from images:  13%|█▎        | 141/1089 [00:09<00:46, 20.37it/s]"
     ]
    },
    {
     "name": "stdout",
     "output_type": "stream",
     "text": [
      "\n",
      "Skipping data\\angry\\Resize_20241210_223229_9963.jpg because no faces were found in the image.\n",
      "\n",
      "Skipping data\\angry\\Resize_20241210_223234_4400.jpg because no faces were found in the image.\n"
     ]
    },
    {
     "name": "stderr",
     "output_type": "stream",
     "text": [
      "Building dataset from images:  16%|█▌        | 171/1089 [00:11<00:43, 21.01it/s]"
     ]
    },
    {
     "name": "stdout",
     "output_type": "stream",
     "text": [
      "\n",
      "Skipping data\\disgusted\\20241008_180238.jpg because no faces were found in the image.\n"
     ]
    },
    {
     "name": "stderr",
     "output_type": "stream",
     "text": [
      "Building dataset from images:  23%|██▎       | 249/1089 [00:16<01:09, 12.01it/s]"
     ]
    },
    {
     "name": "stdout",
     "output_type": "stream",
     "text": [
      "\n",
      "Skipping data\\disgusted\\IMG_20241010_213941_9_11zon.jpg because no faces were found in the image.\n"
     ]
    },
    {
     "name": "stderr",
     "output_type": "stream",
     "text": [
      "Building dataset from images:  27%|██▋       | 289/1089 [00:18<00:52, 15.21it/s]"
     ]
    },
    {
     "name": "stdout",
     "output_type": "stream",
     "text": [
      "\n",
      "Skipping data\\disgusted\\jijik_7.jpg because no faces were found in the image.\n"
     ]
    },
    {
     "name": "stderr",
     "output_type": "stream",
     "text": [
      "Building dataset from images:  29%|██▉       | 318/1089 [00:20<00:41, 18.36it/s]"
     ]
    },
    {
     "name": "stdout",
     "output_type": "stream",
     "text": [
      "\n",
      "Skipping data\\disgusted\\WA_Disgusted_195915-min.jpg because no faces were found in the image.\n"
     ]
    },
    {
     "name": "stderr",
     "output_type": "stream",
     "text": [
      "Building dataset from images:  43%|████▎     | 469/1089 [00:32<00:38, 16.06it/s]"
     ]
    },
    {
     "name": "stdout",
     "output_type": "stream",
     "text": [
      "\n",
      "Skipping data\\happy\\IMG_20241215_230738.jpg because no faces were found in the image.\n"
     ]
    },
    {
     "name": "stderr",
     "output_type": "stream",
     "text": [
      "Building dataset from images:  45%|████▌     | 494/1089 [00:33<00:39, 15.00it/s]"
     ]
    },
    {
     "name": "stdout",
     "output_type": "stream",
     "text": [
      "\n",
      "Skipping data\\happy\\Resize_20241210_223206_6401.jpg because no faces were found in the image.\n"
     ]
    },
    {
     "name": "stderr",
     "output_type": "stream",
     "text": [
      "Building dataset from images:  46%|████▌     | 502/1089 [00:34<00:45, 12.86it/s]"
     ]
    },
    {
     "name": "stdout",
     "output_type": "stream",
     "text": [
      "\n",
      "Skipping data\\happy\\Resize_20241210_223245_5560.jpg because no faces were found in the image.\n"
     ]
    },
    {
     "name": "stderr",
     "output_type": "stream",
     "text": [
      "Building dataset from images:  47%|████▋     | 509/1089 [00:35<00:39, 14.84it/s]"
     ]
    },
    {
     "name": "stdout",
     "output_type": "stream",
     "text": [
      "\n",
      "Skipping data\\happy\\Resize_20241210_223303_3593.jpg because no faces were found in the image.\n"
     ]
    },
    {
     "name": "stderr",
     "output_type": "stream",
     "text": [
      "Building dataset from images:  47%|████▋     | 513/1089 [00:35<00:40, 14.25it/s]"
     ]
    },
    {
     "name": "stdout",
     "output_type": "stream",
     "text": [
      "\n",
      "Skipping data\\happy\\Resize_20241210_223315_5498.jpg because no faces were found in the image.\n"
     ]
    },
    {
     "name": "stderr",
     "output_type": "stream",
     "text": [
      "Building dataset from images:  48%|████▊     | 523/1089 [00:36<00:43, 12.95it/s]"
     ]
    },
    {
     "name": "stdout",
     "output_type": "stream",
     "text": [
      "\n",
      "Skipping data\\happy\\senyum_4.jpg because no faces were found in the image.\n",
      "\n",
      "Skipping data\\happy\\senyum_5.jpg because no faces were found in the image.\n"
     ]
    },
    {
     "name": "stderr",
     "output_type": "stream",
     "text": [
      "Building dataset from images:  52%|█████▏    | 565/1089 [00:38<00:31, 16.70it/s]"
     ]
    },
    {
     "name": "stdout",
     "output_type": "stream",
     "text": [
      "\n",
      "Skipping data\\neutral\\20240927_173857.jpg because no faces were found in the image.\n"
     ]
    },
    {
     "name": "stderr",
     "output_type": "stream",
     "text": [
      "Building dataset from images:  52%|█████▏    | 571/1089 [00:39<00:40, 12.66it/s]"
     ]
    },
    {
     "name": "stdout",
     "output_type": "stream",
     "text": [
      "\n",
      "Skipping data\\neutral\\20241008_181350.jpg because no faces were found in the image.\n"
     ]
    },
    {
     "name": "stderr",
     "output_type": "stream",
     "text": [
      "Building dataset from images:  60%|██████    | 658/1089 [00:46<00:35, 12.09it/s]"
     ]
    },
    {
     "name": "stdout",
     "output_type": "stream",
     "text": [
      "\n",
      "Skipping data\\neutral\\IMG_20241215_231542.jpg because no faces were found in the image.\n"
     ]
    },
    {
     "name": "stderr",
     "output_type": "stream",
     "text": [
      "Building dataset from images:  65%|██████▍   | 705/1089 [00:49<00:19, 19.48it/s]"
     ]
    },
    {
     "name": "stdout",
     "output_type": "stream",
     "text": [
      "\n",
      "Skipping data\\neutral\\Resize_20241210_223106_6875.jpg because no faces were found in the image.\n",
      "\n",
      "Skipping data\\neutral\\Resize_20241210_223115_5905.jpg because no faces were found in the image.\n"
     ]
    },
    {
     "name": "stderr",
     "output_type": "stream",
     "text": [
      "Building dataset from images:  66%|██████▌   | 717/1089 [00:50<00:24, 15.08it/s]"
     ]
    },
    {
     "name": "stdout",
     "output_type": "stream",
     "text": [
      "\n",
      "Skipping data\\neutral\\WhatsApp Image 2024-09-19 at 12.24.47 PM.jpg because no faces were found in the image.\n"
     ]
    },
    {
     "name": "stderr",
     "output_type": "stream",
     "text": [
      "Building dataset from images:  66%|██████▋   | 723/1089 [00:51<00:18, 19.28it/s]"
     ]
    },
    {
     "name": "stdout",
     "output_type": "stream",
     "text": [
      "\n",
      "Skipping data\\neutral\\WhatsApp Image 2024-12-17 at 23.39.51 (2).jpg because no faces were found in the image.\n",
      "\n",
      "Skipping data\\neutral\\WhatsApp Image 2024-12-17 at 23.39.52 (1).jpg because no faces were found in the image.\n",
      "\n",
      "Skipping data\\neutral\\WhatsApp Image 2024-12-17 at 23.39.52 (2).jpg because no faces were found in the image.\n",
      "\n",
      "Skipping data\\neutral\\WhatsApp Image 2024-12-17 at 23.39.52.jpg because no faces were found in the image.\n"
     ]
    },
    {
     "name": "stderr",
     "output_type": "stream",
     "text": [
      "Building dataset from images:  67%|██████▋   | 726/1089 [00:51<00:17, 20.36it/s]"
     ]
    },
    {
     "name": "stdout",
     "output_type": "stream",
     "text": [
      "\n",
      "Skipping data\\neutral\\WhatsApp Image 2024-12-17 at 23.39.53 (1).jpg because no faces were found in the image.\n",
      "\n",
      "Skipping data\\neutral\\WhatsApp Image 2024-12-17 at 23.39.53 (2).jpg because no faces were found in the image.\n",
      "\n",
      "Skipping data\\neutral\\WhatsApp Image 2024-12-17 at 23.39.53.jpg because no faces were found in the image.\n",
      "\n",
      "Skipping data\\neutral\\WhatsApp Image 2024-12-17 at 23.39.54 (1).jpg because no faces were found in the image.\n",
      "\n",
      "Skipping data\\neutral\\WhatsApp Image 2024-12-17 at 23.39.54 (2).jpg because no faces were found in the image.\n"
     ]
    },
    {
     "name": "stderr",
     "output_type": "stream",
     "text": [
      "Building dataset from images:  67%|██████▋   | 732/1089 [00:51<00:15, 22.36it/s]"
     ]
    },
    {
     "name": "stdout",
     "output_type": "stream",
     "text": [
      "\n",
      "Skipping data\\neutral\\WhatsApp Image 2024-12-17 at 23.39.54.jpg because no faces were found in the image.\n",
      "\n",
      "Skipping data\\neutral\\WhatsApp Image 2024-12-17 at 23.39.55 (1).jpg because no faces were found in the image.\n",
      "\n",
      "Skipping data\\neutral\\WhatsApp Image 2024-12-17 at 23.39.55 (2).jpg because no faces were found in the image.\n",
      "\n",
      "Skipping data\\neutral\\WhatsApp Image 2024-12-17 at 23.39.55.jpg because no faces were found in the image.\n",
      "\n",
      "Skipping data\\neutral\\WhatsApp Image 2024-12-17 at 23.39.56 (1).jpg because no faces were found in the image.\n"
     ]
    },
    {
     "name": "stderr",
     "output_type": "stream",
     "text": [
      "Building dataset from images:  68%|██████▊   | 738/1089 [00:51<00:17, 20.48it/s]"
     ]
    },
    {
     "name": "stdout",
     "output_type": "stream",
     "text": [
      "\n",
      "Skipping data\\neutral\\WhatsApp Image 2024-12-17 at 23.39.56.jpg because no faces were found in the image.\n",
      "\n",
      "Skipping data\\neutral\\WhatsApp Image 2024-12-17 at 23.39.57.jpg because no faces were found in the image.\n"
     ]
    },
    {
     "name": "stderr",
     "output_type": "stream",
     "text": [
      "Building dataset from images:  76%|███████▌  | 827/1089 [00:58<00:20, 12.74it/s]"
     ]
    },
    {
     "name": "stdout",
     "output_type": "stream",
     "text": [
      "\n",
      "Skipping data\\sad\\IMG_20241215_230952.jpg because no faces were found in the image.\n"
     ]
    },
    {
     "name": "stderr",
     "output_type": "stream",
     "text": [
      "Building dataset from images:  79%|███████▉  | 864/1089 [01:01<00:12, 17.56it/s]"
     ]
    },
    {
     "name": "stdout",
     "output_type": "stream",
     "text": [
      "\n",
      "Skipping data\\sad\\Resize_20241210_222832_2123.jpg because no faces were found in the image.\n",
      "\n",
      "Skipping data\\sad\\Resize_20241210_222839_9322.jpg because no faces were found in the image.\n"
     ]
    },
    {
     "name": "stderr",
     "output_type": "stream",
     "text": [
      "Building dataset from images:  80%|████████  | 872/1089 [01:01<00:11, 18.98it/s]"
     ]
    },
    {
     "name": "stdout",
     "output_type": "stream",
     "text": [
      "\n",
      "Skipping data\\sad\\Resize_20241210_222845_5876.jpg because no faces were found in the image.\n",
      "\n",
      "Skipping data\\sad\\Resize_20241210_222850_0264.jpg because no faces were found in the image.\n",
      "\n",
      "Skipping data\\sad\\Resize_20241210_222852_2560.jpg because no faces were found in the image.\n"
     ]
    },
    {
     "name": "stderr",
     "output_type": "stream",
     "text": [
      "Building dataset from images:  81%|████████  | 878/1089 [01:02<00:13, 15.82it/s]"
     ]
    },
    {
     "name": "stdout",
     "output_type": "stream",
     "text": [
      "\n",
      "Skipping data\\sad\\Resize_20241210_223123_3199.jpg because no faces were found in the image.\n"
     ]
    },
    {
     "name": "stderr",
     "output_type": "stream",
     "text": [
      "Building dataset from images:  81%|████████  | 884/1089 [01:02<00:14, 13.75it/s]"
     ]
    },
    {
     "name": "stdout",
     "output_type": "stream",
     "text": [
      "\n",
      "Skipping data\\sad\\sedih_5.jpg because no faces were found in the image.\n",
      "\n",
      "Skipping data\\sad\\sedih_7.jpg because no faces were found in the image.\n"
     ]
    },
    {
     "name": "stderr",
     "output_type": "stream",
     "text": [
      "Building dataset from images:  83%|████████▎ | 905/1089 [01:03<00:10, 17.79it/s]"
     ]
    },
    {
     "name": "stdout",
     "output_type": "stream",
     "text": [
      "\n",
      "Skipping data\\sad\\WhatsApp Image 2024-12-17 at 23.31.37 (1).jpg because no faces were found in the image.\n",
      "\n",
      "Skipping data\\sad\\WhatsApp Image 2024-12-17 at 23.31.37 (2).jpg because no faces were found in the image.\n",
      "\n",
      "Skipping data\\sad\\WhatsApp Image 2024-12-17 at 23.31.38 (2).jpg because no faces were found in the image.\n"
     ]
    },
    {
     "name": "stderr",
     "output_type": "stream",
     "text": [
      "Building dataset from images:  84%|████████▎ | 910/1089 [01:04<00:09, 18.44it/s]"
     ]
    },
    {
     "name": "stdout",
     "output_type": "stream",
     "text": [
      "\n",
      "Skipping data\\sad\\WhatsApp Image 2024-12-17 at 23.31.38.jpg because no faces were found in the image.\n",
      "\n",
      "Skipping data\\sad\\WhatsApp Image 2024-12-17 at 23.31.39 (2).jpg because no faces were found in the image.\n"
     ]
    },
    {
     "name": "stderr",
     "output_type": "stream",
     "text": [
      "Building dataset from images:  84%|████████▍ | 916/1089 [01:04<00:09, 17.68it/s]"
     ]
    },
    {
     "name": "stdout",
     "output_type": "stream",
     "text": [
      "\n",
      "Skipping data\\sad\\WhatsApp Image 2024-12-17 at 23.31.40 (2).jpg because no faces were found in the image.\n",
      "\n",
      "Skipping data\\sad\\WhatsApp Image 2024-12-17 at 23.31.41 (1).jpg because no faces were found in the image.\n"
     ]
    },
    {
     "name": "stderr",
     "output_type": "stream",
     "text": [
      "Building dataset from images:  85%|████████▌ | 928/1089 [01:05<00:10, 16.07it/s]"
     ]
    },
    {
     "name": "stdout",
     "output_type": "stream",
     "text": [
      "\n",
      "Skipping data\\surprised\\20241008_181307.jpg because no faces were found in the image.\n"
     ]
    },
    {
     "name": "stderr",
     "output_type": "stream",
     "text": [
      "Building dataset from images:  92%|█████████▏| 1004/1089 [01:11<00:06, 12.52it/s]"
     ]
    },
    {
     "name": "stdout",
     "output_type": "stream",
     "text": [
      "\n",
      "Skipping data\\surprised\\IMG_20241215_231052_1.jpg because no faces were found in the image.\n"
     ]
    },
    {
     "name": "stderr",
     "output_type": "stream",
     "text": [
      "Building dataset from images:  93%|█████████▎| 1014/1089 [01:12<00:05, 12.53it/s]"
     ]
    },
    {
     "name": "stdout",
     "output_type": "stream",
     "text": [
      "\n",
      "Skipping data\\surprised\\IMG_20241215_231102.jpg because no faces were found in the image.\n"
     ]
    },
    {
     "name": "stderr",
     "output_type": "stream",
     "text": [
      "Building dataset from images:  94%|█████████▍| 1027/1089 [01:13<00:04, 14.16it/s]"
     ]
    },
    {
     "name": "stdout",
     "output_type": "stream",
     "text": [
      "\n",
      "Skipping data\\surprised\\Resize_20241210_222854_4662.jpg because no faces were found in the image.\n",
      "\n",
      "Skipping data\\surprised\\Resize_20241210_222856_6766.jpg because no faces were found in the image.\n"
     ]
    },
    {
     "name": "stderr",
     "output_type": "stream",
     "text": [
      "Building dataset from images:  96%|█████████▋| 1049/1089 [01:14<00:02, 16.61it/s]"
     ]
    },
    {
     "name": "stdout",
     "output_type": "stream",
     "text": [
      "\n",
      "Skipping data\\surprised\\Resize_20241210_223046_6304.jpg because no faces were found in the image.\n"
     ]
    },
    {
     "name": "stderr",
     "output_type": "stream",
     "text": [
      "Building dataset from images:  97%|█████████▋| 1055/1089 [01:15<00:02, 14.46it/s]"
     ]
    },
    {
     "name": "stdout",
     "output_type": "stream",
     "text": [
      "\n",
      "Skipping data\\surprised\\terkejut_4.jpg because no faces were found in the image.\n",
      "\n",
      "Skipping data\\surprised\\terkejut_5.jpg because no faces were found in the image.\n"
     ]
    },
    {
     "name": "stderr",
     "output_type": "stream",
     "text": [
      "Building dataset from images: 100%|██████████| 1089/1089 [01:17<00:00, 14.11it/s]\n"
     ]
    },
    {
     "name": "stdout",
     "output_type": "stream",
     "text": [
      "Skipped over 75 images because no faces were found in the images.\n"
     ]
    }
   ],
   "source": [
    "skipped = 0\n",
    "list_data: list[npt.NDArray] = []\n",
    "list_labels: list[int] = []\n",
    "for entry in tqdm.tqdm(entries, desc=\"Building dataset from images\"):\n",
    "  original = cv.imread(entry.path)\n",
    "  \n",
    "  # Preprocessing\n",
    "  img_resized = resize_image(original, STANDARD_DIMENSIONS)\n",
    "  img_grayscale = cv.cvtColor(img_resized, cv.COLOR_BGR2GRAY)\n",
    "  img_clahe = clahe.apply(img_grayscale)\n",
    "\n",
    "  # Extract face coordinates\n",
    "  face_coordinates = locator_model.detectMultiScale(img_clahe)\n",
    "  face_rects = list(Rectangle.from_tuple(coords) for coords in face_coordinates)\n",
    "  face_rects.sort(key=lambda x: x.area)\n",
    "  saved_face_rects: list[Rectangle] = []\n",
    "  # Prevent overlapping face rectangles\n",
    "  for face_rect_a in face_rects:\n",
    "    is_overlapping = False\n",
    "    for face_rect_b in saved_face_rects:\n",
    "      IOU = face_rect_a.intersection_with_union(face_rect_b)\n",
    "      if IOU > 0.4:\n",
    "        is_overlapping = True\n",
    "        break\n",
    "\n",
    "    if not is_overlapping:\n",
    "      saved_face_rects.append(face_rect_a)\n",
    "\n",
    "  # Get faces from original image\n",
    "  faces = list(\n",
    "    img_clahe[pos.slice]\n",
    "    for pos in face_rects\n",
    "  )\n",
    "\n",
    "  features: list[npt.NDArray] = []\n",
    "  for raw_face_img in faces:\n",
    "    # Additional preprocessing\n",
    "    face_resized = cv.resize(raw_face_img, FACE_DIMENSIONS.tuple, interpolation=cv.INTER_CUBIC)\n",
    "    face_blurred = cv.filter2D(face_resized, -1, GAUSSIAN_3X3_KERNEL)\n",
    "    face_preprocessed = cv.filter2D(face_blurred, -1, SHARPEN_KERNEL)\n",
    "\n",
    "    # Get face landmarks\n",
    "    _, raw_face_landmarks = landmark_model.fit(face_preprocessed, np.array(((0, 0, face_preprocessed.shape[0], face_preprocessed.shape[1]),)))\n",
    "    face_landmark_points: npt.NDArray = raw_face_landmarks[0][0]\n",
    "    face_landmark = FaceLandmark(\n",
    "      face_shape=face_landmark_points[:17],\n",
    "      eyebrows=face_landmark_points[17:27],\n",
    "      nose=face_landmark_points[27:36],\n",
    "      eyes=face_landmark_points[36:48],\n",
    "      lips=face_landmark_points[48:],\n",
    "      dims=Dimension.from_shape(face_preprocessed.shape)\n",
    "    )\n",
    "    face_dims = Dimension.from_shape(raw_face_img.shape)\n",
    "    face_landmark = FaceLandmark.from_raw_landmark(face_landmark_points, face_dims)\n",
    "    face_aligned = face_alignment(face_preprocessed, face_landmark)\n",
    "\n",
    "    # Split image to grids for LBP\n",
    "    lbp_grid_rects = partition_grid(face_dims, *LBP_GRID_SIZE)\n",
    "    histograms: list[npt.NDArray] = []\n",
    "\n",
    "    # Perform LBP\n",
    "    lbp_image: npt.NDArray = skimage.feature.local_binary_pattern(face_aligned, 8, 1)\n",
    "    for lbp_grid_rect in lbp_grid_rects:\n",
    "      chunk = lbp_image[lbp_grid_rect.slice]\n",
    "\n",
    "      if chunk.size == 0:\n",
    "        histograms.append(np.full((LBP_HISTOGRAM_BIN_COUNT,), 0))\n",
    "        continue\n",
    "      histograms.append(scipy.ndimage.histogram(chunk, 0, 255, LBP_HISTOGRAM_BIN_COUNT) / chunk.size)\n",
    "\n",
    "    feature_vector = np.hstack(histograms)\n",
    "    features.append(feature_vector)\n",
    "\n",
    "  if len(features) == 0:\n",
    "    print(f\"\\nSkipping {entry.path} because no faces were found in the image.\")\n",
    "    skipped += 1\n",
    "    continue\n",
    "  list_data.extend(features)\n",
    "  list_labels.extend([entry.label] * len(features))\n",
    "\n",
    "print(f\"Skipped over {skipped} images because no faces were found in the images.\")\n",
    "\n",
    "data = np.array(list_data)\n",
    "labels = np.array(list_labels).reshape((-1, 1))\n",
    "dfdata = np.hstack((labels, data))\n",
    "df = pd.DataFrame(dfdata, columns=[\n",
    "  \"label\",\n",
    "  *map(lambda idx: f'feature-{idx + 1}', range(data.shape[1])),\n",
    "])\n",
    "\n",
    "df.to_csv(TRAINING_DATA_CSV_PATH, index=False)"
   ]
  },
  {
   "cell_type": "markdown",
   "metadata": {},
   "source": [
    "Start training process"
   ]
  },
  {
   "cell_type": "code",
   "execution_count": 45,
   "metadata": {},
   "outputs": [
    {
     "data": {
      "text/html": [
       "<div>\n",
       "<style scoped>\n",
       "    .dataframe tbody tr th:only-of-type {\n",
       "        vertical-align: middle;\n",
       "    }\n",
       "\n",
       "    .dataframe tbody tr th {\n",
       "        vertical-align: top;\n",
       "    }\n",
       "\n",
       "    .dataframe thead th {\n",
       "        text-align: right;\n",
       "    }\n",
       "</style>\n",
       "<table border=\"1\" class=\"dataframe\">\n",
       "  <thead>\n",
       "    <tr style=\"text-align: right;\">\n",
       "      <th></th>\n",
       "      <th>feature-1</th>\n",
       "      <th>feature-2</th>\n",
       "      <th>feature-3</th>\n",
       "      <th>feature-4</th>\n",
       "      <th>feature-5</th>\n",
       "      <th>feature-6</th>\n",
       "      <th>feature-7</th>\n",
       "      <th>feature-8</th>\n",
       "      <th>feature-9</th>\n",
       "      <th>feature-10</th>\n",
       "      <th>...</th>\n",
       "      <th>feature-503</th>\n",
       "      <th>feature-504</th>\n",
       "      <th>feature-505</th>\n",
       "      <th>feature-506</th>\n",
       "      <th>feature-507</th>\n",
       "      <th>feature-508</th>\n",
       "      <th>feature-509</th>\n",
       "      <th>feature-510</th>\n",
       "      <th>feature-511</th>\n",
       "      <th>feature-512</th>\n",
       "    </tr>\n",
       "  </thead>\n",
       "  <tbody>\n",
       "    <tr>\n",
       "      <th>0</th>\n",
       "      <td>0.376731</td>\n",
       "      <td>0.041551</td>\n",
       "      <td>0.016620</td>\n",
       "      <td>0.058172</td>\n",
       "      <td>0.030471</td>\n",
       "      <td>0.000000</td>\n",
       "      <td>0.072022</td>\n",
       "      <td>0.404432</td>\n",
       "      <td>0.479224</td>\n",
       "      <td>0.008310</td>\n",
       "      <td>...</td>\n",
       "      <td>0.000000</td>\n",
       "      <td>0.000000</td>\n",
       "      <td>0.000000</td>\n",
       "      <td>0.000000</td>\n",
       "      <td>0.000000</td>\n",
       "      <td>0.000000</td>\n",
       "      <td>0.000000</td>\n",
       "      <td>0.000000</td>\n",
       "      <td>0.000000</td>\n",
       "      <td>0.000000</td>\n",
       "    </tr>\n",
       "    <tr>\n",
       "      <th>1</th>\n",
       "      <td>0.408163</td>\n",
       "      <td>0.090703</td>\n",
       "      <td>0.018141</td>\n",
       "      <td>0.083900</td>\n",
       "      <td>0.006803</td>\n",
       "      <td>0.002268</td>\n",
       "      <td>0.081633</td>\n",
       "      <td>0.308390</td>\n",
       "      <td>0.512472</td>\n",
       "      <td>0.036281</td>\n",
       "      <td>...</td>\n",
       "      <td>0.000000</td>\n",
       "      <td>0.000000</td>\n",
       "      <td>0.000000</td>\n",
       "      <td>0.000000</td>\n",
       "      <td>0.000000</td>\n",
       "      <td>0.000000</td>\n",
       "      <td>0.000000</td>\n",
       "      <td>0.000000</td>\n",
       "      <td>0.000000</td>\n",
       "      <td>0.000000</td>\n",
       "    </tr>\n",
       "    <tr>\n",
       "      <th>2</th>\n",
       "      <td>0.503086</td>\n",
       "      <td>0.089506</td>\n",
       "      <td>0.018519</td>\n",
       "      <td>0.080247</td>\n",
       "      <td>0.015432</td>\n",
       "      <td>0.000000</td>\n",
       "      <td>0.061728</td>\n",
       "      <td>0.231481</td>\n",
       "      <td>0.444444</td>\n",
       "      <td>0.046296</td>\n",
       "      <td>...</td>\n",
       "      <td>0.000000</td>\n",
       "      <td>0.000000</td>\n",
       "      <td>0.000000</td>\n",
       "      <td>0.000000</td>\n",
       "      <td>0.000000</td>\n",
       "      <td>0.000000</td>\n",
       "      <td>0.000000</td>\n",
       "      <td>0.000000</td>\n",
       "      <td>0.000000</td>\n",
       "      <td>0.000000</td>\n",
       "    </tr>\n",
       "    <tr>\n",
       "      <th>3</th>\n",
       "      <td>0.404959</td>\n",
       "      <td>0.047521</td>\n",
       "      <td>0.020661</td>\n",
       "      <td>0.068182</td>\n",
       "      <td>0.045455</td>\n",
       "      <td>0.004132</td>\n",
       "      <td>0.076446</td>\n",
       "      <td>0.332645</td>\n",
       "      <td>0.438017</td>\n",
       "      <td>0.066116</td>\n",
       "      <td>...</td>\n",
       "      <td>0.000000</td>\n",
       "      <td>0.000000</td>\n",
       "      <td>0.000000</td>\n",
       "      <td>0.000000</td>\n",
       "      <td>0.000000</td>\n",
       "      <td>0.000000</td>\n",
       "      <td>0.000000</td>\n",
       "      <td>0.000000</td>\n",
       "      <td>0.000000</td>\n",
       "      <td>0.000000</td>\n",
       "    </tr>\n",
       "    <tr>\n",
       "      <th>4</th>\n",
       "      <td>0.371901</td>\n",
       "      <td>0.057851</td>\n",
       "      <td>0.020661</td>\n",
       "      <td>0.082645</td>\n",
       "      <td>0.045455</td>\n",
       "      <td>0.004132</td>\n",
       "      <td>0.053719</td>\n",
       "      <td>0.363636</td>\n",
       "      <td>0.458678</td>\n",
       "      <td>0.039256</td>\n",
       "      <td>...</td>\n",
       "      <td>0.000000</td>\n",
       "      <td>0.000000</td>\n",
       "      <td>0.000000</td>\n",
       "      <td>0.000000</td>\n",
       "      <td>0.000000</td>\n",
       "      <td>0.000000</td>\n",
       "      <td>0.000000</td>\n",
       "      <td>0.000000</td>\n",
       "      <td>0.000000</td>\n",
       "      <td>0.000000</td>\n",
       "    </tr>\n",
       "    <tr>\n",
       "      <th>...</th>\n",
       "      <td>...</td>\n",
       "      <td>...</td>\n",
       "      <td>...</td>\n",
       "      <td>...</td>\n",
       "      <td>...</td>\n",
       "      <td>...</td>\n",
       "      <td>...</td>\n",
       "      <td>...</td>\n",
       "      <td>...</td>\n",
       "      <td>...</td>\n",
       "      <td>...</td>\n",
       "      <td>...</td>\n",
       "      <td>...</td>\n",
       "      <td>...</td>\n",
       "      <td>...</td>\n",
       "      <td>...</td>\n",
       "      <td>...</td>\n",
       "      <td>...</td>\n",
       "      <td>...</td>\n",
       "      <td>...</td>\n",
       "      <td>...</td>\n",
       "    </tr>\n",
       "    <tr>\n",
       "      <th>1077</th>\n",
       "      <td>0.173469</td>\n",
       "      <td>0.076531</td>\n",
       "      <td>0.040816</td>\n",
       "      <td>0.193878</td>\n",
       "      <td>0.127551</td>\n",
       "      <td>0.010204</td>\n",
       "      <td>0.178571</td>\n",
       "      <td>0.198980</td>\n",
       "      <td>0.153061</td>\n",
       "      <td>0.122449</td>\n",
       "      <td>...</td>\n",
       "      <td>0.229592</td>\n",
       "      <td>0.275510</td>\n",
       "      <td>0.107143</td>\n",
       "      <td>0.107143</td>\n",
       "      <td>0.025510</td>\n",
       "      <td>0.056122</td>\n",
       "      <td>0.107143</td>\n",
       "      <td>0.020408</td>\n",
       "      <td>0.428571</td>\n",
       "      <td>0.147959</td>\n",
       "    </tr>\n",
       "    <tr>\n",
       "      <th>1078</th>\n",
       "      <td>0.146667</td>\n",
       "      <td>0.111111</td>\n",
       "      <td>0.035556</td>\n",
       "      <td>0.168889</td>\n",
       "      <td>0.120000</td>\n",
       "      <td>0.013333</td>\n",
       "      <td>0.186667</td>\n",
       "      <td>0.217778</td>\n",
       "      <td>0.191111</td>\n",
       "      <td>0.128889</td>\n",
       "      <td>...</td>\n",
       "      <td>0.546667</td>\n",
       "      <td>0.128889</td>\n",
       "      <td>0.342222</td>\n",
       "      <td>0.093333</td>\n",
       "      <td>0.057778</td>\n",
       "      <td>0.142222</td>\n",
       "      <td>0.013333</td>\n",
       "      <td>0.008889</td>\n",
       "      <td>0.057778</td>\n",
       "      <td>0.284444</td>\n",
       "    </tr>\n",
       "    <tr>\n",
       "      <th>1079</th>\n",
       "      <td>0.142857</td>\n",
       "      <td>0.117347</td>\n",
       "      <td>0.040816</td>\n",
       "      <td>0.178571</td>\n",
       "      <td>0.117347</td>\n",
       "      <td>0.015306</td>\n",
       "      <td>0.193878</td>\n",
       "      <td>0.193878</td>\n",
       "      <td>0.188776</td>\n",
       "      <td>0.081633</td>\n",
       "      <td>...</td>\n",
       "      <td>0.250000</td>\n",
       "      <td>0.244898</td>\n",
       "      <td>0.163265</td>\n",
       "      <td>0.066327</td>\n",
       "      <td>0.020408</td>\n",
       "      <td>0.061224</td>\n",
       "      <td>0.091837</td>\n",
       "      <td>0.010204</td>\n",
       "      <td>0.418367</td>\n",
       "      <td>0.168367</td>\n",
       "    </tr>\n",
       "    <tr>\n",
       "      <th>1080</th>\n",
       "      <td>0.158163</td>\n",
       "      <td>0.096939</td>\n",
       "      <td>0.040816</td>\n",
       "      <td>0.173469</td>\n",
       "      <td>0.102041</td>\n",
       "      <td>0.010204</td>\n",
       "      <td>0.198980</td>\n",
       "      <td>0.219388</td>\n",
       "      <td>0.168367</td>\n",
       "      <td>0.086735</td>\n",
       "      <td>...</td>\n",
       "      <td>0.239796</td>\n",
       "      <td>0.244898</td>\n",
       "      <td>0.158163</td>\n",
       "      <td>0.076531</td>\n",
       "      <td>0.030612</td>\n",
       "      <td>0.056122</td>\n",
       "      <td>0.081633</td>\n",
       "      <td>0.010204</td>\n",
       "      <td>0.454082</td>\n",
       "      <td>0.132653</td>\n",
       "    </tr>\n",
       "    <tr>\n",
       "      <th>1081</th>\n",
       "      <td>0.133333</td>\n",
       "      <td>0.111111</td>\n",
       "      <td>0.035556</td>\n",
       "      <td>0.231111</td>\n",
       "      <td>0.084444</td>\n",
       "      <td>0.013333</td>\n",
       "      <td>0.177778</td>\n",
       "      <td>0.213333</td>\n",
       "      <td>0.173333</td>\n",
       "      <td>0.084444</td>\n",
       "      <td>...</td>\n",
       "      <td>0.573333</td>\n",
       "      <td>0.102222</td>\n",
       "      <td>0.324444</td>\n",
       "      <td>0.133333</td>\n",
       "      <td>0.053333</td>\n",
       "      <td>0.168889</td>\n",
       "      <td>0.040000</td>\n",
       "      <td>0.008889</td>\n",
       "      <td>0.044444</td>\n",
       "      <td>0.226667</td>\n",
       "    </tr>\n",
       "  </tbody>\n",
       "</table>\n",
       "<p>1082 rows × 512 columns</p>\n",
       "</div>"
      ],
      "text/plain": [
       "      feature-1  feature-2  feature-3  feature-4  feature-5  feature-6  \\\n",
       "0      0.376731   0.041551   0.016620   0.058172   0.030471   0.000000   \n",
       "1      0.408163   0.090703   0.018141   0.083900   0.006803   0.002268   \n",
       "2      0.503086   0.089506   0.018519   0.080247   0.015432   0.000000   \n",
       "3      0.404959   0.047521   0.020661   0.068182   0.045455   0.004132   \n",
       "4      0.371901   0.057851   0.020661   0.082645   0.045455   0.004132   \n",
       "...         ...        ...        ...        ...        ...        ...   \n",
       "1077   0.173469   0.076531   0.040816   0.193878   0.127551   0.010204   \n",
       "1078   0.146667   0.111111   0.035556   0.168889   0.120000   0.013333   \n",
       "1079   0.142857   0.117347   0.040816   0.178571   0.117347   0.015306   \n",
       "1080   0.158163   0.096939   0.040816   0.173469   0.102041   0.010204   \n",
       "1081   0.133333   0.111111   0.035556   0.231111   0.084444   0.013333   \n",
       "\n",
       "      feature-7  feature-8  feature-9  feature-10  ...  feature-503  \\\n",
       "0      0.072022   0.404432   0.479224    0.008310  ...     0.000000   \n",
       "1      0.081633   0.308390   0.512472    0.036281  ...     0.000000   \n",
       "2      0.061728   0.231481   0.444444    0.046296  ...     0.000000   \n",
       "3      0.076446   0.332645   0.438017    0.066116  ...     0.000000   \n",
       "4      0.053719   0.363636   0.458678    0.039256  ...     0.000000   \n",
       "...         ...        ...        ...         ...  ...          ...   \n",
       "1077   0.178571   0.198980   0.153061    0.122449  ...     0.229592   \n",
       "1078   0.186667   0.217778   0.191111    0.128889  ...     0.546667   \n",
       "1079   0.193878   0.193878   0.188776    0.081633  ...     0.250000   \n",
       "1080   0.198980   0.219388   0.168367    0.086735  ...     0.239796   \n",
       "1081   0.177778   0.213333   0.173333    0.084444  ...     0.573333   \n",
       "\n",
       "      feature-504  feature-505  feature-506  feature-507  feature-508  \\\n",
       "0        0.000000     0.000000     0.000000     0.000000     0.000000   \n",
       "1        0.000000     0.000000     0.000000     0.000000     0.000000   \n",
       "2        0.000000     0.000000     0.000000     0.000000     0.000000   \n",
       "3        0.000000     0.000000     0.000000     0.000000     0.000000   \n",
       "4        0.000000     0.000000     0.000000     0.000000     0.000000   \n",
       "...           ...          ...          ...          ...          ...   \n",
       "1077     0.275510     0.107143     0.107143     0.025510     0.056122   \n",
       "1078     0.128889     0.342222     0.093333     0.057778     0.142222   \n",
       "1079     0.244898     0.163265     0.066327     0.020408     0.061224   \n",
       "1080     0.244898     0.158163     0.076531     0.030612     0.056122   \n",
       "1081     0.102222     0.324444     0.133333     0.053333     0.168889   \n",
       "\n",
       "      feature-509  feature-510  feature-511  feature-512  \n",
       "0        0.000000     0.000000     0.000000     0.000000  \n",
       "1        0.000000     0.000000     0.000000     0.000000  \n",
       "2        0.000000     0.000000     0.000000     0.000000  \n",
       "3        0.000000     0.000000     0.000000     0.000000  \n",
       "4        0.000000     0.000000     0.000000     0.000000  \n",
       "...           ...          ...          ...          ...  \n",
       "1077     0.107143     0.020408     0.428571     0.147959  \n",
       "1078     0.013333     0.008889     0.057778     0.284444  \n",
       "1079     0.091837     0.010204     0.418367     0.168367  \n",
       "1080     0.081633     0.010204     0.454082     0.132653  \n",
       "1081     0.040000     0.008889     0.044444     0.226667  \n",
       "\n",
       "[1082 rows x 512 columns]"
      ]
     },
     "execution_count": 45,
     "metadata": {},
     "output_type": "execute_result"
    }
   ],
   "source": [
    "df = pd.read_csv(TRAINING_DATA_CSV_PATH, index_col=False)\n",
    "labels = df[\"label\"]\n",
    "df = df.drop(columns=[\"label\"])\n",
    "df"
   ]
  },
  {
   "cell_type": "markdown",
   "metadata": {},
   "source": [
    "Data Visualization"
   ]
  },
  {
   "cell_type": "code",
   "execution_count": 46,
   "metadata": {},
   "outputs": [
    {
     "data": {
      "application/vnd.plotly.v1+json": {
       "config": {
        "plotlyServerURL": "https://plot.ly"
       },
       "data": [
        {
         "hovertemplate": "Label=angry<br>x=%{x}<br>y=%{y}<extra></extra>",
         "legendgroup": "angry",
         "marker": {
          "color": "#636efa",
          "symbol": "circle"
         },
         "mode": "markers",
         "name": "angry",
         "showlegend": true,
         "type": "scattergl",
         "x": [
          -11.725500106811523,
          -13.533727645874023,
          -12.336583137512207,
          -14.765125274658203,
          -15.239240646362305,
          -14.147061347961426,
          -40.42703628540039,
          -16.803022384643555,
          -40.347862243652344,
          -16.029699325561523,
          -12.686431884765625,
          33.996150970458984,
          -26.54584312438965,
          22.94577980041504,
          -26.9787654876709,
          -27.39911651611328,
          34.129722595214844,
          -26.605297088623047,
          -27.105703353881836,
          -27.01239776611328,
          34.768436431884766,
          34.876338958740234,
          34.63303756713867,
          34.82197189331055,
          34.69827651977539,
          -27.189434051513672,
          35.026084899902344,
          22.861284255981445,
          35.384849548339844,
          -27.82823371887207,
          -27.794021606445312,
          -43.32770919799805,
          -41.330318450927734,
          -43.48625183105469,
          -43.72062301635742,
          -43.748985290527344,
          20.56986427307129,
          -7.054405212402344,
          -7.956020832061768,
          -40.13063049316406,
          -43.730106353759766,
          -41.78894805908203,
          -41.57694625854492,
          -42.977813720703125,
          -42.585655212402344,
          -40.31382751464844,
          -39.09308624267578,
          -39.20261764526367,
          -40.50055694580078,
          -40.66866683959961,
          -42.48318862915039,
          -41.893348693847656,
          -39.677799224853516,
          -38.77237319946289,
          -39.15742492675781,
          -39.10917282104492,
          -39.54033279418945,
          -42.41917037963867,
          -43.02274703979492,
          -39.3524284362793,
          -38.64978790283203,
          28.18902015686035,
          27.862638473510742,
          -25.87444496154785,
          28.033334732055664,
          28.06441307067871,
          27.955245971679688,
          27.55339813232422,
          27.53016471862793,
          16.688196182250977,
          17.764663696289062,
          13.395828247070312,
          10.542195320129395,
          10.73619556427002,
          14.216453552246094,
          33.048099517822266,
          13.2725830078125,
          13.871421813964844,
          13.6104736328125,
          13.635284423828125,
          13.37726879119873,
          31.431543350219727,
          30.532346725463867,
          30.50922966003418,
          -8.530594825744629,
          -12.183632850646973,
          -12.192888259887695,
          33.04597854614258,
          -14.158856391906738,
          -23.48662757873535,
          -22.22153091430664,
          35.64750671386719,
          -21.081951141357422,
          -41.16389846801758,
          -20.59623146057129,
          -18.356332778930664,
          -11.00885009765625,
          -13.179807662963867,
          -10.989398956298828,
          -14.36856746673584,
          -12.594975471496582,
          -12.169379234313965,
          -19.891515731811523,
          -11.874167442321777,
          -11.156904220581055,
          -16.136974334716797,
          -16.093982696533203,
          -16.465341567993164,
          29.203916549682617,
          2.5232677459716797,
          31.550914764404297,
          30.602863311767578,
          19.843425750732422,
          -24.444290161132812,
          29.386512756347656,
          -39.73685073852539,
          -10.659279823303223,
          -9.232643127441406,
          -13.46400260925293,
          -12.351123809814453,
          -12.160935401916504,
          -12.391029357910156,
          -12.302993774414062,
          -9.791045188903809,
          -9.956546783447266,
          -13.008674621582031,
          32.08506774902344,
          -3.712498188018799,
          -2.9256532192230225,
          -16.678333282470703,
          -4.981361389160156,
          -20.06650161743164,
          -15.725768089294434,
          -3.7894294261932373,
          -21.01313591003418,
          -20.46196174621582,
          -29.2993106842041,
          -29.097497940063477,
          -29.634788513183594,
          -29.575143814086914,
          25.03351593017578,
          -29.589771270751953,
          -29.22947120666504,
          -28.789779663085938,
          -29.107624053955078,
          25.25151252746582,
          11.145788192749023,
          -28.724376678466797,
          11.131056785583496,
          25.270627975463867,
          24.8320369720459,
          25.321491241455078,
          24.562026977539062,
          24.488710403442383,
          -28.67148780822754,
          24.76508903503418
         ],
         "xaxis": "x",
         "y": [
          11.723140716552734,
          -42.27842712402344,
          6.513999938964844,
          -42.24330139160156,
          -42.23183822631836,
          6.338018894195557,
          -22.964868545532227,
          -44.21087646484375,
          -23.071306228637695,
          -36.04819107055664,
          -37.01607894897461,
          -17.30267333984375,
          3.7338056564331055,
          30.111722946166992,
          4.294079303741455,
          4.394617080688477,
          -17.59372329711914,
          3.129204034805298,
          3.777310609817505,
          3.156100034713745,
          -17.316640853881836,
          -17.72536277770996,
          -17.653104782104492,
          -17.210430145263672,
          -16.924644470214844,
          3.7569873332977295,
          -16.862483978271484,
          30.022077560424805,
          -17.3432674407959,
          2.927506446838379,
          2.7867040634155273,
          16.052072525024414,
          13.2625732421875,
          16.39007568359375,
          15.808172225952148,
          16.496177673339844,
          -14.801640510559082,
          -47.465576171875,
          -47.439239501953125,
          11.665462493896484,
          15.114078521728516,
          15.77741527557373,
          16.094106674194336,
          14.181212425231934,
          14.122089385986328,
          12.485068321228027,
          11.548460960388184,
          11.834027290344238,
          12.82445240020752,
          13.129758834838867,
          15.219549179077148,
          16.295738220214844,
          12.915325164794922,
          12.199338912963867,
          13.275129318237305,
          13.357952117919922,
          13.172564506530762,
          14.168048858642578,
          14.59908676147461,
          11.9982328414917,
          11.546534538269043,
          -26.321956634521484,
          -26.054458618164062,
          15.047268867492676,
          -26.036151885986328,
          -26.622682571411133,
          -26.98733139038086,
          -26.009302139282227,
          -26.44352912902832,
          32.889442443847656,
          33.522705078125,
          39.655887603759766,
          41.92347717285156,
          42.324859619140625,
          37.54801940917969,
          -20.007150650024414,
          40.1246223449707,
          37.83897018432617,
          38.32844543457031,
          38.229183197021484,
          39.80457305908203,
          -3.96148943901062,
          -5.06476354598999,
          -5.0788984298706055,
          -2.5583481788635254,
          -0.9800812602043152,
          -0.9801750779151917,
          -19.234840393066406,
          -36.487579345703125,
          10.551862716674805,
          4.252117156982422,
          -18.5686092376709,
          12.531390190124512,
          -21.874332427978516,
          9.697164535522461,
          10.145968437194824,
          -34.62105178833008,
          -35.735836029052734,
          -34.65713119506836,
          -34.91883850097656,
          -35.046207427978516,
          -35.038177490234375,
          5.84687614440918,
          -32.69963455200195,
          -34.03947830200195,
          -33.83302307128906,
          -33.47542190551758,
          -34.19129943847656,
          -9.070046424865723,
          30.09262466430664,
          -8.996831893920898,
          -8.946255683898926,
          24.514320373535156,
          9.760819435119629,
          -8.499268531799316,
          -19.6688289642334,
          7.209721565246582,
          -41.04818344116211,
          6.300059795379639,
          -41.958030700683594,
          -41.63948059082031,
          -42.01194763183594,
          -41.63542938232422,
          -41.928916931152344,
          -41.924442291259766,
          7.82078218460083,
          -3.590977668762207,
          0.7558667659759521,
          2.3983523845672607,
          8.865732192993164,
          -29.549083709716797,
          -36.8842887878418,
          -42.999267578125,
          -27.947660446166992,
          -36.90681457519531,
          -36.77698516845703,
          19.90862464904785,
          19.170286178588867,
          19.789875030517578,
          19.541288375854492,
          -27.042884826660156,
          19.203386306762695,
          19.082786560058594,
          19.503395080566406,
          19.912044525146484,
          -27.847030639648438,
          32.21302795410156,
          19.391767501831055,
          32.20399475097656,
          -27.645124435424805,
          -27.610553741455078,
          -27.524885177612305,
          -27.521846771240234,
          -27.127668380737305,
          20.016448974609375,
          -27.094505310058594
         ],
         "yaxis": "y"
        },
        {
         "hovertemplate": "Label=disgusted<br>x=%{x}<br>y=%{y}<extra></extra>",
         "legendgroup": "disgusted",
         "marker": {
          "color": "#EF553B",
          "symbol": "circle"
         },
         "mode": "markers",
         "name": "disgusted",
         "showlegend": true,
         "type": "scattergl",
         "x": [
          -12.857624053955078,
          -14.321993827819824,
          -12.797628402709961,
          -10.635002136230469,
          -17.031051635742188,
          -14.146044731140137,
          -16.595048904418945,
          -14.65580940246582,
          -12.635600090026855,
          -19.063173294067383,
          -18.457813262939453,
          34.57292938232422,
          -18.78435516357422,
          33.06155776977539,
          -17.725847244262695,
          -19.173377990722656,
          -17.59597396850586,
          34.42399215698242,
          -17.560962677001953,
          -18.732633590698242,
          19.09981346130371,
          33.36556625366211,
          -19.238588333129883,
          33.641971588134766,
          33.40890121459961,
          18.931209564208984,
          20.313018798828125,
          20.94757652282715,
          20.817594528198242,
          -3.0609841346740723,
          -2.9799160957336426,
          -1.0487034320831299,
          -0.49065589904785156,
          -2.260435104370117,
          -1.393636703491211,
          -1.8204880952835083,
          -2.1029837131500244,
          36.174232482910156,
          23.9741268157959,
          -37.515438079833984,
          -2.233682870864868,
          -2.256772041320801,
          -3.2227373123168945,
          -2.20167875289917,
          -2.470273733139038,
          -3.1404287815093994,
          -37.833187103271484,
          -3.343123197555542,
          -3.2037370204925537,
          -37.30929946899414,
          -38.13728713989258,
          -2.2869584560394287,
          -1.9958891868591309,
          -1.5009418725967407,
          -1.4344154596328735,
          -1.521343469619751,
          -1.5783360004425049,
          -1.3789411783218384,
          -37.656585693359375,
          19.918474197387695,
          18.7305850982666,
          18.598045349121094,
          17.51839828491211,
          17.521032333374023,
          20.321800231933594,
          19.89495277404785,
          19.867246627807617,
          20.3701229095459,
          19.999731063842773,
          14.241744995117188,
          14.271474838256836,
          15.564616203308105,
          14.34352970123291,
          15.603727340698242,
          15.070780754089355,
          15.46220588684082,
          14.752206802368164,
          13.679896354675293,
          25.271650314331055,
          27.20876693725586,
          26.46108627319336,
          30.5531063079834,
          28.05190086364746,
          26.660999298095703,
          28.861663818359375,
          30.508991241455078,
          26.355716705322266,
          26.928098678588867,
          26.914424896240234,
          27.227502822875977,
          28.89368438720703,
          28.65789222717285,
          26.05025863647461,
          29.16300392150879,
          26.816471099853516,
          29.187231063842773,
          27.682531356811523,
          28.06402587890625,
          28.812999725341797,
          29.721155166625977,
          30.405031204223633,
          27.932369232177734,
          27.456594467163086,
          27.104196548461914,
          27.087369918823242,
          36.49604797363281,
          29.494369506835938,
          16.753253936767578,
          -22.52216148376465,
          26.261842727661133,
          25.93573570251465,
          -29.68750762939453,
          18.899925231933594,
          23.065200805664062,
          -8.029606819152832,
          -11.176942825317383,
          -40.4260368347168,
          -21.341596603393555,
          -12.094525337219238,
          -40.828773498535156,
          -18.218399047851562,
          -16.287967681884766,
          -8.881786346435547,
          -15.713203430175781,
          28.648059844970703,
          -12.76051139831543,
          -12.73385238647461,
          -11.503993034362793,
          -11.546581268310547,
          -40.061248779296875,
          24.133625030517578,
          -39.74783706665039,
          27.338380813598633,
          25.45203971862793,
          -10.396193504333496,
          -39.311161041259766,
          29.59817886352539,
          19.693138122558594,
          -10.686470031738281,
          -2.9180190563201904,
          -4.542495250701904,
          -2.35332989692688,
          -1.6519197225570679,
          -5.076242923736572,
          -5.13170051574707,
          35.84831619262695,
          35.749298095703125,
          -0.878512978553772,
          21.626707077026367,
          24.733203887939453,
          22.78404998779297,
          21.217626571655273,
          22.730974197387695,
          22.915485382080078,
          22.610260009765625,
          23.390640258789062,
          23.323339462280273,
          24.096498489379883,
          23.33856964111328,
          23.192832946777344,
          24.305557250976562,
          24.30548858642578,
          22.65831184387207,
          23.418672561645508,
          22.255088806152344,
          22.25467300415039,
          22.556598663330078,
          22.749101638793945
         ],
         "xaxis": "x",
         "y": [
          -42.85374069213867,
          9.970511436462402,
          8.581527709960938,
          -44.840965270996094,
          -40.56093978881836,
          4.492546081542969,
          -42.211238861083984,
          -41.74968338012695,
          -40.076622009277344,
          0.5902104377746582,
          0.06346834450960159,
          -12.001947402954102,
          0.09714814275503159,
          -13.05142593383789,
          -0.11030206084251404,
          1.5974539518356323,
          -0.684058427810669,
          -12.12365436553955,
          -0.6575087308883667,
          -0.6025807857513428,
          27.13822364807129,
          -12.795058250427246,
          -0.377390593290329,
          -12.515691757202148,
          -13.522680282592773,
          27.142574310302734,
          26.958740234375,
          27.603965759277344,
          27.453067779541016,
          -50.9888801574707,
          -51.019779205322266,
          -49.51292037963867,
          -49.479652404785156,
          -50.78306579589844,
          -50.50077438354492,
          -49.85844039916992,
          -51.646427154541016,
          -16.536823272705078,
          28.337867736816406,
          19.696571350097656,
          -48.111671447753906,
          -48.32467269897461,
          -49.98432540893555,
          -48.99983596801758,
          -48.92933654785156,
          -49.89720916748047,
          19.371685028076172,
          -49.57712173461914,
          -49.583396911621094,
          19.838735580444336,
          19.48723030090332,
          -47.860801696777344,
          -47.589412689208984,
          -49.173152923583984,
          -48.418174743652344,
          -48.23388671875,
          -47.5860710144043,
          -47.97739791870117,
          19.716278076171875,
          35.13416290283203,
          33.6029167175293,
          33.52159881591797,
          32.28477096557617,
          32.30202865600586,
          37.165306091308594,
          36.35329818725586,
          36.595558166503906,
          37.23102569580078,
          43.21847915649414,
          42.06755065917969,
          42.033138275146484,
          41.17185592651367,
          41.4537353515625,
          41.12664794921875,
          41.663291931152344,
          41.11888885498047,
          41.36164855957031,
          41.53892517089844,
          23.390451431274414,
          20.888883590698242,
          23.331937789916992,
          20.65007209777832,
          23.143543243408203,
          23.735931396484375,
          21.560474395751953,
          20.908071517944336,
          24.47357940673828,
          25.52338218688965,
          24.876333236694336,
          24.113162994384766,
          22.648225784301758,
          21.59801483154297,
          22.948991775512695,
          20.790996551513672,
          22.843189239501953,
          20.488079071044922,
          20.385019302368164,
          20.889455795288086,
          21.531068801879883,
          20.704959869384766,
          19.851959228515625,
          21.661836624145508,
          20.99356460571289,
          23.21303939819336,
          23.050016403198242,
          -2.34926176071167,
          20.19688606262207,
          37.56482696533203,
          7.506184101104736,
          -14.309172630310059,
          31.90155792236328,
          5.696734428405762,
          28.681997299194336,
          35.258079528808594,
          -36.99026107788086,
          -35.97902297973633,
          -21.7990665435791,
          10.108052253723145,
          9.110600471496582,
          -19.876522064208984,
          4.343341827392578,
          1.6965912580490112,
          -36.94932174682617,
          -34.444583892822266,
          -9.157988548278809,
          3.691744804382324,
          3.6108601093292236,
          -38.93822479248047,
          6.875887393951416,
          -19.235919952392578,
          27.017976760864258,
          -20.244279861450195,
          -9.790775299072266,
          27.10072898864746,
          6.5800580978393555,
          -19.67784309387207,
          -8.573556900024414,
          24.88661003112793,
          6.489996433258057,
          0.7006110548973083,
          1.4443241357803345,
          1.4722275733947754,
          1.2049258947372437,
          0.540727972984314,
          0.518944263458252,
          -1.9931159019470215,
          -1.9505934715270996,
          3.501088857650757,
          42.73482894897461,
          42.649620056152344,
          42.66974639892578,
          42.210208892822266,
          41.72629165649414,
          42.4140510559082,
          41.452552795410156,
          44.074344635009766,
          43.81692123413086,
          43.87137222290039,
          42.79749298095703,
          43.45390319824219,
          42.04307556152344,
          42.04304504394531,
          43.30411148071289,
          43.26651382446289,
          43.28907775878906,
          43.28887176513672,
          43.802207946777344,
          44.11992645263672
         ],
         "yaxis": "y"
        },
        {
         "hovertemplate": "Label=happy<br>x=%{x}<br>y=%{y}<extra></extra>",
         "legendgroup": "happy",
         "marker": {
          "color": "#00cc96",
          "symbol": "circle"
         },
         "mode": "markers",
         "name": "happy",
         "showlegend": true,
         "type": "scattergl",
         "x": [
          28.683666229248047,
          -14.241541862487793,
          19.282201766967773,
          29.043882369995117,
          18.81569480895996,
          18.83782958984375,
          9.83322525024414,
          10.475310325622559,
          -15.111570358276367,
          -15.268660545349121,
          16.147192001342773,
          13.185976028442383,
          20.879825592041016,
          20.86536407470703,
          24.369831085205078,
          15.335620880126953,
          16.094667434692383,
          -17.15833282470703,
          -10.218207359313965,
          -11.647502899169922,
          -13.944740295410156,
          23.06544303894043,
          23.791255950927734,
          -11.922883987426758,
          -10.396367073059082,
          -12.157979011535645,
          -11.954358100891113,
          -10.944981575012207,
          -10.08127212524414,
          -8.360493659973145,
          -13.567158699035645,
          -24.343421936035156,
          -3.3648366928100586,
          -3.2749531269073486,
          -23.076135635375977,
          -2.8965277671813965,
          -3.183069944381714,
          -23.108522415161133,
          -24.1232967376709,
          -3.4639291763305664,
          -2.867191791534424,
          -2.9696130752563477,
          -23.044687271118164,
          -3.605304718017578,
          22.172592163085938,
          32.92061996459961,
          -24.48617172241211,
          33.08676528930664,
          -24.573047637939453,
          -24.82280158996582,
          -38.57853317260742,
          32.953731536865234,
          32.88180923461914,
          -6.867931842803955,
          -42.2820930480957,
          -42.24470901489258,
          -6.915733814239502,
          -42.25144958496094,
          -9.13470458984375,
          -9.1321382522583,
          -8.450430870056152,
          -9.128327369689941,
          -40.71229553222656,
          23.695457458496094,
          20.57735252380371,
          21.322973251342773,
          23.022794723510742,
          21.266023635864258,
          23.00969696044922,
          16.073101043701172,
          22.290420532226562,
          22.479084014892578,
          23.01531410217285,
          23.090181350708008,
          -39.4766731262207,
          -39.41605758666992,
          -39.42897033691406,
          22.25282096862793,
          20.5985107421875,
          22.484392166137695,
          22.473960876464844,
          23.163999557495117,
          -39.55827331542969,
          14.337065696716309,
          30.038864135742188,
          14.007131576538086,
          29.275741577148438,
          29.316457748413086,
          14.469232559204102,
          13.666543960571289,
          14.360468864440918,
          29.436508178710938,
          13.481553077697754,
          14.277688026428223,
          15.834575653076172,
          14.140192985534668,
          29.079605102539062,
          15.239402770996094,
          28.896438598632812,
          29.139171600341797,
          29.100313186645508,
          12.014914512634277,
          30.641769409179688,
          14.608612060546875,
          4.389975547790527,
          12.638361930847168,
          5.567973613739014,
          11.882957458496094,
          12.602871894836426,
          4.429592132568359,
          10.843626022338867,
          5.2546844482421875,
          8.62763500213623,
          1.8878424167633057,
          8.272268295288086,
          13.387988090515137,
          6.829825401306152,
          2.5048036575317383,
          15.323596954345703,
          13.871301651000977,
          2.7373976707458496,
          12.022381782531738,
          6.888390064239502,
          2.7176878452301025,
          18.939697265625,
          8.249792098999023,
          8.20654296875,
          3.874171018600464,
          -0.7371441125869751,
          14.646244049072266,
          0.0737280398607254,
          14.896553993225098,
          15.187358856201172,
          8.477412223815918,
          6.227395534515381,
          10.50217056274414,
          6.118847370147705,
          1.3820080757141113,
          15.191926956176758,
          10.993940353393555,
          2.068765878677368,
          7.363731384277344,
          1.7619198560714722,
          7.3180108070373535,
          34.02095031738281,
          -4.593625068664551,
          33.6666374206543,
          34.07242202758789,
          -5.566514492034912,
          -4.9669623374938965,
          -5.441830635070801,
          -4.926438331604004,
          -2.9838645458221436,
          -2.7237813472747803,
          -3.977182149887085,
          -5.552702903747559,
          -4.9004316329956055,
          -3.9601151943206787,
          -4.285583972930908,
          -4.725271701812744,
          -5.13947868347168,
          -3.5419816970825195,
          -3.435818910598755,
          -5.565295219421387,
          33.19441223144531,
          -5.886823654174805,
          32.92869186401367,
          -3.8772640228271484,
          -6.1341047286987305,
          25.33378791809082,
          32.48405075073242,
          33.98869705200195,
          -13.134008407592773,
          -13.799020767211914,
          -13.99681568145752,
          -12.806485176086426,
          -12.693470001220703,
          -13.464070320129395,
          -39.49909210205078,
          -9.739592552185059,
          -12.64345645904541,
          -9.8825101852417,
          30.14277458190918,
          -9.933449745178223,
          -10.582306861877441,
          -11.088465690612793,
          -13.069676399230957,
          -17.01417350769043,
          -9.10922622680664,
          29.042051315307617,
          -16.119831085205078,
          -21.4959659576416,
          -12.159428596496582,
          -12.452231407165527,
          29.622549057006836,
          -40.7947998046875,
          -14.395899772644043,
          22.725744247436523,
          22.552345275878906,
          29.50399398803711,
          -10.716609001159668,
          29.543371200561523,
          -14.528974533081055,
          21.71617317199707,
          17.788610458374023,
          18.510211944580078,
          -20.770061492919922,
          -39.77193069458008,
          -40.422821044921875,
          -13.028124809265137,
          -1.841639518737793,
          -2.1006627082824707,
          -1.992492914199829,
          -2.4664180278778076,
          -3.1955153942108154,
          -1.298537015914917,
          -1.921069622039795,
          -3.0156161785125732,
          -3.2118406295776367,
          -3.5515494346618652,
          17.247724533081055,
          23.642988204956055,
          33.844844818115234,
          31.081348419189453,
          30.156644821166992,
          31.543167114257812,
          15.799283981323242,
          31.428171157836914,
          33.235130310058594,
          30.771833419799805,
          32.66370391845703,
          31.219806671142578,
          32.73407745361328,
          30.63534927368164,
          31.457651138305664,
          31.757184982299805,
          32.3581657409668,
          16.16175079345703,
          15.981578826904297,
          16.3920841217041,
          16.26372718811035,
          15.691279411315918
         ],
         "xaxis": "x",
         "y": [
          -13.176050186157227,
          14.1209135055542,
          30.44757652282715,
          -13.2282075881958,
          40.071083068847656,
          40.00636291503906,
          43.451751708984375,
          31.9939022064209,
          13.677014350891113,
          13.584510803222656,
          45.85749816894531,
          28.778833389282227,
          33.50071334838867,
          33.52625274658203,
          29.594900131225586,
          46.25482177734375,
          45.896358489990234,
          6.680038928985596,
          -30.75481414794922,
          11.459905624389648,
          -43.18317794799805,
          26.06513023376465,
          26.57308578491211,
          -43.51164245605469,
          9.23539924621582,
          -43.34494400024414,
          10.73193359375,
          9.301742553710938,
          11.28231430053711,
          10.354875564575195,
          -44.0330696105957,
          -1.474348545074463,
          -37.364646911621094,
          -36.855743408203125,
          3.1963233947753906,
          -37.157188415527344,
          -36.465091705322266,
          3.162166118621826,
          -1.1991779804229736,
          -36.48721694946289,
          -37.38813400268555,
          -37.0476188659668,
          3.276672601699829,
          -37.34480667114258,
          31.44330596923828,
          -14.871994972229004,
          1.0932447910308838,
          -14.701186180114746,
          1.193213701248169,
          1.4275492429733276,
          -20.587919235229492,
          -14.972084045410156,
          -14.975833892822266,
          -49.26922607421875,
          20.10904884338379,
          20.153783798217773,
          -49.14923858642578,
          20.124794006347656,
          -51.01390838623047,
          -51.02861404418945,
          -50.77543640136719,
          -51.03081130981445,
          21.068248748779297,
          -12.433554649353027,
          -11.787935256958008,
          -11.908775329589844,
          -11.849522590637207,
          -11.974153518676758,
          -12.630838394165039,
          26.975494384765625,
          -12.440418243408203,
          -12.466176986694336,
          -12.623523712158203,
          -12.111414909362793,
          21.376134872436523,
          21.408395767211914,
          21.414470672607422,
          -13.105512619018555,
          -11.753477096557617,
          -12.907580375671387,
          -11.807938575744629,
          -12.952240943908691,
          21.323392868041992,
          33.1163330078125,
          -26.5374813079834,
          33.2899284362793,
          -26.917842864990234,
          -26.869159698486328,
          33.34318161010742,
          33.434059143066406,
          33.63136672973633,
          -26.98738670349121,
          33.3153190612793,
          32.337608337402344,
          32.21847152709961,
          32.327293395996094,
          -23.219558715820312,
          32.338287353515625,
          -23.354557037353516,
          -23.41748046875,
          -23.12082290649414,
          33.18851089477539,
          -26.403921127319336,
          32.655982971191406,
          26.10467529296875,
          40.69154357910156,
          25.847007751464844,
          45.5634651184082,
          40.74019241333008,
          26.01504898071289,
          42.65850067138672,
          25.80108642578125,
          42.492984771728516,
          28.00680160522461,
          42.71669006347656,
          45.11178970336914,
          31.940336227416992,
          26.911062240600586,
          42.92936325073242,
          43.11446762084961,
          25.786264419555664,
          45.50198745727539,
          31.975494384765625,
          26.09521484375,
          43.4166259765625,
          42.948509216308594,
          42.90416717529297,
          24.750118255615234,
          28.0358943939209,
          38.801944732666016,
          27.77492332458496,
          38.32539367675781,
          37.89253234863281,
          25.724632263183594,
          39.5184211730957,
          45.93657684326172,
          39.52273178100586,
          28.13452911376953,
          37.50342559814453,
          45.78099822998047,
          24.444608688354492,
          38.812984466552734,
          24.58426856994629,
          38.85184097290039,
          -7.0918354988098145,
          8.128652572631836,
          -6.111027717590332,
          -6.730507850646973,
          6.744736671447754,
          7.544262886047363,
          6.95137357711792,
          5.329142093658447,
          7.598273277282715,
          7.625781536102295,
          8.192520141601562,
          6.057206153869629,
          7.799250602722168,
          7.191440105438232,
          6.19896125793457,
          5.797798156738281,
          8.487713813781738,
          6.599207878112793,
          6.341689586639404,
          8.192665100097656,
          -6.287696838378906,
          5.382339000701904,
          -6.2586846351623535,
          6.922147750854492,
          7.673624515533447,
          25.92725944519043,
          -6.616934776306152,
          -6.532708644866943,
          -32.9432258605957,
          -33.04930877685547,
          -32.656497955322266,
          -31.938087463378906,
          -32.026649475097656,
          -33.165279388427734,
          -23.311973571777344,
          -40.47440719604492,
          10.45361328125,
          -40.32789611816406,
          -8.650981903076172,
          8.367524147033691,
          -40.97470474243164,
          7.860781669616699,
          -43.79365921020508,
          -44.298004150390625,
          8.26380729675293,
          -10.401622772216797,
          -45.5278205871582,
          -43.06548309326172,
          -44.415367126464844,
          -44.40021514892578,
          -10.244390487670898,
          -20.286239624023438,
          -44.071754455566406,
          27.122962951660156,
          27.24386215209961,
          -10.296671867370605,
          5.157308101654053,
          -11.800532341003418,
          -36.55322265625,
          29.400047302246094,
          36.903743743896484,
          28.920135498046875,
          12.728766441345215,
          -21.695354461669922,
          -21.77306365966797,
          -34.529537200927734,
          4.45849609375,
          -29.657846450805664,
          3.9696569442749023,
          5.618244647979736,
          4.698537826538086,
          -30.402816772460938,
          3.778508186340332,
          3.261093854904175,
          4.455466270446777,
          4.267688274383545,
          23.131282806396484,
          32.509559631347656,
          -29.082015991210938,
          -30.037832260131836,
          -30.03929328918457,
          -29.650480270385742,
          30.43385124206543,
          -30.07455062866211,
          -29.10236167907715,
          -29.61418342590332,
          -29.315040588378906,
          -29.452611923217773,
          -29.127159118652344,
          -29.50848960876465,
          -30.407962799072266,
          -29.758895874023438,
          -29.811458587646484,
          30.512248992919922,
          30.659013748168945,
          30.41197967529297,
          30.3865909576416,
          30.55710792541504
         ],
         "yaxis": "y"
        },
        {
         "hovertemplate": "Label=neutral<br>x=%{x}<br>y=%{y}<extra></extra>",
         "legendgroup": "neutral",
         "marker": {
          "color": "#ab63fa",
          "symbol": "circle"
         },
         "mode": "markers",
         "name": "neutral",
         "showlegend": true,
         "type": "scattergl",
         "x": [
          -13.961577415466309,
          -22.26471710205078,
          21.9298152923584,
          5.435757160186768,
          22.24819564819336,
          2.1381611824035645,
          18.75748634338379,
          -15.46081829071045,
          -7.221169471740723,
          15.723442077636719,
          20.86174201965332,
          -10.19495677947998,
          -10.626335144042969,
          -10.672140121459961,
          -11.235259056091309,
          -10.997364044189453,
          -17.22331428527832,
          -10.914201736450195,
          -12.743732452392578,
          -21.460529327392578,
          -15.386608123779297,
          -15.650121688842773,
          -26.385103225708008,
          -26.00242805480957,
          -25.835735321044922,
          -25.738544464111328,
          -25.84846305847168,
          -25.29437828063965,
          -25.745502471923828,
          -25.167987823486328,
          -25.403085708618164,
          -26.288860321044922,
          -25.894624710083008,
          -25.469846725463867,
          -26.324655532836914,
          -25.70263671875,
          -26.071611404418945,
          -4.1737189292907715,
          -25.419296264648438,
          -4.213990211486816,
          -4.18159294128418,
          -4.072738170623779,
          -7.583949089050293,
          -44.26474380493164,
          -6.977447986602783,
          -44.68495559692383,
          -39.34333419799805,
          -41.417964935302734,
          -8.247369766235352,
          -6.9911346435546875,
          -44.433837890625,
          -7.191707611083984,
          -41.492855072021484,
          21.33243179321289,
          22.296199798583984,
          19.959327697753906,
          16.102916717529297,
          21.0606746673584,
          20.039705276489258,
          20.946260452270508,
          20.116008758544922,
          21.642417907714844,
          22.937725067138672,
          22.503454208374023,
          22.237180709838867,
          21.762937545776367,
          -41.536800384521484,
          19.767629623413086,
          21.018518447875977,
          16.111814498901367,
          19.730052947998047,
          21.656251907348633,
          28.301055908203125,
          29.184316635131836,
          29.89529800415039,
          -25.841283798217773,
          30.706695556640625,
          28.245702743530273,
          29.041166305541992,
          28.384321212768555,
          -25.838747024536133,
          13.578832626342773,
          2.2859673500061035,
          -1.150265097618103,
          10.806894302368164,
          -1.5321263074874878,
          10.324797630310059,
          -0.9781511425971985,
          10.710726737976074,
          8.604742050170898,
          2.7104737758636475,
          10.865452766418457,
          -0.7638393044471741,
          -0.8236937522888184,
          10.171270370483398,
          -1.0441268682479858,
          2.855733871459961,
          -6.814664840698242,
          30.52615737915039,
          -6.86187219619751,
          29.626747131347656,
          -6.6276421546936035,
          21.482988357543945,
          21.22771644592285,
          33.689544677734375,
          32.89057540893555,
          21.6434383392334,
          21.421579360961914,
          -10.565311431884766,
          -11.474664688110352,
          -11.542379379272461,
          26.671714782714844,
          26.480070114135742,
          -12.463652610778809,
          30.323625564575195,
          -8.329426765441895,
          28.469404220581055,
          28.733924865722656,
          -9.257080078125,
          29.48041343688965,
          28.43967628479004,
          -10.888378143310547,
          27.916427612304688,
          13.515817642211914,
          -22.90424156188965,
          21.730300903320312,
          -19.77149200439453,
          -20.39426612854004,
          3.1919097900390625,
          -16.605566024780273,
          28.394105911254883,
          12.774831771850586,
          -40.993896484375,
          -20.49346351623535,
          -15.556661605834961,
          -20.112730026245117,
          -15.994586944580078,
          -19.01773452758789,
          -5.872354030609131,
          -5.928418159484863,
          -18.057449340820312,
          31.19674301147461,
          -10.215034484863281,
          -10.761757850646973,
          -8.716866493225098,
          -17.502731323242188,
          -14.71550464630127,
          -16.012052536010742,
          -13.946946144104004,
          -5.903176784515381,
          -5.890395641326904,
          -5.731347560882568,
          -7.158843517303467,
          -7.133941650390625,
          -7.048422813415527,
          -20.82319450378418,
          -7.12626838684082,
          -4.345351219177246,
          -21.022275924682617,
          16.774883270263672,
          20.05364227294922,
          -23.313007354736328,
          -27.954326629638672,
          -23.26621437072754,
          -27.95948600769043
         ],
         "xaxis": "x",
         "y": [
          -45.21376419067383,
          6.898196697235107,
          32.62683868408203,
          39.55557632446289,
          32.767662048339844,
          30.792387008666992,
          40.08991241455078,
          13.469107627868652,
          -45.38639450073242,
          46.13870620727539,
          33.4378662109375,
          -30.81311798095703,
          -43.12735366821289,
          5.255113124847412,
          -45.38378143310547,
          -45.78647232055664,
          -40.871063232421875,
          -45.78261947631836,
          -45.73088073730469,
          -43.18301010131836,
          -39.00813293457031,
          -39.6361083984375,
          0.7994039058685303,
          -1.674512505531311,
          -1.8063160181045532,
          -1.2458641529083252,
          1.0207629203796387,
          -1.0579705238342285,
          1.1911002397537231,
          -1.660891056060791,
          -1.899328351020813,
          -0.995513916015625,
          0.5792264342308044,
          0.5883063673973083,
          -1.2855485677719116,
          0.7842710018157959,
          1.1979012489318848,
          -38.519222259521484,
          -1.3618158102035522,
          -38.50554656982422,
          -38.47647476196289,
          -38.503841400146484,
          -47.254764556884766,
          13.710479736328125,
          -47.43903732299805,
          15.749300956726074,
          10.641929626464844,
          11.440282821655273,
          -47.38758850097656,
          -47.4410514831543,
          14.226728439331055,
          -46.61322021484375,
          12.314132690429688,
          -16.06930160522461,
          -15.230561256408691,
          -17.055166244506836,
          27.14423179626465,
          -15.158049583435059,
          -15.645622253417969,
          -16.916780471801758,
          -16.446306228637695,
          -16.09377670288086,
          -15.075626373291016,
          -14.954068183898926,
          -14.78393268585205,
          -14.772835731506348,
          12.174936294555664,
          -16.67022132873535,
          -17.242053985595703,
          27.196937561035156,
          -16.30808448791504,
          -15.712706565856934,
          -24.62677764892578,
          -25.338830947875977,
          -25.638763427734375,
          14.882884979248047,
          -25.684005737304688,
          -24.51106071472168,
          -25.407297134399414,
          -23.92820167541504,
          14.898420333862305,
          32.54853439331055,
          27.066572189331055,
          27.527809143066406,
          38.879234313964844,
          27.755794525146484,
          37.19752883911133,
          28.300912857055664,
          36.62751007080078,
          25.6435489654541,
          24.473535537719727,
          38.85368728637695,
          26.91543197631836,
          27.79563331604004,
          37.23268127441406,
          27.4295597076416,
          24.371944427490234,
          -1.9307242631912231,
          -3.544651746749878,
          -2.546424627304077,
          -3.867452621459961,
          -2.539578437805176,
          22.91086196899414,
          22.938846588134766,
          -4.5611958503723145,
          -2.0899624824523926,
          22.24662208557129,
          22.97344207763672,
          -2.830519914627075,
          -2.8470113277435303,
          -3.201732635498047,
          -3.616671323776245,
          -3.6067230701446533,
          -2.5643889904022217,
          -3.4088311195373535,
          -1.678799033164978,
          -3.120171308517456,
          -4.325323104858398,
          -2.9361014366149902,
          -4.068422317504883,
          -3.93324613571167,
          -3.012615442276001,
          -3.4146156311035156,
          29.582111358642578,
          7.8426032066345215,
          29.486230850219727,
          8.31053352355957,
          -2.9948315620422363,
          34.91553497314453,
          -36.16808319091797,
          -18.858877182006836,
          42.058349609375,
          -21.911582946777344,
          9.531825065612793,
          -32.777164459228516,
          -34.63055419921875,
          -32.919368743896484,
          6.983394622802734,
          -39.3119010925293,
          -39.296600341796875,
          6.235986709594727,
          -12.426995277404785,
          -33.528907775878906,
          -33.365779876708984,
          -42.597572326660156,
          -38.132835388183594,
          -38.985382080078125,
          -38.5890007019043,
          7.492850303649902,
          -30.90682601928711,
          -30.866954803466797,
          -30.339048385620117,
          -32.7302360534668,
          -32.73486328125,
          -32.70932388305664,
          5.3219428062438965,
          -32.733856201171875,
          -31.33739471435547,
          -36.789268493652344,
          42.22898483276367,
          24.292463302612305,
          16.063629150390625,
          17.735891342163086,
          16.090681076049805,
          17.73849868774414
         ],
         "yaxis": "y"
        },
        {
         "hovertemplate": "Label=sad<br>x=%{x}<br>y=%{y}<extra></extra>",
         "legendgroup": "sad",
         "marker": {
          "color": "#FFA15A",
          "symbol": "circle"
         },
         "mode": "markers",
         "name": "sad",
         "showlegend": true,
         "type": "scattergl",
         "x": [
          19.26914405822754,
          13.194859504699707,
          -13.634405136108398,
          -11.721623420715332,
          -11.223024368286133,
          -12.765921592712402,
          2.5409600734710693,
          -13.165254592895508,
          -14.963820457458496,
          -20.36762237548828,
          -20.193939208984375,
          -20.2482852935791,
          -20.210744857788086,
          -7.008775234222412,
          -6.737190246582031,
          -6.830357074737549,
          -20.623075485229492,
          -20.44635009765625,
          -21.361190795898438,
          -21.441598892211914,
          -21.39678192138672,
          -20.463260650634766,
          -5.506848335266113,
          -21.049728393554688,
          -21.055307388305664,
          -7.1174468994140625,
          -20.134471893310547,
          -20.242483139038086,
          -20.595081329345703,
          -35.64680862426758,
          -35.64677810668945,
          -2.4931187629699707,
          -2.159752130508423,
          -2.4184391498565674,
          -33.497501373291016,
          -33.635658264160156,
          -33.49741744995117,
          -34.81526184082031,
          -2.5196244716644287,
          -34.81565856933594,
          -36.84678649902344,
          -34.96244812011719,
          -36.84678649902344,
          -34.020267486572266,
          -35.632080078125,
          -34.020267486572266,
          -36.98203659057617,
          -36.89736557006836,
          -36.98224639892578,
          -31.790069580078125,
          -33.92919921875,
          -31.790069580078125,
          -31.488842010498047,
          -31.488746643066406,
          -31.48872184753418,
          -37.07283020019531,
          -2.629943370819092,
          -35.345008850097656,
          -35.34512710571289,
          32.323726654052734,
          32.50764846801758,
          32.573299407958984,
          -23.709434509277344,
          16.01421356201172,
          -23.749774932861328,
          31.76812171936035,
          33.191001892089844,
          31.85076141357422,
          16.615182876586914,
          6.551297664642334,
          1.3251532316207886,
          6.2044477462768555,
          7.15272855758667,
          5.525050640106201,
          7.358488082885742,
          5.26515007019043,
          1.0962646007537842,
          7.307650089263916,
          5.727285385131836,
          1.121825098991394,
          7.350622653961182,
          5.7404584884643555,
          1.1614797115325928,
          1.1755883693695068,
          5.671499252319336,
          1.257602572441101,
          5.543154239654541,
          1.1631834506988525,
          5.4276509284973145,
          -25.87843132019043,
          -3.6663973331451416,
          -2.649599313735962,
          -2.4303395748138428,
          -4.401618957519531,
          -4.234030246734619,
          -4.716846466064453,
          36.866153717041016,
          36.4245491027832,
          24.719593048095703,
          35.275001525878906,
          35.38231658935547,
          35.8149528503418,
          35.4524040222168,
          36.8524169921875,
          -3.4808578491210938,
          -2.7236697673797607,
          -3.3360376358032227,
          25.151622772216797,
          -3.8216114044189453,
          37.434871673583984,
          -3.48178768157959,
          34.172481536865234,
          34.50047302246094,
          34.41732406616211,
          -4.132019519805908,
          -17.44585418701172,
          -18.183305740356445,
          -18.140954971313477,
          -18.22481918334961,
          -16.640077590942383,
          -16.36568260192871,
          31.651018142700195,
          -17.65106201171875,
          -21.649417877197266,
          31.67243766784668,
          18.445220947265625,
          31.554401397705078,
          31.406036376953125,
          -12.018301010131836,
          30.65707778930664,
          -21.476207733154297,
          -11.777198791503906,
          -11.24960994720459,
          -11.46786117553711,
          -12.506260871887207,
          -13.488222122192383,
          -11.309061050415039,
          -11.290258407592773,
          30.698354721069336,
          -13.229216575622559,
          30.633747100830078,
          -13.674708366394043,
          -40.20171356201172,
          -13.274652481079102,
          -9.426421165466309,
          -9.449639320373535,
          -12.081461906433105,
          -40.33515548706055,
          33.090171813964844,
          -14.771084785461426,
          -1.4331154823303223,
          -20.384849548339844,
          23.078140258789062,
          -21.094097137451172,
          -41.021575927734375,
          -20.998619079589844,
          -3.5501697063446045,
          -4.8437347412109375,
          -1.5091115236282349,
          -2.52787709236145,
          -2.450373888015747,
          -2.7086868286132812,
          -0.004781618714332581,
          -0.01194392517209053,
          -21.20604705810547,
          -5.8834638595581055,
          -29.091588973999023,
          -27.543609619140625,
          28.912006378173828,
          -29.1065673828125,
          13.150071144104004,
          -27.5366268157959,
          33.74272155761719,
          15.414393424987793,
          37.094261169433594,
          16.54433822631836,
          37.09474182128906,
          37.10300064086914,
          17.218847274780273
         ],
         "xaxis": "x",
         "y": [
          39.39017105102539,
          34.53706359863281,
          -41.354251861572266,
          -39.804290771484375,
          -39.77301788330078,
          -40.08451843261719,
          29.989133834838867,
          9.492071151733398,
          -40.625980377197266,
          0.20704439282417297,
          3.229478597640991,
          3.237628698348999,
          3.0941765308380127,
          -36.24258804321289,
          -36.27375411987305,
          -36.17803192138672,
          3.3701205253601074,
          3.7035932540893555,
          0.9949296116828918,
          0.9005184173583984,
          0.7995666265487671,
          -0.19819140434265137,
          -36.947174072265625,
          2.9170377254486084,
          2.7190873622894287,
          -36.096435546875,
          -0.6784292459487915,
          -0.6571547985076904,
          1.7927305698394775,
          8.026501655578613,
          8.026565551757812,
          -44.09709548950195,
          -43.6668586730957,
          -43.92070007324219,
          6.157927513122559,
          6.692074298858643,
          6.1578240394592285,
          7.809140682220459,
          -43.873477935791016,
          7.808877468109131,
          8.629776954650879,
          8.14375114440918,
          8.629776954650879,
          6.4462971687316895,
          8.654129981994629,
          6.4462971687316895,
          6.954278945922852,
          7.723832130432129,
          6.954187393188477,
          8.300468444824219,
          5.922776222229004,
          8.300468444824219,
          7.549808025360107,
          7.550185680389404,
          7.549880504608154,
          8.576950073242188,
          -43.92748260498047,
          6.355062007904053,
          6.355022430419922,
          -26.56315040588379,
          -26.426889419555664,
          -26.448856353759766,
          15.318687438964844,
          34.63904571533203,
          15.294699668884277,
          -26.767427444458008,
          -26.04853630065918,
          -26.95908546447754,
          34.25349807739258,
          31.9353084564209,
          27.42568588256836,
          34.50801086425781,
          26.178600311279297,
          34.11589813232422,
          26.25339698791504,
          34.86222839355469,
          32.60700988769531,
          26.2568416595459,
          34.62009811401367,
          32.586788177490234,
          26.21742820739746,
          34.378326416015625,
          32.55171203613281,
          26.626285552978516,
          35.102542877197266,
          26.826553344726562,
          35.302345275878906,
          26.2040958404541,
          35.49971008300781,
          15.548783302307129,
          -1.305277705192566,
          -1.0613871812820435,
          -0.25788867473602295,
          -1.4189029932022095,
          1.2264938354492188,
          -2.1546294689178467,
          -5.335872650146484,
          -4.665882587432861,
          20.222110748291016,
          -4.375581741333008,
          -5.292013168334961,
          -4.690931797027588,
          -4.787342548370361,
          -5.141412258148193,
          -0.8068122863769531,
          -1.0317614078521729,
          -2.403116464614868,
          19.89402961730957,
          -2.3624777793884277,
          -5.396402835845947,
          -0.8325823545455933,
          -3.8938663005828857,
          -3.3649134635925293,
          -4.587435722351074,
          -2.3161985874176025,
          -34.748191833496094,
          -34.245296478271484,
          -34.33363342285156,
          -34.21681594848633,
          -34.390663146972656,
          -33.93376541137695,
          -11.407155990600586,
          5.56704044342041,
          -42.43735885620117,
          -11.198282241821289,
          27.186325073242188,
          -11.530564308166504,
          -11.834555625915527,
          7.3046793937683105,
          -9.202325820922852,
          -43.172157287597656,
          7.478029727935791,
          -41.17641830444336,
          -40.97140121459961,
          6.178858280181885,
          7.526279926300049,
          -40.38717269897461,
          -40.60712814331055,
          -9.323512077331543,
          5.9634528160095215,
          -9.539618492126465,
          8.70885944366455,
          -20.19447898864746,
          8.902776718139648,
          -38.46219253540039,
          -38.468204498291016,
          8.251688003540039,
          -19.628768920898438,
          -18.983285903930664,
          -36.44950485229492,
          -27.918977737426758,
          -2.954336404800415,
          35.26826477050781,
          12.536752700805664,
          -21.4918155670166,
          9.851792335510254,
          -28.649940490722656,
          -28.926700592041016,
          -29.556795120239258,
          -28.59795379638672,
          -28.600494384765625,
          -28.48527717590332,
          -2.556832790374756,
          -2.544900894165039,
          -36.748085021972656,
          -29.136077880859375,
          14.23021411895752,
          15.719648361206055,
          -28.716373443603516,
          14.214377403259277,
          31.92030143737793,
          15.893240928649902,
          -27.347747802734375,
          36.42287063598633,
          -25.659700393676758,
          40.44136428833008,
          -25.66769790649414,
          -25.651613235473633,
          34.67643737792969
         ],
         "yaxis": "y"
        },
        {
         "hovertemplate": "Label=surprised<br>x=%{x}<br>y=%{y}<extra></extra>",
         "legendgroup": "surprised",
         "marker": {
          "color": "#19d3f3",
          "symbol": "circle"
         },
         "mode": "markers",
         "name": "surprised",
         "showlegend": true,
         "type": "scattergl",
         "x": [
          -13.076870918273926,
          -15.767592430114746,
          -10.097724914550781,
          28.382911682128906,
          -12.187758445739746,
          24.118406295776367,
          -14.89390754699707,
          -39.93556594848633,
          -17.61564826965332,
          -25.715797424316406,
          -25.584917068481445,
          -24.756004333496094,
          30.9219970703125,
          -24.871461868286133,
          -24.738534927368164,
          -38.86000061035156,
          -24.718050003051758,
          30.803730010986328,
          30.282535552978516,
          30.636226654052734,
          -24.872716903686523,
          -25.522268295288086,
          30.37994384765625,
          30.465373992919922,
          20.22224998474121,
          -38.35861587524414,
          20.56376838684082,
          30.039794921875,
          20.77694320678711,
          20.0197696685791,
          30.26427459716797,
          -5.374777317047119,
          -5.174300193786621,
          -35.78490447998047,
          -19.19552993774414,
          -36.37833786010742,
          -35.852264404296875,
          -36.42433166503906,
          -5.246264934539795,
          -5.152817249298096,
          -36.460269927978516,
          -38.903785705566406,
          22.767427444458008,
          -37.662353515625,
          -40.413326263427734,
          -36.25566864013672,
          -40.01738357543945,
          -5.556144714355469,
          -37.27924728393555,
          23.59636116027832,
          -36.204219818115234,
          -39.36350631713867,
          -36.74875259399414,
          -40.88032913208008,
          -36.97926330566406,
          22.77789878845215,
          -37.02854919433594,
          -40.302520751953125,
          -37.25286102294922,
          -36.884185791015625,
          24.00337028503418,
          15.275975227355957,
          16.14436149597168,
          16.035877227783203,
          16.71361541748047,
          14.988590240478516,
          32.501434326171875,
          31.859865188598633,
          -25.858814239501953,
          -25.940906524658203,
          -25.795942306518555,
          -28.735618591308594,
          -28.739742279052734,
          14.585453987121582,
          34.35606384277344,
          33.905391693115234,
          34.61021423339844,
          34.30832290649414,
          34.645286560058594,
          34.39476013183594,
          13.796653747558594,
          13.261211395263672,
          25.28282356262207,
          32.01381301879883,
          -7.578595161437988,
          28.179950714111328,
          28.967824935913086,
          -7.497501850128174,
          29.665645599365234,
          -7.683465480804443,
          -7.823454856872559,
          29.58079719543457,
          -7.274946689605713,
          29.576786041259766,
          30.83719253540039,
          26.49224281311035,
          37.20307540893555,
          -8.234697341918945,
          24.124773025512695,
          -7.01664924621582,
          31.889944076538086,
          24.065515518188477,
          32.08757019042969,
          24.629867553710938,
          26.429641723632812,
          26.653566360473633,
          27.054624557495117,
          -39.415184020996094,
          -17.651941299438477,
          -39.25273132324219,
          -20.57228660583496,
          -13.603413581848145,
          -13.689775466918945,
          11.912362098693848,
          -19.509958267211914,
          -39.253841400146484,
          -15.273050308227539,
          -15.224696159362793,
          -17.70897674560547,
          -18.042531967163086,
          -15.260448455810547,
          -38.93688201904297,
          -19.234848022460938,
          -19.332141876220703,
          9.320520401000977,
          14.104930877685547,
          -38.7857551574707,
          -7.731706619262695,
          -9.880900382995605,
          -40.222904205322266,
          12.32040786743164,
          -7.669450759887695,
          13.405634880065918,
          -23.053972244262695,
          -23.45099639892578,
          25.948726654052734,
          31.08513069152832,
          28.382850646972656,
          13.26352310180664,
          -40.09782028198242,
          -9.71056079864502,
          -20.845735549926758,
          -3.077655792236328,
          -3.539262533187866,
          -5.025005340576172,
          -4.054088592529297,
          -3.442307949066162,
          -5.443470001220703,
          -6.576854705810547,
          -2.62312912940979,
          -4.173405647277832,
          -4.0102667808532715,
          29.57318115234375,
          30.15363311767578,
          30.279518127441406,
          30.878164291381836,
          30.407743453979492,
          29.385784149169922,
          30.321290969848633,
          31.128049850463867,
          30.587862014770508,
          29.52646827697754,
          31.375825881958008,
          30.892742156982422,
          31.00594139099121,
          31.069581985473633,
          31.151227951049805,
          31.586456298828125,
          29.77192497253418,
          31.634300231933594,
          31.77630615234375,
          29.784757614135742
         ],
         "xaxis": "x",
         "y": [
          -39.30739212036133,
          -39.849830627441406,
          -43.37788009643555,
          -7.5526227951049805,
          5.330183506011963,
          25.925382614135742,
          8.321125030517578,
          -22.631858825683594,
          9.587113380432129,
          6.914768695831299,
          6.853602886199951,
          6.5654144287109375,
          -15.787374496459961,
          6.612583637237549,
          7.179473876953125,
          -20.75468635559082,
          7.242400169372559,
          -15.844728469848633,
          -17.30497932434082,
          -16.73097038269043,
          6.961436748504639,
          7.37160062789917,
          -16.343873977661133,
          -16.212011337280273,
          30.692218780517578,
          -20.733354568481445,
          30.93536949157715,
          -16.188920974731445,
          31.17067527770996,
          30.66518211364746,
          -15.765742301940918,
          -51.650657653808594,
          -51.648643493652344,
          15.890636444091797,
          -37.72216033935547,
          15.726835250854492,
          16.987018585205078,
          17.272075653076172,
          -47.461021423339844,
          -51.6279182434082,
          17.512269973754883,
          16.496625900268555,
          -17.000686645507812,
          14.285664558410645,
          17.084869384765625,
          13.755646705627441,
          16.69748878479004,
          -47.53170394897461,
          15.088394165039062,
          -16.773853302001953,
          14.249484062194824,
          16.548097610473633,
          14.375357627868652,
          16.99098014831543,
          14.956768035888672,
          -17.025745391845703,
          14.704585075378418,
          16.976696014404297,
          13.804378509521484,
          13.896604537963867,
          -16.668838500976562,
          33.68033981323242,
          33.473628997802734,
          33.480228424072266,
          33.883155822753906,
          33.85198211669922,
          -25.303485870361328,
          -25.707855224609375,
          13.49113941192627,
          13.508162498474121,
          13.369441986083984,
          10.671906471252441,
          10.663613319396973,
          35.53846740722656,
          -22.676000595092773,
          -22.743032455444336,
          -23.007951736450195,
          -22.67273712158203,
          -23.27983283996582,
          -22.697158813476562,
          25.105449676513672,
          35.88786315917969,
          22.906097412109375,
          -2.714881181716919,
          -3.865220308303833,
          -2.8949291706085205,
          -2.380767822265625,
          -4.168638706207275,
          -2.45493483543396,
          -0.584251880645752,
          -2.3270061016082764,
          -2.5506691932678223,
          -3.2738754749298096,
          -3.3797619342803955,
          -1.9918758869171143,
          18.639820098876953,
          -2.543344497680664,
          -1.462101697921753,
          22.612899780273438,
          -3.1953892707824707,
          -2.8144073486328125,
          22.335920333862305,
          -2.500579833984375,
          21.442127227783203,
          19.277448654174805,
          18.76542854309082,
          18.66777801513672,
          -22.025842666625977,
          -30.168331146240234,
          -21.924320220947266,
          -34.1877555847168,
          -30.331768035888672,
          -30.367345809936523,
          34.490867614746094,
          -31.913291931152344,
          -22.768390655517578,
          -30.692289352416992,
          -30.59027862548828,
          -30.216705322265625,
          -30.45163917541504,
          -30.701379776000977,
          -21.953401565551758,
          -31.77768898010254,
          -31.881864547729492,
          41.56188201904297,
          24.303054809570312,
          -22.439109802246094,
          -42.79945755004883,
          -0.11600100994110107,
          -20.411558151245117,
          30.752031326293945,
          -42.80696105957031,
          29.825397491455078,
          8.92448616027832,
          10.61329460144043,
          31.906532287597656,
          -12.84154224395752,
          -18.82421112060547,
          25.33175277709961,
          -22.52357292175293,
          -32.387176513671875,
          9.685500144958496,
          -30.922286987304688,
          -30.63213348388672,
          -0.7034682631492615,
          -30.75142478942871,
          -30.531967163085938,
          -0.970971941947937,
          -0.94846510887146,
          -31.299409866333008,
          -30.156049728393555,
          -31.543872833251953,
          37.2275505065918,
          39.273223876953125,
          38.88298797607422,
          38.55630111694336,
          38.776248931884766,
          36.9207763671875,
          39.69425964355469,
          39.221092224121094,
          39.87281799316406,
          37.180965423583984,
          39.558841705322266,
          39.448238372802734,
          39.873226165771484,
          38.660953521728516,
          40.88356018066406,
          38.87924575805664,
          36.79365539550781,
          39.19240951538086,
          39.95669174194336,
          36.85476303100586
         ],
         "yaxis": "y"
        }
       ],
       "layout": {
        "legend": {
         "title": {
          "text": "Label"
         },
         "tracegroupgap": 0
        },
        "margin": {
         "t": 60
        },
        "template": {
         "data": {
          "bar": [
           {
            "error_x": {
             "color": "#2a3f5f"
            },
            "error_y": {
             "color": "#2a3f5f"
            },
            "marker": {
             "line": {
              "color": "#E5ECF6",
              "width": 0.5
             },
             "pattern": {
              "fillmode": "overlay",
              "size": 10,
              "solidity": 0.2
             }
            },
            "type": "bar"
           }
          ],
          "barpolar": [
           {
            "marker": {
             "line": {
              "color": "#E5ECF6",
              "width": 0.5
             },
             "pattern": {
              "fillmode": "overlay",
              "size": 10,
              "solidity": 0.2
             }
            },
            "type": "barpolar"
           }
          ],
          "carpet": [
           {
            "aaxis": {
             "endlinecolor": "#2a3f5f",
             "gridcolor": "white",
             "linecolor": "white",
             "minorgridcolor": "white",
             "startlinecolor": "#2a3f5f"
            },
            "baxis": {
             "endlinecolor": "#2a3f5f",
             "gridcolor": "white",
             "linecolor": "white",
             "minorgridcolor": "white",
             "startlinecolor": "#2a3f5f"
            },
            "type": "carpet"
           }
          ],
          "choropleth": [
           {
            "colorbar": {
             "outlinewidth": 0,
             "ticks": ""
            },
            "type": "choropleth"
           }
          ],
          "contour": [
           {
            "colorbar": {
             "outlinewidth": 0,
             "ticks": ""
            },
            "colorscale": [
             [
              0,
              "#0d0887"
             ],
             [
              0.1111111111111111,
              "#46039f"
             ],
             [
              0.2222222222222222,
              "#7201a8"
             ],
             [
              0.3333333333333333,
              "#9c179e"
             ],
             [
              0.4444444444444444,
              "#bd3786"
             ],
             [
              0.5555555555555556,
              "#d8576b"
             ],
             [
              0.6666666666666666,
              "#ed7953"
             ],
             [
              0.7777777777777778,
              "#fb9f3a"
             ],
             [
              0.8888888888888888,
              "#fdca26"
             ],
             [
              1,
              "#f0f921"
             ]
            ],
            "type": "contour"
           }
          ],
          "contourcarpet": [
           {
            "colorbar": {
             "outlinewidth": 0,
             "ticks": ""
            },
            "type": "contourcarpet"
           }
          ],
          "heatmap": [
           {
            "colorbar": {
             "outlinewidth": 0,
             "ticks": ""
            },
            "colorscale": [
             [
              0,
              "#0d0887"
             ],
             [
              0.1111111111111111,
              "#46039f"
             ],
             [
              0.2222222222222222,
              "#7201a8"
             ],
             [
              0.3333333333333333,
              "#9c179e"
             ],
             [
              0.4444444444444444,
              "#bd3786"
             ],
             [
              0.5555555555555556,
              "#d8576b"
             ],
             [
              0.6666666666666666,
              "#ed7953"
             ],
             [
              0.7777777777777778,
              "#fb9f3a"
             ],
             [
              0.8888888888888888,
              "#fdca26"
             ],
             [
              1,
              "#f0f921"
             ]
            ],
            "type": "heatmap"
           }
          ],
          "heatmapgl": [
           {
            "colorbar": {
             "outlinewidth": 0,
             "ticks": ""
            },
            "colorscale": [
             [
              0,
              "#0d0887"
             ],
             [
              0.1111111111111111,
              "#46039f"
             ],
             [
              0.2222222222222222,
              "#7201a8"
             ],
             [
              0.3333333333333333,
              "#9c179e"
             ],
             [
              0.4444444444444444,
              "#bd3786"
             ],
             [
              0.5555555555555556,
              "#d8576b"
             ],
             [
              0.6666666666666666,
              "#ed7953"
             ],
             [
              0.7777777777777778,
              "#fb9f3a"
             ],
             [
              0.8888888888888888,
              "#fdca26"
             ],
             [
              1,
              "#f0f921"
             ]
            ],
            "type": "heatmapgl"
           }
          ],
          "histogram": [
           {
            "marker": {
             "pattern": {
              "fillmode": "overlay",
              "size": 10,
              "solidity": 0.2
             }
            },
            "type": "histogram"
           }
          ],
          "histogram2d": [
           {
            "colorbar": {
             "outlinewidth": 0,
             "ticks": ""
            },
            "colorscale": [
             [
              0,
              "#0d0887"
             ],
             [
              0.1111111111111111,
              "#46039f"
             ],
             [
              0.2222222222222222,
              "#7201a8"
             ],
             [
              0.3333333333333333,
              "#9c179e"
             ],
             [
              0.4444444444444444,
              "#bd3786"
             ],
             [
              0.5555555555555556,
              "#d8576b"
             ],
             [
              0.6666666666666666,
              "#ed7953"
             ],
             [
              0.7777777777777778,
              "#fb9f3a"
             ],
             [
              0.8888888888888888,
              "#fdca26"
             ],
             [
              1,
              "#f0f921"
             ]
            ],
            "type": "histogram2d"
           }
          ],
          "histogram2dcontour": [
           {
            "colorbar": {
             "outlinewidth": 0,
             "ticks": ""
            },
            "colorscale": [
             [
              0,
              "#0d0887"
             ],
             [
              0.1111111111111111,
              "#46039f"
             ],
             [
              0.2222222222222222,
              "#7201a8"
             ],
             [
              0.3333333333333333,
              "#9c179e"
             ],
             [
              0.4444444444444444,
              "#bd3786"
             ],
             [
              0.5555555555555556,
              "#d8576b"
             ],
             [
              0.6666666666666666,
              "#ed7953"
             ],
             [
              0.7777777777777778,
              "#fb9f3a"
             ],
             [
              0.8888888888888888,
              "#fdca26"
             ],
             [
              1,
              "#f0f921"
             ]
            ],
            "type": "histogram2dcontour"
           }
          ],
          "mesh3d": [
           {
            "colorbar": {
             "outlinewidth": 0,
             "ticks": ""
            },
            "type": "mesh3d"
           }
          ],
          "parcoords": [
           {
            "line": {
             "colorbar": {
              "outlinewidth": 0,
              "ticks": ""
             }
            },
            "type": "parcoords"
           }
          ],
          "pie": [
           {
            "automargin": true,
            "type": "pie"
           }
          ],
          "scatter": [
           {
            "fillpattern": {
             "fillmode": "overlay",
             "size": 10,
             "solidity": 0.2
            },
            "type": "scatter"
           }
          ],
          "scatter3d": [
           {
            "line": {
             "colorbar": {
              "outlinewidth": 0,
              "ticks": ""
             }
            },
            "marker": {
             "colorbar": {
              "outlinewidth": 0,
              "ticks": ""
             }
            },
            "type": "scatter3d"
           }
          ],
          "scattercarpet": [
           {
            "marker": {
             "colorbar": {
              "outlinewidth": 0,
              "ticks": ""
             }
            },
            "type": "scattercarpet"
           }
          ],
          "scattergeo": [
           {
            "marker": {
             "colorbar": {
              "outlinewidth": 0,
              "ticks": ""
             }
            },
            "type": "scattergeo"
           }
          ],
          "scattergl": [
           {
            "marker": {
             "colorbar": {
              "outlinewidth": 0,
              "ticks": ""
             }
            },
            "type": "scattergl"
           }
          ],
          "scattermapbox": [
           {
            "marker": {
             "colorbar": {
              "outlinewidth": 0,
              "ticks": ""
             }
            },
            "type": "scattermapbox"
           }
          ],
          "scatterpolar": [
           {
            "marker": {
             "colorbar": {
              "outlinewidth": 0,
              "ticks": ""
             }
            },
            "type": "scatterpolar"
           }
          ],
          "scatterpolargl": [
           {
            "marker": {
             "colorbar": {
              "outlinewidth": 0,
              "ticks": ""
             }
            },
            "type": "scatterpolargl"
           }
          ],
          "scatterternary": [
           {
            "marker": {
             "colorbar": {
              "outlinewidth": 0,
              "ticks": ""
             }
            },
            "type": "scatterternary"
           }
          ],
          "surface": [
           {
            "colorbar": {
             "outlinewidth": 0,
             "ticks": ""
            },
            "colorscale": [
             [
              0,
              "#0d0887"
             ],
             [
              0.1111111111111111,
              "#46039f"
             ],
             [
              0.2222222222222222,
              "#7201a8"
             ],
             [
              0.3333333333333333,
              "#9c179e"
             ],
             [
              0.4444444444444444,
              "#bd3786"
             ],
             [
              0.5555555555555556,
              "#d8576b"
             ],
             [
              0.6666666666666666,
              "#ed7953"
             ],
             [
              0.7777777777777778,
              "#fb9f3a"
             ],
             [
              0.8888888888888888,
              "#fdca26"
             ],
             [
              1,
              "#f0f921"
             ]
            ],
            "type": "surface"
           }
          ],
          "table": [
           {
            "cells": {
             "fill": {
              "color": "#EBF0F8"
             },
             "line": {
              "color": "white"
             }
            },
            "header": {
             "fill": {
              "color": "#C8D4E3"
             },
             "line": {
              "color": "white"
             }
            },
            "type": "table"
           }
          ]
         },
         "layout": {
          "annotationdefaults": {
           "arrowcolor": "#2a3f5f",
           "arrowhead": 0,
           "arrowwidth": 1
          },
          "autotypenumbers": "strict",
          "coloraxis": {
           "colorbar": {
            "outlinewidth": 0,
            "ticks": ""
           }
          },
          "colorscale": {
           "diverging": [
            [
             0,
             "#8e0152"
            ],
            [
             0.1,
             "#c51b7d"
            ],
            [
             0.2,
             "#de77ae"
            ],
            [
             0.3,
             "#f1b6da"
            ],
            [
             0.4,
             "#fde0ef"
            ],
            [
             0.5,
             "#f7f7f7"
            ],
            [
             0.6,
             "#e6f5d0"
            ],
            [
             0.7,
             "#b8e186"
            ],
            [
             0.8,
             "#7fbc41"
            ],
            [
             0.9,
             "#4d9221"
            ],
            [
             1,
             "#276419"
            ]
           ],
           "sequential": [
            [
             0,
             "#0d0887"
            ],
            [
             0.1111111111111111,
             "#46039f"
            ],
            [
             0.2222222222222222,
             "#7201a8"
            ],
            [
             0.3333333333333333,
             "#9c179e"
            ],
            [
             0.4444444444444444,
             "#bd3786"
            ],
            [
             0.5555555555555556,
             "#d8576b"
            ],
            [
             0.6666666666666666,
             "#ed7953"
            ],
            [
             0.7777777777777778,
             "#fb9f3a"
            ],
            [
             0.8888888888888888,
             "#fdca26"
            ],
            [
             1,
             "#f0f921"
            ]
           ],
           "sequentialminus": [
            [
             0,
             "#0d0887"
            ],
            [
             0.1111111111111111,
             "#46039f"
            ],
            [
             0.2222222222222222,
             "#7201a8"
            ],
            [
             0.3333333333333333,
             "#9c179e"
            ],
            [
             0.4444444444444444,
             "#bd3786"
            ],
            [
             0.5555555555555556,
             "#d8576b"
            ],
            [
             0.6666666666666666,
             "#ed7953"
            ],
            [
             0.7777777777777778,
             "#fb9f3a"
            ],
            [
             0.8888888888888888,
             "#fdca26"
            ],
            [
             1,
             "#f0f921"
            ]
           ]
          },
          "colorway": [
           "#636efa",
           "#EF553B",
           "#00cc96",
           "#ab63fa",
           "#FFA15A",
           "#19d3f3",
           "#FF6692",
           "#B6E880",
           "#FF97FF",
           "#FECB52"
          ],
          "font": {
           "color": "#2a3f5f"
          },
          "geo": {
           "bgcolor": "white",
           "lakecolor": "white",
           "landcolor": "#E5ECF6",
           "showlakes": true,
           "showland": true,
           "subunitcolor": "white"
          },
          "hoverlabel": {
           "align": "left"
          },
          "hovermode": "closest",
          "mapbox": {
           "style": "light"
          },
          "paper_bgcolor": "white",
          "plot_bgcolor": "#E5ECF6",
          "polar": {
           "angularaxis": {
            "gridcolor": "white",
            "linecolor": "white",
            "ticks": ""
           },
           "bgcolor": "#E5ECF6",
           "radialaxis": {
            "gridcolor": "white",
            "linecolor": "white",
            "ticks": ""
           }
          },
          "scene": {
           "xaxis": {
            "backgroundcolor": "#E5ECF6",
            "gridcolor": "white",
            "gridwidth": 2,
            "linecolor": "white",
            "showbackground": true,
            "ticks": "",
            "zerolinecolor": "white"
           },
           "yaxis": {
            "backgroundcolor": "#E5ECF6",
            "gridcolor": "white",
            "gridwidth": 2,
            "linecolor": "white",
            "showbackground": true,
            "ticks": "",
            "zerolinecolor": "white"
           },
           "zaxis": {
            "backgroundcolor": "#E5ECF6",
            "gridcolor": "white",
            "gridwidth": 2,
            "linecolor": "white",
            "showbackground": true,
            "ticks": "",
            "zerolinecolor": "white"
           }
          },
          "shapedefaults": {
           "line": {
            "color": "#2a3f5f"
           }
          },
          "ternary": {
           "aaxis": {
            "gridcolor": "white",
            "linecolor": "white",
            "ticks": ""
           },
           "baxis": {
            "gridcolor": "white",
            "linecolor": "white",
            "ticks": ""
           },
           "bgcolor": "#E5ECF6",
           "caxis": {
            "gridcolor": "white",
            "linecolor": "white",
            "ticks": ""
           }
          },
          "title": {
           "x": 0.05
          },
          "xaxis": {
           "automargin": true,
           "gridcolor": "white",
           "linecolor": "white",
           "ticks": "",
           "title": {
            "standoff": 15
           },
           "zerolinecolor": "white",
           "zerolinewidth": 2
          },
          "yaxis": {
           "automargin": true,
           "gridcolor": "white",
           "linecolor": "white",
           "ticks": "",
           "title": {
            "standoff": 15
           },
           "zerolinecolor": "white",
           "zerolinewidth": 2
          }
         }
        },
        "xaxis": {
         "anchor": "y",
         "domain": [
          0,
          1
         ],
         "title": {
          "text": "x"
         }
        },
        "yaxis": {
         "anchor": "x",
         "domain": [
          0,
          1
         ],
         "title": {
          "text": "y"
         }
        }
       }
      },
      "text/html": [
       "<div>                            <div id=\"bf41aa75-31d3-493e-86f6-dbe1a02747b3\" class=\"plotly-graph-div\" style=\"height:525px; width:100%;\"></div>            <script type=\"text/javascript\">                require([\"plotly\"], function(Plotly) {                    window.PLOTLYENV=window.PLOTLYENV || {};                                    if (document.getElementById(\"bf41aa75-31d3-493e-86f6-dbe1a02747b3\")) {                    Plotly.newPlot(                        \"bf41aa75-31d3-493e-86f6-dbe1a02747b3\",                        [{\"hovertemplate\":\"Label=angry\\u003cbr\\u003ex=%{x}\\u003cbr\\u003ey=%{y}\\u003cextra\\u003e\\u003c\\u002fextra\\u003e\",\"legendgroup\":\"angry\",\"marker\":{\"color\":\"#636efa\",\"symbol\":\"circle\"},\"mode\":\"markers\",\"name\":\"angry\",\"showlegend\":true,\"x\":[-11.725500106811523,-13.533727645874023,-12.336583137512207,-14.765125274658203,-15.239240646362305,-14.147061347961426,-40.42703628540039,-16.803022384643555,-40.347862243652344,-16.029699325561523,-12.686431884765625,33.996150970458984,-26.54584312438965,22.94577980041504,-26.9787654876709,-27.39911651611328,34.129722595214844,-26.605297088623047,-27.105703353881836,-27.01239776611328,34.768436431884766,34.876338958740234,34.63303756713867,34.82197189331055,34.69827651977539,-27.189434051513672,35.026084899902344,22.861284255981445,35.384849548339844,-27.82823371887207,-27.794021606445312,-43.32770919799805,-41.330318450927734,-43.48625183105469,-43.72062301635742,-43.748985290527344,20.56986427307129,-7.054405212402344,-7.956020832061768,-40.13063049316406,-43.730106353759766,-41.78894805908203,-41.57694625854492,-42.977813720703125,-42.585655212402344,-40.31382751464844,-39.09308624267578,-39.20261764526367,-40.50055694580078,-40.66866683959961,-42.48318862915039,-41.893348693847656,-39.677799224853516,-38.77237319946289,-39.15742492675781,-39.10917282104492,-39.54033279418945,-42.41917037963867,-43.02274703979492,-39.3524284362793,-38.64978790283203,28.18902015686035,27.862638473510742,-25.87444496154785,28.033334732055664,28.06441307067871,27.955245971679688,27.55339813232422,27.53016471862793,16.688196182250977,17.764663696289062,13.395828247070312,10.542195320129395,10.73619556427002,14.216453552246094,33.048099517822266,13.2725830078125,13.871421813964844,13.6104736328125,13.635284423828125,13.37726879119873,31.431543350219727,30.532346725463867,30.50922966003418,-8.530594825744629,-12.183632850646973,-12.192888259887695,33.04597854614258,-14.158856391906738,-23.48662757873535,-22.22153091430664,35.64750671386719,-21.081951141357422,-41.16389846801758,-20.59623146057129,-18.356332778930664,-11.00885009765625,-13.179807662963867,-10.989398956298828,-14.36856746673584,-12.594975471496582,-12.169379234313965,-19.891515731811523,-11.874167442321777,-11.156904220581055,-16.136974334716797,-16.093982696533203,-16.465341567993164,29.203916549682617,2.5232677459716797,31.550914764404297,30.602863311767578,19.843425750732422,-24.444290161132812,29.386512756347656,-39.73685073852539,-10.659279823303223,-9.232643127441406,-13.46400260925293,-12.351123809814453,-12.160935401916504,-12.391029357910156,-12.302993774414062,-9.791045188903809,-9.956546783447266,-13.008674621582031,32.08506774902344,-3.712498188018799,-2.9256532192230225,-16.678333282470703,-4.981361389160156,-20.06650161743164,-15.725768089294434,-3.7894294261932373,-21.01313591003418,-20.46196174621582,-29.2993106842041,-29.097497940063477,-29.634788513183594,-29.575143814086914,25.03351593017578,-29.589771270751953,-29.22947120666504,-28.789779663085938,-29.107624053955078,25.25151252746582,11.145788192749023,-28.724376678466797,11.131056785583496,25.270627975463867,24.8320369720459,25.321491241455078,24.562026977539062,24.488710403442383,-28.67148780822754,24.76508903503418],\"xaxis\":\"x\",\"y\":[11.723140716552734,-42.27842712402344,6.513999938964844,-42.24330139160156,-42.23183822631836,6.338018894195557,-22.964868545532227,-44.21087646484375,-23.071306228637695,-36.04819107055664,-37.01607894897461,-17.30267333984375,3.7338056564331055,30.111722946166992,4.294079303741455,4.394617080688477,-17.59372329711914,3.129204034805298,3.777310609817505,3.156100034713745,-17.316640853881836,-17.72536277770996,-17.653104782104492,-17.210430145263672,-16.924644470214844,3.7569873332977295,-16.862483978271484,30.022077560424805,-17.3432674407959,2.927506446838379,2.7867040634155273,16.052072525024414,13.2625732421875,16.39007568359375,15.808172225952148,16.496177673339844,-14.801640510559082,-47.465576171875,-47.439239501953125,11.665462493896484,15.114078521728516,15.77741527557373,16.094106674194336,14.181212425231934,14.122089385986328,12.485068321228027,11.548460960388184,11.834027290344238,12.82445240020752,13.129758834838867,15.219549179077148,16.295738220214844,12.915325164794922,12.199338912963867,13.275129318237305,13.357952117919922,13.172564506530762,14.168048858642578,14.59908676147461,11.9982328414917,11.546534538269043,-26.321956634521484,-26.054458618164062,15.047268867492676,-26.036151885986328,-26.622682571411133,-26.98733139038086,-26.009302139282227,-26.44352912902832,32.889442443847656,33.522705078125,39.655887603759766,41.92347717285156,42.324859619140625,37.54801940917969,-20.007150650024414,40.1246223449707,37.83897018432617,38.32844543457031,38.229183197021484,39.80457305908203,-3.96148943901062,-5.06476354598999,-5.0788984298706055,-2.5583481788635254,-0.9800812602043152,-0.9801750779151917,-19.234840393066406,-36.487579345703125,10.551862716674805,4.252117156982422,-18.5686092376709,12.531390190124512,-21.874332427978516,9.697164535522461,10.145968437194824,-34.62105178833008,-35.735836029052734,-34.65713119506836,-34.91883850097656,-35.046207427978516,-35.038177490234375,5.84687614440918,-32.69963455200195,-34.03947830200195,-33.83302307128906,-33.47542190551758,-34.19129943847656,-9.070046424865723,30.09262466430664,-8.996831893920898,-8.946255683898926,24.514320373535156,9.760819435119629,-8.499268531799316,-19.6688289642334,7.209721565246582,-41.04818344116211,6.300059795379639,-41.958030700683594,-41.63948059082031,-42.01194763183594,-41.63542938232422,-41.928916931152344,-41.924442291259766,7.82078218460083,-3.590977668762207,0.7558667659759521,2.3983523845672607,8.865732192993164,-29.549083709716797,-36.8842887878418,-42.999267578125,-27.947660446166992,-36.90681457519531,-36.77698516845703,19.90862464904785,19.170286178588867,19.789875030517578,19.541288375854492,-27.042884826660156,19.203386306762695,19.082786560058594,19.503395080566406,19.912044525146484,-27.847030639648438,32.21302795410156,19.391767501831055,32.20399475097656,-27.645124435424805,-27.610553741455078,-27.524885177612305,-27.521846771240234,-27.127668380737305,20.016448974609375,-27.094505310058594],\"yaxis\":\"y\",\"type\":\"scattergl\"},{\"hovertemplate\":\"Label=disgusted\\u003cbr\\u003ex=%{x}\\u003cbr\\u003ey=%{y}\\u003cextra\\u003e\\u003c\\u002fextra\\u003e\",\"legendgroup\":\"disgusted\",\"marker\":{\"color\":\"#EF553B\",\"symbol\":\"circle\"},\"mode\":\"markers\",\"name\":\"disgusted\",\"showlegend\":true,\"x\":[-12.857624053955078,-14.321993827819824,-12.797628402709961,-10.635002136230469,-17.031051635742188,-14.146044731140137,-16.595048904418945,-14.65580940246582,-12.635600090026855,-19.063173294067383,-18.457813262939453,34.57292938232422,-18.78435516357422,33.06155776977539,-17.725847244262695,-19.173377990722656,-17.59597396850586,34.42399215698242,-17.560962677001953,-18.732633590698242,19.09981346130371,33.36556625366211,-19.238588333129883,33.641971588134766,33.40890121459961,18.931209564208984,20.313018798828125,20.94757652282715,20.817594528198242,-3.0609841346740723,-2.9799160957336426,-1.0487034320831299,-0.49065589904785156,-2.260435104370117,-1.393636703491211,-1.8204880952835083,-2.1029837131500244,36.174232482910156,23.9741268157959,-37.515438079833984,-2.233682870864868,-2.256772041320801,-3.2227373123168945,-2.20167875289917,-2.470273733139038,-3.1404287815093994,-37.833187103271484,-3.343123197555542,-3.2037370204925537,-37.30929946899414,-38.13728713989258,-2.2869584560394287,-1.9958891868591309,-1.5009418725967407,-1.4344154596328735,-1.521343469619751,-1.5783360004425049,-1.3789411783218384,-37.656585693359375,19.918474197387695,18.7305850982666,18.598045349121094,17.51839828491211,17.521032333374023,20.321800231933594,19.89495277404785,19.867246627807617,20.3701229095459,19.999731063842773,14.241744995117188,14.271474838256836,15.564616203308105,14.34352970123291,15.603727340698242,15.070780754089355,15.46220588684082,14.752206802368164,13.679896354675293,25.271650314331055,27.20876693725586,26.46108627319336,30.5531063079834,28.05190086364746,26.660999298095703,28.861663818359375,30.508991241455078,26.355716705322266,26.928098678588867,26.914424896240234,27.227502822875977,28.89368438720703,28.65789222717285,26.05025863647461,29.16300392150879,26.816471099853516,29.187231063842773,27.682531356811523,28.06402587890625,28.812999725341797,29.721155166625977,30.405031204223633,27.932369232177734,27.456594467163086,27.104196548461914,27.087369918823242,36.49604797363281,29.494369506835938,16.753253936767578,-22.52216148376465,26.261842727661133,25.93573570251465,-29.68750762939453,18.899925231933594,23.065200805664062,-8.029606819152832,-11.176942825317383,-40.4260368347168,-21.341596603393555,-12.094525337219238,-40.828773498535156,-18.218399047851562,-16.287967681884766,-8.881786346435547,-15.713203430175781,28.648059844970703,-12.76051139831543,-12.73385238647461,-11.503993034362793,-11.546581268310547,-40.061248779296875,24.133625030517578,-39.74783706665039,27.338380813598633,25.45203971862793,-10.396193504333496,-39.311161041259766,29.59817886352539,19.693138122558594,-10.686470031738281,-2.9180190563201904,-4.542495250701904,-2.35332989692688,-1.6519197225570679,-5.076242923736572,-5.13170051574707,35.84831619262695,35.749298095703125,-0.878512978553772,21.626707077026367,24.733203887939453,22.78404998779297,21.217626571655273,22.730974197387695,22.915485382080078,22.610260009765625,23.390640258789062,23.323339462280273,24.096498489379883,23.33856964111328,23.192832946777344,24.305557250976562,24.30548858642578,22.65831184387207,23.418672561645508,22.255088806152344,22.25467300415039,22.556598663330078,22.749101638793945],\"xaxis\":\"x\",\"y\":[-42.85374069213867,9.970511436462402,8.581527709960938,-44.840965270996094,-40.56093978881836,4.492546081542969,-42.211238861083984,-41.74968338012695,-40.076622009277344,0.5902104377746582,0.06346834450960159,-12.001947402954102,0.09714814275503159,-13.05142593383789,-0.11030206084251404,1.5974539518356323,-0.684058427810669,-12.12365436553955,-0.6575087308883667,-0.6025807857513428,27.13822364807129,-12.795058250427246,-0.377390593290329,-12.515691757202148,-13.522680282592773,27.142574310302734,26.958740234375,27.603965759277344,27.453067779541016,-50.9888801574707,-51.019779205322266,-49.51292037963867,-49.479652404785156,-50.78306579589844,-50.50077438354492,-49.85844039916992,-51.646427154541016,-16.536823272705078,28.337867736816406,19.696571350097656,-48.111671447753906,-48.32467269897461,-49.98432540893555,-48.99983596801758,-48.92933654785156,-49.89720916748047,19.371685028076172,-49.57712173461914,-49.583396911621094,19.838735580444336,19.48723030090332,-47.860801696777344,-47.589412689208984,-49.173152923583984,-48.418174743652344,-48.23388671875,-47.5860710144043,-47.97739791870117,19.716278076171875,35.13416290283203,33.6029167175293,33.52159881591797,32.28477096557617,32.30202865600586,37.165306091308594,36.35329818725586,36.595558166503906,37.23102569580078,43.21847915649414,42.06755065917969,42.033138275146484,41.17185592651367,41.4537353515625,41.12664794921875,41.663291931152344,41.11888885498047,41.36164855957031,41.53892517089844,23.390451431274414,20.888883590698242,23.331937789916992,20.65007209777832,23.143543243408203,23.735931396484375,21.560474395751953,20.908071517944336,24.47357940673828,25.52338218688965,24.876333236694336,24.113162994384766,22.648225784301758,21.59801483154297,22.948991775512695,20.790996551513672,22.843189239501953,20.488079071044922,20.385019302368164,20.889455795288086,21.531068801879883,20.704959869384766,19.851959228515625,21.661836624145508,20.99356460571289,23.21303939819336,23.050016403198242,-2.34926176071167,20.19688606262207,37.56482696533203,7.506184101104736,-14.309172630310059,31.90155792236328,5.696734428405762,28.681997299194336,35.258079528808594,-36.99026107788086,-35.97902297973633,-21.7990665435791,10.108052253723145,9.110600471496582,-19.876522064208984,4.343341827392578,1.6965912580490112,-36.94932174682617,-34.444583892822266,-9.157988548278809,3.691744804382324,3.6108601093292236,-38.93822479248047,6.875887393951416,-19.235919952392578,27.017976760864258,-20.244279861450195,-9.790775299072266,27.10072898864746,6.5800580978393555,-19.67784309387207,-8.573556900024414,24.88661003112793,6.489996433258057,0.7006110548973083,1.4443241357803345,1.4722275733947754,1.2049258947372437,0.540727972984314,0.518944263458252,-1.9931159019470215,-1.9505934715270996,3.501088857650757,42.73482894897461,42.649620056152344,42.66974639892578,42.210208892822266,41.72629165649414,42.4140510559082,41.452552795410156,44.074344635009766,43.81692123413086,43.87137222290039,42.79749298095703,43.45390319824219,42.04307556152344,42.04304504394531,43.30411148071289,43.26651382446289,43.28907775878906,43.28887176513672,43.802207946777344,44.11992645263672],\"yaxis\":\"y\",\"type\":\"scattergl\"},{\"hovertemplate\":\"Label=happy\\u003cbr\\u003ex=%{x}\\u003cbr\\u003ey=%{y}\\u003cextra\\u003e\\u003c\\u002fextra\\u003e\",\"legendgroup\":\"happy\",\"marker\":{\"color\":\"#00cc96\",\"symbol\":\"circle\"},\"mode\":\"markers\",\"name\":\"happy\",\"showlegend\":true,\"x\":[28.683666229248047,-14.241541862487793,19.282201766967773,29.043882369995117,18.81569480895996,18.83782958984375,9.83322525024414,10.475310325622559,-15.111570358276367,-15.268660545349121,16.147192001342773,13.185976028442383,20.879825592041016,20.86536407470703,24.369831085205078,15.335620880126953,16.094667434692383,-17.15833282470703,-10.218207359313965,-11.647502899169922,-13.944740295410156,23.06544303894043,23.791255950927734,-11.922883987426758,-10.396367073059082,-12.157979011535645,-11.954358100891113,-10.944981575012207,-10.08127212524414,-8.360493659973145,-13.567158699035645,-24.343421936035156,-3.3648366928100586,-3.2749531269073486,-23.076135635375977,-2.8965277671813965,-3.183069944381714,-23.108522415161133,-24.1232967376709,-3.4639291763305664,-2.867191791534424,-2.9696130752563477,-23.044687271118164,-3.605304718017578,22.172592163085938,32.92061996459961,-24.48617172241211,33.08676528930664,-24.573047637939453,-24.82280158996582,-38.57853317260742,32.953731536865234,32.88180923461914,-6.867931842803955,-42.2820930480957,-42.24470901489258,-6.915733814239502,-42.25144958496094,-9.13470458984375,-9.1321382522583,-8.450430870056152,-9.128327369689941,-40.71229553222656,23.695457458496094,20.57735252380371,21.322973251342773,23.022794723510742,21.266023635864258,23.00969696044922,16.073101043701172,22.290420532226562,22.479084014892578,23.01531410217285,23.090181350708008,-39.4766731262207,-39.41605758666992,-39.42897033691406,22.25282096862793,20.5985107421875,22.484392166137695,22.473960876464844,23.163999557495117,-39.55827331542969,14.337065696716309,30.038864135742188,14.007131576538086,29.275741577148438,29.316457748413086,14.469232559204102,13.666543960571289,14.360468864440918,29.436508178710938,13.481553077697754,14.277688026428223,15.834575653076172,14.140192985534668,29.079605102539062,15.239402770996094,28.896438598632812,29.139171600341797,29.100313186645508,12.014914512634277,30.641769409179688,14.608612060546875,4.389975547790527,12.638361930847168,5.567973613739014,11.882957458496094,12.602871894836426,4.429592132568359,10.843626022338867,5.2546844482421875,8.62763500213623,1.8878424167633057,8.272268295288086,13.387988090515137,6.829825401306152,2.5048036575317383,15.323596954345703,13.871301651000977,2.7373976707458496,12.022381782531738,6.888390064239502,2.7176878452301025,18.939697265625,8.249792098999023,8.20654296875,3.874171018600464,-0.7371441125869751,14.646244049072266,0.0737280398607254,14.896553993225098,15.187358856201172,8.477412223815918,6.227395534515381,10.50217056274414,6.118847370147705,1.3820080757141113,15.191926956176758,10.993940353393555,2.068765878677368,7.363731384277344,1.7619198560714722,7.3180108070373535,34.02095031738281,-4.593625068664551,33.6666374206543,34.07242202758789,-5.566514492034912,-4.9669623374938965,-5.441830635070801,-4.926438331604004,-2.9838645458221436,-2.7237813472747803,-3.977182149887085,-5.552702903747559,-4.9004316329956055,-3.9601151943206787,-4.285583972930908,-4.725271701812744,-5.13947868347168,-3.5419816970825195,-3.435818910598755,-5.565295219421387,33.19441223144531,-5.886823654174805,32.92869186401367,-3.8772640228271484,-6.1341047286987305,25.33378791809082,32.48405075073242,33.98869705200195,-13.134008407592773,-13.799020767211914,-13.99681568145752,-12.806485176086426,-12.693470001220703,-13.464070320129395,-39.49909210205078,-9.739592552185059,-12.64345645904541,-9.8825101852417,30.14277458190918,-9.933449745178223,-10.582306861877441,-11.088465690612793,-13.069676399230957,-17.01417350769043,-9.10922622680664,29.042051315307617,-16.119831085205078,-21.4959659576416,-12.159428596496582,-12.452231407165527,29.622549057006836,-40.7947998046875,-14.395899772644043,22.725744247436523,22.552345275878906,29.50399398803711,-10.716609001159668,29.543371200561523,-14.528974533081055,21.71617317199707,17.788610458374023,18.510211944580078,-20.770061492919922,-39.77193069458008,-40.422821044921875,-13.028124809265137,-1.841639518737793,-2.1006627082824707,-1.992492914199829,-2.4664180278778076,-3.1955153942108154,-1.298537015914917,-1.921069622039795,-3.0156161785125732,-3.2118406295776367,-3.5515494346618652,17.247724533081055,23.642988204956055,33.844844818115234,31.081348419189453,30.156644821166992,31.543167114257812,15.799283981323242,31.428171157836914,33.235130310058594,30.771833419799805,32.66370391845703,31.219806671142578,32.73407745361328,30.63534927368164,31.457651138305664,31.757184982299805,32.3581657409668,16.16175079345703,15.981578826904297,16.3920841217041,16.26372718811035,15.691279411315918],\"xaxis\":\"x\",\"y\":[-13.176050186157227,14.1209135055542,30.44757652282715,-13.2282075881958,40.071083068847656,40.00636291503906,43.451751708984375,31.9939022064209,13.677014350891113,13.584510803222656,45.85749816894531,28.778833389282227,33.50071334838867,33.52625274658203,29.594900131225586,46.25482177734375,45.896358489990234,6.680038928985596,-30.75481414794922,11.459905624389648,-43.18317794799805,26.06513023376465,26.57308578491211,-43.51164245605469,9.23539924621582,-43.34494400024414,10.73193359375,9.301742553710938,11.28231430053711,10.354875564575195,-44.0330696105957,-1.474348545074463,-37.364646911621094,-36.855743408203125,3.1963233947753906,-37.157188415527344,-36.465091705322266,3.162166118621826,-1.1991779804229736,-36.48721694946289,-37.38813400268555,-37.0476188659668,3.276672601699829,-37.34480667114258,31.44330596923828,-14.871994972229004,1.0932447910308838,-14.701186180114746,1.193213701248169,1.4275492429733276,-20.587919235229492,-14.972084045410156,-14.975833892822266,-49.26922607421875,20.10904884338379,20.153783798217773,-49.14923858642578,20.124794006347656,-51.01390838623047,-51.02861404418945,-50.77543640136719,-51.03081130981445,21.068248748779297,-12.433554649353027,-11.787935256958008,-11.908775329589844,-11.849522590637207,-11.974153518676758,-12.630838394165039,26.975494384765625,-12.440418243408203,-12.466176986694336,-12.623523712158203,-12.111414909362793,21.376134872436523,21.408395767211914,21.414470672607422,-13.105512619018555,-11.753477096557617,-12.907580375671387,-11.807938575744629,-12.952240943908691,21.323392868041992,33.1163330078125,-26.5374813079834,33.2899284362793,-26.917842864990234,-26.869159698486328,33.34318161010742,33.434059143066406,33.63136672973633,-26.98738670349121,33.3153190612793,32.337608337402344,32.21847152709961,32.327293395996094,-23.219558715820312,32.338287353515625,-23.354557037353516,-23.41748046875,-23.12082290649414,33.18851089477539,-26.403921127319336,32.655982971191406,26.10467529296875,40.69154357910156,25.847007751464844,45.5634651184082,40.74019241333008,26.01504898071289,42.65850067138672,25.80108642578125,42.492984771728516,28.00680160522461,42.71669006347656,45.11178970336914,31.940336227416992,26.911062240600586,42.92936325073242,43.11446762084961,25.786264419555664,45.50198745727539,31.975494384765625,26.09521484375,43.4166259765625,42.948509216308594,42.90416717529297,24.750118255615234,28.0358943939209,38.801944732666016,27.77492332458496,38.32539367675781,37.89253234863281,25.724632263183594,39.5184211730957,45.93657684326172,39.52273178100586,28.13452911376953,37.50342559814453,45.78099822998047,24.444608688354492,38.812984466552734,24.58426856994629,38.85184097290039,-7.0918354988098145,8.128652572631836,-6.111027717590332,-6.730507850646973,6.744736671447754,7.544262886047363,6.95137357711792,5.329142093658447,7.598273277282715,7.625781536102295,8.192520141601562,6.057206153869629,7.799250602722168,7.191440105438232,6.19896125793457,5.797798156738281,8.487713813781738,6.599207878112793,6.341689586639404,8.192665100097656,-6.287696838378906,5.382339000701904,-6.2586846351623535,6.922147750854492,7.673624515533447,25.92725944519043,-6.616934776306152,-6.532708644866943,-32.9432258605957,-33.04930877685547,-32.656497955322266,-31.938087463378906,-32.026649475097656,-33.165279388427734,-23.311973571777344,-40.47440719604492,10.45361328125,-40.32789611816406,-8.650981903076172,8.367524147033691,-40.97470474243164,7.860781669616699,-43.79365921020508,-44.298004150390625,8.26380729675293,-10.401622772216797,-45.5278205871582,-43.06548309326172,-44.415367126464844,-44.40021514892578,-10.244390487670898,-20.286239624023438,-44.071754455566406,27.122962951660156,27.24386215209961,-10.296671867370605,5.157308101654053,-11.800532341003418,-36.55322265625,29.400047302246094,36.903743743896484,28.920135498046875,12.728766441345215,-21.695354461669922,-21.77306365966797,-34.529537200927734,4.45849609375,-29.657846450805664,3.9696569442749023,5.618244647979736,4.698537826538086,-30.402816772460938,3.778508186340332,3.261093854904175,4.455466270446777,4.267688274383545,23.131282806396484,32.509559631347656,-29.082015991210938,-30.037832260131836,-30.03929328918457,-29.650480270385742,30.43385124206543,-30.07455062866211,-29.10236167907715,-29.61418342590332,-29.315040588378906,-29.452611923217773,-29.127159118652344,-29.50848960876465,-30.407962799072266,-29.758895874023438,-29.811458587646484,30.512248992919922,30.659013748168945,30.41197967529297,30.3865909576416,30.55710792541504],\"yaxis\":\"y\",\"type\":\"scattergl\"},{\"hovertemplate\":\"Label=neutral\\u003cbr\\u003ex=%{x}\\u003cbr\\u003ey=%{y}\\u003cextra\\u003e\\u003c\\u002fextra\\u003e\",\"legendgroup\":\"neutral\",\"marker\":{\"color\":\"#ab63fa\",\"symbol\":\"circle\"},\"mode\":\"markers\",\"name\":\"neutral\",\"showlegend\":true,\"x\":[-13.961577415466309,-22.26471710205078,21.9298152923584,5.435757160186768,22.24819564819336,2.1381611824035645,18.75748634338379,-15.46081829071045,-7.221169471740723,15.723442077636719,20.86174201965332,-10.19495677947998,-10.626335144042969,-10.672140121459961,-11.235259056091309,-10.997364044189453,-17.22331428527832,-10.914201736450195,-12.743732452392578,-21.460529327392578,-15.386608123779297,-15.650121688842773,-26.385103225708008,-26.00242805480957,-25.835735321044922,-25.738544464111328,-25.84846305847168,-25.29437828063965,-25.745502471923828,-25.167987823486328,-25.403085708618164,-26.288860321044922,-25.894624710083008,-25.469846725463867,-26.324655532836914,-25.70263671875,-26.071611404418945,-4.1737189292907715,-25.419296264648438,-4.213990211486816,-4.18159294128418,-4.072738170623779,-7.583949089050293,-44.26474380493164,-6.977447986602783,-44.68495559692383,-39.34333419799805,-41.417964935302734,-8.247369766235352,-6.9911346435546875,-44.433837890625,-7.191707611083984,-41.492855072021484,21.33243179321289,22.296199798583984,19.959327697753906,16.102916717529297,21.0606746673584,20.039705276489258,20.946260452270508,20.116008758544922,21.642417907714844,22.937725067138672,22.503454208374023,22.237180709838867,21.762937545776367,-41.536800384521484,19.767629623413086,21.018518447875977,16.111814498901367,19.730052947998047,21.656251907348633,28.301055908203125,29.184316635131836,29.89529800415039,-25.841283798217773,30.706695556640625,28.245702743530273,29.041166305541992,28.384321212768555,-25.838747024536133,13.578832626342773,2.2859673500061035,-1.150265097618103,10.806894302368164,-1.5321263074874878,10.324797630310059,-0.9781511425971985,10.710726737976074,8.604742050170898,2.7104737758636475,10.865452766418457,-0.7638393044471741,-0.8236937522888184,10.171270370483398,-1.0441268682479858,2.855733871459961,-6.814664840698242,30.52615737915039,-6.86187219619751,29.626747131347656,-6.6276421546936035,21.482988357543945,21.22771644592285,33.689544677734375,32.89057540893555,21.6434383392334,21.421579360961914,-10.565311431884766,-11.474664688110352,-11.542379379272461,26.671714782714844,26.480070114135742,-12.463652610778809,30.323625564575195,-8.329426765441895,28.469404220581055,28.733924865722656,-9.257080078125,29.48041343688965,28.43967628479004,-10.888378143310547,27.916427612304688,13.515817642211914,-22.90424156188965,21.730300903320312,-19.77149200439453,-20.39426612854004,3.1919097900390625,-16.605566024780273,28.394105911254883,12.774831771850586,-40.993896484375,-20.49346351623535,-15.556661605834961,-20.112730026245117,-15.994586944580078,-19.01773452758789,-5.872354030609131,-5.928418159484863,-18.057449340820312,31.19674301147461,-10.215034484863281,-10.761757850646973,-8.716866493225098,-17.502731323242188,-14.71550464630127,-16.012052536010742,-13.946946144104004,-5.903176784515381,-5.890395641326904,-5.731347560882568,-7.158843517303467,-7.133941650390625,-7.048422813415527,-20.82319450378418,-7.12626838684082,-4.345351219177246,-21.022275924682617,16.774883270263672,20.05364227294922,-23.313007354736328,-27.954326629638672,-23.26621437072754,-27.95948600769043],\"xaxis\":\"x\",\"y\":[-45.21376419067383,6.898196697235107,32.62683868408203,39.55557632446289,32.767662048339844,30.792387008666992,40.08991241455078,13.469107627868652,-45.38639450073242,46.13870620727539,33.4378662109375,-30.81311798095703,-43.12735366821289,5.255113124847412,-45.38378143310547,-45.78647232055664,-40.871063232421875,-45.78261947631836,-45.73088073730469,-43.18301010131836,-39.00813293457031,-39.6361083984375,0.7994039058685303,-1.674512505531311,-1.8063160181045532,-1.2458641529083252,1.0207629203796387,-1.0579705238342285,1.1911002397537231,-1.660891056060791,-1.899328351020813,-0.995513916015625,0.5792264342308044,0.5883063673973083,-1.2855485677719116,0.7842710018157959,1.1979012489318848,-38.519222259521484,-1.3618158102035522,-38.50554656982422,-38.47647476196289,-38.503841400146484,-47.254764556884766,13.710479736328125,-47.43903732299805,15.749300956726074,10.641929626464844,11.440282821655273,-47.38758850097656,-47.4410514831543,14.226728439331055,-46.61322021484375,12.314132690429688,-16.06930160522461,-15.230561256408691,-17.055166244506836,27.14423179626465,-15.158049583435059,-15.645622253417969,-16.916780471801758,-16.446306228637695,-16.09377670288086,-15.075626373291016,-14.954068183898926,-14.78393268585205,-14.772835731506348,12.174936294555664,-16.67022132873535,-17.242053985595703,27.196937561035156,-16.30808448791504,-15.712706565856934,-24.62677764892578,-25.338830947875977,-25.638763427734375,14.882884979248047,-25.684005737304688,-24.51106071472168,-25.407297134399414,-23.92820167541504,14.898420333862305,32.54853439331055,27.066572189331055,27.527809143066406,38.879234313964844,27.755794525146484,37.19752883911133,28.300912857055664,36.62751007080078,25.6435489654541,24.473535537719727,38.85368728637695,26.91543197631836,27.79563331604004,37.23268127441406,27.4295597076416,24.371944427490234,-1.9307242631912231,-3.544651746749878,-2.546424627304077,-3.867452621459961,-2.539578437805176,22.91086196899414,22.938846588134766,-4.5611958503723145,-2.0899624824523926,22.24662208557129,22.97344207763672,-2.830519914627075,-2.8470113277435303,-3.201732635498047,-3.616671323776245,-3.6067230701446533,-2.5643889904022217,-3.4088311195373535,-1.678799033164978,-3.120171308517456,-4.325323104858398,-2.9361014366149902,-4.068422317504883,-3.93324613571167,-3.012615442276001,-3.4146156311035156,29.582111358642578,7.8426032066345215,29.486230850219727,8.31053352355957,-2.9948315620422363,34.91553497314453,-36.16808319091797,-18.858877182006836,42.058349609375,-21.911582946777344,9.531825065612793,-32.777164459228516,-34.63055419921875,-32.919368743896484,6.983394622802734,-39.3119010925293,-39.296600341796875,6.235986709594727,-12.426995277404785,-33.528907775878906,-33.365779876708984,-42.597572326660156,-38.132835388183594,-38.985382080078125,-38.5890007019043,7.492850303649902,-30.90682601928711,-30.866954803466797,-30.339048385620117,-32.7302360534668,-32.73486328125,-32.70932388305664,5.3219428062438965,-32.733856201171875,-31.33739471435547,-36.789268493652344,42.22898483276367,24.292463302612305,16.063629150390625,17.735891342163086,16.090681076049805,17.73849868774414],\"yaxis\":\"y\",\"type\":\"scattergl\"},{\"hovertemplate\":\"Label=sad\\u003cbr\\u003ex=%{x}\\u003cbr\\u003ey=%{y}\\u003cextra\\u003e\\u003c\\u002fextra\\u003e\",\"legendgroup\":\"sad\",\"marker\":{\"color\":\"#FFA15A\",\"symbol\":\"circle\"},\"mode\":\"markers\",\"name\":\"sad\",\"showlegend\":true,\"x\":[19.26914405822754,13.194859504699707,-13.634405136108398,-11.721623420715332,-11.223024368286133,-12.765921592712402,2.5409600734710693,-13.165254592895508,-14.963820457458496,-20.36762237548828,-20.193939208984375,-20.2482852935791,-20.210744857788086,-7.008775234222412,-6.737190246582031,-6.830357074737549,-20.623075485229492,-20.44635009765625,-21.361190795898438,-21.441598892211914,-21.39678192138672,-20.463260650634766,-5.506848335266113,-21.049728393554688,-21.055307388305664,-7.1174468994140625,-20.134471893310547,-20.242483139038086,-20.595081329345703,-35.64680862426758,-35.64677810668945,-2.4931187629699707,-2.159752130508423,-2.4184391498565674,-33.497501373291016,-33.635658264160156,-33.49741744995117,-34.81526184082031,-2.5196244716644287,-34.81565856933594,-36.84678649902344,-34.96244812011719,-36.84678649902344,-34.020267486572266,-35.632080078125,-34.020267486572266,-36.98203659057617,-36.89736557006836,-36.98224639892578,-31.790069580078125,-33.92919921875,-31.790069580078125,-31.488842010498047,-31.488746643066406,-31.48872184753418,-37.07283020019531,-2.629943370819092,-35.345008850097656,-35.34512710571289,32.323726654052734,32.50764846801758,32.573299407958984,-23.709434509277344,16.01421356201172,-23.749774932861328,31.76812171936035,33.191001892089844,31.85076141357422,16.615182876586914,6.551297664642334,1.3251532316207886,6.2044477462768555,7.15272855758667,5.525050640106201,7.358488082885742,5.26515007019043,1.0962646007537842,7.307650089263916,5.727285385131836,1.121825098991394,7.350622653961182,5.7404584884643555,1.1614797115325928,1.1755883693695068,5.671499252319336,1.257602572441101,5.543154239654541,1.1631834506988525,5.4276509284973145,-25.87843132019043,-3.6663973331451416,-2.649599313735962,-2.4303395748138428,-4.401618957519531,-4.234030246734619,-4.716846466064453,36.866153717041016,36.4245491027832,24.719593048095703,35.275001525878906,35.38231658935547,35.8149528503418,35.4524040222168,36.8524169921875,-3.4808578491210938,-2.7236697673797607,-3.3360376358032227,25.151622772216797,-3.8216114044189453,37.434871673583984,-3.48178768157959,34.172481536865234,34.50047302246094,34.41732406616211,-4.132019519805908,-17.44585418701172,-18.183305740356445,-18.140954971313477,-18.22481918334961,-16.640077590942383,-16.36568260192871,31.651018142700195,-17.65106201171875,-21.649417877197266,31.67243766784668,18.445220947265625,31.554401397705078,31.406036376953125,-12.018301010131836,30.65707778930664,-21.476207733154297,-11.777198791503906,-11.24960994720459,-11.46786117553711,-12.506260871887207,-13.488222122192383,-11.309061050415039,-11.290258407592773,30.698354721069336,-13.229216575622559,30.633747100830078,-13.674708366394043,-40.20171356201172,-13.274652481079102,-9.426421165466309,-9.449639320373535,-12.081461906433105,-40.33515548706055,33.090171813964844,-14.771084785461426,-1.4331154823303223,-20.384849548339844,23.078140258789062,-21.094097137451172,-41.021575927734375,-20.998619079589844,-3.5501697063446045,-4.8437347412109375,-1.5091115236282349,-2.52787709236145,-2.450373888015747,-2.7086868286132812,-0.004781618714332581,-0.01194392517209053,-21.20604705810547,-5.8834638595581055,-29.091588973999023,-27.543609619140625,28.912006378173828,-29.1065673828125,13.150071144104004,-27.5366268157959,33.74272155761719,15.414393424987793,37.094261169433594,16.54433822631836,37.09474182128906,37.10300064086914,17.218847274780273],\"xaxis\":\"x\",\"y\":[39.39017105102539,34.53706359863281,-41.354251861572266,-39.804290771484375,-39.77301788330078,-40.08451843261719,29.989133834838867,9.492071151733398,-40.625980377197266,0.20704439282417297,3.229478597640991,3.237628698348999,3.0941765308380127,-36.24258804321289,-36.27375411987305,-36.17803192138672,3.3701205253601074,3.7035932540893555,0.9949296116828918,0.9005184173583984,0.7995666265487671,-0.19819140434265137,-36.947174072265625,2.9170377254486084,2.7190873622894287,-36.096435546875,-0.6784292459487915,-0.6571547985076904,1.7927305698394775,8.026501655578613,8.026565551757812,-44.09709548950195,-43.6668586730957,-43.92070007324219,6.157927513122559,6.692074298858643,6.1578240394592285,7.809140682220459,-43.873477935791016,7.808877468109131,8.629776954650879,8.14375114440918,8.629776954650879,6.4462971687316895,8.654129981994629,6.4462971687316895,6.954278945922852,7.723832130432129,6.954187393188477,8.300468444824219,5.922776222229004,8.300468444824219,7.549808025360107,7.550185680389404,7.549880504608154,8.576950073242188,-43.92748260498047,6.355062007904053,6.355022430419922,-26.56315040588379,-26.426889419555664,-26.448856353759766,15.318687438964844,34.63904571533203,15.294699668884277,-26.767427444458008,-26.04853630065918,-26.95908546447754,34.25349807739258,31.9353084564209,27.42568588256836,34.50801086425781,26.178600311279297,34.11589813232422,26.25339698791504,34.86222839355469,32.60700988769531,26.2568416595459,34.62009811401367,32.586788177490234,26.21742820739746,34.378326416015625,32.55171203613281,26.626285552978516,35.102542877197266,26.826553344726562,35.302345275878906,26.2040958404541,35.49971008300781,15.548783302307129,-1.305277705192566,-1.0613871812820435,-0.25788867473602295,-1.4189029932022095,1.2264938354492188,-2.1546294689178467,-5.335872650146484,-4.665882587432861,20.222110748291016,-4.375581741333008,-5.292013168334961,-4.690931797027588,-4.787342548370361,-5.141412258148193,-0.8068122863769531,-1.0317614078521729,-2.403116464614868,19.89402961730957,-2.3624777793884277,-5.396402835845947,-0.8325823545455933,-3.8938663005828857,-3.3649134635925293,-4.587435722351074,-2.3161985874176025,-34.748191833496094,-34.245296478271484,-34.33363342285156,-34.21681594848633,-34.390663146972656,-33.93376541137695,-11.407155990600586,5.56704044342041,-42.43735885620117,-11.198282241821289,27.186325073242188,-11.530564308166504,-11.834555625915527,7.3046793937683105,-9.202325820922852,-43.172157287597656,7.478029727935791,-41.17641830444336,-40.97140121459961,6.178858280181885,7.526279926300049,-40.38717269897461,-40.60712814331055,-9.323512077331543,5.9634528160095215,-9.539618492126465,8.70885944366455,-20.19447898864746,8.902776718139648,-38.46219253540039,-38.468204498291016,8.251688003540039,-19.628768920898438,-18.983285903930664,-36.44950485229492,-27.918977737426758,-2.954336404800415,35.26826477050781,12.536752700805664,-21.4918155670166,9.851792335510254,-28.649940490722656,-28.926700592041016,-29.556795120239258,-28.59795379638672,-28.600494384765625,-28.48527717590332,-2.556832790374756,-2.544900894165039,-36.748085021972656,-29.136077880859375,14.23021411895752,15.719648361206055,-28.716373443603516,14.214377403259277,31.92030143737793,15.893240928649902,-27.347747802734375,36.42287063598633,-25.659700393676758,40.44136428833008,-25.66769790649414,-25.651613235473633,34.67643737792969],\"yaxis\":\"y\",\"type\":\"scattergl\"},{\"hovertemplate\":\"Label=surprised\\u003cbr\\u003ex=%{x}\\u003cbr\\u003ey=%{y}\\u003cextra\\u003e\\u003c\\u002fextra\\u003e\",\"legendgroup\":\"surprised\",\"marker\":{\"color\":\"#19d3f3\",\"symbol\":\"circle\"},\"mode\":\"markers\",\"name\":\"surprised\",\"showlegend\":true,\"x\":[-13.076870918273926,-15.767592430114746,-10.097724914550781,28.382911682128906,-12.187758445739746,24.118406295776367,-14.89390754699707,-39.93556594848633,-17.61564826965332,-25.715797424316406,-25.584917068481445,-24.756004333496094,30.9219970703125,-24.871461868286133,-24.738534927368164,-38.86000061035156,-24.718050003051758,30.803730010986328,30.282535552978516,30.636226654052734,-24.872716903686523,-25.522268295288086,30.37994384765625,30.465373992919922,20.22224998474121,-38.35861587524414,20.56376838684082,30.039794921875,20.77694320678711,20.0197696685791,30.26427459716797,-5.374777317047119,-5.174300193786621,-35.78490447998047,-19.19552993774414,-36.37833786010742,-35.852264404296875,-36.42433166503906,-5.246264934539795,-5.152817249298096,-36.460269927978516,-38.903785705566406,22.767427444458008,-37.662353515625,-40.413326263427734,-36.25566864013672,-40.01738357543945,-5.556144714355469,-37.27924728393555,23.59636116027832,-36.204219818115234,-39.36350631713867,-36.74875259399414,-40.88032913208008,-36.97926330566406,22.77789878845215,-37.02854919433594,-40.302520751953125,-37.25286102294922,-36.884185791015625,24.00337028503418,15.275975227355957,16.14436149597168,16.035877227783203,16.71361541748047,14.988590240478516,32.501434326171875,31.859865188598633,-25.858814239501953,-25.940906524658203,-25.795942306518555,-28.735618591308594,-28.739742279052734,14.585453987121582,34.35606384277344,33.905391693115234,34.61021423339844,34.30832290649414,34.645286560058594,34.39476013183594,13.796653747558594,13.261211395263672,25.28282356262207,32.01381301879883,-7.578595161437988,28.179950714111328,28.967824935913086,-7.497501850128174,29.665645599365234,-7.683465480804443,-7.823454856872559,29.58079719543457,-7.274946689605713,29.576786041259766,30.83719253540039,26.49224281311035,37.20307540893555,-8.234697341918945,24.124773025512695,-7.01664924621582,31.889944076538086,24.065515518188477,32.08757019042969,24.629867553710938,26.429641723632812,26.653566360473633,27.054624557495117,-39.415184020996094,-17.651941299438477,-39.25273132324219,-20.57228660583496,-13.603413581848145,-13.689775466918945,11.912362098693848,-19.509958267211914,-39.253841400146484,-15.273050308227539,-15.224696159362793,-17.70897674560547,-18.042531967163086,-15.260448455810547,-38.93688201904297,-19.234848022460938,-19.332141876220703,9.320520401000977,14.104930877685547,-38.7857551574707,-7.731706619262695,-9.880900382995605,-40.222904205322266,12.32040786743164,-7.669450759887695,13.405634880065918,-23.053972244262695,-23.45099639892578,25.948726654052734,31.08513069152832,28.382850646972656,13.26352310180664,-40.09782028198242,-9.71056079864502,-20.845735549926758,-3.077655792236328,-3.539262533187866,-5.025005340576172,-4.054088592529297,-3.442307949066162,-5.443470001220703,-6.576854705810547,-2.62312912940979,-4.173405647277832,-4.0102667808532715,29.57318115234375,30.15363311767578,30.279518127441406,30.878164291381836,30.407743453979492,29.385784149169922,30.321290969848633,31.128049850463867,30.587862014770508,29.52646827697754,31.375825881958008,30.892742156982422,31.00594139099121,31.069581985473633,31.151227951049805,31.586456298828125,29.77192497253418,31.634300231933594,31.77630615234375,29.784757614135742],\"xaxis\":\"x\",\"y\":[-39.30739212036133,-39.849830627441406,-43.37788009643555,-7.5526227951049805,5.330183506011963,25.925382614135742,8.321125030517578,-22.631858825683594,9.587113380432129,6.914768695831299,6.853602886199951,6.5654144287109375,-15.787374496459961,6.612583637237549,7.179473876953125,-20.75468635559082,7.242400169372559,-15.844728469848633,-17.30497932434082,-16.73097038269043,6.961436748504639,7.37160062789917,-16.343873977661133,-16.212011337280273,30.692218780517578,-20.733354568481445,30.93536949157715,-16.188920974731445,31.17067527770996,30.66518211364746,-15.765742301940918,-51.650657653808594,-51.648643493652344,15.890636444091797,-37.72216033935547,15.726835250854492,16.987018585205078,17.272075653076172,-47.461021423339844,-51.6279182434082,17.512269973754883,16.496625900268555,-17.000686645507812,14.285664558410645,17.084869384765625,13.755646705627441,16.69748878479004,-47.53170394897461,15.088394165039062,-16.773853302001953,14.249484062194824,16.548097610473633,14.375357627868652,16.99098014831543,14.956768035888672,-17.025745391845703,14.704585075378418,16.976696014404297,13.804378509521484,13.896604537963867,-16.668838500976562,33.68033981323242,33.473628997802734,33.480228424072266,33.883155822753906,33.85198211669922,-25.303485870361328,-25.707855224609375,13.49113941192627,13.508162498474121,13.369441986083984,10.671906471252441,10.663613319396973,35.53846740722656,-22.676000595092773,-22.743032455444336,-23.007951736450195,-22.67273712158203,-23.27983283996582,-22.697158813476562,25.105449676513672,35.88786315917969,22.906097412109375,-2.714881181716919,-3.865220308303833,-2.8949291706085205,-2.380767822265625,-4.168638706207275,-2.45493483543396,-0.584251880645752,-2.3270061016082764,-2.5506691932678223,-3.2738754749298096,-3.3797619342803955,-1.9918758869171143,18.639820098876953,-2.543344497680664,-1.462101697921753,22.612899780273438,-3.1953892707824707,-2.8144073486328125,22.335920333862305,-2.500579833984375,21.442127227783203,19.277448654174805,18.76542854309082,18.66777801513672,-22.025842666625977,-30.168331146240234,-21.924320220947266,-34.1877555847168,-30.331768035888672,-30.367345809936523,34.490867614746094,-31.913291931152344,-22.768390655517578,-30.692289352416992,-30.59027862548828,-30.216705322265625,-30.45163917541504,-30.701379776000977,-21.953401565551758,-31.77768898010254,-31.881864547729492,41.56188201904297,24.303054809570312,-22.439109802246094,-42.79945755004883,-0.11600100994110107,-20.411558151245117,30.752031326293945,-42.80696105957031,29.825397491455078,8.92448616027832,10.61329460144043,31.906532287597656,-12.84154224395752,-18.82421112060547,25.33175277709961,-22.52357292175293,-32.387176513671875,9.685500144958496,-30.922286987304688,-30.63213348388672,-0.7034682631492615,-30.75142478942871,-30.531967163085938,-0.970971941947937,-0.94846510887146,-31.299409866333008,-30.156049728393555,-31.543872833251953,37.2275505065918,39.273223876953125,38.88298797607422,38.55630111694336,38.776248931884766,36.9207763671875,39.69425964355469,39.221092224121094,39.87281799316406,37.180965423583984,39.558841705322266,39.448238372802734,39.873226165771484,38.660953521728516,40.88356018066406,38.87924575805664,36.79365539550781,39.19240951538086,39.95669174194336,36.85476303100586],\"yaxis\":\"y\",\"type\":\"scattergl\"}],                        {\"template\":{\"data\":{\"histogram2dcontour\":[{\"type\":\"histogram2dcontour\",\"colorbar\":{\"outlinewidth\":0,\"ticks\":\"\"},\"colorscale\":[[0.0,\"#0d0887\"],[0.1111111111111111,\"#46039f\"],[0.2222222222222222,\"#7201a8\"],[0.3333333333333333,\"#9c179e\"],[0.4444444444444444,\"#bd3786\"],[0.5555555555555556,\"#d8576b\"],[0.6666666666666666,\"#ed7953\"],[0.7777777777777778,\"#fb9f3a\"],[0.8888888888888888,\"#fdca26\"],[1.0,\"#f0f921\"]]}],\"choropleth\":[{\"type\":\"choropleth\",\"colorbar\":{\"outlinewidth\":0,\"ticks\":\"\"}}],\"histogram2d\":[{\"type\":\"histogram2d\",\"colorbar\":{\"outlinewidth\":0,\"ticks\":\"\"},\"colorscale\":[[0.0,\"#0d0887\"],[0.1111111111111111,\"#46039f\"],[0.2222222222222222,\"#7201a8\"],[0.3333333333333333,\"#9c179e\"],[0.4444444444444444,\"#bd3786\"],[0.5555555555555556,\"#d8576b\"],[0.6666666666666666,\"#ed7953\"],[0.7777777777777778,\"#fb9f3a\"],[0.8888888888888888,\"#fdca26\"],[1.0,\"#f0f921\"]]}],\"heatmap\":[{\"type\":\"heatmap\",\"colorbar\":{\"outlinewidth\":0,\"ticks\":\"\"},\"colorscale\":[[0.0,\"#0d0887\"],[0.1111111111111111,\"#46039f\"],[0.2222222222222222,\"#7201a8\"],[0.3333333333333333,\"#9c179e\"],[0.4444444444444444,\"#bd3786\"],[0.5555555555555556,\"#d8576b\"],[0.6666666666666666,\"#ed7953\"],[0.7777777777777778,\"#fb9f3a\"],[0.8888888888888888,\"#fdca26\"],[1.0,\"#f0f921\"]]}],\"heatmapgl\":[{\"type\":\"heatmapgl\",\"colorbar\":{\"outlinewidth\":0,\"ticks\":\"\"},\"colorscale\":[[0.0,\"#0d0887\"],[0.1111111111111111,\"#46039f\"],[0.2222222222222222,\"#7201a8\"],[0.3333333333333333,\"#9c179e\"],[0.4444444444444444,\"#bd3786\"],[0.5555555555555556,\"#d8576b\"],[0.6666666666666666,\"#ed7953\"],[0.7777777777777778,\"#fb9f3a\"],[0.8888888888888888,\"#fdca26\"],[1.0,\"#f0f921\"]]}],\"contourcarpet\":[{\"type\":\"contourcarpet\",\"colorbar\":{\"outlinewidth\":0,\"ticks\":\"\"}}],\"contour\":[{\"type\":\"contour\",\"colorbar\":{\"outlinewidth\":0,\"ticks\":\"\"},\"colorscale\":[[0.0,\"#0d0887\"],[0.1111111111111111,\"#46039f\"],[0.2222222222222222,\"#7201a8\"],[0.3333333333333333,\"#9c179e\"],[0.4444444444444444,\"#bd3786\"],[0.5555555555555556,\"#d8576b\"],[0.6666666666666666,\"#ed7953\"],[0.7777777777777778,\"#fb9f3a\"],[0.8888888888888888,\"#fdca26\"],[1.0,\"#f0f921\"]]}],\"surface\":[{\"type\":\"surface\",\"colorbar\":{\"outlinewidth\":0,\"ticks\":\"\"},\"colorscale\":[[0.0,\"#0d0887\"],[0.1111111111111111,\"#46039f\"],[0.2222222222222222,\"#7201a8\"],[0.3333333333333333,\"#9c179e\"],[0.4444444444444444,\"#bd3786\"],[0.5555555555555556,\"#d8576b\"],[0.6666666666666666,\"#ed7953\"],[0.7777777777777778,\"#fb9f3a\"],[0.8888888888888888,\"#fdca26\"],[1.0,\"#f0f921\"]]}],\"mesh3d\":[{\"type\":\"mesh3d\",\"colorbar\":{\"outlinewidth\":0,\"ticks\":\"\"}}],\"scatter\":[{\"fillpattern\":{\"fillmode\":\"overlay\",\"size\":10,\"solidity\":0.2},\"type\":\"scatter\"}],\"parcoords\":[{\"type\":\"parcoords\",\"line\":{\"colorbar\":{\"outlinewidth\":0,\"ticks\":\"\"}}}],\"scatterpolargl\":[{\"type\":\"scatterpolargl\",\"marker\":{\"colorbar\":{\"outlinewidth\":0,\"ticks\":\"\"}}}],\"bar\":[{\"error_x\":{\"color\":\"#2a3f5f\"},\"error_y\":{\"color\":\"#2a3f5f\"},\"marker\":{\"line\":{\"color\":\"#E5ECF6\",\"width\":0.5},\"pattern\":{\"fillmode\":\"overlay\",\"size\":10,\"solidity\":0.2}},\"type\":\"bar\"}],\"scattergeo\":[{\"type\":\"scattergeo\",\"marker\":{\"colorbar\":{\"outlinewidth\":0,\"ticks\":\"\"}}}],\"scatterpolar\":[{\"type\":\"scatterpolar\",\"marker\":{\"colorbar\":{\"outlinewidth\":0,\"ticks\":\"\"}}}],\"histogram\":[{\"marker\":{\"pattern\":{\"fillmode\":\"overlay\",\"size\":10,\"solidity\":0.2}},\"type\":\"histogram\"}],\"scattergl\":[{\"type\":\"scattergl\",\"marker\":{\"colorbar\":{\"outlinewidth\":0,\"ticks\":\"\"}}}],\"scatter3d\":[{\"type\":\"scatter3d\",\"line\":{\"colorbar\":{\"outlinewidth\":0,\"ticks\":\"\"}},\"marker\":{\"colorbar\":{\"outlinewidth\":0,\"ticks\":\"\"}}}],\"scattermapbox\":[{\"type\":\"scattermapbox\",\"marker\":{\"colorbar\":{\"outlinewidth\":0,\"ticks\":\"\"}}}],\"scatterternary\":[{\"type\":\"scatterternary\",\"marker\":{\"colorbar\":{\"outlinewidth\":0,\"ticks\":\"\"}}}],\"scattercarpet\":[{\"type\":\"scattercarpet\",\"marker\":{\"colorbar\":{\"outlinewidth\":0,\"ticks\":\"\"}}}],\"carpet\":[{\"aaxis\":{\"endlinecolor\":\"#2a3f5f\",\"gridcolor\":\"white\",\"linecolor\":\"white\",\"minorgridcolor\":\"white\",\"startlinecolor\":\"#2a3f5f\"},\"baxis\":{\"endlinecolor\":\"#2a3f5f\",\"gridcolor\":\"white\",\"linecolor\":\"white\",\"minorgridcolor\":\"white\",\"startlinecolor\":\"#2a3f5f\"},\"type\":\"carpet\"}],\"table\":[{\"cells\":{\"fill\":{\"color\":\"#EBF0F8\"},\"line\":{\"color\":\"white\"}},\"header\":{\"fill\":{\"color\":\"#C8D4E3\"},\"line\":{\"color\":\"white\"}},\"type\":\"table\"}],\"barpolar\":[{\"marker\":{\"line\":{\"color\":\"#E5ECF6\",\"width\":0.5},\"pattern\":{\"fillmode\":\"overlay\",\"size\":10,\"solidity\":0.2}},\"type\":\"barpolar\"}],\"pie\":[{\"automargin\":true,\"type\":\"pie\"}]},\"layout\":{\"autotypenumbers\":\"strict\",\"colorway\":[\"#636efa\",\"#EF553B\",\"#00cc96\",\"#ab63fa\",\"#FFA15A\",\"#19d3f3\",\"#FF6692\",\"#B6E880\",\"#FF97FF\",\"#FECB52\"],\"font\":{\"color\":\"#2a3f5f\"},\"hovermode\":\"closest\",\"hoverlabel\":{\"align\":\"left\"},\"paper_bgcolor\":\"white\",\"plot_bgcolor\":\"#E5ECF6\",\"polar\":{\"bgcolor\":\"#E5ECF6\",\"angularaxis\":{\"gridcolor\":\"white\",\"linecolor\":\"white\",\"ticks\":\"\"},\"radialaxis\":{\"gridcolor\":\"white\",\"linecolor\":\"white\",\"ticks\":\"\"}},\"ternary\":{\"bgcolor\":\"#E5ECF6\",\"aaxis\":{\"gridcolor\":\"white\",\"linecolor\":\"white\",\"ticks\":\"\"},\"baxis\":{\"gridcolor\":\"white\",\"linecolor\":\"white\",\"ticks\":\"\"},\"caxis\":{\"gridcolor\":\"white\",\"linecolor\":\"white\",\"ticks\":\"\"}},\"coloraxis\":{\"colorbar\":{\"outlinewidth\":0,\"ticks\":\"\"}},\"colorscale\":{\"sequential\":[[0.0,\"#0d0887\"],[0.1111111111111111,\"#46039f\"],[0.2222222222222222,\"#7201a8\"],[0.3333333333333333,\"#9c179e\"],[0.4444444444444444,\"#bd3786\"],[0.5555555555555556,\"#d8576b\"],[0.6666666666666666,\"#ed7953\"],[0.7777777777777778,\"#fb9f3a\"],[0.8888888888888888,\"#fdca26\"],[1.0,\"#f0f921\"]],\"sequentialminus\":[[0.0,\"#0d0887\"],[0.1111111111111111,\"#46039f\"],[0.2222222222222222,\"#7201a8\"],[0.3333333333333333,\"#9c179e\"],[0.4444444444444444,\"#bd3786\"],[0.5555555555555556,\"#d8576b\"],[0.6666666666666666,\"#ed7953\"],[0.7777777777777778,\"#fb9f3a\"],[0.8888888888888888,\"#fdca26\"],[1.0,\"#f0f921\"]],\"diverging\":[[0,\"#8e0152\"],[0.1,\"#c51b7d\"],[0.2,\"#de77ae\"],[0.3,\"#f1b6da\"],[0.4,\"#fde0ef\"],[0.5,\"#f7f7f7\"],[0.6,\"#e6f5d0\"],[0.7,\"#b8e186\"],[0.8,\"#7fbc41\"],[0.9,\"#4d9221\"],[1,\"#276419\"]]},\"xaxis\":{\"gridcolor\":\"white\",\"linecolor\":\"white\",\"ticks\":\"\",\"title\":{\"standoff\":15},\"zerolinecolor\":\"white\",\"automargin\":true,\"zerolinewidth\":2},\"yaxis\":{\"gridcolor\":\"white\",\"linecolor\":\"white\",\"ticks\":\"\",\"title\":{\"standoff\":15},\"zerolinecolor\":\"white\",\"automargin\":true,\"zerolinewidth\":2},\"scene\":{\"xaxis\":{\"backgroundcolor\":\"#E5ECF6\",\"gridcolor\":\"white\",\"linecolor\":\"white\",\"showbackground\":true,\"ticks\":\"\",\"zerolinecolor\":\"white\",\"gridwidth\":2},\"yaxis\":{\"backgroundcolor\":\"#E5ECF6\",\"gridcolor\":\"white\",\"linecolor\":\"white\",\"showbackground\":true,\"ticks\":\"\",\"zerolinecolor\":\"white\",\"gridwidth\":2},\"zaxis\":{\"backgroundcolor\":\"#E5ECF6\",\"gridcolor\":\"white\",\"linecolor\":\"white\",\"showbackground\":true,\"ticks\":\"\",\"zerolinecolor\":\"white\",\"gridwidth\":2}},\"shapedefaults\":{\"line\":{\"color\":\"#2a3f5f\"}},\"annotationdefaults\":{\"arrowcolor\":\"#2a3f5f\",\"arrowhead\":0,\"arrowwidth\":1},\"geo\":{\"bgcolor\":\"white\",\"landcolor\":\"#E5ECF6\",\"subunitcolor\":\"white\",\"showland\":true,\"showlakes\":true,\"lakecolor\":\"white\"},\"title\":{\"x\":0.05},\"mapbox\":{\"style\":\"light\"}}},\"xaxis\":{\"anchor\":\"y\",\"domain\":[0.0,1.0],\"title\":{\"text\":\"x\"}},\"yaxis\":{\"anchor\":\"x\",\"domain\":[0.0,1.0],\"title\":{\"text\":\"y\"}},\"legend\":{\"title\":{\"text\":\"Label\"},\"tracegroupgap\":0},\"margin\":{\"t\":60}},                        {\"responsive\": true}                    ).then(function(){\n",
       "                            \n",
       "var gd = document.getElementById('bf41aa75-31d3-493e-86f6-dbe1a02747b3');\n",
       "var x = new MutationObserver(function (mutations, observer) {{\n",
       "        var display = window.getComputedStyle(gd).display;\n",
       "        if (!display || display === 'none') {{\n",
       "            console.log([gd, 'removed!']);\n",
       "            Plotly.purge(gd);\n",
       "            observer.disconnect();\n",
       "        }}\n",
       "}});\n",
       "\n",
       "// Listen for the removal of the full notebook cells\n",
       "var notebookContainer = gd.closest('#notebook-container');\n",
       "if (notebookContainer) {{\n",
       "    x.observe(notebookContainer, {childList: true});\n",
       "}}\n",
       "\n",
       "// Listen for the clearing of the current output cell\n",
       "var outputEl = gd.closest('.output');\n",
       "if (outputEl) {{\n",
       "    x.observe(outputEl, {childList: true});\n",
       "}}\n",
       "\n",
       "                        })                };                });            </script>        </div>"
      ]
     },
     "metadata": {},
     "output_type": "display_data"
    }
   ],
   "source": [
    "tsne = sklearn.manifold.TSNE()\n",
    "data_points2d = tsne.fit_transform(df)\n",
    "\n",
    "labels_series = pd.Series(labels, name=\"Label\").replace(range(len(CLASS_NAMES)), CLASS_NAMES) # type: ignore\n",
    "\n",
    "data_points2d_df = pd.DataFrame(data_points2d, columns=[\"x\", \"y\"])\n",
    "visdf = pd.concat([data_points2d_df, labels_series], axis=1)\n",
    "\n",
    "fig = px.scatter(visdf, x=\"x\", y=\"y\", color=\"Label\")\n",
    "fig.show()"
   ]
  },
  {
   "cell_type": "code",
   "execution_count": 47,
   "metadata": {},
   "outputs": [
    {
     "data": {
      "text/plain": [
       "<_TensorSliceDataset element_spec=(TensorSpec(shape=(512,), dtype=tf.float64, name=None), TensorSpec(shape=(), dtype=tf.float64, name=None))>"
      ]
     },
     "execution_count": 47,
     "metadata": {},
     "output_type": "execute_result"
    }
   ],
   "source": [
    "dataset = tf.data.Dataset.from_tensor_slices((df, labels))\n",
    "train_dataset, test_dataset = keras.utils.split_dataset(dataset, shuffle=True, seed=42, left_size=0.7)\n",
    "train_dataset, validation_dataset = keras.utils.split_dataset(train_dataset, shuffle=True, seed=42, left_size=0.7)\n",
    "\n",
    "train_dataset: tf.data.Dataset = train_dataset.shuffle(100).batch(16)\n",
    "test_dataset: tf.data.Dataset = test_dataset.batch(16)\n",
    "validation_dataset: tf.data.Dataset = validation_dataset.batch(16)\n",
    "\n",
    "dataset"
   ]
  },
  {
   "cell_type": "code",
   "execution_count": 103,
   "metadata": {},
   "outputs": [
    {
     "data": {
      "text/html": [
       "<pre style=\"white-space:pre;overflow-x:auto;line-height:normal;font-family:Menlo,'DejaVu Sans Mono',consolas,'Courier New',monospace\"><span style=\"font-weight: bold\">Model: \"sequential_10\"</span>\n",
       "</pre>\n"
      ],
      "text/plain": [
       "\u001b[1mModel: \"sequential_10\"\u001b[0m\n"
      ]
     },
     "metadata": {},
     "output_type": "display_data"
    },
    {
     "data": {
      "text/html": [
       "<pre style=\"white-space:pre;overflow-x:auto;line-height:normal;font-family:Menlo,'DejaVu Sans Mono',consolas,'Courier New',monospace\">┏━━━━━━━━━━━━━━━━━━━━━━━━━━━━━━━━━┳━━━━━━━━━━━━━━━━━━━━━━━━┳━━━━━━━━━━━━━━━┓\n",
       "┃<span style=\"font-weight: bold\"> Layer (type)                    </span>┃<span style=\"font-weight: bold\"> Output Shape           </span>┃<span style=\"font-weight: bold\">       Param # </span>┃\n",
       "┡━━━━━━━━━━━━━━━━━━━━━━━━━━━━━━━━━╇━━━━━━━━━━━━━━━━━━━━━━━━╇━━━━━━━━━━━━━━━┩\n",
       "│ dense_39 (<span style=\"color: #0087ff; text-decoration-color: #0087ff\">Dense</span>)                │ (<span style=\"color: #00d7ff; text-decoration-color: #00d7ff\">None</span>, <span style=\"color: #00af00; text-decoration-color: #00af00\">256</span>)            │       <span style=\"color: #00af00; text-decoration-color: #00af00\">131,328</span> │\n",
       "├─────────────────────────────────┼────────────────────────┼───────────────┤\n",
       "│ dropout_20 (<span style=\"color: #0087ff; text-decoration-color: #0087ff\">Dropout</span>)            │ (<span style=\"color: #00d7ff; text-decoration-color: #00d7ff\">None</span>, <span style=\"color: #00af00; text-decoration-color: #00af00\">256</span>)            │             <span style=\"color: #00af00; text-decoration-color: #00af00\">0</span> │\n",
       "├─────────────────────────────────┼────────────────────────┼───────────────┤\n",
       "│ dense_40 (<span style=\"color: #0087ff; text-decoration-color: #0087ff\">Dense</span>)                │ (<span style=\"color: #00d7ff; text-decoration-color: #00d7ff\">None</span>, <span style=\"color: #00af00; text-decoration-color: #00af00\">128</span>)            │        <span style=\"color: #00af00; text-decoration-color: #00af00\">32,896</span> │\n",
       "├─────────────────────────────────┼────────────────────────┼───────────────┤\n",
       "│ dropout_21 (<span style=\"color: #0087ff; text-decoration-color: #0087ff\">Dropout</span>)            │ (<span style=\"color: #00d7ff; text-decoration-color: #00d7ff\">None</span>, <span style=\"color: #00af00; text-decoration-color: #00af00\">128</span>)            │             <span style=\"color: #00af00; text-decoration-color: #00af00\">0</span> │\n",
       "├─────────────────────────────────┼────────────────────────┼───────────────┤\n",
       "│ dense_41 (<span style=\"color: #0087ff; text-decoration-color: #0087ff\">Dense</span>)                │ (<span style=\"color: #00d7ff; text-decoration-color: #00d7ff\">None</span>, <span style=\"color: #00af00; text-decoration-color: #00af00\">64</span>)             │         <span style=\"color: #00af00; text-decoration-color: #00af00\">8,256</span> │\n",
       "├─────────────────────────────────┼────────────────────────┼───────────────┤\n",
       "│ dense_42 (<span style=\"color: #0087ff; text-decoration-color: #0087ff\">Dense</span>)                │ (<span style=\"color: #00d7ff; text-decoration-color: #00d7ff\">None</span>, <span style=\"color: #00af00; text-decoration-color: #00af00\">6</span>)              │           <span style=\"color: #00af00; text-decoration-color: #00af00\">390</span> │\n",
       "└─────────────────────────────────┴────────────────────────┴───────────────┘\n",
       "</pre>\n"
      ],
      "text/plain": [
       "┏━━━━━━━━━━━━━━━━━━━━━━━━━━━━━━━━━┳━━━━━━━━━━━━━━━━━━━━━━━━┳━━━━━━━━━━━━━━━┓\n",
       "┃\u001b[1m \u001b[0m\u001b[1mLayer (type)                   \u001b[0m\u001b[1m \u001b[0m┃\u001b[1m \u001b[0m\u001b[1mOutput Shape          \u001b[0m\u001b[1m \u001b[0m┃\u001b[1m \u001b[0m\u001b[1m      Param #\u001b[0m\u001b[1m \u001b[0m┃\n",
       "┡━━━━━━━━━━━━━━━━━━━━━━━━━━━━━━━━━╇━━━━━━━━━━━━━━━━━━━━━━━━╇━━━━━━━━━━━━━━━┩\n",
       "│ dense_39 (\u001b[38;5;33mDense\u001b[0m)                │ (\u001b[38;5;45mNone\u001b[0m, \u001b[38;5;34m256\u001b[0m)            │       \u001b[38;5;34m131,328\u001b[0m │\n",
       "├─────────────────────────────────┼────────────────────────┼───────────────┤\n",
       "│ dropout_20 (\u001b[38;5;33mDropout\u001b[0m)            │ (\u001b[38;5;45mNone\u001b[0m, \u001b[38;5;34m256\u001b[0m)            │             \u001b[38;5;34m0\u001b[0m │\n",
       "├─────────────────────────────────┼────────────────────────┼───────────────┤\n",
       "│ dense_40 (\u001b[38;5;33mDense\u001b[0m)                │ (\u001b[38;5;45mNone\u001b[0m, \u001b[38;5;34m128\u001b[0m)            │        \u001b[38;5;34m32,896\u001b[0m │\n",
       "├─────────────────────────────────┼────────────────────────┼───────────────┤\n",
       "│ dropout_21 (\u001b[38;5;33mDropout\u001b[0m)            │ (\u001b[38;5;45mNone\u001b[0m, \u001b[38;5;34m128\u001b[0m)            │             \u001b[38;5;34m0\u001b[0m │\n",
       "├─────────────────────────────────┼────────────────────────┼───────────────┤\n",
       "│ dense_41 (\u001b[38;5;33mDense\u001b[0m)                │ (\u001b[38;5;45mNone\u001b[0m, \u001b[38;5;34m64\u001b[0m)             │         \u001b[38;5;34m8,256\u001b[0m │\n",
       "├─────────────────────────────────┼────────────────────────┼───────────────┤\n",
       "│ dense_42 (\u001b[38;5;33mDense\u001b[0m)                │ (\u001b[38;5;45mNone\u001b[0m, \u001b[38;5;34m6\u001b[0m)              │           \u001b[38;5;34m390\u001b[0m │\n",
       "└─────────────────────────────────┴────────────────────────┴───────────────┘\n"
      ]
     },
     "metadata": {},
     "output_type": "display_data"
    },
    {
     "data": {
      "text/html": [
       "<pre style=\"white-space:pre;overflow-x:auto;line-height:normal;font-family:Menlo,'DejaVu Sans Mono',consolas,'Courier New',monospace\"><span style=\"font-weight: bold\"> Total params: </span><span style=\"color: #00af00; text-decoration-color: #00af00\">172,870</span> (675.27 KB)\n",
       "</pre>\n"
      ],
      "text/plain": [
       "\u001b[1m Total params: \u001b[0m\u001b[38;5;34m172,870\u001b[0m (675.27 KB)\n"
      ]
     },
     "metadata": {},
     "output_type": "display_data"
    },
    {
     "data": {
      "text/html": [
       "<pre style=\"white-space:pre;overflow-x:auto;line-height:normal;font-family:Menlo,'DejaVu Sans Mono',consolas,'Courier New',monospace\"><span style=\"font-weight: bold\"> Trainable params: </span><span style=\"color: #00af00; text-decoration-color: #00af00\">172,870</span> (675.27 KB)\n",
       "</pre>\n"
      ],
      "text/plain": [
       "\u001b[1m Trainable params: \u001b[0m\u001b[38;5;34m172,870\u001b[0m (675.27 KB)\n"
      ]
     },
     "metadata": {},
     "output_type": "display_data"
    },
    {
     "data": {
      "text/html": [
       "<pre style=\"white-space:pre;overflow-x:auto;line-height:normal;font-family:Menlo,'DejaVu Sans Mono',consolas,'Courier New',monospace\"><span style=\"font-weight: bold\"> Non-trainable params: </span><span style=\"color: #00af00; text-decoration-color: #00af00\">0</span> (0.00 B)\n",
       "</pre>\n"
      ],
      "text/plain": [
       "\u001b[1m Non-trainable params: \u001b[0m\u001b[38;5;34m0\u001b[0m (0.00 B)\n"
      ]
     },
     "metadata": {},
     "output_type": "display_data"
    }
   ],
   "source": [
    "model = keras.Sequential([\n",
    "  keras.layers.Input(shape=dataset.element_spec[0].shape),\n",
    "  keras.layers.Dense(256, activation=\"relu\"),\n",
    "  keras.layers.Dropout(0.3),\n",
    "  keras.layers.Dense(128, activation=\"relu\"),\n",
    "  keras.layers.Dropout(0.3),\n",
    "  keras.layers.Dense(64, activation=\"relu\"),\n",
    "  keras.layers.Dense(6, activation=\"softmax\"),\n",
    "])\n",
    "\n",
    "model.compile(\n",
    "  optimizer=keras.optimizers.Adam(learning_rate=0.001), # type: ignore\n",
    "  loss=keras.losses.SparseCategoricalCrossentropy(),\n",
    "  metrics=[\"accuracy\"],\n",
    ")\n",
    "\n",
    "model.summary()"
   ]
  },
  {
   "cell_type": "code",
   "execution_count": 104,
   "metadata": {},
   "outputs": [
    {
     "name": "stdout",
     "output_type": "stream",
     "text": [
      "Epoch 1/40\n",
      "\u001b[1m34/34\u001b[0m \u001b[32m━━━━━━━━━━━━━━━━━━━━\u001b[0m\u001b[37m\u001b[0m \u001b[1m3s\u001b[0m 12ms/step - accuracy: 0.2117 - loss: 1.7820 - val_accuracy: 0.2775 - val_loss: 1.7334\n",
      "Epoch 2/40\n",
      "\u001b[1m34/34\u001b[0m \u001b[32m━━━━━━━━━━━━━━━━━━━━\u001b[0m\u001b[37m\u001b[0m \u001b[1m0s\u001b[0m 5ms/step - accuracy: 0.2464 - loss: 1.7253 - val_accuracy: 0.3128 - val_loss: 1.6961\n",
      "Epoch 3/40\n",
      "\u001b[1m34/34\u001b[0m \u001b[32m━━━━━━━━━━━━━━━━━━━━\u001b[0m\u001b[37m\u001b[0m \u001b[1m0s\u001b[0m 11ms/step - accuracy: 0.2802 - loss: 1.6725 - val_accuracy: 0.2952 - val_loss: 1.6499\n",
      "Epoch 4/40\n",
      "\u001b[1m34/34\u001b[0m \u001b[32m━━━━━━━━━━━━━━━━━━━━\u001b[0m\u001b[37m\u001b[0m \u001b[1m0s\u001b[0m 11ms/step - accuracy: 0.3265 - loss: 1.5892 - val_accuracy: 0.4053 - val_loss: 1.5511\n",
      "Epoch 5/40\n",
      "\u001b[1m34/34\u001b[0m \u001b[32m━━━━━━━━━━━━━━━━━━━━\u001b[0m\u001b[37m\u001b[0m \u001b[1m0s\u001b[0m 8ms/step - accuracy: 0.3808 - loss: 1.5380 - val_accuracy: 0.4626 - val_loss: 1.4825\n",
      "Epoch 6/40\n",
      "\u001b[1m34/34\u001b[0m \u001b[32m━━━━━━━━━━━━━━━━━━━━\u001b[0m\u001b[37m\u001b[0m \u001b[1m0s\u001b[0m 5ms/step - accuracy: 0.4622 - loss: 1.4388 - val_accuracy: 0.4890 - val_loss: 1.3863\n",
      "Epoch 7/40\n",
      "\u001b[1m34/34\u001b[0m \u001b[32m━━━━━━━━━━━━━━━━━━━━\u001b[0m\u001b[37m\u001b[0m \u001b[1m0s\u001b[0m 5ms/step - accuracy: 0.5121 - loss: 1.2762 - val_accuracy: 0.5286 - val_loss: 1.2460\n",
      "Epoch 8/40\n",
      "\u001b[1m34/34\u001b[0m \u001b[32m━━━━━━━━━━━━━━━━━━━━\u001b[0m\u001b[37m\u001b[0m \u001b[1m0s\u001b[0m 6ms/step - accuracy: 0.5655 - loss: 1.1398 - val_accuracy: 0.5419 - val_loss: 1.2097\n",
      "Epoch 9/40\n",
      "\u001b[1m34/34\u001b[0m \u001b[32m━━━━━━━━━━━━━━━━━━━━\u001b[0m\u001b[37m\u001b[0m \u001b[1m0s\u001b[0m 6ms/step - accuracy: 0.5838 - loss: 1.0976 - val_accuracy: 0.6608 - val_loss: 1.0551\n",
      "Epoch 10/40\n",
      "\u001b[1m34/34\u001b[0m \u001b[32m━━━━━━━━━━━━━━━━━━━━\u001b[0m\u001b[37m\u001b[0m \u001b[1m0s\u001b[0m 5ms/step - accuracy: 0.6444 - loss: 0.9463 - val_accuracy: 0.6652 - val_loss: 0.9907\n",
      "Epoch 11/40\n",
      "\u001b[1m34/34\u001b[0m \u001b[32m━━━━━━━━━━━━━━━━━━━━\u001b[0m\u001b[37m\u001b[0m \u001b[1m0s\u001b[0m 6ms/step - accuracy: 0.6512 - loss: 0.9168 - val_accuracy: 0.6696 - val_loss: 0.9293\n",
      "Epoch 12/40\n",
      "\u001b[1m34/34\u001b[0m \u001b[32m━━━━━━━━━━━━━━━━━━━━\u001b[0m\u001b[37m\u001b[0m \u001b[1m0s\u001b[0m 5ms/step - accuracy: 0.7072 - loss: 0.8505 - val_accuracy: 0.7004 - val_loss: 0.9490\n",
      "Epoch 13/40\n",
      "\u001b[1m34/34\u001b[0m \u001b[32m━━━━━━━━━━━━━━━━━━━━\u001b[0m\u001b[37m\u001b[0m \u001b[1m0s\u001b[0m 11ms/step - accuracy: 0.6996 - loss: 0.7857 - val_accuracy: 0.6916 - val_loss: 1.0177\n",
      "Epoch 14/40\n",
      "\u001b[1m34/34\u001b[0m \u001b[32m━━━━━━━━━━━━━━━━━━━━\u001b[0m\u001b[37m\u001b[0m \u001b[1m0s\u001b[0m 5ms/step - accuracy: 0.7403 - loss: 0.7527 - val_accuracy: 0.7093 - val_loss: 0.8524\n",
      "Epoch 15/40\n",
      "\u001b[1m34/34\u001b[0m \u001b[32m━━━━━━━━━━━━━━━━━━━━\u001b[0m\u001b[37m\u001b[0m \u001b[1m0s\u001b[0m 6ms/step - accuracy: 0.7972 - loss: 0.5964 - val_accuracy: 0.7093 - val_loss: 0.8854\n",
      "Epoch 16/40\n",
      "\u001b[1m34/34\u001b[0m \u001b[32m━━━━━━━━━━━━━━━━━━━━\u001b[0m\u001b[37m\u001b[0m \u001b[1m0s\u001b[0m 5ms/step - accuracy: 0.8064 - loss: 0.5384 - val_accuracy: 0.7489 - val_loss: 0.8532\n",
      "Epoch 17/40\n",
      "\u001b[1m34/34\u001b[0m \u001b[32m━━━━━━━━━━━━━━━━━━━━\u001b[0m\u001b[37m\u001b[0m \u001b[1m0s\u001b[0m 5ms/step - accuracy: 0.8281 - loss: 0.5149 - val_accuracy: 0.7048 - val_loss: 0.9050\n",
      "Epoch 18/40\n",
      "\u001b[1m34/34\u001b[0m \u001b[32m━━━━━━━━━━━━━━━━━━━━\u001b[0m\u001b[37m\u001b[0m \u001b[1m0s\u001b[0m 5ms/step - accuracy: 0.8273 - loss: 0.4961 - val_accuracy: 0.7225 - val_loss: 0.8641\n",
      "Epoch 19/40\n",
      "\u001b[1m34/34\u001b[0m \u001b[32m━━━━━━━━━━━━━━━━━━━━\u001b[0m\u001b[37m\u001b[0m \u001b[1m0s\u001b[0m 6ms/step - accuracy: 0.8036 - loss: 0.4811 - val_accuracy: 0.7137 - val_loss: 0.9347\n",
      "Epoch 20/40\n",
      "\u001b[1m34/34\u001b[0m \u001b[32m━━━━━━━━━━━━━━━━━━━━\u001b[0m\u001b[37m\u001b[0m \u001b[1m0s\u001b[0m 7ms/step - accuracy: 0.8254 - loss: 0.5061 - val_accuracy: 0.7137 - val_loss: 0.8713\n",
      "Epoch 21/40\n",
      "\u001b[1m34/34\u001b[0m \u001b[32m━━━━━━━━━━━━━━━━━━━━\u001b[0m\u001b[37m\u001b[0m \u001b[1m0s\u001b[0m 9ms/step - accuracy: 0.8275 - loss: 0.4429 - val_accuracy: 0.7753 - val_loss: 0.8241\n",
      "Epoch 22/40\n",
      "\u001b[1m34/34\u001b[0m \u001b[32m━━━━━━━━━━━━━━━━━━━━\u001b[0m\u001b[37m\u001b[0m \u001b[1m0s\u001b[0m 7ms/step - accuracy: 0.8690 - loss: 0.3411 - val_accuracy: 0.7225 - val_loss: 0.9318\n",
      "Epoch 23/40\n",
      "\u001b[1m34/34\u001b[0m \u001b[32m━━━━━━━━━━━━━━━━━━━━\u001b[0m\u001b[37m\u001b[0m \u001b[1m0s\u001b[0m 7ms/step - accuracy: 0.8656 - loss: 0.4181 - val_accuracy: 0.7181 - val_loss: 0.9602\n",
      "Epoch 24/40\n",
      "\u001b[1m34/34\u001b[0m \u001b[32m━━━━━━━━━━━━━━━━━━━━\u001b[0m\u001b[37m\u001b[0m \u001b[1m0s\u001b[0m 5ms/step - accuracy: 0.8424 - loss: 0.3876 - val_accuracy: 0.6476 - val_loss: 1.2348\n",
      "Epoch 25/40\n",
      "\u001b[1m34/34\u001b[0m \u001b[32m━━━━━━━━━━━━━━━━━━━━\u001b[0m\u001b[37m\u001b[0m \u001b[1m0s\u001b[0m 5ms/step - accuracy: 0.7927 - loss: 0.4995 - val_accuracy: 0.7709 - val_loss: 0.7896\n",
      "Epoch 26/40\n",
      "\u001b[1m34/34\u001b[0m \u001b[32m━━━━━━━━━━━━━━━━━━━━\u001b[0m\u001b[37m\u001b[0m \u001b[1m0s\u001b[0m 6ms/step - accuracy: 0.7855 - loss: 0.5690 - val_accuracy: 0.6960 - val_loss: 1.0636\n",
      "Epoch 27/40\n",
      "\u001b[1m34/34\u001b[0m \u001b[32m━━━━━━━━━━━━━━━━━━━━\u001b[0m\u001b[37m\u001b[0m \u001b[1m0s\u001b[0m 5ms/step - accuracy: 0.8434 - loss: 0.4398 - val_accuracy: 0.7577 - val_loss: 0.8252\n",
      "Epoch 28/40\n",
      "\u001b[1m34/34\u001b[0m \u001b[32m━━━━━━━━━━━━━━━━━━━━\u001b[0m\u001b[37m\u001b[0m \u001b[1m0s\u001b[0m 5ms/step - accuracy: 0.8921 - loss: 0.2756 - val_accuracy: 0.7489 - val_loss: 0.9740\n",
      "Epoch 29/40\n",
      "\u001b[1m34/34\u001b[0m \u001b[32m━━━━━━━━━━━━━━━━━━━━\u001b[0m\u001b[37m\u001b[0m \u001b[1m0s\u001b[0m 6ms/step - accuracy: 0.8893 - loss: 0.3122 - val_accuracy: 0.7577 - val_loss: 0.8490\n",
      "Epoch 30/40\n",
      "\u001b[1m34/34\u001b[0m \u001b[32m━━━━━━━━━━━━━━━━━━━━\u001b[0m\u001b[37m\u001b[0m \u001b[1m0s\u001b[0m 7ms/step - accuracy: 0.9304 - loss: 0.2148 - val_accuracy: 0.7357 - val_loss: 0.8927\n",
      "Epoch 31/40\n",
      "\u001b[1m34/34\u001b[0m \u001b[32m━━━━━━━━━━━━━━━━━━━━\u001b[0m\u001b[37m\u001b[0m \u001b[1m0s\u001b[0m 5ms/step - accuracy: 0.9448 - loss: 0.1875 - val_accuracy: 0.7841 - val_loss: 0.8685\n",
      "Epoch 32/40\n",
      "\u001b[1m34/34\u001b[0m \u001b[32m━━━━━━━━━━━━━━━━━━━━\u001b[0m\u001b[37m\u001b[0m \u001b[1m0s\u001b[0m 5ms/step - accuracy: 0.9156 - loss: 0.2192 - val_accuracy: 0.7665 - val_loss: 0.9351\n",
      "Epoch 33/40\n",
      "\u001b[1m34/34\u001b[0m \u001b[32m━━━━━━━━━━━━━━━━━━━━\u001b[0m\u001b[37m\u001b[0m \u001b[1m0s\u001b[0m 5ms/step - accuracy: 0.8914 - loss: 0.2513 - val_accuracy: 0.7093 - val_loss: 1.1011\n",
      "Epoch 34/40\n",
      "\u001b[1m34/34\u001b[0m \u001b[32m━━━━━━━━━━━━━━━━━━━━\u001b[0m\u001b[37m\u001b[0m \u001b[1m0s\u001b[0m 5ms/step - accuracy: 0.8241 - loss: 0.4740 - val_accuracy: 0.7401 - val_loss: 0.9517\n",
      "Epoch 35/40\n",
      "\u001b[1m34/34\u001b[0m \u001b[32m━━━━━━━━━━━━━━━━━━━━\u001b[0m\u001b[37m\u001b[0m \u001b[1m0s\u001b[0m 6ms/step - accuracy: 0.8695 - loss: 0.3313 - val_accuracy: 0.7357 - val_loss: 0.8866\n",
      "Epoch 36/40\n",
      "\u001b[1m34/34\u001b[0m \u001b[32m━━━━━━━━━━━━━━━━━━━━\u001b[0m\u001b[37m\u001b[0m \u001b[1m0s\u001b[0m 5ms/step - accuracy: 0.8886 - loss: 0.2971 - val_accuracy: 0.7533 - val_loss: 0.9216\n",
      "Epoch 37/40\n",
      "\u001b[1m34/34\u001b[0m \u001b[32m━━━━━━━━━━━━━━━━━━━━\u001b[0m\u001b[37m\u001b[0m \u001b[1m0s\u001b[0m 5ms/step - accuracy: 0.9486 - loss: 0.1796 - val_accuracy: 0.7621 - val_loss: 0.9309\n",
      "Epoch 38/40\n",
      "\u001b[1m34/34\u001b[0m \u001b[32m━━━━━━━━━━━━━━━━━━━━\u001b[0m\u001b[37m\u001b[0m \u001b[1m0s\u001b[0m 5ms/step - accuracy: 0.9553 - loss: 0.1467 - val_accuracy: 0.7577 - val_loss: 1.0779\n",
      "Epoch 39/40\n",
      "\u001b[1m34/34\u001b[0m \u001b[32m━━━━━━━━━━━━━━━━━━━━\u001b[0m\u001b[37m\u001b[0m \u001b[1m0s\u001b[0m 5ms/step - accuracy: 0.9555 - loss: 0.1355 - val_accuracy: 0.7709 - val_loss: 1.0884\n",
      "Epoch 40/40\n",
      "\u001b[1m34/34\u001b[0m \u001b[32m━━━━━━━━━━━━━━━━━━━━\u001b[0m\u001b[37m\u001b[0m \u001b[1m0s\u001b[0m 5ms/step - accuracy: 0.9654 - loss: 0.1205 - val_accuracy: 0.7621 - val_loss: 1.0153\n"
     ]
    }
   ],
   "source": [
    "history = model.fit(\n",
    "  train_dataset, epochs=40,\n",
    "  validation_data=validation_dataset,\n",
    ")"
   ]
  },
  {
   "cell_type": "code",
   "execution_count": 105,
   "metadata": {},
   "outputs": [
    {
     "data": {
      "application/vnd.plotly.v1+json": {
       "config": {
        "plotlyServerURL": "https://plot.ly"
       },
       "data": [
        {
         "hovertemplate": "index=%{x}<br>accuracy=%{y}<extra></extra>",
         "legendgroup": "",
         "line": {
          "color": "blue",
          "dash": "solid"
         },
         "marker": {
          "color": "blue",
          "symbol": "circle"
         },
         "mode": "lines+markers",
         "name": "Accuracy",
         "orientation": "v",
         "showlegend": true,
         "type": "scatter",
         "x": [
          0,
          1,
          2,
          3,
          4,
          5,
          6,
          7,
          8,
          9,
          10,
          11,
          12,
          13,
          14,
          15,
          16,
          17,
          18,
          19,
          20,
          21,
          22,
          23,
          24,
          25,
          26,
          27,
          28,
          29,
          30,
          31,
          32,
          33,
          34,
          35,
          36,
          37,
          38,
          39
         ],
         "xaxis": "x",
         "y": [
          0.2037735879421234,
          0.2679245173931122,
          0.3056603670120239,
          0.34716981649398804,
          0.3792452812194824,
          0.47924527525901794,
          0.5264151096343994,
          0.5603773593902588,
          0.5886792540550232,
          0.6433961987495422,
          0.6622641682624817,
          0.698113203048706,
          0.7132075428962708,
          0.7320754528045654,
          0.7943395972251892,
          0.796226441860199,
          0.8188679218292236,
          0.8188679218292236,
          0.800000011920929,
          0.8188679218292236,
          0.8320754766464233,
          0.8603773713111877,
          0.8584905862808228,
          0.8339622616767883,
          0.845283031463623,
          0.7924528121948242,
          0.8641509413719177,
          0.8924528360366821,
          0.9113207459449768,
          0.9245283007621765,
          0.9396226406097412,
          0.9207547307014465,
          0.9037736058235168,
          0.8433962464332581,
          0.8849056363105774,
          0.8886792659759521,
          0.9490566253662109,
          0.9509434103965759,
          0.9490566253662109,
          0.9603773355484009
         ],
         "yaxis": "y"
        },
        {
         "hovertemplate": "index=%{x}<br>val_accuracy=%{y}<extra></extra>",
         "legendgroup": "",
         "line": {
          "color": "orange",
          "dash": "solid"
         },
         "marker": {
          "color": "orange",
          "symbol": "circle"
         },
         "mode": "lines+markers",
         "name": "Validation Accuracy",
         "orientation": "v",
         "showlegend": true,
         "type": "scatter",
         "x": [
          0,
          1,
          2,
          3,
          4,
          5,
          6,
          7,
          8,
          9,
          10,
          11,
          12,
          13,
          14,
          15,
          16,
          17,
          18,
          19,
          20,
          21,
          22,
          23,
          24,
          25,
          26,
          27,
          28,
          29,
          30,
          31,
          32,
          33,
          34,
          35,
          36,
          37,
          38,
          39
         ],
         "xaxis": "x",
         "y": [
          0.27753305435180664,
          0.3127753436565399,
          0.2951541841030121,
          0.40528634190559387,
          0.46255508065223694,
          0.4889867901802063,
          0.5286343693733215,
          0.541850209236145,
          0.6607929468154907,
          0.6651982665061951,
          0.6696035265922546,
          0.700440526008606,
          0.691629946231842,
          0.7092511057853699,
          0.7092511057853699,
          0.7488986849784851,
          0.7048457860946655,
          0.7224669456481934,
          0.7136563658714294,
          0.7136563658714294,
          0.7753304243087769,
          0.7224669456481934,
          0.7180616855621338,
          0.6475771069526672,
          0.7709251046180725,
          0.6960352659225464,
          0.757709264755249,
          0.7488986849784851,
          0.757709264755249,
          0.7356828451156616,
          0.784140944480896,
          0.7665198445320129,
          0.7092511057853699,
          0.7400881052017212,
          0.7356828451156616,
          0.7533039450645447,
          0.7621145248413086,
          0.757709264755249,
          0.7709251046180725,
          0.7621145248413086
         ],
         "yaxis": "y"
        }
       ],
       "layout": {
        "legend": {
         "tracegroupgap": 0
        },
        "shapes": [
         {
          "label": {
           "text": "Median Val Accuracy",
           "textposition": "start"
          },
          "line": {
           "color": "orange",
           "dash": "dash"
          },
          "type": "line",
          "x0": 0,
          "x1": 1,
          "xref": "x domain",
          "y0": 0.7136563658714294,
          "y1": 0.7136563658714294,
          "yref": "y"
         },
         {
          "label": {
           "text": "Median Accuracy",
           "textposition": "start"
          },
          "line": {
           "color": "blue",
           "dash": "dash"
          },
          "type": "line",
          "x0": 0,
          "x1": 1,
          "xref": "x domain",
          "y0": 0.8188679218292236,
          "y1": 0.8188679218292236,
          "yref": "y"
         }
        ],
        "template": {
         "data": {
          "bar": [
           {
            "error_x": {
             "color": "#2a3f5f"
            },
            "error_y": {
             "color": "#2a3f5f"
            },
            "marker": {
             "line": {
              "color": "#E5ECF6",
              "width": 0.5
             },
             "pattern": {
              "fillmode": "overlay",
              "size": 10,
              "solidity": 0.2
             }
            },
            "type": "bar"
           }
          ],
          "barpolar": [
           {
            "marker": {
             "line": {
              "color": "#E5ECF6",
              "width": 0.5
             },
             "pattern": {
              "fillmode": "overlay",
              "size": 10,
              "solidity": 0.2
             }
            },
            "type": "barpolar"
           }
          ],
          "carpet": [
           {
            "aaxis": {
             "endlinecolor": "#2a3f5f",
             "gridcolor": "white",
             "linecolor": "white",
             "minorgridcolor": "white",
             "startlinecolor": "#2a3f5f"
            },
            "baxis": {
             "endlinecolor": "#2a3f5f",
             "gridcolor": "white",
             "linecolor": "white",
             "minorgridcolor": "white",
             "startlinecolor": "#2a3f5f"
            },
            "type": "carpet"
           }
          ],
          "choropleth": [
           {
            "colorbar": {
             "outlinewidth": 0,
             "ticks": ""
            },
            "type": "choropleth"
           }
          ],
          "contour": [
           {
            "colorbar": {
             "outlinewidth": 0,
             "ticks": ""
            },
            "colorscale": [
             [
              0,
              "#0d0887"
             ],
             [
              0.1111111111111111,
              "#46039f"
             ],
             [
              0.2222222222222222,
              "#7201a8"
             ],
             [
              0.3333333333333333,
              "#9c179e"
             ],
             [
              0.4444444444444444,
              "#bd3786"
             ],
             [
              0.5555555555555556,
              "#d8576b"
             ],
             [
              0.6666666666666666,
              "#ed7953"
             ],
             [
              0.7777777777777778,
              "#fb9f3a"
             ],
             [
              0.8888888888888888,
              "#fdca26"
             ],
             [
              1,
              "#f0f921"
             ]
            ],
            "type": "contour"
           }
          ],
          "contourcarpet": [
           {
            "colorbar": {
             "outlinewidth": 0,
             "ticks": ""
            },
            "type": "contourcarpet"
           }
          ],
          "heatmap": [
           {
            "colorbar": {
             "outlinewidth": 0,
             "ticks": ""
            },
            "colorscale": [
             [
              0,
              "#0d0887"
             ],
             [
              0.1111111111111111,
              "#46039f"
             ],
             [
              0.2222222222222222,
              "#7201a8"
             ],
             [
              0.3333333333333333,
              "#9c179e"
             ],
             [
              0.4444444444444444,
              "#bd3786"
             ],
             [
              0.5555555555555556,
              "#d8576b"
             ],
             [
              0.6666666666666666,
              "#ed7953"
             ],
             [
              0.7777777777777778,
              "#fb9f3a"
             ],
             [
              0.8888888888888888,
              "#fdca26"
             ],
             [
              1,
              "#f0f921"
             ]
            ],
            "type": "heatmap"
           }
          ],
          "heatmapgl": [
           {
            "colorbar": {
             "outlinewidth": 0,
             "ticks": ""
            },
            "colorscale": [
             [
              0,
              "#0d0887"
             ],
             [
              0.1111111111111111,
              "#46039f"
             ],
             [
              0.2222222222222222,
              "#7201a8"
             ],
             [
              0.3333333333333333,
              "#9c179e"
             ],
             [
              0.4444444444444444,
              "#bd3786"
             ],
             [
              0.5555555555555556,
              "#d8576b"
             ],
             [
              0.6666666666666666,
              "#ed7953"
             ],
             [
              0.7777777777777778,
              "#fb9f3a"
             ],
             [
              0.8888888888888888,
              "#fdca26"
             ],
             [
              1,
              "#f0f921"
             ]
            ],
            "type": "heatmapgl"
           }
          ],
          "histogram": [
           {
            "marker": {
             "pattern": {
              "fillmode": "overlay",
              "size": 10,
              "solidity": 0.2
             }
            },
            "type": "histogram"
           }
          ],
          "histogram2d": [
           {
            "colorbar": {
             "outlinewidth": 0,
             "ticks": ""
            },
            "colorscale": [
             [
              0,
              "#0d0887"
             ],
             [
              0.1111111111111111,
              "#46039f"
             ],
             [
              0.2222222222222222,
              "#7201a8"
             ],
             [
              0.3333333333333333,
              "#9c179e"
             ],
             [
              0.4444444444444444,
              "#bd3786"
             ],
             [
              0.5555555555555556,
              "#d8576b"
             ],
             [
              0.6666666666666666,
              "#ed7953"
             ],
             [
              0.7777777777777778,
              "#fb9f3a"
             ],
             [
              0.8888888888888888,
              "#fdca26"
             ],
             [
              1,
              "#f0f921"
             ]
            ],
            "type": "histogram2d"
           }
          ],
          "histogram2dcontour": [
           {
            "colorbar": {
             "outlinewidth": 0,
             "ticks": ""
            },
            "colorscale": [
             [
              0,
              "#0d0887"
             ],
             [
              0.1111111111111111,
              "#46039f"
             ],
             [
              0.2222222222222222,
              "#7201a8"
             ],
             [
              0.3333333333333333,
              "#9c179e"
             ],
             [
              0.4444444444444444,
              "#bd3786"
             ],
             [
              0.5555555555555556,
              "#d8576b"
             ],
             [
              0.6666666666666666,
              "#ed7953"
             ],
             [
              0.7777777777777778,
              "#fb9f3a"
             ],
             [
              0.8888888888888888,
              "#fdca26"
             ],
             [
              1,
              "#f0f921"
             ]
            ],
            "type": "histogram2dcontour"
           }
          ],
          "mesh3d": [
           {
            "colorbar": {
             "outlinewidth": 0,
             "ticks": ""
            },
            "type": "mesh3d"
           }
          ],
          "parcoords": [
           {
            "line": {
             "colorbar": {
              "outlinewidth": 0,
              "ticks": ""
             }
            },
            "type": "parcoords"
           }
          ],
          "pie": [
           {
            "automargin": true,
            "type": "pie"
           }
          ],
          "scatter": [
           {
            "fillpattern": {
             "fillmode": "overlay",
             "size": 10,
             "solidity": 0.2
            },
            "type": "scatter"
           }
          ],
          "scatter3d": [
           {
            "line": {
             "colorbar": {
              "outlinewidth": 0,
              "ticks": ""
             }
            },
            "marker": {
             "colorbar": {
              "outlinewidth": 0,
              "ticks": ""
             }
            },
            "type": "scatter3d"
           }
          ],
          "scattercarpet": [
           {
            "marker": {
             "colorbar": {
              "outlinewidth": 0,
              "ticks": ""
             }
            },
            "type": "scattercarpet"
           }
          ],
          "scattergeo": [
           {
            "marker": {
             "colorbar": {
              "outlinewidth": 0,
              "ticks": ""
             }
            },
            "type": "scattergeo"
           }
          ],
          "scattergl": [
           {
            "marker": {
             "colorbar": {
              "outlinewidth": 0,
              "ticks": ""
             }
            },
            "type": "scattergl"
           }
          ],
          "scattermapbox": [
           {
            "marker": {
             "colorbar": {
              "outlinewidth": 0,
              "ticks": ""
             }
            },
            "type": "scattermapbox"
           }
          ],
          "scatterpolar": [
           {
            "marker": {
             "colorbar": {
              "outlinewidth": 0,
              "ticks": ""
             }
            },
            "type": "scatterpolar"
           }
          ],
          "scatterpolargl": [
           {
            "marker": {
             "colorbar": {
              "outlinewidth": 0,
              "ticks": ""
             }
            },
            "type": "scatterpolargl"
           }
          ],
          "scatterternary": [
           {
            "marker": {
             "colorbar": {
              "outlinewidth": 0,
              "ticks": ""
             }
            },
            "type": "scatterternary"
           }
          ],
          "surface": [
           {
            "colorbar": {
             "outlinewidth": 0,
             "ticks": ""
            },
            "colorscale": [
             [
              0,
              "#0d0887"
             ],
             [
              0.1111111111111111,
              "#46039f"
             ],
             [
              0.2222222222222222,
              "#7201a8"
             ],
             [
              0.3333333333333333,
              "#9c179e"
             ],
             [
              0.4444444444444444,
              "#bd3786"
             ],
             [
              0.5555555555555556,
              "#d8576b"
             ],
             [
              0.6666666666666666,
              "#ed7953"
             ],
             [
              0.7777777777777778,
              "#fb9f3a"
             ],
             [
              0.8888888888888888,
              "#fdca26"
             ],
             [
              1,
              "#f0f921"
             ]
            ],
            "type": "surface"
           }
          ],
          "table": [
           {
            "cells": {
             "fill": {
              "color": "#EBF0F8"
             },
             "line": {
              "color": "white"
             }
            },
            "header": {
             "fill": {
              "color": "#C8D4E3"
             },
             "line": {
              "color": "white"
             }
            },
            "type": "table"
           }
          ]
         },
         "layout": {
          "annotationdefaults": {
           "arrowcolor": "#2a3f5f",
           "arrowhead": 0,
           "arrowwidth": 1
          },
          "autotypenumbers": "strict",
          "coloraxis": {
           "colorbar": {
            "outlinewidth": 0,
            "ticks": ""
           }
          },
          "colorscale": {
           "diverging": [
            [
             0,
             "#8e0152"
            ],
            [
             0.1,
             "#c51b7d"
            ],
            [
             0.2,
             "#de77ae"
            ],
            [
             0.3,
             "#f1b6da"
            ],
            [
             0.4,
             "#fde0ef"
            ],
            [
             0.5,
             "#f7f7f7"
            ],
            [
             0.6,
             "#e6f5d0"
            ],
            [
             0.7,
             "#b8e186"
            ],
            [
             0.8,
             "#7fbc41"
            ],
            [
             0.9,
             "#4d9221"
            ],
            [
             1,
             "#276419"
            ]
           ],
           "sequential": [
            [
             0,
             "#0d0887"
            ],
            [
             0.1111111111111111,
             "#46039f"
            ],
            [
             0.2222222222222222,
             "#7201a8"
            ],
            [
             0.3333333333333333,
             "#9c179e"
            ],
            [
             0.4444444444444444,
             "#bd3786"
            ],
            [
             0.5555555555555556,
             "#d8576b"
            ],
            [
             0.6666666666666666,
             "#ed7953"
            ],
            [
             0.7777777777777778,
             "#fb9f3a"
            ],
            [
             0.8888888888888888,
             "#fdca26"
            ],
            [
             1,
             "#f0f921"
            ]
           ],
           "sequentialminus": [
            [
             0,
             "#0d0887"
            ],
            [
             0.1111111111111111,
             "#46039f"
            ],
            [
             0.2222222222222222,
             "#7201a8"
            ],
            [
             0.3333333333333333,
             "#9c179e"
            ],
            [
             0.4444444444444444,
             "#bd3786"
            ],
            [
             0.5555555555555556,
             "#d8576b"
            ],
            [
             0.6666666666666666,
             "#ed7953"
            ],
            [
             0.7777777777777778,
             "#fb9f3a"
            ],
            [
             0.8888888888888888,
             "#fdca26"
            ],
            [
             1,
             "#f0f921"
            ]
           ]
          },
          "colorway": [
           "#636efa",
           "#EF553B",
           "#00cc96",
           "#ab63fa",
           "#FFA15A",
           "#19d3f3",
           "#FF6692",
           "#B6E880",
           "#FF97FF",
           "#FECB52"
          ],
          "font": {
           "color": "#2a3f5f"
          },
          "geo": {
           "bgcolor": "white",
           "lakecolor": "white",
           "landcolor": "#E5ECF6",
           "showlakes": true,
           "showland": true,
           "subunitcolor": "white"
          },
          "hoverlabel": {
           "align": "left"
          },
          "hovermode": "closest",
          "mapbox": {
           "style": "light"
          },
          "paper_bgcolor": "white",
          "plot_bgcolor": "#E5ECF6",
          "polar": {
           "angularaxis": {
            "gridcolor": "white",
            "linecolor": "white",
            "ticks": ""
           },
           "bgcolor": "#E5ECF6",
           "radialaxis": {
            "gridcolor": "white",
            "linecolor": "white",
            "ticks": ""
           }
          },
          "scene": {
           "xaxis": {
            "backgroundcolor": "#E5ECF6",
            "gridcolor": "white",
            "gridwidth": 2,
            "linecolor": "white",
            "showbackground": true,
            "ticks": "",
            "zerolinecolor": "white"
           },
           "yaxis": {
            "backgroundcolor": "#E5ECF6",
            "gridcolor": "white",
            "gridwidth": 2,
            "linecolor": "white",
            "showbackground": true,
            "ticks": "",
            "zerolinecolor": "white"
           },
           "zaxis": {
            "backgroundcolor": "#E5ECF6",
            "gridcolor": "white",
            "gridwidth": 2,
            "linecolor": "white",
            "showbackground": true,
            "ticks": "",
            "zerolinecolor": "white"
           }
          },
          "shapedefaults": {
           "line": {
            "color": "#2a3f5f"
           }
          },
          "ternary": {
           "aaxis": {
            "gridcolor": "white",
            "linecolor": "white",
            "ticks": ""
           },
           "baxis": {
            "gridcolor": "white",
            "linecolor": "white",
            "ticks": ""
           },
           "bgcolor": "#E5ECF6",
           "caxis": {
            "gridcolor": "white",
            "linecolor": "white",
            "ticks": ""
           }
          },
          "title": {
           "x": 0.05
          },
          "xaxis": {
           "automargin": true,
           "gridcolor": "white",
           "linecolor": "white",
           "ticks": "",
           "title": {
            "standoff": 15
           },
           "zerolinecolor": "white",
           "zerolinewidth": 2
          },
          "yaxis": {
           "automargin": true,
           "gridcolor": "white",
           "linecolor": "white",
           "ticks": "",
           "title": {
            "standoff": 15
           },
           "zerolinecolor": "white",
           "zerolinewidth": 2
          }
         }
        },
        "title": {
         "text": "Training Accuracy"
        },
        "xaxis": {
         "anchor": "y",
         "domain": [
          0,
          1
         ],
         "title": {
          "text": "index"
         }
        },
        "yaxis": {
         "anchor": "x",
         "domain": [
          0,
          1
         ],
         "range": [
          0,
          1.2
         ],
         "title": {
          "text": "accuracy"
         }
        }
       }
      },
      "text/html": [
       "<div>                            <div id=\"32ad55ca-e4df-449a-93f9-1fd32481dc95\" class=\"plotly-graph-div\" style=\"height:525px; width:100%;\"></div>            <script type=\"text/javascript\">                require([\"plotly\"], function(Plotly) {                    window.PLOTLYENV=window.PLOTLYENV || {};                                    if (document.getElementById(\"32ad55ca-e4df-449a-93f9-1fd32481dc95\")) {                    Plotly.newPlot(                        \"32ad55ca-e4df-449a-93f9-1fd32481dc95\",                        [{\"hovertemplate\":\"index=%{x}\\u003cbr\\u003eaccuracy=%{y}\\u003cextra\\u003e\\u003c\\u002fextra\\u003e\",\"legendgroup\":\"\",\"line\":{\"color\":\"blue\",\"dash\":\"solid\"},\"marker\":{\"symbol\":\"circle\",\"color\":\"blue\"},\"mode\":\"lines+markers\",\"name\":\"Accuracy\",\"orientation\":\"v\",\"showlegend\":true,\"x\":[0,1,2,3,4,5,6,7,8,9,10,11,12,13,14,15,16,17,18,19,20,21,22,23,24,25,26,27,28,29,30,31,32,33,34,35,36,37,38,39],\"xaxis\":\"x\",\"y\":[0.2037735879421234,0.2679245173931122,0.3056603670120239,0.34716981649398804,0.3792452812194824,0.47924527525901794,0.5264151096343994,0.5603773593902588,0.5886792540550232,0.6433961987495422,0.6622641682624817,0.698113203048706,0.7132075428962708,0.7320754528045654,0.7943395972251892,0.796226441860199,0.8188679218292236,0.8188679218292236,0.800000011920929,0.8188679218292236,0.8320754766464233,0.8603773713111877,0.8584905862808228,0.8339622616767883,0.845283031463623,0.7924528121948242,0.8641509413719177,0.8924528360366821,0.9113207459449768,0.9245283007621765,0.9396226406097412,0.9207547307014465,0.9037736058235168,0.8433962464332581,0.8849056363105774,0.8886792659759521,0.9490566253662109,0.9509434103965759,0.9490566253662109,0.9603773355484009],\"yaxis\":\"y\",\"type\":\"scatter\"},{\"hovertemplate\":\"index=%{x}\\u003cbr\\u003eval_accuracy=%{y}\\u003cextra\\u003e\\u003c\\u002fextra\\u003e\",\"legendgroup\":\"\",\"line\":{\"color\":\"orange\",\"dash\":\"solid\"},\"marker\":{\"color\":\"orange\",\"symbol\":\"circle\"},\"mode\":\"lines+markers\",\"name\":\"Validation Accuracy\",\"orientation\":\"v\",\"showlegend\":true,\"x\":[0,1,2,3,4,5,6,7,8,9,10,11,12,13,14,15,16,17,18,19,20,21,22,23,24,25,26,27,28,29,30,31,32,33,34,35,36,37,38,39],\"xaxis\":\"x\",\"y\":[0.27753305435180664,0.3127753436565399,0.2951541841030121,0.40528634190559387,0.46255508065223694,0.4889867901802063,0.5286343693733215,0.541850209236145,0.6607929468154907,0.6651982665061951,0.6696035265922546,0.700440526008606,0.691629946231842,0.7092511057853699,0.7092511057853699,0.7488986849784851,0.7048457860946655,0.7224669456481934,0.7136563658714294,0.7136563658714294,0.7753304243087769,0.7224669456481934,0.7180616855621338,0.6475771069526672,0.7709251046180725,0.6960352659225464,0.757709264755249,0.7488986849784851,0.757709264755249,0.7356828451156616,0.784140944480896,0.7665198445320129,0.7092511057853699,0.7400881052017212,0.7356828451156616,0.7533039450645447,0.7621145248413086,0.757709264755249,0.7709251046180725,0.7621145248413086],\"yaxis\":\"y\",\"type\":\"scatter\"}],                        {\"template\":{\"data\":{\"histogram2dcontour\":[{\"type\":\"histogram2dcontour\",\"colorbar\":{\"outlinewidth\":0,\"ticks\":\"\"},\"colorscale\":[[0.0,\"#0d0887\"],[0.1111111111111111,\"#46039f\"],[0.2222222222222222,\"#7201a8\"],[0.3333333333333333,\"#9c179e\"],[0.4444444444444444,\"#bd3786\"],[0.5555555555555556,\"#d8576b\"],[0.6666666666666666,\"#ed7953\"],[0.7777777777777778,\"#fb9f3a\"],[0.8888888888888888,\"#fdca26\"],[1.0,\"#f0f921\"]]}],\"choropleth\":[{\"type\":\"choropleth\",\"colorbar\":{\"outlinewidth\":0,\"ticks\":\"\"}}],\"histogram2d\":[{\"type\":\"histogram2d\",\"colorbar\":{\"outlinewidth\":0,\"ticks\":\"\"},\"colorscale\":[[0.0,\"#0d0887\"],[0.1111111111111111,\"#46039f\"],[0.2222222222222222,\"#7201a8\"],[0.3333333333333333,\"#9c179e\"],[0.4444444444444444,\"#bd3786\"],[0.5555555555555556,\"#d8576b\"],[0.6666666666666666,\"#ed7953\"],[0.7777777777777778,\"#fb9f3a\"],[0.8888888888888888,\"#fdca26\"],[1.0,\"#f0f921\"]]}],\"heatmap\":[{\"type\":\"heatmap\",\"colorbar\":{\"outlinewidth\":0,\"ticks\":\"\"},\"colorscale\":[[0.0,\"#0d0887\"],[0.1111111111111111,\"#46039f\"],[0.2222222222222222,\"#7201a8\"],[0.3333333333333333,\"#9c179e\"],[0.4444444444444444,\"#bd3786\"],[0.5555555555555556,\"#d8576b\"],[0.6666666666666666,\"#ed7953\"],[0.7777777777777778,\"#fb9f3a\"],[0.8888888888888888,\"#fdca26\"],[1.0,\"#f0f921\"]]}],\"heatmapgl\":[{\"type\":\"heatmapgl\",\"colorbar\":{\"outlinewidth\":0,\"ticks\":\"\"},\"colorscale\":[[0.0,\"#0d0887\"],[0.1111111111111111,\"#46039f\"],[0.2222222222222222,\"#7201a8\"],[0.3333333333333333,\"#9c179e\"],[0.4444444444444444,\"#bd3786\"],[0.5555555555555556,\"#d8576b\"],[0.6666666666666666,\"#ed7953\"],[0.7777777777777778,\"#fb9f3a\"],[0.8888888888888888,\"#fdca26\"],[1.0,\"#f0f921\"]]}],\"contourcarpet\":[{\"type\":\"contourcarpet\",\"colorbar\":{\"outlinewidth\":0,\"ticks\":\"\"}}],\"contour\":[{\"type\":\"contour\",\"colorbar\":{\"outlinewidth\":0,\"ticks\":\"\"},\"colorscale\":[[0.0,\"#0d0887\"],[0.1111111111111111,\"#46039f\"],[0.2222222222222222,\"#7201a8\"],[0.3333333333333333,\"#9c179e\"],[0.4444444444444444,\"#bd3786\"],[0.5555555555555556,\"#d8576b\"],[0.6666666666666666,\"#ed7953\"],[0.7777777777777778,\"#fb9f3a\"],[0.8888888888888888,\"#fdca26\"],[1.0,\"#f0f921\"]]}],\"surface\":[{\"type\":\"surface\",\"colorbar\":{\"outlinewidth\":0,\"ticks\":\"\"},\"colorscale\":[[0.0,\"#0d0887\"],[0.1111111111111111,\"#46039f\"],[0.2222222222222222,\"#7201a8\"],[0.3333333333333333,\"#9c179e\"],[0.4444444444444444,\"#bd3786\"],[0.5555555555555556,\"#d8576b\"],[0.6666666666666666,\"#ed7953\"],[0.7777777777777778,\"#fb9f3a\"],[0.8888888888888888,\"#fdca26\"],[1.0,\"#f0f921\"]]}],\"mesh3d\":[{\"type\":\"mesh3d\",\"colorbar\":{\"outlinewidth\":0,\"ticks\":\"\"}}],\"scatter\":[{\"fillpattern\":{\"fillmode\":\"overlay\",\"size\":10,\"solidity\":0.2},\"type\":\"scatter\"}],\"parcoords\":[{\"type\":\"parcoords\",\"line\":{\"colorbar\":{\"outlinewidth\":0,\"ticks\":\"\"}}}],\"scatterpolargl\":[{\"type\":\"scatterpolargl\",\"marker\":{\"colorbar\":{\"outlinewidth\":0,\"ticks\":\"\"}}}],\"bar\":[{\"error_x\":{\"color\":\"#2a3f5f\"},\"error_y\":{\"color\":\"#2a3f5f\"},\"marker\":{\"line\":{\"color\":\"#E5ECF6\",\"width\":0.5},\"pattern\":{\"fillmode\":\"overlay\",\"size\":10,\"solidity\":0.2}},\"type\":\"bar\"}],\"scattergeo\":[{\"type\":\"scattergeo\",\"marker\":{\"colorbar\":{\"outlinewidth\":0,\"ticks\":\"\"}}}],\"scatterpolar\":[{\"type\":\"scatterpolar\",\"marker\":{\"colorbar\":{\"outlinewidth\":0,\"ticks\":\"\"}}}],\"histogram\":[{\"marker\":{\"pattern\":{\"fillmode\":\"overlay\",\"size\":10,\"solidity\":0.2}},\"type\":\"histogram\"}],\"scattergl\":[{\"type\":\"scattergl\",\"marker\":{\"colorbar\":{\"outlinewidth\":0,\"ticks\":\"\"}}}],\"scatter3d\":[{\"type\":\"scatter3d\",\"line\":{\"colorbar\":{\"outlinewidth\":0,\"ticks\":\"\"}},\"marker\":{\"colorbar\":{\"outlinewidth\":0,\"ticks\":\"\"}}}],\"scattermapbox\":[{\"type\":\"scattermapbox\",\"marker\":{\"colorbar\":{\"outlinewidth\":0,\"ticks\":\"\"}}}],\"scatterternary\":[{\"type\":\"scatterternary\",\"marker\":{\"colorbar\":{\"outlinewidth\":0,\"ticks\":\"\"}}}],\"scattercarpet\":[{\"type\":\"scattercarpet\",\"marker\":{\"colorbar\":{\"outlinewidth\":0,\"ticks\":\"\"}}}],\"carpet\":[{\"aaxis\":{\"endlinecolor\":\"#2a3f5f\",\"gridcolor\":\"white\",\"linecolor\":\"white\",\"minorgridcolor\":\"white\",\"startlinecolor\":\"#2a3f5f\"},\"baxis\":{\"endlinecolor\":\"#2a3f5f\",\"gridcolor\":\"white\",\"linecolor\":\"white\",\"minorgridcolor\":\"white\",\"startlinecolor\":\"#2a3f5f\"},\"type\":\"carpet\"}],\"table\":[{\"cells\":{\"fill\":{\"color\":\"#EBF0F8\"},\"line\":{\"color\":\"white\"}},\"header\":{\"fill\":{\"color\":\"#C8D4E3\"},\"line\":{\"color\":\"white\"}},\"type\":\"table\"}],\"barpolar\":[{\"marker\":{\"line\":{\"color\":\"#E5ECF6\",\"width\":0.5},\"pattern\":{\"fillmode\":\"overlay\",\"size\":10,\"solidity\":0.2}},\"type\":\"barpolar\"}],\"pie\":[{\"automargin\":true,\"type\":\"pie\"}]},\"layout\":{\"autotypenumbers\":\"strict\",\"colorway\":[\"#636efa\",\"#EF553B\",\"#00cc96\",\"#ab63fa\",\"#FFA15A\",\"#19d3f3\",\"#FF6692\",\"#B6E880\",\"#FF97FF\",\"#FECB52\"],\"font\":{\"color\":\"#2a3f5f\"},\"hovermode\":\"closest\",\"hoverlabel\":{\"align\":\"left\"},\"paper_bgcolor\":\"white\",\"plot_bgcolor\":\"#E5ECF6\",\"polar\":{\"bgcolor\":\"#E5ECF6\",\"angularaxis\":{\"gridcolor\":\"white\",\"linecolor\":\"white\",\"ticks\":\"\"},\"radialaxis\":{\"gridcolor\":\"white\",\"linecolor\":\"white\",\"ticks\":\"\"}},\"ternary\":{\"bgcolor\":\"#E5ECF6\",\"aaxis\":{\"gridcolor\":\"white\",\"linecolor\":\"white\",\"ticks\":\"\"},\"baxis\":{\"gridcolor\":\"white\",\"linecolor\":\"white\",\"ticks\":\"\"},\"caxis\":{\"gridcolor\":\"white\",\"linecolor\":\"white\",\"ticks\":\"\"}},\"coloraxis\":{\"colorbar\":{\"outlinewidth\":0,\"ticks\":\"\"}},\"colorscale\":{\"sequential\":[[0.0,\"#0d0887\"],[0.1111111111111111,\"#46039f\"],[0.2222222222222222,\"#7201a8\"],[0.3333333333333333,\"#9c179e\"],[0.4444444444444444,\"#bd3786\"],[0.5555555555555556,\"#d8576b\"],[0.6666666666666666,\"#ed7953\"],[0.7777777777777778,\"#fb9f3a\"],[0.8888888888888888,\"#fdca26\"],[1.0,\"#f0f921\"]],\"sequentialminus\":[[0.0,\"#0d0887\"],[0.1111111111111111,\"#46039f\"],[0.2222222222222222,\"#7201a8\"],[0.3333333333333333,\"#9c179e\"],[0.4444444444444444,\"#bd3786\"],[0.5555555555555556,\"#d8576b\"],[0.6666666666666666,\"#ed7953\"],[0.7777777777777778,\"#fb9f3a\"],[0.8888888888888888,\"#fdca26\"],[1.0,\"#f0f921\"]],\"diverging\":[[0,\"#8e0152\"],[0.1,\"#c51b7d\"],[0.2,\"#de77ae\"],[0.3,\"#f1b6da\"],[0.4,\"#fde0ef\"],[0.5,\"#f7f7f7\"],[0.6,\"#e6f5d0\"],[0.7,\"#b8e186\"],[0.8,\"#7fbc41\"],[0.9,\"#4d9221\"],[1,\"#276419\"]]},\"xaxis\":{\"gridcolor\":\"white\",\"linecolor\":\"white\",\"ticks\":\"\",\"title\":{\"standoff\":15},\"zerolinecolor\":\"white\",\"automargin\":true,\"zerolinewidth\":2},\"yaxis\":{\"gridcolor\":\"white\",\"linecolor\":\"white\",\"ticks\":\"\",\"title\":{\"standoff\":15},\"zerolinecolor\":\"white\",\"automargin\":true,\"zerolinewidth\":2},\"scene\":{\"xaxis\":{\"backgroundcolor\":\"#E5ECF6\",\"gridcolor\":\"white\",\"linecolor\":\"white\",\"showbackground\":true,\"ticks\":\"\",\"zerolinecolor\":\"white\",\"gridwidth\":2},\"yaxis\":{\"backgroundcolor\":\"#E5ECF6\",\"gridcolor\":\"white\",\"linecolor\":\"white\",\"showbackground\":true,\"ticks\":\"\",\"zerolinecolor\":\"white\",\"gridwidth\":2},\"zaxis\":{\"backgroundcolor\":\"#E5ECF6\",\"gridcolor\":\"white\",\"linecolor\":\"white\",\"showbackground\":true,\"ticks\":\"\",\"zerolinecolor\":\"white\",\"gridwidth\":2}},\"shapedefaults\":{\"line\":{\"color\":\"#2a3f5f\"}},\"annotationdefaults\":{\"arrowcolor\":\"#2a3f5f\",\"arrowhead\":0,\"arrowwidth\":1},\"geo\":{\"bgcolor\":\"white\",\"landcolor\":\"#E5ECF6\",\"subunitcolor\":\"white\",\"showland\":true,\"showlakes\":true,\"lakecolor\":\"white\"},\"title\":{\"x\":0.05},\"mapbox\":{\"style\":\"light\"}}},\"xaxis\":{\"anchor\":\"y\",\"domain\":[0.0,1.0],\"title\":{\"text\":\"index\"}},\"yaxis\":{\"anchor\":\"x\",\"domain\":[0.0,1.0],\"title\":{\"text\":\"accuracy\"},\"range\":[0,1.2]},\"legend\":{\"tracegroupgap\":0},\"title\":{\"text\":\"Training Accuracy\"},\"shapes\":[{\"label\":{\"text\":\"Median Val Accuracy\",\"textposition\":\"start\"},\"line\":{\"color\":\"orange\",\"dash\":\"dash\"},\"type\":\"line\",\"x0\":0,\"x1\":1,\"xref\":\"x domain\",\"y0\":0.7136563658714294,\"y1\":0.7136563658714294,\"yref\":\"y\"},{\"label\":{\"text\":\"Median Accuracy\",\"textposition\":\"start\"},\"line\":{\"color\":\"blue\",\"dash\":\"dash\"},\"type\":\"line\",\"x0\":0,\"x1\":1,\"xref\":\"x domain\",\"y0\":0.8188679218292236,\"y1\":0.8188679218292236,\"yref\":\"y\"}]},                        {\"responsive\": true}                    ).then(function(){\n",
       "                            \n",
       "var gd = document.getElementById('32ad55ca-e4df-449a-93f9-1fd32481dc95');\n",
       "var x = new MutationObserver(function (mutations, observer) {{\n",
       "        var display = window.getComputedStyle(gd).display;\n",
       "        if (!display || display === 'none') {{\n",
       "            console.log([gd, 'removed!']);\n",
       "            Plotly.purge(gd);\n",
       "            observer.disconnect();\n",
       "        }}\n",
       "}});\n",
       "\n",
       "// Listen for the removal of the full notebook cells\n",
       "var notebookContainer = gd.closest('#notebook-container');\n",
       "if (notebookContainer) {{\n",
       "    x.observe(notebookContainer, {childList: true});\n",
       "}}\n",
       "\n",
       "// Listen for the clearing of the current output cell\n",
       "var outputEl = gd.closest('.output');\n",
       "if (outputEl) {{\n",
       "    x.observe(outputEl, {childList: true});\n",
       "}}\n",
       "\n",
       "                        })                };                });            </script>        </div>"
      ]
     },
     "metadata": {},
     "output_type": "display_data"
    }
   ],
   "source": [
    "history_df = pd.DataFrame(history.history)\n",
    "\n",
    "fig = px.line(history_df, x=history_df.index, y=\"accuracy\", markers=True, title=\"Training Accuracy\")\n",
    "fig2 = px.line(history_df, x=history_df.index, y=\"val_accuracy\", markers=True)\n",
    "\n",
    "fig.update_traces(dict(\n",
    "  marker=dict(\n",
    "    color=\"blue\"\n",
    "  ),\n",
    "  line=dict(\n",
    "    color=\"blue\",\n",
    "  ),\n",
    "))\n",
    "fig2.update_traces(dict(\n",
    "  marker=dict(\n",
    "    color=\"orange\"\n",
    "  ),\n",
    "  line=dict(\n",
    "    color=\"orange\",\n",
    "  ),\n",
    "))\n",
    "fig.add_traces(fig2.data)\n",
    "fig.data[0][\"name\"] = \"Accuracy\" # type: ignore\n",
    "fig.data[1][\"name\"] = \"Validation Accuracy\" # type: ignore\n",
    "fig.update_yaxes(dict(range=[0,1.2]))\n",
    "\n",
    "fig.add_hline(y=history_df[\"val_accuracy\"].median(), line_color=\"orange\", line_dash=\"dash\", label=dict(text=\"Median Val Accuracy\", textposition=\"start\"))\n",
    "fig.add_hline(y=history_df[\"accuracy\"].median(), line_color=\"blue\", line_dash=\"dash\", label=dict(text=\"Median Accuracy\", textposition=\"start\"))\n",
    "\n",
    "fig.update_traces(dict(\n",
    "  showlegend=True\n",
    "))\n",
    "fig.show()"
   ]
  },
  {
   "cell_type": "code",
   "execution_count": 106,
   "metadata": {},
   "outputs": [
    {
     "name": "stdout",
     "output_type": "stream",
     "text": [
      "\u001b[1m21/21\u001b[0m \u001b[32m━━━━━━━━━━━━━━━━━━━━\u001b[0m\u001b[37m\u001b[0m \u001b[1m0s\u001b[0m 6ms/step\n"
     ]
    },
    {
     "data": {
      "application/vnd.plotly.v1+json": {
       "config": {
        "plotlyServerURL": "https://plot.ly"
       },
       "data": [
        {
         "coloraxis": "coloraxis",
         "hovertemplate": "x: %{x}<br>y: %{y}<br>color: %{z}<extra></extra>",
         "name": "0",
         "type": "heatmap",
         "x": [
          "angry",
          "disgusted",
          "happy",
          "neutral",
          "sad",
          "surprised"
         ],
         "xaxis": "x",
         "y": [
          "angry",
          "disgusted",
          "happy",
          "neutral",
          "sad",
          "surprised"
         ],
         "yaxis": "y",
         "z": [
          [
           0.717391304347826,
           0.043478260869565216,
           0.10869565217391304,
           0.021739130434782608,
           0.08695652173913043,
           0.021739130434782608
          ],
          [
           0.09259259259259259,
           0.6851851851851852,
           0.05555555555555555,
           0.037037037037037035,
           0.1111111111111111,
           0.018518518518518517
          ],
          [
           0.029411764705882353,
           0.08823529411764706,
           0.75,
           0.08823529411764706,
           0,
           0.04411764705882353
          ],
          [
           0.0425531914893617,
           0.02127659574468085,
           0.06382978723404255,
           0.7659574468085106,
           0.06382978723404255,
           0.0425531914893617
          ],
          [
           0.16666666666666666,
           0.018518518518518517,
           0.07407407407407407,
           0.018518518518518517,
           0.7037037037037037,
           0.018518518518518517
          ],
          [
           0.05357142857142857,
           0,
           0.05357142857142857,
           0.14285714285714285,
           0.03571428571428571,
           0.7142857142857143
          ]
         ]
        }
       ],
       "layout": {
        "coloraxis": {
         "cmax": 1,
         "cmin": 0,
         "colorscale": [
          [
           0,
           "#0d0887"
          ],
          [
           0.1111111111111111,
           "#46039f"
          ],
          [
           0.2222222222222222,
           "#7201a8"
          ],
          [
           0.3333333333333333,
           "#9c179e"
          ],
          [
           0.4444444444444444,
           "#bd3786"
          ],
          [
           0.5555555555555556,
           "#d8576b"
          ],
          [
           0.6666666666666666,
           "#ed7953"
          ],
          [
           0.7777777777777778,
           "#fb9f3a"
          ],
          [
           0.8888888888888888,
           "#fdca26"
          ],
          [
           1,
           "#f0f921"
          ]
         ]
        },
        "margin": {
         "t": 60
        },
        "template": {
         "data": {
          "bar": [
           {
            "error_x": {
             "color": "#2a3f5f"
            },
            "error_y": {
             "color": "#2a3f5f"
            },
            "marker": {
             "line": {
              "color": "#E5ECF6",
              "width": 0.5
             },
             "pattern": {
              "fillmode": "overlay",
              "size": 10,
              "solidity": 0.2
             }
            },
            "type": "bar"
           }
          ],
          "barpolar": [
           {
            "marker": {
             "line": {
              "color": "#E5ECF6",
              "width": 0.5
             },
             "pattern": {
              "fillmode": "overlay",
              "size": 10,
              "solidity": 0.2
             }
            },
            "type": "barpolar"
           }
          ],
          "carpet": [
           {
            "aaxis": {
             "endlinecolor": "#2a3f5f",
             "gridcolor": "white",
             "linecolor": "white",
             "minorgridcolor": "white",
             "startlinecolor": "#2a3f5f"
            },
            "baxis": {
             "endlinecolor": "#2a3f5f",
             "gridcolor": "white",
             "linecolor": "white",
             "minorgridcolor": "white",
             "startlinecolor": "#2a3f5f"
            },
            "type": "carpet"
           }
          ],
          "choropleth": [
           {
            "colorbar": {
             "outlinewidth": 0,
             "ticks": ""
            },
            "type": "choropleth"
           }
          ],
          "contour": [
           {
            "colorbar": {
             "outlinewidth": 0,
             "ticks": ""
            },
            "colorscale": [
             [
              0,
              "#0d0887"
             ],
             [
              0.1111111111111111,
              "#46039f"
             ],
             [
              0.2222222222222222,
              "#7201a8"
             ],
             [
              0.3333333333333333,
              "#9c179e"
             ],
             [
              0.4444444444444444,
              "#bd3786"
             ],
             [
              0.5555555555555556,
              "#d8576b"
             ],
             [
              0.6666666666666666,
              "#ed7953"
             ],
             [
              0.7777777777777778,
              "#fb9f3a"
             ],
             [
              0.8888888888888888,
              "#fdca26"
             ],
             [
              1,
              "#f0f921"
             ]
            ],
            "type": "contour"
           }
          ],
          "contourcarpet": [
           {
            "colorbar": {
             "outlinewidth": 0,
             "ticks": ""
            },
            "type": "contourcarpet"
           }
          ],
          "heatmap": [
           {
            "colorbar": {
             "outlinewidth": 0,
             "ticks": ""
            },
            "colorscale": [
             [
              0,
              "#0d0887"
             ],
             [
              0.1111111111111111,
              "#46039f"
             ],
             [
              0.2222222222222222,
              "#7201a8"
             ],
             [
              0.3333333333333333,
              "#9c179e"
             ],
             [
              0.4444444444444444,
              "#bd3786"
             ],
             [
              0.5555555555555556,
              "#d8576b"
             ],
             [
              0.6666666666666666,
              "#ed7953"
             ],
             [
              0.7777777777777778,
              "#fb9f3a"
             ],
             [
              0.8888888888888888,
              "#fdca26"
             ],
             [
              1,
              "#f0f921"
             ]
            ],
            "type": "heatmap"
           }
          ],
          "heatmapgl": [
           {
            "colorbar": {
             "outlinewidth": 0,
             "ticks": ""
            },
            "colorscale": [
             [
              0,
              "#0d0887"
             ],
             [
              0.1111111111111111,
              "#46039f"
             ],
             [
              0.2222222222222222,
              "#7201a8"
             ],
             [
              0.3333333333333333,
              "#9c179e"
             ],
             [
              0.4444444444444444,
              "#bd3786"
             ],
             [
              0.5555555555555556,
              "#d8576b"
             ],
             [
              0.6666666666666666,
              "#ed7953"
             ],
             [
              0.7777777777777778,
              "#fb9f3a"
             ],
             [
              0.8888888888888888,
              "#fdca26"
             ],
             [
              1,
              "#f0f921"
             ]
            ],
            "type": "heatmapgl"
           }
          ],
          "histogram": [
           {
            "marker": {
             "pattern": {
              "fillmode": "overlay",
              "size": 10,
              "solidity": 0.2
             }
            },
            "type": "histogram"
           }
          ],
          "histogram2d": [
           {
            "colorbar": {
             "outlinewidth": 0,
             "ticks": ""
            },
            "colorscale": [
             [
              0,
              "#0d0887"
             ],
             [
              0.1111111111111111,
              "#46039f"
             ],
             [
              0.2222222222222222,
              "#7201a8"
             ],
             [
              0.3333333333333333,
              "#9c179e"
             ],
             [
              0.4444444444444444,
              "#bd3786"
             ],
             [
              0.5555555555555556,
              "#d8576b"
             ],
             [
              0.6666666666666666,
              "#ed7953"
             ],
             [
              0.7777777777777778,
              "#fb9f3a"
             ],
             [
              0.8888888888888888,
              "#fdca26"
             ],
             [
              1,
              "#f0f921"
             ]
            ],
            "type": "histogram2d"
           }
          ],
          "histogram2dcontour": [
           {
            "colorbar": {
             "outlinewidth": 0,
             "ticks": ""
            },
            "colorscale": [
             [
              0,
              "#0d0887"
             ],
             [
              0.1111111111111111,
              "#46039f"
             ],
             [
              0.2222222222222222,
              "#7201a8"
             ],
             [
              0.3333333333333333,
              "#9c179e"
             ],
             [
              0.4444444444444444,
              "#bd3786"
             ],
             [
              0.5555555555555556,
              "#d8576b"
             ],
             [
              0.6666666666666666,
              "#ed7953"
             ],
             [
              0.7777777777777778,
              "#fb9f3a"
             ],
             [
              0.8888888888888888,
              "#fdca26"
             ],
             [
              1,
              "#f0f921"
             ]
            ],
            "type": "histogram2dcontour"
           }
          ],
          "mesh3d": [
           {
            "colorbar": {
             "outlinewidth": 0,
             "ticks": ""
            },
            "type": "mesh3d"
           }
          ],
          "parcoords": [
           {
            "line": {
             "colorbar": {
              "outlinewidth": 0,
              "ticks": ""
             }
            },
            "type": "parcoords"
           }
          ],
          "pie": [
           {
            "automargin": true,
            "type": "pie"
           }
          ],
          "scatter": [
           {
            "fillpattern": {
             "fillmode": "overlay",
             "size": 10,
             "solidity": 0.2
            },
            "type": "scatter"
           }
          ],
          "scatter3d": [
           {
            "line": {
             "colorbar": {
              "outlinewidth": 0,
              "ticks": ""
             }
            },
            "marker": {
             "colorbar": {
              "outlinewidth": 0,
              "ticks": ""
             }
            },
            "type": "scatter3d"
           }
          ],
          "scattercarpet": [
           {
            "marker": {
             "colorbar": {
              "outlinewidth": 0,
              "ticks": ""
             }
            },
            "type": "scattercarpet"
           }
          ],
          "scattergeo": [
           {
            "marker": {
             "colorbar": {
              "outlinewidth": 0,
              "ticks": ""
             }
            },
            "type": "scattergeo"
           }
          ],
          "scattergl": [
           {
            "marker": {
             "colorbar": {
              "outlinewidth": 0,
              "ticks": ""
             }
            },
            "type": "scattergl"
           }
          ],
          "scattermapbox": [
           {
            "marker": {
             "colorbar": {
              "outlinewidth": 0,
              "ticks": ""
             }
            },
            "type": "scattermapbox"
           }
          ],
          "scatterpolar": [
           {
            "marker": {
             "colorbar": {
              "outlinewidth": 0,
              "ticks": ""
             }
            },
            "type": "scatterpolar"
           }
          ],
          "scatterpolargl": [
           {
            "marker": {
             "colorbar": {
              "outlinewidth": 0,
              "ticks": ""
             }
            },
            "type": "scatterpolargl"
           }
          ],
          "scatterternary": [
           {
            "marker": {
             "colorbar": {
              "outlinewidth": 0,
              "ticks": ""
             }
            },
            "type": "scatterternary"
           }
          ],
          "surface": [
           {
            "colorbar": {
             "outlinewidth": 0,
             "ticks": ""
            },
            "colorscale": [
             [
              0,
              "#0d0887"
             ],
             [
              0.1111111111111111,
              "#46039f"
             ],
             [
              0.2222222222222222,
              "#7201a8"
             ],
             [
              0.3333333333333333,
              "#9c179e"
             ],
             [
              0.4444444444444444,
              "#bd3786"
             ],
             [
              0.5555555555555556,
              "#d8576b"
             ],
             [
              0.6666666666666666,
              "#ed7953"
             ],
             [
              0.7777777777777778,
              "#fb9f3a"
             ],
             [
              0.8888888888888888,
              "#fdca26"
             ],
             [
              1,
              "#f0f921"
             ]
            ],
            "type": "surface"
           }
          ],
          "table": [
           {
            "cells": {
             "fill": {
              "color": "#EBF0F8"
             },
             "line": {
              "color": "white"
             }
            },
            "header": {
             "fill": {
              "color": "#C8D4E3"
             },
             "line": {
              "color": "white"
             }
            },
            "type": "table"
           }
          ]
         },
         "layout": {
          "annotationdefaults": {
           "arrowcolor": "#2a3f5f",
           "arrowhead": 0,
           "arrowwidth": 1
          },
          "autotypenumbers": "strict",
          "coloraxis": {
           "colorbar": {
            "outlinewidth": 0,
            "ticks": ""
           }
          },
          "colorscale": {
           "diverging": [
            [
             0,
             "#8e0152"
            ],
            [
             0.1,
             "#c51b7d"
            ],
            [
             0.2,
             "#de77ae"
            ],
            [
             0.3,
             "#f1b6da"
            ],
            [
             0.4,
             "#fde0ef"
            ],
            [
             0.5,
             "#f7f7f7"
            ],
            [
             0.6,
             "#e6f5d0"
            ],
            [
             0.7,
             "#b8e186"
            ],
            [
             0.8,
             "#7fbc41"
            ],
            [
             0.9,
             "#4d9221"
            ],
            [
             1,
             "#276419"
            ]
           ],
           "sequential": [
            [
             0,
             "#0d0887"
            ],
            [
             0.1111111111111111,
             "#46039f"
            ],
            [
             0.2222222222222222,
             "#7201a8"
            ],
            [
             0.3333333333333333,
             "#9c179e"
            ],
            [
             0.4444444444444444,
             "#bd3786"
            ],
            [
             0.5555555555555556,
             "#d8576b"
            ],
            [
             0.6666666666666666,
             "#ed7953"
            ],
            [
             0.7777777777777778,
             "#fb9f3a"
            ],
            [
             0.8888888888888888,
             "#fdca26"
            ],
            [
             1,
             "#f0f921"
            ]
           ],
           "sequentialminus": [
            [
             0,
             "#0d0887"
            ],
            [
             0.1111111111111111,
             "#46039f"
            ],
            [
             0.2222222222222222,
             "#7201a8"
            ],
            [
             0.3333333333333333,
             "#9c179e"
            ],
            [
             0.4444444444444444,
             "#bd3786"
            ],
            [
             0.5555555555555556,
             "#d8576b"
            ],
            [
             0.6666666666666666,
             "#ed7953"
            ],
            [
             0.7777777777777778,
             "#fb9f3a"
            ],
            [
             0.8888888888888888,
             "#fdca26"
            ],
            [
             1,
             "#f0f921"
            ]
           ]
          },
          "colorway": [
           "#636efa",
           "#EF553B",
           "#00cc96",
           "#ab63fa",
           "#FFA15A",
           "#19d3f3",
           "#FF6692",
           "#B6E880",
           "#FF97FF",
           "#FECB52"
          ],
          "font": {
           "color": "#2a3f5f"
          },
          "geo": {
           "bgcolor": "white",
           "lakecolor": "white",
           "landcolor": "#E5ECF6",
           "showlakes": true,
           "showland": true,
           "subunitcolor": "white"
          },
          "hoverlabel": {
           "align": "left"
          },
          "hovermode": "closest",
          "mapbox": {
           "style": "light"
          },
          "paper_bgcolor": "white",
          "plot_bgcolor": "#E5ECF6",
          "polar": {
           "angularaxis": {
            "gridcolor": "white",
            "linecolor": "white",
            "ticks": ""
           },
           "bgcolor": "#E5ECF6",
           "radialaxis": {
            "gridcolor": "white",
            "linecolor": "white",
            "ticks": ""
           }
          },
          "scene": {
           "xaxis": {
            "backgroundcolor": "#E5ECF6",
            "gridcolor": "white",
            "gridwidth": 2,
            "linecolor": "white",
            "showbackground": true,
            "ticks": "",
            "zerolinecolor": "white"
           },
           "yaxis": {
            "backgroundcolor": "#E5ECF6",
            "gridcolor": "white",
            "gridwidth": 2,
            "linecolor": "white",
            "showbackground": true,
            "ticks": "",
            "zerolinecolor": "white"
           },
           "zaxis": {
            "backgroundcolor": "#E5ECF6",
            "gridcolor": "white",
            "gridwidth": 2,
            "linecolor": "white",
            "showbackground": true,
            "ticks": "",
            "zerolinecolor": "white"
           }
          },
          "shapedefaults": {
           "line": {
            "color": "#2a3f5f"
           }
          },
          "ternary": {
           "aaxis": {
            "gridcolor": "white",
            "linecolor": "white",
            "ticks": ""
           },
           "baxis": {
            "gridcolor": "white",
            "linecolor": "white",
            "ticks": ""
           },
           "bgcolor": "#E5ECF6",
           "caxis": {
            "gridcolor": "white",
            "linecolor": "white",
            "ticks": ""
           }
          },
          "title": {
           "x": 0.05
          },
          "xaxis": {
           "automargin": true,
           "gridcolor": "white",
           "linecolor": "white",
           "ticks": "",
           "title": {
            "standoff": 15
           },
           "zerolinecolor": "white",
           "zerolinewidth": 2
          },
          "yaxis": {
           "automargin": true,
           "gridcolor": "white",
           "linecolor": "white",
           "ticks": "",
           "title": {
            "standoff": 15
           },
           "zerolinecolor": "white",
           "zerolinewidth": 2
          }
         }
        },
        "xaxis": {
         "anchor": "y",
         "constrain": "domain",
         "domain": [
          0,
          1
         ],
         "scaleanchor": "y"
        },
        "yaxis": {
         "anchor": "x",
         "autorange": "reversed",
         "constrain": "domain",
         "domain": [
          0,
          1
         ]
        }
       }
      },
      "text/html": [
       "<div>                            <div id=\"91bc49ba-6aa1-490c-9c9a-0d501b5004d9\" class=\"plotly-graph-div\" style=\"height:525px; width:100%;\"></div>            <script type=\"text/javascript\">                require([\"plotly\"], function(Plotly) {                    window.PLOTLYENV=window.PLOTLYENV || {};                                    if (document.getElementById(\"91bc49ba-6aa1-490c-9c9a-0d501b5004d9\")) {                    Plotly.newPlot(                        \"91bc49ba-6aa1-490c-9c9a-0d501b5004d9\",                        [{\"coloraxis\":\"coloraxis\",\"name\":\"0\",\"x\":[\"angry\",\"disgusted\",\"happy\",\"neutral\",\"sad\",\"surprised\"],\"y\":[\"angry\",\"disgusted\",\"happy\",\"neutral\",\"sad\",\"surprised\"],\"z\":[[0.717391304347826,0.043478260869565216,0.10869565217391304,0.021739130434782608,0.08695652173913043,0.021739130434782608],[0.09259259259259259,0.6851851851851852,0.05555555555555555,0.037037037037037035,0.1111111111111111,0.018518518518518517],[0.029411764705882353,0.08823529411764706,0.75,0.08823529411764706,0.0,0.04411764705882353],[0.0425531914893617,0.02127659574468085,0.06382978723404255,0.7659574468085106,0.06382978723404255,0.0425531914893617],[0.16666666666666666,0.018518518518518517,0.07407407407407407,0.018518518518518517,0.7037037037037037,0.018518518518518517],[0.05357142857142857,0.0,0.05357142857142857,0.14285714285714285,0.03571428571428571,0.7142857142857143]],\"type\":\"heatmap\",\"xaxis\":\"x\",\"yaxis\":\"y\",\"hovertemplate\":\"x: %{x}\\u003cbr\\u003ey: %{y}\\u003cbr\\u003ecolor: %{z}\\u003cextra\\u003e\\u003c\\u002fextra\\u003e\"}],                        {\"template\":{\"data\":{\"histogram2dcontour\":[{\"type\":\"histogram2dcontour\",\"colorbar\":{\"outlinewidth\":0,\"ticks\":\"\"},\"colorscale\":[[0.0,\"#0d0887\"],[0.1111111111111111,\"#46039f\"],[0.2222222222222222,\"#7201a8\"],[0.3333333333333333,\"#9c179e\"],[0.4444444444444444,\"#bd3786\"],[0.5555555555555556,\"#d8576b\"],[0.6666666666666666,\"#ed7953\"],[0.7777777777777778,\"#fb9f3a\"],[0.8888888888888888,\"#fdca26\"],[1.0,\"#f0f921\"]]}],\"choropleth\":[{\"type\":\"choropleth\",\"colorbar\":{\"outlinewidth\":0,\"ticks\":\"\"}}],\"histogram2d\":[{\"type\":\"histogram2d\",\"colorbar\":{\"outlinewidth\":0,\"ticks\":\"\"},\"colorscale\":[[0.0,\"#0d0887\"],[0.1111111111111111,\"#46039f\"],[0.2222222222222222,\"#7201a8\"],[0.3333333333333333,\"#9c179e\"],[0.4444444444444444,\"#bd3786\"],[0.5555555555555556,\"#d8576b\"],[0.6666666666666666,\"#ed7953\"],[0.7777777777777778,\"#fb9f3a\"],[0.8888888888888888,\"#fdca26\"],[1.0,\"#f0f921\"]]}],\"heatmap\":[{\"type\":\"heatmap\",\"colorbar\":{\"outlinewidth\":0,\"ticks\":\"\"},\"colorscale\":[[0.0,\"#0d0887\"],[0.1111111111111111,\"#46039f\"],[0.2222222222222222,\"#7201a8\"],[0.3333333333333333,\"#9c179e\"],[0.4444444444444444,\"#bd3786\"],[0.5555555555555556,\"#d8576b\"],[0.6666666666666666,\"#ed7953\"],[0.7777777777777778,\"#fb9f3a\"],[0.8888888888888888,\"#fdca26\"],[1.0,\"#f0f921\"]]}],\"heatmapgl\":[{\"type\":\"heatmapgl\",\"colorbar\":{\"outlinewidth\":0,\"ticks\":\"\"},\"colorscale\":[[0.0,\"#0d0887\"],[0.1111111111111111,\"#46039f\"],[0.2222222222222222,\"#7201a8\"],[0.3333333333333333,\"#9c179e\"],[0.4444444444444444,\"#bd3786\"],[0.5555555555555556,\"#d8576b\"],[0.6666666666666666,\"#ed7953\"],[0.7777777777777778,\"#fb9f3a\"],[0.8888888888888888,\"#fdca26\"],[1.0,\"#f0f921\"]]}],\"contourcarpet\":[{\"type\":\"contourcarpet\",\"colorbar\":{\"outlinewidth\":0,\"ticks\":\"\"}}],\"contour\":[{\"type\":\"contour\",\"colorbar\":{\"outlinewidth\":0,\"ticks\":\"\"},\"colorscale\":[[0.0,\"#0d0887\"],[0.1111111111111111,\"#46039f\"],[0.2222222222222222,\"#7201a8\"],[0.3333333333333333,\"#9c179e\"],[0.4444444444444444,\"#bd3786\"],[0.5555555555555556,\"#d8576b\"],[0.6666666666666666,\"#ed7953\"],[0.7777777777777778,\"#fb9f3a\"],[0.8888888888888888,\"#fdca26\"],[1.0,\"#f0f921\"]]}],\"surface\":[{\"type\":\"surface\",\"colorbar\":{\"outlinewidth\":0,\"ticks\":\"\"},\"colorscale\":[[0.0,\"#0d0887\"],[0.1111111111111111,\"#46039f\"],[0.2222222222222222,\"#7201a8\"],[0.3333333333333333,\"#9c179e\"],[0.4444444444444444,\"#bd3786\"],[0.5555555555555556,\"#d8576b\"],[0.6666666666666666,\"#ed7953\"],[0.7777777777777778,\"#fb9f3a\"],[0.8888888888888888,\"#fdca26\"],[1.0,\"#f0f921\"]]}],\"mesh3d\":[{\"type\":\"mesh3d\",\"colorbar\":{\"outlinewidth\":0,\"ticks\":\"\"}}],\"scatter\":[{\"fillpattern\":{\"fillmode\":\"overlay\",\"size\":10,\"solidity\":0.2},\"type\":\"scatter\"}],\"parcoords\":[{\"type\":\"parcoords\",\"line\":{\"colorbar\":{\"outlinewidth\":0,\"ticks\":\"\"}}}],\"scatterpolargl\":[{\"type\":\"scatterpolargl\",\"marker\":{\"colorbar\":{\"outlinewidth\":0,\"ticks\":\"\"}}}],\"bar\":[{\"error_x\":{\"color\":\"#2a3f5f\"},\"error_y\":{\"color\":\"#2a3f5f\"},\"marker\":{\"line\":{\"color\":\"#E5ECF6\",\"width\":0.5},\"pattern\":{\"fillmode\":\"overlay\",\"size\":10,\"solidity\":0.2}},\"type\":\"bar\"}],\"scattergeo\":[{\"type\":\"scattergeo\",\"marker\":{\"colorbar\":{\"outlinewidth\":0,\"ticks\":\"\"}}}],\"scatterpolar\":[{\"type\":\"scatterpolar\",\"marker\":{\"colorbar\":{\"outlinewidth\":0,\"ticks\":\"\"}}}],\"histogram\":[{\"marker\":{\"pattern\":{\"fillmode\":\"overlay\",\"size\":10,\"solidity\":0.2}},\"type\":\"histogram\"}],\"scattergl\":[{\"type\":\"scattergl\",\"marker\":{\"colorbar\":{\"outlinewidth\":0,\"ticks\":\"\"}}}],\"scatter3d\":[{\"type\":\"scatter3d\",\"line\":{\"colorbar\":{\"outlinewidth\":0,\"ticks\":\"\"}},\"marker\":{\"colorbar\":{\"outlinewidth\":0,\"ticks\":\"\"}}}],\"scattermapbox\":[{\"type\":\"scattermapbox\",\"marker\":{\"colorbar\":{\"outlinewidth\":0,\"ticks\":\"\"}}}],\"scatterternary\":[{\"type\":\"scatterternary\",\"marker\":{\"colorbar\":{\"outlinewidth\":0,\"ticks\":\"\"}}}],\"scattercarpet\":[{\"type\":\"scattercarpet\",\"marker\":{\"colorbar\":{\"outlinewidth\":0,\"ticks\":\"\"}}}],\"carpet\":[{\"aaxis\":{\"endlinecolor\":\"#2a3f5f\",\"gridcolor\":\"white\",\"linecolor\":\"white\",\"minorgridcolor\":\"white\",\"startlinecolor\":\"#2a3f5f\"},\"baxis\":{\"endlinecolor\":\"#2a3f5f\",\"gridcolor\":\"white\",\"linecolor\":\"white\",\"minorgridcolor\":\"white\",\"startlinecolor\":\"#2a3f5f\"},\"type\":\"carpet\"}],\"table\":[{\"cells\":{\"fill\":{\"color\":\"#EBF0F8\"},\"line\":{\"color\":\"white\"}},\"header\":{\"fill\":{\"color\":\"#C8D4E3\"},\"line\":{\"color\":\"white\"}},\"type\":\"table\"}],\"barpolar\":[{\"marker\":{\"line\":{\"color\":\"#E5ECF6\",\"width\":0.5},\"pattern\":{\"fillmode\":\"overlay\",\"size\":10,\"solidity\":0.2}},\"type\":\"barpolar\"}],\"pie\":[{\"automargin\":true,\"type\":\"pie\"}]},\"layout\":{\"autotypenumbers\":\"strict\",\"colorway\":[\"#636efa\",\"#EF553B\",\"#00cc96\",\"#ab63fa\",\"#FFA15A\",\"#19d3f3\",\"#FF6692\",\"#B6E880\",\"#FF97FF\",\"#FECB52\"],\"font\":{\"color\":\"#2a3f5f\"},\"hovermode\":\"closest\",\"hoverlabel\":{\"align\":\"left\"},\"paper_bgcolor\":\"white\",\"plot_bgcolor\":\"#E5ECF6\",\"polar\":{\"bgcolor\":\"#E5ECF6\",\"angularaxis\":{\"gridcolor\":\"white\",\"linecolor\":\"white\",\"ticks\":\"\"},\"radialaxis\":{\"gridcolor\":\"white\",\"linecolor\":\"white\",\"ticks\":\"\"}},\"ternary\":{\"bgcolor\":\"#E5ECF6\",\"aaxis\":{\"gridcolor\":\"white\",\"linecolor\":\"white\",\"ticks\":\"\"},\"baxis\":{\"gridcolor\":\"white\",\"linecolor\":\"white\",\"ticks\":\"\"},\"caxis\":{\"gridcolor\":\"white\",\"linecolor\":\"white\",\"ticks\":\"\"}},\"coloraxis\":{\"colorbar\":{\"outlinewidth\":0,\"ticks\":\"\"}},\"colorscale\":{\"sequential\":[[0.0,\"#0d0887\"],[0.1111111111111111,\"#46039f\"],[0.2222222222222222,\"#7201a8\"],[0.3333333333333333,\"#9c179e\"],[0.4444444444444444,\"#bd3786\"],[0.5555555555555556,\"#d8576b\"],[0.6666666666666666,\"#ed7953\"],[0.7777777777777778,\"#fb9f3a\"],[0.8888888888888888,\"#fdca26\"],[1.0,\"#f0f921\"]],\"sequentialminus\":[[0.0,\"#0d0887\"],[0.1111111111111111,\"#46039f\"],[0.2222222222222222,\"#7201a8\"],[0.3333333333333333,\"#9c179e\"],[0.4444444444444444,\"#bd3786\"],[0.5555555555555556,\"#d8576b\"],[0.6666666666666666,\"#ed7953\"],[0.7777777777777778,\"#fb9f3a\"],[0.8888888888888888,\"#fdca26\"],[1.0,\"#f0f921\"]],\"diverging\":[[0,\"#8e0152\"],[0.1,\"#c51b7d\"],[0.2,\"#de77ae\"],[0.3,\"#f1b6da\"],[0.4,\"#fde0ef\"],[0.5,\"#f7f7f7\"],[0.6,\"#e6f5d0\"],[0.7,\"#b8e186\"],[0.8,\"#7fbc41\"],[0.9,\"#4d9221\"],[1,\"#276419\"]]},\"xaxis\":{\"gridcolor\":\"white\",\"linecolor\":\"white\",\"ticks\":\"\",\"title\":{\"standoff\":15},\"zerolinecolor\":\"white\",\"automargin\":true,\"zerolinewidth\":2},\"yaxis\":{\"gridcolor\":\"white\",\"linecolor\":\"white\",\"ticks\":\"\",\"title\":{\"standoff\":15},\"zerolinecolor\":\"white\",\"automargin\":true,\"zerolinewidth\":2},\"scene\":{\"xaxis\":{\"backgroundcolor\":\"#E5ECF6\",\"gridcolor\":\"white\",\"linecolor\":\"white\",\"showbackground\":true,\"ticks\":\"\",\"zerolinecolor\":\"white\",\"gridwidth\":2},\"yaxis\":{\"backgroundcolor\":\"#E5ECF6\",\"gridcolor\":\"white\",\"linecolor\":\"white\",\"showbackground\":true,\"ticks\":\"\",\"zerolinecolor\":\"white\",\"gridwidth\":2},\"zaxis\":{\"backgroundcolor\":\"#E5ECF6\",\"gridcolor\":\"white\",\"linecolor\":\"white\",\"showbackground\":true,\"ticks\":\"\",\"zerolinecolor\":\"white\",\"gridwidth\":2}},\"shapedefaults\":{\"line\":{\"color\":\"#2a3f5f\"}},\"annotationdefaults\":{\"arrowcolor\":\"#2a3f5f\",\"arrowhead\":0,\"arrowwidth\":1},\"geo\":{\"bgcolor\":\"white\",\"landcolor\":\"#E5ECF6\",\"subunitcolor\":\"white\",\"showland\":true,\"showlakes\":true,\"lakecolor\":\"white\"},\"title\":{\"x\":0.05},\"mapbox\":{\"style\":\"light\"}}},\"xaxis\":{\"anchor\":\"y\",\"domain\":[0.0,1.0],\"scaleanchor\":\"y\",\"constrain\":\"domain\"},\"yaxis\":{\"anchor\":\"x\",\"domain\":[0.0,1.0],\"autorange\":\"reversed\",\"constrain\":\"domain\"},\"coloraxis\":{\"colorscale\":[[0.0,\"#0d0887\"],[0.1111111111111111,\"#46039f\"],[0.2222222222222222,\"#7201a8\"],[0.3333333333333333,\"#9c179e\"],[0.4444444444444444,\"#bd3786\"],[0.5555555555555556,\"#d8576b\"],[0.6666666666666666,\"#ed7953\"],[0.7777777777777778,\"#fb9f3a\"],[0.8888888888888888,\"#fdca26\"],[1.0,\"#f0f921\"]],\"cmin\":0,\"cmax\":1},\"margin\":{\"t\":60}},                        {\"responsive\": true}                    ).then(function(){\n",
       "                            \n",
       "var gd = document.getElementById('91bc49ba-6aa1-490c-9c9a-0d501b5004d9');\n",
       "var x = new MutationObserver(function (mutations, observer) {{\n",
       "        var display = window.getComputedStyle(gd).display;\n",
       "        if (!display || display === 'none') {{\n",
       "            console.log([gd, 'removed!']);\n",
       "            Plotly.purge(gd);\n",
       "            observer.disconnect();\n",
       "        }}\n",
       "}});\n",
       "\n",
       "// Listen for the removal of the full notebook cells\n",
       "var notebookContainer = gd.closest('#notebook-container');\n",
       "if (notebookContainer) {{\n",
       "    x.observe(notebookContainer, {childList: true});\n",
       "}}\n",
       "\n",
       "// Listen for the clearing of the current output cell\n",
       "var outputEl = gd.closest('.output');\n",
       "if (outputEl) {{\n",
       "    x.observe(outputEl, {childList: true});\n",
       "}}\n",
       "\n",
       "                        })                };                });            </script>        </div>"
      ]
     },
     "metadata": {},
     "output_type": "display_data"
    },
    {
     "data": {
      "text/plain": [
       "{'angry': {'precision': 0.6111111111111112,\n",
       "  'recall': 0.717391304347826,\n",
       "  'f1-score': 0.66,\n",
       "  'support': 46.0},\n",
       " 'disgusted': {'precision': 0.7872340425531915,\n",
       "  'recall': 0.6851851851851852,\n",
       "  'f1-score': 0.7326732673267327,\n",
       "  'support': 54.0},\n",
       " 'happy': {'precision': 0.7391304347826086,\n",
       "  'recall': 0.75,\n",
       "  'f1-score': 0.7445255474452555,\n",
       "  'support': 68.0},\n",
       " 'neutral': {'precision': 0.6666666666666666,\n",
       "  'recall': 0.7659574468085106,\n",
       "  'f1-score': 0.7128712871287128,\n",
       "  'support': 47.0},\n",
       " 'sad': {'precision': 0.7169811320754716,\n",
       "  'recall': 0.7037037037037037,\n",
       "  'f1-score': 0.7102803738317757,\n",
       "  'support': 54.0},\n",
       " 'surprised': {'precision': 0.8333333333333334,\n",
       "  'recall': 0.7142857142857143,\n",
       "  'f1-score': 0.7692307692307693,\n",
       "  'support': 56.0},\n",
       " 'accuracy': 0.7230769230769231,\n",
       " 'macro avg': {'precision': 0.7257427867537304,\n",
       "  'recall': 0.7227538923884899,\n",
       "  'f1-score': 0.7215968741605411,\n",
       "  'support': 325.0},\n",
       " 'weighted avg': {'precision': 0.7310756926346963,\n",
       "  'recall': 0.7230769230769231,\n",
       "  'f1-score': 0.724581868987106,\n",
       "  'support': 325.0}}"
      ]
     },
     "execution_count": 106,
     "metadata": {},
     "output_type": "execute_result"
    }
   ],
   "source": [
    "from typing import cast\n",
    "\n",
    "confidences = model.predict(test_dataset)\n",
    "predictions = np.argmax(confidences, axis=1)\n",
    "\n",
    "labels = cast(list[int], list(test_dataset.unbatch().map(lambda x, y: y).as_numpy_iterator()))\n",
    "\n",
    "cmat = sklearn.metrics.confusion_matrix(labels, predictions, normalize=\"true\")\n",
    "\n",
    "fig = px.imshow(cmat, x=CLASS_NAMES, y=CLASS_NAMES, range_color=[0,1])\n",
    "fig.show()\n",
    "\n",
    "sklearn.metrics.classification_report(labels, predictions, output_dict=True, target_names=CLASS_NAMES)"
   ]
  },
  {
   "cell_type": "code",
   "execution_count": 107,
   "metadata": {},
   "outputs": [
    {
     "data": {
      "application/vnd.plotly.v1+json": {
       "config": {
        "plotlyServerURL": "https://plot.ly"
       },
       "data": [
        {
         "customdata": [
          [
           "surprised"
          ],
          [
           "surprised"
          ],
          [
           "surprised"
          ],
          [
           "surprised"
          ],
          [
           "surprised"
          ],
          [
           "surprised"
          ],
          [
           "surprised"
          ],
          [
           "surprised"
          ],
          [
           "surprised"
          ],
          [
           "surprised"
          ],
          [
           "surprised"
          ],
          [
           "surprised"
          ],
          [
           "surprised"
          ],
          [
           "surprised"
          ],
          [
           "surprised"
          ],
          [
           "surprised"
          ],
          [
           "surprised"
          ],
          [
           "surprised"
          ],
          [
           "surprised"
          ],
          [
           "surprised"
          ],
          [
           "surprised"
          ],
          [
           "surprised"
          ],
          [
           "surprised"
          ],
          [
           "surprised"
          ],
          [
           "surprised"
          ],
          [
           "surprised"
          ],
          [
           "surprised"
          ],
          [
           "surprised"
          ],
          [
           "surprised"
          ],
          [
           "surprised"
          ],
          [
           "surprised"
          ],
          [
           "surprised"
          ],
          [
           "surprised"
          ],
          [
           "surprised"
          ],
          [
           "surprised"
          ],
          [
           "surprised"
          ],
          [
           "surprised"
          ],
          [
           "surprised"
          ],
          [
           "surprised"
          ],
          [
           "surprised"
          ]
         ],
         "hovertemplate": "Predictions=surprised<br>Correct=True<br>x=%{x}<br>y=%{y}<br>Label=%{customdata[0]}<extra></extra>",
         "legendgroup": "surprised, True",
         "marker": {
          "color": "#19D3F3",
          "symbol": "circle"
         },
         "mode": "markers",
         "name": "surprised, True",
         "showlegend": true,
         "type": "scattergl",
         "x": [
          -11.725500106811523,
          -13.533727645874023,
          -26.54584312438965,
          -26.9787654876709,
          -27.105703353881836,
          34.876338958740234,
          20.56986427307129,
          -7.956020832061768,
          28.18902015686035,
          27.955245971679688,
          27.53016471862793,
          35.64750671386719,
          -13.179807662963867,
          -14.36856746673584,
          19.843425750732422,
          -12.351123809814453,
          -3.712498188018799,
          -29.575143814086914,
          -29.589771270751953,
          -29.22947120666504,
          24.488710403442383,
          34.42399215698242,
          -18.732633590698242,
          -19.238588333129883,
          33.40890121459961,
          20.94757652282715,
          -2.9799160957336426,
          -0.49065589904785156,
          -37.515438079833984,
          -2.20167875289917,
          -3.343123197555542,
          18.598045349121094,
          26.05025863647461,
          -11.176942825317383,
          -40.4260368347168,
          -40.828773498535156,
          -39.74783706665039,
          -2.9180190563201904,
          -5.076242923736572,
          24.733203887939453
         ],
         "xaxis": "x",
         "y": [
          11.723140716552734,
          -42.27842712402344,
          3.7338056564331055,
          4.294079303741455,
          3.777310609817505,
          -17.72536277770996,
          -14.801640510559082,
          -47.439239501953125,
          -26.321956634521484,
          -26.98733139038086,
          -26.44352912902832,
          -18.5686092376709,
          -35.735836029052734,
          -34.91883850097656,
          24.514320373535156,
          -41.958030700683594,
          0.7558667659759521,
          19.541288375854492,
          19.203386306762695,
          19.082786560058594,
          -27.127668380737305,
          -12.12365436553955,
          -0.6025807857513428,
          -0.377390593290329,
          -13.522680282592773,
          27.603965759277344,
          -51.019779205322266,
          -49.479652404785156,
          19.696571350097656,
          -48.99983596801758,
          -49.57712173461914,
          33.52159881591797,
          22.948991775512695,
          -35.97902297973633,
          -21.7990665435791,
          -19.876522064208984,
          -20.244279861450195,
          0.7006110548973083,
          0.540727972984314,
          42.649620056152344
         ],
         "yaxis": "y"
        },
        {
         "customdata": [
          [
           "angry"
          ],
          [
           "happy"
          ],
          [
           "happy"
          ],
          [
           "sad"
          ],
          [
           "disgusted"
          ],
          [
           "neutral"
          ],
          [
           "neutral"
          ],
          [
           "happy"
          ]
         ],
         "hovertemplate": "Predictions=surprised<br>Correct=False<br>x=%{x}<br>y=%{y}<br>Label=%{customdata[0]}<extra></extra>",
         "legendgroup": "surprised, False",
         "marker": {
          "color": "#19D3F3",
          "symbol": "x"
         },
         "mode": "markers",
         "name": "surprised, False",
         "showlegend": true,
         "type": "scattergl",
         "x": [
          29.203916549682617,
          30.602863311767578,
          -4.981361389160156,
          -21.01313591003418,
          -2.2869584560394287,
          26.928098678588867,
          36.49604797363281,
          35.749298095703125
         ],
         "xaxis": "x",
         "y": [
          -9.070046424865723,
          -8.946255683898926,
          -29.549083709716797,
          -36.90681457519531,
          -47.860801696777344,
          25.52338218688965,
          -2.34926176071167,
          -1.9505934715270996
         ],
         "yaxis": "y"
        },
        {
         "customdata": [
          [
           "happy"
          ],
          [
           "happy"
          ],
          [
           "happy"
          ],
          [
           "happy"
          ],
          [
           "happy"
          ],
          [
           "happy"
          ],
          [
           "happy"
          ],
          [
           "happy"
          ],
          [
           "happy"
          ],
          [
           "happy"
          ],
          [
           "happy"
          ],
          [
           "happy"
          ],
          [
           "happy"
          ],
          [
           "happy"
          ],
          [
           "happy"
          ],
          [
           "happy"
          ],
          [
           "happy"
          ],
          [
           "happy"
          ],
          [
           "happy"
          ],
          [
           "happy"
          ],
          [
           "happy"
          ],
          [
           "happy"
          ],
          [
           "happy"
          ],
          [
           "happy"
          ],
          [
           "happy"
          ],
          [
           "happy"
          ],
          [
           "happy"
          ],
          [
           "happy"
          ],
          [
           "happy"
          ],
          [
           "happy"
          ],
          [
           "happy"
          ],
          [
           "happy"
          ],
          [
           "happy"
          ],
          [
           "happy"
          ],
          [
           "happy"
          ],
          [
           "happy"
          ],
          [
           "happy"
          ],
          [
           "happy"
          ],
          [
           "happy"
          ],
          [
           "happy"
          ],
          [
           "happy"
          ],
          [
           "happy"
          ],
          [
           "happy"
          ],
          [
           "happy"
          ],
          [
           "happy"
          ],
          [
           "happy"
          ],
          [
           "happy"
          ],
          [
           "happy"
          ],
          [
           "happy"
          ],
          [
           "happy"
          ],
          [
           "happy"
          ]
         ],
         "hovertemplate": "Predictions=happy<br>Correct=True<br>x=%{x}<br>y=%{y}<br>Label=%{customdata[0]}<extra></extra>",
         "legendgroup": "happy, True",
         "marker": {
          "color": "#00CC96",
          "symbol": "circle"
         },
         "mode": "markers",
         "name": "happy, True",
         "showlegend": true,
         "type": "scattergl",
         "x": [
          -14.765125274658203,
          -12.686431884765625,
          34.82197189331055,
          -27.82823371887207,
          -43.32770919799805,
          -40.13063049316406,
          -43.730106353759766,
          -42.977813720703125,
          -40.50055694580078,
          -39.677799224853516,
          -25.87444496154785,
          28.06441307067871,
          13.37726879119873,
          -12.192888259887695,
          -12.594975471496582,
          -19.891515731811523,
          -16.136974334716797,
          -16.093982696533203,
          32.08506774902344,
          -3.7894294261932373,
          -20.46196174621582,
          -29.634788513183594,
          24.562026977539062,
          -12.797628402709961,
          -14.65580940246582,
          -18.78435516357422,
          33.641971588134766,
          18.931209564208984,
          20.313018798828125,
          -2.233682870864868,
          -2.256772041320801,
          -3.1404287815093994,
          -3.2037370204925537,
          -1.9958891868591309,
          19.918474197387695,
          17.521032333374023,
          14.752206802368164,
          26.355716705322266,
          26.816471099853516,
          29.187231063842773,
          29.721155166625977,
          23.065200805664062,
          -8.881786346435547,
          -12.76051139831543,
          25.45203971862793,
          -2.35332989692688,
          22.730974197387695,
          23.390640258789062,
          23.323339462280273,
          22.255088806152344,
          22.556598663330078
         ],
         "xaxis": "x",
         "y": [
          -42.24330139160156,
          -37.01607894897461,
          -17.210430145263672,
          2.927506446838379,
          16.052072525024414,
          11.665462493896484,
          15.114078521728516,
          14.181212425231934,
          12.82445240020752,
          12.915325164794922,
          15.047268867492676,
          -26.622682571411133,
          39.80457305908203,
          -0.9801750779151917,
          -35.046207427978516,
          5.84687614440918,
          -33.83302307128906,
          -33.47542190551758,
          -3.590977668762207,
          -27.947660446166992,
          -36.77698516845703,
          19.789875030517578,
          -27.521846771240234,
          8.581527709960938,
          -41.74968338012695,
          0.09714814275503159,
          -12.515691757202148,
          27.142574310302734,
          26.958740234375,
          -48.111671447753906,
          -48.32467269897461,
          -49.89720916748047,
          -49.583396911621094,
          -47.589412689208984,
          35.13416290283203,
          32.30202865600586,
          41.36164855957031,
          24.47357940673828,
          22.843189239501953,
          20.488079071044922,
          20.704959869384766,
          35.258079528808594,
          -36.94932174682617,
          3.691744804382324,
          27.10072898864746,
          1.4722275733947754,
          41.72629165649414,
          44.074344635009766,
          43.81692123413086,
          43.28907775878906,
          43.802207946777344
         ],
         "yaxis": "y"
        },
        {
         "customdata": [
          [
           "disgusted"
          ],
          [
           "sad"
          ],
          [
           "sad"
          ],
          [
           "sad"
          ],
          [
           "surprised"
          ],
          [
           "disgusted"
          ],
          [
           "angry"
          ],
          [
           "angry"
          ],
          [
           "sad"
          ],
          [
           "angry"
          ],
          [
           "neutral"
          ],
          [
           "surprised"
          ],
          [
           "disgusted"
          ],
          [
           "neutral"
          ],
          [
           "angry"
          ],
          [
           "angry"
          ],
          [
           "neutral"
          ],
          [
           "surprised"
          ]
         ],
         "hovertemplate": "Predictions=happy<br>Correct=False<br>x=%{x}<br>y=%{y}<br>Label=%{customdata[0]}<extra></extra>",
         "legendgroup": "happy, False",
         "marker": {
          "color": "#00CC96",
          "symbol": "x"
         },
         "mode": "markers",
         "name": "happy, False",
         "showlegend": true,
         "type": "scattergl",
         "x": [
          -12.336583137512207,
          -15.239240646362305,
          -14.147061347961426,
          -27.01239776611328,
          34.69827651977539,
          -43.02274703979492,
          10.542195320129395,
          2.5232677459716797,
          -1.0487034320831299,
          -1.8204880952835083,
          14.271474838256836,
          14.34352970123291,
          15.603727340698242,
          28.65789222717285,
          27.104196548461914,
          -15.713203430175781,
          21.626707077026367,
          22.610260009765625
         ],
         "xaxis": "x",
         "y": [
          6.513999938964844,
          -42.23183822631836,
          6.338018894195557,
          3.156100034713745,
          -16.924644470214844,
          14.59908676147461,
          41.92347717285156,
          30.09262466430664,
          -49.51292037963867,
          -49.85844039916992,
          42.033138275146484,
          41.4537353515625,
          41.12664794921875,
          21.59801483154297,
          23.21303939819336,
          -34.444583892822266,
          42.73482894897461,
          41.452552795410156
         ],
         "yaxis": "y"
        },
        {
         "customdata": [
          [
           "disgusted"
          ],
          [
           "disgusted"
          ],
          [
           "disgusted"
          ],
          [
           "disgusted"
          ],
          [
           "disgusted"
          ],
          [
           "disgusted"
          ],
          [
           "disgusted"
          ],
          [
           "disgusted"
          ],
          [
           "disgusted"
          ],
          [
           "disgusted"
          ],
          [
           "disgusted"
          ],
          [
           "disgusted"
          ],
          [
           "disgusted"
          ],
          [
           "disgusted"
          ],
          [
           "disgusted"
          ],
          [
           "disgusted"
          ],
          [
           "disgusted"
          ],
          [
           "disgusted"
          ],
          [
           "disgusted"
          ],
          [
           "disgusted"
          ],
          [
           "disgusted"
          ],
          [
           "disgusted"
          ],
          [
           "disgusted"
          ],
          [
           "disgusted"
          ],
          [
           "disgusted"
          ],
          [
           "disgusted"
          ],
          [
           "disgusted"
          ],
          [
           "disgusted"
          ],
          [
           "disgusted"
          ],
          [
           "disgusted"
          ],
          [
           "disgusted"
          ],
          [
           "disgusted"
          ],
          [
           "disgusted"
          ],
          [
           "disgusted"
          ],
          [
           "disgusted"
          ],
          [
           "disgusted"
          ],
          [
           "disgusted"
          ]
         ],
         "hovertemplate": "Predictions=disgusted<br>Correct=True<br>x=%{x}<br>y=%{y}<br>Label=%{customdata[0]}<extra></extra>",
         "legendgroup": "disgusted, True",
         "marker": {
          "color": "#EF553B",
          "symbol": "circle"
         },
         "mode": "markers",
         "name": "disgusted, True",
         "showlegend": true,
         "type": "scattergl",
         "x": [
          -40.42703628540039,
          -16.803022384643555,
          34.768436431884766,
          35.026084899902344,
          22.861284255981445,
          -39.20261764526367,
          27.862638473510742,
          14.216453552246094,
          13.2725830078125,
          30.532346725463867,
          30.50922966003418,
          -21.081951141357422,
          -20.59623146057129,
          -11.156904220581055,
          -12.160935401916504,
          -12.302993774414062,
          -9.791045188903809,
          25.03351593017578,
          25.25151252746582,
          33.36556625366211,
          19.867246627807617,
          20.3701229095459,
          13.679896354675293,
          30.5531063079834,
          26.914424896240234,
          27.682531356811523,
          28.06402587890625,
          -12.094525337219238,
          -11.546581268310547,
          24.133625030517578,
          29.59817886352539,
          -10.686470031738281,
          -1.6519197225570679,
          24.096498489379883,
          22.65831184387207,
          23.418672561645508,
          28.683666229248047
         ],
         "xaxis": "x",
         "y": [
          -22.964868545532227,
          -44.21087646484375,
          -17.316640853881836,
          -16.862483978271484,
          30.022077560424805,
          11.834027290344238,
          -26.054458618164062,
          37.54801940917969,
          40.1246223449707,
          -5.06476354598999,
          -5.0788984298706055,
          12.531390190124512,
          9.697164535522461,
          -34.03947830200195,
          -41.63948059082031,
          -41.63542938232422,
          -41.928916931152344,
          -27.042884826660156,
          -27.847030639648438,
          -12.795058250427246,
          36.595558166503906,
          37.23102569580078,
          41.53892517089844,
          20.65007209777832,
          24.876333236694336,
          20.385019302368164,
          20.889455795288086,
          9.110600471496582,
          6.875887393951416,
          27.017976760864258,
          -8.573556900024414,
          6.489996433258057,
          1.2049258947372437,
          43.87137222290039,
          43.30411148071289,
          43.26651382446289,
          -13.176050186157227
         ],
         "yaxis": "y"
        },
        {
         "customdata": [
          [
           "happy"
          ],
          [
           "neutral"
          ],
          [
           "happy"
          ],
          [
           "angry"
          ],
          [
           "happy"
          ],
          [
           "happy"
          ],
          [
           "sad"
          ],
          [
           "angry"
          ],
          [
           "happy"
          ],
          [
           "happy"
          ]
         ],
         "hovertemplate": "Predictions=disgusted<br>Correct=False<br>x=%{x}<br>y=%{y}<br>Label=%{customdata[0]}<extra></extra>",
         "legendgroup": "disgusted, False",
         "marker": {
          "color": "#EF553B",
          "symbol": "x"
         },
         "mode": "markers",
         "name": "disgusted, False",
         "showlegend": true,
         "type": "scattergl",
         "x": [
          -27.39911651611328,
          13.871421813964844,
          -12.183632850646973,
          11.131056785583496,
          25.270627975463867,
          -17.031051635742188,
          33.06155776977539,
          -19.173377990722656,
          -3.0609841346740723,
          25.93573570251465
         ],
         "xaxis": "x",
         "y": [
          4.394617080688477,
          37.83897018432617,
          -0.9800812602043152,
          32.20399475097656,
          -27.645124435424805,
          -40.56093978881836,
          -13.05142593383789,
          1.5974539518356323,
          -50.9888801574707,
          31.90155792236328
         ],
         "yaxis": "y"
        },
        {
         "customdata": [
          [
           "sad"
          ],
          [
           "sad"
          ],
          [
           "sad"
          ],
          [
           "sad"
          ],
          [
           "sad"
          ],
          [
           "sad"
          ],
          [
           "sad"
          ],
          [
           "sad"
          ],
          [
           "sad"
          ],
          [
           "sad"
          ],
          [
           "sad"
          ],
          [
           "sad"
          ],
          [
           "sad"
          ],
          [
           "sad"
          ],
          [
           "sad"
          ],
          [
           "sad"
          ],
          [
           "sad"
          ],
          [
           "sad"
          ],
          [
           "sad"
          ],
          [
           "sad"
          ],
          [
           "sad"
          ],
          [
           "sad"
          ],
          [
           "sad"
          ],
          [
           "sad"
          ],
          [
           "sad"
          ],
          [
           "sad"
          ],
          [
           "sad"
          ],
          [
           "sad"
          ],
          [
           "sad"
          ],
          [
           "sad"
          ],
          [
           "sad"
          ],
          [
           "sad"
          ],
          [
           "sad"
          ],
          [
           "sad"
          ],
          [
           "sad"
          ],
          [
           "sad"
          ],
          [
           "sad"
          ],
          [
           "sad"
          ]
         ],
         "hovertemplate": "Predictions=sad<br>Correct=True<br>x=%{x}<br>y=%{y}<br>Label=%{customdata[0]}<extra></extra>",
         "legendgroup": "sad, True",
         "marker": {
          "color": "#FFA15A",
          "symbol": "circle"
         },
         "mode": "markers",
         "name": "sad, True",
         "showlegend": true,
         "type": "scattergl",
         "x": [
          22.94577980041504,
          -27.189434051513672,
          -27.794021606445312,
          -41.78894805908203,
          -40.66866683959961,
          -42.48318862915039,
          -42.41917037963867,
          28.033334732055664,
          33.048099517822266,
          -10.989398956298828,
          31.550914764404297,
          -10.659279823303223,
          -9.956546783447266,
          -13.008674621582031,
          -29.097497940063477,
          -28.724376678466797,
          25.321491241455078,
          -28.67148780822754,
          -19.063173294067383,
          34.57292938232422,
          -17.59597396850586,
          23.9741268157959,
          -38.13728713989258,
          -1.4344154596328735,
          17.51839828491211,
          14.241744995117188,
          25.271650314331055,
          26.46108627319336,
          26.660999298095703,
          28.861663818359375,
          30.508991241455078,
          28.812999725341797,
          18.899925231933594,
          -8.029606819152832,
          -12.73385238647461,
          -40.061248779296875,
          -39.311161041259766,
          19.693138122558594
         ],
         "xaxis": "x",
         "y": [
          30.111722946166992,
          3.7569873332977295,
          2.7867040634155273,
          15.77741527557373,
          13.129758834838867,
          15.219549179077148,
          14.168048858642578,
          -26.036151885986328,
          -20.007150650024414,
          -34.65713119506836,
          -8.996831893920898,
          7.209721565246582,
          -41.924442291259766,
          7.82078218460083,
          19.170286178588867,
          19.391767501831055,
          -27.524885177612305,
          20.016448974609375,
          0.5902104377746582,
          -12.001947402954102,
          -0.684058427810669,
          28.337867736816406,
          19.48723030090332,
          -48.418174743652344,
          32.28477096557617,
          42.06755065917969,
          23.390451431274414,
          23.331937789916992,
          23.735931396484375,
          21.560474395751953,
          20.908071517944336,
          21.531068801879883,
          28.681997299194336,
          -36.99026107788086,
          3.6108601093292236,
          -19.235919952392578,
          -19.67784309387207,
          24.88661003112793
         ],
         "yaxis": "y"
        },
        {
         "customdata": [
          [
           "angry"
          ],
          [
           "surprised"
          ],
          [
           "angry"
          ],
          [
           "disgusted"
          ],
          [
           "surprised"
          ],
          [
           "angry"
          ],
          [
           "angry"
          ],
          [
           "disgusted"
          ],
          [
           "neutral"
          ],
          [
           "disgusted"
          ],
          [
           "disgusted"
          ],
          [
           "disgusted"
          ],
          [
           "neutral"
          ],
          [
           "neutral"
          ],
          [
           "disgusted"
          ]
         ],
         "hovertemplate": "Predictions=sad<br>Correct=False<br>x=%{x}<br>y=%{y}<br>Label=%{customdata[0]}<extra></extra>",
         "legendgroup": "sad, False",
         "marker": {
          "color": "#FFA15A",
          "symbol": "x"
         },
         "mode": "markers",
         "name": "sad, False",
         "showlegend": true,
         "type": "scattergl",
         "x": [
          -40.347862243652344,
          -26.605297088623047,
          35.384849548339844,
          -41.893348693847656,
          -39.10917282104492,
          27.55339813232422,
          -24.444290161132812,
          -29.2993106842041,
          -17.725847244262695,
          -1.521343469619751,
          29.16300392150879,
          30.405031204223633,
          27.932369232177734,
          -29.68750762939453,
          24.30548858642578
         ],
         "xaxis": "x",
         "y": [
          -23.071306228637695,
          3.129204034805298,
          -17.3432674407959,
          16.295738220214844,
          13.357952117919922,
          -26.009302139282227,
          9.760819435119629,
          19.90862464904785,
          -0.11030206084251404,
          -48.23388671875,
          20.790996551513672,
          19.851959228515625,
          21.661836624145508,
          5.696734428405762,
          42.04304504394531
         ],
         "yaxis": "y"
        },
        {
         "customdata": [
          [
           "angry"
          ],
          [
           "angry"
          ],
          [
           "angry"
          ],
          [
           "angry"
          ],
          [
           "angry"
          ],
          [
           "angry"
          ],
          [
           "angry"
          ],
          [
           "angry"
          ],
          [
           "angry"
          ],
          [
           "angry"
          ],
          [
           "angry"
          ],
          [
           "angry"
          ],
          [
           "angry"
          ],
          [
           "angry"
          ],
          [
           "angry"
          ],
          [
           "angry"
          ],
          [
           "angry"
          ],
          [
           "angry"
          ],
          [
           "angry"
          ],
          [
           "angry"
          ],
          [
           "angry"
          ],
          [
           "angry"
          ],
          [
           "angry"
          ],
          [
           "angry"
          ],
          [
           "angry"
          ],
          [
           "angry"
          ],
          [
           "angry"
          ],
          [
           "angry"
          ],
          [
           "angry"
          ],
          [
           "angry"
          ],
          [
           "angry"
          ],
          [
           "angry"
          ],
          [
           "angry"
          ]
         ],
         "hovertemplate": "Predictions=angry<br>Correct=True<br>x=%{x}<br>y=%{y}<br>Label=%{customdata[0]}<extra></extra>",
         "legendgroup": "angry, True",
         "marker": {
          "color": "#636EFA",
          "symbol": "circle"
         },
         "mode": "markers",
         "name": "angry, True",
         "showlegend": true,
         "type": "scattergl",
         "x": [
          -16.029699325561523,
          34.129722595214844,
          34.63303756713867,
          -41.330318450927734,
          -43.48625183105469,
          -7.054405212402344,
          -40.31382751464844,
          -39.09308624267578,
          -39.54033279418945,
          16.688196182250977,
          10.73619556427002,
          13.635284423828125,
          -8.530594825744629,
          -9.232643127441406,
          -13.46400260925293,
          -12.391029357910156,
          -2.9256532192230225,
          -15.725768089294434,
          -14.321993827819824,
          -16.595048904418945,
          -17.560962677001953,
          36.174232482910156,
          -3.2227373123168945,
          -37.656585693359375,
          15.070780754089355,
          27.20876693725586,
          28.05190086364746,
          28.648059844970703,
          27.338380813598633,
          -0.878512978553772,
          22.915485382080078,
          23.192832946777344,
          22.749101638793945
         ],
         "xaxis": "x",
         "y": [
          -36.04819107055664,
          -17.59372329711914,
          -17.653104782104492,
          13.2625732421875,
          16.39007568359375,
          -47.465576171875,
          12.485068321228027,
          11.548460960388184,
          13.172564506530762,
          32.889442443847656,
          42.324859619140625,
          38.229183197021484,
          -2.5583481788635254,
          -41.04818344116211,
          6.300059795379639,
          -42.01194763183594,
          2.3983523845672607,
          -42.999267578125,
          9.970511436462402,
          -42.211238861083984,
          -0.6575087308883667,
          -16.536823272705078,
          -49.98432540893555,
          19.716278076171875,
          41.663291931152344,
          20.888883590698242,
          23.143543243408203,
          -9.157988548278809,
          -9.790775299072266,
          3.501088857650757,
          42.4140510559082,
          43.45390319824219,
          44.11992645263672
         ],
         "yaxis": "y"
        },
        {
         "customdata": [
          [
           "sad"
          ],
          [
           "neutral"
          ],
          [
           "surprised"
          ],
          [
           "sad"
          ],
          [
           "sad"
          ],
          [
           "happy"
          ],
          [
           "sad"
          ],
          [
           "sad"
          ],
          [
           "disgusted"
          ],
          [
           "surprised"
          ],
          [
           "disgusted"
          ],
          [
           "sad"
          ],
          [
           "disgusted"
          ],
          [
           "neutral"
          ],
          [
           "surprised"
          ],
          [
           "disgusted"
          ],
          [
           "disgusted"
          ],
          [
           "sad"
          ],
          [
           "sad"
          ],
          [
           "sad"
          ],
          [
           "happy"
          ]
         ],
         "hovertemplate": "Predictions=angry<br>Correct=False<br>x=%{x}<br>y=%{y}<br>Label=%{customdata[0]}<extra></extra>",
         "legendgroup": "angry, False",
         "marker": {
          "color": "#636EFA",
          "symbol": "x"
         },
         "mode": "markers",
         "name": "angry, False",
         "showlegend": true,
         "type": "scattergl",
         "x": [
          -39.3524284362793,
          13.395828247070312,
          31.431543350219727,
          -14.158856391906738,
          29.386512756347656,
          -39.73685073852539,
          24.76508903503418,
          -12.857624053955078,
          -14.146044731140137,
          -18.457813262939453,
          -1.393636703491211,
          -2.1029837131500244,
          15.46220588684082,
          27.227502822875977,
          28.89368438720703,
          -22.52216148376465,
          -18.218399047851562,
          35.84831619262695,
          21.217626571655273,
          24.305557250976562,
          22.25467300415039
         ],
         "xaxis": "x",
         "y": [
          11.9982328414917,
          39.655887603759766,
          -3.96148943901062,
          -36.487579345703125,
          -8.499268531799316,
          -19.6688289642334,
          -27.094505310058594,
          -42.85374069213867,
          4.492546081542969,
          0.06346834450960159,
          -50.50077438354492,
          -51.646427154541016,
          41.11888885498047,
          24.113162994384766,
          22.648225784301758,
          7.506184101104736,
          4.343341827392578,
          -1.9931159019470215,
          42.210208892822266,
          42.04307556152344,
          43.28887176513672
         ],
         "yaxis": "y"
        },
        {
         "customdata": [
          [
           "neutral"
          ],
          [
           "neutral"
          ],
          [
           "neutral"
          ],
          [
           "neutral"
          ],
          [
           "neutral"
          ],
          [
           "neutral"
          ],
          [
           "neutral"
          ],
          [
           "neutral"
          ],
          [
           "neutral"
          ],
          [
           "neutral"
          ],
          [
           "neutral"
          ],
          [
           "neutral"
          ],
          [
           "neutral"
          ],
          [
           "neutral"
          ],
          [
           "neutral"
          ],
          [
           "neutral"
          ],
          [
           "neutral"
          ],
          [
           "neutral"
          ],
          [
           "neutral"
          ],
          [
           "neutral"
          ],
          [
           "neutral"
          ],
          [
           "neutral"
          ],
          [
           "neutral"
          ],
          [
           "neutral"
          ],
          [
           "neutral"
          ],
          [
           "neutral"
          ],
          [
           "neutral"
          ],
          [
           "neutral"
          ],
          [
           "neutral"
          ],
          [
           "neutral"
          ],
          [
           "neutral"
          ],
          [
           "neutral"
          ],
          [
           "neutral"
          ],
          [
           "neutral"
          ],
          [
           "neutral"
          ],
          [
           "neutral"
          ]
         ],
         "hovertemplate": "Predictions=neutral<br>Correct=True<br>x=%{x}<br>y=%{y}<br>Label=%{customdata[0]}<extra></extra>",
         "legendgroup": "neutral, True",
         "marker": {
          "color": "#AB63FA",
          "symbol": "circle"
         },
         "mode": "markers",
         "name": "neutral, True",
         "showlegend": true,
         "type": "scattergl",
         "x": [
          33.996150970458984,
          -43.72062301635742,
          -43.748985290527344,
          -42.585655212402344,
          -38.77237319946289,
          -39.15742492675781,
          -38.64978790283203,
          17.764663696289062,
          13.6104736328125,
          -23.48662757873535,
          -22.22153091430664,
          -41.16389846801758,
          -18.356332778930664,
          -12.169379234313965,
          -16.465341567993164,
          -20.06650161743164,
          -28.789779663085938,
          11.145788192749023,
          -12.635600090026855,
          19.09981346130371,
          20.817594528198242,
          -2.260435104370117,
          -37.833187103271484,
          -37.30929946899414,
          -1.5009418725967407,
          18.7305850982666,
          19.89495277404785,
          27.456594467163086,
          27.087369918823242,
          16.753253936767578,
          26.261842727661133,
          -16.287967681884766,
          -11.503993034362793,
          -10.396193504333496,
          -4.542495250701904,
          -5.13170051574707
         ],
         "xaxis": "x",
         "y": [
          -17.30267333984375,
          15.808172225952148,
          16.496177673339844,
          14.122089385986328,
          12.199338912963867,
          13.275129318237305,
          11.546534538269043,
          33.522705078125,
          38.32844543457031,
          10.551862716674805,
          4.252117156982422,
          -21.874332427978516,
          10.145968437194824,
          -35.038177490234375,
          -34.19129943847656,
          -36.8842887878418,
          19.503395080566406,
          32.21302795410156,
          -40.076622009277344,
          27.13822364807129,
          27.453067779541016,
          -50.78306579589844,
          19.371685028076172,
          19.838735580444336,
          -49.173152923583984,
          33.6029167175293,
          36.35329818725586,
          20.99356460571289,
          23.050016403198242,
          37.56482696533203,
          -14.309172630310059,
          1.6965912580490112,
          -38.93822479248047,
          6.5800580978393555,
          1.4443241357803345,
          0.518944263458252
         ],
         "yaxis": "y"
        },
        {
         "customdata": [
          [
           "happy"
          ],
          [
           "happy"
          ],
          [
           "surprised"
          ],
          [
           "surprised"
          ],
          [
           "happy"
          ],
          [
           "sad"
          ],
          [
           "disgusted"
          ],
          [
           "surprised"
          ],
          [
           "happy"
          ],
          [
           "surprised"
          ],
          [
           "disgusted"
          ],
          [
           "happy"
          ],
          [
           "surprised"
          ],
          [
           "surprised"
          ],
          [
           "surprised"
          ],
          [
           "surprised"
          ],
          [
           "happy"
          ],
          [
           "angry"
          ]
         ],
         "hovertemplate": "Predictions=neutral<br>Correct=False<br>x=%{x}<br>y=%{y}<br>Label=%{customdata[0]}<extra></extra>",
         "legendgroup": "neutral, False",
         "marker": {
          "color": "#AB63FA",
          "symbol": "x"
         },
         "mode": "markers",
         "name": "neutral, False",
         "showlegend": true,
         "type": "scattergl",
         "x": [
          -41.57694625854492,
          33.04597854614258,
          -11.00885009765625,
          -11.874167442321777,
          -16.678333282470703,
          -29.107624053955078,
          24.8320369720459,
          -10.635002136230469,
          -2.470273733139038,
          -1.5783360004425049,
          -1.3789411783218384,
          20.321800231933594,
          19.999731063842773,
          15.564616203308105,
          29.494369506835938,
          -21.341596603393555,
          22.78404998779297,
          23.33856964111328
         ],
         "xaxis": "x",
         "y": [
          16.094106674194336,
          -19.234840393066406,
          -34.62105178833008,
          -32.69963455200195,
          8.865732192993164,
          19.912044525146484,
          -27.610553741455078,
          -44.840965270996094,
          -48.92933654785156,
          -47.5860710144043,
          -47.97739791870117,
          37.165306091308594,
          43.21847915649414,
          41.17185592651367,
          20.19688606262207,
          10.108052253723145,
          42.66974639892578,
          42.79749298095703
         ],
         "yaxis": "y"
        },
        {
         "customdata": [
          [
           "surprised"
          ],
          [
           "surprised"
          ],
          [
           "surprised"
          ],
          [
           "surprised"
          ],
          [
           "sad"
          ],
          [
           "surprised"
          ],
          [
           "surprised"
          ],
          [
           "happy"
          ],
          [
           "surprised"
          ],
          [
           "surprised"
          ],
          [
           "sad"
          ],
          [
           "surprised"
          ],
          [
           "surprised"
          ],
          [
           "surprised"
          ],
          [
           "angry"
          ],
          [
           "surprised"
          ],
          [
           "neutral"
          ],
          [
           "surprised"
          ],
          [
           "surprised"
          ],
          [
           "neutral"
          ],
          [
           "surprised"
          ],
          [
           "surprised"
          ],
          [
           "surprised"
          ],
          [
           "surprised"
          ],
          [
           "surprised"
          ],
          [
           "surprised"
          ],
          [
           "surprised"
          ],
          [
           "neutral"
          ],
          [
           "angry"
          ],
          [
           "surprised"
          ],
          [
           "surprised"
          ],
          [
           "surprised"
          ],
          [
           "surprised"
          ],
          [
           "surprised"
          ],
          [
           "surprised"
          ],
          [
           "surprised"
          ],
          [
           "surprised"
          ],
          [
           "surprised"
          ],
          [
           "surprised"
          ],
          [
           "neutral"
          ],
          [
           "surprised"
          ],
          [
           "neutral"
          ],
          [
           "neutral"
          ],
          [
           "happy"
          ],
          [
           "angry"
          ],
          [
           "surprised"
          ],
          [
           "neutral"
          ],
          [
           "surprised"
          ],
          [
           "surprised"
          ],
          [
           "neutral"
          ],
          [
           "surprised"
          ],
          [
           "surprised"
          ],
          [
           "surprised"
          ],
          [
           "surprised"
          ],
          [
           "surprised"
          ],
          [
           "happy"
          ]
         ],
         "hovertemplate": "Label=surprised<br>x=%{x}<br>y=%{y}<br>Predictions=%{customdata[0]}<extra></extra>",
         "legendgroup": "surprised",
         "marker": {
          "color": "#19D3F3",
          "opacity": 0.2,
          "size": 12,
          "symbol": "circle"
         },
         "mode": "markers",
         "name": "surprised",
         "showlegend": false,
         "type": "scattergl",
         "x": [
          -11.725500106811523,
          -13.533727645874023,
          -26.54584312438965,
          -26.9787654876709,
          -26.605297088623047,
          -27.105703353881836,
          34.876338958740234,
          34.69827651977539,
          20.56986427307129,
          -7.956020832061768,
          -39.10917282104492,
          28.18902015686035,
          27.955245971679688,
          27.53016471862793,
          31.431543350219727,
          35.64750671386719,
          -11.00885009765625,
          -13.179807662963867,
          -14.36856746673584,
          -11.874167442321777,
          19.843425750732422,
          -12.351123809814453,
          -3.712498188018799,
          -29.575143814086914,
          -29.589771270751953,
          -29.22947120666504,
          24.488710403442383,
          -10.635002136230469,
          -18.457813262939453,
          34.42399215698242,
          -18.732633590698242,
          -19.238588333129883,
          33.40890121459961,
          20.94757652282715,
          -2.9799160957336426,
          -0.49065589904785156,
          -37.515438079833984,
          -2.20167875289917,
          -3.343123197555542,
          -1.5783360004425049,
          18.598045349121094,
          19.999731063842773,
          15.564616203308105,
          14.34352970123291,
          28.89368438720703,
          26.05025863647461,
          29.494369506835938,
          -11.176942825317383,
          -40.4260368347168,
          -21.341596603393555,
          -40.828773498535156,
          -39.74783706665039,
          -2.9180190563201904,
          -5.076242923736572,
          24.733203887939453,
          22.610260009765625
         ],
         "xaxis": "x",
         "y": [
          11.723140716552734,
          -42.27842712402344,
          3.7338056564331055,
          4.294079303741455,
          3.129204034805298,
          3.777310609817505,
          -17.72536277770996,
          -16.924644470214844,
          -14.801640510559082,
          -47.439239501953125,
          13.357952117919922,
          -26.321956634521484,
          -26.98733139038086,
          -26.44352912902832,
          -3.96148943901062,
          -18.5686092376709,
          -34.62105178833008,
          -35.735836029052734,
          -34.91883850097656,
          -32.69963455200195,
          24.514320373535156,
          -41.958030700683594,
          0.7558667659759521,
          19.541288375854492,
          19.203386306762695,
          19.082786560058594,
          -27.127668380737305,
          -44.840965270996094,
          0.06346834450960159,
          -12.12365436553955,
          -0.6025807857513428,
          -0.377390593290329,
          -13.522680282592773,
          27.603965759277344,
          -51.019779205322266,
          -49.479652404785156,
          19.696571350097656,
          -48.99983596801758,
          -49.57712173461914,
          -47.5860710144043,
          33.52159881591797,
          43.21847915649414,
          41.17185592651367,
          41.4537353515625,
          22.648225784301758,
          22.948991775512695,
          20.19688606262207,
          -35.97902297973633,
          -21.7990665435791,
          10.108052253723145,
          -19.876522064208984,
          -20.244279861450195,
          0.7006110548973083,
          0.540727972984314,
          42.649620056152344,
          41.452552795410156
         ],
         "yaxis": "y"
        },
        {
         "customdata": [
          [
           "happy"
          ],
          [
           "disgusted"
          ],
          [
           "disgusted"
          ],
          [
           "disgusted"
          ],
          [
           "disgusted"
          ],
          [
           "disgusted"
          ],
          [
           "disgusted"
          ],
          [
           "sad"
          ],
          [
           "happy"
          ],
          [
           "disgusted"
          ],
          [
           "disgusted"
          ],
          [
           "disgusted"
          ],
          [
           "disgusted"
          ],
          [
           "disgusted"
          ],
          [
           "disgusted"
          ],
          [
           "disgusted"
          ],
          [
           "disgusted"
          ],
          [
           "disgusted"
          ],
          [
           "disgusted"
          ],
          [
           "disgusted"
          ],
          [
           "sad"
          ],
          [
           "disgusted"
          ],
          [
           "disgusted"
          ],
          [
           "neutral"
          ],
          [
           "angry"
          ],
          [
           "disgusted"
          ],
          [
           "angry"
          ],
          [
           "surprised"
          ],
          [
           "sad"
          ],
          [
           "neutral"
          ],
          [
           "disgusted"
          ],
          [
           "disgusted"
          ],
          [
           "happy"
          ],
          [
           "angry"
          ],
          [
           "disgusted"
          ],
          [
           "disgusted"
          ],
          [
           "disgusted"
          ],
          [
           "sad"
          ],
          [
           "disgusted"
          ],
          [
           "disgusted"
          ],
          [
           "sad"
          ],
          [
           "angry"
          ],
          [
           "disgusted"
          ],
          [
           "angry"
          ],
          [
           "disgusted"
          ],
          [
           "disgusted"
          ],
          [
           "disgusted"
          ],
          [
           "disgusted"
          ],
          [
           "disgusted"
          ],
          [
           "disgusted"
          ],
          [
           "sad"
          ],
          [
           "disgusted"
          ],
          [
           "disgusted"
          ],
          [
           "disgusted"
          ]
         ],
         "hovertemplate": "Label=disgusted<br>x=%{x}<br>y=%{y}<br>Predictions=%{customdata[0]}<extra></extra>",
         "legendgroup": "disgusted",
         "marker": {
          "color": "#EF553B",
          "opacity": 0.2,
          "size": 12,
          "symbol": "circle"
         },
         "mode": "markers",
         "name": "disgusted",
         "showlegend": false,
         "type": "scattergl",
         "x": [
          -12.336583137512207,
          -40.42703628540039,
          -16.803022384643555,
          34.768436431884766,
          35.026084899902344,
          22.861284255981445,
          -39.20261764526367,
          -41.893348693847656,
          -43.02274703979492,
          27.862638473510742,
          14.216453552246094,
          13.2725830078125,
          30.532346725463867,
          30.50922966003418,
          -21.081951141357422,
          -20.59623146057129,
          -11.156904220581055,
          -12.160935401916504,
          -12.302993774414062,
          -9.791045188903809,
          -29.2993106842041,
          25.03351593017578,
          25.25151252746582,
          24.8320369720459,
          -14.146044731140137,
          33.36556625366211,
          -1.393636703491211,
          -2.2869584560394287,
          -1.521343469619751,
          -1.3789411783218384,
          19.867246627807617,
          20.3701229095459,
          15.603727340698242,
          15.46220588684082,
          13.679896354675293,
          30.5531063079834,
          26.914424896240234,
          29.16300392150879,
          27.682531356811523,
          28.06402587890625,
          30.405031204223633,
          -22.52216148376465,
          -12.094525337219238,
          -18.218399047851562,
          -11.546581268310547,
          24.133625030517578,
          29.59817886352539,
          -10.686470031738281,
          -1.6519197225570679,
          24.096498489379883,
          24.30548858642578,
          22.65831184387207,
          23.418672561645508,
          28.683666229248047
         ],
         "xaxis": "x",
         "y": [
          6.513999938964844,
          -22.964868545532227,
          -44.21087646484375,
          -17.316640853881836,
          -16.862483978271484,
          30.022077560424805,
          11.834027290344238,
          16.295738220214844,
          14.59908676147461,
          -26.054458618164062,
          37.54801940917969,
          40.1246223449707,
          -5.06476354598999,
          -5.0788984298706055,
          12.531390190124512,
          9.697164535522461,
          -34.03947830200195,
          -41.63948059082031,
          -41.63542938232422,
          -41.928916931152344,
          19.90862464904785,
          -27.042884826660156,
          -27.847030639648438,
          -27.610553741455078,
          4.492546081542969,
          -12.795058250427246,
          -50.50077438354492,
          -47.860801696777344,
          -48.23388671875,
          -47.97739791870117,
          36.595558166503906,
          37.23102569580078,
          41.12664794921875,
          41.11888885498047,
          41.53892517089844,
          20.65007209777832,
          24.876333236694336,
          20.790996551513672,
          20.385019302368164,
          20.889455795288086,
          19.851959228515625,
          7.506184101104736,
          9.110600471496582,
          4.343341827392578,
          6.875887393951416,
          27.017976760864258,
          -8.573556900024414,
          6.489996433258057,
          1.2049258947372437,
          43.87137222290039,
          42.04304504394531,
          43.30411148071289,
          43.26651382446289,
          -13.176050186157227
         ],
         "yaxis": "y"
        },
        {
         "customdata": [
          [
           "happy"
          ],
          [
           "happy"
          ],
          [
           "disgusted"
          ],
          [
           "happy"
          ],
          [
           "happy"
          ],
          [
           "happy"
          ],
          [
           "happy"
          ],
          [
           "happy"
          ],
          [
           "neutral"
          ],
          [
           "happy"
          ],
          [
           "happy"
          ],
          [
           "happy"
          ],
          [
           "happy"
          ],
          [
           "happy"
          ],
          [
           "happy"
          ],
          [
           "disgusted"
          ],
          [
           "happy"
          ],
          [
           "neutral"
          ],
          [
           "happy"
          ],
          [
           "happy"
          ],
          [
           "happy"
          ],
          [
           "happy"
          ],
          [
           "surprised"
          ],
          [
           "angry"
          ],
          [
           "happy"
          ],
          [
           "neutral"
          ],
          [
           "surprised"
          ],
          [
           "happy"
          ],
          [
           "happy"
          ],
          [
           "happy"
          ],
          [
           "disgusted"
          ],
          [
           "happy"
          ],
          [
           "happy"
          ],
          [
           "disgusted"
          ],
          [
           "happy"
          ],
          [
           "happy"
          ],
          [
           "happy"
          ],
          [
           "happy"
          ],
          [
           "happy"
          ],
          [
           "disgusted"
          ],
          [
           "happy"
          ],
          [
           "happy"
          ],
          [
           "neutral"
          ],
          [
           "happy"
          ],
          [
           "happy"
          ],
          [
           "happy"
          ],
          [
           "happy"
          ],
          [
           "happy"
          ],
          [
           "neutral"
          ],
          [
           "happy"
          ],
          [
           "happy"
          ],
          [
           "happy"
          ],
          [
           "happy"
          ],
          [
           "happy"
          ],
          [
           "disgusted"
          ],
          [
           "happy"
          ],
          [
           "happy"
          ],
          [
           "happy"
          ],
          [
           "happy"
          ],
          [
           "happy"
          ],
          [
           "surprised"
          ],
          [
           "neutral"
          ],
          [
           "happy"
          ],
          [
           "happy"
          ],
          [
           "happy"
          ],
          [
           "happy"
          ],
          [
           "angry"
          ],
          [
           "happy"
          ]
         ],
         "hovertemplate": "Label=happy<br>x=%{x}<br>y=%{y}<br>Predictions=%{customdata[0]}<extra></extra>",
         "legendgroup": "happy",
         "marker": {
          "color": "#00CC96",
          "opacity": 0.2,
          "size": 12,
          "symbol": "circle"
         },
         "mode": "markers",
         "name": "happy",
         "showlegend": false,
         "type": "scattergl",
         "x": [
          -14.765125274658203,
          -12.686431884765625,
          -27.39911651611328,
          34.82197189331055,
          -27.82823371887207,
          -43.32770919799805,
          -40.13063049316406,
          -43.730106353759766,
          -41.57694625854492,
          -42.977813720703125,
          -40.50055694580078,
          -39.677799224853516,
          -25.87444496154785,
          28.06441307067871,
          13.37726879119873,
          -12.183632850646973,
          -12.192888259887695,
          33.04597854614258,
          -12.594975471496582,
          -19.891515731811523,
          -16.136974334716797,
          -16.093982696533203,
          30.602863311767578,
          -39.73685073852539,
          32.08506774902344,
          -16.678333282470703,
          -4.981361389160156,
          -3.7894294261932373,
          -20.46196174621582,
          -29.634788513183594,
          25.270627975463867,
          24.562026977539062,
          -12.797628402709961,
          -17.031051635742188,
          -14.65580940246582,
          -18.78435516357422,
          33.641971588134766,
          18.931209564208984,
          20.313018798828125,
          -3.0609841346740723,
          -2.233682870864868,
          -2.256772041320801,
          -2.470273733139038,
          -3.1404287815093994,
          -3.2037370204925537,
          -1.9958891868591309,
          19.918474197387695,
          17.521032333374023,
          20.321800231933594,
          14.752206802368164,
          26.355716705322266,
          26.816471099853516,
          29.187231063842773,
          29.721155166625977,
          25.93573570251465,
          23.065200805664062,
          -8.881786346435547,
          -12.76051139831543,
          25.45203971862793,
          -2.35332989692688,
          35.749298095703125,
          22.78404998779297,
          22.730974197387695,
          23.390640258789062,
          23.323339462280273,
          22.255088806152344,
          22.25467300415039,
          22.556598663330078
         ],
         "xaxis": "x",
         "y": [
          -42.24330139160156,
          -37.01607894897461,
          4.394617080688477,
          -17.210430145263672,
          2.927506446838379,
          16.052072525024414,
          11.665462493896484,
          15.114078521728516,
          16.094106674194336,
          14.181212425231934,
          12.82445240020752,
          12.915325164794922,
          15.047268867492676,
          -26.622682571411133,
          39.80457305908203,
          -0.9800812602043152,
          -0.9801750779151917,
          -19.234840393066406,
          -35.046207427978516,
          5.84687614440918,
          -33.83302307128906,
          -33.47542190551758,
          -8.946255683898926,
          -19.6688289642334,
          -3.590977668762207,
          8.865732192993164,
          -29.549083709716797,
          -27.947660446166992,
          -36.77698516845703,
          19.789875030517578,
          -27.645124435424805,
          -27.521846771240234,
          8.581527709960938,
          -40.56093978881836,
          -41.74968338012695,
          0.09714814275503159,
          -12.515691757202148,
          27.142574310302734,
          26.958740234375,
          -50.9888801574707,
          -48.111671447753906,
          -48.32467269897461,
          -48.92933654785156,
          -49.89720916748047,
          -49.583396911621094,
          -47.589412689208984,
          35.13416290283203,
          32.30202865600586,
          37.165306091308594,
          41.36164855957031,
          24.47357940673828,
          22.843189239501953,
          20.488079071044922,
          20.704959869384766,
          31.90155792236328,
          35.258079528808594,
          -36.94932174682617,
          3.691744804382324,
          27.10072898864746,
          1.4722275733947754,
          -1.9505934715270996,
          42.66974639892578,
          41.72629165649414,
          44.074344635009766,
          43.81692123413086,
          43.28907775878906,
          43.28887176513672,
          43.802207946777344
         ],
         "yaxis": "y"
        },
        {
         "customdata": [
          [
           "happy"
          ],
          [
           "happy"
          ],
          [
           "sad"
          ],
          [
           "happy"
          ],
          [
           "sad"
          ],
          [
           "sad"
          ],
          [
           "sad"
          ],
          [
           "sad"
          ],
          [
           "sad"
          ],
          [
           "sad"
          ],
          [
           "angry"
          ],
          [
           "sad"
          ],
          [
           "sad"
          ],
          [
           "angry"
          ],
          [
           "sad"
          ],
          [
           "sad"
          ],
          [
           "angry"
          ],
          [
           "sad"
          ],
          [
           "sad"
          ],
          [
           "sad"
          ],
          [
           "surprised"
          ],
          [
           "sad"
          ],
          [
           "neutral"
          ],
          [
           "sad"
          ],
          [
           "sad"
          ],
          [
           "sad"
          ],
          [
           "angry"
          ],
          [
           "angry"
          ],
          [
           "sad"
          ],
          [
           "sad"
          ],
          [
           "disgusted"
          ],
          [
           "sad"
          ],
          [
           "happy"
          ],
          [
           "angry"
          ],
          [
           "sad"
          ],
          [
           "sad"
          ],
          [
           "sad"
          ],
          [
           "sad"
          ],
          [
           "sad"
          ],
          [
           "sad"
          ],
          [
           "sad"
          ],
          [
           "sad"
          ],
          [
           "sad"
          ],
          [
           "sad"
          ],
          [
           "sad"
          ],
          [
           "sad"
          ],
          [
           "sad"
          ],
          [
           "sad"
          ],
          [
           "sad"
          ],
          [
           "sad"
          ],
          [
           "sad"
          ],
          [
           "angry"
          ],
          [
           "angry"
          ],
          [
           "angry"
          ]
         ],
         "hovertemplate": "Label=sad<br>x=%{x}<br>y=%{y}<br>Predictions=%{customdata[0]}<extra></extra>",
         "legendgroup": "sad",
         "marker": {
          "color": "#FFA15A",
          "opacity": 0.2,
          "size": 12,
          "symbol": "circle"
         },
         "mode": "markers",
         "name": "sad",
         "showlegend": false,
         "type": "scattergl",
         "x": [
          -15.239240646362305,
          -14.147061347961426,
          22.94577980041504,
          -27.01239776611328,
          -27.189434051513672,
          -27.794021606445312,
          -41.78894805908203,
          -40.66866683959961,
          -42.48318862915039,
          -42.41917037963867,
          -39.3524284362793,
          28.033334732055664,
          33.048099517822266,
          -14.158856391906738,
          -10.989398956298828,
          31.550914764404297,
          29.386512756347656,
          -10.659279823303223,
          -9.956546783447266,
          -13.008674621582031,
          -21.01313591003418,
          -29.097497940063477,
          -29.107624053955078,
          -28.724376678466797,
          25.321491241455078,
          -28.67148780822754,
          24.76508903503418,
          -12.857624053955078,
          -19.063173294067383,
          34.57292938232422,
          33.06155776977539,
          -17.59597396850586,
          -1.0487034320831299,
          -2.1029837131500244,
          23.9741268157959,
          -38.13728713989258,
          -1.4344154596328735,
          17.51839828491211,
          14.241744995117188,
          25.271650314331055,
          26.46108627319336,
          26.660999298095703,
          28.861663818359375,
          30.508991241455078,
          28.812999725341797,
          18.899925231933594,
          -8.029606819152832,
          -12.73385238647461,
          -40.061248779296875,
          -39.311161041259766,
          19.693138122558594,
          35.84831619262695,
          21.217626571655273,
          24.305557250976562
         ],
         "xaxis": "x",
         "y": [
          -42.23183822631836,
          6.338018894195557,
          30.111722946166992,
          3.156100034713745,
          3.7569873332977295,
          2.7867040634155273,
          15.77741527557373,
          13.129758834838867,
          15.219549179077148,
          14.168048858642578,
          11.9982328414917,
          -26.036151885986328,
          -20.007150650024414,
          -36.487579345703125,
          -34.65713119506836,
          -8.996831893920898,
          -8.499268531799316,
          7.209721565246582,
          -41.924442291259766,
          7.82078218460083,
          -36.90681457519531,
          19.170286178588867,
          19.912044525146484,
          19.391767501831055,
          -27.524885177612305,
          20.016448974609375,
          -27.094505310058594,
          -42.85374069213867,
          0.5902104377746582,
          -12.001947402954102,
          -13.05142593383789,
          -0.684058427810669,
          -49.51292037963867,
          -51.646427154541016,
          28.337867736816406,
          19.48723030090332,
          -48.418174743652344,
          32.28477096557617,
          42.06755065917969,
          23.390451431274414,
          23.331937789916992,
          23.735931396484375,
          21.560474395751953,
          20.908071517944336,
          21.531068801879883,
          28.681997299194336,
          -36.99026107788086,
          3.6108601093292236,
          -19.235919952392578,
          -19.67784309387207,
          24.88661003112793,
          -1.9931159019470215,
          42.210208892822266,
          42.04307556152344
         ],
         "yaxis": "y"
        },
        {
         "customdata": [
          [
           "sad"
          ],
          [
           "angry"
          ],
          [
           "angry"
          ],
          [
           "angry"
          ],
          [
           "sad"
          ],
          [
           "angry"
          ],
          [
           "angry"
          ],
          [
           "angry"
          ],
          [
           "angry"
          ],
          [
           "angry"
          ],
          [
           "angry"
          ],
          [
           "sad"
          ],
          [
           "angry"
          ],
          [
           "happy"
          ],
          [
           "angry"
          ],
          [
           "angry"
          ],
          [
           "angry"
          ],
          [
           "surprised"
          ],
          [
           "happy"
          ],
          [
           "sad"
          ],
          [
           "angry"
          ],
          [
           "angry"
          ],
          [
           "angry"
          ],
          [
           "angry"
          ],
          [
           "angry"
          ],
          [
           "disgusted"
          ],
          [
           "angry"
          ],
          [
           "angry"
          ],
          [
           "disgusted"
          ],
          [
           "angry"
          ],
          [
           "happy"
          ],
          [
           "angry"
          ],
          [
           "angry"
          ],
          [
           "angry"
          ],
          [
           "angry"
          ],
          [
           "angry"
          ],
          [
           "angry"
          ],
          [
           "happy"
          ],
          [
           "happy"
          ],
          [
           "angry"
          ],
          [
           "angry"
          ],
          [
           "angry"
          ],
          [
           "angry"
          ],
          [
           "neutral"
          ],
          [
           "angry"
          ],
          [
           "angry"
          ]
         ],
         "hovertemplate": "Label=angry<br>x=%{x}<br>y=%{y}<br>Predictions=%{customdata[0]}<extra></extra>",
         "legendgroup": "angry",
         "marker": {
          "color": "#636EFA",
          "opacity": 0.2,
          "size": 12,
          "symbol": "circle"
         },
         "mode": "markers",
         "name": "angry",
         "showlegend": false,
         "type": "scattergl",
         "x": [
          -40.347862243652344,
          -16.029699325561523,
          34.129722595214844,
          34.63303756713867,
          35.384849548339844,
          -41.330318450927734,
          -43.48625183105469,
          -7.054405212402344,
          -40.31382751464844,
          -39.09308624267578,
          -39.54033279418945,
          27.55339813232422,
          16.688196182250977,
          10.542195320129395,
          10.73619556427002,
          13.635284423828125,
          -8.530594825744629,
          29.203916549682617,
          2.5232677459716797,
          -24.444290161132812,
          -9.232643127441406,
          -13.46400260925293,
          -12.391029357910156,
          -2.9256532192230225,
          -15.725768089294434,
          11.131056785583496,
          -14.321993827819824,
          -16.595048904418945,
          -19.173377990722656,
          -17.560962677001953,
          -1.8204880952835083,
          36.174232482910156,
          -3.2227373123168945,
          -37.656585693359375,
          15.070780754089355,
          27.20876693725586,
          28.05190086364746,
          27.104196548461914,
          -15.713203430175781,
          28.648059844970703,
          27.338380813598633,
          -0.878512978553772,
          22.915485382080078,
          23.33856964111328,
          23.192832946777344,
          22.749101638793945
         ],
         "xaxis": "x",
         "y": [
          -23.071306228637695,
          -36.04819107055664,
          -17.59372329711914,
          -17.653104782104492,
          -17.3432674407959,
          13.2625732421875,
          16.39007568359375,
          -47.465576171875,
          12.485068321228027,
          11.548460960388184,
          13.172564506530762,
          -26.009302139282227,
          32.889442443847656,
          41.92347717285156,
          42.324859619140625,
          38.229183197021484,
          -2.5583481788635254,
          -9.070046424865723,
          30.09262466430664,
          9.760819435119629,
          -41.04818344116211,
          6.300059795379639,
          -42.01194763183594,
          2.3983523845672607,
          -42.999267578125,
          32.20399475097656,
          9.970511436462402,
          -42.211238861083984,
          1.5974539518356323,
          -0.6575087308883667,
          -49.85844039916992,
          -16.536823272705078,
          -49.98432540893555,
          19.716278076171875,
          41.663291931152344,
          20.888883590698242,
          23.143543243408203,
          23.21303939819336,
          -34.444583892822266,
          -9.157988548278809,
          -9.790775299072266,
          3.501088857650757,
          42.4140510559082,
          42.79749298095703,
          43.45390319824219,
          44.11992645263672
         ],
         "yaxis": "y"
        },
        {
         "customdata": [
          [
           "neutral"
          ],
          [
           "neutral"
          ],
          [
           "neutral"
          ],
          [
           "neutral"
          ],
          [
           "neutral"
          ],
          [
           "neutral"
          ],
          [
           "neutral"
          ],
          [
           "neutral"
          ],
          [
           "angry"
          ],
          [
           "disgusted"
          ],
          [
           "neutral"
          ],
          [
           "neutral"
          ],
          [
           "neutral"
          ],
          [
           "neutral"
          ],
          [
           "neutral"
          ],
          [
           "neutral"
          ],
          [
           "neutral"
          ],
          [
           "neutral"
          ],
          [
           "neutral"
          ],
          [
           "neutral"
          ],
          [
           "neutral"
          ],
          [
           "sad"
          ],
          [
           "neutral"
          ],
          [
           "neutral"
          ],
          [
           "neutral"
          ],
          [
           "neutral"
          ],
          [
           "neutral"
          ],
          [
           "neutral"
          ],
          [
           "neutral"
          ],
          [
           "neutral"
          ],
          [
           "happy"
          ],
          [
           "surprised"
          ],
          [
           "angry"
          ],
          [
           "happy"
          ],
          [
           "sad"
          ],
          [
           "neutral"
          ],
          [
           "neutral"
          ],
          [
           "surprised"
          ],
          [
           "neutral"
          ],
          [
           "neutral"
          ],
          [
           "sad"
          ],
          [
           "neutral"
          ],
          [
           "neutral"
          ],
          [
           "neutral"
          ],
          [
           "neutral"
          ],
          [
           "neutral"
          ],
          [
           "happy"
          ]
         ],
         "hovertemplate": "Label=neutral<br>x=%{x}<br>y=%{y}<br>Predictions=%{customdata[0]}<extra></extra>",
         "legendgroup": "neutral",
         "marker": {
          "color": "#AB63FA",
          "opacity": 0.2,
          "size": 12,
          "symbol": "circle"
         },
         "mode": "markers",
         "name": "neutral",
         "showlegend": false,
         "type": "scattergl",
         "x": [
          33.996150970458984,
          -43.72062301635742,
          -43.748985290527344,
          -42.585655212402344,
          -38.77237319946289,
          -39.15742492675781,
          -38.64978790283203,
          17.764663696289062,
          13.395828247070312,
          13.871421813964844,
          13.6104736328125,
          -23.48662757873535,
          -22.22153091430664,
          -41.16389846801758,
          -18.356332778930664,
          -12.169379234313965,
          -16.465341567993164,
          -20.06650161743164,
          -28.789779663085938,
          11.145788192749023,
          -12.635600090026855,
          -17.725847244262695,
          19.09981346130371,
          20.817594528198242,
          -2.260435104370117,
          -37.833187103271484,
          -37.30929946899414,
          -1.5009418725967407,
          18.7305850982666,
          19.89495277404785,
          14.271474838256836,
          26.928098678588867,
          27.227502822875977,
          28.65789222717285,
          27.932369232177734,
          27.456594467163086,
          27.087369918823242,
          36.49604797363281,
          16.753253936767578,
          26.261842727661133,
          -29.68750762939453,
          -16.287967681884766,
          -11.503993034362793,
          -10.396193504333496,
          -4.542495250701904,
          -5.13170051574707,
          21.626707077026367
         ],
         "xaxis": "x",
         "y": [
          -17.30267333984375,
          15.808172225952148,
          16.496177673339844,
          14.122089385986328,
          12.199338912963867,
          13.275129318237305,
          11.546534538269043,
          33.522705078125,
          39.655887603759766,
          37.83897018432617,
          38.32844543457031,
          10.551862716674805,
          4.252117156982422,
          -21.874332427978516,
          10.145968437194824,
          -35.038177490234375,
          -34.19129943847656,
          -36.8842887878418,
          19.503395080566406,
          32.21302795410156,
          -40.076622009277344,
          -0.11030206084251404,
          27.13822364807129,
          27.453067779541016,
          -50.78306579589844,
          19.371685028076172,
          19.838735580444336,
          -49.173152923583984,
          33.6029167175293,
          36.35329818725586,
          42.033138275146484,
          25.52338218688965,
          24.113162994384766,
          21.59801483154297,
          21.661836624145508,
          20.99356460571289,
          23.050016403198242,
          -2.34926176071167,
          37.56482696533203,
          -14.309172630310059,
          5.696734428405762,
          1.6965912580490112,
          -38.93822479248047,
          6.5800580978393555,
          1.4443241357803345,
          0.518944263458252,
          42.73482894897461
         ],
         "yaxis": "y"
        }
       ],
       "layout": {
        "legend": {
         "title": {
          "text": "Predictions, Correct"
         },
         "tracegroupgap": 0
        },
        "margin": {
         "t": 60
        },
        "template": {
         "data": {
          "bar": [
           {
            "error_x": {
             "color": "#2a3f5f"
            },
            "error_y": {
             "color": "#2a3f5f"
            },
            "marker": {
             "line": {
              "color": "#E5ECF6",
              "width": 0.5
             },
             "pattern": {
              "fillmode": "overlay",
              "size": 10,
              "solidity": 0.2
             }
            },
            "type": "bar"
           }
          ],
          "barpolar": [
           {
            "marker": {
             "line": {
              "color": "#E5ECF6",
              "width": 0.5
             },
             "pattern": {
              "fillmode": "overlay",
              "size": 10,
              "solidity": 0.2
             }
            },
            "type": "barpolar"
           }
          ],
          "carpet": [
           {
            "aaxis": {
             "endlinecolor": "#2a3f5f",
             "gridcolor": "white",
             "linecolor": "white",
             "minorgridcolor": "white",
             "startlinecolor": "#2a3f5f"
            },
            "baxis": {
             "endlinecolor": "#2a3f5f",
             "gridcolor": "white",
             "linecolor": "white",
             "minorgridcolor": "white",
             "startlinecolor": "#2a3f5f"
            },
            "type": "carpet"
           }
          ],
          "choropleth": [
           {
            "colorbar": {
             "outlinewidth": 0,
             "ticks": ""
            },
            "type": "choropleth"
           }
          ],
          "contour": [
           {
            "colorbar": {
             "outlinewidth": 0,
             "ticks": ""
            },
            "colorscale": [
             [
              0,
              "#0d0887"
             ],
             [
              0.1111111111111111,
              "#46039f"
             ],
             [
              0.2222222222222222,
              "#7201a8"
             ],
             [
              0.3333333333333333,
              "#9c179e"
             ],
             [
              0.4444444444444444,
              "#bd3786"
             ],
             [
              0.5555555555555556,
              "#d8576b"
             ],
             [
              0.6666666666666666,
              "#ed7953"
             ],
             [
              0.7777777777777778,
              "#fb9f3a"
             ],
             [
              0.8888888888888888,
              "#fdca26"
             ],
             [
              1,
              "#f0f921"
             ]
            ],
            "type": "contour"
           }
          ],
          "contourcarpet": [
           {
            "colorbar": {
             "outlinewidth": 0,
             "ticks": ""
            },
            "type": "contourcarpet"
           }
          ],
          "heatmap": [
           {
            "colorbar": {
             "outlinewidth": 0,
             "ticks": ""
            },
            "colorscale": [
             [
              0,
              "#0d0887"
             ],
             [
              0.1111111111111111,
              "#46039f"
             ],
             [
              0.2222222222222222,
              "#7201a8"
             ],
             [
              0.3333333333333333,
              "#9c179e"
             ],
             [
              0.4444444444444444,
              "#bd3786"
             ],
             [
              0.5555555555555556,
              "#d8576b"
             ],
             [
              0.6666666666666666,
              "#ed7953"
             ],
             [
              0.7777777777777778,
              "#fb9f3a"
             ],
             [
              0.8888888888888888,
              "#fdca26"
             ],
             [
              1,
              "#f0f921"
             ]
            ],
            "type": "heatmap"
           }
          ],
          "heatmapgl": [
           {
            "colorbar": {
             "outlinewidth": 0,
             "ticks": ""
            },
            "colorscale": [
             [
              0,
              "#0d0887"
             ],
             [
              0.1111111111111111,
              "#46039f"
             ],
             [
              0.2222222222222222,
              "#7201a8"
             ],
             [
              0.3333333333333333,
              "#9c179e"
             ],
             [
              0.4444444444444444,
              "#bd3786"
             ],
             [
              0.5555555555555556,
              "#d8576b"
             ],
             [
              0.6666666666666666,
              "#ed7953"
             ],
             [
              0.7777777777777778,
              "#fb9f3a"
             ],
             [
              0.8888888888888888,
              "#fdca26"
             ],
             [
              1,
              "#f0f921"
             ]
            ],
            "type": "heatmapgl"
           }
          ],
          "histogram": [
           {
            "marker": {
             "pattern": {
              "fillmode": "overlay",
              "size": 10,
              "solidity": 0.2
             }
            },
            "type": "histogram"
           }
          ],
          "histogram2d": [
           {
            "colorbar": {
             "outlinewidth": 0,
             "ticks": ""
            },
            "colorscale": [
             [
              0,
              "#0d0887"
             ],
             [
              0.1111111111111111,
              "#46039f"
             ],
             [
              0.2222222222222222,
              "#7201a8"
             ],
             [
              0.3333333333333333,
              "#9c179e"
             ],
             [
              0.4444444444444444,
              "#bd3786"
             ],
             [
              0.5555555555555556,
              "#d8576b"
             ],
             [
              0.6666666666666666,
              "#ed7953"
             ],
             [
              0.7777777777777778,
              "#fb9f3a"
             ],
             [
              0.8888888888888888,
              "#fdca26"
             ],
             [
              1,
              "#f0f921"
             ]
            ],
            "type": "histogram2d"
           }
          ],
          "histogram2dcontour": [
           {
            "colorbar": {
             "outlinewidth": 0,
             "ticks": ""
            },
            "colorscale": [
             [
              0,
              "#0d0887"
             ],
             [
              0.1111111111111111,
              "#46039f"
             ],
             [
              0.2222222222222222,
              "#7201a8"
             ],
             [
              0.3333333333333333,
              "#9c179e"
             ],
             [
              0.4444444444444444,
              "#bd3786"
             ],
             [
              0.5555555555555556,
              "#d8576b"
             ],
             [
              0.6666666666666666,
              "#ed7953"
             ],
             [
              0.7777777777777778,
              "#fb9f3a"
             ],
             [
              0.8888888888888888,
              "#fdca26"
             ],
             [
              1,
              "#f0f921"
             ]
            ],
            "type": "histogram2dcontour"
           }
          ],
          "mesh3d": [
           {
            "colorbar": {
             "outlinewidth": 0,
             "ticks": ""
            },
            "type": "mesh3d"
           }
          ],
          "parcoords": [
           {
            "line": {
             "colorbar": {
              "outlinewidth": 0,
              "ticks": ""
             }
            },
            "type": "parcoords"
           }
          ],
          "pie": [
           {
            "automargin": true,
            "type": "pie"
           }
          ],
          "scatter": [
           {
            "fillpattern": {
             "fillmode": "overlay",
             "size": 10,
             "solidity": 0.2
            },
            "type": "scatter"
           }
          ],
          "scatter3d": [
           {
            "line": {
             "colorbar": {
              "outlinewidth": 0,
              "ticks": ""
             }
            },
            "marker": {
             "colorbar": {
              "outlinewidth": 0,
              "ticks": ""
             }
            },
            "type": "scatter3d"
           }
          ],
          "scattercarpet": [
           {
            "marker": {
             "colorbar": {
              "outlinewidth": 0,
              "ticks": ""
             }
            },
            "type": "scattercarpet"
           }
          ],
          "scattergeo": [
           {
            "marker": {
             "colorbar": {
              "outlinewidth": 0,
              "ticks": ""
             }
            },
            "type": "scattergeo"
           }
          ],
          "scattergl": [
           {
            "marker": {
             "colorbar": {
              "outlinewidth": 0,
              "ticks": ""
             }
            },
            "type": "scattergl"
           }
          ],
          "scattermapbox": [
           {
            "marker": {
             "colorbar": {
              "outlinewidth": 0,
              "ticks": ""
             }
            },
            "type": "scattermapbox"
           }
          ],
          "scatterpolar": [
           {
            "marker": {
             "colorbar": {
              "outlinewidth": 0,
              "ticks": ""
             }
            },
            "type": "scatterpolar"
           }
          ],
          "scatterpolargl": [
           {
            "marker": {
             "colorbar": {
              "outlinewidth": 0,
              "ticks": ""
             }
            },
            "type": "scatterpolargl"
           }
          ],
          "scatterternary": [
           {
            "marker": {
             "colorbar": {
              "outlinewidth": 0,
              "ticks": ""
             }
            },
            "type": "scatterternary"
           }
          ],
          "surface": [
           {
            "colorbar": {
             "outlinewidth": 0,
             "ticks": ""
            },
            "colorscale": [
             [
              0,
              "#0d0887"
             ],
             [
              0.1111111111111111,
              "#46039f"
             ],
             [
              0.2222222222222222,
              "#7201a8"
             ],
             [
              0.3333333333333333,
              "#9c179e"
             ],
             [
              0.4444444444444444,
              "#bd3786"
             ],
             [
              0.5555555555555556,
              "#d8576b"
             ],
             [
              0.6666666666666666,
              "#ed7953"
             ],
             [
              0.7777777777777778,
              "#fb9f3a"
             ],
             [
              0.8888888888888888,
              "#fdca26"
             ],
             [
              1,
              "#f0f921"
             ]
            ],
            "type": "surface"
           }
          ],
          "table": [
           {
            "cells": {
             "fill": {
              "color": "#EBF0F8"
             },
             "line": {
              "color": "white"
             }
            },
            "header": {
             "fill": {
              "color": "#C8D4E3"
             },
             "line": {
              "color": "white"
             }
            },
            "type": "table"
           }
          ]
         },
         "layout": {
          "annotationdefaults": {
           "arrowcolor": "#2a3f5f",
           "arrowhead": 0,
           "arrowwidth": 1
          },
          "autotypenumbers": "strict",
          "coloraxis": {
           "colorbar": {
            "outlinewidth": 0,
            "ticks": ""
           }
          },
          "colorscale": {
           "diverging": [
            [
             0,
             "#8e0152"
            ],
            [
             0.1,
             "#c51b7d"
            ],
            [
             0.2,
             "#de77ae"
            ],
            [
             0.3,
             "#f1b6da"
            ],
            [
             0.4,
             "#fde0ef"
            ],
            [
             0.5,
             "#f7f7f7"
            ],
            [
             0.6,
             "#e6f5d0"
            ],
            [
             0.7,
             "#b8e186"
            ],
            [
             0.8,
             "#7fbc41"
            ],
            [
             0.9,
             "#4d9221"
            ],
            [
             1,
             "#276419"
            ]
           ],
           "sequential": [
            [
             0,
             "#0d0887"
            ],
            [
             0.1111111111111111,
             "#46039f"
            ],
            [
             0.2222222222222222,
             "#7201a8"
            ],
            [
             0.3333333333333333,
             "#9c179e"
            ],
            [
             0.4444444444444444,
             "#bd3786"
            ],
            [
             0.5555555555555556,
             "#d8576b"
            ],
            [
             0.6666666666666666,
             "#ed7953"
            ],
            [
             0.7777777777777778,
             "#fb9f3a"
            ],
            [
             0.8888888888888888,
             "#fdca26"
            ],
            [
             1,
             "#f0f921"
            ]
           ],
           "sequentialminus": [
            [
             0,
             "#0d0887"
            ],
            [
             0.1111111111111111,
             "#46039f"
            ],
            [
             0.2222222222222222,
             "#7201a8"
            ],
            [
             0.3333333333333333,
             "#9c179e"
            ],
            [
             0.4444444444444444,
             "#bd3786"
            ],
            [
             0.5555555555555556,
             "#d8576b"
            ],
            [
             0.6666666666666666,
             "#ed7953"
            ],
            [
             0.7777777777777778,
             "#fb9f3a"
            ],
            [
             0.8888888888888888,
             "#fdca26"
            ],
            [
             1,
             "#f0f921"
            ]
           ]
          },
          "colorway": [
           "#636efa",
           "#EF553B",
           "#00cc96",
           "#ab63fa",
           "#FFA15A",
           "#19d3f3",
           "#FF6692",
           "#B6E880",
           "#FF97FF",
           "#FECB52"
          ],
          "font": {
           "color": "#2a3f5f"
          },
          "geo": {
           "bgcolor": "white",
           "lakecolor": "white",
           "landcolor": "#E5ECF6",
           "showlakes": true,
           "showland": true,
           "subunitcolor": "white"
          },
          "hoverlabel": {
           "align": "left"
          },
          "hovermode": "closest",
          "mapbox": {
           "style": "light"
          },
          "paper_bgcolor": "white",
          "plot_bgcolor": "#E5ECF6",
          "polar": {
           "angularaxis": {
            "gridcolor": "white",
            "linecolor": "white",
            "ticks": ""
           },
           "bgcolor": "#E5ECF6",
           "radialaxis": {
            "gridcolor": "white",
            "linecolor": "white",
            "ticks": ""
           }
          },
          "scene": {
           "xaxis": {
            "backgroundcolor": "#E5ECF6",
            "gridcolor": "white",
            "gridwidth": 2,
            "linecolor": "white",
            "showbackground": true,
            "ticks": "",
            "zerolinecolor": "white"
           },
           "yaxis": {
            "backgroundcolor": "#E5ECF6",
            "gridcolor": "white",
            "gridwidth": 2,
            "linecolor": "white",
            "showbackground": true,
            "ticks": "",
            "zerolinecolor": "white"
           },
           "zaxis": {
            "backgroundcolor": "#E5ECF6",
            "gridcolor": "white",
            "gridwidth": 2,
            "linecolor": "white",
            "showbackground": true,
            "ticks": "",
            "zerolinecolor": "white"
           }
          },
          "shapedefaults": {
           "line": {
            "color": "#2a3f5f"
           }
          },
          "ternary": {
           "aaxis": {
            "gridcolor": "white",
            "linecolor": "white",
            "ticks": ""
           },
           "baxis": {
            "gridcolor": "white",
            "linecolor": "white",
            "ticks": ""
           },
           "bgcolor": "#E5ECF6",
           "caxis": {
            "gridcolor": "white",
            "linecolor": "white",
            "ticks": ""
           }
          },
          "title": {
           "x": 0.05
          },
          "xaxis": {
           "automargin": true,
           "gridcolor": "white",
           "linecolor": "white",
           "ticks": "",
           "title": {
            "standoff": 15
           },
           "zerolinecolor": "white",
           "zerolinewidth": 2
          },
          "yaxis": {
           "automargin": true,
           "gridcolor": "white",
           "linecolor": "white",
           "ticks": "",
           "title": {
            "standoff": 15
           },
           "zerolinecolor": "white",
           "zerolinewidth": 2
          }
         }
        },
        "xaxis": {
         "anchor": "y",
         "domain": [
          0,
          1
         ],
         "title": {
          "text": "x"
         }
        },
        "yaxis": {
         "anchor": "x",
         "domain": [
          0,
          1
         ],
         "title": {
          "text": "y"
         }
        }
       }
      },
      "text/html": [
       "<div>                            <div id=\"58964ad4-0078-4db8-8c22-215f7e431bff\" class=\"plotly-graph-div\" style=\"height:525px; width:100%;\"></div>            <script type=\"text/javascript\">                require([\"plotly\"], function(Plotly) {                    window.PLOTLYENV=window.PLOTLYENV || {};                                    if (document.getElementById(\"58964ad4-0078-4db8-8c22-215f7e431bff\")) {                    Plotly.newPlot(                        \"58964ad4-0078-4db8-8c22-215f7e431bff\",                        [{\"customdata\":[[\"surprised\"],[\"surprised\"],[\"surprised\"],[\"surprised\"],[\"surprised\"],[\"surprised\"],[\"surprised\"],[\"surprised\"],[\"surprised\"],[\"surprised\"],[\"surprised\"],[\"surprised\"],[\"surprised\"],[\"surprised\"],[\"surprised\"],[\"surprised\"],[\"surprised\"],[\"surprised\"],[\"surprised\"],[\"surprised\"],[\"surprised\"],[\"surprised\"],[\"surprised\"],[\"surprised\"],[\"surprised\"],[\"surprised\"],[\"surprised\"],[\"surprised\"],[\"surprised\"],[\"surprised\"],[\"surprised\"],[\"surprised\"],[\"surprised\"],[\"surprised\"],[\"surprised\"],[\"surprised\"],[\"surprised\"],[\"surprised\"],[\"surprised\"],[\"surprised\"]],\"hovertemplate\":\"Predictions=surprised\\u003cbr\\u003eCorrect=True\\u003cbr\\u003ex=%{x}\\u003cbr\\u003ey=%{y}\\u003cbr\\u003eLabel=%{customdata[0]}\\u003cextra\\u003e\\u003c\\u002fextra\\u003e\",\"legendgroup\":\"surprised, True\",\"marker\":{\"color\":\"#19D3F3\",\"symbol\":\"circle\"},\"mode\":\"markers\",\"name\":\"surprised, True\",\"showlegend\":true,\"x\":[-11.725500106811523,-13.533727645874023,-26.54584312438965,-26.9787654876709,-27.105703353881836,34.876338958740234,20.56986427307129,-7.956020832061768,28.18902015686035,27.955245971679688,27.53016471862793,35.64750671386719,-13.179807662963867,-14.36856746673584,19.843425750732422,-12.351123809814453,-3.712498188018799,-29.575143814086914,-29.589771270751953,-29.22947120666504,24.488710403442383,34.42399215698242,-18.732633590698242,-19.238588333129883,33.40890121459961,20.94757652282715,-2.9799160957336426,-0.49065589904785156,-37.515438079833984,-2.20167875289917,-3.343123197555542,18.598045349121094,26.05025863647461,-11.176942825317383,-40.4260368347168,-40.828773498535156,-39.74783706665039,-2.9180190563201904,-5.076242923736572,24.733203887939453],\"xaxis\":\"x\",\"y\":[11.723140716552734,-42.27842712402344,3.7338056564331055,4.294079303741455,3.777310609817505,-17.72536277770996,-14.801640510559082,-47.439239501953125,-26.321956634521484,-26.98733139038086,-26.44352912902832,-18.5686092376709,-35.735836029052734,-34.91883850097656,24.514320373535156,-41.958030700683594,0.7558667659759521,19.541288375854492,19.203386306762695,19.082786560058594,-27.127668380737305,-12.12365436553955,-0.6025807857513428,-0.377390593290329,-13.522680282592773,27.603965759277344,-51.019779205322266,-49.479652404785156,19.696571350097656,-48.99983596801758,-49.57712173461914,33.52159881591797,22.948991775512695,-35.97902297973633,-21.7990665435791,-19.876522064208984,-20.244279861450195,0.7006110548973083,0.540727972984314,42.649620056152344],\"yaxis\":\"y\",\"type\":\"scattergl\"},{\"customdata\":[[\"angry\"],[\"happy\"],[\"happy\"],[\"sad\"],[\"disgusted\"],[\"neutral\"],[\"neutral\"],[\"happy\"]],\"hovertemplate\":\"Predictions=surprised\\u003cbr\\u003eCorrect=False\\u003cbr\\u003ex=%{x}\\u003cbr\\u003ey=%{y}\\u003cbr\\u003eLabel=%{customdata[0]}\\u003cextra\\u003e\\u003c\\u002fextra\\u003e\",\"legendgroup\":\"surprised, False\",\"marker\":{\"color\":\"#19D3F3\",\"symbol\":\"x\"},\"mode\":\"markers\",\"name\":\"surprised, False\",\"showlegend\":true,\"x\":[29.203916549682617,30.602863311767578,-4.981361389160156,-21.01313591003418,-2.2869584560394287,26.928098678588867,36.49604797363281,35.749298095703125],\"xaxis\":\"x\",\"y\":[-9.070046424865723,-8.946255683898926,-29.549083709716797,-36.90681457519531,-47.860801696777344,25.52338218688965,-2.34926176071167,-1.9505934715270996],\"yaxis\":\"y\",\"type\":\"scattergl\"},{\"customdata\":[[\"happy\"],[\"happy\"],[\"happy\"],[\"happy\"],[\"happy\"],[\"happy\"],[\"happy\"],[\"happy\"],[\"happy\"],[\"happy\"],[\"happy\"],[\"happy\"],[\"happy\"],[\"happy\"],[\"happy\"],[\"happy\"],[\"happy\"],[\"happy\"],[\"happy\"],[\"happy\"],[\"happy\"],[\"happy\"],[\"happy\"],[\"happy\"],[\"happy\"],[\"happy\"],[\"happy\"],[\"happy\"],[\"happy\"],[\"happy\"],[\"happy\"],[\"happy\"],[\"happy\"],[\"happy\"],[\"happy\"],[\"happy\"],[\"happy\"],[\"happy\"],[\"happy\"],[\"happy\"],[\"happy\"],[\"happy\"],[\"happy\"],[\"happy\"],[\"happy\"],[\"happy\"],[\"happy\"],[\"happy\"],[\"happy\"],[\"happy\"],[\"happy\"]],\"hovertemplate\":\"Predictions=happy\\u003cbr\\u003eCorrect=True\\u003cbr\\u003ex=%{x}\\u003cbr\\u003ey=%{y}\\u003cbr\\u003eLabel=%{customdata[0]}\\u003cextra\\u003e\\u003c\\u002fextra\\u003e\",\"legendgroup\":\"happy, True\",\"marker\":{\"color\":\"#00CC96\",\"symbol\":\"circle\"},\"mode\":\"markers\",\"name\":\"happy, True\",\"showlegend\":true,\"x\":[-14.765125274658203,-12.686431884765625,34.82197189331055,-27.82823371887207,-43.32770919799805,-40.13063049316406,-43.730106353759766,-42.977813720703125,-40.50055694580078,-39.677799224853516,-25.87444496154785,28.06441307067871,13.37726879119873,-12.192888259887695,-12.594975471496582,-19.891515731811523,-16.136974334716797,-16.093982696533203,32.08506774902344,-3.7894294261932373,-20.46196174621582,-29.634788513183594,24.562026977539062,-12.797628402709961,-14.65580940246582,-18.78435516357422,33.641971588134766,18.931209564208984,20.313018798828125,-2.233682870864868,-2.256772041320801,-3.1404287815093994,-3.2037370204925537,-1.9958891868591309,19.918474197387695,17.521032333374023,14.752206802368164,26.355716705322266,26.816471099853516,29.187231063842773,29.721155166625977,23.065200805664062,-8.881786346435547,-12.76051139831543,25.45203971862793,-2.35332989692688,22.730974197387695,23.390640258789062,23.323339462280273,22.255088806152344,22.556598663330078],\"xaxis\":\"x\",\"y\":[-42.24330139160156,-37.01607894897461,-17.210430145263672,2.927506446838379,16.052072525024414,11.665462493896484,15.114078521728516,14.181212425231934,12.82445240020752,12.915325164794922,15.047268867492676,-26.622682571411133,39.80457305908203,-0.9801750779151917,-35.046207427978516,5.84687614440918,-33.83302307128906,-33.47542190551758,-3.590977668762207,-27.947660446166992,-36.77698516845703,19.789875030517578,-27.521846771240234,8.581527709960938,-41.74968338012695,0.09714814275503159,-12.515691757202148,27.142574310302734,26.958740234375,-48.111671447753906,-48.32467269897461,-49.89720916748047,-49.583396911621094,-47.589412689208984,35.13416290283203,32.30202865600586,41.36164855957031,24.47357940673828,22.843189239501953,20.488079071044922,20.704959869384766,35.258079528808594,-36.94932174682617,3.691744804382324,27.10072898864746,1.4722275733947754,41.72629165649414,44.074344635009766,43.81692123413086,43.28907775878906,43.802207946777344],\"yaxis\":\"y\",\"type\":\"scattergl\"},{\"customdata\":[[\"disgusted\"],[\"sad\"],[\"sad\"],[\"sad\"],[\"surprised\"],[\"disgusted\"],[\"angry\"],[\"angry\"],[\"sad\"],[\"angry\"],[\"neutral\"],[\"surprised\"],[\"disgusted\"],[\"neutral\"],[\"angry\"],[\"angry\"],[\"neutral\"],[\"surprised\"]],\"hovertemplate\":\"Predictions=happy\\u003cbr\\u003eCorrect=False\\u003cbr\\u003ex=%{x}\\u003cbr\\u003ey=%{y}\\u003cbr\\u003eLabel=%{customdata[0]}\\u003cextra\\u003e\\u003c\\u002fextra\\u003e\",\"legendgroup\":\"happy, False\",\"marker\":{\"color\":\"#00CC96\",\"symbol\":\"x\"},\"mode\":\"markers\",\"name\":\"happy, False\",\"showlegend\":true,\"x\":[-12.336583137512207,-15.239240646362305,-14.147061347961426,-27.01239776611328,34.69827651977539,-43.02274703979492,10.542195320129395,2.5232677459716797,-1.0487034320831299,-1.8204880952835083,14.271474838256836,14.34352970123291,15.603727340698242,28.65789222717285,27.104196548461914,-15.713203430175781,21.626707077026367,22.610260009765625],\"xaxis\":\"x\",\"y\":[6.513999938964844,-42.23183822631836,6.338018894195557,3.156100034713745,-16.924644470214844,14.59908676147461,41.92347717285156,30.09262466430664,-49.51292037963867,-49.85844039916992,42.033138275146484,41.4537353515625,41.12664794921875,21.59801483154297,23.21303939819336,-34.444583892822266,42.73482894897461,41.452552795410156],\"yaxis\":\"y\",\"type\":\"scattergl\"},{\"customdata\":[[\"disgusted\"],[\"disgusted\"],[\"disgusted\"],[\"disgusted\"],[\"disgusted\"],[\"disgusted\"],[\"disgusted\"],[\"disgusted\"],[\"disgusted\"],[\"disgusted\"],[\"disgusted\"],[\"disgusted\"],[\"disgusted\"],[\"disgusted\"],[\"disgusted\"],[\"disgusted\"],[\"disgusted\"],[\"disgusted\"],[\"disgusted\"],[\"disgusted\"],[\"disgusted\"],[\"disgusted\"],[\"disgusted\"],[\"disgusted\"],[\"disgusted\"],[\"disgusted\"],[\"disgusted\"],[\"disgusted\"],[\"disgusted\"],[\"disgusted\"],[\"disgusted\"],[\"disgusted\"],[\"disgusted\"],[\"disgusted\"],[\"disgusted\"],[\"disgusted\"],[\"disgusted\"]],\"hovertemplate\":\"Predictions=disgusted\\u003cbr\\u003eCorrect=True\\u003cbr\\u003ex=%{x}\\u003cbr\\u003ey=%{y}\\u003cbr\\u003eLabel=%{customdata[0]}\\u003cextra\\u003e\\u003c\\u002fextra\\u003e\",\"legendgroup\":\"disgusted, True\",\"marker\":{\"color\":\"#EF553B\",\"symbol\":\"circle\"},\"mode\":\"markers\",\"name\":\"disgusted, True\",\"showlegend\":true,\"x\":[-40.42703628540039,-16.803022384643555,34.768436431884766,35.026084899902344,22.861284255981445,-39.20261764526367,27.862638473510742,14.216453552246094,13.2725830078125,30.532346725463867,30.50922966003418,-21.081951141357422,-20.59623146057129,-11.156904220581055,-12.160935401916504,-12.302993774414062,-9.791045188903809,25.03351593017578,25.25151252746582,33.36556625366211,19.867246627807617,20.3701229095459,13.679896354675293,30.5531063079834,26.914424896240234,27.682531356811523,28.06402587890625,-12.094525337219238,-11.546581268310547,24.133625030517578,29.59817886352539,-10.686470031738281,-1.6519197225570679,24.096498489379883,22.65831184387207,23.418672561645508,28.683666229248047],\"xaxis\":\"x\",\"y\":[-22.964868545532227,-44.21087646484375,-17.316640853881836,-16.862483978271484,30.022077560424805,11.834027290344238,-26.054458618164062,37.54801940917969,40.1246223449707,-5.06476354598999,-5.0788984298706055,12.531390190124512,9.697164535522461,-34.03947830200195,-41.63948059082031,-41.63542938232422,-41.928916931152344,-27.042884826660156,-27.847030639648438,-12.795058250427246,36.595558166503906,37.23102569580078,41.53892517089844,20.65007209777832,24.876333236694336,20.385019302368164,20.889455795288086,9.110600471496582,6.875887393951416,27.017976760864258,-8.573556900024414,6.489996433258057,1.2049258947372437,43.87137222290039,43.30411148071289,43.26651382446289,-13.176050186157227],\"yaxis\":\"y\",\"type\":\"scattergl\"},{\"customdata\":[[\"happy\"],[\"neutral\"],[\"happy\"],[\"angry\"],[\"happy\"],[\"happy\"],[\"sad\"],[\"angry\"],[\"happy\"],[\"happy\"]],\"hovertemplate\":\"Predictions=disgusted\\u003cbr\\u003eCorrect=False\\u003cbr\\u003ex=%{x}\\u003cbr\\u003ey=%{y}\\u003cbr\\u003eLabel=%{customdata[0]}\\u003cextra\\u003e\\u003c\\u002fextra\\u003e\",\"legendgroup\":\"disgusted, False\",\"marker\":{\"color\":\"#EF553B\",\"symbol\":\"x\"},\"mode\":\"markers\",\"name\":\"disgusted, False\",\"showlegend\":true,\"x\":[-27.39911651611328,13.871421813964844,-12.183632850646973,11.131056785583496,25.270627975463867,-17.031051635742188,33.06155776977539,-19.173377990722656,-3.0609841346740723,25.93573570251465],\"xaxis\":\"x\",\"y\":[4.394617080688477,37.83897018432617,-0.9800812602043152,32.20399475097656,-27.645124435424805,-40.56093978881836,-13.05142593383789,1.5974539518356323,-50.9888801574707,31.90155792236328],\"yaxis\":\"y\",\"type\":\"scattergl\"},{\"customdata\":[[\"sad\"],[\"sad\"],[\"sad\"],[\"sad\"],[\"sad\"],[\"sad\"],[\"sad\"],[\"sad\"],[\"sad\"],[\"sad\"],[\"sad\"],[\"sad\"],[\"sad\"],[\"sad\"],[\"sad\"],[\"sad\"],[\"sad\"],[\"sad\"],[\"sad\"],[\"sad\"],[\"sad\"],[\"sad\"],[\"sad\"],[\"sad\"],[\"sad\"],[\"sad\"],[\"sad\"],[\"sad\"],[\"sad\"],[\"sad\"],[\"sad\"],[\"sad\"],[\"sad\"],[\"sad\"],[\"sad\"],[\"sad\"],[\"sad\"],[\"sad\"]],\"hovertemplate\":\"Predictions=sad\\u003cbr\\u003eCorrect=True\\u003cbr\\u003ex=%{x}\\u003cbr\\u003ey=%{y}\\u003cbr\\u003eLabel=%{customdata[0]}\\u003cextra\\u003e\\u003c\\u002fextra\\u003e\",\"legendgroup\":\"sad, True\",\"marker\":{\"color\":\"#FFA15A\",\"symbol\":\"circle\"},\"mode\":\"markers\",\"name\":\"sad, True\",\"showlegend\":true,\"x\":[22.94577980041504,-27.189434051513672,-27.794021606445312,-41.78894805908203,-40.66866683959961,-42.48318862915039,-42.41917037963867,28.033334732055664,33.048099517822266,-10.989398956298828,31.550914764404297,-10.659279823303223,-9.956546783447266,-13.008674621582031,-29.097497940063477,-28.724376678466797,25.321491241455078,-28.67148780822754,-19.063173294067383,34.57292938232422,-17.59597396850586,23.9741268157959,-38.13728713989258,-1.4344154596328735,17.51839828491211,14.241744995117188,25.271650314331055,26.46108627319336,26.660999298095703,28.861663818359375,30.508991241455078,28.812999725341797,18.899925231933594,-8.029606819152832,-12.73385238647461,-40.061248779296875,-39.311161041259766,19.693138122558594],\"xaxis\":\"x\",\"y\":[30.111722946166992,3.7569873332977295,2.7867040634155273,15.77741527557373,13.129758834838867,15.219549179077148,14.168048858642578,-26.036151885986328,-20.007150650024414,-34.65713119506836,-8.996831893920898,7.209721565246582,-41.924442291259766,7.82078218460083,19.170286178588867,19.391767501831055,-27.524885177612305,20.016448974609375,0.5902104377746582,-12.001947402954102,-0.684058427810669,28.337867736816406,19.48723030090332,-48.418174743652344,32.28477096557617,42.06755065917969,23.390451431274414,23.331937789916992,23.735931396484375,21.560474395751953,20.908071517944336,21.531068801879883,28.681997299194336,-36.99026107788086,3.6108601093292236,-19.235919952392578,-19.67784309387207,24.88661003112793],\"yaxis\":\"y\",\"type\":\"scattergl\"},{\"customdata\":[[\"angry\"],[\"surprised\"],[\"angry\"],[\"disgusted\"],[\"surprised\"],[\"angry\"],[\"angry\"],[\"disgusted\"],[\"neutral\"],[\"disgusted\"],[\"disgusted\"],[\"disgusted\"],[\"neutral\"],[\"neutral\"],[\"disgusted\"]],\"hovertemplate\":\"Predictions=sad\\u003cbr\\u003eCorrect=False\\u003cbr\\u003ex=%{x}\\u003cbr\\u003ey=%{y}\\u003cbr\\u003eLabel=%{customdata[0]}\\u003cextra\\u003e\\u003c\\u002fextra\\u003e\",\"legendgroup\":\"sad, False\",\"marker\":{\"color\":\"#FFA15A\",\"symbol\":\"x\"},\"mode\":\"markers\",\"name\":\"sad, False\",\"showlegend\":true,\"x\":[-40.347862243652344,-26.605297088623047,35.384849548339844,-41.893348693847656,-39.10917282104492,27.55339813232422,-24.444290161132812,-29.2993106842041,-17.725847244262695,-1.521343469619751,29.16300392150879,30.405031204223633,27.932369232177734,-29.68750762939453,24.30548858642578],\"xaxis\":\"x\",\"y\":[-23.071306228637695,3.129204034805298,-17.3432674407959,16.295738220214844,13.357952117919922,-26.009302139282227,9.760819435119629,19.90862464904785,-0.11030206084251404,-48.23388671875,20.790996551513672,19.851959228515625,21.661836624145508,5.696734428405762,42.04304504394531],\"yaxis\":\"y\",\"type\":\"scattergl\"},{\"customdata\":[[\"angry\"],[\"angry\"],[\"angry\"],[\"angry\"],[\"angry\"],[\"angry\"],[\"angry\"],[\"angry\"],[\"angry\"],[\"angry\"],[\"angry\"],[\"angry\"],[\"angry\"],[\"angry\"],[\"angry\"],[\"angry\"],[\"angry\"],[\"angry\"],[\"angry\"],[\"angry\"],[\"angry\"],[\"angry\"],[\"angry\"],[\"angry\"],[\"angry\"],[\"angry\"],[\"angry\"],[\"angry\"],[\"angry\"],[\"angry\"],[\"angry\"],[\"angry\"],[\"angry\"]],\"hovertemplate\":\"Predictions=angry\\u003cbr\\u003eCorrect=True\\u003cbr\\u003ex=%{x}\\u003cbr\\u003ey=%{y}\\u003cbr\\u003eLabel=%{customdata[0]}\\u003cextra\\u003e\\u003c\\u002fextra\\u003e\",\"legendgroup\":\"angry, True\",\"marker\":{\"color\":\"#636EFA\",\"symbol\":\"circle\"},\"mode\":\"markers\",\"name\":\"angry, True\",\"showlegend\":true,\"x\":[-16.029699325561523,34.129722595214844,34.63303756713867,-41.330318450927734,-43.48625183105469,-7.054405212402344,-40.31382751464844,-39.09308624267578,-39.54033279418945,16.688196182250977,10.73619556427002,13.635284423828125,-8.530594825744629,-9.232643127441406,-13.46400260925293,-12.391029357910156,-2.9256532192230225,-15.725768089294434,-14.321993827819824,-16.595048904418945,-17.560962677001953,36.174232482910156,-3.2227373123168945,-37.656585693359375,15.070780754089355,27.20876693725586,28.05190086364746,28.648059844970703,27.338380813598633,-0.878512978553772,22.915485382080078,23.192832946777344,22.749101638793945],\"xaxis\":\"x\",\"y\":[-36.04819107055664,-17.59372329711914,-17.653104782104492,13.2625732421875,16.39007568359375,-47.465576171875,12.485068321228027,11.548460960388184,13.172564506530762,32.889442443847656,42.324859619140625,38.229183197021484,-2.5583481788635254,-41.04818344116211,6.300059795379639,-42.01194763183594,2.3983523845672607,-42.999267578125,9.970511436462402,-42.211238861083984,-0.6575087308883667,-16.536823272705078,-49.98432540893555,19.716278076171875,41.663291931152344,20.888883590698242,23.143543243408203,-9.157988548278809,-9.790775299072266,3.501088857650757,42.4140510559082,43.45390319824219,44.11992645263672],\"yaxis\":\"y\",\"type\":\"scattergl\"},{\"customdata\":[[\"sad\"],[\"neutral\"],[\"surprised\"],[\"sad\"],[\"sad\"],[\"happy\"],[\"sad\"],[\"sad\"],[\"disgusted\"],[\"surprised\"],[\"disgusted\"],[\"sad\"],[\"disgusted\"],[\"neutral\"],[\"surprised\"],[\"disgusted\"],[\"disgusted\"],[\"sad\"],[\"sad\"],[\"sad\"],[\"happy\"]],\"hovertemplate\":\"Predictions=angry\\u003cbr\\u003eCorrect=False\\u003cbr\\u003ex=%{x}\\u003cbr\\u003ey=%{y}\\u003cbr\\u003eLabel=%{customdata[0]}\\u003cextra\\u003e\\u003c\\u002fextra\\u003e\",\"legendgroup\":\"angry, False\",\"marker\":{\"color\":\"#636EFA\",\"symbol\":\"x\"},\"mode\":\"markers\",\"name\":\"angry, False\",\"showlegend\":true,\"x\":[-39.3524284362793,13.395828247070312,31.431543350219727,-14.158856391906738,29.386512756347656,-39.73685073852539,24.76508903503418,-12.857624053955078,-14.146044731140137,-18.457813262939453,-1.393636703491211,-2.1029837131500244,15.46220588684082,27.227502822875977,28.89368438720703,-22.52216148376465,-18.218399047851562,35.84831619262695,21.217626571655273,24.305557250976562,22.25467300415039],\"xaxis\":\"x\",\"y\":[11.9982328414917,39.655887603759766,-3.96148943901062,-36.487579345703125,-8.499268531799316,-19.6688289642334,-27.094505310058594,-42.85374069213867,4.492546081542969,0.06346834450960159,-50.50077438354492,-51.646427154541016,41.11888885498047,24.113162994384766,22.648225784301758,7.506184101104736,4.343341827392578,-1.9931159019470215,42.210208892822266,42.04307556152344,43.28887176513672],\"yaxis\":\"y\",\"type\":\"scattergl\"},{\"customdata\":[[\"neutral\"],[\"neutral\"],[\"neutral\"],[\"neutral\"],[\"neutral\"],[\"neutral\"],[\"neutral\"],[\"neutral\"],[\"neutral\"],[\"neutral\"],[\"neutral\"],[\"neutral\"],[\"neutral\"],[\"neutral\"],[\"neutral\"],[\"neutral\"],[\"neutral\"],[\"neutral\"],[\"neutral\"],[\"neutral\"],[\"neutral\"],[\"neutral\"],[\"neutral\"],[\"neutral\"],[\"neutral\"],[\"neutral\"],[\"neutral\"],[\"neutral\"],[\"neutral\"],[\"neutral\"],[\"neutral\"],[\"neutral\"],[\"neutral\"],[\"neutral\"],[\"neutral\"],[\"neutral\"]],\"hovertemplate\":\"Predictions=neutral\\u003cbr\\u003eCorrect=True\\u003cbr\\u003ex=%{x}\\u003cbr\\u003ey=%{y}\\u003cbr\\u003eLabel=%{customdata[0]}\\u003cextra\\u003e\\u003c\\u002fextra\\u003e\",\"legendgroup\":\"neutral, True\",\"marker\":{\"color\":\"#AB63FA\",\"symbol\":\"circle\"},\"mode\":\"markers\",\"name\":\"neutral, True\",\"showlegend\":true,\"x\":[33.996150970458984,-43.72062301635742,-43.748985290527344,-42.585655212402344,-38.77237319946289,-39.15742492675781,-38.64978790283203,17.764663696289062,13.6104736328125,-23.48662757873535,-22.22153091430664,-41.16389846801758,-18.356332778930664,-12.169379234313965,-16.465341567993164,-20.06650161743164,-28.789779663085938,11.145788192749023,-12.635600090026855,19.09981346130371,20.817594528198242,-2.260435104370117,-37.833187103271484,-37.30929946899414,-1.5009418725967407,18.7305850982666,19.89495277404785,27.456594467163086,27.087369918823242,16.753253936767578,26.261842727661133,-16.287967681884766,-11.503993034362793,-10.396193504333496,-4.542495250701904,-5.13170051574707],\"xaxis\":\"x\",\"y\":[-17.30267333984375,15.808172225952148,16.496177673339844,14.122089385986328,12.199338912963867,13.275129318237305,11.546534538269043,33.522705078125,38.32844543457031,10.551862716674805,4.252117156982422,-21.874332427978516,10.145968437194824,-35.038177490234375,-34.19129943847656,-36.8842887878418,19.503395080566406,32.21302795410156,-40.076622009277344,27.13822364807129,27.453067779541016,-50.78306579589844,19.371685028076172,19.838735580444336,-49.173152923583984,33.6029167175293,36.35329818725586,20.99356460571289,23.050016403198242,37.56482696533203,-14.309172630310059,1.6965912580490112,-38.93822479248047,6.5800580978393555,1.4443241357803345,0.518944263458252],\"yaxis\":\"y\",\"type\":\"scattergl\"},{\"customdata\":[[\"happy\"],[\"happy\"],[\"surprised\"],[\"surprised\"],[\"happy\"],[\"sad\"],[\"disgusted\"],[\"surprised\"],[\"happy\"],[\"surprised\"],[\"disgusted\"],[\"happy\"],[\"surprised\"],[\"surprised\"],[\"surprised\"],[\"surprised\"],[\"happy\"],[\"angry\"]],\"hovertemplate\":\"Predictions=neutral\\u003cbr\\u003eCorrect=False\\u003cbr\\u003ex=%{x}\\u003cbr\\u003ey=%{y}\\u003cbr\\u003eLabel=%{customdata[0]}\\u003cextra\\u003e\\u003c\\u002fextra\\u003e\",\"legendgroup\":\"neutral, False\",\"marker\":{\"color\":\"#AB63FA\",\"symbol\":\"x\"},\"mode\":\"markers\",\"name\":\"neutral, False\",\"showlegend\":true,\"x\":[-41.57694625854492,33.04597854614258,-11.00885009765625,-11.874167442321777,-16.678333282470703,-29.107624053955078,24.8320369720459,-10.635002136230469,-2.470273733139038,-1.5783360004425049,-1.3789411783218384,20.321800231933594,19.999731063842773,15.564616203308105,29.494369506835938,-21.341596603393555,22.78404998779297,23.33856964111328],\"xaxis\":\"x\",\"y\":[16.094106674194336,-19.234840393066406,-34.62105178833008,-32.69963455200195,8.865732192993164,19.912044525146484,-27.610553741455078,-44.840965270996094,-48.92933654785156,-47.5860710144043,-47.97739791870117,37.165306091308594,43.21847915649414,41.17185592651367,20.19688606262207,10.108052253723145,42.66974639892578,42.79749298095703],\"yaxis\":\"y\",\"type\":\"scattergl\"},{\"customdata\":[[\"surprised\"],[\"surprised\"],[\"surprised\"],[\"surprised\"],[\"sad\"],[\"surprised\"],[\"surprised\"],[\"happy\"],[\"surprised\"],[\"surprised\"],[\"sad\"],[\"surprised\"],[\"surprised\"],[\"surprised\"],[\"angry\"],[\"surprised\"],[\"neutral\"],[\"surprised\"],[\"surprised\"],[\"neutral\"],[\"surprised\"],[\"surprised\"],[\"surprised\"],[\"surprised\"],[\"surprised\"],[\"surprised\"],[\"surprised\"],[\"neutral\"],[\"angry\"],[\"surprised\"],[\"surprised\"],[\"surprised\"],[\"surprised\"],[\"surprised\"],[\"surprised\"],[\"surprised\"],[\"surprised\"],[\"surprised\"],[\"surprised\"],[\"neutral\"],[\"surprised\"],[\"neutral\"],[\"neutral\"],[\"happy\"],[\"angry\"],[\"surprised\"],[\"neutral\"],[\"surprised\"],[\"surprised\"],[\"neutral\"],[\"surprised\"],[\"surprised\"],[\"surprised\"],[\"surprised\"],[\"surprised\"],[\"happy\"]],\"hovertemplate\":\"Label=surprised\\u003cbr\\u003ex=%{x}\\u003cbr\\u003ey=%{y}\\u003cbr\\u003ePredictions=%{customdata[0]}\\u003cextra\\u003e\\u003c\\u002fextra\\u003e\",\"legendgroup\":\"surprised\",\"marker\":{\"color\":\"#19D3F3\",\"opacity\":0.2,\"size\":12,\"symbol\":\"circle\"},\"mode\":\"markers\",\"name\":\"surprised\",\"showlegend\":false,\"x\":[-11.725500106811523,-13.533727645874023,-26.54584312438965,-26.9787654876709,-26.605297088623047,-27.105703353881836,34.876338958740234,34.69827651977539,20.56986427307129,-7.956020832061768,-39.10917282104492,28.18902015686035,27.955245971679688,27.53016471862793,31.431543350219727,35.64750671386719,-11.00885009765625,-13.179807662963867,-14.36856746673584,-11.874167442321777,19.843425750732422,-12.351123809814453,-3.712498188018799,-29.575143814086914,-29.589771270751953,-29.22947120666504,24.488710403442383,-10.635002136230469,-18.457813262939453,34.42399215698242,-18.732633590698242,-19.238588333129883,33.40890121459961,20.94757652282715,-2.9799160957336426,-0.49065589904785156,-37.515438079833984,-2.20167875289917,-3.343123197555542,-1.5783360004425049,18.598045349121094,19.999731063842773,15.564616203308105,14.34352970123291,28.89368438720703,26.05025863647461,29.494369506835938,-11.176942825317383,-40.4260368347168,-21.341596603393555,-40.828773498535156,-39.74783706665039,-2.9180190563201904,-5.076242923736572,24.733203887939453,22.610260009765625],\"xaxis\":\"x\",\"y\":[11.723140716552734,-42.27842712402344,3.7338056564331055,4.294079303741455,3.129204034805298,3.777310609817505,-17.72536277770996,-16.924644470214844,-14.801640510559082,-47.439239501953125,13.357952117919922,-26.321956634521484,-26.98733139038086,-26.44352912902832,-3.96148943901062,-18.5686092376709,-34.62105178833008,-35.735836029052734,-34.91883850097656,-32.69963455200195,24.514320373535156,-41.958030700683594,0.7558667659759521,19.541288375854492,19.203386306762695,19.082786560058594,-27.127668380737305,-44.840965270996094,0.06346834450960159,-12.12365436553955,-0.6025807857513428,-0.377390593290329,-13.522680282592773,27.603965759277344,-51.019779205322266,-49.479652404785156,19.696571350097656,-48.99983596801758,-49.57712173461914,-47.5860710144043,33.52159881591797,43.21847915649414,41.17185592651367,41.4537353515625,22.648225784301758,22.948991775512695,20.19688606262207,-35.97902297973633,-21.7990665435791,10.108052253723145,-19.876522064208984,-20.244279861450195,0.7006110548973083,0.540727972984314,42.649620056152344,41.452552795410156],\"yaxis\":\"y\",\"type\":\"scattergl\"},{\"customdata\":[[\"happy\"],[\"disgusted\"],[\"disgusted\"],[\"disgusted\"],[\"disgusted\"],[\"disgusted\"],[\"disgusted\"],[\"sad\"],[\"happy\"],[\"disgusted\"],[\"disgusted\"],[\"disgusted\"],[\"disgusted\"],[\"disgusted\"],[\"disgusted\"],[\"disgusted\"],[\"disgusted\"],[\"disgusted\"],[\"disgusted\"],[\"disgusted\"],[\"sad\"],[\"disgusted\"],[\"disgusted\"],[\"neutral\"],[\"angry\"],[\"disgusted\"],[\"angry\"],[\"surprised\"],[\"sad\"],[\"neutral\"],[\"disgusted\"],[\"disgusted\"],[\"happy\"],[\"angry\"],[\"disgusted\"],[\"disgusted\"],[\"disgusted\"],[\"sad\"],[\"disgusted\"],[\"disgusted\"],[\"sad\"],[\"angry\"],[\"disgusted\"],[\"angry\"],[\"disgusted\"],[\"disgusted\"],[\"disgusted\"],[\"disgusted\"],[\"disgusted\"],[\"disgusted\"],[\"sad\"],[\"disgusted\"],[\"disgusted\"],[\"disgusted\"]],\"hovertemplate\":\"Label=disgusted\\u003cbr\\u003ex=%{x}\\u003cbr\\u003ey=%{y}\\u003cbr\\u003ePredictions=%{customdata[0]}\\u003cextra\\u003e\\u003c\\u002fextra\\u003e\",\"legendgroup\":\"disgusted\",\"marker\":{\"color\":\"#EF553B\",\"opacity\":0.2,\"size\":12,\"symbol\":\"circle\"},\"mode\":\"markers\",\"name\":\"disgusted\",\"showlegend\":false,\"x\":[-12.336583137512207,-40.42703628540039,-16.803022384643555,34.768436431884766,35.026084899902344,22.861284255981445,-39.20261764526367,-41.893348693847656,-43.02274703979492,27.862638473510742,14.216453552246094,13.2725830078125,30.532346725463867,30.50922966003418,-21.081951141357422,-20.59623146057129,-11.156904220581055,-12.160935401916504,-12.302993774414062,-9.791045188903809,-29.2993106842041,25.03351593017578,25.25151252746582,24.8320369720459,-14.146044731140137,33.36556625366211,-1.393636703491211,-2.2869584560394287,-1.521343469619751,-1.3789411783218384,19.867246627807617,20.3701229095459,15.603727340698242,15.46220588684082,13.679896354675293,30.5531063079834,26.914424896240234,29.16300392150879,27.682531356811523,28.06402587890625,30.405031204223633,-22.52216148376465,-12.094525337219238,-18.218399047851562,-11.546581268310547,24.133625030517578,29.59817886352539,-10.686470031738281,-1.6519197225570679,24.096498489379883,24.30548858642578,22.65831184387207,23.418672561645508,28.683666229248047],\"xaxis\":\"x\",\"y\":[6.513999938964844,-22.964868545532227,-44.21087646484375,-17.316640853881836,-16.862483978271484,30.022077560424805,11.834027290344238,16.295738220214844,14.59908676147461,-26.054458618164062,37.54801940917969,40.1246223449707,-5.06476354598999,-5.0788984298706055,12.531390190124512,9.697164535522461,-34.03947830200195,-41.63948059082031,-41.63542938232422,-41.928916931152344,19.90862464904785,-27.042884826660156,-27.847030639648438,-27.610553741455078,4.492546081542969,-12.795058250427246,-50.50077438354492,-47.860801696777344,-48.23388671875,-47.97739791870117,36.595558166503906,37.23102569580078,41.12664794921875,41.11888885498047,41.53892517089844,20.65007209777832,24.876333236694336,20.790996551513672,20.385019302368164,20.889455795288086,19.851959228515625,7.506184101104736,9.110600471496582,4.343341827392578,6.875887393951416,27.017976760864258,-8.573556900024414,6.489996433258057,1.2049258947372437,43.87137222290039,42.04304504394531,43.30411148071289,43.26651382446289,-13.176050186157227],\"yaxis\":\"y\",\"type\":\"scattergl\"},{\"customdata\":[[\"happy\"],[\"happy\"],[\"disgusted\"],[\"happy\"],[\"happy\"],[\"happy\"],[\"happy\"],[\"happy\"],[\"neutral\"],[\"happy\"],[\"happy\"],[\"happy\"],[\"happy\"],[\"happy\"],[\"happy\"],[\"disgusted\"],[\"happy\"],[\"neutral\"],[\"happy\"],[\"happy\"],[\"happy\"],[\"happy\"],[\"surprised\"],[\"angry\"],[\"happy\"],[\"neutral\"],[\"surprised\"],[\"happy\"],[\"happy\"],[\"happy\"],[\"disgusted\"],[\"happy\"],[\"happy\"],[\"disgusted\"],[\"happy\"],[\"happy\"],[\"happy\"],[\"happy\"],[\"happy\"],[\"disgusted\"],[\"happy\"],[\"happy\"],[\"neutral\"],[\"happy\"],[\"happy\"],[\"happy\"],[\"happy\"],[\"happy\"],[\"neutral\"],[\"happy\"],[\"happy\"],[\"happy\"],[\"happy\"],[\"happy\"],[\"disgusted\"],[\"happy\"],[\"happy\"],[\"happy\"],[\"happy\"],[\"happy\"],[\"surprised\"],[\"neutral\"],[\"happy\"],[\"happy\"],[\"happy\"],[\"happy\"],[\"angry\"],[\"happy\"]],\"hovertemplate\":\"Label=happy\\u003cbr\\u003ex=%{x}\\u003cbr\\u003ey=%{y}\\u003cbr\\u003ePredictions=%{customdata[0]}\\u003cextra\\u003e\\u003c\\u002fextra\\u003e\",\"legendgroup\":\"happy\",\"marker\":{\"color\":\"#00CC96\",\"opacity\":0.2,\"size\":12,\"symbol\":\"circle\"},\"mode\":\"markers\",\"name\":\"happy\",\"showlegend\":false,\"x\":[-14.765125274658203,-12.686431884765625,-27.39911651611328,34.82197189331055,-27.82823371887207,-43.32770919799805,-40.13063049316406,-43.730106353759766,-41.57694625854492,-42.977813720703125,-40.50055694580078,-39.677799224853516,-25.87444496154785,28.06441307067871,13.37726879119873,-12.183632850646973,-12.192888259887695,33.04597854614258,-12.594975471496582,-19.891515731811523,-16.136974334716797,-16.093982696533203,30.602863311767578,-39.73685073852539,32.08506774902344,-16.678333282470703,-4.981361389160156,-3.7894294261932373,-20.46196174621582,-29.634788513183594,25.270627975463867,24.562026977539062,-12.797628402709961,-17.031051635742188,-14.65580940246582,-18.78435516357422,33.641971588134766,18.931209564208984,20.313018798828125,-3.0609841346740723,-2.233682870864868,-2.256772041320801,-2.470273733139038,-3.1404287815093994,-3.2037370204925537,-1.9958891868591309,19.918474197387695,17.521032333374023,20.321800231933594,14.752206802368164,26.355716705322266,26.816471099853516,29.187231063842773,29.721155166625977,25.93573570251465,23.065200805664062,-8.881786346435547,-12.76051139831543,25.45203971862793,-2.35332989692688,35.749298095703125,22.78404998779297,22.730974197387695,23.390640258789062,23.323339462280273,22.255088806152344,22.25467300415039,22.556598663330078],\"xaxis\":\"x\",\"y\":[-42.24330139160156,-37.01607894897461,4.394617080688477,-17.210430145263672,2.927506446838379,16.052072525024414,11.665462493896484,15.114078521728516,16.094106674194336,14.181212425231934,12.82445240020752,12.915325164794922,15.047268867492676,-26.622682571411133,39.80457305908203,-0.9800812602043152,-0.9801750779151917,-19.234840393066406,-35.046207427978516,5.84687614440918,-33.83302307128906,-33.47542190551758,-8.946255683898926,-19.6688289642334,-3.590977668762207,8.865732192993164,-29.549083709716797,-27.947660446166992,-36.77698516845703,19.789875030517578,-27.645124435424805,-27.521846771240234,8.581527709960938,-40.56093978881836,-41.74968338012695,0.09714814275503159,-12.515691757202148,27.142574310302734,26.958740234375,-50.9888801574707,-48.111671447753906,-48.32467269897461,-48.92933654785156,-49.89720916748047,-49.583396911621094,-47.589412689208984,35.13416290283203,32.30202865600586,37.165306091308594,41.36164855957031,24.47357940673828,22.843189239501953,20.488079071044922,20.704959869384766,31.90155792236328,35.258079528808594,-36.94932174682617,3.691744804382324,27.10072898864746,1.4722275733947754,-1.9505934715270996,42.66974639892578,41.72629165649414,44.074344635009766,43.81692123413086,43.28907775878906,43.28887176513672,43.802207946777344],\"yaxis\":\"y\",\"type\":\"scattergl\"},{\"customdata\":[[\"happy\"],[\"happy\"],[\"sad\"],[\"happy\"],[\"sad\"],[\"sad\"],[\"sad\"],[\"sad\"],[\"sad\"],[\"sad\"],[\"angry\"],[\"sad\"],[\"sad\"],[\"angry\"],[\"sad\"],[\"sad\"],[\"angry\"],[\"sad\"],[\"sad\"],[\"sad\"],[\"surprised\"],[\"sad\"],[\"neutral\"],[\"sad\"],[\"sad\"],[\"sad\"],[\"angry\"],[\"angry\"],[\"sad\"],[\"sad\"],[\"disgusted\"],[\"sad\"],[\"happy\"],[\"angry\"],[\"sad\"],[\"sad\"],[\"sad\"],[\"sad\"],[\"sad\"],[\"sad\"],[\"sad\"],[\"sad\"],[\"sad\"],[\"sad\"],[\"sad\"],[\"sad\"],[\"sad\"],[\"sad\"],[\"sad\"],[\"sad\"],[\"sad\"],[\"angry\"],[\"angry\"],[\"angry\"]],\"hovertemplate\":\"Label=sad\\u003cbr\\u003ex=%{x}\\u003cbr\\u003ey=%{y}\\u003cbr\\u003ePredictions=%{customdata[0]}\\u003cextra\\u003e\\u003c\\u002fextra\\u003e\",\"legendgroup\":\"sad\",\"marker\":{\"color\":\"#FFA15A\",\"opacity\":0.2,\"size\":12,\"symbol\":\"circle\"},\"mode\":\"markers\",\"name\":\"sad\",\"showlegend\":false,\"x\":[-15.239240646362305,-14.147061347961426,22.94577980041504,-27.01239776611328,-27.189434051513672,-27.794021606445312,-41.78894805908203,-40.66866683959961,-42.48318862915039,-42.41917037963867,-39.3524284362793,28.033334732055664,33.048099517822266,-14.158856391906738,-10.989398956298828,31.550914764404297,29.386512756347656,-10.659279823303223,-9.956546783447266,-13.008674621582031,-21.01313591003418,-29.097497940063477,-29.107624053955078,-28.724376678466797,25.321491241455078,-28.67148780822754,24.76508903503418,-12.857624053955078,-19.063173294067383,34.57292938232422,33.06155776977539,-17.59597396850586,-1.0487034320831299,-2.1029837131500244,23.9741268157959,-38.13728713989258,-1.4344154596328735,17.51839828491211,14.241744995117188,25.271650314331055,26.46108627319336,26.660999298095703,28.861663818359375,30.508991241455078,28.812999725341797,18.899925231933594,-8.029606819152832,-12.73385238647461,-40.061248779296875,-39.311161041259766,19.693138122558594,35.84831619262695,21.217626571655273,24.305557250976562],\"xaxis\":\"x\",\"y\":[-42.23183822631836,6.338018894195557,30.111722946166992,3.156100034713745,3.7569873332977295,2.7867040634155273,15.77741527557373,13.129758834838867,15.219549179077148,14.168048858642578,11.9982328414917,-26.036151885986328,-20.007150650024414,-36.487579345703125,-34.65713119506836,-8.996831893920898,-8.499268531799316,7.209721565246582,-41.924442291259766,7.82078218460083,-36.90681457519531,19.170286178588867,19.912044525146484,19.391767501831055,-27.524885177612305,20.016448974609375,-27.094505310058594,-42.85374069213867,0.5902104377746582,-12.001947402954102,-13.05142593383789,-0.684058427810669,-49.51292037963867,-51.646427154541016,28.337867736816406,19.48723030090332,-48.418174743652344,32.28477096557617,42.06755065917969,23.390451431274414,23.331937789916992,23.735931396484375,21.560474395751953,20.908071517944336,21.531068801879883,28.681997299194336,-36.99026107788086,3.6108601093292236,-19.235919952392578,-19.67784309387207,24.88661003112793,-1.9931159019470215,42.210208892822266,42.04307556152344],\"yaxis\":\"y\",\"type\":\"scattergl\"},{\"customdata\":[[\"sad\"],[\"angry\"],[\"angry\"],[\"angry\"],[\"sad\"],[\"angry\"],[\"angry\"],[\"angry\"],[\"angry\"],[\"angry\"],[\"angry\"],[\"sad\"],[\"angry\"],[\"happy\"],[\"angry\"],[\"angry\"],[\"angry\"],[\"surprised\"],[\"happy\"],[\"sad\"],[\"angry\"],[\"angry\"],[\"angry\"],[\"angry\"],[\"angry\"],[\"disgusted\"],[\"angry\"],[\"angry\"],[\"disgusted\"],[\"angry\"],[\"happy\"],[\"angry\"],[\"angry\"],[\"angry\"],[\"angry\"],[\"angry\"],[\"angry\"],[\"happy\"],[\"happy\"],[\"angry\"],[\"angry\"],[\"angry\"],[\"angry\"],[\"neutral\"],[\"angry\"],[\"angry\"]],\"hovertemplate\":\"Label=angry\\u003cbr\\u003ex=%{x}\\u003cbr\\u003ey=%{y}\\u003cbr\\u003ePredictions=%{customdata[0]}\\u003cextra\\u003e\\u003c\\u002fextra\\u003e\",\"legendgroup\":\"angry\",\"marker\":{\"color\":\"#636EFA\",\"opacity\":0.2,\"size\":12,\"symbol\":\"circle\"},\"mode\":\"markers\",\"name\":\"angry\",\"showlegend\":false,\"x\":[-40.347862243652344,-16.029699325561523,34.129722595214844,34.63303756713867,35.384849548339844,-41.330318450927734,-43.48625183105469,-7.054405212402344,-40.31382751464844,-39.09308624267578,-39.54033279418945,27.55339813232422,16.688196182250977,10.542195320129395,10.73619556427002,13.635284423828125,-8.530594825744629,29.203916549682617,2.5232677459716797,-24.444290161132812,-9.232643127441406,-13.46400260925293,-12.391029357910156,-2.9256532192230225,-15.725768089294434,11.131056785583496,-14.321993827819824,-16.595048904418945,-19.173377990722656,-17.560962677001953,-1.8204880952835083,36.174232482910156,-3.2227373123168945,-37.656585693359375,15.070780754089355,27.20876693725586,28.05190086364746,27.104196548461914,-15.713203430175781,28.648059844970703,27.338380813598633,-0.878512978553772,22.915485382080078,23.33856964111328,23.192832946777344,22.749101638793945],\"xaxis\":\"x\",\"y\":[-23.071306228637695,-36.04819107055664,-17.59372329711914,-17.653104782104492,-17.3432674407959,13.2625732421875,16.39007568359375,-47.465576171875,12.485068321228027,11.548460960388184,13.172564506530762,-26.009302139282227,32.889442443847656,41.92347717285156,42.324859619140625,38.229183197021484,-2.5583481788635254,-9.070046424865723,30.09262466430664,9.760819435119629,-41.04818344116211,6.300059795379639,-42.01194763183594,2.3983523845672607,-42.999267578125,32.20399475097656,9.970511436462402,-42.211238861083984,1.5974539518356323,-0.6575087308883667,-49.85844039916992,-16.536823272705078,-49.98432540893555,19.716278076171875,41.663291931152344,20.888883590698242,23.143543243408203,23.21303939819336,-34.444583892822266,-9.157988548278809,-9.790775299072266,3.501088857650757,42.4140510559082,42.79749298095703,43.45390319824219,44.11992645263672],\"yaxis\":\"y\",\"type\":\"scattergl\"},{\"customdata\":[[\"neutral\"],[\"neutral\"],[\"neutral\"],[\"neutral\"],[\"neutral\"],[\"neutral\"],[\"neutral\"],[\"neutral\"],[\"angry\"],[\"disgusted\"],[\"neutral\"],[\"neutral\"],[\"neutral\"],[\"neutral\"],[\"neutral\"],[\"neutral\"],[\"neutral\"],[\"neutral\"],[\"neutral\"],[\"neutral\"],[\"neutral\"],[\"sad\"],[\"neutral\"],[\"neutral\"],[\"neutral\"],[\"neutral\"],[\"neutral\"],[\"neutral\"],[\"neutral\"],[\"neutral\"],[\"happy\"],[\"surprised\"],[\"angry\"],[\"happy\"],[\"sad\"],[\"neutral\"],[\"neutral\"],[\"surprised\"],[\"neutral\"],[\"neutral\"],[\"sad\"],[\"neutral\"],[\"neutral\"],[\"neutral\"],[\"neutral\"],[\"neutral\"],[\"happy\"]],\"hovertemplate\":\"Label=neutral\\u003cbr\\u003ex=%{x}\\u003cbr\\u003ey=%{y}\\u003cbr\\u003ePredictions=%{customdata[0]}\\u003cextra\\u003e\\u003c\\u002fextra\\u003e\",\"legendgroup\":\"neutral\",\"marker\":{\"color\":\"#AB63FA\",\"opacity\":0.2,\"size\":12,\"symbol\":\"circle\"},\"mode\":\"markers\",\"name\":\"neutral\",\"showlegend\":false,\"x\":[33.996150970458984,-43.72062301635742,-43.748985290527344,-42.585655212402344,-38.77237319946289,-39.15742492675781,-38.64978790283203,17.764663696289062,13.395828247070312,13.871421813964844,13.6104736328125,-23.48662757873535,-22.22153091430664,-41.16389846801758,-18.356332778930664,-12.169379234313965,-16.465341567993164,-20.06650161743164,-28.789779663085938,11.145788192749023,-12.635600090026855,-17.725847244262695,19.09981346130371,20.817594528198242,-2.260435104370117,-37.833187103271484,-37.30929946899414,-1.5009418725967407,18.7305850982666,19.89495277404785,14.271474838256836,26.928098678588867,27.227502822875977,28.65789222717285,27.932369232177734,27.456594467163086,27.087369918823242,36.49604797363281,16.753253936767578,26.261842727661133,-29.68750762939453,-16.287967681884766,-11.503993034362793,-10.396193504333496,-4.542495250701904,-5.13170051574707,21.626707077026367],\"xaxis\":\"x\",\"y\":[-17.30267333984375,15.808172225952148,16.496177673339844,14.122089385986328,12.199338912963867,13.275129318237305,11.546534538269043,33.522705078125,39.655887603759766,37.83897018432617,38.32844543457031,10.551862716674805,4.252117156982422,-21.874332427978516,10.145968437194824,-35.038177490234375,-34.19129943847656,-36.8842887878418,19.503395080566406,32.21302795410156,-40.076622009277344,-0.11030206084251404,27.13822364807129,27.453067779541016,-50.78306579589844,19.371685028076172,19.838735580444336,-49.173152923583984,33.6029167175293,36.35329818725586,42.033138275146484,25.52338218688965,24.113162994384766,21.59801483154297,21.661836624145508,20.99356460571289,23.050016403198242,-2.34926176071167,37.56482696533203,-14.309172630310059,5.696734428405762,1.6965912580490112,-38.93822479248047,6.5800580978393555,1.4443241357803345,0.518944263458252,42.73482894897461],\"yaxis\":\"y\",\"type\":\"scattergl\"}],                        {\"template\":{\"data\":{\"histogram2dcontour\":[{\"type\":\"histogram2dcontour\",\"colorbar\":{\"outlinewidth\":0,\"ticks\":\"\"},\"colorscale\":[[0.0,\"#0d0887\"],[0.1111111111111111,\"#46039f\"],[0.2222222222222222,\"#7201a8\"],[0.3333333333333333,\"#9c179e\"],[0.4444444444444444,\"#bd3786\"],[0.5555555555555556,\"#d8576b\"],[0.6666666666666666,\"#ed7953\"],[0.7777777777777778,\"#fb9f3a\"],[0.8888888888888888,\"#fdca26\"],[1.0,\"#f0f921\"]]}],\"choropleth\":[{\"type\":\"choropleth\",\"colorbar\":{\"outlinewidth\":0,\"ticks\":\"\"}}],\"histogram2d\":[{\"type\":\"histogram2d\",\"colorbar\":{\"outlinewidth\":0,\"ticks\":\"\"},\"colorscale\":[[0.0,\"#0d0887\"],[0.1111111111111111,\"#46039f\"],[0.2222222222222222,\"#7201a8\"],[0.3333333333333333,\"#9c179e\"],[0.4444444444444444,\"#bd3786\"],[0.5555555555555556,\"#d8576b\"],[0.6666666666666666,\"#ed7953\"],[0.7777777777777778,\"#fb9f3a\"],[0.8888888888888888,\"#fdca26\"],[1.0,\"#f0f921\"]]}],\"heatmap\":[{\"type\":\"heatmap\",\"colorbar\":{\"outlinewidth\":0,\"ticks\":\"\"},\"colorscale\":[[0.0,\"#0d0887\"],[0.1111111111111111,\"#46039f\"],[0.2222222222222222,\"#7201a8\"],[0.3333333333333333,\"#9c179e\"],[0.4444444444444444,\"#bd3786\"],[0.5555555555555556,\"#d8576b\"],[0.6666666666666666,\"#ed7953\"],[0.7777777777777778,\"#fb9f3a\"],[0.8888888888888888,\"#fdca26\"],[1.0,\"#f0f921\"]]}],\"heatmapgl\":[{\"type\":\"heatmapgl\",\"colorbar\":{\"outlinewidth\":0,\"ticks\":\"\"},\"colorscale\":[[0.0,\"#0d0887\"],[0.1111111111111111,\"#46039f\"],[0.2222222222222222,\"#7201a8\"],[0.3333333333333333,\"#9c179e\"],[0.4444444444444444,\"#bd3786\"],[0.5555555555555556,\"#d8576b\"],[0.6666666666666666,\"#ed7953\"],[0.7777777777777778,\"#fb9f3a\"],[0.8888888888888888,\"#fdca26\"],[1.0,\"#f0f921\"]]}],\"contourcarpet\":[{\"type\":\"contourcarpet\",\"colorbar\":{\"outlinewidth\":0,\"ticks\":\"\"}}],\"contour\":[{\"type\":\"contour\",\"colorbar\":{\"outlinewidth\":0,\"ticks\":\"\"},\"colorscale\":[[0.0,\"#0d0887\"],[0.1111111111111111,\"#46039f\"],[0.2222222222222222,\"#7201a8\"],[0.3333333333333333,\"#9c179e\"],[0.4444444444444444,\"#bd3786\"],[0.5555555555555556,\"#d8576b\"],[0.6666666666666666,\"#ed7953\"],[0.7777777777777778,\"#fb9f3a\"],[0.8888888888888888,\"#fdca26\"],[1.0,\"#f0f921\"]]}],\"surface\":[{\"type\":\"surface\",\"colorbar\":{\"outlinewidth\":0,\"ticks\":\"\"},\"colorscale\":[[0.0,\"#0d0887\"],[0.1111111111111111,\"#46039f\"],[0.2222222222222222,\"#7201a8\"],[0.3333333333333333,\"#9c179e\"],[0.4444444444444444,\"#bd3786\"],[0.5555555555555556,\"#d8576b\"],[0.6666666666666666,\"#ed7953\"],[0.7777777777777778,\"#fb9f3a\"],[0.8888888888888888,\"#fdca26\"],[1.0,\"#f0f921\"]]}],\"mesh3d\":[{\"type\":\"mesh3d\",\"colorbar\":{\"outlinewidth\":0,\"ticks\":\"\"}}],\"scatter\":[{\"fillpattern\":{\"fillmode\":\"overlay\",\"size\":10,\"solidity\":0.2},\"type\":\"scatter\"}],\"parcoords\":[{\"type\":\"parcoords\",\"line\":{\"colorbar\":{\"outlinewidth\":0,\"ticks\":\"\"}}}],\"scatterpolargl\":[{\"type\":\"scatterpolargl\",\"marker\":{\"colorbar\":{\"outlinewidth\":0,\"ticks\":\"\"}}}],\"bar\":[{\"error_x\":{\"color\":\"#2a3f5f\"},\"error_y\":{\"color\":\"#2a3f5f\"},\"marker\":{\"line\":{\"color\":\"#E5ECF6\",\"width\":0.5},\"pattern\":{\"fillmode\":\"overlay\",\"size\":10,\"solidity\":0.2}},\"type\":\"bar\"}],\"scattergeo\":[{\"type\":\"scattergeo\",\"marker\":{\"colorbar\":{\"outlinewidth\":0,\"ticks\":\"\"}}}],\"scatterpolar\":[{\"type\":\"scatterpolar\",\"marker\":{\"colorbar\":{\"outlinewidth\":0,\"ticks\":\"\"}}}],\"histogram\":[{\"marker\":{\"pattern\":{\"fillmode\":\"overlay\",\"size\":10,\"solidity\":0.2}},\"type\":\"histogram\"}],\"scattergl\":[{\"type\":\"scattergl\",\"marker\":{\"colorbar\":{\"outlinewidth\":0,\"ticks\":\"\"}}}],\"scatter3d\":[{\"type\":\"scatter3d\",\"line\":{\"colorbar\":{\"outlinewidth\":0,\"ticks\":\"\"}},\"marker\":{\"colorbar\":{\"outlinewidth\":0,\"ticks\":\"\"}}}],\"scattermapbox\":[{\"type\":\"scattermapbox\",\"marker\":{\"colorbar\":{\"outlinewidth\":0,\"ticks\":\"\"}}}],\"scatterternary\":[{\"type\":\"scatterternary\",\"marker\":{\"colorbar\":{\"outlinewidth\":0,\"ticks\":\"\"}}}],\"scattercarpet\":[{\"type\":\"scattercarpet\",\"marker\":{\"colorbar\":{\"outlinewidth\":0,\"ticks\":\"\"}}}],\"carpet\":[{\"aaxis\":{\"endlinecolor\":\"#2a3f5f\",\"gridcolor\":\"white\",\"linecolor\":\"white\",\"minorgridcolor\":\"white\",\"startlinecolor\":\"#2a3f5f\"},\"baxis\":{\"endlinecolor\":\"#2a3f5f\",\"gridcolor\":\"white\",\"linecolor\":\"white\",\"minorgridcolor\":\"white\",\"startlinecolor\":\"#2a3f5f\"},\"type\":\"carpet\"}],\"table\":[{\"cells\":{\"fill\":{\"color\":\"#EBF0F8\"},\"line\":{\"color\":\"white\"}},\"header\":{\"fill\":{\"color\":\"#C8D4E3\"},\"line\":{\"color\":\"white\"}},\"type\":\"table\"}],\"barpolar\":[{\"marker\":{\"line\":{\"color\":\"#E5ECF6\",\"width\":0.5},\"pattern\":{\"fillmode\":\"overlay\",\"size\":10,\"solidity\":0.2}},\"type\":\"barpolar\"}],\"pie\":[{\"automargin\":true,\"type\":\"pie\"}]},\"layout\":{\"autotypenumbers\":\"strict\",\"colorway\":[\"#636efa\",\"#EF553B\",\"#00cc96\",\"#ab63fa\",\"#FFA15A\",\"#19d3f3\",\"#FF6692\",\"#B6E880\",\"#FF97FF\",\"#FECB52\"],\"font\":{\"color\":\"#2a3f5f\"},\"hovermode\":\"closest\",\"hoverlabel\":{\"align\":\"left\"},\"paper_bgcolor\":\"white\",\"plot_bgcolor\":\"#E5ECF6\",\"polar\":{\"bgcolor\":\"#E5ECF6\",\"angularaxis\":{\"gridcolor\":\"white\",\"linecolor\":\"white\",\"ticks\":\"\"},\"radialaxis\":{\"gridcolor\":\"white\",\"linecolor\":\"white\",\"ticks\":\"\"}},\"ternary\":{\"bgcolor\":\"#E5ECF6\",\"aaxis\":{\"gridcolor\":\"white\",\"linecolor\":\"white\",\"ticks\":\"\"},\"baxis\":{\"gridcolor\":\"white\",\"linecolor\":\"white\",\"ticks\":\"\"},\"caxis\":{\"gridcolor\":\"white\",\"linecolor\":\"white\",\"ticks\":\"\"}},\"coloraxis\":{\"colorbar\":{\"outlinewidth\":0,\"ticks\":\"\"}},\"colorscale\":{\"sequential\":[[0.0,\"#0d0887\"],[0.1111111111111111,\"#46039f\"],[0.2222222222222222,\"#7201a8\"],[0.3333333333333333,\"#9c179e\"],[0.4444444444444444,\"#bd3786\"],[0.5555555555555556,\"#d8576b\"],[0.6666666666666666,\"#ed7953\"],[0.7777777777777778,\"#fb9f3a\"],[0.8888888888888888,\"#fdca26\"],[1.0,\"#f0f921\"]],\"sequentialminus\":[[0.0,\"#0d0887\"],[0.1111111111111111,\"#46039f\"],[0.2222222222222222,\"#7201a8\"],[0.3333333333333333,\"#9c179e\"],[0.4444444444444444,\"#bd3786\"],[0.5555555555555556,\"#d8576b\"],[0.6666666666666666,\"#ed7953\"],[0.7777777777777778,\"#fb9f3a\"],[0.8888888888888888,\"#fdca26\"],[1.0,\"#f0f921\"]],\"diverging\":[[0,\"#8e0152\"],[0.1,\"#c51b7d\"],[0.2,\"#de77ae\"],[0.3,\"#f1b6da\"],[0.4,\"#fde0ef\"],[0.5,\"#f7f7f7\"],[0.6,\"#e6f5d0\"],[0.7,\"#b8e186\"],[0.8,\"#7fbc41\"],[0.9,\"#4d9221\"],[1,\"#276419\"]]},\"xaxis\":{\"gridcolor\":\"white\",\"linecolor\":\"white\",\"ticks\":\"\",\"title\":{\"standoff\":15},\"zerolinecolor\":\"white\",\"automargin\":true,\"zerolinewidth\":2},\"yaxis\":{\"gridcolor\":\"white\",\"linecolor\":\"white\",\"ticks\":\"\",\"title\":{\"standoff\":15},\"zerolinecolor\":\"white\",\"automargin\":true,\"zerolinewidth\":2},\"scene\":{\"xaxis\":{\"backgroundcolor\":\"#E5ECF6\",\"gridcolor\":\"white\",\"linecolor\":\"white\",\"showbackground\":true,\"ticks\":\"\",\"zerolinecolor\":\"white\",\"gridwidth\":2},\"yaxis\":{\"backgroundcolor\":\"#E5ECF6\",\"gridcolor\":\"white\",\"linecolor\":\"white\",\"showbackground\":true,\"ticks\":\"\",\"zerolinecolor\":\"white\",\"gridwidth\":2},\"zaxis\":{\"backgroundcolor\":\"#E5ECF6\",\"gridcolor\":\"white\",\"linecolor\":\"white\",\"showbackground\":true,\"ticks\":\"\",\"zerolinecolor\":\"white\",\"gridwidth\":2}},\"shapedefaults\":{\"line\":{\"color\":\"#2a3f5f\"}},\"annotationdefaults\":{\"arrowcolor\":\"#2a3f5f\",\"arrowhead\":0,\"arrowwidth\":1},\"geo\":{\"bgcolor\":\"white\",\"landcolor\":\"#E5ECF6\",\"subunitcolor\":\"white\",\"showland\":true,\"showlakes\":true,\"lakecolor\":\"white\"},\"title\":{\"x\":0.05},\"mapbox\":{\"style\":\"light\"}}},\"xaxis\":{\"anchor\":\"y\",\"domain\":[0.0,1.0],\"title\":{\"text\":\"x\"}},\"yaxis\":{\"anchor\":\"x\",\"domain\":[0.0,1.0],\"title\":{\"text\":\"y\"}},\"legend\":{\"title\":{\"text\":\"Predictions, Correct\"},\"tracegroupgap\":0},\"margin\":{\"t\":60}},                        {\"responsive\": true}                    ).then(function(){\n",
       "                            \n",
       "var gd = document.getElementById('58964ad4-0078-4db8-8c22-215f7e431bff');\n",
       "var x = new MutationObserver(function (mutations, observer) {{\n",
       "        var display = window.getComputedStyle(gd).display;\n",
       "        if (!display || display === 'none') {{\n",
       "            console.log([gd, 'removed!']);\n",
       "            Plotly.purge(gd);\n",
       "            observer.disconnect();\n",
       "        }}\n",
       "}});\n",
       "\n",
       "// Listen for the removal of the full notebook cells\n",
       "var notebookContainer = gd.closest('#notebook-container');\n",
       "if (notebookContainer) {{\n",
       "    x.observe(notebookContainer, {childList: true});\n",
       "}}\n",
       "\n",
       "// Listen for the clearing of the current output cell\n",
       "var outputEl = gd.closest('.output');\n",
       "if (outputEl) {{\n",
       "    x.observe(outputEl, {childList: true});\n",
       "}}\n",
       "\n",
       "                        })                };                });            </script>        </div>"
      ]
     },
     "metadata": {},
     "output_type": "display_data"
    }
   ],
   "source": [
    "predictions_series = pd.Series(predictions, name=\"Predictions\").replace(range(len(CLASS_NAMES)), CLASS_NAMES) #type: ignore\n",
    "labels_series = pd.Series(labels, name=\"Label\").replace(range(len(CLASS_NAMES)), CLASS_NAMES) # type: ignore\n",
    "discrete_color_map = dict(zip(CLASS_NAMES, px.colors.qualitative.Plotly))\n",
    "symbol_map = {1: \"circle\", 0: \"x\"}\n",
    "\n",
    "correct_state = pd.Series(labels_series == predictions_series, name=\"Correct\")\n",
    "visdf = pd.concat([data_points2d_df, labels_series, predictions_series, correct_state], axis=1)\n",
    "visdf2 = pd.concat([data_points2d_df, labels_series, predictions_series, correct_state], axis=1)\n",
    "fig = px.scatter(visdf, x=\"x\", y=\"y\", color=\"Predictions\", hover_data=[\"Label\"], symbol=\"Correct\", color_discrete_map=discrete_color_map, symbol_map=symbol_map)\n",
    "fig2 = px.scatter(visdf, x=\"x\", y=\"y\", color=\"Label\", hover_data=[\"Predictions\"], opacity=0.2, color_discrete_map=discrete_color_map)\n",
    "\n",
    "fig2.update_traces(dict(\n",
    "  marker=dict(\n",
    "    size=12,\n",
    "  ),\n",
    "  showlegend=False\n",
    "))\n",
    "\n",
    "fig.add_traces(fig2.data)\n",
    "\n",
    "fig.show()"
   ]
  },
  {
   "cell_type": "code",
   "execution_count": 108,
   "metadata": {},
   "outputs": [
    {
     "data": {
      "application/vnd.plotly.v1+json": {
       "config": {
        "plotlyServerURL": "https://plot.ly"
       },
       "data": [
        {
         "hovertemplate": "Predictions=surprised<br>Correct=True<br>x=%{x}<br>y=%{y}<extra></extra>",
         "legendgroup": "surprised, True",
         "marker": {
          "color": "#19D3F3",
          "symbol": "circle"
         },
         "mode": "markers",
         "name": "surprised, True",
         "orientation": "v",
         "showlegend": true,
         "type": "scatter",
         "x": [
          -9.765579223632812,
          -9.766489028930664,
          -10.129155158996582,
          -9.778422355651855,
          -8.77328872680664,
          -9.759117126464844,
          -9.189390182495117,
          -10.30167007446289,
          -10.60330581665039,
          -2.276702404022217,
          -10.324586868286133,
          -9.64089298248291,
          -10.426583290100098,
          -10.718498229980469,
          -8.503440856933594,
          -10.723028182983398,
          -10.023463249206543,
          -10.197888374328613,
          -10.046395301818848,
          -10.632393836975098,
          -9.749022483825684,
          -8.509657859802246,
          -9.759332656860352,
          -8.769441604614258,
          -9.543691635131836,
          -10.027055740356445,
          -10.381248474121094,
          -9.999771118164062,
          -10.216423034667969,
          -8.51894474029541,
          -10.72514533996582,
          -10.594639778137207,
          -10.13524055480957,
          -10.71493911743164,
          -9.945686340332031,
          -10.466827392578125,
          -10.46566104888916,
          -9.778676986694336,
          -8.878824234008789,
          -10.35310173034668
         ],
         "xaxis": "x",
         "y": [
          23.341405868530273,
          23.341554641723633,
          23.526620864868164,
          23.35997772216797,
          20.92621421813965,
          23.058286666870117,
          20.427961349487305,
          22.82636260986328,
          23.300254821777344,
          -4.3351826667785645,
          22.31840705871582,
          22.25990867614746,
          23.480106353759766,
          22.9954833984375,
          18.827417373657227,
          23.005905151367188,
          22.545507431030273,
          19.839702606201172,
          21.88250732421875,
          22.802396774291992,
          22.718643188476562,
          18.9306583404541,
          22.831735610961914,
          20.80474090576172,
          22.417322158813477,
          23.50223731994629,
          21.855697631835938,
          22.217124938964844,
          20.943769454956055,
          18.943021774291992,
          23.030485153198242,
          22.667924880981445,
          22.89638328552246,
          23.114032745361328,
          19.8283748626709,
          23.463111877441406,
          23.462146759033203,
          23.360477447509766,
          20.799707412719727,
          22.19328498840332
         ],
         "yaxis": "y"
        },
        {
         "hovertemplate": "Predictions=surprised<br>Correct=False<br>x=%{x}<br>y=%{y}<extra></extra>",
         "legendgroup": "surprised, False",
         "marker": {
          "color": "#19D3F3",
          "symbol": "x"
         },
         "mode": "markers",
         "name": "surprised, False",
         "orientation": "v",
         "showlegend": true,
         "type": "scatter",
         "x": [
          -8.949962615966797,
          -10.209056854248047,
          -9.528114318847656,
          -10.263382911682129,
          -10.184048652648926,
          -9.768631935119629,
          -9.159933090209961,
          -10.191725730895996
         ],
         "xaxis": "x",
         "y": [
          19.57074737548828,
          19.888797760009766,
          22.497211456298828,
          20.133529663085938,
          19.24724769592285,
          21.35287094116211,
          20.671844482421875,
          23.53252601623535
         ],
         "yaxis": "y"
        },
        {
         "hovertemplate": "Predictions=happy<br>Correct=True<br>x=%{x}<br>y=%{y}<extra></extra>",
         "legendgroup": "happy, True",
         "marker": {
          "color": "#00CC96",
          "symbol": "circle"
         },
         "mode": "markers",
         "name": "happy, True",
         "orientation": "v",
         "showlegend": true,
         "type": "scatter",
         "x": [
          15.183306694030762,
          17.51603889465332,
          16.452791213989258,
          12.830772399902344,
          16.670265197753906,
          10.611492156982422,
          17.01951789855957,
          12.824997901916504,
          15.165200233459473,
          11.311417579650879,
          9.506867408752441,
          11.794051170349121,
          12.855340003967285,
          12.737581253051758,
          17.426727294921875,
          16.83905029296875,
          16.497591018676758,
          17.50750160217285,
          15.392129898071289,
          16.93307876586914,
          17.163022994995117,
          16.274608612060547,
          15.10721492767334,
          15.44951343536377,
          17.49219512939453,
          17.45740509033203,
          15.359556198120117,
          17.332645416259766,
          17.371305465698242,
          15.00024700164795,
          14.525161743164062,
          16.548425674438477,
          15.12601089477539,
          16.99853515625,
          14.467676162719727,
          16.711326599121094,
          12.876108169555664,
          11.80762004852295,
          17.426963806152344,
          17.023632049560547,
          9.874634742736816,
          11.839954376220703,
          12.932884216308594,
          16.537946701049805,
          10.615160942077637,
          16.886972427368164,
          17.115182876586914,
          14.474987983703613,
          15.720551490783691,
          13.58182430267334,
          14.122849464416504
         ],
         "xaxis": "x",
         "y": [
          -1.0562372207641602,
          0.7070499658584595,
          0.467633992433548,
          -0.9952190518379211,
          0.9455105066299438,
          -3.299776554107666,
          1.1864973306655884,
          -0.19482292234897614,
          -0.18760453164577484,
          -1.9757400751113892,
          -1.7144426107406616,
          -0.15786834061145782,
          -1.747681975364685,
          -1.4542920589447021,
          0.4207153916358948,
          0.5285782217979431,
          -0.3069058656692505,
          0.6057310700416565,
          0.2711438834667206,
          0.2880123257637024,
          0.21574966609477997,
          0.3902854919433594,
          0.22315607964992523,
          0.33769696950912476,
          0.5405477285385132,
          0.4550328254699707,
          -0.30772173404693604,
          1.0813963413238525,
          1.045680284500122,
          -1.1315139532089233,
          -1.49940824508667,
          0.4029425382614136,
          -0.8636281490325928,
          1.1863750219345093,
          -1.3801350593566895,
          1.0173624753952026,
          -0.21259595453739166,
          -1.2488808631896973,
          0.9817702174186707,
          1.1844907999038696,
          -1.8844208717346191,
          -0.16043144464492798,
          -0.35494011640548706,
          0.7896550297737122,
          -3.226682186126709,
          1.150671124458313,
          0.24854183197021484,
          -1.5358980894088745,
          0.45899951457977295,
          -0.20658764243125916,
          -0.886525571346283
         ],
         "yaxis": "y"
        },
        {
         "hovertemplate": "Predictions=happy<br>Correct=False<br>x=%{x}<br>y=%{y}<extra></extra>",
         "legendgroup": "happy, False",
         "marker": {
          "color": "#00CC96",
          "symbol": "x"
         },
         "mode": "markers",
         "name": "happy, False",
         "orientation": "v",
         "showlegend": true,
         "type": "scatter",
         "x": [
          13.704675674438477,
          16.45433807373047,
          1.761557698249817,
          17.191967010498047,
          9.587541580200195,
          13.310791015625,
          16.6639347076416,
          11.044055938720703,
          15.15476131439209,
          1.4712162017822266,
          1.6581565141677856,
          9.8494234085083,
          13.955355644226074,
          11.929662704467773,
          11.241406440734863,
          -1.488599181175232,
          12.763372421264648,
          17.430213928222656
         ],
         "xaxis": "x",
         "y": [
          -1.2909687757492065,
          0.8111685514450073,
          3.8114724159240723,
          0.25706374645233154,
          -1.976073145866394,
          -1.2361629009246826,
          0.11704535782337189,
          -1.8701246976852417,
          -0.18974415957927704,
          3.3820033073425293,
          3.775118350982666,
          -1.9308494329452515,
          -0.948419988155365,
          -0.14401306211948395,
          -2.098292350769043,
          -5.549814701080322,
          -0.1919262856245041,
          0.9771060347557068
         ],
         "yaxis": "y"
        },
        {
         "hovertemplate": "Predictions=disgusted<br>Correct=True<br>x=%{x}<br>y=%{y}<extra></extra>",
         "legendgroup": "disgusted, True",
         "marker": {
          "color": "#EF553B",
          "symbol": "circle"
         },
         "mode": "markers",
         "name": "disgusted, True",
         "orientation": "v",
         "showlegend": true,
         "type": "scatter",
         "x": [
          9.62308406829834,
          9.5394287109375,
          11.122957229614258,
          10.550551414489746,
          10.342231750488281,
          9.917680740356445,
          10.532119750976562,
          11.330926895141602,
          10.85114860534668,
          11.18765926361084,
          10.103011131286621,
          11.350263595581055,
          10.84395980834961,
          10.504724502563477,
          10.780488967895508,
          10.495102882385254,
          11.205170631408691,
          10.70552921295166,
          11.373882293701172,
          10.490045547485352,
          9.909372329711914,
          11.350091934204102,
          10.98865795135498,
          10.366944313049316,
          10.822493553161621,
          10.53259563446045,
          10.406854629516602,
          11.405885696411133,
          10.36812686920166,
          10.33272647857666,
          11.24413776397705,
          11.133302688598633,
          10.97703742980957,
          10.532208442687988,
          11.171243667602539,
          9.809335708618164,
          11.10841178894043
         ],
         "xaxis": "x",
         "y": [
          -14.520956993103027,
          -14.357460975646973,
          -16.368579864501953,
          -16.622961044311523,
          -15.853239059448242,
          -14.454545021057129,
          -16.981294631958008,
          -16.47059440612793,
          -13.571812629699707,
          -16.166297912597656,
          -15.371753692626953,
          -16.945236206054688,
          -16.2849178314209,
          -15.453908920288086,
          -17.172035217285156,
          -16.722055435180664,
          -17.094423294067383,
          -16.562210083007812,
          -16.903295516967773,
          -16.742172241210938,
          -12.700992584228516,
          -16.945505142211914,
          -17.191770553588867,
          -15.747929573059082,
          -17.18073272705078,
          -16.9796142578125,
          -16.008481979370117,
          -16.81062126159668,
          -14.763579368591309,
          -15.820773124694824,
          -16.491609573364258,
          -15.910192489624023,
          -17.190311431884766,
          -16.88998794555664,
          -16.431344985961914,
          -14.72582721710205,
          -15.227828025817871
         ],
         "yaxis": "y"
        },
        {
         "hovertemplate": "Predictions=disgusted<br>Correct=False<br>x=%{x}<br>y=%{y}<extra></extra>",
         "legendgroup": "disgusted, False",
         "marker": {
          "color": "#EF553B",
          "symbol": "x"
         },
         "mode": "markers",
         "name": "disgusted, False",
         "orientation": "v",
         "showlegend": true,
         "type": "scatter",
         "x": [
          10.220852851867676,
          10.705409049987793,
          10.217803001403809,
          9.434680938720703,
          9.621269226074219,
          9.905010223388672,
          9.456404685974121,
          -0.9555717706680298,
          10.836102485656738,
          10.525964736938477
         ],
         "xaxis": "x",
         "y": [
          -12.601432800292969,
          -14.63563346862793,
          -12.537672996520996,
          -13.915116310119629,
          -14.28624153137207,
          -12.162500381469727,
          -13.49232006072998,
          -7.032818794250488,
          -13.506364822387695,
          -13.115828514099121
         ],
         "yaxis": "y"
        },
        {
         "hovertemplate": "Predictions=sad<br>Correct=True<br>x=%{x}<br>y=%{y}<extra></extra>",
         "legendgroup": "sad, True",
         "marker": {
          "color": "#FFA15A",
          "symbol": "circle"
         },
         "mode": "markers",
         "name": "sad, True",
         "orientation": "v",
         "showlegend": true,
         "type": "scatter",
         "x": [
          -5.357509136199951,
          -4.603339195251465,
          -4.876088619232178,
          -5.458981513977051,
          -5.204451084136963,
          -2.2247154712677,
          -2.8902788162231445,
          -4.766615867614746,
          -4.125430107116699,
          -4.869286060333252,
          -5.349554538726807,
          -5.564651012420654,
          -4.907251358032227,
          -4.569330215454102,
          -5.45501184463501,
          -4.524159908294678,
          -4.904415607452393,
          -3.980158567428589,
          -3.3656392097473145,
          -5.259864330291748,
          -2.9320201873779297,
          -4.969741344451904,
          -4.951938629150391,
          -4.428644180297852,
          -5.588726997375488,
          -5.450918197631836,
          -4.59144401550293,
          -4.699469566345215,
          -4.098480224609375,
          -5.518585205078125,
          -3.956106662750244,
          -4.773046016693115,
          -5.570815563201904,
          -4.803346633911133,
          -4.816372394561768,
          -5.588202953338623,
          -4.76210880279541,
          -4.76884126663208
         ],
         "xaxis": "x",
         "y": [
          -9.85788631439209,
          -8.15700626373291,
          -10.125287055969238,
          -9.97463607788086,
          -10.674095153808594,
          -6.182254791259766,
          -8.17543888092041,
          -10.376633644104004,
          -6.921472549438477,
          -9.675861358642578,
          -10.62950325012207,
          -10.094621658325195,
          -9.016375541687012,
          -5.38895845413208,
          -9.944364547729492,
          -9.376343727111816,
          -10.618782043457031,
          -8.614191055297852,
          -5.741600036621094,
          -10.660717964172363,
          -8.063008308410645,
          -10.641770362854004,
          -9.732406616210938,
          -9.057398796081543,
          -10.155557632446289,
          -10.55677604675293,
          -5.312498569488525,
          -8.47649097442627,
          -9.0383882522583,
          -10.480819702148438,
          -7.507957935333252,
          -9.999013900756836,
          -10.333845138549805,
          -10.496930122375488,
          -10.52940559387207,
          -10.152793884277344,
          -9.444723129272461,
          -10.297470092773438
         ],
         "yaxis": "y"
        },
        {
         "hovertemplate": "Predictions=sad<br>Correct=False<br>x=%{x}<br>y=%{y}<extra></extra>",
         "legendgroup": "sad, False",
         "marker": {
          "color": "#FFA15A",
          "symbol": "x"
         },
         "mode": "markers",
         "name": "sad, False",
         "orientation": "v",
         "showlegend": true,
         "type": "scatter",
         "x": [
          -3.751436233520508,
          -3.3137593269348145,
          -3.1663880348205566,
          -2.2508158683776855,
          -3.343754529953003,
          -2.9809341430664062,
          -3.5889968872070312,
          -3.3035809993743896,
          -1.7966257333755493,
          -2.3990681171417236,
          -3.436598062515259,
          -1.8995336294174194,
          -2.187295436859131,
          -4.603334426879883,
          -3.818814992904663
         ],
         "xaxis": "x",
         "y": [
          -6.987646102905273,
          -5.860826015472412,
          -8.284858703613281,
          -7.951965808868408,
          -8.355234146118164,
          -5.500886917114258,
          -6.902316570281982,
          -8.45032787322998,
          -5.915615081787109,
          -8.006760597229004,
          -8.421971321105957,
          -7.2967143058776855,
          -6.181702613830566,
          -5.287909507751465,
          -8.155932426452637
         ],
         "yaxis": "y"
        },
        {
         "hovertemplate": "Predictions=angry<br>Correct=True<br>x=%{x}<br>y=%{y}<extra></extra>",
         "legendgroup": "angry, True",
         "marker": {
          "color": "#636EFA",
          "symbol": "circle"
         },
         "mode": "markers",
         "name": "angry, True",
         "orientation": "v",
         "showlegend": true,
         "type": "scatter",
         "x": [
          -11.858874320983887,
          -11.408047676086426,
          -11.872001647949219,
          -5.810354709625244,
          -11.676868438720703,
          -11.152252197265625,
          -8.07394027709961,
          -11.397626876831055,
          -10.756772994995117,
          -10.233716011047363,
          -10.024436950683594,
          -11.933778762817383,
          -8.130843162536621,
          -4.978832244873047,
          -11.754549980163574,
          -10.78152847290039,
          -11.727359771728516,
          -10.593506813049316,
          -10.864185333251953,
          -8.396713256835938,
          -11.921628952026367,
          -11.295133590698242,
          -11.838715553283691,
          -7.130694389343262,
          -11.101353645324707,
          -11.383665084838867,
          -11.679060935974121,
          -11.75178050994873,
          -5.05818510055542,
          -11.25662899017334,
          -11.40976619720459,
          -10.379679679870605,
          -11.552457809448242
         ],
         "xaxis": "x",
         "y": [
          3.4063217639923096,
          3.172513723373413,
          3.7853217124938965,
          3.8414371013641357,
          3.23861026763916,
          3.864549398422241,
          2.363677740097046,
          4.098647117614746,
          3.7887768745422363,
          3.857548952102661,
          3.257519006729126,
          3.6853995323181152,
          2.8101813793182373,
          4.591136932373047,
          3.2715837955474854,
          3.91471529006958,
          4.033481121063232,
          3.451789379119873,
          3.2724738121032715,
          3.4134273529052734,
          3.6650912761688232,
          4.069972991943359,
          3.372847557067871,
          2.477144956588745,
          3.981570243835449,
          3.3029401302337646,
          4.067296981811523,
          4.019577980041504,
          4.149928569793701,
          3.513590097427368,
          3.2928967475891113,
          3.9431841373443604,
          4.099034309387207
         ],
         "yaxis": "y"
        },
        {
         "hovertemplate": "Predictions=angry<br>Correct=False<br>x=%{x}<br>y=%{y}<extra></extra>",
         "legendgroup": "angry, False",
         "marker": {
          "color": "#636EFA",
          "symbol": "x"
         },
         "mode": "markers",
         "name": "angry, False",
         "orientation": "v",
         "showlegend": true,
         "type": "scatter",
         "x": [
          -7.632447719573975,
          -5.964423179626465,
          -8.348567962646484,
          -10.004011154174805,
          -8.370818138122559,
          -4.662577152252197,
          -7.906051158905029,
          -10.986648559570312,
          -7.177621364593506,
          -4.530930519104004,
          -7.1771979331970215,
          -8.325234413146973,
          -7.779443740844727,
          -8.823899269104004,
          -8.959860801696777,
          -7.464172840118408,
          -10.592541694641113,
          -10.27338695526123,
          -7.637935161590576,
          -7.322356224060059,
          -5.678132057189941
         ],
         "xaxis": "x",
         "y": [
          2.0687339305877686,
          3.796154737472534,
          2.453228235244751,
          3.810628890991211,
          2.409945249557495,
          4.422579765319824,
          2.4312903881073,
          3.1502792835235596,
          2.4432623386383057,
          4.621939659118652,
          1.8243519067764282,
          2.3915586471557617,
          2.1520614624023438,
          3.442786931991577,
          3.5771584510803223,
          1.9049293994903564,
          3.3632607460021973,
          3.1238019466400146,
          2.0556535720825195,
          1.8224700689315796,
          3.853926420211792
         ],
         "yaxis": "y"
        },
        {
         "hovertemplate": "Predictions=neutral<br>Correct=True<br>x=%{x}<br>y=%{y}<extra></extra>",
         "legendgroup": "neutral, True",
         "marker": {
          "color": "#AB63FA",
          "symbol": "circle"
         },
         "mode": "markers",
         "name": "neutral, True",
         "orientation": "v",
         "showlegend": true,
         "type": "scatter",
         "x": [
          -1.4775097370147705,
          2.136627674102783,
          2.4751832485198975,
          0.1922861486673355,
          2.467623233795166,
          -1.82063889503479,
          2.5490286350250244,
          0.9528231024742126,
          2.5874266624450684,
          1.4040441513061523,
          1.809879183769226,
          -1.074528455734253,
          1.8527605533599854,
          1.8548580408096313,
          1.1570039987564087,
          1.9306708574295044,
          0.9399667978286743,
          1.8372995853424072,
          1.4109610319137573,
          0.7696942090988159,
          -1.6036814451217651,
          -1.4105130434036255,
          2.2561593055725098,
          2.5955960750579834,
          -0.9464986324310303,
          1.870104193687439,
          -2.022660493850708,
          2.0644702911376953,
          -1.398478388786316,
          2.511108636856079,
          2.5132479667663574,
          2.0917458534240723,
          2.4534668922424316,
          1.9015392065048218,
          0.7529174089431763,
          -0.5750359296798706
         ],
         "xaxis": "x",
         "y": [
          5.645864963531494,
          8.09623908996582,
          8.969474792480469,
          7.091188430786133,
          8.987710952758789,
          7.26891565322876,
          8.502288818359375,
          7.374436855316162,
          8.586949348449707,
          8.149914741516113,
          8.612750053405762,
          5.896490573883057,
          8.8267822265625,
          8.778729438781738,
          8.094718933105469,
          9.010083198547363,
          6.846223831176758,
          8.292292594909668,
          5.594620227813721,
          7.567434787750244,
          7.437066555023193,
          7.30916690826416,
          9.088665962219238,
          8.700326919555664,
          6.780063629150391,
          7.357754230499268,
          5.3189377784729,
          9.085823059082031,
          5.6959967613220215,
          8.462902069091797,
          8.463653564453125,
          9.09029769897461,
          8.996479034423828,
          8.97384262084961,
          7.623149871826172,
          6.301012992858887
         ],
         "yaxis": "y"
        },
        {
         "hovertemplate": "Predictions=neutral<br>Correct=False<br>x=%{x}<br>y=%{y}<extra></extra>",
         "legendgroup": "neutral, False",
         "marker": {
          "color": "#AB63FA",
          "symbol": "x"
         },
         "mode": "markers",
         "name": "neutral, False",
         "orientation": "v",
         "showlegend": true,
         "type": "scatter",
         "x": [
          1.917640209197998,
          1.5650508403778076,
          -0.6252778768539429,
          -0.46873143315315247,
          0.8442085981369019,
          -1.251035451889038,
          -0.6410654783248901,
          -1.1137375831604004,
          1.4688760042190552,
          -1.4053157567977905,
          -1.4256764650344849,
          0.9003099799156189,
          2.168626546859741,
          -0.26102766394615173,
          1.649156093597412,
          0.3758230209350586,
          2.4541265964508057,
          -2.239116668701172
         ],
         "xaxis": "x",
         "y": [
          7.529217720031738,
          4.61806583404541,
          7.005074501037598,
          6.61059045791626,
          3.4438412189483643,
          5.951931953430176,
          5.404842853546143,
          7.020646572113037,
          6.277503967285156,
          7.270858287811279,
          5.694481372833252,
          6.063082218170166,
          8.394935607910156,
          6.681397914886475,
          8.348347663879395,
          7.349381923675537,
          8.406063079833984,
          5.217708587646484
         ],
         "yaxis": "y"
        },
        {
         "customdata": [
          [
           "surprised"
          ],
          [
           "surprised"
          ],
          [
           "surprised"
          ],
          [
           "surprised"
          ],
          [
           "sad"
          ],
          [
           "surprised"
          ],
          [
           "surprised"
          ],
          [
           "happy"
          ],
          [
           "surprised"
          ],
          [
           "surprised"
          ],
          [
           "sad"
          ],
          [
           "surprised"
          ],
          [
           "surprised"
          ],
          [
           "surprised"
          ],
          [
           "angry"
          ],
          [
           "surprised"
          ],
          [
           "neutral"
          ],
          [
           "surprised"
          ],
          [
           "surprised"
          ],
          [
           "neutral"
          ],
          [
           "surprised"
          ],
          [
           "surprised"
          ],
          [
           "surprised"
          ],
          [
           "surprised"
          ],
          [
           "surprised"
          ],
          [
           "surprised"
          ],
          [
           "surprised"
          ],
          [
           "neutral"
          ],
          [
           "angry"
          ],
          [
           "surprised"
          ],
          [
           "surprised"
          ],
          [
           "surprised"
          ],
          [
           "surprised"
          ],
          [
           "surprised"
          ],
          [
           "surprised"
          ],
          [
           "surprised"
          ],
          [
           "surprised"
          ],
          [
           "surprised"
          ],
          [
           "surprised"
          ],
          [
           "neutral"
          ],
          [
           "surprised"
          ],
          [
           "neutral"
          ],
          [
           "neutral"
          ],
          [
           "happy"
          ],
          [
           "angry"
          ],
          [
           "surprised"
          ],
          [
           "neutral"
          ],
          [
           "surprised"
          ],
          [
           "surprised"
          ],
          [
           "neutral"
          ],
          [
           "surprised"
          ],
          [
           "surprised"
          ],
          [
           "surprised"
          ],
          [
           "surprised"
          ],
          [
           "surprised"
          ],
          [
           "happy"
          ]
         ],
         "hovertemplate": "Label=surprised<br>x=%{x}<br>y=%{y}<br>Predictions=%{customdata[0]}<extra></extra>",
         "legendgroup": "surprised",
         "marker": {
          "color": "#19D3F3",
          "opacity": 0.2,
          "size": 12,
          "symbol": "circle"
         },
         "mode": "markers",
         "name": "surprised",
         "orientation": "v",
         "showlegend": false,
         "type": "scatter",
         "x": [
          -9.765579223632812,
          -9.766489028930664,
          -10.129155158996582,
          -9.778422355651855,
          -3.3137593269348145,
          -8.77328872680664,
          -9.759117126464844,
          9.587541580200195,
          -9.189390182495117,
          -10.30167007446289,
          -3.343754529953003,
          -10.60330581665039,
          -2.276702404022217,
          -10.324586868286133,
          -8.348567962646484,
          -9.64089298248291,
          -0.6252778768539429,
          -10.426583290100098,
          -10.718498229980469,
          -0.46873143315315247,
          -8.503440856933594,
          -10.723028182983398,
          -10.023463249206543,
          -10.197888374328613,
          -10.046395301818848,
          -10.632393836975098,
          -9.749022483825684,
          -1.1137375831604004,
          -4.530930519104004,
          -8.509657859802246,
          -9.759332656860352,
          -8.769441604614258,
          -9.543691635131836,
          -10.027055740356445,
          -10.381248474121094,
          -9.999771118164062,
          -10.216423034667969,
          -8.51894474029541,
          -10.72514533996582,
          -1.4053157567977905,
          -10.594639778137207,
          2.168626546859741,
          -0.26102766394615173,
          9.8494234085083,
          -8.959860801696777,
          -10.13524055480957,
          1.649156093597412,
          -10.71493911743164,
          -9.945686340332031,
          0.3758230209350586,
          -10.466827392578125,
          -10.46566104888916,
          -9.778676986694336,
          -8.878824234008789,
          -10.35310173034668,
          17.430213928222656
         ],
         "xaxis": "x",
         "y": [
          23.341405868530273,
          23.341554641723633,
          23.526620864868164,
          23.35997772216797,
          -5.860826015472412,
          20.92621421813965,
          23.058286666870117,
          -1.976073145866394,
          20.427961349487305,
          22.82636260986328,
          -8.355234146118164,
          23.300254821777344,
          -4.3351826667785645,
          22.31840705871582,
          2.453228235244751,
          22.25990867614746,
          7.005074501037598,
          23.480106353759766,
          22.9954833984375,
          6.61059045791626,
          18.827417373657227,
          23.005905151367188,
          22.545507431030273,
          19.839702606201172,
          21.88250732421875,
          22.802396774291992,
          22.718643188476562,
          7.020646572113037,
          4.621939659118652,
          18.9306583404541,
          22.831735610961914,
          20.80474090576172,
          22.417322158813477,
          23.50223731994629,
          21.855697631835938,
          22.217124938964844,
          20.943769454956055,
          18.943021774291992,
          23.030485153198242,
          7.270858287811279,
          22.667924880981445,
          8.394935607910156,
          6.681397914886475,
          -1.9308494329452515,
          3.5771584510803223,
          22.89638328552246,
          8.348347663879395,
          23.114032745361328,
          19.8283748626709,
          7.349381923675537,
          23.463111877441406,
          23.462146759033203,
          23.360477447509766,
          20.799707412719727,
          22.19328498840332,
          0.9771060347557068
         ],
         "yaxis": "y"
        },
        {
         "customdata": [
          [
           "happy"
          ],
          [
           "disgusted"
          ],
          [
           "disgusted"
          ],
          [
           "disgusted"
          ],
          [
           "disgusted"
          ],
          [
           "disgusted"
          ],
          [
           "disgusted"
          ],
          [
           "sad"
          ],
          [
           "happy"
          ],
          [
           "disgusted"
          ],
          [
           "disgusted"
          ],
          [
           "disgusted"
          ],
          [
           "disgusted"
          ],
          [
           "disgusted"
          ],
          [
           "disgusted"
          ],
          [
           "disgusted"
          ],
          [
           "disgusted"
          ],
          [
           "disgusted"
          ],
          [
           "disgusted"
          ],
          [
           "disgusted"
          ],
          [
           "sad"
          ],
          [
           "disgusted"
          ],
          [
           "disgusted"
          ],
          [
           "neutral"
          ],
          [
           "angry"
          ],
          [
           "disgusted"
          ],
          [
           "angry"
          ],
          [
           "surprised"
          ],
          [
           "sad"
          ],
          [
           "neutral"
          ],
          [
           "disgusted"
          ],
          [
           "disgusted"
          ],
          [
           "happy"
          ],
          [
           "angry"
          ],
          [
           "disgusted"
          ],
          [
           "disgusted"
          ],
          [
           "disgusted"
          ],
          [
           "sad"
          ],
          [
           "disgusted"
          ],
          [
           "disgusted"
          ],
          [
           "sad"
          ],
          [
           "angry"
          ],
          [
           "disgusted"
          ],
          [
           "angry"
          ],
          [
           "disgusted"
          ],
          [
           "disgusted"
          ],
          [
           "disgusted"
          ],
          [
           "disgusted"
          ],
          [
           "disgusted"
          ],
          [
           "disgusted"
          ],
          [
           "sad"
          ],
          [
           "disgusted"
          ],
          [
           "disgusted"
          ],
          [
           "disgusted"
          ]
         ],
         "hovertemplate": "Label=disgusted<br>x=%{x}<br>y=%{y}<br>Predictions=%{customdata[0]}<extra></extra>",
         "legendgroup": "disgusted",
         "marker": {
          "color": "#EF553B",
          "opacity": 0.2,
          "size": 12,
          "symbol": "circle"
         },
         "mode": "markers",
         "name": "disgusted",
         "orientation": "v",
         "showlegend": false,
         "type": "scatter",
         "x": [
          13.704675674438477,
          9.62308406829834,
          9.5394287109375,
          11.122957229614258,
          10.550551414489746,
          10.342231750488281,
          9.917680740356445,
          -2.2508158683776855,
          13.310791015625,
          10.532119750976562,
          11.330926895141602,
          10.85114860534668,
          11.18765926361084,
          10.103011131286621,
          11.350263595581055,
          10.84395980834961,
          10.504724502563477,
          10.780488967895508,
          10.495102882385254,
          11.205170631408691,
          -3.3035809993743896,
          10.70552921295166,
          11.373882293701172,
          -0.6410654783248901,
          -7.177621364593506,
          10.490045547485352,
          -7.1771979331970215,
          -10.184048652648926,
          -2.3990681171417236,
          -1.4256764650344849,
          9.909372329711914,
          11.350091934204102,
          13.955355644226074,
          -7.779443740844727,
          10.98865795135498,
          10.366944313049316,
          10.822493553161621,
          -3.436598062515259,
          10.53259563446045,
          10.406854629516602,
          -1.8995336294174194,
          -7.464172840118408,
          11.405885696411133,
          -10.592541694641113,
          10.36812686920166,
          10.33272647857666,
          11.24413776397705,
          11.133302688598633,
          10.97703742980957,
          10.532208442687988,
          -3.818814992904663,
          11.171243667602539,
          9.809335708618164,
          11.10841178894043
         ],
         "xaxis": "x",
         "y": [
          -1.2909687757492065,
          -14.520956993103027,
          -14.357460975646973,
          -16.368579864501953,
          -16.622961044311523,
          -15.853239059448242,
          -14.454545021057129,
          -7.951965808868408,
          -1.2361629009246826,
          -16.981294631958008,
          -16.47059440612793,
          -13.571812629699707,
          -16.166297912597656,
          -15.371753692626953,
          -16.945236206054688,
          -16.2849178314209,
          -15.453908920288086,
          -17.172035217285156,
          -16.722055435180664,
          -17.094423294067383,
          -8.45032787322998,
          -16.562210083007812,
          -16.903295516967773,
          5.404842853546143,
          2.4432623386383057,
          -16.742172241210938,
          1.8243519067764282,
          19.24724769592285,
          -8.006760597229004,
          5.694481372833252,
          -12.700992584228516,
          -16.945505142211914,
          -0.948419988155365,
          2.1520614624023438,
          -17.191770553588867,
          -15.747929573059082,
          -17.18073272705078,
          -8.421971321105957,
          -16.9796142578125,
          -16.008481979370117,
          -7.2967143058776855,
          1.9049293994903564,
          -16.81062126159668,
          3.3632607460021973,
          -14.763579368591309,
          -15.820773124694824,
          -16.491609573364258,
          -15.910192489624023,
          -17.190311431884766,
          -16.88998794555664,
          -8.155932426452637,
          -16.431344985961914,
          -14.72582721710205,
          -15.227828025817871
         ],
         "yaxis": "y"
        },
        {
         "customdata": [
          [
           "happy"
          ],
          [
           "happy"
          ],
          [
           "disgusted"
          ],
          [
           "happy"
          ],
          [
           "happy"
          ],
          [
           "happy"
          ],
          [
           "happy"
          ],
          [
           "happy"
          ],
          [
           "neutral"
          ],
          [
           "happy"
          ],
          [
           "happy"
          ],
          [
           "happy"
          ],
          [
           "happy"
          ],
          [
           "happy"
          ],
          [
           "happy"
          ],
          [
           "disgusted"
          ],
          [
           "happy"
          ],
          [
           "neutral"
          ],
          [
           "happy"
          ],
          [
           "happy"
          ],
          [
           "happy"
          ],
          [
           "happy"
          ],
          [
           "surprised"
          ],
          [
           "angry"
          ],
          [
           "happy"
          ],
          [
           "neutral"
          ],
          [
           "surprised"
          ],
          [
           "happy"
          ],
          [
           "happy"
          ],
          [
           "happy"
          ],
          [
           "disgusted"
          ],
          [
           "happy"
          ],
          [
           "happy"
          ],
          [
           "disgusted"
          ],
          [
           "happy"
          ],
          [
           "happy"
          ],
          [
           "happy"
          ],
          [
           "happy"
          ],
          [
           "happy"
          ],
          [
           "disgusted"
          ],
          [
           "happy"
          ],
          [
           "happy"
          ],
          [
           "neutral"
          ],
          [
           "happy"
          ],
          [
           "happy"
          ],
          [
           "happy"
          ],
          [
           "happy"
          ],
          [
           "happy"
          ],
          [
           "neutral"
          ],
          [
           "happy"
          ],
          [
           "happy"
          ],
          [
           "happy"
          ],
          [
           "happy"
          ],
          [
           "happy"
          ],
          [
           "disgusted"
          ],
          [
           "happy"
          ],
          [
           "happy"
          ],
          [
           "happy"
          ],
          [
           "happy"
          ],
          [
           "happy"
          ],
          [
           "surprised"
          ],
          [
           "neutral"
          ],
          [
           "happy"
          ],
          [
           "happy"
          ],
          [
           "happy"
          ],
          [
           "happy"
          ],
          [
           "angry"
          ],
          [
           "happy"
          ]
         ],
         "hovertemplate": "Label=happy<br>x=%{x}<br>y=%{y}<br>Predictions=%{customdata[0]}<extra></extra>",
         "legendgroup": "happy",
         "marker": {
          "color": "#00CC96",
          "opacity": 0.2,
          "size": 12,
          "symbol": "circle"
         },
         "mode": "markers",
         "name": "happy",
         "orientation": "v",
         "showlegend": false,
         "type": "scatter",
         "x": [
          15.183306694030762,
          17.51603889465332,
          10.220852851867676,
          16.452791213989258,
          12.830772399902344,
          16.670265197753906,
          10.611492156982422,
          17.01951789855957,
          1.917640209197998,
          12.824997901916504,
          15.165200233459473,
          11.311417579650879,
          9.506867408752441,
          11.794051170349121,
          12.855340003967285,
          10.217803001403809,
          12.737581253051758,
          1.5650508403778076,
          17.426727294921875,
          16.83905029296875,
          16.497591018676758,
          17.50750160217285,
          -10.209056854248047,
          -4.662577152252197,
          15.392129898071289,
          0.8442085981369019,
          -9.528114318847656,
          16.93307876586914,
          17.163022994995117,
          16.274608612060547,
          9.621269226074219,
          15.10721492767334,
          15.44951343536377,
          9.905010223388672,
          17.49219512939453,
          17.45740509033203,
          15.359556198120117,
          17.332645416259766,
          17.371305465698242,
          10.836102485656738,
          15.00024700164795,
          14.525161743164062,
          1.4688760042190552,
          16.548425674438477,
          15.12601089477539,
          16.99853515625,
          14.467676162719727,
          16.711326599121094,
          0.9003099799156189,
          12.876108169555664,
          11.80762004852295,
          17.426963806152344,
          17.023632049560547,
          9.874634742736816,
          10.525964736938477,
          11.839954376220703,
          12.932884216308594,
          16.537946701049805,
          10.615160942077637,
          16.886972427368164,
          -10.191725730895996,
          2.4541265964508057,
          17.115182876586914,
          14.474987983703613,
          15.720551490783691,
          13.58182430267334,
          -5.678132057189941,
          14.122849464416504
         ],
         "xaxis": "x",
         "y": [
          -1.0562372207641602,
          0.7070499658584595,
          -12.601432800292969,
          0.467633992433548,
          -0.9952190518379211,
          0.9455105066299438,
          -3.299776554107666,
          1.1864973306655884,
          7.529217720031738,
          -0.19482292234897614,
          -0.18760453164577484,
          -1.9757400751113892,
          -1.7144426107406616,
          -0.15786834061145782,
          -1.747681975364685,
          -12.537672996520996,
          -1.4542920589447021,
          4.61806583404541,
          0.4207153916358948,
          0.5285782217979431,
          -0.3069058656692505,
          0.6057310700416565,
          19.888797760009766,
          4.422579765319824,
          0.2711438834667206,
          3.4438412189483643,
          22.497211456298828,
          0.2880123257637024,
          0.21574966609477997,
          0.3902854919433594,
          -14.28624153137207,
          0.22315607964992523,
          0.33769696950912476,
          -12.162500381469727,
          0.5405477285385132,
          0.4550328254699707,
          -0.30772173404693604,
          1.0813963413238525,
          1.045680284500122,
          -13.506364822387695,
          -1.1315139532089233,
          -1.49940824508667,
          6.277503967285156,
          0.4029425382614136,
          -0.8636281490325928,
          1.1863750219345093,
          -1.3801350593566895,
          1.0173624753952026,
          6.063082218170166,
          -0.21259595453739166,
          -1.2488808631896973,
          0.9817702174186707,
          1.1844907999038696,
          -1.8844208717346191,
          -13.115828514099121,
          -0.16043144464492798,
          -0.35494011640548706,
          0.7896550297737122,
          -3.226682186126709,
          1.150671124458313,
          23.53252601623535,
          8.406063079833984,
          0.24854183197021484,
          -1.5358980894088745,
          0.45899951457977295,
          -0.20658764243125916,
          3.853926420211792,
          -0.886525571346283
         ],
         "yaxis": "y"
        },
        {
         "customdata": [
          [
           "happy"
          ],
          [
           "happy"
          ],
          [
           "sad"
          ],
          [
           "happy"
          ],
          [
           "sad"
          ],
          [
           "sad"
          ],
          [
           "sad"
          ],
          [
           "sad"
          ],
          [
           "sad"
          ],
          [
           "sad"
          ],
          [
           "angry"
          ],
          [
           "sad"
          ],
          [
           "sad"
          ],
          [
           "angry"
          ],
          [
           "sad"
          ],
          [
           "sad"
          ],
          [
           "angry"
          ],
          [
           "sad"
          ],
          [
           "sad"
          ],
          [
           "sad"
          ],
          [
           "surprised"
          ],
          [
           "sad"
          ],
          [
           "neutral"
          ],
          [
           "sad"
          ],
          [
           "sad"
          ],
          [
           "sad"
          ],
          [
           "angry"
          ],
          [
           "angry"
          ],
          [
           "sad"
          ],
          [
           "sad"
          ],
          [
           "disgusted"
          ],
          [
           "sad"
          ],
          [
           "happy"
          ],
          [
           "angry"
          ],
          [
           "sad"
          ],
          [
           "sad"
          ],
          [
           "sad"
          ],
          [
           "sad"
          ],
          [
           "sad"
          ],
          [
           "sad"
          ],
          [
           "sad"
          ],
          [
           "sad"
          ],
          [
           "sad"
          ],
          [
           "sad"
          ],
          [
           "sad"
          ],
          [
           "sad"
          ],
          [
           "sad"
          ],
          [
           "sad"
          ],
          [
           "sad"
          ],
          [
           "sad"
          ],
          [
           "sad"
          ],
          [
           "angry"
          ],
          [
           "angry"
          ],
          [
           "angry"
          ]
         ],
         "hovertemplate": "Label=sad<br>x=%{x}<br>y=%{y}<br>Predictions=%{customdata[0]}<extra></extra>",
         "legendgroup": "sad",
         "marker": {
          "color": "#FFA15A",
          "opacity": 0.2,
          "size": 12,
          "symbol": "circle"
         },
         "mode": "markers",
         "name": "sad",
         "orientation": "v",
         "showlegend": false,
         "type": "scatter",
         "x": [
          16.45433807373047,
          1.761557698249817,
          -5.357509136199951,
          17.191967010498047,
          -4.603339195251465,
          -4.876088619232178,
          -5.458981513977051,
          -5.204451084136963,
          -2.2247154712677,
          -2.8902788162231445,
          -7.632447719573975,
          -4.766615867614746,
          -4.125430107116699,
          -10.004011154174805,
          -4.869286060333252,
          -5.349554538726807,
          -8.370818138122559,
          -5.564651012420654,
          -4.907251358032227,
          -4.569330215454102,
          -10.263382911682129,
          -5.45501184463501,
          -1.251035451889038,
          -4.524159908294678,
          -4.904415607452393,
          -3.980158567428589,
          -7.906051158905029,
          -10.986648559570312,
          -3.3656392097473145,
          -5.259864330291748,
          9.456404685974121,
          -2.9320201873779297,
          15.15476131439209,
          -8.325234413146973,
          -4.969741344451904,
          -4.951938629150391,
          -4.428644180297852,
          -5.588726997375488,
          -5.450918197631836,
          -4.59144401550293,
          -4.699469566345215,
          -4.098480224609375,
          -5.518585205078125,
          -3.956106662750244,
          -4.773046016693115,
          -5.570815563201904,
          -4.803346633911133,
          -4.816372394561768,
          -5.588202953338623,
          -4.76210880279541,
          -4.76884126663208,
          -10.27338695526123,
          -7.637935161590576,
          -7.322356224060059
         ],
         "xaxis": "x",
         "y": [
          0.8111685514450073,
          3.8114724159240723,
          -9.85788631439209,
          0.25706374645233154,
          -8.15700626373291,
          -10.125287055969238,
          -9.97463607788086,
          -10.674095153808594,
          -6.182254791259766,
          -8.17543888092041,
          2.0687339305877686,
          -10.376633644104004,
          -6.921472549438477,
          3.810628890991211,
          -9.675861358642578,
          -10.62950325012207,
          2.409945249557495,
          -10.094621658325195,
          -9.016375541687012,
          -5.38895845413208,
          20.133529663085938,
          -9.944364547729492,
          5.951931953430176,
          -9.376343727111816,
          -10.618782043457031,
          -8.614191055297852,
          2.4312903881073,
          3.1502792835235596,
          -5.741600036621094,
          -10.660717964172363,
          -13.49232006072998,
          -8.063008308410645,
          -0.18974415957927704,
          2.3915586471557617,
          -10.641770362854004,
          -9.732406616210938,
          -9.057398796081543,
          -10.155557632446289,
          -10.55677604675293,
          -5.312498569488525,
          -8.47649097442627,
          -9.0383882522583,
          -10.480819702148438,
          -7.507957935333252,
          -9.999013900756836,
          -10.333845138549805,
          -10.496930122375488,
          -10.52940559387207,
          -10.152793884277344,
          -9.444723129272461,
          -10.297470092773438,
          3.1238019466400146,
          2.0556535720825195,
          1.8224700689315796
         ],
         "yaxis": "y"
        },
        {
         "customdata": [
          [
           "sad"
          ],
          [
           "angry"
          ],
          [
           "angry"
          ],
          [
           "angry"
          ],
          [
           "sad"
          ],
          [
           "angry"
          ],
          [
           "angry"
          ],
          [
           "angry"
          ],
          [
           "angry"
          ],
          [
           "angry"
          ],
          [
           "angry"
          ],
          [
           "sad"
          ],
          [
           "angry"
          ],
          [
           "happy"
          ],
          [
           "angry"
          ],
          [
           "angry"
          ],
          [
           "angry"
          ],
          [
           "surprised"
          ],
          [
           "happy"
          ],
          [
           "sad"
          ],
          [
           "angry"
          ],
          [
           "angry"
          ],
          [
           "angry"
          ],
          [
           "angry"
          ],
          [
           "angry"
          ],
          [
           "disgusted"
          ],
          [
           "angry"
          ],
          [
           "angry"
          ],
          [
           "disgusted"
          ],
          [
           "angry"
          ],
          [
           "happy"
          ],
          [
           "angry"
          ],
          [
           "angry"
          ],
          [
           "angry"
          ],
          [
           "angry"
          ],
          [
           "angry"
          ],
          [
           "angry"
          ],
          [
           "happy"
          ],
          [
           "happy"
          ],
          [
           "angry"
          ],
          [
           "angry"
          ],
          [
           "angry"
          ],
          [
           "angry"
          ],
          [
           "neutral"
          ],
          [
           "angry"
          ],
          [
           "angry"
          ]
         ],
         "hovertemplate": "Label=angry<br>x=%{x}<br>y=%{y}<br>Predictions=%{customdata[0]}<extra></extra>",
         "legendgroup": "angry",
         "marker": {
          "color": "#636EFA",
          "opacity": 0.2,
          "size": 12,
          "symbol": "circle"
         },
         "mode": "markers",
         "name": "angry",
         "orientation": "v",
         "showlegend": false,
         "type": "scatter",
         "x": [
          -3.751436233520508,
          -11.858874320983887,
          -11.408047676086426,
          -11.872001647949219,
          -3.1663880348205566,
          -5.810354709625244,
          -11.676868438720703,
          -11.152252197265625,
          -8.07394027709961,
          -11.397626876831055,
          -10.756772994995117,
          -2.9809341430664062,
          -10.233716011047363,
          16.6639347076416,
          -10.024436950683594,
          -11.933778762817383,
          -8.130843162536621,
          -8.949962615966797,
          11.044055938720703,
          -3.5889968872070312,
          -4.978832244873047,
          -11.754549980163574,
          -10.78152847290039,
          -11.727359771728516,
          -10.593506813049316,
          9.434680938720703,
          -10.864185333251953,
          -8.396713256835938,
          -0.9555717706680298,
          -11.921628952026367,
          1.4712162017822266,
          -11.295133590698242,
          -11.838715553283691,
          -7.130694389343262,
          -11.101353645324707,
          -11.383665084838867,
          -11.679060935974121,
          11.241406440734863,
          -1.488599181175232,
          -11.75178050994873,
          -5.05818510055542,
          -11.25662899017334,
          -11.40976619720459,
          -2.239116668701172,
          -10.379679679870605,
          -11.552457809448242
         ],
         "xaxis": "x",
         "y": [
          -6.987646102905273,
          3.4063217639923096,
          3.172513723373413,
          3.7853217124938965,
          -8.284858703613281,
          3.8414371013641357,
          3.23861026763916,
          3.864549398422241,
          2.363677740097046,
          4.098647117614746,
          3.7887768745422363,
          -5.500886917114258,
          3.857548952102661,
          0.11704535782337189,
          3.257519006729126,
          3.6853995323181152,
          2.8101813793182373,
          19.57074737548828,
          -1.8701246976852417,
          -6.902316570281982,
          4.591136932373047,
          3.2715837955474854,
          3.91471529006958,
          4.033481121063232,
          3.451789379119873,
          -13.915116310119629,
          3.2724738121032715,
          3.4134273529052734,
          -7.032818794250488,
          3.6650912761688232,
          3.3820033073425293,
          4.069972991943359,
          3.372847557067871,
          2.477144956588745,
          3.981570243835449,
          3.3029401302337646,
          4.067296981811523,
          -2.098292350769043,
          -5.549814701080322,
          4.019577980041504,
          4.149928569793701,
          3.513590097427368,
          3.2928967475891113,
          5.217708587646484,
          3.9431841373443604,
          4.099034309387207
         ],
         "yaxis": "y"
        },
        {
         "customdata": [
          [
           "neutral"
          ],
          [
           "neutral"
          ],
          [
           "neutral"
          ],
          [
           "neutral"
          ],
          [
           "neutral"
          ],
          [
           "neutral"
          ],
          [
           "neutral"
          ],
          [
           "neutral"
          ],
          [
           "angry"
          ],
          [
           "disgusted"
          ],
          [
           "neutral"
          ],
          [
           "neutral"
          ],
          [
           "neutral"
          ],
          [
           "neutral"
          ],
          [
           "neutral"
          ],
          [
           "neutral"
          ],
          [
           "neutral"
          ],
          [
           "neutral"
          ],
          [
           "neutral"
          ],
          [
           "neutral"
          ],
          [
           "neutral"
          ],
          [
           "sad"
          ],
          [
           "neutral"
          ],
          [
           "neutral"
          ],
          [
           "neutral"
          ],
          [
           "neutral"
          ],
          [
           "neutral"
          ],
          [
           "neutral"
          ],
          [
           "neutral"
          ],
          [
           "neutral"
          ],
          [
           "happy"
          ],
          [
           "surprised"
          ],
          [
           "angry"
          ],
          [
           "happy"
          ],
          [
           "sad"
          ],
          [
           "neutral"
          ],
          [
           "neutral"
          ],
          [
           "surprised"
          ],
          [
           "neutral"
          ],
          [
           "neutral"
          ],
          [
           "sad"
          ],
          [
           "neutral"
          ],
          [
           "neutral"
          ],
          [
           "neutral"
          ],
          [
           "neutral"
          ],
          [
           "neutral"
          ],
          [
           "happy"
          ]
         ],
         "hovertemplate": "Label=neutral<br>x=%{x}<br>y=%{y}<br>Predictions=%{customdata[0]}<extra></extra>",
         "legendgroup": "neutral",
         "marker": {
          "color": "#AB63FA",
          "opacity": 0.2,
          "size": 12,
          "symbol": "circle"
         },
         "mode": "markers",
         "name": "neutral",
         "orientation": "v",
         "showlegend": false,
         "type": "scatter",
         "x": [
          -1.4775097370147705,
          2.136627674102783,
          2.4751832485198975,
          0.1922861486673355,
          2.467623233795166,
          -1.82063889503479,
          2.5490286350250244,
          0.9528231024742126,
          -5.964423179626465,
          10.705409049987793,
          2.5874266624450684,
          1.4040441513061523,
          1.809879183769226,
          -1.074528455734253,
          1.8527605533599854,
          1.8548580408096313,
          1.1570039987564087,
          1.9306708574295044,
          0.9399667978286743,
          1.8372995853424072,
          1.4109610319137573,
          -1.7966257333755493,
          0.7696942090988159,
          -1.6036814451217651,
          -1.4105130434036255,
          2.2561593055725098,
          2.5955960750579834,
          -0.9464986324310303,
          1.870104193687439,
          -2.022660493850708,
          1.6581565141677856,
          -9.768631935119629,
          -8.823899269104004,
          11.929662704467773,
          -2.187295436859131,
          2.0644702911376953,
          -1.398478388786316,
          -9.159933090209961,
          2.511108636856079,
          2.5132479667663574,
          -4.603334426879883,
          2.0917458534240723,
          2.4534668922424316,
          1.9015392065048218,
          0.7529174089431763,
          -0.5750359296798706,
          12.763372421264648
         ],
         "xaxis": "x",
         "y": [
          5.645864963531494,
          8.09623908996582,
          8.969474792480469,
          7.091188430786133,
          8.987710952758789,
          7.26891565322876,
          8.502288818359375,
          7.374436855316162,
          3.796154737472534,
          -14.63563346862793,
          8.586949348449707,
          8.149914741516113,
          8.612750053405762,
          5.896490573883057,
          8.8267822265625,
          8.778729438781738,
          8.094718933105469,
          9.010083198547363,
          6.846223831176758,
          8.292292594909668,
          5.594620227813721,
          -5.915615081787109,
          7.567434787750244,
          7.437066555023193,
          7.30916690826416,
          9.088665962219238,
          8.700326919555664,
          6.780063629150391,
          7.357754230499268,
          5.3189377784729,
          3.775118350982666,
          21.35287094116211,
          3.442786931991577,
          -0.14401306211948395,
          -6.181702613830566,
          9.085823059082031,
          5.6959967613220215,
          20.671844482421875,
          8.462902069091797,
          8.463653564453125,
          -5.287909507751465,
          9.09029769897461,
          8.996479034423828,
          8.97384262084961,
          7.623149871826172,
          6.301012992858887,
          -0.1919262856245041
         ],
         "yaxis": "y"
        }
       ],
       "layout": {
        "legend": {
         "title": {
          "text": "Predictions, Correct"
         },
         "tracegroupgap": 0
        },
        "margin": {
         "t": 60
        },
        "template": {
         "data": {
          "bar": [
           {
            "error_x": {
             "color": "#2a3f5f"
            },
            "error_y": {
             "color": "#2a3f5f"
            },
            "marker": {
             "line": {
              "color": "#E5ECF6",
              "width": 0.5
             },
             "pattern": {
              "fillmode": "overlay",
              "size": 10,
              "solidity": 0.2
             }
            },
            "type": "bar"
           }
          ],
          "barpolar": [
           {
            "marker": {
             "line": {
              "color": "#E5ECF6",
              "width": 0.5
             },
             "pattern": {
              "fillmode": "overlay",
              "size": 10,
              "solidity": 0.2
             }
            },
            "type": "barpolar"
           }
          ],
          "carpet": [
           {
            "aaxis": {
             "endlinecolor": "#2a3f5f",
             "gridcolor": "white",
             "linecolor": "white",
             "minorgridcolor": "white",
             "startlinecolor": "#2a3f5f"
            },
            "baxis": {
             "endlinecolor": "#2a3f5f",
             "gridcolor": "white",
             "linecolor": "white",
             "minorgridcolor": "white",
             "startlinecolor": "#2a3f5f"
            },
            "type": "carpet"
           }
          ],
          "choropleth": [
           {
            "colorbar": {
             "outlinewidth": 0,
             "ticks": ""
            },
            "type": "choropleth"
           }
          ],
          "contour": [
           {
            "colorbar": {
             "outlinewidth": 0,
             "ticks": ""
            },
            "colorscale": [
             [
              0,
              "#0d0887"
             ],
             [
              0.1111111111111111,
              "#46039f"
             ],
             [
              0.2222222222222222,
              "#7201a8"
             ],
             [
              0.3333333333333333,
              "#9c179e"
             ],
             [
              0.4444444444444444,
              "#bd3786"
             ],
             [
              0.5555555555555556,
              "#d8576b"
             ],
             [
              0.6666666666666666,
              "#ed7953"
             ],
             [
              0.7777777777777778,
              "#fb9f3a"
             ],
             [
              0.8888888888888888,
              "#fdca26"
             ],
             [
              1,
              "#f0f921"
             ]
            ],
            "type": "contour"
           }
          ],
          "contourcarpet": [
           {
            "colorbar": {
             "outlinewidth": 0,
             "ticks": ""
            },
            "type": "contourcarpet"
           }
          ],
          "heatmap": [
           {
            "colorbar": {
             "outlinewidth": 0,
             "ticks": ""
            },
            "colorscale": [
             [
              0,
              "#0d0887"
             ],
             [
              0.1111111111111111,
              "#46039f"
             ],
             [
              0.2222222222222222,
              "#7201a8"
             ],
             [
              0.3333333333333333,
              "#9c179e"
             ],
             [
              0.4444444444444444,
              "#bd3786"
             ],
             [
              0.5555555555555556,
              "#d8576b"
             ],
             [
              0.6666666666666666,
              "#ed7953"
             ],
             [
              0.7777777777777778,
              "#fb9f3a"
             ],
             [
              0.8888888888888888,
              "#fdca26"
             ],
             [
              1,
              "#f0f921"
             ]
            ],
            "type": "heatmap"
           }
          ],
          "heatmapgl": [
           {
            "colorbar": {
             "outlinewidth": 0,
             "ticks": ""
            },
            "colorscale": [
             [
              0,
              "#0d0887"
             ],
             [
              0.1111111111111111,
              "#46039f"
             ],
             [
              0.2222222222222222,
              "#7201a8"
             ],
             [
              0.3333333333333333,
              "#9c179e"
             ],
             [
              0.4444444444444444,
              "#bd3786"
             ],
             [
              0.5555555555555556,
              "#d8576b"
             ],
             [
              0.6666666666666666,
              "#ed7953"
             ],
             [
              0.7777777777777778,
              "#fb9f3a"
             ],
             [
              0.8888888888888888,
              "#fdca26"
             ],
             [
              1,
              "#f0f921"
             ]
            ],
            "type": "heatmapgl"
           }
          ],
          "histogram": [
           {
            "marker": {
             "pattern": {
              "fillmode": "overlay",
              "size": 10,
              "solidity": 0.2
             }
            },
            "type": "histogram"
           }
          ],
          "histogram2d": [
           {
            "colorbar": {
             "outlinewidth": 0,
             "ticks": ""
            },
            "colorscale": [
             [
              0,
              "#0d0887"
             ],
             [
              0.1111111111111111,
              "#46039f"
             ],
             [
              0.2222222222222222,
              "#7201a8"
             ],
             [
              0.3333333333333333,
              "#9c179e"
             ],
             [
              0.4444444444444444,
              "#bd3786"
             ],
             [
              0.5555555555555556,
              "#d8576b"
             ],
             [
              0.6666666666666666,
              "#ed7953"
             ],
             [
              0.7777777777777778,
              "#fb9f3a"
             ],
             [
              0.8888888888888888,
              "#fdca26"
             ],
             [
              1,
              "#f0f921"
             ]
            ],
            "type": "histogram2d"
           }
          ],
          "histogram2dcontour": [
           {
            "colorbar": {
             "outlinewidth": 0,
             "ticks": ""
            },
            "colorscale": [
             [
              0,
              "#0d0887"
             ],
             [
              0.1111111111111111,
              "#46039f"
             ],
             [
              0.2222222222222222,
              "#7201a8"
             ],
             [
              0.3333333333333333,
              "#9c179e"
             ],
             [
              0.4444444444444444,
              "#bd3786"
             ],
             [
              0.5555555555555556,
              "#d8576b"
             ],
             [
              0.6666666666666666,
              "#ed7953"
             ],
             [
              0.7777777777777778,
              "#fb9f3a"
             ],
             [
              0.8888888888888888,
              "#fdca26"
             ],
             [
              1,
              "#f0f921"
             ]
            ],
            "type": "histogram2dcontour"
           }
          ],
          "mesh3d": [
           {
            "colorbar": {
             "outlinewidth": 0,
             "ticks": ""
            },
            "type": "mesh3d"
           }
          ],
          "parcoords": [
           {
            "line": {
             "colorbar": {
              "outlinewidth": 0,
              "ticks": ""
             }
            },
            "type": "parcoords"
           }
          ],
          "pie": [
           {
            "automargin": true,
            "type": "pie"
           }
          ],
          "scatter": [
           {
            "fillpattern": {
             "fillmode": "overlay",
             "size": 10,
             "solidity": 0.2
            },
            "type": "scatter"
           }
          ],
          "scatter3d": [
           {
            "line": {
             "colorbar": {
              "outlinewidth": 0,
              "ticks": ""
             }
            },
            "marker": {
             "colorbar": {
              "outlinewidth": 0,
              "ticks": ""
             }
            },
            "type": "scatter3d"
           }
          ],
          "scattercarpet": [
           {
            "marker": {
             "colorbar": {
              "outlinewidth": 0,
              "ticks": ""
             }
            },
            "type": "scattercarpet"
           }
          ],
          "scattergeo": [
           {
            "marker": {
             "colorbar": {
              "outlinewidth": 0,
              "ticks": ""
             }
            },
            "type": "scattergeo"
           }
          ],
          "scattergl": [
           {
            "marker": {
             "colorbar": {
              "outlinewidth": 0,
              "ticks": ""
             }
            },
            "type": "scattergl"
           }
          ],
          "scattermapbox": [
           {
            "marker": {
             "colorbar": {
              "outlinewidth": 0,
              "ticks": ""
             }
            },
            "type": "scattermapbox"
           }
          ],
          "scatterpolar": [
           {
            "marker": {
             "colorbar": {
              "outlinewidth": 0,
              "ticks": ""
             }
            },
            "type": "scatterpolar"
           }
          ],
          "scatterpolargl": [
           {
            "marker": {
             "colorbar": {
              "outlinewidth": 0,
              "ticks": ""
             }
            },
            "type": "scatterpolargl"
           }
          ],
          "scatterternary": [
           {
            "marker": {
             "colorbar": {
              "outlinewidth": 0,
              "ticks": ""
             }
            },
            "type": "scatterternary"
           }
          ],
          "surface": [
           {
            "colorbar": {
             "outlinewidth": 0,
             "ticks": ""
            },
            "colorscale": [
             [
              0,
              "#0d0887"
             ],
             [
              0.1111111111111111,
              "#46039f"
             ],
             [
              0.2222222222222222,
              "#7201a8"
             ],
             [
              0.3333333333333333,
              "#9c179e"
             ],
             [
              0.4444444444444444,
              "#bd3786"
             ],
             [
              0.5555555555555556,
              "#d8576b"
             ],
             [
              0.6666666666666666,
              "#ed7953"
             ],
             [
              0.7777777777777778,
              "#fb9f3a"
             ],
             [
              0.8888888888888888,
              "#fdca26"
             ],
             [
              1,
              "#f0f921"
             ]
            ],
            "type": "surface"
           }
          ],
          "table": [
           {
            "cells": {
             "fill": {
              "color": "#EBF0F8"
             },
             "line": {
              "color": "white"
             }
            },
            "header": {
             "fill": {
              "color": "#C8D4E3"
             },
             "line": {
              "color": "white"
             }
            },
            "type": "table"
           }
          ]
         },
         "layout": {
          "annotationdefaults": {
           "arrowcolor": "#2a3f5f",
           "arrowhead": 0,
           "arrowwidth": 1
          },
          "autotypenumbers": "strict",
          "coloraxis": {
           "colorbar": {
            "outlinewidth": 0,
            "ticks": ""
           }
          },
          "colorscale": {
           "diverging": [
            [
             0,
             "#8e0152"
            ],
            [
             0.1,
             "#c51b7d"
            ],
            [
             0.2,
             "#de77ae"
            ],
            [
             0.3,
             "#f1b6da"
            ],
            [
             0.4,
             "#fde0ef"
            ],
            [
             0.5,
             "#f7f7f7"
            ],
            [
             0.6,
             "#e6f5d0"
            ],
            [
             0.7,
             "#b8e186"
            ],
            [
             0.8,
             "#7fbc41"
            ],
            [
             0.9,
             "#4d9221"
            ],
            [
             1,
             "#276419"
            ]
           ],
           "sequential": [
            [
             0,
             "#0d0887"
            ],
            [
             0.1111111111111111,
             "#46039f"
            ],
            [
             0.2222222222222222,
             "#7201a8"
            ],
            [
             0.3333333333333333,
             "#9c179e"
            ],
            [
             0.4444444444444444,
             "#bd3786"
            ],
            [
             0.5555555555555556,
             "#d8576b"
            ],
            [
             0.6666666666666666,
             "#ed7953"
            ],
            [
             0.7777777777777778,
             "#fb9f3a"
            ],
            [
             0.8888888888888888,
             "#fdca26"
            ],
            [
             1,
             "#f0f921"
            ]
           ],
           "sequentialminus": [
            [
             0,
             "#0d0887"
            ],
            [
             0.1111111111111111,
             "#46039f"
            ],
            [
             0.2222222222222222,
             "#7201a8"
            ],
            [
             0.3333333333333333,
             "#9c179e"
            ],
            [
             0.4444444444444444,
             "#bd3786"
            ],
            [
             0.5555555555555556,
             "#d8576b"
            ],
            [
             0.6666666666666666,
             "#ed7953"
            ],
            [
             0.7777777777777778,
             "#fb9f3a"
            ],
            [
             0.8888888888888888,
             "#fdca26"
            ],
            [
             1,
             "#f0f921"
            ]
           ]
          },
          "colorway": [
           "#636efa",
           "#EF553B",
           "#00cc96",
           "#ab63fa",
           "#FFA15A",
           "#19d3f3",
           "#FF6692",
           "#B6E880",
           "#FF97FF",
           "#FECB52"
          ],
          "font": {
           "color": "#2a3f5f"
          },
          "geo": {
           "bgcolor": "white",
           "lakecolor": "white",
           "landcolor": "#E5ECF6",
           "showlakes": true,
           "showland": true,
           "subunitcolor": "white"
          },
          "hoverlabel": {
           "align": "left"
          },
          "hovermode": "closest",
          "mapbox": {
           "style": "light"
          },
          "paper_bgcolor": "white",
          "plot_bgcolor": "#E5ECF6",
          "polar": {
           "angularaxis": {
            "gridcolor": "white",
            "linecolor": "white",
            "ticks": ""
           },
           "bgcolor": "#E5ECF6",
           "radialaxis": {
            "gridcolor": "white",
            "linecolor": "white",
            "ticks": ""
           }
          },
          "scene": {
           "xaxis": {
            "backgroundcolor": "#E5ECF6",
            "gridcolor": "white",
            "gridwidth": 2,
            "linecolor": "white",
            "showbackground": true,
            "ticks": "",
            "zerolinecolor": "white"
           },
           "yaxis": {
            "backgroundcolor": "#E5ECF6",
            "gridcolor": "white",
            "gridwidth": 2,
            "linecolor": "white",
            "showbackground": true,
            "ticks": "",
            "zerolinecolor": "white"
           },
           "zaxis": {
            "backgroundcolor": "#E5ECF6",
            "gridcolor": "white",
            "gridwidth": 2,
            "linecolor": "white",
            "showbackground": true,
            "ticks": "",
            "zerolinecolor": "white"
           }
          },
          "shapedefaults": {
           "line": {
            "color": "#2a3f5f"
           }
          },
          "ternary": {
           "aaxis": {
            "gridcolor": "white",
            "linecolor": "white",
            "ticks": ""
           },
           "baxis": {
            "gridcolor": "white",
            "linecolor": "white",
            "ticks": ""
           },
           "bgcolor": "#E5ECF6",
           "caxis": {
            "gridcolor": "white",
            "linecolor": "white",
            "ticks": ""
           }
          },
          "title": {
           "x": 0.05
          },
          "xaxis": {
           "automargin": true,
           "gridcolor": "white",
           "linecolor": "white",
           "ticks": "",
           "title": {
            "standoff": 15
           },
           "zerolinecolor": "white",
           "zerolinewidth": 2
          },
          "yaxis": {
           "automargin": true,
           "gridcolor": "white",
           "linecolor": "white",
           "ticks": "",
           "title": {
            "standoff": 15
           },
           "zerolinecolor": "white",
           "zerolinewidth": 2
          }
         }
        },
        "xaxis": {
         "anchor": "y",
         "domain": [
          0,
          1
         ],
         "title": {
          "text": "x"
         }
        },
        "yaxis": {
         "anchor": "x",
         "domain": [
          0,
          1
         ],
         "title": {
          "text": "y"
         }
        }
       }
      },
      "text/html": [
       "<div>                            <div id=\"28dee389-4216-4868-84f3-cd4e89fb20bf\" class=\"plotly-graph-div\" style=\"height:525px; width:100%;\"></div>            <script type=\"text/javascript\">                require([\"plotly\"], function(Plotly) {                    window.PLOTLYENV=window.PLOTLYENV || {};                                    if (document.getElementById(\"28dee389-4216-4868-84f3-cd4e89fb20bf\")) {                    Plotly.newPlot(                        \"28dee389-4216-4868-84f3-cd4e89fb20bf\",                        [{\"hovertemplate\":\"Predictions=surprised\\u003cbr\\u003eCorrect=True\\u003cbr\\u003ex=%{x}\\u003cbr\\u003ey=%{y}\\u003cextra\\u003e\\u003c\\u002fextra\\u003e\",\"legendgroup\":\"surprised, True\",\"marker\":{\"color\":\"#19D3F3\",\"symbol\":\"circle\"},\"mode\":\"markers\",\"name\":\"surprised, True\",\"orientation\":\"v\",\"showlegend\":true,\"x\":[-9.765579223632812,-9.766489028930664,-10.129155158996582,-9.778422355651855,-8.77328872680664,-9.759117126464844,-9.189390182495117,-10.30167007446289,-10.60330581665039,-2.276702404022217,-10.324586868286133,-9.64089298248291,-10.426583290100098,-10.718498229980469,-8.503440856933594,-10.723028182983398,-10.023463249206543,-10.197888374328613,-10.046395301818848,-10.632393836975098,-9.749022483825684,-8.509657859802246,-9.759332656860352,-8.769441604614258,-9.543691635131836,-10.027055740356445,-10.381248474121094,-9.999771118164062,-10.216423034667969,-8.51894474029541,-10.72514533996582,-10.594639778137207,-10.13524055480957,-10.71493911743164,-9.945686340332031,-10.466827392578125,-10.46566104888916,-9.778676986694336,-8.878824234008789,-10.35310173034668],\"xaxis\":\"x\",\"y\":[23.341405868530273,23.341554641723633,23.526620864868164,23.35997772216797,20.92621421813965,23.058286666870117,20.427961349487305,22.82636260986328,23.300254821777344,-4.3351826667785645,22.31840705871582,22.25990867614746,23.480106353759766,22.9954833984375,18.827417373657227,23.005905151367188,22.545507431030273,19.839702606201172,21.88250732421875,22.802396774291992,22.718643188476562,18.9306583404541,22.831735610961914,20.80474090576172,22.417322158813477,23.50223731994629,21.855697631835938,22.217124938964844,20.943769454956055,18.943021774291992,23.030485153198242,22.667924880981445,22.89638328552246,23.114032745361328,19.8283748626709,23.463111877441406,23.462146759033203,23.360477447509766,20.799707412719727,22.19328498840332],\"yaxis\":\"y\",\"type\":\"scatter\"},{\"hovertemplate\":\"Predictions=surprised\\u003cbr\\u003eCorrect=False\\u003cbr\\u003ex=%{x}\\u003cbr\\u003ey=%{y}\\u003cextra\\u003e\\u003c\\u002fextra\\u003e\",\"legendgroup\":\"surprised, False\",\"marker\":{\"color\":\"#19D3F3\",\"symbol\":\"x\"},\"mode\":\"markers\",\"name\":\"surprised, False\",\"orientation\":\"v\",\"showlegend\":true,\"x\":[-8.949962615966797,-10.209056854248047,-9.528114318847656,-10.263382911682129,-10.184048652648926,-9.768631935119629,-9.159933090209961,-10.191725730895996],\"xaxis\":\"x\",\"y\":[19.57074737548828,19.888797760009766,22.497211456298828,20.133529663085938,19.24724769592285,21.35287094116211,20.671844482421875,23.53252601623535],\"yaxis\":\"y\",\"type\":\"scatter\"},{\"hovertemplate\":\"Predictions=happy\\u003cbr\\u003eCorrect=True\\u003cbr\\u003ex=%{x}\\u003cbr\\u003ey=%{y}\\u003cextra\\u003e\\u003c\\u002fextra\\u003e\",\"legendgroup\":\"happy, True\",\"marker\":{\"color\":\"#00CC96\",\"symbol\":\"circle\"},\"mode\":\"markers\",\"name\":\"happy, True\",\"orientation\":\"v\",\"showlegend\":true,\"x\":[15.183306694030762,17.51603889465332,16.452791213989258,12.830772399902344,16.670265197753906,10.611492156982422,17.01951789855957,12.824997901916504,15.165200233459473,11.311417579650879,9.506867408752441,11.794051170349121,12.855340003967285,12.737581253051758,17.426727294921875,16.83905029296875,16.497591018676758,17.50750160217285,15.392129898071289,16.93307876586914,17.163022994995117,16.274608612060547,15.10721492767334,15.44951343536377,17.49219512939453,17.45740509033203,15.359556198120117,17.332645416259766,17.371305465698242,15.00024700164795,14.525161743164062,16.548425674438477,15.12601089477539,16.99853515625,14.467676162719727,16.711326599121094,12.876108169555664,11.80762004852295,17.426963806152344,17.023632049560547,9.874634742736816,11.839954376220703,12.932884216308594,16.537946701049805,10.615160942077637,16.886972427368164,17.115182876586914,14.474987983703613,15.720551490783691,13.58182430267334,14.122849464416504],\"xaxis\":\"x\",\"y\":[-1.0562372207641602,0.7070499658584595,0.467633992433548,-0.9952190518379211,0.9455105066299438,-3.299776554107666,1.1864973306655884,-0.19482292234897614,-0.18760453164577484,-1.9757400751113892,-1.7144426107406616,-0.15786834061145782,-1.747681975364685,-1.4542920589447021,0.4207153916358948,0.5285782217979431,-0.3069058656692505,0.6057310700416565,0.2711438834667206,0.2880123257637024,0.21574966609477997,0.3902854919433594,0.22315607964992523,0.33769696950912476,0.5405477285385132,0.4550328254699707,-0.30772173404693604,1.0813963413238525,1.045680284500122,-1.1315139532089233,-1.49940824508667,0.4029425382614136,-0.8636281490325928,1.1863750219345093,-1.3801350593566895,1.0173624753952026,-0.21259595453739166,-1.2488808631896973,0.9817702174186707,1.1844907999038696,-1.8844208717346191,-0.16043144464492798,-0.35494011640548706,0.7896550297737122,-3.226682186126709,1.150671124458313,0.24854183197021484,-1.5358980894088745,0.45899951457977295,-0.20658764243125916,-0.886525571346283],\"yaxis\":\"y\",\"type\":\"scatter\"},{\"hovertemplate\":\"Predictions=happy\\u003cbr\\u003eCorrect=False\\u003cbr\\u003ex=%{x}\\u003cbr\\u003ey=%{y}\\u003cextra\\u003e\\u003c\\u002fextra\\u003e\",\"legendgroup\":\"happy, False\",\"marker\":{\"color\":\"#00CC96\",\"symbol\":\"x\"},\"mode\":\"markers\",\"name\":\"happy, False\",\"orientation\":\"v\",\"showlegend\":true,\"x\":[13.704675674438477,16.45433807373047,1.761557698249817,17.191967010498047,9.587541580200195,13.310791015625,16.6639347076416,11.044055938720703,15.15476131439209,1.4712162017822266,1.6581565141677856,9.8494234085083,13.955355644226074,11.929662704467773,11.241406440734863,-1.488599181175232,12.763372421264648,17.430213928222656],\"xaxis\":\"x\",\"y\":[-1.2909687757492065,0.8111685514450073,3.8114724159240723,0.25706374645233154,-1.976073145866394,-1.2361629009246826,0.11704535782337189,-1.8701246976852417,-0.18974415957927704,3.3820033073425293,3.775118350982666,-1.9308494329452515,-0.948419988155365,-0.14401306211948395,-2.098292350769043,-5.549814701080322,-0.1919262856245041,0.9771060347557068],\"yaxis\":\"y\",\"type\":\"scatter\"},{\"hovertemplate\":\"Predictions=disgusted\\u003cbr\\u003eCorrect=True\\u003cbr\\u003ex=%{x}\\u003cbr\\u003ey=%{y}\\u003cextra\\u003e\\u003c\\u002fextra\\u003e\",\"legendgroup\":\"disgusted, True\",\"marker\":{\"color\":\"#EF553B\",\"symbol\":\"circle\"},\"mode\":\"markers\",\"name\":\"disgusted, True\",\"orientation\":\"v\",\"showlegend\":true,\"x\":[9.62308406829834,9.5394287109375,11.122957229614258,10.550551414489746,10.342231750488281,9.917680740356445,10.532119750976562,11.330926895141602,10.85114860534668,11.18765926361084,10.103011131286621,11.350263595581055,10.84395980834961,10.504724502563477,10.780488967895508,10.495102882385254,11.205170631408691,10.70552921295166,11.373882293701172,10.490045547485352,9.909372329711914,11.350091934204102,10.98865795135498,10.366944313049316,10.822493553161621,10.53259563446045,10.406854629516602,11.405885696411133,10.36812686920166,10.33272647857666,11.24413776397705,11.133302688598633,10.97703742980957,10.532208442687988,11.171243667602539,9.809335708618164,11.10841178894043],\"xaxis\":\"x\",\"y\":[-14.520956993103027,-14.357460975646973,-16.368579864501953,-16.622961044311523,-15.853239059448242,-14.454545021057129,-16.981294631958008,-16.47059440612793,-13.571812629699707,-16.166297912597656,-15.371753692626953,-16.945236206054688,-16.2849178314209,-15.453908920288086,-17.172035217285156,-16.722055435180664,-17.094423294067383,-16.562210083007812,-16.903295516967773,-16.742172241210938,-12.700992584228516,-16.945505142211914,-17.191770553588867,-15.747929573059082,-17.18073272705078,-16.9796142578125,-16.008481979370117,-16.81062126159668,-14.763579368591309,-15.820773124694824,-16.491609573364258,-15.910192489624023,-17.190311431884766,-16.88998794555664,-16.431344985961914,-14.72582721710205,-15.227828025817871],\"yaxis\":\"y\",\"type\":\"scatter\"},{\"hovertemplate\":\"Predictions=disgusted\\u003cbr\\u003eCorrect=False\\u003cbr\\u003ex=%{x}\\u003cbr\\u003ey=%{y}\\u003cextra\\u003e\\u003c\\u002fextra\\u003e\",\"legendgroup\":\"disgusted, False\",\"marker\":{\"color\":\"#EF553B\",\"symbol\":\"x\"},\"mode\":\"markers\",\"name\":\"disgusted, False\",\"orientation\":\"v\",\"showlegend\":true,\"x\":[10.220852851867676,10.705409049987793,10.217803001403809,9.434680938720703,9.621269226074219,9.905010223388672,9.456404685974121,-0.9555717706680298,10.836102485656738,10.525964736938477],\"xaxis\":\"x\",\"y\":[-12.601432800292969,-14.63563346862793,-12.537672996520996,-13.915116310119629,-14.28624153137207,-12.162500381469727,-13.49232006072998,-7.032818794250488,-13.506364822387695,-13.115828514099121],\"yaxis\":\"y\",\"type\":\"scatter\"},{\"hovertemplate\":\"Predictions=sad\\u003cbr\\u003eCorrect=True\\u003cbr\\u003ex=%{x}\\u003cbr\\u003ey=%{y}\\u003cextra\\u003e\\u003c\\u002fextra\\u003e\",\"legendgroup\":\"sad, True\",\"marker\":{\"color\":\"#FFA15A\",\"symbol\":\"circle\"},\"mode\":\"markers\",\"name\":\"sad, True\",\"orientation\":\"v\",\"showlegend\":true,\"x\":[-5.357509136199951,-4.603339195251465,-4.876088619232178,-5.458981513977051,-5.204451084136963,-2.2247154712677,-2.8902788162231445,-4.766615867614746,-4.125430107116699,-4.869286060333252,-5.349554538726807,-5.564651012420654,-4.907251358032227,-4.569330215454102,-5.45501184463501,-4.524159908294678,-4.904415607452393,-3.980158567428589,-3.3656392097473145,-5.259864330291748,-2.9320201873779297,-4.969741344451904,-4.951938629150391,-4.428644180297852,-5.588726997375488,-5.450918197631836,-4.59144401550293,-4.699469566345215,-4.098480224609375,-5.518585205078125,-3.956106662750244,-4.773046016693115,-5.570815563201904,-4.803346633911133,-4.816372394561768,-5.588202953338623,-4.76210880279541,-4.76884126663208],\"xaxis\":\"x\",\"y\":[-9.85788631439209,-8.15700626373291,-10.125287055969238,-9.97463607788086,-10.674095153808594,-6.182254791259766,-8.17543888092041,-10.376633644104004,-6.921472549438477,-9.675861358642578,-10.62950325012207,-10.094621658325195,-9.016375541687012,-5.38895845413208,-9.944364547729492,-9.376343727111816,-10.618782043457031,-8.614191055297852,-5.741600036621094,-10.660717964172363,-8.063008308410645,-10.641770362854004,-9.732406616210938,-9.057398796081543,-10.155557632446289,-10.55677604675293,-5.312498569488525,-8.47649097442627,-9.0383882522583,-10.480819702148438,-7.507957935333252,-9.999013900756836,-10.333845138549805,-10.496930122375488,-10.52940559387207,-10.152793884277344,-9.444723129272461,-10.297470092773438],\"yaxis\":\"y\",\"type\":\"scatter\"},{\"hovertemplate\":\"Predictions=sad\\u003cbr\\u003eCorrect=False\\u003cbr\\u003ex=%{x}\\u003cbr\\u003ey=%{y}\\u003cextra\\u003e\\u003c\\u002fextra\\u003e\",\"legendgroup\":\"sad, False\",\"marker\":{\"color\":\"#FFA15A\",\"symbol\":\"x\"},\"mode\":\"markers\",\"name\":\"sad, False\",\"orientation\":\"v\",\"showlegend\":true,\"x\":[-3.751436233520508,-3.3137593269348145,-3.1663880348205566,-2.2508158683776855,-3.343754529953003,-2.9809341430664062,-3.5889968872070312,-3.3035809993743896,-1.7966257333755493,-2.3990681171417236,-3.436598062515259,-1.8995336294174194,-2.187295436859131,-4.603334426879883,-3.818814992904663],\"xaxis\":\"x\",\"y\":[-6.987646102905273,-5.860826015472412,-8.284858703613281,-7.951965808868408,-8.355234146118164,-5.500886917114258,-6.902316570281982,-8.45032787322998,-5.915615081787109,-8.006760597229004,-8.421971321105957,-7.2967143058776855,-6.181702613830566,-5.287909507751465,-8.155932426452637],\"yaxis\":\"y\",\"type\":\"scatter\"},{\"hovertemplate\":\"Predictions=angry\\u003cbr\\u003eCorrect=True\\u003cbr\\u003ex=%{x}\\u003cbr\\u003ey=%{y}\\u003cextra\\u003e\\u003c\\u002fextra\\u003e\",\"legendgroup\":\"angry, True\",\"marker\":{\"color\":\"#636EFA\",\"symbol\":\"circle\"},\"mode\":\"markers\",\"name\":\"angry, True\",\"orientation\":\"v\",\"showlegend\":true,\"x\":[-11.858874320983887,-11.408047676086426,-11.872001647949219,-5.810354709625244,-11.676868438720703,-11.152252197265625,-8.07394027709961,-11.397626876831055,-10.756772994995117,-10.233716011047363,-10.024436950683594,-11.933778762817383,-8.130843162536621,-4.978832244873047,-11.754549980163574,-10.78152847290039,-11.727359771728516,-10.593506813049316,-10.864185333251953,-8.396713256835938,-11.921628952026367,-11.295133590698242,-11.838715553283691,-7.130694389343262,-11.101353645324707,-11.383665084838867,-11.679060935974121,-11.75178050994873,-5.05818510055542,-11.25662899017334,-11.40976619720459,-10.379679679870605,-11.552457809448242],\"xaxis\":\"x\",\"y\":[3.4063217639923096,3.172513723373413,3.7853217124938965,3.8414371013641357,3.23861026763916,3.864549398422241,2.363677740097046,4.098647117614746,3.7887768745422363,3.857548952102661,3.257519006729126,3.6853995323181152,2.8101813793182373,4.591136932373047,3.2715837955474854,3.91471529006958,4.033481121063232,3.451789379119873,3.2724738121032715,3.4134273529052734,3.6650912761688232,4.069972991943359,3.372847557067871,2.477144956588745,3.981570243835449,3.3029401302337646,4.067296981811523,4.019577980041504,4.149928569793701,3.513590097427368,3.2928967475891113,3.9431841373443604,4.099034309387207],\"yaxis\":\"y\",\"type\":\"scatter\"},{\"hovertemplate\":\"Predictions=angry\\u003cbr\\u003eCorrect=False\\u003cbr\\u003ex=%{x}\\u003cbr\\u003ey=%{y}\\u003cextra\\u003e\\u003c\\u002fextra\\u003e\",\"legendgroup\":\"angry, False\",\"marker\":{\"color\":\"#636EFA\",\"symbol\":\"x\"},\"mode\":\"markers\",\"name\":\"angry, False\",\"orientation\":\"v\",\"showlegend\":true,\"x\":[-7.632447719573975,-5.964423179626465,-8.348567962646484,-10.004011154174805,-8.370818138122559,-4.662577152252197,-7.906051158905029,-10.986648559570312,-7.177621364593506,-4.530930519104004,-7.1771979331970215,-8.325234413146973,-7.779443740844727,-8.823899269104004,-8.959860801696777,-7.464172840118408,-10.592541694641113,-10.27338695526123,-7.637935161590576,-7.322356224060059,-5.678132057189941],\"xaxis\":\"x\",\"y\":[2.0687339305877686,3.796154737472534,2.453228235244751,3.810628890991211,2.409945249557495,4.422579765319824,2.4312903881073,3.1502792835235596,2.4432623386383057,4.621939659118652,1.8243519067764282,2.3915586471557617,2.1520614624023438,3.442786931991577,3.5771584510803223,1.9049293994903564,3.3632607460021973,3.1238019466400146,2.0556535720825195,1.8224700689315796,3.853926420211792],\"yaxis\":\"y\",\"type\":\"scatter\"},{\"hovertemplate\":\"Predictions=neutral\\u003cbr\\u003eCorrect=True\\u003cbr\\u003ex=%{x}\\u003cbr\\u003ey=%{y}\\u003cextra\\u003e\\u003c\\u002fextra\\u003e\",\"legendgroup\":\"neutral, True\",\"marker\":{\"color\":\"#AB63FA\",\"symbol\":\"circle\"},\"mode\":\"markers\",\"name\":\"neutral, True\",\"orientation\":\"v\",\"showlegend\":true,\"x\":[-1.4775097370147705,2.136627674102783,2.4751832485198975,0.1922861486673355,2.467623233795166,-1.82063889503479,2.5490286350250244,0.9528231024742126,2.5874266624450684,1.4040441513061523,1.809879183769226,-1.074528455734253,1.8527605533599854,1.8548580408096313,1.1570039987564087,1.9306708574295044,0.9399667978286743,1.8372995853424072,1.4109610319137573,0.7696942090988159,-1.6036814451217651,-1.4105130434036255,2.2561593055725098,2.5955960750579834,-0.9464986324310303,1.870104193687439,-2.022660493850708,2.0644702911376953,-1.398478388786316,2.511108636856079,2.5132479667663574,2.0917458534240723,2.4534668922424316,1.9015392065048218,0.7529174089431763,-0.5750359296798706],\"xaxis\":\"x\",\"y\":[5.645864963531494,8.09623908996582,8.969474792480469,7.091188430786133,8.987710952758789,7.26891565322876,8.502288818359375,7.374436855316162,8.586949348449707,8.149914741516113,8.612750053405762,5.896490573883057,8.8267822265625,8.778729438781738,8.094718933105469,9.010083198547363,6.846223831176758,8.292292594909668,5.594620227813721,7.567434787750244,7.437066555023193,7.30916690826416,9.088665962219238,8.700326919555664,6.780063629150391,7.357754230499268,5.3189377784729,9.085823059082031,5.6959967613220215,8.462902069091797,8.463653564453125,9.09029769897461,8.996479034423828,8.97384262084961,7.623149871826172,6.301012992858887],\"yaxis\":\"y\",\"type\":\"scatter\"},{\"hovertemplate\":\"Predictions=neutral\\u003cbr\\u003eCorrect=False\\u003cbr\\u003ex=%{x}\\u003cbr\\u003ey=%{y}\\u003cextra\\u003e\\u003c\\u002fextra\\u003e\",\"legendgroup\":\"neutral, False\",\"marker\":{\"color\":\"#AB63FA\",\"symbol\":\"x\"},\"mode\":\"markers\",\"name\":\"neutral, False\",\"orientation\":\"v\",\"showlegend\":true,\"x\":[1.917640209197998,1.5650508403778076,-0.6252778768539429,-0.46873143315315247,0.8442085981369019,-1.251035451889038,-0.6410654783248901,-1.1137375831604004,1.4688760042190552,-1.4053157567977905,-1.4256764650344849,0.9003099799156189,2.168626546859741,-0.26102766394615173,1.649156093597412,0.3758230209350586,2.4541265964508057,-2.239116668701172],\"xaxis\":\"x\",\"y\":[7.529217720031738,4.61806583404541,7.005074501037598,6.61059045791626,3.4438412189483643,5.951931953430176,5.404842853546143,7.020646572113037,6.277503967285156,7.270858287811279,5.694481372833252,6.063082218170166,8.394935607910156,6.681397914886475,8.348347663879395,7.349381923675537,8.406063079833984,5.217708587646484],\"yaxis\":\"y\",\"type\":\"scatter\"},{\"customdata\":[[\"surprised\"],[\"surprised\"],[\"surprised\"],[\"surprised\"],[\"sad\"],[\"surprised\"],[\"surprised\"],[\"happy\"],[\"surprised\"],[\"surprised\"],[\"sad\"],[\"surprised\"],[\"surprised\"],[\"surprised\"],[\"angry\"],[\"surprised\"],[\"neutral\"],[\"surprised\"],[\"surprised\"],[\"neutral\"],[\"surprised\"],[\"surprised\"],[\"surprised\"],[\"surprised\"],[\"surprised\"],[\"surprised\"],[\"surprised\"],[\"neutral\"],[\"angry\"],[\"surprised\"],[\"surprised\"],[\"surprised\"],[\"surprised\"],[\"surprised\"],[\"surprised\"],[\"surprised\"],[\"surprised\"],[\"surprised\"],[\"surprised\"],[\"neutral\"],[\"surprised\"],[\"neutral\"],[\"neutral\"],[\"happy\"],[\"angry\"],[\"surprised\"],[\"neutral\"],[\"surprised\"],[\"surprised\"],[\"neutral\"],[\"surprised\"],[\"surprised\"],[\"surprised\"],[\"surprised\"],[\"surprised\"],[\"happy\"]],\"hovertemplate\":\"Label=surprised\\u003cbr\\u003ex=%{x}\\u003cbr\\u003ey=%{y}\\u003cbr\\u003ePredictions=%{customdata[0]}\\u003cextra\\u003e\\u003c\\u002fextra\\u003e\",\"legendgroup\":\"surprised\",\"marker\":{\"color\":\"#19D3F3\",\"opacity\":0.2,\"size\":12,\"symbol\":\"circle\"},\"mode\":\"markers\",\"name\":\"surprised\",\"orientation\":\"v\",\"showlegend\":false,\"x\":[-9.765579223632812,-9.766489028930664,-10.129155158996582,-9.778422355651855,-3.3137593269348145,-8.77328872680664,-9.759117126464844,9.587541580200195,-9.189390182495117,-10.30167007446289,-3.343754529953003,-10.60330581665039,-2.276702404022217,-10.324586868286133,-8.348567962646484,-9.64089298248291,-0.6252778768539429,-10.426583290100098,-10.718498229980469,-0.46873143315315247,-8.503440856933594,-10.723028182983398,-10.023463249206543,-10.197888374328613,-10.046395301818848,-10.632393836975098,-9.749022483825684,-1.1137375831604004,-4.530930519104004,-8.509657859802246,-9.759332656860352,-8.769441604614258,-9.543691635131836,-10.027055740356445,-10.381248474121094,-9.999771118164062,-10.216423034667969,-8.51894474029541,-10.72514533996582,-1.4053157567977905,-10.594639778137207,2.168626546859741,-0.26102766394615173,9.8494234085083,-8.959860801696777,-10.13524055480957,1.649156093597412,-10.71493911743164,-9.945686340332031,0.3758230209350586,-10.466827392578125,-10.46566104888916,-9.778676986694336,-8.878824234008789,-10.35310173034668,17.430213928222656],\"xaxis\":\"x\",\"y\":[23.341405868530273,23.341554641723633,23.526620864868164,23.35997772216797,-5.860826015472412,20.92621421813965,23.058286666870117,-1.976073145866394,20.427961349487305,22.82636260986328,-8.355234146118164,23.300254821777344,-4.3351826667785645,22.31840705871582,2.453228235244751,22.25990867614746,7.005074501037598,23.480106353759766,22.9954833984375,6.61059045791626,18.827417373657227,23.005905151367188,22.545507431030273,19.839702606201172,21.88250732421875,22.802396774291992,22.718643188476562,7.020646572113037,4.621939659118652,18.9306583404541,22.831735610961914,20.80474090576172,22.417322158813477,23.50223731994629,21.855697631835938,22.217124938964844,20.943769454956055,18.943021774291992,23.030485153198242,7.270858287811279,22.667924880981445,8.394935607910156,6.681397914886475,-1.9308494329452515,3.5771584510803223,22.89638328552246,8.348347663879395,23.114032745361328,19.8283748626709,7.349381923675537,23.463111877441406,23.462146759033203,23.360477447509766,20.799707412719727,22.19328498840332,0.9771060347557068],\"yaxis\":\"y\",\"type\":\"scatter\"},{\"customdata\":[[\"happy\"],[\"disgusted\"],[\"disgusted\"],[\"disgusted\"],[\"disgusted\"],[\"disgusted\"],[\"disgusted\"],[\"sad\"],[\"happy\"],[\"disgusted\"],[\"disgusted\"],[\"disgusted\"],[\"disgusted\"],[\"disgusted\"],[\"disgusted\"],[\"disgusted\"],[\"disgusted\"],[\"disgusted\"],[\"disgusted\"],[\"disgusted\"],[\"sad\"],[\"disgusted\"],[\"disgusted\"],[\"neutral\"],[\"angry\"],[\"disgusted\"],[\"angry\"],[\"surprised\"],[\"sad\"],[\"neutral\"],[\"disgusted\"],[\"disgusted\"],[\"happy\"],[\"angry\"],[\"disgusted\"],[\"disgusted\"],[\"disgusted\"],[\"sad\"],[\"disgusted\"],[\"disgusted\"],[\"sad\"],[\"angry\"],[\"disgusted\"],[\"angry\"],[\"disgusted\"],[\"disgusted\"],[\"disgusted\"],[\"disgusted\"],[\"disgusted\"],[\"disgusted\"],[\"sad\"],[\"disgusted\"],[\"disgusted\"],[\"disgusted\"]],\"hovertemplate\":\"Label=disgusted\\u003cbr\\u003ex=%{x}\\u003cbr\\u003ey=%{y}\\u003cbr\\u003ePredictions=%{customdata[0]}\\u003cextra\\u003e\\u003c\\u002fextra\\u003e\",\"legendgroup\":\"disgusted\",\"marker\":{\"color\":\"#EF553B\",\"opacity\":0.2,\"size\":12,\"symbol\":\"circle\"},\"mode\":\"markers\",\"name\":\"disgusted\",\"orientation\":\"v\",\"showlegend\":false,\"x\":[13.704675674438477,9.62308406829834,9.5394287109375,11.122957229614258,10.550551414489746,10.342231750488281,9.917680740356445,-2.2508158683776855,13.310791015625,10.532119750976562,11.330926895141602,10.85114860534668,11.18765926361084,10.103011131286621,11.350263595581055,10.84395980834961,10.504724502563477,10.780488967895508,10.495102882385254,11.205170631408691,-3.3035809993743896,10.70552921295166,11.373882293701172,-0.6410654783248901,-7.177621364593506,10.490045547485352,-7.1771979331970215,-10.184048652648926,-2.3990681171417236,-1.4256764650344849,9.909372329711914,11.350091934204102,13.955355644226074,-7.779443740844727,10.98865795135498,10.366944313049316,10.822493553161621,-3.436598062515259,10.53259563446045,10.406854629516602,-1.8995336294174194,-7.464172840118408,11.405885696411133,-10.592541694641113,10.36812686920166,10.33272647857666,11.24413776397705,11.133302688598633,10.97703742980957,10.532208442687988,-3.818814992904663,11.171243667602539,9.809335708618164,11.10841178894043],\"xaxis\":\"x\",\"y\":[-1.2909687757492065,-14.520956993103027,-14.357460975646973,-16.368579864501953,-16.622961044311523,-15.853239059448242,-14.454545021057129,-7.951965808868408,-1.2361629009246826,-16.981294631958008,-16.47059440612793,-13.571812629699707,-16.166297912597656,-15.371753692626953,-16.945236206054688,-16.2849178314209,-15.453908920288086,-17.172035217285156,-16.722055435180664,-17.094423294067383,-8.45032787322998,-16.562210083007812,-16.903295516967773,5.404842853546143,2.4432623386383057,-16.742172241210938,1.8243519067764282,19.24724769592285,-8.006760597229004,5.694481372833252,-12.700992584228516,-16.945505142211914,-0.948419988155365,2.1520614624023438,-17.191770553588867,-15.747929573059082,-17.18073272705078,-8.421971321105957,-16.9796142578125,-16.008481979370117,-7.2967143058776855,1.9049293994903564,-16.81062126159668,3.3632607460021973,-14.763579368591309,-15.820773124694824,-16.491609573364258,-15.910192489624023,-17.190311431884766,-16.88998794555664,-8.155932426452637,-16.431344985961914,-14.72582721710205,-15.227828025817871],\"yaxis\":\"y\",\"type\":\"scatter\"},{\"customdata\":[[\"happy\"],[\"happy\"],[\"disgusted\"],[\"happy\"],[\"happy\"],[\"happy\"],[\"happy\"],[\"happy\"],[\"neutral\"],[\"happy\"],[\"happy\"],[\"happy\"],[\"happy\"],[\"happy\"],[\"happy\"],[\"disgusted\"],[\"happy\"],[\"neutral\"],[\"happy\"],[\"happy\"],[\"happy\"],[\"happy\"],[\"surprised\"],[\"angry\"],[\"happy\"],[\"neutral\"],[\"surprised\"],[\"happy\"],[\"happy\"],[\"happy\"],[\"disgusted\"],[\"happy\"],[\"happy\"],[\"disgusted\"],[\"happy\"],[\"happy\"],[\"happy\"],[\"happy\"],[\"happy\"],[\"disgusted\"],[\"happy\"],[\"happy\"],[\"neutral\"],[\"happy\"],[\"happy\"],[\"happy\"],[\"happy\"],[\"happy\"],[\"neutral\"],[\"happy\"],[\"happy\"],[\"happy\"],[\"happy\"],[\"happy\"],[\"disgusted\"],[\"happy\"],[\"happy\"],[\"happy\"],[\"happy\"],[\"happy\"],[\"surprised\"],[\"neutral\"],[\"happy\"],[\"happy\"],[\"happy\"],[\"happy\"],[\"angry\"],[\"happy\"]],\"hovertemplate\":\"Label=happy\\u003cbr\\u003ex=%{x}\\u003cbr\\u003ey=%{y}\\u003cbr\\u003ePredictions=%{customdata[0]}\\u003cextra\\u003e\\u003c\\u002fextra\\u003e\",\"legendgroup\":\"happy\",\"marker\":{\"color\":\"#00CC96\",\"opacity\":0.2,\"size\":12,\"symbol\":\"circle\"},\"mode\":\"markers\",\"name\":\"happy\",\"orientation\":\"v\",\"showlegend\":false,\"x\":[15.183306694030762,17.51603889465332,10.220852851867676,16.452791213989258,12.830772399902344,16.670265197753906,10.611492156982422,17.01951789855957,1.917640209197998,12.824997901916504,15.165200233459473,11.311417579650879,9.506867408752441,11.794051170349121,12.855340003967285,10.217803001403809,12.737581253051758,1.5650508403778076,17.426727294921875,16.83905029296875,16.497591018676758,17.50750160217285,-10.209056854248047,-4.662577152252197,15.392129898071289,0.8442085981369019,-9.528114318847656,16.93307876586914,17.163022994995117,16.274608612060547,9.621269226074219,15.10721492767334,15.44951343536377,9.905010223388672,17.49219512939453,17.45740509033203,15.359556198120117,17.332645416259766,17.371305465698242,10.836102485656738,15.00024700164795,14.525161743164062,1.4688760042190552,16.548425674438477,15.12601089477539,16.99853515625,14.467676162719727,16.711326599121094,0.9003099799156189,12.876108169555664,11.80762004852295,17.426963806152344,17.023632049560547,9.874634742736816,10.525964736938477,11.839954376220703,12.932884216308594,16.537946701049805,10.615160942077637,16.886972427368164,-10.191725730895996,2.4541265964508057,17.115182876586914,14.474987983703613,15.720551490783691,13.58182430267334,-5.678132057189941,14.122849464416504],\"xaxis\":\"x\",\"y\":[-1.0562372207641602,0.7070499658584595,-12.601432800292969,0.467633992433548,-0.9952190518379211,0.9455105066299438,-3.299776554107666,1.1864973306655884,7.529217720031738,-0.19482292234897614,-0.18760453164577484,-1.9757400751113892,-1.7144426107406616,-0.15786834061145782,-1.747681975364685,-12.537672996520996,-1.4542920589447021,4.61806583404541,0.4207153916358948,0.5285782217979431,-0.3069058656692505,0.6057310700416565,19.888797760009766,4.422579765319824,0.2711438834667206,3.4438412189483643,22.497211456298828,0.2880123257637024,0.21574966609477997,0.3902854919433594,-14.28624153137207,0.22315607964992523,0.33769696950912476,-12.162500381469727,0.5405477285385132,0.4550328254699707,-0.30772173404693604,1.0813963413238525,1.045680284500122,-13.506364822387695,-1.1315139532089233,-1.49940824508667,6.277503967285156,0.4029425382614136,-0.8636281490325928,1.1863750219345093,-1.3801350593566895,1.0173624753952026,6.063082218170166,-0.21259595453739166,-1.2488808631896973,0.9817702174186707,1.1844907999038696,-1.8844208717346191,-13.115828514099121,-0.16043144464492798,-0.35494011640548706,0.7896550297737122,-3.226682186126709,1.150671124458313,23.53252601623535,8.406063079833984,0.24854183197021484,-1.5358980894088745,0.45899951457977295,-0.20658764243125916,3.853926420211792,-0.886525571346283],\"yaxis\":\"y\",\"type\":\"scatter\"},{\"customdata\":[[\"happy\"],[\"happy\"],[\"sad\"],[\"happy\"],[\"sad\"],[\"sad\"],[\"sad\"],[\"sad\"],[\"sad\"],[\"sad\"],[\"angry\"],[\"sad\"],[\"sad\"],[\"angry\"],[\"sad\"],[\"sad\"],[\"angry\"],[\"sad\"],[\"sad\"],[\"sad\"],[\"surprised\"],[\"sad\"],[\"neutral\"],[\"sad\"],[\"sad\"],[\"sad\"],[\"angry\"],[\"angry\"],[\"sad\"],[\"sad\"],[\"disgusted\"],[\"sad\"],[\"happy\"],[\"angry\"],[\"sad\"],[\"sad\"],[\"sad\"],[\"sad\"],[\"sad\"],[\"sad\"],[\"sad\"],[\"sad\"],[\"sad\"],[\"sad\"],[\"sad\"],[\"sad\"],[\"sad\"],[\"sad\"],[\"sad\"],[\"sad\"],[\"sad\"],[\"angry\"],[\"angry\"],[\"angry\"]],\"hovertemplate\":\"Label=sad\\u003cbr\\u003ex=%{x}\\u003cbr\\u003ey=%{y}\\u003cbr\\u003ePredictions=%{customdata[0]}\\u003cextra\\u003e\\u003c\\u002fextra\\u003e\",\"legendgroup\":\"sad\",\"marker\":{\"color\":\"#FFA15A\",\"opacity\":0.2,\"size\":12,\"symbol\":\"circle\"},\"mode\":\"markers\",\"name\":\"sad\",\"orientation\":\"v\",\"showlegend\":false,\"x\":[16.45433807373047,1.761557698249817,-5.357509136199951,17.191967010498047,-4.603339195251465,-4.876088619232178,-5.458981513977051,-5.204451084136963,-2.2247154712677,-2.8902788162231445,-7.632447719573975,-4.766615867614746,-4.125430107116699,-10.004011154174805,-4.869286060333252,-5.349554538726807,-8.370818138122559,-5.564651012420654,-4.907251358032227,-4.569330215454102,-10.263382911682129,-5.45501184463501,-1.251035451889038,-4.524159908294678,-4.904415607452393,-3.980158567428589,-7.906051158905029,-10.986648559570312,-3.3656392097473145,-5.259864330291748,9.456404685974121,-2.9320201873779297,15.15476131439209,-8.325234413146973,-4.969741344451904,-4.951938629150391,-4.428644180297852,-5.588726997375488,-5.450918197631836,-4.59144401550293,-4.699469566345215,-4.098480224609375,-5.518585205078125,-3.956106662750244,-4.773046016693115,-5.570815563201904,-4.803346633911133,-4.816372394561768,-5.588202953338623,-4.76210880279541,-4.76884126663208,-10.27338695526123,-7.637935161590576,-7.322356224060059],\"xaxis\":\"x\",\"y\":[0.8111685514450073,3.8114724159240723,-9.85788631439209,0.25706374645233154,-8.15700626373291,-10.125287055969238,-9.97463607788086,-10.674095153808594,-6.182254791259766,-8.17543888092041,2.0687339305877686,-10.376633644104004,-6.921472549438477,3.810628890991211,-9.675861358642578,-10.62950325012207,2.409945249557495,-10.094621658325195,-9.016375541687012,-5.38895845413208,20.133529663085938,-9.944364547729492,5.951931953430176,-9.376343727111816,-10.618782043457031,-8.614191055297852,2.4312903881073,3.1502792835235596,-5.741600036621094,-10.660717964172363,-13.49232006072998,-8.063008308410645,-0.18974415957927704,2.3915586471557617,-10.641770362854004,-9.732406616210938,-9.057398796081543,-10.155557632446289,-10.55677604675293,-5.312498569488525,-8.47649097442627,-9.0383882522583,-10.480819702148438,-7.507957935333252,-9.999013900756836,-10.333845138549805,-10.496930122375488,-10.52940559387207,-10.152793884277344,-9.444723129272461,-10.297470092773438,3.1238019466400146,2.0556535720825195,1.8224700689315796],\"yaxis\":\"y\",\"type\":\"scatter\"},{\"customdata\":[[\"sad\"],[\"angry\"],[\"angry\"],[\"angry\"],[\"sad\"],[\"angry\"],[\"angry\"],[\"angry\"],[\"angry\"],[\"angry\"],[\"angry\"],[\"sad\"],[\"angry\"],[\"happy\"],[\"angry\"],[\"angry\"],[\"angry\"],[\"surprised\"],[\"happy\"],[\"sad\"],[\"angry\"],[\"angry\"],[\"angry\"],[\"angry\"],[\"angry\"],[\"disgusted\"],[\"angry\"],[\"angry\"],[\"disgusted\"],[\"angry\"],[\"happy\"],[\"angry\"],[\"angry\"],[\"angry\"],[\"angry\"],[\"angry\"],[\"angry\"],[\"happy\"],[\"happy\"],[\"angry\"],[\"angry\"],[\"angry\"],[\"angry\"],[\"neutral\"],[\"angry\"],[\"angry\"]],\"hovertemplate\":\"Label=angry\\u003cbr\\u003ex=%{x}\\u003cbr\\u003ey=%{y}\\u003cbr\\u003ePredictions=%{customdata[0]}\\u003cextra\\u003e\\u003c\\u002fextra\\u003e\",\"legendgroup\":\"angry\",\"marker\":{\"color\":\"#636EFA\",\"opacity\":0.2,\"size\":12,\"symbol\":\"circle\"},\"mode\":\"markers\",\"name\":\"angry\",\"orientation\":\"v\",\"showlegend\":false,\"x\":[-3.751436233520508,-11.858874320983887,-11.408047676086426,-11.872001647949219,-3.1663880348205566,-5.810354709625244,-11.676868438720703,-11.152252197265625,-8.07394027709961,-11.397626876831055,-10.756772994995117,-2.9809341430664062,-10.233716011047363,16.6639347076416,-10.024436950683594,-11.933778762817383,-8.130843162536621,-8.949962615966797,11.044055938720703,-3.5889968872070312,-4.978832244873047,-11.754549980163574,-10.78152847290039,-11.727359771728516,-10.593506813049316,9.434680938720703,-10.864185333251953,-8.396713256835938,-0.9555717706680298,-11.921628952026367,1.4712162017822266,-11.295133590698242,-11.838715553283691,-7.130694389343262,-11.101353645324707,-11.383665084838867,-11.679060935974121,11.241406440734863,-1.488599181175232,-11.75178050994873,-5.05818510055542,-11.25662899017334,-11.40976619720459,-2.239116668701172,-10.379679679870605,-11.552457809448242],\"xaxis\":\"x\",\"y\":[-6.987646102905273,3.4063217639923096,3.172513723373413,3.7853217124938965,-8.284858703613281,3.8414371013641357,3.23861026763916,3.864549398422241,2.363677740097046,4.098647117614746,3.7887768745422363,-5.500886917114258,3.857548952102661,0.11704535782337189,3.257519006729126,3.6853995323181152,2.8101813793182373,19.57074737548828,-1.8701246976852417,-6.902316570281982,4.591136932373047,3.2715837955474854,3.91471529006958,4.033481121063232,3.451789379119873,-13.915116310119629,3.2724738121032715,3.4134273529052734,-7.032818794250488,3.6650912761688232,3.3820033073425293,4.069972991943359,3.372847557067871,2.477144956588745,3.981570243835449,3.3029401302337646,4.067296981811523,-2.098292350769043,-5.549814701080322,4.019577980041504,4.149928569793701,3.513590097427368,3.2928967475891113,5.217708587646484,3.9431841373443604,4.099034309387207],\"yaxis\":\"y\",\"type\":\"scatter\"},{\"customdata\":[[\"neutral\"],[\"neutral\"],[\"neutral\"],[\"neutral\"],[\"neutral\"],[\"neutral\"],[\"neutral\"],[\"neutral\"],[\"angry\"],[\"disgusted\"],[\"neutral\"],[\"neutral\"],[\"neutral\"],[\"neutral\"],[\"neutral\"],[\"neutral\"],[\"neutral\"],[\"neutral\"],[\"neutral\"],[\"neutral\"],[\"neutral\"],[\"sad\"],[\"neutral\"],[\"neutral\"],[\"neutral\"],[\"neutral\"],[\"neutral\"],[\"neutral\"],[\"neutral\"],[\"neutral\"],[\"happy\"],[\"surprised\"],[\"angry\"],[\"happy\"],[\"sad\"],[\"neutral\"],[\"neutral\"],[\"surprised\"],[\"neutral\"],[\"neutral\"],[\"sad\"],[\"neutral\"],[\"neutral\"],[\"neutral\"],[\"neutral\"],[\"neutral\"],[\"happy\"]],\"hovertemplate\":\"Label=neutral\\u003cbr\\u003ex=%{x}\\u003cbr\\u003ey=%{y}\\u003cbr\\u003ePredictions=%{customdata[0]}\\u003cextra\\u003e\\u003c\\u002fextra\\u003e\",\"legendgroup\":\"neutral\",\"marker\":{\"color\":\"#AB63FA\",\"opacity\":0.2,\"size\":12,\"symbol\":\"circle\"},\"mode\":\"markers\",\"name\":\"neutral\",\"orientation\":\"v\",\"showlegend\":false,\"x\":[-1.4775097370147705,2.136627674102783,2.4751832485198975,0.1922861486673355,2.467623233795166,-1.82063889503479,2.5490286350250244,0.9528231024742126,-5.964423179626465,10.705409049987793,2.5874266624450684,1.4040441513061523,1.809879183769226,-1.074528455734253,1.8527605533599854,1.8548580408096313,1.1570039987564087,1.9306708574295044,0.9399667978286743,1.8372995853424072,1.4109610319137573,-1.7966257333755493,0.7696942090988159,-1.6036814451217651,-1.4105130434036255,2.2561593055725098,2.5955960750579834,-0.9464986324310303,1.870104193687439,-2.022660493850708,1.6581565141677856,-9.768631935119629,-8.823899269104004,11.929662704467773,-2.187295436859131,2.0644702911376953,-1.398478388786316,-9.159933090209961,2.511108636856079,2.5132479667663574,-4.603334426879883,2.0917458534240723,2.4534668922424316,1.9015392065048218,0.7529174089431763,-0.5750359296798706,12.763372421264648],\"xaxis\":\"x\",\"y\":[5.645864963531494,8.09623908996582,8.969474792480469,7.091188430786133,8.987710952758789,7.26891565322876,8.502288818359375,7.374436855316162,3.796154737472534,-14.63563346862793,8.586949348449707,8.149914741516113,8.612750053405762,5.896490573883057,8.8267822265625,8.778729438781738,8.094718933105469,9.010083198547363,6.846223831176758,8.292292594909668,5.594620227813721,-5.915615081787109,7.567434787750244,7.437066555023193,7.30916690826416,9.088665962219238,8.700326919555664,6.780063629150391,7.357754230499268,5.3189377784729,3.775118350982666,21.35287094116211,3.442786931991577,-0.14401306211948395,-6.181702613830566,9.085823059082031,5.6959967613220215,20.671844482421875,8.462902069091797,8.463653564453125,-5.287909507751465,9.09029769897461,8.996479034423828,8.97384262084961,7.623149871826172,6.301012992858887,-0.1919262856245041],\"yaxis\":\"y\",\"type\":\"scatter\"}],                        {\"template\":{\"data\":{\"histogram2dcontour\":[{\"type\":\"histogram2dcontour\",\"colorbar\":{\"outlinewidth\":0,\"ticks\":\"\"},\"colorscale\":[[0.0,\"#0d0887\"],[0.1111111111111111,\"#46039f\"],[0.2222222222222222,\"#7201a8\"],[0.3333333333333333,\"#9c179e\"],[0.4444444444444444,\"#bd3786\"],[0.5555555555555556,\"#d8576b\"],[0.6666666666666666,\"#ed7953\"],[0.7777777777777778,\"#fb9f3a\"],[0.8888888888888888,\"#fdca26\"],[1.0,\"#f0f921\"]]}],\"choropleth\":[{\"type\":\"choropleth\",\"colorbar\":{\"outlinewidth\":0,\"ticks\":\"\"}}],\"histogram2d\":[{\"type\":\"histogram2d\",\"colorbar\":{\"outlinewidth\":0,\"ticks\":\"\"},\"colorscale\":[[0.0,\"#0d0887\"],[0.1111111111111111,\"#46039f\"],[0.2222222222222222,\"#7201a8\"],[0.3333333333333333,\"#9c179e\"],[0.4444444444444444,\"#bd3786\"],[0.5555555555555556,\"#d8576b\"],[0.6666666666666666,\"#ed7953\"],[0.7777777777777778,\"#fb9f3a\"],[0.8888888888888888,\"#fdca26\"],[1.0,\"#f0f921\"]]}],\"heatmap\":[{\"type\":\"heatmap\",\"colorbar\":{\"outlinewidth\":0,\"ticks\":\"\"},\"colorscale\":[[0.0,\"#0d0887\"],[0.1111111111111111,\"#46039f\"],[0.2222222222222222,\"#7201a8\"],[0.3333333333333333,\"#9c179e\"],[0.4444444444444444,\"#bd3786\"],[0.5555555555555556,\"#d8576b\"],[0.6666666666666666,\"#ed7953\"],[0.7777777777777778,\"#fb9f3a\"],[0.8888888888888888,\"#fdca26\"],[1.0,\"#f0f921\"]]}],\"heatmapgl\":[{\"type\":\"heatmapgl\",\"colorbar\":{\"outlinewidth\":0,\"ticks\":\"\"},\"colorscale\":[[0.0,\"#0d0887\"],[0.1111111111111111,\"#46039f\"],[0.2222222222222222,\"#7201a8\"],[0.3333333333333333,\"#9c179e\"],[0.4444444444444444,\"#bd3786\"],[0.5555555555555556,\"#d8576b\"],[0.6666666666666666,\"#ed7953\"],[0.7777777777777778,\"#fb9f3a\"],[0.8888888888888888,\"#fdca26\"],[1.0,\"#f0f921\"]]}],\"contourcarpet\":[{\"type\":\"contourcarpet\",\"colorbar\":{\"outlinewidth\":0,\"ticks\":\"\"}}],\"contour\":[{\"type\":\"contour\",\"colorbar\":{\"outlinewidth\":0,\"ticks\":\"\"},\"colorscale\":[[0.0,\"#0d0887\"],[0.1111111111111111,\"#46039f\"],[0.2222222222222222,\"#7201a8\"],[0.3333333333333333,\"#9c179e\"],[0.4444444444444444,\"#bd3786\"],[0.5555555555555556,\"#d8576b\"],[0.6666666666666666,\"#ed7953\"],[0.7777777777777778,\"#fb9f3a\"],[0.8888888888888888,\"#fdca26\"],[1.0,\"#f0f921\"]]}],\"surface\":[{\"type\":\"surface\",\"colorbar\":{\"outlinewidth\":0,\"ticks\":\"\"},\"colorscale\":[[0.0,\"#0d0887\"],[0.1111111111111111,\"#46039f\"],[0.2222222222222222,\"#7201a8\"],[0.3333333333333333,\"#9c179e\"],[0.4444444444444444,\"#bd3786\"],[0.5555555555555556,\"#d8576b\"],[0.6666666666666666,\"#ed7953\"],[0.7777777777777778,\"#fb9f3a\"],[0.8888888888888888,\"#fdca26\"],[1.0,\"#f0f921\"]]}],\"mesh3d\":[{\"type\":\"mesh3d\",\"colorbar\":{\"outlinewidth\":0,\"ticks\":\"\"}}],\"scatter\":[{\"fillpattern\":{\"fillmode\":\"overlay\",\"size\":10,\"solidity\":0.2},\"type\":\"scatter\"}],\"parcoords\":[{\"type\":\"parcoords\",\"line\":{\"colorbar\":{\"outlinewidth\":0,\"ticks\":\"\"}}}],\"scatterpolargl\":[{\"type\":\"scatterpolargl\",\"marker\":{\"colorbar\":{\"outlinewidth\":0,\"ticks\":\"\"}}}],\"bar\":[{\"error_x\":{\"color\":\"#2a3f5f\"},\"error_y\":{\"color\":\"#2a3f5f\"},\"marker\":{\"line\":{\"color\":\"#E5ECF6\",\"width\":0.5},\"pattern\":{\"fillmode\":\"overlay\",\"size\":10,\"solidity\":0.2}},\"type\":\"bar\"}],\"scattergeo\":[{\"type\":\"scattergeo\",\"marker\":{\"colorbar\":{\"outlinewidth\":0,\"ticks\":\"\"}}}],\"scatterpolar\":[{\"type\":\"scatterpolar\",\"marker\":{\"colorbar\":{\"outlinewidth\":0,\"ticks\":\"\"}}}],\"histogram\":[{\"marker\":{\"pattern\":{\"fillmode\":\"overlay\",\"size\":10,\"solidity\":0.2}},\"type\":\"histogram\"}],\"scattergl\":[{\"type\":\"scattergl\",\"marker\":{\"colorbar\":{\"outlinewidth\":0,\"ticks\":\"\"}}}],\"scatter3d\":[{\"type\":\"scatter3d\",\"line\":{\"colorbar\":{\"outlinewidth\":0,\"ticks\":\"\"}},\"marker\":{\"colorbar\":{\"outlinewidth\":0,\"ticks\":\"\"}}}],\"scattermapbox\":[{\"type\":\"scattermapbox\",\"marker\":{\"colorbar\":{\"outlinewidth\":0,\"ticks\":\"\"}}}],\"scatterternary\":[{\"type\":\"scatterternary\",\"marker\":{\"colorbar\":{\"outlinewidth\":0,\"ticks\":\"\"}}}],\"scattercarpet\":[{\"type\":\"scattercarpet\",\"marker\":{\"colorbar\":{\"outlinewidth\":0,\"ticks\":\"\"}}}],\"carpet\":[{\"aaxis\":{\"endlinecolor\":\"#2a3f5f\",\"gridcolor\":\"white\",\"linecolor\":\"white\",\"minorgridcolor\":\"white\",\"startlinecolor\":\"#2a3f5f\"},\"baxis\":{\"endlinecolor\":\"#2a3f5f\",\"gridcolor\":\"white\",\"linecolor\":\"white\",\"minorgridcolor\":\"white\",\"startlinecolor\":\"#2a3f5f\"},\"type\":\"carpet\"}],\"table\":[{\"cells\":{\"fill\":{\"color\":\"#EBF0F8\"},\"line\":{\"color\":\"white\"}},\"header\":{\"fill\":{\"color\":\"#C8D4E3\"},\"line\":{\"color\":\"white\"}},\"type\":\"table\"}],\"barpolar\":[{\"marker\":{\"line\":{\"color\":\"#E5ECF6\",\"width\":0.5},\"pattern\":{\"fillmode\":\"overlay\",\"size\":10,\"solidity\":0.2}},\"type\":\"barpolar\"}],\"pie\":[{\"automargin\":true,\"type\":\"pie\"}]},\"layout\":{\"autotypenumbers\":\"strict\",\"colorway\":[\"#636efa\",\"#EF553B\",\"#00cc96\",\"#ab63fa\",\"#FFA15A\",\"#19d3f3\",\"#FF6692\",\"#B6E880\",\"#FF97FF\",\"#FECB52\"],\"font\":{\"color\":\"#2a3f5f\"},\"hovermode\":\"closest\",\"hoverlabel\":{\"align\":\"left\"},\"paper_bgcolor\":\"white\",\"plot_bgcolor\":\"#E5ECF6\",\"polar\":{\"bgcolor\":\"#E5ECF6\",\"angularaxis\":{\"gridcolor\":\"white\",\"linecolor\":\"white\",\"ticks\":\"\"},\"radialaxis\":{\"gridcolor\":\"white\",\"linecolor\":\"white\",\"ticks\":\"\"}},\"ternary\":{\"bgcolor\":\"#E5ECF6\",\"aaxis\":{\"gridcolor\":\"white\",\"linecolor\":\"white\",\"ticks\":\"\"},\"baxis\":{\"gridcolor\":\"white\",\"linecolor\":\"white\",\"ticks\":\"\"},\"caxis\":{\"gridcolor\":\"white\",\"linecolor\":\"white\",\"ticks\":\"\"}},\"coloraxis\":{\"colorbar\":{\"outlinewidth\":0,\"ticks\":\"\"}},\"colorscale\":{\"sequential\":[[0.0,\"#0d0887\"],[0.1111111111111111,\"#46039f\"],[0.2222222222222222,\"#7201a8\"],[0.3333333333333333,\"#9c179e\"],[0.4444444444444444,\"#bd3786\"],[0.5555555555555556,\"#d8576b\"],[0.6666666666666666,\"#ed7953\"],[0.7777777777777778,\"#fb9f3a\"],[0.8888888888888888,\"#fdca26\"],[1.0,\"#f0f921\"]],\"sequentialminus\":[[0.0,\"#0d0887\"],[0.1111111111111111,\"#46039f\"],[0.2222222222222222,\"#7201a8\"],[0.3333333333333333,\"#9c179e\"],[0.4444444444444444,\"#bd3786\"],[0.5555555555555556,\"#d8576b\"],[0.6666666666666666,\"#ed7953\"],[0.7777777777777778,\"#fb9f3a\"],[0.8888888888888888,\"#fdca26\"],[1.0,\"#f0f921\"]],\"diverging\":[[0,\"#8e0152\"],[0.1,\"#c51b7d\"],[0.2,\"#de77ae\"],[0.3,\"#f1b6da\"],[0.4,\"#fde0ef\"],[0.5,\"#f7f7f7\"],[0.6,\"#e6f5d0\"],[0.7,\"#b8e186\"],[0.8,\"#7fbc41\"],[0.9,\"#4d9221\"],[1,\"#276419\"]]},\"xaxis\":{\"gridcolor\":\"white\",\"linecolor\":\"white\",\"ticks\":\"\",\"title\":{\"standoff\":15},\"zerolinecolor\":\"white\",\"automargin\":true,\"zerolinewidth\":2},\"yaxis\":{\"gridcolor\":\"white\",\"linecolor\":\"white\",\"ticks\":\"\",\"title\":{\"standoff\":15},\"zerolinecolor\":\"white\",\"automargin\":true,\"zerolinewidth\":2},\"scene\":{\"xaxis\":{\"backgroundcolor\":\"#E5ECF6\",\"gridcolor\":\"white\",\"linecolor\":\"white\",\"showbackground\":true,\"ticks\":\"\",\"zerolinecolor\":\"white\",\"gridwidth\":2},\"yaxis\":{\"backgroundcolor\":\"#E5ECF6\",\"gridcolor\":\"white\",\"linecolor\":\"white\",\"showbackground\":true,\"ticks\":\"\",\"zerolinecolor\":\"white\",\"gridwidth\":2},\"zaxis\":{\"backgroundcolor\":\"#E5ECF6\",\"gridcolor\":\"white\",\"linecolor\":\"white\",\"showbackground\":true,\"ticks\":\"\",\"zerolinecolor\":\"white\",\"gridwidth\":2}},\"shapedefaults\":{\"line\":{\"color\":\"#2a3f5f\"}},\"annotationdefaults\":{\"arrowcolor\":\"#2a3f5f\",\"arrowhead\":0,\"arrowwidth\":1},\"geo\":{\"bgcolor\":\"white\",\"landcolor\":\"#E5ECF6\",\"subunitcolor\":\"white\",\"showland\":true,\"showlakes\":true,\"lakecolor\":\"white\"},\"title\":{\"x\":0.05},\"mapbox\":{\"style\":\"light\"}}},\"xaxis\":{\"anchor\":\"y\",\"domain\":[0.0,1.0],\"title\":{\"text\":\"x\"}},\"yaxis\":{\"anchor\":\"x\",\"domain\":[0.0,1.0],\"title\":{\"text\":\"y\"}},\"legend\":{\"title\":{\"text\":\"Predictions, Correct\"},\"tracegroupgap\":0},\"margin\":{\"t\":60}},                        {\"responsive\": true}                    ).then(function(){\n",
       "                            \n",
       "var gd = document.getElementById('28dee389-4216-4868-84f3-cd4e89fb20bf');\n",
       "var x = new MutationObserver(function (mutations, observer) {{\n",
       "        var display = window.getComputedStyle(gd).display;\n",
       "        if (!display || display === 'none') {{\n",
       "            console.log([gd, 'removed!']);\n",
       "            Plotly.purge(gd);\n",
       "            observer.disconnect();\n",
       "        }}\n",
       "}});\n",
       "\n",
       "// Listen for the removal of the full notebook cells\n",
       "var notebookContainer = gd.closest('#notebook-container');\n",
       "if (notebookContainer) {{\n",
       "    x.observe(notebookContainer, {childList: true});\n",
       "}}\n",
       "\n",
       "// Listen for the clearing of the current output cell\n",
       "var outputEl = gd.closest('.output');\n",
       "if (outputEl) {{\n",
       "    x.observe(outputEl, {childList: true});\n",
       "}}\n",
       "\n",
       "                        })                };                });            </script>        </div>"
      ]
     },
     "metadata": {},
     "output_type": "display_data"
    }
   ],
   "source": [
    "tsne_confidences = sklearn.manifold.TSNE()\n",
    "confidences_points = tsne_confidences.fit_transform(confidences)\n",
    "\n",
    "confidences_points_df = pd.DataFrame(confidences_points, columns=[\"x\", \"y\"])\n",
    "visdf = pd.concat([confidences_points_df, predictions_series, labels_series, correct_state], axis=1)\n",
    "\n",
    "fig = px.scatter(visdf, x=\"x\", y=\"y\", color=\"Predictions\", symbol=\"Correct\", symbol_map=symbol_map, color_discrete_map=discrete_color_map)\n",
    "fig2 = px.scatter(visdf, x=\"x\", y=\"y\", color=\"Label\", hover_data=[\"Predictions\"], opacity=0.2, color_discrete_map=discrete_color_map)\n",
    "fig2.update_traces(dict(\n",
    "  marker=dict(\n",
    "    size=12,\n",
    "  ),\n",
    "  showlegend=False\n",
    "))\n",
    "\n",
    "\n",
    "fig.add_traces(fig2.data)\n",
    "fig.show()"
   ]
  },
  {
   "cell_type": "code",
   "execution_count": 109,
   "metadata": {},
   "outputs": [],
   "source": [
    "model.save(EXPRESSION_RECOGNITION_MODEL_PATH)"
   ]
  }
 ],
 "metadata": {
  "kernelspec": {
   "display_name": "Venv",
   "language": "python",
   "name": "python3"
  },
  "language_info": {
   "codemirror_mode": {
    "name": "ipython",
    "version": 3
   },
   "file_extension": ".py",
   "mimetype": "text/x-python",
   "name": "python",
   "nbconvert_exporter": "python",
   "pygments_lexer": "ipython3",
   "version": "3.10.6"
  }
 },
 "nbformat": 4,
 "nbformat_minor": 2
}
