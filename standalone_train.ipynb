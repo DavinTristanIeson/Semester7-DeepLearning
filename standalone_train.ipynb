{
 "cells": [
  {
   "cell_type": "code",
   "execution_count": 400,
   "metadata": {},
   "outputs": [
    {
     "data": {
      "text/html": [
       "        <script type=\"text/javascript\">\n",
       "        window.PlotlyConfig = {MathJaxConfig: 'local'};\n",
       "        if (window.MathJax && window.MathJax.Hub && window.MathJax.Hub.Config) {window.MathJax.Hub.Config({SVG: {font: \"STIX-Web\"}});}\n",
       "        if (typeof require !== 'undefined') {\n",
       "        require.undef(\"plotly\");\n",
       "        requirejs.config({\n",
       "            paths: {\n",
       "                'plotly': ['https://cdn.plot.ly/plotly-2.35.2.min']\n",
       "            }\n",
       "        });\n",
       "        require(['plotly'], function(Plotly) {\n",
       "            window._Plotly = Plotly;\n",
       "        });\n",
       "        }\n",
       "        </script>\n",
       "        "
      ]
     },
     "metadata": {},
     "output_type": "display_data"
    }
   ],
   "source": [
    "import shutil\n",
    "import os\n",
    "import zipfile\n",
    "import urllib.request\n",
    "from typing import Optional, Sequence, cast, ClassVar, cast\n",
    "from dataclasses import dataclass\n",
    "\n",
    "import tensorflow as tf\n",
    "import keras\n",
    "import pandas as pd\n",
    "import numpy as np\n",
    "import numpy.typing as npt\n",
    "import cv2 as cv\n",
    "import tqdm\n",
    "\n",
    "import scipy.spatial.distance\n",
    "\n",
    "import sklearn.metrics\n",
    "import sklearn.manifold\n",
    "import sklearn.decomposition\n",
    "\n",
    "import plotly.express as px\n",
    "import plotly.graph_objects as go\n",
    "import plotly.offline\n",
    "\n",
    "import random\n",
    "\n",
    "import skimage.feature\n",
    "\n",
    "from standalone_preprocessing_library import *\n",
    "\n",
    "plotly.offline.init_notebook_mode(connected=True)"
   ]
  },
  {
   "cell_type": "code",
   "execution_count": 401,
   "metadata": {},
   "outputs": [],
   "source": [
    "SEED = 2024\n",
    "os.environ[\"PYTHONHASHSEED\"] = str(SEED)\n",
    "random.seed(SEED)\n",
    "np.random.seed(SEED)\n",
    "tf.random.set_seed(SEED)"
   ]
  },
  {
   "cell_type": "markdown",
   "metadata": {},
   "source": [
    "Various constants"
   ]
  },
  {
   "cell_type": "code",
   "execution_count": 2,
   "metadata": {},
   "outputs": [],
   "source": [
    "DATA_DIR_PATH = \"data\"\n",
    "DATASET_PATH = \"dataset.zip\"\n",
    "TRAINING_DATA_CSV_PATH = os.path.join(DATA_DIR_PATH, \"data.csv\")\n",
    "\n",
    "MODEL_DIR_PATH = \"models\"\n",
    "EXPRESSION_RECOGNITION_MODEL_PATH = os.path.join(MODEL_DIR_PATH, \"expression_recognition.keras\")\n",
    "LBFMODEL_PATH = os.path.join(MODEL_DIR_PATH, \"lbfmodel.yaml\")\n",
    "CASCADE_CLASSIFIER_PATH = os.path.join(MODEL_DIR_PATH, \"haarcascade_frontalface_default.xml\")\n",
    "\n",
    "STANDARD_DIMENSIONS = Dimension(240, 240)\n",
    "FACE_DIMENSIONS = Dimension(120, 120)\n",
    "PREVIEW_DIMENSIONS = Dimension(500, 500)\n",
    "\n",
    "LBP_HISTOGRAM_BIN_COUNT = 8\n",
    "LBP_GRID_SIZE = (8,8)"
   ]
  },
  {
   "cell_type": "code",
   "execution_count": 3,
   "metadata": {},
   "outputs": [],
   "source": [
    "class SupportedFacialExpressionLabels:\n",
    "  Ours = [\"angry\", \"disgusted\", \"happy\", \"neutral\", \"sad\", \"surprised\"]\n",
    "  Fer2013 = [\"angry\", \"disgust\", \"fear\", \"happy\", \"neutral\", \"sad\", \"surprise\"] \n",
    "  CkPlus = [\"Anger\", \"Disgust\", \"Fear\", \"Happiness\", \"Sadness\", \"Surprise\", \"Neutral\", \"Contempt\"]\n",
    "\n",
    "CLASS_NAMES = SupportedFacialExpressionLabels.Ours"
   ]
  },
  {
   "cell_type": "markdown",
   "metadata": {},
   "source": [
    "Utility functions"
   ]
  },
  {
   "cell_type": "code",
   "execution_count": 4,
   "metadata": {},
   "outputs": [],
   "source": [
    "def get_files_in_folder(basepath: str)->list[str]:\n",
    "  if not os.path.exists(basepath):\n",
    "    return []\n",
    "  file_paths = [os.path.join(basepath, filename) for filename in os.listdir(basepath)]\n",
    "  return [path for path in file_paths if os.path.isfile(path)]\n",
    "\n",
    "def partition_grid(self, rows: int, cols: int)->list[\"Rectangle\"]:\n",
    "  row_delta = int(self.width / rows)\n",
    "  col_delta = int(self.height / cols)\n",
    "  rects: list[\"Rectangle\"] = []\n",
    "  for row in range(rows):\n",
    "    for col in range(cols):\n",
    "      row_start = row * row_delta\n",
    "      col_start = col * col_delta\n",
    "      rect = Rectangle(col_start, row_start, col_start + col_delta, row_start + row_delta)\n",
    "      rects.append(rect)\n",
    "  return rects\n",
    "\n",
    "@dataclass\n",
    "class FaceLandmark:\n",
    "  face_shape: npt.NDArray\n",
    "  eyes: npt.NDArray\n",
    "  eyebrows: npt.NDArray\n",
    "  nose: npt.NDArray\n",
    "  lips: npt.NDArray\n",
    "  dims: Dimension\n",
    "\n",
    "  @property\n",
    "  def feature_points(self)->npt.NDArray:\n",
    "    return np.vstack([self.eyes, self.eyebrows, self.nose, self.lips])\n",
    "\n",
    "  def as_feature_vector(self)->npt.NDArray:\n",
    "    # https://arxiv.org/pdf/1812.04510\n",
    "    # 17 points are dedicated for the shape of the face, which we don't really need.\n",
    "    normalized_points = self.feature_points / np.array((self.dims.width, self.dims.height))\n",
    "    interdistance_map = scipy.spatial.distance.cdist(normalized_points, normalized_points, \"euclidean\").flatten()\n",
    "    # All diagonal values are excluded\n",
    "    excluded_points = np.eye(len(self.feature_points)).flatten() == 1\n",
    "\n",
    "    # Square the interdistance map to make larger differences more prominent\n",
    "    interdistance_map = np.power(interdistance_map[~excluded_points], 2)\n",
    "\n",
    "    # Also calculate the distance to the average point in the face\n",
    "    average_point = normalized_points.mean(axis=0)\n",
    "    distances_to_center = scipy.spatial.distance.cdist(np.array([average_point]), normalized_points, \"euclidean\")[0]\n",
    "\n",
    "    feature_vector = np.hstack((interdistance_map, distances_to_center))\n",
    "\n",
    "    return feature_vector\n",
    "\n",
    "\n",
    "  EYE_COLOR: ClassVar[tuple[int, int, int]] = (0, 0, 255)\n",
    "  LIP_COLOR: ClassVar[tuple[int, int, int]] = (0, 255, 0)\n",
    "  NOSE_COLOR: ClassVar[tuple[int, int, int]] = (255, 0, 0)\n",
    "  FACE_SHAPE_COLOR: ClassVar[tuple[int, int, int]] = (255, 255, 0)\n",
    "  EYEBROW_COLOR: ClassVar[tuple[int, int, int]] = (0, 255, 255)\n",
    "\n",
    "  def project_point(self, point: npt.NDArray, rect: Optional[Rectangle] = None)->Sequence[int]:\n",
    "    if rect is None:\n",
    "      return cast(Sequence[int], point.astype(np.int32))\n",
    "    projected_point = point * rect.dimensions.ndarray / self.dims.ndarray\n",
    "    return cast(Sequence[int], (projected_point + rect.p0.ndarray).astype(np.int32))\n",
    "  \n",
    "  def draw_on(self, img: cv.typing.MatLike, *, offset: Optional[Rectangle] = None):\n",
    "    for point in self.eyes:\n",
    "      cv.circle(img, self.project_point(point, offset), 1, self.EYE_COLOR, -1)\n",
    "    for point in self.lips:\n",
    "      cv.circle(img, self.project_point(point, offset), 1, self.LIP_COLOR, -1)\n",
    "    for point in self.nose:\n",
    "      cv.circle(img, self.project_point(point, offset), 1, self.NOSE_COLOR, -1)\n",
    "    for point in self.face_shape:\n",
    "      cv.circle(img, self.project_point(point, offset), 1, self.FACE_SHAPE_COLOR, -1)\n",
    "    for point in self.eyebrows:\n",
    "      cv.circle(img, self.project_point(point, offset), 1, self.EYEBROW_COLOR, -1)\n",
    "\n",
    "  @staticmethod\n",
    "  def from_raw_landmark(points: npt.NDArray, dims: Dimension):\n",
    "    return FaceLandmark(\n",
    "      face_shape=points[:17],\n",
    "      eyebrows=points[17:27],\n",
    "      nose=points[27:36],\n",
    "      eyes=points[36:48],\n",
    "      lips=points[48:],\n",
    "      dims=dims\n",
    "    )\n",
    "  \n",
    "def face_alignment(img: cv.typing.MatLike, landmark: FaceLandmark):\n",
    "  # https://pyimagesearch.com/2017/05/22/face-alignment-with-opencv-and-python/\n",
    "  dims = Dimension.from_shape(img.shape)\n",
    "  desired_left_eye = Point(int(dims.width * 0.22), int(dims.height * 0.25))\n",
    "  desired_right_eye_x = FACE_DIMENSIONS.width - desired_left_eye.x\n",
    "\n",
    "  left_eye_avg = landmark.eyes[0:6].mean(axis=0)\n",
    "  right_eye_avg = landmark.eyes[6:].mean(axis=0)\n",
    "\n",
    "  delta = right_eye_avg - left_eye_avg\n",
    "  angle = np.degrees(np.arctan2(delta[1], delta[0]))\n",
    "\n",
    "  dist = np.sqrt(delta[0] ** 2 + delta[1] ** 2)\n",
    "  desired_dist = desired_right_eye_x - desired_left_eye.x\n",
    "  scale = desired_dist / dist\n",
    "\n",
    "  eyes_center = np.array([left_eye_avg, right_eye_avg]).mean(axis=0)\n",
    "  rotation_matrix = cv.getRotationMatrix2D(eyes_center, angle, scale)\n",
    "\n",
    "  translation_x = FACE_DIMENSIONS.width * 0.5\n",
    "  translation_y = desired_left_eye.y\n",
    "  rotation_matrix[0, 2] += (translation_x - eyes_center[0])\n",
    "  rotation_matrix[1, 2] += (translation_y - eyes_center[1])\n",
    "\n",
    "  img = cv.warpAffine(img, rotation_matrix, FACE_DIMENSIONS.tuple, flags=cv.INTER_CUBIC)\n",
    "\n",
    "  return img\n"
   ]
  },
  {
   "cell_type": "markdown",
   "metadata": {},
   "source": [
    "Load various preprocessing models"
   ]
  },
  {
   "cell_type": "code",
   "execution_count": 5,
   "metadata": {},
   "outputs": [],
   "source": [
    "# https://medium.com/analytics-vidhya/facial-landmarks-and-face-detection-in-python-with-opencv-73979391f30e\n",
    "LBFMODEL_URL = \"https://github.com/kurnianggoro/GSOC2017/raw/master/data/lbfmodel.yaml\"\n",
    "if not os.path.exists(LBFMODEL_PATH):\n",
    "  print(f\"Cannot find any LBFmodel installation. Installing from {LBFMODEL_URL} to {LBFMODEL_PATH}\")\n",
    "  urllib.request.urlretrieve(LBFMODEL_URL, LBFMODEL_PATH)\n",
    "landmark_model = cv.face.createFacemarkLBF()\n",
    "landmark_model.loadModel(LBFMODEL_PATH)"
   ]
  },
  {
   "cell_type": "code",
   "execution_count": 6,
   "metadata": {},
   "outputs": [],
   "source": [
    "CASCADE_CLASSIFIER_URL = \"https://raw.githubusercontent.com/opencv/opencv/refs/heads/4.x/data/haarcascades/haarcascade_frontalface_default.xml\"\n",
    "if not os.path.exists(CASCADE_CLASSIFIER_PATH):\n",
    "  urllib.request.urlretrieve(CASCADE_CLASSIFIER_URL, CASCADE_CLASSIFIER_PATH) \n",
    "locator_model = cv.CascadeClassifier(CASCADE_CLASSIFIER_PATH)\n",
    "locator_model.load(CASCADE_CLASSIFIER_PATH)\n",
    "\n",
    "clahe = cv.createCLAHE(tileGridSize=(8, 8), clipLimit=2.0)"
   ]
  },
  {
   "cell_type": "markdown",
   "metadata": {},
   "source": [
    "Dump the contents of the zip file into the data folder. You don't have to run this if this has been performed."
   ]
  },
  {
   "cell_type": "code",
   "execution_count": 7,
   "metadata": {},
   "outputs": [],
   "source": [
    "if (os.path.exists(DATA_DIR_PATH)):\n",
    "  shutil.rmtree(DATA_DIR_PATH)\n",
    "with zipfile.ZipFile(DATASET_PATH, 'r') as zip_ref:\n",
    "  zip_ref.extractall(DATA_DIR_PATH)"
   ]
  },
  {
   "cell_type": "markdown",
   "metadata": {},
   "source": [
    "List all folder contents"
   ]
  },
  {
   "cell_type": "code",
   "execution_count": 8,
   "metadata": {},
   "outputs": [],
   "source": [
    "@dataclass\n",
    "class TrainDataEntry:\n",
    "  path: str\n",
    "  label: int\n",
    "\n",
    "entries: list[TrainDataEntry] = []\n",
    "for folder in os.scandir(DATA_DIR_PATH):\n",
    "  if not folder.is_dir():\n",
    "    continue\n",
    "  try:\n",
    "    expression = CLASS_NAMES.index(folder.name)\n",
    "  except ValueError:\n",
    "    print(f\"Skipping the inclusion of {folder.name} in the dataset.\")\n",
    "    continue\n",
    "\n",
    "  entries.extend(map(\n",
    "    lambda fpath: TrainDataEntry(path=fpath, label=expression),\n",
    "    get_files_in_folder(folder.path)\n",
    "  ))"
   ]
  },
  {
   "cell_type": "markdown",
   "metadata": {},
   "source": [
    "Execute data preprocessing steps for our dataset"
   ]
  },
  {
   "cell_type": "code",
   "execution_count": 9,
   "metadata": {},
   "outputs": [
    {
     "name": "stderr",
     "output_type": "stream",
     "text": [
      "Building dataset from images:   0%|          | 1/1089 [00:00<15:11,  1.19it/s]"
     ]
    },
    {
     "name": "stdout",
     "output_type": "stream",
     "text": [
      "\n",
      "Skipping data\\angry\\20240927_173906.jpg because no faces were found in the image.\n"
     ]
    },
    {
     "name": "stderr",
     "output_type": "stream",
     "text": [
      "Building dataset from images:   1%|          | 8/1089 [00:01<02:08,  8.42it/s]"
     ]
    },
    {
     "name": "stdout",
     "output_type": "stream",
     "text": [
      "\n",
      "Skipping data\\angry\\20241008_180500.jpg because no faces were found in the image.\n",
      "\n",
      "Skipping data\\angry\\20241008_180548.jpg because no faces were found in the image.\n"
     ]
    },
    {
     "name": "stderr",
     "output_type": "stream",
     "text": [
      "Building dataset from images:   1%|▏         | 16/1089 [00:02<01:09, 15.33it/s]"
     ]
    },
    {
     "name": "stdout",
     "output_type": "stream",
     "text": [
      "\n",
      "Skipping data\\angry\\20241008_180735.jpg because no faces were found in the image.\n",
      "\n",
      "Skipping data\\angry\\20241008_180740.jpg because no faces were found in the image.\n"
     ]
    },
    {
     "name": "stderr",
     "output_type": "stream",
     "text": [
      "Building dataset from images:   9%|▉         | 101/1089 [00:10<01:22, 12.02it/s]"
     ]
    },
    {
     "name": "stdout",
     "output_type": "stream",
     "text": [
      "\n",
      "Skipping data\\angry\\marah_4.jpg because no faces were found in the image.\n",
      "\n",
      "Skipping data\\angry\\marah_5.jpg because no faces were found in the image.\n",
      "\n",
      "Skipping data\\angry\\marah_7.jpg because no faces were found in the image.\n"
     ]
    },
    {
     "name": "stderr",
     "output_type": "stream",
     "text": [
      "Building dataset from images:  11%|█         | 117/1089 [00:11<00:46, 20.82it/s]"
     ]
    },
    {
     "name": "stdout",
     "output_type": "stream",
     "text": [
      "\n",
      "Skipping data\\angry\\Resize_20241210_223059_9926.jpg because no faces were found in the image.\n",
      "\n",
      "Skipping data\\angry\\Resize_20241210_223104_4667.jpg because no faces were found in the image.\n",
      "\n",
      "Skipping data\\angry\\Resize_20241210_223109_9133.jpg because no faces were found in the image.\n"
     ]
    },
    {
     "name": "stderr",
     "output_type": "stream",
     "text": [
      "Building dataset from images:  12%|█▏        | 127/1089 [00:12<00:42, 22.72it/s]"
     ]
    },
    {
     "name": "stdout",
     "output_type": "stream",
     "text": [
      "\n",
      "Skipping data\\angry\\Resize_20241210_223148_8201.jpg because no faces were found in the image.\n",
      "\n",
      "Skipping data\\angry\\Resize_20241210_223150_0517.jpg because no faces were found in the image.\n",
      "\n",
      "Skipping data\\angry\\Resize_20241210_223152_2656.jpg because no faces were found in the image.\n"
     ]
    },
    {
     "name": "stderr",
     "output_type": "stream",
     "text": [
      "Building dataset from images:  12%|█▏        | 136/1089 [00:12<00:45, 21.18it/s]"
     ]
    },
    {
     "name": "stdout",
     "output_type": "stream",
     "text": [
      "\n",
      "Skipping data\\angry\\Resize_20241210_223217_7806.jpg because no faces were found in the image.\n",
      "\n",
      "Skipping data\\angry\\Resize_20241210_223227_7281.jpg because no faces were found in the image.\n"
     ]
    },
    {
     "name": "stderr",
     "output_type": "stream",
     "text": [
      "Building dataset from images:  13%|█▎        | 140/1089 [00:12<00:41, 22.99it/s]"
     ]
    },
    {
     "name": "stdout",
     "output_type": "stream",
     "text": [
      "\n",
      "Skipping data\\angry\\Resize_20241210_223229_9963.jpg because no faces were found in the image.\n",
      "\n",
      "Skipping data\\angry\\Resize_20241210_223234_4400.jpg because no faces were found in the image.\n"
     ]
    },
    {
     "name": "stderr",
     "output_type": "stream",
     "text": [
      "Building dataset from images:  16%|█▌        | 174/1089 [00:14<00:41, 22.02it/s]"
     ]
    },
    {
     "name": "stdout",
     "output_type": "stream",
     "text": [
      "\n",
      "Skipping data\\disgusted\\20241008_180238.jpg because no faces were found in the image.\n"
     ]
    },
    {
     "name": "stderr",
     "output_type": "stream",
     "text": [
      "Building dataset from images:  23%|██▎       | 251/1089 [00:19<01:02, 13.36it/s]"
     ]
    },
    {
     "name": "stdout",
     "output_type": "stream",
     "text": [
      "\n",
      "Skipping data\\disgusted\\IMG_20241010_213941_9_11zon.jpg because no faces were found in the image.\n"
     ]
    },
    {
     "name": "stderr",
     "output_type": "stream",
     "text": [
      "Building dataset from images:  27%|██▋       | 289/1089 [00:22<00:56, 14.20it/s]"
     ]
    },
    {
     "name": "stdout",
     "output_type": "stream",
     "text": [
      "\n",
      "Skipping data\\disgusted\\jijik_7.jpg because no faces were found in the image.\n"
     ]
    },
    {
     "name": "stderr",
     "output_type": "stream",
     "text": [
      "Building dataset from images:  29%|██▉       | 318/1089 [00:24<00:48, 16.02it/s]"
     ]
    },
    {
     "name": "stdout",
     "output_type": "stream",
     "text": [
      "\n",
      "Skipping data\\disgusted\\WA_Disgusted_195915-min.jpg because no faces were found in the image.\n"
     ]
    },
    {
     "name": "stderr",
     "output_type": "stream",
     "text": [
      "Building dataset from images:  43%|████▎     | 467/1089 [00:39<02:24,  4.31it/s]"
     ]
    },
    {
     "name": "stdout",
     "output_type": "stream",
     "text": [
      "\n",
      "Skipping data\\happy\\IMG_20241215_230738.jpg because no faces were found in the image.\n"
     ]
    },
    {
     "name": "stderr",
     "output_type": "stream",
     "text": [
      "Building dataset from images:  45%|████▌     | 495/1089 [00:43<00:50, 11.78it/s]"
     ]
    },
    {
     "name": "stdout",
     "output_type": "stream",
     "text": [
      "\n",
      "Skipping data\\happy\\Resize_20241210_223206_6401.jpg because no faces were found in the image.\n"
     ]
    },
    {
     "name": "stderr",
     "output_type": "stream",
     "text": [
      "Building dataset from images:  46%|████▌     | 501/1089 [00:43<00:44, 13.19it/s]"
     ]
    },
    {
     "name": "stdout",
     "output_type": "stream",
     "text": [
      "\n",
      "Skipping data\\happy\\Resize_20241210_223245_5560.jpg because no faces were found in the image.\n"
     ]
    },
    {
     "name": "stderr",
     "output_type": "stream",
     "text": [
      "Building dataset from images:  47%|████▋     | 509/1089 [00:44<00:43, 13.32it/s]"
     ]
    },
    {
     "name": "stdout",
     "output_type": "stream",
     "text": [
      "\n",
      "Skipping data\\happy\\Resize_20241210_223303_3593.jpg because no faces were found in the image.\n"
     ]
    },
    {
     "name": "stderr",
     "output_type": "stream",
     "text": [
      "Building dataset from images:  47%|████▋     | 515/1089 [00:44<00:37, 15.19it/s]"
     ]
    },
    {
     "name": "stdout",
     "output_type": "stream",
     "text": [
      "\n",
      "Skipping data\\happy\\Resize_20241210_223315_5498.jpg because no faces were found in the image.\n"
     ]
    },
    {
     "name": "stderr",
     "output_type": "stream",
     "text": [
      "Building dataset from images:  48%|████▊     | 523/1089 [00:45<00:47, 11.90it/s]"
     ]
    },
    {
     "name": "stdout",
     "output_type": "stream",
     "text": [
      "\n",
      "Skipping data\\happy\\senyum_4.jpg because no faces were found in the image.\n",
      "\n",
      "Skipping data\\happy\\senyum_5.jpg because no faces were found in the image.\n"
     ]
    },
    {
     "name": "stderr",
     "output_type": "stream",
     "text": [
      "Building dataset from images:  52%|█████▏    | 565/1089 [00:48<00:29, 17.52it/s]"
     ]
    },
    {
     "name": "stdout",
     "output_type": "stream",
     "text": [
      "\n",
      "Skipping data\\neutral\\20240927_173857.jpg because no faces were found in the image.\n"
     ]
    },
    {
     "name": "stderr",
     "output_type": "stream",
     "text": [
      "Building dataset from images:  53%|█████▎    | 572/1089 [00:48<00:27, 18.91it/s]"
     ]
    },
    {
     "name": "stdout",
     "output_type": "stream",
     "text": [
      "\n",
      "Skipping data\\neutral\\20241008_181350.jpg because no faces were found in the image.\n"
     ]
    },
    {
     "name": "stderr",
     "output_type": "stream",
     "text": [
      "Building dataset from images:  60%|██████    | 658/1089 [00:56<00:43,  9.91it/s]"
     ]
    },
    {
     "name": "stdout",
     "output_type": "stream",
     "text": [
      "\n",
      "Skipping data\\neutral\\IMG_20241215_231542.jpg because no faces were found in the image.\n"
     ]
    },
    {
     "name": "stderr",
     "output_type": "stream",
     "text": [
      "Building dataset from images:  65%|██████▍   | 705/1089 [01:00<00:20, 19.00it/s]"
     ]
    },
    {
     "name": "stdout",
     "output_type": "stream",
     "text": [
      "\n",
      "Skipping data\\neutral\\Resize_20241210_223106_6875.jpg because no faces were found in the image.\n",
      "\n",
      "Skipping data\\neutral\\Resize_20241210_223115_5905.jpg because no faces were found in the image.\n"
     ]
    },
    {
     "name": "stderr",
     "output_type": "stream",
     "text": [
      "Building dataset from images:  66%|██████▌   | 717/1089 [01:01<00:24, 15.46it/s]"
     ]
    },
    {
     "name": "stdout",
     "output_type": "stream",
     "text": [
      "\n",
      "Skipping data\\neutral\\WhatsApp Image 2024-09-19 at 12.24.47 PM.jpg because no faces were found in the image.\n",
      "\n",
      "Skipping data\\neutral\\WhatsApp Image 2024-12-17 at 23.39.51 (2).jpg because no faces were found in the image.\n"
     ]
    },
    {
     "name": "stderr",
     "output_type": "stream",
     "text": [
      "Building dataset from images:  66%|██████▋   | 724/1089 [01:01<00:16, 21.97it/s]"
     ]
    },
    {
     "name": "stdout",
     "output_type": "stream",
     "text": [
      "\n",
      "Skipping data\\neutral\\WhatsApp Image 2024-12-17 at 23.39.52 (1).jpg because no faces were found in the image.\n",
      "\n",
      "Skipping data\\neutral\\WhatsApp Image 2024-12-17 at 23.39.52 (2).jpg because no faces were found in the image.\n",
      "\n",
      "Skipping data\\neutral\\WhatsApp Image 2024-12-17 at 23.39.52.jpg because no faces were found in the image.\n",
      "\n",
      "Skipping data\\neutral\\WhatsApp Image 2024-12-17 at 23.39.53 (1).jpg because no faces were found in the image.\n",
      "\n",
      "Skipping data\\neutral\\WhatsApp Image 2024-12-17 at 23.39.53 (2).jpg because no faces were found in the image.\n",
      "\n",
      "Skipping data\\neutral\\WhatsApp Image 2024-12-17 at 23.39.53.jpg because no faces were found in the image.\n",
      "\n",
      "Skipping data\\neutral\\WhatsApp Image 2024-12-17 at 23.39.54 (1).jpg because no faces were found in the image.\n"
     ]
    },
    {
     "name": "stderr",
     "output_type": "stream",
     "text": [
      "Building dataset from images:  67%|██████▋   | 732/1089 [01:01<00:13, 27.18it/s]"
     ]
    },
    {
     "name": "stdout",
     "output_type": "stream",
     "text": [
      "\n",
      "Skipping data\\neutral\\WhatsApp Image 2024-12-17 at 23.39.54 (2).jpg because no faces were found in the image.\n",
      "\n",
      "Skipping data\\neutral\\WhatsApp Image 2024-12-17 at 23.39.54.jpg because no faces were found in the image.\n",
      "\n",
      "Skipping data\\neutral\\WhatsApp Image 2024-12-17 at 23.39.55 (1).jpg because no faces were found in the image.\n",
      "\n",
      "Skipping data\\neutral\\WhatsApp Image 2024-12-17 at 23.39.55 (2).jpg because no faces were found in the image.\n",
      "\n",
      "Skipping data\\neutral\\WhatsApp Image 2024-12-17 at 23.39.55.jpg because no faces were found in the image.\n",
      "\n",
      "Skipping data\\neutral\\WhatsApp Image 2024-12-17 at 23.39.56 (1).jpg because no faces were found in the image.\n"
     ]
    },
    {
     "name": "stderr",
     "output_type": "stream",
     "text": [
      "Building dataset from images:  68%|██████▊   | 738/1089 [01:02<00:14, 24.48it/s]"
     ]
    },
    {
     "name": "stdout",
     "output_type": "stream",
     "text": [
      "\n",
      "Skipping data\\neutral\\WhatsApp Image 2024-12-17 at 23.39.56.jpg because no faces were found in the image.\n",
      "\n",
      "Skipping data\\neutral\\WhatsApp Image 2024-12-17 at 23.39.57.jpg because no faces were found in the image.\n"
     ]
    },
    {
     "name": "stderr",
     "output_type": "stream",
     "text": [
      "Building dataset from images:  76%|███████▌  | 826/1089 [01:09<00:18, 14.09it/s]"
     ]
    },
    {
     "name": "stdout",
     "output_type": "stream",
     "text": [
      "\n",
      "Skipping data\\sad\\IMG_20241215_230952.jpg because no faces were found in the image.\n"
     ]
    },
    {
     "name": "stderr",
     "output_type": "stream",
     "text": [
      "Building dataset from images:  79%|███████▉  | 864/1089 [01:12<00:12, 17.81it/s]"
     ]
    },
    {
     "name": "stdout",
     "output_type": "stream",
     "text": [
      "\n",
      "Skipping data\\sad\\Resize_20241210_222832_2123.jpg because no faces were found in the image.\n",
      "\n",
      "Skipping data\\sad\\Resize_20241210_222839_9322.jpg because no faces were found in the image.\n"
     ]
    },
    {
     "name": "stderr",
     "output_type": "stream",
     "text": [
      "Building dataset from images:  80%|████████  | 872/1089 [01:12<00:10, 21.35it/s]"
     ]
    },
    {
     "name": "stdout",
     "output_type": "stream",
     "text": [
      "\n",
      "Skipping data\\sad\\Resize_20241210_222845_5876.jpg because no faces were found in the image.\n",
      "\n",
      "Skipping data\\sad\\Resize_20241210_222850_0264.jpg because no faces were found in the image.\n",
      "\n",
      "Skipping data\\sad\\Resize_20241210_222852_2560.jpg because no faces were found in the image.\n"
     ]
    },
    {
     "name": "stderr",
     "output_type": "stream",
     "text": [
      "Building dataset from images:  81%|████████  | 878/1089 [01:12<00:11, 17.90it/s]"
     ]
    },
    {
     "name": "stdout",
     "output_type": "stream",
     "text": [
      "\n",
      "Skipping data\\sad\\Resize_20241210_223123_3199.jpg because no faces were found in the image.\n"
     ]
    },
    {
     "name": "stderr",
     "output_type": "stream",
     "text": [
      "Building dataset from images:  81%|████████  | 884/1089 [01:13<00:12, 16.17it/s]"
     ]
    },
    {
     "name": "stdout",
     "output_type": "stream",
     "text": [
      "\n",
      "Skipping data\\sad\\sedih_5.jpg because no faces were found in the image.\n",
      "\n",
      "Skipping data\\sad\\sedih_7.jpg because no faces were found in the image.\n"
     ]
    },
    {
     "name": "stderr",
     "output_type": "stream",
     "text": [
      "Building dataset from images:  83%|████████▎ | 904/1089 [01:14<00:08, 20.79it/s]"
     ]
    },
    {
     "name": "stdout",
     "output_type": "stream",
     "text": [
      "\n",
      "Skipping data\\sad\\WhatsApp Image 2024-12-17 at 23.31.37 (1).jpg because no faces were found in the image.\n",
      "\n",
      "Skipping data\\sad\\WhatsApp Image 2024-12-17 at 23.31.37 (2).jpg because no faces were found in the image.\n"
     ]
    },
    {
     "name": "stderr",
     "output_type": "stream",
     "text": [
      "Building dataset from images:  84%|████████▎ | 910/1089 [01:14<00:08, 20.32it/s]"
     ]
    },
    {
     "name": "stdout",
     "output_type": "stream",
     "text": [
      "\n",
      "Skipping data\\sad\\WhatsApp Image 2024-12-17 at 23.31.38 (2).jpg because no faces were found in the image.\n",
      "\n",
      "Skipping data\\sad\\WhatsApp Image 2024-12-17 at 23.31.38.jpg because no faces were found in the image.\n",
      "\n",
      "Skipping data\\sad\\WhatsApp Image 2024-12-17 at 23.31.39 (2).jpg because no faces were found in the image.\n"
     ]
    },
    {
     "name": "stderr",
     "output_type": "stream",
     "text": [
      "Building dataset from images:  84%|████████▍ | 913/1089 [01:14<00:08, 20.11it/s]"
     ]
    },
    {
     "name": "stdout",
     "output_type": "stream",
     "text": [
      "\n",
      "Skipping data\\sad\\WhatsApp Image 2024-12-17 at 23.31.40 (2).jpg because no faces were found in the image.\n",
      "\n",
      "Skipping data\\sad\\WhatsApp Image 2024-12-17 at 23.31.41 (1).jpg because no faces were found in the image.\n"
     ]
    },
    {
     "name": "stderr",
     "output_type": "stream",
     "text": [
      "Building dataset from images:  85%|████████▌ | 926/1089 [01:15<00:12, 12.79it/s]"
     ]
    },
    {
     "name": "stdout",
     "output_type": "stream",
     "text": [
      "\n",
      "Skipping data\\surprised\\20241008_181307.jpg because no faces were found in the image.\n"
     ]
    },
    {
     "name": "stderr",
     "output_type": "stream",
     "text": [
      "Building dataset from images:  92%|█████████▏| 1004/1089 [01:22<00:08,  9.99it/s]"
     ]
    },
    {
     "name": "stdout",
     "output_type": "stream",
     "text": [
      "\n",
      "Skipping data\\surprised\\IMG_20241215_231052_1.jpg because no faces were found in the image.\n"
     ]
    },
    {
     "name": "stderr",
     "output_type": "stream",
     "text": [
      "Building dataset from images:  93%|█████████▎| 1012/1089 [01:22<00:05, 13.68it/s]"
     ]
    },
    {
     "name": "stdout",
     "output_type": "stream",
     "text": [
      "\n",
      "Skipping data\\surprised\\IMG_20241215_231102.jpg because no faces were found in the image.\n"
     ]
    },
    {
     "name": "stderr",
     "output_type": "stream",
     "text": [
      "Building dataset from images:  94%|█████████▍| 1026/1089 [01:24<00:05, 12.08it/s]"
     ]
    },
    {
     "name": "stdout",
     "output_type": "stream",
     "text": [
      "\n",
      "Skipping data\\surprised\\Resize_20241210_222854_4662.jpg because no faces were found in the image.\n",
      "\n",
      "Skipping data\\surprised\\Resize_20241210_222856_6766.jpg because no faces were found in the image.\n"
     ]
    },
    {
     "name": "stderr",
     "output_type": "stream",
     "text": [
      "Building dataset from images:  96%|█████████▌| 1046/1089 [01:25<00:02, 14.44it/s]"
     ]
    },
    {
     "name": "stdout",
     "output_type": "stream",
     "text": [
      "\n",
      "Skipping data\\surprised\\Resize_20241210_223046_6304.jpg because no faces were found in the image.\n"
     ]
    },
    {
     "name": "stderr",
     "output_type": "stream",
     "text": [
      "Building dataset from images:  97%|█████████▋| 1054/1089 [01:27<00:07,  4.39it/s]"
     ]
    },
    {
     "name": "stdout",
     "output_type": "stream",
     "text": [
      "\n",
      "Skipping data\\surprised\\terkejut_4.jpg because no faces were found in the image.\n"
     ]
    },
    {
     "name": "stderr",
     "output_type": "stream",
     "text": [
      "Building dataset from images:  97%|█████████▋| 1055/1089 [01:27<00:07,  4.28it/s]"
     ]
    },
    {
     "name": "stdout",
     "output_type": "stream",
     "text": [
      "\n",
      "Skipping data\\surprised\\terkejut_5.jpg because no faces were found in the image.\n"
     ]
    },
    {
     "name": "stderr",
     "output_type": "stream",
     "text": [
      "Building dataset from images: 100%|██████████| 1089/1089 [01:33<00:00, 11.63it/s]\n"
     ]
    },
    {
     "name": "stdout",
     "output_type": "stream",
     "text": [
      "Skipped over 75 images because no faces were found in the images.\n"
     ]
    }
   ],
   "source": [
    "skipped = 0\n",
    "list_data: list[npt.NDArray] = []\n",
    "list_labels: list[int] = []\n",
    "for entry in tqdm.tqdm(entries, desc=\"Building dataset from images\"):\n",
    "  original = cv.imread(entry.path)\n",
    "  \n",
    "  # Preprocessing\n",
    "  img_resized = resize_image(original, STANDARD_DIMENSIONS)\n",
    "  img_grayscale = cv.cvtColor(img_resized, cv.COLOR_BGR2GRAY)\n",
    "  img_clahe = clahe.apply(img_grayscale)\n",
    "\n",
    "  # Extract face coordinates\n",
    "  face_coordinates = locator_model.detectMultiScale(img_clahe)\n",
    "  face_rects = list(Rectangle.from_tuple(coords) for coords in face_coordinates)\n",
    "  face_rects.sort(key=lambda x: x.area)\n",
    "  saved_face_rects: list[Rectangle] = []\n",
    "  # Prevent overlapping face rectangles\n",
    "  for face_rect_a in face_rects:\n",
    "    is_overlapping = False\n",
    "    for face_rect_b in saved_face_rects:\n",
    "      IOU = face_rect_a.intersection_with_union(face_rect_b)\n",
    "      if IOU > 0.4:\n",
    "        is_overlapping = True\n",
    "        break\n",
    "\n",
    "    if not is_overlapping:\n",
    "      saved_face_rects.append(face_rect_a)\n",
    "\n",
    "  # Get faces from original image\n",
    "  faces = list(\n",
    "    img_clahe[pos.slice]\n",
    "    for pos in face_rects\n",
    "  )\n",
    "\n",
    "  features: list[npt.NDArray] = []\n",
    "  for raw_face_img in faces:\n",
    "    # Additional preprocessing\n",
    "    face_resized = cv.resize(raw_face_img, FACE_DIMENSIONS.tuple, interpolation=cv.INTER_CUBIC)\n",
    "    face_blurred = cv.filter2D(face_resized, -1, GAUSSIAN_3X3_KERNEL)\n",
    "    face_preprocessed = cv.filter2D(face_blurred, -1, SHARPEN_KERNEL)\n",
    "\n",
    "    # Get face landmarks\n",
    "    _, raw_face_landmarks = landmark_model.fit(face_preprocessed, np.array(((0, 0, face_preprocessed.shape[0], face_preprocessed.shape[1]),)))\n",
    "    face_landmark_points: npt.NDArray = raw_face_landmarks[0][0]\n",
    "    face_landmark = FaceLandmark(\n",
    "      face_shape=face_landmark_points[:17],\n",
    "      eyebrows=face_landmark_points[17:27],\n",
    "      nose=face_landmark_points[27:36],\n",
    "      eyes=face_landmark_points[36:48],\n",
    "      lips=face_landmark_points[48:],\n",
    "      dims=Dimension.from_shape(face_preprocessed.shape)\n",
    "    )\n",
    "    face_dims = Dimension.from_shape(raw_face_img.shape)\n",
    "    face_landmark = FaceLandmark.from_raw_landmark(face_landmark_points, face_dims)\n",
    "    face_aligned = face_alignment(face_preprocessed, face_landmark)\n",
    "\n",
    "    # Split image to grids for LBP\n",
    "    lbp_grid_rects = partition_grid(face_dims, *LBP_GRID_SIZE)\n",
    "    histograms: list[npt.NDArray] = []\n",
    "\n",
    "    # Perform LBP\n",
    "    lbp_image: npt.NDArray = skimage.feature.local_binary_pattern(face_aligned, 8, 1)\n",
    "    for lbp_grid_rect in lbp_grid_rects:\n",
    "      chunk = lbp_image[lbp_grid_rect.slice]\n",
    "\n",
    "      if chunk.size == 0:\n",
    "        histograms.append(np.full((LBP_HISTOGRAM_BIN_COUNT,), 0))\n",
    "        continue\n",
    "      histograms.append(scipy.ndimage.histogram(chunk, 0, 255, LBP_HISTOGRAM_BIN_COUNT) / chunk.size)\n",
    "\n",
    "    feature_vector = np.hstack(histograms)\n",
    "    features.append(feature_vector)\n",
    "\n",
    "  if len(features) == 0:\n",
    "    print(f\"\\nSkipping {entry.path} because no faces were found in the image.\")\n",
    "    skipped += 1\n",
    "    continue\n",
    "  list_data.extend(features)\n",
    "  list_labels.extend([entry.label] * len(features))\n",
    "\n",
    "print(f\"Skipped over {skipped} images because no faces were found in the images.\")\n",
    "\n",
    "data = np.array(list_data)\n",
    "labels = np.array(list_labels).reshape((-1, 1))\n",
    "dfdata = np.hstack((labels, data))\n",
    "df = pd.DataFrame(dfdata, columns=[\n",
    "  \"label\",\n",
    "  *map(lambda idx: f'feature-{idx + 1}', range(data.shape[1])),\n",
    "])\n",
    "\n",
    "df.to_csv(TRAINING_DATA_CSV_PATH, index=False)"
   ]
  },
  {
   "cell_type": "markdown",
   "metadata": {},
   "source": [
    "Start training process"
   ]
  },
  {
   "cell_type": "code",
   "execution_count": 404,
   "metadata": {},
   "outputs": [
    {
     "data": {
      "text/html": [
       "<div>\n",
       "<style scoped>\n",
       "    .dataframe tbody tr th:only-of-type {\n",
       "        vertical-align: middle;\n",
       "    }\n",
       "\n",
       "    .dataframe tbody tr th {\n",
       "        vertical-align: top;\n",
       "    }\n",
       "\n",
       "    .dataframe thead th {\n",
       "        text-align: right;\n",
       "    }\n",
       "</style>\n",
       "<table border=\"1\" class=\"dataframe\">\n",
       "  <thead>\n",
       "    <tr style=\"text-align: right;\">\n",
       "      <th></th>\n",
       "      <th>feature-1</th>\n",
       "      <th>feature-2</th>\n",
       "      <th>feature-3</th>\n",
       "      <th>feature-4</th>\n",
       "      <th>feature-5</th>\n",
       "      <th>feature-6</th>\n",
       "      <th>feature-7</th>\n",
       "      <th>feature-8</th>\n",
       "      <th>feature-9</th>\n",
       "      <th>feature-10</th>\n",
       "      <th>...</th>\n",
       "      <th>feature-503</th>\n",
       "      <th>feature-504</th>\n",
       "      <th>feature-505</th>\n",
       "      <th>feature-506</th>\n",
       "      <th>feature-507</th>\n",
       "      <th>feature-508</th>\n",
       "      <th>feature-509</th>\n",
       "      <th>feature-510</th>\n",
       "      <th>feature-511</th>\n",
       "      <th>feature-512</th>\n",
       "    </tr>\n",
       "  </thead>\n",
       "  <tbody>\n",
       "    <tr>\n",
       "      <th>0</th>\n",
       "      <td>0.376731</td>\n",
       "      <td>0.041551</td>\n",
       "      <td>0.016620</td>\n",
       "      <td>0.058172</td>\n",
       "      <td>0.030471</td>\n",
       "      <td>0.000000</td>\n",
       "      <td>0.072022</td>\n",
       "      <td>0.404432</td>\n",
       "      <td>0.479224</td>\n",
       "      <td>0.008310</td>\n",
       "      <td>...</td>\n",
       "      <td>0.000000</td>\n",
       "      <td>0.000000</td>\n",
       "      <td>0.000000</td>\n",
       "      <td>0.000000</td>\n",
       "      <td>0.000000</td>\n",
       "      <td>0.000000</td>\n",
       "      <td>0.000000</td>\n",
       "      <td>0.000000</td>\n",
       "      <td>0.000000</td>\n",
       "      <td>0.000000</td>\n",
       "    </tr>\n",
       "    <tr>\n",
       "      <th>1</th>\n",
       "      <td>0.408163</td>\n",
       "      <td>0.090703</td>\n",
       "      <td>0.018141</td>\n",
       "      <td>0.083900</td>\n",
       "      <td>0.006803</td>\n",
       "      <td>0.002268</td>\n",
       "      <td>0.081633</td>\n",
       "      <td>0.308390</td>\n",
       "      <td>0.512472</td>\n",
       "      <td>0.036281</td>\n",
       "      <td>...</td>\n",
       "      <td>0.000000</td>\n",
       "      <td>0.000000</td>\n",
       "      <td>0.000000</td>\n",
       "      <td>0.000000</td>\n",
       "      <td>0.000000</td>\n",
       "      <td>0.000000</td>\n",
       "      <td>0.000000</td>\n",
       "      <td>0.000000</td>\n",
       "      <td>0.000000</td>\n",
       "      <td>0.000000</td>\n",
       "    </tr>\n",
       "    <tr>\n",
       "      <th>2</th>\n",
       "      <td>0.503086</td>\n",
       "      <td>0.089506</td>\n",
       "      <td>0.018519</td>\n",
       "      <td>0.080247</td>\n",
       "      <td>0.015432</td>\n",
       "      <td>0.000000</td>\n",
       "      <td>0.061728</td>\n",
       "      <td>0.231481</td>\n",
       "      <td>0.444444</td>\n",
       "      <td>0.046296</td>\n",
       "      <td>...</td>\n",
       "      <td>0.000000</td>\n",
       "      <td>0.000000</td>\n",
       "      <td>0.000000</td>\n",
       "      <td>0.000000</td>\n",
       "      <td>0.000000</td>\n",
       "      <td>0.000000</td>\n",
       "      <td>0.000000</td>\n",
       "      <td>0.000000</td>\n",
       "      <td>0.000000</td>\n",
       "      <td>0.000000</td>\n",
       "    </tr>\n",
       "    <tr>\n",
       "      <th>3</th>\n",
       "      <td>0.404959</td>\n",
       "      <td>0.047521</td>\n",
       "      <td>0.020661</td>\n",
       "      <td>0.068182</td>\n",
       "      <td>0.045455</td>\n",
       "      <td>0.004132</td>\n",
       "      <td>0.076446</td>\n",
       "      <td>0.332645</td>\n",
       "      <td>0.438017</td>\n",
       "      <td>0.066116</td>\n",
       "      <td>...</td>\n",
       "      <td>0.000000</td>\n",
       "      <td>0.000000</td>\n",
       "      <td>0.000000</td>\n",
       "      <td>0.000000</td>\n",
       "      <td>0.000000</td>\n",
       "      <td>0.000000</td>\n",
       "      <td>0.000000</td>\n",
       "      <td>0.000000</td>\n",
       "      <td>0.000000</td>\n",
       "      <td>0.000000</td>\n",
       "    </tr>\n",
       "    <tr>\n",
       "      <th>4</th>\n",
       "      <td>0.371901</td>\n",
       "      <td>0.057851</td>\n",
       "      <td>0.020661</td>\n",
       "      <td>0.082645</td>\n",
       "      <td>0.045455</td>\n",
       "      <td>0.004132</td>\n",
       "      <td>0.053719</td>\n",
       "      <td>0.363636</td>\n",
       "      <td>0.458678</td>\n",
       "      <td>0.039256</td>\n",
       "      <td>...</td>\n",
       "      <td>0.000000</td>\n",
       "      <td>0.000000</td>\n",
       "      <td>0.000000</td>\n",
       "      <td>0.000000</td>\n",
       "      <td>0.000000</td>\n",
       "      <td>0.000000</td>\n",
       "      <td>0.000000</td>\n",
       "      <td>0.000000</td>\n",
       "      <td>0.000000</td>\n",
       "      <td>0.000000</td>\n",
       "    </tr>\n",
       "    <tr>\n",
       "      <th>...</th>\n",
       "      <td>...</td>\n",
       "      <td>...</td>\n",
       "      <td>...</td>\n",
       "      <td>...</td>\n",
       "      <td>...</td>\n",
       "      <td>...</td>\n",
       "      <td>...</td>\n",
       "      <td>...</td>\n",
       "      <td>...</td>\n",
       "      <td>...</td>\n",
       "      <td>...</td>\n",
       "      <td>...</td>\n",
       "      <td>...</td>\n",
       "      <td>...</td>\n",
       "      <td>...</td>\n",
       "      <td>...</td>\n",
       "      <td>...</td>\n",
       "      <td>...</td>\n",
       "      <td>...</td>\n",
       "      <td>...</td>\n",
       "      <td>...</td>\n",
       "    </tr>\n",
       "    <tr>\n",
       "      <th>1077</th>\n",
       "      <td>0.173469</td>\n",
       "      <td>0.076531</td>\n",
       "      <td>0.040816</td>\n",
       "      <td>0.193878</td>\n",
       "      <td>0.127551</td>\n",
       "      <td>0.010204</td>\n",
       "      <td>0.178571</td>\n",
       "      <td>0.198980</td>\n",
       "      <td>0.153061</td>\n",
       "      <td>0.122449</td>\n",
       "      <td>...</td>\n",
       "      <td>0.229592</td>\n",
       "      <td>0.275510</td>\n",
       "      <td>0.107143</td>\n",
       "      <td>0.107143</td>\n",
       "      <td>0.025510</td>\n",
       "      <td>0.056122</td>\n",
       "      <td>0.107143</td>\n",
       "      <td>0.020408</td>\n",
       "      <td>0.428571</td>\n",
       "      <td>0.147959</td>\n",
       "    </tr>\n",
       "    <tr>\n",
       "      <th>1078</th>\n",
       "      <td>0.146667</td>\n",
       "      <td>0.111111</td>\n",
       "      <td>0.035556</td>\n",
       "      <td>0.168889</td>\n",
       "      <td>0.120000</td>\n",
       "      <td>0.013333</td>\n",
       "      <td>0.186667</td>\n",
       "      <td>0.217778</td>\n",
       "      <td>0.191111</td>\n",
       "      <td>0.128889</td>\n",
       "      <td>...</td>\n",
       "      <td>0.546667</td>\n",
       "      <td>0.128889</td>\n",
       "      <td>0.342222</td>\n",
       "      <td>0.093333</td>\n",
       "      <td>0.057778</td>\n",
       "      <td>0.142222</td>\n",
       "      <td>0.013333</td>\n",
       "      <td>0.008889</td>\n",
       "      <td>0.057778</td>\n",
       "      <td>0.284444</td>\n",
       "    </tr>\n",
       "    <tr>\n",
       "      <th>1079</th>\n",
       "      <td>0.142857</td>\n",
       "      <td>0.117347</td>\n",
       "      <td>0.040816</td>\n",
       "      <td>0.178571</td>\n",
       "      <td>0.117347</td>\n",
       "      <td>0.015306</td>\n",
       "      <td>0.193878</td>\n",
       "      <td>0.193878</td>\n",
       "      <td>0.188776</td>\n",
       "      <td>0.081633</td>\n",
       "      <td>...</td>\n",
       "      <td>0.250000</td>\n",
       "      <td>0.244898</td>\n",
       "      <td>0.163265</td>\n",
       "      <td>0.066327</td>\n",
       "      <td>0.020408</td>\n",
       "      <td>0.061224</td>\n",
       "      <td>0.091837</td>\n",
       "      <td>0.010204</td>\n",
       "      <td>0.418367</td>\n",
       "      <td>0.168367</td>\n",
       "    </tr>\n",
       "    <tr>\n",
       "      <th>1080</th>\n",
       "      <td>0.158163</td>\n",
       "      <td>0.096939</td>\n",
       "      <td>0.040816</td>\n",
       "      <td>0.173469</td>\n",
       "      <td>0.102041</td>\n",
       "      <td>0.010204</td>\n",
       "      <td>0.198980</td>\n",
       "      <td>0.219388</td>\n",
       "      <td>0.168367</td>\n",
       "      <td>0.086735</td>\n",
       "      <td>...</td>\n",
       "      <td>0.239796</td>\n",
       "      <td>0.244898</td>\n",
       "      <td>0.158163</td>\n",
       "      <td>0.076531</td>\n",
       "      <td>0.030612</td>\n",
       "      <td>0.056122</td>\n",
       "      <td>0.081633</td>\n",
       "      <td>0.010204</td>\n",
       "      <td>0.454082</td>\n",
       "      <td>0.132653</td>\n",
       "    </tr>\n",
       "    <tr>\n",
       "      <th>1081</th>\n",
       "      <td>0.133333</td>\n",
       "      <td>0.111111</td>\n",
       "      <td>0.035556</td>\n",
       "      <td>0.231111</td>\n",
       "      <td>0.084444</td>\n",
       "      <td>0.013333</td>\n",
       "      <td>0.177778</td>\n",
       "      <td>0.213333</td>\n",
       "      <td>0.173333</td>\n",
       "      <td>0.084444</td>\n",
       "      <td>...</td>\n",
       "      <td>0.573333</td>\n",
       "      <td>0.102222</td>\n",
       "      <td>0.324444</td>\n",
       "      <td>0.133333</td>\n",
       "      <td>0.053333</td>\n",
       "      <td>0.168889</td>\n",
       "      <td>0.040000</td>\n",
       "      <td>0.008889</td>\n",
       "      <td>0.044444</td>\n",
       "      <td>0.226667</td>\n",
       "    </tr>\n",
       "  </tbody>\n",
       "</table>\n",
       "<p>1082 rows × 512 columns</p>\n",
       "</div>"
      ],
      "text/plain": [
       "      feature-1  feature-2  feature-3  feature-4  feature-5  feature-6  \\\n",
       "0      0.376731   0.041551   0.016620   0.058172   0.030471   0.000000   \n",
       "1      0.408163   0.090703   0.018141   0.083900   0.006803   0.002268   \n",
       "2      0.503086   0.089506   0.018519   0.080247   0.015432   0.000000   \n",
       "3      0.404959   0.047521   0.020661   0.068182   0.045455   0.004132   \n",
       "4      0.371901   0.057851   0.020661   0.082645   0.045455   0.004132   \n",
       "...         ...        ...        ...        ...        ...        ...   \n",
       "1077   0.173469   0.076531   0.040816   0.193878   0.127551   0.010204   \n",
       "1078   0.146667   0.111111   0.035556   0.168889   0.120000   0.013333   \n",
       "1079   0.142857   0.117347   0.040816   0.178571   0.117347   0.015306   \n",
       "1080   0.158163   0.096939   0.040816   0.173469   0.102041   0.010204   \n",
       "1081   0.133333   0.111111   0.035556   0.231111   0.084444   0.013333   \n",
       "\n",
       "      feature-7  feature-8  feature-9  feature-10  ...  feature-503  \\\n",
       "0      0.072022   0.404432   0.479224    0.008310  ...     0.000000   \n",
       "1      0.081633   0.308390   0.512472    0.036281  ...     0.000000   \n",
       "2      0.061728   0.231481   0.444444    0.046296  ...     0.000000   \n",
       "3      0.076446   0.332645   0.438017    0.066116  ...     0.000000   \n",
       "4      0.053719   0.363636   0.458678    0.039256  ...     0.000000   \n",
       "...         ...        ...        ...         ...  ...          ...   \n",
       "1077   0.178571   0.198980   0.153061    0.122449  ...     0.229592   \n",
       "1078   0.186667   0.217778   0.191111    0.128889  ...     0.546667   \n",
       "1079   0.193878   0.193878   0.188776    0.081633  ...     0.250000   \n",
       "1080   0.198980   0.219388   0.168367    0.086735  ...     0.239796   \n",
       "1081   0.177778   0.213333   0.173333    0.084444  ...     0.573333   \n",
       "\n",
       "      feature-504  feature-505  feature-506  feature-507  feature-508  \\\n",
       "0        0.000000     0.000000     0.000000     0.000000     0.000000   \n",
       "1        0.000000     0.000000     0.000000     0.000000     0.000000   \n",
       "2        0.000000     0.000000     0.000000     0.000000     0.000000   \n",
       "3        0.000000     0.000000     0.000000     0.000000     0.000000   \n",
       "4        0.000000     0.000000     0.000000     0.000000     0.000000   \n",
       "...           ...          ...          ...          ...          ...   \n",
       "1077     0.275510     0.107143     0.107143     0.025510     0.056122   \n",
       "1078     0.128889     0.342222     0.093333     0.057778     0.142222   \n",
       "1079     0.244898     0.163265     0.066327     0.020408     0.061224   \n",
       "1080     0.244898     0.158163     0.076531     0.030612     0.056122   \n",
       "1081     0.102222     0.324444     0.133333     0.053333     0.168889   \n",
       "\n",
       "      feature-509  feature-510  feature-511  feature-512  \n",
       "0        0.000000     0.000000     0.000000     0.000000  \n",
       "1        0.000000     0.000000     0.000000     0.000000  \n",
       "2        0.000000     0.000000     0.000000     0.000000  \n",
       "3        0.000000     0.000000     0.000000     0.000000  \n",
       "4        0.000000     0.000000     0.000000     0.000000  \n",
       "...           ...          ...          ...          ...  \n",
       "1077     0.107143     0.020408     0.428571     0.147959  \n",
       "1078     0.013333     0.008889     0.057778     0.284444  \n",
       "1079     0.091837     0.010204     0.418367     0.168367  \n",
       "1080     0.081633     0.010204     0.454082     0.132653  \n",
       "1081     0.040000     0.008889     0.044444     0.226667  \n",
       "\n",
       "[1082 rows x 512 columns]"
      ]
     },
     "execution_count": 404,
     "metadata": {},
     "output_type": "execute_result"
    }
   ],
   "source": [
    "df = pd.read_csv(TRAINING_DATA_CSV_PATH, index_col=False)\n",
    "labels = df[\"label\"]\n",
    "df = df.drop(columns=[\"label\"])\n",
    "df"
   ]
  },
  {
   "cell_type": "markdown",
   "metadata": {},
   "source": [
    "Data Visualization"
   ]
  },
  {
   "cell_type": "code",
   "execution_count": 405,
   "metadata": {},
   "outputs": [
    {
     "data": {
      "application/vnd.plotly.v1+json": {
       "config": {
        "plotlyServerURL": "https://plot.ly"
       },
       "data": [
        {
         "hovertemplate": "Label=angry<br>x=%{x}<br>y=%{y}<extra></extra>",
         "legendgroup": "angry",
         "marker": {
          "color": "#636efa",
          "symbol": "circle"
         },
         "mode": "markers",
         "name": "angry",
         "showlegend": true,
         "type": "scattergl",
         "x": [
          -11.589566230773926,
          -13.002869606018066,
          -13.130786895751953,
          -14.69848918914795,
          -14.788119316101074,
          -14.982471466064453,
          -47.60683059692383,
          -17.0801944732666,
          -47.50059509277344,
          -18.361679077148438,
          -17.812135696411133,
          30.574445724487305,
          -28.14351463317871,
          23.789098739624023,
          -28.42656898498535,
          -28.782705307006836,
          30.511638641357422,
          -28.333267211914062,
          -28.67696189880371,
          -28.739360809326172,
          29.91433334350586,
          30.08666229248047,
          29.966901779174805,
          29.7979736328125,
          29.557178497314453,
          -28.77389907836914,
          29.39768409729004,
          23.70720672607422,
          29.46142578125,
          -29.593843460083008,
          -29.59651756286621,
          -34.542301177978516,
          -34.686798095703125,
          -34.44524383544922,
          -34.99129104614258,
          -34.56494903564453,
          20.53558349609375,
          -5.794020175933838,
          -6.628089427947998,
          -34.63528823852539,
          -35.424278259277344,
          -33.4810791015625,
          -33.125362396240234,
          -35.414283752441406,
          -35.14191436767578,
          -34.31852722167969,
          -33.87074279785156,
          -33.787845611572266,
          -34.26769256591797,
          -34.2203483581543,
          -34.381370544433594,
          -33.257625579833984,
          -33.54850769042969,
          -33.23579025268555,
          -32.916202545166016,
          -32.83731460571289,
          -33.28887939453125,
          -34.98313903808594,
          -35.182369232177734,
          -33.819461822509766,
          -33.498355865478516,
          26.76082992553711,
          26.42534637451172,
          -22.61293601989746,
          26.605985641479492,
          26.627309799194336,
          26.536909103393555,
          26.112770080566406,
          26.09601593017578,
          17.562999725341797,
          18.39984703063965,
          9.71889877319336,
          6.191951274871826,
          6.156253814697266,
          11.5831937789917,
          31.945085525512695,
          9.366830825805664,
          11.139606475830078,
          10.640670776367188,
          10.724359512329102,
          9.623649597167969,
          30.912073135375977,
          30.193538665771484,
          30.174901962280273,
          -10.580841064453125,
          -13.95435905456543,
          -13.963871955871582,
          31.778444290161133,
          -15.942008018493652,
          -22.90238380432129,
          -23.600833892822266,
          31.408931732177734,
          -20.255348205566406,
          -48.48147964477539,
          -20.561193466186523,
          -18.265771865844727,
          -13.85964584350586,
          -15.099701881408691,
          -13.841291427612305,
          -16.769514083862305,
          -15.20838737487793,
          -14.821958541870117,
          -20.87637710571289,
          -15.239594459533691,
          -14.098482131958008,
          -18.828813552856445,
          -18.855188369750977,
          -18.995746612548828,
          29.478778839111328,
          9.325185775756836,
          31.789886474609375,
          30.890239715576172,
          23.026945114135742,
          -23.334367752075195,
          29.629060745239258,
          -47.36053466796875,
          -11.330392837524414,
          -9.826886177062988,
          -14.346905708312988,
          -13.254758834838867,
          -12.658904075622559,
          -13.1933012008667,
          -12.904547691345215,
          -10.014391899108887,
          -10.159485816955566,
          -13.524264335632324,
          31.539438247680664,
          -5.509817600250244,
          -4.816368103027344,
          -17.009170532226562,
          -15.71667194366455,
          -21.96344566345215,
          -15.744993209838867,
          -16.993192672729492,
          -22.65450668334961,
          -22.31324005126953,
          -21.945375442504883,
          -22.355350494384766,
          -22.26815414428711,
          -22.409221649169922,
          23.621543884277344,
          -22.6558780670166,
          -22.48967933654785,
          -21.893146514892578,
          -21.82032585144043,
          23.91629409790039,
          13.132226943969727,
          -21.913171768188477,
          13.129287719726562,
          23.900327682495117,
          23.45232582092285,
          23.947425842285156,
          23.18147850036621,
          23.0815372467041,
          -21.433252334594727,
          23.357406616210938
         ],
         "xaxis": "x",
         "y": [
          10.052287101745605,
          -42.684322357177734,
          5.0491437911987305,
          -42.294349670410156,
          -42.92301559448242,
          5.20681095123291,
          -16.49871253967285,
          -43.63247299194336,
          -16.594511032104492,
          -37.5495491027832,
          -38.2496223449707,
          -18.022579193115234,
          4.8890581130981445,
          31.664981842041016,
          5.546316623687744,
          5.759174346923828,
          -18.258914947509766,
          4.32315731048584,
          5.0785298347473145,
          4.446018218994141,
          -18.290029525756836,
          -18.535480499267578,
          -18.797725677490234,
          -18.311203002929688,
          -18.618850708007812,
          5.080982208251953,
          -18.203691482543945,
          31.558170318603516,
          -17.771446228027344,
          4.430814743041992,
          4.2866010665893555,
          25.610000610351562,
          22.182085037231445,
          25.9798641204834,
          25.67269515991211,
          26.230098724365234,
          -14.693599700927734,
          -45.5304069519043,
          -45.703155517578125,
          20.141307830810547,
          25.12728500366211,
          24.478431701660156,
          24.605676651000977,
          23.914003372192383,
          23.62954330444336,
          20.93054962158203,
          19.44356918334961,
          19.73937225341797,
          21.322816848754883,
          21.67272186279297,
          24.436687469482422,
          24.957868576049805,
          20.907270431518555,
          19.791715621948242,
          20.893863677978516,
          20.936878204345703,
          21.037006378173828,
          23.564847946166992,
          24.277345657348633,
          19.96316909790039,
          19.179216384887695,
          -27.153947830200195,
          -26.890764236450195,
          14.952442169189453,
          -26.872865676879883,
          -27.454256057739258,
          -27.821508407592773,
          -26.838003158569336,
          -27.2856502532959,
          31.957651138305664,
          32.55226516723633,
          36.08491134643555,
          36.015499114990234,
          36.47171401977539,
          34.81993865966797,
          -20.75191879272461,
          36.41407012939453,
          34.82199478149414,
          35.071876525878906,
          34.98208999633789,
          36.199462890625,
          -4.1676483154296875,
          -5.190598964691162,
          -5.1998748779296875,
          -4.599956035614014,
          -2.454054355621338,
          -2.452127695083618,
          -20.05159568786621,
          -37.12697982788086,
          10.111238479614258,
          4.124870777130127,
          -18.116968154907227,
          11.635973930358887,
          -15.47017765045166,
          8.823884963989258,
          9.11428165435791,
          -34.29484558105469,
          -36.27587127685547,
          -34.323219299316406,
          -35.69324493408203,
          -35.2652473449707,
          -35.079315185546875,
          5.236969470977783,
          -32.56878662109375,
          -33.84027099609375,
          -35.15483856201172,
          -34.79806137084961,
          -35.68116760253906,
          -9.282567024230957,
          20.624181747436523,
          -9.040214538574219,
          -8.994440078735352,
          25.70540428161621,
          8.897187232971191,
          -8.684978485107422,
          -13.11082935333252,
          5.441238880157471,
          -39.94397735595703,
          5.034454822540283,
          -41.771358489990234,
          -41.5977668762207,
          -41.851226806640625,
          -41.63619613647461,
          -40.99965286254883,
          -41.053382873535156,
          6.4632439613342285,
          -3.5927820205688477,
          -1.5042097568511963,
          0.12429257482290268,
          7.389007568359375,
          -48.95245361328125,
          -38.9985466003418,
          -42.233402252197266,
          -50.25286865234375,
          -39.68337631225586,
          -39.181785583496094,
          21.23564338684082,
          20.57314109802246,
          21.38978385925293,
          21.174985885620117,
          -27.94884490966797,
          20.94713020324707,
          20.589820861816406,
          20.55735206604004,
          21.06800651550293,
          -28.727731704711914,
          29.583227157592773,
          20.462459564208984,
          29.568166732788086,
          -28.53838539123535,
          -28.550119400024414,
          -28.39826774597168,
          -28.45108985900879,
          -28.069612503051758,
          20.913724899291992,
          -28.02137565612793
         ],
         "yaxis": "y"
        },
        {
         "hovertemplate": "Label=disgusted<br>x=%{x}<br>y=%{y}<extra></extra>",
         "legendgroup": "disgusted",
         "marker": {
          "color": "#EF553B",
          "symbol": "circle"
         },
         "mode": "markers",
         "name": "disgusted",
         "showlegend": true,
         "type": "scattergl",
         "x": [
          -12.150784492492676,
          -14.615267753601074,
          -13.228287696838379,
          -12.612995147705078,
          -15.302919387817383,
          -15.365592956542969,
          -15.53695297241211,
          -14.72703742980957,
          -13.250351905822754,
          -21.161367416381836,
          -20.663515090942383,
          31.721179962158203,
          -20.976417541503906,
          30.392553329467773,
          -19.986682891845703,
          -21.09343910217285,
          -19.976165771484375,
          31.575786590576172,
          -19.936344146728516,
          -21.0736083984375,
          20.91851043701172,
          30.676673889160156,
          -21.522693634033203,
          30.787738800048828,
          31.00347900390625,
          20.76534080505371,
          22.2021484375,
          22.655492782592773,
          22.565937042236328,
          -0.16981825232505798,
          -0.08464580774307251,
          0.5538502931594849,
          0.980771005153656,
          0.31044864654541016,
          0.8634471893310547,
          0.1456054151058197,
          1.0230450630187988,
          28.307710647583008,
          25.103981018066406,
          -27.67673110961914,
          -1.2242889404296875,
          -1.0485695600509644,
          -0.9610872864723206,
          -0.6800767183303833,
          -0.940128743648529,
          -0.9434422850608826,
          -28.136737823486328,
          -1.3139164447784424,
          -1.202232837677002,
          -27.416654586791992,
          -28.27606773376465,
          -1.5094236135482788,
          -1.4121675491333008,
          -0.018481386825442314,
          -0.39973151683807373,
          -0.6294180750846863,
          -1.0801008939743042,
          -0.6754551529884338,
          -27.768896102905273,
          19.849599838256836,
          19.100149154663086,
          18.954998016357422,
          18.107702255249023,
          18.107820510864258,
          15.723199844360352,
          15.412166595458984,
          15.300956726074219,
          15.742768287658691,
          12.697495460510254,
          9.174127578735352,
          9.207873344421387,
          10.79351806640625,
          9.593031883239746,
          10.854482650756836,
          10.081954956054688,
          10.724242210388184,
          9.993278503417969,
          8.978137016296387,
          28.398502349853516,
          31.054988861083984,
          29.577045440673828,
          34.32539749145508,
          31.096050262451172,
          29.37457847595215,
          32.34824752807617,
          34.201324462890625,
          29.77696990966797,
          28.59971809387207,
          29.070165634155273,
          29.905370712280273,
          32.06467056274414,
          32.206016540527344,
          29.357421875,
          32.940853118896484,
          30.02541732788086,
          33.06312942504883,
          31.683528900146484,
          31.86570167541504,
          32.38430404663086,
          33.505455017089844,
          34.40387725830078,
          31.475360870361328,
          31.25655174255371,
          30.170860290527344,
          30.224763870239258,
          36.286582946777344,
          33.44416427612305,
          13.189299583435059,
          -23.248228073120117,
          26.936691284179688,
          25.702434539794922,
          -30.408016204833984,
          20.93280029296875,
          22.136228561401367,
          -10.922184944152832,
          -13.65363597869873,
          -47.77656555175781,
          -21.118946075439453,
          -12.45233154296875,
          -48.42477035522461,
          -19.675003051757812,
          -18.203664779663086,
          -11.49780559539795,
          -18.270784378051758,
          28.973487854003906,
          -14.229107856750488,
          -14.220693588256836,
          -12.110706329345703,
          -12.276123046875,
          -47.752220153808594,
          25.80724334716797,
          -47.31234359741211,
          27.656522750854492,
          27.01026725769043,
          -11.185358047485352,
          -46.952632904052734,
          29.838729858398438,
          22.712488174438477,
          -11.49930477142334,
          -4.658528804779053,
          -6.433359146118164,
          -4.15178918838501,
          -3.417048931121826,
          -6.837868690490723,
          -6.933909893035889,
          35.77082061767578,
          35.66815185546875,
          -2.217142343521118,
          13.515106201171875,
          16.631729125976562,
          14.728581428527832,
          12.818917274475098,
          14.953765869140625,
          14.957725524902344,
          14.929783821105957,
          14.929403305053711,
          14.867642402648926,
          15.655561447143555,
          15.232504844665527,
          14.916714668273926,
          16.39853286743164,
          16.398468017578125,
          14.370999336242676,
          15.150313377380371,
          14.139368057250977,
          14.139506340026855,
          14.14548397064209,
          14.279293060302734
         ],
         "xaxis": "x",
         "y": [
          -42.51485061645508,
          8.732240676879883,
          7.177563667297363,
          -45.58145523071289,
          -44.755531311035156,
          3.3901214599609375,
          -43.61192321777344,
          -41.8396110534668,
          -39.80298614501953,
          -0.0314103364944458,
          -0.6815629601478577,
          -13.103586196899414,
          -0.5778120756149292,
          -13.921976089477539,
          -1.0107877254486084,
          0.9683310985565186,
          -1.6064385175704956,
          -13.184921264648438,
          -1.5878313779830933,
          -1.2767974138259888,
          27.792999267578125,
          -13.62633991241455,
          -0.9463562965393066,
          -13.376336097717285,
          -14.329843521118164,
          27.723066329956055,
          27.923595428466797,
          28.688251495361328,
          28.520910263061523,
          -44.870887756347656,
          -44.84665298461914,
          -42.518619537353516,
          -42.14170455932617,
          -44.25579071044922,
          -43.50727081298828,
          -43.27679443359375,
          -44.78725814819336,
          -17.98318862915039,
          30.647443771362305,
          25.09090805053711,
          -42.12448501586914,
          -42.291683197021484,
          -44.18932342529297,
          -42.81843566894531,
          -42.92850875854492,
          -44.07399368286133,
          25.048425674438477,
          -43.92335510253906,
          -43.853126525878906,
          25.035755157470703,
          25.351346969604492,
          -42.044986724853516,
          -41.606937408447266,
          -42.53126525878906,
          -41.85197830200195,
          -41.782588958740234,
          -41.33655548095703,
          -41.49882125854492,
          25.196388244628906,
          34.89406967163086,
          34.08617401123047,
          34.032630920410156,
          33.68665313720703,
          33.63999557495117,
          39.90670394897461,
          39.0525016784668,
          39.18696212768555,
          39.97587585449219,
          42.18036651611328,
          38.56089782714844,
          38.549129486083984,
          38.551658630371094,
          38.107810974121094,
          38.53636932373047,
          38.67276382446289,
          38.446197509765625,
          38.25916290283203,
          37.80424118041992,
          26.965620040893555,
          25.326602935791016,
          27.402233123779297,
          26.153337478637695,
          27.747177124023438,
          27.778764724731445,
          26.409988403320312,
          26.39932632446289,
          28.944229125976562,
          29.225250244140625,
          28.810274124145508,
          28.33675193786621,
          27.53350067138672,
          26.515121459960938,
          26.794017791748047,
          25.909151077270508,
          27.050121307373047,
          25.616514205932617,
          25.015024185180664,
          25.617673873901367,
          26.50628089904785,
          26.012510299682617,
          25.357778549194336,
          26.317523956298828,
          25.510608673095703,
          27.516998291015625,
          27.36159324645996,
          -5.975545883178711,
          25.444316864013672,
          36.63210678100586,
          7.338202953338623,
          -15.859129905700684,
          35.5933952331543,
          9.194805145263672,
          29.537553787231445,
          36.79914474487305,
          -34.73793411254883,
          -35.786216735839844,
          -15.362040519714355,
          9.445621490478516,
          7.591495037078857,
          -13.473570823669434,
          3.4571049213409424,
          0.46074342727661133,
          -35.47645950317383,
          -35.63619613647461,
          -9.442742347717285,
          2.3552260398864746,
          2.2704856395721436,
          -38.71558380126953,
          5.2726922035217285,
          -12.722358703613281,
          29.566438674926758,
          -13.698431968688965,
          -9.918429374694824,
          30.205520629882812,
          4.763210773468018,
          -13.072929382324219,
          -8.727792739868164,
          25.974647521972656,
          4.7299723625183105,
          -1.6121066808700562,
          -0.90986168384552,
          -0.8419774770736694,
          -1.160409688949585,
          -1.9607393741607666,
          -1.9561480283737183,
          -6.629618167877197,
          -6.722318649291992,
          0.6855014562606812,
          43.74522399902344,
          44.51000213623047,
          43.96361541748047,
          43.91440963745117,
          43.085914611816406,
          43.77016830444336,
          42.80978012084961,
          45.470115661621094,
          45.25739288330078,
          45.50303649902344,
          44.2663459777832,
          44.825077056884766,
          43.83439636230469,
          43.83434295654297,
          44.60954284667969,
          44.7299690246582,
          44.28262710571289,
          44.281639099121094,
          44.950904846191406,
          45.32773971557617
         ],
         "yaxis": "y"
        },
        {
         "hovertemplate": "Label=happy<br>x=%{x}<br>y=%{y}<extra></extra>",
         "legendgroup": "happy",
         "marker": {
          "color": "#00cc96",
          "symbol": "circle"
         },
         "mode": "markers",
         "name": "happy",
         "showlegend": true,
         "type": "scattergl",
         "x": [
          28.425783157348633,
          -13.313788414001465,
          1.5201994180679321,
          28.813053131103516,
          19.389270782470703,
          19.448291778564453,
          4.726016521453857,
          12.756406784057617,
          -14.288220405578613,
          -14.466699600219727,
          7.901010990142822,
          16.386394500732422,
          21.33967399597168,
          21.321144104003906,
          25.362396240234375,
          7.074981212615967,
          7.840775966644287,
          -17.87293243408203,
          -13.481746673583984,
          -11.594884872436523,
          -14.149998664855957,
          25.197967529296875,
          25.66286277770996,
          -11.237177848815918,
          -10.75643253326416,
          -11.305827140808105,
          -12.143783569335938,
          -11.295653343200684,
          -10.091569900512695,
          -8.49351978302002,
          -12.037439346313477,
          -27.025625228881836,
          -8.592630386352539,
          -8.944499015808105,
          -24.668298721313477,
          -8.535752296447754,
          -9.281827926635742,
          -24.706174850463867,
          -26.73906135559082,
          -9.363860130310059,
          -8.325094223022461,
          -8.679786682128906,
          -24.615266799926758,
          -8.33928108215332,
          22.645366668701172,
          31.413110733032227,
          -26.607803344726562,
          31.23365020751953,
          -26.665943145751953,
          -26.862014770507812,
          -46.06903076171875,
          31.356962203979492,
          31.447938919067383,
          -4.072701930999756,
          -31.220109939575195,
          -31.162206649780273,
          -4.210116386413574,
          -31.186025619506836,
          -3.9966046810150146,
          -3.9858169555664062,
          -3.772097587585449,
          -3.975381851196289,
          -29.367197036743164,
          23.92411994934082,
          20.903810501098633,
          21.63844108581543,
          23.357568740844727,
          21.57221031188965,
          23.2232723236084,
          18.518112182617188,
          22.542171478271484,
          22.719202041625977,
          23.202110290527344,
          23.366769790649414,
          -28.19641876220703,
          -28.12653160095215,
          -28.131134033203125,
          22.351240158081055,
          20.93011474609375,
          22.606000900268555,
          22.810230255126953,
          23.315834045410156,
          -28.29387092590332,
          15.00167465209961,
          28.61314582824707,
          14.561388969421387,
          27.85053825378418,
          27.8898983001709,
          14.988716125488281,
          14.295199394226074,
          14.84543228149414,
          28.01601219177246,
          14.24021053314209,
          15.042655944824219,
          16.220815658569336,
          14.805119514465332,
          27.50963592529297,
          15.780000686645508,
          27.3441162109375,
          27.58017349243164,
          27.521461486816406,
          12.517509460449219,
          29.226455688476562,
          15.273666381835938,
          13.447272300720215,
          8.526656150817871,
          14.431657791137695,
          5.116739273071289,
          8.471348762512207,
          13.55064582824707,
          6.051462173461914,
          14.313207626342773,
          4.395908832550049,
          10.484795570373535,
          4.008786678314209,
          6.604536056518555,
          10.886746406555176,
          11.679563522338867,
          9.552526473999023,
          8.23974609375,
          12.668802261352539,
          5.264021396636963,
          10.901163101196289,
          12.425944328308105,
          12.279410362243652,
          3.8517768383026123,
          3.848257303237915,
          14.163933753967285,
          8.638087272644043,
          11.124500274658203,
          9.357394218444824,
          11.597867965698242,
          12.07636833190918,
          15.980744361877441,
          4.7950439453125,
          3.7947041988372803,
          4.708254337310791,
          10.049384117126465,
          12.337121963500977,
          4.278657913208008,
          13.198413848876953,
          6.056268692016602,
          12.889638900756836,
          5.997931480407715,
          32.746490478515625,
          -6.4677276611328125,
          33.96650695800781,
          33.05693054199219,
          -4.529894828796387,
          -5.418104648590088,
          -4.786283493041992,
          -3.277825117111206,
          -5.245793342590332,
          -4.952223777770996,
          -6.553624153137207,
          -3.7488725185394287,
          -5.973597526550293,
          -5.83193826675415,
          -4.260793209075928,
          -3.732548713684082,
          -6.502765655517578,
          -5.235199928283691,
          -4.745800018310547,
          -6.217904090881348,
          33.52994918823242,
          -2.963385820388794,
          33.529212951660156,
          -5.575754165649414,
          -5.530101776123047,
          27.31386947631836,
          33.26958465576172,
          33.1591911315918,
          -16.257539749145508,
          -16.83282470703125,
          -17.149024963378906,
          -16.30642318725586,
          -16.171213150024414,
          -16.507511138916016,
          -46.596927642822266,
          -10.523405075073242,
          -12.886536598205566,
          -10.721712112426758,
          30.38081169128418,
          -10.404443740844727,
          -11.122489929199219,
          -11.670352935791016,
          -10.912002563476562,
          -17.274002075195312,
          -9.601649284362793,
          29.495389938354492,
          -15.414030075073242,
          -22.55397605895996,
          -11.537873268127441,
          -11.835566520690918,
          30.092609405517578,
          -48.32809066772461,
          -13.09481430053711,
          24.47496223449707,
          24.271713256835938,
          29.98027801513672,
          -11.898491859436035,
          30.187374114990234,
          -16.28767204284668,
          22.600866317749023,
          14.29633903503418,
          20.56808853149414,
          -19.898805618286133,
          -47.14714431762695,
          -47.75745391845703,
          -15.758075714111328,
          -3.9008636474609375,
          -14.915030479431152,
          -3.5840611457824707,
          -4.628929615020752,
          -3.6169912815093994,
          -14.095924377441406,
          -3.1553821563720703,
          -5.030322551727295,
          -3.3574934005737305,
          -2.892970085144043,
          21.287277221679688,
          24.18216896057129,
          32.44623947143555,
          29.746946334838867,
          28.798601150512695,
          30.186569213867188,
          16.909379959106445,
          30.078765869140625,
          31.851383209228516,
          29.413061141967773,
          31.283294677734375,
          29.865955352783203,
          31.3614501953125,
          29.275876998901367,
          30.10402488708496,
          30.412382125854492,
          31.004013061523438,
          17.31671714782715,
          17.12919807434082,
          17.477941513061523,
          17.435277938842773,
          16.873987197875977
         ],
         "xaxis": "x",
         "y": [
          -13.121201515197754,
          13.112985610961914,
          33.420597076416016,
          -13.217982292175293,
          39.877742767333984,
          39.80945587158203,
          36.71522521972656,
          28.994991302490234,
          12.972586631774902,
          12.93319034576416,
          42.849327087402344,
          28.623369216918945,
          34.253562927246094,
          34.27565002441406,
          31.909582138061523,
          42.506656646728516,
          42.83452606201172,
          5.325394153594971,
          -29.906414031982422,
          9.794452667236328,
          -40.43901824951172,
          28.22946548461914,
          29.00473976135254,
          -42.72381591796875,
          7.441220283508301,
          -42.61912536621094,
          9.207670211791992,
          7.588161468505859,
          9.367791175842285,
          8.12813949584961,
          -43.5291633605957,
          -0.7294327616691589,
          -30.627073287963867,
          -30.293115615844727,
          3.2833218574523926,
          -30.05940818786621,
          -30.05417823791504,
          3.2553703784942627,
          -0.5148715376853943,
          -30.383039474487305,
          -30.100473403930664,
          -30.122392654418945,
          3.3545260429382324,
          -30.660396575927734,
          32.583438873291016,
          -15.593667984008789,
          1.809503197669983,
          -15.453147888183594,
          1.9176263809204102,
          2.218923568725586,
          -13.897897720336914,
          -15.704413414001465,
          -15.719160079956055,
          -46.06156539916992,
          28.270103454589844,
          28.28367042541504,
          -46.029457092285156,
          28.265047073364258,
          -48.864967346191406,
          -48.8756217956543,
          -48.18661880493164,
          -48.8720588684082,
          28.12285804748535,
          -12.82447338104248,
          -11.719558715820312,
          -11.938029289245605,
          -12.155487060546875,
          -11.995357513427734,
          -12.90056037902832,
          29.25356674194336,
          -12.589962005615234,
          -12.67090892791748,
          -12.935070991516113,
          -12.410664558410645,
          27.643505096435547,
          27.634191513061523,
          27.646913528442383,
          -13.232858657836914,
          -11.68560791015625,
          -13.079476356506348,
          -12.003087997436523,
          -13.25526237487793,
          27.649215698242188,
          32.74973678588867,
          -27.341249465942383,
          32.80021286010742,
          -27.737918853759766,
          -27.68568992614746,
          33.11543655395508,
          32.53911209106445,
          33.226863861083984,
          -27.806915283203125,
          32.32543182373047,
          32.10078811645508,
          33.591712951660156,
          31.98785400390625,
          -24.018798828125,
          33.19690704345703,
          -24.171850204467773,
          -24.216264724731445,
          -23.918176651000977,
          30.914695739746094,
          -27.204193115234375,
          32.658409118652344,
          19.329137802124023,
          36.46860885620117,
          20.034460067749023,
          39.68361282348633,
          36.492698669433594,
          19.29155731201172,
          36.796321868896484,
          19.735855102539062,
          35.13825225830078,
          18.735929489135742,
          35.10392761230469,
          40.25463104248047,
          25.715635299682617,
          18.39264678955078,
          39.92365646362305,
          39.21482467651367,
          17.795063018798828,
          39.7197265625,
          25.780961990356445,
          17.98804473876953,
          41.40428161621094,
          35.293556213378906,
          35.23035430908203,
          18.015687942504883,
          16.89943504333496,
          36.09429931640625,
          17.316246032714844,
          35.8868293762207,
          35.74687194824219,
          22.504871368408203,
          30.855581283569336,
          39.13089370727539,
          30.790109634399414,
          18.463985443115234,
          35.46786880493164,
          39.30887222290039,
          16.40151023864746,
          31.170427322387695,
          16.2633113861084,
          31.16473388671875,
          -5.801938533782959,
          4.850190162658691,
          -5.980323791503906,
          -5.614361763000488,
          5.738770484924316,
          5.414131164550781,
          5.710781097412109,
          4.447605133056641,
          4.506314754486084,
          4.810041427612305,
          4.093814849853516,
          5.51234769821167,
          5.210168838500977,
          3.8210558891296387,
          4.190502643585205,
          4.483942985534668,
          5.548155784606934,
          3.4556899070739746,
          3.635763645172119,
          5.881575107574463,
          -6.3269362449646,
          5.374619007110596,
          -6.556851387023926,
          3.6644229888916016,
          6.434754848480225,
          28.963817596435547,
          -7.071815013885498,
          -5.55668306350708,
          -33.3120002746582,
          -33.68146514892578,
          -33.35013961791992,
          -32.21973419189453,
          -32.26422882080078,
          -33.66394805908203,
          -16.687864303588867,
          -39.680423736572266,
          9.078728675842285,
          -39.567928314208984,
          -8.8513765335083,
          6.459807395935059,
          -40.50593185424805,
          6.1771745681762695,
          -43.18242263793945,
          -43.78221893310547,
          6.27608060836792,
          -10.582502365112305,
          -39.159950256347656,
          -44.25529861450195,
          -43.95861053466797,
          -43.91158676147461,
          -10.408735275268555,
          -13.866996765136719,
          -44.102542877197266,
          29.041467666625977,
          29.090015411376953,
          -10.4722900390625,
          3.420667886734009,
          -11.703609466552734,
          -37.32710647583008,
          30.714969635009766,
          37.065582275390625,
          29.57041358947754,
          11.729267120361328,
          -15.158490180969238,
          -15.298430442810059,
          -35.035274505615234,
          1.2028371095657349,
          -51.5002555847168,
          1.01865816116333,
          2.3857059478759766,
          2.3981480598449707,
          -52.18479537963867,
          1.070678472518921,
          1.121331810951233,
          2.2616186141967773,
          2.40510630607605,
          23.3565673828125,
          33.68932342529297,
          -29.782615661621094,
          -30.8245906829834,
          -30.83424186706543,
          -30.43485450744629,
          36.250282287597656,
          -30.858339309692383,
          -29.80528450012207,
          -30.40660858154297,
          -30.024564743041992,
          -30.215919494628906,
          -29.852956771850586,
          -30.299636840820312,
          -31.18575096130371,
          -30.554418563842773,
          -30.53997039794922,
          36.19961929321289,
          35.9575309753418,
          36.42422866821289,
          36.286590576171875,
          36.01835250854492
         ],
         "yaxis": "y"
        },
        {
         "hovertemplate": "Label=neutral<br>x=%{x}<br>y=%{y}<extra></extra>",
         "legendgroup": "neutral",
         "marker": {
          "color": "#ab63fa",
          "symbol": "circle"
         },
         "mode": "markers",
         "name": "neutral",
         "showlegend": true,
         "type": "scattergl",
         "x": [
          -9.777463912963867,
          -23.13997459411621,
          22.474388122558594,
          4.146822929382324,
          22.78053092956543,
          9.28318977355957,
          19.358850479125977,
          -14.685415267944336,
          -8.12308406829834,
          7.422153472900391,
          21.323144912719727,
          -13.462472915649414,
          -9.823920249938965,
          -11.81737995147705,
          -11.6873197555542,
          -11.909356117248535,
          -14.883554458618164,
          -12.004176139831543,
          -10.655475616455078,
          -22.51402473449707,
          -17.30937385559082,
          -16.79705047607422,
          -28.539756774902344,
          -28.70491600036621,
          -28.53780746459961,
          -28.35028648376465,
          -27.96514892578125,
          -27.86760139465332,
          -27.819442749023438,
          -27.86377716064453,
          -28.14042854309082,
          -28.816028594970703,
          -28.117271423339844,
          -27.696733474731445,
          -28.91586685180664,
          -27.884822845458984,
          -28.139373779296875,
          -7.866335391998291,
          -28.05659294128418,
          -7.93011999130249,
          -7.932805061340332,
          -7.934854507446289,
          -6.30460786819458,
          -36.71537780761719,
          -5.703662872314453,
          -35.75876998901367,
          -34.576942443847656,
          -35.79483413696289,
          -6.836090564727783,
          -5.717543125152588,
          -36.52946472167969,
          -6.382411956787109,
          -35.35871505737305,
          21.12193489074707,
          22.188358306884766,
          19.601158142089844,
          18.549606323242188,
          20.97113800048828,
          19.90069007873535,
          20.598154067993164,
          19.848918914794922,
          21.426008224487305,
          22.848535537719727,
          22.4279727935791,
          22.180599212646484,
          21.71519660949707,
          -35.48179244995117,
          19.474166870117188,
          20.623903274536133,
          18.567018508911133,
          19.48579216003418,
          21.494905471801758,
          26.824909210205078,
          27.760801315307617,
          28.483591079711914,
          -22.63066864013672,
          29.296283721923828,
          26.77058982849121,
          27.623376846313477,
          26.86323356628418,
          -22.64046287536621,
          15.296341896057129,
          11.407430648803711,
          8.720705032348633,
          8.332507133483887,
          8.291619300842285,
          9.113868713378906,
          8.278820991516113,
          9.746031761169434,
          16.119915008544922,
          13.603658676147461,
          8.39798641204834,
          9.422199249267578,
          8.751579284667969,
          8.985695838928223,
          8.86490249633789,
          13.77408218383789,
          -8.81316089630127,
          29.95607566833496,
          -8.943136215209961,
          29.27747917175293,
          -8.749039649963379,
          25.236974716186523,
          24.982452392578125,
          33.41477584838867,
          32.16044235229492,
          25.64909553527832,
          25.15500259399414,
          -12.614376068115234,
          -13.510124206542969,
          -13.637557029724121,
          26.301427841186523,
          26.135478973388672,
          -14.43554401397705,
          29.712263107299805,
          -10.104743957519531,
          28.012266159057617,
          28.199495315551758,
          -11.36403751373291,
          29.017650604248047,
          27.91795539855957,
          -12.958198547363281,
          27.416391372680664,
          16.465194702148438,
          -23.53591537475586,
          22.572690963745117,
          -20.009607315063477,
          -23.288719177246094,
          6.515130519866943,
          -19.013166427612305,
          36.59719467163086,
          7.912891864776611,
          -48.32605743408203,
          -20.48046112060547,
          -18.53706932067871,
          -22.514102935791016,
          -18.923229217529297,
          -19.634963989257812,
          -7.094592094421387,
          -7.134340286254883,
          -18.85888671875,
          33.44480895996094,
          -13.784745216369629,
          -14.314302444458008,
          -8.656768798828125,
          -19.215965270996094,
          -17.608501434326172,
          -18.14197540283203,
          -14.46052360534668,
          -14.66452693939209,
          -14.712264060974121,
          -15.196700096130371,
          -7.997138500213623,
          -8.025312423706055,
          -7.972352027893066,
          -21.910329818725586,
          -8.001079559326172,
          -13.668008804321289,
          -22.701929092407227,
          11.122514724731445,
          23.31517219543457,
          -24.839590072631836,
          -22.408187866210938,
          -24.889368057250977,
          -22.40984344482422
         ],
         "xaxis": "x",
         "y": [
          -44.10829544067383,
          6.688612937927246,
          33.537052154541016,
          30.37384796142578,
          33.75732421875,
          21.407194137573242,
          39.87751388549805,
          12.8742094039917,
          -47.0608024597168,
          42.716182708740234,
          34.14651107788086,
          -29.95921516418457,
          -42.45291519165039,
          3.5149688720703125,
          -45.56101608276367,
          -46.10935974121094,
          -45.01798629760742,
          -46.158939361572266,
          -44.882362365722656,
          -44.37041091918945,
          -41.12865447998047,
          -40.7851448059082,
          1.9993284940719604,
          -0.5632716417312622,
          -0.7174632549285889,
          -0.17722421884536743,
          2.097607135772705,
          -0.09394092112779617,
          2.2365896701812744,
          -0.690325915813446,
          -0.8820888996124268,
          0.19296909868717194,
          1.6659908294677734,
          1.5819940567016602,
          -0.08861137926578522,
          1.83232581615448,
          2.330573797225952,
          -31.855518341064453,
          -0.3320994973182678,
          -31.89277458190918,
          -31.856691360473633,
          -31.785837173461914,
          -45.15254592895508,
          24.380386352539062,
          -45.52240753173828,
          26.257122039794922,
          18.83343505859375,
          20.722763061523438,
          -45.19572448730469,
          -45.52809143066406,
          24.893014907836914,
          -46.1820182800293,
          21.492727279663086,
          -16.06363868713379,
          -15.355053901672363,
          -16.833444595336914,
          29.462257385253906,
          -15.111621856689453,
          -15.454732894897461,
          -16.836278915405273,
          -16.24858856201172,
          -16.147785186767578,
          -15.283957481384277,
          -15.10496997833252,
          -14.906990051269531,
          -14.836600303649902,
          21.404359817504883,
          -16.4191837310791,
          -17.173702239990234,
          29.523311614990234,
          -16.05403709411621,
          -15.760517120361328,
          -25.479061126708984,
          -26.151782989501953,
          -26.432540893554688,
          14.804149627685547,
          -26.47957420349121,
          -25.368633270263672,
          -26.23246192932129,
          -24.78331184387207,
          14.805774688720703,
          31.58254623413086,
          18.33576202392578,
          16.246232986450195,
          33.78676986694336,
          16.146474838256836,
          32.201072692871094,
          16.91912841796875,
          31.921798706054688,
          22.544363021850586,
          16.922914505004883,
          33.80419158935547,
          16.08376693725586,
          16.668807983398438,
          32.15271759033203,
          16.252416610717773,
          16.97145652770996,
          -3.880866050720215,
          -3.77901029586792,
          -4.526308536529541,
          -2.604825019836426,
          -4.457552909851074,
          24.92745018005371,
          24.842756271362305,
          -4.033578872680664,
          -1.7788195610046387,
          24.358604431152344,
          24.96101188659668,
          -4.575386047363281,
          -4.45247220993042,
          -4.807302474975586,
          -4.294167518615723,
          -4.388327121734619,
          -3.9970996379852295,
          -3.798668384552002,
          -3.7510392665863037,
          -3.5454440116882324,
          -2.4870612621307373,
          -4.815177917480469,
          -2.4317922592163086,
          -2.7848005294799805,
          -4.770411968231201,
          -3.4971871376037598,
          29.54802131652832,
          7.755856513977051,
          30.76727867126465,
          7.381106853485107,
          -3.2225828170776367,
          24.949779510498047,
          -37.68644714355469,
          -19.44932746887207,
          37.76251220703125,
          -15.5095796585083,
          8.645362854003906,
          -33.957679748535156,
          -37.062679290771484,
          -34.22596740722656,
          6.027036666870117,
          -33.461097717285156,
          -33.50053405761719,
          5.097700595855713,
          -12.07194709777832,
          -32.87451171875,
          -33.11674118041992,
          -41.13217544555664,
          -40.182960510253906,
          -41.53902053833008,
          -41.27120590209961,
          6.2844109535217285,
          -47.77589797973633,
          -47.79512023925781,
          -48.074668884277344,
          -35.52912139892578,
          -35.51023864746094,
          -35.54158020019531,
          4.913876056671143,
          -35.530357360839844,
          -49.15861129760742,
          -39.617984771728516,
          39.97622299194336,
          25.593154907226562,
          12.988640785217285,
          18.711585998535156,
          12.938310623168945,
          18.718069076538086
         ],
         "yaxis": "y"
        },
        {
         "hovertemplate": "Label=sad<br>x=%{x}<br>y=%{y}<extra></extra>",
         "legendgroup": "sad",
         "marker": {
          "color": "#FFA15A",
          "symbol": "circle"
         },
         "mode": "markers",
         "name": "sad",
         "showlegend": true,
         "type": "scattergl",
         "x": [
          20.011241912841797,
          13.434762001037598,
          -13.532206535339355,
          -12.438211441040039,
          -12.078845977783203,
          -13.399847984313965,
          9.347443580627441,
          -13.479092597961426,
          -15.419599533081055,
          -22.53326988220215,
          -21.807167053222656,
          -21.85736083984375,
          -21.845563888549805,
          -11.11780071258545,
          -10.93746280670166,
          -11.05036735534668,
          -22.192846298217773,
          -21.951946258544922,
          -23.404756546020508,
          -23.503480911254883,
          -23.475542068481445,
          -22.70778465270996,
          -9.80410099029541,
          -22.715845108032227,
          -22.766239166259766,
          -11.261439323425293,
          -22.469202041625977,
          -22.572406768798828,
          -22.506250381469727,
          -33.24161148071289,
          -33.241539001464844,
          -3.3953609466552734,
          -3.3481602668762207,
          -3.4285497665405273,
          -33.581687927246094,
          -33.388214111328125,
          -33.581642150878906,
          -33.564388275146484,
          -3.546729803085327,
          -33.564979553222656,
          -33.6963996887207,
          -33.81476593017578,
          -33.6963996887207,
          -32.851966857910156,
          -33.91374969482422,
          -32.851966857910156,
          -32.008419036865234,
          -32.70370101928711,
          -32.00868606567383,
          -35.53483200073242,
          -33.01293182373047,
          -35.53483200073242,
          -34.81886291503906,
          -34.818782806396484,
          -34.818763732910156,
          -33.57698440551758,
          -3.609264612197876,
          -31.991220474243164,
          -31.991357803344727,
          30.92835807800293,
          31.109148025512695,
          31.1788272857666,
          -24.188880920410156,
          15.752983093261719,
          -24.15619659423828,
          30.369918823242188,
          31.78594398498535,
          30.456689834594727,
          16.625633239746094,
          10.687655448913574,
          10.467873573303223,
          8.512965202331543,
          14.892807006835938,
          8.322381973266602,
          14.937694549560547,
          7.590542793273926,
          7.093841552734375,
          14.905463218688965,
          8.094608306884766,
          7.124248027801514,
          14.962956428527832,
          8.277912139892578,
          7.174509048461914,
          10.966043472290039,
          7.70868444442749,
          10.876834869384766,
          7.471346378326416,
          11.264839172363281,
          7.249523639678955,
          -22.03356170654297,
          -5.214614391326904,
          -4.198783874511719,
          -4.071531772613525,
          -5.957672119140625,
          -6.106923580169678,
          -6.178018569946289,
          36.41819763183594,
          35.75752639770508,
          28.936946868896484,
          34.707984924316406,
          34.987117767333984,
          35.203800201416016,
          34.834468841552734,
          36.32089614868164,
          -5.070648670196533,
          -4.269810676574707,
          -4.802700996398926,
          29.438814163208008,
          -5.281254291534424,
          36.89885711669922,
          -5.067633152008057,
          33.59185028076172,
          33.945068359375,
          34.022361755371094,
          -5.593875408172607,
          -19.980892181396484,
          -20.8103084564209,
          -20.7458553314209,
          -20.852130889892578,
          -19.269622802734375,
          -19.026287078857422,
          32.732391357421875,
          -18.641376495361328,
          -22.737903594970703,
          32.57728958129883,
          20.301860809326172,
          32.74530792236328,
          33.07317352294922,
          -12.679434776306152,
          30.95856475830078,
          -22.52751922607422,
          -12.409124374389648,
          -11.752726554870605,
          -12.013036727905273,
          -13.384292602539062,
          -14.04144287109375,
          -11.963791847229004,
          -11.910327911376953,
          31.00737953186035,
          -14.154576301574707,
          30.95408821105957,
          -14.090749740600586,
          -47.76624298095703,
          -13.663804054260254,
          -10.658348083496094,
          -10.687044143676758,
          -12.572102546691895,
          -47.97576904296875,
          31.75944709777832,
          -16.554561614990234,
          -16.87042808532715,
          -23.268896102905273,
          22.13840675354004,
          -20.26418685913086,
          -48.38672637939453,
          -20.88050079345703,
          -16.22975730895996,
          -16.26873016357422,
          -14.967912673950195,
          -16.049121856689453,
          -16.012422561645508,
          -16.200843811035156,
          -9.43229866027832,
          -9.410013198852539,
          -22.84902000427246,
          -16.42082405090332,
          -20.07017707824707,
          -21.88261604309082,
          27.53717613220215,
          -20.045795440673828,
          14.73547649383545,
          -22.0037784576416,
          32.337894439697266,
          13.549910545349121,
          31.55091667175293,
          12.175082206726074,
          31.548986434936523,
          31.55470848083496,
          17.20262336730957
         ],
         "xaxis": "x",
         "y": [
          39.30976104736328,
          31.470041275024414,
          -43.22515106201172,
          -39.62874984741211,
          -39.59379959106445,
          -39.846370697021484,
          20.511676788330078,
          8.153270721435547,
          -40.99766540527344,
          -0.1457766741514206,
          2.7293057441711426,
          2.7494852542877197,
          2.6057519912719727,
          -33.18501663208008,
          -32.98027038574219,
          -33.00865173339844,
          2.9515841007232666,
          3.242151975631714,
          0.7847394943237305,
          0.7043424844741821,
          0.5994943380355835,
          -0.5298635363578796,
          -32.27170181274414,
          2.6134049892425537,
          2.4213762283325195,
          -33.216163635253906,
          -1.0622212886810303,
          -1.0197653770446777,
          1.429062008857727,
          14.155141830444336,
          14.1552095413208,
          -39.0636100769043,
          -38.5030403137207,
          -38.86930847167969,
          11.548177719116211,
          11.915432929992676,
          11.548018455505371,
          13.3519926071167,
          -38.87281036376953,
          13.352023124694824,
          15.470235824584961,
          13.634624481201172,
          15.470235824584961,
          11.774820327758789,
          14.3954496383667,
          11.774820327758789,
          14.870956420898438,
          15.27027702331543,
          14.870963096618652,
          9.805681228637695,
          11.406290054321289,
          9.805681228637695,
          9.384061813354492,
          9.384241104125977,
          9.384086608886719,
          15.660043716430664,
          -38.98582458496094,
          12.942350387573242,
          12.94239330291748,
          -27.300905227661133,
          -27.1414852142334,
          -27.180917739868164,
          13.360060691833496,
          34.40877151489258,
          13.391372680664062,
          -27.527355194091797,
          -26.767192840576172,
          -27.71446418762207,
          34.138092041015625,
          25.52220344543457,
          17.887950897216797,
          27.080547332763672,
          21.634963989257812,
          26.31346321105957,
          21.842609405517578,
          26.673612594604492,
          21.944406509399414,
          21.815128326416016,
          26.815656661987305,
          21.943586349487305,
          21.821943283081055,
          26.65923309326172,
          21.94948387145996,
          17.240835189819336,
          27.124053955078125,
          17.441865921020508,
          27.18352699279785,
          16.935855865478516,
          27.233469009399414,
          14.706276893615723,
          -3.6327810287475586,
          -3.382858991622925,
          -2.5389325618743896,
          -3.7300827503204346,
          -1.089693546295166,
          -4.479731559753418,
          -3.3965365886688232,
          -2.969632148742676,
          23.7949161529541,
          -3.3801727294921875,
          -4.019335746765137,
          -3.166201114654541,
          -3.156351327896118,
          -3.1789743900299072,
          -3.1096725463867188,
          -3.3383595943450928,
          -4.76462459564209,
          23.636032104492188,
          -4.68838357925415,
          -2.965009927749634,
          -3.1396381855010986,
          -2.9704768657684326,
          -2.153164863586426,
          -3.9388108253479004,
          -4.654393672943115,
          -36.20954895019531,
          -35.875640869140625,
          -35.950748443603516,
          -35.85688018798828,
          -35.728721618652344,
          -35.297027587890625,
          -11.24013900756836,
          4.375521659851074,
          -43.633399963378906,
          -11.074867248535156,
          27.46779441833496,
          -11.346965789794922,
          -11.543488502502441,
          5.766352653503418,
          -9.280987739562988,
          -44.364044189453125,
          5.897123336791992,
          -40.92390441894531,
          -40.80271530151367,
          4.7620954513549805,
          6.254336833953857,
          -40.183170318603516,
          -40.39125061035156,
          -9.398750305175781,
          4.6638102531433105,
          -9.660147666931152,
          7.441185474395752,
          -13.684700012207031,
          7.5823655128479,
          -37.4140625,
          -37.43962097167969,
          6.73451042175293,
          -13.151762008666992,
          -19.81479835510254,
          -37.30128860473633,
          -52.390098571777344,
          -3.1852612495422363,
          36.82456970214844,
          11.648734092712402,
          -15.07614803314209,
          9.09200382232666,
          -50.40503692626953,
          -49.19813919067383,
          -52.18612289428711,
          -51.39664840698242,
          -51.4918327331543,
          -51.24261474609375,
          -0.04967518895864487,
          -0.056040842086076736,
          -39.72308349609375,
          -48.13151550292969,
          16.433992385864258,
          16.617332458496094,
          -29.534881591796875,
          16.43317985534668,
          30.97369384765625,
          16.780254364013672,
          -28.092044830322266,
          35.07863998413086,
          -23.348337173461914,
          38.710391998291016,
          -23.354204177856445,
          -23.337617874145508,
          34.40451431274414
         ],
         "yaxis": "y"
        },
        {
         "hovertemplate": "Label=surprised<br>x=%{x}<br>y=%{y}<extra></extra>",
         "legendgroup": "surprised",
         "marker": {
          "color": "#19d3f3",
          "symbol": "circle"
         },
         "mode": "markers",
         "name": "surprised",
         "showlegend": true,
         "type": "scattergl",
         "x": [
          -13.812877655029297,
          -16.580923080444336,
          -9.262084007263184,
          28.529539108276367,
          -13.27467155456543,
          26.23967170715332,
          -15.338356971740723,
          -47.156227111816406,
          -17.609859466552734,
          -26.506826400756836,
          -26.396902084350586,
          -25.64571189880371,
          33.45917892456055,
          -25.75324058532715,
          -25.492040634155273,
          -46.35873794555664,
          -25.46345329284668,
          33.60198211669922,
          35.20854949951172,
          34.42292404174805,
          -25.660985946655273,
          -26.22052574157715,
          34.24294662475586,
          34.10749053955078,
          20.512264251708984,
          -45.88795471191406,
          20.95777702331543,
          34.456668853759766,
          21.159048080444336,
          20.605289459228516,
          34.12582778930664,
          -1.4022923707962036,
          -1.2498753070831299,
          -28.71824073791504,
          -20.795087814331055,
          -29.29714584350586,
          -28.187360763549805,
          -28.56140899658203,
          -4.459993362426758,
          -1.247929573059082,
          -28.46864891052246,
          -30.793258666992188,
          22.460811614990234,
          -31.143972396850586,
          -31.578475952148438,
          -30.34683609008789,
          -31.51793670654297,
          -4.636177062988281,
          -30.37211799621582,
          23.320186614990234,
          -30.00461196899414,
          -31.118162155151367,
          -30.361831665039062,
          -32.01460647583008,
          -30.20111846923828,
          22.46857452392578,
          -30.388416290283203,
          -31.561908721923828,
          -31.10799217224121,
          -30.75948715209961,
          23.740001678466797,
          16.206981658935547,
          16.927101135253906,
          16.82425880432129,
          17.126981735229492,
          16.024765014648438,
          31.040485382080078,
          30.421600341796875,
          -24.025922775268555,
          -24.00998306274414,
          -24.120590209960938,
          -28.170392990112305,
          -28.18120574951172,
          13.19356918334961,
          34.592498779296875,
          35.067813873291016,
          34.37803649902344,
          34.64969253540039,
          34.38731002807617,
          34.56978225708008,
          18.57095718383789,
          11.626702308654785,
          28.643924713134766,
          31.446529388427734,
          -9.783227920532227,
          27.734384536743164,
          28.43865966796875,
          -9.700312614440918,
          29.073806762695312,
          -7.491062164306641,
          -9.820731163024902,
          28.9894962310791,
          -9.310883522033691,
          29.4061336517334,
          30.326915740966797,
          31.06686782836914,
          36.965545654296875,
          -10.159835815429688,
          27.63543128967285,
          -9.053274154663086,
          31.310977935791016,
          27.680593490600586,
          31.53290557861328,
          28.488006591796875,
          30.834928512573242,
          31.191293716430664,
          31.598417282104492,
          -46.7109260559082,
          -21.309280395507812,
          -46.583412170410156,
          -23.076187133789062,
          -17.420026779174805,
          -17.492319107055664,
          12.89978313446045,
          -22.71926498413086,
          -46.44416809082031,
          -18.900226593017578,
          -18.866878509521484,
          -21.35342788696289,
          -21.626007080078125,
          -18.875892639160156,
          -46.266910552978516,
          -22.472949981689453,
          -22.5455322265625,
          5.564455986022949,
          18.900894165039062,
          -46.02238845825195,
          -7.682960510253906,
          -11.440811157226562,
          -47.76042175292969,
          14.877154350280762,
          -7.632712364196777,
          16.312053680419922,
          -24.651403427124023,
          -22.914993286132812,
          25.71023941040039,
          34.077110290527344,
          36.60704040527344,
          17.91519546508789,
          -47.349586486816406,
          -13.70633316040039,
          -20.77888298034668,
          -13.841588973999023,
          -14.215826034545898,
          -6.676418304443359,
          -14.1824369430542,
          -14.283257484436035,
          -7.05103874206543,
          -7.60177755355835,
          -13.388270378112793,
          -14.8018217086792,
          -13.39326286315918,
          24.070714950561523,
          23.52283477783203,
          23.790111541748047,
          24.651493072509766,
          24.227155685424805,
          24.058975219726562,
          23.418691635131836,
          24.70545768737793,
          23.554872512817383,
          24.046361923217773,
          24.2852840423584,
          24.06970977783203,
          23.876583099365234,
          24.22110366821289,
          23.44184112548828,
          24.93730926513672,
          24.456432342529297,
          24.68541717529297,
          24.46441650390625,
          24.434131622314453
         ],
         "xaxis": "x",
         "y": [
          -39.030887603759766,
          -40.368980407714844,
          -42.47748565673828,
          -7.794695854187012,
          3.868053913116455,
          28.66449546813965,
          7.179433822631836,
          -16.096786499023438,
          8.479713439941406,
          7.484241485595703,
          7.389939308166504,
          6.917760848999023,
          -16.028438568115234,
          7.001291275024414,
          7.518067359924316,
          -14.065315246582031,
          7.582845211029053,
          -16.04425621032715,
          -16.626075744628906,
          -16.616775512695312,
          7.3146820068359375,
          7.880374431610107,
          -16.21103286743164,
          -16.13540267944336,
          31.484668731689453,
          -13.913071632385254,
          31.75945281982422,
          -15.880617141723633,
          31.971017837524414,
          31.50615692138672,
          -15.650407791137695,
          -46.797874450683594,
          -46.65924835205078,
          21.027301788330078,
          -38.976905822753906,
          21.22597312927246,
          22.013463973999023,
          22.56505012512207,
          -43.9248161315918,
          -46.63395690917969,
          22.801158905029297,
          23.32238006591797,
          -17.157520294189453,
          20.77945899963379,
          24.732852935791016,
          19.5092830657959,
          24.17161750793457,
          -44.22972106933594,
          21.199045181274414,
          -17.00394630432129,
          19.877660751342773,
          23.644729614257812,
          20.29888916015625,
          24.929668426513672,
          20.903995513916016,
          -17.188581466674805,
          20.735950469970703,
          24.579669952392578,
          20.14651107788086,
          19.99856948852539,
          -16.93960189819336,
          32.177879333496094,
          32.75931167602539,
          32.727081298828125,
          33.28660583496094,
          31.89956283569336,
          -26.033063888549805,
          -26.487211227416992,
          15.739068031311035,
          15.866568565368652,
          15.675159454345703,
          12.254220962524414,
          12.24891185760498,
          33.95232009887695,
          -24.09300994873047,
          -24.30738639831543,
          -24.455097198486328,
          -24.105676651000977,
          -24.79010772705078,
          -24.117393493652344,
          25.863142013549805,
          32.744876861572266,
          26.508514404296875,
          -2.655690908432007,
          -5.922536849975586,
          -3.930866003036499,
          -4.161941051483154,
          -6.261833667755127,
          -4.026890754699707,
          -5.627147197723389,
          -4.613155841827393,
          -3.9627552032470703,
          -5.4138922691345215,
          -2.576186180114746,
          -2.0161292552948,
          22.976604461669922,
          -5.6661553382873535,
          -4.0622878074646,
          25.824472427368164,
          -5.339782238006592,
          -2.7723429203033447,
          25.558780670166016,
          -2.462585210800171,
          24.915857315063477,
          23.576282501220703,
          23.150470733642578,
          23.17624855041504,
          -15.428436279296875,
          -32.0533447265625,
          -15.28988265991211,
          -36.77604675292969,
          -30.89713478088379,
          -30.957273483276367,
          32.70077896118164,
          -34.163734436035156,
          -16.12742805480957,
          -31.76508140563965,
          -31.629640579223633,
          -32.11152648925781,
          -32.42169952392578,
          -31.755292892456055,
          -15.26728630065918,
          -33.96403121948242,
          -34.08810043334961,
          34.8807373046875,
          24.970123291015625,
          -15.68571662902832,
          -40.94797897338867,
          -2.5995655059814453,
          -13.927358627319336,
          29.657922744750977,
          -40.92450714111328,
          29.646398544311523,
          9.943703651428223,
          10.219078063964844,
          35.603633880615234,
          -12.087733268737793,
          -19.408422470092773,
          25.88747787475586,
          -16.01886749267578,
          -31.613100051879883,
          8.89876937866211,
          -50.407169342041016,
          -50.024147033691406,
          -3.2085824012756348,
          -49.51747131347656,
          -50.12142562866211,
          -3.570608139038086,
          -4.329122066497803,
          -50.77410888671875,
          -49.50570297241211,
          -49.50126266479492,
          43.258995056152344,
          45.28702926635742,
          45.00676345825195,
          45.11946487426758,
          44.97937774658203,
          42.8790397644043,
          45.74588394165039,
          45.75742721557617,
          46.02132797241211,
          43.190120697021484,
          46.21183395385742,
          45.83450698852539,
          46.22123718261719,
          45.35362243652344,
          47.18515396118164,
          45.75873565673828,
          42.97223663330078,
          46.1643180847168,
          46.77960968017578,
          43.027915954589844
         ],
         "yaxis": "y"
        }
       ],
       "layout": {
        "legend": {
         "title": {
          "text": "Label"
         },
         "tracegroupgap": 0
        },
        "margin": {
         "t": 60
        },
        "template": {
         "data": {
          "bar": [
           {
            "error_x": {
             "color": "#2a3f5f"
            },
            "error_y": {
             "color": "#2a3f5f"
            },
            "marker": {
             "line": {
              "color": "#E5ECF6",
              "width": 0.5
             },
             "pattern": {
              "fillmode": "overlay",
              "size": 10,
              "solidity": 0.2
             }
            },
            "type": "bar"
           }
          ],
          "barpolar": [
           {
            "marker": {
             "line": {
              "color": "#E5ECF6",
              "width": 0.5
             },
             "pattern": {
              "fillmode": "overlay",
              "size": 10,
              "solidity": 0.2
             }
            },
            "type": "barpolar"
           }
          ],
          "carpet": [
           {
            "aaxis": {
             "endlinecolor": "#2a3f5f",
             "gridcolor": "white",
             "linecolor": "white",
             "minorgridcolor": "white",
             "startlinecolor": "#2a3f5f"
            },
            "baxis": {
             "endlinecolor": "#2a3f5f",
             "gridcolor": "white",
             "linecolor": "white",
             "minorgridcolor": "white",
             "startlinecolor": "#2a3f5f"
            },
            "type": "carpet"
           }
          ],
          "choropleth": [
           {
            "colorbar": {
             "outlinewidth": 0,
             "ticks": ""
            },
            "type": "choropleth"
           }
          ],
          "contour": [
           {
            "colorbar": {
             "outlinewidth": 0,
             "ticks": ""
            },
            "colorscale": [
             [
              0,
              "#0d0887"
             ],
             [
              0.1111111111111111,
              "#46039f"
             ],
             [
              0.2222222222222222,
              "#7201a8"
             ],
             [
              0.3333333333333333,
              "#9c179e"
             ],
             [
              0.4444444444444444,
              "#bd3786"
             ],
             [
              0.5555555555555556,
              "#d8576b"
             ],
             [
              0.6666666666666666,
              "#ed7953"
             ],
             [
              0.7777777777777778,
              "#fb9f3a"
             ],
             [
              0.8888888888888888,
              "#fdca26"
             ],
             [
              1,
              "#f0f921"
             ]
            ],
            "type": "contour"
           }
          ],
          "contourcarpet": [
           {
            "colorbar": {
             "outlinewidth": 0,
             "ticks": ""
            },
            "type": "contourcarpet"
           }
          ],
          "heatmap": [
           {
            "colorbar": {
             "outlinewidth": 0,
             "ticks": ""
            },
            "colorscale": [
             [
              0,
              "#0d0887"
             ],
             [
              0.1111111111111111,
              "#46039f"
             ],
             [
              0.2222222222222222,
              "#7201a8"
             ],
             [
              0.3333333333333333,
              "#9c179e"
             ],
             [
              0.4444444444444444,
              "#bd3786"
             ],
             [
              0.5555555555555556,
              "#d8576b"
             ],
             [
              0.6666666666666666,
              "#ed7953"
             ],
             [
              0.7777777777777778,
              "#fb9f3a"
             ],
             [
              0.8888888888888888,
              "#fdca26"
             ],
             [
              1,
              "#f0f921"
             ]
            ],
            "type": "heatmap"
           }
          ],
          "heatmapgl": [
           {
            "colorbar": {
             "outlinewidth": 0,
             "ticks": ""
            },
            "colorscale": [
             [
              0,
              "#0d0887"
             ],
             [
              0.1111111111111111,
              "#46039f"
             ],
             [
              0.2222222222222222,
              "#7201a8"
             ],
             [
              0.3333333333333333,
              "#9c179e"
             ],
             [
              0.4444444444444444,
              "#bd3786"
             ],
             [
              0.5555555555555556,
              "#d8576b"
             ],
             [
              0.6666666666666666,
              "#ed7953"
             ],
             [
              0.7777777777777778,
              "#fb9f3a"
             ],
             [
              0.8888888888888888,
              "#fdca26"
             ],
             [
              1,
              "#f0f921"
             ]
            ],
            "type": "heatmapgl"
           }
          ],
          "histogram": [
           {
            "marker": {
             "pattern": {
              "fillmode": "overlay",
              "size": 10,
              "solidity": 0.2
             }
            },
            "type": "histogram"
           }
          ],
          "histogram2d": [
           {
            "colorbar": {
             "outlinewidth": 0,
             "ticks": ""
            },
            "colorscale": [
             [
              0,
              "#0d0887"
             ],
             [
              0.1111111111111111,
              "#46039f"
             ],
             [
              0.2222222222222222,
              "#7201a8"
             ],
             [
              0.3333333333333333,
              "#9c179e"
             ],
             [
              0.4444444444444444,
              "#bd3786"
             ],
             [
              0.5555555555555556,
              "#d8576b"
             ],
             [
              0.6666666666666666,
              "#ed7953"
             ],
             [
              0.7777777777777778,
              "#fb9f3a"
             ],
             [
              0.8888888888888888,
              "#fdca26"
             ],
             [
              1,
              "#f0f921"
             ]
            ],
            "type": "histogram2d"
           }
          ],
          "histogram2dcontour": [
           {
            "colorbar": {
             "outlinewidth": 0,
             "ticks": ""
            },
            "colorscale": [
             [
              0,
              "#0d0887"
             ],
             [
              0.1111111111111111,
              "#46039f"
             ],
             [
              0.2222222222222222,
              "#7201a8"
             ],
             [
              0.3333333333333333,
              "#9c179e"
             ],
             [
              0.4444444444444444,
              "#bd3786"
             ],
             [
              0.5555555555555556,
              "#d8576b"
             ],
             [
              0.6666666666666666,
              "#ed7953"
             ],
             [
              0.7777777777777778,
              "#fb9f3a"
             ],
             [
              0.8888888888888888,
              "#fdca26"
             ],
             [
              1,
              "#f0f921"
             ]
            ],
            "type": "histogram2dcontour"
           }
          ],
          "mesh3d": [
           {
            "colorbar": {
             "outlinewidth": 0,
             "ticks": ""
            },
            "type": "mesh3d"
           }
          ],
          "parcoords": [
           {
            "line": {
             "colorbar": {
              "outlinewidth": 0,
              "ticks": ""
             }
            },
            "type": "parcoords"
           }
          ],
          "pie": [
           {
            "automargin": true,
            "type": "pie"
           }
          ],
          "scatter": [
           {
            "fillpattern": {
             "fillmode": "overlay",
             "size": 10,
             "solidity": 0.2
            },
            "type": "scatter"
           }
          ],
          "scatter3d": [
           {
            "line": {
             "colorbar": {
              "outlinewidth": 0,
              "ticks": ""
             }
            },
            "marker": {
             "colorbar": {
              "outlinewidth": 0,
              "ticks": ""
             }
            },
            "type": "scatter3d"
           }
          ],
          "scattercarpet": [
           {
            "marker": {
             "colorbar": {
              "outlinewidth": 0,
              "ticks": ""
             }
            },
            "type": "scattercarpet"
           }
          ],
          "scattergeo": [
           {
            "marker": {
             "colorbar": {
              "outlinewidth": 0,
              "ticks": ""
             }
            },
            "type": "scattergeo"
           }
          ],
          "scattergl": [
           {
            "marker": {
             "colorbar": {
              "outlinewidth": 0,
              "ticks": ""
             }
            },
            "type": "scattergl"
           }
          ],
          "scattermapbox": [
           {
            "marker": {
             "colorbar": {
              "outlinewidth": 0,
              "ticks": ""
             }
            },
            "type": "scattermapbox"
           }
          ],
          "scatterpolar": [
           {
            "marker": {
             "colorbar": {
              "outlinewidth": 0,
              "ticks": ""
             }
            },
            "type": "scatterpolar"
           }
          ],
          "scatterpolargl": [
           {
            "marker": {
             "colorbar": {
              "outlinewidth": 0,
              "ticks": ""
             }
            },
            "type": "scatterpolargl"
           }
          ],
          "scatterternary": [
           {
            "marker": {
             "colorbar": {
              "outlinewidth": 0,
              "ticks": ""
             }
            },
            "type": "scatterternary"
           }
          ],
          "surface": [
           {
            "colorbar": {
             "outlinewidth": 0,
             "ticks": ""
            },
            "colorscale": [
             [
              0,
              "#0d0887"
             ],
             [
              0.1111111111111111,
              "#46039f"
             ],
             [
              0.2222222222222222,
              "#7201a8"
             ],
             [
              0.3333333333333333,
              "#9c179e"
             ],
             [
              0.4444444444444444,
              "#bd3786"
             ],
             [
              0.5555555555555556,
              "#d8576b"
             ],
             [
              0.6666666666666666,
              "#ed7953"
             ],
             [
              0.7777777777777778,
              "#fb9f3a"
             ],
             [
              0.8888888888888888,
              "#fdca26"
             ],
             [
              1,
              "#f0f921"
             ]
            ],
            "type": "surface"
           }
          ],
          "table": [
           {
            "cells": {
             "fill": {
              "color": "#EBF0F8"
             },
             "line": {
              "color": "white"
             }
            },
            "header": {
             "fill": {
              "color": "#C8D4E3"
             },
             "line": {
              "color": "white"
             }
            },
            "type": "table"
           }
          ]
         },
         "layout": {
          "annotationdefaults": {
           "arrowcolor": "#2a3f5f",
           "arrowhead": 0,
           "arrowwidth": 1
          },
          "autotypenumbers": "strict",
          "coloraxis": {
           "colorbar": {
            "outlinewidth": 0,
            "ticks": ""
           }
          },
          "colorscale": {
           "diverging": [
            [
             0,
             "#8e0152"
            ],
            [
             0.1,
             "#c51b7d"
            ],
            [
             0.2,
             "#de77ae"
            ],
            [
             0.3,
             "#f1b6da"
            ],
            [
             0.4,
             "#fde0ef"
            ],
            [
             0.5,
             "#f7f7f7"
            ],
            [
             0.6,
             "#e6f5d0"
            ],
            [
             0.7,
             "#b8e186"
            ],
            [
             0.8,
             "#7fbc41"
            ],
            [
             0.9,
             "#4d9221"
            ],
            [
             1,
             "#276419"
            ]
           ],
           "sequential": [
            [
             0,
             "#0d0887"
            ],
            [
             0.1111111111111111,
             "#46039f"
            ],
            [
             0.2222222222222222,
             "#7201a8"
            ],
            [
             0.3333333333333333,
             "#9c179e"
            ],
            [
             0.4444444444444444,
             "#bd3786"
            ],
            [
             0.5555555555555556,
             "#d8576b"
            ],
            [
             0.6666666666666666,
             "#ed7953"
            ],
            [
             0.7777777777777778,
             "#fb9f3a"
            ],
            [
             0.8888888888888888,
             "#fdca26"
            ],
            [
             1,
             "#f0f921"
            ]
           ],
           "sequentialminus": [
            [
             0,
             "#0d0887"
            ],
            [
             0.1111111111111111,
             "#46039f"
            ],
            [
             0.2222222222222222,
             "#7201a8"
            ],
            [
             0.3333333333333333,
             "#9c179e"
            ],
            [
             0.4444444444444444,
             "#bd3786"
            ],
            [
             0.5555555555555556,
             "#d8576b"
            ],
            [
             0.6666666666666666,
             "#ed7953"
            ],
            [
             0.7777777777777778,
             "#fb9f3a"
            ],
            [
             0.8888888888888888,
             "#fdca26"
            ],
            [
             1,
             "#f0f921"
            ]
           ]
          },
          "colorway": [
           "#636efa",
           "#EF553B",
           "#00cc96",
           "#ab63fa",
           "#FFA15A",
           "#19d3f3",
           "#FF6692",
           "#B6E880",
           "#FF97FF",
           "#FECB52"
          ],
          "font": {
           "color": "#2a3f5f"
          },
          "geo": {
           "bgcolor": "white",
           "lakecolor": "white",
           "landcolor": "#E5ECF6",
           "showlakes": true,
           "showland": true,
           "subunitcolor": "white"
          },
          "hoverlabel": {
           "align": "left"
          },
          "hovermode": "closest",
          "mapbox": {
           "style": "light"
          },
          "paper_bgcolor": "white",
          "plot_bgcolor": "#E5ECF6",
          "polar": {
           "angularaxis": {
            "gridcolor": "white",
            "linecolor": "white",
            "ticks": ""
           },
           "bgcolor": "#E5ECF6",
           "radialaxis": {
            "gridcolor": "white",
            "linecolor": "white",
            "ticks": ""
           }
          },
          "scene": {
           "xaxis": {
            "backgroundcolor": "#E5ECF6",
            "gridcolor": "white",
            "gridwidth": 2,
            "linecolor": "white",
            "showbackground": true,
            "ticks": "",
            "zerolinecolor": "white"
           },
           "yaxis": {
            "backgroundcolor": "#E5ECF6",
            "gridcolor": "white",
            "gridwidth": 2,
            "linecolor": "white",
            "showbackground": true,
            "ticks": "",
            "zerolinecolor": "white"
           },
           "zaxis": {
            "backgroundcolor": "#E5ECF6",
            "gridcolor": "white",
            "gridwidth": 2,
            "linecolor": "white",
            "showbackground": true,
            "ticks": "",
            "zerolinecolor": "white"
           }
          },
          "shapedefaults": {
           "line": {
            "color": "#2a3f5f"
           }
          },
          "ternary": {
           "aaxis": {
            "gridcolor": "white",
            "linecolor": "white",
            "ticks": ""
           },
           "baxis": {
            "gridcolor": "white",
            "linecolor": "white",
            "ticks": ""
           },
           "bgcolor": "#E5ECF6",
           "caxis": {
            "gridcolor": "white",
            "linecolor": "white",
            "ticks": ""
           }
          },
          "title": {
           "x": 0.05
          },
          "xaxis": {
           "automargin": true,
           "gridcolor": "white",
           "linecolor": "white",
           "ticks": "",
           "title": {
            "standoff": 15
           },
           "zerolinecolor": "white",
           "zerolinewidth": 2
          },
          "yaxis": {
           "automargin": true,
           "gridcolor": "white",
           "linecolor": "white",
           "ticks": "",
           "title": {
            "standoff": 15
           },
           "zerolinecolor": "white",
           "zerolinewidth": 2
          }
         }
        },
        "xaxis": {
         "anchor": "y",
         "domain": [
          0,
          1
         ],
         "title": {
          "text": "x"
         }
        },
        "yaxis": {
         "anchor": "x",
         "domain": [
          0,
          1
         ],
         "title": {
          "text": "y"
         }
        }
       }
      },
      "text/html": [
       "<div>                            <div id=\"49c0381a-ccde-45a3-abcb-a8a845f3a3e9\" class=\"plotly-graph-div\" style=\"height:525px; width:100%;\"></div>            <script type=\"text/javascript\">                require([\"plotly\"], function(Plotly) {                    window.PLOTLYENV=window.PLOTLYENV || {};                                    if (document.getElementById(\"49c0381a-ccde-45a3-abcb-a8a845f3a3e9\")) {                    Plotly.newPlot(                        \"49c0381a-ccde-45a3-abcb-a8a845f3a3e9\",                        [{\"hovertemplate\":\"Label=angry\\u003cbr\\u003ex=%{x}\\u003cbr\\u003ey=%{y}\\u003cextra\\u003e\\u003c\\u002fextra\\u003e\",\"legendgroup\":\"angry\",\"marker\":{\"color\":\"#636efa\",\"symbol\":\"circle\"},\"mode\":\"markers\",\"name\":\"angry\",\"showlegend\":true,\"x\":[-11.589566230773926,-13.002869606018066,-13.130786895751953,-14.69848918914795,-14.788119316101074,-14.982471466064453,-47.60683059692383,-17.0801944732666,-47.50059509277344,-18.361679077148438,-17.812135696411133,30.574445724487305,-28.14351463317871,23.789098739624023,-28.42656898498535,-28.782705307006836,30.511638641357422,-28.333267211914062,-28.67696189880371,-28.739360809326172,29.91433334350586,30.08666229248047,29.966901779174805,29.7979736328125,29.557178497314453,-28.77389907836914,29.39768409729004,23.70720672607422,29.46142578125,-29.593843460083008,-29.59651756286621,-34.542301177978516,-34.686798095703125,-34.44524383544922,-34.99129104614258,-34.56494903564453,20.53558349609375,-5.794020175933838,-6.628089427947998,-34.63528823852539,-35.424278259277344,-33.4810791015625,-33.125362396240234,-35.414283752441406,-35.14191436767578,-34.31852722167969,-33.87074279785156,-33.787845611572266,-34.26769256591797,-34.2203483581543,-34.381370544433594,-33.257625579833984,-33.54850769042969,-33.23579025268555,-32.916202545166016,-32.83731460571289,-33.28887939453125,-34.98313903808594,-35.182369232177734,-33.819461822509766,-33.498355865478516,26.76082992553711,26.42534637451172,-22.61293601989746,26.605985641479492,26.627309799194336,26.536909103393555,26.112770080566406,26.09601593017578,17.562999725341797,18.39984703063965,9.71889877319336,6.191951274871826,6.156253814697266,11.5831937789917,31.945085525512695,9.366830825805664,11.139606475830078,10.640670776367188,10.724359512329102,9.623649597167969,30.912073135375977,30.193538665771484,30.174901962280273,-10.580841064453125,-13.95435905456543,-13.963871955871582,31.778444290161133,-15.942008018493652,-22.90238380432129,-23.600833892822266,31.408931732177734,-20.255348205566406,-48.48147964477539,-20.561193466186523,-18.265771865844727,-13.85964584350586,-15.099701881408691,-13.841291427612305,-16.769514083862305,-15.20838737487793,-14.821958541870117,-20.87637710571289,-15.239594459533691,-14.098482131958008,-18.828813552856445,-18.855188369750977,-18.995746612548828,29.478778839111328,9.325185775756836,31.789886474609375,30.890239715576172,23.026945114135742,-23.334367752075195,29.629060745239258,-47.36053466796875,-11.330392837524414,-9.826886177062988,-14.346905708312988,-13.254758834838867,-12.658904075622559,-13.1933012008667,-12.904547691345215,-10.014391899108887,-10.159485816955566,-13.524264335632324,31.539438247680664,-5.509817600250244,-4.816368103027344,-17.009170532226562,-15.71667194366455,-21.96344566345215,-15.744993209838867,-16.993192672729492,-22.65450668334961,-22.31324005126953,-21.945375442504883,-22.355350494384766,-22.26815414428711,-22.409221649169922,23.621543884277344,-22.6558780670166,-22.48967933654785,-21.893146514892578,-21.82032585144043,23.91629409790039,13.132226943969727,-21.913171768188477,13.129287719726562,23.900327682495117,23.45232582092285,23.947425842285156,23.18147850036621,23.0815372467041,-21.433252334594727,23.357406616210938],\"xaxis\":\"x\",\"y\":[10.052287101745605,-42.684322357177734,5.0491437911987305,-42.294349670410156,-42.92301559448242,5.20681095123291,-16.49871253967285,-43.63247299194336,-16.594511032104492,-37.5495491027832,-38.2496223449707,-18.022579193115234,4.8890581130981445,31.664981842041016,5.546316623687744,5.759174346923828,-18.258914947509766,4.32315731048584,5.0785298347473145,4.446018218994141,-18.290029525756836,-18.535480499267578,-18.797725677490234,-18.311203002929688,-18.618850708007812,5.080982208251953,-18.203691482543945,31.558170318603516,-17.771446228027344,4.430814743041992,4.2866010665893555,25.610000610351562,22.182085037231445,25.9798641204834,25.67269515991211,26.230098724365234,-14.693599700927734,-45.5304069519043,-45.703155517578125,20.141307830810547,25.12728500366211,24.478431701660156,24.605676651000977,23.914003372192383,23.62954330444336,20.93054962158203,19.44356918334961,19.73937225341797,21.322816848754883,21.67272186279297,24.436687469482422,24.957868576049805,20.907270431518555,19.791715621948242,20.893863677978516,20.936878204345703,21.037006378173828,23.564847946166992,24.277345657348633,19.96316909790039,19.179216384887695,-27.153947830200195,-26.890764236450195,14.952442169189453,-26.872865676879883,-27.454256057739258,-27.821508407592773,-26.838003158569336,-27.2856502532959,31.957651138305664,32.55226516723633,36.08491134643555,36.015499114990234,36.47171401977539,34.81993865966797,-20.75191879272461,36.41407012939453,34.82199478149414,35.071876525878906,34.98208999633789,36.199462890625,-4.1676483154296875,-5.190598964691162,-5.1998748779296875,-4.599956035614014,-2.454054355621338,-2.452127695083618,-20.05159568786621,-37.12697982788086,10.111238479614258,4.124870777130127,-18.116968154907227,11.635973930358887,-15.47017765045166,8.823884963989258,9.11428165435791,-34.29484558105469,-36.27587127685547,-34.323219299316406,-35.69324493408203,-35.2652473449707,-35.079315185546875,5.236969470977783,-32.56878662109375,-33.84027099609375,-35.15483856201172,-34.79806137084961,-35.68116760253906,-9.282567024230957,20.624181747436523,-9.040214538574219,-8.994440078735352,25.70540428161621,8.897187232971191,-8.684978485107422,-13.11082935333252,5.441238880157471,-39.94397735595703,5.034454822540283,-41.771358489990234,-41.5977668762207,-41.851226806640625,-41.63619613647461,-40.99965286254883,-41.053382873535156,6.4632439613342285,-3.5927820205688477,-1.5042097568511963,0.12429257482290268,7.389007568359375,-48.95245361328125,-38.9985466003418,-42.233402252197266,-50.25286865234375,-39.68337631225586,-39.181785583496094,21.23564338684082,20.57314109802246,21.38978385925293,21.174985885620117,-27.94884490966797,20.94713020324707,20.589820861816406,20.55735206604004,21.06800651550293,-28.727731704711914,29.583227157592773,20.462459564208984,29.568166732788086,-28.53838539123535,-28.550119400024414,-28.39826774597168,-28.45108985900879,-28.069612503051758,20.913724899291992,-28.02137565612793],\"yaxis\":\"y\",\"type\":\"scattergl\"},{\"hovertemplate\":\"Label=disgusted\\u003cbr\\u003ex=%{x}\\u003cbr\\u003ey=%{y}\\u003cextra\\u003e\\u003c\\u002fextra\\u003e\",\"legendgroup\":\"disgusted\",\"marker\":{\"color\":\"#EF553B\",\"symbol\":\"circle\"},\"mode\":\"markers\",\"name\":\"disgusted\",\"showlegend\":true,\"x\":[-12.150784492492676,-14.615267753601074,-13.228287696838379,-12.612995147705078,-15.302919387817383,-15.365592956542969,-15.53695297241211,-14.72703742980957,-13.250351905822754,-21.161367416381836,-20.663515090942383,31.721179962158203,-20.976417541503906,30.392553329467773,-19.986682891845703,-21.09343910217285,-19.976165771484375,31.575786590576172,-19.936344146728516,-21.0736083984375,20.91851043701172,30.676673889160156,-21.522693634033203,30.787738800048828,31.00347900390625,20.76534080505371,22.2021484375,22.655492782592773,22.565937042236328,-0.16981825232505798,-0.08464580774307251,0.5538502931594849,0.980771005153656,0.31044864654541016,0.8634471893310547,0.1456054151058197,1.0230450630187988,28.307710647583008,25.103981018066406,-27.67673110961914,-1.2242889404296875,-1.0485695600509644,-0.9610872864723206,-0.6800767183303833,-0.940128743648529,-0.9434422850608826,-28.136737823486328,-1.3139164447784424,-1.202232837677002,-27.416654586791992,-28.27606773376465,-1.5094236135482788,-1.4121675491333008,-0.018481386825442314,-0.39973151683807373,-0.6294180750846863,-1.0801008939743042,-0.6754551529884338,-27.768896102905273,19.849599838256836,19.100149154663086,18.954998016357422,18.107702255249023,18.107820510864258,15.723199844360352,15.412166595458984,15.300956726074219,15.742768287658691,12.697495460510254,9.174127578735352,9.207873344421387,10.79351806640625,9.593031883239746,10.854482650756836,10.081954956054688,10.724242210388184,9.993278503417969,8.978137016296387,28.398502349853516,31.054988861083984,29.577045440673828,34.32539749145508,31.096050262451172,29.37457847595215,32.34824752807617,34.201324462890625,29.77696990966797,28.59971809387207,29.070165634155273,29.905370712280273,32.06467056274414,32.206016540527344,29.357421875,32.940853118896484,30.02541732788086,33.06312942504883,31.683528900146484,31.86570167541504,32.38430404663086,33.505455017089844,34.40387725830078,31.475360870361328,31.25655174255371,30.170860290527344,30.224763870239258,36.286582946777344,33.44416427612305,13.189299583435059,-23.248228073120117,26.936691284179688,25.702434539794922,-30.408016204833984,20.93280029296875,22.136228561401367,-10.922184944152832,-13.65363597869873,-47.77656555175781,-21.118946075439453,-12.45233154296875,-48.42477035522461,-19.675003051757812,-18.203664779663086,-11.49780559539795,-18.270784378051758,28.973487854003906,-14.229107856750488,-14.220693588256836,-12.110706329345703,-12.276123046875,-47.752220153808594,25.80724334716797,-47.31234359741211,27.656522750854492,27.01026725769043,-11.185358047485352,-46.952632904052734,29.838729858398438,22.712488174438477,-11.49930477142334,-4.658528804779053,-6.433359146118164,-4.15178918838501,-3.417048931121826,-6.837868690490723,-6.933909893035889,35.77082061767578,35.66815185546875,-2.217142343521118,13.515106201171875,16.631729125976562,14.728581428527832,12.818917274475098,14.953765869140625,14.957725524902344,14.929783821105957,14.929403305053711,14.867642402648926,15.655561447143555,15.232504844665527,14.916714668273926,16.39853286743164,16.398468017578125,14.370999336242676,15.150313377380371,14.139368057250977,14.139506340026855,14.14548397064209,14.279293060302734],\"xaxis\":\"x\",\"y\":[-42.51485061645508,8.732240676879883,7.177563667297363,-45.58145523071289,-44.755531311035156,3.3901214599609375,-43.61192321777344,-41.8396110534668,-39.80298614501953,-0.0314103364944458,-0.6815629601478577,-13.103586196899414,-0.5778120756149292,-13.921976089477539,-1.0107877254486084,0.9683310985565186,-1.6064385175704956,-13.184921264648438,-1.5878313779830933,-1.2767974138259888,27.792999267578125,-13.62633991241455,-0.9463562965393066,-13.376336097717285,-14.329843521118164,27.723066329956055,27.923595428466797,28.688251495361328,28.520910263061523,-44.870887756347656,-44.84665298461914,-42.518619537353516,-42.14170455932617,-44.25579071044922,-43.50727081298828,-43.27679443359375,-44.78725814819336,-17.98318862915039,30.647443771362305,25.09090805053711,-42.12448501586914,-42.291683197021484,-44.18932342529297,-42.81843566894531,-42.92850875854492,-44.07399368286133,25.048425674438477,-43.92335510253906,-43.853126525878906,25.035755157470703,25.351346969604492,-42.044986724853516,-41.606937408447266,-42.53126525878906,-41.85197830200195,-41.782588958740234,-41.33655548095703,-41.49882125854492,25.196388244628906,34.89406967163086,34.08617401123047,34.032630920410156,33.68665313720703,33.63999557495117,39.90670394897461,39.0525016784668,39.18696212768555,39.97587585449219,42.18036651611328,38.56089782714844,38.549129486083984,38.551658630371094,38.107810974121094,38.53636932373047,38.67276382446289,38.446197509765625,38.25916290283203,37.80424118041992,26.965620040893555,25.326602935791016,27.402233123779297,26.153337478637695,27.747177124023438,27.778764724731445,26.409988403320312,26.39932632446289,28.944229125976562,29.225250244140625,28.810274124145508,28.33675193786621,27.53350067138672,26.515121459960938,26.794017791748047,25.909151077270508,27.050121307373047,25.616514205932617,25.015024185180664,25.617673873901367,26.50628089904785,26.012510299682617,25.357778549194336,26.317523956298828,25.510608673095703,27.516998291015625,27.36159324645996,-5.975545883178711,25.444316864013672,36.63210678100586,7.338202953338623,-15.859129905700684,35.5933952331543,9.194805145263672,29.537553787231445,36.79914474487305,-34.73793411254883,-35.786216735839844,-15.362040519714355,9.445621490478516,7.591495037078857,-13.473570823669434,3.4571049213409424,0.46074342727661133,-35.47645950317383,-35.63619613647461,-9.442742347717285,2.3552260398864746,2.2704856395721436,-38.71558380126953,5.2726922035217285,-12.722358703613281,29.566438674926758,-13.698431968688965,-9.918429374694824,30.205520629882812,4.763210773468018,-13.072929382324219,-8.727792739868164,25.974647521972656,4.7299723625183105,-1.6121066808700562,-0.90986168384552,-0.8419774770736694,-1.160409688949585,-1.9607393741607666,-1.9561480283737183,-6.629618167877197,-6.722318649291992,0.6855014562606812,43.74522399902344,44.51000213623047,43.96361541748047,43.91440963745117,43.085914611816406,43.77016830444336,42.80978012084961,45.470115661621094,45.25739288330078,45.50303649902344,44.2663459777832,44.825077056884766,43.83439636230469,43.83434295654297,44.60954284667969,44.7299690246582,44.28262710571289,44.281639099121094,44.950904846191406,45.32773971557617],\"yaxis\":\"y\",\"type\":\"scattergl\"},{\"hovertemplate\":\"Label=happy\\u003cbr\\u003ex=%{x}\\u003cbr\\u003ey=%{y}\\u003cextra\\u003e\\u003c\\u002fextra\\u003e\",\"legendgroup\":\"happy\",\"marker\":{\"color\":\"#00cc96\",\"symbol\":\"circle\"},\"mode\":\"markers\",\"name\":\"happy\",\"showlegend\":true,\"x\":[28.425783157348633,-13.313788414001465,1.5201994180679321,28.813053131103516,19.389270782470703,19.448291778564453,4.726016521453857,12.756406784057617,-14.288220405578613,-14.466699600219727,7.901010990142822,16.386394500732422,21.33967399597168,21.321144104003906,25.362396240234375,7.074981212615967,7.840775966644287,-17.87293243408203,-13.481746673583984,-11.594884872436523,-14.149998664855957,25.197967529296875,25.66286277770996,-11.237177848815918,-10.75643253326416,-11.305827140808105,-12.143783569335938,-11.295653343200684,-10.091569900512695,-8.49351978302002,-12.037439346313477,-27.025625228881836,-8.592630386352539,-8.944499015808105,-24.668298721313477,-8.535752296447754,-9.281827926635742,-24.706174850463867,-26.73906135559082,-9.363860130310059,-8.325094223022461,-8.679786682128906,-24.615266799926758,-8.33928108215332,22.645366668701172,31.413110733032227,-26.607803344726562,31.23365020751953,-26.665943145751953,-26.862014770507812,-46.06903076171875,31.356962203979492,31.447938919067383,-4.072701930999756,-31.220109939575195,-31.162206649780273,-4.210116386413574,-31.186025619506836,-3.9966046810150146,-3.9858169555664062,-3.772097587585449,-3.975381851196289,-29.367197036743164,23.92411994934082,20.903810501098633,21.63844108581543,23.357568740844727,21.57221031188965,23.2232723236084,18.518112182617188,22.542171478271484,22.719202041625977,23.202110290527344,23.366769790649414,-28.19641876220703,-28.12653160095215,-28.131134033203125,22.351240158081055,20.93011474609375,22.606000900268555,22.810230255126953,23.315834045410156,-28.29387092590332,15.00167465209961,28.61314582824707,14.561388969421387,27.85053825378418,27.8898983001709,14.988716125488281,14.295199394226074,14.84543228149414,28.01601219177246,14.24021053314209,15.042655944824219,16.220815658569336,14.805119514465332,27.50963592529297,15.780000686645508,27.3441162109375,27.58017349243164,27.521461486816406,12.517509460449219,29.226455688476562,15.273666381835938,13.447272300720215,8.526656150817871,14.431657791137695,5.116739273071289,8.471348762512207,13.55064582824707,6.051462173461914,14.313207626342773,4.395908832550049,10.484795570373535,4.008786678314209,6.604536056518555,10.886746406555176,11.679563522338867,9.552526473999023,8.23974609375,12.668802261352539,5.264021396636963,10.901163101196289,12.425944328308105,12.279410362243652,3.8517768383026123,3.848257303237915,14.163933753967285,8.638087272644043,11.124500274658203,9.357394218444824,11.597867965698242,12.07636833190918,15.980744361877441,4.7950439453125,3.7947041988372803,4.708254337310791,10.049384117126465,12.337121963500977,4.278657913208008,13.198413848876953,6.056268692016602,12.889638900756836,5.997931480407715,32.746490478515625,-6.4677276611328125,33.96650695800781,33.05693054199219,-4.529894828796387,-5.418104648590088,-4.786283493041992,-3.277825117111206,-5.245793342590332,-4.952223777770996,-6.553624153137207,-3.7488725185394287,-5.973597526550293,-5.83193826675415,-4.260793209075928,-3.732548713684082,-6.502765655517578,-5.235199928283691,-4.745800018310547,-6.217904090881348,33.52994918823242,-2.963385820388794,33.529212951660156,-5.575754165649414,-5.530101776123047,27.31386947631836,33.26958465576172,33.1591911315918,-16.257539749145508,-16.83282470703125,-17.149024963378906,-16.30642318725586,-16.171213150024414,-16.507511138916016,-46.596927642822266,-10.523405075073242,-12.886536598205566,-10.721712112426758,30.38081169128418,-10.404443740844727,-11.122489929199219,-11.670352935791016,-10.912002563476562,-17.274002075195312,-9.601649284362793,29.495389938354492,-15.414030075073242,-22.55397605895996,-11.537873268127441,-11.835566520690918,30.092609405517578,-48.32809066772461,-13.09481430053711,24.47496223449707,24.271713256835938,29.98027801513672,-11.898491859436035,30.187374114990234,-16.28767204284668,22.600866317749023,14.29633903503418,20.56808853149414,-19.898805618286133,-47.14714431762695,-47.75745391845703,-15.758075714111328,-3.9008636474609375,-14.915030479431152,-3.5840611457824707,-4.628929615020752,-3.6169912815093994,-14.095924377441406,-3.1553821563720703,-5.030322551727295,-3.3574934005737305,-2.892970085144043,21.287277221679688,24.18216896057129,32.44623947143555,29.746946334838867,28.798601150512695,30.186569213867188,16.909379959106445,30.078765869140625,31.851383209228516,29.413061141967773,31.283294677734375,29.865955352783203,31.3614501953125,29.275876998901367,30.10402488708496,30.412382125854492,31.004013061523438,17.31671714782715,17.12919807434082,17.477941513061523,17.435277938842773,16.873987197875977],\"xaxis\":\"x\",\"y\":[-13.121201515197754,13.112985610961914,33.420597076416016,-13.217982292175293,39.877742767333984,39.80945587158203,36.71522521972656,28.994991302490234,12.972586631774902,12.93319034576416,42.849327087402344,28.623369216918945,34.253562927246094,34.27565002441406,31.909582138061523,42.506656646728516,42.83452606201172,5.325394153594971,-29.906414031982422,9.794452667236328,-40.43901824951172,28.22946548461914,29.00473976135254,-42.72381591796875,7.441220283508301,-42.61912536621094,9.207670211791992,7.588161468505859,9.367791175842285,8.12813949584961,-43.5291633605957,-0.7294327616691589,-30.627073287963867,-30.293115615844727,3.2833218574523926,-30.05940818786621,-30.05417823791504,3.2553703784942627,-0.5148715376853943,-30.383039474487305,-30.100473403930664,-30.122392654418945,3.3545260429382324,-30.660396575927734,32.583438873291016,-15.593667984008789,1.809503197669983,-15.453147888183594,1.9176263809204102,2.218923568725586,-13.897897720336914,-15.704413414001465,-15.719160079956055,-46.06156539916992,28.270103454589844,28.28367042541504,-46.029457092285156,28.265047073364258,-48.864967346191406,-48.8756217956543,-48.18661880493164,-48.8720588684082,28.12285804748535,-12.82447338104248,-11.719558715820312,-11.938029289245605,-12.155487060546875,-11.995357513427734,-12.90056037902832,29.25356674194336,-12.589962005615234,-12.67090892791748,-12.935070991516113,-12.410664558410645,27.643505096435547,27.634191513061523,27.646913528442383,-13.232858657836914,-11.68560791015625,-13.079476356506348,-12.003087997436523,-13.25526237487793,27.649215698242188,32.74973678588867,-27.341249465942383,32.80021286010742,-27.737918853759766,-27.68568992614746,33.11543655395508,32.53911209106445,33.226863861083984,-27.806915283203125,32.32543182373047,32.10078811645508,33.591712951660156,31.98785400390625,-24.018798828125,33.19690704345703,-24.171850204467773,-24.216264724731445,-23.918176651000977,30.914695739746094,-27.204193115234375,32.658409118652344,19.329137802124023,36.46860885620117,20.034460067749023,39.68361282348633,36.492698669433594,19.29155731201172,36.796321868896484,19.735855102539062,35.13825225830078,18.735929489135742,35.10392761230469,40.25463104248047,25.715635299682617,18.39264678955078,39.92365646362305,39.21482467651367,17.795063018798828,39.7197265625,25.780961990356445,17.98804473876953,41.40428161621094,35.293556213378906,35.23035430908203,18.015687942504883,16.89943504333496,36.09429931640625,17.316246032714844,35.8868293762207,35.74687194824219,22.504871368408203,30.855581283569336,39.13089370727539,30.790109634399414,18.463985443115234,35.46786880493164,39.30887222290039,16.40151023864746,31.170427322387695,16.2633113861084,31.16473388671875,-5.801938533782959,4.850190162658691,-5.980323791503906,-5.614361763000488,5.738770484924316,5.414131164550781,5.710781097412109,4.447605133056641,4.506314754486084,4.810041427612305,4.093814849853516,5.51234769821167,5.210168838500977,3.8210558891296387,4.190502643585205,4.483942985534668,5.548155784606934,3.4556899070739746,3.635763645172119,5.881575107574463,-6.3269362449646,5.374619007110596,-6.556851387023926,3.6644229888916016,6.434754848480225,28.963817596435547,-7.071815013885498,-5.55668306350708,-33.3120002746582,-33.68146514892578,-33.35013961791992,-32.21973419189453,-32.26422882080078,-33.66394805908203,-16.687864303588867,-39.680423736572266,9.078728675842285,-39.567928314208984,-8.8513765335083,6.459807395935059,-40.50593185424805,6.1771745681762695,-43.18242263793945,-43.78221893310547,6.27608060836792,-10.582502365112305,-39.159950256347656,-44.25529861450195,-43.95861053466797,-43.91158676147461,-10.408735275268555,-13.866996765136719,-44.102542877197266,29.041467666625977,29.090015411376953,-10.4722900390625,3.420667886734009,-11.703609466552734,-37.32710647583008,30.714969635009766,37.065582275390625,29.57041358947754,11.729267120361328,-15.158490180969238,-15.298430442810059,-35.035274505615234,1.2028371095657349,-51.5002555847168,1.01865816116333,2.3857059478759766,2.3981480598449707,-52.18479537963867,1.070678472518921,1.121331810951233,2.2616186141967773,2.40510630607605,23.3565673828125,33.68932342529297,-29.782615661621094,-30.8245906829834,-30.83424186706543,-30.43485450744629,36.250282287597656,-30.858339309692383,-29.80528450012207,-30.40660858154297,-30.024564743041992,-30.215919494628906,-29.852956771850586,-30.299636840820312,-31.18575096130371,-30.554418563842773,-30.53997039794922,36.19961929321289,35.9575309753418,36.42422866821289,36.286590576171875,36.01835250854492],\"yaxis\":\"y\",\"type\":\"scattergl\"},{\"hovertemplate\":\"Label=neutral\\u003cbr\\u003ex=%{x}\\u003cbr\\u003ey=%{y}\\u003cextra\\u003e\\u003c\\u002fextra\\u003e\",\"legendgroup\":\"neutral\",\"marker\":{\"color\":\"#ab63fa\",\"symbol\":\"circle\"},\"mode\":\"markers\",\"name\":\"neutral\",\"showlegend\":true,\"x\":[-9.777463912963867,-23.13997459411621,22.474388122558594,4.146822929382324,22.78053092956543,9.28318977355957,19.358850479125977,-14.685415267944336,-8.12308406829834,7.422153472900391,21.323144912719727,-13.462472915649414,-9.823920249938965,-11.81737995147705,-11.6873197555542,-11.909356117248535,-14.883554458618164,-12.004176139831543,-10.655475616455078,-22.51402473449707,-17.30937385559082,-16.79705047607422,-28.539756774902344,-28.70491600036621,-28.53780746459961,-28.35028648376465,-27.96514892578125,-27.86760139465332,-27.819442749023438,-27.86377716064453,-28.14042854309082,-28.816028594970703,-28.117271423339844,-27.696733474731445,-28.91586685180664,-27.884822845458984,-28.139373779296875,-7.866335391998291,-28.05659294128418,-7.93011999130249,-7.932805061340332,-7.934854507446289,-6.30460786819458,-36.71537780761719,-5.703662872314453,-35.75876998901367,-34.576942443847656,-35.79483413696289,-6.836090564727783,-5.717543125152588,-36.52946472167969,-6.382411956787109,-35.35871505737305,21.12193489074707,22.188358306884766,19.601158142089844,18.549606323242188,20.97113800048828,19.90069007873535,20.598154067993164,19.848918914794922,21.426008224487305,22.848535537719727,22.4279727935791,22.180599212646484,21.71519660949707,-35.48179244995117,19.474166870117188,20.623903274536133,18.567018508911133,19.48579216003418,21.494905471801758,26.824909210205078,27.760801315307617,28.483591079711914,-22.63066864013672,29.296283721923828,26.77058982849121,27.623376846313477,26.86323356628418,-22.64046287536621,15.296341896057129,11.407430648803711,8.720705032348633,8.332507133483887,8.291619300842285,9.113868713378906,8.278820991516113,9.746031761169434,16.119915008544922,13.603658676147461,8.39798641204834,9.422199249267578,8.751579284667969,8.985695838928223,8.86490249633789,13.77408218383789,-8.81316089630127,29.95607566833496,-8.943136215209961,29.27747917175293,-8.749039649963379,25.236974716186523,24.982452392578125,33.41477584838867,32.16044235229492,25.64909553527832,25.15500259399414,-12.614376068115234,-13.510124206542969,-13.637557029724121,26.301427841186523,26.135478973388672,-14.43554401397705,29.712263107299805,-10.104743957519531,28.012266159057617,28.199495315551758,-11.36403751373291,29.017650604248047,27.91795539855957,-12.958198547363281,27.416391372680664,16.465194702148438,-23.53591537475586,22.572690963745117,-20.009607315063477,-23.288719177246094,6.515130519866943,-19.013166427612305,36.59719467163086,7.912891864776611,-48.32605743408203,-20.48046112060547,-18.53706932067871,-22.514102935791016,-18.923229217529297,-19.634963989257812,-7.094592094421387,-7.134340286254883,-18.85888671875,33.44480895996094,-13.784745216369629,-14.314302444458008,-8.656768798828125,-19.215965270996094,-17.608501434326172,-18.14197540283203,-14.46052360534668,-14.66452693939209,-14.712264060974121,-15.196700096130371,-7.997138500213623,-8.025312423706055,-7.972352027893066,-21.910329818725586,-8.001079559326172,-13.668008804321289,-22.701929092407227,11.122514724731445,23.31517219543457,-24.839590072631836,-22.408187866210938,-24.889368057250977,-22.40984344482422],\"xaxis\":\"x\",\"y\":[-44.10829544067383,6.688612937927246,33.537052154541016,30.37384796142578,33.75732421875,21.407194137573242,39.87751388549805,12.8742094039917,-47.0608024597168,42.716182708740234,34.14651107788086,-29.95921516418457,-42.45291519165039,3.5149688720703125,-45.56101608276367,-46.10935974121094,-45.01798629760742,-46.158939361572266,-44.882362365722656,-44.37041091918945,-41.12865447998047,-40.7851448059082,1.9993284940719604,-0.5632716417312622,-0.7174632549285889,-0.17722421884536743,2.097607135772705,-0.09394092112779617,2.2365896701812744,-0.690325915813446,-0.8820888996124268,0.19296909868717194,1.6659908294677734,1.5819940567016602,-0.08861137926578522,1.83232581615448,2.330573797225952,-31.855518341064453,-0.3320994973182678,-31.89277458190918,-31.856691360473633,-31.785837173461914,-45.15254592895508,24.380386352539062,-45.52240753173828,26.257122039794922,18.83343505859375,20.722763061523438,-45.19572448730469,-45.52809143066406,24.893014907836914,-46.1820182800293,21.492727279663086,-16.06363868713379,-15.355053901672363,-16.833444595336914,29.462257385253906,-15.111621856689453,-15.454732894897461,-16.836278915405273,-16.24858856201172,-16.147785186767578,-15.283957481384277,-15.10496997833252,-14.906990051269531,-14.836600303649902,21.404359817504883,-16.4191837310791,-17.173702239990234,29.523311614990234,-16.05403709411621,-15.760517120361328,-25.479061126708984,-26.151782989501953,-26.432540893554688,14.804149627685547,-26.47957420349121,-25.368633270263672,-26.23246192932129,-24.78331184387207,14.805774688720703,31.58254623413086,18.33576202392578,16.246232986450195,33.78676986694336,16.146474838256836,32.201072692871094,16.91912841796875,31.921798706054688,22.544363021850586,16.922914505004883,33.80419158935547,16.08376693725586,16.668807983398438,32.15271759033203,16.252416610717773,16.97145652770996,-3.880866050720215,-3.77901029586792,-4.526308536529541,-2.604825019836426,-4.457552909851074,24.92745018005371,24.842756271362305,-4.033578872680664,-1.7788195610046387,24.358604431152344,24.96101188659668,-4.575386047363281,-4.45247220993042,-4.807302474975586,-4.294167518615723,-4.388327121734619,-3.9970996379852295,-3.798668384552002,-3.7510392665863037,-3.5454440116882324,-2.4870612621307373,-4.815177917480469,-2.4317922592163086,-2.7848005294799805,-4.770411968231201,-3.4971871376037598,29.54802131652832,7.755856513977051,30.76727867126465,7.381106853485107,-3.2225828170776367,24.949779510498047,-37.68644714355469,-19.44932746887207,37.76251220703125,-15.5095796585083,8.645362854003906,-33.957679748535156,-37.062679290771484,-34.22596740722656,6.027036666870117,-33.461097717285156,-33.50053405761719,5.097700595855713,-12.07194709777832,-32.87451171875,-33.11674118041992,-41.13217544555664,-40.182960510253906,-41.53902053833008,-41.27120590209961,6.2844109535217285,-47.77589797973633,-47.79512023925781,-48.074668884277344,-35.52912139892578,-35.51023864746094,-35.54158020019531,4.913876056671143,-35.530357360839844,-49.15861129760742,-39.617984771728516,39.97622299194336,25.593154907226562,12.988640785217285,18.711585998535156,12.938310623168945,18.718069076538086],\"yaxis\":\"y\",\"type\":\"scattergl\"},{\"hovertemplate\":\"Label=sad\\u003cbr\\u003ex=%{x}\\u003cbr\\u003ey=%{y}\\u003cextra\\u003e\\u003c\\u002fextra\\u003e\",\"legendgroup\":\"sad\",\"marker\":{\"color\":\"#FFA15A\",\"symbol\":\"circle\"},\"mode\":\"markers\",\"name\":\"sad\",\"showlegend\":true,\"x\":[20.011241912841797,13.434762001037598,-13.532206535339355,-12.438211441040039,-12.078845977783203,-13.399847984313965,9.347443580627441,-13.479092597961426,-15.419599533081055,-22.53326988220215,-21.807167053222656,-21.85736083984375,-21.845563888549805,-11.11780071258545,-10.93746280670166,-11.05036735534668,-22.192846298217773,-21.951946258544922,-23.404756546020508,-23.503480911254883,-23.475542068481445,-22.70778465270996,-9.80410099029541,-22.715845108032227,-22.766239166259766,-11.261439323425293,-22.469202041625977,-22.572406768798828,-22.506250381469727,-33.24161148071289,-33.241539001464844,-3.3953609466552734,-3.3481602668762207,-3.4285497665405273,-33.581687927246094,-33.388214111328125,-33.581642150878906,-33.564388275146484,-3.546729803085327,-33.564979553222656,-33.6963996887207,-33.81476593017578,-33.6963996887207,-32.851966857910156,-33.91374969482422,-32.851966857910156,-32.008419036865234,-32.70370101928711,-32.00868606567383,-35.53483200073242,-33.01293182373047,-35.53483200073242,-34.81886291503906,-34.818782806396484,-34.818763732910156,-33.57698440551758,-3.609264612197876,-31.991220474243164,-31.991357803344727,30.92835807800293,31.109148025512695,31.1788272857666,-24.188880920410156,15.752983093261719,-24.15619659423828,30.369918823242188,31.78594398498535,30.456689834594727,16.625633239746094,10.687655448913574,10.467873573303223,8.512965202331543,14.892807006835938,8.322381973266602,14.937694549560547,7.590542793273926,7.093841552734375,14.905463218688965,8.094608306884766,7.124248027801514,14.962956428527832,8.277912139892578,7.174509048461914,10.966043472290039,7.70868444442749,10.876834869384766,7.471346378326416,11.264839172363281,7.249523639678955,-22.03356170654297,-5.214614391326904,-4.198783874511719,-4.071531772613525,-5.957672119140625,-6.106923580169678,-6.178018569946289,36.41819763183594,35.75752639770508,28.936946868896484,34.707984924316406,34.987117767333984,35.203800201416016,34.834468841552734,36.32089614868164,-5.070648670196533,-4.269810676574707,-4.802700996398926,29.438814163208008,-5.281254291534424,36.89885711669922,-5.067633152008057,33.59185028076172,33.945068359375,34.022361755371094,-5.593875408172607,-19.980892181396484,-20.8103084564209,-20.7458553314209,-20.852130889892578,-19.269622802734375,-19.026287078857422,32.732391357421875,-18.641376495361328,-22.737903594970703,32.57728958129883,20.301860809326172,32.74530792236328,33.07317352294922,-12.679434776306152,30.95856475830078,-22.52751922607422,-12.409124374389648,-11.752726554870605,-12.013036727905273,-13.384292602539062,-14.04144287109375,-11.963791847229004,-11.910327911376953,31.00737953186035,-14.154576301574707,30.95408821105957,-14.090749740600586,-47.76624298095703,-13.663804054260254,-10.658348083496094,-10.687044143676758,-12.572102546691895,-47.97576904296875,31.75944709777832,-16.554561614990234,-16.87042808532715,-23.268896102905273,22.13840675354004,-20.26418685913086,-48.38672637939453,-20.88050079345703,-16.22975730895996,-16.26873016357422,-14.967912673950195,-16.049121856689453,-16.012422561645508,-16.200843811035156,-9.43229866027832,-9.410013198852539,-22.84902000427246,-16.42082405090332,-20.07017707824707,-21.88261604309082,27.53717613220215,-20.045795440673828,14.73547649383545,-22.0037784576416,32.337894439697266,13.549910545349121,31.55091667175293,12.175082206726074,31.548986434936523,31.55470848083496,17.20262336730957],\"xaxis\":\"x\",\"y\":[39.30976104736328,31.470041275024414,-43.22515106201172,-39.62874984741211,-39.59379959106445,-39.846370697021484,20.511676788330078,8.153270721435547,-40.99766540527344,-0.1457766741514206,2.7293057441711426,2.7494852542877197,2.6057519912719727,-33.18501663208008,-32.98027038574219,-33.00865173339844,2.9515841007232666,3.242151975631714,0.7847394943237305,0.7043424844741821,0.5994943380355835,-0.5298635363578796,-32.27170181274414,2.6134049892425537,2.4213762283325195,-33.216163635253906,-1.0622212886810303,-1.0197653770446777,1.429062008857727,14.155141830444336,14.1552095413208,-39.0636100769043,-38.5030403137207,-38.86930847167969,11.548177719116211,11.915432929992676,11.548018455505371,13.3519926071167,-38.87281036376953,13.352023124694824,15.470235824584961,13.634624481201172,15.470235824584961,11.774820327758789,14.3954496383667,11.774820327758789,14.870956420898438,15.27027702331543,14.870963096618652,9.805681228637695,11.406290054321289,9.805681228637695,9.384061813354492,9.384241104125977,9.384086608886719,15.660043716430664,-38.98582458496094,12.942350387573242,12.94239330291748,-27.300905227661133,-27.1414852142334,-27.180917739868164,13.360060691833496,34.40877151489258,13.391372680664062,-27.527355194091797,-26.767192840576172,-27.71446418762207,34.138092041015625,25.52220344543457,17.887950897216797,27.080547332763672,21.634963989257812,26.31346321105957,21.842609405517578,26.673612594604492,21.944406509399414,21.815128326416016,26.815656661987305,21.943586349487305,21.821943283081055,26.65923309326172,21.94948387145996,17.240835189819336,27.124053955078125,17.441865921020508,27.18352699279785,16.935855865478516,27.233469009399414,14.706276893615723,-3.6327810287475586,-3.382858991622925,-2.5389325618743896,-3.7300827503204346,-1.089693546295166,-4.479731559753418,-3.3965365886688232,-2.969632148742676,23.7949161529541,-3.3801727294921875,-4.019335746765137,-3.166201114654541,-3.156351327896118,-3.1789743900299072,-3.1096725463867188,-3.3383595943450928,-4.76462459564209,23.636032104492188,-4.68838357925415,-2.965009927749634,-3.1396381855010986,-2.9704768657684326,-2.153164863586426,-3.9388108253479004,-4.654393672943115,-36.20954895019531,-35.875640869140625,-35.950748443603516,-35.85688018798828,-35.728721618652344,-35.297027587890625,-11.24013900756836,4.375521659851074,-43.633399963378906,-11.074867248535156,27.46779441833496,-11.346965789794922,-11.543488502502441,5.766352653503418,-9.280987739562988,-44.364044189453125,5.897123336791992,-40.92390441894531,-40.80271530151367,4.7620954513549805,6.254336833953857,-40.183170318603516,-40.39125061035156,-9.398750305175781,4.6638102531433105,-9.660147666931152,7.441185474395752,-13.684700012207031,7.5823655128479,-37.4140625,-37.43962097167969,6.73451042175293,-13.151762008666992,-19.81479835510254,-37.30128860473633,-52.390098571777344,-3.1852612495422363,36.82456970214844,11.648734092712402,-15.07614803314209,9.09200382232666,-50.40503692626953,-49.19813919067383,-52.18612289428711,-51.39664840698242,-51.4918327331543,-51.24261474609375,-0.04967518895864487,-0.056040842086076736,-39.72308349609375,-48.13151550292969,16.433992385864258,16.617332458496094,-29.534881591796875,16.43317985534668,30.97369384765625,16.780254364013672,-28.092044830322266,35.07863998413086,-23.348337173461914,38.710391998291016,-23.354204177856445,-23.337617874145508,34.40451431274414],\"yaxis\":\"y\",\"type\":\"scattergl\"},{\"hovertemplate\":\"Label=surprised\\u003cbr\\u003ex=%{x}\\u003cbr\\u003ey=%{y}\\u003cextra\\u003e\\u003c\\u002fextra\\u003e\",\"legendgroup\":\"surprised\",\"marker\":{\"color\":\"#19d3f3\",\"symbol\":\"circle\"},\"mode\":\"markers\",\"name\":\"surprised\",\"showlegend\":true,\"x\":[-13.812877655029297,-16.580923080444336,-9.262084007263184,28.529539108276367,-13.27467155456543,26.23967170715332,-15.338356971740723,-47.156227111816406,-17.609859466552734,-26.506826400756836,-26.396902084350586,-25.64571189880371,33.45917892456055,-25.75324058532715,-25.492040634155273,-46.35873794555664,-25.46345329284668,33.60198211669922,35.20854949951172,34.42292404174805,-25.660985946655273,-26.22052574157715,34.24294662475586,34.10749053955078,20.512264251708984,-45.88795471191406,20.95777702331543,34.456668853759766,21.159048080444336,20.605289459228516,34.12582778930664,-1.4022923707962036,-1.2498753070831299,-28.71824073791504,-20.795087814331055,-29.29714584350586,-28.187360763549805,-28.56140899658203,-4.459993362426758,-1.247929573059082,-28.46864891052246,-30.793258666992188,22.460811614990234,-31.143972396850586,-31.578475952148438,-30.34683609008789,-31.51793670654297,-4.636177062988281,-30.37211799621582,23.320186614990234,-30.00461196899414,-31.118162155151367,-30.361831665039062,-32.01460647583008,-30.20111846923828,22.46857452392578,-30.388416290283203,-31.561908721923828,-31.10799217224121,-30.75948715209961,23.740001678466797,16.206981658935547,16.927101135253906,16.82425880432129,17.126981735229492,16.024765014648438,31.040485382080078,30.421600341796875,-24.025922775268555,-24.00998306274414,-24.120590209960938,-28.170392990112305,-28.18120574951172,13.19356918334961,34.592498779296875,35.067813873291016,34.37803649902344,34.64969253540039,34.38731002807617,34.56978225708008,18.57095718383789,11.626702308654785,28.643924713134766,31.446529388427734,-9.783227920532227,27.734384536743164,28.43865966796875,-9.700312614440918,29.073806762695312,-7.491062164306641,-9.820731163024902,28.9894962310791,-9.310883522033691,29.4061336517334,30.326915740966797,31.06686782836914,36.965545654296875,-10.159835815429688,27.63543128967285,-9.053274154663086,31.310977935791016,27.680593490600586,31.53290557861328,28.488006591796875,30.834928512573242,31.191293716430664,31.598417282104492,-46.7109260559082,-21.309280395507812,-46.583412170410156,-23.076187133789062,-17.420026779174805,-17.492319107055664,12.89978313446045,-22.71926498413086,-46.44416809082031,-18.900226593017578,-18.866878509521484,-21.35342788696289,-21.626007080078125,-18.875892639160156,-46.266910552978516,-22.472949981689453,-22.5455322265625,5.564455986022949,18.900894165039062,-46.02238845825195,-7.682960510253906,-11.440811157226562,-47.76042175292969,14.877154350280762,-7.632712364196777,16.312053680419922,-24.651403427124023,-22.914993286132812,25.71023941040039,34.077110290527344,36.60704040527344,17.91519546508789,-47.349586486816406,-13.70633316040039,-20.77888298034668,-13.841588973999023,-14.215826034545898,-6.676418304443359,-14.1824369430542,-14.283257484436035,-7.05103874206543,-7.60177755355835,-13.388270378112793,-14.8018217086792,-13.39326286315918,24.070714950561523,23.52283477783203,23.790111541748047,24.651493072509766,24.227155685424805,24.058975219726562,23.418691635131836,24.70545768737793,23.554872512817383,24.046361923217773,24.2852840423584,24.06970977783203,23.876583099365234,24.22110366821289,23.44184112548828,24.93730926513672,24.456432342529297,24.68541717529297,24.46441650390625,24.434131622314453],\"xaxis\":\"x\",\"y\":[-39.030887603759766,-40.368980407714844,-42.47748565673828,-7.794695854187012,3.868053913116455,28.66449546813965,7.179433822631836,-16.096786499023438,8.479713439941406,7.484241485595703,7.389939308166504,6.917760848999023,-16.028438568115234,7.001291275024414,7.518067359924316,-14.065315246582031,7.582845211029053,-16.04425621032715,-16.626075744628906,-16.616775512695312,7.3146820068359375,7.880374431610107,-16.21103286743164,-16.13540267944336,31.484668731689453,-13.913071632385254,31.75945281982422,-15.880617141723633,31.971017837524414,31.50615692138672,-15.650407791137695,-46.797874450683594,-46.65924835205078,21.027301788330078,-38.976905822753906,21.22597312927246,22.013463973999023,22.56505012512207,-43.9248161315918,-46.63395690917969,22.801158905029297,23.32238006591797,-17.157520294189453,20.77945899963379,24.732852935791016,19.5092830657959,24.17161750793457,-44.22972106933594,21.199045181274414,-17.00394630432129,19.877660751342773,23.644729614257812,20.29888916015625,24.929668426513672,20.903995513916016,-17.188581466674805,20.735950469970703,24.579669952392578,20.14651107788086,19.99856948852539,-16.93960189819336,32.177879333496094,32.75931167602539,32.727081298828125,33.28660583496094,31.89956283569336,-26.033063888549805,-26.487211227416992,15.739068031311035,15.866568565368652,15.675159454345703,12.254220962524414,12.24891185760498,33.95232009887695,-24.09300994873047,-24.30738639831543,-24.455097198486328,-24.105676651000977,-24.79010772705078,-24.117393493652344,25.863142013549805,32.744876861572266,26.508514404296875,-2.655690908432007,-5.922536849975586,-3.930866003036499,-4.161941051483154,-6.261833667755127,-4.026890754699707,-5.627147197723389,-4.613155841827393,-3.9627552032470703,-5.4138922691345215,-2.576186180114746,-2.0161292552948,22.976604461669922,-5.6661553382873535,-4.0622878074646,25.824472427368164,-5.339782238006592,-2.7723429203033447,25.558780670166016,-2.462585210800171,24.915857315063477,23.576282501220703,23.150470733642578,23.17624855041504,-15.428436279296875,-32.0533447265625,-15.28988265991211,-36.77604675292969,-30.89713478088379,-30.957273483276367,32.70077896118164,-34.163734436035156,-16.12742805480957,-31.76508140563965,-31.629640579223633,-32.11152648925781,-32.42169952392578,-31.755292892456055,-15.26728630065918,-33.96403121948242,-34.08810043334961,34.8807373046875,24.970123291015625,-15.68571662902832,-40.94797897338867,-2.5995655059814453,-13.927358627319336,29.657922744750977,-40.92450714111328,29.646398544311523,9.943703651428223,10.219078063964844,35.603633880615234,-12.087733268737793,-19.408422470092773,25.88747787475586,-16.01886749267578,-31.613100051879883,8.89876937866211,-50.407169342041016,-50.024147033691406,-3.2085824012756348,-49.51747131347656,-50.12142562866211,-3.570608139038086,-4.329122066497803,-50.77410888671875,-49.50570297241211,-49.50126266479492,43.258995056152344,45.28702926635742,45.00676345825195,45.11946487426758,44.97937774658203,42.8790397644043,45.74588394165039,45.75742721557617,46.02132797241211,43.190120697021484,46.21183395385742,45.83450698852539,46.22123718261719,45.35362243652344,47.18515396118164,45.75873565673828,42.97223663330078,46.1643180847168,46.77960968017578,43.027915954589844],\"yaxis\":\"y\",\"type\":\"scattergl\"}],                        {\"template\":{\"data\":{\"histogram2dcontour\":[{\"type\":\"histogram2dcontour\",\"colorbar\":{\"outlinewidth\":0,\"ticks\":\"\"},\"colorscale\":[[0.0,\"#0d0887\"],[0.1111111111111111,\"#46039f\"],[0.2222222222222222,\"#7201a8\"],[0.3333333333333333,\"#9c179e\"],[0.4444444444444444,\"#bd3786\"],[0.5555555555555556,\"#d8576b\"],[0.6666666666666666,\"#ed7953\"],[0.7777777777777778,\"#fb9f3a\"],[0.8888888888888888,\"#fdca26\"],[1.0,\"#f0f921\"]]}],\"choropleth\":[{\"type\":\"choropleth\",\"colorbar\":{\"outlinewidth\":0,\"ticks\":\"\"}}],\"histogram2d\":[{\"type\":\"histogram2d\",\"colorbar\":{\"outlinewidth\":0,\"ticks\":\"\"},\"colorscale\":[[0.0,\"#0d0887\"],[0.1111111111111111,\"#46039f\"],[0.2222222222222222,\"#7201a8\"],[0.3333333333333333,\"#9c179e\"],[0.4444444444444444,\"#bd3786\"],[0.5555555555555556,\"#d8576b\"],[0.6666666666666666,\"#ed7953\"],[0.7777777777777778,\"#fb9f3a\"],[0.8888888888888888,\"#fdca26\"],[1.0,\"#f0f921\"]]}],\"heatmap\":[{\"type\":\"heatmap\",\"colorbar\":{\"outlinewidth\":0,\"ticks\":\"\"},\"colorscale\":[[0.0,\"#0d0887\"],[0.1111111111111111,\"#46039f\"],[0.2222222222222222,\"#7201a8\"],[0.3333333333333333,\"#9c179e\"],[0.4444444444444444,\"#bd3786\"],[0.5555555555555556,\"#d8576b\"],[0.6666666666666666,\"#ed7953\"],[0.7777777777777778,\"#fb9f3a\"],[0.8888888888888888,\"#fdca26\"],[1.0,\"#f0f921\"]]}],\"heatmapgl\":[{\"type\":\"heatmapgl\",\"colorbar\":{\"outlinewidth\":0,\"ticks\":\"\"},\"colorscale\":[[0.0,\"#0d0887\"],[0.1111111111111111,\"#46039f\"],[0.2222222222222222,\"#7201a8\"],[0.3333333333333333,\"#9c179e\"],[0.4444444444444444,\"#bd3786\"],[0.5555555555555556,\"#d8576b\"],[0.6666666666666666,\"#ed7953\"],[0.7777777777777778,\"#fb9f3a\"],[0.8888888888888888,\"#fdca26\"],[1.0,\"#f0f921\"]]}],\"contourcarpet\":[{\"type\":\"contourcarpet\",\"colorbar\":{\"outlinewidth\":0,\"ticks\":\"\"}}],\"contour\":[{\"type\":\"contour\",\"colorbar\":{\"outlinewidth\":0,\"ticks\":\"\"},\"colorscale\":[[0.0,\"#0d0887\"],[0.1111111111111111,\"#46039f\"],[0.2222222222222222,\"#7201a8\"],[0.3333333333333333,\"#9c179e\"],[0.4444444444444444,\"#bd3786\"],[0.5555555555555556,\"#d8576b\"],[0.6666666666666666,\"#ed7953\"],[0.7777777777777778,\"#fb9f3a\"],[0.8888888888888888,\"#fdca26\"],[1.0,\"#f0f921\"]]}],\"surface\":[{\"type\":\"surface\",\"colorbar\":{\"outlinewidth\":0,\"ticks\":\"\"},\"colorscale\":[[0.0,\"#0d0887\"],[0.1111111111111111,\"#46039f\"],[0.2222222222222222,\"#7201a8\"],[0.3333333333333333,\"#9c179e\"],[0.4444444444444444,\"#bd3786\"],[0.5555555555555556,\"#d8576b\"],[0.6666666666666666,\"#ed7953\"],[0.7777777777777778,\"#fb9f3a\"],[0.8888888888888888,\"#fdca26\"],[1.0,\"#f0f921\"]]}],\"mesh3d\":[{\"type\":\"mesh3d\",\"colorbar\":{\"outlinewidth\":0,\"ticks\":\"\"}}],\"scatter\":[{\"fillpattern\":{\"fillmode\":\"overlay\",\"size\":10,\"solidity\":0.2},\"type\":\"scatter\"}],\"parcoords\":[{\"type\":\"parcoords\",\"line\":{\"colorbar\":{\"outlinewidth\":0,\"ticks\":\"\"}}}],\"scatterpolargl\":[{\"type\":\"scatterpolargl\",\"marker\":{\"colorbar\":{\"outlinewidth\":0,\"ticks\":\"\"}}}],\"bar\":[{\"error_x\":{\"color\":\"#2a3f5f\"},\"error_y\":{\"color\":\"#2a3f5f\"},\"marker\":{\"line\":{\"color\":\"#E5ECF6\",\"width\":0.5},\"pattern\":{\"fillmode\":\"overlay\",\"size\":10,\"solidity\":0.2}},\"type\":\"bar\"}],\"scattergeo\":[{\"type\":\"scattergeo\",\"marker\":{\"colorbar\":{\"outlinewidth\":0,\"ticks\":\"\"}}}],\"scatterpolar\":[{\"type\":\"scatterpolar\",\"marker\":{\"colorbar\":{\"outlinewidth\":0,\"ticks\":\"\"}}}],\"histogram\":[{\"marker\":{\"pattern\":{\"fillmode\":\"overlay\",\"size\":10,\"solidity\":0.2}},\"type\":\"histogram\"}],\"scattergl\":[{\"type\":\"scattergl\",\"marker\":{\"colorbar\":{\"outlinewidth\":0,\"ticks\":\"\"}}}],\"scatter3d\":[{\"type\":\"scatter3d\",\"line\":{\"colorbar\":{\"outlinewidth\":0,\"ticks\":\"\"}},\"marker\":{\"colorbar\":{\"outlinewidth\":0,\"ticks\":\"\"}}}],\"scattermapbox\":[{\"type\":\"scattermapbox\",\"marker\":{\"colorbar\":{\"outlinewidth\":0,\"ticks\":\"\"}}}],\"scatterternary\":[{\"type\":\"scatterternary\",\"marker\":{\"colorbar\":{\"outlinewidth\":0,\"ticks\":\"\"}}}],\"scattercarpet\":[{\"type\":\"scattercarpet\",\"marker\":{\"colorbar\":{\"outlinewidth\":0,\"ticks\":\"\"}}}],\"carpet\":[{\"aaxis\":{\"endlinecolor\":\"#2a3f5f\",\"gridcolor\":\"white\",\"linecolor\":\"white\",\"minorgridcolor\":\"white\",\"startlinecolor\":\"#2a3f5f\"},\"baxis\":{\"endlinecolor\":\"#2a3f5f\",\"gridcolor\":\"white\",\"linecolor\":\"white\",\"minorgridcolor\":\"white\",\"startlinecolor\":\"#2a3f5f\"},\"type\":\"carpet\"}],\"table\":[{\"cells\":{\"fill\":{\"color\":\"#EBF0F8\"},\"line\":{\"color\":\"white\"}},\"header\":{\"fill\":{\"color\":\"#C8D4E3\"},\"line\":{\"color\":\"white\"}},\"type\":\"table\"}],\"barpolar\":[{\"marker\":{\"line\":{\"color\":\"#E5ECF6\",\"width\":0.5},\"pattern\":{\"fillmode\":\"overlay\",\"size\":10,\"solidity\":0.2}},\"type\":\"barpolar\"}],\"pie\":[{\"automargin\":true,\"type\":\"pie\"}]},\"layout\":{\"autotypenumbers\":\"strict\",\"colorway\":[\"#636efa\",\"#EF553B\",\"#00cc96\",\"#ab63fa\",\"#FFA15A\",\"#19d3f3\",\"#FF6692\",\"#B6E880\",\"#FF97FF\",\"#FECB52\"],\"font\":{\"color\":\"#2a3f5f\"},\"hovermode\":\"closest\",\"hoverlabel\":{\"align\":\"left\"},\"paper_bgcolor\":\"white\",\"plot_bgcolor\":\"#E5ECF6\",\"polar\":{\"bgcolor\":\"#E5ECF6\",\"angularaxis\":{\"gridcolor\":\"white\",\"linecolor\":\"white\",\"ticks\":\"\"},\"radialaxis\":{\"gridcolor\":\"white\",\"linecolor\":\"white\",\"ticks\":\"\"}},\"ternary\":{\"bgcolor\":\"#E5ECF6\",\"aaxis\":{\"gridcolor\":\"white\",\"linecolor\":\"white\",\"ticks\":\"\"},\"baxis\":{\"gridcolor\":\"white\",\"linecolor\":\"white\",\"ticks\":\"\"},\"caxis\":{\"gridcolor\":\"white\",\"linecolor\":\"white\",\"ticks\":\"\"}},\"coloraxis\":{\"colorbar\":{\"outlinewidth\":0,\"ticks\":\"\"}},\"colorscale\":{\"sequential\":[[0.0,\"#0d0887\"],[0.1111111111111111,\"#46039f\"],[0.2222222222222222,\"#7201a8\"],[0.3333333333333333,\"#9c179e\"],[0.4444444444444444,\"#bd3786\"],[0.5555555555555556,\"#d8576b\"],[0.6666666666666666,\"#ed7953\"],[0.7777777777777778,\"#fb9f3a\"],[0.8888888888888888,\"#fdca26\"],[1.0,\"#f0f921\"]],\"sequentialminus\":[[0.0,\"#0d0887\"],[0.1111111111111111,\"#46039f\"],[0.2222222222222222,\"#7201a8\"],[0.3333333333333333,\"#9c179e\"],[0.4444444444444444,\"#bd3786\"],[0.5555555555555556,\"#d8576b\"],[0.6666666666666666,\"#ed7953\"],[0.7777777777777778,\"#fb9f3a\"],[0.8888888888888888,\"#fdca26\"],[1.0,\"#f0f921\"]],\"diverging\":[[0,\"#8e0152\"],[0.1,\"#c51b7d\"],[0.2,\"#de77ae\"],[0.3,\"#f1b6da\"],[0.4,\"#fde0ef\"],[0.5,\"#f7f7f7\"],[0.6,\"#e6f5d0\"],[0.7,\"#b8e186\"],[0.8,\"#7fbc41\"],[0.9,\"#4d9221\"],[1,\"#276419\"]]},\"xaxis\":{\"gridcolor\":\"white\",\"linecolor\":\"white\",\"ticks\":\"\",\"title\":{\"standoff\":15},\"zerolinecolor\":\"white\",\"automargin\":true,\"zerolinewidth\":2},\"yaxis\":{\"gridcolor\":\"white\",\"linecolor\":\"white\",\"ticks\":\"\",\"title\":{\"standoff\":15},\"zerolinecolor\":\"white\",\"automargin\":true,\"zerolinewidth\":2},\"scene\":{\"xaxis\":{\"backgroundcolor\":\"#E5ECF6\",\"gridcolor\":\"white\",\"linecolor\":\"white\",\"showbackground\":true,\"ticks\":\"\",\"zerolinecolor\":\"white\",\"gridwidth\":2},\"yaxis\":{\"backgroundcolor\":\"#E5ECF6\",\"gridcolor\":\"white\",\"linecolor\":\"white\",\"showbackground\":true,\"ticks\":\"\",\"zerolinecolor\":\"white\",\"gridwidth\":2},\"zaxis\":{\"backgroundcolor\":\"#E5ECF6\",\"gridcolor\":\"white\",\"linecolor\":\"white\",\"showbackground\":true,\"ticks\":\"\",\"zerolinecolor\":\"white\",\"gridwidth\":2}},\"shapedefaults\":{\"line\":{\"color\":\"#2a3f5f\"}},\"annotationdefaults\":{\"arrowcolor\":\"#2a3f5f\",\"arrowhead\":0,\"arrowwidth\":1},\"geo\":{\"bgcolor\":\"white\",\"landcolor\":\"#E5ECF6\",\"subunitcolor\":\"white\",\"showland\":true,\"showlakes\":true,\"lakecolor\":\"white\"},\"title\":{\"x\":0.05},\"mapbox\":{\"style\":\"light\"}}},\"xaxis\":{\"anchor\":\"y\",\"domain\":[0.0,1.0],\"title\":{\"text\":\"x\"}},\"yaxis\":{\"anchor\":\"x\",\"domain\":[0.0,1.0],\"title\":{\"text\":\"y\"}},\"legend\":{\"title\":{\"text\":\"Label\"},\"tracegroupgap\":0},\"margin\":{\"t\":60}},                        {\"responsive\": true}                    ).then(function(){\n",
       "                            \n",
       "var gd = document.getElementById('49c0381a-ccde-45a3-abcb-a8a845f3a3e9');\n",
       "var x = new MutationObserver(function (mutations, observer) {{\n",
       "        var display = window.getComputedStyle(gd).display;\n",
       "        if (!display || display === 'none') {{\n",
       "            console.log([gd, 'removed!']);\n",
       "            Plotly.purge(gd);\n",
       "            observer.disconnect();\n",
       "        }}\n",
       "}});\n",
       "\n",
       "// Listen for the removal of the full notebook cells\n",
       "var notebookContainer = gd.closest('#notebook-container');\n",
       "if (notebookContainer) {{\n",
       "    x.observe(notebookContainer, {childList: true});\n",
       "}}\n",
       "\n",
       "// Listen for the clearing of the current output cell\n",
       "var outputEl = gd.closest('.output');\n",
       "if (outputEl) {{\n",
       "    x.observe(outputEl, {childList: true});\n",
       "}}\n",
       "\n",
       "                        })                };                });            </script>        </div>"
      ]
     },
     "metadata": {},
     "output_type": "display_data"
    }
   ],
   "source": [
    "tsne = sklearn.manifold.TSNE(2)\n",
    "data_points2d = tsne.fit_transform(df)\n",
    "\n",
    "labels_series = pd.Series(labels, name=\"Label\").replace(range(len(CLASS_NAMES)), CLASS_NAMES) # type: ignore\n",
    "\n",
    "data_points2d_df = pd.DataFrame(data_points2d, columns=[\"x\", \"y\"])\n",
    "visdf = pd.concat([data_points2d_df, labels_series], axis=1)\n",
    "\n",
    "fig = px.scatter(visdf, x=\"x\", y=\"y\", color=\"Label\")\n",
    "fig.show()"
   ]
  },
  {
   "cell_type": "code",
   "execution_count": 406,
   "metadata": {},
   "outputs": [
    {
     "data": {
      "text/plain": [
       "<_TensorSliceDataset element_spec=(TensorSpec(shape=(512,), dtype=tf.float64, name=None), TensorSpec(shape=(), dtype=tf.float64, name=None))>"
      ]
     },
     "execution_count": 406,
     "metadata": {},
     "output_type": "execute_result"
    }
   ],
   "source": [
    "dataset = tf.data.Dataset.from_tensor_slices((df, labels))\n",
    "train_dataset, test_dataset = keras.utils.split_dataset(dataset, shuffle=True, seed=42, left_size=0.7)\n",
    "train_dataset, validation_dataset = keras.utils.split_dataset(train_dataset, shuffle=True, seed=42, left_size=0.7)\n",
    "\n",
    "train_dataset: tf.data.Dataset = train_dataset.shuffle(100).batch(16)\n",
    "test_dataset: tf.data.Dataset = test_dataset.batch(16)\n",
    "validation_dataset: tf.data.Dataset = validation_dataset.batch(16)\n",
    "\n",
    "dataset"
   ]
  },
  {
   "cell_type": "code",
   "execution_count": 461,
   "metadata": {},
   "outputs": [
    {
     "data": {
      "text/html": [
       "<pre style=\"white-space:pre;overflow-x:auto;line-height:normal;font-family:Menlo,'DejaVu Sans Mono',consolas,'Courier New',monospace\"><span style=\"font-weight: bold\">Model: \"sequential_44\"</span>\n",
       "</pre>\n"
      ],
      "text/plain": [
       "\u001b[1mModel: \"sequential_44\"\u001b[0m\n"
      ]
     },
     "metadata": {},
     "output_type": "display_data"
    },
    {
     "data": {
      "text/html": [
       "<pre style=\"white-space:pre;overflow-x:auto;line-height:normal;font-family:Menlo,'DejaVu Sans Mono',consolas,'Courier New',monospace\">┏━━━━━━━━━━━━━━━━━━━━━━━━━━━━━━━━━┳━━━━━━━━━━━━━━━━━━━━━━━━┳━━━━━━━━━━━━━━━┓\n",
       "┃<span style=\"font-weight: bold\"> Layer (type)                    </span>┃<span style=\"font-weight: bold\"> Output Shape           </span>┃<span style=\"font-weight: bold\">       Param # </span>┃\n",
       "┡━━━━━━━━━━━━━━━━━━━━━━━━━━━━━━━━━╇━━━━━━━━━━━━━━━━━━━━━━━━╇━━━━━━━━━━━━━━━┩\n",
       "│ dense_162 (<span style=\"color: #0087ff; text-decoration-color: #0087ff\">Dense</span>)               │ (<span style=\"color: #00d7ff; text-decoration-color: #00d7ff\">None</span>, <span style=\"color: #00af00; text-decoration-color: #00af00\">256</span>)            │       <span style=\"color: #00af00; text-decoration-color: #00af00\">131,328</span> │\n",
       "├─────────────────────────────────┼────────────────────────┼───────────────┤\n",
       "│ dropout_88 (<span style=\"color: #0087ff; text-decoration-color: #0087ff\">Dropout</span>)            │ (<span style=\"color: #00d7ff; text-decoration-color: #00d7ff\">None</span>, <span style=\"color: #00af00; text-decoration-color: #00af00\">256</span>)            │             <span style=\"color: #00af00; text-decoration-color: #00af00\">0</span> │\n",
       "├─────────────────────────────────┼────────────────────────┼───────────────┤\n",
       "│ dense_163 (<span style=\"color: #0087ff; text-decoration-color: #0087ff\">Dense</span>)               │ (<span style=\"color: #00d7ff; text-decoration-color: #00d7ff\">None</span>, <span style=\"color: #00af00; text-decoration-color: #00af00\">128</span>)            │        <span style=\"color: #00af00; text-decoration-color: #00af00\">32,896</span> │\n",
       "├─────────────────────────────────┼────────────────────────┼───────────────┤\n",
       "│ dropout_89 (<span style=\"color: #0087ff; text-decoration-color: #0087ff\">Dropout</span>)            │ (<span style=\"color: #00d7ff; text-decoration-color: #00d7ff\">None</span>, <span style=\"color: #00af00; text-decoration-color: #00af00\">128</span>)            │             <span style=\"color: #00af00; text-decoration-color: #00af00\">0</span> │\n",
       "├─────────────────────────────────┼────────────────────────┼───────────────┤\n",
       "│ dense_164 (<span style=\"color: #0087ff; text-decoration-color: #0087ff\">Dense</span>)               │ (<span style=\"color: #00d7ff; text-decoration-color: #00d7ff\">None</span>, <span style=\"color: #00af00; text-decoration-color: #00af00\">64</span>)             │         <span style=\"color: #00af00; text-decoration-color: #00af00\">8,256</span> │\n",
       "├─────────────────────────────────┼────────────────────────┼───────────────┤\n",
       "│ dense_165 (<span style=\"color: #0087ff; text-decoration-color: #0087ff\">Dense</span>)               │ (<span style=\"color: #00d7ff; text-decoration-color: #00d7ff\">None</span>, <span style=\"color: #00af00; text-decoration-color: #00af00\">6</span>)              │           <span style=\"color: #00af00; text-decoration-color: #00af00\">390</span> │\n",
       "└─────────────────────────────────┴────────────────────────┴───────────────┘\n",
       "</pre>\n"
      ],
      "text/plain": [
       "┏━━━━━━━━━━━━━━━━━━━━━━━━━━━━━━━━━┳━━━━━━━━━━━━━━━━━━━━━━━━┳━━━━━━━━━━━━━━━┓\n",
       "┃\u001b[1m \u001b[0m\u001b[1mLayer (type)                   \u001b[0m\u001b[1m \u001b[0m┃\u001b[1m \u001b[0m\u001b[1mOutput Shape          \u001b[0m\u001b[1m \u001b[0m┃\u001b[1m \u001b[0m\u001b[1m      Param #\u001b[0m\u001b[1m \u001b[0m┃\n",
       "┡━━━━━━━━━━━━━━━━━━━━━━━━━━━━━━━━━╇━━━━━━━━━━━━━━━━━━━━━━━━╇━━━━━━━━━━━━━━━┩\n",
       "│ dense_162 (\u001b[38;5;33mDense\u001b[0m)               │ (\u001b[38;5;45mNone\u001b[0m, \u001b[38;5;34m256\u001b[0m)            │       \u001b[38;5;34m131,328\u001b[0m │\n",
       "├─────────────────────────────────┼────────────────────────┼───────────────┤\n",
       "│ dropout_88 (\u001b[38;5;33mDropout\u001b[0m)            │ (\u001b[38;5;45mNone\u001b[0m, \u001b[38;5;34m256\u001b[0m)            │             \u001b[38;5;34m0\u001b[0m │\n",
       "├─────────────────────────────────┼────────────────────────┼───────────────┤\n",
       "│ dense_163 (\u001b[38;5;33mDense\u001b[0m)               │ (\u001b[38;5;45mNone\u001b[0m, \u001b[38;5;34m128\u001b[0m)            │        \u001b[38;5;34m32,896\u001b[0m │\n",
       "├─────────────────────────────────┼────────────────────────┼───────────────┤\n",
       "│ dropout_89 (\u001b[38;5;33mDropout\u001b[0m)            │ (\u001b[38;5;45mNone\u001b[0m, \u001b[38;5;34m128\u001b[0m)            │             \u001b[38;5;34m0\u001b[0m │\n",
       "├─────────────────────────────────┼────────────────────────┼───────────────┤\n",
       "│ dense_164 (\u001b[38;5;33mDense\u001b[0m)               │ (\u001b[38;5;45mNone\u001b[0m, \u001b[38;5;34m64\u001b[0m)             │         \u001b[38;5;34m8,256\u001b[0m │\n",
       "├─────────────────────────────────┼────────────────────────┼───────────────┤\n",
       "│ dense_165 (\u001b[38;5;33mDense\u001b[0m)               │ (\u001b[38;5;45mNone\u001b[0m, \u001b[38;5;34m6\u001b[0m)              │           \u001b[38;5;34m390\u001b[0m │\n",
       "└─────────────────────────────────┴────────────────────────┴───────────────┘\n"
      ]
     },
     "metadata": {},
     "output_type": "display_data"
    },
    {
     "data": {
      "text/html": [
       "<pre style=\"white-space:pre;overflow-x:auto;line-height:normal;font-family:Menlo,'DejaVu Sans Mono',consolas,'Courier New',monospace\"><span style=\"font-weight: bold\"> Total params: </span><span style=\"color: #00af00; text-decoration-color: #00af00\">172,870</span> (675.27 KB)\n",
       "</pre>\n"
      ],
      "text/plain": [
       "\u001b[1m Total params: \u001b[0m\u001b[38;5;34m172,870\u001b[0m (675.27 KB)\n"
      ]
     },
     "metadata": {},
     "output_type": "display_data"
    },
    {
     "data": {
      "text/html": [
       "<pre style=\"white-space:pre;overflow-x:auto;line-height:normal;font-family:Menlo,'DejaVu Sans Mono',consolas,'Courier New',monospace\"><span style=\"font-weight: bold\"> Trainable params: </span><span style=\"color: #00af00; text-decoration-color: #00af00\">172,870</span> (675.27 KB)\n",
       "</pre>\n"
      ],
      "text/plain": [
       "\u001b[1m Trainable params: \u001b[0m\u001b[38;5;34m172,870\u001b[0m (675.27 KB)\n"
      ]
     },
     "metadata": {},
     "output_type": "display_data"
    },
    {
     "data": {
      "text/html": [
       "<pre style=\"white-space:pre;overflow-x:auto;line-height:normal;font-family:Menlo,'DejaVu Sans Mono',consolas,'Courier New',monospace\"><span style=\"font-weight: bold\"> Non-trainable params: </span><span style=\"color: #00af00; text-decoration-color: #00af00\">0</span> (0.00 B)\n",
       "</pre>\n"
      ],
      "text/plain": [
       "\u001b[1m Non-trainable params: \u001b[0m\u001b[38;5;34m0\u001b[0m (0.00 B)\n"
      ]
     },
     "metadata": {},
     "output_type": "display_data"
    }
   ],
   "source": [
    "model = keras.Sequential([\n",
    "  keras.layers.Input(shape=dataset.element_spec[0].shape),\n",
    "  keras.layers.Dense(256, activation=\"relu\"),\n",
    "  keras.layers.Dropout(0.5),\n",
    "  keras.layers.Dense(128, activation=\"relu\"),\n",
    "  keras.layers.Dropout(0.5),\n",
    "  keras.layers.Dense(64, activation=\"relu\"),\n",
    "  keras.layers.Dense(6, activation=\"softmax\"),\n",
    "])\n",
    "\n",
    "model.compile(\n",
    "  optimizer=keras.optimizers.Adam(learning_rate=0.001), # type: ignore\n",
    "  loss=keras.losses.SparseCategoricalCrossentropy(),\n",
    "  metrics=[\"accuracy\"],\n",
    ")\n",
    "\n",
    "model.summary()"
   ]
  },
  {
   "cell_type": "code",
   "execution_count": 462,
   "metadata": {},
   "outputs": [
    {
     "name": "stdout",
     "output_type": "stream",
     "text": [
      "Epoch 1/60\n",
      "\u001b[1m34/34\u001b[0m \u001b[32m━━━━━━━━━━━━━━━━━━━━\u001b[0m\u001b[37m\u001b[0m \u001b[1m7s\u001b[0m 12ms/step - accuracy: 0.1999 - loss: 1.8062 - val_accuracy: 0.2423 - val_loss: 1.7575\n",
      "Epoch 2/60\n",
      "\u001b[1m34/34\u001b[0m \u001b[32m━━━━━━━━━━━━━━━━━━━━\u001b[0m\u001b[37m\u001b[0m \u001b[1m0s\u001b[0m 8ms/step - accuracy: 0.2284 - loss: 1.7688 - val_accuracy: 0.2070 - val_loss: 1.7490\n",
      "Epoch 3/60\n",
      "\u001b[1m34/34\u001b[0m \u001b[32m━━━━━━━━━━━━━━━━━━━━\u001b[0m\u001b[37m\u001b[0m \u001b[1m0s\u001b[0m 6ms/step - accuracy: 0.2604 - loss: 1.7431 - val_accuracy: 0.2731 - val_loss: 1.7253\n",
      "Epoch 4/60\n",
      "\u001b[1m34/34\u001b[0m \u001b[32m━━━━━━━━━━━━━━━━━━━━\u001b[0m\u001b[37m\u001b[0m \u001b[1m0s\u001b[0m 6ms/step - accuracy: 0.2827 - loss: 1.7245 - val_accuracy: 0.2555 - val_loss: 1.7041\n",
      "Epoch 5/60\n",
      "\u001b[1m34/34\u001b[0m \u001b[32m━━━━━━━━━━━━━━━━━━━━\u001b[0m\u001b[37m\u001b[0m \u001b[1m0s\u001b[0m 7ms/step - accuracy: 0.2974 - loss: 1.6905 - val_accuracy: 0.2731 - val_loss: 1.6853\n",
      "Epoch 6/60\n",
      "\u001b[1m34/34\u001b[0m \u001b[32m━━━━━━━━━━━━━━━━━━━━\u001b[0m\u001b[37m\u001b[0m \u001b[1m0s\u001b[0m 7ms/step - accuracy: 0.2824 - loss: 1.7109 - val_accuracy: 0.2952 - val_loss: 1.6749\n",
      "Epoch 7/60\n",
      "\u001b[1m34/34\u001b[0m \u001b[32m━━━━━━━━━━━━━━━━━━━━\u001b[0m\u001b[37m\u001b[0m \u001b[1m0s\u001b[0m 9ms/step - accuracy: 0.3375 - loss: 1.6446 - val_accuracy: 0.3656 - val_loss: 1.6131\n",
      "Epoch 8/60\n",
      "\u001b[1m34/34\u001b[0m \u001b[32m━━━━━━━━━━━━━━━━━━━━\u001b[0m\u001b[37m\u001b[0m \u001b[1m0s\u001b[0m 9ms/step - accuracy: 0.3604 - loss: 1.5560 - val_accuracy: 0.4053 - val_loss: 1.5508\n",
      "Epoch 9/60\n",
      "\u001b[1m34/34\u001b[0m \u001b[32m━━━━━━━━━━━━━━━━━━━━\u001b[0m\u001b[37m\u001b[0m \u001b[1m0s\u001b[0m 12ms/step - accuracy: 0.3735 - loss: 1.5440 - val_accuracy: 0.4581 - val_loss: 1.4978\n",
      "Epoch 10/60\n",
      "\u001b[1m34/34\u001b[0m \u001b[32m━━━━━━━━━━━━━━━━━━━━\u001b[0m\u001b[37m\u001b[0m \u001b[1m0s\u001b[0m 9ms/step - accuracy: 0.4316 - loss: 1.4652 - val_accuracy: 0.4229 - val_loss: 1.5267\n",
      "Epoch 11/60\n",
      "\u001b[1m34/34\u001b[0m \u001b[32m━━━━━━━━━━━━━━━━━━━━\u001b[0m\u001b[37m\u001b[0m \u001b[1m0s\u001b[0m 14ms/step - accuracy: 0.4394 - loss: 1.4174 - val_accuracy: 0.5198 - val_loss: 1.3231\n",
      "Epoch 12/60\n",
      "\u001b[1m34/34\u001b[0m \u001b[32m━━━━━━━━━━━━━━━━━━━━\u001b[0m\u001b[37m\u001b[0m \u001b[1m1s\u001b[0m 20ms/step - accuracy: 0.4681 - loss: 1.3616 - val_accuracy: 0.5991 - val_loss: 1.2612\n",
      "Epoch 13/60\n",
      "\u001b[1m34/34\u001b[0m \u001b[32m━━━━━━━━━━━━━━━━━━━━\u001b[0m\u001b[37m\u001b[0m \u001b[1m1s\u001b[0m 37ms/step - accuracy: 0.4982 - loss: 1.2363 - val_accuracy: 0.5771 - val_loss: 1.2045\n",
      "Epoch 14/60\n",
      "\u001b[1m34/34\u001b[0m \u001b[32m━━━━━━━━━━━━━━━━━━━━\u001b[0m\u001b[37m\u001b[0m \u001b[1m1s\u001b[0m 22ms/step - accuracy: 0.5808 - loss: 1.1201 - val_accuracy: 0.5374 - val_loss: 1.2384\n",
      "Epoch 15/60\n",
      "\u001b[1m34/34\u001b[0m \u001b[32m━━━━━━━━━━━━━━━━━━━━\u001b[0m\u001b[37m\u001b[0m \u001b[1m0s\u001b[0m 13ms/step - accuracy: 0.5531 - loss: 1.1116 - val_accuracy: 0.6432 - val_loss: 1.1285\n",
      "Epoch 16/60\n",
      "\u001b[1m34/34\u001b[0m \u001b[32m━━━━━━━━━━━━━━━━━━━━\u001b[0m\u001b[37m\u001b[0m \u001b[1m0s\u001b[0m 8ms/step - accuracy: 0.5810 - loss: 1.1112 - val_accuracy: 0.6476 - val_loss: 1.0943\n",
      "Epoch 17/60\n",
      "\u001b[1m34/34\u001b[0m \u001b[32m━━━━━━━━━━━━━━━━━━━━\u001b[0m\u001b[37m\u001b[0m \u001b[1m1s\u001b[0m 18ms/step - accuracy: 0.6461 - loss: 0.9685 - val_accuracy: 0.5947 - val_loss: 1.0698\n",
      "Epoch 18/60\n",
      "\u001b[1m34/34\u001b[0m \u001b[32m━━━━━━━━━━━━━━━━━━━━\u001b[0m\u001b[37m\u001b[0m \u001b[1m1s\u001b[0m 21ms/step - accuracy: 0.5958 - loss: 1.0404 - val_accuracy: 0.6388 - val_loss: 1.0489\n",
      "Epoch 19/60\n",
      "\u001b[1m34/34\u001b[0m \u001b[32m━━━━━━━━━━━━━━━━━━━━\u001b[0m\u001b[37m\u001b[0m \u001b[1m1s\u001b[0m 14ms/step - accuracy: 0.6324 - loss: 0.9518 - val_accuracy: 0.6784 - val_loss: 0.9546\n",
      "Epoch 20/60\n",
      "\u001b[1m34/34\u001b[0m \u001b[32m━━━━━━━━━━━━━━━━━━━━\u001b[0m\u001b[37m\u001b[0m \u001b[1m0s\u001b[0m 10ms/step - accuracy: 0.6785 - loss: 0.8860 - val_accuracy: 0.6828 - val_loss: 0.9852\n",
      "Epoch 21/60\n",
      "\u001b[1m34/34\u001b[0m \u001b[32m━━━━━━━━━━━━━━━━━━━━\u001b[0m\u001b[37m\u001b[0m \u001b[1m0s\u001b[0m 10ms/step - accuracy: 0.6459 - loss: 0.8375 - val_accuracy: 0.6784 - val_loss: 0.9376\n",
      "Epoch 22/60\n",
      "\u001b[1m34/34\u001b[0m \u001b[32m━━━━━━━━━━━━━━━━━━━━\u001b[0m\u001b[37m\u001b[0m \u001b[1m0s\u001b[0m 10ms/step - accuracy: 0.7198 - loss: 0.7923 - val_accuracy: 0.6872 - val_loss: 0.9284\n",
      "Epoch 23/60\n",
      "\u001b[1m34/34\u001b[0m \u001b[32m━━━━━━━━━━━━━━━━━━━━\u001b[0m\u001b[37m\u001b[0m \u001b[1m0s\u001b[0m 11ms/step - accuracy: 0.7087 - loss: 0.7319 - val_accuracy: 0.6916 - val_loss: 0.9302\n",
      "Epoch 24/60\n",
      "\u001b[1m34/34\u001b[0m \u001b[32m━━━━━━━━━━━━━━━━━━━━\u001b[0m\u001b[37m\u001b[0m \u001b[1m0s\u001b[0m 6ms/step - accuracy: 0.7120 - loss: 0.7437 - val_accuracy: 0.7137 - val_loss: 0.8535\n",
      "Epoch 25/60\n",
      "\u001b[1m34/34\u001b[0m \u001b[32m━━━━━━━━━━━━━━━━━━━━\u001b[0m\u001b[37m\u001b[0m \u001b[1m0s\u001b[0m 6ms/step - accuracy: 0.7172 - loss: 0.7862 - val_accuracy: 0.7137 - val_loss: 0.8723\n",
      "Epoch 26/60\n",
      "\u001b[1m34/34\u001b[0m \u001b[32m━━━━━━━━━━━━━━━━━━━━\u001b[0m\u001b[37m\u001b[0m \u001b[1m0s\u001b[0m 7ms/step - accuracy: 0.7836 - loss: 0.6027 - val_accuracy: 0.6916 - val_loss: 0.8714\n",
      "Epoch 27/60\n",
      "\u001b[1m34/34\u001b[0m \u001b[32m━━━━━━━━━━━━━━━━━━━━\u001b[0m\u001b[37m\u001b[0m \u001b[1m1s\u001b[0m 19ms/step - accuracy: 0.7380 - loss: 0.7049 - val_accuracy: 0.7137 - val_loss: 0.9132\n",
      "Epoch 28/60\n",
      "\u001b[1m34/34\u001b[0m \u001b[32m━━━━━━━━━━━━━━━━━━━━\u001b[0m\u001b[37m\u001b[0m \u001b[1m1s\u001b[0m 17ms/step - accuracy: 0.8023 - loss: 0.5627 - val_accuracy: 0.7137 - val_loss: 0.8792\n",
      "Epoch 29/60\n",
      "\u001b[1m34/34\u001b[0m \u001b[32m━━━━━━━━━━━━━━━━━━━━\u001b[0m\u001b[37m\u001b[0m \u001b[1m0s\u001b[0m 8ms/step - accuracy: 0.7942 - loss: 0.5423 - val_accuracy: 0.6916 - val_loss: 0.8565\n",
      "Epoch 30/60\n",
      "\u001b[1m34/34\u001b[0m \u001b[32m━━━━━━━━━━━━━━━━━━━━\u001b[0m\u001b[37m\u001b[0m \u001b[1m0s\u001b[0m 10ms/step - accuracy: 0.8084 - loss: 0.5514 - val_accuracy: 0.7004 - val_loss: 0.9324\n",
      "Epoch 31/60\n",
      "\u001b[1m34/34\u001b[0m \u001b[32m━━━━━━━━━━━━━━━━━━━━\u001b[0m\u001b[37m\u001b[0m \u001b[1m0s\u001b[0m 11ms/step - accuracy: 0.8083 - loss: 0.5342 - val_accuracy: 0.7269 - val_loss: 0.8500\n",
      "Epoch 32/60\n",
      "\u001b[1m34/34\u001b[0m \u001b[32m━━━━━━━━━━━━━━━━━━━━\u001b[0m\u001b[37m\u001b[0m \u001b[1m0s\u001b[0m 13ms/step - accuracy: 0.7821 - loss: 0.5992 - val_accuracy: 0.7137 - val_loss: 0.9751\n",
      "Epoch 33/60\n",
      "\u001b[1m34/34\u001b[0m \u001b[32m━━━━━━━━━━━━━━━━━━━━\u001b[0m\u001b[37m\u001b[0m \u001b[1m0s\u001b[0m 7ms/step - accuracy: 0.7660 - loss: 0.6033 - val_accuracy: 0.7445 - val_loss: 0.8277\n",
      "Epoch 34/60\n",
      "\u001b[1m34/34\u001b[0m \u001b[32m━━━━━━━━━━━━━━━━━━━━\u001b[0m\u001b[37m\u001b[0m \u001b[1m0s\u001b[0m 8ms/step - accuracy: 0.7724 - loss: 0.5324 - val_accuracy: 0.7401 - val_loss: 0.8545\n",
      "Epoch 35/60\n",
      "\u001b[1m34/34\u001b[0m \u001b[32m━━━━━━━━━━━━━━━━━━━━\u001b[0m\u001b[37m\u001b[0m \u001b[1m0s\u001b[0m 9ms/step - accuracy: 0.8262 - loss: 0.4541 - val_accuracy: 0.7225 - val_loss: 0.9207\n",
      "Epoch 36/60\n",
      "\u001b[1m34/34\u001b[0m \u001b[32m━━━━━━━━━━━━━━━━━━━━\u001b[0m\u001b[37m\u001b[0m \u001b[1m0s\u001b[0m 12ms/step - accuracy: 0.8314 - loss: 0.4288 - val_accuracy: 0.7313 - val_loss: 0.8621\n",
      "Epoch 37/60\n",
      "\u001b[1m34/34\u001b[0m \u001b[32m━━━━━━━━━━━━━━━━━━━━\u001b[0m\u001b[37m\u001b[0m \u001b[1m1s\u001b[0m 15ms/step - accuracy: 0.8601 - loss: 0.4259 - val_accuracy: 0.7445 - val_loss: 0.8512\n",
      "Epoch 38/60\n",
      "\u001b[1m34/34\u001b[0m \u001b[32m━━━━━━━━━━━━━━━━━━━━\u001b[0m\u001b[37m\u001b[0m \u001b[1m0s\u001b[0m 8ms/step - accuracy: 0.8104 - loss: 0.5179 - val_accuracy: 0.7313 - val_loss: 0.8914\n",
      "Epoch 39/60\n",
      "\u001b[1m34/34\u001b[0m \u001b[32m━━━━━━━━━━━━━━━━━━━━\u001b[0m\u001b[37m\u001b[0m \u001b[1m0s\u001b[0m 8ms/step - accuracy: 0.8103 - loss: 0.5178 - val_accuracy: 0.7401 - val_loss: 0.8745\n",
      "Epoch 40/60\n",
      "\u001b[1m34/34\u001b[0m \u001b[32m━━━━━━━━━━━━━━━━━━━━\u001b[0m\u001b[37m\u001b[0m \u001b[1m0s\u001b[0m 7ms/step - accuracy: 0.8627 - loss: 0.4317 - val_accuracy: 0.7401 - val_loss: 0.8712\n",
      "Epoch 41/60\n",
      "\u001b[1m34/34\u001b[0m \u001b[32m━━━━━━━━━━━━━━━━━━━━\u001b[0m\u001b[37m\u001b[0m \u001b[1m0s\u001b[0m 6ms/step - accuracy: 0.8038 - loss: 0.5386 - val_accuracy: 0.7357 - val_loss: 0.9386\n",
      "Epoch 42/60\n",
      "\u001b[1m34/34\u001b[0m \u001b[32m━━━━━━━━━━━━━━━━━━━━\u001b[0m\u001b[37m\u001b[0m \u001b[1m0s\u001b[0m 7ms/step - accuracy: 0.8000 - loss: 0.5410 - val_accuracy: 0.6784 - val_loss: 0.9591\n",
      "Epoch 43/60\n",
      "\u001b[1m34/34\u001b[0m \u001b[32m━━━━━━━━━━━━━━━━━━━━\u001b[0m\u001b[37m\u001b[0m \u001b[1m0s\u001b[0m 7ms/step - accuracy: 0.7527 - loss: 0.6561 - val_accuracy: 0.7533 - val_loss: 0.8455\n",
      "Epoch 44/60\n",
      "\u001b[1m34/34\u001b[0m \u001b[32m━━━━━━━━━━━━━━━━━━━━\u001b[0m\u001b[37m\u001b[0m \u001b[1m0s\u001b[0m 7ms/step - accuracy: 0.8204 - loss: 0.4649 - val_accuracy: 0.7445 - val_loss: 0.8368\n",
      "Epoch 45/60\n",
      "\u001b[1m34/34\u001b[0m \u001b[32m━━━━━━━━━━━━━━━━━━━━\u001b[0m\u001b[37m\u001b[0m \u001b[1m0s\u001b[0m 9ms/step - accuracy: 0.8363 - loss: 0.4489 - val_accuracy: 0.7533 - val_loss: 0.8330\n",
      "Epoch 46/60\n",
      "\u001b[1m34/34\u001b[0m \u001b[32m━━━━━━━━━━━━━━━━━━━━\u001b[0m\u001b[37m\u001b[0m \u001b[1m0s\u001b[0m 7ms/step - accuracy: 0.8686 - loss: 0.3739 - val_accuracy: 0.7533 - val_loss: 0.7848\n",
      "Epoch 47/60\n",
      "\u001b[1m34/34\u001b[0m \u001b[32m━━━━━━━━━━━━━━━━━━━━\u001b[0m\u001b[37m\u001b[0m \u001b[1m0s\u001b[0m 8ms/step - accuracy: 0.8432 - loss: 0.4547 - val_accuracy: 0.7930 - val_loss: 0.7897\n",
      "Epoch 48/60\n",
      "\u001b[1m34/34\u001b[0m \u001b[32m━━━━━━━━━━━━━━━━━━━━\u001b[0m\u001b[37m\u001b[0m \u001b[1m0s\u001b[0m 8ms/step - accuracy: 0.8893 - loss: 0.2909 - val_accuracy: 0.7445 - val_loss: 0.8835\n",
      "Epoch 49/60\n",
      "\u001b[1m34/34\u001b[0m \u001b[32m━━━━━━━━━━━━━━━━━━━━\u001b[0m\u001b[37m\u001b[0m \u001b[1m0s\u001b[0m 7ms/step - accuracy: 0.8480 - loss: 0.3742 - val_accuracy: 0.7621 - val_loss: 0.8193\n",
      "Epoch 50/60\n",
      "\u001b[1m34/34\u001b[0m \u001b[32m━━━━━━━━━━━━━━━━━━━━\u001b[0m\u001b[37m\u001b[0m \u001b[1m0s\u001b[0m 6ms/step - accuracy: 0.8441 - loss: 0.3508 - val_accuracy: 0.7577 - val_loss: 0.8614\n",
      "Epoch 51/60\n",
      "\u001b[1m34/34\u001b[0m \u001b[32m━━━━━━━━━━━━━━━━━━━━\u001b[0m\u001b[37m\u001b[0m \u001b[1m0s\u001b[0m 9ms/step - accuracy: 0.8684 - loss: 0.3462 - val_accuracy: 0.7401 - val_loss: 0.8361\n",
      "Epoch 52/60\n",
      "\u001b[1m34/34\u001b[0m \u001b[32m━━━━━━━━━━━━━━━━━━━━\u001b[0m\u001b[37m\u001b[0m \u001b[1m1s\u001b[0m 28ms/step - accuracy: 0.8720 - loss: 0.3229 - val_accuracy: 0.7709 - val_loss: 0.8573\n",
      "Epoch 53/60\n",
      "\u001b[1m34/34\u001b[0m \u001b[32m━━━━━━━━━━━━━━━━━━━━\u001b[0m\u001b[37m\u001b[0m \u001b[1m0s\u001b[0m 11ms/step - accuracy: 0.8949 - loss: 0.2941 - val_accuracy: 0.7269 - val_loss: 0.9446\n",
      "Epoch 54/60\n",
      "\u001b[1m34/34\u001b[0m \u001b[32m━━━━━━━━━━━━━━━━━━━━\u001b[0m\u001b[37m\u001b[0m \u001b[1m0s\u001b[0m 10ms/step - accuracy: 0.8744 - loss: 0.3295 - val_accuracy: 0.7489 - val_loss: 0.9250\n",
      "Epoch 55/60\n",
      "\u001b[1m34/34\u001b[0m \u001b[32m━━━━━━━━━━━━━━━━━━━━\u001b[0m\u001b[37m\u001b[0m \u001b[1m0s\u001b[0m 11ms/step - accuracy: 0.9249 - loss: 0.2458 - val_accuracy: 0.7621 - val_loss: 0.9575\n",
      "Epoch 56/60\n",
      "\u001b[1m34/34\u001b[0m \u001b[32m━━━━━━━━━━━━━━━━━━━━\u001b[0m\u001b[37m\u001b[0m \u001b[1m0s\u001b[0m 13ms/step - accuracy: 0.8631 - loss: 0.3622 - val_accuracy: 0.7709 - val_loss: 0.9476\n",
      "Epoch 57/60\n",
      "\u001b[1m34/34\u001b[0m \u001b[32m━━━━━━━━━━━━━━━━━━━━\u001b[0m\u001b[37m\u001b[0m \u001b[1m0s\u001b[0m 8ms/step - accuracy: 0.8763 - loss: 0.3171 - val_accuracy: 0.7533 - val_loss: 0.9023\n",
      "Epoch 58/60\n",
      "\u001b[1m34/34\u001b[0m \u001b[32m━━━━━━━━━━━━━━━━━━━━\u001b[0m\u001b[37m\u001b[0m \u001b[1m0s\u001b[0m 7ms/step - accuracy: 0.8966 - loss: 0.2644 - val_accuracy: 0.7489 - val_loss: 1.1564\n",
      "Epoch 59/60\n",
      "\u001b[1m34/34\u001b[0m \u001b[32m━━━━━━━━━━━━━━━━━━━━\u001b[0m\u001b[37m\u001b[0m \u001b[1m0s\u001b[0m 7ms/step - accuracy: 0.8827 - loss: 0.3108 - val_accuracy: 0.7665 - val_loss: 0.9967\n",
      "Epoch 60/60\n",
      "\u001b[1m34/34\u001b[0m \u001b[32m━━━━━━━━━━━━━━━━━━━━\u001b[0m\u001b[37m\u001b[0m \u001b[1m0s\u001b[0m 6ms/step - accuracy: 0.8948 - loss: 0.2561 - val_accuracy: 0.7621 - val_loss: 0.9973\n"
     ]
    }
   ],
   "source": [
    "history = model.fit(\n",
    "  train_dataset, epochs=100,\n",
    "  validation_data=validation_dataset,\n",
    ")"
   ]
  },
  {
   "cell_type": "code",
   "execution_count": 477,
   "metadata": {},
   "outputs": [
    {
     "data": {
      "application/vnd.plotly.v1+json": {
       "config": {
        "plotlyServerURL": "https://plot.ly"
       },
       "data": [
        {
         "hovertemplate": "index=%{x}<br>accuracy=%{y}<extra></extra>",
         "legendgroup": "",
         "line": {
          "color": "blue",
          "dash": "solid"
         },
         "marker": {
          "color": "blue",
          "symbol": "circle"
         },
         "mode": "lines+markers",
         "name": "Accuracy",
         "orientation": "v",
         "showlegend": true,
         "type": "scatter",
         "x": [
          0,
          1,
          2,
          3,
          4,
          5,
          6,
          7,
          8,
          9,
          10,
          11,
          12,
          13,
          14,
          15,
          16,
          17,
          18,
          19,
          20,
          21,
          22,
          23,
          24,
          25,
          26,
          27,
          28,
          29,
          30,
          31,
          32,
          33,
          34,
          35,
          36,
          37,
          38,
          39,
          40,
          41,
          42,
          43,
          44,
          45,
          46,
          47,
          48,
          49,
          50,
          51,
          52,
          53,
          54,
          55,
          56,
          57,
          58,
          59
         ],
         "xaxis": "x",
         "y": [
          0.20000000298023224,
          0.23773585259914398,
          0.23962263762950897,
          0.27358490228652954,
          0.2509433925151825,
          0.2622641623020172,
          0.33207547664642334,
          0.36226415634155273,
          0.3660377264022827,
          0.4150943458080292,
          0.4377358555793762,
          0.4433962404727936,
          0.505660355091095,
          0.5660377144813538,
          0.5471698045730591,
          0.5716981291770935,
          0.6188679337501526,
          0.6150943636894226,
          0.650943398475647,
          0.6641509532928467,
          0.6660377383232117,
          0.7132075428962708,
          0.7264150977134705,
          0.6867924332618713,
          0.7358490824699402,
          0.7830188870429993,
          0.7641509175300598,
          0.7716981172561646,
          0.7905660271644592,
          0.800000011920929,
          0.798113226890564,
          0.7886792421340942,
          0.7924528121948242,
          0.7716981172561646,
          0.8169811367988586,
          0.8150943517684937,
          0.850943386554718,
          0.8396226167678833,
          0.8245282769203186,
          0.8584905862808228,
          0.7924528121948242,
          0.798113226890564,
          0.7471697926521301,
          0.8264151215553284,
          0.8377358317375183,
          0.8622641563415527,
          0.8603773713111877,
          0.8660377264022827,
          0.854716956615448,
          0.8679245114326477,
          0.8660377264022827,
          0.8679245114326477,
          0.8849056363105774,
          0.8849056363105774,
          0.9075471758842468,
          0.8754717111587524,
          0.8754717111587524,
          0.8943396210670471,
          0.8962264060974121,
          0.9075471758842468
         ],
         "yaxis": "y"
        },
        {
         "hovertemplate": "index=%{x}<br>val_accuracy=%{y}<extra></extra>",
         "legendgroup": "",
         "line": {
          "color": "orange",
          "dash": "solid"
         },
         "marker": {
          "color": "orange",
          "symbol": "circle"
         },
         "mode": "lines+markers",
         "name": "Validation Accuracy",
         "orientation": "v",
         "showlegend": true,
         "type": "scatter",
         "x": [
          0,
          1,
          2,
          3,
          4,
          5,
          6,
          7,
          8,
          9,
          10,
          11,
          12,
          13,
          14,
          15,
          16,
          17,
          18,
          19,
          20,
          21,
          22,
          23,
          24,
          25,
          26,
          27,
          28,
          29,
          30,
          31,
          32,
          33,
          34,
          35,
          36,
          37,
          38,
          39,
          40,
          41,
          42,
          43,
          44,
          45,
          46,
          47,
          48,
          49,
          50,
          51,
          52,
          53,
          54,
          55,
          56,
          57,
          58,
          59
         ],
         "xaxis": "x",
         "y": [
          0.24229075014591217,
          0.2070484608411789,
          0.2731277644634247,
          0.25550660490989685,
          0.2731277644634247,
          0.2951541841030121,
          0.36563876271247864,
          0.40528634190559387,
          0.458149790763855,
          0.4229075014591217,
          0.5198237895965576,
          0.5991189479827881,
          0.5770925283432007,
          0.5374449491500854,
          0.6431717872619629,
          0.6475771069526672,
          0.5947136282920837,
          0.6387665271759033,
          0.6784141063690186,
          0.6828193664550781,
          0.6784141063690186,
          0.6872246861457825,
          0.691629946231842,
          0.7136563658714294,
          0.7136563658714294,
          0.691629946231842,
          0.7136563658714294,
          0.7136563658714294,
          0.691629946231842,
          0.700440526008606,
          0.7268722653388977,
          0.7136563658714294,
          0.7444933652877808,
          0.7400881052017212,
          0.7224669456481934,
          0.7312775254249573,
          0.7444933652877808,
          0.7312775254249573,
          0.7400881052017212,
          0.7400881052017212,
          0.7356828451156616,
          0.6784141063690186,
          0.7533039450645447,
          0.7444933652877808,
          0.7533039450645447,
          0.7533039450645447,
          0.7929515242576599,
          0.7444933652877808,
          0.7621145248413086,
          0.757709264755249,
          0.7400881052017212,
          0.7709251046180725,
          0.7268722653388977,
          0.7488986849784851,
          0.7621145248413086,
          0.7709251046180725,
          0.7533039450645447,
          0.7488986849784851,
          0.7665198445320129,
          0.7621145248413086
         ],
         "yaxis": "y"
        }
       ],
       "layout": {
        "legend": {
         "tracegroupgap": 0
        },
        "shapes": [
         {
          "label": {
           "font": {
            "color": "rgba(255, 165, 0, 1)"
           },
           "text": "Median Validation Accuracy (0.71)",
           "textposition": "start"
          },
          "line": {
           "color": "rgba(255, 165, 0, 0.5)",
           "dash": "dash"
          },
          "type": "line",
          "x0": 0,
          "x1": 1,
          "xref": "x domain",
          "y0": 0.7136563658714294,
          "y1": 0.7136563658714294,
          "yref": "y"
         },
         {
          "label": {
           "font": {
            "color": "rgba(0, 0, 255, 1)"
           },
           "text": "Median Accuracy (0.79)",
           "textposition": "start"
          },
          "line": {
           "color": "rgba(0, 0, 255, 0.5)",
           "dash": "dash"
          },
          "type": "line",
          "x0": 0,
          "x1": 1,
          "xref": "x domain",
          "y0": 0.7858490645885468,
          "y1": 0.7858490645885468,
          "yref": "y"
         },
         {
          "label": {
           "font": {
            "color": "rgba(255, 165, 0, 1)"
           },
           "text": "Max Validation Accuracy (0.79)",
           "textposition": "start"
          },
          "line": {
           "color": "rgba(255, 165, 0, 0.5)",
           "dash": "dash"
          },
          "type": "line",
          "x0": 0,
          "x1": 1,
          "xref": "x domain",
          "y0": 0.7929515242576599,
          "y1": 0.7929515242576599,
          "yref": "y"
         },
         {
          "label": {
           "font": {
            "color": "rgba(0, 0, 255, 1)"
           },
           "text": "Max Accuracy (0.91)",
           "textposition": "start"
          },
          "line": {
           "color": "rgba(0, 0, 255, 0.5)",
           "dash": "dash"
          },
          "type": "line",
          "x0": 0,
          "x1": 1,
          "xref": "x domain",
          "y0": 0.9075471758842468,
          "y1": 0.9075471758842468,
          "yref": "y"
         }
        ],
        "template": {
         "data": {
          "bar": [
           {
            "error_x": {
             "color": "#2a3f5f"
            },
            "error_y": {
             "color": "#2a3f5f"
            },
            "marker": {
             "line": {
              "color": "#E5ECF6",
              "width": 0.5
             },
             "pattern": {
              "fillmode": "overlay",
              "size": 10,
              "solidity": 0.2
             }
            },
            "type": "bar"
           }
          ],
          "barpolar": [
           {
            "marker": {
             "line": {
              "color": "#E5ECF6",
              "width": 0.5
             },
             "pattern": {
              "fillmode": "overlay",
              "size": 10,
              "solidity": 0.2
             }
            },
            "type": "barpolar"
           }
          ],
          "carpet": [
           {
            "aaxis": {
             "endlinecolor": "#2a3f5f",
             "gridcolor": "white",
             "linecolor": "white",
             "minorgridcolor": "white",
             "startlinecolor": "#2a3f5f"
            },
            "baxis": {
             "endlinecolor": "#2a3f5f",
             "gridcolor": "white",
             "linecolor": "white",
             "minorgridcolor": "white",
             "startlinecolor": "#2a3f5f"
            },
            "type": "carpet"
           }
          ],
          "choropleth": [
           {
            "colorbar": {
             "outlinewidth": 0,
             "ticks": ""
            },
            "type": "choropleth"
           }
          ],
          "contour": [
           {
            "colorbar": {
             "outlinewidth": 0,
             "ticks": ""
            },
            "colorscale": [
             [
              0,
              "#0d0887"
             ],
             [
              0.1111111111111111,
              "#46039f"
             ],
             [
              0.2222222222222222,
              "#7201a8"
             ],
             [
              0.3333333333333333,
              "#9c179e"
             ],
             [
              0.4444444444444444,
              "#bd3786"
             ],
             [
              0.5555555555555556,
              "#d8576b"
             ],
             [
              0.6666666666666666,
              "#ed7953"
             ],
             [
              0.7777777777777778,
              "#fb9f3a"
             ],
             [
              0.8888888888888888,
              "#fdca26"
             ],
             [
              1,
              "#f0f921"
             ]
            ],
            "type": "contour"
           }
          ],
          "contourcarpet": [
           {
            "colorbar": {
             "outlinewidth": 0,
             "ticks": ""
            },
            "type": "contourcarpet"
           }
          ],
          "heatmap": [
           {
            "colorbar": {
             "outlinewidth": 0,
             "ticks": ""
            },
            "colorscale": [
             [
              0,
              "#0d0887"
             ],
             [
              0.1111111111111111,
              "#46039f"
             ],
             [
              0.2222222222222222,
              "#7201a8"
             ],
             [
              0.3333333333333333,
              "#9c179e"
             ],
             [
              0.4444444444444444,
              "#bd3786"
             ],
             [
              0.5555555555555556,
              "#d8576b"
             ],
             [
              0.6666666666666666,
              "#ed7953"
             ],
             [
              0.7777777777777778,
              "#fb9f3a"
             ],
             [
              0.8888888888888888,
              "#fdca26"
             ],
             [
              1,
              "#f0f921"
             ]
            ],
            "type": "heatmap"
           }
          ],
          "heatmapgl": [
           {
            "colorbar": {
             "outlinewidth": 0,
             "ticks": ""
            },
            "colorscale": [
             [
              0,
              "#0d0887"
             ],
             [
              0.1111111111111111,
              "#46039f"
             ],
             [
              0.2222222222222222,
              "#7201a8"
             ],
             [
              0.3333333333333333,
              "#9c179e"
             ],
             [
              0.4444444444444444,
              "#bd3786"
             ],
             [
              0.5555555555555556,
              "#d8576b"
             ],
             [
              0.6666666666666666,
              "#ed7953"
             ],
             [
              0.7777777777777778,
              "#fb9f3a"
             ],
             [
              0.8888888888888888,
              "#fdca26"
             ],
             [
              1,
              "#f0f921"
             ]
            ],
            "type": "heatmapgl"
           }
          ],
          "histogram": [
           {
            "marker": {
             "pattern": {
              "fillmode": "overlay",
              "size": 10,
              "solidity": 0.2
             }
            },
            "type": "histogram"
           }
          ],
          "histogram2d": [
           {
            "colorbar": {
             "outlinewidth": 0,
             "ticks": ""
            },
            "colorscale": [
             [
              0,
              "#0d0887"
             ],
             [
              0.1111111111111111,
              "#46039f"
             ],
             [
              0.2222222222222222,
              "#7201a8"
             ],
             [
              0.3333333333333333,
              "#9c179e"
             ],
             [
              0.4444444444444444,
              "#bd3786"
             ],
             [
              0.5555555555555556,
              "#d8576b"
             ],
             [
              0.6666666666666666,
              "#ed7953"
             ],
             [
              0.7777777777777778,
              "#fb9f3a"
             ],
             [
              0.8888888888888888,
              "#fdca26"
             ],
             [
              1,
              "#f0f921"
             ]
            ],
            "type": "histogram2d"
           }
          ],
          "histogram2dcontour": [
           {
            "colorbar": {
             "outlinewidth": 0,
             "ticks": ""
            },
            "colorscale": [
             [
              0,
              "#0d0887"
             ],
             [
              0.1111111111111111,
              "#46039f"
             ],
             [
              0.2222222222222222,
              "#7201a8"
             ],
             [
              0.3333333333333333,
              "#9c179e"
             ],
             [
              0.4444444444444444,
              "#bd3786"
             ],
             [
              0.5555555555555556,
              "#d8576b"
             ],
             [
              0.6666666666666666,
              "#ed7953"
             ],
             [
              0.7777777777777778,
              "#fb9f3a"
             ],
             [
              0.8888888888888888,
              "#fdca26"
             ],
             [
              1,
              "#f0f921"
             ]
            ],
            "type": "histogram2dcontour"
           }
          ],
          "mesh3d": [
           {
            "colorbar": {
             "outlinewidth": 0,
             "ticks": ""
            },
            "type": "mesh3d"
           }
          ],
          "parcoords": [
           {
            "line": {
             "colorbar": {
              "outlinewidth": 0,
              "ticks": ""
             }
            },
            "type": "parcoords"
           }
          ],
          "pie": [
           {
            "automargin": true,
            "type": "pie"
           }
          ],
          "scatter": [
           {
            "fillpattern": {
             "fillmode": "overlay",
             "size": 10,
             "solidity": 0.2
            },
            "type": "scatter"
           }
          ],
          "scatter3d": [
           {
            "line": {
             "colorbar": {
              "outlinewidth": 0,
              "ticks": ""
             }
            },
            "marker": {
             "colorbar": {
              "outlinewidth": 0,
              "ticks": ""
             }
            },
            "type": "scatter3d"
           }
          ],
          "scattercarpet": [
           {
            "marker": {
             "colorbar": {
              "outlinewidth": 0,
              "ticks": ""
             }
            },
            "type": "scattercarpet"
           }
          ],
          "scattergeo": [
           {
            "marker": {
             "colorbar": {
              "outlinewidth": 0,
              "ticks": ""
             }
            },
            "type": "scattergeo"
           }
          ],
          "scattergl": [
           {
            "marker": {
             "colorbar": {
              "outlinewidth": 0,
              "ticks": ""
             }
            },
            "type": "scattergl"
           }
          ],
          "scattermapbox": [
           {
            "marker": {
             "colorbar": {
              "outlinewidth": 0,
              "ticks": ""
             }
            },
            "type": "scattermapbox"
           }
          ],
          "scatterpolar": [
           {
            "marker": {
             "colorbar": {
              "outlinewidth": 0,
              "ticks": ""
             }
            },
            "type": "scatterpolar"
           }
          ],
          "scatterpolargl": [
           {
            "marker": {
             "colorbar": {
              "outlinewidth": 0,
              "ticks": ""
             }
            },
            "type": "scatterpolargl"
           }
          ],
          "scatterternary": [
           {
            "marker": {
             "colorbar": {
              "outlinewidth": 0,
              "ticks": ""
             }
            },
            "type": "scatterternary"
           }
          ],
          "surface": [
           {
            "colorbar": {
             "outlinewidth": 0,
             "ticks": ""
            },
            "colorscale": [
             [
              0,
              "#0d0887"
             ],
             [
              0.1111111111111111,
              "#46039f"
             ],
             [
              0.2222222222222222,
              "#7201a8"
             ],
             [
              0.3333333333333333,
              "#9c179e"
             ],
             [
              0.4444444444444444,
              "#bd3786"
             ],
             [
              0.5555555555555556,
              "#d8576b"
             ],
             [
              0.6666666666666666,
              "#ed7953"
             ],
             [
              0.7777777777777778,
              "#fb9f3a"
             ],
             [
              0.8888888888888888,
              "#fdca26"
             ],
             [
              1,
              "#f0f921"
             ]
            ],
            "type": "surface"
           }
          ],
          "table": [
           {
            "cells": {
             "fill": {
              "color": "#EBF0F8"
             },
             "line": {
              "color": "white"
             }
            },
            "header": {
             "fill": {
              "color": "#C8D4E3"
             },
             "line": {
              "color": "white"
             }
            },
            "type": "table"
           }
          ]
         },
         "layout": {
          "annotationdefaults": {
           "arrowcolor": "#2a3f5f",
           "arrowhead": 0,
           "arrowwidth": 1
          },
          "autotypenumbers": "strict",
          "coloraxis": {
           "colorbar": {
            "outlinewidth": 0,
            "ticks": ""
           }
          },
          "colorscale": {
           "diverging": [
            [
             0,
             "#8e0152"
            ],
            [
             0.1,
             "#c51b7d"
            ],
            [
             0.2,
             "#de77ae"
            ],
            [
             0.3,
             "#f1b6da"
            ],
            [
             0.4,
             "#fde0ef"
            ],
            [
             0.5,
             "#f7f7f7"
            ],
            [
             0.6,
             "#e6f5d0"
            ],
            [
             0.7,
             "#b8e186"
            ],
            [
             0.8,
             "#7fbc41"
            ],
            [
             0.9,
             "#4d9221"
            ],
            [
             1,
             "#276419"
            ]
           ],
           "sequential": [
            [
             0,
             "#0d0887"
            ],
            [
             0.1111111111111111,
             "#46039f"
            ],
            [
             0.2222222222222222,
             "#7201a8"
            ],
            [
             0.3333333333333333,
             "#9c179e"
            ],
            [
             0.4444444444444444,
             "#bd3786"
            ],
            [
             0.5555555555555556,
             "#d8576b"
            ],
            [
             0.6666666666666666,
             "#ed7953"
            ],
            [
             0.7777777777777778,
             "#fb9f3a"
            ],
            [
             0.8888888888888888,
             "#fdca26"
            ],
            [
             1,
             "#f0f921"
            ]
           ],
           "sequentialminus": [
            [
             0,
             "#0d0887"
            ],
            [
             0.1111111111111111,
             "#46039f"
            ],
            [
             0.2222222222222222,
             "#7201a8"
            ],
            [
             0.3333333333333333,
             "#9c179e"
            ],
            [
             0.4444444444444444,
             "#bd3786"
            ],
            [
             0.5555555555555556,
             "#d8576b"
            ],
            [
             0.6666666666666666,
             "#ed7953"
            ],
            [
             0.7777777777777778,
             "#fb9f3a"
            ],
            [
             0.8888888888888888,
             "#fdca26"
            ],
            [
             1,
             "#f0f921"
            ]
           ]
          },
          "colorway": [
           "#636efa",
           "#EF553B",
           "#00cc96",
           "#ab63fa",
           "#FFA15A",
           "#19d3f3",
           "#FF6692",
           "#B6E880",
           "#FF97FF",
           "#FECB52"
          ],
          "font": {
           "color": "#2a3f5f"
          },
          "geo": {
           "bgcolor": "white",
           "lakecolor": "white",
           "landcolor": "#E5ECF6",
           "showlakes": true,
           "showland": true,
           "subunitcolor": "white"
          },
          "hoverlabel": {
           "align": "left"
          },
          "hovermode": "closest",
          "mapbox": {
           "style": "light"
          },
          "paper_bgcolor": "white",
          "plot_bgcolor": "#E5ECF6",
          "polar": {
           "angularaxis": {
            "gridcolor": "white",
            "linecolor": "white",
            "ticks": ""
           },
           "bgcolor": "#E5ECF6",
           "radialaxis": {
            "gridcolor": "white",
            "linecolor": "white",
            "ticks": ""
           }
          },
          "scene": {
           "xaxis": {
            "backgroundcolor": "#E5ECF6",
            "gridcolor": "white",
            "gridwidth": 2,
            "linecolor": "white",
            "showbackground": true,
            "ticks": "",
            "zerolinecolor": "white"
           },
           "yaxis": {
            "backgroundcolor": "#E5ECF6",
            "gridcolor": "white",
            "gridwidth": 2,
            "linecolor": "white",
            "showbackground": true,
            "ticks": "",
            "zerolinecolor": "white"
           },
           "zaxis": {
            "backgroundcolor": "#E5ECF6",
            "gridcolor": "white",
            "gridwidth": 2,
            "linecolor": "white",
            "showbackground": true,
            "ticks": "",
            "zerolinecolor": "white"
           }
          },
          "shapedefaults": {
           "line": {
            "color": "#2a3f5f"
           }
          },
          "ternary": {
           "aaxis": {
            "gridcolor": "white",
            "linecolor": "white",
            "ticks": ""
           },
           "baxis": {
            "gridcolor": "white",
            "linecolor": "white",
            "ticks": ""
           },
           "bgcolor": "#E5ECF6",
           "caxis": {
            "gridcolor": "white",
            "linecolor": "white",
            "ticks": ""
           }
          },
          "title": {
           "x": 0.05
          },
          "xaxis": {
           "automargin": true,
           "gridcolor": "white",
           "linecolor": "white",
           "ticks": "",
           "title": {
            "standoff": 15
           },
           "zerolinecolor": "white",
           "zerolinewidth": 2
          },
          "yaxis": {
           "automargin": true,
           "gridcolor": "white",
           "linecolor": "white",
           "ticks": "",
           "title": {
            "standoff": 15
           },
           "zerolinecolor": "white",
           "zerolinewidth": 2
          }
         }
        },
        "title": {
         "text": "Training Accuracy"
        },
        "xaxis": {
         "anchor": "y",
         "domain": [
          0,
          1
         ],
         "title": {
          "text": "Epochs"
         }
        },
        "yaxis": {
         "anchor": "x",
         "domain": [
          0,
          1
         ],
         "range": [
          0,
          1.2
         ],
         "title": {
          "text": "Accuracy"
         }
        }
       }
      },
      "text/html": [
       "<div>                            <div id=\"7e9fb73b-a485-4c2e-8d61-8be3c881ae7e\" class=\"plotly-graph-div\" style=\"height:525px; width:100%;\"></div>            <script type=\"text/javascript\">                require([\"plotly\"], function(Plotly) {                    window.PLOTLYENV=window.PLOTLYENV || {};                                    if (document.getElementById(\"7e9fb73b-a485-4c2e-8d61-8be3c881ae7e\")) {                    Plotly.newPlot(                        \"7e9fb73b-a485-4c2e-8d61-8be3c881ae7e\",                        [{\"hovertemplate\":\"index=%{x}\\u003cbr\\u003eaccuracy=%{y}\\u003cextra\\u003e\\u003c\\u002fextra\\u003e\",\"legendgroup\":\"\",\"line\":{\"color\":\"blue\",\"dash\":\"solid\"},\"marker\":{\"symbol\":\"circle\",\"color\":\"blue\"},\"mode\":\"lines+markers\",\"name\":\"Accuracy\",\"orientation\":\"v\",\"showlegend\":true,\"x\":[0,1,2,3,4,5,6,7,8,9,10,11,12,13,14,15,16,17,18,19,20,21,22,23,24,25,26,27,28,29,30,31,32,33,34,35,36,37,38,39,40,41,42,43,44,45,46,47,48,49,50,51,52,53,54,55,56,57,58,59],\"xaxis\":\"x\",\"y\":[0.20000000298023224,0.23773585259914398,0.23962263762950897,0.27358490228652954,0.2509433925151825,0.2622641623020172,0.33207547664642334,0.36226415634155273,0.3660377264022827,0.4150943458080292,0.4377358555793762,0.4433962404727936,0.505660355091095,0.5660377144813538,0.5471698045730591,0.5716981291770935,0.6188679337501526,0.6150943636894226,0.650943398475647,0.6641509532928467,0.6660377383232117,0.7132075428962708,0.7264150977134705,0.6867924332618713,0.7358490824699402,0.7830188870429993,0.7641509175300598,0.7716981172561646,0.7905660271644592,0.800000011920929,0.798113226890564,0.7886792421340942,0.7924528121948242,0.7716981172561646,0.8169811367988586,0.8150943517684937,0.850943386554718,0.8396226167678833,0.8245282769203186,0.8584905862808228,0.7924528121948242,0.798113226890564,0.7471697926521301,0.8264151215553284,0.8377358317375183,0.8622641563415527,0.8603773713111877,0.8660377264022827,0.854716956615448,0.8679245114326477,0.8660377264022827,0.8679245114326477,0.8849056363105774,0.8849056363105774,0.9075471758842468,0.8754717111587524,0.8754717111587524,0.8943396210670471,0.8962264060974121,0.9075471758842468],\"yaxis\":\"y\",\"type\":\"scatter\"},{\"hovertemplate\":\"index=%{x}\\u003cbr\\u003eval_accuracy=%{y}\\u003cextra\\u003e\\u003c\\u002fextra\\u003e\",\"legendgroup\":\"\",\"line\":{\"color\":\"orange\",\"dash\":\"solid\"},\"marker\":{\"color\":\"orange\",\"symbol\":\"circle\"},\"mode\":\"lines+markers\",\"name\":\"Validation Accuracy\",\"orientation\":\"v\",\"showlegend\":true,\"x\":[0,1,2,3,4,5,6,7,8,9,10,11,12,13,14,15,16,17,18,19,20,21,22,23,24,25,26,27,28,29,30,31,32,33,34,35,36,37,38,39,40,41,42,43,44,45,46,47,48,49,50,51,52,53,54,55,56,57,58,59],\"xaxis\":\"x\",\"y\":[0.24229075014591217,0.2070484608411789,0.2731277644634247,0.25550660490989685,0.2731277644634247,0.2951541841030121,0.36563876271247864,0.40528634190559387,0.458149790763855,0.4229075014591217,0.5198237895965576,0.5991189479827881,0.5770925283432007,0.5374449491500854,0.6431717872619629,0.6475771069526672,0.5947136282920837,0.6387665271759033,0.6784141063690186,0.6828193664550781,0.6784141063690186,0.6872246861457825,0.691629946231842,0.7136563658714294,0.7136563658714294,0.691629946231842,0.7136563658714294,0.7136563658714294,0.691629946231842,0.700440526008606,0.7268722653388977,0.7136563658714294,0.7444933652877808,0.7400881052017212,0.7224669456481934,0.7312775254249573,0.7444933652877808,0.7312775254249573,0.7400881052017212,0.7400881052017212,0.7356828451156616,0.6784141063690186,0.7533039450645447,0.7444933652877808,0.7533039450645447,0.7533039450645447,0.7929515242576599,0.7444933652877808,0.7621145248413086,0.757709264755249,0.7400881052017212,0.7709251046180725,0.7268722653388977,0.7488986849784851,0.7621145248413086,0.7709251046180725,0.7533039450645447,0.7488986849784851,0.7665198445320129,0.7621145248413086],\"yaxis\":\"y\",\"type\":\"scatter\"}],                        {\"template\":{\"data\":{\"histogram2dcontour\":[{\"type\":\"histogram2dcontour\",\"colorbar\":{\"outlinewidth\":0,\"ticks\":\"\"},\"colorscale\":[[0.0,\"#0d0887\"],[0.1111111111111111,\"#46039f\"],[0.2222222222222222,\"#7201a8\"],[0.3333333333333333,\"#9c179e\"],[0.4444444444444444,\"#bd3786\"],[0.5555555555555556,\"#d8576b\"],[0.6666666666666666,\"#ed7953\"],[0.7777777777777778,\"#fb9f3a\"],[0.8888888888888888,\"#fdca26\"],[1.0,\"#f0f921\"]]}],\"choropleth\":[{\"type\":\"choropleth\",\"colorbar\":{\"outlinewidth\":0,\"ticks\":\"\"}}],\"histogram2d\":[{\"type\":\"histogram2d\",\"colorbar\":{\"outlinewidth\":0,\"ticks\":\"\"},\"colorscale\":[[0.0,\"#0d0887\"],[0.1111111111111111,\"#46039f\"],[0.2222222222222222,\"#7201a8\"],[0.3333333333333333,\"#9c179e\"],[0.4444444444444444,\"#bd3786\"],[0.5555555555555556,\"#d8576b\"],[0.6666666666666666,\"#ed7953\"],[0.7777777777777778,\"#fb9f3a\"],[0.8888888888888888,\"#fdca26\"],[1.0,\"#f0f921\"]]}],\"heatmap\":[{\"type\":\"heatmap\",\"colorbar\":{\"outlinewidth\":0,\"ticks\":\"\"},\"colorscale\":[[0.0,\"#0d0887\"],[0.1111111111111111,\"#46039f\"],[0.2222222222222222,\"#7201a8\"],[0.3333333333333333,\"#9c179e\"],[0.4444444444444444,\"#bd3786\"],[0.5555555555555556,\"#d8576b\"],[0.6666666666666666,\"#ed7953\"],[0.7777777777777778,\"#fb9f3a\"],[0.8888888888888888,\"#fdca26\"],[1.0,\"#f0f921\"]]}],\"heatmapgl\":[{\"type\":\"heatmapgl\",\"colorbar\":{\"outlinewidth\":0,\"ticks\":\"\"},\"colorscale\":[[0.0,\"#0d0887\"],[0.1111111111111111,\"#46039f\"],[0.2222222222222222,\"#7201a8\"],[0.3333333333333333,\"#9c179e\"],[0.4444444444444444,\"#bd3786\"],[0.5555555555555556,\"#d8576b\"],[0.6666666666666666,\"#ed7953\"],[0.7777777777777778,\"#fb9f3a\"],[0.8888888888888888,\"#fdca26\"],[1.0,\"#f0f921\"]]}],\"contourcarpet\":[{\"type\":\"contourcarpet\",\"colorbar\":{\"outlinewidth\":0,\"ticks\":\"\"}}],\"contour\":[{\"type\":\"contour\",\"colorbar\":{\"outlinewidth\":0,\"ticks\":\"\"},\"colorscale\":[[0.0,\"#0d0887\"],[0.1111111111111111,\"#46039f\"],[0.2222222222222222,\"#7201a8\"],[0.3333333333333333,\"#9c179e\"],[0.4444444444444444,\"#bd3786\"],[0.5555555555555556,\"#d8576b\"],[0.6666666666666666,\"#ed7953\"],[0.7777777777777778,\"#fb9f3a\"],[0.8888888888888888,\"#fdca26\"],[1.0,\"#f0f921\"]]}],\"surface\":[{\"type\":\"surface\",\"colorbar\":{\"outlinewidth\":0,\"ticks\":\"\"},\"colorscale\":[[0.0,\"#0d0887\"],[0.1111111111111111,\"#46039f\"],[0.2222222222222222,\"#7201a8\"],[0.3333333333333333,\"#9c179e\"],[0.4444444444444444,\"#bd3786\"],[0.5555555555555556,\"#d8576b\"],[0.6666666666666666,\"#ed7953\"],[0.7777777777777778,\"#fb9f3a\"],[0.8888888888888888,\"#fdca26\"],[1.0,\"#f0f921\"]]}],\"mesh3d\":[{\"type\":\"mesh3d\",\"colorbar\":{\"outlinewidth\":0,\"ticks\":\"\"}}],\"scatter\":[{\"fillpattern\":{\"fillmode\":\"overlay\",\"size\":10,\"solidity\":0.2},\"type\":\"scatter\"}],\"parcoords\":[{\"type\":\"parcoords\",\"line\":{\"colorbar\":{\"outlinewidth\":0,\"ticks\":\"\"}}}],\"scatterpolargl\":[{\"type\":\"scatterpolargl\",\"marker\":{\"colorbar\":{\"outlinewidth\":0,\"ticks\":\"\"}}}],\"bar\":[{\"error_x\":{\"color\":\"#2a3f5f\"},\"error_y\":{\"color\":\"#2a3f5f\"},\"marker\":{\"line\":{\"color\":\"#E5ECF6\",\"width\":0.5},\"pattern\":{\"fillmode\":\"overlay\",\"size\":10,\"solidity\":0.2}},\"type\":\"bar\"}],\"scattergeo\":[{\"type\":\"scattergeo\",\"marker\":{\"colorbar\":{\"outlinewidth\":0,\"ticks\":\"\"}}}],\"scatterpolar\":[{\"type\":\"scatterpolar\",\"marker\":{\"colorbar\":{\"outlinewidth\":0,\"ticks\":\"\"}}}],\"histogram\":[{\"marker\":{\"pattern\":{\"fillmode\":\"overlay\",\"size\":10,\"solidity\":0.2}},\"type\":\"histogram\"}],\"scattergl\":[{\"type\":\"scattergl\",\"marker\":{\"colorbar\":{\"outlinewidth\":0,\"ticks\":\"\"}}}],\"scatter3d\":[{\"type\":\"scatter3d\",\"line\":{\"colorbar\":{\"outlinewidth\":0,\"ticks\":\"\"}},\"marker\":{\"colorbar\":{\"outlinewidth\":0,\"ticks\":\"\"}}}],\"scattermapbox\":[{\"type\":\"scattermapbox\",\"marker\":{\"colorbar\":{\"outlinewidth\":0,\"ticks\":\"\"}}}],\"scatterternary\":[{\"type\":\"scatterternary\",\"marker\":{\"colorbar\":{\"outlinewidth\":0,\"ticks\":\"\"}}}],\"scattercarpet\":[{\"type\":\"scattercarpet\",\"marker\":{\"colorbar\":{\"outlinewidth\":0,\"ticks\":\"\"}}}],\"carpet\":[{\"aaxis\":{\"endlinecolor\":\"#2a3f5f\",\"gridcolor\":\"white\",\"linecolor\":\"white\",\"minorgridcolor\":\"white\",\"startlinecolor\":\"#2a3f5f\"},\"baxis\":{\"endlinecolor\":\"#2a3f5f\",\"gridcolor\":\"white\",\"linecolor\":\"white\",\"minorgridcolor\":\"white\",\"startlinecolor\":\"#2a3f5f\"},\"type\":\"carpet\"}],\"table\":[{\"cells\":{\"fill\":{\"color\":\"#EBF0F8\"},\"line\":{\"color\":\"white\"}},\"header\":{\"fill\":{\"color\":\"#C8D4E3\"},\"line\":{\"color\":\"white\"}},\"type\":\"table\"}],\"barpolar\":[{\"marker\":{\"line\":{\"color\":\"#E5ECF6\",\"width\":0.5},\"pattern\":{\"fillmode\":\"overlay\",\"size\":10,\"solidity\":0.2}},\"type\":\"barpolar\"}],\"pie\":[{\"automargin\":true,\"type\":\"pie\"}]},\"layout\":{\"autotypenumbers\":\"strict\",\"colorway\":[\"#636efa\",\"#EF553B\",\"#00cc96\",\"#ab63fa\",\"#FFA15A\",\"#19d3f3\",\"#FF6692\",\"#B6E880\",\"#FF97FF\",\"#FECB52\"],\"font\":{\"color\":\"#2a3f5f\"},\"hovermode\":\"closest\",\"hoverlabel\":{\"align\":\"left\"},\"paper_bgcolor\":\"white\",\"plot_bgcolor\":\"#E5ECF6\",\"polar\":{\"bgcolor\":\"#E5ECF6\",\"angularaxis\":{\"gridcolor\":\"white\",\"linecolor\":\"white\",\"ticks\":\"\"},\"radialaxis\":{\"gridcolor\":\"white\",\"linecolor\":\"white\",\"ticks\":\"\"}},\"ternary\":{\"bgcolor\":\"#E5ECF6\",\"aaxis\":{\"gridcolor\":\"white\",\"linecolor\":\"white\",\"ticks\":\"\"},\"baxis\":{\"gridcolor\":\"white\",\"linecolor\":\"white\",\"ticks\":\"\"},\"caxis\":{\"gridcolor\":\"white\",\"linecolor\":\"white\",\"ticks\":\"\"}},\"coloraxis\":{\"colorbar\":{\"outlinewidth\":0,\"ticks\":\"\"}},\"colorscale\":{\"sequential\":[[0.0,\"#0d0887\"],[0.1111111111111111,\"#46039f\"],[0.2222222222222222,\"#7201a8\"],[0.3333333333333333,\"#9c179e\"],[0.4444444444444444,\"#bd3786\"],[0.5555555555555556,\"#d8576b\"],[0.6666666666666666,\"#ed7953\"],[0.7777777777777778,\"#fb9f3a\"],[0.8888888888888888,\"#fdca26\"],[1.0,\"#f0f921\"]],\"sequentialminus\":[[0.0,\"#0d0887\"],[0.1111111111111111,\"#46039f\"],[0.2222222222222222,\"#7201a8\"],[0.3333333333333333,\"#9c179e\"],[0.4444444444444444,\"#bd3786\"],[0.5555555555555556,\"#d8576b\"],[0.6666666666666666,\"#ed7953\"],[0.7777777777777778,\"#fb9f3a\"],[0.8888888888888888,\"#fdca26\"],[1.0,\"#f0f921\"]],\"diverging\":[[0,\"#8e0152\"],[0.1,\"#c51b7d\"],[0.2,\"#de77ae\"],[0.3,\"#f1b6da\"],[0.4,\"#fde0ef\"],[0.5,\"#f7f7f7\"],[0.6,\"#e6f5d0\"],[0.7,\"#b8e186\"],[0.8,\"#7fbc41\"],[0.9,\"#4d9221\"],[1,\"#276419\"]]},\"xaxis\":{\"gridcolor\":\"white\",\"linecolor\":\"white\",\"ticks\":\"\",\"title\":{\"standoff\":15},\"zerolinecolor\":\"white\",\"automargin\":true,\"zerolinewidth\":2},\"yaxis\":{\"gridcolor\":\"white\",\"linecolor\":\"white\",\"ticks\":\"\",\"title\":{\"standoff\":15},\"zerolinecolor\":\"white\",\"automargin\":true,\"zerolinewidth\":2},\"scene\":{\"xaxis\":{\"backgroundcolor\":\"#E5ECF6\",\"gridcolor\":\"white\",\"linecolor\":\"white\",\"showbackground\":true,\"ticks\":\"\",\"zerolinecolor\":\"white\",\"gridwidth\":2},\"yaxis\":{\"backgroundcolor\":\"#E5ECF6\",\"gridcolor\":\"white\",\"linecolor\":\"white\",\"showbackground\":true,\"ticks\":\"\",\"zerolinecolor\":\"white\",\"gridwidth\":2},\"zaxis\":{\"backgroundcolor\":\"#E5ECF6\",\"gridcolor\":\"white\",\"linecolor\":\"white\",\"showbackground\":true,\"ticks\":\"\",\"zerolinecolor\":\"white\",\"gridwidth\":2}},\"shapedefaults\":{\"line\":{\"color\":\"#2a3f5f\"}},\"annotationdefaults\":{\"arrowcolor\":\"#2a3f5f\",\"arrowhead\":0,\"arrowwidth\":1},\"geo\":{\"bgcolor\":\"white\",\"landcolor\":\"#E5ECF6\",\"subunitcolor\":\"white\",\"showland\":true,\"showlakes\":true,\"lakecolor\":\"white\"},\"title\":{\"x\":0.05},\"mapbox\":{\"style\":\"light\"}}},\"xaxis\":{\"anchor\":\"y\",\"domain\":[0.0,1.0],\"title\":{\"text\":\"Epochs\"}},\"yaxis\":{\"anchor\":\"x\",\"domain\":[0.0,1.0],\"title\":{\"text\":\"Accuracy\"},\"range\":[0,1.2]},\"legend\":{\"tracegroupgap\":0},\"title\":{\"text\":\"Training Accuracy\"},\"shapes\":[{\"label\":{\"font\":{\"color\":\"rgba(255, 165, 0, 1)\"},\"text\":\"Median Validation Accuracy (0.71)\",\"textposition\":\"start\"},\"line\":{\"color\":\"rgba(255, 165, 0, 0.5)\",\"dash\":\"dash\"},\"type\":\"line\",\"x0\":0,\"x1\":1,\"xref\":\"x domain\",\"y0\":0.7136563658714294,\"y1\":0.7136563658714294,\"yref\":\"y\"},{\"label\":{\"font\":{\"color\":\"rgba(0, 0, 255, 1)\"},\"text\":\"Median Accuracy (0.79)\",\"textposition\":\"start\"},\"line\":{\"color\":\"rgba(0, 0, 255, 0.5)\",\"dash\":\"dash\"},\"type\":\"line\",\"x0\":0,\"x1\":1,\"xref\":\"x domain\",\"y0\":0.7858490645885468,\"y1\":0.7858490645885468,\"yref\":\"y\"},{\"label\":{\"font\":{\"color\":\"rgba(255, 165, 0, 1)\"},\"text\":\"Max Validation Accuracy (0.79)\",\"textposition\":\"start\"},\"line\":{\"color\":\"rgba(255, 165, 0, 0.5)\",\"dash\":\"dash\"},\"type\":\"line\",\"x0\":0,\"x1\":1,\"xref\":\"x domain\",\"y0\":0.7929515242576599,\"y1\":0.7929515242576599,\"yref\":\"y\"},{\"label\":{\"font\":{\"color\":\"rgba(0, 0, 255, 1)\"},\"text\":\"Max Accuracy (0.91)\",\"textposition\":\"start\"},\"line\":{\"color\":\"rgba(0, 0, 255, 0.5)\",\"dash\":\"dash\"},\"type\":\"line\",\"x0\":0,\"x1\":1,\"xref\":\"x domain\",\"y0\":0.9075471758842468,\"y1\":0.9075471758842468,\"yref\":\"y\"}]},                        {\"responsive\": true}                    ).then(function(){\n",
       "                            \n",
       "var gd = document.getElementById('7e9fb73b-a485-4c2e-8d61-8be3c881ae7e');\n",
       "var x = new MutationObserver(function (mutations, observer) {{\n",
       "        var display = window.getComputedStyle(gd).display;\n",
       "        if (!display || display === 'none') {{\n",
       "            console.log([gd, 'removed!']);\n",
       "            Plotly.purge(gd);\n",
       "            observer.disconnect();\n",
       "        }}\n",
       "}});\n",
       "\n",
       "// Listen for the removal of the full notebook cells\n",
       "var notebookContainer = gd.closest('#notebook-container');\n",
       "if (notebookContainer) {{\n",
       "    x.observe(notebookContainer, {childList: true});\n",
       "}}\n",
       "\n",
       "// Listen for the clearing of the current output cell\n",
       "var outputEl = gd.closest('.output');\n",
       "if (outputEl) {{\n",
       "    x.observe(outputEl, {childList: true});\n",
       "}}\n",
       "\n",
       "                        })                };                });            </script>        </div>"
      ]
     },
     "metadata": {},
     "output_type": "display_data"
    }
   ],
   "source": [
    "history_df = pd.DataFrame(history.history)\n",
    "\n",
    "fig = px.line(history_df, x=history_df.index, y=\"accuracy\", markers=True, title=\"Training Accuracy\")\n",
    "fig2 = px.line(history_df, x=history_df.index, y=\"val_accuracy\", markers=True)\n",
    "\n",
    "fig.update_traces(dict(\n",
    "  marker=dict(\n",
    "    color=\"blue\"\n",
    "  ),\n",
    "  line=dict(\n",
    "    color=\"blue\",\n",
    "  ),\n",
    "))\n",
    "fig2.update_traces(dict(\n",
    "  marker=dict(\n",
    "    color=\"orange\"\n",
    "  ),\n",
    "  line=dict(\n",
    "    color=\"orange\",\n",
    "  ),\n",
    "))\n",
    "fig.add_traces(fig2.data)\n",
    "fig.data[0][\"name\"] = \"Accuracy\" # type: ignore\n",
    "fig.data[1][\"name\"] = \"Validation Accuracy\" # type: ignore\n",
    "fig.update_yaxes(dict(range=[0,1.2], title=\"Accuracy\"))\n",
    "fig.update_xaxes(dict(title=\"Epochs\"))\n",
    "\n",
    "lines = [\n",
    "  dict(y=history_df[\"val_accuracy\"].median(), is_validation=True, label=f\"Median Validation Accuracy\"),\n",
    "  dict(y=history_df[\"accuracy\"].median(), is_validation=False, label=f\"Median Accuracy\"),\n",
    "  dict(y=history_df[\"val_accuracy\"].max(), is_validation=True, label=f\"Max Validation Accuracy\"),\n",
    "  dict(y=history_df[\"accuracy\"].max(), is_validation=False, label=f\"Max Accuracy\"),\n",
    "]\n",
    "VALIDATION_COLOR = \"rgba(255, 165, 0,\"\n",
    "TRAINING_COLOR = \"rgba(0, 0, 255,\"\n",
    "for line in lines:\n",
    "  base_color = VALIDATION_COLOR if line['is_validation'] else TRAINING_COLOR\n",
    "  fig.add_hline(\n",
    "    y=line[\"y\"],\n",
    "    line_color=f\"{base_color} 0.5)\",\n",
    "    line_dash=\"dash\",\n",
    "    label=dict(text=f\"{line['label']} ({line['y']:.2f})\", textposition=\"start\", font=dict(color=f\"{base_color} 1)\")),\n",
    "  )\n",
    "\n",
    "fig.update_traces(dict(\n",
    "  showlegend=True\n",
    "))\n",
    "\n",
    "fig.show()"
   ]
  },
  {
   "cell_type": "code",
   "execution_count": 464,
   "metadata": {},
   "outputs": [
    {
     "data": {
      "application/vnd.plotly.v1+json": {
       "config": {
        "plotlyServerURL": "https://plot.ly"
       },
       "data": [
        {
         "hovertemplate": "index=%{x}<br>loss=%{y}<extra></extra>",
         "legendgroup": "",
         "line": {
          "color": "blue",
          "dash": "solid"
         },
         "marker": {
          "color": "blue",
          "symbol": "circle"
         },
         "mode": "lines+markers",
         "name": "Loss",
         "orientation": "v",
         "showlegend": true,
         "type": "scatter",
         "x": [
          0,
          1,
          2,
          3,
          4,
          5,
          6,
          7,
          8,
          9,
          10,
          11,
          12,
          13,
          14,
          15,
          16,
          17,
          18,
          19,
          20,
          21,
          22,
          23,
          24,
          25,
          26,
          27,
          28,
          29,
          30,
          31,
          32,
          33,
          34,
          35,
          36,
          37,
          38,
          39,
          40,
          41,
          42,
          43,
          44,
          45,
          46,
          47,
          48,
          49,
          50,
          51,
          52,
          53,
          54,
          55,
          56,
          57,
          58,
          59
         ],
         "xaxis": "x",
         "y": [
          1.791831135749817,
          1.7613033056259155,
          1.7635453939437866,
          1.7302528619766235,
          1.7215845584869385,
          1.7239819765090942,
          1.6417797803878784,
          1.5732187032699585,
          1.5347360372543335,
          1.4878848791122437,
          1.4243255853652954,
          1.3874872922897339,
          1.2654792070388794,
          1.1362844705581665,
          1.1289969682693481,
          1.0921324491500854,
          1.0219603776931763,
          1.0145164728164673,
          0.9020065069198608,
          0.8968327045440674,
          0.8415842056274414,
          0.7756835222244263,
          0.7171173095703125,
          0.7833856344223022,
          0.7391960024833679,
          0.6028187870979309,
          0.642436146736145,
          0.5983099937438965,
          0.5466547012329102,
          0.5883098244667053,
          0.5629696249961853,
          0.6025638580322266,
          0.5633500814437866,
          0.5667519569396973,
          0.4773569405078888,
          0.45567530393600464,
          0.4393916726112366,
          0.469709187746048,
          0.49359768629074097,
          0.40727511048316956,
          0.5479768514633179,
          0.53704434633255,
          0.6393957734107971,
          0.46423208713531494,
          0.4476751387119293,
          0.37966427206993103,
          0.40104275941848755,
          0.3427325487136841,
          0.37033554911613464,
          0.3396035134792328,
          0.3416215777397156,
          0.3502471148967743,
          0.31501081585884094,
          0.3296250104904175,
          0.2630380690097809,
          0.3208537697792053,
          0.3139350116252899,
          0.2582308351993561,
          0.2810384929180145,
          0.2493390291929245
         ],
         "yaxis": "y"
        },
        {
         "hovertemplate": "index=%{x}<br>val_loss=%{y}<extra></extra>",
         "legendgroup": "",
         "line": {
          "color": "orange",
          "dash": "solid"
         },
         "marker": {
          "color": "orange",
          "symbol": "circle"
         },
         "mode": "lines+markers",
         "name": "Validation Loss",
         "orientation": "v",
         "showlegend": true,
         "type": "scatter",
         "x": [
          0,
          1,
          2,
          3,
          4,
          5,
          6,
          7,
          8,
          9,
          10,
          11,
          12,
          13,
          14,
          15,
          16,
          17,
          18,
          19,
          20,
          21,
          22,
          23,
          24,
          25,
          26,
          27,
          28,
          29,
          30,
          31,
          32,
          33,
          34,
          35,
          36,
          37,
          38,
          39,
          40,
          41,
          42,
          43,
          44,
          45,
          46,
          47,
          48,
          49,
          50,
          51,
          52,
          53,
          54,
          55,
          56,
          57,
          58,
          59
         ],
         "xaxis": "x",
         "y": [
          1.7574955224990845,
          1.748963713645935,
          1.7253159284591675,
          1.7041213512420654,
          1.6852638721466064,
          1.6749144792556763,
          1.6131322383880615,
          1.5508145093917847,
          1.4978222846984863,
          1.5266687870025635,
          1.3231161832809448,
          1.2611768245697021,
          1.2045286893844604,
          1.2383531332015991,
          1.1284656524658203,
          1.0942994356155396,
          1.069801688194275,
          1.048890471458435,
          0.9546021223068237,
          0.985223114490509,
          0.9375756978988647,
          0.9284143447875977,
          0.9302316904067993,
          0.8534548878669739,
          0.8722653985023499,
          0.871436595916748,
          0.913202702999115,
          0.8791823983192444,
          0.8564760088920593,
          0.9324465990066528,
          0.8499934077262878,
          0.9751314520835876,
          0.8277284502983093,
          0.8545181155204773,
          0.9207134246826172,
          0.8620689511299133,
          0.8512023091316223,
          0.8914311528205872,
          0.8744843006134033,
          0.871200442314148,
          0.9386236667633057,
          0.9591008424758911,
          0.8455321788787842,
          0.8368265628814697,
          0.833046019077301,
          0.784839928150177,
          0.7897361516952515,
          0.8835101127624512,
          0.8192965388298035,
          0.8614020943641663,
          0.8360611796379089,
          0.8572999835014343,
          0.9445875883102417,
          0.9250421524047852,
          0.9574821591377258,
          0.9476078152656555,
          0.9022637009620667,
          1.1564358472824097,
          0.996744692325592,
          0.9972848892211914
         ],
         "yaxis": "y"
        }
       ],
       "layout": {
        "legend": {
         "tracegroupgap": 0
        },
        "shapes": [
         {
          "label": {
           "font": {
            "color": "rgba(255, 165, 0, 1)"
           },
           "text": "Median Validation Loss (0.94)",
           "textposition": "start"
          },
          "line": {
           "color": "rgba(255, 165, 0, 0.5)",
           "dash": "dash"
          },
          "type": "line",
          "x0": 0,
          "x1": 1,
          "xref": "x domain",
          "y0": 0.9350111484527588,
          "y1": 0.9350111484527588,
          "yref": "y"
         },
         {
          "label": {
           "font": {
            "color": "rgba(0, 0, 255, 1)"
           },
           "text": "Median Loss (0.59)",
           "textposition": "start"
          },
          "line": {
           "color": "rgba(0, 0, 255, 0.5)",
           "dash": "dash"
          },
          "type": "line",
          "x0": 0,
          "x1": 1,
          "xref": "x domain",
          "y0": 0.5933099091053009,
          "y1": 0.5933099091053009,
          "yref": "y"
         },
         {
          "label": {
           "font": {
            "color": "rgba(255, 165, 0, 1)"
           },
           "text": "Min Validation Loss (0.78)",
           "textposition": "start"
          },
          "line": {
           "color": "rgba(255, 165, 0, 0.5)",
           "dash": "dash"
          },
          "type": "line",
          "x0": 0,
          "x1": 1,
          "xref": "x domain",
          "y0": 0.784839928150177,
          "y1": 0.784839928150177,
          "yref": "y"
         },
         {
          "label": {
           "font": {
            "color": "rgba(0, 0, 255, 1)"
           },
           "text": "Min Loss (0.25)",
           "textposition": "start"
          },
          "line": {
           "color": "rgba(0, 0, 255, 0.5)",
           "dash": "dash"
          },
          "type": "line",
          "x0": 0,
          "x1": 1,
          "xref": "x domain",
          "y0": 0.2493390291929245,
          "y1": 0.2493390291929245,
          "yref": "y"
         }
        ],
        "template": {
         "data": {
          "bar": [
           {
            "error_x": {
             "color": "#2a3f5f"
            },
            "error_y": {
             "color": "#2a3f5f"
            },
            "marker": {
             "line": {
              "color": "#E5ECF6",
              "width": 0.5
             },
             "pattern": {
              "fillmode": "overlay",
              "size": 10,
              "solidity": 0.2
             }
            },
            "type": "bar"
           }
          ],
          "barpolar": [
           {
            "marker": {
             "line": {
              "color": "#E5ECF6",
              "width": 0.5
             },
             "pattern": {
              "fillmode": "overlay",
              "size": 10,
              "solidity": 0.2
             }
            },
            "type": "barpolar"
           }
          ],
          "carpet": [
           {
            "aaxis": {
             "endlinecolor": "#2a3f5f",
             "gridcolor": "white",
             "linecolor": "white",
             "minorgridcolor": "white",
             "startlinecolor": "#2a3f5f"
            },
            "baxis": {
             "endlinecolor": "#2a3f5f",
             "gridcolor": "white",
             "linecolor": "white",
             "minorgridcolor": "white",
             "startlinecolor": "#2a3f5f"
            },
            "type": "carpet"
           }
          ],
          "choropleth": [
           {
            "colorbar": {
             "outlinewidth": 0,
             "ticks": ""
            },
            "type": "choropleth"
           }
          ],
          "contour": [
           {
            "colorbar": {
             "outlinewidth": 0,
             "ticks": ""
            },
            "colorscale": [
             [
              0,
              "#0d0887"
             ],
             [
              0.1111111111111111,
              "#46039f"
             ],
             [
              0.2222222222222222,
              "#7201a8"
             ],
             [
              0.3333333333333333,
              "#9c179e"
             ],
             [
              0.4444444444444444,
              "#bd3786"
             ],
             [
              0.5555555555555556,
              "#d8576b"
             ],
             [
              0.6666666666666666,
              "#ed7953"
             ],
             [
              0.7777777777777778,
              "#fb9f3a"
             ],
             [
              0.8888888888888888,
              "#fdca26"
             ],
             [
              1,
              "#f0f921"
             ]
            ],
            "type": "contour"
           }
          ],
          "contourcarpet": [
           {
            "colorbar": {
             "outlinewidth": 0,
             "ticks": ""
            },
            "type": "contourcarpet"
           }
          ],
          "heatmap": [
           {
            "colorbar": {
             "outlinewidth": 0,
             "ticks": ""
            },
            "colorscale": [
             [
              0,
              "#0d0887"
             ],
             [
              0.1111111111111111,
              "#46039f"
             ],
             [
              0.2222222222222222,
              "#7201a8"
             ],
             [
              0.3333333333333333,
              "#9c179e"
             ],
             [
              0.4444444444444444,
              "#bd3786"
             ],
             [
              0.5555555555555556,
              "#d8576b"
             ],
             [
              0.6666666666666666,
              "#ed7953"
             ],
             [
              0.7777777777777778,
              "#fb9f3a"
             ],
             [
              0.8888888888888888,
              "#fdca26"
             ],
             [
              1,
              "#f0f921"
             ]
            ],
            "type": "heatmap"
           }
          ],
          "heatmapgl": [
           {
            "colorbar": {
             "outlinewidth": 0,
             "ticks": ""
            },
            "colorscale": [
             [
              0,
              "#0d0887"
             ],
             [
              0.1111111111111111,
              "#46039f"
             ],
             [
              0.2222222222222222,
              "#7201a8"
             ],
             [
              0.3333333333333333,
              "#9c179e"
             ],
             [
              0.4444444444444444,
              "#bd3786"
             ],
             [
              0.5555555555555556,
              "#d8576b"
             ],
             [
              0.6666666666666666,
              "#ed7953"
             ],
             [
              0.7777777777777778,
              "#fb9f3a"
             ],
             [
              0.8888888888888888,
              "#fdca26"
             ],
             [
              1,
              "#f0f921"
             ]
            ],
            "type": "heatmapgl"
           }
          ],
          "histogram": [
           {
            "marker": {
             "pattern": {
              "fillmode": "overlay",
              "size": 10,
              "solidity": 0.2
             }
            },
            "type": "histogram"
           }
          ],
          "histogram2d": [
           {
            "colorbar": {
             "outlinewidth": 0,
             "ticks": ""
            },
            "colorscale": [
             [
              0,
              "#0d0887"
             ],
             [
              0.1111111111111111,
              "#46039f"
             ],
             [
              0.2222222222222222,
              "#7201a8"
             ],
             [
              0.3333333333333333,
              "#9c179e"
             ],
             [
              0.4444444444444444,
              "#bd3786"
             ],
             [
              0.5555555555555556,
              "#d8576b"
             ],
             [
              0.6666666666666666,
              "#ed7953"
             ],
             [
              0.7777777777777778,
              "#fb9f3a"
             ],
             [
              0.8888888888888888,
              "#fdca26"
             ],
             [
              1,
              "#f0f921"
             ]
            ],
            "type": "histogram2d"
           }
          ],
          "histogram2dcontour": [
           {
            "colorbar": {
             "outlinewidth": 0,
             "ticks": ""
            },
            "colorscale": [
             [
              0,
              "#0d0887"
             ],
             [
              0.1111111111111111,
              "#46039f"
             ],
             [
              0.2222222222222222,
              "#7201a8"
             ],
             [
              0.3333333333333333,
              "#9c179e"
             ],
             [
              0.4444444444444444,
              "#bd3786"
             ],
             [
              0.5555555555555556,
              "#d8576b"
             ],
             [
              0.6666666666666666,
              "#ed7953"
             ],
             [
              0.7777777777777778,
              "#fb9f3a"
             ],
             [
              0.8888888888888888,
              "#fdca26"
             ],
             [
              1,
              "#f0f921"
             ]
            ],
            "type": "histogram2dcontour"
           }
          ],
          "mesh3d": [
           {
            "colorbar": {
             "outlinewidth": 0,
             "ticks": ""
            },
            "type": "mesh3d"
           }
          ],
          "parcoords": [
           {
            "line": {
             "colorbar": {
              "outlinewidth": 0,
              "ticks": ""
             }
            },
            "type": "parcoords"
           }
          ],
          "pie": [
           {
            "automargin": true,
            "type": "pie"
           }
          ],
          "scatter": [
           {
            "fillpattern": {
             "fillmode": "overlay",
             "size": 10,
             "solidity": 0.2
            },
            "type": "scatter"
           }
          ],
          "scatter3d": [
           {
            "line": {
             "colorbar": {
              "outlinewidth": 0,
              "ticks": ""
             }
            },
            "marker": {
             "colorbar": {
              "outlinewidth": 0,
              "ticks": ""
             }
            },
            "type": "scatter3d"
           }
          ],
          "scattercarpet": [
           {
            "marker": {
             "colorbar": {
              "outlinewidth": 0,
              "ticks": ""
             }
            },
            "type": "scattercarpet"
           }
          ],
          "scattergeo": [
           {
            "marker": {
             "colorbar": {
              "outlinewidth": 0,
              "ticks": ""
             }
            },
            "type": "scattergeo"
           }
          ],
          "scattergl": [
           {
            "marker": {
             "colorbar": {
              "outlinewidth": 0,
              "ticks": ""
             }
            },
            "type": "scattergl"
           }
          ],
          "scattermapbox": [
           {
            "marker": {
             "colorbar": {
              "outlinewidth": 0,
              "ticks": ""
             }
            },
            "type": "scattermapbox"
           }
          ],
          "scatterpolar": [
           {
            "marker": {
             "colorbar": {
              "outlinewidth": 0,
              "ticks": ""
             }
            },
            "type": "scatterpolar"
           }
          ],
          "scatterpolargl": [
           {
            "marker": {
             "colorbar": {
              "outlinewidth": 0,
              "ticks": ""
             }
            },
            "type": "scatterpolargl"
           }
          ],
          "scatterternary": [
           {
            "marker": {
             "colorbar": {
              "outlinewidth": 0,
              "ticks": ""
             }
            },
            "type": "scatterternary"
           }
          ],
          "surface": [
           {
            "colorbar": {
             "outlinewidth": 0,
             "ticks": ""
            },
            "colorscale": [
             [
              0,
              "#0d0887"
             ],
             [
              0.1111111111111111,
              "#46039f"
             ],
             [
              0.2222222222222222,
              "#7201a8"
             ],
             [
              0.3333333333333333,
              "#9c179e"
             ],
             [
              0.4444444444444444,
              "#bd3786"
             ],
             [
              0.5555555555555556,
              "#d8576b"
             ],
             [
              0.6666666666666666,
              "#ed7953"
             ],
             [
              0.7777777777777778,
              "#fb9f3a"
             ],
             [
              0.8888888888888888,
              "#fdca26"
             ],
             [
              1,
              "#f0f921"
             ]
            ],
            "type": "surface"
           }
          ],
          "table": [
           {
            "cells": {
             "fill": {
              "color": "#EBF0F8"
             },
             "line": {
              "color": "white"
             }
            },
            "header": {
             "fill": {
              "color": "#C8D4E3"
             },
             "line": {
              "color": "white"
             }
            },
            "type": "table"
           }
          ]
         },
         "layout": {
          "annotationdefaults": {
           "arrowcolor": "#2a3f5f",
           "arrowhead": 0,
           "arrowwidth": 1
          },
          "autotypenumbers": "strict",
          "coloraxis": {
           "colorbar": {
            "outlinewidth": 0,
            "ticks": ""
           }
          },
          "colorscale": {
           "diverging": [
            [
             0,
             "#8e0152"
            ],
            [
             0.1,
             "#c51b7d"
            ],
            [
             0.2,
             "#de77ae"
            ],
            [
             0.3,
             "#f1b6da"
            ],
            [
             0.4,
             "#fde0ef"
            ],
            [
             0.5,
             "#f7f7f7"
            ],
            [
             0.6,
             "#e6f5d0"
            ],
            [
             0.7,
             "#b8e186"
            ],
            [
             0.8,
             "#7fbc41"
            ],
            [
             0.9,
             "#4d9221"
            ],
            [
             1,
             "#276419"
            ]
           ],
           "sequential": [
            [
             0,
             "#0d0887"
            ],
            [
             0.1111111111111111,
             "#46039f"
            ],
            [
             0.2222222222222222,
             "#7201a8"
            ],
            [
             0.3333333333333333,
             "#9c179e"
            ],
            [
             0.4444444444444444,
             "#bd3786"
            ],
            [
             0.5555555555555556,
             "#d8576b"
            ],
            [
             0.6666666666666666,
             "#ed7953"
            ],
            [
             0.7777777777777778,
             "#fb9f3a"
            ],
            [
             0.8888888888888888,
             "#fdca26"
            ],
            [
             1,
             "#f0f921"
            ]
           ],
           "sequentialminus": [
            [
             0,
             "#0d0887"
            ],
            [
             0.1111111111111111,
             "#46039f"
            ],
            [
             0.2222222222222222,
             "#7201a8"
            ],
            [
             0.3333333333333333,
             "#9c179e"
            ],
            [
             0.4444444444444444,
             "#bd3786"
            ],
            [
             0.5555555555555556,
             "#d8576b"
            ],
            [
             0.6666666666666666,
             "#ed7953"
            ],
            [
             0.7777777777777778,
             "#fb9f3a"
            ],
            [
             0.8888888888888888,
             "#fdca26"
            ],
            [
             1,
             "#f0f921"
            ]
           ]
          },
          "colorway": [
           "#636efa",
           "#EF553B",
           "#00cc96",
           "#ab63fa",
           "#FFA15A",
           "#19d3f3",
           "#FF6692",
           "#B6E880",
           "#FF97FF",
           "#FECB52"
          ],
          "font": {
           "color": "#2a3f5f"
          },
          "geo": {
           "bgcolor": "white",
           "lakecolor": "white",
           "landcolor": "#E5ECF6",
           "showlakes": true,
           "showland": true,
           "subunitcolor": "white"
          },
          "hoverlabel": {
           "align": "left"
          },
          "hovermode": "closest",
          "mapbox": {
           "style": "light"
          },
          "paper_bgcolor": "white",
          "plot_bgcolor": "#E5ECF6",
          "polar": {
           "angularaxis": {
            "gridcolor": "white",
            "linecolor": "white",
            "ticks": ""
           },
           "bgcolor": "#E5ECF6",
           "radialaxis": {
            "gridcolor": "white",
            "linecolor": "white",
            "ticks": ""
           }
          },
          "scene": {
           "xaxis": {
            "backgroundcolor": "#E5ECF6",
            "gridcolor": "white",
            "gridwidth": 2,
            "linecolor": "white",
            "showbackground": true,
            "ticks": "",
            "zerolinecolor": "white"
           },
           "yaxis": {
            "backgroundcolor": "#E5ECF6",
            "gridcolor": "white",
            "gridwidth": 2,
            "linecolor": "white",
            "showbackground": true,
            "ticks": "",
            "zerolinecolor": "white"
           },
           "zaxis": {
            "backgroundcolor": "#E5ECF6",
            "gridcolor": "white",
            "gridwidth": 2,
            "linecolor": "white",
            "showbackground": true,
            "ticks": "",
            "zerolinecolor": "white"
           }
          },
          "shapedefaults": {
           "line": {
            "color": "#2a3f5f"
           }
          },
          "ternary": {
           "aaxis": {
            "gridcolor": "white",
            "linecolor": "white",
            "ticks": ""
           },
           "baxis": {
            "gridcolor": "white",
            "linecolor": "white",
            "ticks": ""
           },
           "bgcolor": "#E5ECF6",
           "caxis": {
            "gridcolor": "white",
            "linecolor": "white",
            "ticks": ""
           }
          },
          "title": {
           "x": 0.05
          },
          "xaxis": {
           "automargin": true,
           "gridcolor": "white",
           "linecolor": "white",
           "ticks": "",
           "title": {
            "standoff": 15
           },
           "zerolinecolor": "white",
           "zerolinewidth": 2
          },
          "yaxis": {
           "automargin": true,
           "gridcolor": "white",
           "linecolor": "white",
           "ticks": "",
           "title": {
            "standoff": 15
           },
           "zerolinecolor": "white",
           "zerolinewidth": 2
          }
         }
        },
        "title": {
         "text": "Training Loss"
        },
        "xaxis": {
         "anchor": "y",
         "domain": [
          0,
          1
         ],
         "title": {
          "text": "index"
         }
        },
        "yaxis": {
         "anchor": "x",
         "domain": [
          0,
          1
         ],
         "title": {
          "text": "loss"
         }
        }
       }
      },
      "text/html": [
       "<div>                            <div id=\"4b6c4d05-952c-4504-9503-ac18176a8096\" class=\"plotly-graph-div\" style=\"height:525px; width:100%;\"></div>            <script type=\"text/javascript\">                require([\"plotly\"], function(Plotly) {                    window.PLOTLYENV=window.PLOTLYENV || {};                                    if (document.getElementById(\"4b6c4d05-952c-4504-9503-ac18176a8096\")) {                    Plotly.newPlot(                        \"4b6c4d05-952c-4504-9503-ac18176a8096\",                        [{\"hovertemplate\":\"index=%{x}\\u003cbr\\u003eloss=%{y}\\u003cextra\\u003e\\u003c\\u002fextra\\u003e\",\"legendgroup\":\"\",\"line\":{\"color\":\"blue\",\"dash\":\"solid\"},\"marker\":{\"symbol\":\"circle\",\"color\":\"blue\"},\"mode\":\"lines+markers\",\"name\":\"Loss\",\"orientation\":\"v\",\"showlegend\":true,\"x\":[0,1,2,3,4,5,6,7,8,9,10,11,12,13,14,15,16,17,18,19,20,21,22,23,24,25,26,27,28,29,30,31,32,33,34,35,36,37,38,39,40,41,42,43,44,45,46,47,48,49,50,51,52,53,54,55,56,57,58,59],\"xaxis\":\"x\",\"y\":[1.791831135749817,1.7613033056259155,1.7635453939437866,1.7302528619766235,1.7215845584869385,1.7239819765090942,1.6417797803878784,1.5732187032699585,1.5347360372543335,1.4878848791122437,1.4243255853652954,1.3874872922897339,1.2654792070388794,1.1362844705581665,1.1289969682693481,1.0921324491500854,1.0219603776931763,1.0145164728164673,0.9020065069198608,0.8968327045440674,0.8415842056274414,0.7756835222244263,0.7171173095703125,0.7833856344223022,0.7391960024833679,0.6028187870979309,0.642436146736145,0.5983099937438965,0.5466547012329102,0.5883098244667053,0.5629696249961853,0.6025638580322266,0.5633500814437866,0.5667519569396973,0.4773569405078888,0.45567530393600464,0.4393916726112366,0.469709187746048,0.49359768629074097,0.40727511048316956,0.5479768514633179,0.53704434633255,0.6393957734107971,0.46423208713531494,0.4476751387119293,0.37966427206993103,0.40104275941848755,0.3427325487136841,0.37033554911613464,0.3396035134792328,0.3416215777397156,0.3502471148967743,0.31501081585884094,0.3296250104904175,0.2630380690097809,0.3208537697792053,0.3139350116252899,0.2582308351993561,0.2810384929180145,0.2493390291929245],\"yaxis\":\"y\",\"type\":\"scatter\"},{\"hovertemplate\":\"index=%{x}\\u003cbr\\u003eval_loss=%{y}\\u003cextra\\u003e\\u003c\\u002fextra\\u003e\",\"legendgroup\":\"\",\"line\":{\"color\":\"orange\",\"dash\":\"solid\"},\"marker\":{\"color\":\"orange\",\"symbol\":\"circle\"},\"mode\":\"lines+markers\",\"name\":\"Validation Loss\",\"orientation\":\"v\",\"showlegend\":true,\"x\":[0,1,2,3,4,5,6,7,8,9,10,11,12,13,14,15,16,17,18,19,20,21,22,23,24,25,26,27,28,29,30,31,32,33,34,35,36,37,38,39,40,41,42,43,44,45,46,47,48,49,50,51,52,53,54,55,56,57,58,59],\"xaxis\":\"x\",\"y\":[1.7574955224990845,1.748963713645935,1.7253159284591675,1.7041213512420654,1.6852638721466064,1.6749144792556763,1.6131322383880615,1.5508145093917847,1.4978222846984863,1.5266687870025635,1.3231161832809448,1.2611768245697021,1.2045286893844604,1.2383531332015991,1.1284656524658203,1.0942994356155396,1.069801688194275,1.048890471458435,0.9546021223068237,0.985223114490509,0.9375756978988647,0.9284143447875977,0.9302316904067993,0.8534548878669739,0.8722653985023499,0.871436595916748,0.913202702999115,0.8791823983192444,0.8564760088920593,0.9324465990066528,0.8499934077262878,0.9751314520835876,0.8277284502983093,0.8545181155204773,0.9207134246826172,0.8620689511299133,0.8512023091316223,0.8914311528205872,0.8744843006134033,0.871200442314148,0.9386236667633057,0.9591008424758911,0.8455321788787842,0.8368265628814697,0.833046019077301,0.784839928150177,0.7897361516952515,0.8835101127624512,0.8192965388298035,0.8614020943641663,0.8360611796379089,0.8572999835014343,0.9445875883102417,0.9250421524047852,0.9574821591377258,0.9476078152656555,0.9022637009620667,1.1564358472824097,0.996744692325592,0.9972848892211914],\"yaxis\":\"y\",\"type\":\"scatter\"}],                        {\"template\":{\"data\":{\"histogram2dcontour\":[{\"type\":\"histogram2dcontour\",\"colorbar\":{\"outlinewidth\":0,\"ticks\":\"\"},\"colorscale\":[[0.0,\"#0d0887\"],[0.1111111111111111,\"#46039f\"],[0.2222222222222222,\"#7201a8\"],[0.3333333333333333,\"#9c179e\"],[0.4444444444444444,\"#bd3786\"],[0.5555555555555556,\"#d8576b\"],[0.6666666666666666,\"#ed7953\"],[0.7777777777777778,\"#fb9f3a\"],[0.8888888888888888,\"#fdca26\"],[1.0,\"#f0f921\"]]}],\"choropleth\":[{\"type\":\"choropleth\",\"colorbar\":{\"outlinewidth\":0,\"ticks\":\"\"}}],\"histogram2d\":[{\"type\":\"histogram2d\",\"colorbar\":{\"outlinewidth\":0,\"ticks\":\"\"},\"colorscale\":[[0.0,\"#0d0887\"],[0.1111111111111111,\"#46039f\"],[0.2222222222222222,\"#7201a8\"],[0.3333333333333333,\"#9c179e\"],[0.4444444444444444,\"#bd3786\"],[0.5555555555555556,\"#d8576b\"],[0.6666666666666666,\"#ed7953\"],[0.7777777777777778,\"#fb9f3a\"],[0.8888888888888888,\"#fdca26\"],[1.0,\"#f0f921\"]]}],\"heatmap\":[{\"type\":\"heatmap\",\"colorbar\":{\"outlinewidth\":0,\"ticks\":\"\"},\"colorscale\":[[0.0,\"#0d0887\"],[0.1111111111111111,\"#46039f\"],[0.2222222222222222,\"#7201a8\"],[0.3333333333333333,\"#9c179e\"],[0.4444444444444444,\"#bd3786\"],[0.5555555555555556,\"#d8576b\"],[0.6666666666666666,\"#ed7953\"],[0.7777777777777778,\"#fb9f3a\"],[0.8888888888888888,\"#fdca26\"],[1.0,\"#f0f921\"]]}],\"heatmapgl\":[{\"type\":\"heatmapgl\",\"colorbar\":{\"outlinewidth\":0,\"ticks\":\"\"},\"colorscale\":[[0.0,\"#0d0887\"],[0.1111111111111111,\"#46039f\"],[0.2222222222222222,\"#7201a8\"],[0.3333333333333333,\"#9c179e\"],[0.4444444444444444,\"#bd3786\"],[0.5555555555555556,\"#d8576b\"],[0.6666666666666666,\"#ed7953\"],[0.7777777777777778,\"#fb9f3a\"],[0.8888888888888888,\"#fdca26\"],[1.0,\"#f0f921\"]]}],\"contourcarpet\":[{\"type\":\"contourcarpet\",\"colorbar\":{\"outlinewidth\":0,\"ticks\":\"\"}}],\"contour\":[{\"type\":\"contour\",\"colorbar\":{\"outlinewidth\":0,\"ticks\":\"\"},\"colorscale\":[[0.0,\"#0d0887\"],[0.1111111111111111,\"#46039f\"],[0.2222222222222222,\"#7201a8\"],[0.3333333333333333,\"#9c179e\"],[0.4444444444444444,\"#bd3786\"],[0.5555555555555556,\"#d8576b\"],[0.6666666666666666,\"#ed7953\"],[0.7777777777777778,\"#fb9f3a\"],[0.8888888888888888,\"#fdca26\"],[1.0,\"#f0f921\"]]}],\"surface\":[{\"type\":\"surface\",\"colorbar\":{\"outlinewidth\":0,\"ticks\":\"\"},\"colorscale\":[[0.0,\"#0d0887\"],[0.1111111111111111,\"#46039f\"],[0.2222222222222222,\"#7201a8\"],[0.3333333333333333,\"#9c179e\"],[0.4444444444444444,\"#bd3786\"],[0.5555555555555556,\"#d8576b\"],[0.6666666666666666,\"#ed7953\"],[0.7777777777777778,\"#fb9f3a\"],[0.8888888888888888,\"#fdca26\"],[1.0,\"#f0f921\"]]}],\"mesh3d\":[{\"type\":\"mesh3d\",\"colorbar\":{\"outlinewidth\":0,\"ticks\":\"\"}}],\"scatter\":[{\"fillpattern\":{\"fillmode\":\"overlay\",\"size\":10,\"solidity\":0.2},\"type\":\"scatter\"}],\"parcoords\":[{\"type\":\"parcoords\",\"line\":{\"colorbar\":{\"outlinewidth\":0,\"ticks\":\"\"}}}],\"scatterpolargl\":[{\"type\":\"scatterpolargl\",\"marker\":{\"colorbar\":{\"outlinewidth\":0,\"ticks\":\"\"}}}],\"bar\":[{\"error_x\":{\"color\":\"#2a3f5f\"},\"error_y\":{\"color\":\"#2a3f5f\"},\"marker\":{\"line\":{\"color\":\"#E5ECF6\",\"width\":0.5},\"pattern\":{\"fillmode\":\"overlay\",\"size\":10,\"solidity\":0.2}},\"type\":\"bar\"}],\"scattergeo\":[{\"type\":\"scattergeo\",\"marker\":{\"colorbar\":{\"outlinewidth\":0,\"ticks\":\"\"}}}],\"scatterpolar\":[{\"type\":\"scatterpolar\",\"marker\":{\"colorbar\":{\"outlinewidth\":0,\"ticks\":\"\"}}}],\"histogram\":[{\"marker\":{\"pattern\":{\"fillmode\":\"overlay\",\"size\":10,\"solidity\":0.2}},\"type\":\"histogram\"}],\"scattergl\":[{\"type\":\"scattergl\",\"marker\":{\"colorbar\":{\"outlinewidth\":0,\"ticks\":\"\"}}}],\"scatter3d\":[{\"type\":\"scatter3d\",\"line\":{\"colorbar\":{\"outlinewidth\":0,\"ticks\":\"\"}},\"marker\":{\"colorbar\":{\"outlinewidth\":0,\"ticks\":\"\"}}}],\"scattermapbox\":[{\"type\":\"scattermapbox\",\"marker\":{\"colorbar\":{\"outlinewidth\":0,\"ticks\":\"\"}}}],\"scatterternary\":[{\"type\":\"scatterternary\",\"marker\":{\"colorbar\":{\"outlinewidth\":0,\"ticks\":\"\"}}}],\"scattercarpet\":[{\"type\":\"scattercarpet\",\"marker\":{\"colorbar\":{\"outlinewidth\":0,\"ticks\":\"\"}}}],\"carpet\":[{\"aaxis\":{\"endlinecolor\":\"#2a3f5f\",\"gridcolor\":\"white\",\"linecolor\":\"white\",\"minorgridcolor\":\"white\",\"startlinecolor\":\"#2a3f5f\"},\"baxis\":{\"endlinecolor\":\"#2a3f5f\",\"gridcolor\":\"white\",\"linecolor\":\"white\",\"minorgridcolor\":\"white\",\"startlinecolor\":\"#2a3f5f\"},\"type\":\"carpet\"}],\"table\":[{\"cells\":{\"fill\":{\"color\":\"#EBF0F8\"},\"line\":{\"color\":\"white\"}},\"header\":{\"fill\":{\"color\":\"#C8D4E3\"},\"line\":{\"color\":\"white\"}},\"type\":\"table\"}],\"barpolar\":[{\"marker\":{\"line\":{\"color\":\"#E5ECF6\",\"width\":0.5},\"pattern\":{\"fillmode\":\"overlay\",\"size\":10,\"solidity\":0.2}},\"type\":\"barpolar\"}],\"pie\":[{\"automargin\":true,\"type\":\"pie\"}]},\"layout\":{\"autotypenumbers\":\"strict\",\"colorway\":[\"#636efa\",\"#EF553B\",\"#00cc96\",\"#ab63fa\",\"#FFA15A\",\"#19d3f3\",\"#FF6692\",\"#B6E880\",\"#FF97FF\",\"#FECB52\"],\"font\":{\"color\":\"#2a3f5f\"},\"hovermode\":\"closest\",\"hoverlabel\":{\"align\":\"left\"},\"paper_bgcolor\":\"white\",\"plot_bgcolor\":\"#E5ECF6\",\"polar\":{\"bgcolor\":\"#E5ECF6\",\"angularaxis\":{\"gridcolor\":\"white\",\"linecolor\":\"white\",\"ticks\":\"\"},\"radialaxis\":{\"gridcolor\":\"white\",\"linecolor\":\"white\",\"ticks\":\"\"}},\"ternary\":{\"bgcolor\":\"#E5ECF6\",\"aaxis\":{\"gridcolor\":\"white\",\"linecolor\":\"white\",\"ticks\":\"\"},\"baxis\":{\"gridcolor\":\"white\",\"linecolor\":\"white\",\"ticks\":\"\"},\"caxis\":{\"gridcolor\":\"white\",\"linecolor\":\"white\",\"ticks\":\"\"}},\"coloraxis\":{\"colorbar\":{\"outlinewidth\":0,\"ticks\":\"\"}},\"colorscale\":{\"sequential\":[[0.0,\"#0d0887\"],[0.1111111111111111,\"#46039f\"],[0.2222222222222222,\"#7201a8\"],[0.3333333333333333,\"#9c179e\"],[0.4444444444444444,\"#bd3786\"],[0.5555555555555556,\"#d8576b\"],[0.6666666666666666,\"#ed7953\"],[0.7777777777777778,\"#fb9f3a\"],[0.8888888888888888,\"#fdca26\"],[1.0,\"#f0f921\"]],\"sequentialminus\":[[0.0,\"#0d0887\"],[0.1111111111111111,\"#46039f\"],[0.2222222222222222,\"#7201a8\"],[0.3333333333333333,\"#9c179e\"],[0.4444444444444444,\"#bd3786\"],[0.5555555555555556,\"#d8576b\"],[0.6666666666666666,\"#ed7953\"],[0.7777777777777778,\"#fb9f3a\"],[0.8888888888888888,\"#fdca26\"],[1.0,\"#f0f921\"]],\"diverging\":[[0,\"#8e0152\"],[0.1,\"#c51b7d\"],[0.2,\"#de77ae\"],[0.3,\"#f1b6da\"],[0.4,\"#fde0ef\"],[0.5,\"#f7f7f7\"],[0.6,\"#e6f5d0\"],[0.7,\"#b8e186\"],[0.8,\"#7fbc41\"],[0.9,\"#4d9221\"],[1,\"#276419\"]]},\"xaxis\":{\"gridcolor\":\"white\",\"linecolor\":\"white\",\"ticks\":\"\",\"title\":{\"standoff\":15},\"zerolinecolor\":\"white\",\"automargin\":true,\"zerolinewidth\":2},\"yaxis\":{\"gridcolor\":\"white\",\"linecolor\":\"white\",\"ticks\":\"\",\"title\":{\"standoff\":15},\"zerolinecolor\":\"white\",\"automargin\":true,\"zerolinewidth\":2},\"scene\":{\"xaxis\":{\"backgroundcolor\":\"#E5ECF6\",\"gridcolor\":\"white\",\"linecolor\":\"white\",\"showbackground\":true,\"ticks\":\"\",\"zerolinecolor\":\"white\",\"gridwidth\":2},\"yaxis\":{\"backgroundcolor\":\"#E5ECF6\",\"gridcolor\":\"white\",\"linecolor\":\"white\",\"showbackground\":true,\"ticks\":\"\",\"zerolinecolor\":\"white\",\"gridwidth\":2},\"zaxis\":{\"backgroundcolor\":\"#E5ECF6\",\"gridcolor\":\"white\",\"linecolor\":\"white\",\"showbackground\":true,\"ticks\":\"\",\"zerolinecolor\":\"white\",\"gridwidth\":2}},\"shapedefaults\":{\"line\":{\"color\":\"#2a3f5f\"}},\"annotationdefaults\":{\"arrowcolor\":\"#2a3f5f\",\"arrowhead\":0,\"arrowwidth\":1},\"geo\":{\"bgcolor\":\"white\",\"landcolor\":\"#E5ECF6\",\"subunitcolor\":\"white\",\"showland\":true,\"showlakes\":true,\"lakecolor\":\"white\"},\"title\":{\"x\":0.05},\"mapbox\":{\"style\":\"light\"}}},\"xaxis\":{\"anchor\":\"y\",\"domain\":[0.0,1.0],\"title\":{\"text\":\"index\"}},\"yaxis\":{\"anchor\":\"x\",\"domain\":[0.0,1.0],\"title\":{\"text\":\"loss\"}},\"legend\":{\"tracegroupgap\":0},\"title\":{\"text\":\"Training Loss\"},\"shapes\":[{\"label\":{\"font\":{\"color\":\"rgba(255, 165, 0, 1)\"},\"text\":\"Median Validation Loss (0.94)\",\"textposition\":\"start\"},\"line\":{\"color\":\"rgba(255, 165, 0, 0.5)\",\"dash\":\"dash\"},\"type\":\"line\",\"x0\":0,\"x1\":1,\"xref\":\"x domain\",\"y0\":0.9350111484527588,\"y1\":0.9350111484527588,\"yref\":\"y\"},{\"label\":{\"font\":{\"color\":\"rgba(0, 0, 255, 1)\"},\"text\":\"Median Loss (0.59)\",\"textposition\":\"start\"},\"line\":{\"color\":\"rgba(0, 0, 255, 0.5)\",\"dash\":\"dash\"},\"type\":\"line\",\"x0\":0,\"x1\":1,\"xref\":\"x domain\",\"y0\":0.5933099091053009,\"y1\":0.5933099091053009,\"yref\":\"y\"},{\"label\":{\"font\":{\"color\":\"rgba(255, 165, 0, 1)\"},\"text\":\"Min Validation Loss (0.78)\",\"textposition\":\"start\"},\"line\":{\"color\":\"rgba(255, 165, 0, 0.5)\",\"dash\":\"dash\"},\"type\":\"line\",\"x0\":0,\"x1\":1,\"xref\":\"x domain\",\"y0\":0.784839928150177,\"y1\":0.784839928150177,\"yref\":\"y\"},{\"label\":{\"font\":{\"color\":\"rgba(0, 0, 255, 1)\"},\"text\":\"Min Loss (0.25)\",\"textposition\":\"start\"},\"line\":{\"color\":\"rgba(0, 0, 255, 0.5)\",\"dash\":\"dash\"},\"type\":\"line\",\"x0\":0,\"x1\":1,\"xref\":\"x domain\",\"y0\":0.2493390291929245,\"y1\":0.2493390291929245,\"yref\":\"y\"}]},                        {\"responsive\": true}                    ).then(function(){\n",
       "                            \n",
       "var gd = document.getElementById('4b6c4d05-952c-4504-9503-ac18176a8096');\n",
       "var x = new MutationObserver(function (mutations, observer) {{\n",
       "        var display = window.getComputedStyle(gd).display;\n",
       "        if (!display || display === 'none') {{\n",
       "            console.log([gd, 'removed!']);\n",
       "            Plotly.purge(gd);\n",
       "            observer.disconnect();\n",
       "        }}\n",
       "}});\n",
       "\n",
       "// Listen for the removal of the full notebook cells\n",
       "var notebookContainer = gd.closest('#notebook-container');\n",
       "if (notebookContainer) {{\n",
       "    x.observe(notebookContainer, {childList: true});\n",
       "}}\n",
       "\n",
       "// Listen for the clearing of the current output cell\n",
       "var outputEl = gd.closest('.output');\n",
       "if (outputEl) {{\n",
       "    x.observe(outputEl, {childList: true});\n",
       "}}\n",
       "\n",
       "                        })                };                });            </script>        </div>"
      ]
     },
     "metadata": {},
     "output_type": "display_data"
    }
   ],
   "source": [
    "history_df = pd.DataFrame(history.history)\n",
    "\n",
    "fig = px.line(history_df, x=history_df.index, y=\"loss\", markers=True, title=\"Training Loss\")\n",
    "fig2 = px.line(history_df, x=history_df.index, y=\"val_loss\", markers=True)\n",
    "\n",
    "fig.update_traces(dict(\n",
    "  marker=dict(\n",
    "    color=\"blue\"\n",
    "  ),\n",
    "  line=dict(\n",
    "    color=\"blue\",\n",
    "  ),\n",
    "))\n",
    "fig2.update_traces(dict(\n",
    "  marker=dict(\n",
    "    color=\"orange\"\n",
    "  ),\n",
    "  line=dict(\n",
    "    color=\"orange\",\n",
    "  ),\n",
    "))\n",
    "fig.add_traces(fig2.data)\n",
    "fig.update_xaxes(dict(title=\"Epochs\"))\n",
    "fig.update_yaxes(dict(title=\"Loss\"))\n",
    "fig.data[0][\"name\"] = \"Loss\" # type: ignore\n",
    "fig.data[1][\"name\"] = \"Validation Loss\" # type: ignore\n",
    "\n",
    "\n",
    "lines = [\n",
    "  dict(y=history_df[\"val_loss\"].median(), is_validation=True, label=f\"Median Validation Loss\"),\n",
    "  dict(y=history_df[\"loss\"].median(), is_validation=False, label=f\"Median Loss\"),\n",
    "  dict(y=history_df[\"val_loss\"].min(), is_validation=True, label=f\"Min Validation Loss\"),\n",
    "  dict(y=history_df[\"loss\"].min(), is_validation=False, label=f\"Min Loss\"),\n",
    "]\n",
    "VALIDATION_COLOR = \"rgba(255, 165, 0,\"\n",
    "TRAINING_COLOR = \"rgba(0, 0, 255,\"\n",
    "for line in lines:\n",
    "  base_color = VALIDATION_COLOR if line['is_validation'] else TRAINING_COLOR\n",
    "  fig.add_hline(\n",
    "    y=line[\"y\"],\n",
    "    line_color=f\"{base_color} 0.5)\",\n",
    "    line_dash=\"dash\",\n",
    "    label=dict(text=f\"{line['label']} ({line['y']:.2f})\", textposition=\"start\", font=dict(color=f\"{base_color} 1)\")),\n",
    "  )\n",
    "\n",
    "fig.update_traces(dict(\n",
    "  showlegend=True\n",
    "))\n",
    "\n",
    "fig.show()"
   ]
  },
  {
   "cell_type": "code",
   "execution_count": 473,
   "metadata": {},
   "outputs": [
    {
     "name": "stdout",
     "output_type": "stream",
     "text": [
      "\u001b[1m21/21\u001b[0m \u001b[32m━━━━━━━━━━━━━━━━━━━━\u001b[0m\u001b[37m\u001b[0m \u001b[1m0s\u001b[0m 11ms/step\n"
     ]
    },
    {
     "data": {
      "application/vnd.plotly.v1+json": {
       "config": {
        "plotlyServerURL": "https://plot.ly"
       },
       "data": [
        {
         "coloraxis": "coloraxis",
         "hovertemplate": "x: %{x}<br>y: %{y}<br>color: %{z}<extra></extra>",
         "name": "0",
         "text": [
          [
           "63.04%",
           "8.70%",
           "8.70%",
           "4.35%",
           "10.87%",
           "4.35%"
          ],
          [
           "3.70%",
           "75.93%",
           "5.56%",
           "0.00%",
           "11.11%",
           "3.70%"
          ],
          [
           "2.94%",
           "4.41%",
           "82.35%",
           "2.94%",
           "2.94%",
           "4.41%"
          ],
          [
           "4.26%",
           "2.13%",
           "6.38%",
           "70.21%",
           "6.38%",
           "10.64%"
          ],
          [
           "7.41%",
           "0.00%",
           "5.56%",
           "1.85%",
           "77.78%",
           "7.41%"
          ],
          [
           "1.79%",
           "0.00%",
           "3.57%",
           "12.50%",
           "7.14%",
           "75.00%"
          ]
         ],
         "texttemplate": "%{text}",
         "type": "heatmap",
         "x": [
          "angry",
          "disgusted",
          "happy",
          "neutral",
          "sad",
          "surprised"
         ],
         "xaxis": "x",
         "y": [
          "angry",
          "disgusted",
          "happy",
          "neutral",
          "sad",
          "surprised"
         ],
         "yaxis": "y",
         "z": [
          [
           0.6304347826086957,
           0.08695652173913043,
           0.08695652173913043,
           0.043478260869565216,
           0.10869565217391304,
           0.043478260869565216
          ],
          [
           0.037037037037037035,
           0.7592592592592593,
           0.05555555555555555,
           0,
           0.1111111111111111,
           0.037037037037037035
          ],
          [
           0.029411764705882353,
           0.04411764705882353,
           0.8235294117647058,
           0.029411764705882353,
           0.029411764705882353,
           0.04411764705882353
          ],
          [
           0.0425531914893617,
           0.02127659574468085,
           0.06382978723404255,
           0.7021276595744681,
           0.06382978723404255,
           0.10638297872340426
          ],
          [
           0.07407407407407407,
           0,
           0.05555555555555555,
           0.018518518518518517,
           0.7777777777777778,
           0.07407407407407407
          ],
          [
           0.017857142857142856,
           0,
           0.03571428571428571,
           0.125,
           0.07142857142857142,
           0.75
          ]
         ]
        }
       ],
       "layout": {
        "coloraxis": {
         "cmax": 1,
         "cmin": 0,
         "colorscale": [
          [
           0,
           "#0d0887"
          ],
          [
           0.1111111111111111,
           "#46039f"
          ],
          [
           0.2222222222222222,
           "#7201a8"
          ],
          [
           0.3333333333333333,
           "#9c179e"
          ],
          [
           0.4444444444444444,
           "#bd3786"
          ],
          [
           0.5555555555555556,
           "#d8576b"
          ],
          [
           0.6666666666666666,
           "#ed7953"
          ],
          [
           0.7777777777777778,
           "#fb9f3a"
          ],
          [
           0.8888888888888888,
           "#fdca26"
          ],
          [
           1,
           "#f0f921"
          ]
         ]
        },
        "margin": {
         "t": 60
        },
        "template": {
         "data": {
          "bar": [
           {
            "error_x": {
             "color": "#2a3f5f"
            },
            "error_y": {
             "color": "#2a3f5f"
            },
            "marker": {
             "line": {
              "color": "#E5ECF6",
              "width": 0.5
             },
             "pattern": {
              "fillmode": "overlay",
              "size": 10,
              "solidity": 0.2
             }
            },
            "type": "bar"
           }
          ],
          "barpolar": [
           {
            "marker": {
             "line": {
              "color": "#E5ECF6",
              "width": 0.5
             },
             "pattern": {
              "fillmode": "overlay",
              "size": 10,
              "solidity": 0.2
             }
            },
            "type": "barpolar"
           }
          ],
          "carpet": [
           {
            "aaxis": {
             "endlinecolor": "#2a3f5f",
             "gridcolor": "white",
             "linecolor": "white",
             "minorgridcolor": "white",
             "startlinecolor": "#2a3f5f"
            },
            "baxis": {
             "endlinecolor": "#2a3f5f",
             "gridcolor": "white",
             "linecolor": "white",
             "minorgridcolor": "white",
             "startlinecolor": "#2a3f5f"
            },
            "type": "carpet"
           }
          ],
          "choropleth": [
           {
            "colorbar": {
             "outlinewidth": 0,
             "ticks": ""
            },
            "type": "choropleth"
           }
          ],
          "contour": [
           {
            "colorbar": {
             "outlinewidth": 0,
             "ticks": ""
            },
            "colorscale": [
             [
              0,
              "#0d0887"
             ],
             [
              0.1111111111111111,
              "#46039f"
             ],
             [
              0.2222222222222222,
              "#7201a8"
             ],
             [
              0.3333333333333333,
              "#9c179e"
             ],
             [
              0.4444444444444444,
              "#bd3786"
             ],
             [
              0.5555555555555556,
              "#d8576b"
             ],
             [
              0.6666666666666666,
              "#ed7953"
             ],
             [
              0.7777777777777778,
              "#fb9f3a"
             ],
             [
              0.8888888888888888,
              "#fdca26"
             ],
             [
              1,
              "#f0f921"
             ]
            ],
            "type": "contour"
           }
          ],
          "contourcarpet": [
           {
            "colorbar": {
             "outlinewidth": 0,
             "ticks": ""
            },
            "type": "contourcarpet"
           }
          ],
          "heatmap": [
           {
            "colorbar": {
             "outlinewidth": 0,
             "ticks": ""
            },
            "colorscale": [
             [
              0,
              "#0d0887"
             ],
             [
              0.1111111111111111,
              "#46039f"
             ],
             [
              0.2222222222222222,
              "#7201a8"
             ],
             [
              0.3333333333333333,
              "#9c179e"
             ],
             [
              0.4444444444444444,
              "#bd3786"
             ],
             [
              0.5555555555555556,
              "#d8576b"
             ],
             [
              0.6666666666666666,
              "#ed7953"
             ],
             [
              0.7777777777777778,
              "#fb9f3a"
             ],
             [
              0.8888888888888888,
              "#fdca26"
             ],
             [
              1,
              "#f0f921"
             ]
            ],
            "type": "heatmap"
           }
          ],
          "heatmapgl": [
           {
            "colorbar": {
             "outlinewidth": 0,
             "ticks": ""
            },
            "colorscale": [
             [
              0,
              "#0d0887"
             ],
             [
              0.1111111111111111,
              "#46039f"
             ],
             [
              0.2222222222222222,
              "#7201a8"
             ],
             [
              0.3333333333333333,
              "#9c179e"
             ],
             [
              0.4444444444444444,
              "#bd3786"
             ],
             [
              0.5555555555555556,
              "#d8576b"
             ],
             [
              0.6666666666666666,
              "#ed7953"
             ],
             [
              0.7777777777777778,
              "#fb9f3a"
             ],
             [
              0.8888888888888888,
              "#fdca26"
             ],
             [
              1,
              "#f0f921"
             ]
            ],
            "type": "heatmapgl"
           }
          ],
          "histogram": [
           {
            "marker": {
             "pattern": {
              "fillmode": "overlay",
              "size": 10,
              "solidity": 0.2
             }
            },
            "type": "histogram"
           }
          ],
          "histogram2d": [
           {
            "colorbar": {
             "outlinewidth": 0,
             "ticks": ""
            },
            "colorscale": [
             [
              0,
              "#0d0887"
             ],
             [
              0.1111111111111111,
              "#46039f"
             ],
             [
              0.2222222222222222,
              "#7201a8"
             ],
             [
              0.3333333333333333,
              "#9c179e"
             ],
             [
              0.4444444444444444,
              "#bd3786"
             ],
             [
              0.5555555555555556,
              "#d8576b"
             ],
             [
              0.6666666666666666,
              "#ed7953"
             ],
             [
              0.7777777777777778,
              "#fb9f3a"
             ],
             [
              0.8888888888888888,
              "#fdca26"
             ],
             [
              1,
              "#f0f921"
             ]
            ],
            "type": "histogram2d"
           }
          ],
          "histogram2dcontour": [
           {
            "colorbar": {
             "outlinewidth": 0,
             "ticks": ""
            },
            "colorscale": [
             [
              0,
              "#0d0887"
             ],
             [
              0.1111111111111111,
              "#46039f"
             ],
             [
              0.2222222222222222,
              "#7201a8"
             ],
             [
              0.3333333333333333,
              "#9c179e"
             ],
             [
              0.4444444444444444,
              "#bd3786"
             ],
             [
              0.5555555555555556,
              "#d8576b"
             ],
             [
              0.6666666666666666,
              "#ed7953"
             ],
             [
              0.7777777777777778,
              "#fb9f3a"
             ],
             [
              0.8888888888888888,
              "#fdca26"
             ],
             [
              1,
              "#f0f921"
             ]
            ],
            "type": "histogram2dcontour"
           }
          ],
          "mesh3d": [
           {
            "colorbar": {
             "outlinewidth": 0,
             "ticks": ""
            },
            "type": "mesh3d"
           }
          ],
          "parcoords": [
           {
            "line": {
             "colorbar": {
              "outlinewidth": 0,
              "ticks": ""
             }
            },
            "type": "parcoords"
           }
          ],
          "pie": [
           {
            "automargin": true,
            "type": "pie"
           }
          ],
          "scatter": [
           {
            "fillpattern": {
             "fillmode": "overlay",
             "size": 10,
             "solidity": 0.2
            },
            "type": "scatter"
           }
          ],
          "scatter3d": [
           {
            "line": {
             "colorbar": {
              "outlinewidth": 0,
              "ticks": ""
             }
            },
            "marker": {
             "colorbar": {
              "outlinewidth": 0,
              "ticks": ""
             }
            },
            "type": "scatter3d"
           }
          ],
          "scattercarpet": [
           {
            "marker": {
             "colorbar": {
              "outlinewidth": 0,
              "ticks": ""
             }
            },
            "type": "scattercarpet"
           }
          ],
          "scattergeo": [
           {
            "marker": {
             "colorbar": {
              "outlinewidth": 0,
              "ticks": ""
             }
            },
            "type": "scattergeo"
           }
          ],
          "scattergl": [
           {
            "marker": {
             "colorbar": {
              "outlinewidth": 0,
              "ticks": ""
             }
            },
            "type": "scattergl"
           }
          ],
          "scattermapbox": [
           {
            "marker": {
             "colorbar": {
              "outlinewidth": 0,
              "ticks": ""
             }
            },
            "type": "scattermapbox"
           }
          ],
          "scatterpolar": [
           {
            "marker": {
             "colorbar": {
              "outlinewidth": 0,
              "ticks": ""
             }
            },
            "type": "scatterpolar"
           }
          ],
          "scatterpolargl": [
           {
            "marker": {
             "colorbar": {
              "outlinewidth": 0,
              "ticks": ""
             }
            },
            "type": "scatterpolargl"
           }
          ],
          "scatterternary": [
           {
            "marker": {
             "colorbar": {
              "outlinewidth": 0,
              "ticks": ""
             }
            },
            "type": "scatterternary"
           }
          ],
          "surface": [
           {
            "colorbar": {
             "outlinewidth": 0,
             "ticks": ""
            },
            "colorscale": [
             [
              0,
              "#0d0887"
             ],
             [
              0.1111111111111111,
              "#46039f"
             ],
             [
              0.2222222222222222,
              "#7201a8"
             ],
             [
              0.3333333333333333,
              "#9c179e"
             ],
             [
              0.4444444444444444,
              "#bd3786"
             ],
             [
              0.5555555555555556,
              "#d8576b"
             ],
             [
              0.6666666666666666,
              "#ed7953"
             ],
             [
              0.7777777777777778,
              "#fb9f3a"
             ],
             [
              0.8888888888888888,
              "#fdca26"
             ],
             [
              1,
              "#f0f921"
             ]
            ],
            "type": "surface"
           }
          ],
          "table": [
           {
            "cells": {
             "fill": {
              "color": "#EBF0F8"
             },
             "line": {
              "color": "white"
             }
            },
            "header": {
             "fill": {
              "color": "#C8D4E3"
             },
             "line": {
              "color": "white"
             }
            },
            "type": "table"
           }
          ]
         },
         "layout": {
          "annotationdefaults": {
           "arrowcolor": "#2a3f5f",
           "arrowhead": 0,
           "arrowwidth": 1
          },
          "autotypenumbers": "strict",
          "coloraxis": {
           "colorbar": {
            "outlinewidth": 0,
            "ticks": ""
           }
          },
          "colorscale": {
           "diverging": [
            [
             0,
             "#8e0152"
            ],
            [
             0.1,
             "#c51b7d"
            ],
            [
             0.2,
             "#de77ae"
            ],
            [
             0.3,
             "#f1b6da"
            ],
            [
             0.4,
             "#fde0ef"
            ],
            [
             0.5,
             "#f7f7f7"
            ],
            [
             0.6,
             "#e6f5d0"
            ],
            [
             0.7,
             "#b8e186"
            ],
            [
             0.8,
             "#7fbc41"
            ],
            [
             0.9,
             "#4d9221"
            ],
            [
             1,
             "#276419"
            ]
           ],
           "sequential": [
            [
             0,
             "#0d0887"
            ],
            [
             0.1111111111111111,
             "#46039f"
            ],
            [
             0.2222222222222222,
             "#7201a8"
            ],
            [
             0.3333333333333333,
             "#9c179e"
            ],
            [
             0.4444444444444444,
             "#bd3786"
            ],
            [
             0.5555555555555556,
             "#d8576b"
            ],
            [
             0.6666666666666666,
             "#ed7953"
            ],
            [
             0.7777777777777778,
             "#fb9f3a"
            ],
            [
             0.8888888888888888,
             "#fdca26"
            ],
            [
             1,
             "#f0f921"
            ]
           ],
           "sequentialminus": [
            [
             0,
             "#0d0887"
            ],
            [
             0.1111111111111111,
             "#46039f"
            ],
            [
             0.2222222222222222,
             "#7201a8"
            ],
            [
             0.3333333333333333,
             "#9c179e"
            ],
            [
             0.4444444444444444,
             "#bd3786"
            ],
            [
             0.5555555555555556,
             "#d8576b"
            ],
            [
             0.6666666666666666,
             "#ed7953"
            ],
            [
             0.7777777777777778,
             "#fb9f3a"
            ],
            [
             0.8888888888888888,
             "#fdca26"
            ],
            [
             1,
             "#f0f921"
            ]
           ]
          },
          "colorway": [
           "#636efa",
           "#EF553B",
           "#00cc96",
           "#ab63fa",
           "#FFA15A",
           "#19d3f3",
           "#FF6692",
           "#B6E880",
           "#FF97FF",
           "#FECB52"
          ],
          "font": {
           "color": "#2a3f5f"
          },
          "geo": {
           "bgcolor": "white",
           "lakecolor": "white",
           "landcolor": "#E5ECF6",
           "showlakes": true,
           "showland": true,
           "subunitcolor": "white"
          },
          "hoverlabel": {
           "align": "left"
          },
          "hovermode": "closest",
          "mapbox": {
           "style": "light"
          },
          "paper_bgcolor": "white",
          "plot_bgcolor": "#E5ECF6",
          "polar": {
           "angularaxis": {
            "gridcolor": "white",
            "linecolor": "white",
            "ticks": ""
           },
           "bgcolor": "#E5ECF6",
           "radialaxis": {
            "gridcolor": "white",
            "linecolor": "white",
            "ticks": ""
           }
          },
          "scene": {
           "xaxis": {
            "backgroundcolor": "#E5ECF6",
            "gridcolor": "white",
            "gridwidth": 2,
            "linecolor": "white",
            "showbackground": true,
            "ticks": "",
            "zerolinecolor": "white"
           },
           "yaxis": {
            "backgroundcolor": "#E5ECF6",
            "gridcolor": "white",
            "gridwidth": 2,
            "linecolor": "white",
            "showbackground": true,
            "ticks": "",
            "zerolinecolor": "white"
           },
           "zaxis": {
            "backgroundcolor": "#E5ECF6",
            "gridcolor": "white",
            "gridwidth": 2,
            "linecolor": "white",
            "showbackground": true,
            "ticks": "",
            "zerolinecolor": "white"
           }
          },
          "shapedefaults": {
           "line": {
            "color": "#2a3f5f"
           }
          },
          "ternary": {
           "aaxis": {
            "gridcolor": "white",
            "linecolor": "white",
            "ticks": ""
           },
           "baxis": {
            "gridcolor": "white",
            "linecolor": "white",
            "ticks": ""
           },
           "bgcolor": "#E5ECF6",
           "caxis": {
            "gridcolor": "white",
            "linecolor": "white",
            "ticks": ""
           }
          },
          "title": {
           "x": 0.05
          },
          "xaxis": {
           "automargin": true,
           "gridcolor": "white",
           "linecolor": "white",
           "ticks": "",
           "title": {
            "standoff": 15
           },
           "zerolinecolor": "white",
           "zerolinewidth": 2
          },
          "yaxis": {
           "automargin": true,
           "gridcolor": "white",
           "linecolor": "white",
           "ticks": "",
           "title": {
            "standoff": 15
           },
           "zerolinecolor": "white",
           "zerolinewidth": 2
          }
         }
        },
        "xaxis": {
         "anchor": "y",
         "constrain": "domain",
         "domain": [
          0,
          1
         ],
         "scaleanchor": "y"
        },
        "yaxis": {
         "anchor": "x",
         "autorange": "reversed",
         "constrain": "domain",
         "domain": [
          0,
          1
         ]
        }
       }
      },
      "text/html": [
       "<div>                            <div id=\"e86f9062-53c4-4677-af30-b9f43af25e38\" class=\"plotly-graph-div\" style=\"height:525px; width:100%;\"></div>            <script type=\"text/javascript\">                require([\"plotly\"], function(Plotly) {                    window.PLOTLYENV=window.PLOTLYENV || {};                                    if (document.getElementById(\"e86f9062-53c4-4677-af30-b9f43af25e38\")) {                    Plotly.newPlot(                        \"e86f9062-53c4-4677-af30-b9f43af25e38\",                        [{\"coloraxis\":\"coloraxis\",\"name\":\"0\",\"x\":[\"angry\",\"disgusted\",\"happy\",\"neutral\",\"sad\",\"surprised\"],\"y\":[\"angry\",\"disgusted\",\"happy\",\"neutral\",\"sad\",\"surprised\"],\"z\":[[0.6304347826086957,0.08695652173913043,0.08695652173913043,0.043478260869565216,0.10869565217391304,0.043478260869565216],[0.037037037037037035,0.7592592592592593,0.05555555555555555,0.0,0.1111111111111111,0.037037037037037035],[0.029411764705882353,0.04411764705882353,0.8235294117647058,0.029411764705882353,0.029411764705882353,0.04411764705882353],[0.0425531914893617,0.02127659574468085,0.06382978723404255,0.7021276595744681,0.06382978723404255,0.10638297872340426],[0.07407407407407407,0.0,0.05555555555555555,0.018518518518518517,0.7777777777777778,0.07407407407407407],[0.017857142857142856,0.0,0.03571428571428571,0.125,0.07142857142857142,0.75]],\"type\":\"heatmap\",\"xaxis\":\"x\",\"yaxis\":\"y\",\"hovertemplate\":\"x: %{x}\\u003cbr\\u003ey: %{y}\\u003cbr\\u003ecolor: %{z}\\u003cextra\\u003e\\u003c\\u002fextra\\u003e\",\"text\":[[\"63.04%\",\"8.70%\",\"8.70%\",\"4.35%\",\"10.87%\",\"4.35%\"],[\"3.70%\",\"75.93%\",\"5.56%\",\"0.00%\",\"11.11%\",\"3.70%\"],[\"2.94%\",\"4.41%\",\"82.35%\",\"2.94%\",\"2.94%\",\"4.41%\"],[\"4.26%\",\"2.13%\",\"6.38%\",\"70.21%\",\"6.38%\",\"10.64%\"],[\"7.41%\",\"0.00%\",\"5.56%\",\"1.85%\",\"77.78%\",\"7.41%\"],[\"1.79%\",\"0.00%\",\"3.57%\",\"12.50%\",\"7.14%\",\"75.00%\"]],\"texttemplate\":\"%{text}\"}],                        {\"template\":{\"data\":{\"histogram2dcontour\":[{\"type\":\"histogram2dcontour\",\"colorbar\":{\"outlinewidth\":0,\"ticks\":\"\"},\"colorscale\":[[0.0,\"#0d0887\"],[0.1111111111111111,\"#46039f\"],[0.2222222222222222,\"#7201a8\"],[0.3333333333333333,\"#9c179e\"],[0.4444444444444444,\"#bd3786\"],[0.5555555555555556,\"#d8576b\"],[0.6666666666666666,\"#ed7953\"],[0.7777777777777778,\"#fb9f3a\"],[0.8888888888888888,\"#fdca26\"],[1.0,\"#f0f921\"]]}],\"choropleth\":[{\"type\":\"choropleth\",\"colorbar\":{\"outlinewidth\":0,\"ticks\":\"\"}}],\"histogram2d\":[{\"type\":\"histogram2d\",\"colorbar\":{\"outlinewidth\":0,\"ticks\":\"\"},\"colorscale\":[[0.0,\"#0d0887\"],[0.1111111111111111,\"#46039f\"],[0.2222222222222222,\"#7201a8\"],[0.3333333333333333,\"#9c179e\"],[0.4444444444444444,\"#bd3786\"],[0.5555555555555556,\"#d8576b\"],[0.6666666666666666,\"#ed7953\"],[0.7777777777777778,\"#fb9f3a\"],[0.8888888888888888,\"#fdca26\"],[1.0,\"#f0f921\"]]}],\"heatmap\":[{\"type\":\"heatmap\",\"colorbar\":{\"outlinewidth\":0,\"ticks\":\"\"},\"colorscale\":[[0.0,\"#0d0887\"],[0.1111111111111111,\"#46039f\"],[0.2222222222222222,\"#7201a8\"],[0.3333333333333333,\"#9c179e\"],[0.4444444444444444,\"#bd3786\"],[0.5555555555555556,\"#d8576b\"],[0.6666666666666666,\"#ed7953\"],[0.7777777777777778,\"#fb9f3a\"],[0.8888888888888888,\"#fdca26\"],[1.0,\"#f0f921\"]]}],\"heatmapgl\":[{\"type\":\"heatmapgl\",\"colorbar\":{\"outlinewidth\":0,\"ticks\":\"\"},\"colorscale\":[[0.0,\"#0d0887\"],[0.1111111111111111,\"#46039f\"],[0.2222222222222222,\"#7201a8\"],[0.3333333333333333,\"#9c179e\"],[0.4444444444444444,\"#bd3786\"],[0.5555555555555556,\"#d8576b\"],[0.6666666666666666,\"#ed7953\"],[0.7777777777777778,\"#fb9f3a\"],[0.8888888888888888,\"#fdca26\"],[1.0,\"#f0f921\"]]}],\"contourcarpet\":[{\"type\":\"contourcarpet\",\"colorbar\":{\"outlinewidth\":0,\"ticks\":\"\"}}],\"contour\":[{\"type\":\"contour\",\"colorbar\":{\"outlinewidth\":0,\"ticks\":\"\"},\"colorscale\":[[0.0,\"#0d0887\"],[0.1111111111111111,\"#46039f\"],[0.2222222222222222,\"#7201a8\"],[0.3333333333333333,\"#9c179e\"],[0.4444444444444444,\"#bd3786\"],[0.5555555555555556,\"#d8576b\"],[0.6666666666666666,\"#ed7953\"],[0.7777777777777778,\"#fb9f3a\"],[0.8888888888888888,\"#fdca26\"],[1.0,\"#f0f921\"]]}],\"surface\":[{\"type\":\"surface\",\"colorbar\":{\"outlinewidth\":0,\"ticks\":\"\"},\"colorscale\":[[0.0,\"#0d0887\"],[0.1111111111111111,\"#46039f\"],[0.2222222222222222,\"#7201a8\"],[0.3333333333333333,\"#9c179e\"],[0.4444444444444444,\"#bd3786\"],[0.5555555555555556,\"#d8576b\"],[0.6666666666666666,\"#ed7953\"],[0.7777777777777778,\"#fb9f3a\"],[0.8888888888888888,\"#fdca26\"],[1.0,\"#f0f921\"]]}],\"mesh3d\":[{\"type\":\"mesh3d\",\"colorbar\":{\"outlinewidth\":0,\"ticks\":\"\"}}],\"scatter\":[{\"fillpattern\":{\"fillmode\":\"overlay\",\"size\":10,\"solidity\":0.2},\"type\":\"scatter\"}],\"parcoords\":[{\"type\":\"parcoords\",\"line\":{\"colorbar\":{\"outlinewidth\":0,\"ticks\":\"\"}}}],\"scatterpolargl\":[{\"type\":\"scatterpolargl\",\"marker\":{\"colorbar\":{\"outlinewidth\":0,\"ticks\":\"\"}}}],\"bar\":[{\"error_x\":{\"color\":\"#2a3f5f\"},\"error_y\":{\"color\":\"#2a3f5f\"},\"marker\":{\"line\":{\"color\":\"#E5ECF6\",\"width\":0.5},\"pattern\":{\"fillmode\":\"overlay\",\"size\":10,\"solidity\":0.2}},\"type\":\"bar\"}],\"scattergeo\":[{\"type\":\"scattergeo\",\"marker\":{\"colorbar\":{\"outlinewidth\":0,\"ticks\":\"\"}}}],\"scatterpolar\":[{\"type\":\"scatterpolar\",\"marker\":{\"colorbar\":{\"outlinewidth\":0,\"ticks\":\"\"}}}],\"histogram\":[{\"marker\":{\"pattern\":{\"fillmode\":\"overlay\",\"size\":10,\"solidity\":0.2}},\"type\":\"histogram\"}],\"scattergl\":[{\"type\":\"scattergl\",\"marker\":{\"colorbar\":{\"outlinewidth\":0,\"ticks\":\"\"}}}],\"scatter3d\":[{\"type\":\"scatter3d\",\"line\":{\"colorbar\":{\"outlinewidth\":0,\"ticks\":\"\"}},\"marker\":{\"colorbar\":{\"outlinewidth\":0,\"ticks\":\"\"}}}],\"scattermapbox\":[{\"type\":\"scattermapbox\",\"marker\":{\"colorbar\":{\"outlinewidth\":0,\"ticks\":\"\"}}}],\"scatterternary\":[{\"type\":\"scatterternary\",\"marker\":{\"colorbar\":{\"outlinewidth\":0,\"ticks\":\"\"}}}],\"scattercarpet\":[{\"type\":\"scattercarpet\",\"marker\":{\"colorbar\":{\"outlinewidth\":0,\"ticks\":\"\"}}}],\"carpet\":[{\"aaxis\":{\"endlinecolor\":\"#2a3f5f\",\"gridcolor\":\"white\",\"linecolor\":\"white\",\"minorgridcolor\":\"white\",\"startlinecolor\":\"#2a3f5f\"},\"baxis\":{\"endlinecolor\":\"#2a3f5f\",\"gridcolor\":\"white\",\"linecolor\":\"white\",\"minorgridcolor\":\"white\",\"startlinecolor\":\"#2a3f5f\"},\"type\":\"carpet\"}],\"table\":[{\"cells\":{\"fill\":{\"color\":\"#EBF0F8\"},\"line\":{\"color\":\"white\"}},\"header\":{\"fill\":{\"color\":\"#C8D4E3\"},\"line\":{\"color\":\"white\"}},\"type\":\"table\"}],\"barpolar\":[{\"marker\":{\"line\":{\"color\":\"#E5ECF6\",\"width\":0.5},\"pattern\":{\"fillmode\":\"overlay\",\"size\":10,\"solidity\":0.2}},\"type\":\"barpolar\"}],\"pie\":[{\"automargin\":true,\"type\":\"pie\"}]},\"layout\":{\"autotypenumbers\":\"strict\",\"colorway\":[\"#636efa\",\"#EF553B\",\"#00cc96\",\"#ab63fa\",\"#FFA15A\",\"#19d3f3\",\"#FF6692\",\"#B6E880\",\"#FF97FF\",\"#FECB52\"],\"font\":{\"color\":\"#2a3f5f\"},\"hovermode\":\"closest\",\"hoverlabel\":{\"align\":\"left\"},\"paper_bgcolor\":\"white\",\"plot_bgcolor\":\"#E5ECF6\",\"polar\":{\"bgcolor\":\"#E5ECF6\",\"angularaxis\":{\"gridcolor\":\"white\",\"linecolor\":\"white\",\"ticks\":\"\"},\"radialaxis\":{\"gridcolor\":\"white\",\"linecolor\":\"white\",\"ticks\":\"\"}},\"ternary\":{\"bgcolor\":\"#E5ECF6\",\"aaxis\":{\"gridcolor\":\"white\",\"linecolor\":\"white\",\"ticks\":\"\"},\"baxis\":{\"gridcolor\":\"white\",\"linecolor\":\"white\",\"ticks\":\"\"},\"caxis\":{\"gridcolor\":\"white\",\"linecolor\":\"white\",\"ticks\":\"\"}},\"coloraxis\":{\"colorbar\":{\"outlinewidth\":0,\"ticks\":\"\"}},\"colorscale\":{\"sequential\":[[0.0,\"#0d0887\"],[0.1111111111111111,\"#46039f\"],[0.2222222222222222,\"#7201a8\"],[0.3333333333333333,\"#9c179e\"],[0.4444444444444444,\"#bd3786\"],[0.5555555555555556,\"#d8576b\"],[0.6666666666666666,\"#ed7953\"],[0.7777777777777778,\"#fb9f3a\"],[0.8888888888888888,\"#fdca26\"],[1.0,\"#f0f921\"]],\"sequentialminus\":[[0.0,\"#0d0887\"],[0.1111111111111111,\"#46039f\"],[0.2222222222222222,\"#7201a8\"],[0.3333333333333333,\"#9c179e\"],[0.4444444444444444,\"#bd3786\"],[0.5555555555555556,\"#d8576b\"],[0.6666666666666666,\"#ed7953\"],[0.7777777777777778,\"#fb9f3a\"],[0.8888888888888888,\"#fdca26\"],[1.0,\"#f0f921\"]],\"diverging\":[[0,\"#8e0152\"],[0.1,\"#c51b7d\"],[0.2,\"#de77ae\"],[0.3,\"#f1b6da\"],[0.4,\"#fde0ef\"],[0.5,\"#f7f7f7\"],[0.6,\"#e6f5d0\"],[0.7,\"#b8e186\"],[0.8,\"#7fbc41\"],[0.9,\"#4d9221\"],[1,\"#276419\"]]},\"xaxis\":{\"gridcolor\":\"white\",\"linecolor\":\"white\",\"ticks\":\"\",\"title\":{\"standoff\":15},\"zerolinecolor\":\"white\",\"automargin\":true,\"zerolinewidth\":2},\"yaxis\":{\"gridcolor\":\"white\",\"linecolor\":\"white\",\"ticks\":\"\",\"title\":{\"standoff\":15},\"zerolinecolor\":\"white\",\"automargin\":true,\"zerolinewidth\":2},\"scene\":{\"xaxis\":{\"backgroundcolor\":\"#E5ECF6\",\"gridcolor\":\"white\",\"linecolor\":\"white\",\"showbackground\":true,\"ticks\":\"\",\"zerolinecolor\":\"white\",\"gridwidth\":2},\"yaxis\":{\"backgroundcolor\":\"#E5ECF6\",\"gridcolor\":\"white\",\"linecolor\":\"white\",\"showbackground\":true,\"ticks\":\"\",\"zerolinecolor\":\"white\",\"gridwidth\":2},\"zaxis\":{\"backgroundcolor\":\"#E5ECF6\",\"gridcolor\":\"white\",\"linecolor\":\"white\",\"showbackground\":true,\"ticks\":\"\",\"zerolinecolor\":\"white\",\"gridwidth\":2}},\"shapedefaults\":{\"line\":{\"color\":\"#2a3f5f\"}},\"annotationdefaults\":{\"arrowcolor\":\"#2a3f5f\",\"arrowhead\":0,\"arrowwidth\":1},\"geo\":{\"bgcolor\":\"white\",\"landcolor\":\"#E5ECF6\",\"subunitcolor\":\"white\",\"showland\":true,\"showlakes\":true,\"lakecolor\":\"white\"},\"title\":{\"x\":0.05},\"mapbox\":{\"style\":\"light\"}}},\"xaxis\":{\"anchor\":\"y\",\"domain\":[0.0,1.0],\"scaleanchor\":\"y\",\"constrain\":\"domain\"},\"yaxis\":{\"anchor\":\"x\",\"domain\":[0.0,1.0],\"autorange\":\"reversed\",\"constrain\":\"domain\"},\"coloraxis\":{\"colorscale\":[[0.0,\"#0d0887\"],[0.1111111111111111,\"#46039f\"],[0.2222222222222222,\"#7201a8\"],[0.3333333333333333,\"#9c179e\"],[0.4444444444444444,\"#bd3786\"],[0.5555555555555556,\"#d8576b\"],[0.6666666666666666,\"#ed7953\"],[0.7777777777777778,\"#fb9f3a\"],[0.8888888888888888,\"#fdca26\"],[1.0,\"#f0f921\"]],\"cmin\":0,\"cmax\":1},\"margin\":{\"t\":60}},                        {\"responsive\": true}                    ).then(function(){\n",
       "                            \n",
       "var gd = document.getElementById('e86f9062-53c4-4677-af30-b9f43af25e38');\n",
       "var x = new MutationObserver(function (mutations, observer) {{\n",
       "        var display = window.getComputedStyle(gd).display;\n",
       "        if (!display || display === 'none') {{\n",
       "            console.log([gd, 'removed!']);\n",
       "            Plotly.purge(gd);\n",
       "            observer.disconnect();\n",
       "        }}\n",
       "}});\n",
       "\n",
       "// Listen for the removal of the full notebook cells\n",
       "var notebookContainer = gd.closest('#notebook-container');\n",
       "if (notebookContainer) {{\n",
       "    x.observe(notebookContainer, {childList: true});\n",
       "}}\n",
       "\n",
       "// Listen for the clearing of the current output cell\n",
       "var outputEl = gd.closest('.output');\n",
       "if (outputEl) {{\n",
       "    x.observe(outputEl, {childList: true});\n",
       "}}\n",
       "\n",
       "                        })                };                });            </script>        </div>"
      ]
     },
     "metadata": {},
     "output_type": "display_data"
    },
    {
     "data": {
      "text/plain": [
       "{'angry': {'precision': 0.725,\n",
       "  'recall': 0.6304347826086957,\n",
       "  'f1-score': 0.6744186046511628,\n",
       "  'support': 46.0},\n",
       " 'disgusted': {'precision': 0.8367346938775511,\n",
       "  'recall': 0.7592592592592593,\n",
       "  'f1-score': 0.7961165048543689,\n",
       "  'support': 54.0},\n",
       " 'happy': {'precision': 0.7887323943661971,\n",
       "  'recall': 0.8235294117647058,\n",
       "  'f1-score': 0.8057553956834532,\n",
       "  'support': 68.0},\n",
       " 'neutral': {'precision': 0.7333333333333333,\n",
       "  'recall': 0.7021276595744681,\n",
       "  'f1-score': 0.717391304347826,\n",
       "  'support': 47.0},\n",
       " 'sad': {'precision': 0.6774193548387096,\n",
       "  'recall': 0.7777777777777778,\n",
       "  'f1-score': 0.7241379310344828,\n",
       "  'support': 54.0},\n",
       " 'surprised': {'precision': 0.7241379310344828,\n",
       "  'recall': 0.75,\n",
       "  'f1-score': 0.7368421052631579,\n",
       "  'support': 56.0},\n",
       " 'accuracy': 0.7476923076923077,\n",
       " 'macro avg': {'precision': 0.747559617908379,\n",
       "  'recall': 0.7405214818308177,\n",
       "  'f1-score': 0.7424436409724086,\n",
       "  'support': 325.0},\n",
       " 'weighted avg': {'precision': 0.7500508069297761,\n",
       "  'recall': 0.7476923076923077,\n",
       "  'f1-score': 0.7473504967923414,\n",
       "  'support': 325.0}}"
      ]
     },
     "execution_count": 473,
     "metadata": {},
     "output_type": "execute_result"
    }
   ],
   "source": [
    "from typing import cast\n",
    "\n",
    "confidences = model.predict(test_dataset)\n",
    "predictions = np.argmax(confidences, axis=1)\n",
    "\n",
    "labels = cast(list[int], list(test_dataset.unbatch().map(lambda x, y: y).as_numpy_iterator()))\n",
    "\n",
    "cmat = sklearn.metrics.confusion_matrix(labels, predictions, normalize=\"true\")\n",
    "\n",
    "fig = px.imshow(cmat, x=CLASS_NAMES, y=CLASS_NAMES, zmin=0, zmax=1)\n",
    "stringify = np.vectorize(lambda x: f\"{x * 100:.2f}%\")\n",
    "fig.update_traces(dict(\n",
    "  text=stringify(cmat),\n",
    "  texttemplate=\"%{text}\"\n",
    "))\n",
    "fig.show()\n",
    "\n",
    "sklearn.metrics.classification_report(labels, predictions, output_dict=True, target_names=CLASS_NAMES)"
   ]
  },
  {
   "cell_type": "code",
   "execution_count": 486,
   "metadata": {},
   "outputs": [
    {
     "data": {
      "application/vnd.plotly.v1+json": {
       "config": {
        "plotlyServerURL": "https://plot.ly"
       },
       "data": [
        {
         "hoverinfo": "skip",
         "hovertemplate": "Label=surprised<br>x=%{x}<br>y=%{y}<extra></extra>",
         "legendgroup": "surprised",
         "marker": {
          "color": "#19D3F3",
          "opacity": 0.2,
          "size": 12,
          "symbol": "circle"
         },
         "mode": "markers",
         "name": "surprised",
         "showlegend": false,
         "type": "scattergl",
         "x": [
          -11.589566230773926,
          -13.002869606018066,
          -28.14351463317871,
          -28.42656898498535,
          -28.333267211914062,
          -28.67696189880371,
          30.08666229248047,
          29.557178497314453,
          20.53558349609375,
          -6.628089427947998,
          -32.83731460571289,
          26.76082992553711,
          26.536909103393555,
          26.09601593017578,
          30.912073135375977,
          31.408931732177734,
          -13.85964584350586,
          -15.099701881408691,
          -16.769514083862305,
          -15.239594459533691,
          23.026945114135742,
          -13.254758834838867,
          -5.509817600250244,
          -22.409221649169922,
          -22.6558780670166,
          -22.48967933654785,
          23.0815372467041,
          -12.612995147705078,
          -20.663515090942383,
          31.575786590576172,
          -21.0736083984375,
          -21.522693634033203,
          31.00347900390625,
          22.655492782592773,
          -0.08464580774307251,
          0.980771005153656,
          -27.67673110961914,
          -0.6800767183303833,
          -1.3139164447784424,
          -1.0801008939743042,
          18.954998016357422,
          12.697495460510254,
          10.79351806640625,
          9.593031883239746,
          32.06467056274414,
          29.357421875,
          33.44416427612305,
          -13.65363597869873,
          -47.77656555175781,
          -21.118946075439453,
          -48.42477035522461,
          -47.31234359741211,
          -4.658528804779053,
          -6.837868690490723,
          16.631729125976562,
          14.929783821105957
         ],
         "xaxis": "x",
         "y": [
          10.052287101745605,
          -42.684322357177734,
          4.8890581130981445,
          5.546316623687744,
          4.32315731048584,
          5.0785298347473145,
          -18.535480499267578,
          -18.618850708007812,
          -14.693599700927734,
          -45.703155517578125,
          20.936878204345703,
          -27.153947830200195,
          -27.821508407592773,
          -27.2856502532959,
          -4.1676483154296875,
          -18.116968154907227,
          -34.29484558105469,
          -36.27587127685547,
          -35.69324493408203,
          -32.56878662109375,
          25.70540428161621,
          -41.771358489990234,
          -1.5042097568511963,
          21.174985885620117,
          20.94713020324707,
          20.589820861816406,
          -28.069612503051758,
          -45.58145523071289,
          -0.6815629601478577,
          -13.184921264648438,
          -1.2767974138259888,
          -0.9463562965393066,
          -14.329843521118164,
          28.688251495361328,
          -44.84665298461914,
          -42.14170455932617,
          25.09090805053711,
          -42.81843566894531,
          -43.92335510253906,
          -41.33655548095703,
          34.032630920410156,
          42.18036651611328,
          38.551658630371094,
          38.107810974121094,
          27.53350067138672,
          26.794017791748047,
          25.444316864013672,
          -35.786216735839844,
          -15.362040519714355,
          9.445621490478516,
          -13.473570823669434,
          -13.698431968688965,
          -1.6121066808700562,
          -1.9607393741607666,
          44.51000213623047,
          42.80978012084961
         ],
         "yaxis": "y"
        },
        {
         "hoverinfo": "skip",
         "hovertemplate": "Label=disgusted<br>x=%{x}<br>y=%{y}<extra></extra>",
         "legendgroup": "disgusted",
         "marker": {
          "color": "#EF553B",
          "opacity": 0.2,
          "size": 12,
          "symbol": "circle"
         },
         "mode": "markers",
         "name": "disgusted",
         "showlegend": false,
         "type": "scattergl",
         "x": [
          -13.130786895751953,
          -47.60683059692383,
          -17.0801944732666,
          29.91433334350586,
          29.39768409729004,
          23.70720672607422,
          -33.787845611572266,
          -33.257625579833984,
          -35.182369232177734,
          26.42534637451172,
          11.5831937789917,
          9.366830825805664,
          30.193538665771484,
          30.174901962280273,
          -20.255348205566406,
          -20.561193466186523,
          -14.098482131958008,
          -12.658904075622559,
          -12.904547691345215,
          -10.014391899108887,
          -21.945375442504883,
          23.621543884277344,
          23.91629409790039,
          23.45232582092285,
          -15.365592956542969,
          30.676673889160156,
          0.8634471893310547,
          -1.5094236135482788,
          -0.6294180750846863,
          -0.6754551529884338,
          15.300956726074219,
          15.742768287658691,
          10.854482650756836,
          10.724242210388184,
          8.978137016296387,
          34.32539749145508,
          29.070165634155273,
          32.940853118896484,
          31.683528900146484,
          31.86570167541504,
          34.40387725830078,
          -23.248228073120117,
          -12.45233154296875,
          -19.675003051757812,
          -12.276123046875,
          25.80724334716797,
          29.838729858398438,
          -11.49930477142334,
          -3.417048931121826,
          15.655561447143555,
          16.398468017578125,
          14.370999336242676,
          15.150313377380371,
          28.425783157348633
         ],
         "xaxis": "x",
         "y": [
          5.0491437911987305,
          -16.49871253967285,
          -43.63247299194336,
          -18.290029525756836,
          -18.203691482543945,
          31.558170318603516,
          19.73937225341797,
          24.957868576049805,
          24.277345657348633,
          -26.890764236450195,
          34.81993865966797,
          36.41407012939453,
          -5.190598964691162,
          -5.1998748779296875,
          11.635973930358887,
          8.823884963989258,
          -33.84027099609375,
          -41.5977668762207,
          -41.63619613647461,
          -40.99965286254883,
          21.23564338684082,
          -27.94884490966797,
          -28.727731704711914,
          -28.550119400024414,
          3.3901214599609375,
          -13.62633991241455,
          -43.50727081298828,
          -42.044986724853516,
          -41.782588958740234,
          -41.49882125854492,
          39.18696212768555,
          39.97587585449219,
          38.53636932373047,
          38.446197509765625,
          37.80424118041992,
          26.153337478637695,
          28.810274124145508,
          25.909151077270508,
          25.015024185180664,
          25.617673873901367,
          25.357778549194336,
          7.338202953338623,
          7.591495037078857,
          3.4571049213409424,
          5.2726922035217285,
          29.566438674926758,
          -8.727792739868164,
          4.7299723625183105,
          -1.160409688949585,
          45.50303649902344,
          43.83434295654297,
          44.60954284667969,
          44.7299690246582,
          -13.121201515197754
         ],
         "yaxis": "y"
        },
        {
         "hoverinfo": "skip",
         "hovertemplate": "Label=happy<br>x=%{x}<br>y=%{y}<extra></extra>",
         "legendgroup": "happy",
         "marker": {
          "color": "#00CC96",
          "opacity": 0.2,
          "size": 12,
          "symbol": "circle"
         },
         "mode": "markers",
         "name": "happy",
         "showlegend": false,
         "type": "scattergl",
         "x": [
          -14.69848918914795,
          -17.812135696411133,
          -28.782705307006836,
          29.7979736328125,
          -29.593843460083008,
          -34.542301177978516,
          -34.63528823852539,
          -35.424278259277344,
          -33.125362396240234,
          -35.414283752441406,
          -34.26769256591797,
          -33.54850769042969,
          -22.61293601989746,
          26.627309799194336,
          9.623649597167969,
          -13.95435905456543,
          -13.963871955871582,
          31.778444290161133,
          -15.20838737487793,
          -20.87637710571289,
          -18.828813552856445,
          -18.855188369750977,
          30.890239715576172,
          -47.36053466796875,
          31.539438247680664,
          -17.009170532226562,
          -15.71667194366455,
          -16.993192672729492,
          -22.31324005126953,
          -22.26815414428711,
          23.900327682495117,
          23.18147850036621,
          -13.228287696838379,
          -15.302919387817383,
          -14.72703742980957,
          -20.976417541503906,
          30.787738800048828,
          20.76534080505371,
          22.2021484375,
          -0.16981825232505798,
          -1.2242889404296875,
          -1.0485695600509644,
          -0.940128743648529,
          -0.9434422850608826,
          -1.202232837677002,
          -1.4121675491333008,
          19.849599838256836,
          18.107820510864258,
          15.723199844360352,
          9.993278503417969,
          29.77696990966797,
          30.02541732788086,
          33.06312942504883,
          33.505455017089844,
          25.702434539794922,
          22.136228561401367,
          -11.49780559539795,
          -14.229107856750488,
          27.01026725769043,
          -4.15178918838501,
          35.66815185546875,
          14.728581428527832,
          14.953765869140625,
          14.929403305053711,
          14.867642402648926,
          14.139368057250977,
          14.139506340026855,
          14.14548397064209
         ],
         "xaxis": "x",
         "y": [
          -42.294349670410156,
          -38.2496223449707,
          5.759174346923828,
          -18.311203002929688,
          4.430814743041992,
          25.610000610351562,
          20.141307830810547,
          25.12728500366211,
          24.605676651000977,
          23.914003372192383,
          21.322816848754883,
          20.907270431518555,
          14.952442169189453,
          -27.454256057739258,
          36.199462890625,
          -2.454054355621338,
          -2.452127695083618,
          -20.05159568786621,
          -35.2652473449707,
          5.236969470977783,
          -35.15483856201172,
          -34.79806137084961,
          -8.994440078735352,
          -13.11082935333252,
          -3.5927820205688477,
          7.389007568359375,
          -48.95245361328125,
          -50.25286865234375,
          -39.181785583496094,
          21.38978385925293,
          -28.53838539123535,
          -28.45108985900879,
          7.177563667297363,
          -44.755531311035156,
          -41.8396110534668,
          -0.5778120756149292,
          -13.376336097717285,
          27.723066329956055,
          27.923595428466797,
          -44.870887756347656,
          -42.12448501586914,
          -42.291683197021484,
          -42.92850875854492,
          -44.07399368286133,
          -43.853126525878906,
          -41.606937408447266,
          34.89406967163086,
          33.63999557495117,
          39.90670394897461,
          38.25916290283203,
          28.944229125976562,
          27.050121307373047,
          25.616514205932617,
          26.012510299682617,
          35.5933952331543,
          36.79914474487305,
          -35.47645950317383,
          2.3552260398864746,
          30.205520629882812,
          -0.8419774770736694,
          -6.722318649291992,
          43.96361541748047,
          43.085914611816406,
          45.470115661621094,
          45.25739288330078,
          44.28262710571289,
          44.281639099121094,
          44.950904846191406
         ],
         "yaxis": "y"
        },
        {
         "hoverinfo": "skip",
         "hovertemplate": "Label=sad<br>x=%{x}<br>y=%{y}<extra></extra>",
         "legendgroup": "sad",
         "marker": {
          "color": "#FFA15A",
          "opacity": 0.2,
          "size": 12,
          "symbol": "circle"
         },
         "mode": "markers",
         "name": "sad",
         "showlegend": false,
         "type": "scattergl",
         "x": [
          -14.788119316101074,
          -14.982471466064453,
          23.789098739624023,
          -28.739360809326172,
          -28.77389907836914,
          -29.59651756286621,
          -33.4810791015625,
          -34.2203483581543,
          -34.381370544433594,
          -34.98313903808594,
          -33.819461822509766,
          26.605985641479492,
          31.945085525512695,
          -15.942008018493652,
          -13.841291427612305,
          31.789886474609375,
          29.629060745239258,
          -11.330392837524414,
          -10.159485816955566,
          -13.524264335632324,
          -22.65450668334961,
          -22.355350494384766,
          -21.82032585144043,
          -21.913171768188477,
          23.947425842285156,
          -21.433252334594727,
          23.357406616210938,
          -12.150784492492676,
          -21.161367416381836,
          31.721179962158203,
          30.392553329467773,
          -19.976165771484375,
          0.5538502931594849,
          1.0230450630187988,
          25.103981018066406,
          -28.27606773376465,
          -0.39973151683807373,
          18.107702255249023,
          9.174127578735352,
          28.398502349853516,
          29.577045440673828,
          29.37457847595215,
          32.34824752807617,
          34.201324462890625,
          32.38430404663086,
          20.93280029296875,
          -10.922184944152832,
          -14.220693588256836,
          -47.752220153808594,
          -46.952632904052734,
          22.712488174438477,
          35.77082061767578,
          12.818917274475098,
          16.39853286743164
         ],
         "xaxis": "x",
         "y": [
          -42.92301559448242,
          5.20681095123291,
          31.664981842041016,
          4.446018218994141,
          5.080982208251953,
          4.2866010665893555,
          24.478431701660156,
          21.67272186279297,
          24.436687469482422,
          23.564847946166992,
          19.96316909790039,
          -26.872865676879883,
          -20.75191879272461,
          -37.12697982788086,
          -34.323219299316406,
          -9.040214538574219,
          -8.684978485107422,
          5.441238880157471,
          -41.053382873535156,
          6.4632439613342285,
          -39.68337631225586,
          20.57314109802246,
          21.06800651550293,
          20.462459564208984,
          -28.39826774597168,
          20.913724899291992,
          -28.02137565612793,
          -42.51485061645508,
          -0.0314103364944458,
          -13.103586196899414,
          -13.921976089477539,
          -1.6064385175704956,
          -42.518619537353516,
          -44.78725814819336,
          30.647443771362305,
          25.351346969604492,
          -41.85197830200195,
          33.68665313720703,
          38.56089782714844,
          26.965620040893555,
          27.402233123779297,
          27.778764724731445,
          26.409988403320312,
          26.39932632446289,
          26.50628089904785,
          29.537553787231445,
          -34.73793411254883,
          2.2704856395721436,
          -12.722358703613281,
          -13.072929382324219,
          25.974647521972656,
          -6.629618167877197,
          43.91440963745117,
          43.83439636230469
         ],
         "yaxis": "y"
        },
        {
         "hoverinfo": "skip",
         "hovertemplate": "Label=angry<br>x=%{x}<br>y=%{y}<extra></extra>",
         "legendgroup": "angry",
         "marker": {
          "color": "#636EFA",
          "opacity": 0.2,
          "size": 12,
          "symbol": "circle"
         },
         "mode": "markers",
         "name": "angry",
         "showlegend": false,
         "type": "scattergl",
         "x": [
          -47.50059509277344,
          -18.361679077148438,
          30.511638641357422,
          29.966901779174805,
          29.46142578125,
          -34.686798095703125,
          -34.44524383544922,
          -5.794020175933838,
          -34.31852722167969,
          -33.87074279785156,
          -33.28887939453125,
          26.112770080566406,
          17.562999725341797,
          6.191951274871826,
          6.156253814697266,
          10.724359512329102,
          -10.580841064453125,
          29.478778839111328,
          9.325185775756836,
          -23.334367752075195,
          -9.826886177062988,
          -14.346905708312988,
          -13.1933012008667,
          -4.816368103027344,
          -15.744993209838867,
          13.129287719726562,
          -14.615267753601074,
          -15.53695297241211,
          -21.09343910217285,
          -19.936344146728516,
          0.1456054151058197,
          28.307710647583008,
          -0.9610872864723206,
          -27.768896102905273,
          10.081954956054688,
          31.054988861083984,
          31.096050262451172,
          30.170860290527344,
          -18.270784378051758,
          28.973487854003906,
          27.656522750854492,
          -2.217142343521118,
          14.957725524902344,
          15.232504844665527,
          14.916714668273926,
          14.279293060302734
         ],
         "xaxis": "x",
         "y": [
          -16.594511032104492,
          -37.5495491027832,
          -18.258914947509766,
          -18.797725677490234,
          -17.771446228027344,
          22.182085037231445,
          25.9798641204834,
          -45.5304069519043,
          20.93054962158203,
          19.44356918334961,
          21.037006378173828,
          -26.838003158569336,
          31.957651138305664,
          36.015499114990234,
          36.47171401977539,
          34.98208999633789,
          -4.599956035614014,
          -9.282567024230957,
          20.624181747436523,
          8.897187232971191,
          -39.94397735595703,
          5.034454822540283,
          -41.851226806640625,
          0.12429257482290268,
          -42.233402252197266,
          29.568166732788086,
          8.732240676879883,
          -43.61192321777344,
          0.9683310985565186,
          -1.5878313779830933,
          -43.27679443359375,
          -17.98318862915039,
          -44.18932342529297,
          25.196388244628906,
          38.67276382446289,
          25.326602935791016,
          27.747177124023438,
          27.516998291015625,
          -35.63619613647461,
          -9.442742347717285,
          -9.918429374694824,
          0.6855014562606812,
          43.77016830444336,
          44.2663459777832,
          44.825077056884766,
          45.32773971557617
         ],
         "yaxis": "y"
        },
        {
         "hoverinfo": "skip",
         "hovertemplate": "Label=neutral<br>x=%{x}<br>y=%{y}<extra></extra>",
         "legendgroup": "neutral",
         "marker": {
          "color": "#AB63FA",
          "opacity": 0.2,
          "size": 12,
          "symbol": "circle"
         },
         "mode": "markers",
         "name": "neutral",
         "showlegend": false,
         "type": "scattergl",
         "x": [
          30.574445724487305,
          -34.99129104614258,
          -34.56494903564453,
          -35.14191436767578,
          -33.23579025268555,
          -32.916202545166016,
          -33.498355865478516,
          18.39984703063965,
          9.71889877319336,
          11.139606475830078,
          10.640670776367188,
          -22.90238380432129,
          -23.600833892822266,
          -48.48147964477539,
          -18.265771865844727,
          -14.821958541870117,
          -18.995746612548828,
          -21.96344566345215,
          -21.893146514892578,
          13.132226943969727,
          -13.250351905822754,
          -19.986682891845703,
          20.91851043701172,
          22.565937042236328,
          0.31044864654541016,
          -28.136737823486328,
          -27.416654586791992,
          -0.018481386825442314,
          19.100149154663086,
          15.412166595458984,
          9.207873344421387,
          28.59971809387207,
          29.905370712280273,
          32.206016540527344,
          31.475360870361328,
          31.25655174255371,
          30.224763870239258,
          36.286582946777344,
          13.189299583435059,
          26.936691284179688,
          -30.408016204833984,
          -18.203664779663086,
          -12.110706329345703,
          -11.185358047485352,
          -6.433359146118164,
          -6.933909893035889,
          13.515106201171875
         ],
         "xaxis": "x",
         "y": [
          -18.022579193115234,
          25.67269515991211,
          26.230098724365234,
          23.62954330444336,
          19.791715621948242,
          20.893863677978516,
          19.179216384887695,
          32.55226516723633,
          36.08491134643555,
          34.82199478149414,
          35.071876525878906,
          10.111238479614258,
          4.124870777130127,
          -15.47017765045166,
          9.11428165435791,
          -35.079315185546875,
          -35.68116760253906,
          -38.9985466003418,
          20.55735206604004,
          29.583227157592773,
          -39.80298614501953,
          -1.0107877254486084,
          27.792999267578125,
          28.520910263061523,
          -44.25579071044922,
          25.048425674438477,
          25.035755157470703,
          -42.53126525878906,
          34.08617401123047,
          39.0525016784668,
          38.549129486083984,
          29.225250244140625,
          28.33675193786621,
          26.515121459960938,
          26.317523956298828,
          25.510608673095703,
          27.36159324645996,
          -5.975545883178711,
          36.63210678100586,
          -15.859129905700684,
          9.194805145263672,
          0.46074342727661133,
          -38.71558380126953,
          4.763210773468018,
          -0.90986168384552,
          -1.9561480283737183,
          43.74522399902344
         ],
         "yaxis": "y"
        },
        {
         "customdata": [
          [
           "surprised"
          ],
          [
           "surprised"
          ],
          [
           "surprised"
          ],
          [
           "surprised"
          ],
          [
           "surprised"
          ],
          [
           "surprised"
          ],
          [
           "surprised"
          ],
          [
           "surprised"
          ],
          [
           "surprised"
          ],
          [
           "surprised"
          ],
          [
           "surprised"
          ],
          [
           "surprised"
          ],
          [
           "surprised"
          ],
          [
           "surprised"
          ],
          [
           "surprised"
          ],
          [
           "surprised"
          ],
          [
           "surprised"
          ],
          [
           "surprised"
          ],
          [
           "surprised"
          ],
          [
           "surprised"
          ],
          [
           "surprised"
          ],
          [
           "surprised"
          ],
          [
           "surprised"
          ],
          [
           "surprised"
          ],
          [
           "surprised"
          ],
          [
           "surprised"
          ],
          [
           "surprised"
          ],
          [
           "surprised"
          ],
          [
           "surprised"
          ],
          [
           "surprised"
          ],
          [
           "surprised"
          ],
          [
           "surprised"
          ],
          [
           "surprised"
          ],
          [
           "surprised"
          ],
          [
           "surprised"
          ],
          [
           "surprised"
          ],
          [
           "surprised"
          ],
          [
           "surprised"
          ],
          [
           "surprised"
          ],
          [
           "surprised"
          ],
          [
           "surprised"
          ],
          [
           "surprised"
          ]
         ],
         "hovertemplate": "Predictions=surprised<br>Correct=True<br>x=%{x}<br>y=%{y}<br>Label=%{customdata[0]}<extra></extra>",
         "legendgroup": "surprised, True",
         "marker": {
          "color": "#19D3F3",
          "symbol": "circle"
         },
         "mode": "markers",
         "name": "surprised, True",
         "showlegend": true,
         "type": "scattergl",
         "x": [
          -11.589566230773926,
          -13.002869606018066,
          -28.14351463317871,
          -28.42656898498535,
          -28.67696189880371,
          30.08666229248047,
          20.53558349609375,
          -6.628089427947998,
          26.76082992553711,
          26.536909103393555,
          26.09601593017578,
          31.408931732177734,
          -13.85964584350586,
          -15.099701881408691,
          -16.769514083862305,
          -15.239594459533691,
          23.026945114135742,
          -13.254758834838867,
          -5.509817600250244,
          -22.409221649169922,
          -22.6558780670166,
          -22.48967933654785,
          23.0815372467041,
          -20.663515090942383,
          -21.0736083984375,
          31.00347900390625,
          22.655492782592773,
          -0.08464580774307251,
          0.980771005153656,
          -27.67673110961914,
          -0.6800767183303833,
          -1.3139164447784424,
          18.954998016357422,
          12.697495460510254,
          29.357421875,
          -13.65363597869873,
          -47.77656555175781,
          -48.42477035522461,
          -47.31234359741211,
          -4.658528804779053,
          -6.837868690490723,
          16.631729125976562
         ],
         "xaxis": "x",
         "y": [
          10.052287101745605,
          -42.684322357177734,
          4.8890581130981445,
          5.546316623687744,
          5.0785298347473145,
          -18.535480499267578,
          -14.693599700927734,
          -45.703155517578125,
          -27.153947830200195,
          -27.821508407592773,
          -27.2856502532959,
          -18.116968154907227,
          -34.29484558105469,
          -36.27587127685547,
          -35.69324493408203,
          -32.56878662109375,
          25.70540428161621,
          -41.771358489990234,
          -1.5042097568511963,
          21.174985885620117,
          20.94713020324707,
          20.589820861816406,
          -28.069612503051758,
          -0.6815629601478577,
          -1.2767974138259888,
          -14.329843521118164,
          28.688251495361328,
          -44.84665298461914,
          -42.14170455932617,
          25.09090805053711,
          -42.81843566894531,
          -43.92335510253906,
          34.032630920410156,
          42.18036651611328,
          26.794017791748047,
          -35.786216735839844,
          -15.362040519714355,
          -13.473570823669434,
          -13.698431968688965,
          -1.6121066808700562,
          -1.9607393741607666,
          44.51000213623047
         ],
         "yaxis": "y"
        },
        {
         "customdata": [
          [
           "sad"
          ],
          [
           "angry"
          ],
          [
           "angry"
          ],
          [
           "happy"
          ],
          [
           "happy"
          ],
          [
           "sad"
          ],
          [
           "sad"
          ],
          [
           "sad"
          ],
          [
           "neutral"
          ],
          [
           "disgusted"
          ],
          [
           "neutral"
          ],
          [
           "disgusted"
          ],
          [
           "neutral"
          ],
          [
           "neutral"
          ],
          [
           "neutral"
          ],
          [
           "happy"
          ]
         ],
         "hovertemplate": "Predictions=surprised<br>Correct=False<br>x=%{x}<br>y=%{y}<br>Label=%{customdata[0]}<extra></extra>",
         "legendgroup": "surprised, False",
         "marker": {
          "color": "#19D3F3",
          "symbol": "x"
         },
         "mode": "markers",
         "name": "surprised, False",
         "showlegend": true,
         "type": "scattergl",
         "x": [
          -34.381370544433594,
          -33.28887939453125,
          29.478778839111328,
          30.890239715576172,
          -15.71667194366455,
          -22.65450668334961,
          -21.82032585144043,
          30.392553329467773,
          22.565937042236328,
          -1.5094236135482788,
          -0.018481386825442314,
          15.300956726074219,
          28.59971809387207,
          36.286582946777344,
          -6.433359146118164,
          35.66815185546875
         ],
         "xaxis": "x",
         "y": [
          24.436687469482422,
          21.037006378173828,
          -9.282567024230957,
          -8.994440078735352,
          -48.95245361328125,
          -39.68337631225586,
          21.06800651550293,
          -13.921976089477539,
          28.520910263061523,
          -42.044986724853516,
          -42.53126525878906,
          39.18696212768555,
          29.225250244140625,
          -5.975545883178711,
          -0.90986168384552,
          -6.722318649291992
         ],
         "yaxis": "y"
        },
        {
         "customdata": [
          [
           "happy"
          ],
          [
           "happy"
          ],
          [
           "happy"
          ],
          [
           "happy"
          ],
          [
           "happy"
          ],
          [
           "happy"
          ],
          [
           "happy"
          ],
          [
           "happy"
          ],
          [
           "happy"
          ],
          [
           "happy"
          ],
          [
           "happy"
          ],
          [
           "happy"
          ],
          [
           "happy"
          ],
          [
           "happy"
          ],
          [
           "happy"
          ],
          [
           "happy"
          ],
          [
           "happy"
          ],
          [
           "happy"
          ],
          [
           "happy"
          ],
          [
           "happy"
          ],
          [
           "happy"
          ],
          [
           "happy"
          ],
          [
           "happy"
          ],
          [
           "happy"
          ],
          [
           "happy"
          ],
          [
           "happy"
          ],
          [
           "happy"
          ],
          [
           "happy"
          ],
          [
           "happy"
          ],
          [
           "happy"
          ],
          [
           "happy"
          ],
          [
           "happy"
          ],
          [
           "happy"
          ],
          [
           "happy"
          ],
          [
           "happy"
          ],
          [
           "happy"
          ],
          [
           "happy"
          ],
          [
           "happy"
          ],
          [
           "happy"
          ],
          [
           "happy"
          ],
          [
           "happy"
          ],
          [
           "happy"
          ],
          [
           "happy"
          ],
          [
           "happy"
          ],
          [
           "happy"
          ],
          [
           "happy"
          ],
          [
           "happy"
          ],
          [
           "happy"
          ],
          [
           "happy"
          ],
          [
           "happy"
          ],
          [
           "happy"
          ],
          [
           "happy"
          ],
          [
           "happy"
          ],
          [
           "happy"
          ],
          [
           "happy"
          ],
          [
           "happy"
          ]
         ],
         "hovertemplate": "Predictions=happy<br>Correct=True<br>x=%{x}<br>y=%{y}<br>Label=%{customdata[0]}<extra></extra>",
         "legendgroup": "happy, True",
         "marker": {
          "color": "#00CC96",
          "symbol": "circle"
         },
         "mode": "markers",
         "name": "happy, True",
         "showlegend": true,
         "type": "scattergl",
         "x": [
          -14.69848918914795,
          -17.812135696411133,
          -28.782705307006836,
          29.7979736328125,
          -29.593843460083008,
          -34.542301177978516,
          -34.63528823852539,
          -35.424278259277344,
          -33.125362396240234,
          -35.414283752441406,
          -34.26769256591797,
          -33.54850769042969,
          -22.61293601989746,
          26.627309799194336,
          9.623649597167969,
          -13.95435905456543,
          -13.963871955871582,
          31.778444290161133,
          -15.20838737487793,
          -20.87637710571289,
          -18.828813552856445,
          -18.855188369750977,
          31.539438247680664,
          -16.993192672729492,
          -22.31324005126953,
          -22.26815414428711,
          23.18147850036621,
          -13.228287696838379,
          -14.72703742980957,
          -20.976417541503906,
          30.787738800048828,
          20.76534080505371,
          22.2021484375,
          -1.2242889404296875,
          -1.0485695600509644,
          -0.940128743648529,
          -0.9434422850608826,
          -1.202232837677002,
          -1.4121675491333008,
          19.849599838256836,
          18.107820510864258,
          9.993278503417969,
          29.77696990966797,
          30.02541732788086,
          33.06312942504883,
          25.702434539794922,
          22.136228561401367,
          -11.49780559539795,
          -14.229107856750488,
          27.01026725769043,
          -4.15178918838501,
          14.953765869140625,
          14.929403305053711,
          14.867642402648926,
          14.139368057250977,
          14.14548397064209
         ],
         "xaxis": "x",
         "y": [
          -42.294349670410156,
          -38.2496223449707,
          5.759174346923828,
          -18.311203002929688,
          4.430814743041992,
          25.610000610351562,
          20.141307830810547,
          25.12728500366211,
          24.605676651000977,
          23.914003372192383,
          21.322816848754883,
          20.907270431518555,
          14.952442169189453,
          -27.454256057739258,
          36.199462890625,
          -2.454054355621338,
          -2.452127695083618,
          -20.05159568786621,
          -35.2652473449707,
          5.236969470977783,
          -35.15483856201172,
          -34.79806137084961,
          -3.5927820205688477,
          -50.25286865234375,
          -39.181785583496094,
          21.38978385925293,
          -28.45108985900879,
          7.177563667297363,
          -41.8396110534668,
          -0.5778120756149292,
          -13.376336097717285,
          27.723066329956055,
          27.923595428466797,
          -42.12448501586914,
          -42.291683197021484,
          -42.92850875854492,
          -44.07399368286133,
          -43.853126525878906,
          -41.606937408447266,
          34.89406967163086,
          33.63999557495117,
          38.25916290283203,
          28.944229125976562,
          27.050121307373047,
          25.616514205932617,
          35.5933952331543,
          36.79914474487305,
          -35.47645950317383,
          2.3552260398864746,
          30.205520629882812,
          -0.8419774770736694,
          43.085914611816406,
          45.470115661621094,
          45.25739288330078,
          44.28262710571289,
          44.950904846191406
         ],
         "yaxis": "y"
        },
        {
         "customdata": [
          [
           "disgusted"
          ],
          [
           "sad"
          ],
          [
           "sad"
          ],
          [
           "surprised"
          ],
          [
           "disgusted"
          ],
          [
           "angry"
          ],
          [
           "angry"
          ],
          [
           "neutral"
          ],
          [
           "sad"
          ],
          [
           "angry"
          ],
          [
           "neutral"
          ],
          [
           "disgusted"
          ],
          [
           "neutral"
          ],
          [
           "angry"
          ],
          [
           "surprised"
          ]
         ],
         "hovertemplate": "Predictions=happy<br>Correct=False<br>x=%{x}<br>y=%{y}<br>Label=%{customdata[0]}<extra></extra>",
         "legendgroup": "happy, False",
         "marker": {
          "color": "#00CC96",
          "symbol": "x"
         },
         "mode": "markers",
         "name": "happy, False",
         "showlegend": true,
         "type": "scattergl",
         "x": [
          -13.130786895751953,
          -14.788119316101074,
          -28.739360809326172,
          29.557178497314453,
          -35.182369232177734,
          6.191951274871826,
          9.325185775756836,
          -13.250351905822754,
          0.5538502931594849,
          0.1456054151058197,
          9.207873344421387,
          10.854482650756836,
          32.206016540527344,
          30.170860290527344,
          14.929783821105957
         ],
         "xaxis": "x",
         "y": [
          5.0491437911987305,
          -42.92301559448242,
          4.446018218994141,
          -18.618850708007812,
          24.277345657348633,
          36.015499114990234,
          20.624181747436523,
          -39.80298614501953,
          -42.518619537353516,
          -43.27679443359375,
          38.549129486083984,
          38.53636932373047,
          26.515121459960938,
          27.516998291015625,
          42.80978012084961
         ],
         "yaxis": "y"
        },
        {
         "customdata": [
          [
           "neutral"
          ],
          [
           "neutral"
          ],
          [
           "neutral"
          ],
          [
           "neutral"
          ],
          [
           "neutral"
          ],
          [
           "neutral"
          ],
          [
           "neutral"
          ],
          [
           "neutral"
          ],
          [
           "neutral"
          ],
          [
           "neutral"
          ],
          [
           "neutral"
          ],
          [
           "neutral"
          ],
          [
           "neutral"
          ],
          [
           "neutral"
          ],
          [
           "neutral"
          ],
          [
           "neutral"
          ],
          [
           "neutral"
          ],
          [
           "neutral"
          ],
          [
           "neutral"
          ],
          [
           "neutral"
          ],
          [
           "neutral"
          ],
          [
           "neutral"
          ],
          [
           "neutral"
          ],
          [
           "neutral"
          ],
          [
           "neutral"
          ],
          [
           "neutral"
          ],
          [
           "neutral"
          ],
          [
           "neutral"
          ],
          [
           "neutral"
          ],
          [
           "neutral"
          ],
          [
           "neutral"
          ],
          [
           "neutral"
          ],
          [
           "neutral"
          ]
         ],
         "hovertemplate": "Predictions=neutral<br>Correct=True<br>x=%{x}<br>y=%{y}<br>Label=%{customdata[0]}<extra></extra>",
         "legendgroup": "neutral, True",
         "marker": {
          "color": "#AB63FA",
          "symbol": "circle"
         },
         "mode": "markers",
         "name": "neutral, True",
         "showlegend": true,
         "type": "scattergl",
         "x": [
          30.574445724487305,
          -34.99129104614258,
          -34.56494903564453,
          -35.14191436767578,
          -33.23579025268555,
          -32.916202545166016,
          -33.498355865478516,
          18.39984703063965,
          10.640670776367188,
          -22.90238380432129,
          -23.600833892822266,
          -18.265771865844727,
          -14.821958541870117,
          -18.995746612548828,
          -21.96344566345215,
          -21.893146514892578,
          13.132226943969727,
          20.91851043701172,
          0.31044864654541016,
          -28.136737823486328,
          -27.416654586791992,
          19.100149154663086,
          15.412166595458984,
          31.475360870361328,
          31.25655174255371,
          30.224763870239258,
          13.189299583435059,
          26.936691284179688,
          -18.203664779663086,
          -12.110706329345703,
          -11.185358047485352,
          -6.933909893035889,
          13.515106201171875
         ],
         "xaxis": "x",
         "y": [
          -18.022579193115234,
          25.67269515991211,
          26.230098724365234,
          23.62954330444336,
          19.791715621948242,
          20.893863677978516,
          19.179216384887695,
          32.55226516723633,
          35.071876525878906,
          10.111238479614258,
          4.124870777130127,
          9.11428165435791,
          -35.079315185546875,
          -35.68116760253906,
          -38.9985466003418,
          20.55735206604004,
          29.583227157592773,
          27.792999267578125,
          -44.25579071044922,
          25.048425674438477,
          25.035755157470703,
          34.08617401123047,
          39.0525016784668,
          26.317523956298828,
          25.510608673095703,
          27.36159324645996,
          36.63210678100586,
          -15.859129905700684,
          0.46074342727661133,
          -38.71558380126953,
          4.763210773468018,
          -1.9561480283737183,
          43.74522399902344
         ],
         "yaxis": "y"
        },
        {
         "customdata": [
          [
           "sad"
          ],
          [
           "angry"
          ],
          [
           "surprised"
          ],
          [
           "surprised"
          ],
          [
           "surprised"
          ],
          [
           "surprised"
          ],
          [
           "happy"
          ],
          [
           "surprised"
          ],
          [
           "surprised"
          ],
          [
           "surprised"
          ],
          [
           "happy"
          ],
          [
           "angry"
          ]
         ],
         "hovertemplate": "Predictions=neutral<br>Correct=False<br>x=%{x}<br>y=%{y}<br>Label=%{customdata[0]}<extra></extra>",
         "legendgroup": "neutral, False",
         "marker": {
          "color": "#AB63FA",
          "symbol": "x"
         },
         "mode": "markers",
         "name": "neutral, False",
         "showlegend": true,
         "type": "scattergl",
         "x": [
          -14.982471466064453,
          -34.686798095703125,
          -12.612995147705078,
          31.575786590576172,
          -21.522693634033203,
          -1.0801008939743042,
          15.723199844360352,
          10.79351806640625,
          33.44416427612305,
          -21.118946075439453,
          14.728581428527832,
          15.232504844665527
         ],
         "xaxis": "x",
         "y": [
          5.20681095123291,
          22.182085037231445,
          -45.58145523071289,
          -13.184921264648438,
          -0.9463562965393066,
          -41.33655548095703,
          39.90670394897461,
          38.551658630371094,
          25.444316864013672,
          9.445621490478516,
          43.96361541748047,
          44.2663459777832
         ],
         "yaxis": "y"
        },
        {
         "customdata": [
          [
           "disgusted"
          ],
          [
           "disgusted"
          ],
          [
           "disgusted"
          ],
          [
           "disgusted"
          ],
          [
           "disgusted"
          ],
          [
           "disgusted"
          ],
          [
           "disgusted"
          ],
          [
           "disgusted"
          ],
          [
           "disgusted"
          ],
          [
           "disgusted"
          ],
          [
           "disgusted"
          ],
          [
           "disgusted"
          ],
          [
           "disgusted"
          ],
          [
           "disgusted"
          ],
          [
           "disgusted"
          ],
          [
           "disgusted"
          ],
          [
           "disgusted"
          ],
          [
           "disgusted"
          ],
          [
           "disgusted"
          ],
          [
           "disgusted"
          ],
          [
           "disgusted"
          ],
          [
           "disgusted"
          ],
          [
           "disgusted"
          ],
          [
           "disgusted"
          ],
          [
           "disgusted"
          ],
          [
           "disgusted"
          ],
          [
           "disgusted"
          ],
          [
           "disgusted"
          ],
          [
           "disgusted"
          ],
          [
           "disgusted"
          ],
          [
           "disgusted"
          ],
          [
           "disgusted"
          ],
          [
           "disgusted"
          ],
          [
           "disgusted"
          ],
          [
           "disgusted"
          ],
          [
           "disgusted"
          ],
          [
           "disgusted"
          ],
          [
           "disgusted"
          ],
          [
           "disgusted"
          ],
          [
           "disgusted"
          ],
          [
           "disgusted"
          ]
         ],
         "hovertemplate": "Predictions=disgusted<br>Correct=True<br>x=%{x}<br>y=%{y}<br>Label=%{customdata[0]}<extra></extra>",
         "legendgroup": "disgusted, True",
         "marker": {
          "color": "#EF553B",
          "symbol": "circle"
         },
         "mode": "markers",
         "name": "disgusted, True",
         "showlegend": true,
         "type": "scattergl",
         "x": [
          -47.60683059692383,
          -17.0801944732666,
          29.91433334350586,
          29.39768409729004,
          23.70720672607422,
          -33.787845611572266,
          -33.257625579833984,
          26.42534637451172,
          11.5831937789917,
          9.366830825805664,
          30.193538665771484,
          30.174901962280273,
          -20.255348205566406,
          -20.561193466186523,
          -14.098482131958008,
          -12.658904075622559,
          -12.904547691345215,
          -10.014391899108887,
          -21.945375442504883,
          23.621543884277344,
          23.91629409790039,
          23.45232582092285,
          30.676673889160156,
          -0.6294180750846863,
          15.742768287658691,
          8.978137016296387,
          34.32539749145508,
          29.070165634155273,
          31.683528900146484,
          31.86570167541504,
          34.40387725830078,
          -12.45233154296875,
          -12.276123046875,
          25.80724334716797,
          29.838729858398438,
          -11.49930477142334,
          -3.417048931121826,
          15.655561447143555,
          14.370999336242676,
          15.150313377380371,
          28.425783157348633
         ],
         "xaxis": "x",
         "y": [
          -16.49871253967285,
          -43.63247299194336,
          -18.290029525756836,
          -18.203691482543945,
          31.558170318603516,
          19.73937225341797,
          24.957868576049805,
          -26.890764236450195,
          34.81993865966797,
          36.41407012939453,
          -5.190598964691162,
          -5.1998748779296875,
          11.635973930358887,
          8.823884963989258,
          -33.84027099609375,
          -41.5977668762207,
          -41.63619613647461,
          -40.99965286254883,
          21.23564338684082,
          -27.94884490966797,
          -28.727731704711914,
          -28.550119400024414,
          -13.62633991241455,
          -41.782588958740234,
          39.97587585449219,
          37.80424118041992,
          26.153337478637695,
          28.810274124145508,
          25.015024185180664,
          25.617673873901367,
          25.357778549194336,
          7.591495037078857,
          5.2726922035217285,
          29.566438674926758,
          -8.727792739868164,
          4.7299723625183105,
          -1.160409688949585,
          45.50303649902344,
          44.60954284667969,
          44.7299690246582,
          -13.121201515197754
         ],
         "yaxis": "y"
        },
        {
         "customdata": [
          [
           "angry"
          ],
          [
           "neutral"
          ],
          [
           "angry"
          ],
          [
           "happy"
          ],
          [
           "happy"
          ],
          [
           "angry"
          ],
          [
           "angry"
          ],
          [
           "happy"
          ]
         ],
         "hovertemplate": "Predictions=disgusted<br>Correct=False<br>x=%{x}<br>y=%{y}<br>Label=%{customdata[0]}<extra></extra>",
         "legendgroup": "disgusted, False",
         "marker": {
          "color": "#EF553B",
          "symbol": "x"
         },
         "mode": "markers",
         "name": "disgusted, False",
         "showlegend": true,
         "type": "scattergl",
         "x": [
          29.46142578125,
          11.139606475830078,
          13.129287719726562,
          23.900327682495117,
          -15.302919387817383,
          -15.53695297241211,
          -21.09343910217285,
          -0.16981825232505798
         ],
         "xaxis": "x",
         "y": [
          -17.771446228027344,
          34.82199478149414,
          29.568166732788086,
          -28.53838539123535,
          -44.755531311035156,
          -43.61192321777344,
          0.9683310985565186,
          -44.870887756347656
         ],
         "yaxis": "y"
        },
        {
         "customdata": [
          [
           "sad"
          ],
          [
           "sad"
          ],
          [
           "sad"
          ],
          [
           "sad"
          ],
          [
           "sad"
          ],
          [
           "sad"
          ],
          [
           "sad"
          ],
          [
           "sad"
          ],
          [
           "sad"
          ],
          [
           "sad"
          ],
          [
           "sad"
          ],
          [
           "sad"
          ],
          [
           "sad"
          ],
          [
           "sad"
          ],
          [
           "sad"
          ],
          [
           "sad"
          ],
          [
           "sad"
          ],
          [
           "sad"
          ],
          [
           "sad"
          ],
          [
           "sad"
          ],
          [
           "sad"
          ],
          [
           "sad"
          ],
          [
           "sad"
          ],
          [
           "sad"
          ],
          [
           "sad"
          ],
          [
           "sad"
          ],
          [
           "sad"
          ],
          [
           "sad"
          ],
          [
           "sad"
          ],
          [
           "sad"
          ],
          [
           "sad"
          ],
          [
           "sad"
          ],
          [
           "sad"
          ],
          [
           "sad"
          ],
          [
           "sad"
          ],
          [
           "sad"
          ],
          [
           "sad"
          ],
          [
           "sad"
          ],
          [
           "sad"
          ],
          [
           "sad"
          ],
          [
           "sad"
          ],
          [
           "sad"
          ]
         ],
         "hovertemplate": "Predictions=sad<br>Correct=True<br>x=%{x}<br>y=%{y}<br>Label=%{customdata[0]}<extra></extra>",
         "legendgroup": "sad, True",
         "marker": {
          "color": "#FFA15A",
          "symbol": "circle"
         },
         "mode": "markers",
         "name": "sad, True",
         "showlegend": true,
         "type": "scattergl",
         "x": [
          23.789098739624023,
          -28.77389907836914,
          -29.59651756286621,
          -33.4810791015625,
          -34.2203483581543,
          -34.98313903808594,
          26.605985641479492,
          31.945085525512695,
          -13.841291427612305,
          31.789886474609375,
          29.629060745239258,
          -11.330392837524414,
          -10.159485816955566,
          -13.524264335632324,
          -22.355350494384766,
          -21.913171768188477,
          23.947425842285156,
          -21.433252334594727,
          23.357406616210938,
          -21.161367416381836,
          31.721179962158203,
          -19.976165771484375,
          1.0230450630187988,
          25.103981018066406,
          -28.27606773376465,
          -0.39973151683807373,
          18.107702255249023,
          9.174127578735352,
          28.398502349853516,
          29.577045440673828,
          29.37457847595215,
          32.34824752807617,
          34.201324462890625,
          32.38430404663086,
          20.93280029296875,
          -10.922184944152832,
          -14.220693588256836,
          -47.752220153808594,
          -46.952632904052734,
          22.712488174438477,
          12.818917274475098,
          16.39853286743164
         ],
         "xaxis": "x",
         "y": [
          31.664981842041016,
          5.080982208251953,
          4.2866010665893555,
          24.478431701660156,
          21.67272186279297,
          23.564847946166992,
          -26.872865676879883,
          -20.75191879272461,
          -34.323219299316406,
          -9.040214538574219,
          -8.684978485107422,
          5.441238880157471,
          -41.053382873535156,
          6.4632439613342285,
          20.57314109802246,
          20.462459564208984,
          -28.39826774597168,
          20.913724899291992,
          -28.02137565612793,
          -0.0314103364944458,
          -13.103586196899414,
          -1.6064385175704956,
          -44.78725814819336,
          30.647443771362305,
          25.351346969604492,
          -41.85197830200195,
          33.68665313720703,
          38.56089782714844,
          26.965620040893555,
          27.402233123779297,
          27.778764724731445,
          26.409988403320312,
          26.39932632446289,
          26.50628089904785,
          29.537553787231445,
          -34.73793411254883,
          2.2704856395721436,
          -12.722358703613281,
          -13.072929382324219,
          25.974647521972656,
          43.91440963745117,
          43.83439636230469
         ],
         "yaxis": "y"
        },
        {
         "customdata": [
          [
           "angry"
          ],
          [
           "surprised"
          ],
          [
           "angry"
          ],
          [
           "surprised"
          ],
          [
           "angry"
          ],
          [
           "angry"
          ],
          [
           "happy"
          ],
          [
           "disgusted"
          ],
          [
           "neutral"
          ],
          [
           "disgusted"
          ],
          [
           "surprised"
          ],
          [
           "disgusted"
          ],
          [
           "neutral"
          ],
          [
           "surprised"
          ],
          [
           "disgusted"
          ],
          [
           "happy"
          ],
          [
           "disgusted"
          ],
          [
           "neutral"
          ],
          [
           "angry"
          ],
          [
           "disgusted"
          ]
         ],
         "hovertemplate": "Predictions=sad<br>Correct=False<br>x=%{x}<br>y=%{y}<br>Label=%{customdata[0]}<extra></extra>",
         "legendgroup": "sad, False",
         "marker": {
          "color": "#FFA15A",
          "symbol": "x"
         },
         "mode": "markers",
         "name": "sad, False",
         "showlegend": true,
         "type": "scattergl",
         "x": [
          -47.50059509277344,
          -28.333267211914062,
          -34.31852722167969,
          -32.83731460571289,
          26.112770080566406,
          -23.334367752075195,
          -17.009170532226562,
          -15.365592956542969,
          -19.986682891845703,
          0.8634471893310547,
          9.593031883239746,
          10.724242210388184,
          29.905370712280273,
          32.06467056274414,
          32.940853118896484,
          33.505455017089844,
          -23.248228073120117,
          -30.408016204833984,
          -18.270784378051758,
          16.398468017578125
         ],
         "xaxis": "x",
         "y": [
          -16.594511032104492,
          4.32315731048584,
          20.93054962158203,
          20.936878204345703,
          -26.838003158569336,
          8.897187232971191,
          7.389007568359375,
          3.3901214599609375,
          -1.0107877254486084,
          -43.50727081298828,
          38.107810974121094,
          38.446197509765625,
          28.33675193786621,
          27.53350067138672,
          25.909151077270508,
          26.012510299682617,
          7.338202953338623,
          9.194805145263672,
          -35.63619613647461,
          43.83434295654297
         ],
         "yaxis": "y"
        },
        {
         "customdata": [
          [
           "angry"
          ],
          [
           "angry"
          ],
          [
           "angry"
          ],
          [
           "angry"
          ],
          [
           "angry"
          ],
          [
           "angry"
          ],
          [
           "angry"
          ],
          [
           "angry"
          ],
          [
           "angry"
          ],
          [
           "angry"
          ],
          [
           "angry"
          ],
          [
           "angry"
          ],
          [
           "angry"
          ],
          [
           "angry"
          ],
          [
           "angry"
          ],
          [
           "angry"
          ],
          [
           "angry"
          ],
          [
           "angry"
          ],
          [
           "angry"
          ],
          [
           "angry"
          ],
          [
           "angry"
          ],
          [
           "angry"
          ],
          [
           "angry"
          ],
          [
           "angry"
          ],
          [
           "angry"
          ],
          [
           "angry"
          ],
          [
           "angry"
          ],
          [
           "angry"
          ],
          [
           "angry"
          ]
         ],
         "hovertemplate": "Predictions=angry<br>Correct=True<br>x=%{x}<br>y=%{y}<br>Label=%{customdata[0]}<extra></extra>",
         "legendgroup": "angry, True",
         "marker": {
          "color": "#636EFA",
          "symbol": "circle"
         },
         "mode": "markers",
         "name": "angry, True",
         "showlegend": true,
         "type": "scattergl",
         "x": [
          -18.361679077148438,
          30.511638641357422,
          29.966901779174805,
          -34.44524383544922,
          -5.794020175933838,
          -33.87074279785156,
          17.562999725341797,
          6.156253814697266,
          10.724359512329102,
          -10.580841064453125,
          -9.826886177062988,
          -14.346905708312988,
          -13.1933012008667,
          -4.816368103027344,
          -15.744993209838867,
          -14.615267753601074,
          -19.936344146728516,
          28.307710647583008,
          -0.9610872864723206,
          -27.768896102905273,
          10.081954956054688,
          31.054988861083984,
          31.096050262451172,
          28.973487854003906,
          27.656522750854492,
          -2.217142343521118,
          14.957725524902344,
          14.916714668273926,
          14.279293060302734
         ],
         "xaxis": "x",
         "y": [
          -37.5495491027832,
          -18.258914947509766,
          -18.797725677490234,
          25.9798641204834,
          -45.5304069519043,
          19.44356918334961,
          31.957651138305664,
          36.47171401977539,
          34.98208999633789,
          -4.599956035614014,
          -39.94397735595703,
          5.034454822540283,
          -41.851226806640625,
          0.12429257482290268,
          -42.233402252197266,
          8.732240676879883,
          -1.5878313779830933,
          -17.98318862915039,
          -44.18932342529297,
          25.196388244628906,
          38.67276382446289,
          25.326602935791016,
          27.747177124023438,
          -9.442742347717285,
          -9.918429374694824,
          0.6855014562606812,
          43.77016830444336,
          44.825077056884766,
          45.32773971557617
         ],
         "yaxis": "y"
        },
        {
         "customdata": [
          [
           "sad"
          ],
          [
           "neutral"
          ],
          [
           "surprised"
          ],
          [
           "sad"
          ],
          [
           "neutral"
          ],
          [
           "happy"
          ],
          [
           "sad"
          ],
          [
           "disgusted"
          ],
          [
           "disgusted"
          ],
          [
           "sad"
          ],
          [
           "happy"
          ]
         ],
         "hovertemplate": "Predictions=angry<br>Correct=False<br>x=%{x}<br>y=%{y}<br>Label=%{customdata[0]}<extra></extra>",
         "legendgroup": "angry, False",
         "marker": {
          "color": "#636EFA",
          "symbol": "x"
         },
         "mode": "markers",
         "name": "angry, False",
         "showlegend": true,
         "type": "scattergl",
         "x": [
          -33.819461822509766,
          9.71889877319336,
          30.912073135375977,
          -15.942008018493652,
          -48.48147964477539,
          -47.36053466796875,
          -12.150784492492676,
          -0.6754551529884338,
          -19.675003051757812,
          35.77082061767578,
          14.139506340026855
         ],
         "xaxis": "x",
         "y": [
          19.96316909790039,
          36.08491134643555,
          -4.1676483154296875,
          -37.12697982788086,
          -15.47017765045166,
          -13.11082935333252,
          -42.51485061645508,
          -41.49882125854492,
          3.4571049213409424,
          -6.629618167877197,
          44.281639099121094
         ],
         "yaxis": "y"
        }
       ],
       "layout": {
        "legend": {
         "title": {
          "text": "Label"
         },
         "tracegroupgap": 0
        },
        "margin": {
         "t": 60
        },
        "template": {
         "data": {
          "bar": [
           {
            "error_x": {
             "color": "#2a3f5f"
            },
            "error_y": {
             "color": "#2a3f5f"
            },
            "marker": {
             "line": {
              "color": "#E5ECF6",
              "width": 0.5
             },
             "pattern": {
              "fillmode": "overlay",
              "size": 10,
              "solidity": 0.2
             }
            },
            "type": "bar"
           }
          ],
          "barpolar": [
           {
            "marker": {
             "line": {
              "color": "#E5ECF6",
              "width": 0.5
             },
             "pattern": {
              "fillmode": "overlay",
              "size": 10,
              "solidity": 0.2
             }
            },
            "type": "barpolar"
           }
          ],
          "carpet": [
           {
            "aaxis": {
             "endlinecolor": "#2a3f5f",
             "gridcolor": "white",
             "linecolor": "white",
             "minorgridcolor": "white",
             "startlinecolor": "#2a3f5f"
            },
            "baxis": {
             "endlinecolor": "#2a3f5f",
             "gridcolor": "white",
             "linecolor": "white",
             "minorgridcolor": "white",
             "startlinecolor": "#2a3f5f"
            },
            "type": "carpet"
           }
          ],
          "choropleth": [
           {
            "colorbar": {
             "outlinewidth": 0,
             "ticks": ""
            },
            "type": "choropleth"
           }
          ],
          "contour": [
           {
            "colorbar": {
             "outlinewidth": 0,
             "ticks": ""
            },
            "colorscale": [
             [
              0,
              "#0d0887"
             ],
             [
              0.1111111111111111,
              "#46039f"
             ],
             [
              0.2222222222222222,
              "#7201a8"
             ],
             [
              0.3333333333333333,
              "#9c179e"
             ],
             [
              0.4444444444444444,
              "#bd3786"
             ],
             [
              0.5555555555555556,
              "#d8576b"
             ],
             [
              0.6666666666666666,
              "#ed7953"
             ],
             [
              0.7777777777777778,
              "#fb9f3a"
             ],
             [
              0.8888888888888888,
              "#fdca26"
             ],
             [
              1,
              "#f0f921"
             ]
            ],
            "type": "contour"
           }
          ],
          "contourcarpet": [
           {
            "colorbar": {
             "outlinewidth": 0,
             "ticks": ""
            },
            "type": "contourcarpet"
           }
          ],
          "heatmap": [
           {
            "colorbar": {
             "outlinewidth": 0,
             "ticks": ""
            },
            "colorscale": [
             [
              0,
              "#0d0887"
             ],
             [
              0.1111111111111111,
              "#46039f"
             ],
             [
              0.2222222222222222,
              "#7201a8"
             ],
             [
              0.3333333333333333,
              "#9c179e"
             ],
             [
              0.4444444444444444,
              "#bd3786"
             ],
             [
              0.5555555555555556,
              "#d8576b"
             ],
             [
              0.6666666666666666,
              "#ed7953"
             ],
             [
              0.7777777777777778,
              "#fb9f3a"
             ],
             [
              0.8888888888888888,
              "#fdca26"
             ],
             [
              1,
              "#f0f921"
             ]
            ],
            "type": "heatmap"
           }
          ],
          "heatmapgl": [
           {
            "colorbar": {
             "outlinewidth": 0,
             "ticks": ""
            },
            "colorscale": [
             [
              0,
              "#0d0887"
             ],
             [
              0.1111111111111111,
              "#46039f"
             ],
             [
              0.2222222222222222,
              "#7201a8"
             ],
             [
              0.3333333333333333,
              "#9c179e"
             ],
             [
              0.4444444444444444,
              "#bd3786"
             ],
             [
              0.5555555555555556,
              "#d8576b"
             ],
             [
              0.6666666666666666,
              "#ed7953"
             ],
             [
              0.7777777777777778,
              "#fb9f3a"
             ],
             [
              0.8888888888888888,
              "#fdca26"
             ],
             [
              1,
              "#f0f921"
             ]
            ],
            "type": "heatmapgl"
           }
          ],
          "histogram": [
           {
            "marker": {
             "pattern": {
              "fillmode": "overlay",
              "size": 10,
              "solidity": 0.2
             }
            },
            "type": "histogram"
           }
          ],
          "histogram2d": [
           {
            "colorbar": {
             "outlinewidth": 0,
             "ticks": ""
            },
            "colorscale": [
             [
              0,
              "#0d0887"
             ],
             [
              0.1111111111111111,
              "#46039f"
             ],
             [
              0.2222222222222222,
              "#7201a8"
             ],
             [
              0.3333333333333333,
              "#9c179e"
             ],
             [
              0.4444444444444444,
              "#bd3786"
             ],
             [
              0.5555555555555556,
              "#d8576b"
             ],
             [
              0.6666666666666666,
              "#ed7953"
             ],
             [
              0.7777777777777778,
              "#fb9f3a"
             ],
             [
              0.8888888888888888,
              "#fdca26"
             ],
             [
              1,
              "#f0f921"
             ]
            ],
            "type": "histogram2d"
           }
          ],
          "histogram2dcontour": [
           {
            "colorbar": {
             "outlinewidth": 0,
             "ticks": ""
            },
            "colorscale": [
             [
              0,
              "#0d0887"
             ],
             [
              0.1111111111111111,
              "#46039f"
             ],
             [
              0.2222222222222222,
              "#7201a8"
             ],
             [
              0.3333333333333333,
              "#9c179e"
             ],
             [
              0.4444444444444444,
              "#bd3786"
             ],
             [
              0.5555555555555556,
              "#d8576b"
             ],
             [
              0.6666666666666666,
              "#ed7953"
             ],
             [
              0.7777777777777778,
              "#fb9f3a"
             ],
             [
              0.8888888888888888,
              "#fdca26"
             ],
             [
              1,
              "#f0f921"
             ]
            ],
            "type": "histogram2dcontour"
           }
          ],
          "mesh3d": [
           {
            "colorbar": {
             "outlinewidth": 0,
             "ticks": ""
            },
            "type": "mesh3d"
           }
          ],
          "parcoords": [
           {
            "line": {
             "colorbar": {
              "outlinewidth": 0,
              "ticks": ""
             }
            },
            "type": "parcoords"
           }
          ],
          "pie": [
           {
            "automargin": true,
            "type": "pie"
           }
          ],
          "scatter": [
           {
            "fillpattern": {
             "fillmode": "overlay",
             "size": 10,
             "solidity": 0.2
            },
            "type": "scatter"
           }
          ],
          "scatter3d": [
           {
            "line": {
             "colorbar": {
              "outlinewidth": 0,
              "ticks": ""
             }
            },
            "marker": {
             "colorbar": {
              "outlinewidth": 0,
              "ticks": ""
             }
            },
            "type": "scatter3d"
           }
          ],
          "scattercarpet": [
           {
            "marker": {
             "colorbar": {
              "outlinewidth": 0,
              "ticks": ""
             }
            },
            "type": "scattercarpet"
           }
          ],
          "scattergeo": [
           {
            "marker": {
             "colorbar": {
              "outlinewidth": 0,
              "ticks": ""
             }
            },
            "type": "scattergeo"
           }
          ],
          "scattergl": [
           {
            "marker": {
             "colorbar": {
              "outlinewidth": 0,
              "ticks": ""
             }
            },
            "type": "scattergl"
           }
          ],
          "scattermapbox": [
           {
            "marker": {
             "colorbar": {
              "outlinewidth": 0,
              "ticks": ""
             }
            },
            "type": "scattermapbox"
           }
          ],
          "scatterpolar": [
           {
            "marker": {
             "colorbar": {
              "outlinewidth": 0,
              "ticks": ""
             }
            },
            "type": "scatterpolar"
           }
          ],
          "scatterpolargl": [
           {
            "marker": {
             "colorbar": {
              "outlinewidth": 0,
              "ticks": ""
             }
            },
            "type": "scatterpolargl"
           }
          ],
          "scatterternary": [
           {
            "marker": {
             "colorbar": {
              "outlinewidth": 0,
              "ticks": ""
             }
            },
            "type": "scatterternary"
           }
          ],
          "surface": [
           {
            "colorbar": {
             "outlinewidth": 0,
             "ticks": ""
            },
            "colorscale": [
             [
              0,
              "#0d0887"
             ],
             [
              0.1111111111111111,
              "#46039f"
             ],
             [
              0.2222222222222222,
              "#7201a8"
             ],
             [
              0.3333333333333333,
              "#9c179e"
             ],
             [
              0.4444444444444444,
              "#bd3786"
             ],
             [
              0.5555555555555556,
              "#d8576b"
             ],
             [
              0.6666666666666666,
              "#ed7953"
             ],
             [
              0.7777777777777778,
              "#fb9f3a"
             ],
             [
              0.8888888888888888,
              "#fdca26"
             ],
             [
              1,
              "#f0f921"
             ]
            ],
            "type": "surface"
           }
          ],
          "table": [
           {
            "cells": {
             "fill": {
              "color": "#EBF0F8"
             },
             "line": {
              "color": "white"
             }
            },
            "header": {
             "fill": {
              "color": "#C8D4E3"
             },
             "line": {
              "color": "white"
             }
            },
            "type": "table"
           }
          ]
         },
         "layout": {
          "annotationdefaults": {
           "arrowcolor": "#2a3f5f",
           "arrowhead": 0,
           "arrowwidth": 1
          },
          "autotypenumbers": "strict",
          "coloraxis": {
           "colorbar": {
            "outlinewidth": 0,
            "ticks": ""
           }
          },
          "colorscale": {
           "diverging": [
            [
             0,
             "#8e0152"
            ],
            [
             0.1,
             "#c51b7d"
            ],
            [
             0.2,
             "#de77ae"
            ],
            [
             0.3,
             "#f1b6da"
            ],
            [
             0.4,
             "#fde0ef"
            ],
            [
             0.5,
             "#f7f7f7"
            ],
            [
             0.6,
             "#e6f5d0"
            ],
            [
             0.7,
             "#b8e186"
            ],
            [
             0.8,
             "#7fbc41"
            ],
            [
             0.9,
             "#4d9221"
            ],
            [
             1,
             "#276419"
            ]
           ],
           "sequential": [
            [
             0,
             "#0d0887"
            ],
            [
             0.1111111111111111,
             "#46039f"
            ],
            [
             0.2222222222222222,
             "#7201a8"
            ],
            [
             0.3333333333333333,
             "#9c179e"
            ],
            [
             0.4444444444444444,
             "#bd3786"
            ],
            [
             0.5555555555555556,
             "#d8576b"
            ],
            [
             0.6666666666666666,
             "#ed7953"
            ],
            [
             0.7777777777777778,
             "#fb9f3a"
            ],
            [
             0.8888888888888888,
             "#fdca26"
            ],
            [
             1,
             "#f0f921"
            ]
           ],
           "sequentialminus": [
            [
             0,
             "#0d0887"
            ],
            [
             0.1111111111111111,
             "#46039f"
            ],
            [
             0.2222222222222222,
             "#7201a8"
            ],
            [
             0.3333333333333333,
             "#9c179e"
            ],
            [
             0.4444444444444444,
             "#bd3786"
            ],
            [
             0.5555555555555556,
             "#d8576b"
            ],
            [
             0.6666666666666666,
             "#ed7953"
            ],
            [
             0.7777777777777778,
             "#fb9f3a"
            ],
            [
             0.8888888888888888,
             "#fdca26"
            ],
            [
             1,
             "#f0f921"
            ]
           ]
          },
          "colorway": [
           "#636efa",
           "#EF553B",
           "#00cc96",
           "#ab63fa",
           "#FFA15A",
           "#19d3f3",
           "#FF6692",
           "#B6E880",
           "#FF97FF",
           "#FECB52"
          ],
          "font": {
           "color": "#2a3f5f"
          },
          "geo": {
           "bgcolor": "white",
           "lakecolor": "white",
           "landcolor": "#E5ECF6",
           "showlakes": true,
           "showland": true,
           "subunitcolor": "white"
          },
          "hoverlabel": {
           "align": "left"
          },
          "hovermode": "closest",
          "mapbox": {
           "style": "light"
          },
          "paper_bgcolor": "white",
          "plot_bgcolor": "#E5ECF6",
          "polar": {
           "angularaxis": {
            "gridcolor": "white",
            "linecolor": "white",
            "ticks": ""
           },
           "bgcolor": "#E5ECF6",
           "radialaxis": {
            "gridcolor": "white",
            "linecolor": "white",
            "ticks": ""
           }
          },
          "scene": {
           "xaxis": {
            "backgroundcolor": "#E5ECF6",
            "gridcolor": "white",
            "gridwidth": 2,
            "linecolor": "white",
            "showbackground": true,
            "ticks": "",
            "zerolinecolor": "white"
           },
           "yaxis": {
            "backgroundcolor": "#E5ECF6",
            "gridcolor": "white",
            "gridwidth": 2,
            "linecolor": "white",
            "showbackground": true,
            "ticks": "",
            "zerolinecolor": "white"
           },
           "zaxis": {
            "backgroundcolor": "#E5ECF6",
            "gridcolor": "white",
            "gridwidth": 2,
            "linecolor": "white",
            "showbackground": true,
            "ticks": "",
            "zerolinecolor": "white"
           }
          },
          "shapedefaults": {
           "line": {
            "color": "#2a3f5f"
           }
          },
          "ternary": {
           "aaxis": {
            "gridcolor": "white",
            "linecolor": "white",
            "ticks": ""
           },
           "baxis": {
            "gridcolor": "white",
            "linecolor": "white",
            "ticks": ""
           },
           "bgcolor": "#E5ECF6",
           "caxis": {
            "gridcolor": "white",
            "linecolor": "white",
            "ticks": ""
           }
          },
          "title": {
           "x": 0.05
          },
          "xaxis": {
           "automargin": true,
           "gridcolor": "white",
           "linecolor": "white",
           "ticks": "",
           "title": {
            "standoff": 15
           },
           "zerolinecolor": "white",
           "zerolinewidth": 2
          },
          "yaxis": {
           "automargin": true,
           "gridcolor": "white",
           "linecolor": "white",
           "ticks": "",
           "title": {
            "standoff": 15
           },
           "zerolinecolor": "white",
           "zerolinewidth": 2
          }
         }
        },
        "xaxis": {
         "anchor": "y",
         "domain": [
          0,
          1
         ],
         "title": {
          "text": "x"
         }
        },
        "yaxis": {
         "anchor": "x",
         "domain": [
          0,
          1
         ],
         "title": {
          "text": "y"
         }
        }
       }
      },
      "text/html": [
       "<div>                            <div id=\"55ce00e6-57a9-4781-8a0a-f1a70f7cc126\" class=\"plotly-graph-div\" style=\"height:525px; width:100%;\"></div>            <script type=\"text/javascript\">                require([\"plotly\"], function(Plotly) {                    window.PLOTLYENV=window.PLOTLYENV || {};                                    if (document.getElementById(\"55ce00e6-57a9-4781-8a0a-f1a70f7cc126\")) {                    Plotly.newPlot(                        \"55ce00e6-57a9-4781-8a0a-f1a70f7cc126\",                        [{\"hovertemplate\":\"Label=surprised\\u003cbr\\u003ex=%{x}\\u003cbr\\u003ey=%{y}\\u003cextra\\u003e\\u003c\\u002fextra\\u003e\",\"legendgroup\":\"surprised\",\"marker\":{\"color\":\"#19D3F3\",\"opacity\":0.2,\"symbol\":\"circle\",\"size\":12},\"mode\":\"markers\",\"name\":\"surprised\",\"showlegend\":false,\"x\":[-11.589566230773926,-13.002869606018066,-28.14351463317871,-28.42656898498535,-28.333267211914062,-28.67696189880371,30.08666229248047,29.557178497314453,20.53558349609375,-6.628089427947998,-32.83731460571289,26.76082992553711,26.536909103393555,26.09601593017578,30.912073135375977,31.408931732177734,-13.85964584350586,-15.099701881408691,-16.769514083862305,-15.239594459533691,23.026945114135742,-13.254758834838867,-5.509817600250244,-22.409221649169922,-22.6558780670166,-22.48967933654785,23.0815372467041,-12.612995147705078,-20.663515090942383,31.575786590576172,-21.0736083984375,-21.522693634033203,31.00347900390625,22.655492782592773,-0.08464580774307251,0.980771005153656,-27.67673110961914,-0.6800767183303833,-1.3139164447784424,-1.0801008939743042,18.954998016357422,12.697495460510254,10.79351806640625,9.593031883239746,32.06467056274414,29.357421875,33.44416427612305,-13.65363597869873,-47.77656555175781,-21.118946075439453,-48.42477035522461,-47.31234359741211,-4.658528804779053,-6.837868690490723,16.631729125976562,14.929783821105957],\"xaxis\":\"x\",\"y\":[10.052287101745605,-42.684322357177734,4.8890581130981445,5.546316623687744,4.32315731048584,5.0785298347473145,-18.535480499267578,-18.618850708007812,-14.693599700927734,-45.703155517578125,20.936878204345703,-27.153947830200195,-27.821508407592773,-27.2856502532959,-4.1676483154296875,-18.116968154907227,-34.29484558105469,-36.27587127685547,-35.69324493408203,-32.56878662109375,25.70540428161621,-41.771358489990234,-1.5042097568511963,21.174985885620117,20.94713020324707,20.589820861816406,-28.069612503051758,-45.58145523071289,-0.6815629601478577,-13.184921264648438,-1.2767974138259888,-0.9463562965393066,-14.329843521118164,28.688251495361328,-44.84665298461914,-42.14170455932617,25.09090805053711,-42.81843566894531,-43.92335510253906,-41.33655548095703,34.032630920410156,42.18036651611328,38.551658630371094,38.107810974121094,27.53350067138672,26.794017791748047,25.444316864013672,-35.786216735839844,-15.362040519714355,9.445621490478516,-13.473570823669434,-13.698431968688965,-1.6121066808700562,-1.9607393741607666,44.51000213623047,42.80978012084961],\"yaxis\":\"y\",\"type\":\"scattergl\",\"hoverinfo\":\"skip\"},{\"hovertemplate\":\"Label=disgusted\\u003cbr\\u003ex=%{x}\\u003cbr\\u003ey=%{y}\\u003cextra\\u003e\\u003c\\u002fextra\\u003e\",\"legendgroup\":\"disgusted\",\"marker\":{\"color\":\"#EF553B\",\"opacity\":0.2,\"symbol\":\"circle\",\"size\":12},\"mode\":\"markers\",\"name\":\"disgusted\",\"showlegend\":false,\"x\":[-13.130786895751953,-47.60683059692383,-17.0801944732666,29.91433334350586,29.39768409729004,23.70720672607422,-33.787845611572266,-33.257625579833984,-35.182369232177734,26.42534637451172,11.5831937789917,9.366830825805664,30.193538665771484,30.174901962280273,-20.255348205566406,-20.561193466186523,-14.098482131958008,-12.658904075622559,-12.904547691345215,-10.014391899108887,-21.945375442504883,23.621543884277344,23.91629409790039,23.45232582092285,-15.365592956542969,30.676673889160156,0.8634471893310547,-1.5094236135482788,-0.6294180750846863,-0.6754551529884338,15.300956726074219,15.742768287658691,10.854482650756836,10.724242210388184,8.978137016296387,34.32539749145508,29.070165634155273,32.940853118896484,31.683528900146484,31.86570167541504,34.40387725830078,-23.248228073120117,-12.45233154296875,-19.675003051757812,-12.276123046875,25.80724334716797,29.838729858398438,-11.49930477142334,-3.417048931121826,15.655561447143555,16.398468017578125,14.370999336242676,15.150313377380371,28.425783157348633],\"xaxis\":\"x\",\"y\":[5.0491437911987305,-16.49871253967285,-43.63247299194336,-18.290029525756836,-18.203691482543945,31.558170318603516,19.73937225341797,24.957868576049805,24.277345657348633,-26.890764236450195,34.81993865966797,36.41407012939453,-5.190598964691162,-5.1998748779296875,11.635973930358887,8.823884963989258,-33.84027099609375,-41.5977668762207,-41.63619613647461,-40.99965286254883,21.23564338684082,-27.94884490966797,-28.727731704711914,-28.550119400024414,3.3901214599609375,-13.62633991241455,-43.50727081298828,-42.044986724853516,-41.782588958740234,-41.49882125854492,39.18696212768555,39.97587585449219,38.53636932373047,38.446197509765625,37.80424118041992,26.153337478637695,28.810274124145508,25.909151077270508,25.015024185180664,25.617673873901367,25.357778549194336,7.338202953338623,7.591495037078857,3.4571049213409424,5.2726922035217285,29.566438674926758,-8.727792739868164,4.7299723625183105,-1.160409688949585,45.50303649902344,43.83434295654297,44.60954284667969,44.7299690246582,-13.121201515197754],\"yaxis\":\"y\",\"type\":\"scattergl\",\"hoverinfo\":\"skip\"},{\"hovertemplate\":\"Label=happy\\u003cbr\\u003ex=%{x}\\u003cbr\\u003ey=%{y}\\u003cextra\\u003e\\u003c\\u002fextra\\u003e\",\"legendgroup\":\"happy\",\"marker\":{\"color\":\"#00CC96\",\"opacity\":0.2,\"symbol\":\"circle\",\"size\":12},\"mode\":\"markers\",\"name\":\"happy\",\"showlegend\":false,\"x\":[-14.69848918914795,-17.812135696411133,-28.782705307006836,29.7979736328125,-29.593843460083008,-34.542301177978516,-34.63528823852539,-35.424278259277344,-33.125362396240234,-35.414283752441406,-34.26769256591797,-33.54850769042969,-22.61293601989746,26.627309799194336,9.623649597167969,-13.95435905456543,-13.963871955871582,31.778444290161133,-15.20838737487793,-20.87637710571289,-18.828813552856445,-18.855188369750977,30.890239715576172,-47.36053466796875,31.539438247680664,-17.009170532226562,-15.71667194366455,-16.993192672729492,-22.31324005126953,-22.26815414428711,23.900327682495117,23.18147850036621,-13.228287696838379,-15.302919387817383,-14.72703742980957,-20.976417541503906,30.787738800048828,20.76534080505371,22.2021484375,-0.16981825232505798,-1.2242889404296875,-1.0485695600509644,-0.940128743648529,-0.9434422850608826,-1.202232837677002,-1.4121675491333008,19.849599838256836,18.107820510864258,15.723199844360352,9.993278503417969,29.77696990966797,30.02541732788086,33.06312942504883,33.505455017089844,25.702434539794922,22.136228561401367,-11.49780559539795,-14.229107856750488,27.01026725769043,-4.15178918838501,35.66815185546875,14.728581428527832,14.953765869140625,14.929403305053711,14.867642402648926,14.139368057250977,14.139506340026855,14.14548397064209],\"xaxis\":\"x\",\"y\":[-42.294349670410156,-38.2496223449707,5.759174346923828,-18.311203002929688,4.430814743041992,25.610000610351562,20.141307830810547,25.12728500366211,24.605676651000977,23.914003372192383,21.322816848754883,20.907270431518555,14.952442169189453,-27.454256057739258,36.199462890625,-2.454054355621338,-2.452127695083618,-20.05159568786621,-35.2652473449707,5.236969470977783,-35.15483856201172,-34.79806137084961,-8.994440078735352,-13.11082935333252,-3.5927820205688477,7.389007568359375,-48.95245361328125,-50.25286865234375,-39.181785583496094,21.38978385925293,-28.53838539123535,-28.45108985900879,7.177563667297363,-44.755531311035156,-41.8396110534668,-0.5778120756149292,-13.376336097717285,27.723066329956055,27.923595428466797,-44.870887756347656,-42.12448501586914,-42.291683197021484,-42.92850875854492,-44.07399368286133,-43.853126525878906,-41.606937408447266,34.89406967163086,33.63999557495117,39.90670394897461,38.25916290283203,28.944229125976562,27.050121307373047,25.616514205932617,26.012510299682617,35.5933952331543,36.79914474487305,-35.47645950317383,2.3552260398864746,30.205520629882812,-0.8419774770736694,-6.722318649291992,43.96361541748047,43.085914611816406,45.470115661621094,45.25739288330078,44.28262710571289,44.281639099121094,44.950904846191406],\"yaxis\":\"y\",\"type\":\"scattergl\",\"hoverinfo\":\"skip\"},{\"hovertemplate\":\"Label=sad\\u003cbr\\u003ex=%{x}\\u003cbr\\u003ey=%{y}\\u003cextra\\u003e\\u003c\\u002fextra\\u003e\",\"legendgroup\":\"sad\",\"marker\":{\"color\":\"#FFA15A\",\"opacity\":0.2,\"symbol\":\"circle\",\"size\":12},\"mode\":\"markers\",\"name\":\"sad\",\"showlegend\":false,\"x\":[-14.788119316101074,-14.982471466064453,23.789098739624023,-28.739360809326172,-28.77389907836914,-29.59651756286621,-33.4810791015625,-34.2203483581543,-34.381370544433594,-34.98313903808594,-33.819461822509766,26.605985641479492,31.945085525512695,-15.942008018493652,-13.841291427612305,31.789886474609375,29.629060745239258,-11.330392837524414,-10.159485816955566,-13.524264335632324,-22.65450668334961,-22.355350494384766,-21.82032585144043,-21.913171768188477,23.947425842285156,-21.433252334594727,23.357406616210938,-12.150784492492676,-21.161367416381836,31.721179962158203,30.392553329467773,-19.976165771484375,0.5538502931594849,1.0230450630187988,25.103981018066406,-28.27606773376465,-0.39973151683807373,18.107702255249023,9.174127578735352,28.398502349853516,29.577045440673828,29.37457847595215,32.34824752807617,34.201324462890625,32.38430404663086,20.93280029296875,-10.922184944152832,-14.220693588256836,-47.752220153808594,-46.952632904052734,22.712488174438477,35.77082061767578,12.818917274475098,16.39853286743164],\"xaxis\":\"x\",\"y\":[-42.92301559448242,5.20681095123291,31.664981842041016,4.446018218994141,5.080982208251953,4.2866010665893555,24.478431701660156,21.67272186279297,24.436687469482422,23.564847946166992,19.96316909790039,-26.872865676879883,-20.75191879272461,-37.12697982788086,-34.323219299316406,-9.040214538574219,-8.684978485107422,5.441238880157471,-41.053382873535156,6.4632439613342285,-39.68337631225586,20.57314109802246,21.06800651550293,20.462459564208984,-28.39826774597168,20.913724899291992,-28.02137565612793,-42.51485061645508,-0.0314103364944458,-13.103586196899414,-13.921976089477539,-1.6064385175704956,-42.518619537353516,-44.78725814819336,30.647443771362305,25.351346969604492,-41.85197830200195,33.68665313720703,38.56089782714844,26.965620040893555,27.402233123779297,27.778764724731445,26.409988403320312,26.39932632446289,26.50628089904785,29.537553787231445,-34.73793411254883,2.2704856395721436,-12.722358703613281,-13.072929382324219,25.974647521972656,-6.629618167877197,43.91440963745117,43.83439636230469],\"yaxis\":\"y\",\"type\":\"scattergl\",\"hoverinfo\":\"skip\"},{\"hovertemplate\":\"Label=angry\\u003cbr\\u003ex=%{x}\\u003cbr\\u003ey=%{y}\\u003cextra\\u003e\\u003c\\u002fextra\\u003e\",\"legendgroup\":\"angry\",\"marker\":{\"color\":\"#636EFA\",\"opacity\":0.2,\"symbol\":\"circle\",\"size\":12},\"mode\":\"markers\",\"name\":\"angry\",\"showlegend\":false,\"x\":[-47.50059509277344,-18.361679077148438,30.511638641357422,29.966901779174805,29.46142578125,-34.686798095703125,-34.44524383544922,-5.794020175933838,-34.31852722167969,-33.87074279785156,-33.28887939453125,26.112770080566406,17.562999725341797,6.191951274871826,6.156253814697266,10.724359512329102,-10.580841064453125,29.478778839111328,9.325185775756836,-23.334367752075195,-9.826886177062988,-14.346905708312988,-13.1933012008667,-4.816368103027344,-15.744993209838867,13.129287719726562,-14.615267753601074,-15.53695297241211,-21.09343910217285,-19.936344146728516,0.1456054151058197,28.307710647583008,-0.9610872864723206,-27.768896102905273,10.081954956054688,31.054988861083984,31.096050262451172,30.170860290527344,-18.270784378051758,28.973487854003906,27.656522750854492,-2.217142343521118,14.957725524902344,15.232504844665527,14.916714668273926,14.279293060302734],\"xaxis\":\"x\",\"y\":[-16.594511032104492,-37.5495491027832,-18.258914947509766,-18.797725677490234,-17.771446228027344,22.182085037231445,25.9798641204834,-45.5304069519043,20.93054962158203,19.44356918334961,21.037006378173828,-26.838003158569336,31.957651138305664,36.015499114990234,36.47171401977539,34.98208999633789,-4.599956035614014,-9.282567024230957,20.624181747436523,8.897187232971191,-39.94397735595703,5.034454822540283,-41.851226806640625,0.12429257482290268,-42.233402252197266,29.568166732788086,8.732240676879883,-43.61192321777344,0.9683310985565186,-1.5878313779830933,-43.27679443359375,-17.98318862915039,-44.18932342529297,25.196388244628906,38.67276382446289,25.326602935791016,27.747177124023438,27.516998291015625,-35.63619613647461,-9.442742347717285,-9.918429374694824,0.6855014562606812,43.77016830444336,44.2663459777832,44.825077056884766,45.32773971557617],\"yaxis\":\"y\",\"type\":\"scattergl\",\"hoverinfo\":\"skip\"},{\"hovertemplate\":\"Label=neutral\\u003cbr\\u003ex=%{x}\\u003cbr\\u003ey=%{y}\\u003cextra\\u003e\\u003c\\u002fextra\\u003e\",\"legendgroup\":\"neutral\",\"marker\":{\"color\":\"#AB63FA\",\"opacity\":0.2,\"symbol\":\"circle\",\"size\":12},\"mode\":\"markers\",\"name\":\"neutral\",\"showlegend\":false,\"x\":[30.574445724487305,-34.99129104614258,-34.56494903564453,-35.14191436767578,-33.23579025268555,-32.916202545166016,-33.498355865478516,18.39984703063965,9.71889877319336,11.139606475830078,10.640670776367188,-22.90238380432129,-23.600833892822266,-48.48147964477539,-18.265771865844727,-14.821958541870117,-18.995746612548828,-21.96344566345215,-21.893146514892578,13.132226943969727,-13.250351905822754,-19.986682891845703,20.91851043701172,22.565937042236328,0.31044864654541016,-28.136737823486328,-27.416654586791992,-0.018481386825442314,19.100149154663086,15.412166595458984,9.207873344421387,28.59971809387207,29.905370712280273,32.206016540527344,31.475360870361328,31.25655174255371,30.224763870239258,36.286582946777344,13.189299583435059,26.936691284179688,-30.408016204833984,-18.203664779663086,-12.110706329345703,-11.185358047485352,-6.433359146118164,-6.933909893035889,13.515106201171875],\"xaxis\":\"x\",\"y\":[-18.022579193115234,25.67269515991211,26.230098724365234,23.62954330444336,19.791715621948242,20.893863677978516,19.179216384887695,32.55226516723633,36.08491134643555,34.82199478149414,35.071876525878906,10.111238479614258,4.124870777130127,-15.47017765045166,9.11428165435791,-35.079315185546875,-35.68116760253906,-38.9985466003418,20.55735206604004,29.583227157592773,-39.80298614501953,-1.0107877254486084,27.792999267578125,28.520910263061523,-44.25579071044922,25.048425674438477,25.035755157470703,-42.53126525878906,34.08617401123047,39.0525016784668,38.549129486083984,29.225250244140625,28.33675193786621,26.515121459960938,26.317523956298828,25.510608673095703,27.36159324645996,-5.975545883178711,36.63210678100586,-15.859129905700684,9.194805145263672,0.46074342727661133,-38.71558380126953,4.763210773468018,-0.90986168384552,-1.9561480283737183,43.74522399902344],\"yaxis\":\"y\",\"type\":\"scattergl\",\"hoverinfo\":\"skip\"},{\"customdata\":[[\"surprised\"],[\"surprised\"],[\"surprised\"],[\"surprised\"],[\"surprised\"],[\"surprised\"],[\"surprised\"],[\"surprised\"],[\"surprised\"],[\"surprised\"],[\"surprised\"],[\"surprised\"],[\"surprised\"],[\"surprised\"],[\"surprised\"],[\"surprised\"],[\"surprised\"],[\"surprised\"],[\"surprised\"],[\"surprised\"],[\"surprised\"],[\"surprised\"],[\"surprised\"],[\"surprised\"],[\"surprised\"],[\"surprised\"],[\"surprised\"],[\"surprised\"],[\"surprised\"],[\"surprised\"],[\"surprised\"],[\"surprised\"],[\"surprised\"],[\"surprised\"],[\"surprised\"],[\"surprised\"],[\"surprised\"],[\"surprised\"],[\"surprised\"],[\"surprised\"],[\"surprised\"],[\"surprised\"]],\"hovertemplate\":\"Predictions=surprised\\u003cbr\\u003eCorrect=True\\u003cbr\\u003ex=%{x}\\u003cbr\\u003ey=%{y}\\u003cbr\\u003eLabel=%{customdata[0]}\\u003cextra\\u003e\\u003c\\u002fextra\\u003e\",\"legendgroup\":\"surprised, True\",\"marker\":{\"color\":\"#19D3F3\",\"symbol\":\"circle\"},\"mode\":\"markers\",\"name\":\"surprised, True\",\"showlegend\":true,\"x\":[-11.589566230773926,-13.002869606018066,-28.14351463317871,-28.42656898498535,-28.67696189880371,30.08666229248047,20.53558349609375,-6.628089427947998,26.76082992553711,26.536909103393555,26.09601593017578,31.408931732177734,-13.85964584350586,-15.099701881408691,-16.769514083862305,-15.239594459533691,23.026945114135742,-13.254758834838867,-5.509817600250244,-22.409221649169922,-22.6558780670166,-22.48967933654785,23.0815372467041,-20.663515090942383,-21.0736083984375,31.00347900390625,22.655492782592773,-0.08464580774307251,0.980771005153656,-27.67673110961914,-0.6800767183303833,-1.3139164447784424,18.954998016357422,12.697495460510254,29.357421875,-13.65363597869873,-47.77656555175781,-48.42477035522461,-47.31234359741211,-4.658528804779053,-6.837868690490723,16.631729125976562],\"xaxis\":\"x\",\"y\":[10.052287101745605,-42.684322357177734,4.8890581130981445,5.546316623687744,5.0785298347473145,-18.535480499267578,-14.693599700927734,-45.703155517578125,-27.153947830200195,-27.821508407592773,-27.2856502532959,-18.116968154907227,-34.29484558105469,-36.27587127685547,-35.69324493408203,-32.56878662109375,25.70540428161621,-41.771358489990234,-1.5042097568511963,21.174985885620117,20.94713020324707,20.589820861816406,-28.069612503051758,-0.6815629601478577,-1.2767974138259888,-14.329843521118164,28.688251495361328,-44.84665298461914,-42.14170455932617,25.09090805053711,-42.81843566894531,-43.92335510253906,34.032630920410156,42.18036651611328,26.794017791748047,-35.786216735839844,-15.362040519714355,-13.473570823669434,-13.698431968688965,-1.6121066808700562,-1.9607393741607666,44.51000213623047],\"yaxis\":\"y\",\"type\":\"scattergl\"},{\"customdata\":[[\"sad\"],[\"angry\"],[\"angry\"],[\"happy\"],[\"happy\"],[\"sad\"],[\"sad\"],[\"sad\"],[\"neutral\"],[\"disgusted\"],[\"neutral\"],[\"disgusted\"],[\"neutral\"],[\"neutral\"],[\"neutral\"],[\"happy\"]],\"hovertemplate\":\"Predictions=surprised\\u003cbr\\u003eCorrect=False\\u003cbr\\u003ex=%{x}\\u003cbr\\u003ey=%{y}\\u003cbr\\u003eLabel=%{customdata[0]}\\u003cextra\\u003e\\u003c\\u002fextra\\u003e\",\"legendgroup\":\"surprised, False\",\"marker\":{\"color\":\"#19D3F3\",\"symbol\":\"x\"},\"mode\":\"markers\",\"name\":\"surprised, False\",\"showlegend\":true,\"x\":[-34.381370544433594,-33.28887939453125,29.478778839111328,30.890239715576172,-15.71667194366455,-22.65450668334961,-21.82032585144043,30.392553329467773,22.565937042236328,-1.5094236135482788,-0.018481386825442314,15.300956726074219,28.59971809387207,36.286582946777344,-6.433359146118164,35.66815185546875],\"xaxis\":\"x\",\"y\":[24.436687469482422,21.037006378173828,-9.282567024230957,-8.994440078735352,-48.95245361328125,-39.68337631225586,21.06800651550293,-13.921976089477539,28.520910263061523,-42.044986724853516,-42.53126525878906,39.18696212768555,29.225250244140625,-5.975545883178711,-0.90986168384552,-6.722318649291992],\"yaxis\":\"y\",\"type\":\"scattergl\"},{\"customdata\":[[\"happy\"],[\"happy\"],[\"happy\"],[\"happy\"],[\"happy\"],[\"happy\"],[\"happy\"],[\"happy\"],[\"happy\"],[\"happy\"],[\"happy\"],[\"happy\"],[\"happy\"],[\"happy\"],[\"happy\"],[\"happy\"],[\"happy\"],[\"happy\"],[\"happy\"],[\"happy\"],[\"happy\"],[\"happy\"],[\"happy\"],[\"happy\"],[\"happy\"],[\"happy\"],[\"happy\"],[\"happy\"],[\"happy\"],[\"happy\"],[\"happy\"],[\"happy\"],[\"happy\"],[\"happy\"],[\"happy\"],[\"happy\"],[\"happy\"],[\"happy\"],[\"happy\"],[\"happy\"],[\"happy\"],[\"happy\"],[\"happy\"],[\"happy\"],[\"happy\"],[\"happy\"],[\"happy\"],[\"happy\"],[\"happy\"],[\"happy\"],[\"happy\"],[\"happy\"],[\"happy\"],[\"happy\"],[\"happy\"],[\"happy\"]],\"hovertemplate\":\"Predictions=happy\\u003cbr\\u003eCorrect=True\\u003cbr\\u003ex=%{x}\\u003cbr\\u003ey=%{y}\\u003cbr\\u003eLabel=%{customdata[0]}\\u003cextra\\u003e\\u003c\\u002fextra\\u003e\",\"legendgroup\":\"happy, True\",\"marker\":{\"color\":\"#00CC96\",\"symbol\":\"circle\"},\"mode\":\"markers\",\"name\":\"happy, True\",\"showlegend\":true,\"x\":[-14.69848918914795,-17.812135696411133,-28.782705307006836,29.7979736328125,-29.593843460083008,-34.542301177978516,-34.63528823852539,-35.424278259277344,-33.125362396240234,-35.414283752441406,-34.26769256591797,-33.54850769042969,-22.61293601989746,26.627309799194336,9.623649597167969,-13.95435905456543,-13.963871955871582,31.778444290161133,-15.20838737487793,-20.87637710571289,-18.828813552856445,-18.855188369750977,31.539438247680664,-16.993192672729492,-22.31324005126953,-22.26815414428711,23.18147850036621,-13.228287696838379,-14.72703742980957,-20.976417541503906,30.787738800048828,20.76534080505371,22.2021484375,-1.2242889404296875,-1.0485695600509644,-0.940128743648529,-0.9434422850608826,-1.202232837677002,-1.4121675491333008,19.849599838256836,18.107820510864258,9.993278503417969,29.77696990966797,30.02541732788086,33.06312942504883,25.702434539794922,22.136228561401367,-11.49780559539795,-14.229107856750488,27.01026725769043,-4.15178918838501,14.953765869140625,14.929403305053711,14.867642402648926,14.139368057250977,14.14548397064209],\"xaxis\":\"x\",\"y\":[-42.294349670410156,-38.2496223449707,5.759174346923828,-18.311203002929688,4.430814743041992,25.610000610351562,20.141307830810547,25.12728500366211,24.605676651000977,23.914003372192383,21.322816848754883,20.907270431518555,14.952442169189453,-27.454256057739258,36.199462890625,-2.454054355621338,-2.452127695083618,-20.05159568786621,-35.2652473449707,5.236969470977783,-35.15483856201172,-34.79806137084961,-3.5927820205688477,-50.25286865234375,-39.181785583496094,21.38978385925293,-28.45108985900879,7.177563667297363,-41.8396110534668,-0.5778120756149292,-13.376336097717285,27.723066329956055,27.923595428466797,-42.12448501586914,-42.291683197021484,-42.92850875854492,-44.07399368286133,-43.853126525878906,-41.606937408447266,34.89406967163086,33.63999557495117,38.25916290283203,28.944229125976562,27.050121307373047,25.616514205932617,35.5933952331543,36.79914474487305,-35.47645950317383,2.3552260398864746,30.205520629882812,-0.8419774770736694,43.085914611816406,45.470115661621094,45.25739288330078,44.28262710571289,44.950904846191406],\"yaxis\":\"y\",\"type\":\"scattergl\"},{\"customdata\":[[\"disgusted\"],[\"sad\"],[\"sad\"],[\"surprised\"],[\"disgusted\"],[\"angry\"],[\"angry\"],[\"neutral\"],[\"sad\"],[\"angry\"],[\"neutral\"],[\"disgusted\"],[\"neutral\"],[\"angry\"],[\"surprised\"]],\"hovertemplate\":\"Predictions=happy\\u003cbr\\u003eCorrect=False\\u003cbr\\u003ex=%{x}\\u003cbr\\u003ey=%{y}\\u003cbr\\u003eLabel=%{customdata[0]}\\u003cextra\\u003e\\u003c\\u002fextra\\u003e\",\"legendgroup\":\"happy, False\",\"marker\":{\"color\":\"#00CC96\",\"symbol\":\"x\"},\"mode\":\"markers\",\"name\":\"happy, False\",\"showlegend\":true,\"x\":[-13.130786895751953,-14.788119316101074,-28.739360809326172,29.557178497314453,-35.182369232177734,6.191951274871826,9.325185775756836,-13.250351905822754,0.5538502931594849,0.1456054151058197,9.207873344421387,10.854482650756836,32.206016540527344,30.170860290527344,14.929783821105957],\"xaxis\":\"x\",\"y\":[5.0491437911987305,-42.92301559448242,4.446018218994141,-18.618850708007812,24.277345657348633,36.015499114990234,20.624181747436523,-39.80298614501953,-42.518619537353516,-43.27679443359375,38.549129486083984,38.53636932373047,26.515121459960938,27.516998291015625,42.80978012084961],\"yaxis\":\"y\",\"type\":\"scattergl\"},{\"customdata\":[[\"neutral\"],[\"neutral\"],[\"neutral\"],[\"neutral\"],[\"neutral\"],[\"neutral\"],[\"neutral\"],[\"neutral\"],[\"neutral\"],[\"neutral\"],[\"neutral\"],[\"neutral\"],[\"neutral\"],[\"neutral\"],[\"neutral\"],[\"neutral\"],[\"neutral\"],[\"neutral\"],[\"neutral\"],[\"neutral\"],[\"neutral\"],[\"neutral\"],[\"neutral\"],[\"neutral\"],[\"neutral\"],[\"neutral\"],[\"neutral\"],[\"neutral\"],[\"neutral\"],[\"neutral\"],[\"neutral\"],[\"neutral\"],[\"neutral\"]],\"hovertemplate\":\"Predictions=neutral\\u003cbr\\u003eCorrect=True\\u003cbr\\u003ex=%{x}\\u003cbr\\u003ey=%{y}\\u003cbr\\u003eLabel=%{customdata[0]}\\u003cextra\\u003e\\u003c\\u002fextra\\u003e\",\"legendgroup\":\"neutral, True\",\"marker\":{\"color\":\"#AB63FA\",\"symbol\":\"circle\"},\"mode\":\"markers\",\"name\":\"neutral, True\",\"showlegend\":true,\"x\":[30.574445724487305,-34.99129104614258,-34.56494903564453,-35.14191436767578,-33.23579025268555,-32.916202545166016,-33.498355865478516,18.39984703063965,10.640670776367188,-22.90238380432129,-23.600833892822266,-18.265771865844727,-14.821958541870117,-18.995746612548828,-21.96344566345215,-21.893146514892578,13.132226943969727,20.91851043701172,0.31044864654541016,-28.136737823486328,-27.416654586791992,19.100149154663086,15.412166595458984,31.475360870361328,31.25655174255371,30.224763870239258,13.189299583435059,26.936691284179688,-18.203664779663086,-12.110706329345703,-11.185358047485352,-6.933909893035889,13.515106201171875],\"xaxis\":\"x\",\"y\":[-18.022579193115234,25.67269515991211,26.230098724365234,23.62954330444336,19.791715621948242,20.893863677978516,19.179216384887695,32.55226516723633,35.071876525878906,10.111238479614258,4.124870777130127,9.11428165435791,-35.079315185546875,-35.68116760253906,-38.9985466003418,20.55735206604004,29.583227157592773,27.792999267578125,-44.25579071044922,25.048425674438477,25.035755157470703,34.08617401123047,39.0525016784668,26.317523956298828,25.510608673095703,27.36159324645996,36.63210678100586,-15.859129905700684,0.46074342727661133,-38.71558380126953,4.763210773468018,-1.9561480283737183,43.74522399902344],\"yaxis\":\"y\",\"type\":\"scattergl\"},{\"customdata\":[[\"sad\"],[\"angry\"],[\"surprised\"],[\"surprised\"],[\"surprised\"],[\"surprised\"],[\"happy\"],[\"surprised\"],[\"surprised\"],[\"surprised\"],[\"happy\"],[\"angry\"]],\"hovertemplate\":\"Predictions=neutral\\u003cbr\\u003eCorrect=False\\u003cbr\\u003ex=%{x}\\u003cbr\\u003ey=%{y}\\u003cbr\\u003eLabel=%{customdata[0]}\\u003cextra\\u003e\\u003c\\u002fextra\\u003e\",\"legendgroup\":\"neutral, False\",\"marker\":{\"color\":\"#AB63FA\",\"symbol\":\"x\"},\"mode\":\"markers\",\"name\":\"neutral, False\",\"showlegend\":true,\"x\":[-14.982471466064453,-34.686798095703125,-12.612995147705078,31.575786590576172,-21.522693634033203,-1.0801008939743042,15.723199844360352,10.79351806640625,33.44416427612305,-21.118946075439453,14.728581428527832,15.232504844665527],\"xaxis\":\"x\",\"y\":[5.20681095123291,22.182085037231445,-45.58145523071289,-13.184921264648438,-0.9463562965393066,-41.33655548095703,39.90670394897461,38.551658630371094,25.444316864013672,9.445621490478516,43.96361541748047,44.2663459777832],\"yaxis\":\"y\",\"type\":\"scattergl\"},{\"customdata\":[[\"disgusted\"],[\"disgusted\"],[\"disgusted\"],[\"disgusted\"],[\"disgusted\"],[\"disgusted\"],[\"disgusted\"],[\"disgusted\"],[\"disgusted\"],[\"disgusted\"],[\"disgusted\"],[\"disgusted\"],[\"disgusted\"],[\"disgusted\"],[\"disgusted\"],[\"disgusted\"],[\"disgusted\"],[\"disgusted\"],[\"disgusted\"],[\"disgusted\"],[\"disgusted\"],[\"disgusted\"],[\"disgusted\"],[\"disgusted\"],[\"disgusted\"],[\"disgusted\"],[\"disgusted\"],[\"disgusted\"],[\"disgusted\"],[\"disgusted\"],[\"disgusted\"],[\"disgusted\"],[\"disgusted\"],[\"disgusted\"],[\"disgusted\"],[\"disgusted\"],[\"disgusted\"],[\"disgusted\"],[\"disgusted\"],[\"disgusted\"],[\"disgusted\"]],\"hovertemplate\":\"Predictions=disgusted\\u003cbr\\u003eCorrect=True\\u003cbr\\u003ex=%{x}\\u003cbr\\u003ey=%{y}\\u003cbr\\u003eLabel=%{customdata[0]}\\u003cextra\\u003e\\u003c\\u002fextra\\u003e\",\"legendgroup\":\"disgusted, True\",\"marker\":{\"color\":\"#EF553B\",\"symbol\":\"circle\"},\"mode\":\"markers\",\"name\":\"disgusted, True\",\"showlegend\":true,\"x\":[-47.60683059692383,-17.0801944732666,29.91433334350586,29.39768409729004,23.70720672607422,-33.787845611572266,-33.257625579833984,26.42534637451172,11.5831937789917,9.366830825805664,30.193538665771484,30.174901962280273,-20.255348205566406,-20.561193466186523,-14.098482131958008,-12.658904075622559,-12.904547691345215,-10.014391899108887,-21.945375442504883,23.621543884277344,23.91629409790039,23.45232582092285,30.676673889160156,-0.6294180750846863,15.742768287658691,8.978137016296387,34.32539749145508,29.070165634155273,31.683528900146484,31.86570167541504,34.40387725830078,-12.45233154296875,-12.276123046875,25.80724334716797,29.838729858398438,-11.49930477142334,-3.417048931121826,15.655561447143555,14.370999336242676,15.150313377380371,28.425783157348633],\"xaxis\":\"x\",\"y\":[-16.49871253967285,-43.63247299194336,-18.290029525756836,-18.203691482543945,31.558170318603516,19.73937225341797,24.957868576049805,-26.890764236450195,34.81993865966797,36.41407012939453,-5.190598964691162,-5.1998748779296875,11.635973930358887,8.823884963989258,-33.84027099609375,-41.5977668762207,-41.63619613647461,-40.99965286254883,21.23564338684082,-27.94884490966797,-28.727731704711914,-28.550119400024414,-13.62633991241455,-41.782588958740234,39.97587585449219,37.80424118041992,26.153337478637695,28.810274124145508,25.015024185180664,25.617673873901367,25.357778549194336,7.591495037078857,5.2726922035217285,29.566438674926758,-8.727792739868164,4.7299723625183105,-1.160409688949585,45.50303649902344,44.60954284667969,44.7299690246582,-13.121201515197754],\"yaxis\":\"y\",\"type\":\"scattergl\"},{\"customdata\":[[\"angry\"],[\"neutral\"],[\"angry\"],[\"happy\"],[\"happy\"],[\"angry\"],[\"angry\"],[\"happy\"]],\"hovertemplate\":\"Predictions=disgusted\\u003cbr\\u003eCorrect=False\\u003cbr\\u003ex=%{x}\\u003cbr\\u003ey=%{y}\\u003cbr\\u003eLabel=%{customdata[0]}\\u003cextra\\u003e\\u003c\\u002fextra\\u003e\",\"legendgroup\":\"disgusted, False\",\"marker\":{\"color\":\"#EF553B\",\"symbol\":\"x\"},\"mode\":\"markers\",\"name\":\"disgusted, False\",\"showlegend\":true,\"x\":[29.46142578125,11.139606475830078,13.129287719726562,23.900327682495117,-15.302919387817383,-15.53695297241211,-21.09343910217285,-0.16981825232505798],\"xaxis\":\"x\",\"y\":[-17.771446228027344,34.82199478149414,29.568166732788086,-28.53838539123535,-44.755531311035156,-43.61192321777344,0.9683310985565186,-44.870887756347656],\"yaxis\":\"y\",\"type\":\"scattergl\"},{\"customdata\":[[\"sad\"],[\"sad\"],[\"sad\"],[\"sad\"],[\"sad\"],[\"sad\"],[\"sad\"],[\"sad\"],[\"sad\"],[\"sad\"],[\"sad\"],[\"sad\"],[\"sad\"],[\"sad\"],[\"sad\"],[\"sad\"],[\"sad\"],[\"sad\"],[\"sad\"],[\"sad\"],[\"sad\"],[\"sad\"],[\"sad\"],[\"sad\"],[\"sad\"],[\"sad\"],[\"sad\"],[\"sad\"],[\"sad\"],[\"sad\"],[\"sad\"],[\"sad\"],[\"sad\"],[\"sad\"],[\"sad\"],[\"sad\"],[\"sad\"],[\"sad\"],[\"sad\"],[\"sad\"],[\"sad\"],[\"sad\"]],\"hovertemplate\":\"Predictions=sad\\u003cbr\\u003eCorrect=True\\u003cbr\\u003ex=%{x}\\u003cbr\\u003ey=%{y}\\u003cbr\\u003eLabel=%{customdata[0]}\\u003cextra\\u003e\\u003c\\u002fextra\\u003e\",\"legendgroup\":\"sad, True\",\"marker\":{\"color\":\"#FFA15A\",\"symbol\":\"circle\"},\"mode\":\"markers\",\"name\":\"sad, True\",\"showlegend\":true,\"x\":[23.789098739624023,-28.77389907836914,-29.59651756286621,-33.4810791015625,-34.2203483581543,-34.98313903808594,26.605985641479492,31.945085525512695,-13.841291427612305,31.789886474609375,29.629060745239258,-11.330392837524414,-10.159485816955566,-13.524264335632324,-22.355350494384766,-21.913171768188477,23.947425842285156,-21.433252334594727,23.357406616210938,-21.161367416381836,31.721179962158203,-19.976165771484375,1.0230450630187988,25.103981018066406,-28.27606773376465,-0.39973151683807373,18.107702255249023,9.174127578735352,28.398502349853516,29.577045440673828,29.37457847595215,32.34824752807617,34.201324462890625,32.38430404663086,20.93280029296875,-10.922184944152832,-14.220693588256836,-47.752220153808594,-46.952632904052734,22.712488174438477,12.818917274475098,16.39853286743164],\"xaxis\":\"x\",\"y\":[31.664981842041016,5.080982208251953,4.2866010665893555,24.478431701660156,21.67272186279297,23.564847946166992,-26.872865676879883,-20.75191879272461,-34.323219299316406,-9.040214538574219,-8.684978485107422,5.441238880157471,-41.053382873535156,6.4632439613342285,20.57314109802246,20.462459564208984,-28.39826774597168,20.913724899291992,-28.02137565612793,-0.0314103364944458,-13.103586196899414,-1.6064385175704956,-44.78725814819336,30.647443771362305,25.351346969604492,-41.85197830200195,33.68665313720703,38.56089782714844,26.965620040893555,27.402233123779297,27.778764724731445,26.409988403320312,26.39932632446289,26.50628089904785,29.537553787231445,-34.73793411254883,2.2704856395721436,-12.722358703613281,-13.072929382324219,25.974647521972656,43.91440963745117,43.83439636230469],\"yaxis\":\"y\",\"type\":\"scattergl\"},{\"customdata\":[[\"angry\"],[\"surprised\"],[\"angry\"],[\"surprised\"],[\"angry\"],[\"angry\"],[\"happy\"],[\"disgusted\"],[\"neutral\"],[\"disgusted\"],[\"surprised\"],[\"disgusted\"],[\"neutral\"],[\"surprised\"],[\"disgusted\"],[\"happy\"],[\"disgusted\"],[\"neutral\"],[\"angry\"],[\"disgusted\"]],\"hovertemplate\":\"Predictions=sad\\u003cbr\\u003eCorrect=False\\u003cbr\\u003ex=%{x}\\u003cbr\\u003ey=%{y}\\u003cbr\\u003eLabel=%{customdata[0]}\\u003cextra\\u003e\\u003c\\u002fextra\\u003e\",\"legendgroup\":\"sad, False\",\"marker\":{\"color\":\"#FFA15A\",\"symbol\":\"x\"},\"mode\":\"markers\",\"name\":\"sad, False\",\"showlegend\":true,\"x\":[-47.50059509277344,-28.333267211914062,-34.31852722167969,-32.83731460571289,26.112770080566406,-23.334367752075195,-17.009170532226562,-15.365592956542969,-19.986682891845703,0.8634471893310547,9.593031883239746,10.724242210388184,29.905370712280273,32.06467056274414,32.940853118896484,33.505455017089844,-23.248228073120117,-30.408016204833984,-18.270784378051758,16.398468017578125],\"xaxis\":\"x\",\"y\":[-16.594511032104492,4.32315731048584,20.93054962158203,20.936878204345703,-26.838003158569336,8.897187232971191,7.389007568359375,3.3901214599609375,-1.0107877254486084,-43.50727081298828,38.107810974121094,38.446197509765625,28.33675193786621,27.53350067138672,25.909151077270508,26.012510299682617,7.338202953338623,9.194805145263672,-35.63619613647461,43.83434295654297],\"yaxis\":\"y\",\"type\":\"scattergl\"},{\"customdata\":[[\"angry\"],[\"angry\"],[\"angry\"],[\"angry\"],[\"angry\"],[\"angry\"],[\"angry\"],[\"angry\"],[\"angry\"],[\"angry\"],[\"angry\"],[\"angry\"],[\"angry\"],[\"angry\"],[\"angry\"],[\"angry\"],[\"angry\"],[\"angry\"],[\"angry\"],[\"angry\"],[\"angry\"],[\"angry\"],[\"angry\"],[\"angry\"],[\"angry\"],[\"angry\"],[\"angry\"],[\"angry\"],[\"angry\"]],\"hovertemplate\":\"Predictions=angry\\u003cbr\\u003eCorrect=True\\u003cbr\\u003ex=%{x}\\u003cbr\\u003ey=%{y}\\u003cbr\\u003eLabel=%{customdata[0]}\\u003cextra\\u003e\\u003c\\u002fextra\\u003e\",\"legendgroup\":\"angry, True\",\"marker\":{\"color\":\"#636EFA\",\"symbol\":\"circle\"},\"mode\":\"markers\",\"name\":\"angry, True\",\"showlegend\":true,\"x\":[-18.361679077148438,30.511638641357422,29.966901779174805,-34.44524383544922,-5.794020175933838,-33.87074279785156,17.562999725341797,6.156253814697266,10.724359512329102,-10.580841064453125,-9.826886177062988,-14.346905708312988,-13.1933012008667,-4.816368103027344,-15.744993209838867,-14.615267753601074,-19.936344146728516,28.307710647583008,-0.9610872864723206,-27.768896102905273,10.081954956054688,31.054988861083984,31.096050262451172,28.973487854003906,27.656522750854492,-2.217142343521118,14.957725524902344,14.916714668273926,14.279293060302734],\"xaxis\":\"x\",\"y\":[-37.5495491027832,-18.258914947509766,-18.797725677490234,25.9798641204834,-45.5304069519043,19.44356918334961,31.957651138305664,36.47171401977539,34.98208999633789,-4.599956035614014,-39.94397735595703,5.034454822540283,-41.851226806640625,0.12429257482290268,-42.233402252197266,8.732240676879883,-1.5878313779830933,-17.98318862915039,-44.18932342529297,25.196388244628906,38.67276382446289,25.326602935791016,27.747177124023438,-9.442742347717285,-9.918429374694824,0.6855014562606812,43.77016830444336,44.825077056884766,45.32773971557617],\"yaxis\":\"y\",\"type\":\"scattergl\"},{\"customdata\":[[\"sad\"],[\"neutral\"],[\"surprised\"],[\"sad\"],[\"neutral\"],[\"happy\"],[\"sad\"],[\"disgusted\"],[\"disgusted\"],[\"sad\"],[\"happy\"]],\"hovertemplate\":\"Predictions=angry\\u003cbr\\u003eCorrect=False\\u003cbr\\u003ex=%{x}\\u003cbr\\u003ey=%{y}\\u003cbr\\u003eLabel=%{customdata[0]}\\u003cextra\\u003e\\u003c\\u002fextra\\u003e\",\"legendgroup\":\"angry, False\",\"marker\":{\"color\":\"#636EFA\",\"symbol\":\"x\"},\"mode\":\"markers\",\"name\":\"angry, False\",\"showlegend\":true,\"x\":[-33.819461822509766,9.71889877319336,30.912073135375977,-15.942008018493652,-48.48147964477539,-47.36053466796875,-12.150784492492676,-0.6754551529884338,-19.675003051757812,35.77082061767578,14.139506340026855],\"xaxis\":\"x\",\"y\":[19.96316909790039,36.08491134643555,-4.1676483154296875,-37.12697982788086,-15.47017765045166,-13.11082935333252,-42.51485061645508,-41.49882125854492,3.4571049213409424,-6.629618167877197,44.281639099121094],\"yaxis\":\"y\",\"type\":\"scattergl\"}],                        {\"template\":{\"data\":{\"histogram2dcontour\":[{\"type\":\"histogram2dcontour\",\"colorbar\":{\"outlinewidth\":0,\"ticks\":\"\"},\"colorscale\":[[0.0,\"#0d0887\"],[0.1111111111111111,\"#46039f\"],[0.2222222222222222,\"#7201a8\"],[0.3333333333333333,\"#9c179e\"],[0.4444444444444444,\"#bd3786\"],[0.5555555555555556,\"#d8576b\"],[0.6666666666666666,\"#ed7953\"],[0.7777777777777778,\"#fb9f3a\"],[0.8888888888888888,\"#fdca26\"],[1.0,\"#f0f921\"]]}],\"choropleth\":[{\"type\":\"choropleth\",\"colorbar\":{\"outlinewidth\":0,\"ticks\":\"\"}}],\"histogram2d\":[{\"type\":\"histogram2d\",\"colorbar\":{\"outlinewidth\":0,\"ticks\":\"\"},\"colorscale\":[[0.0,\"#0d0887\"],[0.1111111111111111,\"#46039f\"],[0.2222222222222222,\"#7201a8\"],[0.3333333333333333,\"#9c179e\"],[0.4444444444444444,\"#bd3786\"],[0.5555555555555556,\"#d8576b\"],[0.6666666666666666,\"#ed7953\"],[0.7777777777777778,\"#fb9f3a\"],[0.8888888888888888,\"#fdca26\"],[1.0,\"#f0f921\"]]}],\"heatmap\":[{\"type\":\"heatmap\",\"colorbar\":{\"outlinewidth\":0,\"ticks\":\"\"},\"colorscale\":[[0.0,\"#0d0887\"],[0.1111111111111111,\"#46039f\"],[0.2222222222222222,\"#7201a8\"],[0.3333333333333333,\"#9c179e\"],[0.4444444444444444,\"#bd3786\"],[0.5555555555555556,\"#d8576b\"],[0.6666666666666666,\"#ed7953\"],[0.7777777777777778,\"#fb9f3a\"],[0.8888888888888888,\"#fdca26\"],[1.0,\"#f0f921\"]]}],\"heatmapgl\":[{\"type\":\"heatmapgl\",\"colorbar\":{\"outlinewidth\":0,\"ticks\":\"\"},\"colorscale\":[[0.0,\"#0d0887\"],[0.1111111111111111,\"#46039f\"],[0.2222222222222222,\"#7201a8\"],[0.3333333333333333,\"#9c179e\"],[0.4444444444444444,\"#bd3786\"],[0.5555555555555556,\"#d8576b\"],[0.6666666666666666,\"#ed7953\"],[0.7777777777777778,\"#fb9f3a\"],[0.8888888888888888,\"#fdca26\"],[1.0,\"#f0f921\"]]}],\"contourcarpet\":[{\"type\":\"contourcarpet\",\"colorbar\":{\"outlinewidth\":0,\"ticks\":\"\"}}],\"contour\":[{\"type\":\"contour\",\"colorbar\":{\"outlinewidth\":0,\"ticks\":\"\"},\"colorscale\":[[0.0,\"#0d0887\"],[0.1111111111111111,\"#46039f\"],[0.2222222222222222,\"#7201a8\"],[0.3333333333333333,\"#9c179e\"],[0.4444444444444444,\"#bd3786\"],[0.5555555555555556,\"#d8576b\"],[0.6666666666666666,\"#ed7953\"],[0.7777777777777778,\"#fb9f3a\"],[0.8888888888888888,\"#fdca26\"],[1.0,\"#f0f921\"]]}],\"surface\":[{\"type\":\"surface\",\"colorbar\":{\"outlinewidth\":0,\"ticks\":\"\"},\"colorscale\":[[0.0,\"#0d0887\"],[0.1111111111111111,\"#46039f\"],[0.2222222222222222,\"#7201a8\"],[0.3333333333333333,\"#9c179e\"],[0.4444444444444444,\"#bd3786\"],[0.5555555555555556,\"#d8576b\"],[0.6666666666666666,\"#ed7953\"],[0.7777777777777778,\"#fb9f3a\"],[0.8888888888888888,\"#fdca26\"],[1.0,\"#f0f921\"]]}],\"mesh3d\":[{\"type\":\"mesh3d\",\"colorbar\":{\"outlinewidth\":0,\"ticks\":\"\"}}],\"scatter\":[{\"fillpattern\":{\"fillmode\":\"overlay\",\"size\":10,\"solidity\":0.2},\"type\":\"scatter\"}],\"parcoords\":[{\"type\":\"parcoords\",\"line\":{\"colorbar\":{\"outlinewidth\":0,\"ticks\":\"\"}}}],\"scatterpolargl\":[{\"type\":\"scatterpolargl\",\"marker\":{\"colorbar\":{\"outlinewidth\":0,\"ticks\":\"\"}}}],\"bar\":[{\"error_x\":{\"color\":\"#2a3f5f\"},\"error_y\":{\"color\":\"#2a3f5f\"},\"marker\":{\"line\":{\"color\":\"#E5ECF6\",\"width\":0.5},\"pattern\":{\"fillmode\":\"overlay\",\"size\":10,\"solidity\":0.2}},\"type\":\"bar\"}],\"scattergeo\":[{\"type\":\"scattergeo\",\"marker\":{\"colorbar\":{\"outlinewidth\":0,\"ticks\":\"\"}}}],\"scatterpolar\":[{\"type\":\"scatterpolar\",\"marker\":{\"colorbar\":{\"outlinewidth\":0,\"ticks\":\"\"}}}],\"histogram\":[{\"marker\":{\"pattern\":{\"fillmode\":\"overlay\",\"size\":10,\"solidity\":0.2}},\"type\":\"histogram\"}],\"scattergl\":[{\"type\":\"scattergl\",\"marker\":{\"colorbar\":{\"outlinewidth\":0,\"ticks\":\"\"}}}],\"scatter3d\":[{\"type\":\"scatter3d\",\"line\":{\"colorbar\":{\"outlinewidth\":0,\"ticks\":\"\"}},\"marker\":{\"colorbar\":{\"outlinewidth\":0,\"ticks\":\"\"}}}],\"scattermapbox\":[{\"type\":\"scattermapbox\",\"marker\":{\"colorbar\":{\"outlinewidth\":0,\"ticks\":\"\"}}}],\"scatterternary\":[{\"type\":\"scatterternary\",\"marker\":{\"colorbar\":{\"outlinewidth\":0,\"ticks\":\"\"}}}],\"scattercarpet\":[{\"type\":\"scattercarpet\",\"marker\":{\"colorbar\":{\"outlinewidth\":0,\"ticks\":\"\"}}}],\"carpet\":[{\"aaxis\":{\"endlinecolor\":\"#2a3f5f\",\"gridcolor\":\"white\",\"linecolor\":\"white\",\"minorgridcolor\":\"white\",\"startlinecolor\":\"#2a3f5f\"},\"baxis\":{\"endlinecolor\":\"#2a3f5f\",\"gridcolor\":\"white\",\"linecolor\":\"white\",\"minorgridcolor\":\"white\",\"startlinecolor\":\"#2a3f5f\"},\"type\":\"carpet\"}],\"table\":[{\"cells\":{\"fill\":{\"color\":\"#EBF0F8\"},\"line\":{\"color\":\"white\"}},\"header\":{\"fill\":{\"color\":\"#C8D4E3\"},\"line\":{\"color\":\"white\"}},\"type\":\"table\"}],\"barpolar\":[{\"marker\":{\"line\":{\"color\":\"#E5ECF6\",\"width\":0.5},\"pattern\":{\"fillmode\":\"overlay\",\"size\":10,\"solidity\":0.2}},\"type\":\"barpolar\"}],\"pie\":[{\"automargin\":true,\"type\":\"pie\"}]},\"layout\":{\"autotypenumbers\":\"strict\",\"colorway\":[\"#636efa\",\"#EF553B\",\"#00cc96\",\"#ab63fa\",\"#FFA15A\",\"#19d3f3\",\"#FF6692\",\"#B6E880\",\"#FF97FF\",\"#FECB52\"],\"font\":{\"color\":\"#2a3f5f\"},\"hovermode\":\"closest\",\"hoverlabel\":{\"align\":\"left\"},\"paper_bgcolor\":\"white\",\"plot_bgcolor\":\"#E5ECF6\",\"polar\":{\"bgcolor\":\"#E5ECF6\",\"angularaxis\":{\"gridcolor\":\"white\",\"linecolor\":\"white\",\"ticks\":\"\"},\"radialaxis\":{\"gridcolor\":\"white\",\"linecolor\":\"white\",\"ticks\":\"\"}},\"ternary\":{\"bgcolor\":\"#E5ECF6\",\"aaxis\":{\"gridcolor\":\"white\",\"linecolor\":\"white\",\"ticks\":\"\"},\"baxis\":{\"gridcolor\":\"white\",\"linecolor\":\"white\",\"ticks\":\"\"},\"caxis\":{\"gridcolor\":\"white\",\"linecolor\":\"white\",\"ticks\":\"\"}},\"coloraxis\":{\"colorbar\":{\"outlinewidth\":0,\"ticks\":\"\"}},\"colorscale\":{\"sequential\":[[0.0,\"#0d0887\"],[0.1111111111111111,\"#46039f\"],[0.2222222222222222,\"#7201a8\"],[0.3333333333333333,\"#9c179e\"],[0.4444444444444444,\"#bd3786\"],[0.5555555555555556,\"#d8576b\"],[0.6666666666666666,\"#ed7953\"],[0.7777777777777778,\"#fb9f3a\"],[0.8888888888888888,\"#fdca26\"],[1.0,\"#f0f921\"]],\"sequentialminus\":[[0.0,\"#0d0887\"],[0.1111111111111111,\"#46039f\"],[0.2222222222222222,\"#7201a8\"],[0.3333333333333333,\"#9c179e\"],[0.4444444444444444,\"#bd3786\"],[0.5555555555555556,\"#d8576b\"],[0.6666666666666666,\"#ed7953\"],[0.7777777777777778,\"#fb9f3a\"],[0.8888888888888888,\"#fdca26\"],[1.0,\"#f0f921\"]],\"diverging\":[[0,\"#8e0152\"],[0.1,\"#c51b7d\"],[0.2,\"#de77ae\"],[0.3,\"#f1b6da\"],[0.4,\"#fde0ef\"],[0.5,\"#f7f7f7\"],[0.6,\"#e6f5d0\"],[0.7,\"#b8e186\"],[0.8,\"#7fbc41\"],[0.9,\"#4d9221\"],[1,\"#276419\"]]},\"xaxis\":{\"gridcolor\":\"white\",\"linecolor\":\"white\",\"ticks\":\"\",\"title\":{\"standoff\":15},\"zerolinecolor\":\"white\",\"automargin\":true,\"zerolinewidth\":2},\"yaxis\":{\"gridcolor\":\"white\",\"linecolor\":\"white\",\"ticks\":\"\",\"title\":{\"standoff\":15},\"zerolinecolor\":\"white\",\"automargin\":true,\"zerolinewidth\":2},\"scene\":{\"xaxis\":{\"backgroundcolor\":\"#E5ECF6\",\"gridcolor\":\"white\",\"linecolor\":\"white\",\"showbackground\":true,\"ticks\":\"\",\"zerolinecolor\":\"white\",\"gridwidth\":2},\"yaxis\":{\"backgroundcolor\":\"#E5ECF6\",\"gridcolor\":\"white\",\"linecolor\":\"white\",\"showbackground\":true,\"ticks\":\"\",\"zerolinecolor\":\"white\",\"gridwidth\":2},\"zaxis\":{\"backgroundcolor\":\"#E5ECF6\",\"gridcolor\":\"white\",\"linecolor\":\"white\",\"showbackground\":true,\"ticks\":\"\",\"zerolinecolor\":\"white\",\"gridwidth\":2}},\"shapedefaults\":{\"line\":{\"color\":\"#2a3f5f\"}},\"annotationdefaults\":{\"arrowcolor\":\"#2a3f5f\",\"arrowhead\":0,\"arrowwidth\":1},\"geo\":{\"bgcolor\":\"white\",\"landcolor\":\"#E5ECF6\",\"subunitcolor\":\"white\",\"showland\":true,\"showlakes\":true,\"lakecolor\":\"white\"},\"title\":{\"x\":0.05},\"mapbox\":{\"style\":\"light\"}}},\"xaxis\":{\"anchor\":\"y\",\"domain\":[0.0,1.0],\"title\":{\"text\":\"x\"}},\"yaxis\":{\"anchor\":\"x\",\"domain\":[0.0,1.0],\"title\":{\"text\":\"y\"}},\"legend\":{\"title\":{\"text\":\"Label\"},\"tracegroupgap\":0},\"margin\":{\"t\":60}},                        {\"responsive\": true}                    ).then(function(){\n",
       "                            \n",
       "var gd = document.getElementById('55ce00e6-57a9-4781-8a0a-f1a70f7cc126');\n",
       "var x = new MutationObserver(function (mutations, observer) {{\n",
       "        var display = window.getComputedStyle(gd).display;\n",
       "        if (!display || display === 'none') {{\n",
       "            console.log([gd, 'removed!']);\n",
       "            Plotly.purge(gd);\n",
       "            observer.disconnect();\n",
       "        }}\n",
       "}});\n",
       "\n",
       "// Listen for the removal of the full notebook cells\n",
       "var notebookContainer = gd.closest('#notebook-container');\n",
       "if (notebookContainer) {{\n",
       "    x.observe(notebookContainer, {childList: true});\n",
       "}}\n",
       "\n",
       "// Listen for the clearing of the current output cell\n",
       "var outputEl = gd.closest('.output');\n",
       "if (outputEl) {{\n",
       "    x.observe(outputEl, {childList: true});\n",
       "}}\n",
       "\n",
       "                        })                };                });            </script>        </div>"
      ]
     },
     "metadata": {},
     "output_type": "display_data"
    }
   ],
   "source": [
    "predictions_series = pd.Series(predictions, name=\"Predictions\").replace(range(len(CLASS_NAMES)), CLASS_NAMES) #type: ignore\n",
    "labels_series = pd.Series(labels, name=\"Label\").replace(range(len(CLASS_NAMES)), CLASS_NAMES) # type: ignore\n",
    "discrete_color_map = dict(zip(CLASS_NAMES, px.colors.qualitative.Plotly))\n",
    "symbol_map = {1: \"circle\", 0: \"x\"}\n",
    "\n",
    "correct_state = pd.Series(labels_series == predictions_series, name=\"Correct\")\n",
    "visdf = pd.concat([data_points2d_df, labels_series, predictions_series, correct_state], axis=1)\n",
    "visdf2 = pd.concat([data_points2d_df, labels_series, predictions_series, correct_state], axis=1)\n",
    "fig = px.scatter(visdf, x=\"x\", y=\"y\", color=\"Predictions\", hover_data=[\"Label\"], symbol=\"Correct\", color_discrete_map=discrete_color_map, symbol_map=symbol_map)\n",
    "fig2 = px.scatter(visdf, x=\"x\", y=\"y\", color=\"Label\", opacity=0.2, color_discrete_map=discrete_color_map)\n",
    "\n",
    "fig2.update_traces(dict(\n",
    "  marker=dict(\n",
    "    size=12,\n",
    "  ),\n",
    "  hoverinfo=\"skip\",\n",
    "  showlegend=False\n",
    "))\n",
    "\n",
    "fig2.add_traces(fig.data)\n",
    "\n",
    "fig2.show()"
   ]
  },
  {
   "cell_type": "code",
   "execution_count": 487,
   "metadata": {},
   "outputs": [
    {
     "data": {
      "application/vnd.plotly.v1+json": {
       "config": {
        "plotlyServerURL": "https://plot.ly"
       },
       "data": [
        {
         "contours": {
          "coloring": "none"
         },
         "hoverinfo": "skip",
         "legendgroup": "",
         "line": {
          "color": "#636efa"
         },
         "name": "",
         "showlegend": false,
         "type": "histogram2dcontour",
         "x": [
          -10.571514129638672,
          -10.07630443572998,
          16.979398727416992,
          18.2021427154541,
          20.140274047851562,
          -1.4093482494354248,
          11.47801685333252,
          12.095633506774902,
          -4.983188152313232,
          -12.910361289978027,
          20.422447204589844,
          0.8472520709037781,
          -10.174310684204102,
          -5.19320011138916,
          -10.650679588317871,
          13.459512710571289,
          -12.398392677307129,
          -6.389174938201904,
          -9.728734970092773,
          20.41701889038086,
          11.975364685058594,
          -9.545243263244629,
          -13.027711868286133,
          19.9410457611084,
          -5.085709095001221,
          -4.462934970855713,
          12.144814491271973,
          11.132621765136719,
          9.985501289367676,
          13.42573356628418,
          -4.695857048034668,
          19.843748092651367,
          -0.12031717598438263,
          -12.794645309448242,
          2.676339626312256,
          2.4656753540039062,
          -7.759912014007568,
          -12.360753059387207,
          -10.488295555114746,
          15.995421409606934,
          19.854175567626953,
          -6.82574462890625,
          13.418676376342773,
          18.76358413696289,
          1.5990511178970337,
          -7.294350624084473,
          -12.805376052856445,
          12.070059776306152,
          16.7723388671875,
          -4.434616565704346,
          -8.567648887634277,
          10.010466575622559,
          19.061983108520508,
          2.6906237602233887,
          -1.6105048656463623,
          -4.826746940612793,
          -7.786124229431152,
          -4.992354869842529,
          16.056396484375,
          -7.802242279052734,
          2.1397342681884766,
          -10.878878593444824,
          12.140974044799805,
          12.706164360046387,
          -4.8641862869262695,
          18.028076171875,
          -8.446917533874512,
          -6.314799785614014,
          -10.21052074432373,
          -11.988890647888184,
          -0.2108781337738037,
          -10.346671104431152,
          17.669389724731445,
          -11.736889839172363,
          11.592659950256348,
          -5.62800931930542,
          11.304558753967285,
          9.424798965454102,
          2.6968462467193604,
          -13.069358825683594,
          14.273698806762695,
          -9.375767707824707,
          11.56145191192627,
          11.26255989074707,
          -9.641969680786133,
          12.285454750061035,
          13.279939651489258,
          18.409181594848633,
          -11.50350570678711,
          0.6062822937965393,
          1.4458847045898438,
          -9.565817832946777,
          11.569522857666016,
          -11.718343734741211,
          11.980856895446777,
          2.228661060333252,
          -6.415529251098633,
          -10.144194602966309,
          -4.970212459564209,
          -10.053096771240234,
          19.621288299560547,
          2.2442398071289062,
          19.887847900390625,
          -3.26513934135437,
          11.917304039001465,
          19.838605880737305,
          20.50042152404785,
          1.5215600728988647,
          -9.140447616577148,
          13.467991828918457,
          -4.700576305389404,
          -8.108916282653809,
          -8.447273254394531,
          -7.018722057342529,
          -6.540655612945557,
          -3.3374998569488525,
          -5.168145656585693,
          -10.681745529174805,
          -12.818726539611816,
          -10.876387596130371,
          11.17161750793457,
          -12.143173217773438,
          12.129950523376465,
          11.569522857666016,
          -5.181632995605469,
          -6.153041839599609,
          17.403120040893555,
          -9.874842643737793,
          -12.801835060119629,
          -5.521056175231934,
          -6.657754421234131,
          2.321786880493164,
          -10.517393112182617,
          19.959590911865234,
          -8.119050979614258,
          20.11546516418457,
          10.123857498168945,
          -4.476043701171875,
          16.622400283813477,
          -10.11559009552002,
          11.20717716217041,
          -10.494458198547363,
          -10.731446266174316,
          1.6879016160964966,
          -2.8569717407226562,
          11.892075538635254,
          2.180952310562134,
          -4.948390007019043,
          9.762191772460938,
          10.16865348815918,
          11.478633880615234,
          -5.099903106689453,
          19.660423278808594,
          -9.815448760986328,
          -5.257646083831787,
          -5.941258907318115,
          -11.443477630615234,
          -11.193742752075195,
          15.927709579467773,
          0.06839735060930252,
          12.065624237060547,
          -4.970644474029541,
          11.044734001159668,
          20.612098693847656,
          16.847679138183594,
          -7.281036853790283,
          -7.8180060386657715,
          -4.421820640563965,
          20.44864273071289,
          -9.232011795043945,
          -5.633395671844482,
          10.410449028015137,
          -4.862429618835449,
          -2.6917290687561035,
          -13.033045768737793,
          -9.744549751281738,
          1.4910948276519775,
          11.889945030212402,
          -2.385283946990967,
          18.387205123901367,
          -8.600944519042969,
          20.613628387451172,
          20.531814575195312,
          -10.650164604187012,
          -6.63886833190918,
          9.608105659484863,
          -9.229629516601562,
          14.031631469726562,
          -10.216236114501953,
          -0.24337640404701233,
          -6.570581912994385,
          12.304198265075684,
          -5.791025638580322,
          -12.760497093200684,
          -4.705738067626953,
          -9.366070747375488,
          16.335140228271484,
          16.835159301757812,
          -13.06791877746582,
          -8.532299995422363,
          14.150423049926758,
          19.33522605895996,
          2.687378406524658,
          -10.862004280090332,
          16.114551544189453,
          2.5885231494903564,
          -5.163476467132568,
          -8.681920051574707,
          20.15296173095703,
          -2.7613677978515625,
          -4.919985294342041,
          9.784537315368652,
          -1.456547737121582,
          -9.434165000915527,
          -11.233430862426758,
          18.53413963317871,
          1.9519211053848267,
          -10.570070266723633,
          -4.411543846130371,
          20.3059024810791,
          -0.13754281401634216,
          1.8300502300262451,
          -7.288426399230957,
          11.170844078063965,
          -2.9131052494049072,
          -4.69468355178833,
          12.139275550842285,
          1.9591268301010132,
          -5.229619026184082,
          15.839826583862305,
          -12.234550476074219,
          -6.089863300323486,
          17.14472198486328,
          11.341126441955566,
          -6.177145957946777,
          -12.738166809082031,
          -5.183093547821045,
          12.035419464111328,
          -12.997232437133789,
          -5.277778148651123,
          -4.733903884887695,
          -5.9647440910339355,
          14.7836332321167,
          -10.329886436462402,
          11.343094825744629,
          -6.3409833908081055,
          -6.5154337882995605,
          19.178634643554688,
          -9.473069190979004,
          -4.790462017059326,
          20.521015167236328,
          20.485116958618164,
          11.938822746276855,
          12.134535789489746,
          -4.8329548835754395,
          -5.856564044952393,
          10.96654987335205,
          -2.541233777999878,
          2.714916229248047,
          12.358827590942383,
          0.5679379105567932,
          -8.063809394836426,
          1.885482907295227,
          2.0358197689056396,
          -6.209341049194336,
          2.339355230331421,
          11.971508026123047,
          -6.013579368591309,
          -5.1953349113464355,
          16.962778091430664,
          -4.416279315948486,
          -10.873072624206543,
          -7.276629447937012,
          -0.34248173236846924,
          12.08659553527832,
          -10.172901153564453,
          -12.0513277053833,
          2.69338321685791,
          16.979022979736328,
          -5.918356895446777,
          -13.029775619506836,
          19.492328643798828,
          -5.160292625427246,
          2.5390686988830566,
          12.122564315795898,
          -5.120559215545654,
          11.126412391662598,
          -10.62990951538086,
          -3.5497400760650635,
          14.356304168701172,
          2.2952141761779785,
          -5.155204772949219,
          12.130373001098633,
          -4.413608074188232,
          12.203577995300293,
          -10.782854080200195,
          -2.9668779373168945,
          17.18944549560547,
          11.569522857666016,
          -7.707163333892822,
          0.0660153329372406,
          -10.947524070739746,
          -10.174213409423828,
          -11.342994689941406,
          2.607787609100342,
          -10.731263160705566,
          -0.3576454520225525,
          -6.892602920532227,
          19.804046630859375,
          -12.305975914001465,
          20.609832763671875,
          18.137725830078125,
          20.14236831665039,
          12.149190902709961,
          -0.02019672282040119,
          -12.055000305175781,
          -7.001095771789551,
          -4.784104347229004,
          11.257590293884277,
          10.051519393920898,
          19.532634735107422,
          -7.341686248779297,
          13.617895126342773,
          -12.641789436340332,
          11.234071731567383
         ],
         "xaxis": "x",
         "xbingroup": "x",
         "y": [
          15.755935668945312,
          15.745057106018066,
          1.0240862369537354,
          1.0578147172927856,
          3.080977201461792,
          8.853781700134277,
          -20.419696807861328,
          -19.68575668334961,
          -8.09536075592041,
          -0.47070959210395813,
          2.238708734512329,
          10.919301986694336,
          15.799623489379883,
          -9.608903884887695,
          15.732719421386719,
          1.2451894283294678,
          -0.5693034529685974,
          -5.870697498321533,
          15.122522354125977,
          2.222471237182617,
          -20.713533401489258,
          14.780760765075684,
          0.08359716087579727,
          2.4099185466766357,
          -3.037777900695801,
          -8.88924503326416,
          -21.012325286865234,
          -20.97797203063965,
          -16.861940383911133,
          0.5678774118423462,
          -9.414649963378906,
          2.987990140914917,
          11.504993438720703,
          -0.5000532269477844,
          11.223241806030273,
          11.048301696777344,
          12.271469116210938,
          -0.41037267446517944,
          14.761512756347656,
          0.2890024781227112,
          2.974151372909546,
          -4.284445285797119,
          2.2057254314422607,
          2.6764626502990723,
          11.53628921508789,
          -3.1878910064697266,
          0.2708386778831482,
          -18.910552978515625,
          2.174006938934326,
          -9.807857513427734,
          12.564483642578125,
          -16.94600486755371,
          1.6345165967941284,
          11.677249908447266,
          10.084708213806152,
          -5.415605068206787,
          12.429471969604492,
          -4.299260139465332,
          1.1870115995407104,
          -2.7433366775512695,
          11.801626205444336,
          15.345025062561035,
          -20.26119041442871,
          0.7262859344482422,
          -7.981812953948975,
          1.0885971784591675,
          12.304369926452637,
          -5.887524127960205,
          14.824398040771484,
          -0.03185110539197922,
          10.014372825622559,
          0.019595719873905182,
          0.9855897426605225,
          -0.3822997510433197,
          -20.377546310424805,
          -8.151433944702148,
          -18.571266174316406,
          -17.911943435668945,
          11.316000938415527,
          -0.24335764348506927,
          0.46387848258018494,
          -1.6648205518722534,
          -20.459362030029297,
          -20.652090072631836,
          -1.150428295135498,
          0.408027708530426,
          0.601742684841156,
          2.6461997032165527,
          0.03308049589395523,
          10.666013717651367,
          11.366267204284668,
          14.931166648864746,
          -21.36349868774414,
          0.19395431876182556,
          -20.436655044555664,
          11.06192398071289,
          11.793784141540527,
          15.789151191711426,
          -9.17830753326416,
          15.449532508850098,
          2.6339988708496094,
          11.87043571472168,
          2.06143856048584,
          10.024500846862793,
          -20.05206298828125,
          2.2415688037872314,
          2.2711031436920166,
          11.538846015930176,
          14.28154468536377,
          0.8689366579055786,
          -10.051721572875977,
          10.51758861541748,
          13.23326587677002,
          -5.377538681030273,
          -7.010777473449707,
          7.49958610534668,
          -9.906182289123535,
          -0.5376168489456177,
          -0.49409472942352295,
          15.335405349731445,
          -21.083906173706055,
          0.0758787989616394,
          -21.133222579956055,
          -21.36349868774414,
          -9.534311294555664,
          -7.6190266609191895,
          2.222269296646118,
          14.944174766540527,
          0.27233409881591797,
          -3.0113818645477295,
          12.035087585449219,
          11.892882347106934,
          -0.9886599183082581,
          2.094797134399414,
          10.247540473937988,
          2.1273751258850098,
          -17.07737159729004,
          -9.479987144470215,
          0.7309553623199463,
          13.99373722076416,
          -20.597332000732422,
          14.766188621520996,
          14.993849754333496,
          10.857443809509277,
          8.924718856811523,
          -21.347211837768555,
          11.845206260681152,
          -9.115839004516602,
          -16.592763900756836,
          -17.206876754760742,
          -18.58810043334961,
          -9.986674308776855,
          2.176004409790039,
          15.296350479125977,
          -7.565732479095459,
          -3.6945464611053467,
          -0.7344153523445129,
          -0.6355651617050171,
          0.27471986413002014,
          10.507247924804688,
          0.2944340407848358,
          -5.055779933929443,
          -18.458677291870117,
          2.561741590499878,
          2.041404962539673,
          -5.048790454864502,
          12.433615684509277,
          -9.77198314666748,
          2.875154972076416,
          13.014721870422363,
          -4.354679107666016,
          -17.820375442504883,
          -4.573708534240723,
          9.96014404296875,
          -0.3210754990577698,
          15.182494163513184,
          10.929506301879883,
          -21.348724365234375,
          9.4009370803833,
          1.171724796295166,
          13.911165237426758,
          2.5880889892578125,
          2.9006340503692627,
          15.732929229736328,
          12.00125789642334,
          -17.95231056213379,
          12.950182914733887,
          2.0302553176879883,
          15.203653335571289,
          9.288884162902832,
          -3.118393659591675,
          0.9163592457771301,
          -7.973285675048828,
          0.2769519090652466,
          -10.06006145477295,
          13.199247360229492,
          0.5031468868255615,
          1.635475516319275,
          -0.24378086626529694,
          13.768951416015625,
          2.1031417846679688,
          2.545821189880371,
          11.684684753417969,
          15.229344367980957,
          0.4466315507888794,
          11.099632263183594,
          -8.403024673461914,
          13.098677635192871,
          3.0763943195343018,
          8.867752075195312,
          -5.105356216430664,
          -16.52444839477539,
          10.16697883605957,
          -0.7870309352874756,
          -0.06824082881212234,
          1.2583396434783936,
          10.721063613891602,
          14.79161262512207,
          -9.658312797546387,
          3.03994083404541,
          9.762039184570312,
          11.580377578735352,
          11.34373664855957,
          -21.084043502807617,
          9.925407409667969,
          -10.049402236938477,
          0.7026569843292236,
          11.27137279510498,
          -3.366929054260254,
          0.9947950839996338,
          0.1872217357158661,
          -7.451095104217529,
          2.3333563804626465,
          -21.29669952392578,
          -7.5494256019592285,
          -0.48239246010780334,
          -9.169804573059082,
          -19.17291259765625,
          0.11674538999795914,
          -6.909337043762207,
          -10.059828758239746,
          -7.07544469833374,
          0.40938135981559753,
          14.808826446533203,
          -21.29875946044922,
          -4.940340042114258,
          -5.428650379180908,
          2.6918435096740723,
          14.755630493164062,
          -6.248659133911133,
          2.913112163543701,
          2.2599635124206543,
          -21.30906867980957,
          -21.116357803344727,
          -9.28775405883789,
          -6.425116062164307,
          -18.436786651611328,
          8.520344734191895,
          11.6661958694458,
          0.39752840995788574,
          10.774718284606934,
          12.022591590881348,
          11.014676094055176,
          11.413775444030762,
          -7.379321575164795,
          11.894061088562012,
          0.5709969997406006,
          -7.831434726715088,
          -9.8556547164917,
          2.1549243927001953,
          -9.753016471862793,
          15.310187339782715,
          11.549703598022461,
          10.479802131652832,
          -20.661033630371094,
          15.79889965057373,
          -0.4257439374923706,
          11.299991607666016,
          1.0375474691390991,
          -4.410140514373779,
          0.079770028591156,
          2.537334442138672,
          -9.918712615966797,
          11.82602596282959,
          -18.887924194335938,
          -9.967730522155762,
          -20.893598556518555,
          15.741488456726074,
          7.825379371643066,
          0.47588542103767395,
          11.063626289367676,
          -8.64993953704834,
          -20.786176681518555,
          -9.659926414489746,
          -20.021953582763672,
          15.549044609069824,
          9.974148750305176,
          2.279496192932129,
          -21.36349868774414,
          12.673433303833008,
          9.866300582885742,
          -0.6015839576721191,
          15.799723625183105,
          -0.49546170234680176,
          11.095871925354004,
          15.01035213470459,
          9.015963554382324,
          -4.180767059326172,
          2.8644964694976807,
          -0.06762900948524475,
          2.5729165077209473,
          1.0413784980773926,
          3.0906982421875,
          -21.008512496948242,
          11.480681419372559,
          0.19197340309619904,
          -3.640180826187134,
          -6.013321399688721,
          -20.676801681518555,
          -16.989437103271484,
          2.852471113204956,
          -2.9229302406311035,
          1.6370340585708618,
          0.2559794783592224,
          -20.581811904907227
         ],
         "yaxis": "y",
         "ybingroup": "y"
        },
        {
         "hoverinfo": "skip",
         "legendgroup": "surprised",
         "marker": {
          "color": "#19D3F3",
          "opacity": 0.2,
          "size": 12,
          "symbol": "circle"
         },
         "mode": "markers",
         "name": "surprised",
         "orientation": "v",
         "showlegend": false,
         "type": "scatter",
         "x": [
          -10.571514129638672,
          -10.07630443572998,
          -10.174310684204102,
          -10.650679588317871,
          -6.389174938201904,
          -9.728734970092773,
          -9.545243263244629,
          -5.085709095001221,
          -7.759912014007568,
          -10.488295555114746,
          -4.826746940612793,
          -10.878878593444824,
          -8.446917533874512,
          -10.21052074432373,
          -9.375767707824707,
          -9.565817832946777,
          -6.415529251098633,
          -10.144194602966309,
          -10.053096771240234,
          -3.26513934135437,
          -8.447273254394531,
          -10.876387596130371,
          -9.874842643737793,
          -10.11559009552002,
          -10.494458198547363,
          -10.731446266174316,
          -9.815448760986328,
          0.06839735060930252,
          -7.8180060386657715,
          -2.6917290687561035,
          -9.744549751281738,
          -2.385283946990967,
          -8.600944519042969,
          -10.650164604187012,
          -9.229629516601562,
          -10.216236114501953,
          -9.366070747375488,
          -8.532299995422363,
          -10.862004280090332,
          -1.456547737121582,
          -10.570070266723633,
          -2.9131052494049072,
          1.9591268301010132,
          -5.229619026184082,
          -6.5154337882995605,
          -9.473069190979004,
          1.885482907295227,
          -10.873072624206543,
          -7.276629447937012,
          -0.34248173236846924,
          -10.172901153564453,
          -10.62990951538086,
          -10.782854080200195,
          -7.707163333892822,
          -10.731263160705566,
          20.609832763671875
         ],
         "xaxis": "x",
         "y": [
          15.755935668945312,
          15.745057106018066,
          15.799623489379883,
          15.732719421386719,
          -5.870697498321533,
          15.122522354125977,
          14.780760765075684,
          -3.037777900695801,
          12.271469116210938,
          14.761512756347656,
          -5.415605068206787,
          15.345025062561035,
          12.304369926452637,
          14.824398040771484,
          -1.6648205518722534,
          14.931166648864746,
          11.793784141540527,
          15.789151191711426,
          15.449532508850098,
          10.024500846862793,
          13.23326587677002,
          15.335405349731445,
          14.944174766540527,
          13.99373722076416,
          14.766188621520996,
          14.993849754333496,
          15.296350479125977,
          10.507247924804688,
          12.433615684509277,
          9.96014404296875,
          15.182494163513184,
          9.4009370803833,
          13.911165237426758,
          15.732929229736328,
          12.950182914733887,
          15.203653335571289,
          13.199247360229492,
          13.768951416015625,
          15.229344367980957,
          10.16697883605957,
          14.79161262512207,
          9.925407409667969,
          11.27137279510498,
          -3.366929054260254,
          -5.428650379180908,
          14.755630493164062,
          11.014676094055176,
          15.310187339782715,
          11.549703598022461,
          10.479802131652832,
          15.79889965057373,
          15.741488456726074,
          15.549044609069824,
          12.673433303833008,
          15.01035213470459,
          2.5729165077209473
         ],
         "yaxis": "y"
        },
        {
         "hoverinfo": "skip",
         "legendgroup": "disgusted",
         "marker": {
          "color": "#EF553B",
          "opacity": 0.2,
          "size": 12,
          "symbol": "circle"
         },
         "mode": "markers",
         "name": "disgusted",
         "orientation": "v",
         "showlegend": false,
         "type": "scatter",
         "x": [
          16.979398727416992,
          11.47801685333252,
          12.095633506774902,
          11.975364685058594,
          12.144814491271973,
          11.132621765136719,
          12.070059776306152,
          10.010466575622559,
          16.056396484375,
          12.140974044799805,
          11.592659950256348,
          11.304558753967285,
          11.56145191192627,
          11.26255989074707,
          11.569522857666016,
          11.980856895446777,
          11.917304039001465,
          11.17161750793457,
          12.129950523376465,
          11.569522857666016,
          10.123857498168945,
          11.20717716217041,
          11.892075538635254,
          11.478633880615234,
          -4.970644474029541,
          11.889945030212402,
          -6.570581912994385,
          -8.681920051574707,
          9.784537315368652,
          -9.434165000915527,
          -7.288426399230957,
          11.170844078063965,
          15.839826583862305,
          -6.089863300323486,
          11.341126441955566,
          12.035419464111328,
          11.343094825744629,
          -4.790462017059326,
          11.938822746276855,
          12.134535789489746,
          10.96654987335205,
          -6.209341049194336,
          12.08659553527832,
          -12.0513277053833,
          12.122564315795898,
          11.126412391662598,
          12.130373001098633,
          12.203577995300293,
          11.569522857666016,
          12.149190902709961,
          -4.784104347229004,
          11.257590293884277,
          10.051519393920898,
          11.234071731567383
         ],
         "xaxis": "x",
         "y": [
          1.0240862369537354,
          -20.419696807861328,
          -19.68575668334961,
          -20.713533401489258,
          -21.012325286865234,
          -20.97797203063965,
          -18.910552978515625,
          -16.94600486755371,
          1.1870115995407104,
          -20.26119041442871,
          -20.377546310424805,
          -18.571266174316406,
          -20.459362030029297,
          -20.652090072631836,
          -21.36349868774414,
          -20.436655044555664,
          -20.05206298828125,
          -21.083906173706055,
          -21.133222579956055,
          -21.36349868774414,
          -17.07737159729004,
          -20.597332000732422,
          -21.347211837768555,
          -18.58810043334961,
          -5.055779933929443,
          -21.348724365234375,
          -3.118393659591675,
          13.098677635192871,
          -16.52444839477539,
          -0.7870309352874756,
          11.34373664855957,
          -21.084043502807617,
          0.9947950839996338,
          -7.451095104217529,
          -21.29669952392578,
          -19.17291259765625,
          -21.29875946044922,
          -6.248659133911133,
          -21.30906867980957,
          -21.116357803344727,
          -18.436786651611328,
          -7.379321575164795,
          -20.661033630371094,
          -0.4257439374923706,
          -18.887924194335938,
          -20.893598556518555,
          -20.786176681518555,
          -20.021953582763672,
          -21.36349868774414,
          -21.008512496948242,
          -6.013321399688721,
          -20.676801681518555,
          -16.989437103271484,
          -20.581811904907227
         ],
         "yaxis": "y"
        },
        {
         "hoverinfo": "skip",
         "legendgroup": "happy",
         "marker": {
          "color": "#00CC96",
          "opacity": 0.2,
          "size": 12,
          "symbol": "circle"
         },
         "mode": "markers",
         "name": "happy",
         "orientation": "v",
         "showlegend": false,
         "type": "scatter",
         "x": [
          18.2021427154541,
          20.422447204589844,
          13.459512710571289,
          19.9410457611084,
          13.42573356628418,
          19.843748092651367,
          15.995421409606934,
          19.854175567626953,
          13.418676376342773,
          18.76358413696289,
          16.7723388671875,
          19.061983108520508,
          12.706164360046387,
          18.028076171875,
          14.273698806762695,
          12.285454750061035,
          13.279939651489258,
          18.409181594848633,
          19.621288299560547,
          19.887847900390625,
          19.838605880737305,
          20.50042152404785,
          -8.108916282653809,
          -3.3374998569488525,
          17.403120040893555,
          -5.521056175231934,
          -6.657754421234131,
          19.959590911865234,
          20.11546516418457,
          16.622400283813477,
          10.16865348815918,
          19.660423278808594,
          15.927709579467773,
          12.065624237060547,
          20.612098693847656,
          20.44864273071289,
          18.387205123901367,
          20.613628387451172,
          20.531814575195312,
          9.608105659484863,
          16.335140228271484,
          16.835159301757812,
          14.150423049926758,
          19.33522605895996,
          16.114551544189453,
          20.15296173095703,
          18.53413963317871,
          20.3059024810791,
          -0.13754281401634216,
          17.14472198486328,
          14.7836332321167,
          20.521015167236328,
          20.485116958618164,
          -5.856564044952393,
          11.971508026123047,
          16.962778091430664,
          16.979022979736328,
          19.492328643798828,
          14.356304168701172,
          17.18944549560547,
          -10.174213409423828,
          -0.3576454520225525,
          19.804046630859375,
          18.137725830078125,
          20.14236831665039,
          19.532634735107422,
          -7.341686248779297,
          13.617895126342773
         ],
         "xaxis": "x",
         "y": [
          1.0578147172927856,
          2.238708734512329,
          1.2451894283294678,
          2.4099185466766357,
          0.5678774118423462,
          2.987990140914917,
          0.2890024781227112,
          2.974151372909546,
          2.2057254314422607,
          2.6764626502990723,
          2.174006938934326,
          1.6345165967941284,
          0.7262859344482422,
          1.0885971784591675,
          0.46387848258018494,
          0.408027708530426,
          0.601742684841156,
          2.6461997032165527,
          2.6339988708496094,
          2.06143856048584,
          2.2415688037872314,
          2.2711031436920166,
          10.51758861541748,
          7.49958610534668,
          2.222269296646118,
          -3.0113818645477295,
          12.035087585449219,
          2.094797134399414,
          2.1273751258850098,
          0.7309553623199463,
          -17.206876754760742,
          2.176004409790039,
          0.27471986413002014,
          0.2944340407848358,
          2.561741590499878,
          2.875154972076416,
          1.171724796295166,
          2.5880889892578125,
          2.9006340503692627,
          -17.95231056213379,
          0.5031468868255615,
          1.635475516319275,
          2.1031417846679688,
          2.545821189880371,
          0.4466315507888794,
          3.0763943195343018,
          1.2583396434783936,
          3.03994083404541,
          9.762039184570312,
          2.3333563804626465,
          0.40938135981559753,
          2.913112163543701,
          2.2599635124206543,
          -6.425116062164307,
          0.5709969997406006,
          2.1549243927001953,
          1.0375474691390991,
          2.537334442138672,
          0.47588542103767395,
          2.279496192932129,
          15.799723625183105,
          9.015963554382324,
          2.8644964694976807,
          1.0413784980773926,
          3.0906982421875,
          2.852471113204956,
          -2.9229302406311035,
          1.6370340585708618
         ],
         "yaxis": "y"
        },
        {
         "hoverinfo": "skip",
         "legendgroup": "sad",
         "marker": {
          "color": "#FFA15A",
          "opacity": 0.2,
          "size": 12,
          "symbol": "circle"
         },
         "mode": "markers",
         "name": "sad",
         "orientation": "v",
         "showlegend": false,
         "type": "scatter",
         "x": [
          20.140274047851562,
          -1.4093482494354248,
          -5.19320011138916,
          20.41701889038086,
          -4.462934970855713,
          -4.695857048034668,
          -6.82574462890625,
          -4.434616565704346,
          -8.567648887634277,
          -4.992354869842529,
          -7.802242279052734,
          -4.8641862869262695,
          -5.62800931930542,
          -11.50350570678711,
          -4.970212459564209,
          -4.700576305389404,
          -6.540655612945557,
          -5.168145656585693,
          -5.181632995605469,
          -6.153041839599609,
          -8.119050979614258,
          -4.476043701171875,
          -2.8569717407226562,
          -4.948390007019043,
          -5.099903106689453,
          -5.257646083831787,
          -5.941258907318115,
          -11.443477630615234,
          -7.281036853790283,
          -4.421820640563965,
          -9.232011795043945,
          -4.862429618835449,
          14.031631469726562,
          -5.791025638580322,
          -4.705738067626953,
          -5.163476467132568,
          -4.919985294342041,
          -4.411543846130371,
          -4.69468355178833,
          -6.177145957946777,
          -5.183093547821045,
          -5.277778148651123,
          -4.733903884887695,
          -5.9647440910339355,
          -4.8329548835754395,
          -5.1953349113464355,
          -4.416279315948486,
          -5.160292625427246,
          -5.120559215545654,
          -5.155204772949219,
          -4.413608074188232,
          -10.947524070739746,
          -6.892602920532227,
          -7.001095771789551
         ],
         "xaxis": "x",
         "y": [
          3.080977201461792,
          8.853781700134277,
          -9.608903884887695,
          2.222471237182617,
          -8.88924503326416,
          -9.414649963378906,
          -4.284445285797119,
          -9.807857513427734,
          12.564483642578125,
          -4.299260139465332,
          -2.7433366775512695,
          -7.981812953948975,
          -8.151433944702148,
          0.03308049589395523,
          -9.17830753326416,
          -10.051721572875977,
          -7.010777473449707,
          -9.906182289123535,
          -9.534311294555664,
          -7.6190266609191895,
          10.247540473937988,
          -9.479987144470215,
          8.924718856811523,
          -9.115839004516602,
          -9.986674308776855,
          -7.565732479095459,
          -3.6945464611053467,
          -0.7344153523445129,
          -5.048790454864502,
          -9.77198314666748,
          13.014721870422363,
          -4.573708534240723,
          2.0302553176879883,
          -7.973285675048828,
          -10.06006145477295,
          -8.403024673461914,
          -5.105356216430664,
          -9.658312797546387,
          -10.049402236938477,
          -7.5494256019592285,
          -9.169804573059082,
          -6.909337043762207,
          -10.059828758239746,
          -7.07544469833374,
          -9.28775405883789,
          -9.8556547164917,
          -9.753016471862793,
          -9.918712615966797,
          -9.967730522155762,
          -8.64993953704834,
          -9.659926414489746,
          -0.6015839576721191,
          -4.180767059326172,
          -3.640180826187134
         ],
         "yaxis": "y"
        },
        {
         "hoverinfo": "skip",
         "legendgroup": "angry",
         "marker": {
          "color": "#636EFA",
          "opacity": 0.2,
          "size": 12,
          "symbol": "circle"
         },
         "mode": "markers",
         "name": "angry",
         "orientation": "v",
         "showlegend": false,
         "type": "scatter",
         "x": [
          -4.983188152313232,
          -12.910361289978027,
          -12.398392677307129,
          -13.027711868286133,
          9.985501289367676,
          -0.12031717598438263,
          -12.794645309448242,
          -12.360753059387207,
          -7.294350624084473,
          -12.805376052856445,
          -7.786124229431152,
          -6.314799785614014,
          -11.988890647888184,
          17.669389724731445,
          -11.736889839172363,
          -13.069358825683594,
          -9.641969680786133,
          -9.140447616577148,
          13.467991828918457,
          -7.018722057342529,
          -10.681745529174805,
          -12.818726539611816,
          -12.143173217773438,
          -12.801835060119629,
          -10.517393112182617,
          9.762191772460938,
          -11.193742752075195,
          11.044734001159668,
          10.410449028015137,
          -13.033045768737793,
          12.304198265075684,
          -12.760497093200684,
          -13.06791877746582,
          -11.233430862426758,
          -12.234550476074219,
          -12.738166809082031,
          -12.997232437133789,
          12.358827590942383,
          -5.918356895446777,
          -13.029775619506836,
          -3.5497400760650635,
          -11.342994689941406,
          -12.305975914001465,
          -0.02019672282040119,
          -12.055000305175781,
          -12.641789436340332
         ],
         "xaxis": "x",
         "y": [
          -8.09536075592041,
          -0.47070959210395813,
          -0.5693034529685974,
          0.08359716087579727,
          -16.861940383911133,
          11.504993438720703,
          -0.5000532269477844,
          -0.41037267446517944,
          -3.1878910064697266,
          0.2708386778831482,
          12.429471969604492,
          -5.887524127960205,
          -0.03185110539197922,
          0.9855897426605225,
          -0.3822997510433197,
          -0.24335764348506927,
          -1.150428295135498,
          14.28154468536377,
          0.8689366579055786,
          -5.377538681030273,
          -0.5376168489456177,
          -0.49409472942352295,
          0.0758787989616394,
          0.27233409881591797,
          -0.9886599183082581,
          -16.592763900756836,
          -0.6355651617050171,
          -18.458677291870117,
          -17.820375442504883,
          -0.3210754990577698,
          0.9163592457771301,
          0.2769519090652466,
          -0.24378086626529694,
          -0.06824082881212234,
          0.1872217357158661,
          -0.48239246010780334,
          0.11674538999795914,
          0.39752840995788574,
          -4.410140514373779,
          0.079770028591156,
          7.825379371643066,
          -0.49546170234680176,
          -0.06762900948524475,
          11.480681419372559,
          0.19197340309619904,
          0.2559794783592224
         ],
         "yaxis": "y"
        },
        {
         "hoverinfo": "skip",
         "legendgroup": "neutral",
         "marker": {
          "color": "#AB63FA",
          "opacity": 0.2,
          "size": 12,
          "symbol": "circle"
         },
         "mode": "markers",
         "name": "neutral",
         "orientation": "v",
         "showlegend": false,
         "type": "scatter",
         "x": [
          0.8472520709037781,
          2.676339626312256,
          2.4656753540039062,
          1.5990511178970337,
          2.6906237602233887,
          -1.6105048656463623,
          2.1397342681884766,
          -0.2108781337738037,
          -10.346671104431152,
          9.424798965454102,
          2.6968462467193604,
          0.6062822937965393,
          1.4458847045898438,
          -11.718343734741211,
          2.228661060333252,
          2.2442398071289062,
          1.5215600728988647,
          2.321786880493164,
          1.6879016160964966,
          2.180952310562134,
          16.847679138183594,
          -5.633395671844482,
          1.4910948276519775,
          -6.63886833190918,
          -0.24337640404701233,
          2.687378406524658,
          2.5885231494903564,
          -2.7613677978515625,
          1.9519211053848267,
          1.8300502300262451,
          12.139275550842285,
          -10.329886436462402,
          -6.3409833908081055,
          19.178634643554688,
          -2.541233777999878,
          2.714916229248047,
          0.5679379105567932,
          -8.063809394836426,
          2.0358197689056396,
          2.339355230331421,
          -6.013579368591309,
          2.69338321685791,
          2.5390686988830566,
          2.2952141761779785,
          -2.9668779373168945,
          0.0660153329372406,
          2.607787609100342
         ],
         "xaxis": "x",
         "y": [
          10.919301986694336,
          11.223241806030273,
          11.048301696777344,
          11.53628921508789,
          11.677249908447266,
          10.084708213806152,
          11.801626205444336,
          10.014372825622559,
          0.019595719873905182,
          -17.911943435668945,
          11.316000938415527,
          10.666013717651367,
          11.366267204284668,
          0.19395431876182556,
          11.06192398071289,
          11.87043571472168,
          11.538846015930176,
          11.892882347106934,
          10.857443809509277,
          11.845206260681152,
          2.041404962539673,
          -4.354679107666016,
          10.929506301879883,
          12.00125789642334,
          9.288884162902832,
          11.684684753417969,
          11.099632263183594,
          8.867752075195312,
          10.721063613891602,
          11.580377578735352,
          0.7026569843292236,
          14.808826446533203,
          -4.940340042114258,
          2.6918435096740723,
          8.520344734191895,
          11.6661958694458,
          10.774718284606934,
          12.022591590881348,
          11.413775444030762,
          11.894061088562012,
          -7.831434726715088,
          11.299991607666016,
          11.82602596282959,
          11.063626289367676,
          9.974148750305176,
          9.866300582885742,
          11.095871925354004
         ],
         "yaxis": "y"
        },
        {
         "customdata": [
          [
           "0.00%",
           "0.00%",
           "0.00%",
           "0.00%",
           "0.00%",
           "100.00%",
           "surprised"
          ],
          [
           "0.02%",
           "0.00%",
           "0.00%",
           "0.02%",
           "0.00%",
           "99.97%",
           "surprised"
          ],
          [
           "0.00%",
           "0.00%",
           "0.00%",
           "0.00%",
           "0.00%",
           "100.00%",
           "surprised"
          ],
          [
           "0.00%",
           "0.00%",
           "0.00%",
           "0.00%",
           "0.00%",
           "100.00%",
           "surprised"
          ],
          [
           "0.01%",
           "0.00%",
           "0.00%",
           "0.58%",
           "0.01%",
           "99.40%",
           "surprised"
          ],
          [
           "0.04%",
           "0.05%",
           "0.03%",
           "0.88%",
           "0.01%",
           "98.98%",
           "surprised"
          ],
          [
           "4.53%",
           "2.33%",
           "0.74%",
           "6.52%",
           "3.40%",
           "82.47%",
           "surprised"
          ],
          [
           "0.01%",
           "0.00%",
           "0.00%",
           "0.04%",
           "0.35%",
           "99.60%",
           "surprised"
          ],
          [
           "0.00%",
           "0.00%",
           "0.00%",
           "0.00%",
           "0.00%",
           "100.00%",
           "surprised"
          ],
          [
           "0.21%",
           "3.81%",
           "1.56%",
           "0.93%",
           "6.64%",
           "86.84%",
           "surprised"
          ],
          [
           "0.28%",
           "0.01%",
           "0.00%",
           "0.15%",
           "0.09%",
           "99.47%",
           "surprised"
          ],
          [
           "0.02%",
           "0.00%",
           "0.00%",
           "0.81%",
           "0.00%",
           "99.16%",
           "surprised"
          ],
          [
           "5.44%",
           "0.11%",
           "0.13%",
           "24.61%",
           "0.17%",
           "69.54%",
           "surprised"
          ],
          [
           "0.00%",
           "0.00%",
           "0.00%",
           "0.00%",
           "0.00%",
           "100.00%",
           "surprised"
          ],
          [
           "0.10%",
           "0.00%",
           "0.00%",
           "0.11%",
           "0.00%",
           "99.79%",
           "surprised"
          ],
          [
           "4.47%",
           "0.00%",
           "0.00%",
           "37.02%",
           "0.00%",
           "58.51%",
           "surprised"
          ],
          [
           "4.97%",
           "0.02%",
           "0.00%",
           "2.20%",
           "0.16%",
           "92.64%",
           "surprised"
          ],
          [
           "0.00%",
           "0.00%",
           "0.00%",
           "0.00%",
           "0.00%",
           "99.99%",
           "surprised"
          ],
          [
           "0.13%",
           "0.00%",
           "0.00%",
           "0.50%",
           "0.00%",
           "99.37%",
           "surprised"
          ],
          [
           "0.06%",
           "0.01%",
           "0.00%",
           "0.05%",
           "1.41%",
           "98.47%",
           "surprised"
          ],
          [
           "0.03%",
           "0.00%",
           "0.00%",
           "0.03%",
           "0.34%",
           "99.61%",
           "surprised"
          ],
          [
           "0.02%",
           "0.00%",
           "0.00%",
           "0.00%",
           "0.13%",
           "99.84%",
           "surprised"
          ],
          [
           "0.01%",
           "0.00%",
           "0.00%",
           "0.43%",
           "0.00%",
           "99.56%",
           "surprised"
          ],
          [
           "8.71%",
           "0.34%",
           "0.05%",
           "4.24%",
           "1.25%",
           "85.42%",
           "surprised"
          ],
          [
           "0.00%",
           "0.01%",
           "0.01%",
           "0.54%",
           "0.00%",
           "99.44%",
           "surprised"
          ],
          [
           "0.07%",
           "0.01%",
           "0.01%",
           "3.54%",
           "0.00%",
           "96.36%",
           "surprised"
          ],
          [
           "0.00%",
           "0.00%",
           "0.00%",
           "0.00%",
           "0.00%",
           "100.00%",
           "surprised"
          ],
          [
           "0.31%",
           "0.12%",
           "0.01%",
           "0.16%",
           "5.13%",
           "94.27%",
           "surprised"
          ],
          [
           "0.15%",
           "0.00%",
           "0.00%",
           "0.13%",
           "0.00%",
           "99.72%",
           "surprised"
          ],
          [
           "0.73%",
           "0.10%",
           "0.06%",
           "0.37%",
           "2.71%",
           "96.03%",
           "surprised"
          ],
          [
           "0.14%",
           "0.00%",
           "0.00%",
           "4.48%",
           "0.00%",
           "95.38%",
           "surprised"
          ],
          [
           "0.00%",
           "0.00%",
           "0.00%",
           "0.00%",
           "0.03%",
           "99.97%",
           "surprised"
          ],
          [
           "0.01%",
           "0.00%",
           "0.00%",
           "0.00%",
           "0.33%",
           "99.66%",
           "surprised"
          ],
          [
           "0.01%",
           "0.04%",
           "3.91%",
           "44.03%",
           "0.00%",
           "52.02%",
           "surprised"
          ],
          [
           "0.01%",
           "0.00%",
           "0.00%",
           "1.04%",
           "0.00%",
           "98.95%",
           "surprised"
          ],
          [
           "0.00%",
           "0.00%",
           "0.00%",
           "0.00%",
           "0.01%",
           "99.99%",
           "surprised"
          ],
          [
           "4.68%",
           "7.55%",
           "2.94%",
           "8.12%",
           "7.39%",
           "69.31%",
           "surprised"
          ],
          [
           "0.00%",
           "0.00%",
           "0.00%",
           "0.00%",
           "0.00%",
           "100.00%",
           "surprised"
          ],
          [
           "0.00%",
           "0.00%",
           "0.00%",
           "0.00%",
           "0.00%",
           "100.00%",
           "surprised"
          ],
          [
           "0.00%",
           "0.00%",
           "0.00%",
           "0.00%",
           "0.00%",
           "100.00%",
           "surprised"
          ],
          [
           "1.77%",
           "0.15%",
           "0.10%",
           "10.07%",
           "0.17%",
           "87.74%",
           "surprised"
          ],
          [
           "0.04%",
           "0.00%",
           "0.00%",
           "0.00%",
           "0.11%",
           "99.85%",
           "surprised"
          ]
         ],
         "hovertemplate": "Predictions=surprised<br>Correct=True<br>x=%{x}<br>y=%{y}<br>angry=%{customdata[0]}<br>disgusted=%{customdata[1]}<br>happy=%{customdata[2]}<br>neutral=%{customdata[3]}<br>sad=%{customdata[4]}<br>surprised=%{customdata[5]}<br>Label=%{customdata[6]}<extra></extra>",
         "legendgroup": "surprised, True",
         "marker": {
          "color": "#19D3F3",
          "symbol": "circle"
         },
         "mode": "markers",
         "name": "surprised, True",
         "orientation": "v",
         "showlegend": true,
         "type": "scatter",
         "x": [
          -10.571514129638672,
          -10.07630443572998,
          -10.174310684204102,
          -10.650679588317871,
          -9.728734970092773,
          -9.545243263244629,
          -7.759912014007568,
          -10.488295555114746,
          -10.878878593444824,
          -8.446917533874512,
          -10.21052074432373,
          -9.565817832946777,
          -6.415529251098633,
          -10.144194602966309,
          -10.053096771240234,
          -3.26513934135437,
          -8.447273254394531,
          -10.876387596130371,
          -9.874842643737793,
          -10.11559009552002,
          -10.494458198547363,
          -10.731446266174316,
          -9.815448760986328,
          -7.8180060386657715,
          -9.744549751281738,
          -8.600944519042969,
          -10.650164604187012,
          -9.229629516601562,
          -10.216236114501953,
          -9.366070747375488,
          -8.532299995422363,
          -10.862004280090332,
          -10.570070266723633,
          -2.9131052494049072,
          -9.473069190979004,
          -10.873072624206543,
          -7.276629447937012,
          -10.172901153564453,
          -10.62990951538086,
          -10.782854080200195,
          -7.707163333892822,
          -10.731263160705566
         ],
         "xaxis": "x",
         "y": [
          15.755935668945312,
          15.745057106018066,
          15.799623489379883,
          15.732719421386719,
          15.122522354125977,
          14.780760765075684,
          12.271469116210938,
          14.761512756347656,
          15.345025062561035,
          12.304369926452637,
          14.824398040771484,
          14.931166648864746,
          11.793784141540527,
          15.789151191711426,
          15.449532508850098,
          10.024500846862793,
          13.23326587677002,
          15.335405349731445,
          14.944174766540527,
          13.99373722076416,
          14.766188621520996,
          14.993849754333496,
          15.296350479125977,
          12.433615684509277,
          15.182494163513184,
          13.911165237426758,
          15.732929229736328,
          12.950182914733887,
          15.203653335571289,
          13.199247360229492,
          13.768951416015625,
          15.229344367980957,
          14.79161262512207,
          9.925407409667969,
          14.755630493164062,
          15.310187339782715,
          11.549703598022461,
          15.79889965057373,
          15.741488456726074,
          15.549044609069824,
          12.673433303833008,
          15.01035213470459
         ],
         "yaxis": "y"
        },
        {
         "customdata": [
          [
           "0.10%",
           "0.00%",
           "0.86%",
           "3.36%",
           "6.03%",
           "89.65%",
           "sad"
          ],
          [
           "14.13%",
           "0.01%",
           "0.00%",
           "1.89%",
           "0.16%",
           "83.80%",
           "angry"
          ],
          [
           "0.91%",
           "0.00%",
           "0.00%",
           "1.27%",
           "0.03%",
           "97.79%",
           "angry"
          ],
          [
           "0.23%",
           "0.10%",
           "0.06%",
           "0.07%",
           "32.31%",
           "67.22%",
           "happy"
          ],
          [
           "0.00%",
           "0.00%",
           "0.05%",
           "20.60%",
           "0.00%",
           "79.35%",
           "happy"
          ],
          [
           "1.55%",
           "0.02%",
           "0.00%",
           "0.11%",
           "42.58%",
           "55.74%",
           "sad"
          ],
          [
           "9.60%",
           "20.87%",
           "3.65%",
           "27.46%",
           "2.31%",
           "36.11%",
           "sad"
          ],
          [
           "0.31%",
           "1.01%",
           "0.10%",
           "0.22%",
           "3.90%",
           "94.46%",
           "sad"
          ],
          [
           "0.93%",
           "0.06%",
           "0.11%",
           "20.90%",
           "0.03%",
           "77.97%",
           "neutral"
          ],
          [
           "0.47%",
           "0.06%",
           "0.41%",
           "3.56%",
           "2.62%",
           "92.88%",
           "disgusted"
          ],
          [
           "4.78%",
           "21.49%",
           "11.84%",
           "27.37%",
           "0.69%",
           "33.82%",
           "neutral"
          ],
          [
           "1.20%",
           "18.78%",
           "9.55%",
           "2.98%",
           "5.57%",
           "61.91%",
           "disgusted"
          ],
          [
           "0.27%",
           "0.00%",
           "0.00%",
           "0.08%",
           "0.13%",
           "99.52%",
           "neutral"
          ],
          [
           "6.08%",
           "0.06%",
           "0.02%",
           "1.23%",
           "10.97%",
           "81.64%",
           "neutral"
          ],
          [
           "0.35%",
           "0.01%",
           "0.28%",
           "44.97%",
           "0.07%",
           "54.33%",
           "neutral"
          ],
          [
           "0.00%",
           "0.00%",
           "0.00%",
           "0.00%",
           "0.00%",
           "100.00%",
           "happy"
          ]
         ],
         "hovertemplate": "Predictions=surprised<br>Correct=False<br>x=%{x}<br>y=%{y}<br>angry=%{customdata[0]}<br>disgusted=%{customdata[1]}<br>happy=%{customdata[2]}<br>neutral=%{customdata[3]}<br>sad=%{customdata[4]}<br>surprised=%{customdata[5]}<br>Label=%{customdata[6]}<extra></extra>",
         "legendgroup": "surprised, False",
         "marker": {
          "color": "#19D3F3",
          "symbol": "x"
         },
         "mode": "markers",
         "name": "surprised, False",
         "orientation": "v",
         "showlegend": true,
         "type": "scatter",
         "x": [
          -8.567648887634277,
          -7.786124229431152,
          -9.140447616577148,
          -8.108916282653809,
          -6.657754421234131,
          -8.119050979614258,
          -2.8569717407226562,
          -9.232011795043945,
          -6.63886833190918,
          -8.681920051574707,
          -2.7613677978515625,
          -7.288426399230957,
          -10.329886436462402,
          -8.063809394836426,
          -2.9668779373168945,
          -10.174213409423828
         ],
         "xaxis": "x",
         "y": [
          12.564483642578125,
          12.429471969604492,
          14.28154468536377,
          10.51758861541748,
          12.035087585449219,
          10.247540473937988,
          8.924718856811523,
          13.014721870422363,
          12.00125789642334,
          13.098677635192871,
          8.867752075195312,
          11.34373664855957,
          14.808826446533203,
          12.022591590881348,
          9.974148750305176,
          15.799723625183105
         ],
         "yaxis": "y"
        },
        {
         "customdata": [
          [
           "0.00%",
           "0.62%",
           "99.25%",
           "0.00%",
           "0.12%",
           "0.00%",
           "happy"
          ],
          [
           "0.00%",
           "0.00%",
           "99.98%",
           "0.01%",
           "0.01%",
           "0.00%",
           "happy"
          ],
          [
           "2.23%",
           "10.04%",
           "68.76%",
           "8.85%",
           "2.47%",
           "7.65%",
           "happy"
          ],
          [
           "0.00%",
           "0.01%",
           "99.92%",
           "0.04%",
           "0.02%",
           "0.01%",
           "happy"
          ],
          [
           "0.42%",
           "21.92%",
           "74.34%",
           "1.05%",
           "1.92%",
           "0.36%",
           "happy"
          ],
          [
           "0.00%",
           "0.00%",
           "99.94%",
           "0.06%",
           "0.00%",
           "0.00%",
           "happy"
          ],
          [
           "0.01%",
           "3.22%",
           "96.55%",
           "0.01%",
           "0.20%",
           "0.00%",
           "happy"
          ],
          [
           "0.00%",
           "0.00%",
           "99.94%",
           "0.06%",
           "0.00%",
           "0.00%",
           "happy"
          ],
          [
           "0.04%",
           "0.04%",
           "64.85%",
           "34.48%",
           "0.07%",
           "0.52%",
           "happy"
          ],
          [
           "0.00%",
           "0.01%",
           "99.66%",
           "0.33%",
           "0.00%",
           "0.00%",
           "happy"
          ],
          [
           "0.01%",
           "0.04%",
           "98.38%",
           "1.52%",
           "0.03%",
           "0.02%",
           "happy"
          ],
          [
           "0.00%",
           "0.28%",
           "99.63%",
           "0.01%",
           "0.08%",
           "0.00%",
           "happy"
          ],
          [
           "4.75%",
           "20.25%",
           "55.65%",
           "2.01%",
           "15.14%",
           "2.21%",
           "happy"
          ],
          [
           "0.00%",
           "0.71%",
           "99.12%",
           "0.16%",
           "0.01%",
           "0.00%",
           "happy"
          ],
          [
           "0.01%",
           "14.71%",
           "84.43%",
           "0.55%",
           "0.09%",
           "0.21%",
           "happy"
          ],
          [
           "0.21%",
           "39.63%",
           "57.05%",
           "1.83%",
           "0.24%",
           "1.03%",
           "happy"
          ],
          [
           "0.50%",
           "22.74%",
           "71.78%",
           "2.48%",
           "1.22%",
           "1.27%",
           "happy"
          ],
          [
           "0.00%",
           "0.00%",
           "99.54%",
           "0.46%",
           "0.00%",
           "0.00%",
           "happy"
          ],
          [
           "0.00%",
           "0.02%",
           "99.87%",
           "0.09%",
           "0.01%",
           "0.00%",
           "happy"
          ],
          [
           "0.00%",
           "0.08%",
           "99.88%",
           "0.00%",
           "0.03%",
           "0.00%",
           "happy"
          ],
          [
           "0.00%",
           "0.01%",
           "99.88%",
           "0.03%",
           "0.08%",
           "0.00%",
           "happy"
          ],
          [
           "0.00%",
           "0.01%",
           "99.99%",
           "0.00%",
           "0.00%",
           "0.00%",
           "happy"
          ],
          [
           "0.02%",
           "0.16%",
           "99.10%",
           "0.66%",
           "0.05%",
           "0.00%",
           "happy"
          ],
          [
           "0.00%",
           "0.06%",
           "99.90%",
           "0.00%",
           "0.04%",
           "0.00%",
           "happy"
          ],
          [
           "0.00%",
           "0.02%",
           "99.93%",
           "0.00%",
           "0.05%",
           "0.00%",
           "happy"
          ],
          [
           "0.03%",
           "1.30%",
           "97.79%",
           "0.20%",
           "0.55%",
           "0.12%",
           "happy"
          ],
          [
           "0.00%",
           "0.09%",
           "99.85%",
           "0.05%",
           "0.00%",
           "0.00%",
           "happy"
          ],
          [
           "0.03%",
           "3.65%",
           "96.16%",
           "0.16%",
           "0.01%",
           "0.00%",
           "happy"
          ],
          [
           "0.00%",
           "0.00%",
           "100.00%",
           "0.00%",
           "0.00%",
           "0.00%",
           "happy"
          ],
          [
           "0.00%",
           "0.00%",
           "99.99%",
           "0.00%",
           "0.01%",
           "0.00%",
           "happy"
          ],
          [
           "0.00%",
           "0.51%",
           "99.38%",
           "0.06%",
           "0.04%",
           "0.01%",
           "happy"
          ],
          [
           "0.00%",
           "0.00%",
           "100.00%",
           "0.00%",
           "0.00%",
           "0.00%",
           "happy"
          ],
          [
           "0.00%",
           "0.00%",
           "100.00%",
           "0.00%",
           "0.00%",
           "0.00%",
           "happy"
          ],
          [
           "0.03%",
           "1.80%",
           "97.31%",
           "0.06%",
           "0.79%",
           "0.02%",
           "happy"
          ],
          [
           "0.01%",
           "0.74%",
           "98.30%",
           "0.84%",
           "0.03%",
           "0.09%",
           "happy"
          ],
          [
           "0.05%",
           "0.09%",
           "83.64%",
           "15.92%",
           "0.22%",
           "0.09%",
           "happy"
          ],
          [
           "0.00%",
           "0.03%",
           "99.80%",
           "0.14%",
           "0.02%",
           "0.00%",
           "happy"
          ],
          [
           "0.01%",
           "2.08%",
           "96.64%",
           "0.08%",
           "0.57%",
           "0.62%",
           "happy"
          ],
          [
           "0.00%",
           "0.00%",
           "99.98%",
           "0.02%",
           "0.01%",
           "0.00%",
           "happy"
          ],
          [
           "0.00%",
           "0.44%",
           "99.45%",
           "0.04%",
           "0.06%",
           "0.01%",
           "happy"
          ],
          [
           "0.00%",
           "0.00%",
           "99.99%",
           "0.01%",
           "0.00%",
           "0.00%",
           "happy"
          ],
          [
           "0.00%",
           "0.00%",
           "99.01%",
           "0.98%",
           "0.00%",
           "0.00%",
           "happy"
          ],
          [
           "0.06%",
           "8.84%",
           "90.71%",
           "0.27%",
           "0.12%",
           "0.01%",
           "happy"
          ],
          [
           "0.00%",
           "0.00%",
           "100.00%",
           "0.00%",
           "0.00%",
           "0.00%",
           "happy"
          ],
          [
           "0.00%",
           "0.01%",
           "99.99%",
           "0.00%",
           "0.00%",
           "0.00%",
           "happy"
          ],
          [
           "6.28%",
           "34.37%",
           "39.00%",
           "13.89%",
           "2.61%",
           "3.85%",
           "happy"
          ],
          [
           "0.01%",
           "0.19%",
           "98.68%",
           "1.08%",
           "0.02%",
           "0.01%",
           "happy"
          ],
          [
           "0.13%",
           "0.47%",
           "98.24%",
           "0.27%",
           "0.87%",
           "0.01%",
           "happy"
          ],
          [
           "0.00%",
           "0.04%",
           "99.84%",
           "0.12%",
           "0.00%",
           "0.00%",
           "happy"
          ],
          [
           "0.02%",
           "11.72%",
           "84.81%",
           "0.00%",
           "3.45%",
           "0.00%",
           "happy"
          ],
          [
           "0.00%",
           "0.00%",
           "98.95%",
           "0.79%",
           "0.04%",
           "0.23%",
           "happy"
          ],
          [
           "0.00%",
           "0.01%",
           "99.92%",
           "0.06%",
           "0.01%",
           "0.00%",
           "happy"
          ],
          [
           "0.00%",
           "0.64%",
           "99.19%",
           "0.00%",
           "0.16%",
           "0.00%",
           "happy"
          ],
          [
           "0.00%",
           "0.00%",
           "99.98%",
           "0.02%",
           "0.00%",
           "0.00%",
           "happy"
          ],
          [
           "0.00%",
           "0.00%",
           "99.87%",
           "0.12%",
           "0.00%",
           "0.00%",
           "happy"
          ],
          [
           "0.01%",
           "0.03%",
           "66.27%",
           "7.55%",
           "0.56%",
           "25.59%",
           "happy"
          ]
         ],
         "hovertemplate": "Predictions=happy<br>Correct=True<br>x=%{x}<br>y=%{y}<br>angry=%{customdata[0]}<br>disgusted=%{customdata[1]}<br>happy=%{customdata[2]}<br>neutral=%{customdata[3]}<br>sad=%{customdata[4]}<br>surprised=%{customdata[5]}<br>Label=%{customdata[6]}<extra></extra>",
         "legendgroup": "happy, True",
         "marker": {
          "color": "#00CC96",
          "symbol": "circle"
         },
         "mode": "markers",
         "name": "happy, True",
         "orientation": "v",
         "showlegend": true,
         "type": "scatter",
         "x": [
          18.2021427154541,
          20.422447204589844,
          13.459512710571289,
          19.9410457611084,
          13.42573356628418,
          19.843748092651367,
          15.995421409606934,
          19.854175567626953,
          13.418676376342773,
          18.76358413696289,
          16.7723388671875,
          19.061983108520508,
          12.706164360046387,
          18.028076171875,
          14.273698806762695,
          12.285454750061035,
          13.279939651489258,
          18.409181594848633,
          19.621288299560547,
          19.887847900390625,
          19.838605880737305,
          20.50042152404785,
          17.403120040893555,
          19.959590911865234,
          20.11546516418457,
          16.622400283813477,
          19.660423278808594,
          15.927709579467773,
          20.612098693847656,
          20.44864273071289,
          18.387205123901367,
          20.613628387451172,
          20.531814575195312,
          16.335140228271484,
          16.835159301757812,
          14.150423049926758,
          19.33522605895996,
          16.114551544189453,
          20.15296173095703,
          18.53413963317871,
          20.3059024810791,
          17.14472198486328,
          14.7836332321167,
          20.521015167236328,
          20.485116958618164,
          11.971508026123047,
          16.962778091430664,
          16.979022979736328,
          19.492328643798828,
          14.356304168701172,
          17.18944549560547,
          19.804046630859375,
          18.137725830078125,
          20.14236831665039,
          19.532634735107422,
          13.617895126342773
         ],
         "xaxis": "x",
         "y": [
          1.0578147172927856,
          2.238708734512329,
          1.2451894283294678,
          2.4099185466766357,
          0.5678774118423462,
          2.987990140914917,
          0.2890024781227112,
          2.974151372909546,
          2.2057254314422607,
          2.6764626502990723,
          2.174006938934326,
          1.6345165967941284,
          0.7262859344482422,
          1.0885971784591675,
          0.46387848258018494,
          0.408027708530426,
          0.601742684841156,
          2.6461997032165527,
          2.6339988708496094,
          2.06143856048584,
          2.2415688037872314,
          2.2711031436920166,
          2.222269296646118,
          2.094797134399414,
          2.1273751258850098,
          0.7309553623199463,
          2.176004409790039,
          0.27471986413002014,
          2.561741590499878,
          2.875154972076416,
          1.171724796295166,
          2.5880889892578125,
          2.9006340503692627,
          0.5031468868255615,
          1.635475516319275,
          2.1031417846679688,
          2.545821189880371,
          0.4466315507888794,
          3.0763943195343018,
          1.2583396434783936,
          3.03994083404541,
          2.3333563804626465,
          0.40938135981559753,
          2.913112163543701,
          2.2599635124206543,
          0.5709969997406006,
          2.1549243927001953,
          1.0375474691390991,
          2.537334442138672,
          0.47588542103767395,
          2.279496192932129,
          2.8644964694976807,
          1.0413784980773926,
          3.0906982421875,
          2.852471113204956,
          1.6370340585708618
         ],
         "yaxis": "y"
        },
        {
         "customdata": [
          [
           "0.02%",
           "0.22%",
           "98.21%",
           "0.24%",
           "1.14%",
           "0.17%",
           "disgusted"
          ],
          [
           "0.00%",
           "0.00%",
           "99.98%",
           "0.02%",
           "0.00%",
           "0.00%",
           "sad"
          ],
          [
           "0.00%",
           "0.00%",
           "99.98%",
           "0.00%",
           "0.02%",
           "0.00%",
           "sad"
          ],
          [
           "1.73%",
           "13.37%",
           "36.32%",
           "1.13%",
           "33.14%",
           "14.31%",
           "surprised"
          ],
          [
           "0.05%",
           "0.39%",
           "96.52%",
           "1.58%",
           "1.07%",
           "0.39%",
           "disgusted"
          ],
          [
           "0.02%",
           "0.67%",
           "98.83%",
           "0.03%",
           "0.42%",
           "0.02%",
           "angry"
          ],
          [
           "0.08%",
           "3.66%",
           "69.80%",
           "0.01%",
           "26.45%",
           "0.00%",
           "angry"
          ],
          [
           "0.07%",
           "0.21%",
           "98.43%",
           "1.16%",
           "0.11%",
           "0.02%",
           "neutral"
          ],
          [
           "0.01%",
           "0.00%",
           "78.73%",
           "16.27%",
           "0.25%",
           "4.74%",
           "sad"
          ],
          [
           "1.90%",
           "18.83%",
           "50.04%",
           "20.42%",
           "5.98%",
           "2.83%",
           "angry"
          ],
          [
           "4.22%",
           "26.56%",
           "45.26%",
           "15.74%",
           "4.46%",
           "3.77%",
           "neutral"
          ],
          [
           "0.06%",
           "1.15%",
           "95.03%",
           "1.90%",
           "0.65%",
           "1.20%",
           "disgusted"
          ],
          [
           "0.00%",
           "0.00%",
           "99.77%",
           "0.20%",
           "0.01%",
           "0.01%",
           "neutral"
          ],
          [
           "0.23%",
           "38.65%",
           "59.80%",
           "0.12%",
           "0.55%",
           "0.64%",
           "angry"
          ],
          [
           "0.00%",
           "0.00%",
           "100.00%",
           "0.00%",
           "0.00%",
           "0.00%",
           "surprised"
          ]
         ],
         "hovertemplate": "Predictions=happy<br>Correct=False<br>x=%{x}<br>y=%{y}<br>angry=%{customdata[0]}<br>disgusted=%{customdata[1]}<br>happy=%{customdata[2]}<br>neutral=%{customdata[3]}<br>sad=%{customdata[4]}<br>surprised=%{customdata[5]}<br>Label=%{customdata[6]}<extra></extra>",
         "legendgroup": "happy, False",
         "marker": {
          "color": "#00CC96",
          "symbol": "x"
         },
         "mode": "markers",
         "name": "happy, False",
         "orientation": "v",
         "showlegend": true,
         "type": "scatter",
         "x": [
          16.979398727416992,
          20.140274047851562,
          20.41701889038086,
          -5.085709095001221,
          16.056396484375,
          17.669389724731445,
          13.467991828918457,
          16.847679138183594,
          14.031631469726562,
          12.304198265075684,
          12.139275550842285,
          15.839826583862305,
          19.178634643554688,
          12.358827590942383,
          20.609832763671875
         ],
         "xaxis": "x",
         "y": [
          1.0240862369537354,
          3.080977201461792,
          2.222471237182617,
          -3.037777900695801,
          1.1870115995407104,
          0.9855897426605225,
          0.8689366579055786,
          2.041404962539673,
          2.0302553176879883,
          0.9163592457771301,
          0.7026569843292236,
          0.9947950839996338,
          2.6918435096740723,
          0.39752840995788574,
          2.5729165077209473
         ],
         "yaxis": "y"
        },
        {
         "customdata": [
          [
           "9.02%",
           "0.21%",
           "0.69%",
           "82.07%",
           "0.26%",
           "7.75%",
           "neutral"
          ],
          [
           "0.01%",
           "0.00%",
           "0.71%",
           "99.22%",
           "0.00%",
           "0.05%",
           "neutral"
          ],
          [
           "0.04%",
           "0.00%",
           "0.09%",
           "98.53%",
           "0.00%",
           "1.33%",
           "neutral"
          ],
          [
           "6.94%",
           "0.00%",
           "0.05%",
           "92.30%",
           "0.01%",
           "0.69%",
           "neutral"
          ],
          [
           "0.00%",
           "0.00%",
           "0.12%",
           "99.84%",
           "0.00%",
           "0.04%",
           "neutral"
          ],
          [
           "1.38%",
           "0.70%",
           "2.47%",
           "61.40%",
           "0.12%",
           "33.92%",
           "neutral"
          ],
          [
           "0.01%",
           "0.00%",
           "0.06%",
           "98.58%",
           "0.00%",
           "1.35%",
           "neutral"
          ],
          [
           "5.90%",
           "0.60%",
           "9.38%",
           "62.88%",
           "13.32%",
           "7.91%",
           "neutral"
          ],
          [
           "0.08%",
           "0.00%",
           "0.36%",
           "99.33%",
           "0.00%",
           "0.23%",
           "neutral"
          ],
          [
           "1.83%",
           "0.04%",
           "0.26%",
           "81.27%",
           "0.06%",
           "16.54%",
           "neutral"
          ],
          [
           "7.65%",
           "0.03%",
           "0.16%",
           "90.28%",
           "0.02%",
           "1.85%",
           "neutral"
          ],
          [
           "0.44%",
           "0.01%",
           "0.55%",
           "96.76%",
           "0.02%",
           "2.22%",
           "neutral"
          ],
          [
           "0.00%",
           "0.00%",
           "0.00%",
           "99.26%",
           "0.00%",
           "0.74%",
           "neutral"
          ],
          [
           "7.96%",
           "0.00%",
           "0.03%",
           "91.60%",
           "0.00%",
           "0.40%",
           "neutral"
          ],
          [
           "0.07%",
           "0.00%",
           "0.09%",
           "99.61%",
           "0.00%",
           "0.24%",
           "neutral"
          ],
          [
           "0.17%",
           "1.21%",
           "4.70%",
           "89.77%",
           "0.03%",
           "4.12%",
           "neutral"
          ],
          [
           "0.50%",
           "0.00%",
           "0.37%",
           "98.88%",
           "0.02%",
           "0.23%",
           "neutral"
          ],
          [
           "1.28%",
           "0.12%",
           "1.96%",
           "89.21%",
           "0.06%",
           "7.38%",
           "neutral"
          ],
          [
           "1.60%",
           "0.07%",
           "32.28%",
           "60.06%",
           "4.26%",
           "1.73%",
           "neutral"
          ],
          [
           "0.01%",
           "0.00%",
           "0.07%",
           "99.87%",
           "0.00%",
           "0.06%",
           "neutral"
          ],
          [
           "0.10%",
           "0.00%",
           "0.60%",
           "99.01%",
           "0.00%",
           "0.28%",
           "neutral"
          ],
          [
           "0.21%",
           "0.01%",
           "8.27%",
           "91.16%",
           "0.01%",
           "0.32%",
           "neutral"
          ],
          [
           "3.72%",
           "0.02%",
           "0.33%",
           "94.85%",
           "0.16%",
           "0.91%",
           "neutral"
          ],
          [
           "4.59%",
           "34.93%",
           "10.97%",
           "35.61%",
           "1.59%",
           "12.30%",
           "neutral"
          ],
          [
           "0.00%",
           "0.00%",
           "0.00%",
           "99.99%",
           "0.00%",
           "0.01%",
           "neutral"
          ],
          [
           "9.42%",
           "0.42%",
           "0.89%",
           "78.60%",
           "0.45%",
           "10.22%",
           "neutral"
          ],
          [
           "0.55%",
           "0.01%",
           "0.41%",
           "96.50%",
           "0.01%",
           "2.52%",
           "neutral"
          ],
          [
           "0.00%",
           "0.00%",
           "0.00%",
           "99.68%",
           "0.00%",
           "0.31%",
           "neutral"
          ],
          [
           "0.06%",
           "0.00%",
           "0.35%",
           "99.32%",
           "0.00%",
           "0.27%",
           "neutral"
          ],
          [
           "0.00%",
           "0.00%",
           "0.05%",
           "99.86%",
           "0.00%",
           "0.08%",
           "neutral"
          ],
          [
           "0.37%",
           "0.01%",
           "0.51%",
           "97.41%",
           "0.01%",
           "1.70%",
           "neutral"
          ],
          [
           "1.87%",
           "0.10%",
           "18.87%",
           "71.53%",
           "0.28%",
           "7.34%",
           "neutral"
          ],
          [
           "0.00%",
           "0.00%",
           "0.99%",
           "99.01%",
           "0.00%",
           "0.00%",
           "neutral"
          ]
         ],
         "hovertemplate": "Predictions=neutral<br>Correct=True<br>x=%{x}<br>y=%{y}<br>angry=%{customdata[0]}<br>disgusted=%{customdata[1]}<br>happy=%{customdata[2]}<br>neutral=%{customdata[3]}<br>sad=%{customdata[4]}<br>surprised=%{customdata[5]}<br>Label=%{customdata[6]}<extra></extra>",
         "legendgroup": "neutral, True",
         "marker": {
          "color": "#AB63FA",
          "symbol": "circle"
         },
         "mode": "markers",
         "name": "neutral, True",
         "orientation": "v",
         "showlegend": true,
         "type": "scatter",
         "x": [
          0.8472520709037781,
          2.676339626312256,
          2.4656753540039062,
          1.5990511178970337,
          2.6906237602233887,
          -1.6105048656463623,
          2.1397342681884766,
          -0.2108781337738037,
          2.6968462467193604,
          0.6062822937965393,
          1.4458847045898438,
          2.228661060333252,
          2.2442398071289062,
          1.5215600728988647,
          2.321786880493164,
          1.6879016160964966,
          2.180952310562134,
          1.4910948276519775,
          -0.24337640404701233,
          2.687378406524658,
          2.5885231494903564,
          1.9519211053848267,
          1.8300502300262451,
          -2.541233777999878,
          2.714916229248047,
          0.5679379105567932,
          2.0358197689056396,
          2.339355230331421,
          2.69338321685791,
          2.5390686988830566,
          2.2952141761779785,
          0.0660153329372406,
          2.607787609100342
         ],
         "xaxis": "x",
         "y": [
          10.919301986694336,
          11.223241806030273,
          11.048301696777344,
          11.53628921508789,
          11.677249908447266,
          10.084708213806152,
          11.801626205444336,
          10.014372825622559,
          11.316000938415527,
          10.666013717651367,
          11.366267204284668,
          11.06192398071289,
          11.87043571472168,
          11.538846015930176,
          11.892882347106934,
          10.857443809509277,
          11.845206260681152,
          10.929506301879883,
          9.288884162902832,
          11.684684753417969,
          11.099632263183594,
          10.721063613891602,
          11.580377578735352,
          8.520344734191895,
          11.6661958694458,
          10.774718284606934,
          11.413775444030762,
          11.894061088562012,
          11.299991607666016,
          11.82602596282959,
          11.063626289367676,
          9.866300582885742,
          11.095871925354004
         ],
         "yaxis": "y"
        },
        {
         "customdata": [
          [
           "0.40%",
           "0.13%",
           "34.85%",
           "37.30%",
           "2.51%",
           "24.82%",
           "sad"
          ],
          [
           "35.01%",
           "0.00%",
           "0.02%",
           "64.84%",
           "0.01%",
           "0.12%",
           "angry"
          ],
          [
           "5.40%",
           "1.02%",
           "2.60%",
           "73.27%",
           "0.36%",
           "17.35%",
           "surprised"
          ],
          [
           "0.25%",
           "0.00%",
           "0.01%",
           "50.61%",
           "0.00%",
           "49.13%",
           "surprised"
          ],
          [
           "8.37%",
           "0.26%",
           "3.92%",
           "40.25%",
           "17.83%",
           "29.37%",
           "surprised"
          ],
          [
           "2.73%",
           "0.03%",
           "0.10%",
           "63.81%",
           "0.02%",
           "33.30%",
           "surprised"
          ],
          [
           "4.30%",
           "2.15%",
           "19.42%",
           "65.26%",
           "0.57%",
           "8.31%",
           "happy"
          ],
          [
           "1.07%",
           "0.00%",
           "0.00%",
           "95.38%",
           "0.00%",
           "3.54%",
           "surprised"
          ],
          [
           "0.11%",
           "0.00%",
           "0.00%",
           "93.77%",
           "0.00%",
           "6.12%",
           "surprised"
          ],
          [
           "3.55%",
           "0.07%",
           "0.68%",
           "72.00%",
           "0.12%",
           "23.58%",
           "surprised"
          ],
          [
           "1.27%",
           "0.12%",
           "43.07%",
           "53.96%",
           "0.13%",
           "1.46%",
           "happy"
          ],
          [
           "29.13%",
           "0.00%",
           "0.03%",
           "70.72%",
           "0.01%",
           "0.10%",
           "angry"
          ]
         ],
         "hovertemplate": "Predictions=neutral<br>Correct=False<br>x=%{x}<br>y=%{y}<br>angry=%{customdata[0]}<br>disgusted=%{customdata[1]}<br>happy=%{customdata[2]}<br>neutral=%{customdata[3]}<br>sad=%{customdata[4]}<br>surprised=%{customdata[5]}<br>Label=%{customdata[6]}<extra></extra>",
         "legendgroup": "neutral, False",
         "marker": {
          "color": "#AB63FA",
          "symbol": "x"
         },
         "mode": "markers",
         "name": "neutral, False",
         "orientation": "v",
         "showlegend": true,
         "type": "scatter",
         "x": [
          -1.4093482494354248,
          -0.12031717598438263,
          0.06839735060930252,
          -2.6917290687561035,
          -2.385283946990967,
          -1.456547737121582,
          -0.13754281401634216,
          1.9591268301010132,
          1.885482907295227,
          -0.34248173236846924,
          -0.3576454520225525,
          -0.02019672282040119
         ],
         "xaxis": "x",
         "y": [
          8.853781700134277,
          11.504993438720703,
          10.507247924804688,
          9.96014404296875,
          9.4009370803833,
          10.16697883605957,
          9.762039184570312,
          11.27137279510498,
          11.014676094055176,
          10.479802131652832,
          9.015963554382324,
          11.480681419372559
         ],
         "yaxis": "y"
        },
        {
         "customdata": [
          [
           "0.03%",
           "99.64%",
           "0.03%",
           "0.00%",
           "0.30%",
           "0.00%",
           "disgusted"
          ],
          [
           "0.05%",
           "98.24%",
           "0.55%",
           "0.00%",
           "1.15%",
           "0.01%",
           "disgusted"
          ],
          [
           "0.01%",
           "99.82%",
           "0.15%",
           "0.00%",
           "0.01%",
           "0.00%",
           "disgusted"
          ],
          [
           "0.02%",
           "99.96%",
           "0.01%",
           "0.00%",
           "0.02%",
           "0.00%",
           "disgusted"
          ],
          [
           "0.00%",
           "99.99%",
           "0.00%",
           "0.00%",
           "0.00%",
           "0.00%",
           "disgusted"
          ],
          [
           "0.06%",
           "96.05%",
           "2.87%",
           "0.02%",
           "0.99%",
           "0.02%",
           "disgusted"
          ],
          [
           "0.01%",
           "68.12%",
           "4.10%",
           "0.00%",
           "27.75%",
           "0.01%",
           "disgusted"
          ],
          [
           "0.01%",
           "99.23%",
           "0.69%",
           "0.00%",
           "0.06%",
           "0.01%",
           "disgusted"
          ],
          [
           "0.04%",
           "99.52%",
           "0.13%",
           "0.02%",
           "0.03%",
           "0.26%",
           "disgusted"
          ],
          [
           "1.00%",
           "90.86%",
           "0.54%",
           "0.36%",
           "1.69%",
           "5.55%",
           "disgusted"
          ],
          [
           "0.10%",
           "99.66%",
           "0.07%",
           "0.02%",
           "0.06%",
           "0.09%",
           "disgusted"
          ],
          [
           "0.00%",
           "99.89%",
           "0.01%",
           "0.00%",
           "0.09%",
           "0.00%",
           "disgusted"
          ],
          [
           "0.00%",
           "100.00%",
           "0.00%",
           "0.00%",
           "0.00%",
           "0.00%",
           "disgusted"
          ],
          [
           "0.05%",
           "99.49%",
           "0.39%",
           "0.00%",
           "0.07%",
           "0.00%",
           "disgusted"
          ],
          [
           "0.13%",
           "98.95%",
           "0.40%",
           "0.00%",
           "0.51%",
           "0.00%",
           "disgusted"
          ],
          [
           "0.00%",
           "100.00%",
           "0.00%",
           "0.00%",
           "0.00%",
           "0.00%",
           "disgusted"
          ],
          [
           "0.00%",
           "99.99%",
           "0.00%",
           "0.00%",
           "0.00%",
           "0.00%",
           "disgusted"
          ],
          [
           "0.00%",
           "100.00%",
           "0.00%",
           "0.00%",
           "0.00%",
           "0.00%",
           "disgusted"
          ],
          [
           "0.31%",
           "74.45%",
           "0.26%",
           "0.02%",
           "24.95%",
           "0.01%",
           "disgusted"
          ],
          [
           "0.05%",
           "99.88%",
           "0.04%",
           "0.00%",
           "0.02%",
           "0.00%",
           "disgusted"
          ],
          [
           "0.00%",
           "100.00%",
           "0.00%",
           "0.00%",
           "0.00%",
           "0.00%",
           "disgusted"
          ],
          [
           "0.22%",
           "91.34%",
           "0.97%",
           "6.38%",
           "0.00%",
           "1.08%",
           "disgusted"
          ],
          [
           "0.00%",
           "100.00%",
           "0.00%",
           "0.00%",
           "0.00%",
           "0.00%",
           "disgusted"
          ],
          [
           "0.44%",
           "56.68%",
           "0.19%",
           "0.00%",
           "42.59%",
           "0.09%",
           "disgusted"
          ],
          [
           "0.00%",
           "100.00%",
           "0.00%",
           "0.00%",
           "0.00%",
           "0.00%",
           "disgusted"
          ],
          [
           "0.00%",
           "100.00%",
           "0.00%",
           "0.00%",
           "0.00%",
           "0.00%",
           "disgusted"
          ],
          [
           "0.07%",
           "96.93%",
           "0.77%",
           "0.18%",
           "0.58%",
           "1.47%",
           "disgusted"
          ],
          [
           "0.00%",
           "100.00%",
           "0.00%",
           "0.00%",
           "0.00%",
           "0.00%",
           "disgusted"
          ],
          [
           "0.00%",
           "99.99%",
           "0.00%",
           "0.00%",
           "0.00%",
           "0.00%",
           "disgusted"
          ],
          [
           "0.00%",
           "99.99%",
           "0.00%",
           "0.00%",
           "0.01%",
           "0.00%",
           "disgusted"
          ],
          [
           "1.74%",
           "89.57%",
           "0.06%",
           "0.03%",
           "8.58%",
           "0.01%",
           "disgusted"
          ],
          [
           "0.00%",
           "99.74%",
           "0.26%",
           "0.00%",
           "0.00%",
           "0.00%",
           "disgusted"
          ],
          [
           "0.04%",
           "95.99%",
           "3.71%",
           "0.04%",
           "0.17%",
           "0.05%",
           "disgusted"
          ],
          [
           "0.00%",
           "99.99%",
           "0.01%",
           "0.00%",
           "0.01%",
           "0.00%",
           "disgusted"
          ],
          [
           "0.02%",
           "99.84%",
           "0.12%",
           "0.00%",
           "0.02%",
           "0.00%",
           "disgusted"
          ],
          [
           "0.02%",
           "98.86%",
           "1.06%",
           "0.01%",
           "0.04%",
           "0.01%",
           "disgusted"
          ],
          [
           "0.00%",
           "100.00%",
           "0.00%",
           "0.00%",
           "0.00%",
           "0.00%",
           "disgusted"
          ],
          [
           "0.01%",
           "99.96%",
           "0.02%",
           "0.00%",
           "0.01%",
           "0.00%",
           "disgusted"
          ],
          [
           "0.01%",
           "99.92%",
           "0.06%",
           "0.00%",
           "0.01%",
           "0.00%",
           "disgusted"
          ],
          [
           "0.53%",
           "70.43%",
           "1.90%",
           "0.05%",
           "26.98%",
           "0.11%",
           "disgusted"
          ],
          [
           "0.04%",
           "99.86%",
           "0.04%",
           "0.01%",
           "0.01%",
           "0.04%",
           "disgusted"
          ]
         ],
         "hovertemplate": "Predictions=disgusted<br>Correct=True<br>x=%{x}<br>y=%{y}<br>angry=%{customdata[0]}<br>disgusted=%{customdata[1]}<br>happy=%{customdata[2]}<br>neutral=%{customdata[3]}<br>sad=%{customdata[4]}<br>surprised=%{customdata[5]}<br>Label=%{customdata[6]}<extra></extra>",
         "legendgroup": "disgusted, True",
         "marker": {
          "color": "#EF553B",
          "symbol": "circle"
         },
         "mode": "markers",
         "name": "disgusted, True",
         "orientation": "v",
         "showlegend": true,
         "type": "scatter",
         "x": [
          11.47801685333252,
          12.095633506774902,
          11.975364685058594,
          12.144814491271973,
          11.132621765136719,
          12.070059776306152,
          10.010466575622559,
          12.140974044799805,
          11.592659950256348,
          11.304558753967285,
          11.56145191192627,
          11.26255989074707,
          11.569522857666016,
          11.980856895446777,
          11.917304039001465,
          11.17161750793457,
          12.129950523376465,
          11.569522857666016,
          10.123857498168945,
          11.20717716217041,
          11.892075538635254,
          11.478633880615234,
          11.889945030212402,
          9.784537315368652,
          11.170844078063965,
          11.341126441955566,
          12.035419464111328,
          11.343094825744629,
          11.938822746276855,
          12.134535789489746,
          10.96654987335205,
          12.08659553527832,
          12.122564315795898,
          11.126412391662598,
          12.130373001098633,
          12.203577995300293,
          11.569522857666016,
          12.149190902709961,
          11.257590293884277,
          10.051519393920898,
          11.234071731567383
         ],
         "xaxis": "x",
         "y": [
          -20.419696807861328,
          -19.68575668334961,
          -20.713533401489258,
          -21.012325286865234,
          -20.97797203063965,
          -18.910552978515625,
          -16.94600486755371,
          -20.26119041442871,
          -20.377546310424805,
          -18.571266174316406,
          -20.459362030029297,
          -20.652090072631836,
          -21.36349868774414,
          -20.436655044555664,
          -20.05206298828125,
          -21.083906173706055,
          -21.133222579956055,
          -21.36349868774414,
          -17.07737159729004,
          -20.597332000732422,
          -21.347211837768555,
          -18.58810043334961,
          -21.348724365234375,
          -16.52444839477539,
          -21.084043502807617,
          -21.29669952392578,
          -19.17291259765625,
          -21.29875946044922,
          -21.30906867980957,
          -21.116357803344727,
          -18.436786651611328,
          -20.661033630371094,
          -18.887924194335938,
          -20.893598556518555,
          -20.786176681518555,
          -20.021953582763672,
          -21.36349868774414,
          -21.008512496948242,
          -20.676801681518555,
          -16.989437103271484,
          -20.581811904907227
         ],
         "yaxis": "y"
        },
        {
         "customdata": [
          [
           "1.10%",
           "66.60%",
           "0.94%",
           "0.01%",
           "31.33%",
           "0.03%",
           "angry"
          ],
          [
           "0.47%",
           "55.36%",
           "17.99%",
           "9.32%",
           "0.59%",
           "16.27%",
           "neutral"
          ],
          [
           "1.46%",
           "53.08%",
           "11.87%",
           "0.03%",
           "33.53%",
           "0.03%",
           "angry"
          ],
          [
           "1.05%",
           "75.62%",
           "1.74%",
           "0.17%",
           "20.99%",
           "0.43%",
           "happy"
          ],
          [
           "0.14%",
           "50.09%",
           "48.86%",
           "0.13%",
           "0.12%",
           "0.66%",
           "happy"
          ],
          [
           "4.01%",
           "88.49%",
           "3.67%",
           "0.22%",
           "3.58%",
           "0.03%",
           "angry"
          ],
          [
           "9.01%",
           "77.94%",
           "2.34%",
           "0.67%",
           "9.54%",
           "0.50%",
           "angry"
          ],
          [
           "5.71%",
           "65.50%",
           "15.11%",
           "6.21%",
           "1.10%",
           "6.37%",
           "happy"
          ]
         ],
         "hovertemplate": "Predictions=disgusted<br>Correct=False<br>x=%{x}<br>y=%{y}<br>angry=%{customdata[0]}<br>disgusted=%{customdata[1]}<br>happy=%{customdata[2]}<br>neutral=%{customdata[3]}<br>sad=%{customdata[4]}<br>surprised=%{customdata[5]}<br>Label=%{customdata[6]}<extra></extra>",
         "legendgroup": "disgusted, False",
         "marker": {
          "color": "#EF553B",
          "symbol": "x"
         },
         "mode": "markers",
         "name": "disgusted, False",
         "orientation": "v",
         "showlegend": true,
         "type": "scatter",
         "x": [
          9.985501289367676,
          9.424798965454102,
          9.762191772460938,
          10.16865348815918,
          12.065624237060547,
          11.044734001159668,
          10.410449028015137,
          9.608105659484863
         ],
         "xaxis": "x",
         "y": [
          -16.861940383911133,
          -17.911943435668945,
          -16.592763900756836,
          -17.206876754760742,
          0.2944340407848358,
          -18.458677291870117,
          -17.820375442504883,
          -17.95231056213379
         ],
         "yaxis": "y"
        },
        {
         "customdata": [
          [
           "0.76%",
           "0.03%",
           "0.00%",
           "0.00%",
           "99.08%",
           "0.12%",
           "sad"
          ],
          [
           "0.00%",
           "0.33%",
           "5.62%",
           "0.00%",
           "94.03%",
           "0.00%",
           "sad"
          ],
          [
           "0.64%",
           "0.59%",
           "0.01%",
           "0.00%",
           "98.76%",
           "0.00%",
           "sad"
          ],
          [
           "25.98%",
           "5.67%",
           "0.11%",
           "0.06%",
           "68.15%",
           "0.03%",
           "sad"
          ],
          [
           "0.01%",
           "0.00%",
           "0.00%",
           "0.00%",
           "99.99%",
           "0.00%",
           "sad"
          ],
          [
           "9.97%",
           "36.72%",
           "1.82%",
           "0.05%",
           "51.44%",
           "0.01%",
           "sad"
          ],
          [
           "0.90%",
           "0.48%",
           "0.11%",
           "0.15%",
           "90.18%",
           "8.18%",
           "sad"
          ],
          [
           "7.35%",
           "1.77%",
           "0.04%",
           "0.01%",
           "90.81%",
           "0.01%",
           "sad"
          ],
          [
           "1.46%",
           "1.46%",
           "0.16%",
           "0.00%",
           "96.91%",
           "0.00%",
           "sad"
          ],
          [
           "0.02%",
           "0.00%",
           "0.00%",
           "0.00%",
           "99.98%",
           "0.00%",
           "sad"
          ],
          [
           "20.03%",
           "0.55%",
           "0.04%",
           "0.22%",
           "79.07%",
           "0.08%",
           "sad"
          ],
          [
           "0.08%",
           "0.04%",
           "0.00%",
           "0.00%",
           "99.87%",
           "0.00%",
           "sad"
          ],
          [
           "1.13%",
           "0.08%",
           "0.00%",
           "0.00%",
           "98.75%",
           "0.04%",
           "sad"
          ],
          [
           "12.91%",
           "0.41%",
           "0.01%",
           "0.00%",
           "86.67%",
           "0.00%",
           "sad"
          ],
          [
           "0.06%",
           "0.01%",
           "0.00%",
           "0.00%",
           "99.21%",
           "0.72%",
           "sad"
          ],
          [
           "1.27%",
           "2.02%",
           "0.20%",
           "0.01%",
           "96.50%",
           "0.00%",
           "sad"
          ],
          [
           "0.04%",
           "0.01%",
           "0.00%",
           "0.00%",
           "99.95%",
           "0.00%",
           "sad"
          ],
          [
           "3.97%",
           "7.92%",
           "0.61%",
           "0.02%",
           "87.47%",
           "0.02%",
           "sad"
          ],
          [
           "20.33%",
           "23.50%",
           "7.07%",
           "0.90%",
           "47.58%",
           "0.63%",
           "sad"
          ],
          [
           "17.14%",
           "1.67%",
           "0.02%",
           "0.65%",
           "41.68%",
           "38.85%",
           "sad"
          ],
          [
           "0.02%",
           "0.00%",
           "0.00%",
           "0.00%",
           "99.98%",
           "0.00%",
           "sad"
          ],
          [
           "4.60%",
           "36.58%",
           "0.84%",
           "0.01%",
           "57.97%",
           "0.00%",
           "sad"
          ],
          [
           "8.76%",
           "0.66%",
           "0.02%",
           "0.12%",
           "89.67%",
           "0.78%",
           "sad"
          ],
          [
           "0.00%",
           "0.00%",
           "0.00%",
           "0.00%",
           "100.00%",
           "0.00%",
           "sad"
          ],
          [
           "2.65%",
           "5.45%",
           "0.01%",
           "0.01%",
           "91.80%",
           "0.07%",
           "sad"
          ],
          [
           "5.70%",
           "24.69%",
           "0.06%",
           "0.08%",
           "68.65%",
           "0.81%",
           "sad"
          ],
          [
           "0.01%",
           "0.00%",
           "0.00%",
           "0.00%",
           "99.83%",
           "0.15%",
           "sad"
          ],
          [
           "0.02%",
           "0.00%",
           "0.00%",
           "0.00%",
           "99.98%",
           "0.00%",
           "sad"
          ],
          [
           "13.13%",
           "0.58%",
           "0.02%",
           "0.22%",
           "85.81%",
           "0.24%",
           "sad"
          ],
          [
           "3.19%",
           "0.18%",
           "0.01%",
           "0.02%",
           "96.59%",
           "0.02%",
           "sad"
          ],
          [
           "0.69%",
           "5.70%",
           "0.49%",
           "0.06%",
           "83.64%",
           "9.41%",
           "sad"
          ],
          [
           "0.03%",
           "0.00%",
           "0.00%",
           "0.00%",
           "99.97%",
           "0.00%",
           "sad"
          ],
          [
           "11.57%",
           "7.01%",
           "0.15%",
           "0.02%",
           "81.24%",
           "0.01%",
           "sad"
          ],
          [
           "0.87%",
           "1.26%",
           "0.06%",
           "0.00%",
           "97.81%",
           "0.00%",
           "sad"
          ],
          [
           "0.13%",
           "0.08%",
           "0.00%",
           "0.00%",
           "99.79%",
           "0.00%",
           "sad"
          ],
          [
           "0.01%",
           "0.02%",
           "0.00%",
           "0.00%",
           "99.97%",
           "0.00%",
           "sad"
          ],
          [
           "0.06%",
           "0.04%",
           "0.00%",
           "0.00%",
           "99.89%",
           "0.00%",
           "sad"
          ],
          [
           "0.06%",
           "0.00%",
           "0.00%",
           "0.00%",
           "99.94%",
           "0.00%",
           "sad"
          ],
          [
           "2.82%",
           "3.76%",
           "0.10%",
           "0.01%",
           "93.30%",
           "0.01%",
           "sad"
          ],
          [
           "0.06%",
           "0.07%",
           "0.00%",
           "0.00%",
           "99.86%",
           "0.01%",
           "sad"
          ],
          [
           "28.32%",
           "4.48%",
           "0.07%",
           "0.03%",
           "67.09%",
           "0.01%",
           "sad"
          ],
          [
           "34.09%",
           "8.49%",
           "0.16%",
           "0.07%",
           "57.15%",
           "0.03%",
           "sad"
          ]
         ],
         "hovertemplate": "Predictions=sad<br>Correct=True<br>x=%{x}<br>y=%{y}<br>angry=%{customdata[0]}<br>disgusted=%{customdata[1]}<br>happy=%{customdata[2]}<br>neutral=%{customdata[3]}<br>sad=%{customdata[4]}<br>surprised=%{customdata[5]}<br>Label=%{customdata[6]}<extra></extra>",
         "legendgroup": "sad, True",
         "marker": {
          "color": "#FFA15A",
          "symbol": "circle"
         },
         "mode": "markers",
         "name": "sad, True",
         "orientation": "v",
         "showlegend": true,
         "type": "scatter",
         "x": [
          -5.19320011138916,
          -4.462934970855713,
          -4.695857048034668,
          -6.82574462890625,
          -4.434616565704346,
          -4.992354869842529,
          -4.8641862869262695,
          -5.62800931930542,
          -4.970212459564209,
          -4.700576305389404,
          -6.540655612945557,
          -5.168145656585693,
          -5.181632995605469,
          -6.153041839599609,
          -4.476043701171875,
          -4.948390007019043,
          -5.099903106689453,
          -5.257646083831787,
          -5.941258907318115,
          -7.281036853790283,
          -4.421820640563965,
          -4.862429618835449,
          -5.791025638580322,
          -4.705738067626953,
          -5.163476467132568,
          -4.919985294342041,
          -4.411543846130371,
          -4.69468355178833,
          -6.177145957946777,
          -5.183093547821045,
          -5.277778148651123,
          -4.733903884887695,
          -5.9647440910339355,
          -4.8329548835754395,
          -5.1953349113464355,
          -4.416279315948486,
          -5.160292625427246,
          -5.120559215545654,
          -5.155204772949219,
          -4.413608074188232,
          -6.892602920532227,
          -7.001095771789551
         ],
         "xaxis": "x",
         "y": [
          -9.608903884887695,
          -8.88924503326416,
          -9.414649963378906,
          -4.284445285797119,
          -9.807857513427734,
          -4.299260139465332,
          -7.981812953948975,
          -8.151433944702148,
          -9.17830753326416,
          -10.051721572875977,
          -7.010777473449707,
          -9.906182289123535,
          -9.534311294555664,
          -7.6190266609191895,
          -9.479987144470215,
          -9.115839004516602,
          -9.986674308776855,
          -7.565732479095459,
          -3.6945464611053467,
          -5.048790454864502,
          -9.77198314666748,
          -4.573708534240723,
          -7.973285675048828,
          -10.06006145477295,
          -8.403024673461914,
          -5.105356216430664,
          -9.658312797546387,
          -10.049402236938477,
          -7.5494256019592285,
          -9.169804573059082,
          -6.909337043762207,
          -10.059828758239746,
          -7.07544469833374,
          -9.28775405883789,
          -9.8556547164917,
          -9.753016471862793,
          -9.918712615966797,
          -9.967730522155762,
          -8.64993953704834,
          -9.659926414489746,
          -4.180767059326172,
          -3.640180826187134
         ],
         "yaxis": "y"
        },
        {
         "customdata": [
          [
           "2.82%",
           "0.06%",
           "0.02%",
           "0.08%",
           "90.71%",
           "6.31%",
           "angry"
          ],
          [
           "2.73%",
           "0.00%",
           "0.00%",
           "0.03%",
           "73.96%",
           "23.28%",
           "surprised"
          ],
          [
           "42.15%",
           "7.34%",
           "0.13%",
           "0.07%",
           "50.26%",
           "0.05%",
           "angry"
          ],
          [
           "2.14%",
           "23.13%",
           "0.20%",
           "0.10%",
           "73.44%",
           "0.99%",
           "surprised"
          ],
          [
           "4.09%",
           "0.06%",
           "0.85%",
           "3.22%",
           "73.35%",
           "18.42%",
           "angry"
          ],
          [
           "1.40%",
           "1.44%",
           "0.29%",
           "0.15%",
           "57.32%",
           "39.41%",
           "angry"
          ],
          [
           "17.69%",
           "20.24%",
           "23.34%",
           "7.13%",
           "29.65%",
           "1.94%",
           "happy"
          ],
          [
           "5.70%",
           "23.63%",
           "0.60%",
           "0.99%",
           "67.39%",
           "1.69%",
           "disgusted"
          ],
          [
           "6.83%",
           "13.31%",
           "16.10%",
           "0.97%",
           "59.42%",
           "3.37%",
           "neutral"
          ],
          [
           "32.09%",
           "27.70%",
           "1.18%",
           "0.35%",
           "38.51%",
           "0.17%",
           "disgusted"
          ],
          [
           "0.98%",
           "13.03%",
           "30.78%",
           "0.49%",
           "45.96%",
           "8.77%",
           "surprised"
          ],
          [
           "12.12%",
           "2.78%",
           "0.26%",
           "0.04%",
           "84.77%",
           "0.02%",
           "disgusted"
          ],
          [
           "11.52%",
           "2.82%",
           "6.51%",
           "4.37%",
           "58.38%",
           "16.39%",
           "neutral"
          ],
          [
           "11.42%",
           "0.53%",
           "0.51%",
           "0.55%",
           "65.16%",
           "21.83%",
           "surprised"
          ],
          [
           "1.09%",
           "16.16%",
           "0.03%",
           "0.00%",
           "82.72%",
           "0.00%",
           "disgusted"
          ],
          [
           "1.21%",
           "0.99%",
           "1.55%",
           "0.20%",
           "81.42%",
           "14.63%",
           "happy"
          ],
          [
           "13.30%",
           "0.36%",
           "0.03%",
           "0.34%",
           "83.74%",
           "2.23%",
           "disgusted"
          ],
          [
           "11.08%",
           "0.08%",
           "0.00%",
           "0.05%",
           "88.72%",
           "0.07%",
           "neutral"
          ],
          [
           "10.84%",
           "10.17%",
           "11.43%",
           "1.84%",
           "55.63%",
           "10.09%",
           "angry"
          ],
          [
           "1.60%",
           "18.00%",
           "0.00%",
           "0.00%",
           "80.40%",
           "0.00%",
           "disgusted"
          ]
         ],
         "hovertemplate": "Predictions=sad<br>Correct=False<br>x=%{x}<br>y=%{y}<br>angry=%{customdata[0]}<br>disgusted=%{customdata[1]}<br>happy=%{customdata[2]}<br>neutral=%{customdata[3]}<br>sad=%{customdata[4]}<br>surprised=%{customdata[5]}<br>Label=%{customdata[6]}<extra></extra>",
         "legendgroup": "sad, False",
         "marker": {
          "color": "#FFA15A",
          "symbol": "x"
         },
         "mode": "markers",
         "name": "sad, False",
         "orientation": "v",
         "showlegend": true,
         "type": "scatter",
         "x": [
          -4.983188152313232,
          -6.389174938201904,
          -7.294350624084473,
          -4.826746940612793,
          -6.314799785614014,
          -7.018722057342529,
          -5.521056175231934,
          -4.970644474029541,
          -5.633395671844482,
          -6.570581912994385,
          -5.229619026184082,
          -6.089863300323486,
          -6.3409833908081055,
          -6.5154337882995605,
          -4.790462017059326,
          -5.856564044952393,
          -6.209341049194336,
          -6.013579368591309,
          -5.918356895446777,
          -4.784104347229004
         ],
         "xaxis": "x",
         "y": [
          -8.09536075592041,
          -5.870697498321533,
          -3.1878910064697266,
          -5.415605068206787,
          -5.887524127960205,
          -5.377538681030273,
          -3.0113818645477295,
          -5.055779933929443,
          -4.354679107666016,
          -3.118393659591675,
          -3.366929054260254,
          -7.451095104217529,
          -4.940340042114258,
          -5.428650379180908,
          -6.248659133911133,
          -6.425116062164307,
          -7.379321575164795,
          -7.831434726715088,
          -4.410140514373779,
          -6.013321399688721
         ],
         "yaxis": "y"
        },
        {
         "customdata": [
          [
           "99.43%",
           "0.00%",
           "0.00%",
           "0.02%",
           "0.54%",
           "0.00%",
           "angry"
          ],
          [
           "93.36%",
           "0.50%",
           "0.01%",
           "0.23%",
           "5.34%",
           "0.56%",
           "angry"
          ],
          [
           "99.98%",
           "0.00%",
           "0.00%",
           "0.02%",
           "0.00%",
           "0.00%",
           "angry"
          ],
          [
           "98.64%",
           "0.16%",
           "0.00%",
           "0.43%",
           "0.62%",
           "0.15%",
           "angry"
          ],
          [
           "92.60%",
           "0.01%",
           "0.00%",
           "2.17%",
           "0.06%",
           "5.17%",
           "angry"
          ],
          [
           "99.13%",
           "0.06%",
           "0.00%",
           "0.62%",
           "0.04%",
           "0.14%",
           "angry"
          ],
          [
           "88.49%",
           "0.02%",
           "0.00%",
           "8.00%",
           "1.19%",
           "2.30%",
           "angry"
          ],
          [
           "84.07%",
           "5.10%",
           "0.76%",
           "5.29%",
           "3.47%",
           "1.31%",
           "angry"
          ],
          [
           "99.99%",
           "0.00%",
           "0.00%",
           "0.01%",
           "0.00%",
           "0.00%",
           "angry"
          ],
          [
           "56.43%",
           "19.91%",
           "1.00%",
           "0.79%",
           "21.64%",
           "0.23%",
           "angry"
          ],
          [
           "70.36%",
           "0.02%",
           "0.00%",
           "0.41%",
           "12.11%",
           "17.11%",
           "angry"
          ],
          [
           "98.77%",
           "0.56%",
           "0.03%",
           "0.31%",
           "0.29%",
           "0.04%",
           "angry"
          ],
          [
           "90.92%",
           "0.03%",
           "0.00%",
           "7.80%",
           "0.63%",
           "0.61%",
           "angry"
          ],
          [
           "99.13%",
           "0.01%",
           "0.00%",
           "0.71%",
           "0.10%",
           "0.04%",
           "angry"
          ],
          [
           "71.19%",
           "1.99%",
           "0.16%",
           "1.56%",
           "24.10%",
           "1.01%",
           "angry"
          ],
          [
           "76.17%",
           "9.52%",
           "1.97%",
           "2.52%",
           "9.08%",
           "0.73%",
           "angry"
          ],
          [
           "99.88%",
           "0.00%",
           "0.00%",
           "0.07%",
           "0.02%",
           "0.03%",
           "angry"
          ],
          [
           "98.84%",
           "0.01%",
           "0.00%",
           "1.07%",
           "0.05%",
           "0.04%",
           "angry"
          ],
          [
           "99.98%",
           "0.00%",
           "0.00%",
           "0.00%",
           "0.01%",
           "0.00%",
           "angry"
          ],
          [
           "76.86%",
           "0.15%",
           "0.07%",
           "14.17%",
           "4.30%",
           "4.46%",
           "angry"
          ],
          [
           "92.30%",
           "0.00%",
           "0.00%",
           "7.65%",
           "0.02%",
           "0.03%",
           "angry"
          ],
          [
           "98.22%",
           "0.04%",
           "0.00%",
           "1.13%",
           "0.57%",
           "0.03%",
           "angry"
          ],
          [
           "99.87%",
           "0.00%",
           "0.00%",
           "0.11%",
           "0.01%",
           "0.00%",
           "angry"
          ],
          [
           "99.98%",
           "0.00%",
           "0.00%",
           "0.01%",
           "0.00%",
           "0.00%",
           "angry"
          ],
          [
           "39.70%",
           "0.48%",
           "0.16%",
           "23.06%",
           "2.02%",
           "34.57%",
           "angry"
          ],
          [
           "78.08%",
           "9.71%",
           "0.33%",
           "4.16%",
           "4.78%",
           "2.93%",
           "angry"
          ],
          [
           "92.79%",
           "0.04%",
           "0.00%",
           "5.01%",
           "0.10%",
           "2.06%",
           "angry"
          ],
          [
           "89.87%",
           "0.01%",
           "0.02%",
           "10.01%",
           "0.06%",
           "0.04%",
           "angry"
          ],
          [
           "97.71%",
           "0.02%",
           "0.00%",
           "1.69%",
           "0.04%",
           "0.54%",
           "angry"
          ]
         ],
         "hovertemplate": "Predictions=angry<br>Correct=True<br>x=%{x}<br>y=%{y}<br>angry=%{customdata[0]}<br>disgusted=%{customdata[1]}<br>happy=%{customdata[2]}<br>neutral=%{customdata[3]}<br>sad=%{customdata[4]}<br>surprised=%{customdata[5]}<br>Label=%{customdata[6]}<extra></extra>",
         "legendgroup": "angry, True",
         "marker": {
          "color": "#636EFA",
          "symbol": "circle"
         },
         "mode": "markers",
         "name": "angry, True",
         "orientation": "v",
         "showlegend": true,
         "type": "scatter",
         "x": [
          -12.910361289978027,
          -12.398392677307129,
          -13.027711868286133,
          -12.794645309448242,
          -12.360753059387207,
          -12.805376052856445,
          -11.988890647888184,
          -11.736889839172363,
          -13.069358825683594,
          -9.641969680786133,
          -10.681745529174805,
          -12.818726539611816,
          -12.143173217773438,
          -12.801835060119629,
          -10.517393112182617,
          -11.193742752075195,
          -13.033045768737793,
          -12.760497093200684,
          -13.06791877746582,
          -11.233430862426758,
          -12.234550476074219,
          -12.738166809082031,
          -12.997232437133789,
          -13.029775619506836,
          -3.5497400760650635,
          -11.342994689941406,
          -12.305975914001465,
          -12.055000305175781,
          -12.641789436340332
         ],
         "xaxis": "x",
         "y": [
          -0.47070959210395813,
          -0.5693034529685974,
          0.08359716087579727,
          -0.5000532269477844,
          -0.41037267446517944,
          0.2708386778831482,
          -0.03185110539197922,
          -0.3822997510433197,
          -0.24335764348506927,
          -1.150428295135498,
          -0.5376168489456177,
          -0.49409472942352295,
          0.0758787989616394,
          0.27233409881591797,
          -0.9886599183082581,
          -0.6355651617050171,
          -0.3210754990577698,
          0.2769519090652466,
          -0.24378086626529694,
          -0.06824082881212234,
          0.1872217357158661,
          -0.48239246010780334,
          0.11674538999795914,
          0.079770028591156,
          7.825379371643066,
          -0.49546170234680176,
          -0.06762900948524475,
          0.19197340309619904,
          0.2559794783592224
         ],
         "yaxis": "y"
        },
        {
         "customdata": [
          [
           "52.54%",
           "1.08%",
           "0.05%",
           "0.29%",
           "45.79%",
           "0.23%",
           "sad"
          ],
          [
           "61.23%",
           "0.33%",
           "0.08%",
           "19.93%",
           "0.56%",
           "17.87%",
           "neutral"
          ],
          [
           "62.67%",
           "0.00%",
           "0.00%",
           "0.03%",
           "36.32%",
           "0.98%",
           "surprised"
          ],
          [
           "81.38%",
           "0.19%",
           "0.03%",
           "10.85%",
           "0.33%",
           "7.22%",
           "sad"
          ],
          [
           "85.00%",
           "0.08%",
           "0.06%",
           "14.09%",
           "0.52%",
           "0.25%",
           "neutral"
          ],
          [
           "30.03%",
           "5.76%",
           "19.37%",
           "20.87%",
           "11.77%",
           "12.20%",
           "happy"
          ],
          [
           "81.52%",
           "3.86%",
           "0.31%",
           "0.41%",
           "13.74%",
           "0.15%",
           "sad"
          ],
          [
           "45.82%",
           "17.81%",
           "3.72%",
           "15.40%",
           "11.37%",
           "5.87%",
           "disgusted"
          ],
          [
           "88.40%",
           "2.93%",
           "0.61%",
           "3.60%",
           "3.94%",
           "0.51%",
           "disgusted"
          ],
          [
           "72.21%",
           "8.32%",
           "0.87%",
           "6.03%",
           "10.19%",
           "2.38%",
           "sad"
          ],
          [
           "40.75%",
           "7.21%",
           "8.87%",
           "2.60%",
           "39.68%",
           "0.90%",
           "happy"
          ]
         ],
         "hovertemplate": "Predictions=angry<br>Correct=False<br>x=%{x}<br>y=%{y}<br>angry=%{customdata[0]}<br>disgusted=%{customdata[1]}<br>happy=%{customdata[2]}<br>neutral=%{customdata[3]}<br>sad=%{customdata[4]}<br>surprised=%{customdata[5]}<br>Label=%{customdata[6]}<extra></extra>",
         "legendgroup": "angry, False",
         "marker": {
          "color": "#636EFA",
          "symbol": "x"
         },
         "mode": "markers",
         "name": "angry, False",
         "orientation": "v",
         "showlegend": true,
         "type": "scatter",
         "x": [
          -7.802242279052734,
          -10.346671104431152,
          -9.375767707824707,
          -11.50350570678711,
          -11.718343734741211,
          -3.3374998569488525,
          -11.443477630615234,
          -9.434165000915527,
          -12.0513277053833,
          -10.947524070739746,
          -7.341686248779297
         ],
         "xaxis": "x",
         "y": [
          -2.7433366775512695,
          0.019595719873905182,
          -1.6648205518722534,
          0.03308049589395523,
          0.19395431876182556,
          7.49958610534668,
          -0.7344153523445129,
          -0.7870309352874756,
          -0.4257439374923706,
          -0.6015839576721191,
          -2.9229302406311035
         ],
         "yaxis": "y"
        }
       ],
       "layout": {
        "legend": {
         "tracegroupgap": 0
        },
        "margin": {
         "t": 60
        },
        "template": {
         "data": {
          "bar": [
           {
            "error_x": {
             "color": "#2a3f5f"
            },
            "error_y": {
             "color": "#2a3f5f"
            },
            "marker": {
             "line": {
              "color": "#E5ECF6",
              "width": 0.5
             },
             "pattern": {
              "fillmode": "overlay",
              "size": 10,
              "solidity": 0.2
             }
            },
            "type": "bar"
           }
          ],
          "barpolar": [
           {
            "marker": {
             "line": {
              "color": "#E5ECF6",
              "width": 0.5
             },
             "pattern": {
              "fillmode": "overlay",
              "size": 10,
              "solidity": 0.2
             }
            },
            "type": "barpolar"
           }
          ],
          "carpet": [
           {
            "aaxis": {
             "endlinecolor": "#2a3f5f",
             "gridcolor": "white",
             "linecolor": "white",
             "minorgridcolor": "white",
             "startlinecolor": "#2a3f5f"
            },
            "baxis": {
             "endlinecolor": "#2a3f5f",
             "gridcolor": "white",
             "linecolor": "white",
             "minorgridcolor": "white",
             "startlinecolor": "#2a3f5f"
            },
            "type": "carpet"
           }
          ],
          "choropleth": [
           {
            "colorbar": {
             "outlinewidth": 0,
             "ticks": ""
            },
            "type": "choropleth"
           }
          ],
          "contour": [
           {
            "colorbar": {
             "outlinewidth": 0,
             "ticks": ""
            },
            "colorscale": [
             [
              0,
              "#0d0887"
             ],
             [
              0.1111111111111111,
              "#46039f"
             ],
             [
              0.2222222222222222,
              "#7201a8"
             ],
             [
              0.3333333333333333,
              "#9c179e"
             ],
             [
              0.4444444444444444,
              "#bd3786"
             ],
             [
              0.5555555555555556,
              "#d8576b"
             ],
             [
              0.6666666666666666,
              "#ed7953"
             ],
             [
              0.7777777777777778,
              "#fb9f3a"
             ],
             [
              0.8888888888888888,
              "#fdca26"
             ],
             [
              1,
              "#f0f921"
             ]
            ],
            "type": "contour"
           }
          ],
          "contourcarpet": [
           {
            "colorbar": {
             "outlinewidth": 0,
             "ticks": ""
            },
            "type": "contourcarpet"
           }
          ],
          "heatmap": [
           {
            "colorbar": {
             "outlinewidth": 0,
             "ticks": ""
            },
            "colorscale": [
             [
              0,
              "#0d0887"
             ],
             [
              0.1111111111111111,
              "#46039f"
             ],
             [
              0.2222222222222222,
              "#7201a8"
             ],
             [
              0.3333333333333333,
              "#9c179e"
             ],
             [
              0.4444444444444444,
              "#bd3786"
             ],
             [
              0.5555555555555556,
              "#d8576b"
             ],
             [
              0.6666666666666666,
              "#ed7953"
             ],
             [
              0.7777777777777778,
              "#fb9f3a"
             ],
             [
              0.8888888888888888,
              "#fdca26"
             ],
             [
              1,
              "#f0f921"
             ]
            ],
            "type": "heatmap"
           }
          ],
          "heatmapgl": [
           {
            "colorbar": {
             "outlinewidth": 0,
             "ticks": ""
            },
            "colorscale": [
             [
              0,
              "#0d0887"
             ],
             [
              0.1111111111111111,
              "#46039f"
             ],
             [
              0.2222222222222222,
              "#7201a8"
             ],
             [
              0.3333333333333333,
              "#9c179e"
             ],
             [
              0.4444444444444444,
              "#bd3786"
             ],
             [
              0.5555555555555556,
              "#d8576b"
             ],
             [
              0.6666666666666666,
              "#ed7953"
             ],
             [
              0.7777777777777778,
              "#fb9f3a"
             ],
             [
              0.8888888888888888,
              "#fdca26"
             ],
             [
              1,
              "#f0f921"
             ]
            ],
            "type": "heatmapgl"
           }
          ],
          "histogram": [
           {
            "marker": {
             "pattern": {
              "fillmode": "overlay",
              "size": 10,
              "solidity": 0.2
             }
            },
            "type": "histogram"
           }
          ],
          "histogram2d": [
           {
            "colorbar": {
             "outlinewidth": 0,
             "ticks": ""
            },
            "colorscale": [
             [
              0,
              "#0d0887"
             ],
             [
              0.1111111111111111,
              "#46039f"
             ],
             [
              0.2222222222222222,
              "#7201a8"
             ],
             [
              0.3333333333333333,
              "#9c179e"
             ],
             [
              0.4444444444444444,
              "#bd3786"
             ],
             [
              0.5555555555555556,
              "#d8576b"
             ],
             [
              0.6666666666666666,
              "#ed7953"
             ],
             [
              0.7777777777777778,
              "#fb9f3a"
             ],
             [
              0.8888888888888888,
              "#fdca26"
             ],
             [
              1,
              "#f0f921"
             ]
            ],
            "type": "histogram2d"
           }
          ],
          "histogram2dcontour": [
           {
            "colorbar": {
             "outlinewidth": 0,
             "ticks": ""
            },
            "colorscale": [
             [
              0,
              "#0d0887"
             ],
             [
              0.1111111111111111,
              "#46039f"
             ],
             [
              0.2222222222222222,
              "#7201a8"
             ],
             [
              0.3333333333333333,
              "#9c179e"
             ],
             [
              0.4444444444444444,
              "#bd3786"
             ],
             [
              0.5555555555555556,
              "#d8576b"
             ],
             [
              0.6666666666666666,
              "#ed7953"
             ],
             [
              0.7777777777777778,
              "#fb9f3a"
             ],
             [
              0.8888888888888888,
              "#fdca26"
             ],
             [
              1,
              "#f0f921"
             ]
            ],
            "type": "histogram2dcontour"
           }
          ],
          "mesh3d": [
           {
            "colorbar": {
             "outlinewidth": 0,
             "ticks": ""
            },
            "type": "mesh3d"
           }
          ],
          "parcoords": [
           {
            "line": {
             "colorbar": {
              "outlinewidth": 0,
              "ticks": ""
             }
            },
            "type": "parcoords"
           }
          ],
          "pie": [
           {
            "automargin": true,
            "type": "pie"
           }
          ],
          "scatter": [
           {
            "fillpattern": {
             "fillmode": "overlay",
             "size": 10,
             "solidity": 0.2
            },
            "type": "scatter"
           }
          ],
          "scatter3d": [
           {
            "line": {
             "colorbar": {
              "outlinewidth": 0,
              "ticks": ""
             }
            },
            "marker": {
             "colorbar": {
              "outlinewidth": 0,
              "ticks": ""
             }
            },
            "type": "scatter3d"
           }
          ],
          "scattercarpet": [
           {
            "marker": {
             "colorbar": {
              "outlinewidth": 0,
              "ticks": ""
             }
            },
            "type": "scattercarpet"
           }
          ],
          "scattergeo": [
           {
            "marker": {
             "colorbar": {
              "outlinewidth": 0,
              "ticks": ""
             }
            },
            "type": "scattergeo"
           }
          ],
          "scattergl": [
           {
            "marker": {
             "colorbar": {
              "outlinewidth": 0,
              "ticks": ""
             }
            },
            "type": "scattergl"
           }
          ],
          "scattermapbox": [
           {
            "marker": {
             "colorbar": {
              "outlinewidth": 0,
              "ticks": ""
             }
            },
            "type": "scattermapbox"
           }
          ],
          "scatterpolar": [
           {
            "marker": {
             "colorbar": {
              "outlinewidth": 0,
              "ticks": ""
             }
            },
            "type": "scatterpolar"
           }
          ],
          "scatterpolargl": [
           {
            "marker": {
             "colorbar": {
              "outlinewidth": 0,
              "ticks": ""
             }
            },
            "type": "scatterpolargl"
           }
          ],
          "scatterternary": [
           {
            "marker": {
             "colorbar": {
              "outlinewidth": 0,
              "ticks": ""
             }
            },
            "type": "scatterternary"
           }
          ],
          "surface": [
           {
            "colorbar": {
             "outlinewidth": 0,
             "ticks": ""
            },
            "colorscale": [
             [
              0,
              "#0d0887"
             ],
             [
              0.1111111111111111,
              "#46039f"
             ],
             [
              0.2222222222222222,
              "#7201a8"
             ],
             [
              0.3333333333333333,
              "#9c179e"
             ],
             [
              0.4444444444444444,
              "#bd3786"
             ],
             [
              0.5555555555555556,
              "#d8576b"
             ],
             [
              0.6666666666666666,
              "#ed7953"
             ],
             [
              0.7777777777777778,
              "#fb9f3a"
             ],
             [
              0.8888888888888888,
              "#fdca26"
             ],
             [
              1,
              "#f0f921"
             ]
            ],
            "type": "surface"
           }
          ],
          "table": [
           {
            "cells": {
             "fill": {
              "color": "#EBF0F8"
             },
             "line": {
              "color": "white"
             }
            },
            "header": {
             "fill": {
              "color": "#C8D4E3"
             },
             "line": {
              "color": "white"
             }
            },
            "type": "table"
           }
          ]
         },
         "layout": {
          "annotationdefaults": {
           "arrowcolor": "#2a3f5f",
           "arrowhead": 0,
           "arrowwidth": 1
          },
          "autotypenumbers": "strict",
          "coloraxis": {
           "colorbar": {
            "outlinewidth": 0,
            "ticks": ""
           }
          },
          "colorscale": {
           "diverging": [
            [
             0,
             "#8e0152"
            ],
            [
             0.1,
             "#c51b7d"
            ],
            [
             0.2,
             "#de77ae"
            ],
            [
             0.3,
             "#f1b6da"
            ],
            [
             0.4,
             "#fde0ef"
            ],
            [
             0.5,
             "#f7f7f7"
            ],
            [
             0.6,
             "#e6f5d0"
            ],
            [
             0.7,
             "#b8e186"
            ],
            [
             0.8,
             "#7fbc41"
            ],
            [
             0.9,
             "#4d9221"
            ],
            [
             1,
             "#276419"
            ]
           ],
           "sequential": [
            [
             0,
             "#0d0887"
            ],
            [
             0.1111111111111111,
             "#46039f"
            ],
            [
             0.2222222222222222,
             "#7201a8"
            ],
            [
             0.3333333333333333,
             "#9c179e"
            ],
            [
             0.4444444444444444,
             "#bd3786"
            ],
            [
             0.5555555555555556,
             "#d8576b"
            ],
            [
             0.6666666666666666,
             "#ed7953"
            ],
            [
             0.7777777777777778,
             "#fb9f3a"
            ],
            [
             0.8888888888888888,
             "#fdca26"
            ],
            [
             1,
             "#f0f921"
            ]
           ],
           "sequentialminus": [
            [
             0,
             "#0d0887"
            ],
            [
             0.1111111111111111,
             "#46039f"
            ],
            [
             0.2222222222222222,
             "#7201a8"
            ],
            [
             0.3333333333333333,
             "#9c179e"
            ],
            [
             0.4444444444444444,
             "#bd3786"
            ],
            [
             0.5555555555555556,
             "#d8576b"
            ],
            [
             0.6666666666666666,
             "#ed7953"
            ],
            [
             0.7777777777777778,
             "#fb9f3a"
            ],
            [
             0.8888888888888888,
             "#fdca26"
            ],
            [
             1,
             "#f0f921"
            ]
           ]
          },
          "colorway": [
           "#636efa",
           "#EF553B",
           "#00cc96",
           "#ab63fa",
           "#FFA15A",
           "#19d3f3",
           "#FF6692",
           "#B6E880",
           "#FF97FF",
           "#FECB52"
          ],
          "font": {
           "color": "#2a3f5f"
          },
          "geo": {
           "bgcolor": "white",
           "lakecolor": "white",
           "landcolor": "#E5ECF6",
           "showlakes": true,
           "showland": true,
           "subunitcolor": "white"
          },
          "hoverlabel": {
           "align": "left"
          },
          "hovermode": "closest",
          "mapbox": {
           "style": "light"
          },
          "paper_bgcolor": "white",
          "plot_bgcolor": "#E5ECF6",
          "polar": {
           "angularaxis": {
            "gridcolor": "white",
            "linecolor": "white",
            "ticks": ""
           },
           "bgcolor": "#E5ECF6",
           "radialaxis": {
            "gridcolor": "white",
            "linecolor": "white",
            "ticks": ""
           }
          },
          "scene": {
           "xaxis": {
            "backgroundcolor": "#E5ECF6",
            "gridcolor": "white",
            "gridwidth": 2,
            "linecolor": "white",
            "showbackground": true,
            "ticks": "",
            "zerolinecolor": "white"
           },
           "yaxis": {
            "backgroundcolor": "#E5ECF6",
            "gridcolor": "white",
            "gridwidth": 2,
            "linecolor": "white",
            "showbackground": true,
            "ticks": "",
            "zerolinecolor": "white"
           },
           "zaxis": {
            "backgroundcolor": "#E5ECF6",
            "gridcolor": "white",
            "gridwidth": 2,
            "linecolor": "white",
            "showbackground": true,
            "ticks": "",
            "zerolinecolor": "white"
           }
          },
          "shapedefaults": {
           "line": {
            "color": "#2a3f5f"
           }
          },
          "ternary": {
           "aaxis": {
            "gridcolor": "white",
            "linecolor": "white",
            "ticks": ""
           },
           "baxis": {
            "gridcolor": "white",
            "linecolor": "white",
            "ticks": ""
           },
           "bgcolor": "#E5ECF6",
           "caxis": {
            "gridcolor": "white",
            "linecolor": "white",
            "ticks": ""
           }
          },
          "title": {
           "x": 0.05
          },
          "xaxis": {
           "automargin": true,
           "gridcolor": "white",
           "linecolor": "white",
           "ticks": "",
           "title": {
            "standoff": 15
           },
           "zerolinecolor": "white",
           "zerolinewidth": 2
          },
          "yaxis": {
           "automargin": true,
           "gridcolor": "white",
           "linecolor": "white",
           "ticks": "",
           "title": {
            "standoff": 15
           },
           "zerolinecolor": "white",
           "zerolinewidth": 2
          }
         }
        },
        "xaxis": {
         "anchor": "y",
         "domain": [
          0,
          1
         ],
         "title": {
          "text": "x"
         }
        },
        "yaxis": {
         "anchor": "x",
         "domain": [
          0,
          1
         ],
         "title": {
          "text": "y"
         }
        }
       }
      },
      "text/html": [
       "<div>                            <div id=\"f8d0ce96-1a73-48aa-a585-840f6df20931\" class=\"plotly-graph-div\" style=\"height:525px; width:100%;\"></div>            <script type=\"text/javascript\">                require([\"plotly\"], function(Plotly) {                    window.PLOTLYENV=window.PLOTLYENV || {};                                    if (document.getElementById(\"f8d0ce96-1a73-48aa-a585-840f6df20931\")) {                    Plotly.newPlot(                        \"f8d0ce96-1a73-48aa-a585-840f6df20931\",                        [{\"contours\":{\"coloring\":\"none\"},\"legendgroup\":\"\",\"line\":{\"color\":\"#636efa\"},\"name\":\"\",\"showlegend\":false,\"x\":[-10.571514129638672,-10.07630443572998,16.979398727416992,18.2021427154541,20.140274047851562,-1.4093482494354248,11.47801685333252,12.095633506774902,-4.983188152313232,-12.910361289978027,20.422447204589844,0.8472520709037781,-10.174310684204102,-5.19320011138916,-10.650679588317871,13.459512710571289,-12.398392677307129,-6.389174938201904,-9.728734970092773,20.41701889038086,11.975364685058594,-9.545243263244629,-13.027711868286133,19.9410457611084,-5.085709095001221,-4.462934970855713,12.144814491271973,11.132621765136719,9.985501289367676,13.42573356628418,-4.695857048034668,19.843748092651367,-0.12031717598438263,-12.794645309448242,2.676339626312256,2.4656753540039062,-7.759912014007568,-12.360753059387207,-10.488295555114746,15.995421409606934,19.854175567626953,-6.82574462890625,13.418676376342773,18.76358413696289,1.5990511178970337,-7.294350624084473,-12.805376052856445,12.070059776306152,16.7723388671875,-4.434616565704346,-8.567648887634277,10.010466575622559,19.061983108520508,2.6906237602233887,-1.6105048656463623,-4.826746940612793,-7.786124229431152,-4.992354869842529,16.056396484375,-7.802242279052734,2.1397342681884766,-10.878878593444824,12.140974044799805,12.706164360046387,-4.8641862869262695,18.028076171875,-8.446917533874512,-6.314799785614014,-10.21052074432373,-11.988890647888184,-0.2108781337738037,-10.346671104431152,17.669389724731445,-11.736889839172363,11.592659950256348,-5.62800931930542,11.304558753967285,9.424798965454102,2.6968462467193604,-13.069358825683594,14.273698806762695,-9.375767707824707,11.56145191192627,11.26255989074707,-9.641969680786133,12.285454750061035,13.279939651489258,18.409181594848633,-11.50350570678711,0.6062822937965393,1.4458847045898438,-9.565817832946777,11.569522857666016,-11.718343734741211,11.980856895446777,2.228661060333252,-6.415529251098633,-10.144194602966309,-4.970212459564209,-10.053096771240234,19.621288299560547,2.2442398071289062,19.887847900390625,-3.26513934135437,11.917304039001465,19.838605880737305,20.50042152404785,1.5215600728988647,-9.140447616577148,13.467991828918457,-4.700576305389404,-8.108916282653809,-8.447273254394531,-7.018722057342529,-6.540655612945557,-3.3374998569488525,-5.168145656585693,-10.681745529174805,-12.818726539611816,-10.876387596130371,11.17161750793457,-12.143173217773438,12.129950523376465,11.569522857666016,-5.181632995605469,-6.153041839599609,17.403120040893555,-9.874842643737793,-12.801835060119629,-5.521056175231934,-6.657754421234131,2.321786880493164,-10.517393112182617,19.959590911865234,-8.119050979614258,20.11546516418457,10.123857498168945,-4.476043701171875,16.622400283813477,-10.11559009552002,11.20717716217041,-10.494458198547363,-10.731446266174316,1.6879016160964966,-2.8569717407226562,11.892075538635254,2.180952310562134,-4.948390007019043,9.762191772460938,10.16865348815918,11.478633880615234,-5.099903106689453,19.660423278808594,-9.815448760986328,-5.257646083831787,-5.941258907318115,-11.443477630615234,-11.193742752075195,15.927709579467773,0.06839735060930252,12.065624237060547,-4.970644474029541,11.044734001159668,20.612098693847656,16.847679138183594,-7.281036853790283,-7.8180060386657715,-4.421820640563965,20.44864273071289,-9.232011795043945,-5.633395671844482,10.410449028015137,-4.862429618835449,-2.6917290687561035,-13.033045768737793,-9.744549751281738,1.4910948276519775,11.889945030212402,-2.385283946990967,18.387205123901367,-8.600944519042969,20.613628387451172,20.531814575195312,-10.650164604187012,-6.63886833190918,9.608105659484863,-9.229629516601562,14.031631469726562,-10.216236114501953,-0.24337640404701233,-6.570581912994385,12.304198265075684,-5.791025638580322,-12.760497093200684,-4.705738067626953,-9.366070747375488,16.335140228271484,16.835159301757812,-13.06791877746582,-8.532299995422363,14.150423049926758,19.33522605895996,2.687378406524658,-10.862004280090332,16.114551544189453,2.5885231494903564,-5.163476467132568,-8.681920051574707,20.15296173095703,-2.7613677978515625,-4.919985294342041,9.784537315368652,-1.456547737121582,-9.434165000915527,-11.233430862426758,18.53413963317871,1.9519211053848267,-10.570070266723633,-4.411543846130371,20.3059024810791,-0.13754281401634216,1.8300502300262451,-7.288426399230957,11.170844078063965,-2.9131052494049072,-4.69468355178833,12.139275550842285,1.9591268301010132,-5.229619026184082,15.839826583862305,-12.234550476074219,-6.089863300323486,17.14472198486328,11.341126441955566,-6.177145957946777,-12.738166809082031,-5.183093547821045,12.035419464111328,-12.997232437133789,-5.277778148651123,-4.733903884887695,-5.9647440910339355,14.7836332321167,-10.329886436462402,11.343094825744629,-6.3409833908081055,-6.5154337882995605,19.178634643554688,-9.473069190979004,-4.790462017059326,20.521015167236328,20.485116958618164,11.938822746276855,12.134535789489746,-4.8329548835754395,-5.856564044952393,10.96654987335205,-2.541233777999878,2.714916229248047,12.358827590942383,0.5679379105567932,-8.063809394836426,1.885482907295227,2.0358197689056396,-6.209341049194336,2.339355230331421,11.971508026123047,-6.013579368591309,-5.1953349113464355,16.962778091430664,-4.416279315948486,-10.873072624206543,-7.276629447937012,-0.34248173236846924,12.08659553527832,-10.172901153564453,-12.0513277053833,2.69338321685791,16.979022979736328,-5.918356895446777,-13.029775619506836,19.492328643798828,-5.160292625427246,2.5390686988830566,12.122564315795898,-5.120559215545654,11.126412391662598,-10.62990951538086,-3.5497400760650635,14.356304168701172,2.2952141761779785,-5.155204772949219,12.130373001098633,-4.413608074188232,12.203577995300293,-10.782854080200195,-2.9668779373168945,17.18944549560547,11.569522857666016,-7.707163333892822,0.0660153329372406,-10.947524070739746,-10.174213409423828,-11.342994689941406,2.607787609100342,-10.731263160705566,-0.3576454520225525,-6.892602920532227,19.804046630859375,-12.305975914001465,20.609832763671875,18.137725830078125,20.14236831665039,12.149190902709961,-0.02019672282040119,-12.055000305175781,-7.001095771789551,-4.784104347229004,11.257590293884277,10.051519393920898,19.532634735107422,-7.341686248779297,13.617895126342773,-12.641789436340332,11.234071731567383],\"xaxis\":\"x\",\"xbingroup\":\"x\",\"y\":[15.755935668945312,15.745057106018066,1.0240862369537354,1.0578147172927856,3.080977201461792,8.853781700134277,-20.419696807861328,-19.68575668334961,-8.09536075592041,-0.47070959210395813,2.238708734512329,10.919301986694336,15.799623489379883,-9.608903884887695,15.732719421386719,1.2451894283294678,-0.5693034529685974,-5.870697498321533,15.122522354125977,2.222471237182617,-20.713533401489258,14.780760765075684,0.08359716087579727,2.4099185466766357,-3.037777900695801,-8.88924503326416,-21.012325286865234,-20.97797203063965,-16.861940383911133,0.5678774118423462,-9.414649963378906,2.987990140914917,11.504993438720703,-0.5000532269477844,11.223241806030273,11.048301696777344,12.271469116210938,-0.41037267446517944,14.761512756347656,0.2890024781227112,2.974151372909546,-4.284445285797119,2.2057254314422607,2.6764626502990723,11.53628921508789,-3.1878910064697266,0.2708386778831482,-18.910552978515625,2.174006938934326,-9.807857513427734,12.564483642578125,-16.94600486755371,1.6345165967941284,11.677249908447266,10.084708213806152,-5.415605068206787,12.429471969604492,-4.299260139465332,1.1870115995407104,-2.7433366775512695,11.801626205444336,15.345025062561035,-20.26119041442871,0.7262859344482422,-7.981812953948975,1.0885971784591675,12.304369926452637,-5.887524127960205,14.824398040771484,-0.03185110539197922,10.014372825622559,0.019595719873905182,0.9855897426605225,-0.3822997510433197,-20.377546310424805,-8.151433944702148,-18.571266174316406,-17.911943435668945,11.316000938415527,-0.24335764348506927,0.46387848258018494,-1.6648205518722534,-20.459362030029297,-20.652090072631836,-1.150428295135498,0.408027708530426,0.601742684841156,2.6461997032165527,0.03308049589395523,10.666013717651367,11.366267204284668,14.931166648864746,-21.36349868774414,0.19395431876182556,-20.436655044555664,11.06192398071289,11.793784141540527,15.789151191711426,-9.17830753326416,15.449532508850098,2.6339988708496094,11.87043571472168,2.06143856048584,10.024500846862793,-20.05206298828125,2.2415688037872314,2.2711031436920166,11.538846015930176,14.28154468536377,0.8689366579055786,-10.051721572875977,10.51758861541748,13.23326587677002,-5.377538681030273,-7.010777473449707,7.49958610534668,-9.906182289123535,-0.5376168489456177,-0.49409472942352295,15.335405349731445,-21.083906173706055,0.0758787989616394,-21.133222579956055,-21.36349868774414,-9.534311294555664,-7.6190266609191895,2.222269296646118,14.944174766540527,0.27233409881591797,-3.0113818645477295,12.035087585449219,11.892882347106934,-0.9886599183082581,2.094797134399414,10.247540473937988,2.1273751258850098,-17.07737159729004,-9.479987144470215,0.7309553623199463,13.99373722076416,-20.597332000732422,14.766188621520996,14.993849754333496,10.857443809509277,8.924718856811523,-21.347211837768555,11.845206260681152,-9.115839004516602,-16.592763900756836,-17.206876754760742,-18.58810043334961,-9.986674308776855,2.176004409790039,15.296350479125977,-7.565732479095459,-3.6945464611053467,-0.7344153523445129,-0.6355651617050171,0.27471986413002014,10.507247924804688,0.2944340407848358,-5.055779933929443,-18.458677291870117,2.561741590499878,2.041404962539673,-5.048790454864502,12.433615684509277,-9.77198314666748,2.875154972076416,13.014721870422363,-4.354679107666016,-17.820375442504883,-4.573708534240723,9.96014404296875,-0.3210754990577698,15.182494163513184,10.929506301879883,-21.348724365234375,9.4009370803833,1.171724796295166,13.911165237426758,2.5880889892578125,2.9006340503692627,15.732929229736328,12.00125789642334,-17.95231056213379,12.950182914733887,2.0302553176879883,15.203653335571289,9.288884162902832,-3.118393659591675,0.9163592457771301,-7.973285675048828,0.2769519090652466,-10.06006145477295,13.199247360229492,0.5031468868255615,1.635475516319275,-0.24378086626529694,13.768951416015625,2.1031417846679688,2.545821189880371,11.684684753417969,15.229344367980957,0.4466315507888794,11.099632263183594,-8.403024673461914,13.098677635192871,3.0763943195343018,8.867752075195312,-5.105356216430664,-16.52444839477539,10.16697883605957,-0.7870309352874756,-0.06824082881212234,1.2583396434783936,10.721063613891602,14.79161262512207,-9.658312797546387,3.03994083404541,9.762039184570312,11.580377578735352,11.34373664855957,-21.084043502807617,9.925407409667969,-10.049402236938477,0.7026569843292236,11.27137279510498,-3.366929054260254,0.9947950839996338,0.1872217357158661,-7.451095104217529,2.3333563804626465,-21.29669952392578,-7.5494256019592285,-0.48239246010780334,-9.169804573059082,-19.17291259765625,0.11674538999795914,-6.909337043762207,-10.059828758239746,-7.07544469833374,0.40938135981559753,14.808826446533203,-21.29875946044922,-4.940340042114258,-5.428650379180908,2.6918435096740723,14.755630493164062,-6.248659133911133,2.913112163543701,2.2599635124206543,-21.30906867980957,-21.116357803344727,-9.28775405883789,-6.425116062164307,-18.436786651611328,8.520344734191895,11.6661958694458,0.39752840995788574,10.774718284606934,12.022591590881348,11.014676094055176,11.413775444030762,-7.379321575164795,11.894061088562012,0.5709969997406006,-7.831434726715088,-9.8556547164917,2.1549243927001953,-9.753016471862793,15.310187339782715,11.549703598022461,10.479802131652832,-20.661033630371094,15.79889965057373,-0.4257439374923706,11.299991607666016,1.0375474691390991,-4.410140514373779,0.079770028591156,2.537334442138672,-9.918712615966797,11.82602596282959,-18.887924194335938,-9.967730522155762,-20.893598556518555,15.741488456726074,7.825379371643066,0.47588542103767395,11.063626289367676,-8.64993953704834,-20.786176681518555,-9.659926414489746,-20.021953582763672,15.549044609069824,9.974148750305176,2.279496192932129,-21.36349868774414,12.673433303833008,9.866300582885742,-0.6015839576721191,15.799723625183105,-0.49546170234680176,11.095871925354004,15.01035213470459,9.015963554382324,-4.180767059326172,2.8644964694976807,-0.06762900948524475,2.5729165077209473,1.0413784980773926,3.0906982421875,-21.008512496948242,11.480681419372559,0.19197340309619904,-3.640180826187134,-6.013321399688721,-20.676801681518555,-16.989437103271484,2.852471113204956,-2.9229302406311035,1.6370340585708618,0.2559794783592224,-20.581811904907227],\"yaxis\":\"y\",\"ybingroup\":\"y\",\"type\":\"histogram2dcontour\",\"hoverinfo\":\"skip\"},{\"hoverinfo\":\"skip\",\"legendgroup\":\"surprised\",\"marker\":{\"color\":\"#19D3F3\",\"opacity\":0.2,\"size\":12,\"symbol\":\"circle\"},\"mode\":\"markers\",\"name\":\"surprised\",\"orientation\":\"v\",\"showlegend\":false,\"x\":[-10.571514129638672,-10.07630443572998,-10.174310684204102,-10.650679588317871,-6.389174938201904,-9.728734970092773,-9.545243263244629,-5.085709095001221,-7.759912014007568,-10.488295555114746,-4.826746940612793,-10.878878593444824,-8.446917533874512,-10.21052074432373,-9.375767707824707,-9.565817832946777,-6.415529251098633,-10.144194602966309,-10.053096771240234,-3.26513934135437,-8.447273254394531,-10.876387596130371,-9.874842643737793,-10.11559009552002,-10.494458198547363,-10.731446266174316,-9.815448760986328,0.06839735060930252,-7.8180060386657715,-2.6917290687561035,-9.744549751281738,-2.385283946990967,-8.600944519042969,-10.650164604187012,-9.229629516601562,-10.216236114501953,-9.366070747375488,-8.532299995422363,-10.862004280090332,-1.456547737121582,-10.570070266723633,-2.9131052494049072,1.9591268301010132,-5.229619026184082,-6.5154337882995605,-9.473069190979004,1.885482907295227,-10.873072624206543,-7.276629447937012,-0.34248173236846924,-10.172901153564453,-10.62990951538086,-10.782854080200195,-7.707163333892822,-10.731263160705566,20.609832763671875],\"xaxis\":\"x\",\"y\":[15.755935668945312,15.745057106018066,15.799623489379883,15.732719421386719,-5.870697498321533,15.122522354125977,14.780760765075684,-3.037777900695801,12.271469116210938,14.761512756347656,-5.415605068206787,15.345025062561035,12.304369926452637,14.824398040771484,-1.6648205518722534,14.931166648864746,11.793784141540527,15.789151191711426,15.449532508850098,10.024500846862793,13.23326587677002,15.335405349731445,14.944174766540527,13.99373722076416,14.766188621520996,14.993849754333496,15.296350479125977,10.507247924804688,12.433615684509277,9.96014404296875,15.182494163513184,9.4009370803833,13.911165237426758,15.732929229736328,12.950182914733887,15.203653335571289,13.199247360229492,13.768951416015625,15.229344367980957,10.16697883605957,14.79161262512207,9.925407409667969,11.27137279510498,-3.366929054260254,-5.428650379180908,14.755630493164062,11.014676094055176,15.310187339782715,11.549703598022461,10.479802131652832,15.79889965057373,15.741488456726074,15.549044609069824,12.673433303833008,15.01035213470459,2.5729165077209473],\"yaxis\":\"y\",\"type\":\"scatter\"},{\"hoverinfo\":\"skip\",\"legendgroup\":\"disgusted\",\"marker\":{\"color\":\"#EF553B\",\"opacity\":0.2,\"size\":12,\"symbol\":\"circle\"},\"mode\":\"markers\",\"name\":\"disgusted\",\"orientation\":\"v\",\"showlegend\":false,\"x\":[16.979398727416992,11.47801685333252,12.095633506774902,11.975364685058594,12.144814491271973,11.132621765136719,12.070059776306152,10.010466575622559,16.056396484375,12.140974044799805,11.592659950256348,11.304558753967285,11.56145191192627,11.26255989074707,11.569522857666016,11.980856895446777,11.917304039001465,11.17161750793457,12.129950523376465,11.569522857666016,10.123857498168945,11.20717716217041,11.892075538635254,11.478633880615234,-4.970644474029541,11.889945030212402,-6.570581912994385,-8.681920051574707,9.784537315368652,-9.434165000915527,-7.288426399230957,11.170844078063965,15.839826583862305,-6.089863300323486,11.341126441955566,12.035419464111328,11.343094825744629,-4.790462017059326,11.938822746276855,12.134535789489746,10.96654987335205,-6.209341049194336,12.08659553527832,-12.0513277053833,12.122564315795898,11.126412391662598,12.130373001098633,12.203577995300293,11.569522857666016,12.149190902709961,-4.784104347229004,11.257590293884277,10.051519393920898,11.234071731567383],\"xaxis\":\"x\",\"y\":[1.0240862369537354,-20.419696807861328,-19.68575668334961,-20.713533401489258,-21.012325286865234,-20.97797203063965,-18.910552978515625,-16.94600486755371,1.1870115995407104,-20.26119041442871,-20.377546310424805,-18.571266174316406,-20.459362030029297,-20.652090072631836,-21.36349868774414,-20.436655044555664,-20.05206298828125,-21.083906173706055,-21.133222579956055,-21.36349868774414,-17.07737159729004,-20.597332000732422,-21.347211837768555,-18.58810043334961,-5.055779933929443,-21.348724365234375,-3.118393659591675,13.098677635192871,-16.52444839477539,-0.7870309352874756,11.34373664855957,-21.084043502807617,0.9947950839996338,-7.451095104217529,-21.29669952392578,-19.17291259765625,-21.29875946044922,-6.248659133911133,-21.30906867980957,-21.116357803344727,-18.436786651611328,-7.379321575164795,-20.661033630371094,-0.4257439374923706,-18.887924194335938,-20.893598556518555,-20.786176681518555,-20.021953582763672,-21.36349868774414,-21.008512496948242,-6.013321399688721,-20.676801681518555,-16.989437103271484,-20.581811904907227],\"yaxis\":\"y\",\"type\":\"scatter\"},{\"hoverinfo\":\"skip\",\"legendgroup\":\"happy\",\"marker\":{\"color\":\"#00CC96\",\"opacity\":0.2,\"size\":12,\"symbol\":\"circle\"},\"mode\":\"markers\",\"name\":\"happy\",\"orientation\":\"v\",\"showlegend\":false,\"x\":[18.2021427154541,20.422447204589844,13.459512710571289,19.9410457611084,13.42573356628418,19.843748092651367,15.995421409606934,19.854175567626953,13.418676376342773,18.76358413696289,16.7723388671875,19.061983108520508,12.706164360046387,18.028076171875,14.273698806762695,12.285454750061035,13.279939651489258,18.409181594848633,19.621288299560547,19.887847900390625,19.838605880737305,20.50042152404785,-8.108916282653809,-3.3374998569488525,17.403120040893555,-5.521056175231934,-6.657754421234131,19.959590911865234,20.11546516418457,16.622400283813477,10.16865348815918,19.660423278808594,15.927709579467773,12.065624237060547,20.612098693847656,20.44864273071289,18.387205123901367,20.613628387451172,20.531814575195312,9.608105659484863,16.335140228271484,16.835159301757812,14.150423049926758,19.33522605895996,16.114551544189453,20.15296173095703,18.53413963317871,20.3059024810791,-0.13754281401634216,17.14472198486328,14.7836332321167,20.521015167236328,20.485116958618164,-5.856564044952393,11.971508026123047,16.962778091430664,16.979022979736328,19.492328643798828,14.356304168701172,17.18944549560547,-10.174213409423828,-0.3576454520225525,19.804046630859375,18.137725830078125,20.14236831665039,19.532634735107422,-7.341686248779297,13.617895126342773],\"xaxis\":\"x\",\"y\":[1.0578147172927856,2.238708734512329,1.2451894283294678,2.4099185466766357,0.5678774118423462,2.987990140914917,0.2890024781227112,2.974151372909546,2.2057254314422607,2.6764626502990723,2.174006938934326,1.6345165967941284,0.7262859344482422,1.0885971784591675,0.46387848258018494,0.408027708530426,0.601742684841156,2.6461997032165527,2.6339988708496094,2.06143856048584,2.2415688037872314,2.2711031436920166,10.51758861541748,7.49958610534668,2.222269296646118,-3.0113818645477295,12.035087585449219,2.094797134399414,2.1273751258850098,0.7309553623199463,-17.206876754760742,2.176004409790039,0.27471986413002014,0.2944340407848358,2.561741590499878,2.875154972076416,1.171724796295166,2.5880889892578125,2.9006340503692627,-17.95231056213379,0.5031468868255615,1.635475516319275,2.1031417846679688,2.545821189880371,0.4466315507888794,3.0763943195343018,1.2583396434783936,3.03994083404541,9.762039184570312,2.3333563804626465,0.40938135981559753,2.913112163543701,2.2599635124206543,-6.425116062164307,0.5709969997406006,2.1549243927001953,1.0375474691390991,2.537334442138672,0.47588542103767395,2.279496192932129,15.799723625183105,9.015963554382324,2.8644964694976807,1.0413784980773926,3.0906982421875,2.852471113204956,-2.9229302406311035,1.6370340585708618],\"yaxis\":\"y\",\"type\":\"scatter\"},{\"hoverinfo\":\"skip\",\"legendgroup\":\"sad\",\"marker\":{\"color\":\"#FFA15A\",\"opacity\":0.2,\"size\":12,\"symbol\":\"circle\"},\"mode\":\"markers\",\"name\":\"sad\",\"orientation\":\"v\",\"showlegend\":false,\"x\":[20.140274047851562,-1.4093482494354248,-5.19320011138916,20.41701889038086,-4.462934970855713,-4.695857048034668,-6.82574462890625,-4.434616565704346,-8.567648887634277,-4.992354869842529,-7.802242279052734,-4.8641862869262695,-5.62800931930542,-11.50350570678711,-4.970212459564209,-4.700576305389404,-6.540655612945557,-5.168145656585693,-5.181632995605469,-6.153041839599609,-8.119050979614258,-4.476043701171875,-2.8569717407226562,-4.948390007019043,-5.099903106689453,-5.257646083831787,-5.941258907318115,-11.443477630615234,-7.281036853790283,-4.421820640563965,-9.232011795043945,-4.862429618835449,14.031631469726562,-5.791025638580322,-4.705738067626953,-5.163476467132568,-4.919985294342041,-4.411543846130371,-4.69468355178833,-6.177145957946777,-5.183093547821045,-5.277778148651123,-4.733903884887695,-5.9647440910339355,-4.8329548835754395,-5.1953349113464355,-4.416279315948486,-5.160292625427246,-5.120559215545654,-5.155204772949219,-4.413608074188232,-10.947524070739746,-6.892602920532227,-7.001095771789551],\"xaxis\":\"x\",\"y\":[3.080977201461792,8.853781700134277,-9.608903884887695,2.222471237182617,-8.88924503326416,-9.414649963378906,-4.284445285797119,-9.807857513427734,12.564483642578125,-4.299260139465332,-2.7433366775512695,-7.981812953948975,-8.151433944702148,0.03308049589395523,-9.17830753326416,-10.051721572875977,-7.010777473449707,-9.906182289123535,-9.534311294555664,-7.6190266609191895,10.247540473937988,-9.479987144470215,8.924718856811523,-9.115839004516602,-9.986674308776855,-7.565732479095459,-3.6945464611053467,-0.7344153523445129,-5.048790454864502,-9.77198314666748,13.014721870422363,-4.573708534240723,2.0302553176879883,-7.973285675048828,-10.06006145477295,-8.403024673461914,-5.105356216430664,-9.658312797546387,-10.049402236938477,-7.5494256019592285,-9.169804573059082,-6.909337043762207,-10.059828758239746,-7.07544469833374,-9.28775405883789,-9.8556547164917,-9.753016471862793,-9.918712615966797,-9.967730522155762,-8.64993953704834,-9.659926414489746,-0.6015839576721191,-4.180767059326172,-3.640180826187134],\"yaxis\":\"y\",\"type\":\"scatter\"},{\"hoverinfo\":\"skip\",\"legendgroup\":\"angry\",\"marker\":{\"color\":\"#636EFA\",\"opacity\":0.2,\"size\":12,\"symbol\":\"circle\"},\"mode\":\"markers\",\"name\":\"angry\",\"orientation\":\"v\",\"showlegend\":false,\"x\":[-4.983188152313232,-12.910361289978027,-12.398392677307129,-13.027711868286133,9.985501289367676,-0.12031717598438263,-12.794645309448242,-12.360753059387207,-7.294350624084473,-12.805376052856445,-7.786124229431152,-6.314799785614014,-11.988890647888184,17.669389724731445,-11.736889839172363,-13.069358825683594,-9.641969680786133,-9.140447616577148,13.467991828918457,-7.018722057342529,-10.681745529174805,-12.818726539611816,-12.143173217773438,-12.801835060119629,-10.517393112182617,9.762191772460938,-11.193742752075195,11.044734001159668,10.410449028015137,-13.033045768737793,12.304198265075684,-12.760497093200684,-13.06791877746582,-11.233430862426758,-12.234550476074219,-12.738166809082031,-12.997232437133789,12.358827590942383,-5.918356895446777,-13.029775619506836,-3.5497400760650635,-11.342994689941406,-12.305975914001465,-0.02019672282040119,-12.055000305175781,-12.641789436340332],\"xaxis\":\"x\",\"y\":[-8.09536075592041,-0.47070959210395813,-0.5693034529685974,0.08359716087579727,-16.861940383911133,11.504993438720703,-0.5000532269477844,-0.41037267446517944,-3.1878910064697266,0.2708386778831482,12.429471969604492,-5.887524127960205,-0.03185110539197922,0.9855897426605225,-0.3822997510433197,-0.24335764348506927,-1.150428295135498,14.28154468536377,0.8689366579055786,-5.377538681030273,-0.5376168489456177,-0.49409472942352295,0.0758787989616394,0.27233409881591797,-0.9886599183082581,-16.592763900756836,-0.6355651617050171,-18.458677291870117,-17.820375442504883,-0.3210754990577698,0.9163592457771301,0.2769519090652466,-0.24378086626529694,-0.06824082881212234,0.1872217357158661,-0.48239246010780334,0.11674538999795914,0.39752840995788574,-4.410140514373779,0.079770028591156,7.825379371643066,-0.49546170234680176,-0.06762900948524475,11.480681419372559,0.19197340309619904,0.2559794783592224],\"yaxis\":\"y\",\"type\":\"scatter\"},{\"hoverinfo\":\"skip\",\"legendgroup\":\"neutral\",\"marker\":{\"color\":\"#AB63FA\",\"opacity\":0.2,\"size\":12,\"symbol\":\"circle\"},\"mode\":\"markers\",\"name\":\"neutral\",\"orientation\":\"v\",\"showlegend\":false,\"x\":[0.8472520709037781,2.676339626312256,2.4656753540039062,1.5990511178970337,2.6906237602233887,-1.6105048656463623,2.1397342681884766,-0.2108781337738037,-10.346671104431152,9.424798965454102,2.6968462467193604,0.6062822937965393,1.4458847045898438,-11.718343734741211,2.228661060333252,2.2442398071289062,1.5215600728988647,2.321786880493164,1.6879016160964966,2.180952310562134,16.847679138183594,-5.633395671844482,1.4910948276519775,-6.63886833190918,-0.24337640404701233,2.687378406524658,2.5885231494903564,-2.7613677978515625,1.9519211053848267,1.8300502300262451,12.139275550842285,-10.329886436462402,-6.3409833908081055,19.178634643554688,-2.541233777999878,2.714916229248047,0.5679379105567932,-8.063809394836426,2.0358197689056396,2.339355230331421,-6.013579368591309,2.69338321685791,2.5390686988830566,2.2952141761779785,-2.9668779373168945,0.0660153329372406,2.607787609100342],\"xaxis\":\"x\",\"y\":[10.919301986694336,11.223241806030273,11.048301696777344,11.53628921508789,11.677249908447266,10.084708213806152,11.801626205444336,10.014372825622559,0.019595719873905182,-17.911943435668945,11.316000938415527,10.666013717651367,11.366267204284668,0.19395431876182556,11.06192398071289,11.87043571472168,11.538846015930176,11.892882347106934,10.857443809509277,11.845206260681152,2.041404962539673,-4.354679107666016,10.929506301879883,12.00125789642334,9.288884162902832,11.684684753417969,11.099632263183594,8.867752075195312,10.721063613891602,11.580377578735352,0.7026569843292236,14.808826446533203,-4.940340042114258,2.6918435096740723,8.520344734191895,11.6661958694458,10.774718284606934,12.022591590881348,11.413775444030762,11.894061088562012,-7.831434726715088,11.299991607666016,11.82602596282959,11.063626289367676,9.974148750305176,9.866300582885742,11.095871925354004],\"yaxis\":\"y\",\"type\":\"scatter\"},{\"customdata\":[[\"0.00%\",\"0.00%\",\"0.00%\",\"0.00%\",\"0.00%\",\"100.00%\",\"surprised\"],[\"0.02%\",\"0.00%\",\"0.00%\",\"0.02%\",\"0.00%\",\"99.97%\",\"surprised\"],[\"0.00%\",\"0.00%\",\"0.00%\",\"0.00%\",\"0.00%\",\"100.00%\",\"surprised\"],[\"0.00%\",\"0.00%\",\"0.00%\",\"0.00%\",\"0.00%\",\"100.00%\",\"surprised\"],[\"0.01%\",\"0.00%\",\"0.00%\",\"0.58%\",\"0.01%\",\"99.40%\",\"surprised\"],[\"0.04%\",\"0.05%\",\"0.03%\",\"0.88%\",\"0.01%\",\"98.98%\",\"surprised\"],[\"4.53%\",\"2.33%\",\"0.74%\",\"6.52%\",\"3.40%\",\"82.47%\",\"surprised\"],[\"0.01%\",\"0.00%\",\"0.00%\",\"0.04%\",\"0.35%\",\"99.60%\",\"surprised\"],[\"0.00%\",\"0.00%\",\"0.00%\",\"0.00%\",\"0.00%\",\"100.00%\",\"surprised\"],[\"0.21%\",\"3.81%\",\"1.56%\",\"0.93%\",\"6.64%\",\"86.84%\",\"surprised\"],[\"0.28%\",\"0.01%\",\"0.00%\",\"0.15%\",\"0.09%\",\"99.47%\",\"surprised\"],[\"0.02%\",\"0.00%\",\"0.00%\",\"0.81%\",\"0.00%\",\"99.16%\",\"surprised\"],[\"5.44%\",\"0.11%\",\"0.13%\",\"24.61%\",\"0.17%\",\"69.54%\",\"surprised\"],[\"0.00%\",\"0.00%\",\"0.00%\",\"0.00%\",\"0.00%\",\"100.00%\",\"surprised\"],[\"0.10%\",\"0.00%\",\"0.00%\",\"0.11%\",\"0.00%\",\"99.79%\",\"surprised\"],[\"4.47%\",\"0.00%\",\"0.00%\",\"37.02%\",\"0.00%\",\"58.51%\",\"surprised\"],[\"4.97%\",\"0.02%\",\"0.00%\",\"2.20%\",\"0.16%\",\"92.64%\",\"surprised\"],[\"0.00%\",\"0.00%\",\"0.00%\",\"0.00%\",\"0.00%\",\"99.99%\",\"surprised\"],[\"0.13%\",\"0.00%\",\"0.00%\",\"0.50%\",\"0.00%\",\"99.37%\",\"surprised\"],[\"0.06%\",\"0.01%\",\"0.00%\",\"0.05%\",\"1.41%\",\"98.47%\",\"surprised\"],[\"0.03%\",\"0.00%\",\"0.00%\",\"0.03%\",\"0.34%\",\"99.61%\",\"surprised\"],[\"0.02%\",\"0.00%\",\"0.00%\",\"0.00%\",\"0.13%\",\"99.84%\",\"surprised\"],[\"0.01%\",\"0.00%\",\"0.00%\",\"0.43%\",\"0.00%\",\"99.56%\",\"surprised\"],[\"8.71%\",\"0.34%\",\"0.05%\",\"4.24%\",\"1.25%\",\"85.42%\",\"surprised\"],[\"0.00%\",\"0.01%\",\"0.01%\",\"0.54%\",\"0.00%\",\"99.44%\",\"surprised\"],[\"0.07%\",\"0.01%\",\"0.01%\",\"3.54%\",\"0.00%\",\"96.36%\",\"surprised\"],[\"0.00%\",\"0.00%\",\"0.00%\",\"0.00%\",\"0.00%\",\"100.00%\",\"surprised\"],[\"0.31%\",\"0.12%\",\"0.01%\",\"0.16%\",\"5.13%\",\"94.27%\",\"surprised\"],[\"0.15%\",\"0.00%\",\"0.00%\",\"0.13%\",\"0.00%\",\"99.72%\",\"surprised\"],[\"0.73%\",\"0.10%\",\"0.06%\",\"0.37%\",\"2.71%\",\"96.03%\",\"surprised\"],[\"0.14%\",\"0.00%\",\"0.00%\",\"4.48%\",\"0.00%\",\"95.38%\",\"surprised\"],[\"0.00%\",\"0.00%\",\"0.00%\",\"0.00%\",\"0.03%\",\"99.97%\",\"surprised\"],[\"0.01%\",\"0.00%\",\"0.00%\",\"0.00%\",\"0.33%\",\"99.66%\",\"surprised\"],[\"0.01%\",\"0.04%\",\"3.91%\",\"44.03%\",\"0.00%\",\"52.02%\",\"surprised\"],[\"0.01%\",\"0.00%\",\"0.00%\",\"1.04%\",\"0.00%\",\"98.95%\",\"surprised\"],[\"0.00%\",\"0.00%\",\"0.00%\",\"0.00%\",\"0.01%\",\"99.99%\",\"surprised\"],[\"4.68%\",\"7.55%\",\"2.94%\",\"8.12%\",\"7.39%\",\"69.31%\",\"surprised\"],[\"0.00%\",\"0.00%\",\"0.00%\",\"0.00%\",\"0.00%\",\"100.00%\",\"surprised\"],[\"0.00%\",\"0.00%\",\"0.00%\",\"0.00%\",\"0.00%\",\"100.00%\",\"surprised\"],[\"0.00%\",\"0.00%\",\"0.00%\",\"0.00%\",\"0.00%\",\"100.00%\",\"surprised\"],[\"1.77%\",\"0.15%\",\"0.10%\",\"10.07%\",\"0.17%\",\"87.74%\",\"surprised\"],[\"0.04%\",\"0.00%\",\"0.00%\",\"0.00%\",\"0.11%\",\"99.85%\",\"surprised\"]],\"hovertemplate\":\"Predictions=surprised\\u003cbr\\u003eCorrect=True\\u003cbr\\u003ex=%{x}\\u003cbr\\u003ey=%{y}\\u003cbr\\u003eangry=%{customdata[0]}\\u003cbr\\u003edisgusted=%{customdata[1]}\\u003cbr\\u003ehappy=%{customdata[2]}\\u003cbr\\u003eneutral=%{customdata[3]}\\u003cbr\\u003esad=%{customdata[4]}\\u003cbr\\u003esurprised=%{customdata[5]}\\u003cbr\\u003eLabel=%{customdata[6]}\\u003cextra\\u003e\\u003c\\u002fextra\\u003e\",\"legendgroup\":\"surprised, True\",\"marker\":{\"color\":\"#19D3F3\",\"symbol\":\"circle\"},\"mode\":\"markers\",\"name\":\"surprised, True\",\"orientation\":\"v\",\"showlegend\":true,\"x\":[-10.571514129638672,-10.07630443572998,-10.174310684204102,-10.650679588317871,-9.728734970092773,-9.545243263244629,-7.759912014007568,-10.488295555114746,-10.878878593444824,-8.446917533874512,-10.21052074432373,-9.565817832946777,-6.415529251098633,-10.144194602966309,-10.053096771240234,-3.26513934135437,-8.447273254394531,-10.876387596130371,-9.874842643737793,-10.11559009552002,-10.494458198547363,-10.731446266174316,-9.815448760986328,-7.8180060386657715,-9.744549751281738,-8.600944519042969,-10.650164604187012,-9.229629516601562,-10.216236114501953,-9.366070747375488,-8.532299995422363,-10.862004280090332,-10.570070266723633,-2.9131052494049072,-9.473069190979004,-10.873072624206543,-7.276629447937012,-10.172901153564453,-10.62990951538086,-10.782854080200195,-7.707163333892822,-10.731263160705566],\"xaxis\":\"x\",\"y\":[15.755935668945312,15.745057106018066,15.799623489379883,15.732719421386719,15.122522354125977,14.780760765075684,12.271469116210938,14.761512756347656,15.345025062561035,12.304369926452637,14.824398040771484,14.931166648864746,11.793784141540527,15.789151191711426,15.449532508850098,10.024500846862793,13.23326587677002,15.335405349731445,14.944174766540527,13.99373722076416,14.766188621520996,14.993849754333496,15.296350479125977,12.433615684509277,15.182494163513184,13.911165237426758,15.732929229736328,12.950182914733887,15.203653335571289,13.199247360229492,13.768951416015625,15.229344367980957,14.79161262512207,9.925407409667969,14.755630493164062,15.310187339782715,11.549703598022461,15.79889965057373,15.741488456726074,15.549044609069824,12.673433303833008,15.01035213470459],\"yaxis\":\"y\",\"type\":\"scatter\"},{\"customdata\":[[\"0.10%\",\"0.00%\",\"0.86%\",\"3.36%\",\"6.03%\",\"89.65%\",\"sad\"],[\"14.13%\",\"0.01%\",\"0.00%\",\"1.89%\",\"0.16%\",\"83.80%\",\"angry\"],[\"0.91%\",\"0.00%\",\"0.00%\",\"1.27%\",\"0.03%\",\"97.79%\",\"angry\"],[\"0.23%\",\"0.10%\",\"0.06%\",\"0.07%\",\"32.31%\",\"67.22%\",\"happy\"],[\"0.00%\",\"0.00%\",\"0.05%\",\"20.60%\",\"0.00%\",\"79.35%\",\"happy\"],[\"1.55%\",\"0.02%\",\"0.00%\",\"0.11%\",\"42.58%\",\"55.74%\",\"sad\"],[\"9.60%\",\"20.87%\",\"3.65%\",\"27.46%\",\"2.31%\",\"36.11%\",\"sad\"],[\"0.31%\",\"1.01%\",\"0.10%\",\"0.22%\",\"3.90%\",\"94.46%\",\"sad\"],[\"0.93%\",\"0.06%\",\"0.11%\",\"20.90%\",\"0.03%\",\"77.97%\",\"neutral\"],[\"0.47%\",\"0.06%\",\"0.41%\",\"3.56%\",\"2.62%\",\"92.88%\",\"disgusted\"],[\"4.78%\",\"21.49%\",\"11.84%\",\"27.37%\",\"0.69%\",\"33.82%\",\"neutral\"],[\"1.20%\",\"18.78%\",\"9.55%\",\"2.98%\",\"5.57%\",\"61.91%\",\"disgusted\"],[\"0.27%\",\"0.00%\",\"0.00%\",\"0.08%\",\"0.13%\",\"99.52%\",\"neutral\"],[\"6.08%\",\"0.06%\",\"0.02%\",\"1.23%\",\"10.97%\",\"81.64%\",\"neutral\"],[\"0.35%\",\"0.01%\",\"0.28%\",\"44.97%\",\"0.07%\",\"54.33%\",\"neutral\"],[\"0.00%\",\"0.00%\",\"0.00%\",\"0.00%\",\"0.00%\",\"100.00%\",\"happy\"]],\"hovertemplate\":\"Predictions=surprised\\u003cbr\\u003eCorrect=False\\u003cbr\\u003ex=%{x}\\u003cbr\\u003ey=%{y}\\u003cbr\\u003eangry=%{customdata[0]}\\u003cbr\\u003edisgusted=%{customdata[1]}\\u003cbr\\u003ehappy=%{customdata[2]}\\u003cbr\\u003eneutral=%{customdata[3]}\\u003cbr\\u003esad=%{customdata[4]}\\u003cbr\\u003esurprised=%{customdata[5]}\\u003cbr\\u003eLabel=%{customdata[6]}\\u003cextra\\u003e\\u003c\\u002fextra\\u003e\",\"legendgroup\":\"surprised, False\",\"marker\":{\"color\":\"#19D3F3\",\"symbol\":\"x\"},\"mode\":\"markers\",\"name\":\"surprised, False\",\"orientation\":\"v\",\"showlegend\":true,\"x\":[-8.567648887634277,-7.786124229431152,-9.140447616577148,-8.108916282653809,-6.657754421234131,-8.119050979614258,-2.8569717407226562,-9.232011795043945,-6.63886833190918,-8.681920051574707,-2.7613677978515625,-7.288426399230957,-10.329886436462402,-8.063809394836426,-2.9668779373168945,-10.174213409423828],\"xaxis\":\"x\",\"y\":[12.564483642578125,12.429471969604492,14.28154468536377,10.51758861541748,12.035087585449219,10.247540473937988,8.924718856811523,13.014721870422363,12.00125789642334,13.098677635192871,8.867752075195312,11.34373664855957,14.808826446533203,12.022591590881348,9.974148750305176,15.799723625183105],\"yaxis\":\"y\",\"type\":\"scatter\"},{\"customdata\":[[\"0.00%\",\"0.62%\",\"99.25%\",\"0.00%\",\"0.12%\",\"0.00%\",\"happy\"],[\"0.00%\",\"0.00%\",\"99.98%\",\"0.01%\",\"0.01%\",\"0.00%\",\"happy\"],[\"2.23%\",\"10.04%\",\"68.76%\",\"8.85%\",\"2.47%\",\"7.65%\",\"happy\"],[\"0.00%\",\"0.01%\",\"99.92%\",\"0.04%\",\"0.02%\",\"0.01%\",\"happy\"],[\"0.42%\",\"21.92%\",\"74.34%\",\"1.05%\",\"1.92%\",\"0.36%\",\"happy\"],[\"0.00%\",\"0.00%\",\"99.94%\",\"0.06%\",\"0.00%\",\"0.00%\",\"happy\"],[\"0.01%\",\"3.22%\",\"96.55%\",\"0.01%\",\"0.20%\",\"0.00%\",\"happy\"],[\"0.00%\",\"0.00%\",\"99.94%\",\"0.06%\",\"0.00%\",\"0.00%\",\"happy\"],[\"0.04%\",\"0.04%\",\"64.85%\",\"34.48%\",\"0.07%\",\"0.52%\",\"happy\"],[\"0.00%\",\"0.01%\",\"99.66%\",\"0.33%\",\"0.00%\",\"0.00%\",\"happy\"],[\"0.01%\",\"0.04%\",\"98.38%\",\"1.52%\",\"0.03%\",\"0.02%\",\"happy\"],[\"0.00%\",\"0.28%\",\"99.63%\",\"0.01%\",\"0.08%\",\"0.00%\",\"happy\"],[\"4.75%\",\"20.25%\",\"55.65%\",\"2.01%\",\"15.14%\",\"2.21%\",\"happy\"],[\"0.00%\",\"0.71%\",\"99.12%\",\"0.16%\",\"0.01%\",\"0.00%\",\"happy\"],[\"0.01%\",\"14.71%\",\"84.43%\",\"0.55%\",\"0.09%\",\"0.21%\",\"happy\"],[\"0.21%\",\"39.63%\",\"57.05%\",\"1.83%\",\"0.24%\",\"1.03%\",\"happy\"],[\"0.50%\",\"22.74%\",\"71.78%\",\"2.48%\",\"1.22%\",\"1.27%\",\"happy\"],[\"0.00%\",\"0.00%\",\"99.54%\",\"0.46%\",\"0.00%\",\"0.00%\",\"happy\"],[\"0.00%\",\"0.02%\",\"99.87%\",\"0.09%\",\"0.01%\",\"0.00%\",\"happy\"],[\"0.00%\",\"0.08%\",\"99.88%\",\"0.00%\",\"0.03%\",\"0.00%\",\"happy\"],[\"0.00%\",\"0.01%\",\"99.88%\",\"0.03%\",\"0.08%\",\"0.00%\",\"happy\"],[\"0.00%\",\"0.01%\",\"99.99%\",\"0.00%\",\"0.00%\",\"0.00%\",\"happy\"],[\"0.02%\",\"0.16%\",\"99.10%\",\"0.66%\",\"0.05%\",\"0.00%\",\"happy\"],[\"0.00%\",\"0.06%\",\"99.90%\",\"0.00%\",\"0.04%\",\"0.00%\",\"happy\"],[\"0.00%\",\"0.02%\",\"99.93%\",\"0.00%\",\"0.05%\",\"0.00%\",\"happy\"],[\"0.03%\",\"1.30%\",\"97.79%\",\"0.20%\",\"0.55%\",\"0.12%\",\"happy\"],[\"0.00%\",\"0.09%\",\"99.85%\",\"0.05%\",\"0.00%\",\"0.00%\",\"happy\"],[\"0.03%\",\"3.65%\",\"96.16%\",\"0.16%\",\"0.01%\",\"0.00%\",\"happy\"],[\"0.00%\",\"0.00%\",\"100.00%\",\"0.00%\",\"0.00%\",\"0.00%\",\"happy\"],[\"0.00%\",\"0.00%\",\"99.99%\",\"0.00%\",\"0.01%\",\"0.00%\",\"happy\"],[\"0.00%\",\"0.51%\",\"99.38%\",\"0.06%\",\"0.04%\",\"0.01%\",\"happy\"],[\"0.00%\",\"0.00%\",\"100.00%\",\"0.00%\",\"0.00%\",\"0.00%\",\"happy\"],[\"0.00%\",\"0.00%\",\"100.00%\",\"0.00%\",\"0.00%\",\"0.00%\",\"happy\"],[\"0.03%\",\"1.80%\",\"97.31%\",\"0.06%\",\"0.79%\",\"0.02%\",\"happy\"],[\"0.01%\",\"0.74%\",\"98.30%\",\"0.84%\",\"0.03%\",\"0.09%\",\"happy\"],[\"0.05%\",\"0.09%\",\"83.64%\",\"15.92%\",\"0.22%\",\"0.09%\",\"happy\"],[\"0.00%\",\"0.03%\",\"99.80%\",\"0.14%\",\"0.02%\",\"0.00%\",\"happy\"],[\"0.01%\",\"2.08%\",\"96.64%\",\"0.08%\",\"0.57%\",\"0.62%\",\"happy\"],[\"0.00%\",\"0.00%\",\"99.98%\",\"0.02%\",\"0.01%\",\"0.00%\",\"happy\"],[\"0.00%\",\"0.44%\",\"99.45%\",\"0.04%\",\"0.06%\",\"0.01%\",\"happy\"],[\"0.00%\",\"0.00%\",\"99.99%\",\"0.01%\",\"0.00%\",\"0.00%\",\"happy\"],[\"0.00%\",\"0.00%\",\"99.01%\",\"0.98%\",\"0.00%\",\"0.00%\",\"happy\"],[\"0.06%\",\"8.84%\",\"90.71%\",\"0.27%\",\"0.12%\",\"0.01%\",\"happy\"],[\"0.00%\",\"0.00%\",\"100.00%\",\"0.00%\",\"0.00%\",\"0.00%\",\"happy\"],[\"0.00%\",\"0.01%\",\"99.99%\",\"0.00%\",\"0.00%\",\"0.00%\",\"happy\"],[\"6.28%\",\"34.37%\",\"39.00%\",\"13.89%\",\"2.61%\",\"3.85%\",\"happy\"],[\"0.01%\",\"0.19%\",\"98.68%\",\"1.08%\",\"0.02%\",\"0.01%\",\"happy\"],[\"0.13%\",\"0.47%\",\"98.24%\",\"0.27%\",\"0.87%\",\"0.01%\",\"happy\"],[\"0.00%\",\"0.04%\",\"99.84%\",\"0.12%\",\"0.00%\",\"0.00%\",\"happy\"],[\"0.02%\",\"11.72%\",\"84.81%\",\"0.00%\",\"3.45%\",\"0.00%\",\"happy\"],[\"0.00%\",\"0.00%\",\"98.95%\",\"0.79%\",\"0.04%\",\"0.23%\",\"happy\"],[\"0.00%\",\"0.01%\",\"99.92%\",\"0.06%\",\"0.01%\",\"0.00%\",\"happy\"],[\"0.00%\",\"0.64%\",\"99.19%\",\"0.00%\",\"0.16%\",\"0.00%\",\"happy\"],[\"0.00%\",\"0.00%\",\"99.98%\",\"0.02%\",\"0.00%\",\"0.00%\",\"happy\"],[\"0.00%\",\"0.00%\",\"99.87%\",\"0.12%\",\"0.00%\",\"0.00%\",\"happy\"],[\"0.01%\",\"0.03%\",\"66.27%\",\"7.55%\",\"0.56%\",\"25.59%\",\"happy\"]],\"hovertemplate\":\"Predictions=happy\\u003cbr\\u003eCorrect=True\\u003cbr\\u003ex=%{x}\\u003cbr\\u003ey=%{y}\\u003cbr\\u003eangry=%{customdata[0]}\\u003cbr\\u003edisgusted=%{customdata[1]}\\u003cbr\\u003ehappy=%{customdata[2]}\\u003cbr\\u003eneutral=%{customdata[3]}\\u003cbr\\u003esad=%{customdata[4]}\\u003cbr\\u003esurprised=%{customdata[5]}\\u003cbr\\u003eLabel=%{customdata[6]}\\u003cextra\\u003e\\u003c\\u002fextra\\u003e\",\"legendgroup\":\"happy, True\",\"marker\":{\"color\":\"#00CC96\",\"symbol\":\"circle\"},\"mode\":\"markers\",\"name\":\"happy, True\",\"orientation\":\"v\",\"showlegend\":true,\"x\":[18.2021427154541,20.422447204589844,13.459512710571289,19.9410457611084,13.42573356628418,19.843748092651367,15.995421409606934,19.854175567626953,13.418676376342773,18.76358413696289,16.7723388671875,19.061983108520508,12.706164360046387,18.028076171875,14.273698806762695,12.285454750061035,13.279939651489258,18.409181594848633,19.621288299560547,19.887847900390625,19.838605880737305,20.50042152404785,17.403120040893555,19.959590911865234,20.11546516418457,16.622400283813477,19.660423278808594,15.927709579467773,20.612098693847656,20.44864273071289,18.387205123901367,20.613628387451172,20.531814575195312,16.335140228271484,16.835159301757812,14.150423049926758,19.33522605895996,16.114551544189453,20.15296173095703,18.53413963317871,20.3059024810791,17.14472198486328,14.7836332321167,20.521015167236328,20.485116958618164,11.971508026123047,16.962778091430664,16.979022979736328,19.492328643798828,14.356304168701172,17.18944549560547,19.804046630859375,18.137725830078125,20.14236831665039,19.532634735107422,13.617895126342773],\"xaxis\":\"x\",\"y\":[1.0578147172927856,2.238708734512329,1.2451894283294678,2.4099185466766357,0.5678774118423462,2.987990140914917,0.2890024781227112,2.974151372909546,2.2057254314422607,2.6764626502990723,2.174006938934326,1.6345165967941284,0.7262859344482422,1.0885971784591675,0.46387848258018494,0.408027708530426,0.601742684841156,2.6461997032165527,2.6339988708496094,2.06143856048584,2.2415688037872314,2.2711031436920166,2.222269296646118,2.094797134399414,2.1273751258850098,0.7309553623199463,2.176004409790039,0.27471986413002014,2.561741590499878,2.875154972076416,1.171724796295166,2.5880889892578125,2.9006340503692627,0.5031468868255615,1.635475516319275,2.1031417846679688,2.545821189880371,0.4466315507888794,3.0763943195343018,1.2583396434783936,3.03994083404541,2.3333563804626465,0.40938135981559753,2.913112163543701,2.2599635124206543,0.5709969997406006,2.1549243927001953,1.0375474691390991,2.537334442138672,0.47588542103767395,2.279496192932129,2.8644964694976807,1.0413784980773926,3.0906982421875,2.852471113204956,1.6370340585708618],\"yaxis\":\"y\",\"type\":\"scatter\"},{\"customdata\":[[\"0.02%\",\"0.22%\",\"98.21%\",\"0.24%\",\"1.14%\",\"0.17%\",\"disgusted\"],[\"0.00%\",\"0.00%\",\"99.98%\",\"0.02%\",\"0.00%\",\"0.00%\",\"sad\"],[\"0.00%\",\"0.00%\",\"99.98%\",\"0.00%\",\"0.02%\",\"0.00%\",\"sad\"],[\"1.73%\",\"13.37%\",\"36.32%\",\"1.13%\",\"33.14%\",\"14.31%\",\"surprised\"],[\"0.05%\",\"0.39%\",\"96.52%\",\"1.58%\",\"1.07%\",\"0.39%\",\"disgusted\"],[\"0.02%\",\"0.67%\",\"98.83%\",\"0.03%\",\"0.42%\",\"0.02%\",\"angry\"],[\"0.08%\",\"3.66%\",\"69.80%\",\"0.01%\",\"26.45%\",\"0.00%\",\"angry\"],[\"0.07%\",\"0.21%\",\"98.43%\",\"1.16%\",\"0.11%\",\"0.02%\",\"neutral\"],[\"0.01%\",\"0.00%\",\"78.73%\",\"16.27%\",\"0.25%\",\"4.74%\",\"sad\"],[\"1.90%\",\"18.83%\",\"50.04%\",\"20.42%\",\"5.98%\",\"2.83%\",\"angry\"],[\"4.22%\",\"26.56%\",\"45.26%\",\"15.74%\",\"4.46%\",\"3.77%\",\"neutral\"],[\"0.06%\",\"1.15%\",\"95.03%\",\"1.90%\",\"0.65%\",\"1.20%\",\"disgusted\"],[\"0.00%\",\"0.00%\",\"99.77%\",\"0.20%\",\"0.01%\",\"0.01%\",\"neutral\"],[\"0.23%\",\"38.65%\",\"59.80%\",\"0.12%\",\"0.55%\",\"0.64%\",\"angry\"],[\"0.00%\",\"0.00%\",\"100.00%\",\"0.00%\",\"0.00%\",\"0.00%\",\"surprised\"]],\"hovertemplate\":\"Predictions=happy\\u003cbr\\u003eCorrect=False\\u003cbr\\u003ex=%{x}\\u003cbr\\u003ey=%{y}\\u003cbr\\u003eangry=%{customdata[0]}\\u003cbr\\u003edisgusted=%{customdata[1]}\\u003cbr\\u003ehappy=%{customdata[2]}\\u003cbr\\u003eneutral=%{customdata[3]}\\u003cbr\\u003esad=%{customdata[4]}\\u003cbr\\u003esurprised=%{customdata[5]}\\u003cbr\\u003eLabel=%{customdata[6]}\\u003cextra\\u003e\\u003c\\u002fextra\\u003e\",\"legendgroup\":\"happy, False\",\"marker\":{\"color\":\"#00CC96\",\"symbol\":\"x\"},\"mode\":\"markers\",\"name\":\"happy, False\",\"orientation\":\"v\",\"showlegend\":true,\"x\":[16.979398727416992,20.140274047851562,20.41701889038086,-5.085709095001221,16.056396484375,17.669389724731445,13.467991828918457,16.847679138183594,14.031631469726562,12.304198265075684,12.139275550842285,15.839826583862305,19.178634643554688,12.358827590942383,20.609832763671875],\"xaxis\":\"x\",\"y\":[1.0240862369537354,3.080977201461792,2.222471237182617,-3.037777900695801,1.1870115995407104,0.9855897426605225,0.8689366579055786,2.041404962539673,2.0302553176879883,0.9163592457771301,0.7026569843292236,0.9947950839996338,2.6918435096740723,0.39752840995788574,2.5729165077209473],\"yaxis\":\"y\",\"type\":\"scatter\"},{\"customdata\":[[\"9.02%\",\"0.21%\",\"0.69%\",\"82.07%\",\"0.26%\",\"7.75%\",\"neutral\"],[\"0.01%\",\"0.00%\",\"0.71%\",\"99.22%\",\"0.00%\",\"0.05%\",\"neutral\"],[\"0.04%\",\"0.00%\",\"0.09%\",\"98.53%\",\"0.00%\",\"1.33%\",\"neutral\"],[\"6.94%\",\"0.00%\",\"0.05%\",\"92.30%\",\"0.01%\",\"0.69%\",\"neutral\"],[\"0.00%\",\"0.00%\",\"0.12%\",\"99.84%\",\"0.00%\",\"0.04%\",\"neutral\"],[\"1.38%\",\"0.70%\",\"2.47%\",\"61.40%\",\"0.12%\",\"33.92%\",\"neutral\"],[\"0.01%\",\"0.00%\",\"0.06%\",\"98.58%\",\"0.00%\",\"1.35%\",\"neutral\"],[\"5.90%\",\"0.60%\",\"9.38%\",\"62.88%\",\"13.32%\",\"7.91%\",\"neutral\"],[\"0.08%\",\"0.00%\",\"0.36%\",\"99.33%\",\"0.00%\",\"0.23%\",\"neutral\"],[\"1.83%\",\"0.04%\",\"0.26%\",\"81.27%\",\"0.06%\",\"16.54%\",\"neutral\"],[\"7.65%\",\"0.03%\",\"0.16%\",\"90.28%\",\"0.02%\",\"1.85%\",\"neutral\"],[\"0.44%\",\"0.01%\",\"0.55%\",\"96.76%\",\"0.02%\",\"2.22%\",\"neutral\"],[\"0.00%\",\"0.00%\",\"0.00%\",\"99.26%\",\"0.00%\",\"0.74%\",\"neutral\"],[\"7.96%\",\"0.00%\",\"0.03%\",\"91.60%\",\"0.00%\",\"0.40%\",\"neutral\"],[\"0.07%\",\"0.00%\",\"0.09%\",\"99.61%\",\"0.00%\",\"0.24%\",\"neutral\"],[\"0.17%\",\"1.21%\",\"4.70%\",\"89.77%\",\"0.03%\",\"4.12%\",\"neutral\"],[\"0.50%\",\"0.00%\",\"0.37%\",\"98.88%\",\"0.02%\",\"0.23%\",\"neutral\"],[\"1.28%\",\"0.12%\",\"1.96%\",\"89.21%\",\"0.06%\",\"7.38%\",\"neutral\"],[\"1.60%\",\"0.07%\",\"32.28%\",\"60.06%\",\"4.26%\",\"1.73%\",\"neutral\"],[\"0.01%\",\"0.00%\",\"0.07%\",\"99.87%\",\"0.00%\",\"0.06%\",\"neutral\"],[\"0.10%\",\"0.00%\",\"0.60%\",\"99.01%\",\"0.00%\",\"0.28%\",\"neutral\"],[\"0.21%\",\"0.01%\",\"8.27%\",\"91.16%\",\"0.01%\",\"0.32%\",\"neutral\"],[\"3.72%\",\"0.02%\",\"0.33%\",\"94.85%\",\"0.16%\",\"0.91%\",\"neutral\"],[\"4.59%\",\"34.93%\",\"10.97%\",\"35.61%\",\"1.59%\",\"12.30%\",\"neutral\"],[\"0.00%\",\"0.00%\",\"0.00%\",\"99.99%\",\"0.00%\",\"0.01%\",\"neutral\"],[\"9.42%\",\"0.42%\",\"0.89%\",\"78.60%\",\"0.45%\",\"10.22%\",\"neutral\"],[\"0.55%\",\"0.01%\",\"0.41%\",\"96.50%\",\"0.01%\",\"2.52%\",\"neutral\"],[\"0.00%\",\"0.00%\",\"0.00%\",\"99.68%\",\"0.00%\",\"0.31%\",\"neutral\"],[\"0.06%\",\"0.00%\",\"0.35%\",\"99.32%\",\"0.00%\",\"0.27%\",\"neutral\"],[\"0.00%\",\"0.00%\",\"0.05%\",\"99.86%\",\"0.00%\",\"0.08%\",\"neutral\"],[\"0.37%\",\"0.01%\",\"0.51%\",\"97.41%\",\"0.01%\",\"1.70%\",\"neutral\"],[\"1.87%\",\"0.10%\",\"18.87%\",\"71.53%\",\"0.28%\",\"7.34%\",\"neutral\"],[\"0.00%\",\"0.00%\",\"0.99%\",\"99.01%\",\"0.00%\",\"0.00%\",\"neutral\"]],\"hovertemplate\":\"Predictions=neutral\\u003cbr\\u003eCorrect=True\\u003cbr\\u003ex=%{x}\\u003cbr\\u003ey=%{y}\\u003cbr\\u003eangry=%{customdata[0]}\\u003cbr\\u003edisgusted=%{customdata[1]}\\u003cbr\\u003ehappy=%{customdata[2]}\\u003cbr\\u003eneutral=%{customdata[3]}\\u003cbr\\u003esad=%{customdata[4]}\\u003cbr\\u003esurprised=%{customdata[5]}\\u003cbr\\u003eLabel=%{customdata[6]}\\u003cextra\\u003e\\u003c\\u002fextra\\u003e\",\"legendgroup\":\"neutral, True\",\"marker\":{\"color\":\"#AB63FA\",\"symbol\":\"circle\"},\"mode\":\"markers\",\"name\":\"neutral, True\",\"orientation\":\"v\",\"showlegend\":true,\"x\":[0.8472520709037781,2.676339626312256,2.4656753540039062,1.5990511178970337,2.6906237602233887,-1.6105048656463623,2.1397342681884766,-0.2108781337738037,2.6968462467193604,0.6062822937965393,1.4458847045898438,2.228661060333252,2.2442398071289062,1.5215600728988647,2.321786880493164,1.6879016160964966,2.180952310562134,1.4910948276519775,-0.24337640404701233,2.687378406524658,2.5885231494903564,1.9519211053848267,1.8300502300262451,-2.541233777999878,2.714916229248047,0.5679379105567932,2.0358197689056396,2.339355230331421,2.69338321685791,2.5390686988830566,2.2952141761779785,0.0660153329372406,2.607787609100342],\"xaxis\":\"x\",\"y\":[10.919301986694336,11.223241806030273,11.048301696777344,11.53628921508789,11.677249908447266,10.084708213806152,11.801626205444336,10.014372825622559,11.316000938415527,10.666013717651367,11.366267204284668,11.06192398071289,11.87043571472168,11.538846015930176,11.892882347106934,10.857443809509277,11.845206260681152,10.929506301879883,9.288884162902832,11.684684753417969,11.099632263183594,10.721063613891602,11.580377578735352,8.520344734191895,11.6661958694458,10.774718284606934,11.413775444030762,11.894061088562012,11.299991607666016,11.82602596282959,11.063626289367676,9.866300582885742,11.095871925354004],\"yaxis\":\"y\",\"type\":\"scatter\"},{\"customdata\":[[\"0.40%\",\"0.13%\",\"34.85%\",\"37.30%\",\"2.51%\",\"24.82%\",\"sad\"],[\"35.01%\",\"0.00%\",\"0.02%\",\"64.84%\",\"0.01%\",\"0.12%\",\"angry\"],[\"5.40%\",\"1.02%\",\"2.60%\",\"73.27%\",\"0.36%\",\"17.35%\",\"surprised\"],[\"0.25%\",\"0.00%\",\"0.01%\",\"50.61%\",\"0.00%\",\"49.13%\",\"surprised\"],[\"8.37%\",\"0.26%\",\"3.92%\",\"40.25%\",\"17.83%\",\"29.37%\",\"surprised\"],[\"2.73%\",\"0.03%\",\"0.10%\",\"63.81%\",\"0.02%\",\"33.30%\",\"surprised\"],[\"4.30%\",\"2.15%\",\"19.42%\",\"65.26%\",\"0.57%\",\"8.31%\",\"happy\"],[\"1.07%\",\"0.00%\",\"0.00%\",\"95.38%\",\"0.00%\",\"3.54%\",\"surprised\"],[\"0.11%\",\"0.00%\",\"0.00%\",\"93.77%\",\"0.00%\",\"6.12%\",\"surprised\"],[\"3.55%\",\"0.07%\",\"0.68%\",\"72.00%\",\"0.12%\",\"23.58%\",\"surprised\"],[\"1.27%\",\"0.12%\",\"43.07%\",\"53.96%\",\"0.13%\",\"1.46%\",\"happy\"],[\"29.13%\",\"0.00%\",\"0.03%\",\"70.72%\",\"0.01%\",\"0.10%\",\"angry\"]],\"hovertemplate\":\"Predictions=neutral\\u003cbr\\u003eCorrect=False\\u003cbr\\u003ex=%{x}\\u003cbr\\u003ey=%{y}\\u003cbr\\u003eangry=%{customdata[0]}\\u003cbr\\u003edisgusted=%{customdata[1]}\\u003cbr\\u003ehappy=%{customdata[2]}\\u003cbr\\u003eneutral=%{customdata[3]}\\u003cbr\\u003esad=%{customdata[4]}\\u003cbr\\u003esurprised=%{customdata[5]}\\u003cbr\\u003eLabel=%{customdata[6]}\\u003cextra\\u003e\\u003c\\u002fextra\\u003e\",\"legendgroup\":\"neutral, False\",\"marker\":{\"color\":\"#AB63FA\",\"symbol\":\"x\"},\"mode\":\"markers\",\"name\":\"neutral, False\",\"orientation\":\"v\",\"showlegend\":true,\"x\":[-1.4093482494354248,-0.12031717598438263,0.06839735060930252,-2.6917290687561035,-2.385283946990967,-1.456547737121582,-0.13754281401634216,1.9591268301010132,1.885482907295227,-0.34248173236846924,-0.3576454520225525,-0.02019672282040119],\"xaxis\":\"x\",\"y\":[8.853781700134277,11.504993438720703,10.507247924804688,9.96014404296875,9.4009370803833,10.16697883605957,9.762039184570312,11.27137279510498,11.014676094055176,10.479802131652832,9.015963554382324,11.480681419372559],\"yaxis\":\"y\",\"type\":\"scatter\"},{\"customdata\":[[\"0.03%\",\"99.64%\",\"0.03%\",\"0.00%\",\"0.30%\",\"0.00%\",\"disgusted\"],[\"0.05%\",\"98.24%\",\"0.55%\",\"0.00%\",\"1.15%\",\"0.01%\",\"disgusted\"],[\"0.01%\",\"99.82%\",\"0.15%\",\"0.00%\",\"0.01%\",\"0.00%\",\"disgusted\"],[\"0.02%\",\"99.96%\",\"0.01%\",\"0.00%\",\"0.02%\",\"0.00%\",\"disgusted\"],[\"0.00%\",\"99.99%\",\"0.00%\",\"0.00%\",\"0.00%\",\"0.00%\",\"disgusted\"],[\"0.06%\",\"96.05%\",\"2.87%\",\"0.02%\",\"0.99%\",\"0.02%\",\"disgusted\"],[\"0.01%\",\"68.12%\",\"4.10%\",\"0.00%\",\"27.75%\",\"0.01%\",\"disgusted\"],[\"0.01%\",\"99.23%\",\"0.69%\",\"0.00%\",\"0.06%\",\"0.01%\",\"disgusted\"],[\"0.04%\",\"99.52%\",\"0.13%\",\"0.02%\",\"0.03%\",\"0.26%\",\"disgusted\"],[\"1.00%\",\"90.86%\",\"0.54%\",\"0.36%\",\"1.69%\",\"5.55%\",\"disgusted\"],[\"0.10%\",\"99.66%\",\"0.07%\",\"0.02%\",\"0.06%\",\"0.09%\",\"disgusted\"],[\"0.00%\",\"99.89%\",\"0.01%\",\"0.00%\",\"0.09%\",\"0.00%\",\"disgusted\"],[\"0.00%\",\"100.00%\",\"0.00%\",\"0.00%\",\"0.00%\",\"0.00%\",\"disgusted\"],[\"0.05%\",\"99.49%\",\"0.39%\",\"0.00%\",\"0.07%\",\"0.00%\",\"disgusted\"],[\"0.13%\",\"98.95%\",\"0.40%\",\"0.00%\",\"0.51%\",\"0.00%\",\"disgusted\"],[\"0.00%\",\"100.00%\",\"0.00%\",\"0.00%\",\"0.00%\",\"0.00%\",\"disgusted\"],[\"0.00%\",\"99.99%\",\"0.00%\",\"0.00%\",\"0.00%\",\"0.00%\",\"disgusted\"],[\"0.00%\",\"100.00%\",\"0.00%\",\"0.00%\",\"0.00%\",\"0.00%\",\"disgusted\"],[\"0.31%\",\"74.45%\",\"0.26%\",\"0.02%\",\"24.95%\",\"0.01%\",\"disgusted\"],[\"0.05%\",\"99.88%\",\"0.04%\",\"0.00%\",\"0.02%\",\"0.00%\",\"disgusted\"],[\"0.00%\",\"100.00%\",\"0.00%\",\"0.00%\",\"0.00%\",\"0.00%\",\"disgusted\"],[\"0.22%\",\"91.34%\",\"0.97%\",\"6.38%\",\"0.00%\",\"1.08%\",\"disgusted\"],[\"0.00%\",\"100.00%\",\"0.00%\",\"0.00%\",\"0.00%\",\"0.00%\",\"disgusted\"],[\"0.44%\",\"56.68%\",\"0.19%\",\"0.00%\",\"42.59%\",\"0.09%\",\"disgusted\"],[\"0.00%\",\"100.00%\",\"0.00%\",\"0.00%\",\"0.00%\",\"0.00%\",\"disgusted\"],[\"0.00%\",\"100.00%\",\"0.00%\",\"0.00%\",\"0.00%\",\"0.00%\",\"disgusted\"],[\"0.07%\",\"96.93%\",\"0.77%\",\"0.18%\",\"0.58%\",\"1.47%\",\"disgusted\"],[\"0.00%\",\"100.00%\",\"0.00%\",\"0.00%\",\"0.00%\",\"0.00%\",\"disgusted\"],[\"0.00%\",\"99.99%\",\"0.00%\",\"0.00%\",\"0.00%\",\"0.00%\",\"disgusted\"],[\"0.00%\",\"99.99%\",\"0.00%\",\"0.00%\",\"0.01%\",\"0.00%\",\"disgusted\"],[\"1.74%\",\"89.57%\",\"0.06%\",\"0.03%\",\"8.58%\",\"0.01%\",\"disgusted\"],[\"0.00%\",\"99.74%\",\"0.26%\",\"0.00%\",\"0.00%\",\"0.00%\",\"disgusted\"],[\"0.04%\",\"95.99%\",\"3.71%\",\"0.04%\",\"0.17%\",\"0.05%\",\"disgusted\"],[\"0.00%\",\"99.99%\",\"0.01%\",\"0.00%\",\"0.01%\",\"0.00%\",\"disgusted\"],[\"0.02%\",\"99.84%\",\"0.12%\",\"0.00%\",\"0.02%\",\"0.00%\",\"disgusted\"],[\"0.02%\",\"98.86%\",\"1.06%\",\"0.01%\",\"0.04%\",\"0.01%\",\"disgusted\"],[\"0.00%\",\"100.00%\",\"0.00%\",\"0.00%\",\"0.00%\",\"0.00%\",\"disgusted\"],[\"0.01%\",\"99.96%\",\"0.02%\",\"0.00%\",\"0.01%\",\"0.00%\",\"disgusted\"],[\"0.01%\",\"99.92%\",\"0.06%\",\"0.00%\",\"0.01%\",\"0.00%\",\"disgusted\"],[\"0.53%\",\"70.43%\",\"1.90%\",\"0.05%\",\"26.98%\",\"0.11%\",\"disgusted\"],[\"0.04%\",\"99.86%\",\"0.04%\",\"0.01%\",\"0.01%\",\"0.04%\",\"disgusted\"]],\"hovertemplate\":\"Predictions=disgusted\\u003cbr\\u003eCorrect=True\\u003cbr\\u003ex=%{x}\\u003cbr\\u003ey=%{y}\\u003cbr\\u003eangry=%{customdata[0]}\\u003cbr\\u003edisgusted=%{customdata[1]}\\u003cbr\\u003ehappy=%{customdata[2]}\\u003cbr\\u003eneutral=%{customdata[3]}\\u003cbr\\u003esad=%{customdata[4]}\\u003cbr\\u003esurprised=%{customdata[5]}\\u003cbr\\u003eLabel=%{customdata[6]}\\u003cextra\\u003e\\u003c\\u002fextra\\u003e\",\"legendgroup\":\"disgusted, True\",\"marker\":{\"color\":\"#EF553B\",\"symbol\":\"circle\"},\"mode\":\"markers\",\"name\":\"disgusted, True\",\"orientation\":\"v\",\"showlegend\":true,\"x\":[11.47801685333252,12.095633506774902,11.975364685058594,12.144814491271973,11.132621765136719,12.070059776306152,10.010466575622559,12.140974044799805,11.592659950256348,11.304558753967285,11.56145191192627,11.26255989074707,11.569522857666016,11.980856895446777,11.917304039001465,11.17161750793457,12.129950523376465,11.569522857666016,10.123857498168945,11.20717716217041,11.892075538635254,11.478633880615234,11.889945030212402,9.784537315368652,11.170844078063965,11.341126441955566,12.035419464111328,11.343094825744629,11.938822746276855,12.134535789489746,10.96654987335205,12.08659553527832,12.122564315795898,11.126412391662598,12.130373001098633,12.203577995300293,11.569522857666016,12.149190902709961,11.257590293884277,10.051519393920898,11.234071731567383],\"xaxis\":\"x\",\"y\":[-20.419696807861328,-19.68575668334961,-20.713533401489258,-21.012325286865234,-20.97797203063965,-18.910552978515625,-16.94600486755371,-20.26119041442871,-20.377546310424805,-18.571266174316406,-20.459362030029297,-20.652090072631836,-21.36349868774414,-20.436655044555664,-20.05206298828125,-21.083906173706055,-21.133222579956055,-21.36349868774414,-17.07737159729004,-20.597332000732422,-21.347211837768555,-18.58810043334961,-21.348724365234375,-16.52444839477539,-21.084043502807617,-21.29669952392578,-19.17291259765625,-21.29875946044922,-21.30906867980957,-21.116357803344727,-18.436786651611328,-20.661033630371094,-18.887924194335938,-20.893598556518555,-20.786176681518555,-20.021953582763672,-21.36349868774414,-21.008512496948242,-20.676801681518555,-16.989437103271484,-20.581811904907227],\"yaxis\":\"y\",\"type\":\"scatter\"},{\"customdata\":[[\"1.10%\",\"66.60%\",\"0.94%\",\"0.01%\",\"31.33%\",\"0.03%\",\"angry\"],[\"0.47%\",\"55.36%\",\"17.99%\",\"9.32%\",\"0.59%\",\"16.27%\",\"neutral\"],[\"1.46%\",\"53.08%\",\"11.87%\",\"0.03%\",\"33.53%\",\"0.03%\",\"angry\"],[\"1.05%\",\"75.62%\",\"1.74%\",\"0.17%\",\"20.99%\",\"0.43%\",\"happy\"],[\"0.14%\",\"50.09%\",\"48.86%\",\"0.13%\",\"0.12%\",\"0.66%\",\"happy\"],[\"4.01%\",\"88.49%\",\"3.67%\",\"0.22%\",\"3.58%\",\"0.03%\",\"angry\"],[\"9.01%\",\"77.94%\",\"2.34%\",\"0.67%\",\"9.54%\",\"0.50%\",\"angry\"],[\"5.71%\",\"65.50%\",\"15.11%\",\"6.21%\",\"1.10%\",\"6.37%\",\"happy\"]],\"hovertemplate\":\"Predictions=disgusted\\u003cbr\\u003eCorrect=False\\u003cbr\\u003ex=%{x}\\u003cbr\\u003ey=%{y}\\u003cbr\\u003eangry=%{customdata[0]}\\u003cbr\\u003edisgusted=%{customdata[1]}\\u003cbr\\u003ehappy=%{customdata[2]}\\u003cbr\\u003eneutral=%{customdata[3]}\\u003cbr\\u003esad=%{customdata[4]}\\u003cbr\\u003esurprised=%{customdata[5]}\\u003cbr\\u003eLabel=%{customdata[6]}\\u003cextra\\u003e\\u003c\\u002fextra\\u003e\",\"legendgroup\":\"disgusted, False\",\"marker\":{\"color\":\"#EF553B\",\"symbol\":\"x\"},\"mode\":\"markers\",\"name\":\"disgusted, False\",\"orientation\":\"v\",\"showlegend\":true,\"x\":[9.985501289367676,9.424798965454102,9.762191772460938,10.16865348815918,12.065624237060547,11.044734001159668,10.410449028015137,9.608105659484863],\"xaxis\":\"x\",\"y\":[-16.861940383911133,-17.911943435668945,-16.592763900756836,-17.206876754760742,0.2944340407848358,-18.458677291870117,-17.820375442504883,-17.95231056213379],\"yaxis\":\"y\",\"type\":\"scatter\"},{\"customdata\":[[\"0.76%\",\"0.03%\",\"0.00%\",\"0.00%\",\"99.08%\",\"0.12%\",\"sad\"],[\"0.00%\",\"0.33%\",\"5.62%\",\"0.00%\",\"94.03%\",\"0.00%\",\"sad\"],[\"0.64%\",\"0.59%\",\"0.01%\",\"0.00%\",\"98.76%\",\"0.00%\",\"sad\"],[\"25.98%\",\"5.67%\",\"0.11%\",\"0.06%\",\"68.15%\",\"0.03%\",\"sad\"],[\"0.01%\",\"0.00%\",\"0.00%\",\"0.00%\",\"99.99%\",\"0.00%\",\"sad\"],[\"9.97%\",\"36.72%\",\"1.82%\",\"0.05%\",\"51.44%\",\"0.01%\",\"sad\"],[\"0.90%\",\"0.48%\",\"0.11%\",\"0.15%\",\"90.18%\",\"8.18%\",\"sad\"],[\"7.35%\",\"1.77%\",\"0.04%\",\"0.01%\",\"90.81%\",\"0.01%\",\"sad\"],[\"1.46%\",\"1.46%\",\"0.16%\",\"0.00%\",\"96.91%\",\"0.00%\",\"sad\"],[\"0.02%\",\"0.00%\",\"0.00%\",\"0.00%\",\"99.98%\",\"0.00%\",\"sad\"],[\"20.03%\",\"0.55%\",\"0.04%\",\"0.22%\",\"79.07%\",\"0.08%\",\"sad\"],[\"0.08%\",\"0.04%\",\"0.00%\",\"0.00%\",\"99.87%\",\"0.00%\",\"sad\"],[\"1.13%\",\"0.08%\",\"0.00%\",\"0.00%\",\"98.75%\",\"0.04%\",\"sad\"],[\"12.91%\",\"0.41%\",\"0.01%\",\"0.00%\",\"86.67%\",\"0.00%\",\"sad\"],[\"0.06%\",\"0.01%\",\"0.00%\",\"0.00%\",\"99.21%\",\"0.72%\",\"sad\"],[\"1.27%\",\"2.02%\",\"0.20%\",\"0.01%\",\"96.50%\",\"0.00%\",\"sad\"],[\"0.04%\",\"0.01%\",\"0.00%\",\"0.00%\",\"99.95%\",\"0.00%\",\"sad\"],[\"3.97%\",\"7.92%\",\"0.61%\",\"0.02%\",\"87.47%\",\"0.02%\",\"sad\"],[\"20.33%\",\"23.50%\",\"7.07%\",\"0.90%\",\"47.58%\",\"0.63%\",\"sad\"],[\"17.14%\",\"1.67%\",\"0.02%\",\"0.65%\",\"41.68%\",\"38.85%\",\"sad\"],[\"0.02%\",\"0.00%\",\"0.00%\",\"0.00%\",\"99.98%\",\"0.00%\",\"sad\"],[\"4.60%\",\"36.58%\",\"0.84%\",\"0.01%\",\"57.97%\",\"0.00%\",\"sad\"],[\"8.76%\",\"0.66%\",\"0.02%\",\"0.12%\",\"89.67%\",\"0.78%\",\"sad\"],[\"0.00%\",\"0.00%\",\"0.00%\",\"0.00%\",\"100.00%\",\"0.00%\",\"sad\"],[\"2.65%\",\"5.45%\",\"0.01%\",\"0.01%\",\"91.80%\",\"0.07%\",\"sad\"],[\"5.70%\",\"24.69%\",\"0.06%\",\"0.08%\",\"68.65%\",\"0.81%\",\"sad\"],[\"0.01%\",\"0.00%\",\"0.00%\",\"0.00%\",\"99.83%\",\"0.15%\",\"sad\"],[\"0.02%\",\"0.00%\",\"0.00%\",\"0.00%\",\"99.98%\",\"0.00%\",\"sad\"],[\"13.13%\",\"0.58%\",\"0.02%\",\"0.22%\",\"85.81%\",\"0.24%\",\"sad\"],[\"3.19%\",\"0.18%\",\"0.01%\",\"0.02%\",\"96.59%\",\"0.02%\",\"sad\"],[\"0.69%\",\"5.70%\",\"0.49%\",\"0.06%\",\"83.64%\",\"9.41%\",\"sad\"],[\"0.03%\",\"0.00%\",\"0.00%\",\"0.00%\",\"99.97%\",\"0.00%\",\"sad\"],[\"11.57%\",\"7.01%\",\"0.15%\",\"0.02%\",\"81.24%\",\"0.01%\",\"sad\"],[\"0.87%\",\"1.26%\",\"0.06%\",\"0.00%\",\"97.81%\",\"0.00%\",\"sad\"],[\"0.13%\",\"0.08%\",\"0.00%\",\"0.00%\",\"99.79%\",\"0.00%\",\"sad\"],[\"0.01%\",\"0.02%\",\"0.00%\",\"0.00%\",\"99.97%\",\"0.00%\",\"sad\"],[\"0.06%\",\"0.04%\",\"0.00%\",\"0.00%\",\"99.89%\",\"0.00%\",\"sad\"],[\"0.06%\",\"0.00%\",\"0.00%\",\"0.00%\",\"99.94%\",\"0.00%\",\"sad\"],[\"2.82%\",\"3.76%\",\"0.10%\",\"0.01%\",\"93.30%\",\"0.01%\",\"sad\"],[\"0.06%\",\"0.07%\",\"0.00%\",\"0.00%\",\"99.86%\",\"0.01%\",\"sad\"],[\"28.32%\",\"4.48%\",\"0.07%\",\"0.03%\",\"67.09%\",\"0.01%\",\"sad\"],[\"34.09%\",\"8.49%\",\"0.16%\",\"0.07%\",\"57.15%\",\"0.03%\",\"sad\"]],\"hovertemplate\":\"Predictions=sad\\u003cbr\\u003eCorrect=True\\u003cbr\\u003ex=%{x}\\u003cbr\\u003ey=%{y}\\u003cbr\\u003eangry=%{customdata[0]}\\u003cbr\\u003edisgusted=%{customdata[1]}\\u003cbr\\u003ehappy=%{customdata[2]}\\u003cbr\\u003eneutral=%{customdata[3]}\\u003cbr\\u003esad=%{customdata[4]}\\u003cbr\\u003esurprised=%{customdata[5]}\\u003cbr\\u003eLabel=%{customdata[6]}\\u003cextra\\u003e\\u003c\\u002fextra\\u003e\",\"legendgroup\":\"sad, True\",\"marker\":{\"color\":\"#FFA15A\",\"symbol\":\"circle\"},\"mode\":\"markers\",\"name\":\"sad, True\",\"orientation\":\"v\",\"showlegend\":true,\"x\":[-5.19320011138916,-4.462934970855713,-4.695857048034668,-6.82574462890625,-4.434616565704346,-4.992354869842529,-4.8641862869262695,-5.62800931930542,-4.970212459564209,-4.700576305389404,-6.540655612945557,-5.168145656585693,-5.181632995605469,-6.153041839599609,-4.476043701171875,-4.948390007019043,-5.099903106689453,-5.257646083831787,-5.941258907318115,-7.281036853790283,-4.421820640563965,-4.862429618835449,-5.791025638580322,-4.705738067626953,-5.163476467132568,-4.919985294342041,-4.411543846130371,-4.69468355178833,-6.177145957946777,-5.183093547821045,-5.277778148651123,-4.733903884887695,-5.9647440910339355,-4.8329548835754395,-5.1953349113464355,-4.416279315948486,-5.160292625427246,-5.120559215545654,-5.155204772949219,-4.413608074188232,-6.892602920532227,-7.001095771789551],\"xaxis\":\"x\",\"y\":[-9.608903884887695,-8.88924503326416,-9.414649963378906,-4.284445285797119,-9.807857513427734,-4.299260139465332,-7.981812953948975,-8.151433944702148,-9.17830753326416,-10.051721572875977,-7.010777473449707,-9.906182289123535,-9.534311294555664,-7.6190266609191895,-9.479987144470215,-9.115839004516602,-9.986674308776855,-7.565732479095459,-3.6945464611053467,-5.048790454864502,-9.77198314666748,-4.573708534240723,-7.973285675048828,-10.06006145477295,-8.403024673461914,-5.105356216430664,-9.658312797546387,-10.049402236938477,-7.5494256019592285,-9.169804573059082,-6.909337043762207,-10.059828758239746,-7.07544469833374,-9.28775405883789,-9.8556547164917,-9.753016471862793,-9.918712615966797,-9.967730522155762,-8.64993953704834,-9.659926414489746,-4.180767059326172,-3.640180826187134],\"yaxis\":\"y\",\"type\":\"scatter\"},{\"customdata\":[[\"2.82%\",\"0.06%\",\"0.02%\",\"0.08%\",\"90.71%\",\"6.31%\",\"angry\"],[\"2.73%\",\"0.00%\",\"0.00%\",\"0.03%\",\"73.96%\",\"23.28%\",\"surprised\"],[\"42.15%\",\"7.34%\",\"0.13%\",\"0.07%\",\"50.26%\",\"0.05%\",\"angry\"],[\"2.14%\",\"23.13%\",\"0.20%\",\"0.10%\",\"73.44%\",\"0.99%\",\"surprised\"],[\"4.09%\",\"0.06%\",\"0.85%\",\"3.22%\",\"73.35%\",\"18.42%\",\"angry\"],[\"1.40%\",\"1.44%\",\"0.29%\",\"0.15%\",\"57.32%\",\"39.41%\",\"angry\"],[\"17.69%\",\"20.24%\",\"23.34%\",\"7.13%\",\"29.65%\",\"1.94%\",\"happy\"],[\"5.70%\",\"23.63%\",\"0.60%\",\"0.99%\",\"67.39%\",\"1.69%\",\"disgusted\"],[\"6.83%\",\"13.31%\",\"16.10%\",\"0.97%\",\"59.42%\",\"3.37%\",\"neutral\"],[\"32.09%\",\"27.70%\",\"1.18%\",\"0.35%\",\"38.51%\",\"0.17%\",\"disgusted\"],[\"0.98%\",\"13.03%\",\"30.78%\",\"0.49%\",\"45.96%\",\"8.77%\",\"surprised\"],[\"12.12%\",\"2.78%\",\"0.26%\",\"0.04%\",\"84.77%\",\"0.02%\",\"disgusted\"],[\"11.52%\",\"2.82%\",\"6.51%\",\"4.37%\",\"58.38%\",\"16.39%\",\"neutral\"],[\"11.42%\",\"0.53%\",\"0.51%\",\"0.55%\",\"65.16%\",\"21.83%\",\"surprised\"],[\"1.09%\",\"16.16%\",\"0.03%\",\"0.00%\",\"82.72%\",\"0.00%\",\"disgusted\"],[\"1.21%\",\"0.99%\",\"1.55%\",\"0.20%\",\"81.42%\",\"14.63%\",\"happy\"],[\"13.30%\",\"0.36%\",\"0.03%\",\"0.34%\",\"83.74%\",\"2.23%\",\"disgusted\"],[\"11.08%\",\"0.08%\",\"0.00%\",\"0.05%\",\"88.72%\",\"0.07%\",\"neutral\"],[\"10.84%\",\"10.17%\",\"11.43%\",\"1.84%\",\"55.63%\",\"10.09%\",\"angry\"],[\"1.60%\",\"18.00%\",\"0.00%\",\"0.00%\",\"80.40%\",\"0.00%\",\"disgusted\"]],\"hovertemplate\":\"Predictions=sad\\u003cbr\\u003eCorrect=False\\u003cbr\\u003ex=%{x}\\u003cbr\\u003ey=%{y}\\u003cbr\\u003eangry=%{customdata[0]}\\u003cbr\\u003edisgusted=%{customdata[1]}\\u003cbr\\u003ehappy=%{customdata[2]}\\u003cbr\\u003eneutral=%{customdata[3]}\\u003cbr\\u003esad=%{customdata[4]}\\u003cbr\\u003esurprised=%{customdata[5]}\\u003cbr\\u003eLabel=%{customdata[6]}\\u003cextra\\u003e\\u003c\\u002fextra\\u003e\",\"legendgroup\":\"sad, False\",\"marker\":{\"color\":\"#FFA15A\",\"symbol\":\"x\"},\"mode\":\"markers\",\"name\":\"sad, False\",\"orientation\":\"v\",\"showlegend\":true,\"x\":[-4.983188152313232,-6.389174938201904,-7.294350624084473,-4.826746940612793,-6.314799785614014,-7.018722057342529,-5.521056175231934,-4.970644474029541,-5.633395671844482,-6.570581912994385,-5.229619026184082,-6.089863300323486,-6.3409833908081055,-6.5154337882995605,-4.790462017059326,-5.856564044952393,-6.209341049194336,-6.013579368591309,-5.918356895446777,-4.784104347229004],\"xaxis\":\"x\",\"y\":[-8.09536075592041,-5.870697498321533,-3.1878910064697266,-5.415605068206787,-5.887524127960205,-5.377538681030273,-3.0113818645477295,-5.055779933929443,-4.354679107666016,-3.118393659591675,-3.366929054260254,-7.451095104217529,-4.940340042114258,-5.428650379180908,-6.248659133911133,-6.425116062164307,-7.379321575164795,-7.831434726715088,-4.410140514373779,-6.013321399688721],\"yaxis\":\"y\",\"type\":\"scatter\"},{\"customdata\":[[\"99.43%\",\"0.00%\",\"0.00%\",\"0.02%\",\"0.54%\",\"0.00%\",\"angry\"],[\"93.36%\",\"0.50%\",\"0.01%\",\"0.23%\",\"5.34%\",\"0.56%\",\"angry\"],[\"99.98%\",\"0.00%\",\"0.00%\",\"0.02%\",\"0.00%\",\"0.00%\",\"angry\"],[\"98.64%\",\"0.16%\",\"0.00%\",\"0.43%\",\"0.62%\",\"0.15%\",\"angry\"],[\"92.60%\",\"0.01%\",\"0.00%\",\"2.17%\",\"0.06%\",\"5.17%\",\"angry\"],[\"99.13%\",\"0.06%\",\"0.00%\",\"0.62%\",\"0.04%\",\"0.14%\",\"angry\"],[\"88.49%\",\"0.02%\",\"0.00%\",\"8.00%\",\"1.19%\",\"2.30%\",\"angry\"],[\"84.07%\",\"5.10%\",\"0.76%\",\"5.29%\",\"3.47%\",\"1.31%\",\"angry\"],[\"99.99%\",\"0.00%\",\"0.00%\",\"0.01%\",\"0.00%\",\"0.00%\",\"angry\"],[\"56.43%\",\"19.91%\",\"1.00%\",\"0.79%\",\"21.64%\",\"0.23%\",\"angry\"],[\"70.36%\",\"0.02%\",\"0.00%\",\"0.41%\",\"12.11%\",\"17.11%\",\"angry\"],[\"98.77%\",\"0.56%\",\"0.03%\",\"0.31%\",\"0.29%\",\"0.04%\",\"angry\"],[\"90.92%\",\"0.03%\",\"0.00%\",\"7.80%\",\"0.63%\",\"0.61%\",\"angry\"],[\"99.13%\",\"0.01%\",\"0.00%\",\"0.71%\",\"0.10%\",\"0.04%\",\"angry\"],[\"71.19%\",\"1.99%\",\"0.16%\",\"1.56%\",\"24.10%\",\"1.01%\",\"angry\"],[\"76.17%\",\"9.52%\",\"1.97%\",\"2.52%\",\"9.08%\",\"0.73%\",\"angry\"],[\"99.88%\",\"0.00%\",\"0.00%\",\"0.07%\",\"0.02%\",\"0.03%\",\"angry\"],[\"98.84%\",\"0.01%\",\"0.00%\",\"1.07%\",\"0.05%\",\"0.04%\",\"angry\"],[\"99.98%\",\"0.00%\",\"0.00%\",\"0.00%\",\"0.01%\",\"0.00%\",\"angry\"],[\"76.86%\",\"0.15%\",\"0.07%\",\"14.17%\",\"4.30%\",\"4.46%\",\"angry\"],[\"92.30%\",\"0.00%\",\"0.00%\",\"7.65%\",\"0.02%\",\"0.03%\",\"angry\"],[\"98.22%\",\"0.04%\",\"0.00%\",\"1.13%\",\"0.57%\",\"0.03%\",\"angry\"],[\"99.87%\",\"0.00%\",\"0.00%\",\"0.11%\",\"0.01%\",\"0.00%\",\"angry\"],[\"99.98%\",\"0.00%\",\"0.00%\",\"0.01%\",\"0.00%\",\"0.00%\",\"angry\"],[\"39.70%\",\"0.48%\",\"0.16%\",\"23.06%\",\"2.02%\",\"34.57%\",\"angry\"],[\"78.08%\",\"9.71%\",\"0.33%\",\"4.16%\",\"4.78%\",\"2.93%\",\"angry\"],[\"92.79%\",\"0.04%\",\"0.00%\",\"5.01%\",\"0.10%\",\"2.06%\",\"angry\"],[\"89.87%\",\"0.01%\",\"0.02%\",\"10.01%\",\"0.06%\",\"0.04%\",\"angry\"],[\"97.71%\",\"0.02%\",\"0.00%\",\"1.69%\",\"0.04%\",\"0.54%\",\"angry\"]],\"hovertemplate\":\"Predictions=angry\\u003cbr\\u003eCorrect=True\\u003cbr\\u003ex=%{x}\\u003cbr\\u003ey=%{y}\\u003cbr\\u003eangry=%{customdata[0]}\\u003cbr\\u003edisgusted=%{customdata[1]}\\u003cbr\\u003ehappy=%{customdata[2]}\\u003cbr\\u003eneutral=%{customdata[3]}\\u003cbr\\u003esad=%{customdata[4]}\\u003cbr\\u003esurprised=%{customdata[5]}\\u003cbr\\u003eLabel=%{customdata[6]}\\u003cextra\\u003e\\u003c\\u002fextra\\u003e\",\"legendgroup\":\"angry, True\",\"marker\":{\"color\":\"#636EFA\",\"symbol\":\"circle\"},\"mode\":\"markers\",\"name\":\"angry, True\",\"orientation\":\"v\",\"showlegend\":true,\"x\":[-12.910361289978027,-12.398392677307129,-13.027711868286133,-12.794645309448242,-12.360753059387207,-12.805376052856445,-11.988890647888184,-11.736889839172363,-13.069358825683594,-9.641969680786133,-10.681745529174805,-12.818726539611816,-12.143173217773438,-12.801835060119629,-10.517393112182617,-11.193742752075195,-13.033045768737793,-12.760497093200684,-13.06791877746582,-11.233430862426758,-12.234550476074219,-12.738166809082031,-12.997232437133789,-13.029775619506836,-3.5497400760650635,-11.342994689941406,-12.305975914001465,-12.055000305175781,-12.641789436340332],\"xaxis\":\"x\",\"y\":[-0.47070959210395813,-0.5693034529685974,0.08359716087579727,-0.5000532269477844,-0.41037267446517944,0.2708386778831482,-0.03185110539197922,-0.3822997510433197,-0.24335764348506927,-1.150428295135498,-0.5376168489456177,-0.49409472942352295,0.0758787989616394,0.27233409881591797,-0.9886599183082581,-0.6355651617050171,-0.3210754990577698,0.2769519090652466,-0.24378086626529694,-0.06824082881212234,0.1872217357158661,-0.48239246010780334,0.11674538999795914,0.079770028591156,7.825379371643066,-0.49546170234680176,-0.06762900948524475,0.19197340309619904,0.2559794783592224],\"yaxis\":\"y\",\"type\":\"scatter\"},{\"customdata\":[[\"52.54%\",\"1.08%\",\"0.05%\",\"0.29%\",\"45.79%\",\"0.23%\",\"sad\"],[\"61.23%\",\"0.33%\",\"0.08%\",\"19.93%\",\"0.56%\",\"17.87%\",\"neutral\"],[\"62.67%\",\"0.00%\",\"0.00%\",\"0.03%\",\"36.32%\",\"0.98%\",\"surprised\"],[\"81.38%\",\"0.19%\",\"0.03%\",\"10.85%\",\"0.33%\",\"7.22%\",\"sad\"],[\"85.00%\",\"0.08%\",\"0.06%\",\"14.09%\",\"0.52%\",\"0.25%\",\"neutral\"],[\"30.03%\",\"5.76%\",\"19.37%\",\"20.87%\",\"11.77%\",\"12.20%\",\"happy\"],[\"81.52%\",\"3.86%\",\"0.31%\",\"0.41%\",\"13.74%\",\"0.15%\",\"sad\"],[\"45.82%\",\"17.81%\",\"3.72%\",\"15.40%\",\"11.37%\",\"5.87%\",\"disgusted\"],[\"88.40%\",\"2.93%\",\"0.61%\",\"3.60%\",\"3.94%\",\"0.51%\",\"disgusted\"],[\"72.21%\",\"8.32%\",\"0.87%\",\"6.03%\",\"10.19%\",\"2.38%\",\"sad\"],[\"40.75%\",\"7.21%\",\"8.87%\",\"2.60%\",\"39.68%\",\"0.90%\",\"happy\"]],\"hovertemplate\":\"Predictions=angry\\u003cbr\\u003eCorrect=False\\u003cbr\\u003ex=%{x}\\u003cbr\\u003ey=%{y}\\u003cbr\\u003eangry=%{customdata[0]}\\u003cbr\\u003edisgusted=%{customdata[1]}\\u003cbr\\u003ehappy=%{customdata[2]}\\u003cbr\\u003eneutral=%{customdata[3]}\\u003cbr\\u003esad=%{customdata[4]}\\u003cbr\\u003esurprised=%{customdata[5]}\\u003cbr\\u003eLabel=%{customdata[6]}\\u003cextra\\u003e\\u003c\\u002fextra\\u003e\",\"legendgroup\":\"angry, False\",\"marker\":{\"color\":\"#636EFA\",\"symbol\":\"x\"},\"mode\":\"markers\",\"name\":\"angry, False\",\"orientation\":\"v\",\"showlegend\":true,\"x\":[-7.802242279052734,-10.346671104431152,-9.375767707824707,-11.50350570678711,-11.718343734741211,-3.3374998569488525,-11.443477630615234,-9.434165000915527,-12.0513277053833,-10.947524070739746,-7.341686248779297],\"xaxis\":\"x\",\"y\":[-2.7433366775512695,0.019595719873905182,-1.6648205518722534,0.03308049589395523,0.19395431876182556,7.49958610534668,-0.7344153523445129,-0.7870309352874756,-0.4257439374923706,-0.6015839576721191,-2.9229302406311035],\"yaxis\":\"y\",\"type\":\"scatter\"}],                        {\"template\":{\"data\":{\"histogram2dcontour\":[{\"type\":\"histogram2dcontour\",\"colorbar\":{\"outlinewidth\":0,\"ticks\":\"\"},\"colorscale\":[[0.0,\"#0d0887\"],[0.1111111111111111,\"#46039f\"],[0.2222222222222222,\"#7201a8\"],[0.3333333333333333,\"#9c179e\"],[0.4444444444444444,\"#bd3786\"],[0.5555555555555556,\"#d8576b\"],[0.6666666666666666,\"#ed7953\"],[0.7777777777777778,\"#fb9f3a\"],[0.8888888888888888,\"#fdca26\"],[1.0,\"#f0f921\"]]}],\"choropleth\":[{\"type\":\"choropleth\",\"colorbar\":{\"outlinewidth\":0,\"ticks\":\"\"}}],\"histogram2d\":[{\"type\":\"histogram2d\",\"colorbar\":{\"outlinewidth\":0,\"ticks\":\"\"},\"colorscale\":[[0.0,\"#0d0887\"],[0.1111111111111111,\"#46039f\"],[0.2222222222222222,\"#7201a8\"],[0.3333333333333333,\"#9c179e\"],[0.4444444444444444,\"#bd3786\"],[0.5555555555555556,\"#d8576b\"],[0.6666666666666666,\"#ed7953\"],[0.7777777777777778,\"#fb9f3a\"],[0.8888888888888888,\"#fdca26\"],[1.0,\"#f0f921\"]]}],\"heatmap\":[{\"type\":\"heatmap\",\"colorbar\":{\"outlinewidth\":0,\"ticks\":\"\"},\"colorscale\":[[0.0,\"#0d0887\"],[0.1111111111111111,\"#46039f\"],[0.2222222222222222,\"#7201a8\"],[0.3333333333333333,\"#9c179e\"],[0.4444444444444444,\"#bd3786\"],[0.5555555555555556,\"#d8576b\"],[0.6666666666666666,\"#ed7953\"],[0.7777777777777778,\"#fb9f3a\"],[0.8888888888888888,\"#fdca26\"],[1.0,\"#f0f921\"]]}],\"heatmapgl\":[{\"type\":\"heatmapgl\",\"colorbar\":{\"outlinewidth\":0,\"ticks\":\"\"},\"colorscale\":[[0.0,\"#0d0887\"],[0.1111111111111111,\"#46039f\"],[0.2222222222222222,\"#7201a8\"],[0.3333333333333333,\"#9c179e\"],[0.4444444444444444,\"#bd3786\"],[0.5555555555555556,\"#d8576b\"],[0.6666666666666666,\"#ed7953\"],[0.7777777777777778,\"#fb9f3a\"],[0.8888888888888888,\"#fdca26\"],[1.0,\"#f0f921\"]]}],\"contourcarpet\":[{\"type\":\"contourcarpet\",\"colorbar\":{\"outlinewidth\":0,\"ticks\":\"\"}}],\"contour\":[{\"type\":\"contour\",\"colorbar\":{\"outlinewidth\":0,\"ticks\":\"\"},\"colorscale\":[[0.0,\"#0d0887\"],[0.1111111111111111,\"#46039f\"],[0.2222222222222222,\"#7201a8\"],[0.3333333333333333,\"#9c179e\"],[0.4444444444444444,\"#bd3786\"],[0.5555555555555556,\"#d8576b\"],[0.6666666666666666,\"#ed7953\"],[0.7777777777777778,\"#fb9f3a\"],[0.8888888888888888,\"#fdca26\"],[1.0,\"#f0f921\"]]}],\"surface\":[{\"type\":\"surface\",\"colorbar\":{\"outlinewidth\":0,\"ticks\":\"\"},\"colorscale\":[[0.0,\"#0d0887\"],[0.1111111111111111,\"#46039f\"],[0.2222222222222222,\"#7201a8\"],[0.3333333333333333,\"#9c179e\"],[0.4444444444444444,\"#bd3786\"],[0.5555555555555556,\"#d8576b\"],[0.6666666666666666,\"#ed7953\"],[0.7777777777777778,\"#fb9f3a\"],[0.8888888888888888,\"#fdca26\"],[1.0,\"#f0f921\"]]}],\"mesh3d\":[{\"type\":\"mesh3d\",\"colorbar\":{\"outlinewidth\":0,\"ticks\":\"\"}}],\"scatter\":[{\"fillpattern\":{\"fillmode\":\"overlay\",\"size\":10,\"solidity\":0.2},\"type\":\"scatter\"}],\"parcoords\":[{\"type\":\"parcoords\",\"line\":{\"colorbar\":{\"outlinewidth\":0,\"ticks\":\"\"}}}],\"scatterpolargl\":[{\"type\":\"scatterpolargl\",\"marker\":{\"colorbar\":{\"outlinewidth\":0,\"ticks\":\"\"}}}],\"bar\":[{\"error_x\":{\"color\":\"#2a3f5f\"},\"error_y\":{\"color\":\"#2a3f5f\"},\"marker\":{\"line\":{\"color\":\"#E5ECF6\",\"width\":0.5},\"pattern\":{\"fillmode\":\"overlay\",\"size\":10,\"solidity\":0.2}},\"type\":\"bar\"}],\"scattergeo\":[{\"type\":\"scattergeo\",\"marker\":{\"colorbar\":{\"outlinewidth\":0,\"ticks\":\"\"}}}],\"scatterpolar\":[{\"type\":\"scatterpolar\",\"marker\":{\"colorbar\":{\"outlinewidth\":0,\"ticks\":\"\"}}}],\"histogram\":[{\"marker\":{\"pattern\":{\"fillmode\":\"overlay\",\"size\":10,\"solidity\":0.2}},\"type\":\"histogram\"}],\"scattergl\":[{\"type\":\"scattergl\",\"marker\":{\"colorbar\":{\"outlinewidth\":0,\"ticks\":\"\"}}}],\"scatter3d\":[{\"type\":\"scatter3d\",\"line\":{\"colorbar\":{\"outlinewidth\":0,\"ticks\":\"\"}},\"marker\":{\"colorbar\":{\"outlinewidth\":0,\"ticks\":\"\"}}}],\"scattermapbox\":[{\"type\":\"scattermapbox\",\"marker\":{\"colorbar\":{\"outlinewidth\":0,\"ticks\":\"\"}}}],\"scatterternary\":[{\"type\":\"scatterternary\",\"marker\":{\"colorbar\":{\"outlinewidth\":0,\"ticks\":\"\"}}}],\"scattercarpet\":[{\"type\":\"scattercarpet\",\"marker\":{\"colorbar\":{\"outlinewidth\":0,\"ticks\":\"\"}}}],\"carpet\":[{\"aaxis\":{\"endlinecolor\":\"#2a3f5f\",\"gridcolor\":\"white\",\"linecolor\":\"white\",\"minorgridcolor\":\"white\",\"startlinecolor\":\"#2a3f5f\"},\"baxis\":{\"endlinecolor\":\"#2a3f5f\",\"gridcolor\":\"white\",\"linecolor\":\"white\",\"minorgridcolor\":\"white\",\"startlinecolor\":\"#2a3f5f\"},\"type\":\"carpet\"}],\"table\":[{\"cells\":{\"fill\":{\"color\":\"#EBF0F8\"},\"line\":{\"color\":\"white\"}},\"header\":{\"fill\":{\"color\":\"#C8D4E3\"},\"line\":{\"color\":\"white\"}},\"type\":\"table\"}],\"barpolar\":[{\"marker\":{\"line\":{\"color\":\"#E5ECF6\",\"width\":0.5},\"pattern\":{\"fillmode\":\"overlay\",\"size\":10,\"solidity\":0.2}},\"type\":\"barpolar\"}],\"pie\":[{\"automargin\":true,\"type\":\"pie\"}]},\"layout\":{\"autotypenumbers\":\"strict\",\"colorway\":[\"#636efa\",\"#EF553B\",\"#00cc96\",\"#ab63fa\",\"#FFA15A\",\"#19d3f3\",\"#FF6692\",\"#B6E880\",\"#FF97FF\",\"#FECB52\"],\"font\":{\"color\":\"#2a3f5f\"},\"hovermode\":\"closest\",\"hoverlabel\":{\"align\":\"left\"},\"paper_bgcolor\":\"white\",\"plot_bgcolor\":\"#E5ECF6\",\"polar\":{\"bgcolor\":\"#E5ECF6\",\"angularaxis\":{\"gridcolor\":\"white\",\"linecolor\":\"white\",\"ticks\":\"\"},\"radialaxis\":{\"gridcolor\":\"white\",\"linecolor\":\"white\",\"ticks\":\"\"}},\"ternary\":{\"bgcolor\":\"#E5ECF6\",\"aaxis\":{\"gridcolor\":\"white\",\"linecolor\":\"white\",\"ticks\":\"\"},\"baxis\":{\"gridcolor\":\"white\",\"linecolor\":\"white\",\"ticks\":\"\"},\"caxis\":{\"gridcolor\":\"white\",\"linecolor\":\"white\",\"ticks\":\"\"}},\"coloraxis\":{\"colorbar\":{\"outlinewidth\":0,\"ticks\":\"\"}},\"colorscale\":{\"sequential\":[[0.0,\"#0d0887\"],[0.1111111111111111,\"#46039f\"],[0.2222222222222222,\"#7201a8\"],[0.3333333333333333,\"#9c179e\"],[0.4444444444444444,\"#bd3786\"],[0.5555555555555556,\"#d8576b\"],[0.6666666666666666,\"#ed7953\"],[0.7777777777777778,\"#fb9f3a\"],[0.8888888888888888,\"#fdca26\"],[1.0,\"#f0f921\"]],\"sequentialminus\":[[0.0,\"#0d0887\"],[0.1111111111111111,\"#46039f\"],[0.2222222222222222,\"#7201a8\"],[0.3333333333333333,\"#9c179e\"],[0.4444444444444444,\"#bd3786\"],[0.5555555555555556,\"#d8576b\"],[0.6666666666666666,\"#ed7953\"],[0.7777777777777778,\"#fb9f3a\"],[0.8888888888888888,\"#fdca26\"],[1.0,\"#f0f921\"]],\"diverging\":[[0,\"#8e0152\"],[0.1,\"#c51b7d\"],[0.2,\"#de77ae\"],[0.3,\"#f1b6da\"],[0.4,\"#fde0ef\"],[0.5,\"#f7f7f7\"],[0.6,\"#e6f5d0\"],[0.7,\"#b8e186\"],[0.8,\"#7fbc41\"],[0.9,\"#4d9221\"],[1,\"#276419\"]]},\"xaxis\":{\"gridcolor\":\"white\",\"linecolor\":\"white\",\"ticks\":\"\",\"title\":{\"standoff\":15},\"zerolinecolor\":\"white\",\"automargin\":true,\"zerolinewidth\":2},\"yaxis\":{\"gridcolor\":\"white\",\"linecolor\":\"white\",\"ticks\":\"\",\"title\":{\"standoff\":15},\"zerolinecolor\":\"white\",\"automargin\":true,\"zerolinewidth\":2},\"scene\":{\"xaxis\":{\"backgroundcolor\":\"#E5ECF6\",\"gridcolor\":\"white\",\"linecolor\":\"white\",\"showbackground\":true,\"ticks\":\"\",\"zerolinecolor\":\"white\",\"gridwidth\":2},\"yaxis\":{\"backgroundcolor\":\"#E5ECF6\",\"gridcolor\":\"white\",\"linecolor\":\"white\",\"showbackground\":true,\"ticks\":\"\",\"zerolinecolor\":\"white\",\"gridwidth\":2},\"zaxis\":{\"backgroundcolor\":\"#E5ECF6\",\"gridcolor\":\"white\",\"linecolor\":\"white\",\"showbackground\":true,\"ticks\":\"\",\"zerolinecolor\":\"white\",\"gridwidth\":2}},\"shapedefaults\":{\"line\":{\"color\":\"#2a3f5f\"}},\"annotationdefaults\":{\"arrowcolor\":\"#2a3f5f\",\"arrowhead\":0,\"arrowwidth\":1},\"geo\":{\"bgcolor\":\"white\",\"landcolor\":\"#E5ECF6\",\"subunitcolor\":\"white\",\"showland\":true,\"showlakes\":true,\"lakecolor\":\"white\"},\"title\":{\"x\":0.05},\"mapbox\":{\"style\":\"light\"}}},\"xaxis\":{\"anchor\":\"y\",\"domain\":[0.0,1.0],\"title\":{\"text\":\"x\"}},\"yaxis\":{\"anchor\":\"x\",\"domain\":[0.0,1.0],\"title\":{\"text\":\"y\"}},\"legend\":{\"tracegroupgap\":0},\"margin\":{\"t\":60}},                        {\"responsive\": true}                    ).then(function(){\n",
       "                            \n",
       "var gd = document.getElementById('f8d0ce96-1a73-48aa-a585-840f6df20931');\n",
       "var x = new MutationObserver(function (mutations, observer) {{\n",
       "        var display = window.getComputedStyle(gd).display;\n",
       "        if (!display || display === 'none') {{\n",
       "            console.log([gd, 'removed!']);\n",
       "            Plotly.purge(gd);\n",
       "            observer.disconnect();\n",
       "        }}\n",
       "}});\n",
       "\n",
       "// Listen for the removal of the full notebook cells\n",
       "var notebookContainer = gd.closest('#notebook-container');\n",
       "if (notebookContainer) {{\n",
       "    x.observe(notebookContainer, {childList: true});\n",
       "}}\n",
       "\n",
       "// Listen for the clearing of the current output cell\n",
       "var outputEl = gd.closest('.output');\n",
       "if (outputEl) {{\n",
       "    x.observe(outputEl, {childList: true});\n",
       "}}\n",
       "\n",
       "                        })                };                });            </script>        </div>"
      ]
     },
     "metadata": {},
     "output_type": "display_data"
    }
   ],
   "source": [
    "tsne_confidences = sklearn.manifold.TSNE()\n",
    "confidences_points = tsne_confidences.fit_transform(confidences)\n",
    "\n",
    "confidences_points_df = pd.DataFrame(confidences_points, columns=[\"x\", \"y\"])\n",
    "percentagify = np.vectorize(lambda x: f\"{x*100:.2f}%\")\n",
    "confidences_df = pd.DataFrame(percentagify(confidences), columns=CLASS_NAMES)\n",
    "confidences_df[\"Max Confidence\"] = confidences.max(axis=1)\n",
    "visdf = pd.concat([confidences_points_df, confidences_df, predictions_series, labels_series, correct_state], axis=1)\n",
    "\n",
    "\n",
    "\n",
    "fig = px.scatter(visdf, x=\"x\", y=\"y\", color=\"Predictions\", symbol=\"Correct\", symbol_map=symbol_map, color_discrete_map=discrete_color_map, hover_data=[*CLASS_NAMES, \"Label\"])\n",
    "fig2 = px.scatter(visdf, x=\"x\", y=\"y\", color=\"Label\", opacity=0.2, color_discrete_map=discrete_color_map)\n",
    "fig3 = px.density_contour(visdf, x=\"x\", y=\"y\")\n",
    "fig2.update_traces(dict(\n",
    "  marker=dict(\n",
    "    size=12,\n",
    "  ),\n",
    "  hoverinfo=\"skip\",\n",
    "  hovertemplate=None,\n",
    "  showlegend=False\n",
    "))\n",
    "fig3.update_traces(dict(\n",
    "  hoverinfo=\"skip\",\n",
    "  hovertemplate=None\n",
    "))\n",
    "\n",
    "fig3.add_traces(fig2.data)\n",
    "fig3.add_traces(fig.data)\n",
    "fig3.show()"
   ]
  },
  {
   "cell_type": "code",
   "execution_count": 488,
   "metadata": {},
   "outputs": [],
   "source": [
    "model.save(EXPRESSION_RECOGNITION_MODEL_PATH)"
   ]
  }
 ],
 "metadata": {
  "kernelspec": {
   "display_name": "Venv",
   "language": "python",
   "name": "python3"
  },
  "language_info": {
   "codemirror_mode": {
    "name": "ipython",
    "version": 3
   },
   "file_extension": ".py",
   "mimetype": "text/x-python",
   "name": "python",
   "nbconvert_exporter": "python",
   "pygments_lexer": "ipython3",
   "version": "3.11.3"
  }
 },
 "nbformat": 4,
 "nbformat_minor": 2
}
