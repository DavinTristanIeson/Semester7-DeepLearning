{
 "cells": [
  {
   "cell_type": "code",
   "execution_count": 2,
   "metadata": {},
   "outputs": [],
   "source": [
    "import tensorflow as tf\n",
    "import keras\n",
    "import pandas as pd\n",
    "import matplotlib.pyplot as plt\n",
    "import numpy as np\n",
    "import numpy.typing as npt\n",
    "import sklearn.metrics\n",
    "import shutil\n",
    "import os\n",
    "import zipfile\n",
    "import urllib.request\n",
    "import cv2 as cv\n",
    "import tqdm\n",
    "from typing import Optional, Sequence, cast, ClassVar\n",
    "import scipy.spatial.distance\n",
    "import skimage.feature\n",
    "\n",
    "from dataclasses import dataclass\n",
    "from standalone_preprocessing_library import *"
   ]
  },
  {
   "cell_type": "markdown",
   "metadata": {},
   "source": [
    "Various constants"
   ]
  },
  {
   "cell_type": "code",
   "execution_count": 3,
   "metadata": {},
   "outputs": [],
   "source": [
    "DATA_DIR_PATH = \"data\"\n",
    "DATASET_PATH = \"dataset.zip\"\n",
    "TRAINING_DATA_CSV_PATH = os.path.join(DATA_DIR_PATH, \"data.csv\")\n",
    "\n",
    "MODEL_DIR_PATH = \"models\"\n",
    "EXPRESSION_RECOGNITION_MODEL_PATH = os.path.join(MODEL_DIR_PATH, \"expression_recognition.keras\")\n",
    "LBFMODEL_PATH = os.path.join(MODEL_DIR_PATH, \"lbfmodel.yaml\")\n",
    "CASCADE_CLASSIFIER_PATH = os.path.join(MODEL_DIR_PATH, \"haarcascade_frontalface_default.xml\")\n",
    "\n",
    "STANDARD_DIMENSIONS = Dimension(240, 240)\n",
    "FACE_DIMENSIONS = Dimension(120, 120)\n",
    "PREVIEW_DIMENSIONS = Dimension(500, 500)\n",
    "\n",
    "LBP_HISTOGRAM_BIN_COUNT = 8\n",
    "LBP_GRID_SIZE = (8,8)"
   ]
  },
  {
   "cell_type": "code",
   "execution_count": 4,
   "metadata": {},
   "outputs": [],
   "source": [
    "class SupportedFacialExpressionLabels:\n",
    "  Ours = [\"angry\", \"disgusted\", \"happy\", \"neutral\", \"sad\", \"surprised\"]\n",
    "  Fer2013 = [\"angry\", \"disgust\", \"fear\", \"happy\", \"neutral\", \"sad\", \"surprise\"] \n",
    "  CkPlus = [\"Anger\", \"Disgust\", \"Fear\", \"Happiness\", \"Sadness\", \"Surprise\", \"Neutral\", \"Contempt\"]\n",
    "\n",
    "CLASS_NAMES = SupportedFacialExpressionLabels.Ours"
   ]
  },
  {
   "cell_type": "markdown",
   "metadata": {},
   "source": [
    "Utility functions"
   ]
  },
  {
   "cell_type": "code",
   "execution_count": 5,
   "metadata": {},
   "outputs": [],
   "source": [
    "def get_files_in_folder(basepath: str)->list[str]:\n",
    "  if not os.path.exists(basepath):\n",
    "    return []\n",
    "  file_paths = [os.path.join(basepath, filename) for filename in os.listdir(basepath)]\n",
    "  return [path for path in file_paths if os.path.isfile(path)]\n",
    "\n",
    "def partition_grid(self, rows: int, cols: int)->list[\"Rectangle\"]:\n",
    "  row_delta = int(self.width / rows)\n",
    "  col_delta = int(self.height / cols)\n",
    "  rects: list[\"Rectangle\"] = []\n",
    "  for row in range(rows):\n",
    "    for col in range(cols):\n",
    "      row_start = row * row_delta\n",
    "      col_start = col * col_delta\n",
    "      rect = Rectangle(col_start, row_start, col_start + col_delta, row_start + row_delta)\n",
    "      rects.append(rect)\n",
    "  return rects\n",
    "\n",
    "@dataclass\n",
    "class FaceLandmark:\n",
    "  face_shape: npt.NDArray\n",
    "  eyes: npt.NDArray\n",
    "  eyebrows: npt.NDArray\n",
    "  nose: npt.NDArray\n",
    "  lips: npt.NDArray\n",
    "  dims: Dimension\n",
    "\n",
    "  @property\n",
    "  def feature_points(self)->npt.NDArray:\n",
    "    return np.vstack([self.eyes, self.eyebrows, self.nose, self.lips])\n",
    "\n",
    "  def as_feature_vector(self)->npt.NDArray:\n",
    "    # https://arxiv.org/pdf/1812.04510\n",
    "    # 17 points are dedicated for the shape of the face, which we don't really need.\n",
    "    normalized_points = self.feature_points / np.array((self.dims.width, self.dims.height))\n",
    "    interdistance_map = scipy.spatial.distance.cdist(normalized_points, normalized_points, \"euclidean\").flatten()\n",
    "    # All diagonal values are excluded\n",
    "    excluded_points = np.eye(len(self.feature_points)).flatten() == 1\n",
    "\n",
    "    # Square the interdistance map to make larger differences more prominent\n",
    "    interdistance_map = np.power(interdistance_map[~excluded_points], 2)\n",
    "\n",
    "    # Also calculate the distance to the average point in the face\n",
    "    average_point = normalized_points.mean(axis=0)\n",
    "    distances_to_center = scipy.spatial.distance.cdist(np.array([average_point]), normalized_points, \"euclidean\")[0]\n",
    "\n",
    "    feature_vector = np.hstack((interdistance_map, distances_to_center))\n",
    "\n",
    "    return feature_vector\n",
    "\n",
    "\n",
    "  EYE_COLOR: ClassVar[tuple[int, int, int]] = (0, 0, 255)\n",
    "  LIP_COLOR: ClassVar[tuple[int, int, int]] = (0, 255, 0)\n",
    "  NOSE_COLOR: ClassVar[tuple[int, int, int]] = (255, 0, 0)\n",
    "  FACE_SHAPE_COLOR: ClassVar[tuple[int, int, int]] = (255, 255, 0)\n",
    "  EYEBROW_COLOR: ClassVar[tuple[int, int, int]] = (0, 255, 255)\n",
    "\n",
    "  def project_point(self, point: npt.NDArray, rect: Optional[Rectangle] = None)->Sequence[int]:\n",
    "    if rect is None:\n",
    "      return cast(Sequence[int], point.astype(np.int32))\n",
    "    projected_point = point * rect.dimensions.ndarray / self.dims.ndarray\n",
    "    return cast(Sequence[int], (projected_point + rect.p0.ndarray).astype(np.int32))\n",
    "  \n",
    "  def draw_on(self, img: cv.typing.MatLike, *, offset: Optional[Rectangle] = None):\n",
    "    for point in self.eyes:\n",
    "      cv.circle(img, self.project_point(point, offset), 1, self.EYE_COLOR, -1)\n",
    "    for point in self.lips:\n",
    "      cv.circle(img, self.project_point(point, offset), 1, self.LIP_COLOR, -1)\n",
    "    for point in self.nose:\n",
    "      cv.circle(img, self.project_point(point, offset), 1, self.NOSE_COLOR, -1)\n",
    "    for point in self.face_shape:\n",
    "      cv.circle(img, self.project_point(point, offset), 1, self.FACE_SHAPE_COLOR, -1)\n",
    "    for point in self.eyebrows:\n",
    "      cv.circle(img, self.project_point(point, offset), 1, self.EYEBROW_COLOR, -1)\n",
    "\n",
    "  @staticmethod\n",
    "  def from_raw_landmark(points: npt.NDArray, dims: Dimension):\n",
    "    return FaceLandmark(\n",
    "      face_shape=points[:17],\n",
    "      eyebrows=points[17:27],\n",
    "      nose=points[27:36],\n",
    "      eyes=points[36:48],\n",
    "      lips=points[48:],\n",
    "      dims=dims\n",
    "    )\n",
    "  \n",
    "def face_alignment(img: cv.typing.MatLike, landmark: FaceLandmark):\n",
    "  # https://pyimagesearch.com/2017/05/22/face-alignment-with-opencv-and-python/\n",
    "  dims = Dimension.from_shape(img.shape)\n",
    "  desired_left_eye = Point(int(dims.width * 0.22), int(dims.height * 0.25))\n",
    "  desired_right_eye_x = FACE_DIMENSIONS.width - desired_left_eye.x\n",
    "\n",
    "  left_eye_avg = landmark.eyes[0:6].mean(axis=0)\n",
    "  right_eye_avg = landmark.eyes[6:].mean(axis=0)\n",
    "\n",
    "  delta = right_eye_avg - left_eye_avg\n",
    "  angle = np.degrees(np.arctan2(delta[1], delta[0]))\n",
    "\n",
    "  dist = np.sqrt(delta[0] ** 2 + delta[1] ** 2)\n",
    "  desired_dist = desired_right_eye_x - desired_left_eye.x\n",
    "  scale = desired_dist / dist\n",
    "\n",
    "  eyes_center = np.array([left_eye_avg, right_eye_avg]).mean(axis=0)\n",
    "  rotation_matrix = cv.getRotationMatrix2D(eyes_center, angle, scale)\n",
    "\n",
    "  translation_x = FACE_DIMENSIONS.width * 0.5\n",
    "  translation_y = desired_left_eye.y\n",
    "  rotation_matrix[0, 2] += (translation_x - eyes_center[0])\n",
    "  rotation_matrix[1, 2] += (translation_y - eyes_center[1])\n",
    "\n",
    "  img = cv.warpAffine(img, rotation_matrix, FACE_DIMENSIONS.tuple, flags=cv.INTER_CUBIC)\n",
    "\n",
    "  return img\n"
   ]
  },
  {
   "cell_type": "markdown",
   "metadata": {},
   "source": [
    "Load various preprocessing models"
   ]
  },
  {
   "cell_type": "code",
   "execution_count": 6,
   "metadata": {},
   "outputs": [],
   "source": [
    "# https://medium.com/analytics-vidhya/facial-landmarks-and-face-detection-in-python-with-opencv-73979391f30e\n",
    "LBFMODEL_URL = \"https://github.com/kurnianggoro/GSOC2017/raw/master/data/lbfmodel.yaml\"\n",
    "if not os.path.exists(LBFMODEL_PATH):\n",
    "  print(f\"Cannot find any LBFmodel installation. Installing from {LBFMODEL_URL} to {LBFMODEL_PATH}\")\n",
    "  urllib.request.urlretrieve(LBFMODEL_URL, LBFMODEL_PATH)\n",
    "landmark_model = cv.face.createFacemarkLBF()\n",
    "landmark_model.loadModel(LBFMODEL_PATH)"
   ]
  },
  {
   "cell_type": "code",
   "execution_count": 7,
   "metadata": {},
   "outputs": [],
   "source": [
    "CASCADE_CLASSIFIER_URL = \"https://raw.githubusercontent.com/opencv/opencv/refs/heads/4.x/data/haarcascades/haarcascade_frontalface_default.xml\"\n",
    "if not os.path.exists(CASCADE_CLASSIFIER_PATH):\n",
    "  urllib.request.urlretrieve(CASCADE_CLASSIFIER_URL, CASCADE_CLASSIFIER_PATH) \n",
    "locator_model = cv.CascadeClassifier(CASCADE_CLASSIFIER_PATH)\n",
    "locator_model.load(CASCADE_CLASSIFIER_PATH)\n",
    "\n",
    "clahe = cv.createCLAHE(tileGridSize=(8, 8), clipLimit=2.0)"
   ]
  },
  {
   "cell_type": "markdown",
   "metadata": {},
   "source": [
    "Dump the contents of the zip file into the data folder. You don't have to run this if this has been performed."
   ]
  },
  {
   "cell_type": "code",
   "execution_count": 8,
   "metadata": {},
   "outputs": [],
   "source": [
    "if (os.path.exists(DATA_DIR_PATH)):\n",
    "  shutil.rmtree(DATA_DIR_PATH)\n",
    "with zipfile.ZipFile(DATASET_PATH, 'r') as zip_ref:\n",
    "  zip_ref.extractall(DATA_DIR_PATH)"
   ]
  },
  {
   "cell_type": "markdown",
   "metadata": {},
   "source": [
    "List all folder contents"
   ]
  },
  {
   "cell_type": "code",
   "execution_count": 9,
   "metadata": {},
   "outputs": [],
   "source": [
    "@dataclass\n",
    "class TrainDataEntry:\n",
    "  path: str\n",
    "  label: int\n",
    "\n",
    "entries: list[TrainDataEntry] = []\n",
    "for folder in os.scandir(DATA_DIR_PATH):\n",
    "  if not folder.is_dir():\n",
    "    continue\n",
    "  try:\n",
    "    expression = CLASS_NAMES.index(folder.name)\n",
    "  except ValueError:\n",
    "    print(f\"Skipping the inclusion of {folder.name} in the dataset.\")\n",
    "    continue\n",
    "\n",
    "  entries.extend(map(\n",
    "    lambda fpath: TrainDataEntry(path=fpath, label=expression),\n",
    "    get_files_in_folder(folder.path)\n",
    "  ))"
   ]
  },
  {
   "cell_type": "markdown",
   "metadata": {},
   "source": [
    "Execute data preprocessing steps for our dataset"
   ]
  },
  {
   "cell_type": "code",
   "execution_count": 32,
   "metadata": {},
   "outputs": [
    {
     "name": "stderr",
     "output_type": "stream",
     "text": [
      "Building dataset from images:   1%|          | 3/412 [00:00<00:18, 21.82it/s]"
     ]
    },
    {
     "name": "stdout",
     "output_type": "stream",
     "text": [
      "\n",
      "Skipping data\\angry\\20240927_173906.jpg because no faces were found in the image.\n"
     ]
    },
    {
     "name": "stderr",
     "output_type": "stream",
     "text": [
      "Building dataset from images:   2%|▏         | 9/412 [00:00<00:20, 19.65it/s]"
     ]
    },
    {
     "name": "stdout",
     "output_type": "stream",
     "text": [
      "\n",
      "Skipping data\\angry\\20241008_180500.jpg because no faces were found in the image.\n",
      "\n",
      "Skipping data\\angry\\20241008_180548.jpg because no faces were found in the image.\n"
     ]
    },
    {
     "name": "stderr",
     "output_type": "stream",
     "text": [
      "Building dataset from images:   4%|▎         | 15/412 [00:00<00:17, 22.96it/s]"
     ]
    },
    {
     "name": "stdout",
     "output_type": "stream",
     "text": [
      "\n",
      "Skipping data\\angry\\20241008_180735.jpg because no faces were found in the image.\n",
      "\n",
      "Skipping data\\angry\\20241008_180740.jpg because no faces were found in the image.\n"
     ]
    },
    {
     "name": "stderr",
     "output_type": "stream",
     "text": [
      "Building dataset from images:  13%|█▎        | 55/412 [00:03<00:23, 14.98it/s]"
     ]
    },
    {
     "name": "stdout",
     "output_type": "stream",
     "text": [
      "\n",
      "Skipping data\\angry\\marah_4.jpg because no faces were found in the image.\n",
      "\n",
      "Skipping data\\angry\\marah_5.jpg because no faces were found in the image.\n",
      "\n",
      "Skipping data\\angry\\marah_7.jpg because no faces were found in the image.\n"
     ]
    },
    {
     "name": "stderr",
     "output_type": "stream",
     "text": [
      "Building dataset from images:  17%|█▋        | 70/412 [00:04<00:17, 19.78it/s]"
     ]
    },
    {
     "name": "stdout",
     "output_type": "stream",
     "text": [
      "\n",
      "Skipping data\\disgusted\\20241008_180238.jpg because no faces were found in the image.\n"
     ]
    },
    {
     "name": "stderr",
     "output_type": "stream",
     "text": [
      "Building dataset from images:  26%|██▌       | 107/412 [00:07<00:23, 13.17it/s]"
     ]
    },
    {
     "name": "stdout",
     "output_type": "stream",
     "text": [
      "\n",
      "Skipping data\\disgusted\\IMG_20241010_213941_9_11zon.jpg because no faces were found in the image.\n"
     ]
    },
    {
     "name": "stderr",
     "output_type": "stream",
     "text": [
      "Building dataset from images:  29%|██▊       | 118/412 [00:07<00:19, 15.07it/s]"
     ]
    },
    {
     "name": "stdout",
     "output_type": "stream",
     "text": [
      "\n",
      "Skipping data\\disgusted\\jijik_7.jpg because no faces were found in the image.\n"
     ]
    },
    {
     "name": "stderr",
     "output_type": "stream",
     "text": [
      "Building dataset from images:  31%|███▏      | 129/412 [00:08<00:15, 18.23it/s]"
     ]
    },
    {
     "name": "stdout",
     "output_type": "stream",
     "text": [
      "\n",
      "Skipping data\\disgusted\\WA_Disgusted_195915-min.jpg because no faces were found in the image.\n"
     ]
    },
    {
     "name": "stderr",
     "output_type": "stream",
     "text": [
      "Building dataset from images:  52%|█████▏    | 213/412 [00:15<00:14, 13.71it/s]"
     ]
    },
    {
     "name": "stdout",
     "output_type": "stream",
     "text": [
      "\n",
      "Skipping data\\happy\\senyum_4.jpg because no faces were found in the image.\n",
      "\n",
      "Skipping data\\happy\\senyum_5.jpg because no faces were found in the image.\n"
     ]
    },
    {
     "name": "stderr",
     "output_type": "stream",
     "text": [
      "Building dataset from images:  57%|█████▋    | 235/412 [00:16<00:11, 14.87it/s]"
     ]
    },
    {
     "name": "stdout",
     "output_type": "stream",
     "text": [
      "\n",
      "Skipping data\\neutral\\20240927_173857.jpg because no faces were found in the image.\n"
     ]
    },
    {
     "name": "stderr",
     "output_type": "stream",
     "text": [
      "Building dataset from images:  59%|█████▉    | 243/412 [00:17<00:09, 17.19it/s]"
     ]
    },
    {
     "name": "stdout",
     "output_type": "stream",
     "text": [
      "\n",
      "Skipping data\\neutral\\20241008_181350.jpg because no faces were found in the image.\n"
     ]
    },
    {
     "name": "stderr",
     "output_type": "stream",
     "text": [
      "Building dataset from images:  73%|███████▎  | 302/412 [00:21<00:05, 19.41it/s]"
     ]
    },
    {
     "name": "stdout",
     "output_type": "stream",
     "text": [
      "\n",
      "Skipping data\\neutral\\WhatsApp Image 2024-09-19 at 12.24.47 PM.jpg because no faces were found in the image.\n"
     ]
    },
    {
     "name": "stderr",
     "output_type": "stream",
     "text": [
      "Building dataset from images:  82%|████████▏ | 338/412 [00:23<00:05, 13.13it/s]"
     ]
    },
    {
     "name": "stdout",
     "output_type": "stream",
     "text": [
      "\n",
      "Skipping data\\sad\\sedih_5.jpg because no faces were found in the image.\n",
      "\n",
      "Skipping data\\sad\\sedih_7.jpg because no faces were found in the image.\n"
     ]
    },
    {
     "name": "stderr",
     "output_type": "stream",
     "text": [
      "Building dataset from images:  88%|████████▊ | 362/412 [00:25<00:02, 20.60it/s]"
     ]
    },
    {
     "name": "stdout",
     "output_type": "stream",
     "text": [
      "\n",
      "Skipping data\\surprised\\20241008_181307.jpg because no faces were found in the image.\n"
     ]
    },
    {
     "name": "stderr",
     "output_type": "stream",
     "text": [
      "Building dataset from images:  97%|█████████▋| 400/412 [00:27<00:00, 14.51it/s]"
     ]
    },
    {
     "name": "stdout",
     "output_type": "stream",
     "text": [
      "\n",
      "Skipping data\\surprised\\terkejut_4.jpg because no faces were found in the image.\n",
      "\n",
      "Skipping data\\surprised\\terkejut_5.jpg because no faces were found in the image.\n"
     ]
    },
    {
     "name": "stderr",
     "output_type": "stream",
     "text": [
      "Building dataset from images: 100%|██████████| 412/412 [00:28<00:00, 14.43it/s]\n"
     ]
    },
    {
     "name": "stdout",
     "output_type": "stream",
     "text": [
      "Skipped over 22 images because no faces were found in the images.\n"
     ]
    }
   ],
   "source": [
    "skipped = 0\n",
    "list_data: list[npt.NDArray] = []\n",
    "list_labels: list[int] = []\n",
    "for entry in tqdm.tqdm(entries, desc=\"Building dataset from images\"):\n",
    "  original = cv.imread(entry.path)\n",
    "  \n",
    "  # Preprocessing\n",
    "  img_resized = resize_image(original, STANDARD_DIMENSIONS)\n",
    "  img_grayscale = cv.cvtColor(img_resized, cv.COLOR_BGR2GRAY)\n",
    "  img_clahe = clahe.apply(img_grayscale)\n",
    "\n",
    "  # Extract face coordinates\n",
    "  face_coordinates = locator_model.detectMultiScale(img_clahe)\n",
    "  face_rects = list(Rectangle.from_tuple(coords) for coords in face_coordinates)\n",
    "  face_rects.sort(key=lambda x: x.area)\n",
    "  saved_face_rects: list[Rectangle] = []\n",
    "  # Prevent overlapping face rectangles\n",
    "  for face_rect_a in face_rects:\n",
    "    is_overlapping = False\n",
    "    for face_rect_b in saved_face_rects:\n",
    "      IOU = face_rect_a.intersection_with_union(face_rect_b)\n",
    "      if IOU > 0.4:\n",
    "        is_overlapping = True\n",
    "        break\n",
    "\n",
    "    if not is_overlapping:\n",
    "      saved_face_rects.append(face_rect_a)\n",
    "\n",
    "  # Get faces from original image\n",
    "  faces = list(\n",
    "    img_clahe[pos.slice]\n",
    "    for pos in face_rects\n",
    "  )\n",
    "\n",
    "  features: list[npt.NDArray] = []\n",
    "  for raw_face_img in faces:\n",
    "    # Additional preprocessing\n",
    "    face_resized = cv.resize(raw_face_img, FACE_DIMENSIONS.tuple, interpolation=cv.INTER_CUBIC)\n",
    "    face_blurred = cv.filter2D(face_resized, -1, GAUSSIAN_3X3_KERNEL)\n",
    "    face_preprocessed = cv.filter2D(face_blurred, -1, SHARPEN_KERNEL)\n",
    "\n",
    "    # Get face landmarks\n",
    "    _, raw_face_landmarks = landmark_model.fit(face_preprocessed, np.array(((0, 0, face_preprocessed.shape[0], face_preprocessed.shape[1]),)))\n",
    "    face_landmark_points: npt.NDArray = raw_face_landmarks[0][0]\n",
    "    face_landmark = FaceLandmark(\n",
    "      face_shape=face_landmark_points[:17],\n",
    "      eyebrows=face_landmark_points[17:27],\n",
    "      nose=face_landmark_points[27:36],\n",
    "      eyes=face_landmark_points[36:48],\n",
    "      lips=face_landmark_points[48:],\n",
    "      dims=Dimension.from_shape(face_preprocessed.shape)\n",
    "    )\n",
    "    face_dims = Dimension.from_shape(raw_face_img.shape)\n",
    "    face_landmark = FaceLandmark.from_raw_landmark(face_landmark_points, face_dims)\n",
    "    face_aligned = face_alignment(face_preprocessed, face_landmark)\n",
    "\n",
    "    # Split image to grids for LBP\n",
    "    lbp_grid_rects = partition_grid(face_dims, *LBP_GRID_SIZE)\n",
    "    histograms: list[npt.NDArray] = []\n",
    "\n",
    "    # Perform LBP\n",
    "    lbp_image: npt.NDArray = skimage.feature.local_binary_pattern(face_aligned, 8, 1)\n",
    "    for lbp_grid_rect in lbp_grid_rects:\n",
    "      chunk = lbp_image[lbp_grid_rect.slice]\n",
    "\n",
    "      if chunk.size == 0:\n",
    "        histograms.append(np.full((LBP_HISTOGRAM_BIN_COUNT,), 0))\n",
    "        continue\n",
    "      histograms.append(scipy.ndimage.histogram(chunk, 0, 255, LBP_HISTOGRAM_BIN_COUNT) / chunk.size)\n",
    "\n",
    "    feature_vector = np.hstack(histograms)\n",
    "    features.append(feature_vector)\n",
    "\n",
    "  if len(features) == 0:\n",
    "    print(f\"\\nSkipping {entry.path} because no faces were found in the image.\")\n",
    "    skipped += 1\n",
    "    continue\n",
    "  list_data.extend(features)\n",
    "  list_labels.extend([entry.label] * len(features))\n",
    "\n",
    "print(f\"Skipped over {skipped} images because no faces were found in the images.\")\n",
    "\n",
    "data = np.array(list_data)\n",
    "labels = np.array(list_labels).reshape((-1, 1))\n",
    "dfdata = np.hstack((labels, data))\n",
    "df = pd.DataFrame(dfdata, columns=[\n",
    "  \"label\",\n",
    "  *map(lambda idx: f'feature-{idx + 1}', range(data.shape[1])),\n",
    "])\n",
    "\n",
    "df.to_csv(TRAINING_DATA_CSV_PATH, index=False)"
   ]
  },
  {
   "cell_type": "markdown",
   "metadata": {},
   "source": [
    "Start training process"
   ]
  },
  {
   "cell_type": "code",
   "execution_count": 191,
   "metadata": {},
   "outputs": [
    {
     "data": {
      "text/html": [
       "<div>\n",
       "<style scoped>\n",
       "    .dataframe tbody tr th:only-of-type {\n",
       "        vertical-align: middle;\n",
       "    }\n",
       "\n",
       "    .dataframe tbody tr th {\n",
       "        vertical-align: top;\n",
       "    }\n",
       "\n",
       "    .dataframe thead th {\n",
       "        text-align: right;\n",
       "    }\n",
       "</style>\n",
       "<table border=\"1\" class=\"dataframe\">\n",
       "  <thead>\n",
       "    <tr style=\"text-align: right;\">\n",
       "      <th></th>\n",
       "      <th>feature-1</th>\n",
       "      <th>feature-2</th>\n",
       "      <th>feature-3</th>\n",
       "      <th>feature-4</th>\n",
       "      <th>feature-5</th>\n",
       "      <th>feature-6</th>\n",
       "      <th>feature-7</th>\n",
       "      <th>feature-8</th>\n",
       "      <th>feature-9</th>\n",
       "      <th>feature-10</th>\n",
       "      <th>...</th>\n",
       "      <th>feature-503</th>\n",
       "      <th>feature-504</th>\n",
       "      <th>feature-505</th>\n",
       "      <th>feature-506</th>\n",
       "      <th>feature-507</th>\n",
       "      <th>feature-508</th>\n",
       "      <th>feature-509</th>\n",
       "      <th>feature-510</th>\n",
       "      <th>feature-511</th>\n",
       "      <th>feature-512</th>\n",
       "    </tr>\n",
       "  </thead>\n",
       "  <tbody>\n",
       "    <tr>\n",
       "      <th>0</th>\n",
       "      <td>0.376731</td>\n",
       "      <td>0.041551</td>\n",
       "      <td>0.016620</td>\n",
       "      <td>0.058172</td>\n",
       "      <td>0.030471</td>\n",
       "      <td>0.000000</td>\n",
       "      <td>0.072022</td>\n",
       "      <td>0.404432</td>\n",
       "      <td>0.479224</td>\n",
       "      <td>0.008310</td>\n",
       "      <td>...</td>\n",
       "      <td>0.0</td>\n",
       "      <td>0.0</td>\n",
       "      <td>0.0</td>\n",
       "      <td>0.0</td>\n",
       "      <td>0.0</td>\n",
       "      <td>0.0</td>\n",
       "      <td>0.0</td>\n",
       "      <td>0.0</td>\n",
       "      <td>0.0</td>\n",
       "      <td>0.0</td>\n",
       "    </tr>\n",
       "    <tr>\n",
       "      <th>1</th>\n",
       "      <td>0.408163</td>\n",
       "      <td>0.090703</td>\n",
       "      <td>0.018141</td>\n",
       "      <td>0.083900</td>\n",
       "      <td>0.006803</td>\n",
       "      <td>0.002268</td>\n",
       "      <td>0.081633</td>\n",
       "      <td>0.308390</td>\n",
       "      <td>0.512472</td>\n",
       "      <td>0.036281</td>\n",
       "      <td>...</td>\n",
       "      <td>0.0</td>\n",
       "      <td>0.0</td>\n",
       "      <td>0.0</td>\n",
       "      <td>0.0</td>\n",
       "      <td>0.0</td>\n",
       "      <td>0.0</td>\n",
       "      <td>0.0</td>\n",
       "      <td>0.0</td>\n",
       "      <td>0.0</td>\n",
       "      <td>0.0</td>\n",
       "    </tr>\n",
       "    <tr>\n",
       "      <th>2</th>\n",
       "      <td>0.503086</td>\n",
       "      <td>0.089506</td>\n",
       "      <td>0.018519</td>\n",
       "      <td>0.080247</td>\n",
       "      <td>0.015432</td>\n",
       "      <td>0.000000</td>\n",
       "      <td>0.061728</td>\n",
       "      <td>0.231481</td>\n",
       "      <td>0.444444</td>\n",
       "      <td>0.046296</td>\n",
       "      <td>...</td>\n",
       "      <td>0.0</td>\n",
       "      <td>0.0</td>\n",
       "      <td>0.0</td>\n",
       "      <td>0.0</td>\n",
       "      <td>0.0</td>\n",
       "      <td>0.0</td>\n",
       "      <td>0.0</td>\n",
       "      <td>0.0</td>\n",
       "      <td>0.0</td>\n",
       "      <td>0.0</td>\n",
       "    </tr>\n",
       "    <tr>\n",
       "      <th>3</th>\n",
       "      <td>0.404959</td>\n",
       "      <td>0.047521</td>\n",
       "      <td>0.020661</td>\n",
       "      <td>0.068182</td>\n",
       "      <td>0.045455</td>\n",
       "      <td>0.004132</td>\n",
       "      <td>0.076446</td>\n",
       "      <td>0.332645</td>\n",
       "      <td>0.438017</td>\n",
       "      <td>0.066116</td>\n",
       "      <td>...</td>\n",
       "      <td>0.0</td>\n",
       "      <td>0.0</td>\n",
       "      <td>0.0</td>\n",
       "      <td>0.0</td>\n",
       "      <td>0.0</td>\n",
       "      <td>0.0</td>\n",
       "      <td>0.0</td>\n",
       "      <td>0.0</td>\n",
       "      <td>0.0</td>\n",
       "      <td>0.0</td>\n",
       "    </tr>\n",
       "    <tr>\n",
       "      <th>4</th>\n",
       "      <td>0.371901</td>\n",
       "      <td>0.057851</td>\n",
       "      <td>0.020661</td>\n",
       "      <td>0.082645</td>\n",
       "      <td>0.045455</td>\n",
       "      <td>0.004132</td>\n",
       "      <td>0.053719</td>\n",
       "      <td>0.363636</td>\n",
       "      <td>0.458678</td>\n",
       "      <td>0.039256</td>\n",
       "      <td>...</td>\n",
       "      <td>0.0</td>\n",
       "      <td>0.0</td>\n",
       "      <td>0.0</td>\n",
       "      <td>0.0</td>\n",
       "      <td>0.0</td>\n",
       "      <td>0.0</td>\n",
       "      <td>0.0</td>\n",
       "      <td>0.0</td>\n",
       "      <td>0.0</td>\n",
       "      <td>0.0</td>\n",
       "    </tr>\n",
       "    <tr>\n",
       "      <th>...</th>\n",
       "      <td>...</td>\n",
       "      <td>...</td>\n",
       "      <td>...</td>\n",
       "      <td>...</td>\n",
       "      <td>...</td>\n",
       "      <td>...</td>\n",
       "      <td>...</td>\n",
       "      <td>...</td>\n",
       "      <td>...</td>\n",
       "      <td>...</td>\n",
       "      <td>...</td>\n",
       "      <td>...</td>\n",
       "      <td>...</td>\n",
       "      <td>...</td>\n",
       "      <td>...</td>\n",
       "      <td>...</td>\n",
       "      <td>...</td>\n",
       "      <td>...</td>\n",
       "      <td>...</td>\n",
       "      <td>...</td>\n",
       "      <td>...</td>\n",
       "    </tr>\n",
       "    <tr>\n",
       "      <th>433</th>\n",
       "      <td>0.404321</td>\n",
       "      <td>0.030864</td>\n",
       "      <td>0.015432</td>\n",
       "      <td>0.037037</td>\n",
       "      <td>0.027778</td>\n",
       "      <td>0.000000</td>\n",
       "      <td>0.108025</td>\n",
       "      <td>0.376543</td>\n",
       "      <td>0.274691</td>\n",
       "      <td>0.089506</td>\n",
       "      <td>...</td>\n",
       "      <td>0.0</td>\n",
       "      <td>0.0</td>\n",
       "      <td>0.0</td>\n",
       "      <td>0.0</td>\n",
       "      <td>0.0</td>\n",
       "      <td>0.0</td>\n",
       "      <td>0.0</td>\n",
       "      <td>0.0</td>\n",
       "      <td>0.0</td>\n",
       "      <td>0.0</td>\n",
       "    </tr>\n",
       "    <tr>\n",
       "      <th>434</th>\n",
       "      <td>0.320988</td>\n",
       "      <td>0.074074</td>\n",
       "      <td>0.021605</td>\n",
       "      <td>0.049383</td>\n",
       "      <td>0.021605</td>\n",
       "      <td>0.000000</td>\n",
       "      <td>0.092593</td>\n",
       "      <td>0.419753</td>\n",
       "      <td>0.145062</td>\n",
       "      <td>0.098765</td>\n",
       "      <td>...</td>\n",
       "      <td>0.0</td>\n",
       "      <td>0.0</td>\n",
       "      <td>0.0</td>\n",
       "      <td>0.0</td>\n",
       "      <td>0.0</td>\n",
       "      <td>0.0</td>\n",
       "      <td>0.0</td>\n",
       "      <td>0.0</td>\n",
       "      <td>0.0</td>\n",
       "      <td>0.0</td>\n",
       "    </tr>\n",
       "    <tr>\n",
       "      <th>435</th>\n",
       "      <td>0.380000</td>\n",
       "      <td>0.047500</td>\n",
       "      <td>0.022500</td>\n",
       "      <td>0.052500</td>\n",
       "      <td>0.037500</td>\n",
       "      <td>0.002500</td>\n",
       "      <td>0.072500</td>\n",
       "      <td>0.385000</td>\n",
       "      <td>0.297500</td>\n",
       "      <td>0.085000</td>\n",
       "      <td>...</td>\n",
       "      <td>0.0</td>\n",
       "      <td>0.0</td>\n",
       "      <td>0.0</td>\n",
       "      <td>0.0</td>\n",
       "      <td>0.0</td>\n",
       "      <td>0.0</td>\n",
       "      <td>0.0</td>\n",
       "      <td>0.0</td>\n",
       "      <td>0.0</td>\n",
       "      <td>0.0</td>\n",
       "    </tr>\n",
       "    <tr>\n",
       "      <th>436</th>\n",
       "      <td>0.355372</td>\n",
       "      <td>0.064050</td>\n",
       "      <td>0.020661</td>\n",
       "      <td>0.045455</td>\n",
       "      <td>0.030992</td>\n",
       "      <td>0.006198</td>\n",
       "      <td>0.074380</td>\n",
       "      <td>0.402893</td>\n",
       "      <td>0.266529</td>\n",
       "      <td>0.045455</td>\n",
       "      <td>...</td>\n",
       "      <td>0.0</td>\n",
       "      <td>0.0</td>\n",
       "      <td>0.0</td>\n",
       "      <td>0.0</td>\n",
       "      <td>0.0</td>\n",
       "      <td>0.0</td>\n",
       "      <td>0.0</td>\n",
       "      <td>0.0</td>\n",
       "      <td>0.0</td>\n",
       "      <td>0.0</td>\n",
       "    </tr>\n",
       "    <tr>\n",
       "      <th>437</th>\n",
       "      <td>0.267500</td>\n",
       "      <td>0.055000</td>\n",
       "      <td>0.020000</td>\n",
       "      <td>0.047500</td>\n",
       "      <td>0.065000</td>\n",
       "      <td>0.000000</td>\n",
       "      <td>0.087500</td>\n",
       "      <td>0.457500</td>\n",
       "      <td>0.200000</td>\n",
       "      <td>0.032500</td>\n",
       "      <td>...</td>\n",
       "      <td>0.0</td>\n",
       "      <td>0.0</td>\n",
       "      <td>0.0</td>\n",
       "      <td>0.0</td>\n",
       "      <td>0.0</td>\n",
       "      <td>0.0</td>\n",
       "      <td>0.0</td>\n",
       "      <td>0.0</td>\n",
       "      <td>0.0</td>\n",
       "      <td>0.0</td>\n",
       "    </tr>\n",
       "  </tbody>\n",
       "</table>\n",
       "<p>438 rows × 512 columns</p>\n",
       "</div>"
      ],
      "text/plain": [
       "     feature-1  feature-2  feature-3  feature-4  feature-5  feature-6  \\\n",
       "0     0.376731   0.041551   0.016620   0.058172   0.030471   0.000000   \n",
       "1     0.408163   0.090703   0.018141   0.083900   0.006803   0.002268   \n",
       "2     0.503086   0.089506   0.018519   0.080247   0.015432   0.000000   \n",
       "3     0.404959   0.047521   0.020661   0.068182   0.045455   0.004132   \n",
       "4     0.371901   0.057851   0.020661   0.082645   0.045455   0.004132   \n",
       "..         ...        ...        ...        ...        ...        ...   \n",
       "433   0.404321   0.030864   0.015432   0.037037   0.027778   0.000000   \n",
       "434   0.320988   0.074074   0.021605   0.049383   0.021605   0.000000   \n",
       "435   0.380000   0.047500   0.022500   0.052500   0.037500   0.002500   \n",
       "436   0.355372   0.064050   0.020661   0.045455   0.030992   0.006198   \n",
       "437   0.267500   0.055000   0.020000   0.047500   0.065000   0.000000   \n",
       "\n",
       "     feature-7  feature-8  feature-9  feature-10  ...  feature-503  \\\n",
       "0     0.072022   0.404432   0.479224    0.008310  ...          0.0   \n",
       "1     0.081633   0.308390   0.512472    0.036281  ...          0.0   \n",
       "2     0.061728   0.231481   0.444444    0.046296  ...          0.0   \n",
       "3     0.076446   0.332645   0.438017    0.066116  ...          0.0   \n",
       "4     0.053719   0.363636   0.458678    0.039256  ...          0.0   \n",
       "..         ...        ...        ...         ...  ...          ...   \n",
       "433   0.108025   0.376543   0.274691    0.089506  ...          0.0   \n",
       "434   0.092593   0.419753   0.145062    0.098765  ...          0.0   \n",
       "435   0.072500   0.385000   0.297500    0.085000  ...          0.0   \n",
       "436   0.074380   0.402893   0.266529    0.045455  ...          0.0   \n",
       "437   0.087500   0.457500   0.200000    0.032500  ...          0.0   \n",
       "\n",
       "     feature-504  feature-505  feature-506  feature-507  feature-508  \\\n",
       "0            0.0          0.0          0.0          0.0          0.0   \n",
       "1            0.0          0.0          0.0          0.0          0.0   \n",
       "2            0.0          0.0          0.0          0.0          0.0   \n",
       "3            0.0          0.0          0.0          0.0          0.0   \n",
       "4            0.0          0.0          0.0          0.0          0.0   \n",
       "..           ...          ...          ...          ...          ...   \n",
       "433          0.0          0.0          0.0          0.0          0.0   \n",
       "434          0.0          0.0          0.0          0.0          0.0   \n",
       "435          0.0          0.0          0.0          0.0          0.0   \n",
       "436          0.0          0.0          0.0          0.0          0.0   \n",
       "437          0.0          0.0          0.0          0.0          0.0   \n",
       "\n",
       "     feature-509  feature-510  feature-511  feature-512  \n",
       "0            0.0          0.0          0.0          0.0  \n",
       "1            0.0          0.0          0.0          0.0  \n",
       "2            0.0          0.0          0.0          0.0  \n",
       "3            0.0          0.0          0.0          0.0  \n",
       "4            0.0          0.0          0.0          0.0  \n",
       "..           ...          ...          ...          ...  \n",
       "433          0.0          0.0          0.0          0.0  \n",
       "434          0.0          0.0          0.0          0.0  \n",
       "435          0.0          0.0          0.0          0.0  \n",
       "436          0.0          0.0          0.0          0.0  \n",
       "437          0.0          0.0          0.0          0.0  \n",
       "\n",
       "[438 rows x 512 columns]"
      ]
     },
     "execution_count": 191,
     "metadata": {},
     "output_type": "execute_result"
    }
   ],
   "source": [
    "df = pd.read_csv(TRAINING_DATA_CSV_PATH, index_col=False)\n",
    "labels = df[\"label\"]\n",
    "df = df.drop(columns=[\"label\"])\n",
    "df"
   ]
  },
  {
   "cell_type": "code",
   "execution_count": 192,
   "metadata": {},
   "outputs": [
    {
     "data": {
      "text/plain": [
       "<_TensorSliceDataset element_spec=(TensorSpec(shape=(512,), dtype=tf.float64, name=None), TensorSpec(shape=(), dtype=tf.float64, name=None))>"
      ]
     },
     "execution_count": 192,
     "metadata": {},
     "output_type": "execute_result"
    }
   ],
   "source": [
    "dataset = tf.data.Dataset.from_tensor_slices((df, labels))\n",
    "train_dataset, test_dataset = keras.utils.split_dataset(dataset, shuffle=True, seed=42, left_size=0.7)\n",
    "train_dataset, validation_dataset = keras.utils.split_dataset(train_dataset, shuffle=True, seed=42, left_size=0.7)\n",
    "\n",
    "train_dataset: tf.data.Dataset = train_dataset.shuffle(100).batch(16)\n",
    "test_dataset: tf.data.Dataset = test_dataset.batch(16)\n",
    "validation_dataset: tf.data.Dataset = validation_dataset.batch(16)\n",
    "\n",
    "dataset"
   ]
  },
  {
   "cell_type": "code",
   "execution_count": 253,
   "metadata": {},
   "outputs": [
    {
     "data": {
      "text/html": [
       "<pre style=\"white-space:pre;overflow-x:auto;line-height:normal;font-family:Menlo,'DejaVu Sans Mono',consolas,'Courier New',monospace\"><span style=\"font-weight: bold\">Model: \"sequential_48\"</span>\n",
       "</pre>\n"
      ],
      "text/plain": [
       "\u001b[1mModel: \"sequential_48\"\u001b[0m\n"
      ]
     },
     "metadata": {},
     "output_type": "display_data"
    },
    {
     "data": {
      "text/html": [
       "<pre style=\"white-space:pre;overflow-x:auto;line-height:normal;font-family:Menlo,'DejaVu Sans Mono',consolas,'Courier New',monospace\">┏━━━━━━━━━━━━━━━━━━━━━━━━━━━━━━━━━┳━━━━━━━━━━━━━━━━━━━━━━━━┳━━━━━━━━━━━━━━━┓\n",
       "┃<span style=\"font-weight: bold\"> Layer (type)                    </span>┃<span style=\"font-weight: bold\"> Output Shape           </span>┃<span style=\"font-weight: bold\">       Param # </span>┃\n",
       "┡━━━━━━━━━━━━━━━━━━━━━━━━━━━━━━━━━╇━━━━━━━━━━━━━━━━━━━━━━━━╇━━━━━━━━━━━━━━━┩\n",
       "│ dense_177 (<span style=\"color: #0087ff; text-decoration-color: #0087ff\">Dense</span>)               │ (<span style=\"color: #00d7ff; text-decoration-color: #00d7ff\">None</span>, <span style=\"color: #00af00; text-decoration-color: #00af00\">256</span>)            │       <span style=\"color: #00af00; text-decoration-color: #00af00\">131,328</span> │\n",
       "├─────────────────────────────────┼────────────────────────┼───────────────┤\n",
       "│ dense_178 (<span style=\"color: #0087ff; text-decoration-color: #0087ff\">Dense</span>)               │ (<span style=\"color: #00d7ff; text-decoration-color: #00d7ff\">None</span>, <span style=\"color: #00af00; text-decoration-color: #00af00\">256</span>)            │        <span style=\"color: #00af00; text-decoration-color: #00af00\">65,792</span> │\n",
       "├─────────────────────────────────┼────────────────────────┼───────────────┤\n",
       "│ dense_179 (<span style=\"color: #0087ff; text-decoration-color: #0087ff\">Dense</span>)               │ (<span style=\"color: #00d7ff; text-decoration-color: #00d7ff\">None</span>, <span style=\"color: #00af00; text-decoration-color: #00af00\">6</span>)              │         <span style=\"color: #00af00; text-decoration-color: #00af00\">1,542</span> │\n",
       "└─────────────────────────────────┴────────────────────────┴───────────────┘\n",
       "</pre>\n"
      ],
      "text/plain": [
       "┏━━━━━━━━━━━━━━━━━━━━━━━━━━━━━━━━━┳━━━━━━━━━━━━━━━━━━━━━━━━┳━━━━━━━━━━━━━━━┓\n",
       "┃\u001b[1m \u001b[0m\u001b[1mLayer (type)                   \u001b[0m\u001b[1m \u001b[0m┃\u001b[1m \u001b[0m\u001b[1mOutput Shape          \u001b[0m\u001b[1m \u001b[0m┃\u001b[1m \u001b[0m\u001b[1m      Param #\u001b[0m\u001b[1m \u001b[0m┃\n",
       "┡━━━━━━━━━━━━━━━━━━━━━━━━━━━━━━━━━╇━━━━━━━━━━━━━━━━━━━━━━━━╇━━━━━━━━━━━━━━━┩\n",
       "│ dense_177 (\u001b[38;5;33mDense\u001b[0m)               │ (\u001b[38;5;45mNone\u001b[0m, \u001b[38;5;34m256\u001b[0m)            │       \u001b[38;5;34m131,328\u001b[0m │\n",
       "├─────────────────────────────────┼────────────────────────┼───────────────┤\n",
       "│ dense_178 (\u001b[38;5;33mDense\u001b[0m)               │ (\u001b[38;5;45mNone\u001b[0m, \u001b[38;5;34m256\u001b[0m)            │        \u001b[38;5;34m65,792\u001b[0m │\n",
       "├─────────────────────────────────┼────────────────────────┼───────────────┤\n",
       "│ dense_179 (\u001b[38;5;33mDense\u001b[0m)               │ (\u001b[38;5;45mNone\u001b[0m, \u001b[38;5;34m6\u001b[0m)              │         \u001b[38;5;34m1,542\u001b[0m │\n",
       "└─────────────────────────────────┴────────────────────────┴───────────────┘\n"
      ]
     },
     "metadata": {},
     "output_type": "display_data"
    },
    {
     "data": {
      "text/html": [
       "<pre style=\"white-space:pre;overflow-x:auto;line-height:normal;font-family:Menlo,'DejaVu Sans Mono',consolas,'Courier New',monospace\"><span style=\"font-weight: bold\"> Total params: </span><span style=\"color: #00af00; text-decoration-color: #00af00\">198,662</span> (776.02 KB)\n",
       "</pre>\n"
      ],
      "text/plain": [
       "\u001b[1m Total params: \u001b[0m\u001b[38;5;34m198,662\u001b[0m (776.02 KB)\n"
      ]
     },
     "metadata": {},
     "output_type": "display_data"
    },
    {
     "data": {
      "text/html": [
       "<pre style=\"white-space:pre;overflow-x:auto;line-height:normal;font-family:Menlo,'DejaVu Sans Mono',consolas,'Courier New',monospace\"><span style=\"font-weight: bold\"> Trainable params: </span><span style=\"color: #00af00; text-decoration-color: #00af00\">198,662</span> (776.02 KB)\n",
       "</pre>\n"
      ],
      "text/plain": [
       "\u001b[1m Trainable params: \u001b[0m\u001b[38;5;34m198,662\u001b[0m (776.02 KB)\n"
      ]
     },
     "metadata": {},
     "output_type": "display_data"
    },
    {
     "data": {
      "text/html": [
       "<pre style=\"white-space:pre;overflow-x:auto;line-height:normal;font-family:Menlo,'DejaVu Sans Mono',consolas,'Courier New',monospace\"><span style=\"font-weight: bold\"> Non-trainable params: </span><span style=\"color: #00af00; text-decoration-color: #00af00\">0</span> (0.00 B)\n",
       "</pre>\n"
      ],
      "text/plain": [
       "\u001b[1m Non-trainable params: \u001b[0m\u001b[38;5;34m0\u001b[0m (0.00 B)\n"
      ]
     },
     "metadata": {},
     "output_type": "display_data"
    }
   ],
   "source": [
    "model = keras.Sequential([\n",
    "  keras.layers.Input(shape=dataset.element_spec[0].shape),\n",
    "  keras.layers.Dense(256, activation=\"relu\"),\n",
    "  keras.layers.Dense(256, activation=\"relu\"),\n",
    "  keras.layers.Dense(6, activation=\"softmax\"),\n",
    "])\n",
    "\n",
    "model.compile(\n",
    "  optimizer=keras.optimizers.Adam(learning_rate=0.001), # type: ignore\n",
    "  loss=keras.losses.SparseCategoricalCrossentropy(),\n",
    "  metrics=[\"accuracy\"],\n",
    ")\n",
    "\n",
    "model.summary()"
   ]
  },
  {
   "cell_type": "code",
   "execution_count": 254,
   "metadata": {},
   "outputs": [
    {
     "name": "stdout",
     "output_type": "stream",
     "text": [
      "Epoch 1/40\n",
      "\u001b[1m14/14\u001b[0m \u001b[32m━━━━━━━━━━━━━━━━━━━━\u001b[0m\u001b[37m\u001b[0m \u001b[1m3s\u001b[0m 23ms/step - accuracy: 0.2417 - loss: 1.7589 - val_accuracy: 0.2826 - val_loss: 1.7221\n",
      "Epoch 2/40\n",
      "\u001b[1m14/14\u001b[0m \u001b[32m━━━━━━━━━━━━━━━━━━━━\u001b[0m\u001b[37m\u001b[0m \u001b[1m0s\u001b[0m 6ms/step - accuracy: 0.3244 - loss: 1.6522 - val_accuracy: 0.2826 - val_loss: 1.7304\n",
      "Epoch 3/40\n",
      "\u001b[1m14/14\u001b[0m \u001b[32m━━━━━━━━━━━━━━━━━━━━\u001b[0m\u001b[37m\u001b[0m \u001b[1m0s\u001b[0m 6ms/step - accuracy: 0.3651 - loss: 1.4989 - val_accuracy: 0.2826 - val_loss: 1.6648\n",
      "Epoch 4/40\n",
      "\u001b[1m14/14\u001b[0m \u001b[32m━━━━━━━━━━━━━━━━━━━━\u001b[0m\u001b[37m\u001b[0m \u001b[1m0s\u001b[0m 5ms/step - accuracy: 0.5114 - loss: 1.3858 - val_accuracy: 0.3261 - val_loss: 1.6445\n",
      "Epoch 5/40\n",
      "\u001b[1m14/14\u001b[0m \u001b[32m━━━━━━━━━━━━━━━━━━━━\u001b[0m\u001b[37m\u001b[0m \u001b[1m0s\u001b[0m 8ms/step - accuracy: 0.5839 - loss: 1.2952 - val_accuracy: 0.4022 - val_loss: 1.5716\n",
      "Epoch 6/40\n",
      "\u001b[1m14/14\u001b[0m \u001b[32m━━━━━━━━━━━━━━━━━━━━\u001b[0m\u001b[37m\u001b[0m \u001b[1m0s\u001b[0m 6ms/step - accuracy: 0.6312 - loss: 1.1698 - val_accuracy: 0.4130 - val_loss: 1.5429\n",
      "Epoch 7/40\n",
      "\u001b[1m14/14\u001b[0m \u001b[32m━━━━━━━━━━━━━━━━━━━━\u001b[0m\u001b[37m\u001b[0m \u001b[1m0s\u001b[0m 5ms/step - accuracy: 0.6268 - loss: 1.0435 - val_accuracy: 0.3696 - val_loss: 1.5236\n",
      "Epoch 8/40\n",
      "\u001b[1m14/14\u001b[0m \u001b[32m━━━━━━━━━━━━━━━━━━━━\u001b[0m\u001b[37m\u001b[0m \u001b[1m0s\u001b[0m 6ms/step - accuracy: 0.6886 - loss: 1.0152 - val_accuracy: 0.4348 - val_loss: 1.4367\n",
      "Epoch 9/40\n",
      "\u001b[1m14/14\u001b[0m \u001b[32m━━━━━━━━━━━━━━━━━━━━\u001b[0m\u001b[37m\u001b[0m \u001b[1m0s\u001b[0m 8ms/step - accuracy: 0.7773 - loss: 0.8376 - val_accuracy: 0.4565 - val_loss: 1.4573\n",
      "Epoch 10/40\n",
      "\u001b[1m14/14\u001b[0m \u001b[32m━━━━━━━━━━━━━━━━━━━━\u001b[0m\u001b[37m\u001b[0m \u001b[1m0s\u001b[0m 6ms/step - accuracy: 0.7766 - loss: 0.7619 - val_accuracy: 0.4565 - val_loss: 1.4030\n",
      "Epoch 11/40\n",
      "\u001b[1m14/14\u001b[0m \u001b[32m━━━━━━━━━━━━━━━━━━━━\u001b[0m\u001b[37m\u001b[0m \u001b[1m0s\u001b[0m 6ms/step - accuracy: 0.8379 - loss: 0.6094 - val_accuracy: 0.4130 - val_loss: 1.4458\n",
      "Epoch 12/40\n",
      "\u001b[1m14/14\u001b[0m \u001b[32m━━━━━━━━━━━━━━━━━━━━\u001b[0m\u001b[37m\u001b[0m \u001b[1m0s\u001b[0m 5ms/step - accuracy: 0.8418 - loss: 0.5492 - val_accuracy: 0.4130 - val_loss: 1.4170\n",
      "Epoch 13/40\n",
      "\u001b[1m14/14\u001b[0m \u001b[32m━━━━━━━━━━━━━━━━━━━━\u001b[0m\u001b[37m\u001b[0m \u001b[1m0s\u001b[0m 6ms/step - accuracy: 0.8574 - loss: 0.4915 - val_accuracy: 0.5761 - val_loss: 1.4146\n",
      "Epoch 14/40\n",
      "\u001b[1m14/14\u001b[0m \u001b[32m━━━━━━━━━━━━━━━━━━━━\u001b[0m\u001b[37m\u001b[0m \u001b[1m0s\u001b[0m 5ms/step - accuracy: 0.9155 - loss: 0.4218 - val_accuracy: 0.5217 - val_loss: 1.4300\n",
      "Epoch 15/40\n",
      "\u001b[1m14/14\u001b[0m \u001b[32m━━━━━━━━━━━━━━━━━━━━\u001b[0m\u001b[37m\u001b[0m \u001b[1m0s\u001b[0m 5ms/step - accuracy: 0.9181 - loss: 0.3762 - val_accuracy: 0.5543 - val_loss: 1.3909\n",
      "Epoch 16/40\n",
      "\u001b[1m14/14\u001b[0m \u001b[32m━━━━━━━━━━━━━━━━━━━━\u001b[0m\u001b[37m\u001b[0m \u001b[1m0s\u001b[0m 6ms/step - accuracy: 0.9103 - loss: 0.3490 - val_accuracy: 0.5652 - val_loss: 1.3347\n",
      "Epoch 17/40\n",
      "\u001b[1m14/14\u001b[0m \u001b[32m━━━━━━━━━━━━━━━━━━━━\u001b[0m\u001b[37m\u001b[0m \u001b[1m0s\u001b[0m 7ms/step - accuracy: 0.8965 - loss: 0.3294 - val_accuracy: 0.5000 - val_loss: 1.4641\n",
      "Epoch 18/40\n",
      "\u001b[1m14/14\u001b[0m \u001b[32m━━━━━━━━━━━━━━━━━━━━\u001b[0m\u001b[37m\u001b[0m \u001b[1m0s\u001b[0m 6ms/step - accuracy: 0.9123 - loss: 0.2897 - val_accuracy: 0.6087 - val_loss: 1.4618\n",
      "Epoch 19/40\n",
      "\u001b[1m14/14\u001b[0m \u001b[32m━━━━━━━━━━━━━━━━━━━━\u001b[0m\u001b[37m\u001b[0m \u001b[1m0s\u001b[0m 7ms/step - accuracy: 0.9118 - loss: 0.2978 - val_accuracy: 0.4891 - val_loss: 1.4910\n",
      "Epoch 20/40\n",
      "\u001b[1m14/14\u001b[0m \u001b[32m━━━━━━━━━━━━━━━━━━━━\u001b[0m\u001b[37m\u001b[0m \u001b[1m0s\u001b[0m 8ms/step - accuracy: 0.9367 - loss: 0.1996 - val_accuracy: 0.5326 - val_loss: 1.4142\n",
      "Epoch 21/40\n",
      "\u001b[1m14/14\u001b[0m \u001b[32m━━━━━━━━━━━━━━━━━━━━\u001b[0m\u001b[37m\u001b[0m \u001b[1m0s\u001b[0m 8ms/step - accuracy: 0.9701 - loss: 0.1643 - val_accuracy: 0.6087 - val_loss: 1.4456\n",
      "Epoch 22/40\n",
      "\u001b[1m14/14\u001b[0m \u001b[32m━━━━━━━━━━━━━━━━━━━━\u001b[0m\u001b[37m\u001b[0m \u001b[1m0s\u001b[0m 7ms/step - accuracy: 0.9738 - loss: 0.1447 - val_accuracy: 0.5978 - val_loss: 1.5031\n",
      "Epoch 23/40\n",
      "\u001b[1m14/14\u001b[0m \u001b[32m━━━━━━━━━━━━━━━━━━━━\u001b[0m\u001b[37m\u001b[0m \u001b[1m0s\u001b[0m 14ms/step - accuracy: 0.9782 - loss: 0.1149 - val_accuracy: 0.5652 - val_loss: 1.5522\n",
      "Epoch 24/40\n",
      "\u001b[1m14/14\u001b[0m \u001b[32m━━━━━━━━━━━━━━━━━━━━\u001b[0m\u001b[37m\u001b[0m \u001b[1m0s\u001b[0m 14ms/step - accuracy: 0.9950 - loss: 0.0957 - val_accuracy: 0.5761 - val_loss: 1.5781\n",
      "Epoch 25/40\n",
      "\u001b[1m14/14\u001b[0m \u001b[32m━━━━━━━━━━━━━━━━━━━━\u001b[0m\u001b[37m\u001b[0m \u001b[1m0s\u001b[0m 11ms/step - accuracy: 0.9908 - loss: 0.0873 - val_accuracy: 0.5761 - val_loss: 1.5486\n",
      "Epoch 26/40\n",
      "\u001b[1m14/14\u001b[0m \u001b[32m━━━━━━━━━━━━━━━━━━━━\u001b[0m\u001b[37m\u001b[0m \u001b[1m0s\u001b[0m 14ms/step - accuracy: 0.9931 - loss: 0.0783 - val_accuracy: 0.5978 - val_loss: 1.6135\n",
      "Epoch 27/40\n",
      "\u001b[1m14/14\u001b[0m \u001b[32m━━━━━━━━━━━━━━━━━━━━\u001b[0m\u001b[37m\u001b[0m \u001b[1m0s\u001b[0m 8ms/step - accuracy: 0.9983 - loss: 0.0814 - val_accuracy: 0.5543 - val_loss: 1.5865\n",
      "Epoch 28/40\n",
      "\u001b[1m14/14\u001b[0m \u001b[32m━━━━━━━━━━━━━━━━━━━━\u001b[0m\u001b[37m\u001b[0m \u001b[1m0s\u001b[0m 6ms/step - accuracy: 0.9861 - loss: 0.0692 - val_accuracy: 0.5978 - val_loss: 1.5833\n",
      "Epoch 29/40\n",
      "\u001b[1m14/14\u001b[0m \u001b[32m━━━━━━━━━━━━━━━━━━━━\u001b[0m\u001b[37m\u001b[0m \u001b[1m0s\u001b[0m 6ms/step - accuracy: 1.0000 - loss: 0.0557 - val_accuracy: 0.5870 - val_loss: 1.5842\n",
      "Epoch 30/40\n",
      "\u001b[1m14/14\u001b[0m \u001b[32m━━━━━━━━━━━━━━━━━━━━\u001b[0m\u001b[37m\u001b[0m \u001b[1m0s\u001b[0m 6ms/step - accuracy: 0.9991 - loss: 0.0589 - val_accuracy: 0.5978 - val_loss: 1.6078\n",
      "Epoch 31/40\n",
      "\u001b[1m14/14\u001b[0m \u001b[32m━━━━━━━━━━━━━━━━━━━━\u001b[0m\u001b[37m\u001b[0m \u001b[1m0s\u001b[0m 5ms/step - accuracy: 0.9975 - loss: 0.0501 - val_accuracy: 0.5543 - val_loss: 1.6681\n",
      "Epoch 32/40\n",
      "\u001b[1m14/14\u001b[0m \u001b[32m━━━━━━━━━━━━━━━━━━━━\u001b[0m\u001b[37m\u001b[0m \u001b[1m0s\u001b[0m 5ms/step - accuracy: 0.9924 - loss: 0.0538 - val_accuracy: 0.5652 - val_loss: 1.7088\n",
      "Epoch 33/40\n",
      "\u001b[1m14/14\u001b[0m \u001b[32m━━━━━━━━━━━━━━━━━━━━\u001b[0m\u001b[37m\u001b[0m \u001b[1m0s\u001b[0m 7ms/step - accuracy: 1.0000 - loss: 0.0392 - val_accuracy: 0.6196 - val_loss: 1.6126\n",
      "Epoch 34/40\n",
      "\u001b[1m14/14\u001b[0m \u001b[32m━━━━━━━━━━━━━━━━━━━━\u001b[0m\u001b[37m\u001b[0m \u001b[1m0s\u001b[0m 8ms/step - accuracy: 1.0000 - loss: 0.0354 - val_accuracy: 0.6196 - val_loss: 1.6345\n",
      "Epoch 35/40\n",
      "\u001b[1m14/14\u001b[0m \u001b[32m━━━━━━━━━━━━━━━━━━━━\u001b[0m\u001b[37m\u001b[0m \u001b[1m0s\u001b[0m 15ms/step - accuracy: 1.0000 - loss: 0.0279 - val_accuracy: 0.6196 - val_loss: 1.6514\n",
      "Epoch 36/40\n",
      "\u001b[1m14/14\u001b[0m \u001b[32m━━━━━━━━━━━━━━━━━━━━\u001b[0m\u001b[37m\u001b[0m \u001b[1m0s\u001b[0m 7ms/step - accuracy: 1.0000 - loss: 0.0288 - val_accuracy: 0.5870 - val_loss: 1.7099\n",
      "Epoch 37/40\n",
      "\u001b[1m14/14\u001b[0m \u001b[32m━━━━━━━━━━━━━━━━━━━━\u001b[0m\u001b[37m\u001b[0m \u001b[1m0s\u001b[0m 5ms/step - accuracy: 1.0000 - loss: 0.0273 - val_accuracy: 0.5978 - val_loss: 1.7706\n",
      "Epoch 38/40\n",
      "\u001b[1m14/14\u001b[0m \u001b[32m━━━━━━━━━━━━━━━━━━━━\u001b[0m\u001b[37m\u001b[0m \u001b[1m0s\u001b[0m 5ms/step - accuracy: 1.0000 - loss: 0.0269 - val_accuracy: 0.6196 - val_loss: 1.7194\n",
      "Epoch 39/40\n",
      "\u001b[1m14/14\u001b[0m \u001b[32m━━━━━━━━━━━━━━━━━━━━\u001b[0m\u001b[37m\u001b[0m \u001b[1m0s\u001b[0m 5ms/step - accuracy: 1.0000 - loss: 0.0169 - val_accuracy: 0.6413 - val_loss: 1.6850\n",
      "Epoch 40/40\n",
      "\u001b[1m14/14\u001b[0m \u001b[32m━━━━━━━━━━━━━━━━━━━━\u001b[0m\u001b[37m\u001b[0m \u001b[1m0s\u001b[0m 5ms/step - accuracy: 1.0000 - loss: 0.0197 - val_accuracy: 0.6196 - val_loss: 1.6932\n"
     ]
    }
   ],
   "source": [
    "history = model.fit(\n",
    "  train_dataset, epochs=40,\n",
    "  validation_data=validation_dataset,\n",
    ")"
   ]
  },
  {
   "cell_type": "code",
   "execution_count": 255,
   "metadata": {},
   "outputs": [
    {
     "name": "stdout",
     "output_type": "stream",
     "text": [
      "\u001b[1m9/9\u001b[0m \u001b[32m━━━━━━━━━━━━━━━━━━━━\u001b[0m\u001b[37m\u001b[0m \u001b[1m0s\u001b[0m 13ms/step\n"
     ]
    },
    {
     "name": "stderr",
     "output_type": "stream",
     "text": [
      "C:\\Users\\Irsan\\AppData\\Local\\Temp\\ipykernel_19944\\2917366473.py:11: UserWarning: No artists with labels found to put in legend.  Note that artists whose label start with an underscore are ignored when legend() is called with no argument.\n",
      "  plt.legend()\n"
     ]
    },
    {
     "data": {
      "text/plain": [
       "{'angry': {'precision': 0.4,\n",
       "  'recall': 0.4444444444444444,\n",
       "  'f1-score': 0.42105263157894735,\n",
       "  'support': 18.0},\n",
       " 'disgusted': {'precision': 0.5714285714285714,\n",
       "  'recall': 0.5,\n",
       "  'f1-score': 0.5333333333333333,\n",
       "  'support': 16.0},\n",
       " 'happy': {'precision': 0.625,\n",
       "  'recall': 0.6944444444444444,\n",
       "  'f1-score': 0.6578947368421053,\n",
       "  'support': 36.0},\n",
       " 'neutral': {'precision': 0.45454545454545453,\n",
       "  'recall': 0.5263157894736842,\n",
       "  'f1-score': 0.4878048780487805,\n",
       "  'support': 19.0},\n",
       " 'sad': {'precision': 0.6153846153846154,\n",
       "  'recall': 0.38095238095238093,\n",
       "  'f1-score': 0.47058823529411764,\n",
       "  'support': 21.0},\n",
       " 'surprised': {'precision': 0.7272727272727273,\n",
       "  'recall': 0.7619047619047619,\n",
       "  'f1-score': 0.7441860465116279,\n",
       "  'support': 21.0},\n",
       " 'accuracy': 0.5725190839694656,\n",
       " 'macro avg': {'precision': 0.5656052281052282,\n",
       "  'recall': 0.5513436368699526,\n",
       "  'f1-score': 0.5524766436014853,\n",
       "  'support': 131.0},\n",
       " 'weighted avg': {'precision': 0.5776719463742364,\n",
       "  'recall': 0.5725190839694656,\n",
       "  'f1-score': 0.569275143732196,\n",
       "  'support': 131.0}}"
      ]
     },
     "execution_count": 255,
     "metadata": {},
     "output_type": "execute_result"
    },
    {
     "data": {
      "image/png": "[encoded data removed]",
      "text/plain": [
       "<Figure size 640x480 with 1 Axes>"
      ]
     },
     "metadata": {},
     "output_type": "display_data"
    }
   ],
   "source": [
    "from typing import cast\n",
    "\n",
    "confidences = model.predict(test_dataset)\n",
    "predictions = np.argmax(confidences, axis=1)\n",
    "\n",
    "labels = cast(list[int], list(test_dataset.unbatch().map(lambda x, y: y).as_numpy_iterator()))\n",
    "\n",
    "cmat = sklearn.metrics.confusion_matrix(labels, predictions, normalize=\"true\")\n",
    "\n",
    "plt.imshow(cmat)\n",
    "plt.legend()\n",
    "plt.xticks(range(len(CLASS_NAMES)), CLASS_NAMES)\n",
    "plt.yticks(range(len(CLASS_NAMES)), CLASS_NAMES)\n",
    "\n",
    "sklearn.metrics.classification_report(labels, predictions, output_dict=True, target_names=CLASS_NAMES)"
   ]
  },
  {
   "cell_type": "code",
   "execution_count": 256,
   "metadata": {},
   "outputs": [],
   "source": [
    "model.save(EXPRESSION_RECOGNITION_MODEL_PATH)"
   ]
  },
  {
   "cell_type": "code",
   "execution_count": 257,
   "metadata": {},
   "outputs": [
    {
     "name": "stderr",
     "output_type": "stream",
     "text": [
      "C:\\Users\\Irsan\\AppData\\Local\\Temp\\ipykernel_19944\\469801421.py:7: UserWarning: FigureCanvasAgg is non-interactive, and thus cannot be shown\n",
      "  accuracy_fig.show()\n"
     ]
    },
    {
     "data": {
      "image/png": "[encoded data removed]",
      "text/plain": [
       "<Figure size 600x600 with 1 Axes>"
      ]
     },
     "metadata": {},
     "output_type": "display_data"
    }
   ],
   "source": [
    "accuracy_fig = plt.figure(figsize=(6,6))\n",
    "ax = accuracy_fig.add_subplot()\n",
    "ax.plot(history.history[\"accuracy\"], label=\"Accuracy\", marker='o')\n",
    "ax.plot(history.history[\"val_accuracy\"], label=\"Validation Accuracy\", marker='o')\n",
    "ax.legend()\n",
    "ax.set_ylim(0, 1)\n",
    "accuracy_fig.show()"
   ]
  }
 ],
 "metadata": {
  "kernelspec": {
   "display_name": "Venv",
   "language": "python",
   "name": "python3"
  },
  "language_info": {
   "codemirror_mode": {
    "name": "ipython",
    "version": 3
   },
   "file_extension": ".py",
   "mimetype": "text/x-python",
   "name": "python",
   "nbconvert_exporter": "python",
   "pygments_lexer": "ipython3",
   "version": "3.10.6"
  }
 },
 "nbformat": 4,
 "nbformat_minor": 2
}
