{
 "cells": [
  {
   "cell_type": "code",
   "execution_count": 32,
   "metadata": {},
   "outputs": [
    {
     "data": {
      "text/html": [
       "        <script type=\"text/javascript\">\n",
       "        window.PlotlyConfig = {MathJaxConfig: 'local'};\n",
       "        if (window.MathJax && window.MathJax.Hub && window.MathJax.Hub.Config) {window.MathJax.Hub.Config({SVG: {font: \"STIX-Web\"}});}\n",
       "        if (typeof require !== 'undefined') {\n",
       "        require.undef(\"plotly\");\n",
       "        requirejs.config({\n",
       "            paths: {\n",
       "                'plotly': ['https://cdn.plot.ly/plotly-2.35.2.min']\n",
       "            }\n",
       "        });\n",
       "        require(['plotly'], function(Plotly) {\n",
       "            window._Plotly = Plotly;\n",
       "        });\n",
       "        }\n",
       "        </script>\n",
       "        "
      ]
     },
     "metadata": {},
     "output_type": "display_data"
    }
   ],
   "source": [
    "import shutil\n",
    "import os\n",
    "import zipfile\n",
    "import urllib.request\n",
    "from typing import Optional, Sequence, cast, ClassVar, cast\n",
    "from dataclasses import dataclass\n",
    "\n",
    "import tensorflow as tf\n",
    "import keras\n",
    "import pandas as pd\n",
    "import numpy as np\n",
    "import numpy.typing as npt\n",
    "import cv2 as cv\n",
    "import tqdm\n",
    "\n",
    "import scipy.spatial.distance\n",
    "\n",
    "import sklearn.metrics\n",
    "import sklearn.manifold\n",
    "import sklearn.decomposition\n",
    "\n",
    "import plotly.express as px\n",
    "import plotly.offline\n",
    "\n",
    "import skimage.feature\n",
    "\n",
    "from standalone_preprocessing_library import *\n",
    "\n",
    "plotly.offline.init_notebook_mode(connected=True)"
   ]
  },
  {
   "cell_type": "markdown",
   "metadata": {},
   "source": [
    "Various constants"
   ]
  },
  {
   "cell_type": "code",
   "execution_count": 2,
   "metadata": {},
   "outputs": [],
   "source": [
    "DATA_DIR_PATH = \"data\"\n",
    "DATASET_PATH = \"dataset.zip\"\n",
    "TRAINING_DATA_CSV_PATH = os.path.join(DATA_DIR_PATH, \"data.csv\")\n",
    "\n",
    "MODEL_DIR_PATH = \"models\"\n",
    "EXPRESSION_RECOGNITION_MODEL_PATH = os.path.join(MODEL_DIR_PATH, \"expression_recognition.keras\")\n",
    "LBFMODEL_PATH = os.path.join(MODEL_DIR_PATH, \"lbfmodel.yaml\")\n",
    "CASCADE_CLASSIFIER_PATH = os.path.join(MODEL_DIR_PATH, \"haarcascade_frontalface_default.xml\")\n",
    "\n",
    "STANDARD_DIMENSIONS = Dimension(240, 240)\n",
    "FACE_DIMENSIONS = Dimension(120, 120)\n",
    "PREVIEW_DIMENSIONS = Dimension(500, 500)\n",
    "\n",
    "LBP_HISTOGRAM_BIN_COUNT = 8\n",
    "LBP_GRID_SIZE = (8,8)"
   ]
  },
  {
   "cell_type": "code",
   "execution_count": 3,
   "metadata": {},
   "outputs": [],
   "source": [
    "class SupportedFacialExpressionLabels:\n",
    "  Ours = [\"angry\", \"disgusted\", \"happy\", \"neutral\", \"sad\", \"surprised\"]\n",
    "  Fer2013 = [\"angry\", \"disgust\", \"fear\", \"happy\", \"neutral\", \"sad\", \"surprise\"] \n",
    "  CkPlus = [\"Anger\", \"Disgust\", \"Fear\", \"Happiness\", \"Sadness\", \"Surprise\", \"Neutral\", \"Contempt\"]\n",
    "\n",
    "CLASS_NAMES = SupportedFacialExpressionLabels.Ours"
   ]
  },
  {
   "cell_type": "markdown",
   "metadata": {},
   "source": [
    "Utility functions"
   ]
  },
  {
   "cell_type": "code",
   "execution_count": 4,
   "metadata": {},
   "outputs": [],
   "source": [
    "def get_files_in_folder(basepath: str)->list[str]:\n",
    "  if not os.path.exists(basepath):\n",
    "    return []\n",
    "  file_paths = [os.path.join(basepath, filename) for filename in os.listdir(basepath)]\n",
    "  return [path for path in file_paths if os.path.isfile(path)]\n",
    "\n",
    "def partition_grid(self, rows: int, cols: int)->list[\"Rectangle\"]:\n",
    "  row_delta = int(self.width / rows)\n",
    "  col_delta = int(self.height / cols)\n",
    "  rects: list[\"Rectangle\"] = []\n",
    "  for row in range(rows):\n",
    "    for col in range(cols):\n",
    "      row_start = row * row_delta\n",
    "      col_start = col * col_delta\n",
    "      rect = Rectangle(col_start, row_start, col_start + col_delta, row_start + row_delta)\n",
    "      rects.append(rect)\n",
    "  return rects\n",
    "\n",
    "@dataclass\n",
    "class FaceLandmark:\n",
    "  face_shape: npt.NDArray\n",
    "  eyes: npt.NDArray\n",
    "  eyebrows: npt.NDArray\n",
    "  nose: npt.NDArray\n",
    "  lips: npt.NDArray\n",
    "  dims: Dimension\n",
    "\n",
    "  @property\n",
    "  def feature_points(self)->npt.NDArray:\n",
    "    return np.vstack([self.eyes, self.eyebrows, self.nose, self.lips])\n",
    "\n",
    "  def as_feature_vector(self)->npt.NDArray:\n",
    "    # https://arxiv.org/pdf/1812.04510\n",
    "    # 17 points are dedicated for the shape of the face, which we don't really need.\n",
    "    normalized_points = self.feature_points / np.array((self.dims.width, self.dims.height))\n",
    "    interdistance_map = scipy.spatial.distance.cdist(normalized_points, normalized_points, \"euclidean\").flatten()\n",
    "    # All diagonal values are excluded\n",
    "    excluded_points = np.eye(len(self.feature_points)).flatten() == 1\n",
    "\n",
    "    # Square the interdistance map to make larger differences more prominent\n",
    "    interdistance_map = np.power(interdistance_map[~excluded_points], 2)\n",
    "\n",
    "    # Also calculate the distance to the average point in the face\n",
    "    average_point = normalized_points.mean(axis=0)\n",
    "    distances_to_center = scipy.spatial.distance.cdist(np.array([average_point]), normalized_points, \"euclidean\")[0]\n",
    "\n",
    "    feature_vector = np.hstack((interdistance_map, distances_to_center))\n",
    "\n",
    "    return feature_vector\n",
    "\n",
    "\n",
    "  EYE_COLOR: ClassVar[tuple[int, int, int]] = (0, 0, 255)\n",
    "  LIP_COLOR: ClassVar[tuple[int, int, int]] = (0, 255, 0)\n",
    "  NOSE_COLOR: ClassVar[tuple[int, int, int]] = (255, 0, 0)\n",
    "  FACE_SHAPE_COLOR: ClassVar[tuple[int, int, int]] = (255, 255, 0)\n",
    "  EYEBROW_COLOR: ClassVar[tuple[int, int, int]] = (0, 255, 255)\n",
    "\n",
    "  def project_point(self, point: npt.NDArray, rect: Optional[Rectangle] = None)->Sequence[int]:\n",
    "    if rect is None:\n",
    "      return cast(Sequence[int], point.astype(np.int32))\n",
    "    projected_point = point * rect.dimensions.ndarray / self.dims.ndarray\n",
    "    return cast(Sequence[int], (projected_point + rect.p0.ndarray).astype(np.int32))\n",
    "  \n",
    "  def draw_on(self, img: cv.typing.MatLike, *, offset: Optional[Rectangle] = None):\n",
    "    for point in self.eyes:\n",
    "      cv.circle(img, self.project_point(point, offset), 1, self.EYE_COLOR, -1)\n",
    "    for point in self.lips:\n",
    "      cv.circle(img, self.project_point(point, offset), 1, self.LIP_COLOR, -1)\n",
    "    for point in self.nose:\n",
    "      cv.circle(img, self.project_point(point, offset), 1, self.NOSE_COLOR, -1)\n",
    "    for point in self.face_shape:\n",
    "      cv.circle(img, self.project_point(point, offset), 1, self.FACE_SHAPE_COLOR, -1)\n",
    "    for point in self.eyebrows:\n",
    "      cv.circle(img, self.project_point(point, offset), 1, self.EYEBROW_COLOR, -1)\n",
    "\n",
    "  @staticmethod\n",
    "  def from_raw_landmark(points: npt.NDArray, dims: Dimension):\n",
    "    return FaceLandmark(\n",
    "      face_shape=points[:17],\n",
    "      eyebrows=points[17:27],\n",
    "      nose=points[27:36],\n",
    "      eyes=points[36:48],\n",
    "      lips=points[48:],\n",
    "      dims=dims\n",
    "    )\n",
    "  \n",
    "def face_alignment(img: cv.typing.MatLike, landmark: FaceLandmark):\n",
    "  # https://pyimagesearch.com/2017/05/22/face-alignment-with-opencv-and-python/\n",
    "  dims = Dimension.from_shape(img.shape)\n",
    "  desired_left_eye = Point(int(dims.width * 0.22), int(dims.height * 0.25))\n",
    "  desired_right_eye_x = FACE_DIMENSIONS.width - desired_left_eye.x\n",
    "\n",
    "  left_eye_avg = landmark.eyes[0:6].mean(axis=0)\n",
    "  right_eye_avg = landmark.eyes[6:].mean(axis=0)\n",
    "\n",
    "  delta = right_eye_avg - left_eye_avg\n",
    "  angle = np.degrees(np.arctan2(delta[1], delta[0]))\n",
    "\n",
    "  dist = np.sqrt(delta[0] ** 2 + delta[1] ** 2)\n",
    "  desired_dist = desired_right_eye_x - desired_left_eye.x\n",
    "  scale = desired_dist / dist\n",
    "\n",
    "  eyes_center = np.array([left_eye_avg, right_eye_avg]).mean(axis=0)\n",
    "  rotation_matrix = cv.getRotationMatrix2D(eyes_center, angle, scale)\n",
    "\n",
    "  translation_x = FACE_DIMENSIONS.width * 0.5\n",
    "  translation_y = desired_left_eye.y\n",
    "  rotation_matrix[0, 2] += (translation_x - eyes_center[0])\n",
    "  rotation_matrix[1, 2] += (translation_y - eyes_center[1])\n",
    "\n",
    "  img = cv.warpAffine(img, rotation_matrix, FACE_DIMENSIONS.tuple, flags=cv.INTER_CUBIC)\n",
    "\n",
    "  return img\n"
   ]
  },
  {
   "cell_type": "markdown",
   "metadata": {},
   "source": [
    "Load various preprocessing models"
   ]
  },
  {
   "cell_type": "code",
   "execution_count": 5,
   "metadata": {},
   "outputs": [],
   "source": [
    "# https://medium.com/analytics-vidhya/facial-landmarks-and-face-detection-in-python-with-opencv-73979391f30e\n",
    "LBFMODEL_URL = \"https://github.com/kurnianggoro/GSOC2017/raw/master/data/lbfmodel.yaml\"\n",
    "if not os.path.exists(LBFMODEL_PATH):\n",
    "  print(f\"Cannot find any LBFmodel installation. Installing from {LBFMODEL_URL} to {LBFMODEL_PATH}\")\n",
    "  urllib.request.urlretrieve(LBFMODEL_URL, LBFMODEL_PATH)\n",
    "landmark_model = cv.face.createFacemarkLBF()\n",
    "landmark_model.loadModel(LBFMODEL_PATH)"
   ]
  },
  {
   "cell_type": "code",
   "execution_count": 6,
   "metadata": {},
   "outputs": [],
   "source": [
    "CASCADE_CLASSIFIER_URL = \"https://raw.githubusercontent.com/opencv/opencv/refs/heads/4.x/data/haarcascades/haarcascade_frontalface_default.xml\"\n",
    "if not os.path.exists(CASCADE_CLASSIFIER_PATH):\n",
    "  urllib.request.urlretrieve(CASCADE_CLASSIFIER_URL, CASCADE_CLASSIFIER_PATH) \n",
    "locator_model = cv.CascadeClassifier(CASCADE_CLASSIFIER_PATH)\n",
    "locator_model.load(CASCADE_CLASSIFIER_PATH)\n",
    "\n",
    "clahe = cv.createCLAHE(tileGridSize=(8, 8), clipLimit=2.0)"
   ]
  },
  {
   "cell_type": "markdown",
   "metadata": {},
   "source": [
    "Dump the contents of the zip file into the data folder. You don't have to run this if this has been performed."
   ]
  },
  {
   "cell_type": "code",
   "execution_count": 7,
   "metadata": {},
   "outputs": [],
   "source": [
    "if (os.path.exists(DATA_DIR_PATH)):\n",
    "  shutil.rmtree(DATA_DIR_PATH)\n",
    "with zipfile.ZipFile(DATASET_PATH, 'r') as zip_ref:\n",
    "  zip_ref.extractall(DATA_DIR_PATH)"
   ]
  },
  {
   "cell_type": "markdown",
   "metadata": {},
   "source": [
    "List all folder contents"
   ]
  },
  {
   "cell_type": "code",
   "execution_count": 8,
   "metadata": {},
   "outputs": [],
   "source": [
    "@dataclass\n",
    "class TrainDataEntry:\n",
    "  path: str\n",
    "  label: int\n",
    "\n",
    "entries: list[TrainDataEntry] = []\n",
    "for folder in os.scandir(DATA_DIR_PATH):\n",
    "  if not folder.is_dir():\n",
    "    continue\n",
    "  try:\n",
    "    expression = CLASS_NAMES.index(folder.name)\n",
    "  except ValueError:\n",
    "    print(f\"Skipping the inclusion of {folder.name} in the dataset.\")\n",
    "    continue\n",
    "\n",
    "  entries.extend(map(\n",
    "    lambda fpath: TrainDataEntry(path=fpath, label=expression),\n",
    "    get_files_in_folder(folder.path)\n",
    "  ))"
   ]
  },
  {
   "cell_type": "markdown",
   "metadata": {},
   "source": [
    "Execute data preprocessing steps for our dataset"
   ]
  },
  {
   "cell_type": "code",
   "execution_count": 44,
   "metadata": {},
   "outputs": [
    {
     "name": "stderr",
     "output_type": "stream",
     "text": [
      "Building dataset from images:   0%|          | 0/1089 [00:00<?, ?it/s]"
     ]
    },
    {
     "name": "stdout",
     "output_type": "stream",
     "text": [
      "\n",
      "Skipping data\\angry\\20240927_173906.jpg because no faces were found in the image.\n"
     ]
    },
    {
     "name": "stderr",
     "output_type": "stream",
     "text": [
      "Building dataset from images:   1%|          | 9/1089 [00:00<01:07, 15.91it/s]"
     ]
    },
    {
     "name": "stdout",
     "output_type": "stream",
     "text": [
      "\n",
      "Skipping data\\angry\\20241008_180500.jpg because no faces were found in the image.\n",
      "\n",
      "Skipping data\\angry\\20241008_180548.jpg because no faces were found in the image.\n"
     ]
    },
    {
     "name": "stderr",
     "output_type": "stream",
     "text": [
      "Building dataset from images:   1%|▏         | 14/1089 [00:01<01:14, 14.38it/s]"
     ]
    },
    {
     "name": "stdout",
     "output_type": "stream",
     "text": [
      "\n",
      "Skipping data\\angry\\20241008_180735.jpg because no faces were found in the image.\n",
      "\n",
      "Skipping data\\angry\\20241008_180740.jpg because no faces were found in the image.\n"
     ]
    },
    {
     "name": "stderr",
     "output_type": "stream",
     "text": [
      "Building dataset from images:   9%|▉         | 100/1089 [00:07<01:24, 11.73it/s]"
     ]
    },
    {
     "name": "stdout",
     "output_type": "stream",
     "text": [
      "\n",
      "Skipping data\\angry\\marah_4.jpg because no faces were found in the image.\n",
      "\n",
      "Skipping data\\angry\\marah_5.jpg because no faces were found in the image.\n",
      "\n",
      "Skipping data\\angry\\marah_7.jpg because no faces were found in the image.\n"
     ]
    },
    {
     "name": "stderr",
     "output_type": "stream",
     "text": [
      "Building dataset from images:  11%|█         | 116/1089 [00:08<01:07, 14.52it/s]"
     ]
    },
    {
     "name": "stdout",
     "output_type": "stream",
     "text": [
      "\n",
      "Skipping data\\angry\\Resize_20241210_223059_9926.jpg because no faces were found in the image.\n",
      "\n",
      "Skipping data\\angry\\Resize_20241210_223104_4667.jpg because no faces were found in the image.\n",
      "\n",
      "Skipping data\\angry\\Resize_20241210_223109_9133.jpg because no faces were found in the image.\n"
     ]
    },
    {
     "name": "stderr",
     "output_type": "stream",
     "text": [
      "Building dataset from images:  12%|█▏        | 128/1089 [00:08<00:53, 18.00it/s]"
     ]
    },
    {
     "name": "stdout",
     "output_type": "stream",
     "text": [
      "\n",
      "Skipping data\\angry\\Resize_20241210_223148_8201.jpg because no faces were found in the image.\n",
      "\n",
      "Skipping data\\angry\\Resize_20241210_223150_0517.jpg because no faces were found in the image.\n",
      "\n",
      "Skipping data\\angry\\Resize_20241210_223152_2656.jpg because no faces were found in the image.\n"
     ]
    },
    {
     "name": "stderr",
     "output_type": "stream",
     "text": [
      "Building dataset from images:  12%|█▏        | 135/1089 [00:09<00:49, 19.10it/s]"
     ]
    },
    {
     "name": "stdout",
     "output_type": "stream",
     "text": [
      "\n",
      "Skipping data\\angry\\Resize_20241210_223217_7806.jpg because no faces were found in the image.\n",
      "\n",
      "Skipping data\\angry\\Resize_20241210_223227_7281.jpg because no faces were found in the image.\n"
     ]
    },
    {
     "name": "stderr",
     "output_type": "stream",
     "text": [
      "Building dataset from images:  13%|█▎        | 141/1089 [00:09<00:46, 20.37it/s]"
     ]
    },
    {
     "name": "stdout",
     "output_type": "stream",
     "text": [
      "\n",
      "Skipping data\\angry\\Resize_20241210_223229_9963.jpg because no faces were found in the image.\n",
      "\n",
      "Skipping data\\angry\\Resize_20241210_223234_4400.jpg because no faces were found in the image.\n"
     ]
    },
    {
     "name": "stderr",
     "output_type": "stream",
     "text": [
      "Building dataset from images:  16%|█▌        | 171/1089 [00:11<00:43, 21.01it/s]"
     ]
    },
    {
     "name": "stdout",
     "output_type": "stream",
     "text": [
      "\n",
      "Skipping data\\disgusted\\20241008_180238.jpg because no faces were found in the image.\n"
     ]
    },
    {
     "name": "stderr",
     "output_type": "stream",
     "text": [
      "Building dataset from images:  23%|██▎       | 249/1089 [00:16<01:09, 12.01it/s]"
     ]
    },
    {
     "name": "stdout",
     "output_type": "stream",
     "text": [
      "\n",
      "Skipping data\\disgusted\\IMG_20241010_213941_9_11zon.jpg because no faces were found in the image.\n"
     ]
    },
    {
     "name": "stderr",
     "output_type": "stream",
     "text": [
      "Building dataset from images:  27%|██▋       | 289/1089 [00:18<00:52, 15.21it/s]"
     ]
    },
    {
     "name": "stdout",
     "output_type": "stream",
     "text": [
      "\n",
      "Skipping data\\disgusted\\jijik_7.jpg because no faces were found in the image.\n"
     ]
    },
    {
     "name": "stderr",
     "output_type": "stream",
     "text": [
      "Building dataset from images:  29%|██▉       | 318/1089 [00:20<00:41, 18.36it/s]"
     ]
    },
    {
     "name": "stdout",
     "output_type": "stream",
     "text": [
      "\n",
      "Skipping data\\disgusted\\WA_Disgusted_195915-min.jpg because no faces were found in the image.\n"
     ]
    },
    {
     "name": "stderr",
     "output_type": "stream",
     "text": [
      "Building dataset from images:  43%|████▎     | 469/1089 [00:32<00:38, 16.06it/s]"
     ]
    },
    {
     "name": "stdout",
     "output_type": "stream",
     "text": [
      "\n",
      "Skipping data\\happy\\IMG_20241215_230738.jpg because no faces were found in the image.\n"
     ]
    },
    {
     "name": "stderr",
     "output_type": "stream",
     "text": [
      "Building dataset from images:  45%|████▌     | 494/1089 [00:33<00:39, 15.00it/s]"
     ]
    },
    {
     "name": "stdout",
     "output_type": "stream",
     "text": [
      "\n",
      "Skipping data\\happy\\Resize_20241210_223206_6401.jpg because no faces were found in the image.\n"
     ]
    },
    {
     "name": "stderr",
     "output_type": "stream",
     "text": [
      "Building dataset from images:  46%|████▌     | 502/1089 [00:34<00:45, 12.86it/s]"
     ]
    },
    {
     "name": "stdout",
     "output_type": "stream",
     "text": [
      "\n",
      "Skipping data\\happy\\Resize_20241210_223245_5560.jpg because no faces were found in the image.\n"
     ]
    },
    {
     "name": "stderr",
     "output_type": "stream",
     "text": [
      "Building dataset from images:  47%|████▋     | 509/1089 [00:35<00:39, 14.84it/s]"
     ]
    },
    {
     "name": "stdout",
     "output_type": "stream",
     "text": [
      "\n",
      "Skipping data\\happy\\Resize_20241210_223303_3593.jpg because no faces were found in the image.\n"
     ]
    },
    {
     "name": "stderr",
     "output_type": "stream",
     "text": [
      "Building dataset from images:  47%|████▋     | 513/1089 [00:35<00:40, 14.25it/s]"
     ]
    },
    {
     "name": "stdout",
     "output_type": "stream",
     "text": [
      "\n",
      "Skipping data\\happy\\Resize_20241210_223315_5498.jpg because no faces were found in the image.\n"
     ]
    },
    {
     "name": "stderr",
     "output_type": "stream",
     "text": [
      "Building dataset from images:  48%|████▊     | 523/1089 [00:36<00:43, 12.95it/s]"
     ]
    },
    {
     "name": "stdout",
     "output_type": "stream",
     "text": [
      "\n",
      "Skipping data\\happy\\senyum_4.jpg because no faces were found in the image.\n",
      "\n",
      "Skipping data\\happy\\senyum_5.jpg because no faces were found in the image.\n"
     ]
    },
    {
     "name": "stderr",
     "output_type": "stream",
     "text": [
      "Building dataset from images:  52%|█████▏    | 565/1089 [00:38<00:31, 16.70it/s]"
     ]
    },
    {
     "name": "stdout",
     "output_type": "stream",
     "text": [
      "\n",
      "Skipping data\\neutral\\20240927_173857.jpg because no faces were found in the image.\n"
     ]
    },
    {
     "name": "stderr",
     "output_type": "stream",
     "text": [
      "Building dataset from images:  52%|█████▏    | 571/1089 [00:39<00:40, 12.66it/s]"
     ]
    },
    {
     "name": "stdout",
     "output_type": "stream",
     "text": [
      "\n",
      "Skipping data\\neutral\\20241008_181350.jpg because no faces were found in the image.\n"
     ]
    },
    {
     "name": "stderr",
     "output_type": "stream",
     "text": [
      "Building dataset from images:  60%|██████    | 658/1089 [00:46<00:35, 12.09it/s]"
     ]
    },
    {
     "name": "stdout",
     "output_type": "stream",
     "text": [
      "\n",
      "Skipping data\\neutral\\IMG_20241215_231542.jpg because no faces were found in the image.\n"
     ]
    },
    {
     "name": "stderr",
     "output_type": "stream",
     "text": [
      "Building dataset from images:  65%|██████▍   | 705/1089 [00:49<00:19, 19.48it/s]"
     ]
    },
    {
     "name": "stdout",
     "output_type": "stream",
     "text": [
      "\n",
      "Skipping data\\neutral\\Resize_20241210_223106_6875.jpg because no faces were found in the image.\n",
      "\n",
      "Skipping data\\neutral\\Resize_20241210_223115_5905.jpg because no faces were found in the image.\n"
     ]
    },
    {
     "name": "stderr",
     "output_type": "stream",
     "text": [
      "Building dataset from images:  66%|██████▌   | 717/1089 [00:50<00:24, 15.08it/s]"
     ]
    },
    {
     "name": "stdout",
     "output_type": "stream",
     "text": [
      "\n",
      "Skipping data\\neutral\\WhatsApp Image 2024-09-19 at 12.24.47 PM.jpg because no faces were found in the image.\n"
     ]
    },
    {
     "name": "stderr",
     "output_type": "stream",
     "text": [
      "Building dataset from images:  66%|██████▋   | 723/1089 [00:51<00:18, 19.28it/s]"
     ]
    },
    {
     "name": "stdout",
     "output_type": "stream",
     "text": [
      "\n",
      "Skipping data\\neutral\\WhatsApp Image 2024-12-17 at 23.39.51 (2).jpg because no faces were found in the image.\n",
      "\n",
      "Skipping data\\neutral\\WhatsApp Image 2024-12-17 at 23.39.52 (1).jpg because no faces were found in the image.\n",
      "\n",
      "Skipping data\\neutral\\WhatsApp Image 2024-12-17 at 23.39.52 (2).jpg because no faces were found in the image.\n",
      "\n",
      "Skipping data\\neutral\\WhatsApp Image 2024-12-17 at 23.39.52.jpg because no faces were found in the image.\n"
     ]
    },
    {
     "name": "stderr",
     "output_type": "stream",
     "text": [
      "Building dataset from images:  67%|██████▋   | 726/1089 [00:51<00:17, 20.36it/s]"
     ]
    },
    {
     "name": "stdout",
     "output_type": "stream",
     "text": [
      "\n",
      "Skipping data\\neutral\\WhatsApp Image 2024-12-17 at 23.39.53 (1).jpg because no faces were found in the image.\n",
      "\n",
      "Skipping data\\neutral\\WhatsApp Image 2024-12-17 at 23.39.53 (2).jpg because no faces were found in the image.\n",
      "\n",
      "Skipping data\\neutral\\WhatsApp Image 2024-12-17 at 23.39.53.jpg because no faces were found in the image.\n",
      "\n",
      "Skipping data\\neutral\\WhatsApp Image 2024-12-17 at 23.39.54 (1).jpg because no faces were found in the image.\n",
      "\n",
      "Skipping data\\neutral\\WhatsApp Image 2024-12-17 at 23.39.54 (2).jpg because no faces were found in the image.\n"
     ]
    },
    {
     "name": "stderr",
     "output_type": "stream",
     "text": [
      "Building dataset from images:  67%|██████▋   | 732/1089 [00:51<00:15, 22.36it/s]"
     ]
    },
    {
     "name": "stdout",
     "output_type": "stream",
     "text": [
      "\n",
      "Skipping data\\neutral\\WhatsApp Image 2024-12-17 at 23.39.54.jpg because no faces were found in the image.\n",
      "\n",
      "Skipping data\\neutral\\WhatsApp Image 2024-12-17 at 23.39.55 (1).jpg because no faces were found in the image.\n",
      "\n",
      "Skipping data\\neutral\\WhatsApp Image 2024-12-17 at 23.39.55 (2).jpg because no faces were found in the image.\n",
      "\n",
      "Skipping data\\neutral\\WhatsApp Image 2024-12-17 at 23.39.55.jpg because no faces were found in the image.\n",
      "\n",
      "Skipping data\\neutral\\WhatsApp Image 2024-12-17 at 23.39.56 (1).jpg because no faces were found in the image.\n"
     ]
    },
    {
     "name": "stderr",
     "output_type": "stream",
     "text": [
      "Building dataset from images:  68%|██████▊   | 738/1089 [00:51<00:17, 20.48it/s]"
     ]
    },
    {
     "name": "stdout",
     "output_type": "stream",
     "text": [
      "\n",
      "Skipping data\\neutral\\WhatsApp Image 2024-12-17 at 23.39.56.jpg because no faces were found in the image.\n",
      "\n",
      "Skipping data\\neutral\\WhatsApp Image 2024-12-17 at 23.39.57.jpg because no faces were found in the image.\n"
     ]
    },
    {
     "name": "stderr",
     "output_type": "stream",
     "text": [
      "Building dataset from images:  76%|███████▌  | 827/1089 [00:58<00:20, 12.74it/s]"
     ]
    },
    {
     "name": "stdout",
     "output_type": "stream",
     "text": [
      "\n",
      "Skipping data\\sad\\IMG_20241215_230952.jpg because no faces were found in the image.\n"
     ]
    },
    {
     "name": "stderr",
     "output_type": "stream",
     "text": [
      "Building dataset from images:  79%|███████▉  | 864/1089 [01:01<00:12, 17.56it/s]"
     ]
    },
    {
     "name": "stdout",
     "output_type": "stream",
     "text": [
      "\n",
      "Skipping data\\sad\\Resize_20241210_222832_2123.jpg because no faces were found in the image.\n",
      "\n",
      "Skipping data\\sad\\Resize_20241210_222839_9322.jpg because no faces were found in the image.\n"
     ]
    },
    {
     "name": "stderr",
     "output_type": "stream",
     "text": [
      "Building dataset from images:  80%|████████  | 872/1089 [01:01<00:11, 18.98it/s]"
     ]
    },
    {
     "name": "stdout",
     "output_type": "stream",
     "text": [
      "\n",
      "Skipping data\\sad\\Resize_20241210_222845_5876.jpg because no faces were found in the image.\n",
      "\n",
      "Skipping data\\sad\\Resize_20241210_222850_0264.jpg because no faces were found in the image.\n",
      "\n",
      "Skipping data\\sad\\Resize_20241210_222852_2560.jpg because no faces were found in the image.\n"
     ]
    },
    {
     "name": "stderr",
     "output_type": "stream",
     "text": [
      "Building dataset from images:  81%|████████  | 878/1089 [01:02<00:13, 15.82it/s]"
     ]
    },
    {
     "name": "stdout",
     "output_type": "stream",
     "text": [
      "\n",
      "Skipping data\\sad\\Resize_20241210_223123_3199.jpg because no faces were found in the image.\n"
     ]
    },
    {
     "name": "stderr",
     "output_type": "stream",
     "text": [
      "Building dataset from images:  81%|████████  | 884/1089 [01:02<00:14, 13.75it/s]"
     ]
    },
    {
     "name": "stdout",
     "output_type": "stream",
     "text": [
      "\n",
      "Skipping data\\sad\\sedih_5.jpg because no faces were found in the image.\n",
      "\n",
      "Skipping data\\sad\\sedih_7.jpg because no faces were found in the image.\n"
     ]
    },
    {
     "name": "stderr",
     "output_type": "stream",
     "text": [
      "Building dataset from images:  83%|████████▎ | 905/1089 [01:03<00:10, 17.79it/s]"
     ]
    },
    {
     "name": "stdout",
     "output_type": "stream",
     "text": [
      "\n",
      "Skipping data\\sad\\WhatsApp Image 2024-12-17 at 23.31.37 (1).jpg because no faces were found in the image.\n",
      "\n",
      "Skipping data\\sad\\WhatsApp Image 2024-12-17 at 23.31.37 (2).jpg because no faces were found in the image.\n",
      "\n",
      "Skipping data\\sad\\WhatsApp Image 2024-12-17 at 23.31.38 (2).jpg because no faces were found in the image.\n"
     ]
    },
    {
     "name": "stderr",
     "output_type": "stream",
     "text": [
      "Building dataset from images:  84%|████████▎ | 910/1089 [01:04<00:09, 18.44it/s]"
     ]
    },
    {
     "name": "stdout",
     "output_type": "stream",
     "text": [
      "\n",
      "Skipping data\\sad\\WhatsApp Image 2024-12-17 at 23.31.38.jpg because no faces were found in the image.\n",
      "\n",
      "Skipping data\\sad\\WhatsApp Image 2024-12-17 at 23.31.39 (2).jpg because no faces were found in the image.\n"
     ]
    },
    {
     "name": "stderr",
     "output_type": "stream",
     "text": [
      "Building dataset from images:  84%|████████▍ | 916/1089 [01:04<00:09, 17.68it/s]"
     ]
    },
    {
     "name": "stdout",
     "output_type": "stream",
     "text": [
      "\n",
      "Skipping data\\sad\\WhatsApp Image 2024-12-17 at 23.31.40 (2).jpg because no faces were found in the image.\n",
      "\n",
      "Skipping data\\sad\\WhatsApp Image 2024-12-17 at 23.31.41 (1).jpg because no faces were found in the image.\n"
     ]
    },
    {
     "name": "stderr",
     "output_type": "stream",
     "text": [
      "Building dataset from images:  85%|████████▌ | 928/1089 [01:05<00:10, 16.07it/s]"
     ]
    },
    {
     "name": "stdout",
     "output_type": "stream",
     "text": [
      "\n",
      "Skipping data\\surprised\\20241008_181307.jpg because no faces were found in the image.\n"
     ]
    },
    {
     "name": "stderr",
     "output_type": "stream",
     "text": [
      "Building dataset from images:  92%|█████████▏| 1004/1089 [01:11<00:06, 12.52it/s]"
     ]
    },
    {
     "name": "stdout",
     "output_type": "stream",
     "text": [
      "\n",
      "Skipping data\\surprised\\IMG_20241215_231052_1.jpg because no faces were found in the image.\n"
     ]
    },
    {
     "name": "stderr",
     "output_type": "stream",
     "text": [
      "Building dataset from images:  93%|█████████▎| 1014/1089 [01:12<00:05, 12.53it/s]"
     ]
    },
    {
     "name": "stdout",
     "output_type": "stream",
     "text": [
      "\n",
      "Skipping data\\surprised\\IMG_20241215_231102.jpg because no faces were found in the image.\n"
     ]
    },
    {
     "name": "stderr",
     "output_type": "stream",
     "text": [
      "Building dataset from images:  94%|█████████▍| 1027/1089 [01:13<00:04, 14.16it/s]"
     ]
    },
    {
     "name": "stdout",
     "output_type": "stream",
     "text": [
      "\n",
      "Skipping data\\surprised\\Resize_20241210_222854_4662.jpg because no faces were found in the image.\n",
      "\n",
      "Skipping data\\surprised\\Resize_20241210_222856_6766.jpg because no faces were found in the image.\n"
     ]
    },
    {
     "name": "stderr",
     "output_type": "stream",
     "text": [
      "Building dataset from images:  96%|█████████▋| 1049/1089 [01:14<00:02, 16.61it/s]"
     ]
    },
    {
     "name": "stdout",
     "output_type": "stream",
     "text": [
      "\n",
      "Skipping data\\surprised\\Resize_20241210_223046_6304.jpg because no faces were found in the image.\n"
     ]
    },
    {
     "name": "stderr",
     "output_type": "stream",
     "text": [
      "Building dataset from images:  97%|█████████▋| 1055/1089 [01:15<00:02, 14.46it/s]"
     ]
    },
    {
     "name": "stdout",
     "output_type": "stream",
     "text": [
      "\n",
      "Skipping data\\surprised\\terkejut_4.jpg because no faces were found in the image.\n",
      "\n",
      "Skipping data\\surprised\\terkejut_5.jpg because no faces were found in the image.\n"
     ]
    },
    {
     "name": "stderr",
     "output_type": "stream",
     "text": [
      "Building dataset from images: 100%|██████████| 1089/1089 [01:17<00:00, 14.11it/s]\n"
     ]
    },
    {
     "name": "stdout",
     "output_type": "stream",
     "text": [
      "Skipped over 75 images because no faces were found in the images.\n"
     ]
    }
   ],
   "source": [
    "skipped = 0\n",
    "list_data: list[npt.NDArray] = []\n",
    "list_labels: list[int] = []\n",
    "for entry in tqdm.tqdm(entries, desc=\"Building dataset from images\"):\n",
    "  original = cv.imread(entry.path)\n",
    "  \n",
    "  # Preprocessing\n",
    "  img_resized = resize_image(original, STANDARD_DIMENSIONS)\n",
    "  img_grayscale = cv.cvtColor(img_resized, cv.COLOR_BGR2GRAY)\n",
    "  img_clahe = clahe.apply(img_grayscale)\n",
    "\n",
    "  # Extract face coordinates\n",
    "  face_coordinates = locator_model.detectMultiScale(img_clahe)\n",
    "  face_rects = list(Rectangle.from_tuple(coords) for coords in face_coordinates)\n",
    "  face_rects.sort(key=lambda x: x.area)\n",
    "  saved_face_rects: list[Rectangle] = []\n",
    "  # Prevent overlapping face rectangles\n",
    "  for face_rect_a in face_rects:\n",
    "    is_overlapping = False\n",
    "    for face_rect_b in saved_face_rects:\n",
    "      IOU = face_rect_a.intersection_with_union(face_rect_b)\n",
    "      if IOU > 0.4:\n",
    "        is_overlapping = True\n",
    "        break\n",
    "\n",
    "    if not is_overlapping:\n",
    "      saved_face_rects.append(face_rect_a)\n",
    "\n",
    "  # Get faces from original image\n",
    "  faces = list(\n",
    "    img_clahe[pos.slice]\n",
    "    for pos in face_rects\n",
    "  )\n",
    "\n",
    "  features: list[npt.NDArray] = []\n",
    "  for raw_face_img in faces:\n",
    "    # Additional preprocessing\n",
    "    face_resized = cv.resize(raw_face_img, FACE_DIMENSIONS.tuple, interpolation=cv.INTER_CUBIC)\n",
    "    face_blurred = cv.filter2D(face_resized, -1, GAUSSIAN_3X3_KERNEL)\n",
    "    face_preprocessed = cv.filter2D(face_blurred, -1, SHARPEN_KERNEL)\n",
    "\n",
    "    # Get face landmarks\n",
    "    _, raw_face_landmarks = landmark_model.fit(face_preprocessed, np.array(((0, 0, face_preprocessed.shape[0], face_preprocessed.shape[1]),)))\n",
    "    face_landmark_points: npt.NDArray = raw_face_landmarks[0][0]\n",
    "    face_landmark = FaceLandmark(\n",
    "      face_shape=face_landmark_points[:17],\n",
    "      eyebrows=face_landmark_points[17:27],\n",
    "      nose=face_landmark_points[27:36],\n",
    "      eyes=face_landmark_points[36:48],\n",
    "      lips=face_landmark_points[48:],\n",
    "      dims=Dimension.from_shape(face_preprocessed.shape)\n",
    "    )\n",
    "    face_dims = Dimension.from_shape(raw_face_img.shape)\n",
    "    face_landmark = FaceLandmark.from_raw_landmark(face_landmark_points, face_dims)\n",
    "    face_aligned = face_alignment(face_preprocessed, face_landmark)\n",
    "\n",
    "    # Split image to grids for LBP\n",
    "    lbp_grid_rects = partition_grid(face_dims, *LBP_GRID_SIZE)\n",
    "    histograms: list[npt.NDArray] = []\n",
    "\n",
    "    # Perform LBP\n",
    "    lbp_image: npt.NDArray = skimage.feature.local_binary_pattern(face_aligned, 8, 1)\n",
    "    for lbp_grid_rect in lbp_grid_rects:\n",
    "      chunk = lbp_image[lbp_grid_rect.slice]\n",
    "\n",
    "      if chunk.size == 0:\n",
    "        histograms.append(np.full((LBP_HISTOGRAM_BIN_COUNT,), 0))\n",
    "        continue\n",
    "      histograms.append(scipy.ndimage.histogram(chunk, 0, 255, LBP_HISTOGRAM_BIN_COUNT) / chunk.size)\n",
    "\n",
    "    feature_vector = np.hstack(histograms)\n",
    "    features.append(feature_vector)\n",
    "\n",
    "  if len(features) == 0:\n",
    "    print(f\"\\nSkipping {entry.path} because no faces were found in the image.\")\n",
    "    skipped += 1\n",
    "    continue\n",
    "  list_data.extend(features)\n",
    "  list_labels.extend([entry.label] * len(features))\n",
    "\n",
    "print(f\"Skipped over {skipped} images because no faces were found in the images.\")\n",
    "\n",
    "data = np.array(list_data)\n",
    "labels = np.array(list_labels).reshape((-1, 1))\n",
    "dfdata = np.hstack((labels, data))\n",
    "df = pd.DataFrame(dfdata, columns=[\n",
    "  \"label\",\n",
    "  *map(lambda idx: f'feature-{idx + 1}', range(data.shape[1])),\n",
    "])\n",
    "\n",
    "df.to_csv(TRAINING_DATA_CSV_PATH, index=False)"
   ]
  },
  {
   "cell_type": "markdown",
   "metadata": {},
   "source": [
    "Start training process"
   ]
  },
  {
   "cell_type": "code",
   "execution_count": 45,
   "metadata": {},
   "outputs": [
    {
     "data": {
      "text/html": [
       "<div>\n",
       "<style scoped>\n",
       "    .dataframe tbody tr th:only-of-type {\n",
       "        vertical-align: middle;\n",
       "    }\n",
       "\n",
       "    .dataframe tbody tr th {\n",
       "        vertical-align: top;\n",
       "    }\n",
       "\n",
       "    .dataframe thead th {\n",
       "        text-align: right;\n",
       "    }\n",
       "</style>\n",
       "<table border=\"1\" class=\"dataframe\">\n",
       "  <thead>\n",
       "    <tr style=\"text-align: right;\">\n",
       "      <th></th>\n",
       "      <th>feature-1</th>\n",
       "      <th>feature-2</th>\n",
       "      <th>feature-3</th>\n",
       "      <th>feature-4</th>\n",
       "      <th>feature-5</th>\n",
       "      <th>feature-6</th>\n",
       "      <th>feature-7</th>\n",
       "      <th>feature-8</th>\n",
       "      <th>feature-9</th>\n",
       "      <th>feature-10</th>\n",
       "      <th>...</th>\n",
       "      <th>feature-503</th>\n",
       "      <th>feature-504</th>\n",
       "      <th>feature-505</th>\n",
       "      <th>feature-506</th>\n",
       "      <th>feature-507</th>\n",
       "      <th>feature-508</th>\n",
       "      <th>feature-509</th>\n",
       "      <th>feature-510</th>\n",
       "      <th>feature-511</th>\n",
       "      <th>feature-512</th>\n",
       "    </tr>\n",
       "  </thead>\n",
       "  <tbody>\n",
       "    <tr>\n",
       "      <th>0</th>\n",
       "      <td>0.376731</td>\n",
       "      <td>0.041551</td>\n",
       "      <td>0.016620</td>\n",
       "      <td>0.058172</td>\n",
       "      <td>0.030471</td>\n",
       "      <td>0.000000</td>\n",
       "      <td>0.072022</td>\n",
       "      <td>0.404432</td>\n",
       "      <td>0.479224</td>\n",
       "      <td>0.008310</td>\n",
       "      <td>...</td>\n",
       "      <td>0.000000</td>\n",
       "      <td>0.000000</td>\n",
       "      <td>0.000000</td>\n",
       "      <td>0.000000</td>\n",
       "      <td>0.000000</td>\n",
       "      <td>0.000000</td>\n",
       "      <td>0.000000</td>\n",
       "      <td>0.000000</td>\n",
       "      <td>0.000000</td>\n",
       "      <td>0.000000</td>\n",
       "    </tr>\n",
       "    <tr>\n",
       "      <th>1</th>\n",
       "      <td>0.408163</td>\n",
       "      <td>0.090703</td>\n",
       "      <td>0.018141</td>\n",
       "      <td>0.083900</td>\n",
       "      <td>0.006803</td>\n",
       "      <td>0.002268</td>\n",
       "      <td>0.081633</td>\n",
       "      <td>0.308390</td>\n",
       "      <td>0.512472</td>\n",
       "      <td>0.036281</td>\n",
       "      <td>...</td>\n",
       "      <td>0.000000</td>\n",
       "      <td>0.000000</td>\n",
       "      <td>0.000000</td>\n",
       "      <td>0.000000</td>\n",
       "      <td>0.000000</td>\n",
       "      <td>0.000000</td>\n",
       "      <td>0.000000</td>\n",
       "      <td>0.000000</td>\n",
       "      <td>0.000000</td>\n",
       "      <td>0.000000</td>\n",
       "    </tr>\n",
       "    <tr>\n",
       "      <th>2</th>\n",
       "      <td>0.503086</td>\n",
       "      <td>0.089506</td>\n",
       "      <td>0.018519</td>\n",
       "      <td>0.080247</td>\n",
       "      <td>0.015432</td>\n",
       "      <td>0.000000</td>\n",
       "      <td>0.061728</td>\n",
       "      <td>0.231481</td>\n",
       "      <td>0.444444</td>\n",
       "      <td>0.046296</td>\n",
       "      <td>...</td>\n",
       "      <td>0.000000</td>\n",
       "      <td>0.000000</td>\n",
       "      <td>0.000000</td>\n",
       "      <td>0.000000</td>\n",
       "      <td>0.000000</td>\n",
       "      <td>0.000000</td>\n",
       "      <td>0.000000</td>\n",
       "      <td>0.000000</td>\n",
       "      <td>0.000000</td>\n",
       "      <td>0.000000</td>\n",
       "    </tr>\n",
       "    <tr>\n",
       "      <th>3</th>\n",
       "      <td>0.404959</td>\n",
       "      <td>0.047521</td>\n",
       "      <td>0.020661</td>\n",
       "      <td>0.068182</td>\n",
       "      <td>0.045455</td>\n",
       "      <td>0.004132</td>\n",
       "      <td>0.076446</td>\n",
       "      <td>0.332645</td>\n",
       "      <td>0.438017</td>\n",
       "      <td>0.066116</td>\n",
       "      <td>...</td>\n",
       "      <td>0.000000</td>\n",
       "      <td>0.000000</td>\n",
       "      <td>0.000000</td>\n",
       "      <td>0.000000</td>\n",
       "      <td>0.000000</td>\n",
       "      <td>0.000000</td>\n",
       "      <td>0.000000</td>\n",
       "      <td>0.000000</td>\n",
       "      <td>0.000000</td>\n",
       "      <td>0.000000</td>\n",
       "    </tr>\n",
       "    <tr>\n",
       "      <th>4</th>\n",
       "      <td>0.371901</td>\n",
       "      <td>0.057851</td>\n",
       "      <td>0.020661</td>\n",
       "      <td>0.082645</td>\n",
       "      <td>0.045455</td>\n",
       "      <td>0.004132</td>\n",
       "      <td>0.053719</td>\n",
       "      <td>0.363636</td>\n",
       "      <td>0.458678</td>\n",
       "      <td>0.039256</td>\n",
       "      <td>...</td>\n",
       "      <td>0.000000</td>\n",
       "      <td>0.000000</td>\n",
       "      <td>0.000000</td>\n",
       "      <td>0.000000</td>\n",
       "      <td>0.000000</td>\n",
       "      <td>0.000000</td>\n",
       "      <td>0.000000</td>\n",
       "      <td>0.000000</td>\n",
       "      <td>0.000000</td>\n",
       "      <td>0.000000</td>\n",
       "    </tr>\n",
       "    <tr>\n",
       "      <th>...</th>\n",
       "      <td>...</td>\n",
       "      <td>...</td>\n",
       "      <td>...</td>\n",
       "      <td>...</td>\n",
       "      <td>...</td>\n",
       "      <td>...</td>\n",
       "      <td>...</td>\n",
       "      <td>...</td>\n",
       "      <td>...</td>\n",
       "      <td>...</td>\n",
       "      <td>...</td>\n",
       "      <td>...</td>\n",
       "      <td>...</td>\n",
       "      <td>...</td>\n",
       "      <td>...</td>\n",
       "      <td>...</td>\n",
       "      <td>...</td>\n",
       "      <td>...</td>\n",
       "      <td>...</td>\n",
       "      <td>...</td>\n",
       "      <td>...</td>\n",
       "    </tr>\n",
       "    <tr>\n",
       "      <th>1077</th>\n",
       "      <td>0.173469</td>\n",
       "      <td>0.076531</td>\n",
       "      <td>0.040816</td>\n",
       "      <td>0.193878</td>\n",
       "      <td>0.127551</td>\n",
       "      <td>0.010204</td>\n",
       "      <td>0.178571</td>\n",
       "      <td>0.198980</td>\n",
       "      <td>0.153061</td>\n",
       "      <td>0.122449</td>\n",
       "      <td>...</td>\n",
       "      <td>0.229592</td>\n",
       "      <td>0.275510</td>\n",
       "      <td>0.107143</td>\n",
       "      <td>0.107143</td>\n",
       "      <td>0.025510</td>\n",
       "      <td>0.056122</td>\n",
       "      <td>0.107143</td>\n",
       "      <td>0.020408</td>\n",
       "      <td>0.428571</td>\n",
       "      <td>0.147959</td>\n",
       "    </tr>\n",
       "    <tr>\n",
       "      <th>1078</th>\n",
       "      <td>0.146667</td>\n",
       "      <td>0.111111</td>\n",
       "      <td>0.035556</td>\n",
       "      <td>0.168889</td>\n",
       "      <td>0.120000</td>\n",
       "      <td>0.013333</td>\n",
       "      <td>0.186667</td>\n",
       "      <td>0.217778</td>\n",
       "      <td>0.191111</td>\n",
       "      <td>0.128889</td>\n",
       "      <td>...</td>\n",
       "      <td>0.546667</td>\n",
       "      <td>0.128889</td>\n",
       "      <td>0.342222</td>\n",
       "      <td>0.093333</td>\n",
       "      <td>0.057778</td>\n",
       "      <td>0.142222</td>\n",
       "      <td>0.013333</td>\n",
       "      <td>0.008889</td>\n",
       "      <td>0.057778</td>\n",
       "      <td>0.284444</td>\n",
       "    </tr>\n",
       "    <tr>\n",
       "      <th>1079</th>\n",
       "      <td>0.142857</td>\n",
       "      <td>0.117347</td>\n",
       "      <td>0.040816</td>\n",
       "      <td>0.178571</td>\n",
       "      <td>0.117347</td>\n",
       "      <td>0.015306</td>\n",
       "      <td>0.193878</td>\n",
       "      <td>0.193878</td>\n",
       "      <td>0.188776</td>\n",
       "      <td>0.081633</td>\n",
       "      <td>...</td>\n",
       "      <td>0.250000</td>\n",
       "      <td>0.244898</td>\n",
       "      <td>0.163265</td>\n",
       "      <td>0.066327</td>\n",
       "      <td>0.020408</td>\n",
       "      <td>0.061224</td>\n",
       "      <td>0.091837</td>\n",
       "      <td>0.010204</td>\n",
       "      <td>0.418367</td>\n",
       "      <td>0.168367</td>\n",
       "    </tr>\n",
       "    <tr>\n",
       "      <th>1080</th>\n",
       "      <td>0.158163</td>\n",
       "      <td>0.096939</td>\n",
       "      <td>0.040816</td>\n",
       "      <td>0.173469</td>\n",
       "      <td>0.102041</td>\n",
       "      <td>0.010204</td>\n",
       "      <td>0.198980</td>\n",
       "      <td>0.219388</td>\n",
       "      <td>0.168367</td>\n",
       "      <td>0.086735</td>\n",
       "      <td>...</td>\n",
       "      <td>0.239796</td>\n",
       "      <td>0.244898</td>\n",
       "      <td>0.158163</td>\n",
       "      <td>0.076531</td>\n",
       "      <td>0.030612</td>\n",
       "      <td>0.056122</td>\n",
       "      <td>0.081633</td>\n",
       "      <td>0.010204</td>\n",
       "      <td>0.454082</td>\n",
       "      <td>0.132653</td>\n",
       "    </tr>\n",
       "    <tr>\n",
       "      <th>1081</th>\n",
       "      <td>0.133333</td>\n",
       "      <td>0.111111</td>\n",
       "      <td>0.035556</td>\n",
       "      <td>0.231111</td>\n",
       "      <td>0.084444</td>\n",
       "      <td>0.013333</td>\n",
       "      <td>0.177778</td>\n",
       "      <td>0.213333</td>\n",
       "      <td>0.173333</td>\n",
       "      <td>0.084444</td>\n",
       "      <td>...</td>\n",
       "      <td>0.573333</td>\n",
       "      <td>0.102222</td>\n",
       "      <td>0.324444</td>\n",
       "      <td>0.133333</td>\n",
       "      <td>0.053333</td>\n",
       "      <td>0.168889</td>\n",
       "      <td>0.040000</td>\n",
       "      <td>0.008889</td>\n",
       "      <td>0.044444</td>\n",
       "      <td>0.226667</td>\n",
       "    </tr>\n",
       "  </tbody>\n",
       "</table>\n",
       "<p>1082 rows × 512 columns</p>\n",
       "</div>"
      ],
      "text/plain": [
       "      feature-1  feature-2  feature-3  feature-4  feature-5  feature-6  \\\n",
       "0      0.376731   0.041551   0.016620   0.058172   0.030471   0.000000   \n",
       "1      0.408163   0.090703   0.018141   0.083900   0.006803   0.002268   \n",
       "2      0.503086   0.089506   0.018519   0.080247   0.015432   0.000000   \n",
       "3      0.404959   0.047521   0.020661   0.068182   0.045455   0.004132   \n",
       "4      0.371901   0.057851   0.020661   0.082645   0.045455   0.004132   \n",
       "...         ...        ...        ...        ...        ...        ...   \n",
       "1077   0.173469   0.076531   0.040816   0.193878   0.127551   0.010204   \n",
       "1078   0.146667   0.111111   0.035556   0.168889   0.120000   0.013333   \n",
       "1079   0.142857   0.117347   0.040816   0.178571   0.117347   0.015306   \n",
       "1080   0.158163   0.096939   0.040816   0.173469   0.102041   0.010204   \n",
       "1081   0.133333   0.111111   0.035556   0.231111   0.084444   0.013333   \n",
       "\n",
       "      feature-7  feature-8  feature-9  feature-10  ...  feature-503  \\\n",
       "0      0.072022   0.404432   0.479224    0.008310  ...     0.000000   \n",
       "1      0.081633   0.308390   0.512472    0.036281  ...     0.000000   \n",
       "2      0.061728   0.231481   0.444444    0.046296  ...     0.000000   \n",
       "3      0.076446   0.332645   0.438017    0.066116  ...     0.000000   \n",
       "4      0.053719   0.363636   0.458678    0.039256  ...     0.000000   \n",
       "...         ...        ...        ...         ...  ...          ...   \n",
       "1077   0.178571   0.198980   0.153061    0.122449  ...     0.229592   \n",
       "1078   0.186667   0.217778   0.191111    0.128889  ...     0.546667   \n",
       "1079   0.193878   0.193878   0.188776    0.081633  ...     0.250000   \n",
       "1080   0.198980   0.219388   0.168367    0.086735  ...     0.239796   \n",
       "1081   0.177778   0.213333   0.173333    0.084444  ...     0.573333   \n",
       "\n",
       "      feature-504  feature-505  feature-506  feature-507  feature-508  \\\n",
       "0        0.000000     0.000000     0.000000     0.000000     0.000000   \n",
       "1        0.000000     0.000000     0.000000     0.000000     0.000000   \n",
       "2        0.000000     0.000000     0.000000     0.000000     0.000000   \n",
       "3        0.000000     0.000000     0.000000     0.000000     0.000000   \n",
       "4        0.000000     0.000000     0.000000     0.000000     0.000000   \n",
       "...           ...          ...          ...          ...          ...   \n",
       "1077     0.275510     0.107143     0.107143     0.025510     0.056122   \n",
       "1078     0.128889     0.342222     0.093333     0.057778     0.142222   \n",
       "1079     0.244898     0.163265     0.066327     0.020408     0.061224   \n",
       "1080     0.244898     0.158163     0.076531     0.030612     0.056122   \n",
       "1081     0.102222     0.324444     0.133333     0.053333     0.168889   \n",
       "\n",
       "      feature-509  feature-510  feature-511  feature-512  \n",
       "0        0.000000     0.000000     0.000000     0.000000  \n",
       "1        0.000000     0.000000     0.000000     0.000000  \n",
       "2        0.000000     0.000000     0.000000     0.000000  \n",
       "3        0.000000     0.000000     0.000000     0.000000  \n",
       "4        0.000000     0.000000     0.000000     0.000000  \n",
       "...           ...          ...          ...          ...  \n",
       "1077     0.107143     0.020408     0.428571     0.147959  \n",
       "1078     0.013333     0.008889     0.057778     0.284444  \n",
       "1079     0.091837     0.010204     0.418367     0.168367  \n",
       "1080     0.081633     0.010204     0.454082     0.132653  \n",
       "1081     0.040000     0.008889     0.044444     0.226667  \n",
       "\n",
       "[1082 rows x 512 columns]"
      ]
     },
     "execution_count": 45,
     "metadata": {},
     "output_type": "execute_result"
    }
   ],
   "source": [
    "df = pd.read_csv(TRAINING_DATA_CSV_PATH, index_col=False)\n",
    "labels = df[\"label\"]\n",
    "df = df.drop(columns=[\"label\"])\n",
    "df"
   ]
  },
  {
   "cell_type": "markdown",
   "metadata": {},
   "source": [
    "Data Visualization"
   ]
  },
  {
   "cell_type": "code",
   "execution_count": 46,
   "metadata": {},
   "outputs": [
    {
     "data": {
      "application/vnd.plotly.v1+json": {
       "config": {
        "plotlyServerURL": "https://plot.ly"
       },
       "data": [
        {
         "hovertemplate": "Label=angry<br>x=%{x}<br>y=%{y}<extra></extra>",
         "legendgroup": "angry",
         "marker": {
          "color": "#636efa",
          "symbol": "circle"
         },
         "mode": "markers",
         "name": "angry",
         "showlegend": true,
         "type": "scattergl",
         "x": [
          -11.725500106811523,
          -13.533727645874023,
          -12.336583137512207,
          -14.765125274658203,
          -15.239240646362305,
          -14.147061347961426,
          -40.42703628540039,
          -16.803022384643555,
          -40.347862243652344,
          -16.029699325561523,
          -12.686431884765625,
          33.996150970458984,
          -26.54584312438965,
          22.94577980041504,
          -26.9787654876709,
          -27.39911651611328,
          34.129722595214844,
          -26.605297088623047,
          -27.105703353881836,
          -27.01239776611328,
          34.768436431884766,
          34.876338958740234,
          34.63303756713867,
          34.82197189331055,
          34.69827651977539,
          -27.189434051513672,
          35.026084899902344,
          22.861284255981445,
          35.384849548339844,
          -27.82823371887207,
          -27.794021606445312,
          -43.32770919799805,
          -41.330318450927734,
          -43.48625183105469,
          -43.72062301635742,
          -43.748985290527344,
          20.56986427307129,
          -7.054405212402344,
          -7.956020832061768,
          -40.13063049316406,
          -43.730106353759766,
          -41.78894805908203,
          -41.57694625854492,
          -42.977813720703125,
          -42.585655212402344,
          -40.31382751464844,
          -39.09308624267578,
          -39.20261764526367,
          -40.50055694580078,
          -40.66866683959961,
          -42.48318862915039,
          -41.893348693847656,
          -39.677799224853516,
          -38.77237319946289,
          -39.15742492675781,
          -39.10917282104492,
          -39.54033279418945,
          -42.41917037963867,
          -43.02274703979492,
          -39.3524284362793,
          -38.64978790283203,
          28.18902015686035,
          27.862638473510742,
          -25.87444496154785,
          28.033334732055664,
          28.06441307067871,
          27.955245971679688,
          27.55339813232422,
          27.53016471862793,
          16.688196182250977,
          17.764663696289062,
          13.395828247070312,
          10.542195320129395,
          10.73619556427002,
          14.216453552246094,
          33.048099517822266,
          13.2725830078125,
          13.871421813964844,
          13.6104736328125,
          13.635284423828125,
          13.37726879119873,
          31.431543350219727,
          30.532346725463867,
          30.50922966003418,
          -8.530594825744629,
          -12.183632850646973,
          -12.192888259887695,
          33.04597854614258,
          -14.158856391906738,
          -23.48662757873535,
          -22.22153091430664,
          35.64750671386719,
          -21.081951141357422,
          -41.16389846801758,
          -20.59623146057129,
          -18.356332778930664,
          -11.00885009765625,
          -13.179807662963867,
          -10.989398956298828,
          -14.36856746673584,
          -12.594975471496582,
          -12.169379234313965,
          -19.891515731811523,
          -11.874167442321777,
          -11.156904220581055,
          -16.136974334716797,
          -16.093982696533203,
          -16.465341567993164,
          29.203916549682617,
          2.5232677459716797,
          31.550914764404297,
          30.602863311767578,
          19.843425750732422,
          -24.444290161132812,
          29.386512756347656,
          -39.73685073852539,
          -10.659279823303223,
          -9.232643127441406,
          -13.46400260925293,
          -12.351123809814453,
          -12.160935401916504,
          -12.391029357910156,
          -12.302993774414062,
          -9.791045188903809,
          -9.956546783447266,
          -13.008674621582031,
          32.08506774902344,
          -3.712498188018799,
          -2.9256532192230225,
          -16.678333282470703,
          -4.981361389160156,
          -20.06650161743164,
          -15.725768089294434,
          -3.7894294261932373,
          -21.01313591003418,
          -20.46196174621582,
          -29.2993106842041,
          -29.097497940063477,
          -29.634788513183594,
          -29.575143814086914,
          25.03351593017578,
          -29.589771270751953,
          -29.22947120666504,
          -28.789779663085938,
          -29.107624053955078,
          25.25151252746582,
          11.145788192749023,
          -28.724376678466797,
          11.131056785583496,
          25.270627975463867,
          24.8320369720459,
          25.321491241455078,
          24.562026977539062,
          24.488710403442383,
          -28.67148780822754,
          24.76508903503418
         ],
         "xaxis": "x",
         "y": [
          11.723140716552734,
          -42.27842712402344,
          6.513999938964844,
          -42.24330139160156,
          -42.23183822631836,
          6.338018894195557,
          -22.964868545532227,
          -44.21087646484375,
          -23.071306228637695,
          -36.04819107055664,
          -37.01607894897461,
          -17.30267333984375,
          3.7338056564331055,
          30.111722946166992,
          4.294079303741455,
          4.394617080688477,
          -17.59372329711914,
          3.129204034805298,
          3.777310609817505,
          3.156100034713745,
          -17.316640853881836,
          -17.72536277770996,
          -17.653104782104492,
          -17.210430145263672,
          -16.924644470214844,
          3.7569873332977295,
          -16.862483978271484,
          30.022077560424805,
          -17.3432674407959,
          2.927506446838379,
          2.7867040634155273,
          16.052072525024414,
          13.2625732421875,
          16.39007568359375,
          15.808172225952148,
          16.496177673339844,
          -14.801640510559082,
          -47.465576171875,
          -47.439239501953125,
          11.665462493896484,
          15.114078521728516,
          15.77741527557373,
          16.094106674194336,
          14.181212425231934,
          14.122089385986328,
          12.485068321228027,
          11.548460960388184,
          11.834027290344238,
          12.82445240020752,
          13.129758834838867,
          15.219549179077148,
          16.295738220214844,
          12.915325164794922,
          12.199338912963867,
          13.275129318237305,
          13.357952117919922,
          13.172564506530762,
          14.168048858642578,
          14.59908676147461,
          11.9982328414917,
          11.546534538269043,
          -26.321956634521484,
          -26.054458618164062,
          15.047268867492676,
          -26.036151885986328,
          -26.622682571411133,
          -26.98733139038086,
          -26.009302139282227,
          -26.44352912902832,
          32.889442443847656,
          33.522705078125,
          39.655887603759766,
          41.92347717285156,
          42.324859619140625,
          37.54801940917969,
          -20.007150650024414,
          40.1246223449707,
          37.83897018432617,
          38.32844543457031,
          38.229183197021484,
          39.80457305908203,
          -3.96148943901062,
          -5.06476354598999,
          -5.0788984298706055,
          -2.5583481788635254,
          -0.9800812602043152,
          -0.9801750779151917,
          -19.234840393066406,
          -36.487579345703125,
          10.551862716674805,
          4.252117156982422,
          -18.5686092376709,
          12.531390190124512,
          -21.874332427978516,
          9.697164535522461,
          10.145968437194824,
          -34.62105178833008,
          -35.735836029052734,
          -34.65713119506836,
          -34.91883850097656,
          -35.046207427978516,
          -35.038177490234375,
          5.84687614440918,
          -32.69963455200195,
          -34.03947830200195,
          -33.83302307128906,
          -33.47542190551758,
          -34.19129943847656,
          -9.070046424865723,
          30.09262466430664,
          -8.996831893920898,
          -8.946255683898926,
          24.514320373535156,
          9.760819435119629,
          -8.499268531799316,
          -19.6688289642334,
          7.209721565246582,
          -41.04818344116211,
          6.300059795379639,
          -41.958030700683594,
          -41.63948059082031,
          -42.01194763183594,
          -41.63542938232422,
          -41.928916931152344,
          -41.924442291259766,
          7.82078218460083,
          -3.590977668762207,
          0.7558667659759521,
          2.3983523845672607,
          8.865732192993164,
          -29.549083709716797,
          -36.8842887878418,
          -42.999267578125,
          -27.947660446166992,
          -36.90681457519531,
          -36.77698516845703,
          19.90862464904785,
          19.170286178588867,
          19.789875030517578,
          19.541288375854492,
          -27.042884826660156,
          19.203386306762695,
          19.082786560058594,
          19.503395080566406,
          19.912044525146484,
          -27.847030639648438,
          32.21302795410156,
          19.391767501831055,
          32.20399475097656,
          -27.645124435424805,
          -27.610553741455078,
          -27.524885177612305,
          -27.521846771240234,
          -27.127668380737305,
          20.016448974609375,
          -27.094505310058594
         ],
         "yaxis": "y"
        },
        {
         "hovertemplate": "Label=disgusted<br>x=%{x}<br>y=%{y}<extra></extra>",
         "legendgroup": "disgusted",
         "marker": {
          "color": "#EF553B",
          "symbol": "circle"
         },
         "mode": "markers",
         "name": "disgusted",
         "showlegend": true,
         "type": "scattergl",
         "x": [
          -12.857624053955078,
          -14.321993827819824,
          -12.797628402709961,
          -10.635002136230469,
          -17.031051635742188,
          -14.146044731140137,
          -16.595048904418945,
          -14.65580940246582,
          -12.635600090026855,
          -19.063173294067383,
          -18.457813262939453,
          34.57292938232422,
          -18.78435516357422,
          33.06155776977539,
          -17.725847244262695,
          -19.173377990722656,
          -17.59597396850586,
          34.42399215698242,
          -17.560962677001953,
          -18.732633590698242,
          19.09981346130371,
          33.36556625366211,
          -19.238588333129883,
          33.641971588134766,
          33.40890121459961,
          18.931209564208984,
          20.313018798828125,
          20.94757652282715,
          20.817594528198242,
          -3.0609841346740723,
          -2.9799160957336426,
          -1.0487034320831299,
          -0.49065589904785156,
          -2.260435104370117,
          -1.393636703491211,
          -1.8204880952835083,
          -2.1029837131500244,
          36.174232482910156,
          23.9741268157959,
          -37.515438079833984,
          -2.233682870864868,
          -2.256772041320801,
          -3.2227373123168945,
          -2.20167875289917,
          -2.470273733139038,
          -3.1404287815093994,
          -37.833187103271484,
          -3.343123197555542,
          -3.2037370204925537,
          -37.30929946899414,
          -38.13728713989258,
          -2.2869584560394287,
          -1.9958891868591309,
          -1.5009418725967407,
          -1.4344154596328735,
          -1.521343469619751,
          -1.5783360004425049,
          -1.3789411783218384,
          -37.656585693359375,
          19.918474197387695,
          18.7305850982666,
          18.598045349121094,
          17.51839828491211,
          17.521032333374023,
          20.321800231933594,
          19.89495277404785,
          19.867246627807617,
          20.3701229095459,
          19.999731063842773,
          14.241744995117188,
          14.271474838256836,
          15.564616203308105,
          14.34352970123291,
          15.603727340698242,
          15.070780754089355,
          15.46220588684082,
          14.752206802368164,
          13.679896354675293,
          25.271650314331055,
          27.20876693725586,
          26.46108627319336,
          30.5531063079834,
          28.05190086364746,
          26.660999298095703,
          28.861663818359375,
          30.508991241455078,
          26.355716705322266,
          26.928098678588867,
          26.914424896240234,
          27.227502822875977,
          28.89368438720703,
          28.65789222717285,
          26.05025863647461,
          29.16300392150879,
          26.816471099853516,
          29.187231063842773,
          27.682531356811523,
          28.06402587890625,
          28.812999725341797,
          29.721155166625977,
          30.405031204223633,
          27.932369232177734,
          27.456594467163086,
          27.104196548461914,
          27.087369918823242,
          36.49604797363281,
          29.494369506835938,
          16.753253936767578,
          -22.52216148376465,
          26.261842727661133,
          25.93573570251465,
          -29.68750762939453,
          18.899925231933594,
          23.065200805664062,
          -8.029606819152832,
          -11.176942825317383,
          -40.4260368347168,
          -21.341596603393555,
          -12.094525337219238,
          -40.828773498535156,
          -18.218399047851562,
          -16.287967681884766,
          -8.881786346435547,
          -15.713203430175781,
          28.648059844970703,
          -12.76051139831543,
          -12.73385238647461,
          -11.503993034362793,
          -11.546581268310547,
          -40.061248779296875,
          24.133625030517578,
          -39.74783706665039,
          27.338380813598633,
          25.45203971862793,
          -10.396193504333496,
          -39.311161041259766,
          29.59817886352539,
          19.693138122558594,
          -10.686470031738281,
          -2.9180190563201904,
          -4.542495250701904,
          -2.35332989692688,
          -1.6519197225570679,
          -5.076242923736572,
          -5.13170051574707,
          35.84831619262695,
          35.749298095703125,
          -0.878512978553772,
          21.626707077026367,
          24.733203887939453,
          22.78404998779297,
          21.217626571655273,
          22.730974197387695,
          22.915485382080078,
          22.610260009765625,
          23.390640258789062,
          23.323339462280273,
          24.096498489379883,
          23.33856964111328,
          23.192832946777344,
          24.305557250976562,
          24.30548858642578,
          22.65831184387207,
          23.418672561645508,
          22.255088806152344,
          22.25467300415039,
          22.556598663330078,
          22.749101638793945
         ],
         "xaxis": "x",
         "y": [
          -42.85374069213867,
          9.970511436462402,
          8.581527709960938,
          -44.840965270996094,
          -40.56093978881836,
          4.492546081542969,
          -42.211238861083984,
          -41.74968338012695,
          -40.076622009277344,
          0.5902104377746582,
          0.06346834450960159,
          -12.001947402954102,
          0.09714814275503159,
          -13.05142593383789,
          -0.11030206084251404,
          1.5974539518356323,
          -0.684058427810669,
          -12.12365436553955,
          -0.6575087308883667,
          -0.6025807857513428,
          27.13822364807129,
          -12.795058250427246,
          -0.377390593290329,
          -12.515691757202148,
          -13.522680282592773,
          27.142574310302734,
          26.958740234375,
          27.603965759277344,
          27.453067779541016,
          -50.9888801574707,
          -51.019779205322266,
          -49.51292037963867,
          -49.479652404785156,
          -50.78306579589844,
          -50.50077438354492,
          -49.85844039916992,
          -51.646427154541016,
          -16.536823272705078,
          28.337867736816406,
          19.696571350097656,
          -48.111671447753906,
          -48.32467269897461,
          -49.98432540893555,
          -48.99983596801758,
          -48.92933654785156,
          -49.89720916748047,
          19.371685028076172,
          -49.57712173461914,
          -49.583396911621094,
          19.838735580444336,
          19.48723030090332,
          -47.860801696777344,
          -47.589412689208984,
          -49.173152923583984,
          -48.418174743652344,
          -48.23388671875,
          -47.5860710144043,
          -47.97739791870117,
          19.716278076171875,
          35.13416290283203,
          33.6029167175293,
          33.52159881591797,
          32.28477096557617,
          32.30202865600586,
          37.165306091308594,
          36.35329818725586,
          36.595558166503906,
          37.23102569580078,
          43.21847915649414,
          42.06755065917969,
          42.033138275146484,
          41.17185592651367,
          41.4537353515625,
          41.12664794921875,
          41.663291931152344,
          41.11888885498047,
          41.36164855957031,
          41.53892517089844,
          23.390451431274414,
          20.888883590698242,
          23.331937789916992,
          20.65007209777832,
          23.143543243408203,
          23.735931396484375,
          21.560474395751953,
          20.908071517944336,
          24.47357940673828,
          25.52338218688965,
          24.876333236694336,
          24.113162994384766,
          22.648225784301758,
          21.59801483154297,
          22.948991775512695,
          20.790996551513672,
          22.843189239501953,
          20.488079071044922,
          20.385019302368164,
          20.889455795288086,
          21.531068801879883,
          20.704959869384766,
          19.851959228515625,
          21.661836624145508,
          20.99356460571289,
          23.21303939819336,
          23.050016403198242,
          -2.34926176071167,
          20.19688606262207,
          37.56482696533203,
          7.506184101104736,
          -14.309172630310059,
          31.90155792236328,
          5.696734428405762,
          28.681997299194336,
          35.258079528808594,
          -36.99026107788086,
          -35.97902297973633,
          -21.7990665435791,
          10.108052253723145,
          9.110600471496582,
          -19.876522064208984,
          4.343341827392578,
          1.6965912580490112,
          -36.94932174682617,
          -34.444583892822266,
          -9.157988548278809,
          3.691744804382324,
          3.6108601093292236,
          -38.93822479248047,
          6.875887393951416,
          -19.235919952392578,
          27.017976760864258,
          -20.244279861450195,
          -9.790775299072266,
          27.10072898864746,
          6.5800580978393555,
          -19.67784309387207,
          -8.573556900024414,
          24.88661003112793,
          6.489996433258057,
          0.7006110548973083,
          1.4443241357803345,
          1.4722275733947754,
          1.2049258947372437,
          0.540727972984314,
          0.518944263458252,
          -1.9931159019470215,
          -1.9505934715270996,
          3.501088857650757,
          42.73482894897461,
          42.649620056152344,
          42.66974639892578,
          42.210208892822266,
          41.72629165649414,
          42.4140510559082,
          41.452552795410156,
          44.074344635009766,
          43.81692123413086,
          43.87137222290039,
          42.79749298095703,
          43.45390319824219,
          42.04307556152344,
          42.04304504394531,
          43.30411148071289,
          43.26651382446289,
          43.28907775878906,
          43.28887176513672,
          43.802207946777344,
          44.11992645263672
         ],
         "yaxis": "y"
        },
        {
         "hovertemplate": "Label=happy<br>x=%{x}<br>y=%{y}<extra></extra>",
         "legendgroup": "happy",
         "marker": {
          "color": "#00cc96",
          "symbol": "circle"
         },
         "mode": "markers",
         "name": "happy",
         "showlegend": true,
         "type": "scattergl",
         "x": [
          28.683666229248047,
          -14.241541862487793,
          19.282201766967773,
          29.043882369995117,
          18.81569480895996,
          18.83782958984375,
          9.83322525024414,
          10.475310325622559,
          -15.111570358276367,
          -15.268660545349121,
          16.147192001342773,
          13.185976028442383,
          20.879825592041016,
          20.86536407470703,
          24.369831085205078,
          15.335620880126953,
          16.094667434692383,
          -17.15833282470703,
          -10.218207359313965,
          -11.647502899169922,
          -13.944740295410156,
          23.06544303894043,
          23.791255950927734,
          -11.922883987426758,
          -10.396367073059082,
          -12.157979011535645,
          -11.954358100891113,
          -10.944981575012207,
          -10.08127212524414,
          -8.360493659973145,
          -13.567158699035645,
          -24.343421936035156,
          -3.3648366928100586,
          -3.2749531269073486,
          -23.076135635375977,
          -2.8965277671813965,
          -3.183069944381714,
          -23.108522415161133,
          -24.1232967376709,
          -3.4639291763305664,
          -2.867191791534424,
          -2.9696130752563477,
          -23.044687271118164,
          -3.605304718017578,
          22.172592163085938,
          32.92061996459961,
          -24.48617172241211,
          33.08676528930664,
          -24.573047637939453,
          -24.82280158996582,
          -38.57853317260742,
          32.953731536865234,
          32.88180923461914,
          -6.867931842803955,
          -42.2820930480957,
          -42.24470901489258,
          -6.915733814239502,
          -42.25144958496094,
          -9.13470458984375,
          -9.1321382522583,
          -8.450430870056152,
          -9.128327369689941,
          -40.71229553222656,
          23.695457458496094,
          20.57735252380371,
          21.322973251342773,
          23.022794723510742,
          21.266023635864258,
          23.00969696044922,
          16.073101043701172,
          22.290420532226562,
          22.479084014892578,
          23.01531410217285,
          23.090181350708008,
          -39.4766731262207,
          -39.41605758666992,
          -39.42897033691406,
          22.25282096862793,
          20.5985107421875,
          22.484392166137695,
          22.473960876464844,
          23.163999557495117,
          -39.55827331542969,
          14.337065696716309,
          30.038864135742188,
          14.007131576538086,
          29.275741577148438,
          29.316457748413086,
          14.469232559204102,
          13.666543960571289,
          14.360468864440918,
          29.436508178710938,
          13.481553077697754,
          14.277688026428223,
          15.834575653076172,
          14.140192985534668,
          29.079605102539062,
          15.239402770996094,
          28.896438598632812,
          29.139171600341797,
          29.100313186645508,
          12.014914512634277,
          30.641769409179688,
          14.608612060546875,
          4.389975547790527,
          12.638361930847168,
          5.567973613739014,
          11.882957458496094,
          12.602871894836426,
          4.429592132568359,
          10.843626022338867,
          5.2546844482421875,
          8.62763500213623,
          1.8878424167633057,
          8.272268295288086,
          13.387988090515137,
          6.829825401306152,
          2.5048036575317383,
          15.323596954345703,
          13.871301651000977,
          2.7373976707458496,
          12.022381782531738,
          6.888390064239502,
          2.7176878452301025,
          18.939697265625,
          8.249792098999023,
          8.20654296875,
          3.874171018600464,
          -0.7371441125869751,
          14.646244049072266,
          0.0737280398607254,
          14.896553993225098,
          15.187358856201172,
          8.477412223815918,
          6.227395534515381,
          10.50217056274414,
          6.118847370147705,
          1.3820080757141113,
          15.191926956176758,
          10.993940353393555,
          2.068765878677368,
          7.363731384277344,
          1.7619198560714722,
          7.3180108070373535,
          34.02095031738281,
          -4.593625068664551,
          33.6666374206543,
          34.07242202758789,
          -5.566514492034912,
          -4.9669623374938965,
          -5.441830635070801,
          -4.926438331604004,
          -2.9838645458221436,
          -2.7237813472747803,
          -3.977182149887085,
          -5.552702903747559,
          -4.9004316329956055,
          -3.9601151943206787,
          -4.285583972930908,
          -4.725271701812744,
          -5.13947868347168,
          -3.5419816970825195,
          -3.435818910598755,
          -5.565295219421387,
          33.19441223144531,
          -5.886823654174805,
          32.92869186401367,
          -3.8772640228271484,
          -6.1341047286987305,
          25.33378791809082,
          32.48405075073242,
          33.98869705200195,
          -13.134008407592773,
          -13.799020767211914,
          -13.99681568145752,
          -12.806485176086426,
          -12.693470001220703,
          -13.464070320129395,
          -39.49909210205078,
          -9.739592552185059,
          -12.64345645904541,
          -9.8825101852417,
          30.14277458190918,
          -9.933449745178223,
          -10.582306861877441,
          -11.088465690612793,
          -13.069676399230957,
          -17.01417350769043,
          -9.10922622680664,
          29.042051315307617,
          -16.119831085205078,
          -21.4959659576416,
          -12.159428596496582,
          -12.452231407165527,
          29.622549057006836,
          -40.7947998046875,
          -14.395899772644043,
          22.725744247436523,
          22.552345275878906,
          29.50399398803711,
          -10.716609001159668,
          29.543371200561523,
          -14.528974533081055,
          21.71617317199707,
          17.788610458374023,
          18.510211944580078,
          -20.770061492919922,
          -39.77193069458008,
          -40.422821044921875,
          -13.028124809265137,
          -1.841639518737793,
          -2.1006627082824707,
          -1.992492914199829,
          -2.4664180278778076,
          -3.1955153942108154,
          -1.298537015914917,
          -1.921069622039795,
          -3.0156161785125732,
          -3.2118406295776367,
          -3.5515494346618652,
          17.247724533081055,
          23.642988204956055,
          33.844844818115234,
          31.081348419189453,
          30.156644821166992,
          31.543167114257812,
          15.799283981323242,
          31.428171157836914,
          33.235130310058594,
          30.771833419799805,
          32.66370391845703,
          31.219806671142578,
          32.73407745361328,
          30.63534927368164,
          31.457651138305664,
          31.757184982299805,
          32.3581657409668,
          16.16175079345703,
          15.981578826904297,
          16.3920841217041,
          16.26372718811035,
          15.691279411315918
         ],
         "xaxis": "x",
         "y": [
          -13.176050186157227,
          14.1209135055542,
          30.44757652282715,
          -13.2282075881958,
          40.071083068847656,
          40.00636291503906,
          43.451751708984375,
          31.9939022064209,
          13.677014350891113,
          13.584510803222656,
          45.85749816894531,
          28.778833389282227,
          33.50071334838867,
          33.52625274658203,
          29.594900131225586,
          46.25482177734375,
          45.896358489990234,
          6.680038928985596,
          -30.75481414794922,
          11.459905624389648,
          -43.18317794799805,
          26.06513023376465,
          26.57308578491211,
          -43.51164245605469,
          9.23539924621582,
          -43.34494400024414,
          10.73193359375,
          9.301742553710938,
          11.28231430053711,
          10.354875564575195,
          -44.0330696105957,
          -1.474348545074463,
          -37.364646911621094,
          -36.855743408203125,
          3.1963233947753906,
          -37.157188415527344,
          -36.465091705322266,
          3.162166118621826,
          -1.1991779804229736,
          -36.48721694946289,
          -37.38813400268555,
          -37.0476188659668,
          3.276672601699829,
          -37.34480667114258,
          31.44330596923828,
          -14.871994972229004,
          1.0932447910308838,
          -14.701186180114746,
          1.193213701248169,
          1.4275492429733276,
          -20.587919235229492,
          -14.972084045410156,
          -14.975833892822266,
          -49.26922607421875,
          20.10904884338379,
          20.153783798217773,
          -49.14923858642578,
          20.124794006347656,
          -51.01390838623047,
          -51.02861404418945,
          -50.77543640136719,
          -51.03081130981445,
          21.068248748779297,
          -12.433554649353027,
          -11.787935256958008,
          -11.908775329589844,
          -11.849522590637207,
          -11.974153518676758,
          -12.630838394165039,
          26.975494384765625,
          -12.440418243408203,
          -12.466176986694336,
          -12.623523712158203,
          -12.111414909362793,
          21.376134872436523,
          21.408395767211914,
          21.414470672607422,
          -13.105512619018555,
          -11.753477096557617,
          -12.907580375671387,
          -11.807938575744629,
          -12.952240943908691,
          21.323392868041992,
          33.1163330078125,
          -26.5374813079834,
          33.2899284362793,
          -26.917842864990234,
          -26.869159698486328,
          33.34318161010742,
          33.434059143066406,
          33.63136672973633,
          -26.98738670349121,
          33.3153190612793,
          32.337608337402344,
          32.21847152709961,
          32.327293395996094,
          -23.219558715820312,
          32.338287353515625,
          -23.354557037353516,
          -23.41748046875,
          -23.12082290649414,
          33.18851089477539,
          -26.403921127319336,
          32.655982971191406,
          26.10467529296875,
          40.69154357910156,
          25.847007751464844,
          45.5634651184082,
          40.74019241333008,
          26.01504898071289,
          42.65850067138672,
          25.80108642578125,
          42.492984771728516,
          28.00680160522461,
          42.71669006347656,
          45.11178970336914,
          31.940336227416992,
          26.911062240600586,
          42.92936325073242,
          43.11446762084961,
          25.786264419555664,
          45.50198745727539,
          31.975494384765625,
          26.09521484375,
          43.4166259765625,
          42.948509216308594,
          42.90416717529297,
          24.750118255615234,
          28.0358943939209,
          38.801944732666016,
          27.77492332458496,
          38.32539367675781,
          37.89253234863281,
          25.724632263183594,
          39.5184211730957,
          45.93657684326172,
          39.52273178100586,
          28.13452911376953,
          37.50342559814453,
          45.78099822998047,
          24.444608688354492,
          38.812984466552734,
          24.58426856994629,
          38.85184097290039,
          -7.0918354988098145,
          8.128652572631836,
          -6.111027717590332,
          -6.730507850646973,
          6.744736671447754,
          7.544262886047363,
          6.95137357711792,
          5.329142093658447,
          7.598273277282715,
          7.625781536102295,
          8.192520141601562,
          6.057206153869629,
          7.799250602722168,
          7.191440105438232,
          6.19896125793457,
          5.797798156738281,
          8.487713813781738,
          6.599207878112793,
          6.341689586639404,
          8.192665100097656,
          -6.287696838378906,
          5.382339000701904,
          -6.2586846351623535,
          6.922147750854492,
          7.673624515533447,
          25.92725944519043,
          -6.616934776306152,
          -6.532708644866943,
          -32.9432258605957,
          -33.04930877685547,
          -32.656497955322266,
          -31.938087463378906,
          -32.026649475097656,
          -33.165279388427734,
          -23.311973571777344,
          -40.47440719604492,
          10.45361328125,
          -40.32789611816406,
          -8.650981903076172,
          8.367524147033691,
          -40.97470474243164,
          7.860781669616699,
          -43.79365921020508,
          -44.298004150390625,
          8.26380729675293,
          -10.401622772216797,
          -45.5278205871582,
          -43.06548309326172,
          -44.415367126464844,
          -44.40021514892578,
          -10.244390487670898,
          -20.286239624023438,
          -44.071754455566406,
          27.122962951660156,
          27.24386215209961,
          -10.296671867370605,
          5.157308101654053,
          -11.800532341003418,
          -36.55322265625,
          29.400047302246094,
          36.903743743896484,
          28.920135498046875,
          12.728766441345215,
          -21.695354461669922,
          -21.77306365966797,
          -34.529537200927734,
          4.45849609375,
          -29.657846450805664,
          3.9696569442749023,
          5.618244647979736,
          4.698537826538086,
          -30.402816772460938,
          3.778508186340332,
          3.261093854904175,
          4.455466270446777,
          4.267688274383545,
          23.131282806396484,
          32.509559631347656,
          -29.082015991210938,
          -30.037832260131836,
          -30.03929328918457,
          -29.650480270385742,
          30.43385124206543,
          -30.07455062866211,
          -29.10236167907715,
          -29.61418342590332,
          -29.315040588378906,
          -29.452611923217773,
          -29.127159118652344,
          -29.50848960876465,
          -30.407962799072266,
          -29.758895874023438,
          -29.811458587646484,
          30.512248992919922,
          30.659013748168945,
          30.41197967529297,
          30.3865909576416,
          30.55710792541504
         ],
         "yaxis": "y"
        },
        {
         "hovertemplate": "Label=neutral<br>x=%{x}<br>y=%{y}<extra></extra>",
         "legendgroup": "neutral",
         "marker": {
          "color": "#ab63fa",
          "symbol": "circle"
         },
         "mode": "markers",
         "name": "neutral",
         "showlegend": true,
         "type": "scattergl",
         "x": [
          -13.961577415466309,
          -22.26471710205078,
          21.9298152923584,
          5.435757160186768,
          22.24819564819336,
          2.1381611824035645,
          18.75748634338379,
          -15.46081829071045,
          -7.221169471740723,
          15.723442077636719,
          20.86174201965332,
          -10.19495677947998,
          -10.626335144042969,
          -10.672140121459961,
          -11.235259056091309,
          -10.997364044189453,
          -17.22331428527832,
          -10.914201736450195,
          -12.743732452392578,
          -21.460529327392578,
          -15.386608123779297,
          -15.650121688842773,
          -26.385103225708008,
          -26.00242805480957,
          -25.835735321044922,
          -25.738544464111328,
          -25.84846305847168,
          -25.29437828063965,
          -25.745502471923828,
          -25.167987823486328,
          -25.403085708618164,
          -26.288860321044922,
          -25.894624710083008,
          -25.469846725463867,
          -26.324655532836914,
          -25.70263671875,
          -26.071611404418945,
          -4.1737189292907715,
          -25.419296264648438,
          -4.213990211486816,
          -4.18159294128418,
          -4.072738170623779,
          -7.583949089050293,
          -44.26474380493164,
          -6.977447986602783,
          -44.68495559692383,
          -39.34333419799805,
          -41.417964935302734,
          -8.247369766235352,
          -6.9911346435546875,
          -44.433837890625,
          -7.191707611083984,
          -41.492855072021484,
          21.33243179321289,
          22.296199798583984,
          19.959327697753906,
          16.102916717529297,
          21.0606746673584,
          20.039705276489258,
          20.946260452270508,
          20.116008758544922,
          21.642417907714844,
          22.937725067138672,
          22.503454208374023,
          22.237180709838867,
          21.762937545776367,
          -41.536800384521484,
          19.767629623413086,
          21.018518447875977,
          16.111814498901367,
          19.730052947998047,
          21.656251907348633,
          28.301055908203125,
          29.184316635131836,
          29.89529800415039,
          -25.841283798217773,
          30.706695556640625,
          28.245702743530273,
          29.041166305541992,
          28.384321212768555,
          -25.838747024536133,
          13.578832626342773,
          2.2859673500061035,
          -1.150265097618103,
          10.806894302368164,
          -1.5321263074874878,
          10.324797630310059,
          -0.9781511425971985,
          10.710726737976074,
          8.604742050170898,
          2.7104737758636475,
          10.865452766418457,
          -0.7638393044471741,
          -0.8236937522888184,
          10.171270370483398,
          -1.0441268682479858,
          2.855733871459961,
          -6.814664840698242,
          30.52615737915039,
          -6.86187219619751,
          29.626747131347656,
          -6.6276421546936035,
          21.482988357543945,
          21.22771644592285,
          33.689544677734375,
          32.89057540893555,
          21.6434383392334,
          21.421579360961914,
          -10.565311431884766,
          -11.474664688110352,
          -11.542379379272461,
          26.671714782714844,
          26.480070114135742,
          -12.463652610778809,
          30.323625564575195,
          -8.329426765441895,
          28.469404220581055,
          28.733924865722656,
          -9.257080078125,
          29.48041343688965,
          28.43967628479004,
          -10.888378143310547,
          27.916427612304688,
          13.515817642211914,
          -22.90424156188965,
          21.730300903320312,
          -19.77149200439453,
          -20.39426612854004,
          3.1919097900390625,
          -16.605566024780273,
          28.394105911254883,
          12.774831771850586,
          -40.993896484375,
          -20.49346351623535,
          -15.556661605834961,
          -20.112730026245117,
          -15.994586944580078,
          -19.01773452758789,
          -5.872354030609131,
          -5.928418159484863,
          -18.057449340820312,
          31.19674301147461,
          -10.215034484863281,
          -10.761757850646973,
          -8.716866493225098,
          -17.502731323242188,
          -14.71550464630127,
          -16.012052536010742,
          -13.946946144104004,
          -5.903176784515381,
          -5.890395641326904,
          -5.731347560882568,
          -7.158843517303467,
          -7.133941650390625,
          -7.048422813415527,
          -20.82319450378418,
          -7.12626838684082,
          -4.345351219177246,
          -21.022275924682617,
          16.774883270263672,
          20.05364227294922,
          -23.313007354736328,
          -27.954326629638672,
          -23.26621437072754,
          -27.95948600769043
         ],
         "xaxis": "x",
         "y": [
          -45.21376419067383,
          6.898196697235107,
          32.62683868408203,
          39.55557632446289,
          32.767662048339844,
          30.792387008666992,
          40.08991241455078,
          13.469107627868652,
          -45.38639450073242,
          46.13870620727539,
          33.4378662109375,
          -30.81311798095703,
          -43.12735366821289,
          5.255113124847412,
          -45.38378143310547,
          -45.78647232055664,
          -40.871063232421875,
          -45.78261947631836,
          -45.73088073730469,
          -43.18301010131836,
          -39.00813293457031,
          -39.6361083984375,
          0.7994039058685303,
          -1.674512505531311,
          -1.8063160181045532,
          -1.2458641529083252,
          1.0207629203796387,
          -1.0579705238342285,
          1.1911002397537231,
          -1.660891056060791,
          -1.899328351020813,
          -0.995513916015625,
          0.5792264342308044,
          0.5883063673973083,
          -1.2855485677719116,
          0.7842710018157959,
          1.1979012489318848,
          -38.519222259521484,
          -1.3618158102035522,
          -38.50554656982422,
          -38.47647476196289,
          -38.503841400146484,
          -47.254764556884766,
          13.710479736328125,
          -47.43903732299805,
          15.749300956726074,
          10.641929626464844,
          11.440282821655273,
          -47.38758850097656,
          -47.4410514831543,
          14.226728439331055,
          -46.61322021484375,
          12.314132690429688,
          -16.06930160522461,
          -15.230561256408691,
          -17.055166244506836,
          27.14423179626465,
          -15.158049583435059,
          -15.645622253417969,
          -16.916780471801758,
          -16.446306228637695,
          -16.09377670288086,
          -15.075626373291016,
          -14.954068183898926,
          -14.78393268585205,
          -14.772835731506348,
          12.174936294555664,
          -16.67022132873535,
          -17.242053985595703,
          27.196937561035156,
          -16.30808448791504,
          -15.712706565856934,
          -24.62677764892578,
          -25.338830947875977,
          -25.638763427734375,
          14.882884979248047,
          -25.684005737304688,
          -24.51106071472168,
          -25.407297134399414,
          -23.92820167541504,
          14.898420333862305,
          32.54853439331055,
          27.066572189331055,
          27.527809143066406,
          38.879234313964844,
          27.755794525146484,
          37.19752883911133,
          28.300912857055664,
          36.62751007080078,
          25.6435489654541,
          24.473535537719727,
          38.85368728637695,
          26.91543197631836,
          27.79563331604004,
          37.23268127441406,
          27.4295597076416,
          24.371944427490234,
          -1.9307242631912231,
          -3.544651746749878,
          -2.546424627304077,
          -3.867452621459961,
          -2.539578437805176,
          22.91086196899414,
          22.938846588134766,
          -4.5611958503723145,
          -2.0899624824523926,
          22.24662208557129,
          22.97344207763672,
          -2.830519914627075,
          -2.8470113277435303,
          -3.201732635498047,
          -3.616671323776245,
          -3.6067230701446533,
          -2.5643889904022217,
          -3.4088311195373535,
          -1.678799033164978,
          -3.120171308517456,
          -4.325323104858398,
          -2.9361014366149902,
          -4.068422317504883,
          -3.93324613571167,
          -3.012615442276001,
          -3.4146156311035156,
          29.582111358642578,
          7.8426032066345215,
          29.486230850219727,
          8.31053352355957,
          -2.9948315620422363,
          34.91553497314453,
          -36.16808319091797,
          -18.858877182006836,
          42.058349609375,
          -21.911582946777344,
          9.531825065612793,
          -32.777164459228516,
          -34.63055419921875,
          -32.919368743896484,
          6.983394622802734,
          -39.3119010925293,
          -39.296600341796875,
          6.235986709594727,
          -12.426995277404785,
          -33.528907775878906,
          -33.365779876708984,
          -42.597572326660156,
          -38.132835388183594,
          -38.985382080078125,
          -38.5890007019043,
          7.492850303649902,
          -30.90682601928711,
          -30.866954803466797,
          -30.339048385620117,
          -32.7302360534668,
          -32.73486328125,
          -32.70932388305664,
          5.3219428062438965,
          -32.733856201171875,
          -31.33739471435547,
          -36.789268493652344,
          42.22898483276367,
          24.292463302612305,
          16.063629150390625,
          17.735891342163086,
          16.090681076049805,
          17.73849868774414
         ],
         "yaxis": "y"
        },
        {
         "hovertemplate": "Label=sad<br>x=%{x}<br>y=%{y}<extra></extra>",
         "legendgroup": "sad",
         "marker": {
          "color": "#FFA15A",
          "symbol": "circle"
         },
         "mode": "markers",
         "name": "sad",
         "showlegend": true,
         "type": "scattergl",
         "x": [
          19.26914405822754,
          13.194859504699707,
          -13.634405136108398,
          -11.721623420715332,
          -11.223024368286133,
          -12.765921592712402,
          2.5409600734710693,
          -13.165254592895508,
          -14.963820457458496,
          -20.36762237548828,
          -20.193939208984375,
          -20.2482852935791,
          -20.210744857788086,
          -7.008775234222412,
          -6.737190246582031,
          -6.830357074737549,
          -20.623075485229492,
          -20.44635009765625,
          -21.361190795898438,
          -21.441598892211914,
          -21.39678192138672,
          -20.463260650634766,
          -5.506848335266113,
          -21.049728393554688,
          -21.055307388305664,
          -7.1174468994140625,
          -20.134471893310547,
          -20.242483139038086,
          -20.595081329345703,
          -35.64680862426758,
          -35.64677810668945,
          -2.4931187629699707,
          -2.159752130508423,
          -2.4184391498565674,
          -33.497501373291016,
          -33.635658264160156,
          -33.49741744995117,
          -34.81526184082031,
          -2.5196244716644287,
          -34.81565856933594,
          -36.84678649902344,
          -34.96244812011719,
          -36.84678649902344,
          -34.020267486572266,
          -35.632080078125,
          -34.020267486572266,
          -36.98203659057617,
          -36.89736557006836,
          -36.98224639892578,
          -31.790069580078125,
          -33.92919921875,
          -31.790069580078125,
          -31.488842010498047,
          -31.488746643066406,
          -31.48872184753418,
          -37.07283020019531,
          -2.629943370819092,
          -35.345008850097656,
          -35.34512710571289,
          32.323726654052734,
          32.50764846801758,
          32.573299407958984,
          -23.709434509277344,
          16.01421356201172,
          -23.749774932861328,
          31.76812171936035,
          33.191001892089844,
          31.85076141357422,
          16.615182876586914,
          6.551297664642334,
          1.3251532316207886,
          6.2044477462768555,
          7.15272855758667,
          5.525050640106201,
          7.358488082885742,
          5.26515007019043,
          1.0962646007537842,
          7.307650089263916,
          5.727285385131836,
          1.121825098991394,
          7.350622653961182,
          5.7404584884643555,
          1.1614797115325928,
          1.1755883693695068,
          5.671499252319336,
          1.257602572441101,
          5.543154239654541,
          1.1631834506988525,
          5.4276509284973145,
          -25.87843132019043,
          -3.6663973331451416,
          -2.649599313735962,
          -2.4303395748138428,
          -4.401618957519531,
          -4.234030246734619,
          -4.716846466064453,
          36.866153717041016,
          36.4245491027832,
          24.719593048095703,
          35.275001525878906,
          35.38231658935547,
          35.8149528503418,
          35.4524040222168,
          36.8524169921875,
          -3.4808578491210938,
          -2.7236697673797607,
          -3.3360376358032227,
          25.151622772216797,
          -3.8216114044189453,
          37.434871673583984,
          -3.48178768157959,
          34.172481536865234,
          34.50047302246094,
          34.41732406616211,
          -4.132019519805908,
          -17.44585418701172,
          -18.183305740356445,
          -18.140954971313477,
          -18.22481918334961,
          -16.640077590942383,
          -16.36568260192871,
          31.651018142700195,
          -17.65106201171875,
          -21.649417877197266,
          31.67243766784668,
          18.445220947265625,
          31.554401397705078,
          31.406036376953125,
          -12.018301010131836,
          30.65707778930664,
          -21.476207733154297,
          -11.777198791503906,
          -11.24960994720459,
          -11.46786117553711,
          -12.506260871887207,
          -13.488222122192383,
          -11.309061050415039,
          -11.290258407592773,
          30.698354721069336,
          -13.229216575622559,
          30.633747100830078,
          -13.674708366394043,
          -40.20171356201172,
          -13.274652481079102,
          -9.426421165466309,
          -9.449639320373535,
          -12.081461906433105,
          -40.33515548706055,
          33.090171813964844,
          -14.771084785461426,
          -1.4331154823303223,
          -20.384849548339844,
          23.078140258789062,
          -21.094097137451172,
          -41.021575927734375,
          -20.998619079589844,
          -3.5501697063446045,
          -4.8437347412109375,
          -1.5091115236282349,
          -2.52787709236145,
          -2.450373888015747,
          -2.7086868286132812,
          -0.004781618714332581,
          -0.01194392517209053,
          -21.20604705810547,
          -5.8834638595581055,
          -29.091588973999023,
          -27.543609619140625,
          28.912006378173828,
          -29.1065673828125,
          13.150071144104004,
          -27.5366268157959,
          33.74272155761719,
          15.414393424987793,
          37.094261169433594,
          16.54433822631836,
          37.09474182128906,
          37.10300064086914,
          17.218847274780273
         ],
         "xaxis": "x",
         "y": [
          39.39017105102539,
          34.53706359863281,
          -41.354251861572266,
          -39.804290771484375,
          -39.77301788330078,
          -40.08451843261719,
          29.989133834838867,
          9.492071151733398,
          -40.625980377197266,
          0.20704439282417297,
          3.229478597640991,
          3.237628698348999,
          3.0941765308380127,
          -36.24258804321289,
          -36.27375411987305,
          -36.17803192138672,
          3.3701205253601074,
          3.7035932540893555,
          0.9949296116828918,
          0.9005184173583984,
          0.7995666265487671,
          -0.19819140434265137,
          -36.947174072265625,
          2.9170377254486084,
          2.7190873622894287,
          -36.096435546875,
          -0.6784292459487915,
          -0.6571547985076904,
          1.7927305698394775,
          8.026501655578613,
          8.026565551757812,
          -44.09709548950195,
          -43.6668586730957,
          -43.92070007324219,
          6.157927513122559,
          6.692074298858643,
          6.1578240394592285,
          7.809140682220459,
          -43.873477935791016,
          7.808877468109131,
          8.629776954650879,
          8.14375114440918,
          8.629776954650879,
          6.4462971687316895,
          8.654129981994629,
          6.4462971687316895,
          6.954278945922852,
          7.723832130432129,
          6.954187393188477,
          8.300468444824219,
          5.922776222229004,
          8.300468444824219,
          7.549808025360107,
          7.550185680389404,
          7.549880504608154,
          8.576950073242188,
          -43.92748260498047,
          6.355062007904053,
          6.355022430419922,
          -26.56315040588379,
          -26.426889419555664,
          -26.448856353759766,
          15.318687438964844,
          34.63904571533203,
          15.294699668884277,
          -26.767427444458008,
          -26.04853630065918,
          -26.95908546447754,
          34.25349807739258,
          31.9353084564209,
          27.42568588256836,
          34.50801086425781,
          26.178600311279297,
          34.11589813232422,
          26.25339698791504,
          34.86222839355469,
          32.60700988769531,
          26.2568416595459,
          34.62009811401367,
          32.586788177490234,
          26.21742820739746,
          34.378326416015625,
          32.55171203613281,
          26.626285552978516,
          35.102542877197266,
          26.826553344726562,
          35.302345275878906,
          26.2040958404541,
          35.49971008300781,
          15.548783302307129,
          -1.305277705192566,
          -1.0613871812820435,
          -0.25788867473602295,
          -1.4189029932022095,
          1.2264938354492188,
          -2.1546294689178467,
          -5.335872650146484,
          -4.665882587432861,
          20.222110748291016,
          -4.375581741333008,
          -5.292013168334961,
          -4.690931797027588,
          -4.787342548370361,
          -5.141412258148193,
          -0.8068122863769531,
          -1.0317614078521729,
          -2.403116464614868,
          19.89402961730957,
          -2.3624777793884277,
          -5.396402835845947,
          -0.8325823545455933,
          -3.8938663005828857,
          -3.3649134635925293,
          -4.587435722351074,
          -2.3161985874176025,
          -34.748191833496094,
          -34.245296478271484,
          -34.33363342285156,
          -34.21681594848633,
          -34.390663146972656,
          -33.93376541137695,
          -11.407155990600586,
          5.56704044342041,
          -42.43735885620117,
          -11.198282241821289,
          27.186325073242188,
          -11.530564308166504,
          -11.834555625915527,
          7.3046793937683105,
          -9.202325820922852,
          -43.172157287597656,
          7.478029727935791,
          -41.17641830444336,
          -40.97140121459961,
          6.178858280181885,
          7.526279926300049,
          -40.38717269897461,
          -40.60712814331055,
          -9.323512077331543,
          5.9634528160095215,
          -9.539618492126465,
          8.70885944366455,
          -20.19447898864746,
          8.902776718139648,
          -38.46219253540039,
          -38.468204498291016,
          8.251688003540039,
          -19.628768920898438,
          -18.983285903930664,
          -36.44950485229492,
          -27.918977737426758,
          -2.954336404800415,
          35.26826477050781,
          12.536752700805664,
          -21.4918155670166,
          9.851792335510254,
          -28.649940490722656,
          -28.926700592041016,
          -29.556795120239258,
          -28.59795379638672,
          -28.600494384765625,
          -28.48527717590332,
          -2.556832790374756,
          -2.544900894165039,
          -36.748085021972656,
          -29.136077880859375,
          14.23021411895752,
          15.719648361206055,
          -28.716373443603516,
          14.214377403259277,
          31.92030143737793,
          15.893240928649902,
          -27.347747802734375,
          36.42287063598633,
          -25.659700393676758,
          40.44136428833008,
          -25.66769790649414,
          -25.651613235473633,
          34.67643737792969
         ],
         "yaxis": "y"
        },
        {
         "hovertemplate": "Label=surprised<br>x=%{x}<br>y=%{y}<extra></extra>",
         "legendgroup": "surprised",
         "marker": {
          "color": "#19d3f3",
          "symbol": "circle"
         },
         "mode": "markers",
         "name": "surprised",
         "showlegend": true,
         "type": "scattergl",
         "x": [
          -13.076870918273926,
          -15.767592430114746,
          -10.097724914550781,
          28.382911682128906,
          -12.187758445739746,
          24.118406295776367,
          -14.89390754699707,
          -39.93556594848633,
          -17.61564826965332,
          -25.715797424316406,
          -25.584917068481445,
          -24.756004333496094,
          30.9219970703125,
          -24.871461868286133,
          -24.738534927368164,
          -38.86000061035156,
          -24.718050003051758,
          30.803730010986328,
          30.282535552978516,
          30.636226654052734,
          -24.872716903686523,
          -25.522268295288086,
          30.37994384765625,
          30.465373992919922,
          20.22224998474121,
          -38.35861587524414,
          20.56376838684082,
          30.039794921875,
          20.77694320678711,
          20.0197696685791,
          30.26427459716797,
          -5.374777317047119,
          -5.174300193786621,
          -35.78490447998047,
          -19.19552993774414,
          -36.37833786010742,
          -35.852264404296875,
          -36.42433166503906,
          -5.246264934539795,
          -5.152817249298096,
          -36.460269927978516,
          -38.903785705566406,
          22.767427444458008,
          -37.662353515625,
          -40.413326263427734,
          -36.25566864013672,
          -40.01738357543945,
          -5.556144714355469,
          -37.27924728393555,
          23.59636116027832,
          -36.204219818115234,
          -39.36350631713867,
          -36.74875259399414,
          -40.88032913208008,
          -36.97926330566406,
          22.77789878845215,
          -37.02854919433594,
          -40.302520751953125,
          -37.25286102294922,
          -36.884185791015625,
          24.00337028503418,
          15.275975227355957,
          16.14436149597168,
          16.035877227783203,
          16.71361541748047,
          14.988590240478516,
          32.501434326171875,
          31.859865188598633,
          -25.858814239501953,
          -25.940906524658203,
          -25.795942306518555,
          -28.735618591308594,
          -28.739742279052734,
          14.585453987121582,
          34.35606384277344,
          33.905391693115234,
          34.61021423339844,
          34.30832290649414,
          34.645286560058594,
          34.39476013183594,
          13.796653747558594,
          13.261211395263672,
          25.28282356262207,
          32.01381301879883,
          -7.578595161437988,
          28.179950714111328,
          28.967824935913086,
          -7.497501850128174,
          29.665645599365234,
          -7.683465480804443,
          -7.823454856872559,
          29.58079719543457,
          -7.274946689605713,
          29.576786041259766,
          30.83719253540039,
          26.49224281311035,
          37.20307540893555,
          -8.234697341918945,
          24.124773025512695,
          -7.01664924621582,
          31.889944076538086,
          24.065515518188477,
          32.08757019042969,
          24.629867553710938,
          26.429641723632812,
          26.653566360473633,
          27.054624557495117,
          -39.415184020996094,
          -17.651941299438477,
          -39.25273132324219,
          -20.57228660583496,
          -13.603413581848145,
          -13.689775466918945,
          11.912362098693848,
          -19.509958267211914,
          -39.253841400146484,
          -15.273050308227539,
          -15.224696159362793,
          -17.70897674560547,
          -18.042531967163086,
          -15.260448455810547,
          -38.93688201904297,
          -19.234848022460938,
          -19.332141876220703,
          9.320520401000977,
          14.104930877685547,
          -38.7857551574707,
          -7.731706619262695,
          -9.880900382995605,
          -40.222904205322266,
          12.32040786743164,
          -7.669450759887695,
          13.405634880065918,
          -23.053972244262695,
          -23.45099639892578,
          25.948726654052734,
          31.08513069152832,
          28.382850646972656,
          13.26352310180664,
          -40.09782028198242,
          -9.71056079864502,
          -20.845735549926758,
          -3.077655792236328,
          -3.539262533187866,
          -5.025005340576172,
          -4.054088592529297,
          -3.442307949066162,
          -5.443470001220703,
          -6.576854705810547,
          -2.62312912940979,
          -4.173405647277832,
          -4.0102667808532715,
          29.57318115234375,
          30.15363311767578,
          30.279518127441406,
          30.878164291381836,
          30.407743453979492,
          29.385784149169922,
          30.321290969848633,
          31.128049850463867,
          30.587862014770508,
          29.52646827697754,
          31.375825881958008,
          30.892742156982422,
          31.00594139099121,
          31.069581985473633,
          31.151227951049805,
          31.586456298828125,
          29.77192497253418,
          31.634300231933594,
          31.77630615234375,
          29.784757614135742
         ],
         "xaxis": "x",
         "y": [
          -39.30739212036133,
          -39.849830627441406,
          -43.37788009643555,
          -7.5526227951049805,
          5.330183506011963,
          25.925382614135742,
          8.321125030517578,
          -22.631858825683594,
          9.587113380432129,
          6.914768695831299,
          6.853602886199951,
          6.5654144287109375,
          -15.787374496459961,
          6.612583637237549,
          7.179473876953125,
          -20.75468635559082,
          7.242400169372559,
          -15.844728469848633,
          -17.30497932434082,
          -16.73097038269043,
          6.961436748504639,
          7.37160062789917,
          -16.343873977661133,
          -16.212011337280273,
          30.692218780517578,
          -20.733354568481445,
          30.93536949157715,
          -16.188920974731445,
          31.17067527770996,
          30.66518211364746,
          -15.765742301940918,
          -51.650657653808594,
          -51.648643493652344,
          15.890636444091797,
          -37.72216033935547,
          15.726835250854492,
          16.987018585205078,
          17.272075653076172,
          -47.461021423339844,
          -51.6279182434082,
          17.512269973754883,
          16.496625900268555,
          -17.000686645507812,
          14.285664558410645,
          17.084869384765625,
          13.755646705627441,
          16.69748878479004,
          -47.53170394897461,
          15.088394165039062,
          -16.773853302001953,
          14.249484062194824,
          16.548097610473633,
          14.375357627868652,
          16.99098014831543,
          14.956768035888672,
          -17.025745391845703,
          14.704585075378418,
          16.976696014404297,
          13.804378509521484,
          13.896604537963867,
          -16.668838500976562,
          33.68033981323242,
          33.473628997802734,
          33.480228424072266,
          33.883155822753906,
          33.85198211669922,
          -25.303485870361328,
          -25.707855224609375,
          13.49113941192627,
          13.508162498474121,
          13.369441986083984,
          10.671906471252441,
          10.663613319396973,
          35.53846740722656,
          -22.676000595092773,
          -22.743032455444336,
          -23.007951736450195,
          -22.67273712158203,
          -23.27983283996582,
          -22.697158813476562,
          25.105449676513672,
          35.88786315917969,
          22.906097412109375,
          -2.714881181716919,
          -3.865220308303833,
          -2.8949291706085205,
          -2.380767822265625,
          -4.168638706207275,
          -2.45493483543396,
          -0.584251880645752,
          -2.3270061016082764,
          -2.5506691932678223,
          -3.2738754749298096,
          -3.3797619342803955,
          -1.9918758869171143,
          18.639820098876953,
          -2.543344497680664,
          -1.462101697921753,
          22.612899780273438,
          -3.1953892707824707,
          -2.8144073486328125,
          22.335920333862305,
          -2.500579833984375,
          21.442127227783203,
          19.277448654174805,
          18.76542854309082,
          18.66777801513672,
          -22.025842666625977,
          -30.168331146240234,
          -21.924320220947266,
          -34.1877555847168,
          -30.331768035888672,
          -30.367345809936523,
          34.490867614746094,
          -31.913291931152344,
          -22.768390655517578,
          -30.692289352416992,
          -30.59027862548828,
          -30.216705322265625,
          -30.45163917541504,
          -30.701379776000977,
          -21.953401565551758,
          -31.77768898010254,
          -31.881864547729492,
          41.56188201904297,
          24.303054809570312,
          -22.439109802246094,
          -42.79945755004883,
          -0.11600100994110107,
          -20.411558151245117,
          30.752031326293945,
          -42.80696105957031,
          29.825397491455078,
          8.92448616027832,
          10.61329460144043,
          31.906532287597656,
          -12.84154224395752,
          -18.82421112060547,
          25.33175277709961,
          -22.52357292175293,
          -32.387176513671875,
          9.685500144958496,
          -30.922286987304688,
          -30.63213348388672,
          -0.7034682631492615,
          -30.75142478942871,
          -30.531967163085938,
          -0.970971941947937,
          -0.94846510887146,
          -31.299409866333008,
          -30.156049728393555,
          -31.543872833251953,
          37.2275505065918,
          39.273223876953125,
          38.88298797607422,
          38.55630111694336,
          38.776248931884766,
          36.9207763671875,
          39.69425964355469,
          39.221092224121094,
          39.87281799316406,
          37.180965423583984,
          39.558841705322266,
          39.448238372802734,
          39.873226165771484,
          38.660953521728516,
          40.88356018066406,
          38.87924575805664,
          36.79365539550781,
          39.19240951538086,
          39.95669174194336,
          36.85476303100586
         ],
         "yaxis": "y"
        }
       ],
       "layout": {
        "legend": {
         "title": {
          "text": "Label"
         },
         "tracegroupgap": 0
        },
        "margin": {
         "t": 60
        },
        "template": {
         "data": {
          "bar": [
           {
            "error_x": {
             "color": "#2a3f5f"
            },
            "error_y": {
             "color": "#2a3f5f"
            },
            "marker": {
             "line": {
              "color": "#E5ECF6",
              "width": 0.5
             },
             "pattern": {
              "fillmode": "overlay",
              "size": 10,
              "solidity": 0.2
             }
            },
            "type": "bar"
           }
          ],
          "barpolar": [
           {
            "marker": {
             "line": {
              "color": "#E5ECF6",
              "width": 0.5
             },
             "pattern": {
              "fillmode": "overlay",
              "size": 10,
              "solidity": 0.2
             }
            },
            "type": "barpolar"
           }
          ],
          "carpet": [
           {
            "aaxis": {
             "endlinecolor": "#2a3f5f",
             "gridcolor": "white",
             "linecolor": "white",
             "minorgridcolor": "white",
             "startlinecolor": "#2a3f5f"
            },
            "baxis": {
             "endlinecolor": "#2a3f5f",
             "gridcolor": "white",
             "linecolor": "white",
             "minorgridcolor": "white",
             "startlinecolor": "#2a3f5f"
            },
            "type": "carpet"
           }
          ],
          "choropleth": [
           {
            "colorbar": {
             "outlinewidth": 0,
             "ticks": ""
            },
            "type": "choropleth"
           }
          ],
          "contour": [
           {
            "colorbar": {
             "outlinewidth": 0,
             "ticks": ""
            },
            "colorscale": [
             [
              0,
              "#0d0887"
             ],
             [
              0.1111111111111111,
              "#46039f"
             ],
             [
              0.2222222222222222,
              "#7201a8"
             ],
             [
              0.3333333333333333,
              "#9c179e"
             ],
             [
              0.4444444444444444,
              "#bd3786"
             ],
             [
              0.5555555555555556,
              "#d8576b"
             ],
             [
              0.6666666666666666,
              "#ed7953"
             ],
             [
              0.7777777777777778,
              "#fb9f3a"
             ],
             [
              0.8888888888888888,
              "#fdca26"
             ],
             [
              1,
              "#f0f921"
             ]
            ],
            "type": "contour"
           }
          ],
          "contourcarpet": [
           {
            "colorbar": {
             "outlinewidth": 0,
             "ticks": ""
            },
            "type": "contourcarpet"
           }
          ],
          "heatmap": [
           {
            "colorbar": {
             "outlinewidth": 0,
             "ticks": ""
            },
            "colorscale": [
             [
              0,
              "#0d0887"
             ],
             [
              0.1111111111111111,
              "#46039f"
             ],
             [
              0.2222222222222222,
              "#7201a8"
             ],
             [
              0.3333333333333333,
              "#9c179e"
             ],
             [
              0.4444444444444444,
              "#bd3786"
             ],
             [
              0.5555555555555556,
              "#d8576b"
             ],
             [
              0.6666666666666666,
              "#ed7953"
             ],
             [
              0.7777777777777778,
              "#fb9f3a"
             ],
             [
              0.8888888888888888,
              "#fdca26"
             ],
             [
              1,
              "#f0f921"
             ]
            ],
            "type": "heatmap"
           }
          ],
          "heatmapgl": [
           {
            "colorbar": {
             "outlinewidth": 0,
             "ticks": ""
            },
            "colorscale": [
             [
              0,
              "#0d0887"
             ],
             [
              0.1111111111111111,
              "#46039f"
             ],
             [
              0.2222222222222222,
              "#7201a8"
             ],
             [
              0.3333333333333333,
              "#9c179e"
             ],
             [
              0.4444444444444444,
              "#bd3786"
             ],
             [
              0.5555555555555556,
              "#d8576b"
             ],
             [
              0.6666666666666666,
              "#ed7953"
             ],
             [
              0.7777777777777778,
              "#fb9f3a"
             ],
             [
              0.8888888888888888,
              "#fdca26"
             ],
             [
              1,
              "#f0f921"
             ]
            ],
            "type": "heatmapgl"
           }
          ],
          "histogram": [
           {
            "marker": {
             "pattern": {
              "fillmode": "overlay",
              "size": 10,
              "solidity": 0.2
             }
            },
            "type": "histogram"
           }
          ],
          "histogram2d": [
           {
            "colorbar": {
             "outlinewidth": 0,
             "ticks": ""
            },
            "colorscale": [
             [
              0,
              "#0d0887"
             ],
             [
              0.1111111111111111,
              "#46039f"
             ],
             [
              0.2222222222222222,
              "#7201a8"
             ],
             [
              0.3333333333333333,
              "#9c179e"
             ],
             [
              0.4444444444444444,
              "#bd3786"
             ],
             [
              0.5555555555555556,
              "#d8576b"
             ],
             [
              0.6666666666666666,
              "#ed7953"
             ],
             [
              0.7777777777777778,
              "#fb9f3a"
             ],
             [
              0.8888888888888888,
              "#fdca26"
             ],
             [
              1,
              "#f0f921"
             ]
            ],
            "type": "histogram2d"
           }
          ],
          "histogram2dcontour": [
           {
            "colorbar": {
             "outlinewidth": 0,
             "ticks": ""
            },
            "colorscale": [
             [
              0,
              "#0d0887"
             ],
             [
              0.1111111111111111,
              "#46039f"
             ],
             [
              0.2222222222222222,
              "#7201a8"
             ],
             [
              0.3333333333333333,
              "#9c179e"
             ],
             [
              0.4444444444444444,
              "#bd3786"
             ],
             [
              0.5555555555555556,
              "#d8576b"
             ],
             [
              0.6666666666666666,
              "#ed7953"
             ],
             [
              0.7777777777777778,
              "#fb9f3a"
             ],
             [
              0.8888888888888888,
              "#fdca26"
             ],
             [
              1,
              "#f0f921"
             ]
            ],
            "type": "histogram2dcontour"
           }
          ],
          "mesh3d": [
           {
            "colorbar": {
             "outlinewidth": 0,
             "ticks": ""
            },
            "type": "mesh3d"
           }
          ],
          "parcoords": [
           {
            "line": {
             "colorbar": {
              "outlinewidth": 0,
              "ticks": ""
             }
            },
            "type": "parcoords"
           }
          ],
          "pie": [
           {
            "automargin": true,
            "type": "pie"
           }
          ],
          "scatter": [
           {
            "fillpattern": {
             "fillmode": "overlay",
             "size": 10,
             "solidity": 0.2
            },
            "type": "scatter"
           }
          ],
          "scatter3d": [
           {
            "line": {
             "colorbar": {
              "outlinewidth": 0,
              "ticks": ""
             }
            },
            "marker": {
             "colorbar": {
              "outlinewidth": 0,
              "ticks": ""
             }
            },
            "type": "scatter3d"
           }
          ],
          "scattercarpet": [
           {
            "marker": {
             "colorbar": {
              "outlinewidth": 0,
              "ticks": ""
             }
            },
            "type": "scattercarpet"
           }
          ],
          "scattergeo": [
           {
            "marker": {
             "colorbar": {
              "outlinewidth": 0,
              "ticks": ""
             }
            },
            "type": "scattergeo"
           }
          ],
          "scattergl": [
           {
            "marker": {
             "colorbar": {
              "outlinewidth": 0,
              "ticks": ""
             }
            },
            "type": "scattergl"
           }
          ],
          "scattermapbox": [
           {
            "marker": {
             "colorbar": {
              "outlinewidth": 0,
              "ticks": ""
             }
            },
            "type": "scattermapbox"
           }
          ],
          "scatterpolar": [
           {
            "marker": {
             "colorbar": {
              "outlinewidth": 0,
              "ticks": ""
             }
            },
            "type": "scatterpolar"
           }
          ],
          "scatterpolargl": [
           {
            "marker": {
             "colorbar": {
              "outlinewidth": 0,
              "ticks": ""
             }
            },
            "type": "scatterpolargl"
           }
          ],
          "scatterternary": [
           {
            "marker": {
             "colorbar": {
              "outlinewidth": 0,
              "ticks": ""
             }
            },
            "type": "scatterternary"
           }
          ],
          "surface": [
           {
            "colorbar": {
             "outlinewidth": 0,
             "ticks": ""
            },
            "colorscale": [
             [
              0,
              "#0d0887"
             ],
             [
              0.1111111111111111,
              "#46039f"
             ],
             [
              0.2222222222222222,
              "#7201a8"
             ],
             [
              0.3333333333333333,
              "#9c179e"
             ],
             [
              0.4444444444444444,
              "#bd3786"
             ],
             [
              0.5555555555555556,
              "#d8576b"
             ],
             [
              0.6666666666666666,
              "#ed7953"
             ],
             [
              0.7777777777777778,
              "#fb9f3a"
             ],
             [
              0.8888888888888888,
              "#fdca26"
             ],
             [
              1,
              "#f0f921"
             ]
            ],
            "type": "surface"
           }
          ],
          "table": [
           {
            "cells": {
             "fill": {
              "color": "#EBF0F8"
             },
             "line": {
              "color": "white"
             }
            },
            "header": {
             "fill": {
              "color": "#C8D4E3"
             },
             "line": {
              "color": "white"
             }
            },
            "type": "table"
           }
          ]
         },
         "layout": {
          "annotationdefaults": {
           "arrowcolor": "#2a3f5f",
           "arrowhead": 0,
           "arrowwidth": 1
          },
          "autotypenumbers": "strict",
          "coloraxis": {
           "colorbar": {
            "outlinewidth": 0,
            "ticks": ""
           }
          },
          "colorscale": {
           "diverging": [
            [
             0,
             "#8e0152"
            ],
            [
             0.1,
             "#c51b7d"
            ],
            [
             0.2,
             "#de77ae"
            ],
            [
             0.3,
             "#f1b6da"
            ],
            [
             0.4,
             "#fde0ef"
            ],
            [
             0.5,
             "#f7f7f7"
            ],
            [
             0.6,
             "#e6f5d0"
            ],
            [
             0.7,
             "#b8e186"
            ],
            [
             0.8,
             "#7fbc41"
            ],
            [
             0.9,
             "#4d9221"
            ],
            [
             1,
             "#276419"
            ]
           ],
           "sequential": [
            [
             0,
             "#0d0887"
            ],
            [
             0.1111111111111111,
             "#46039f"
            ],
            [
             0.2222222222222222,
             "#7201a8"
            ],
            [
             0.3333333333333333,
             "#9c179e"
            ],
            [
             0.4444444444444444,
             "#bd3786"
            ],
            [
             0.5555555555555556,
             "#d8576b"
            ],
            [
             0.6666666666666666,
             "#ed7953"
            ],
            [
             0.7777777777777778,
             "#fb9f3a"
            ],
            [
             0.8888888888888888,
             "#fdca26"
            ],
            [
             1,
             "#f0f921"
            ]
           ],
           "sequentialminus": [
            [
             0,
             "#0d0887"
            ],
            [
             0.1111111111111111,
             "#46039f"
            ],
            [
             0.2222222222222222,
             "#7201a8"
            ],
            [
             0.3333333333333333,
             "#9c179e"
            ],
            [
             0.4444444444444444,
             "#bd3786"
            ],
            [
             0.5555555555555556,
             "#d8576b"
            ],
            [
             0.6666666666666666,
             "#ed7953"
            ],
            [
             0.7777777777777778,
             "#fb9f3a"
            ],
            [
             0.8888888888888888,
             "#fdca26"
            ],
            [
             1,
             "#f0f921"
            ]
           ]
          },
          "colorway": [
           "#636efa",
           "#EF553B",
           "#00cc96",
           "#ab63fa",
           "#FFA15A",
           "#19d3f3",
           "#FF6692",
           "#B6E880",
           "#FF97FF",
           "#FECB52"
          ],
          "font": {
           "color": "#2a3f5f"
          },
          "geo": {
           "bgcolor": "white",
           "lakecolor": "white",
           "landcolor": "#E5ECF6",
           "showlakes": true,
           "showland": true,
           "subunitcolor": "white"
          },
          "hoverlabel": {
           "align": "left"
          },
          "hovermode": "closest",
          "mapbox": {
           "style": "light"
          },
          "paper_bgcolor": "white",
          "plot_bgcolor": "#E5ECF6",
          "polar": {
           "angularaxis": {
            "gridcolor": "white",
            "linecolor": "white",
            "ticks": ""
           },
           "bgcolor": "#E5ECF6",
           "radialaxis": {
            "gridcolor": "white",
            "linecolor": "white",
            "ticks": ""
           }
          },
          "scene": {
           "xaxis": {
            "backgroundcolor": "#E5ECF6",
            "gridcolor": "white",
            "gridwidth": 2,
            "linecolor": "white",
            "showbackground": true,
            "ticks": "",
            "zerolinecolor": "white"
           },
           "yaxis": {
            "backgroundcolor": "#E5ECF6",
            "gridcolor": "white",
            "gridwidth": 2,
            "linecolor": "white",
            "showbackground": true,
            "ticks": "",
            "zerolinecolor": "white"
           },
           "zaxis": {
            "backgroundcolor": "#E5ECF6",
            "gridcolor": "white",
            "gridwidth": 2,
            "linecolor": "white",
            "showbackground": true,
            "ticks": "",
            "zerolinecolor": "white"
           }
          },
          "shapedefaults": {
           "line": {
            "color": "#2a3f5f"
           }
          },
          "ternary": {
           "aaxis": {
            "gridcolor": "white",
            "linecolor": "white",
            "ticks": ""
           },
           "baxis": {
            "gridcolor": "white",
            "linecolor": "white",
            "ticks": ""
           },
           "bgcolor": "#E5ECF6",
           "caxis": {
            "gridcolor": "white",
            "linecolor": "white",
            "ticks": ""
           }
          },
          "title": {
           "x": 0.05
          },
          "xaxis": {
           "automargin": true,
           "gridcolor": "white",
           "linecolor": "white",
           "ticks": "",
           "title": {
            "standoff": 15
           },
           "zerolinecolor": "white",
           "zerolinewidth": 2
          },
          "yaxis": {
           "automargin": true,
           "gridcolor": "white",
           "linecolor": "white",
           "ticks": "",
           "title": {
            "standoff": 15
           },
           "zerolinecolor": "white",
           "zerolinewidth": 2
          }
         }
        },
        "xaxis": {
         "anchor": "y",
         "domain": [
          0,
          1
         ],
         "title": {
          "text": "x"
         }
        },
        "yaxis": {
         "anchor": "x",
         "domain": [
          0,
          1
         ],
         "title": {
          "text": "y"
         }
        }
       }
      },
      "text/html": [
       "<div>                            <div id=\"bf41aa75-31d3-493e-86f6-dbe1a02747b3\" class=\"plotly-graph-div\" style=\"height:525px; width:100%;\"></div>            <script type=\"text/javascript\">                require([\"plotly\"], function(Plotly) {                    window.PLOTLYENV=window.PLOTLYENV || {};                                    if (document.getElementById(\"bf41aa75-31d3-493e-86f6-dbe1a02747b3\")) {                    Plotly.newPlot(                        \"bf41aa75-31d3-493e-86f6-dbe1a02747b3\",                        [{\"hovertemplate\":\"Label=angry\\u003cbr\\u003ex=%{x}\\u003cbr\\u003ey=%{y}\\u003cextra\\u003e\\u003c\\u002fextra\\u003e\",\"legendgroup\":\"angry\",\"marker\":{\"color\":\"#636efa\",\"symbol\":\"circle\"},\"mode\":\"markers\",\"name\":\"angry\",\"showlegend\":true,\"x\":[-11.725500106811523,-13.533727645874023,-12.336583137512207,-14.765125274658203,-15.239240646362305,-14.147061347961426,-40.42703628540039,-16.803022384643555,-40.347862243652344,-16.029699325561523,-12.686431884765625,33.996150970458984,-26.54584312438965,22.94577980041504,-26.9787654876709,-27.39911651611328,34.129722595214844,-26.605297088623047,-27.105703353881836,-27.01239776611328,34.768436431884766,34.876338958740234,34.63303756713867,34.82197189331055,34.69827651977539,-27.189434051513672,35.026084899902344,22.861284255981445,35.384849548339844,-27.82823371887207,-27.794021606445312,-43.32770919799805,-41.330318450927734,-43.48625183105469,-43.72062301635742,-43.748985290527344,20.56986427307129,-7.054405212402344,-7.956020832061768,-40.13063049316406,-43.730106353759766,-41.78894805908203,-41.57694625854492,-42.977813720703125,-42.585655212402344,-40.31382751464844,-39.09308624267578,-39.20261764526367,-40.50055694580078,-40.66866683959961,-42.48318862915039,-41.893348693847656,-39.677799224853516,-38.77237319946289,-39.15742492675781,-39.10917282104492,-39.54033279418945,-42.41917037963867,-43.02274703979492,-39.3524284362793,-38.64978790283203,28.18902015686035,27.862638473510742,-25.87444496154785,28.033334732055664,28.06441307067871,27.955245971679688,27.55339813232422,27.53016471862793,16.688196182250977,17.764663696289062,13.395828247070312,10.542195320129395,10.73619556427002,14.216453552246094,33.048099517822266,13.2725830078125,13.871421813964844,13.6104736328125,13.635284423828125,13.37726879119873,31.431543350219727,30.532346725463867,30.50922966003418,-8.530594825744629,-12.183632850646973,-12.192888259887695,33.04597854614258,-14.158856391906738,-23.48662757873535,-22.22153091430664,35.64750671386719,-21.081951141357422,-41.16389846801758,-20.59623146057129,-18.356332778930664,-11.00885009765625,-13.179807662963867,-10.989398956298828,-14.36856746673584,-12.594975471496582,-12.169379234313965,-19.891515731811523,-11.874167442321777,-11.156904220581055,-16.136974334716797,-16.093982696533203,-16.465341567993164,29.203916549682617,2.5232677459716797,31.550914764404297,30.602863311767578,19.843425750732422,-24.444290161132812,29.386512756347656,-39.73685073852539,-10.659279823303223,-9.232643127441406,-13.46400260925293,-12.351123809814453,-12.160935401916504,-12.391029357910156,-12.302993774414062,-9.791045188903809,-9.956546783447266,-13.008674621582031,32.08506774902344,-3.712498188018799,-2.9256532192230225,-16.678333282470703,-4.981361389160156,-20.06650161743164,-15.725768089294434,-3.7894294261932373,-21.01313591003418,-20.46196174621582,-29.2993106842041,-29.097497940063477,-29.634788513183594,-29.575143814086914,25.03351593017578,-29.589771270751953,-29.22947120666504,-28.789779663085938,-29.107624053955078,25.25151252746582,11.145788192749023,-28.724376678466797,11.131056785583496,25.270627975463867,24.8320369720459,25.321491241455078,24.562026977539062,24.488710403442383,-28.67148780822754,24.76508903503418],\"xaxis\":\"x\",\"y\":[11.723140716552734,-42.27842712402344,6.513999938964844,-42.24330139160156,-42.23183822631836,6.338018894195557,-22.964868545532227,-44.21087646484375,-23.071306228637695,-36.04819107055664,-37.01607894897461,-17.30267333984375,3.7338056564331055,30.111722946166992,4.294079303741455,4.394617080688477,-17.59372329711914,3.129204034805298,3.777310609817505,3.156100034713745,-17.316640853881836,-17.72536277770996,-17.653104782104492,-17.210430145263672,-16.924644470214844,3.7569873332977295,-16.862483978271484,30.022077560424805,-17.3432674407959,2.927506446838379,2.7867040634155273,16.052072525024414,13.2625732421875,16.39007568359375,15.808172225952148,16.496177673339844,-14.801640510559082,-47.465576171875,-47.439239501953125,11.665462493896484,15.114078521728516,15.77741527557373,16.094106674194336,14.181212425231934,14.122089385986328,12.485068321228027,11.548460960388184,11.834027290344238,12.82445240020752,13.129758834838867,15.219549179077148,16.295738220214844,12.915325164794922,12.199338912963867,13.275129318237305,13.357952117919922,13.172564506530762,14.168048858642578,14.59908676147461,11.9982328414917,11.546534538269043,-26.321956634521484,-26.054458618164062,15.047268867492676,-26.036151885986328,-26.622682571411133,-26.98733139038086,-26.009302139282227,-26.44352912902832,32.889442443847656,33.522705078125,39.655887603759766,41.92347717285156,42.324859619140625,37.54801940917969,-20.007150650024414,40.1246223449707,37.83897018432617,38.32844543457031,38.229183197021484,39.80457305908203,-3.96148943901062,-5.06476354598999,-5.0788984298706055,-2.5583481788635254,-0.9800812602043152,-0.9801750779151917,-19.234840393066406,-36.487579345703125,10.551862716674805,4.252117156982422,-18.5686092376709,12.531390190124512,-21.874332427978516,9.697164535522461,10.145968437194824,-34.62105178833008,-35.735836029052734,-34.65713119506836,-34.91883850097656,-35.046207427978516,-35.038177490234375,5.84687614440918,-32.69963455200195,-34.03947830200195,-33.83302307128906,-33.47542190551758,-34.19129943847656,-9.070046424865723,30.09262466430664,-8.996831893920898,-8.946255683898926,24.514320373535156,9.760819435119629,-8.499268531799316,-19.6688289642334,7.209721565246582,-41.04818344116211,6.300059795379639,-41.958030700683594,-41.63948059082031,-42.01194763183594,-41.63542938232422,-41.928916931152344,-41.924442291259766,7.82078218460083,-3.590977668762207,0.7558667659759521,2.3983523845672607,8.865732192993164,-29.549083709716797,-36.8842887878418,-42.999267578125,-27.947660446166992,-36.90681457519531,-36.77698516845703,19.90862464904785,19.170286178588867,19.789875030517578,19.541288375854492,-27.042884826660156,19.203386306762695,19.082786560058594,19.503395080566406,19.912044525146484,-27.847030639648438,32.21302795410156,19.391767501831055,32.20399475097656,-27.645124435424805,-27.610553741455078,-27.524885177612305,-27.521846771240234,-27.127668380737305,20.016448974609375,-27.094505310058594],\"yaxis\":\"y\",\"type\":\"scattergl\"},{\"hovertemplate\":\"Label=disgusted\\u003cbr\\u003ex=%{x}\\u003cbr\\u003ey=%{y}\\u003cextra\\u003e\\u003c\\u002fextra\\u003e\",\"legendgroup\":\"disgusted\",\"marker\":{\"color\":\"#EF553B\",\"symbol\":\"circle\"},\"mode\":\"markers\",\"name\":\"disgusted\",\"showlegend\":true,\"x\":[-12.857624053955078,-14.321993827819824,-12.797628402709961,-10.635002136230469,-17.031051635742188,-14.146044731140137,-16.595048904418945,-14.65580940246582,-12.635600090026855,-19.063173294067383,-18.457813262939453,34.57292938232422,-18.78435516357422,33.06155776977539,-17.725847244262695,-19.173377990722656,-17.59597396850586,34.42399215698242,-17.560962677001953,-18.732633590698242,19.09981346130371,33.36556625366211,-19.238588333129883,33.641971588134766,33.40890121459961,18.931209564208984,20.313018798828125,20.94757652282715,20.817594528198242,-3.0609841346740723,-2.9799160957336426,-1.0487034320831299,-0.49065589904785156,-2.260435104370117,-1.393636703491211,-1.8204880952835083,-2.1029837131500244,36.174232482910156,23.9741268157959,-37.515438079833984,-2.233682870864868,-2.256772041320801,-3.2227373123168945,-2.20167875289917,-2.470273733139038,-3.1404287815093994,-37.833187103271484,-3.343123197555542,-3.2037370204925537,-37.30929946899414,-38.13728713989258,-2.2869584560394287,-1.9958891868591309,-1.5009418725967407,-1.4344154596328735,-1.521343469619751,-1.5783360004425049,-1.3789411783218384,-37.656585693359375,19.918474197387695,18.7305850982666,18.598045349121094,17.51839828491211,17.521032333374023,20.321800231933594,19.89495277404785,19.867246627807617,20.3701229095459,19.999731063842773,14.241744995117188,14.271474838256836,15.564616203308105,14.34352970123291,15.603727340698242,15.070780754089355,15.46220588684082,14.752206802368164,13.679896354675293,25.271650314331055,27.20876693725586,26.46108627319336,30.5531063079834,28.05190086364746,26.660999298095703,28.861663818359375,30.508991241455078,26.355716705322266,26.928098678588867,26.914424896240234,27.227502822875977,28.89368438720703,28.65789222717285,26.05025863647461,29.16300392150879,26.816471099853516,29.187231063842773,27.682531356811523,28.06402587890625,28.812999725341797,29.721155166625977,30.405031204223633,27.932369232177734,27.456594467163086,27.104196548461914,27.087369918823242,36.49604797363281,29.494369506835938,16.753253936767578,-22.52216148376465,26.261842727661133,25.93573570251465,-29.68750762939453,18.899925231933594,23.065200805664062,-8.029606819152832,-11.176942825317383,-40.4260368347168,-21.341596603393555,-12.094525337219238,-40.828773498535156,-18.218399047851562,-16.287967681884766,-8.881786346435547,-15.713203430175781,28.648059844970703,-12.76051139831543,-12.73385238647461,-11.503993034362793,-11.546581268310547,-40.061248779296875,24.133625030517578,-39.74783706665039,27.338380813598633,25.45203971862793,-10.396193504333496,-39.311161041259766,29.59817886352539,19.693138122558594,-10.686470031738281,-2.9180190563201904,-4.542495250701904,-2.35332989692688,-1.6519197225570679,-5.076242923736572,-5.13170051574707,35.84831619262695,35.749298095703125,-0.878512978553772,21.626707077026367,24.733203887939453,22.78404998779297,21.217626571655273,22.730974197387695,22.915485382080078,22.610260009765625,23.390640258789062,23.323339462280273,24.096498489379883,23.33856964111328,23.192832946777344,24.305557250976562,24.30548858642578,22.65831184387207,23.418672561645508,22.255088806152344,22.25467300415039,22.556598663330078,22.749101638793945],\"xaxis\":\"x\",\"y\":[-42.85374069213867,9.970511436462402,8.581527709960938,-44.840965270996094,-40.56093978881836,4.492546081542969,-42.211238861083984,-41.74968338012695,-40.076622009277344,0.5902104377746582,0.06346834450960159,-12.001947402954102,0.09714814275503159,-13.05142593383789,-0.11030206084251404,1.5974539518356323,-0.684058427810669,-12.12365436553955,-0.6575087308883667,-0.6025807857513428,27.13822364807129,-12.795058250427246,-0.377390593290329,-12.515691757202148,-13.522680282592773,27.142574310302734,26.958740234375,27.603965759277344,27.453067779541016,-50.9888801574707,-51.019779205322266,-49.51292037963867,-49.479652404785156,-50.78306579589844,-50.50077438354492,-49.85844039916992,-51.646427154541016,-16.536823272705078,28.337867736816406,19.696571350097656,-48.111671447753906,-48.32467269897461,-49.98432540893555,-48.99983596801758,-48.92933654785156,-49.89720916748047,19.371685028076172,-49.57712173461914,-49.583396911621094,19.838735580444336,19.48723030090332,-47.860801696777344,-47.589412689208984,-49.173152923583984,-48.418174743652344,-48.23388671875,-47.5860710144043,-47.97739791870117,19.716278076171875,35.13416290283203,33.6029167175293,33.52159881591797,32.28477096557617,32.30202865600586,37.165306091308594,36.35329818725586,36.595558166503906,37.23102569580078,43.21847915649414,42.06755065917969,42.033138275146484,41.17185592651367,41.4537353515625,41.12664794921875,41.663291931152344,41.11888885498047,41.36164855957031,41.53892517089844,23.390451431274414,20.888883590698242,23.331937789916992,20.65007209777832,23.143543243408203,23.735931396484375,21.560474395751953,20.908071517944336,24.47357940673828,25.52338218688965,24.876333236694336,24.113162994384766,22.648225784301758,21.59801483154297,22.948991775512695,20.790996551513672,22.843189239501953,20.488079071044922,20.385019302368164,20.889455795288086,21.531068801879883,20.704959869384766,19.851959228515625,21.661836624145508,20.99356460571289,23.21303939819336,23.050016403198242,-2.34926176071167,20.19688606262207,37.56482696533203,7.506184101104736,-14.309172630310059,31.90155792236328,5.696734428405762,28.681997299194336,35.258079528808594,-36.99026107788086,-35.97902297973633,-21.7990665435791,10.108052253723145,9.110600471496582,-19.876522064208984,4.343341827392578,1.6965912580490112,-36.94932174682617,-34.444583892822266,-9.157988548278809,3.691744804382324,3.6108601093292236,-38.93822479248047,6.875887393951416,-19.235919952392578,27.017976760864258,-20.244279861450195,-9.790775299072266,27.10072898864746,6.5800580978393555,-19.67784309387207,-8.573556900024414,24.88661003112793,6.489996433258057,0.7006110548973083,1.4443241357803345,1.4722275733947754,1.2049258947372437,0.540727972984314,0.518944263458252,-1.9931159019470215,-1.9505934715270996,3.501088857650757,42.73482894897461,42.649620056152344,42.66974639892578,42.210208892822266,41.72629165649414,42.4140510559082,41.452552795410156,44.074344635009766,43.81692123413086,43.87137222290039,42.79749298095703,43.45390319824219,42.04307556152344,42.04304504394531,43.30411148071289,43.26651382446289,43.28907775878906,43.28887176513672,43.802207946777344,44.11992645263672],\"yaxis\":\"y\",\"type\":\"scattergl\"},{\"hovertemplate\":\"Label=happy\\u003cbr\\u003ex=%{x}\\u003cbr\\u003ey=%{y}\\u003cextra\\u003e\\u003c\\u002fextra\\u003e\",\"legendgroup\":\"happy\",\"marker\":{\"color\":\"#00cc96\",\"symbol\":\"circle\"},\"mode\":\"markers\",\"name\":\"happy\",\"showlegend\":true,\"x\":[28.683666229248047,-14.241541862487793,19.282201766967773,29.043882369995117,18.81569480895996,18.83782958984375,9.83322525024414,10.475310325622559,-15.111570358276367,-15.268660545349121,16.147192001342773,13.185976028442383,20.879825592041016,20.86536407470703,24.369831085205078,15.335620880126953,16.094667434692383,-17.15833282470703,-10.218207359313965,-11.647502899169922,-13.944740295410156,23.06544303894043,23.791255950927734,-11.922883987426758,-10.396367073059082,-12.157979011535645,-11.954358100891113,-10.944981575012207,-10.08127212524414,-8.360493659973145,-13.567158699035645,-24.343421936035156,-3.3648366928100586,-3.2749531269073486,-23.076135635375977,-2.8965277671813965,-3.183069944381714,-23.108522415161133,-24.1232967376709,-3.4639291763305664,-2.867191791534424,-2.9696130752563477,-23.044687271118164,-3.605304718017578,22.172592163085938,32.92061996459961,-24.48617172241211,33.08676528930664,-24.573047637939453,-24.82280158996582,-38.57853317260742,32.953731536865234,32.88180923461914,-6.867931842803955,-42.2820930480957,-42.24470901489258,-6.915733814239502,-42.25144958496094,-9.13470458984375,-9.1321382522583,-8.450430870056152,-9.128327369689941,-40.71229553222656,23.695457458496094,20.57735252380371,21.322973251342773,23.022794723510742,21.266023635864258,23.00969696044922,16.073101043701172,22.290420532226562,22.479084014892578,23.01531410217285,23.090181350708008,-39.4766731262207,-39.41605758666992,-39.42897033691406,22.25282096862793,20.5985107421875,22.484392166137695,22.473960876464844,23.163999557495117,-39.55827331542969,14.337065696716309,30.038864135742188,14.007131576538086,29.275741577148438,29.316457748413086,14.469232559204102,13.666543960571289,14.360468864440918,29.436508178710938,13.481553077697754,14.277688026428223,15.834575653076172,14.140192985534668,29.079605102539062,15.239402770996094,28.896438598632812,29.139171600341797,29.100313186645508,12.014914512634277,30.641769409179688,14.608612060546875,4.389975547790527,12.638361930847168,5.567973613739014,11.882957458496094,12.602871894836426,4.429592132568359,10.843626022338867,5.2546844482421875,8.62763500213623,1.8878424167633057,8.272268295288086,13.387988090515137,6.829825401306152,2.5048036575317383,15.323596954345703,13.871301651000977,2.7373976707458496,12.022381782531738,6.888390064239502,2.7176878452301025,18.939697265625,8.249792098999023,8.20654296875,3.874171018600464,-0.7371441125869751,14.646244049072266,0.0737280398607254,14.896553993225098,15.187358856201172,8.477412223815918,6.227395534515381,10.50217056274414,6.118847370147705,1.3820080757141113,15.191926956176758,10.993940353393555,2.068765878677368,7.363731384277344,1.7619198560714722,7.3180108070373535,34.02095031738281,-4.593625068664551,33.6666374206543,34.07242202758789,-5.566514492034912,-4.9669623374938965,-5.441830635070801,-4.926438331604004,-2.9838645458221436,-2.7237813472747803,-3.977182149887085,-5.552702903747559,-4.9004316329956055,-3.9601151943206787,-4.285583972930908,-4.725271701812744,-5.13947868347168,-3.5419816970825195,-3.435818910598755,-5.565295219421387,33.19441223144531,-5.886823654174805,32.92869186401367,-3.8772640228271484,-6.1341047286987305,25.33378791809082,32.48405075073242,33.98869705200195,-13.134008407592773,-13.799020767211914,-13.99681568145752,-12.806485176086426,-12.693470001220703,-13.464070320129395,-39.49909210205078,-9.739592552185059,-12.64345645904541,-9.8825101852417,30.14277458190918,-9.933449745178223,-10.582306861877441,-11.088465690612793,-13.069676399230957,-17.01417350769043,-9.10922622680664,29.042051315307617,-16.119831085205078,-21.4959659576416,-12.159428596496582,-12.452231407165527,29.622549057006836,-40.7947998046875,-14.395899772644043,22.725744247436523,22.552345275878906,29.50399398803711,-10.716609001159668,29.543371200561523,-14.528974533081055,21.71617317199707,17.788610458374023,18.510211944580078,-20.770061492919922,-39.77193069458008,-40.422821044921875,-13.028124809265137,-1.841639518737793,-2.1006627082824707,-1.992492914199829,-2.4664180278778076,-3.1955153942108154,-1.298537015914917,-1.921069622039795,-3.0156161785125732,-3.2118406295776367,-3.5515494346618652,17.247724533081055,23.642988204956055,33.844844818115234,31.081348419189453,30.156644821166992,31.543167114257812,15.799283981323242,31.428171157836914,33.235130310058594,30.771833419799805,32.66370391845703,31.219806671142578,32.73407745361328,30.63534927368164,31.457651138305664,31.757184982299805,32.3581657409668,16.16175079345703,15.981578826904297,16.3920841217041,16.26372718811035,15.691279411315918],\"xaxis\":\"x\",\"y\":[-13.176050186157227,14.1209135055542,30.44757652282715,-13.2282075881958,40.071083068847656,40.00636291503906,43.451751708984375,31.9939022064209,13.677014350891113,13.584510803222656,45.85749816894531,28.778833389282227,33.50071334838867,33.52625274658203,29.594900131225586,46.25482177734375,45.896358489990234,6.680038928985596,-30.75481414794922,11.459905624389648,-43.18317794799805,26.06513023376465,26.57308578491211,-43.51164245605469,9.23539924621582,-43.34494400024414,10.73193359375,9.301742553710938,11.28231430053711,10.354875564575195,-44.0330696105957,-1.474348545074463,-37.364646911621094,-36.855743408203125,3.1963233947753906,-37.157188415527344,-36.465091705322266,3.162166118621826,-1.1991779804229736,-36.48721694946289,-37.38813400268555,-37.0476188659668,3.276672601699829,-37.34480667114258,31.44330596923828,-14.871994972229004,1.0932447910308838,-14.701186180114746,1.193213701248169,1.4275492429733276,-20.587919235229492,-14.972084045410156,-14.975833892822266,-49.26922607421875,20.10904884338379,20.153783798217773,-49.14923858642578,20.124794006347656,-51.01390838623047,-51.02861404418945,-50.77543640136719,-51.03081130981445,21.068248748779297,-12.433554649353027,-11.787935256958008,-11.908775329589844,-11.849522590637207,-11.974153518676758,-12.630838394165039,26.975494384765625,-12.440418243408203,-12.466176986694336,-12.623523712158203,-12.111414909362793,21.376134872436523,21.408395767211914,21.414470672607422,-13.105512619018555,-11.753477096557617,-12.907580375671387,-11.807938575744629,-12.952240943908691,21.323392868041992,33.1163330078125,-26.5374813079834,33.2899284362793,-26.917842864990234,-26.869159698486328,33.34318161010742,33.434059143066406,33.63136672973633,-26.98738670349121,33.3153190612793,32.337608337402344,32.21847152709961,32.327293395996094,-23.219558715820312,32.338287353515625,-23.354557037353516,-23.41748046875,-23.12082290649414,33.18851089477539,-26.403921127319336,32.655982971191406,26.10467529296875,40.69154357910156,25.847007751464844,45.5634651184082,40.74019241333008,26.01504898071289,42.65850067138672,25.80108642578125,42.492984771728516,28.00680160522461,42.71669006347656,45.11178970336914,31.940336227416992,26.911062240600586,42.92936325073242,43.11446762084961,25.786264419555664,45.50198745727539,31.975494384765625,26.09521484375,43.4166259765625,42.948509216308594,42.90416717529297,24.750118255615234,28.0358943939209,38.801944732666016,27.77492332458496,38.32539367675781,37.89253234863281,25.724632263183594,39.5184211730957,45.93657684326172,39.52273178100586,28.13452911376953,37.50342559814453,45.78099822998047,24.444608688354492,38.812984466552734,24.58426856994629,38.85184097290039,-7.0918354988098145,8.128652572631836,-6.111027717590332,-6.730507850646973,6.744736671447754,7.544262886047363,6.95137357711792,5.329142093658447,7.598273277282715,7.625781536102295,8.192520141601562,6.057206153869629,7.799250602722168,7.191440105438232,6.19896125793457,5.797798156738281,8.487713813781738,6.599207878112793,6.341689586639404,8.192665100097656,-6.287696838378906,5.382339000701904,-6.2586846351623535,6.922147750854492,7.673624515533447,25.92725944519043,-6.616934776306152,-6.532708644866943,-32.9432258605957,-33.04930877685547,-32.656497955322266,-31.938087463378906,-32.026649475097656,-33.165279388427734,-23.311973571777344,-40.47440719604492,10.45361328125,-40.32789611816406,-8.650981903076172,8.367524147033691,-40.97470474243164,7.860781669616699,-43.79365921020508,-44.298004150390625,8.26380729675293,-10.401622772216797,-45.5278205871582,-43.06548309326172,-44.415367126464844,-44.40021514892578,-10.244390487670898,-20.286239624023438,-44.071754455566406,27.122962951660156,27.24386215209961,-10.296671867370605,5.157308101654053,-11.800532341003418,-36.55322265625,29.400047302246094,36.903743743896484,28.920135498046875,12.728766441345215,-21.695354461669922,-21.77306365966797,-34.529537200927734,4.45849609375,-29.657846450805664,3.9696569442749023,5.618244647979736,4.698537826538086,-30.402816772460938,3.778508186340332,3.261093854904175,4.455466270446777,4.267688274383545,23.131282806396484,32.509559631347656,-29.082015991210938,-30.037832260131836,-30.03929328918457,-29.650480270385742,30.43385124206543,-30.07455062866211,-29.10236167907715,-29.61418342590332,-29.315040588378906,-29.452611923217773,-29.127159118652344,-29.50848960876465,-30.407962799072266,-29.758895874023438,-29.811458587646484,30.512248992919922,30.659013748168945,30.41197967529297,30.3865909576416,30.55710792541504],\"yaxis\":\"y\",\"type\":\"scattergl\"},{\"hovertemplate\":\"Label=neutral\\u003cbr\\u003ex=%{x}\\u003cbr\\u003ey=%{y}\\u003cextra\\u003e\\u003c\\u002fextra\\u003e\",\"legendgroup\":\"neutral\",\"marker\":{\"color\":\"#ab63fa\",\"symbol\":\"circle\"},\"mode\":\"markers\",\"name\":\"neutral\",\"showlegend\":true,\"x\":[-13.961577415466309,-22.26471710205078,21.9298152923584,5.435757160186768,22.24819564819336,2.1381611824035645,18.75748634338379,-15.46081829071045,-7.221169471740723,15.723442077636719,20.86174201965332,-10.19495677947998,-10.626335144042969,-10.672140121459961,-11.235259056091309,-10.997364044189453,-17.22331428527832,-10.914201736450195,-12.743732452392578,-21.460529327392578,-15.386608123779297,-15.650121688842773,-26.385103225708008,-26.00242805480957,-25.835735321044922,-25.738544464111328,-25.84846305847168,-25.29437828063965,-25.745502471923828,-25.167987823486328,-25.403085708618164,-26.288860321044922,-25.894624710083008,-25.469846725463867,-26.324655532836914,-25.70263671875,-26.071611404418945,-4.1737189292907715,-25.419296264648438,-4.213990211486816,-4.18159294128418,-4.072738170623779,-7.583949089050293,-44.26474380493164,-6.977447986602783,-44.68495559692383,-39.34333419799805,-41.417964935302734,-8.247369766235352,-6.9911346435546875,-44.433837890625,-7.191707611083984,-41.492855072021484,21.33243179321289,22.296199798583984,19.959327697753906,16.102916717529297,21.0606746673584,20.039705276489258,20.946260452270508,20.116008758544922,21.642417907714844,22.937725067138672,22.503454208374023,22.237180709838867,21.762937545776367,-41.536800384521484,19.767629623413086,21.018518447875977,16.111814498901367,19.730052947998047,21.656251907348633,28.301055908203125,29.184316635131836,29.89529800415039,-25.841283798217773,30.706695556640625,28.245702743530273,29.041166305541992,28.384321212768555,-25.838747024536133,13.578832626342773,2.2859673500061035,-1.150265097618103,10.806894302368164,-1.5321263074874878,10.324797630310059,-0.9781511425971985,10.710726737976074,8.604742050170898,2.7104737758636475,10.865452766418457,-0.7638393044471741,-0.8236937522888184,10.171270370483398,-1.0441268682479858,2.855733871459961,-6.814664840698242,30.52615737915039,-6.86187219619751,29.626747131347656,-6.6276421546936035,21.482988357543945,21.22771644592285,33.689544677734375,32.89057540893555,21.6434383392334,21.421579360961914,-10.565311431884766,-11.474664688110352,-11.542379379272461,26.671714782714844,26.480070114135742,-12.463652610778809,30.323625564575195,-8.329426765441895,28.469404220581055,28.733924865722656,-9.257080078125,29.48041343688965,28.43967628479004,-10.888378143310547,27.916427612304688,13.515817642211914,-22.90424156188965,21.730300903320312,-19.77149200439453,-20.39426612854004,3.1919097900390625,-16.605566024780273,28.394105911254883,12.774831771850586,-40.993896484375,-20.49346351623535,-15.556661605834961,-20.112730026245117,-15.994586944580078,-19.01773452758789,-5.872354030609131,-5.928418159484863,-18.057449340820312,31.19674301147461,-10.215034484863281,-10.761757850646973,-8.716866493225098,-17.502731323242188,-14.71550464630127,-16.012052536010742,-13.946946144104004,-5.903176784515381,-5.890395641326904,-5.731347560882568,-7.158843517303467,-7.133941650390625,-7.048422813415527,-20.82319450378418,-7.12626838684082,-4.345351219177246,-21.022275924682617,16.774883270263672,20.05364227294922,-23.313007354736328,-27.954326629638672,-23.26621437072754,-27.95948600769043],\"xaxis\":\"x\",\"y\":[-45.21376419067383,6.898196697235107,32.62683868408203,39.55557632446289,32.767662048339844,30.792387008666992,40.08991241455078,13.469107627868652,-45.38639450073242,46.13870620727539,33.4378662109375,-30.81311798095703,-43.12735366821289,5.255113124847412,-45.38378143310547,-45.78647232055664,-40.871063232421875,-45.78261947631836,-45.73088073730469,-43.18301010131836,-39.00813293457031,-39.6361083984375,0.7994039058685303,-1.674512505531311,-1.8063160181045532,-1.2458641529083252,1.0207629203796387,-1.0579705238342285,1.1911002397537231,-1.660891056060791,-1.899328351020813,-0.995513916015625,0.5792264342308044,0.5883063673973083,-1.2855485677719116,0.7842710018157959,1.1979012489318848,-38.519222259521484,-1.3618158102035522,-38.50554656982422,-38.47647476196289,-38.503841400146484,-47.254764556884766,13.710479736328125,-47.43903732299805,15.749300956726074,10.641929626464844,11.440282821655273,-47.38758850097656,-47.4410514831543,14.226728439331055,-46.61322021484375,12.314132690429688,-16.06930160522461,-15.230561256408691,-17.055166244506836,27.14423179626465,-15.158049583435059,-15.645622253417969,-16.916780471801758,-16.446306228637695,-16.09377670288086,-15.075626373291016,-14.954068183898926,-14.78393268585205,-14.772835731506348,12.174936294555664,-16.67022132873535,-17.242053985595703,27.196937561035156,-16.30808448791504,-15.712706565856934,-24.62677764892578,-25.338830947875977,-25.638763427734375,14.882884979248047,-25.684005737304688,-24.51106071472168,-25.407297134399414,-23.92820167541504,14.898420333862305,32.54853439331055,27.066572189331055,27.527809143066406,38.879234313964844,27.755794525146484,37.19752883911133,28.300912857055664,36.62751007080078,25.6435489654541,24.473535537719727,38.85368728637695,26.91543197631836,27.79563331604004,37.23268127441406,27.4295597076416,24.371944427490234,-1.9307242631912231,-3.544651746749878,-2.546424627304077,-3.867452621459961,-2.539578437805176,22.91086196899414,22.938846588134766,-4.5611958503723145,-2.0899624824523926,22.24662208557129,22.97344207763672,-2.830519914627075,-2.8470113277435303,-3.201732635498047,-3.616671323776245,-3.6067230701446533,-2.5643889904022217,-3.4088311195373535,-1.678799033164978,-3.120171308517456,-4.325323104858398,-2.9361014366149902,-4.068422317504883,-3.93324613571167,-3.012615442276001,-3.4146156311035156,29.582111358642578,7.8426032066345215,29.486230850219727,8.31053352355957,-2.9948315620422363,34.91553497314453,-36.16808319091797,-18.858877182006836,42.058349609375,-21.911582946777344,9.531825065612793,-32.777164459228516,-34.63055419921875,-32.919368743896484,6.983394622802734,-39.3119010925293,-39.296600341796875,6.235986709594727,-12.426995277404785,-33.528907775878906,-33.365779876708984,-42.597572326660156,-38.132835388183594,-38.985382080078125,-38.5890007019043,7.492850303649902,-30.90682601928711,-30.866954803466797,-30.339048385620117,-32.7302360534668,-32.73486328125,-32.70932388305664,5.3219428062438965,-32.733856201171875,-31.33739471435547,-36.789268493652344,42.22898483276367,24.292463302612305,16.063629150390625,17.735891342163086,16.090681076049805,17.73849868774414],\"yaxis\":\"y\",\"type\":\"scattergl\"},{\"hovertemplate\":\"Label=sad\\u003cbr\\u003ex=%{x}\\u003cbr\\u003ey=%{y}\\u003cextra\\u003e\\u003c\\u002fextra\\u003e\",\"legendgroup\":\"sad\",\"marker\":{\"color\":\"#FFA15A\",\"symbol\":\"circle\"},\"mode\":\"markers\",\"name\":\"sad\",\"showlegend\":true,\"x\":[19.26914405822754,13.194859504699707,-13.634405136108398,-11.721623420715332,-11.223024368286133,-12.765921592712402,2.5409600734710693,-13.165254592895508,-14.963820457458496,-20.36762237548828,-20.193939208984375,-20.2482852935791,-20.210744857788086,-7.008775234222412,-6.737190246582031,-6.830357074737549,-20.623075485229492,-20.44635009765625,-21.361190795898438,-21.441598892211914,-21.39678192138672,-20.463260650634766,-5.506848335266113,-21.049728393554688,-21.055307388305664,-7.1174468994140625,-20.134471893310547,-20.242483139038086,-20.595081329345703,-35.64680862426758,-35.64677810668945,-2.4931187629699707,-2.159752130508423,-2.4184391498565674,-33.497501373291016,-33.635658264160156,-33.49741744995117,-34.81526184082031,-2.5196244716644287,-34.81565856933594,-36.84678649902344,-34.96244812011719,-36.84678649902344,-34.020267486572266,-35.632080078125,-34.020267486572266,-36.98203659057617,-36.89736557006836,-36.98224639892578,-31.790069580078125,-33.92919921875,-31.790069580078125,-31.488842010498047,-31.488746643066406,-31.48872184753418,-37.07283020019531,-2.629943370819092,-35.345008850097656,-35.34512710571289,32.323726654052734,32.50764846801758,32.573299407958984,-23.709434509277344,16.01421356201172,-23.749774932861328,31.76812171936035,33.191001892089844,31.85076141357422,16.615182876586914,6.551297664642334,1.3251532316207886,6.2044477462768555,7.15272855758667,5.525050640106201,7.358488082885742,5.26515007019043,1.0962646007537842,7.307650089263916,5.727285385131836,1.121825098991394,7.350622653961182,5.7404584884643555,1.1614797115325928,1.1755883693695068,5.671499252319336,1.257602572441101,5.543154239654541,1.1631834506988525,5.4276509284973145,-25.87843132019043,-3.6663973331451416,-2.649599313735962,-2.4303395748138428,-4.401618957519531,-4.234030246734619,-4.716846466064453,36.866153717041016,36.4245491027832,24.719593048095703,35.275001525878906,35.38231658935547,35.8149528503418,35.4524040222168,36.8524169921875,-3.4808578491210938,-2.7236697673797607,-3.3360376358032227,25.151622772216797,-3.8216114044189453,37.434871673583984,-3.48178768157959,34.172481536865234,34.50047302246094,34.41732406616211,-4.132019519805908,-17.44585418701172,-18.183305740356445,-18.140954971313477,-18.22481918334961,-16.640077590942383,-16.36568260192871,31.651018142700195,-17.65106201171875,-21.649417877197266,31.67243766784668,18.445220947265625,31.554401397705078,31.406036376953125,-12.018301010131836,30.65707778930664,-21.476207733154297,-11.777198791503906,-11.24960994720459,-11.46786117553711,-12.506260871887207,-13.488222122192383,-11.309061050415039,-11.290258407592773,30.698354721069336,-13.229216575622559,30.633747100830078,-13.674708366394043,-40.20171356201172,-13.274652481079102,-9.426421165466309,-9.449639320373535,-12.081461906433105,-40.33515548706055,33.090171813964844,-14.771084785461426,-1.4331154823303223,-20.384849548339844,23.078140258789062,-21.094097137451172,-41.021575927734375,-20.998619079589844,-3.5501697063446045,-4.8437347412109375,-1.5091115236282349,-2.52787709236145,-2.450373888015747,-2.7086868286132812,-0.004781618714332581,-0.01194392517209053,-21.20604705810547,-5.8834638595581055,-29.091588973999023,-27.543609619140625,28.912006378173828,-29.1065673828125,13.150071144104004,-27.5366268157959,33.74272155761719,15.414393424987793,37.094261169433594,16.54433822631836,37.09474182128906,37.10300064086914,17.218847274780273],\"xaxis\":\"x\",\"y\":[39.39017105102539,34.53706359863281,-41.354251861572266,-39.804290771484375,-39.77301788330078,-40.08451843261719,29.989133834838867,9.492071151733398,-40.625980377197266,0.20704439282417297,3.229478597640991,3.237628698348999,3.0941765308380127,-36.24258804321289,-36.27375411987305,-36.17803192138672,3.3701205253601074,3.7035932540893555,0.9949296116828918,0.9005184173583984,0.7995666265487671,-0.19819140434265137,-36.947174072265625,2.9170377254486084,2.7190873622894287,-36.096435546875,-0.6784292459487915,-0.6571547985076904,1.7927305698394775,8.026501655578613,8.026565551757812,-44.09709548950195,-43.6668586730957,-43.92070007324219,6.157927513122559,6.692074298858643,6.1578240394592285,7.809140682220459,-43.873477935791016,7.808877468109131,8.629776954650879,8.14375114440918,8.629776954650879,6.4462971687316895,8.654129981994629,6.4462971687316895,6.954278945922852,7.723832130432129,6.954187393188477,8.300468444824219,5.922776222229004,8.300468444824219,7.549808025360107,7.550185680389404,7.549880504608154,8.576950073242188,-43.92748260498047,6.355062007904053,6.355022430419922,-26.56315040588379,-26.426889419555664,-26.448856353759766,15.318687438964844,34.63904571533203,15.294699668884277,-26.767427444458008,-26.04853630065918,-26.95908546447754,34.25349807739258,31.9353084564209,27.42568588256836,34.50801086425781,26.178600311279297,34.11589813232422,26.25339698791504,34.86222839355469,32.60700988769531,26.2568416595459,34.62009811401367,32.586788177490234,26.21742820739746,34.378326416015625,32.55171203613281,26.626285552978516,35.102542877197266,26.826553344726562,35.302345275878906,26.2040958404541,35.49971008300781,15.548783302307129,-1.305277705192566,-1.0613871812820435,-0.25788867473602295,-1.4189029932022095,1.2264938354492188,-2.1546294689178467,-5.335872650146484,-4.665882587432861,20.222110748291016,-4.375581741333008,-5.292013168334961,-4.690931797027588,-4.787342548370361,-5.141412258148193,-0.8068122863769531,-1.0317614078521729,-2.403116464614868,19.89402961730957,-2.3624777793884277,-5.396402835845947,-0.8325823545455933,-3.8938663005828857,-3.3649134635925293,-4.587435722351074,-2.3161985874176025,-34.748191833496094,-34.245296478271484,-34.33363342285156,-34.21681594848633,-34.390663146972656,-33.93376541137695,-11.407155990600586,5.56704044342041,-42.43735885620117,-11.198282241821289,27.186325073242188,-11.530564308166504,-11.834555625915527,7.3046793937683105,-9.202325820922852,-43.172157287597656,7.478029727935791,-41.17641830444336,-40.97140121459961,6.178858280181885,7.526279926300049,-40.38717269897461,-40.60712814331055,-9.323512077331543,5.9634528160095215,-9.539618492126465,8.70885944366455,-20.19447898864746,8.902776718139648,-38.46219253540039,-38.468204498291016,8.251688003540039,-19.628768920898438,-18.983285903930664,-36.44950485229492,-27.918977737426758,-2.954336404800415,35.26826477050781,12.536752700805664,-21.4918155670166,9.851792335510254,-28.649940490722656,-28.926700592041016,-29.556795120239258,-28.59795379638672,-28.600494384765625,-28.48527717590332,-2.556832790374756,-2.544900894165039,-36.748085021972656,-29.136077880859375,14.23021411895752,15.719648361206055,-28.716373443603516,14.214377403259277,31.92030143737793,15.893240928649902,-27.347747802734375,36.42287063598633,-25.659700393676758,40.44136428833008,-25.66769790649414,-25.651613235473633,34.67643737792969],\"yaxis\":\"y\",\"type\":\"scattergl\"},{\"hovertemplate\":\"Label=surprised\\u003cbr\\u003ex=%{x}\\u003cbr\\u003ey=%{y}\\u003cextra\\u003e\\u003c\\u002fextra\\u003e\",\"legendgroup\":\"surprised\",\"marker\":{\"color\":\"#19d3f3\",\"symbol\":\"circle\"},\"mode\":\"markers\",\"name\":\"surprised\",\"showlegend\":true,\"x\":[-13.076870918273926,-15.767592430114746,-10.097724914550781,28.382911682128906,-12.187758445739746,24.118406295776367,-14.89390754699707,-39.93556594848633,-17.61564826965332,-25.715797424316406,-25.584917068481445,-24.756004333496094,30.9219970703125,-24.871461868286133,-24.738534927368164,-38.86000061035156,-24.718050003051758,30.803730010986328,30.282535552978516,30.636226654052734,-24.872716903686523,-25.522268295288086,30.37994384765625,30.465373992919922,20.22224998474121,-38.35861587524414,20.56376838684082,30.039794921875,20.77694320678711,20.0197696685791,30.26427459716797,-5.374777317047119,-5.174300193786621,-35.78490447998047,-19.19552993774414,-36.37833786010742,-35.852264404296875,-36.42433166503906,-5.246264934539795,-5.152817249298096,-36.460269927978516,-38.903785705566406,22.767427444458008,-37.662353515625,-40.413326263427734,-36.25566864013672,-40.01738357543945,-5.556144714355469,-37.27924728393555,23.59636116027832,-36.204219818115234,-39.36350631713867,-36.74875259399414,-40.88032913208008,-36.97926330566406,22.77789878845215,-37.02854919433594,-40.302520751953125,-37.25286102294922,-36.884185791015625,24.00337028503418,15.275975227355957,16.14436149597168,16.035877227783203,16.71361541748047,14.988590240478516,32.501434326171875,31.859865188598633,-25.858814239501953,-25.940906524658203,-25.795942306518555,-28.735618591308594,-28.739742279052734,14.585453987121582,34.35606384277344,33.905391693115234,34.61021423339844,34.30832290649414,34.645286560058594,34.39476013183594,13.796653747558594,13.261211395263672,25.28282356262207,32.01381301879883,-7.578595161437988,28.179950714111328,28.967824935913086,-7.497501850128174,29.665645599365234,-7.683465480804443,-7.823454856872559,29.58079719543457,-7.274946689605713,29.576786041259766,30.83719253540039,26.49224281311035,37.20307540893555,-8.234697341918945,24.124773025512695,-7.01664924621582,31.889944076538086,24.065515518188477,32.08757019042969,24.629867553710938,26.429641723632812,26.653566360473633,27.054624557495117,-39.415184020996094,-17.651941299438477,-39.25273132324219,-20.57228660583496,-13.603413581848145,-13.689775466918945,11.912362098693848,-19.509958267211914,-39.253841400146484,-15.273050308227539,-15.224696159362793,-17.70897674560547,-18.042531967163086,-15.260448455810547,-38.93688201904297,-19.234848022460938,-19.332141876220703,9.320520401000977,14.104930877685547,-38.7857551574707,-7.731706619262695,-9.880900382995605,-40.222904205322266,12.32040786743164,-7.669450759887695,13.405634880065918,-23.053972244262695,-23.45099639892578,25.948726654052734,31.08513069152832,28.382850646972656,13.26352310180664,-40.09782028198242,-9.71056079864502,-20.845735549926758,-3.077655792236328,-3.539262533187866,-5.025005340576172,-4.054088592529297,-3.442307949066162,-5.443470001220703,-6.576854705810547,-2.62312912940979,-4.173405647277832,-4.0102667808532715,29.57318115234375,30.15363311767578,30.279518127441406,30.878164291381836,30.407743453979492,29.385784149169922,30.321290969848633,31.128049850463867,30.587862014770508,29.52646827697754,31.375825881958008,30.892742156982422,31.00594139099121,31.069581985473633,31.151227951049805,31.586456298828125,29.77192497253418,31.634300231933594,31.77630615234375,29.784757614135742],\"xaxis\":\"x\",\"y\":[-39.30739212036133,-39.849830627441406,-43.37788009643555,-7.5526227951049805,5.330183506011963,25.925382614135742,8.321125030517578,-22.631858825683594,9.587113380432129,6.914768695831299,6.853602886199951,6.5654144287109375,-15.787374496459961,6.612583637237549,7.179473876953125,-20.75468635559082,7.242400169372559,-15.844728469848633,-17.30497932434082,-16.73097038269043,6.961436748504639,7.37160062789917,-16.343873977661133,-16.212011337280273,30.692218780517578,-20.733354568481445,30.93536949157715,-16.188920974731445,31.17067527770996,30.66518211364746,-15.765742301940918,-51.650657653808594,-51.648643493652344,15.890636444091797,-37.72216033935547,15.726835250854492,16.987018585205078,17.272075653076172,-47.461021423339844,-51.6279182434082,17.512269973754883,16.496625900268555,-17.000686645507812,14.285664558410645,17.084869384765625,13.755646705627441,16.69748878479004,-47.53170394897461,15.088394165039062,-16.773853302001953,14.249484062194824,16.548097610473633,14.375357627868652,16.99098014831543,14.956768035888672,-17.025745391845703,14.704585075378418,16.976696014404297,13.804378509521484,13.896604537963867,-16.668838500976562,33.68033981323242,33.473628997802734,33.480228424072266,33.883155822753906,33.85198211669922,-25.303485870361328,-25.707855224609375,13.49113941192627,13.508162498474121,13.369441986083984,10.671906471252441,10.663613319396973,35.53846740722656,-22.676000595092773,-22.743032455444336,-23.007951736450195,-22.67273712158203,-23.27983283996582,-22.697158813476562,25.105449676513672,35.88786315917969,22.906097412109375,-2.714881181716919,-3.865220308303833,-2.8949291706085205,-2.380767822265625,-4.168638706207275,-2.45493483543396,-0.584251880645752,-2.3270061016082764,-2.5506691932678223,-3.2738754749298096,-3.3797619342803955,-1.9918758869171143,18.639820098876953,-2.543344497680664,-1.462101697921753,22.612899780273438,-3.1953892707824707,-2.8144073486328125,22.335920333862305,-2.500579833984375,21.442127227783203,19.277448654174805,18.76542854309082,18.66777801513672,-22.025842666625977,-30.168331146240234,-21.924320220947266,-34.1877555847168,-30.331768035888672,-30.367345809936523,34.490867614746094,-31.913291931152344,-22.768390655517578,-30.692289352416992,-30.59027862548828,-30.216705322265625,-30.45163917541504,-30.701379776000977,-21.953401565551758,-31.77768898010254,-31.881864547729492,41.56188201904297,24.303054809570312,-22.439109802246094,-42.79945755004883,-0.11600100994110107,-20.411558151245117,30.752031326293945,-42.80696105957031,29.825397491455078,8.92448616027832,10.61329460144043,31.906532287597656,-12.84154224395752,-18.82421112060547,25.33175277709961,-22.52357292175293,-32.387176513671875,9.685500144958496,-30.922286987304688,-30.63213348388672,-0.7034682631492615,-30.75142478942871,-30.531967163085938,-0.970971941947937,-0.94846510887146,-31.299409866333008,-30.156049728393555,-31.543872833251953,37.2275505065918,39.273223876953125,38.88298797607422,38.55630111694336,38.776248931884766,36.9207763671875,39.69425964355469,39.221092224121094,39.87281799316406,37.180965423583984,39.558841705322266,39.448238372802734,39.873226165771484,38.660953521728516,40.88356018066406,38.87924575805664,36.79365539550781,39.19240951538086,39.95669174194336,36.85476303100586],\"yaxis\":\"y\",\"type\":\"scattergl\"}],                        {\"template\":{\"data\":{\"histogram2dcontour\":[{\"type\":\"histogram2dcontour\",\"colorbar\":{\"outlinewidth\":0,\"ticks\":\"\"},\"colorscale\":[[0.0,\"#0d0887\"],[0.1111111111111111,\"#46039f\"],[0.2222222222222222,\"#7201a8\"],[0.3333333333333333,\"#9c179e\"],[0.4444444444444444,\"#bd3786\"],[0.5555555555555556,\"#d8576b\"],[0.6666666666666666,\"#ed7953\"],[0.7777777777777778,\"#fb9f3a\"],[0.8888888888888888,\"#fdca26\"],[1.0,\"#f0f921\"]]}],\"choropleth\":[{\"type\":\"choropleth\",\"colorbar\":{\"outlinewidth\":0,\"ticks\":\"\"}}],\"histogram2d\":[{\"type\":\"histogram2d\",\"colorbar\":{\"outlinewidth\":0,\"ticks\":\"\"},\"colorscale\":[[0.0,\"#0d0887\"],[0.1111111111111111,\"#46039f\"],[0.2222222222222222,\"#7201a8\"],[0.3333333333333333,\"#9c179e\"],[0.4444444444444444,\"#bd3786\"],[0.5555555555555556,\"#d8576b\"],[0.6666666666666666,\"#ed7953\"],[0.7777777777777778,\"#fb9f3a\"],[0.8888888888888888,\"#fdca26\"],[1.0,\"#f0f921\"]]}],\"heatmap\":[{\"type\":\"heatmap\",\"colorbar\":{\"outlinewidth\":0,\"ticks\":\"\"},\"colorscale\":[[0.0,\"#0d0887\"],[0.1111111111111111,\"#46039f\"],[0.2222222222222222,\"#7201a8\"],[0.3333333333333333,\"#9c179e\"],[0.4444444444444444,\"#bd3786\"],[0.5555555555555556,\"#d8576b\"],[0.6666666666666666,\"#ed7953\"],[0.7777777777777778,\"#fb9f3a\"],[0.8888888888888888,\"#fdca26\"],[1.0,\"#f0f921\"]]}],\"heatmapgl\":[{\"type\":\"heatmapgl\",\"colorbar\":{\"outlinewidth\":0,\"ticks\":\"\"},\"colorscale\":[[0.0,\"#0d0887\"],[0.1111111111111111,\"#46039f\"],[0.2222222222222222,\"#7201a8\"],[0.3333333333333333,\"#9c179e\"],[0.4444444444444444,\"#bd3786\"],[0.5555555555555556,\"#d8576b\"],[0.6666666666666666,\"#ed7953\"],[0.7777777777777778,\"#fb9f3a\"],[0.8888888888888888,\"#fdca26\"],[1.0,\"#f0f921\"]]}],\"contourcarpet\":[{\"type\":\"contourcarpet\",\"colorbar\":{\"outlinewidth\":0,\"ticks\":\"\"}}],\"contour\":[{\"type\":\"contour\",\"colorbar\":{\"outlinewidth\":0,\"ticks\":\"\"},\"colorscale\":[[0.0,\"#0d0887\"],[0.1111111111111111,\"#46039f\"],[0.2222222222222222,\"#7201a8\"],[0.3333333333333333,\"#9c179e\"],[0.4444444444444444,\"#bd3786\"],[0.5555555555555556,\"#d8576b\"],[0.6666666666666666,\"#ed7953\"],[0.7777777777777778,\"#fb9f3a\"],[0.8888888888888888,\"#fdca26\"],[1.0,\"#f0f921\"]]}],\"surface\":[{\"type\":\"surface\",\"colorbar\":{\"outlinewidth\":0,\"ticks\":\"\"},\"colorscale\":[[0.0,\"#0d0887\"],[0.1111111111111111,\"#46039f\"],[0.2222222222222222,\"#7201a8\"],[0.3333333333333333,\"#9c179e\"],[0.4444444444444444,\"#bd3786\"],[0.5555555555555556,\"#d8576b\"],[0.6666666666666666,\"#ed7953\"],[0.7777777777777778,\"#fb9f3a\"],[0.8888888888888888,\"#fdca26\"],[1.0,\"#f0f921\"]]}],\"mesh3d\":[{\"type\":\"mesh3d\",\"colorbar\":{\"outlinewidth\":0,\"ticks\":\"\"}}],\"scatter\":[{\"fillpattern\":{\"fillmode\":\"overlay\",\"size\":10,\"solidity\":0.2},\"type\":\"scatter\"}],\"parcoords\":[{\"type\":\"parcoords\",\"line\":{\"colorbar\":{\"outlinewidth\":0,\"ticks\":\"\"}}}],\"scatterpolargl\":[{\"type\":\"scatterpolargl\",\"marker\":{\"colorbar\":{\"outlinewidth\":0,\"ticks\":\"\"}}}],\"bar\":[{\"error_x\":{\"color\":\"#2a3f5f\"},\"error_y\":{\"color\":\"#2a3f5f\"},\"marker\":{\"line\":{\"color\":\"#E5ECF6\",\"width\":0.5},\"pattern\":{\"fillmode\":\"overlay\",\"size\":10,\"solidity\":0.2}},\"type\":\"bar\"}],\"scattergeo\":[{\"type\":\"scattergeo\",\"marker\":{\"colorbar\":{\"outlinewidth\":0,\"ticks\":\"\"}}}],\"scatterpolar\":[{\"type\":\"scatterpolar\",\"marker\":{\"colorbar\":{\"outlinewidth\":0,\"ticks\":\"\"}}}],\"histogram\":[{\"marker\":{\"pattern\":{\"fillmode\":\"overlay\",\"size\":10,\"solidity\":0.2}},\"type\":\"histogram\"}],\"scattergl\":[{\"type\":\"scattergl\",\"marker\":{\"colorbar\":{\"outlinewidth\":0,\"ticks\":\"\"}}}],\"scatter3d\":[{\"type\":\"scatter3d\",\"line\":{\"colorbar\":{\"outlinewidth\":0,\"ticks\":\"\"}},\"marker\":{\"colorbar\":{\"outlinewidth\":0,\"ticks\":\"\"}}}],\"scattermapbox\":[{\"type\":\"scattermapbox\",\"marker\":{\"colorbar\":{\"outlinewidth\":0,\"ticks\":\"\"}}}],\"scatterternary\":[{\"type\":\"scatterternary\",\"marker\":{\"colorbar\":{\"outlinewidth\":0,\"ticks\":\"\"}}}],\"scattercarpet\":[{\"type\":\"scattercarpet\",\"marker\":{\"colorbar\":{\"outlinewidth\":0,\"ticks\":\"\"}}}],\"carpet\":[{\"aaxis\":{\"endlinecolor\":\"#2a3f5f\",\"gridcolor\":\"white\",\"linecolor\":\"white\",\"minorgridcolor\":\"white\",\"startlinecolor\":\"#2a3f5f\"},\"baxis\":{\"endlinecolor\":\"#2a3f5f\",\"gridcolor\":\"white\",\"linecolor\":\"white\",\"minorgridcolor\":\"white\",\"startlinecolor\":\"#2a3f5f\"},\"type\":\"carpet\"}],\"table\":[{\"cells\":{\"fill\":{\"color\":\"#EBF0F8\"},\"line\":{\"color\":\"white\"}},\"header\":{\"fill\":{\"color\":\"#C8D4E3\"},\"line\":{\"color\":\"white\"}},\"type\":\"table\"}],\"barpolar\":[{\"marker\":{\"line\":{\"color\":\"#E5ECF6\",\"width\":0.5},\"pattern\":{\"fillmode\":\"overlay\",\"size\":10,\"solidity\":0.2}},\"type\":\"barpolar\"}],\"pie\":[{\"automargin\":true,\"type\":\"pie\"}]},\"layout\":{\"autotypenumbers\":\"strict\",\"colorway\":[\"#636efa\",\"#EF553B\",\"#00cc96\",\"#ab63fa\",\"#FFA15A\",\"#19d3f3\",\"#FF6692\",\"#B6E880\",\"#FF97FF\",\"#FECB52\"],\"font\":{\"color\":\"#2a3f5f\"},\"hovermode\":\"closest\",\"hoverlabel\":{\"align\":\"left\"},\"paper_bgcolor\":\"white\",\"plot_bgcolor\":\"#E5ECF6\",\"polar\":{\"bgcolor\":\"#E5ECF6\",\"angularaxis\":{\"gridcolor\":\"white\",\"linecolor\":\"white\",\"ticks\":\"\"},\"radialaxis\":{\"gridcolor\":\"white\",\"linecolor\":\"white\",\"ticks\":\"\"}},\"ternary\":{\"bgcolor\":\"#E5ECF6\",\"aaxis\":{\"gridcolor\":\"white\",\"linecolor\":\"white\",\"ticks\":\"\"},\"baxis\":{\"gridcolor\":\"white\",\"linecolor\":\"white\",\"ticks\":\"\"},\"caxis\":{\"gridcolor\":\"white\",\"linecolor\":\"white\",\"ticks\":\"\"}},\"coloraxis\":{\"colorbar\":{\"outlinewidth\":0,\"ticks\":\"\"}},\"colorscale\":{\"sequential\":[[0.0,\"#0d0887\"],[0.1111111111111111,\"#46039f\"],[0.2222222222222222,\"#7201a8\"],[0.3333333333333333,\"#9c179e\"],[0.4444444444444444,\"#bd3786\"],[0.5555555555555556,\"#d8576b\"],[0.6666666666666666,\"#ed7953\"],[0.7777777777777778,\"#fb9f3a\"],[0.8888888888888888,\"#fdca26\"],[1.0,\"#f0f921\"]],\"sequentialminus\":[[0.0,\"#0d0887\"],[0.1111111111111111,\"#46039f\"],[0.2222222222222222,\"#7201a8\"],[0.3333333333333333,\"#9c179e\"],[0.4444444444444444,\"#bd3786\"],[0.5555555555555556,\"#d8576b\"],[0.6666666666666666,\"#ed7953\"],[0.7777777777777778,\"#fb9f3a\"],[0.8888888888888888,\"#fdca26\"],[1.0,\"#f0f921\"]],\"diverging\":[[0,\"#8e0152\"],[0.1,\"#c51b7d\"],[0.2,\"#de77ae\"],[0.3,\"#f1b6da\"],[0.4,\"#fde0ef\"],[0.5,\"#f7f7f7\"],[0.6,\"#e6f5d0\"],[0.7,\"#b8e186\"],[0.8,\"#7fbc41\"],[0.9,\"#4d9221\"],[1,\"#276419\"]]},\"xaxis\":{\"gridcolor\":\"white\",\"linecolor\":\"white\",\"ticks\":\"\",\"title\":{\"standoff\":15},\"zerolinecolor\":\"white\",\"automargin\":true,\"zerolinewidth\":2},\"yaxis\":{\"gridcolor\":\"white\",\"linecolor\":\"white\",\"ticks\":\"\",\"title\":{\"standoff\":15},\"zerolinecolor\":\"white\",\"automargin\":true,\"zerolinewidth\":2},\"scene\":{\"xaxis\":{\"backgroundcolor\":\"#E5ECF6\",\"gridcolor\":\"white\",\"linecolor\":\"white\",\"showbackground\":true,\"ticks\":\"\",\"zerolinecolor\":\"white\",\"gridwidth\":2},\"yaxis\":{\"backgroundcolor\":\"#E5ECF6\",\"gridcolor\":\"white\",\"linecolor\":\"white\",\"showbackground\":true,\"ticks\":\"\",\"zerolinecolor\":\"white\",\"gridwidth\":2},\"zaxis\":{\"backgroundcolor\":\"#E5ECF6\",\"gridcolor\":\"white\",\"linecolor\":\"white\",\"showbackground\":true,\"ticks\":\"\",\"zerolinecolor\":\"white\",\"gridwidth\":2}},\"shapedefaults\":{\"line\":{\"color\":\"#2a3f5f\"}},\"annotationdefaults\":{\"arrowcolor\":\"#2a3f5f\",\"arrowhead\":0,\"arrowwidth\":1},\"geo\":{\"bgcolor\":\"white\",\"landcolor\":\"#E5ECF6\",\"subunitcolor\":\"white\",\"showland\":true,\"showlakes\":true,\"lakecolor\":\"white\"},\"title\":{\"x\":0.05},\"mapbox\":{\"style\":\"light\"}}},\"xaxis\":{\"anchor\":\"y\",\"domain\":[0.0,1.0],\"title\":{\"text\":\"x\"}},\"yaxis\":{\"anchor\":\"x\",\"domain\":[0.0,1.0],\"title\":{\"text\":\"y\"}},\"legend\":{\"title\":{\"text\":\"Label\"},\"tracegroupgap\":0},\"margin\":{\"t\":60}},                        {\"responsive\": true}                    ).then(function(){\n",
       "                            \n",
       "var gd = document.getElementById('bf41aa75-31d3-493e-86f6-dbe1a02747b3');\n",
       "var x = new MutationObserver(function (mutations, observer) {{\n",
       "        var display = window.getComputedStyle(gd).display;\n",
       "        if (!display || display === 'none') {{\n",
       "            console.log([gd, 'removed!']);\n",
       "            Plotly.purge(gd);\n",
       "            observer.disconnect();\n",
       "        }}\n",
       "}});\n",
       "\n",
       "// Listen for the removal of the full notebook cells\n",
       "var notebookContainer = gd.closest('#notebook-container');\n",
       "if (notebookContainer) {{\n",
       "    x.observe(notebookContainer, {childList: true});\n",
       "}}\n",
       "\n",
       "// Listen for the clearing of the current output cell\n",
       "var outputEl = gd.closest('.output');\n",
       "if (outputEl) {{\n",
       "    x.observe(outputEl, {childList: true});\n",
       "}}\n",
       "\n",
       "                        })                };                });            </script>        </div>"
      ]
     },
     "metadata": {},
     "output_type": "display_data"
    }
   ],
   "source": [
    "tsne = sklearn.manifold.TSNE()\n",
    "data_points2d = tsne.fit_transform(df)\n",
    "\n",
    "labels_series = pd.Series(labels, name=\"Label\").replace(range(len(CLASS_NAMES)), CLASS_NAMES) # type: ignore\n",
    "\n",
    "data_points2d_df = pd.DataFrame(data_points2d, columns=[\"x\", \"y\"])\n",
    "visdf = pd.concat([data_points2d_df, labels_series], axis=1)\n",
    "\n",
    "fig = px.scatter(visdf, x=\"x\", y=\"y\", color=\"Label\")\n",
    "fig.show()"
   ]
  },
  {
   "cell_type": "code",
   "execution_count": 47,
   "metadata": {},
   "outputs": [
    {
     "data": {
      "text/plain": [
       "<_TensorSliceDataset element_spec=(TensorSpec(shape=(512,), dtype=tf.float64, name=None), TensorSpec(shape=(), dtype=tf.float64, name=None))>"
      ]
     },
     "execution_count": 47,
     "metadata": {},
     "output_type": "execute_result"
    }
   ],
   "source": [
    "dataset = tf.data.Dataset.from_tensor_slices((df, labels))\n",
    "train_dataset, test_dataset = keras.utils.split_dataset(dataset, shuffle=True, seed=42, left_size=0.7)\n",
    "train_dataset, validation_dataset = keras.utils.split_dataset(train_dataset, shuffle=True, seed=42, left_size=0.7)\n",
    "\n",
    "train_dataset: tf.data.Dataset = train_dataset.shuffle(100).batch(16)\n",
    "test_dataset: tf.data.Dataset = test_dataset.batch(16)\n",
    "validation_dataset: tf.data.Dataset = validation_dataset.batch(16)\n",
    "\n",
    "dataset"
   ]
  },
  {
   "cell_type": "code",
   "execution_count": 48,
   "metadata": {},
   "outputs": [
    {
     "data": {
      "text/html": [
       "<pre style=\"white-space:pre;overflow-x:auto;line-height:normal;font-family:Menlo,'DejaVu Sans Mono',consolas,'Courier New',monospace\"><span style=\"font-weight: bold\">Model: \"sequential_3\"</span>\n",
       "</pre>\n"
      ],
      "text/plain": [
       "\u001b[1mModel: \"sequential_3\"\u001b[0m\n"
      ]
     },
     "metadata": {},
     "output_type": "display_data"
    },
    {
     "data": {
      "text/html": [
       "<pre style=\"white-space:pre;overflow-x:auto;line-height:normal;font-family:Menlo,'DejaVu Sans Mono',consolas,'Courier New',monospace\">┏━━━━━━━━━━━━━━━━━━━━━━━━━━━━━━━━━┳━━━━━━━━━━━━━━━━━━━━━━━━┳━━━━━━━━━━━━━━━┓\n",
       "┃<span style=\"font-weight: bold\"> Layer (type)                    </span>┃<span style=\"font-weight: bold\"> Output Shape           </span>┃<span style=\"font-weight: bold\">       Param # </span>┃\n",
       "┡━━━━━━━━━━━━━━━━━━━━━━━━━━━━━━━━━╇━━━━━━━━━━━━━━━━━━━━━━━━╇━━━━━━━━━━━━━━━┩\n",
       "│ dense_12 (<span style=\"color: #0087ff; text-decoration-color: #0087ff\">Dense</span>)                │ (<span style=\"color: #00d7ff; text-decoration-color: #00d7ff\">None</span>, <span style=\"color: #00af00; text-decoration-color: #00af00\">256</span>)            │       <span style=\"color: #00af00; text-decoration-color: #00af00\">131,328</span> │\n",
       "├─────────────────────────────────┼────────────────────────┼───────────────┤\n",
       "│ dropout_6 (<span style=\"color: #0087ff; text-decoration-color: #0087ff\">Dropout</span>)             │ (<span style=\"color: #00d7ff; text-decoration-color: #00d7ff\">None</span>, <span style=\"color: #00af00; text-decoration-color: #00af00\">256</span>)            │             <span style=\"color: #00af00; text-decoration-color: #00af00\">0</span> │\n",
       "├─────────────────────────────────┼────────────────────────┼───────────────┤\n",
       "│ dense_13 (<span style=\"color: #0087ff; text-decoration-color: #0087ff\">Dense</span>)                │ (<span style=\"color: #00d7ff; text-decoration-color: #00d7ff\">None</span>, <span style=\"color: #00af00; text-decoration-color: #00af00\">256</span>)            │        <span style=\"color: #00af00; text-decoration-color: #00af00\">65,792</span> │\n",
       "├─────────────────────────────────┼────────────────────────┼───────────────┤\n",
       "│ dropout_7 (<span style=\"color: #0087ff; text-decoration-color: #0087ff\">Dropout</span>)             │ (<span style=\"color: #00d7ff; text-decoration-color: #00d7ff\">None</span>, <span style=\"color: #00af00; text-decoration-color: #00af00\">256</span>)            │             <span style=\"color: #00af00; text-decoration-color: #00af00\">0</span> │\n",
       "├─────────────────────────────────┼────────────────────────┼───────────────┤\n",
       "│ dense_14 (<span style=\"color: #0087ff; text-decoration-color: #0087ff\">Dense</span>)                │ (<span style=\"color: #00d7ff; text-decoration-color: #00d7ff\">None</span>, <span style=\"color: #00af00; text-decoration-color: #00af00\">32</span>)             │         <span style=\"color: #00af00; text-decoration-color: #00af00\">8,224</span> │\n",
       "├─────────────────────────────────┼────────────────────────┼───────────────┤\n",
       "│ dense_15 (<span style=\"color: #0087ff; text-decoration-color: #0087ff\">Dense</span>)                │ (<span style=\"color: #00d7ff; text-decoration-color: #00d7ff\">None</span>, <span style=\"color: #00af00; text-decoration-color: #00af00\">6</span>)              │           <span style=\"color: #00af00; text-decoration-color: #00af00\">198</span> │\n",
       "└─────────────────────────────────┴────────────────────────┴───────────────┘\n",
       "</pre>\n"
      ],
      "text/plain": [
       "┏━━━━━━━━━━━━━━━━━━━━━━━━━━━━━━━━━┳━━━━━━━━━━━━━━━━━━━━━━━━┳━━━━━━━━━━━━━━━┓\n",
       "┃\u001b[1m \u001b[0m\u001b[1mLayer (type)                   \u001b[0m\u001b[1m \u001b[0m┃\u001b[1m \u001b[0m\u001b[1mOutput Shape          \u001b[0m\u001b[1m \u001b[0m┃\u001b[1m \u001b[0m\u001b[1m      Param #\u001b[0m\u001b[1m \u001b[0m┃\n",
       "┡━━━━━━━━━━━━━━━━━━━━━━━━━━━━━━━━━╇━━━━━━━━━━━━━━━━━━━━━━━━╇━━━━━━━━━━━━━━━┩\n",
       "│ dense_12 (\u001b[38;5;33mDense\u001b[0m)                │ (\u001b[38;5;45mNone\u001b[0m, \u001b[38;5;34m256\u001b[0m)            │       \u001b[38;5;34m131,328\u001b[0m │\n",
       "├─────────────────────────────────┼────────────────────────┼───────────────┤\n",
       "│ dropout_6 (\u001b[38;5;33mDropout\u001b[0m)             │ (\u001b[38;5;45mNone\u001b[0m, \u001b[38;5;34m256\u001b[0m)            │             \u001b[38;5;34m0\u001b[0m │\n",
       "├─────────────────────────────────┼────────────────────────┼───────────────┤\n",
       "│ dense_13 (\u001b[38;5;33mDense\u001b[0m)                │ (\u001b[38;5;45mNone\u001b[0m, \u001b[38;5;34m256\u001b[0m)            │        \u001b[38;5;34m65,792\u001b[0m │\n",
       "├─────────────────────────────────┼────────────────────────┼───────────────┤\n",
       "│ dropout_7 (\u001b[38;5;33mDropout\u001b[0m)             │ (\u001b[38;5;45mNone\u001b[0m, \u001b[38;5;34m256\u001b[0m)            │             \u001b[38;5;34m0\u001b[0m │\n",
       "├─────────────────────────────────┼────────────────────────┼───────────────┤\n",
       "│ dense_14 (\u001b[38;5;33mDense\u001b[0m)                │ (\u001b[38;5;45mNone\u001b[0m, \u001b[38;5;34m32\u001b[0m)             │         \u001b[38;5;34m8,224\u001b[0m │\n",
       "├─────────────────────────────────┼────────────────────────┼───────────────┤\n",
       "│ dense_15 (\u001b[38;5;33mDense\u001b[0m)                │ (\u001b[38;5;45mNone\u001b[0m, \u001b[38;5;34m6\u001b[0m)              │           \u001b[38;5;34m198\u001b[0m │\n",
       "└─────────────────────────────────┴────────────────────────┴───────────────┘\n"
      ]
     },
     "metadata": {},
     "output_type": "display_data"
    },
    {
     "data": {
      "text/html": [
       "<pre style=\"white-space:pre;overflow-x:auto;line-height:normal;font-family:Menlo,'DejaVu Sans Mono',consolas,'Courier New',monospace\"><span style=\"font-weight: bold\"> Total params: </span><span style=\"color: #00af00; text-decoration-color: #00af00\">205,542</span> (802.90 KB)\n",
       "</pre>\n"
      ],
      "text/plain": [
       "\u001b[1m Total params: \u001b[0m\u001b[38;5;34m205,542\u001b[0m (802.90 KB)\n"
      ]
     },
     "metadata": {},
     "output_type": "display_data"
    },
    {
     "data": {
      "text/html": [
       "<pre style=\"white-space:pre;overflow-x:auto;line-height:normal;font-family:Menlo,'DejaVu Sans Mono',consolas,'Courier New',monospace\"><span style=\"font-weight: bold\"> Trainable params: </span><span style=\"color: #00af00; text-decoration-color: #00af00\">205,542</span> (802.90 KB)\n",
       "</pre>\n"
      ],
      "text/plain": [
       "\u001b[1m Trainable params: \u001b[0m\u001b[38;5;34m205,542\u001b[0m (802.90 KB)\n"
      ]
     },
     "metadata": {},
     "output_type": "display_data"
    },
    {
     "data": {
      "text/html": [
       "<pre style=\"white-space:pre;overflow-x:auto;line-height:normal;font-family:Menlo,'DejaVu Sans Mono',consolas,'Courier New',monospace\"><span style=\"font-weight: bold\"> Non-trainable params: </span><span style=\"color: #00af00; text-decoration-color: #00af00\">0</span> (0.00 B)\n",
       "</pre>\n"
      ],
      "text/plain": [
       "\u001b[1m Non-trainable params: \u001b[0m\u001b[38;5;34m0\u001b[0m (0.00 B)\n"
      ]
     },
     "metadata": {},
     "output_type": "display_data"
    }
   ],
   "source": [
    "model = keras.Sequential([\n",
    "  keras.layers.Input(shape=dataset.element_spec[0].shape),\n",
    "  keras.layers.Dense(256, activation=\"relu\"),\n",
    "  keras.layers.Dropout(0.5),\n",
    "  keras.layers.Dense(256, activation=\"relu\"),\n",
    "  keras.layers.Dropout(0.5),\n",
    "  keras.layers.Dense(32, activation=\"relu\"),\n",
    "  keras.layers.Dense(6, activation=\"softmax\"),\n",
    "])\n",
    "\n",
    "model.compile(\n",
    "  optimizer=keras.optimizers.Adam(learning_rate=0.001), # type: ignore\n",
    "  loss=keras.losses.SparseCategoricalCrossentropy(),\n",
    "  metrics=[\"accuracy\"],\n",
    ")\n",
    "\n",
    "model.summary()"
   ]
  },
  {
   "cell_type": "code",
   "execution_count": 49,
   "metadata": {},
   "outputs": [
    {
     "name": "stdout",
     "output_type": "stream",
     "text": [
      "Epoch 1/100\n",
      "\u001b[1m34/34\u001b[0m \u001b[32m━━━━━━━━━━━━━━━━━━━━\u001b[0m\u001b[37m\u001b[0m \u001b[1m2s\u001b[0m 11ms/step - accuracy: 0.1635 - loss: 1.8165 - val_accuracy: 0.2643 - val_loss: 1.7743\n",
      "Epoch 2/100\n",
      "\u001b[1m34/34\u001b[0m \u001b[32m━━━━━━━━━━━━━━━━━━━━\u001b[0m\u001b[37m\u001b[0m \u001b[1m0s\u001b[0m 7ms/step - accuracy: 0.2646 - loss: 1.7818 - val_accuracy: 0.2423 - val_loss: 1.7443\n",
      "Epoch 3/100\n",
      "\u001b[1m34/34\u001b[0m \u001b[32m━━━━━━━━━━━━━━━━━━━━\u001b[0m\u001b[37m\u001b[0m \u001b[1m0s\u001b[0m 5ms/step - accuracy: 0.2259 - loss: 1.7515 - val_accuracy: 0.3260 - val_loss: 1.7174\n",
      "Epoch 4/100\n",
      "\u001b[1m34/34\u001b[0m \u001b[32m━━━━━━━━━━━━━━━━━━━━\u001b[0m\u001b[37m\u001b[0m \u001b[1m0s\u001b[0m 5ms/step - accuracy: 0.2365 - loss: 1.7413 - val_accuracy: 0.3040 - val_loss: 1.7114\n",
      "Epoch 5/100\n",
      "\u001b[1m34/34\u001b[0m \u001b[32m━━━━━━━━━━━━━━━━━━━━\u001b[0m\u001b[37m\u001b[0m \u001b[1m0s\u001b[0m 5ms/step - accuracy: 0.2644 - loss: 1.7085 - val_accuracy: 0.3084 - val_loss: 1.6838\n",
      "Epoch 6/100\n",
      "\u001b[1m34/34\u001b[0m \u001b[32m━━━━━━━━━━━━━━━━━━━━\u001b[0m\u001b[37m\u001b[0m \u001b[1m0s\u001b[0m 5ms/step - accuracy: 0.3285 - loss: 1.6549 - val_accuracy: 0.3789 - val_loss: 1.6062\n",
      "Epoch 7/100\n",
      "\u001b[1m34/34\u001b[0m \u001b[32m━━━━━━━━━━━━━━━━━━━━\u001b[0m\u001b[37m\u001b[0m \u001b[1m0s\u001b[0m 5ms/step - accuracy: 0.3405 - loss: 1.6330 - val_accuracy: 0.4141 - val_loss: 1.5701\n",
      "Epoch 8/100\n",
      "\u001b[1m34/34\u001b[0m \u001b[32m━━━━━━━━━━━━━━━━━━━━\u001b[0m\u001b[37m\u001b[0m \u001b[1m0s\u001b[0m 5ms/step - accuracy: 0.3700 - loss: 1.5652 - val_accuracy: 0.4273 - val_loss: 1.5299\n",
      "Epoch 9/100\n",
      "\u001b[1m34/34\u001b[0m \u001b[32m━━━━━━━━━━━━━━━━━━━━\u001b[0m\u001b[37m\u001b[0m \u001b[1m0s\u001b[0m 5ms/step - accuracy: 0.3672 - loss: 1.5467 - val_accuracy: 0.4009 - val_loss: 1.4900\n",
      "Epoch 10/100\n",
      "\u001b[1m34/34\u001b[0m \u001b[32m━━━━━━━━━━━━━━━━━━━━\u001b[0m\u001b[37m\u001b[0m \u001b[1m0s\u001b[0m 5ms/step - accuracy: 0.4335 - loss: 1.4897 - val_accuracy: 0.5507 - val_loss: 1.3577\n",
      "Epoch 11/100\n",
      "\u001b[1m34/34\u001b[0m \u001b[32m━━━━━━━━━━━━━━━━━━━━\u001b[0m\u001b[37m\u001b[0m \u001b[1m0s\u001b[0m 6ms/step - accuracy: 0.4472 - loss: 1.4119 - val_accuracy: 0.5286 - val_loss: 1.2785\n",
      "Epoch 12/100\n",
      "\u001b[1m34/34\u001b[0m \u001b[32m━━━━━━━━━━━━━━━━━━━━\u001b[0m\u001b[37m\u001b[0m \u001b[1m0s\u001b[0m 5ms/step - accuracy: 0.5341 - loss: 1.2807 - val_accuracy: 0.5154 - val_loss: 1.2916\n",
      "Epoch 13/100\n",
      "\u001b[1m34/34\u001b[0m \u001b[32m━━━━━━━━━━━━━━━━━━━━\u001b[0m\u001b[37m\u001b[0m \u001b[1m0s\u001b[0m 5ms/step - accuracy: 0.5061 - loss: 1.2661 - val_accuracy: 0.6432 - val_loss: 1.0943\n",
      "Epoch 14/100\n",
      "\u001b[1m34/34\u001b[0m \u001b[32m━━━━━━━━━━━━━━━━━━━━\u001b[0m\u001b[37m\u001b[0m \u001b[1m0s\u001b[0m 5ms/step - accuracy: 0.6008 - loss: 1.1035 - val_accuracy: 0.6432 - val_loss: 1.1036\n",
      "Epoch 15/100\n",
      "\u001b[1m34/34\u001b[0m \u001b[32m━━━━━━━━━━━━━━━━━━━━\u001b[0m\u001b[37m\u001b[0m \u001b[1m0s\u001b[0m 6ms/step - accuracy: 0.6072 - loss: 1.0895 - val_accuracy: 0.6564 - val_loss: 1.0521\n",
      "Epoch 16/100\n",
      "\u001b[1m34/34\u001b[0m \u001b[32m━━━━━━━━━━━━━━━━━━━━\u001b[0m\u001b[37m\u001b[0m \u001b[1m0s\u001b[0m 6ms/step - accuracy: 0.6444 - loss: 0.9841 - val_accuracy: 0.6652 - val_loss: 1.0242\n",
      "Epoch 17/100\n",
      "\u001b[1m34/34\u001b[0m \u001b[32m━━━━━━━━━━━━━━━━━━━━\u001b[0m\u001b[37m\u001b[0m \u001b[1m0s\u001b[0m 5ms/step - accuracy: 0.6441 - loss: 0.9891 - val_accuracy: 0.6608 - val_loss: 1.0098\n",
      "Epoch 18/100\n",
      "\u001b[1m34/34\u001b[0m \u001b[32m━━━━━━━━━━━━━━━━━━━━\u001b[0m\u001b[37m\u001b[0m \u001b[1m0s\u001b[0m 5ms/step - accuracy: 0.6756 - loss: 0.9505 - val_accuracy: 0.5947 - val_loss: 1.0647\n",
      "Epoch 19/100\n",
      "\u001b[1m34/34\u001b[0m \u001b[32m━━━━━━━━━━━━━━━━━━━━\u001b[0m\u001b[37m\u001b[0m \u001b[1m0s\u001b[0m 6ms/step - accuracy: 0.6899 - loss: 0.8639 - val_accuracy: 0.6520 - val_loss: 0.9844\n",
      "Epoch 20/100\n",
      "\u001b[1m34/34\u001b[0m \u001b[32m━━━━━━━━━━━━━━━━━━━━\u001b[0m\u001b[37m\u001b[0m \u001b[1m0s\u001b[0m 5ms/step - accuracy: 0.7154 - loss: 0.7791 - val_accuracy: 0.6916 - val_loss: 0.9686\n",
      "Epoch 21/100\n",
      "\u001b[1m34/34\u001b[0m \u001b[32m━━━━━━━━━━━━━━━━━━━━\u001b[0m\u001b[37m\u001b[0m \u001b[1m0s\u001b[0m 6ms/step - accuracy: 0.7110 - loss: 0.7843 - val_accuracy: 0.7137 - val_loss: 0.8466\n",
      "Epoch 22/100\n",
      "\u001b[1m34/34\u001b[0m \u001b[32m━━━━━━━━━━━━━━━━━━━━\u001b[0m\u001b[37m\u001b[0m \u001b[1m0s\u001b[0m 6ms/step - accuracy: 0.7265 - loss: 0.7622 - val_accuracy: 0.6608 - val_loss: 0.9336\n",
      "Epoch 23/100\n",
      "\u001b[1m34/34\u001b[0m \u001b[32m━━━━━━━━━━━━━━━━━━━━\u001b[0m\u001b[37m\u001b[0m \u001b[1m0s\u001b[0m 6ms/step - accuracy: 0.7406 - loss: 0.7218 - val_accuracy: 0.7269 - val_loss: 0.8631\n",
      "Epoch 24/100\n",
      "\u001b[1m34/34\u001b[0m \u001b[32m━━━━━━━━━━━━━━━━━━━━\u001b[0m\u001b[37m\u001b[0m \u001b[1m0s\u001b[0m 5ms/step - accuracy: 0.7881 - loss: 0.5892 - val_accuracy: 0.7225 - val_loss: 0.8458\n",
      "Epoch 25/100\n",
      "\u001b[1m34/34\u001b[0m \u001b[32m━━━━━━━━━━━━━━━━━━━━\u001b[0m\u001b[37m\u001b[0m \u001b[1m0s\u001b[0m 5ms/step - accuracy: 0.7356 - loss: 0.7431 - val_accuracy: 0.7004 - val_loss: 0.9240\n",
      "Epoch 26/100\n",
      "\u001b[1m34/34\u001b[0m \u001b[32m━━━━━━━━━━━━━━━━━━━━\u001b[0m\u001b[37m\u001b[0m \u001b[1m0s\u001b[0m 8ms/step - accuracy: 0.7353 - loss: 0.6642 - val_accuracy: 0.7269 - val_loss: 0.8220\n",
      "Epoch 27/100\n",
      "\u001b[1m34/34\u001b[0m \u001b[32m━━━━━━━━━━━━━━━━━━━━\u001b[0m\u001b[37m\u001b[0m \u001b[1m0s\u001b[0m 7ms/step - accuracy: 0.7469 - loss: 0.6709 - val_accuracy: 0.7093 - val_loss: 0.8902\n",
      "Epoch 28/100\n",
      "\u001b[1m34/34\u001b[0m \u001b[32m━━━━━━━━━━━━━━━━━━━━\u001b[0m\u001b[37m\u001b[0m \u001b[1m0s\u001b[0m 6ms/step - accuracy: 0.8191 - loss: 0.5367 - val_accuracy: 0.7137 - val_loss: 0.8461\n",
      "Epoch 29/100\n",
      "\u001b[1m34/34\u001b[0m \u001b[32m━━━━━━━━━━━━━━━━━━━━\u001b[0m\u001b[37m\u001b[0m \u001b[1m0s\u001b[0m 5ms/step - accuracy: 0.7771 - loss: 0.6175 - val_accuracy: 0.6740 - val_loss: 0.8732\n",
      "Epoch 30/100\n",
      "\u001b[1m34/34\u001b[0m \u001b[32m━━━━━━━━━━━━━━━━━━━━\u001b[0m\u001b[37m\u001b[0m \u001b[1m0s\u001b[0m 6ms/step - accuracy: 0.7871 - loss: 0.5665 - val_accuracy: 0.7357 - val_loss: 0.7745\n",
      "Epoch 31/100\n",
      "\u001b[1m34/34\u001b[0m \u001b[32m━━━━━━━━━━━━━━━━━━━━\u001b[0m\u001b[37m\u001b[0m \u001b[1m0s\u001b[0m 6ms/step - accuracy: 0.8338 - loss: 0.5027 - val_accuracy: 0.7357 - val_loss: 0.7726\n",
      "Epoch 32/100\n",
      "\u001b[1m34/34\u001b[0m \u001b[32m━━━━━━━━━━━━━━━━━━━━\u001b[0m\u001b[37m\u001b[0m \u001b[1m0s\u001b[0m 6ms/step - accuracy: 0.8481 - loss: 0.4461 - val_accuracy: 0.6960 - val_loss: 0.9239\n",
      "Epoch 33/100\n",
      "\u001b[1m34/34\u001b[0m \u001b[32m━━━━━━━━━━━━━━━━━━━━\u001b[0m\u001b[37m\u001b[0m \u001b[1m0s\u001b[0m 6ms/step - accuracy: 0.8146 - loss: 0.5581 - val_accuracy: 0.7225 - val_loss: 0.8495\n",
      "Epoch 34/100\n",
      "\u001b[1m34/34\u001b[0m \u001b[32m━━━━━━━━━━━━━━━━━━━━\u001b[0m\u001b[37m\u001b[0m \u001b[1m0s\u001b[0m 6ms/step - accuracy: 0.7982 - loss: 0.5004 - val_accuracy: 0.7445 - val_loss: 0.8251\n",
      "Epoch 35/100\n",
      "\u001b[1m34/34\u001b[0m \u001b[32m━━━━━━━━━━━━━━━━━━━━\u001b[0m\u001b[37m\u001b[0m \u001b[1m0s\u001b[0m 5ms/step - accuracy: 0.8317 - loss: 0.4615 - val_accuracy: 0.7225 - val_loss: 0.8240\n",
      "Epoch 36/100\n",
      "\u001b[1m34/34\u001b[0m \u001b[32m━━━━━━━━━━━━━━━━━━━━\u001b[0m\u001b[37m\u001b[0m \u001b[1m0s\u001b[0m 6ms/step - accuracy: 0.8478 - loss: 0.4042 - val_accuracy: 0.7533 - val_loss: 0.8458\n",
      "Epoch 37/100\n",
      "\u001b[1m34/34\u001b[0m \u001b[32m━━━━━━━━━━━━━━━━━━━━\u001b[0m\u001b[37m\u001b[0m \u001b[1m0s\u001b[0m 9ms/step - accuracy: 0.8664 - loss: 0.3699 - val_accuracy: 0.7225 - val_loss: 0.9602\n",
      "Epoch 38/100\n",
      "\u001b[1m34/34\u001b[0m \u001b[32m━━━━━━━━━━━━━━━━━━━━\u001b[0m\u001b[37m\u001b[0m \u001b[1m0s\u001b[0m 6ms/step - accuracy: 0.8705 - loss: 0.3314 - val_accuracy: 0.7357 - val_loss: 0.8192\n",
      "Epoch 39/100\n",
      "\u001b[1m34/34\u001b[0m \u001b[32m━━━━━━━━━━━━━━━━━━━━\u001b[0m\u001b[37m\u001b[0m \u001b[1m0s\u001b[0m 6ms/step - accuracy: 0.8632 - loss: 0.3442 - val_accuracy: 0.7709 - val_loss: 0.8512\n",
      "Epoch 40/100\n",
      "\u001b[1m34/34\u001b[0m \u001b[32m━━━━━━━━━━━━━━━━━━━━\u001b[0m\u001b[37m\u001b[0m \u001b[1m0s\u001b[0m 5ms/step - accuracy: 0.8378 - loss: 0.3885 - val_accuracy: 0.7048 - val_loss: 1.0097\n",
      "Epoch 41/100\n",
      "\u001b[1m34/34\u001b[0m \u001b[32m━━━━━━━━━━━━━━━━━━━━\u001b[0m\u001b[37m\u001b[0m \u001b[1m0s\u001b[0m 6ms/step - accuracy: 0.8516 - loss: 0.4129 - val_accuracy: 0.7401 - val_loss: 0.9236\n",
      "Epoch 42/100\n",
      "\u001b[1m34/34\u001b[0m \u001b[32m━━━━━━━━━━━━━━━━━━━━\u001b[0m\u001b[37m\u001b[0m \u001b[1m0s\u001b[0m 6ms/step - accuracy: 0.8617 - loss: 0.3502 - val_accuracy: 0.7489 - val_loss: 0.8504\n",
      "Epoch 43/100\n",
      "\u001b[1m34/34\u001b[0m \u001b[32m━━━━━━━━━━━━━━━━━━━━\u001b[0m\u001b[37m\u001b[0m \u001b[1m0s\u001b[0m 6ms/step - accuracy: 0.8649 - loss: 0.3329 - val_accuracy: 0.7621 - val_loss: 0.8350\n",
      "Epoch 44/100\n",
      "\u001b[1m34/34\u001b[0m \u001b[32m━━━━━━━━━━━━━━━━━━━━\u001b[0m\u001b[37m\u001b[0m \u001b[1m0s\u001b[0m 6ms/step - accuracy: 0.8665 - loss: 0.3237 - val_accuracy: 0.7753 - val_loss: 0.7604\n",
      "Epoch 45/100\n",
      "\u001b[1m34/34\u001b[0m \u001b[32m━━━━━━━━━━━━━━━━━━━━\u001b[0m\u001b[37m\u001b[0m \u001b[1m0s\u001b[0m 6ms/step - accuracy: 0.8867 - loss: 0.3576 - val_accuracy: 0.7621 - val_loss: 0.8405\n",
      "Epoch 46/100\n",
      "\u001b[1m34/34\u001b[0m \u001b[32m━━━━━━━━━━━━━━━━━━━━\u001b[0m\u001b[37m\u001b[0m \u001b[1m0s\u001b[0m 6ms/step - accuracy: 0.8876 - loss: 0.3200 - val_accuracy: 0.7533 - val_loss: 0.9428\n",
      "Epoch 47/100\n",
      "\u001b[1m34/34\u001b[0m \u001b[32m━━━━━━━━━━━━━━━━━━━━\u001b[0m\u001b[37m\u001b[0m \u001b[1m0s\u001b[0m 6ms/step - accuracy: 0.8846 - loss: 0.3064 - val_accuracy: 0.7753 - val_loss: 0.8693\n",
      "Epoch 48/100\n",
      "\u001b[1m34/34\u001b[0m \u001b[32m━━━━━━━━━━━━━━━━━━━━\u001b[0m\u001b[37m\u001b[0m \u001b[1m0s\u001b[0m 6ms/step - accuracy: 0.9035 - loss: 0.2889 - val_accuracy: 0.7533 - val_loss: 0.9000\n",
      "Epoch 49/100\n",
      "\u001b[1m34/34\u001b[0m \u001b[32m━━━━━━━━━━━━━━━━━━━━\u001b[0m\u001b[37m\u001b[0m \u001b[1m0s\u001b[0m 6ms/step - accuracy: 0.8726 - loss: 0.3164 - val_accuracy: 0.7401 - val_loss: 1.0127\n",
      "Epoch 50/100\n",
      "\u001b[1m34/34\u001b[0m \u001b[32m━━━━━━━━━━━━━━━━━━━━\u001b[0m\u001b[37m\u001b[0m \u001b[1m0s\u001b[0m 6ms/step - accuracy: 0.8762 - loss: 0.3020 - val_accuracy: 0.7533 - val_loss: 0.8142\n",
      "Epoch 51/100\n",
      "\u001b[1m34/34\u001b[0m \u001b[32m━━━━━━━━━━━━━━━━━━━━\u001b[0m\u001b[37m\u001b[0m \u001b[1m0s\u001b[0m 6ms/step - accuracy: 0.8759 - loss: 0.3089 - val_accuracy: 0.7665 - val_loss: 0.8563\n",
      "Epoch 52/100\n",
      "\u001b[1m34/34\u001b[0m \u001b[32m━━━━━━━━━━━━━━━━━━━━\u001b[0m\u001b[37m\u001b[0m \u001b[1m0s\u001b[0m 6ms/step - accuracy: 0.8694 - loss: 0.3489 - val_accuracy: 0.7709 - val_loss: 0.8666\n",
      "Epoch 53/100\n",
      "\u001b[1m34/34\u001b[0m \u001b[32m━━━━━━━━━━━━━━━━━━━━\u001b[0m\u001b[37m\u001b[0m \u001b[1m0s\u001b[0m 6ms/step - accuracy: 0.9255 - loss: 0.2493 - val_accuracy: 0.7445 - val_loss: 0.9468\n",
      "Epoch 54/100\n",
      "\u001b[1m34/34\u001b[0m \u001b[32m━━━━━━━━━━━━━━━━━━━━\u001b[0m\u001b[37m\u001b[0m \u001b[1m0s\u001b[0m 6ms/step - accuracy: 0.9005 - loss: 0.3049 - val_accuracy: 0.7225 - val_loss: 0.9247\n",
      "Epoch 55/100\n",
      "\u001b[1m34/34\u001b[0m \u001b[32m━━━━━━━━━━━━━━━━━━━━\u001b[0m\u001b[37m\u001b[0m \u001b[1m0s\u001b[0m 5ms/step - accuracy: 0.8970 - loss: 0.2973 - val_accuracy: 0.7313 - val_loss: 0.9288\n",
      "Epoch 56/100\n",
      "\u001b[1m34/34\u001b[0m \u001b[32m━━━━━━━━━━━━━━━━━━━━\u001b[0m\u001b[37m\u001b[0m \u001b[1m0s\u001b[0m 6ms/step - accuracy: 0.8490 - loss: 0.3896 - val_accuracy: 0.7621 - val_loss: 0.8924\n",
      "Epoch 57/100\n",
      "\u001b[1m34/34\u001b[0m \u001b[32m━━━━━━━━━━━━━━━━━━━━\u001b[0m\u001b[37m\u001b[0m \u001b[1m0s\u001b[0m 5ms/step - accuracy: 0.8992 - loss: 0.2921 - val_accuracy: 0.7797 - val_loss: 0.7885\n",
      "Epoch 58/100\n",
      "\u001b[1m34/34\u001b[0m \u001b[32m━━━━━━━━━━━━━━━━━━━━\u001b[0m\u001b[37m\u001b[0m \u001b[1m0s\u001b[0m 6ms/step - accuracy: 0.8750 - loss: 0.2936 - val_accuracy: 0.7401 - val_loss: 1.0781\n",
      "Epoch 59/100\n",
      "\u001b[1m34/34\u001b[0m \u001b[32m━━━━━━━━━━━━━━━━━━━━\u001b[0m\u001b[37m\u001b[0m \u001b[1m0s\u001b[0m 6ms/step - accuracy: 0.8849 - loss: 0.3063 - val_accuracy: 0.7445 - val_loss: 1.0403\n",
      "Epoch 60/100\n",
      "\u001b[1m34/34\u001b[0m \u001b[32m━━━━━━━━━━━━━━━━━━━━\u001b[0m\u001b[37m\u001b[0m \u001b[1m0s\u001b[0m 6ms/step - accuracy: 0.9159 - loss: 0.2277 - val_accuracy: 0.7665 - val_loss: 0.8824\n",
      "Epoch 61/100\n",
      "\u001b[1m34/34\u001b[0m \u001b[32m━━━━━━━━━━━━━━━━━━━━\u001b[0m\u001b[37m\u001b[0m \u001b[1m0s\u001b[0m 6ms/step - accuracy: 0.9084 - loss: 0.2423 - val_accuracy: 0.7489 - val_loss: 0.8913\n",
      "Epoch 62/100\n",
      "\u001b[1m34/34\u001b[0m \u001b[32m━━━━━━━━━━━━━━━━━━━━\u001b[0m\u001b[37m\u001b[0m \u001b[1m0s\u001b[0m 6ms/step - accuracy: 0.9160 - loss: 0.2196 - val_accuracy: 0.7709 - val_loss: 0.9564\n",
      "Epoch 63/100\n",
      "\u001b[1m34/34\u001b[0m \u001b[32m━━━━━━━━━━━━━━━━━━━━\u001b[0m\u001b[37m\u001b[0m \u001b[1m0s\u001b[0m 6ms/step - accuracy: 0.8737 - loss: 0.3494 - val_accuracy: 0.7269 - val_loss: 0.8785\n",
      "Epoch 64/100\n",
      "\u001b[1m34/34\u001b[0m \u001b[32m━━━━━━━━━━━━━━━━━━━━\u001b[0m\u001b[37m\u001b[0m \u001b[1m0s\u001b[0m 6ms/step - accuracy: 0.9076 - loss: 0.3015 - val_accuracy: 0.7533 - val_loss: 0.9724\n",
      "Epoch 65/100\n",
      "\u001b[1m34/34\u001b[0m \u001b[32m━━━━━━━━━━━━━━━━━━━━\u001b[0m\u001b[37m\u001b[0m \u001b[1m0s\u001b[0m 10ms/step - accuracy: 0.9076 - loss: 0.2228 - val_accuracy: 0.7709 - val_loss: 0.8851\n",
      "Epoch 66/100\n",
      "\u001b[1m34/34\u001b[0m \u001b[32m━━━━━━━━━━━━━━━━━━━━\u001b[0m\u001b[37m\u001b[0m \u001b[1m0s\u001b[0m 5ms/step - accuracy: 0.9028 - loss: 0.2443 - val_accuracy: 0.7445 - val_loss: 1.1293\n",
      "Epoch 67/100\n",
      "\u001b[1m34/34\u001b[0m \u001b[32m━━━━━━━━━━━━━━━━━━━━\u001b[0m\u001b[37m\u001b[0m \u001b[1m0s\u001b[0m 6ms/step - accuracy: 0.8994 - loss: 0.3003 - val_accuracy: 0.7577 - val_loss: 0.9725\n",
      "Epoch 68/100\n",
      "\u001b[1m34/34\u001b[0m \u001b[32m━━━━━━━━━━━━━━━━━━━━\u001b[0m\u001b[37m\u001b[0m \u001b[1m0s\u001b[0m 6ms/step - accuracy: 0.9219 - loss: 0.2240 - val_accuracy: 0.7797 - val_loss: 0.9250\n",
      "Epoch 69/100\n",
      "\u001b[1m34/34\u001b[0m \u001b[32m━━━━━━━━━━━━━━━━━━━━\u001b[0m\u001b[37m\u001b[0m \u001b[1m0s\u001b[0m 6ms/step - accuracy: 0.9370 - loss: 0.2053 - val_accuracy: 0.7930 - val_loss: 0.7682\n",
      "Epoch 70/100\n",
      "\u001b[1m34/34\u001b[0m \u001b[32m━━━━━━━━━━━━━━━━━━━━\u001b[0m\u001b[37m\u001b[0m \u001b[1m0s\u001b[0m 6ms/step - accuracy: 0.8783 - loss: 0.2850 - val_accuracy: 0.7797 - val_loss: 0.9518\n",
      "Epoch 71/100\n",
      "\u001b[1m34/34\u001b[0m \u001b[32m━━━━━━━━━━━━━━━━━━━━\u001b[0m\u001b[37m\u001b[0m \u001b[1m0s\u001b[0m 6ms/step - accuracy: 0.9422 - loss: 0.1816 - val_accuracy: 0.7797 - val_loss: 0.9291\n",
      "Epoch 72/100\n",
      "\u001b[1m34/34\u001b[0m \u001b[32m━━━━━━━━━━━━━━━━━━━━\u001b[0m\u001b[37m\u001b[0m \u001b[1m0s\u001b[0m 6ms/step - accuracy: 0.9365 - loss: 0.2149 - val_accuracy: 0.7797 - val_loss: 0.9730\n",
      "Epoch 73/100\n",
      "\u001b[1m34/34\u001b[0m \u001b[32m━━━━━━━━━━━━━━━━━━━━\u001b[0m\u001b[37m\u001b[0m \u001b[1m0s\u001b[0m 5ms/step - accuracy: 0.9184 - loss: 0.2045 - val_accuracy: 0.7577 - val_loss: 0.8890\n",
      "Epoch 74/100\n",
      "\u001b[1m34/34\u001b[0m \u001b[32m━━━━━━━━━━━━━━━━━━━━\u001b[0m\u001b[37m\u001b[0m \u001b[1m0s\u001b[0m 5ms/step - accuracy: 0.9159 - loss: 0.2791 - val_accuracy: 0.7930 - val_loss: 0.7882\n",
      "Epoch 75/100\n",
      "\u001b[1m34/34\u001b[0m \u001b[32m━━━━━━━━━━━━━━━━━━━━\u001b[0m\u001b[37m\u001b[0m \u001b[1m0s\u001b[0m 6ms/step - accuracy: 0.9208 - loss: 0.2064 - val_accuracy: 0.7797 - val_loss: 0.9025\n",
      "Epoch 76/100\n",
      "\u001b[1m34/34\u001b[0m \u001b[32m━━━━━━━━━━━━━━━━━━━━\u001b[0m\u001b[37m\u001b[0m \u001b[1m0s\u001b[0m 5ms/step - accuracy: 0.9007 - loss: 0.2514 - val_accuracy: 0.7797 - val_loss: 0.9799\n",
      "Epoch 77/100\n",
      "\u001b[1m34/34\u001b[0m \u001b[32m━━━━━━━━━━━━━━━━━━━━\u001b[0m\u001b[37m\u001b[0m \u001b[1m0s\u001b[0m 6ms/step - accuracy: 0.9246 - loss: 0.2306 - val_accuracy: 0.7797 - val_loss: 0.9418\n",
      "Epoch 78/100\n",
      "\u001b[1m34/34\u001b[0m \u001b[32m━━━━━━━━━━━━━━━━━━━━\u001b[0m\u001b[37m\u001b[0m \u001b[1m0s\u001b[0m 6ms/step - accuracy: 0.9155 - loss: 0.1822 - val_accuracy: 0.7753 - val_loss: 0.9111\n",
      "Epoch 79/100\n",
      "\u001b[1m34/34\u001b[0m \u001b[32m━━━━━━━━━━━━━━━━━━━━\u001b[0m\u001b[37m\u001b[0m \u001b[1m0s\u001b[0m 6ms/step - accuracy: 0.9307 - loss: 0.1913 - val_accuracy: 0.7974 - val_loss: 0.8211\n",
      "Epoch 80/100\n",
      "\u001b[1m34/34\u001b[0m \u001b[32m━━━━━━━━━━━━━━━━━━━━\u001b[0m\u001b[37m\u001b[0m \u001b[1m0s\u001b[0m 6ms/step - accuracy: 0.9155 - loss: 0.2176 - val_accuracy: 0.7313 - val_loss: 0.9055\n",
      "Epoch 81/100\n",
      "\u001b[1m34/34\u001b[0m \u001b[32m━━━━━━━━━━━━━━━━━━━━\u001b[0m\u001b[37m\u001b[0m \u001b[1m0s\u001b[0m 6ms/step - accuracy: 0.8852 - loss: 0.2913 - val_accuracy: 0.7489 - val_loss: 0.8703\n",
      "Epoch 82/100\n",
      "\u001b[1m34/34\u001b[0m \u001b[32m━━━━━━━━━━━━━━━━━━━━\u001b[0m\u001b[37m\u001b[0m \u001b[1m0s\u001b[0m 6ms/step - accuracy: 0.9177 - loss: 0.2248 - val_accuracy: 0.7797 - val_loss: 0.8756\n",
      "Epoch 83/100\n",
      "\u001b[1m34/34\u001b[0m \u001b[32m━━━━━━━━━━━━━━━━━━━━\u001b[0m\u001b[37m\u001b[0m \u001b[1m0s\u001b[0m 6ms/step - accuracy: 0.9445 - loss: 0.1683 - val_accuracy: 0.7930 - val_loss: 0.8217\n",
      "Epoch 84/100\n",
      "\u001b[1m34/34\u001b[0m \u001b[32m━━━━━━━━━━━━━━━━━━━━\u001b[0m\u001b[37m\u001b[0m \u001b[1m0s\u001b[0m 6ms/step - accuracy: 0.9192 - loss: 0.2355 - val_accuracy: 0.7445 - val_loss: 1.0474\n",
      "Epoch 85/100\n",
      "\u001b[1m34/34\u001b[0m \u001b[32m━━━━━━━━━━━━━━━━━━━━\u001b[0m\u001b[37m\u001b[0m \u001b[1m0s\u001b[0m 6ms/step - accuracy: 0.9198 - loss: 0.2226 - val_accuracy: 0.7930 - val_loss: 0.9227\n",
      "Epoch 86/100\n",
      "\u001b[1m34/34\u001b[0m \u001b[32m━━━━━━━━━━━━━━━━━━━━\u001b[0m\u001b[37m\u001b[0m \u001b[1m0s\u001b[0m 9ms/step - accuracy: 0.8664 - loss: 0.3481 - val_accuracy: 0.7533 - val_loss: 0.9719\n",
      "Epoch 87/100\n",
      "\u001b[1m34/34\u001b[0m \u001b[32m━━━━━━━━━━━━━━━━━━━━\u001b[0m\u001b[37m\u001b[0m \u001b[1m0s\u001b[0m 6ms/step - accuracy: 0.9240 - loss: 0.2131 - val_accuracy: 0.7709 - val_loss: 0.9264\n",
      "Epoch 88/100\n",
      "\u001b[1m34/34\u001b[0m \u001b[32m━━━━━━━━━━━━━━━━━━━━\u001b[0m\u001b[37m\u001b[0m \u001b[1m0s\u001b[0m 6ms/step - accuracy: 0.9165 - loss: 0.2337 - val_accuracy: 0.8018 - val_loss: 0.9562\n",
      "Epoch 89/100\n",
      "\u001b[1m34/34\u001b[0m \u001b[32m━━━━━━━━━━━━━━━━━━━━\u001b[0m\u001b[37m\u001b[0m \u001b[1m0s\u001b[0m 6ms/step - accuracy: 0.9064 - loss: 0.2698 - val_accuracy: 0.7885 - val_loss: 0.7832\n",
      "Epoch 90/100\n",
      "\u001b[1m34/34\u001b[0m \u001b[32m━━━━━━━━━━━━━━━━━━━━\u001b[0m\u001b[37m\u001b[0m \u001b[1m0s\u001b[0m 5ms/step - accuracy: 0.9521 - loss: 0.1892 - val_accuracy: 0.7974 - val_loss: 0.9492\n",
      "Epoch 91/100\n",
      "\u001b[1m34/34\u001b[0m \u001b[32m━━━━━━━━━━━━━━━━━━━━\u001b[0m\u001b[37m\u001b[0m \u001b[1m0s\u001b[0m 6ms/step - accuracy: 0.9301 - loss: 0.2134 - val_accuracy: 0.8018 - val_loss: 0.8363\n",
      "Epoch 92/100\n",
      "\u001b[1m34/34\u001b[0m \u001b[32m━━━━━━━━━━━━━━━━━━━━\u001b[0m\u001b[37m\u001b[0m \u001b[1m0s\u001b[0m 6ms/step - accuracy: 0.9153 - loss: 0.2152 - val_accuracy: 0.8194 - val_loss: 0.9737\n",
      "Epoch 93/100\n",
      "\u001b[1m34/34\u001b[0m \u001b[32m━━━━━━━━━━━━━━━━━━━━\u001b[0m\u001b[37m\u001b[0m \u001b[1m0s\u001b[0m 6ms/step - accuracy: 0.9389 - loss: 0.1570 - val_accuracy: 0.7533 - val_loss: 1.0334\n",
      "Epoch 94/100\n",
      "\u001b[1m34/34\u001b[0m \u001b[32m━━━━━━━━━━━━━━━━━━━━\u001b[0m\u001b[37m\u001b[0m \u001b[1m0s\u001b[0m 6ms/step - accuracy: 0.9402 - loss: 0.2136 - val_accuracy: 0.8018 - val_loss: 0.9439\n",
      "Epoch 95/100\n",
      "\u001b[1m34/34\u001b[0m \u001b[32m━━━━━━━━━━━━━━━━━━━━\u001b[0m\u001b[37m\u001b[0m \u001b[1m0s\u001b[0m 6ms/step - accuracy: 0.9411 - loss: 0.1730 - val_accuracy: 0.7709 - val_loss: 1.0019\n",
      "Epoch 96/100\n",
      "\u001b[1m34/34\u001b[0m \u001b[32m━━━━━━━━━━━━━━━━━━━━\u001b[0m\u001b[37m\u001b[0m \u001b[1m0s\u001b[0m 6ms/step - accuracy: 0.8981 - loss: 0.2410 - val_accuracy: 0.7841 - val_loss: 1.0604\n",
      "Epoch 97/100\n",
      "\u001b[1m34/34\u001b[0m \u001b[32m━━━━━━━━━━━━━━━━━━━━\u001b[0m\u001b[37m\u001b[0m \u001b[1m0s\u001b[0m 6ms/step - accuracy: 0.9157 - loss: 0.2181 - val_accuracy: 0.7753 - val_loss: 1.1875\n",
      "Epoch 98/100\n",
      "\u001b[1m34/34\u001b[0m \u001b[32m━━━━━━━━━━━━━━━━━━━━\u001b[0m\u001b[37m\u001b[0m \u001b[1m0s\u001b[0m 6ms/step - accuracy: 0.9270 - loss: 0.2272 - val_accuracy: 0.7577 - val_loss: 0.9517\n",
      "Epoch 99/100\n",
      "\u001b[1m34/34\u001b[0m \u001b[32m━━━━━━━━━━━━━━━━━━━━\u001b[0m\u001b[37m\u001b[0m \u001b[1m0s\u001b[0m 12ms/step - accuracy: 0.9347 - loss: 0.1817 - val_accuracy: 0.7797 - val_loss: 0.9866\n",
      "Epoch 100/100\n",
      "\u001b[1m34/34\u001b[0m \u001b[32m━━━━━━━━━━━━━━━━━━━━\u001b[0m\u001b[37m\u001b[0m \u001b[1m0s\u001b[0m 7ms/step - accuracy: 0.9368 - loss: 0.1953 - val_accuracy: 0.7930 - val_loss: 1.0579\n"
     ]
    }
   ],
   "source": [
    "history = model.fit(\n",
    "  train_dataset, epochs=100,\n",
    "  validation_data=validation_dataset,\n",
    ")"
   ]
  },
  {
   "cell_type": "code",
   "execution_count": 50,
   "metadata": {},
   "outputs": [
    {
     "data": {
      "application/vnd.plotly.v1+json": {
       "config": {
        "plotlyServerURL": "https://plot.ly"
       },
       "data": [
        {
         "hovertemplate": "index=%{x}<br>accuracy=%{y}<extra></extra>",
         "legendgroup": "",
         "line": {
          "color": "blue",
          "dash": "solid"
         },
         "marker": {
          "color": "blue",
          "symbol": "circle"
         },
         "mode": "lines+markers",
         "name": "Accuracy",
         "orientation": "v",
         "showlegend": true,
         "type": "scatter",
         "x": [
          0,
          1,
          2,
          3,
          4,
          5,
          6,
          7,
          8,
          9,
          10,
          11,
          12,
          13,
          14,
          15,
          16,
          17,
          18,
          19,
          20,
          21,
          22,
          23,
          24,
          25,
          26,
          27,
          28,
          29,
          30,
          31,
          32,
          33,
          34,
          35,
          36,
          37,
          38,
          39,
          40,
          41,
          42,
          43,
          44,
          45,
          46,
          47,
          48,
          49,
          50,
          51,
          52,
          53,
          54,
          55,
          56,
          57,
          58,
          59,
          60,
          61,
          62,
          63,
          64,
          65,
          66,
          67,
          68,
          69,
          70,
          71,
          72,
          73,
          74,
          75,
          76,
          77,
          78,
          79,
          80,
          81,
          82,
          83,
          84,
          85,
          86,
          87,
          88,
          89,
          90,
          91,
          92,
          93,
          94,
          95,
          96,
          97,
          98,
          99
         ],
         "xaxis": "x",
         "y": [
          0.18301886320114136,
          0.24716980755329132,
          0.23207546770572662,
          0.2188679277896881,
          0.2811320722103119,
          0.3358490467071533,
          0.3132075369358063,
          0.3716981112957001,
          0.3962264060974121,
          0.43396225571632385,
          0.4433962404727936,
          0.5245283246040344,
          0.5377358198165894,
          0.5509433746337891,
          0.6037735939025879,
          0.6188679337501526,
          0.645283043384552,
          0.6566037535667419,
          0.6905660629272461,
          0.6792452931404114,
          0.7094339728355408,
          0.7283018827438354,
          0.7264150977134705,
          0.7811321020126343,
          0.7509434223175049,
          0.7528302073478699,
          0.7528302073478699,
          0.8113207817077637,
          0.7679245471954346,
          0.7830188870429993,
          0.8283019065856934,
          0.8113207817077637,
          0.8433962464332581,
          0.8226414918899536,
          0.847169816493988,
          0.8641509413719177,
          0.8735849261283875,
          0.8679245114326477,
          0.8641509413719177,
          0.8396226167678833,
          0.8566038012504578,
          0.850943386554718,
          0.8679245114326477,
          0.8773584961891174,
          0.8735849261283875,
          0.8905660510063171,
          0.8830188512802124,
          0.9113207459449768,
          0.8792452812194824,
          0.8830188512802124,
          0.8849056363105774,
          0.8735849261283875,
          0.9113207459449768,
          0.9075471758842468,
          0.8849056363105774,
          0.852830171585083,
          0.9056603908538818,
          0.8811320662498474,
          0.8886792659759521,
          0.9094339609146118,
          0.9113207459449768,
          0.9132075309753418,
          0.8830188512802124,
          0.9113207459449768,
          0.9132075309753418,
          0.9245283007621765,
          0.9188679456710815,
          0.9207547307014465,
          0.9339622855186462,
          0.8924528360366821,
          0.9396226406097412,
          0.9415094256401062,
          0.9150943160057068,
          0.8962264060974121,
          0.9113207459449768,
          0.9018868207931519,
          0.9396226406097412,
          0.9132075309753418,
          0.9283018708229065,
          0.8999999761581421,
          0.8981131911277771,
          0.9226415157318115,
          0.9377358555793762,
          0.9132075309753418,
          0.9339622855186462,
          0.8811320662498474,
          0.9150943160057068,
          0.9283018708229065,
          0.9132075309753418,
          0.9396226406097412,
          0.9207547307014465,
          0.9320755004882812,
          0.9283018708229065,
          0.9490566253662109,
          0.9339622855186462,
          0.8999999761581421,
          0.9245283007621765,
          0.9226415157318115,
          0.9396226406097412,
          0.9415094256401062
         ],
         "yaxis": "y"
        },
        {
         "hovertemplate": "index=%{x}<br>val_accuracy=%{y}<extra></extra>",
         "legendgroup": "",
         "line": {
          "color": "orange",
          "dash": "solid"
         },
         "marker": {
          "color": "orange",
          "symbol": "circle"
         },
         "mode": "lines+markers",
         "name": "Validation Accuracy",
         "orientation": "v",
         "showlegend": true,
         "type": "scatter",
         "x": [
          0,
          1,
          2,
          3,
          4,
          5,
          6,
          7,
          8,
          9,
          10,
          11,
          12,
          13,
          14,
          15,
          16,
          17,
          18,
          19,
          20,
          21,
          22,
          23,
          24,
          25,
          26,
          27,
          28,
          29,
          30,
          31,
          32,
          33,
          34,
          35,
          36,
          37,
          38,
          39,
          40,
          41,
          42,
          43,
          44,
          45,
          46,
          47,
          48,
          49,
          50,
          51,
          52,
          53,
          54,
          55,
          56,
          57,
          58,
          59,
          60,
          61,
          62,
          63,
          64,
          65,
          66,
          67,
          68,
          69,
          70,
          71,
          72,
          73,
          74,
          75,
          76,
          77,
          78,
          79,
          80,
          81,
          82,
          83,
          84,
          85,
          86,
          87,
          88,
          89,
          90,
          91,
          92,
          93,
          94,
          95,
          96,
          97,
          98,
          99
         ],
         "xaxis": "x",
         "y": [
          0.26431718468666077,
          0.24229075014591217,
          0.3259911835193634,
          0.303964763879776,
          0.30837005376815796,
          0.3788546323776245,
          0.4140969216823578,
          0.4273127615451813,
          0.4008810520172119,
          0.5506607890129089,
          0.5286343693733215,
          0.515418529510498,
          0.6431717872619629,
          0.6431717872619629,
          0.6563876867294312,
          0.6651982665061951,
          0.6607929468154907,
          0.5947136282920837,
          0.6519823670387268,
          0.691629946231842,
          0.7136563658714294,
          0.6607929468154907,
          0.7268722653388977,
          0.7224669456481934,
          0.700440526008606,
          0.7268722653388977,
          0.7092511057853699,
          0.7136563658714294,
          0.6740087866783142,
          0.7356828451156616,
          0.7356828451156616,
          0.6960352659225464,
          0.7224669456481934,
          0.7444933652877808,
          0.7224669456481934,
          0.7533039450645447,
          0.7224669456481934,
          0.7356828451156616,
          0.7709251046180725,
          0.7048457860946655,
          0.7400881052017212,
          0.7488986849784851,
          0.7621145248413086,
          0.7753304243087769,
          0.7621145248413086,
          0.7533039450645447,
          0.7753304243087769,
          0.7533039450645447,
          0.7400881052017212,
          0.7533039450645447,
          0.7665198445320129,
          0.7709251046180725,
          0.7444933652877808,
          0.7224669456481934,
          0.7312775254249573,
          0.7621145248413086,
          0.7797356843948364,
          0.7400881052017212,
          0.7444933652877808,
          0.7665198445320129,
          0.7488986849784851,
          0.7709251046180725,
          0.7268722653388977,
          0.7533039450645447,
          0.7709251046180725,
          0.7444933652877808,
          0.757709264755249,
          0.7797356843948364,
          0.7929515242576599,
          0.7797356843948364,
          0.7797356843948364,
          0.7797356843948364,
          0.757709264755249,
          0.7929515242576599,
          0.7797356843948364,
          0.7797356843948364,
          0.7797356843948364,
          0.7753304243087769,
          0.7973568439483643,
          0.7312775254249573,
          0.7488986849784851,
          0.7797356843948364,
          0.7929515242576599,
          0.7444933652877808,
          0.7929515242576599,
          0.7533039450645447,
          0.7709251046180725,
          0.8017621040344238,
          0.7885462641716003,
          0.7973568439483643,
          0.8017621040344238,
          0.8193832635879517,
          0.7533039450645447,
          0.8017621040344238,
          0.7709251046180725,
          0.784140944480896,
          0.7753304243087769,
          0.757709264755249,
          0.7797356843948364,
          0.7929515242576599
         ],
         "yaxis": "y"
        }
       ],
       "layout": {
        "legend": {
         "tracegroupgap": 0
        },
        "shapes": [
         {
          "label": {
           "text": "Median Val Accuracy",
           "textposition": "start"
          },
          "line": {
           "color": "orange",
           "dash": "dash"
          },
          "type": "line",
          "x0": 0,
          "x1": 1,
          "xref": "x domain",
          "y0": 0.7488986849784851,
          "y1": 0.7488986849784851,
          "yref": "y"
         },
         {
          "label": {
           "text": "Median Accuracy",
           "textposition": "start"
          },
          "line": {
           "color": "blue",
           "dash": "dash"
          },
          "type": "line",
          "x0": 0,
          "x1": 1,
          "xref": "x domain",
          "y0": 0.8820754587650299,
          "y1": 0.8820754587650299,
          "yref": "y"
         }
        ],
        "template": {
         "data": {
          "bar": [
           {
            "error_x": {
             "color": "#2a3f5f"
            },
            "error_y": {
             "color": "#2a3f5f"
            },
            "marker": {
             "line": {
              "color": "#E5ECF6",
              "width": 0.5
             },
             "pattern": {
              "fillmode": "overlay",
              "size": 10,
              "solidity": 0.2
             }
            },
            "type": "bar"
           }
          ],
          "barpolar": [
           {
            "marker": {
             "line": {
              "color": "#E5ECF6",
              "width": 0.5
             },
             "pattern": {
              "fillmode": "overlay",
              "size": 10,
              "solidity": 0.2
             }
            },
            "type": "barpolar"
           }
          ],
          "carpet": [
           {
            "aaxis": {
             "endlinecolor": "#2a3f5f",
             "gridcolor": "white",
             "linecolor": "white",
             "minorgridcolor": "white",
             "startlinecolor": "#2a3f5f"
            },
            "baxis": {
             "endlinecolor": "#2a3f5f",
             "gridcolor": "white",
             "linecolor": "white",
             "minorgridcolor": "white",
             "startlinecolor": "#2a3f5f"
            },
            "type": "carpet"
           }
          ],
          "choropleth": [
           {
            "colorbar": {
             "outlinewidth": 0,
             "ticks": ""
            },
            "type": "choropleth"
           }
          ],
          "contour": [
           {
            "colorbar": {
             "outlinewidth": 0,
             "ticks": ""
            },
            "colorscale": [
             [
              0,
              "#0d0887"
             ],
             [
              0.1111111111111111,
              "#46039f"
             ],
             [
              0.2222222222222222,
              "#7201a8"
             ],
             [
              0.3333333333333333,
              "#9c179e"
             ],
             [
              0.4444444444444444,
              "#bd3786"
             ],
             [
              0.5555555555555556,
              "#d8576b"
             ],
             [
              0.6666666666666666,
              "#ed7953"
             ],
             [
              0.7777777777777778,
              "#fb9f3a"
             ],
             [
              0.8888888888888888,
              "#fdca26"
             ],
             [
              1,
              "#f0f921"
             ]
            ],
            "type": "contour"
           }
          ],
          "contourcarpet": [
           {
            "colorbar": {
             "outlinewidth": 0,
             "ticks": ""
            },
            "type": "contourcarpet"
           }
          ],
          "heatmap": [
           {
            "colorbar": {
             "outlinewidth": 0,
             "ticks": ""
            },
            "colorscale": [
             [
              0,
              "#0d0887"
             ],
             [
              0.1111111111111111,
              "#46039f"
             ],
             [
              0.2222222222222222,
              "#7201a8"
             ],
             [
              0.3333333333333333,
              "#9c179e"
             ],
             [
              0.4444444444444444,
              "#bd3786"
             ],
             [
              0.5555555555555556,
              "#d8576b"
             ],
             [
              0.6666666666666666,
              "#ed7953"
             ],
             [
              0.7777777777777778,
              "#fb9f3a"
             ],
             [
              0.8888888888888888,
              "#fdca26"
             ],
             [
              1,
              "#f0f921"
             ]
            ],
            "type": "heatmap"
           }
          ],
          "heatmapgl": [
           {
            "colorbar": {
             "outlinewidth": 0,
             "ticks": ""
            },
            "colorscale": [
             [
              0,
              "#0d0887"
             ],
             [
              0.1111111111111111,
              "#46039f"
             ],
             [
              0.2222222222222222,
              "#7201a8"
             ],
             [
              0.3333333333333333,
              "#9c179e"
             ],
             [
              0.4444444444444444,
              "#bd3786"
             ],
             [
              0.5555555555555556,
              "#d8576b"
             ],
             [
              0.6666666666666666,
              "#ed7953"
             ],
             [
              0.7777777777777778,
              "#fb9f3a"
             ],
             [
              0.8888888888888888,
              "#fdca26"
             ],
             [
              1,
              "#f0f921"
             ]
            ],
            "type": "heatmapgl"
           }
          ],
          "histogram": [
           {
            "marker": {
             "pattern": {
              "fillmode": "overlay",
              "size": 10,
              "solidity": 0.2
             }
            },
            "type": "histogram"
           }
          ],
          "histogram2d": [
           {
            "colorbar": {
             "outlinewidth": 0,
             "ticks": ""
            },
            "colorscale": [
             [
              0,
              "#0d0887"
             ],
             [
              0.1111111111111111,
              "#46039f"
             ],
             [
              0.2222222222222222,
              "#7201a8"
             ],
             [
              0.3333333333333333,
              "#9c179e"
             ],
             [
              0.4444444444444444,
              "#bd3786"
             ],
             [
              0.5555555555555556,
              "#d8576b"
             ],
             [
              0.6666666666666666,
              "#ed7953"
             ],
             [
              0.7777777777777778,
              "#fb9f3a"
             ],
             [
              0.8888888888888888,
              "#fdca26"
             ],
             [
              1,
              "#f0f921"
             ]
            ],
            "type": "histogram2d"
           }
          ],
          "histogram2dcontour": [
           {
            "colorbar": {
             "outlinewidth": 0,
             "ticks": ""
            },
            "colorscale": [
             [
              0,
              "#0d0887"
             ],
             [
              0.1111111111111111,
              "#46039f"
             ],
             [
              0.2222222222222222,
              "#7201a8"
             ],
             [
              0.3333333333333333,
              "#9c179e"
             ],
             [
              0.4444444444444444,
              "#bd3786"
             ],
             [
              0.5555555555555556,
              "#d8576b"
             ],
             [
              0.6666666666666666,
              "#ed7953"
             ],
             [
              0.7777777777777778,
              "#fb9f3a"
             ],
             [
              0.8888888888888888,
              "#fdca26"
             ],
             [
              1,
              "#f0f921"
             ]
            ],
            "type": "histogram2dcontour"
           }
          ],
          "mesh3d": [
           {
            "colorbar": {
             "outlinewidth": 0,
             "ticks": ""
            },
            "type": "mesh3d"
           }
          ],
          "parcoords": [
           {
            "line": {
             "colorbar": {
              "outlinewidth": 0,
              "ticks": ""
             }
            },
            "type": "parcoords"
           }
          ],
          "pie": [
           {
            "automargin": true,
            "type": "pie"
           }
          ],
          "scatter": [
           {
            "fillpattern": {
             "fillmode": "overlay",
             "size": 10,
             "solidity": 0.2
            },
            "type": "scatter"
           }
          ],
          "scatter3d": [
           {
            "line": {
             "colorbar": {
              "outlinewidth": 0,
              "ticks": ""
             }
            },
            "marker": {
             "colorbar": {
              "outlinewidth": 0,
              "ticks": ""
             }
            },
            "type": "scatter3d"
           }
          ],
          "scattercarpet": [
           {
            "marker": {
             "colorbar": {
              "outlinewidth": 0,
              "ticks": ""
             }
            },
            "type": "scattercarpet"
           }
          ],
          "scattergeo": [
           {
            "marker": {
             "colorbar": {
              "outlinewidth": 0,
              "ticks": ""
             }
            },
            "type": "scattergeo"
           }
          ],
          "scattergl": [
           {
            "marker": {
             "colorbar": {
              "outlinewidth": 0,
              "ticks": ""
             }
            },
            "type": "scattergl"
           }
          ],
          "scattermapbox": [
           {
            "marker": {
             "colorbar": {
              "outlinewidth": 0,
              "ticks": ""
             }
            },
            "type": "scattermapbox"
           }
          ],
          "scatterpolar": [
           {
            "marker": {
             "colorbar": {
              "outlinewidth": 0,
              "ticks": ""
             }
            },
            "type": "scatterpolar"
           }
          ],
          "scatterpolargl": [
           {
            "marker": {
             "colorbar": {
              "outlinewidth": 0,
              "ticks": ""
             }
            },
            "type": "scatterpolargl"
           }
          ],
          "scatterternary": [
           {
            "marker": {
             "colorbar": {
              "outlinewidth": 0,
              "ticks": ""
             }
            },
            "type": "scatterternary"
           }
          ],
          "surface": [
           {
            "colorbar": {
             "outlinewidth": 0,
             "ticks": ""
            },
            "colorscale": [
             [
              0,
              "#0d0887"
             ],
             [
              0.1111111111111111,
              "#46039f"
             ],
             [
              0.2222222222222222,
              "#7201a8"
             ],
             [
              0.3333333333333333,
              "#9c179e"
             ],
             [
              0.4444444444444444,
              "#bd3786"
             ],
             [
              0.5555555555555556,
              "#d8576b"
             ],
             [
              0.6666666666666666,
              "#ed7953"
             ],
             [
              0.7777777777777778,
              "#fb9f3a"
             ],
             [
              0.8888888888888888,
              "#fdca26"
             ],
             [
              1,
              "#f0f921"
             ]
            ],
            "type": "surface"
           }
          ],
          "table": [
           {
            "cells": {
             "fill": {
              "color": "#EBF0F8"
             },
             "line": {
              "color": "white"
             }
            },
            "header": {
             "fill": {
              "color": "#C8D4E3"
             },
             "line": {
              "color": "white"
             }
            },
            "type": "table"
           }
          ]
         },
         "layout": {
          "annotationdefaults": {
           "arrowcolor": "#2a3f5f",
           "arrowhead": 0,
           "arrowwidth": 1
          },
          "autotypenumbers": "strict",
          "coloraxis": {
           "colorbar": {
            "outlinewidth": 0,
            "ticks": ""
           }
          },
          "colorscale": {
           "diverging": [
            [
             0,
             "#8e0152"
            ],
            [
             0.1,
             "#c51b7d"
            ],
            [
             0.2,
             "#de77ae"
            ],
            [
             0.3,
             "#f1b6da"
            ],
            [
             0.4,
             "#fde0ef"
            ],
            [
             0.5,
             "#f7f7f7"
            ],
            [
             0.6,
             "#e6f5d0"
            ],
            [
             0.7,
             "#b8e186"
            ],
            [
             0.8,
             "#7fbc41"
            ],
            [
             0.9,
             "#4d9221"
            ],
            [
             1,
             "#276419"
            ]
           ],
           "sequential": [
            [
             0,
             "#0d0887"
            ],
            [
             0.1111111111111111,
             "#46039f"
            ],
            [
             0.2222222222222222,
             "#7201a8"
            ],
            [
             0.3333333333333333,
             "#9c179e"
            ],
            [
             0.4444444444444444,
             "#bd3786"
            ],
            [
             0.5555555555555556,
             "#d8576b"
            ],
            [
             0.6666666666666666,
             "#ed7953"
            ],
            [
             0.7777777777777778,
             "#fb9f3a"
            ],
            [
             0.8888888888888888,
             "#fdca26"
            ],
            [
             1,
             "#f0f921"
            ]
           ],
           "sequentialminus": [
            [
             0,
             "#0d0887"
            ],
            [
             0.1111111111111111,
             "#46039f"
            ],
            [
             0.2222222222222222,
             "#7201a8"
            ],
            [
             0.3333333333333333,
             "#9c179e"
            ],
            [
             0.4444444444444444,
             "#bd3786"
            ],
            [
             0.5555555555555556,
             "#d8576b"
            ],
            [
             0.6666666666666666,
             "#ed7953"
            ],
            [
             0.7777777777777778,
             "#fb9f3a"
            ],
            [
             0.8888888888888888,
             "#fdca26"
            ],
            [
             1,
             "#f0f921"
            ]
           ]
          },
          "colorway": [
           "#636efa",
           "#EF553B",
           "#00cc96",
           "#ab63fa",
           "#FFA15A",
           "#19d3f3",
           "#FF6692",
           "#B6E880",
           "#FF97FF",
           "#FECB52"
          ],
          "font": {
           "color": "#2a3f5f"
          },
          "geo": {
           "bgcolor": "white",
           "lakecolor": "white",
           "landcolor": "#E5ECF6",
           "showlakes": true,
           "showland": true,
           "subunitcolor": "white"
          },
          "hoverlabel": {
           "align": "left"
          },
          "hovermode": "closest",
          "mapbox": {
           "style": "light"
          },
          "paper_bgcolor": "white",
          "plot_bgcolor": "#E5ECF6",
          "polar": {
           "angularaxis": {
            "gridcolor": "white",
            "linecolor": "white",
            "ticks": ""
           },
           "bgcolor": "#E5ECF6",
           "radialaxis": {
            "gridcolor": "white",
            "linecolor": "white",
            "ticks": ""
           }
          },
          "scene": {
           "xaxis": {
            "backgroundcolor": "#E5ECF6",
            "gridcolor": "white",
            "gridwidth": 2,
            "linecolor": "white",
            "showbackground": true,
            "ticks": "",
            "zerolinecolor": "white"
           },
           "yaxis": {
            "backgroundcolor": "#E5ECF6",
            "gridcolor": "white",
            "gridwidth": 2,
            "linecolor": "white",
            "showbackground": true,
            "ticks": "",
            "zerolinecolor": "white"
           },
           "zaxis": {
            "backgroundcolor": "#E5ECF6",
            "gridcolor": "white",
            "gridwidth": 2,
            "linecolor": "white",
            "showbackground": true,
            "ticks": "",
            "zerolinecolor": "white"
           }
          },
          "shapedefaults": {
           "line": {
            "color": "#2a3f5f"
           }
          },
          "ternary": {
           "aaxis": {
            "gridcolor": "white",
            "linecolor": "white",
            "ticks": ""
           },
           "baxis": {
            "gridcolor": "white",
            "linecolor": "white",
            "ticks": ""
           },
           "bgcolor": "#E5ECF6",
           "caxis": {
            "gridcolor": "white",
            "linecolor": "white",
            "ticks": ""
           }
          },
          "title": {
           "x": 0.05
          },
          "xaxis": {
           "automargin": true,
           "gridcolor": "white",
           "linecolor": "white",
           "ticks": "",
           "title": {
            "standoff": 15
           },
           "zerolinecolor": "white",
           "zerolinewidth": 2
          },
          "yaxis": {
           "automargin": true,
           "gridcolor": "white",
           "linecolor": "white",
           "ticks": "",
           "title": {
            "standoff": 15
           },
           "zerolinecolor": "white",
           "zerolinewidth": 2
          }
         }
        },
        "title": {
         "text": "Training Accuracy"
        },
        "xaxis": {
         "anchor": "y",
         "domain": [
          0,
          1
         ],
         "title": {
          "text": "index"
         }
        },
        "yaxis": {
         "anchor": "x",
         "domain": [
          0,
          1
         ],
         "range": [
          0,
          1.2
         ],
         "title": {
          "text": "accuracy"
         }
        }
       }
      },
      "text/html": [
       "<div>                            <div id=\"812e3983-3bd5-4de3-b874-caeaaf18b32a\" class=\"plotly-graph-div\" style=\"height:525px; width:100%;\"></div>            <script type=\"text/javascript\">                require([\"plotly\"], function(Plotly) {                    window.PLOTLYENV=window.PLOTLYENV || {};                                    if (document.getElementById(\"812e3983-3bd5-4de3-b874-caeaaf18b32a\")) {                    Plotly.newPlot(                        \"812e3983-3bd5-4de3-b874-caeaaf18b32a\",                        [{\"hovertemplate\":\"index=%{x}\\u003cbr\\u003eaccuracy=%{y}\\u003cextra\\u003e\\u003c\\u002fextra\\u003e\",\"legendgroup\":\"\",\"line\":{\"color\":\"blue\",\"dash\":\"solid\"},\"marker\":{\"symbol\":\"circle\",\"color\":\"blue\"},\"mode\":\"lines+markers\",\"name\":\"Accuracy\",\"orientation\":\"v\",\"showlegend\":true,\"x\":[0,1,2,3,4,5,6,7,8,9,10,11,12,13,14,15,16,17,18,19,20,21,22,23,24,25,26,27,28,29,30,31,32,33,34,35,36,37,38,39,40,41,42,43,44,45,46,47,48,49,50,51,52,53,54,55,56,57,58,59,60,61,62,63,64,65,66,67,68,69,70,71,72,73,74,75,76,77,78,79,80,81,82,83,84,85,86,87,88,89,90,91,92,93,94,95,96,97,98,99],\"xaxis\":\"x\",\"y\":[0.18301886320114136,0.24716980755329132,0.23207546770572662,0.2188679277896881,0.2811320722103119,0.3358490467071533,0.3132075369358063,0.3716981112957001,0.3962264060974121,0.43396225571632385,0.4433962404727936,0.5245283246040344,0.5377358198165894,0.5509433746337891,0.6037735939025879,0.6188679337501526,0.645283043384552,0.6566037535667419,0.6905660629272461,0.6792452931404114,0.7094339728355408,0.7283018827438354,0.7264150977134705,0.7811321020126343,0.7509434223175049,0.7528302073478699,0.7528302073478699,0.8113207817077637,0.7679245471954346,0.7830188870429993,0.8283019065856934,0.8113207817077637,0.8433962464332581,0.8226414918899536,0.847169816493988,0.8641509413719177,0.8735849261283875,0.8679245114326477,0.8641509413719177,0.8396226167678833,0.8566038012504578,0.850943386554718,0.8679245114326477,0.8773584961891174,0.8735849261283875,0.8905660510063171,0.8830188512802124,0.9113207459449768,0.8792452812194824,0.8830188512802124,0.8849056363105774,0.8735849261283875,0.9113207459449768,0.9075471758842468,0.8849056363105774,0.852830171585083,0.9056603908538818,0.8811320662498474,0.8886792659759521,0.9094339609146118,0.9113207459449768,0.9132075309753418,0.8830188512802124,0.9113207459449768,0.9132075309753418,0.9245283007621765,0.9188679456710815,0.9207547307014465,0.9339622855186462,0.8924528360366821,0.9396226406097412,0.9415094256401062,0.9150943160057068,0.8962264060974121,0.9113207459449768,0.9018868207931519,0.9396226406097412,0.9132075309753418,0.9283018708229065,0.8999999761581421,0.8981131911277771,0.9226415157318115,0.9377358555793762,0.9132075309753418,0.9339622855186462,0.8811320662498474,0.9150943160057068,0.9283018708229065,0.9132075309753418,0.9396226406097412,0.9207547307014465,0.9320755004882812,0.9283018708229065,0.9490566253662109,0.9339622855186462,0.8999999761581421,0.9245283007621765,0.9226415157318115,0.9396226406097412,0.9415094256401062],\"yaxis\":\"y\",\"type\":\"scatter\"},{\"hovertemplate\":\"index=%{x}\\u003cbr\\u003eval_accuracy=%{y}\\u003cextra\\u003e\\u003c\\u002fextra\\u003e\",\"legendgroup\":\"\",\"line\":{\"color\":\"orange\",\"dash\":\"solid\"},\"marker\":{\"color\":\"orange\",\"symbol\":\"circle\"},\"mode\":\"lines+markers\",\"name\":\"Validation Accuracy\",\"orientation\":\"v\",\"showlegend\":true,\"x\":[0,1,2,3,4,5,6,7,8,9,10,11,12,13,14,15,16,17,18,19,20,21,22,23,24,25,26,27,28,29,30,31,32,33,34,35,36,37,38,39,40,41,42,43,44,45,46,47,48,49,50,51,52,53,54,55,56,57,58,59,60,61,62,63,64,65,66,67,68,69,70,71,72,73,74,75,76,77,78,79,80,81,82,83,84,85,86,87,88,89,90,91,92,93,94,95,96,97,98,99],\"xaxis\":\"x\",\"y\":[0.26431718468666077,0.24229075014591217,0.3259911835193634,0.303964763879776,0.30837005376815796,0.3788546323776245,0.4140969216823578,0.4273127615451813,0.4008810520172119,0.5506607890129089,0.5286343693733215,0.515418529510498,0.6431717872619629,0.6431717872619629,0.6563876867294312,0.6651982665061951,0.6607929468154907,0.5947136282920837,0.6519823670387268,0.691629946231842,0.7136563658714294,0.6607929468154907,0.7268722653388977,0.7224669456481934,0.700440526008606,0.7268722653388977,0.7092511057853699,0.7136563658714294,0.6740087866783142,0.7356828451156616,0.7356828451156616,0.6960352659225464,0.7224669456481934,0.7444933652877808,0.7224669456481934,0.7533039450645447,0.7224669456481934,0.7356828451156616,0.7709251046180725,0.7048457860946655,0.7400881052017212,0.7488986849784851,0.7621145248413086,0.7753304243087769,0.7621145248413086,0.7533039450645447,0.7753304243087769,0.7533039450645447,0.7400881052017212,0.7533039450645447,0.7665198445320129,0.7709251046180725,0.7444933652877808,0.7224669456481934,0.7312775254249573,0.7621145248413086,0.7797356843948364,0.7400881052017212,0.7444933652877808,0.7665198445320129,0.7488986849784851,0.7709251046180725,0.7268722653388977,0.7533039450645447,0.7709251046180725,0.7444933652877808,0.757709264755249,0.7797356843948364,0.7929515242576599,0.7797356843948364,0.7797356843948364,0.7797356843948364,0.757709264755249,0.7929515242576599,0.7797356843948364,0.7797356843948364,0.7797356843948364,0.7753304243087769,0.7973568439483643,0.7312775254249573,0.7488986849784851,0.7797356843948364,0.7929515242576599,0.7444933652877808,0.7929515242576599,0.7533039450645447,0.7709251046180725,0.8017621040344238,0.7885462641716003,0.7973568439483643,0.8017621040344238,0.8193832635879517,0.7533039450645447,0.8017621040344238,0.7709251046180725,0.784140944480896,0.7753304243087769,0.757709264755249,0.7797356843948364,0.7929515242576599],\"yaxis\":\"y\",\"type\":\"scatter\"}],                        {\"template\":{\"data\":{\"histogram2dcontour\":[{\"type\":\"histogram2dcontour\",\"colorbar\":{\"outlinewidth\":0,\"ticks\":\"\"},\"colorscale\":[[0.0,\"#0d0887\"],[0.1111111111111111,\"#46039f\"],[0.2222222222222222,\"#7201a8\"],[0.3333333333333333,\"#9c179e\"],[0.4444444444444444,\"#bd3786\"],[0.5555555555555556,\"#d8576b\"],[0.6666666666666666,\"#ed7953\"],[0.7777777777777778,\"#fb9f3a\"],[0.8888888888888888,\"#fdca26\"],[1.0,\"#f0f921\"]]}],\"choropleth\":[{\"type\":\"choropleth\",\"colorbar\":{\"outlinewidth\":0,\"ticks\":\"\"}}],\"histogram2d\":[{\"type\":\"histogram2d\",\"colorbar\":{\"outlinewidth\":0,\"ticks\":\"\"},\"colorscale\":[[0.0,\"#0d0887\"],[0.1111111111111111,\"#46039f\"],[0.2222222222222222,\"#7201a8\"],[0.3333333333333333,\"#9c179e\"],[0.4444444444444444,\"#bd3786\"],[0.5555555555555556,\"#d8576b\"],[0.6666666666666666,\"#ed7953\"],[0.7777777777777778,\"#fb9f3a\"],[0.8888888888888888,\"#fdca26\"],[1.0,\"#f0f921\"]]}],\"heatmap\":[{\"type\":\"heatmap\",\"colorbar\":{\"outlinewidth\":0,\"ticks\":\"\"},\"colorscale\":[[0.0,\"#0d0887\"],[0.1111111111111111,\"#46039f\"],[0.2222222222222222,\"#7201a8\"],[0.3333333333333333,\"#9c179e\"],[0.4444444444444444,\"#bd3786\"],[0.5555555555555556,\"#d8576b\"],[0.6666666666666666,\"#ed7953\"],[0.7777777777777778,\"#fb9f3a\"],[0.8888888888888888,\"#fdca26\"],[1.0,\"#f0f921\"]]}],\"heatmapgl\":[{\"type\":\"heatmapgl\",\"colorbar\":{\"outlinewidth\":0,\"ticks\":\"\"},\"colorscale\":[[0.0,\"#0d0887\"],[0.1111111111111111,\"#46039f\"],[0.2222222222222222,\"#7201a8\"],[0.3333333333333333,\"#9c179e\"],[0.4444444444444444,\"#bd3786\"],[0.5555555555555556,\"#d8576b\"],[0.6666666666666666,\"#ed7953\"],[0.7777777777777778,\"#fb9f3a\"],[0.8888888888888888,\"#fdca26\"],[1.0,\"#f0f921\"]]}],\"contourcarpet\":[{\"type\":\"contourcarpet\",\"colorbar\":{\"outlinewidth\":0,\"ticks\":\"\"}}],\"contour\":[{\"type\":\"contour\",\"colorbar\":{\"outlinewidth\":0,\"ticks\":\"\"},\"colorscale\":[[0.0,\"#0d0887\"],[0.1111111111111111,\"#46039f\"],[0.2222222222222222,\"#7201a8\"],[0.3333333333333333,\"#9c179e\"],[0.4444444444444444,\"#bd3786\"],[0.5555555555555556,\"#d8576b\"],[0.6666666666666666,\"#ed7953\"],[0.7777777777777778,\"#fb9f3a\"],[0.8888888888888888,\"#fdca26\"],[1.0,\"#f0f921\"]]}],\"surface\":[{\"type\":\"surface\",\"colorbar\":{\"outlinewidth\":0,\"ticks\":\"\"},\"colorscale\":[[0.0,\"#0d0887\"],[0.1111111111111111,\"#46039f\"],[0.2222222222222222,\"#7201a8\"],[0.3333333333333333,\"#9c179e\"],[0.4444444444444444,\"#bd3786\"],[0.5555555555555556,\"#d8576b\"],[0.6666666666666666,\"#ed7953\"],[0.7777777777777778,\"#fb9f3a\"],[0.8888888888888888,\"#fdca26\"],[1.0,\"#f0f921\"]]}],\"mesh3d\":[{\"type\":\"mesh3d\",\"colorbar\":{\"outlinewidth\":0,\"ticks\":\"\"}}],\"scatter\":[{\"fillpattern\":{\"fillmode\":\"overlay\",\"size\":10,\"solidity\":0.2},\"type\":\"scatter\"}],\"parcoords\":[{\"type\":\"parcoords\",\"line\":{\"colorbar\":{\"outlinewidth\":0,\"ticks\":\"\"}}}],\"scatterpolargl\":[{\"type\":\"scatterpolargl\",\"marker\":{\"colorbar\":{\"outlinewidth\":0,\"ticks\":\"\"}}}],\"bar\":[{\"error_x\":{\"color\":\"#2a3f5f\"},\"error_y\":{\"color\":\"#2a3f5f\"},\"marker\":{\"line\":{\"color\":\"#E5ECF6\",\"width\":0.5},\"pattern\":{\"fillmode\":\"overlay\",\"size\":10,\"solidity\":0.2}},\"type\":\"bar\"}],\"scattergeo\":[{\"type\":\"scattergeo\",\"marker\":{\"colorbar\":{\"outlinewidth\":0,\"ticks\":\"\"}}}],\"scatterpolar\":[{\"type\":\"scatterpolar\",\"marker\":{\"colorbar\":{\"outlinewidth\":0,\"ticks\":\"\"}}}],\"histogram\":[{\"marker\":{\"pattern\":{\"fillmode\":\"overlay\",\"size\":10,\"solidity\":0.2}},\"type\":\"histogram\"}],\"scattergl\":[{\"type\":\"scattergl\",\"marker\":{\"colorbar\":{\"outlinewidth\":0,\"ticks\":\"\"}}}],\"scatter3d\":[{\"type\":\"scatter3d\",\"line\":{\"colorbar\":{\"outlinewidth\":0,\"ticks\":\"\"}},\"marker\":{\"colorbar\":{\"outlinewidth\":0,\"ticks\":\"\"}}}],\"scattermapbox\":[{\"type\":\"scattermapbox\",\"marker\":{\"colorbar\":{\"outlinewidth\":0,\"ticks\":\"\"}}}],\"scatterternary\":[{\"type\":\"scatterternary\",\"marker\":{\"colorbar\":{\"outlinewidth\":0,\"ticks\":\"\"}}}],\"scattercarpet\":[{\"type\":\"scattercarpet\",\"marker\":{\"colorbar\":{\"outlinewidth\":0,\"ticks\":\"\"}}}],\"carpet\":[{\"aaxis\":{\"endlinecolor\":\"#2a3f5f\",\"gridcolor\":\"white\",\"linecolor\":\"white\",\"minorgridcolor\":\"white\",\"startlinecolor\":\"#2a3f5f\"},\"baxis\":{\"endlinecolor\":\"#2a3f5f\",\"gridcolor\":\"white\",\"linecolor\":\"white\",\"minorgridcolor\":\"white\",\"startlinecolor\":\"#2a3f5f\"},\"type\":\"carpet\"}],\"table\":[{\"cells\":{\"fill\":{\"color\":\"#EBF0F8\"},\"line\":{\"color\":\"white\"}},\"header\":{\"fill\":{\"color\":\"#C8D4E3\"},\"line\":{\"color\":\"white\"}},\"type\":\"table\"}],\"barpolar\":[{\"marker\":{\"line\":{\"color\":\"#E5ECF6\",\"width\":0.5},\"pattern\":{\"fillmode\":\"overlay\",\"size\":10,\"solidity\":0.2}},\"type\":\"barpolar\"}],\"pie\":[{\"automargin\":true,\"type\":\"pie\"}]},\"layout\":{\"autotypenumbers\":\"strict\",\"colorway\":[\"#636efa\",\"#EF553B\",\"#00cc96\",\"#ab63fa\",\"#FFA15A\",\"#19d3f3\",\"#FF6692\",\"#B6E880\",\"#FF97FF\",\"#FECB52\"],\"font\":{\"color\":\"#2a3f5f\"},\"hovermode\":\"closest\",\"hoverlabel\":{\"align\":\"left\"},\"paper_bgcolor\":\"white\",\"plot_bgcolor\":\"#E5ECF6\",\"polar\":{\"bgcolor\":\"#E5ECF6\",\"angularaxis\":{\"gridcolor\":\"white\",\"linecolor\":\"white\",\"ticks\":\"\"},\"radialaxis\":{\"gridcolor\":\"white\",\"linecolor\":\"white\",\"ticks\":\"\"}},\"ternary\":{\"bgcolor\":\"#E5ECF6\",\"aaxis\":{\"gridcolor\":\"white\",\"linecolor\":\"white\",\"ticks\":\"\"},\"baxis\":{\"gridcolor\":\"white\",\"linecolor\":\"white\",\"ticks\":\"\"},\"caxis\":{\"gridcolor\":\"white\",\"linecolor\":\"white\",\"ticks\":\"\"}},\"coloraxis\":{\"colorbar\":{\"outlinewidth\":0,\"ticks\":\"\"}},\"colorscale\":{\"sequential\":[[0.0,\"#0d0887\"],[0.1111111111111111,\"#46039f\"],[0.2222222222222222,\"#7201a8\"],[0.3333333333333333,\"#9c179e\"],[0.4444444444444444,\"#bd3786\"],[0.5555555555555556,\"#d8576b\"],[0.6666666666666666,\"#ed7953\"],[0.7777777777777778,\"#fb9f3a\"],[0.8888888888888888,\"#fdca26\"],[1.0,\"#f0f921\"]],\"sequentialminus\":[[0.0,\"#0d0887\"],[0.1111111111111111,\"#46039f\"],[0.2222222222222222,\"#7201a8\"],[0.3333333333333333,\"#9c179e\"],[0.4444444444444444,\"#bd3786\"],[0.5555555555555556,\"#d8576b\"],[0.6666666666666666,\"#ed7953\"],[0.7777777777777778,\"#fb9f3a\"],[0.8888888888888888,\"#fdca26\"],[1.0,\"#f0f921\"]],\"diverging\":[[0,\"#8e0152\"],[0.1,\"#c51b7d\"],[0.2,\"#de77ae\"],[0.3,\"#f1b6da\"],[0.4,\"#fde0ef\"],[0.5,\"#f7f7f7\"],[0.6,\"#e6f5d0\"],[0.7,\"#b8e186\"],[0.8,\"#7fbc41\"],[0.9,\"#4d9221\"],[1,\"#276419\"]]},\"xaxis\":{\"gridcolor\":\"white\",\"linecolor\":\"white\",\"ticks\":\"\",\"title\":{\"standoff\":15},\"zerolinecolor\":\"white\",\"automargin\":true,\"zerolinewidth\":2},\"yaxis\":{\"gridcolor\":\"white\",\"linecolor\":\"white\",\"ticks\":\"\",\"title\":{\"standoff\":15},\"zerolinecolor\":\"white\",\"automargin\":true,\"zerolinewidth\":2},\"scene\":{\"xaxis\":{\"backgroundcolor\":\"#E5ECF6\",\"gridcolor\":\"white\",\"linecolor\":\"white\",\"showbackground\":true,\"ticks\":\"\",\"zerolinecolor\":\"white\",\"gridwidth\":2},\"yaxis\":{\"backgroundcolor\":\"#E5ECF6\",\"gridcolor\":\"white\",\"linecolor\":\"white\",\"showbackground\":true,\"ticks\":\"\",\"zerolinecolor\":\"white\",\"gridwidth\":2},\"zaxis\":{\"backgroundcolor\":\"#E5ECF6\",\"gridcolor\":\"white\",\"linecolor\":\"white\",\"showbackground\":true,\"ticks\":\"\",\"zerolinecolor\":\"white\",\"gridwidth\":2}},\"shapedefaults\":{\"line\":{\"color\":\"#2a3f5f\"}},\"annotationdefaults\":{\"arrowcolor\":\"#2a3f5f\",\"arrowhead\":0,\"arrowwidth\":1},\"geo\":{\"bgcolor\":\"white\",\"landcolor\":\"#E5ECF6\",\"subunitcolor\":\"white\",\"showland\":true,\"showlakes\":true,\"lakecolor\":\"white\"},\"title\":{\"x\":0.05},\"mapbox\":{\"style\":\"light\"}}},\"xaxis\":{\"anchor\":\"y\",\"domain\":[0.0,1.0],\"title\":{\"text\":\"index\"}},\"yaxis\":{\"anchor\":\"x\",\"domain\":[0.0,1.0],\"title\":{\"text\":\"accuracy\"},\"range\":[0,1.2]},\"legend\":{\"tracegroupgap\":0},\"title\":{\"text\":\"Training Accuracy\"},\"shapes\":[{\"label\":{\"text\":\"Median Val Accuracy\",\"textposition\":\"start\"},\"line\":{\"color\":\"orange\",\"dash\":\"dash\"},\"type\":\"line\",\"x0\":0,\"x1\":1,\"xref\":\"x domain\",\"y0\":0.7488986849784851,\"y1\":0.7488986849784851,\"yref\":\"y\"},{\"label\":{\"text\":\"Median Accuracy\",\"textposition\":\"start\"},\"line\":{\"color\":\"blue\",\"dash\":\"dash\"},\"type\":\"line\",\"x0\":0,\"x1\":1,\"xref\":\"x domain\",\"y0\":0.8820754587650299,\"y1\":0.8820754587650299,\"yref\":\"y\"}]},                        {\"responsive\": true}                    ).then(function(){\n",
       "                            \n",
       "var gd = document.getElementById('812e3983-3bd5-4de3-b874-caeaaf18b32a');\n",
       "var x = new MutationObserver(function (mutations, observer) {{\n",
       "        var display = window.getComputedStyle(gd).display;\n",
       "        if (!display || display === 'none') {{\n",
       "            console.log([gd, 'removed!']);\n",
       "            Plotly.purge(gd);\n",
       "            observer.disconnect();\n",
       "        }}\n",
       "}});\n",
       "\n",
       "// Listen for the removal of the full notebook cells\n",
       "var notebookContainer = gd.closest('#notebook-container');\n",
       "if (notebookContainer) {{\n",
       "    x.observe(notebookContainer, {childList: true});\n",
       "}}\n",
       "\n",
       "// Listen for the clearing of the current output cell\n",
       "var outputEl = gd.closest('.output');\n",
       "if (outputEl) {{\n",
       "    x.observe(outputEl, {childList: true});\n",
       "}}\n",
       "\n",
       "                        })                };                });            </script>        </div>"
      ]
     },
     "metadata": {},
     "output_type": "display_data"
    }
   ],
   "source": [
    "history_df = pd.DataFrame(history.history)\n",
    "\n",
    "fig = px.line(history_df, x=history_df.index, y=\"accuracy\", markers=True, title=\"Training Accuracy\")\n",
    "fig2 = px.line(history_df, x=history_df.index, y=\"val_accuracy\", markers=True)\n",
    "\n",
    "fig.update_traces(dict(\n",
    "  marker=dict(\n",
    "    color=\"blue\"\n",
    "  ),\n",
    "  line=dict(\n",
    "    color=\"blue\",\n",
    "  ),\n",
    "))\n",
    "fig2.update_traces(dict(\n",
    "  marker=dict(\n",
    "    color=\"orange\"\n",
    "  ),\n",
    "  line=dict(\n",
    "    color=\"orange\",\n",
    "  ),\n",
    "))\n",
    "fig.add_traces(fig2.data)\n",
    "fig.data[0][\"name\"] = \"Accuracy\" # type: ignore\n",
    "fig.data[1][\"name\"] = \"Validation Accuracy\" # type: ignore\n",
    "fig.update_yaxes(dict(range=[0,1.2]))\n",
    "\n",
    "fig.add_hline(y=history_df[\"val_accuracy\"].median(), line_color=\"orange\", line_dash=\"dash\", label=dict(text=\"Median Val Accuracy\", textposition=\"start\"))\n",
    "fig.add_hline(y=history_df[\"accuracy\"].median(), line_color=\"blue\", line_dash=\"dash\", label=dict(text=\"Median Accuracy\", textposition=\"start\"))\n",
    "\n",
    "fig.update_traces(dict(\n",
    "  showlegend=True\n",
    "))\n",
    "fig.show()"
   ]
  },
  {
   "cell_type": "code",
   "execution_count": 51,
   "metadata": {},
   "outputs": [
    {
     "name": "stdout",
     "output_type": "stream",
     "text": [
      "\u001b[1m21/21\u001b[0m \u001b[32m━━━━━━━━━━━━━━━━━━━━\u001b[0m\u001b[37m\u001b[0m \u001b[1m0s\u001b[0m 6ms/step\n"
     ]
    },
    {
     "data": {
      "application/vnd.plotly.v1+json": {
       "config": {
        "plotlyServerURL": "https://plot.ly"
       },
       "data": [
        {
         "coloraxis": "coloraxis",
         "hovertemplate": "x: %{x}<br>y: %{y}<br>color: %{z}<extra></extra>",
         "name": "0",
         "type": "heatmap",
         "x": [
          "angry",
          "disgusted",
          "happy",
          "neutral",
          "sad",
          "surprised"
         ],
         "xaxis": "x",
         "y": [
          "angry",
          "disgusted",
          "happy",
          "neutral",
          "sad",
          "surprised"
         ],
         "yaxis": "y",
         "z": [
          [
           0.6739130434782609,
           0.13043478260869565,
           0.043478260869565216,
           0.043478260869565216,
           0.06521739130434782,
           0.043478260869565216
          ],
          [
           0.07407407407407407,
           0.8333333333333334,
           0.05555555555555555,
           0.018518518518518517,
           0.018518518518518517,
           0
          ],
          [
           0.07352941176470588,
           0.04411764705882353,
           0.7941176470588235,
           0.058823529411764705,
           0,
           0.029411764705882353
          ],
          [
           0.0425531914893617,
           0.02127659574468085,
           0.06382978723404255,
           0.723404255319149,
           0.06382978723404255,
           0.0851063829787234
          ],
          [
           0.2037037037037037,
           0.1111111111111111,
           0.09259259259259259,
           0,
           0.5925925925925926,
           0
          ],
          [
           0.05357142857142857,
           0,
           0.05357142857142857,
           0.10714285714285714,
           0.017857142857142856,
           0.7678571428571429
          ]
         ]
        }
       ],
       "layout": {
        "coloraxis": {
         "cmax": 1,
         "cmin": 0,
         "colorscale": [
          [
           0,
           "#0d0887"
          ],
          [
           0.1111111111111111,
           "#46039f"
          ],
          [
           0.2222222222222222,
           "#7201a8"
          ],
          [
           0.3333333333333333,
           "#9c179e"
          ],
          [
           0.4444444444444444,
           "#bd3786"
          ],
          [
           0.5555555555555556,
           "#d8576b"
          ],
          [
           0.6666666666666666,
           "#ed7953"
          ],
          [
           0.7777777777777778,
           "#fb9f3a"
          ],
          [
           0.8888888888888888,
           "#fdca26"
          ],
          [
           1,
           "#f0f921"
          ]
         ]
        },
        "margin": {
         "t": 60
        },
        "template": {
         "data": {
          "bar": [
           {
            "error_x": {
             "color": "#2a3f5f"
            },
            "error_y": {
             "color": "#2a3f5f"
            },
            "marker": {
             "line": {
              "color": "#E5ECF6",
              "width": 0.5
             },
             "pattern": {
              "fillmode": "overlay",
              "size": 10,
              "solidity": 0.2
             }
            },
            "type": "bar"
           }
          ],
          "barpolar": [
           {
            "marker": {
             "line": {
              "color": "#E5ECF6",
              "width": 0.5
             },
             "pattern": {
              "fillmode": "overlay",
              "size": 10,
              "solidity": 0.2
             }
            },
            "type": "barpolar"
           }
          ],
          "carpet": [
           {
            "aaxis": {
             "endlinecolor": "#2a3f5f",
             "gridcolor": "white",
             "linecolor": "white",
             "minorgridcolor": "white",
             "startlinecolor": "#2a3f5f"
            },
            "baxis": {
             "endlinecolor": "#2a3f5f",
             "gridcolor": "white",
             "linecolor": "white",
             "minorgridcolor": "white",
             "startlinecolor": "#2a3f5f"
            },
            "type": "carpet"
           }
          ],
          "choropleth": [
           {
            "colorbar": {
             "outlinewidth": 0,
             "ticks": ""
            },
            "type": "choropleth"
           }
          ],
          "contour": [
           {
            "colorbar": {
             "outlinewidth": 0,
             "ticks": ""
            },
            "colorscale": [
             [
              0,
              "#0d0887"
             ],
             [
              0.1111111111111111,
              "#46039f"
             ],
             [
              0.2222222222222222,
              "#7201a8"
             ],
             [
              0.3333333333333333,
              "#9c179e"
             ],
             [
              0.4444444444444444,
              "#bd3786"
             ],
             [
              0.5555555555555556,
              "#d8576b"
             ],
             [
              0.6666666666666666,
              "#ed7953"
             ],
             [
              0.7777777777777778,
              "#fb9f3a"
             ],
             [
              0.8888888888888888,
              "#fdca26"
             ],
             [
              1,
              "#f0f921"
             ]
            ],
            "type": "contour"
           }
          ],
          "contourcarpet": [
           {
            "colorbar": {
             "outlinewidth": 0,
             "ticks": ""
            },
            "type": "contourcarpet"
           }
          ],
          "heatmap": [
           {
            "colorbar": {
             "outlinewidth": 0,
             "ticks": ""
            },
            "colorscale": [
             [
              0,
              "#0d0887"
             ],
             [
              0.1111111111111111,
              "#46039f"
             ],
             [
              0.2222222222222222,
              "#7201a8"
             ],
             [
              0.3333333333333333,
              "#9c179e"
             ],
             [
              0.4444444444444444,
              "#bd3786"
             ],
             [
              0.5555555555555556,
              "#d8576b"
             ],
             [
              0.6666666666666666,
              "#ed7953"
             ],
             [
              0.7777777777777778,
              "#fb9f3a"
             ],
             [
              0.8888888888888888,
              "#fdca26"
             ],
             [
              1,
              "#f0f921"
             ]
            ],
            "type": "heatmap"
           }
          ],
          "heatmapgl": [
           {
            "colorbar": {
             "outlinewidth": 0,
             "ticks": ""
            },
            "colorscale": [
             [
              0,
              "#0d0887"
             ],
             [
              0.1111111111111111,
              "#46039f"
             ],
             [
              0.2222222222222222,
              "#7201a8"
             ],
             [
              0.3333333333333333,
              "#9c179e"
             ],
             [
              0.4444444444444444,
              "#bd3786"
             ],
             [
              0.5555555555555556,
              "#d8576b"
             ],
             [
              0.6666666666666666,
              "#ed7953"
             ],
             [
              0.7777777777777778,
              "#fb9f3a"
             ],
             [
              0.8888888888888888,
              "#fdca26"
             ],
             [
              1,
              "#f0f921"
             ]
            ],
            "type": "heatmapgl"
           }
          ],
          "histogram": [
           {
            "marker": {
             "pattern": {
              "fillmode": "overlay",
              "size": 10,
              "solidity": 0.2
             }
            },
            "type": "histogram"
           }
          ],
          "histogram2d": [
           {
            "colorbar": {
             "outlinewidth": 0,
             "ticks": ""
            },
            "colorscale": [
             [
              0,
              "#0d0887"
             ],
             [
              0.1111111111111111,
              "#46039f"
             ],
             [
              0.2222222222222222,
              "#7201a8"
             ],
             [
              0.3333333333333333,
              "#9c179e"
             ],
             [
              0.4444444444444444,
              "#bd3786"
             ],
             [
              0.5555555555555556,
              "#d8576b"
             ],
             [
              0.6666666666666666,
              "#ed7953"
             ],
             [
              0.7777777777777778,
              "#fb9f3a"
             ],
             [
              0.8888888888888888,
              "#fdca26"
             ],
             [
              1,
              "#f0f921"
             ]
            ],
            "type": "histogram2d"
           }
          ],
          "histogram2dcontour": [
           {
            "colorbar": {
             "outlinewidth": 0,
             "ticks": ""
            },
            "colorscale": [
             [
              0,
              "#0d0887"
             ],
             [
              0.1111111111111111,
              "#46039f"
             ],
             [
              0.2222222222222222,
              "#7201a8"
             ],
             [
              0.3333333333333333,
              "#9c179e"
             ],
             [
              0.4444444444444444,
              "#bd3786"
             ],
             [
              0.5555555555555556,
              "#d8576b"
             ],
             [
              0.6666666666666666,
              "#ed7953"
             ],
             [
              0.7777777777777778,
              "#fb9f3a"
             ],
             [
              0.8888888888888888,
              "#fdca26"
             ],
             [
              1,
              "#f0f921"
             ]
            ],
            "type": "histogram2dcontour"
           }
          ],
          "mesh3d": [
           {
            "colorbar": {
             "outlinewidth": 0,
             "ticks": ""
            },
            "type": "mesh3d"
           }
          ],
          "parcoords": [
           {
            "line": {
             "colorbar": {
              "outlinewidth": 0,
              "ticks": ""
             }
            },
            "type": "parcoords"
           }
          ],
          "pie": [
           {
            "automargin": true,
            "type": "pie"
           }
          ],
          "scatter": [
           {
            "fillpattern": {
             "fillmode": "overlay",
             "size": 10,
             "solidity": 0.2
            },
            "type": "scatter"
           }
          ],
          "scatter3d": [
           {
            "line": {
             "colorbar": {
              "outlinewidth": 0,
              "ticks": ""
             }
            },
            "marker": {
             "colorbar": {
              "outlinewidth": 0,
              "ticks": ""
             }
            },
            "type": "scatter3d"
           }
          ],
          "scattercarpet": [
           {
            "marker": {
             "colorbar": {
              "outlinewidth": 0,
              "ticks": ""
             }
            },
            "type": "scattercarpet"
           }
          ],
          "scattergeo": [
           {
            "marker": {
             "colorbar": {
              "outlinewidth": 0,
              "ticks": ""
             }
            },
            "type": "scattergeo"
           }
          ],
          "scattergl": [
           {
            "marker": {
             "colorbar": {
              "outlinewidth": 0,
              "ticks": ""
             }
            },
            "type": "scattergl"
           }
          ],
          "scattermapbox": [
           {
            "marker": {
             "colorbar": {
              "outlinewidth": 0,
              "ticks": ""
             }
            },
            "type": "scattermapbox"
           }
          ],
          "scatterpolar": [
           {
            "marker": {
             "colorbar": {
              "outlinewidth": 0,
              "ticks": ""
             }
            },
            "type": "scatterpolar"
           }
          ],
          "scatterpolargl": [
           {
            "marker": {
             "colorbar": {
              "outlinewidth": 0,
              "ticks": ""
             }
            },
            "type": "scatterpolargl"
           }
          ],
          "scatterternary": [
           {
            "marker": {
             "colorbar": {
              "outlinewidth": 0,
              "ticks": ""
             }
            },
            "type": "scatterternary"
           }
          ],
          "surface": [
           {
            "colorbar": {
             "outlinewidth": 0,
             "ticks": ""
            },
            "colorscale": [
             [
              0,
              "#0d0887"
             ],
             [
              0.1111111111111111,
              "#46039f"
             ],
             [
              0.2222222222222222,
              "#7201a8"
             ],
             [
              0.3333333333333333,
              "#9c179e"
             ],
             [
              0.4444444444444444,
              "#bd3786"
             ],
             [
              0.5555555555555556,
              "#d8576b"
             ],
             [
              0.6666666666666666,
              "#ed7953"
             ],
             [
              0.7777777777777778,
              "#fb9f3a"
             ],
             [
              0.8888888888888888,
              "#fdca26"
             ],
             [
              1,
              "#f0f921"
             ]
            ],
            "type": "surface"
           }
          ],
          "table": [
           {
            "cells": {
             "fill": {
              "color": "#EBF0F8"
             },
             "line": {
              "color": "white"
             }
            },
            "header": {
             "fill": {
              "color": "#C8D4E3"
             },
             "line": {
              "color": "white"
             }
            },
            "type": "table"
           }
          ]
         },
         "layout": {
          "annotationdefaults": {
           "arrowcolor": "#2a3f5f",
           "arrowhead": 0,
           "arrowwidth": 1
          },
          "autotypenumbers": "strict",
          "coloraxis": {
           "colorbar": {
            "outlinewidth": 0,
            "ticks": ""
           }
          },
          "colorscale": {
           "diverging": [
            [
             0,
             "#8e0152"
            ],
            [
             0.1,
             "#c51b7d"
            ],
            [
             0.2,
             "#de77ae"
            ],
            [
             0.3,
             "#f1b6da"
            ],
            [
             0.4,
             "#fde0ef"
            ],
            [
             0.5,
             "#f7f7f7"
            ],
            [
             0.6,
             "#e6f5d0"
            ],
            [
             0.7,
             "#b8e186"
            ],
            [
             0.8,
             "#7fbc41"
            ],
            [
             0.9,
             "#4d9221"
            ],
            [
             1,
             "#276419"
            ]
           ],
           "sequential": [
            [
             0,
             "#0d0887"
            ],
            [
             0.1111111111111111,
             "#46039f"
            ],
            [
             0.2222222222222222,
             "#7201a8"
            ],
            [
             0.3333333333333333,
             "#9c179e"
            ],
            [
             0.4444444444444444,
             "#bd3786"
            ],
            [
             0.5555555555555556,
             "#d8576b"
            ],
            [
             0.6666666666666666,
             "#ed7953"
            ],
            [
             0.7777777777777778,
             "#fb9f3a"
            ],
            [
             0.8888888888888888,
             "#fdca26"
            ],
            [
             1,
             "#f0f921"
            ]
           ],
           "sequentialminus": [
            [
             0,
             "#0d0887"
            ],
            [
             0.1111111111111111,
             "#46039f"
            ],
            [
             0.2222222222222222,
             "#7201a8"
            ],
            [
             0.3333333333333333,
             "#9c179e"
            ],
            [
             0.4444444444444444,
             "#bd3786"
            ],
            [
             0.5555555555555556,
             "#d8576b"
            ],
            [
             0.6666666666666666,
             "#ed7953"
            ],
            [
             0.7777777777777778,
             "#fb9f3a"
            ],
            [
             0.8888888888888888,
             "#fdca26"
            ],
            [
             1,
             "#f0f921"
            ]
           ]
          },
          "colorway": [
           "#636efa",
           "#EF553B",
           "#00cc96",
           "#ab63fa",
           "#FFA15A",
           "#19d3f3",
           "#FF6692",
           "#B6E880",
           "#FF97FF",
           "#FECB52"
          ],
          "font": {
           "color": "#2a3f5f"
          },
          "geo": {
           "bgcolor": "white",
           "lakecolor": "white",
           "landcolor": "#E5ECF6",
           "showlakes": true,
           "showland": true,
           "subunitcolor": "white"
          },
          "hoverlabel": {
           "align": "left"
          },
          "hovermode": "closest",
          "mapbox": {
           "style": "light"
          },
          "paper_bgcolor": "white",
          "plot_bgcolor": "#E5ECF6",
          "polar": {
           "angularaxis": {
            "gridcolor": "white",
            "linecolor": "white",
            "ticks": ""
           },
           "bgcolor": "#E5ECF6",
           "radialaxis": {
            "gridcolor": "white",
            "linecolor": "white",
            "ticks": ""
           }
          },
          "scene": {
           "xaxis": {
            "backgroundcolor": "#E5ECF6",
            "gridcolor": "white",
            "gridwidth": 2,
            "linecolor": "white",
            "showbackground": true,
            "ticks": "",
            "zerolinecolor": "white"
           },
           "yaxis": {
            "backgroundcolor": "#E5ECF6",
            "gridcolor": "white",
            "gridwidth": 2,
            "linecolor": "white",
            "showbackground": true,
            "ticks": "",
            "zerolinecolor": "white"
           },
           "zaxis": {
            "backgroundcolor": "#E5ECF6",
            "gridcolor": "white",
            "gridwidth": 2,
            "linecolor": "white",
            "showbackground": true,
            "ticks": "",
            "zerolinecolor": "white"
           }
          },
          "shapedefaults": {
           "line": {
            "color": "#2a3f5f"
           }
          },
          "ternary": {
           "aaxis": {
            "gridcolor": "white",
            "linecolor": "white",
            "ticks": ""
           },
           "baxis": {
            "gridcolor": "white",
            "linecolor": "white",
            "ticks": ""
           },
           "bgcolor": "#E5ECF6",
           "caxis": {
            "gridcolor": "white",
            "linecolor": "white",
            "ticks": ""
           }
          },
          "title": {
           "x": 0.05
          },
          "xaxis": {
           "automargin": true,
           "gridcolor": "white",
           "linecolor": "white",
           "ticks": "",
           "title": {
            "standoff": 15
           },
           "zerolinecolor": "white",
           "zerolinewidth": 2
          },
          "yaxis": {
           "automargin": true,
           "gridcolor": "white",
           "linecolor": "white",
           "ticks": "",
           "title": {
            "standoff": 15
           },
           "zerolinecolor": "white",
           "zerolinewidth": 2
          }
         }
        },
        "xaxis": {
         "anchor": "y",
         "constrain": "domain",
         "domain": [
          0,
          1
         ],
         "scaleanchor": "y"
        },
        "yaxis": {
         "anchor": "x",
         "autorange": "reversed",
         "constrain": "domain",
         "domain": [
          0,
          1
         ]
        }
       }
      },
      "text/html": [
       "<div>                            <div id=\"7cc5d622-3fde-4d5a-b538-a30af3e8a512\" class=\"plotly-graph-div\" style=\"height:525px; width:100%;\"></div>            <script type=\"text/javascript\">                require([\"plotly\"], function(Plotly) {                    window.PLOTLYENV=window.PLOTLYENV || {};                                    if (document.getElementById(\"7cc5d622-3fde-4d5a-b538-a30af3e8a512\")) {                    Plotly.newPlot(                        \"7cc5d622-3fde-4d5a-b538-a30af3e8a512\",                        [{\"coloraxis\":\"coloraxis\",\"name\":\"0\",\"x\":[\"angry\",\"disgusted\",\"happy\",\"neutral\",\"sad\",\"surprised\"],\"y\":[\"angry\",\"disgusted\",\"happy\",\"neutral\",\"sad\",\"surprised\"],\"z\":[[0.6739130434782609,0.13043478260869565,0.043478260869565216,0.043478260869565216,0.06521739130434782,0.043478260869565216],[0.07407407407407407,0.8333333333333334,0.05555555555555555,0.018518518518518517,0.018518518518518517,0.0],[0.07352941176470588,0.04411764705882353,0.7941176470588235,0.058823529411764705,0.0,0.029411764705882353],[0.0425531914893617,0.02127659574468085,0.06382978723404255,0.723404255319149,0.06382978723404255,0.0851063829787234],[0.2037037037037037,0.1111111111111111,0.09259259259259259,0.0,0.5925925925925926,0.0],[0.05357142857142857,0.0,0.05357142857142857,0.10714285714285714,0.017857142857142856,0.7678571428571429]],\"type\":\"heatmap\",\"xaxis\":\"x\",\"yaxis\":\"y\",\"hovertemplate\":\"x: %{x}\\u003cbr\\u003ey: %{y}\\u003cbr\\u003ecolor: %{z}\\u003cextra\\u003e\\u003c\\u002fextra\\u003e\"}],                        {\"template\":{\"data\":{\"histogram2dcontour\":[{\"type\":\"histogram2dcontour\",\"colorbar\":{\"outlinewidth\":0,\"ticks\":\"\"},\"colorscale\":[[0.0,\"#0d0887\"],[0.1111111111111111,\"#46039f\"],[0.2222222222222222,\"#7201a8\"],[0.3333333333333333,\"#9c179e\"],[0.4444444444444444,\"#bd3786\"],[0.5555555555555556,\"#d8576b\"],[0.6666666666666666,\"#ed7953\"],[0.7777777777777778,\"#fb9f3a\"],[0.8888888888888888,\"#fdca26\"],[1.0,\"#f0f921\"]]}],\"choropleth\":[{\"type\":\"choropleth\",\"colorbar\":{\"outlinewidth\":0,\"ticks\":\"\"}}],\"histogram2d\":[{\"type\":\"histogram2d\",\"colorbar\":{\"outlinewidth\":0,\"ticks\":\"\"},\"colorscale\":[[0.0,\"#0d0887\"],[0.1111111111111111,\"#46039f\"],[0.2222222222222222,\"#7201a8\"],[0.3333333333333333,\"#9c179e\"],[0.4444444444444444,\"#bd3786\"],[0.5555555555555556,\"#d8576b\"],[0.6666666666666666,\"#ed7953\"],[0.7777777777777778,\"#fb9f3a\"],[0.8888888888888888,\"#fdca26\"],[1.0,\"#f0f921\"]]}],\"heatmap\":[{\"type\":\"heatmap\",\"colorbar\":{\"outlinewidth\":0,\"ticks\":\"\"},\"colorscale\":[[0.0,\"#0d0887\"],[0.1111111111111111,\"#46039f\"],[0.2222222222222222,\"#7201a8\"],[0.3333333333333333,\"#9c179e\"],[0.4444444444444444,\"#bd3786\"],[0.5555555555555556,\"#d8576b\"],[0.6666666666666666,\"#ed7953\"],[0.7777777777777778,\"#fb9f3a\"],[0.8888888888888888,\"#fdca26\"],[1.0,\"#f0f921\"]]}],\"heatmapgl\":[{\"type\":\"heatmapgl\",\"colorbar\":{\"outlinewidth\":0,\"ticks\":\"\"},\"colorscale\":[[0.0,\"#0d0887\"],[0.1111111111111111,\"#46039f\"],[0.2222222222222222,\"#7201a8\"],[0.3333333333333333,\"#9c179e\"],[0.4444444444444444,\"#bd3786\"],[0.5555555555555556,\"#d8576b\"],[0.6666666666666666,\"#ed7953\"],[0.7777777777777778,\"#fb9f3a\"],[0.8888888888888888,\"#fdca26\"],[1.0,\"#f0f921\"]]}],\"contourcarpet\":[{\"type\":\"contourcarpet\",\"colorbar\":{\"outlinewidth\":0,\"ticks\":\"\"}}],\"contour\":[{\"type\":\"contour\",\"colorbar\":{\"outlinewidth\":0,\"ticks\":\"\"},\"colorscale\":[[0.0,\"#0d0887\"],[0.1111111111111111,\"#46039f\"],[0.2222222222222222,\"#7201a8\"],[0.3333333333333333,\"#9c179e\"],[0.4444444444444444,\"#bd3786\"],[0.5555555555555556,\"#d8576b\"],[0.6666666666666666,\"#ed7953\"],[0.7777777777777778,\"#fb9f3a\"],[0.8888888888888888,\"#fdca26\"],[1.0,\"#f0f921\"]]}],\"surface\":[{\"type\":\"surface\",\"colorbar\":{\"outlinewidth\":0,\"ticks\":\"\"},\"colorscale\":[[0.0,\"#0d0887\"],[0.1111111111111111,\"#46039f\"],[0.2222222222222222,\"#7201a8\"],[0.3333333333333333,\"#9c179e\"],[0.4444444444444444,\"#bd3786\"],[0.5555555555555556,\"#d8576b\"],[0.6666666666666666,\"#ed7953\"],[0.7777777777777778,\"#fb9f3a\"],[0.8888888888888888,\"#fdca26\"],[1.0,\"#f0f921\"]]}],\"mesh3d\":[{\"type\":\"mesh3d\",\"colorbar\":{\"outlinewidth\":0,\"ticks\":\"\"}}],\"scatter\":[{\"fillpattern\":{\"fillmode\":\"overlay\",\"size\":10,\"solidity\":0.2},\"type\":\"scatter\"}],\"parcoords\":[{\"type\":\"parcoords\",\"line\":{\"colorbar\":{\"outlinewidth\":0,\"ticks\":\"\"}}}],\"scatterpolargl\":[{\"type\":\"scatterpolargl\",\"marker\":{\"colorbar\":{\"outlinewidth\":0,\"ticks\":\"\"}}}],\"bar\":[{\"error_x\":{\"color\":\"#2a3f5f\"},\"error_y\":{\"color\":\"#2a3f5f\"},\"marker\":{\"line\":{\"color\":\"#E5ECF6\",\"width\":0.5},\"pattern\":{\"fillmode\":\"overlay\",\"size\":10,\"solidity\":0.2}},\"type\":\"bar\"}],\"scattergeo\":[{\"type\":\"scattergeo\",\"marker\":{\"colorbar\":{\"outlinewidth\":0,\"ticks\":\"\"}}}],\"scatterpolar\":[{\"type\":\"scatterpolar\",\"marker\":{\"colorbar\":{\"outlinewidth\":0,\"ticks\":\"\"}}}],\"histogram\":[{\"marker\":{\"pattern\":{\"fillmode\":\"overlay\",\"size\":10,\"solidity\":0.2}},\"type\":\"histogram\"}],\"scattergl\":[{\"type\":\"scattergl\",\"marker\":{\"colorbar\":{\"outlinewidth\":0,\"ticks\":\"\"}}}],\"scatter3d\":[{\"type\":\"scatter3d\",\"line\":{\"colorbar\":{\"outlinewidth\":0,\"ticks\":\"\"}},\"marker\":{\"colorbar\":{\"outlinewidth\":0,\"ticks\":\"\"}}}],\"scattermapbox\":[{\"type\":\"scattermapbox\",\"marker\":{\"colorbar\":{\"outlinewidth\":0,\"ticks\":\"\"}}}],\"scatterternary\":[{\"type\":\"scatterternary\",\"marker\":{\"colorbar\":{\"outlinewidth\":0,\"ticks\":\"\"}}}],\"scattercarpet\":[{\"type\":\"scattercarpet\",\"marker\":{\"colorbar\":{\"outlinewidth\":0,\"ticks\":\"\"}}}],\"carpet\":[{\"aaxis\":{\"endlinecolor\":\"#2a3f5f\",\"gridcolor\":\"white\",\"linecolor\":\"white\",\"minorgridcolor\":\"white\",\"startlinecolor\":\"#2a3f5f\"},\"baxis\":{\"endlinecolor\":\"#2a3f5f\",\"gridcolor\":\"white\",\"linecolor\":\"white\",\"minorgridcolor\":\"white\",\"startlinecolor\":\"#2a3f5f\"},\"type\":\"carpet\"}],\"table\":[{\"cells\":{\"fill\":{\"color\":\"#EBF0F8\"},\"line\":{\"color\":\"white\"}},\"header\":{\"fill\":{\"color\":\"#C8D4E3\"},\"line\":{\"color\":\"white\"}},\"type\":\"table\"}],\"barpolar\":[{\"marker\":{\"line\":{\"color\":\"#E5ECF6\",\"width\":0.5},\"pattern\":{\"fillmode\":\"overlay\",\"size\":10,\"solidity\":0.2}},\"type\":\"barpolar\"}],\"pie\":[{\"automargin\":true,\"type\":\"pie\"}]},\"layout\":{\"autotypenumbers\":\"strict\",\"colorway\":[\"#636efa\",\"#EF553B\",\"#00cc96\",\"#ab63fa\",\"#FFA15A\",\"#19d3f3\",\"#FF6692\",\"#B6E880\",\"#FF97FF\",\"#FECB52\"],\"font\":{\"color\":\"#2a3f5f\"},\"hovermode\":\"closest\",\"hoverlabel\":{\"align\":\"left\"},\"paper_bgcolor\":\"white\",\"plot_bgcolor\":\"#E5ECF6\",\"polar\":{\"bgcolor\":\"#E5ECF6\",\"angularaxis\":{\"gridcolor\":\"white\",\"linecolor\":\"white\",\"ticks\":\"\"},\"radialaxis\":{\"gridcolor\":\"white\",\"linecolor\":\"white\",\"ticks\":\"\"}},\"ternary\":{\"bgcolor\":\"#E5ECF6\",\"aaxis\":{\"gridcolor\":\"white\",\"linecolor\":\"white\",\"ticks\":\"\"},\"baxis\":{\"gridcolor\":\"white\",\"linecolor\":\"white\",\"ticks\":\"\"},\"caxis\":{\"gridcolor\":\"white\",\"linecolor\":\"white\",\"ticks\":\"\"}},\"coloraxis\":{\"colorbar\":{\"outlinewidth\":0,\"ticks\":\"\"}},\"colorscale\":{\"sequential\":[[0.0,\"#0d0887\"],[0.1111111111111111,\"#46039f\"],[0.2222222222222222,\"#7201a8\"],[0.3333333333333333,\"#9c179e\"],[0.4444444444444444,\"#bd3786\"],[0.5555555555555556,\"#d8576b\"],[0.6666666666666666,\"#ed7953\"],[0.7777777777777778,\"#fb9f3a\"],[0.8888888888888888,\"#fdca26\"],[1.0,\"#f0f921\"]],\"sequentialminus\":[[0.0,\"#0d0887\"],[0.1111111111111111,\"#46039f\"],[0.2222222222222222,\"#7201a8\"],[0.3333333333333333,\"#9c179e\"],[0.4444444444444444,\"#bd3786\"],[0.5555555555555556,\"#d8576b\"],[0.6666666666666666,\"#ed7953\"],[0.7777777777777778,\"#fb9f3a\"],[0.8888888888888888,\"#fdca26\"],[1.0,\"#f0f921\"]],\"diverging\":[[0,\"#8e0152\"],[0.1,\"#c51b7d\"],[0.2,\"#de77ae\"],[0.3,\"#f1b6da\"],[0.4,\"#fde0ef\"],[0.5,\"#f7f7f7\"],[0.6,\"#e6f5d0\"],[0.7,\"#b8e186\"],[0.8,\"#7fbc41\"],[0.9,\"#4d9221\"],[1,\"#276419\"]]},\"xaxis\":{\"gridcolor\":\"white\",\"linecolor\":\"white\",\"ticks\":\"\",\"title\":{\"standoff\":15},\"zerolinecolor\":\"white\",\"automargin\":true,\"zerolinewidth\":2},\"yaxis\":{\"gridcolor\":\"white\",\"linecolor\":\"white\",\"ticks\":\"\",\"title\":{\"standoff\":15},\"zerolinecolor\":\"white\",\"automargin\":true,\"zerolinewidth\":2},\"scene\":{\"xaxis\":{\"backgroundcolor\":\"#E5ECF6\",\"gridcolor\":\"white\",\"linecolor\":\"white\",\"showbackground\":true,\"ticks\":\"\",\"zerolinecolor\":\"white\",\"gridwidth\":2},\"yaxis\":{\"backgroundcolor\":\"#E5ECF6\",\"gridcolor\":\"white\",\"linecolor\":\"white\",\"showbackground\":true,\"ticks\":\"\",\"zerolinecolor\":\"white\",\"gridwidth\":2},\"zaxis\":{\"backgroundcolor\":\"#E5ECF6\",\"gridcolor\":\"white\",\"linecolor\":\"white\",\"showbackground\":true,\"ticks\":\"\",\"zerolinecolor\":\"white\",\"gridwidth\":2}},\"shapedefaults\":{\"line\":{\"color\":\"#2a3f5f\"}},\"annotationdefaults\":{\"arrowcolor\":\"#2a3f5f\",\"arrowhead\":0,\"arrowwidth\":1},\"geo\":{\"bgcolor\":\"white\",\"landcolor\":\"#E5ECF6\",\"subunitcolor\":\"white\",\"showland\":true,\"showlakes\":true,\"lakecolor\":\"white\"},\"title\":{\"x\":0.05},\"mapbox\":{\"style\":\"light\"}}},\"xaxis\":{\"anchor\":\"y\",\"domain\":[0.0,1.0],\"scaleanchor\":\"y\",\"constrain\":\"domain\"},\"yaxis\":{\"anchor\":\"x\",\"domain\":[0.0,1.0],\"autorange\":\"reversed\",\"constrain\":\"domain\"},\"coloraxis\":{\"colorscale\":[[0.0,\"#0d0887\"],[0.1111111111111111,\"#46039f\"],[0.2222222222222222,\"#7201a8\"],[0.3333333333333333,\"#9c179e\"],[0.4444444444444444,\"#bd3786\"],[0.5555555555555556,\"#d8576b\"],[0.6666666666666666,\"#ed7953\"],[0.7777777777777778,\"#fb9f3a\"],[0.8888888888888888,\"#fdca26\"],[1.0,\"#f0f921\"]],\"cmin\":0,\"cmax\":1},\"margin\":{\"t\":60}},                        {\"responsive\": true}                    ).then(function(){\n",
       "                            \n",
       "var gd = document.getElementById('7cc5d622-3fde-4d5a-b538-a30af3e8a512');\n",
       "var x = new MutationObserver(function (mutations, observer) {{\n",
       "        var display = window.getComputedStyle(gd).display;\n",
       "        if (!display || display === 'none') {{\n",
       "            console.log([gd, 'removed!']);\n",
       "            Plotly.purge(gd);\n",
       "            observer.disconnect();\n",
       "        }}\n",
       "}});\n",
       "\n",
       "// Listen for the removal of the full notebook cells\n",
       "var notebookContainer = gd.closest('#notebook-container');\n",
       "if (notebookContainer) {{\n",
       "    x.observe(notebookContainer, {childList: true});\n",
       "}}\n",
       "\n",
       "// Listen for the clearing of the current output cell\n",
       "var outputEl = gd.closest('.output');\n",
       "if (outputEl) {{\n",
       "    x.observe(outputEl, {childList: true});\n",
       "}}\n",
       "\n",
       "                        })                };                });            </script>        </div>"
      ]
     },
     "metadata": {},
     "output_type": "display_data"
    },
    {
     "data": {
      "text/plain": [
       "{'angry': {'precision': 0.5535714285714286,\n",
       "  'recall': 0.6739130434782609,\n",
       "  'f1-score': 0.6078431372549019,\n",
       "  'support': 46.0},\n",
       " 'disgusted': {'precision': 0.7377049180327869,\n",
       "  'recall': 0.8333333333333334,\n",
       "  'f1-score': 0.782608695652174,\n",
       "  'support': 54.0},\n",
       " 'happy': {'precision': 0.7714285714285715,\n",
       "  'recall': 0.7941176470588235,\n",
       "  'f1-score': 0.782608695652174,\n",
       "  'support': 68.0},\n",
       " 'neutral': {'precision': 0.723404255319149,\n",
       "  'recall': 0.723404255319149,\n",
       "  'f1-score': 0.723404255319149,\n",
       "  'support': 47.0},\n",
       " 'sad': {'precision': 0.8,\n",
       "  'recall': 0.5925925925925926,\n",
       "  'f1-score': 0.6808510638297872,\n",
       "  'support': 54.0},\n",
       " 'surprised': {'precision': 0.8431372549019608,\n",
       "  'recall': 0.7678571428571429,\n",
       "  'f1-score': 0.8037383177570093,\n",
       "  'support': 56.0},\n",
       " 'accuracy': 0.7353846153846154,\n",
       " 'macro avg': {'precision': 0.7382077380423161,\n",
       "  'recall': 0.7308696691065504,\n",
       "  'f1-score': 0.7301756942441991,\n",
       "  'support': 325.0},\n",
       " 'weighted avg': {'precision': 0.7451482474452581,\n",
       "  'recall': 0.7353846153846154,\n",
       "  'f1-score': 0.7360441489984361,\n",
       "  'support': 325.0}}"
      ]
     },
     "execution_count": 51,
     "metadata": {},
     "output_type": "execute_result"
    }
   ],
   "source": [
    "from typing import cast\n",
    "\n",
    "confidences = model.predict(test_dataset)\n",
    "predictions = np.argmax(confidences, axis=1)\n",
    "\n",
    "labels = cast(list[int], list(test_dataset.unbatch().map(lambda x, y: y).as_numpy_iterator()))\n",
    "\n",
    "cmat = sklearn.metrics.confusion_matrix(labels, predictions, normalize=\"true\")\n",
    "\n",
    "fig = px.imshow(cmat, x=CLASS_NAMES, y=CLASS_NAMES, range_color=[0,1])\n",
    "fig.show()\n",
    "\n",
    "sklearn.metrics.classification_report(labels, predictions, output_dict=True, target_names=CLASS_NAMES)"
   ]
  },
  {
   "cell_type": "code",
   "execution_count": 52,
   "metadata": {},
   "outputs": [
    {
     "data": {
      "application/vnd.plotly.v1+json": {
       "config": {
        "plotlyServerURL": "https://plot.ly"
       },
       "data": [
        {
         "customdata": [
          [
           "surprised"
          ],
          [
           "surprised"
          ],
          [
           "surprised"
          ],
          [
           "surprised"
          ],
          [
           "surprised"
          ],
          [
           "surprised"
          ],
          [
           "surprised"
          ],
          [
           "surprised"
          ],
          [
           "surprised"
          ],
          [
           "surprised"
          ],
          [
           "surprised"
          ],
          [
           "surprised"
          ],
          [
           "surprised"
          ],
          [
           "surprised"
          ],
          [
           "surprised"
          ],
          [
           "surprised"
          ],
          [
           "surprised"
          ],
          [
           "surprised"
          ],
          [
           "surprised"
          ],
          [
           "surprised"
          ],
          [
           "surprised"
          ],
          [
           "surprised"
          ],
          [
           "surprised"
          ],
          [
           "surprised"
          ],
          [
           "surprised"
          ],
          [
           "surprised"
          ],
          [
           "surprised"
          ],
          [
           "surprised"
          ],
          [
           "surprised"
          ],
          [
           "surprised"
          ],
          [
           "surprised"
          ],
          [
           "surprised"
          ],
          [
           "surprised"
          ],
          [
           "surprised"
          ],
          [
           "surprised"
          ],
          [
           "surprised"
          ],
          [
           "surprised"
          ],
          [
           "surprised"
          ],
          [
           "surprised"
          ],
          [
           "surprised"
          ],
          [
           "surprised"
          ],
          [
           "surprised"
          ],
          [
           "surprised"
          ]
         ],
         "hovertemplate": "Predictions=surprised<br>Correct=True<br>x=%{x}<br>y=%{y}<br>Label=%{customdata[0]}<extra></extra>",
         "legendgroup": "surprised, True",
         "marker": {
          "color": "#19D3F3",
          "symbol": "circle"
         },
         "mode": "markers",
         "name": "surprised, True",
         "showlegend": true,
         "type": "scattergl",
         "x": [
          -11.725500106811523,
          -13.533727645874023,
          -26.54584312438965,
          -26.9787654876709,
          -27.105703353881836,
          34.876338958740234,
          20.56986427307129,
          -7.956020832061768,
          28.18902015686035,
          27.955245971679688,
          27.53016471862793,
          35.64750671386719,
          -11.00885009765625,
          -13.179807662963867,
          -14.36856746673584,
          -11.874167442321777,
          19.843425750732422,
          -12.351123809814453,
          -3.712498188018799,
          -29.575143814086914,
          -29.589771270751953,
          -29.22947120666504,
          24.488710403442383,
          34.42399215698242,
          -18.732633590698242,
          33.40890121459961,
          20.94757652282715,
          -2.9799160957336426,
          -0.49065589904785156,
          -37.515438079833984,
          -2.20167875289917,
          -3.343123197555542,
          -1.5783360004425049,
          18.598045349121094,
          28.89368438720703,
          26.05025863647461,
          -11.176942825317383,
          -40.4260368347168,
          -40.828773498535156,
          -39.74783706665039,
          -2.9180190563201904,
          -5.076242923736572,
          24.733203887939453
         ],
         "xaxis": "x",
         "y": [
          11.723140716552734,
          -42.27842712402344,
          3.7338056564331055,
          4.294079303741455,
          3.777310609817505,
          -17.72536277770996,
          -14.801640510559082,
          -47.439239501953125,
          -26.321956634521484,
          -26.98733139038086,
          -26.44352912902832,
          -18.5686092376709,
          -34.62105178833008,
          -35.735836029052734,
          -34.91883850097656,
          -32.69963455200195,
          24.514320373535156,
          -41.958030700683594,
          0.7558667659759521,
          19.541288375854492,
          19.203386306762695,
          19.082786560058594,
          -27.127668380737305,
          -12.12365436553955,
          -0.6025807857513428,
          -13.522680282592773,
          27.603965759277344,
          -51.019779205322266,
          -49.479652404785156,
          19.696571350097656,
          -48.99983596801758,
          -49.57712173461914,
          -47.5860710144043,
          33.52159881591797,
          22.648225784301758,
          22.948991775512695,
          -35.97902297973633,
          -21.7990665435791,
          -19.876522064208984,
          -20.244279861450195,
          0.7006110548973083,
          0.540727972984314,
          42.649620056152344
         ],
         "yaxis": "y"
        },
        {
         "customdata": [
          [
           "neutral"
          ],
          [
           "neutral"
          ],
          [
           "angry"
          ],
          [
           "happy"
          ],
          [
           "angry"
          ],
          [
           "neutral"
          ],
          [
           "neutral"
          ],
          [
           "happy"
          ]
         ],
         "hovertemplate": "Predictions=surprised<br>Correct=False<br>x=%{x}<br>y=%{y}<br>Label=%{customdata[0]}<extra></extra>",
         "legendgroup": "surprised, False",
         "marker": {
          "color": "#19D3F3",
          "symbol": "x"
         },
         "mode": "markers",
         "name": "surprised, False",
         "showlegend": true,
         "type": "scattergl",
         "x": [
          -39.15742492675781,
          13.871421813964844,
          29.203916549682617,
          30.602863311767578,
          -9.232643127441406,
          36.49604797363281,
          -4.542495250701904,
          35.749298095703125
         ],
         "xaxis": "x",
         "y": [
          13.275129318237305,
          37.83897018432617,
          -9.070046424865723,
          -8.946255683898926,
          -41.04818344116211,
          -2.34926176071167,
          1.4443241357803345,
          -1.9505934715270996
         ],
         "yaxis": "y"
        },
        {
         "customdata": [
          [
           "happy"
          ],
          [
           "happy"
          ],
          [
           "happy"
          ],
          [
           "happy"
          ],
          [
           "happy"
          ],
          [
           "happy"
          ],
          [
           "happy"
          ],
          [
           "happy"
          ],
          [
           "happy"
          ],
          [
           "happy"
          ],
          [
           "happy"
          ],
          [
           "happy"
          ],
          [
           "happy"
          ],
          [
           "happy"
          ],
          [
           "happy"
          ],
          [
           "happy"
          ],
          [
           "happy"
          ],
          [
           "happy"
          ],
          [
           "happy"
          ],
          [
           "happy"
          ],
          [
           "happy"
          ],
          [
           "happy"
          ],
          [
           "happy"
          ],
          [
           "happy"
          ],
          [
           "happy"
          ],
          [
           "happy"
          ],
          [
           "happy"
          ],
          [
           "happy"
          ],
          [
           "happy"
          ],
          [
           "happy"
          ],
          [
           "happy"
          ],
          [
           "happy"
          ],
          [
           "happy"
          ],
          [
           "happy"
          ],
          [
           "happy"
          ],
          [
           "happy"
          ],
          [
           "happy"
          ],
          [
           "happy"
          ],
          [
           "happy"
          ],
          [
           "happy"
          ],
          [
           "happy"
          ],
          [
           "happy"
          ],
          [
           "happy"
          ],
          [
           "happy"
          ],
          [
           "happy"
          ],
          [
           "happy"
          ],
          [
           "happy"
          ],
          [
           "happy"
          ],
          [
           "happy"
          ],
          [
           "happy"
          ],
          [
           "happy"
          ],
          [
           "happy"
          ],
          [
           "happy"
          ],
          [
           "happy"
          ]
         ],
         "hovertemplate": "Predictions=happy<br>Correct=True<br>x=%{x}<br>y=%{y}<br>Label=%{customdata[0]}<extra></extra>",
         "legendgroup": "happy, True",
         "marker": {
          "color": "#00CC96",
          "symbol": "circle"
         },
         "mode": "markers",
         "name": "happy, True",
         "showlegend": true,
         "type": "scattergl",
         "x": [
          -14.765125274658203,
          -12.686431884765625,
          34.82197189331055,
          -27.82823371887207,
          -43.32770919799805,
          -40.13063049316406,
          -43.730106353759766,
          -41.57694625854492,
          -42.977813720703125,
          -40.50055694580078,
          -39.677799224853516,
          28.06441307067871,
          -12.183632850646973,
          -12.192888259887695,
          33.04597854614258,
          -12.594975471496582,
          -19.891515731811523,
          -16.136974334716797,
          -16.093982696533203,
          32.08506774902344,
          -3.7894294261932373,
          -20.46196174621582,
          -29.634788513183594,
          24.562026977539062,
          -12.797628402709961,
          -14.65580940246582,
          -18.78435516357422,
          33.641971588134766,
          18.931209564208984,
          20.313018798828125,
          -2.233682870864868,
          -2.256772041320801,
          -2.470273733139038,
          -3.1404287815093994,
          -3.2037370204925537,
          -1.9958891868591309,
          19.918474197387695,
          17.521032333374023,
          14.752206802368164,
          26.355716705322266,
          26.816471099853516,
          29.187231063842773,
          29.721155166625977,
          23.065200805664062,
          -8.881786346435547,
          -12.76051139831543,
          25.45203971862793,
          -2.35332989692688,
          22.78404998779297,
          22.730974197387695,
          23.390640258789062,
          23.323339462280273,
          22.255088806152344,
          22.556598663330078
         ],
         "xaxis": "x",
         "y": [
          -42.24330139160156,
          -37.01607894897461,
          -17.210430145263672,
          2.927506446838379,
          16.052072525024414,
          11.665462493896484,
          15.114078521728516,
          16.094106674194336,
          14.181212425231934,
          12.82445240020752,
          12.915325164794922,
          -26.622682571411133,
          -0.9800812602043152,
          -0.9801750779151917,
          -19.234840393066406,
          -35.046207427978516,
          5.84687614440918,
          -33.83302307128906,
          -33.47542190551758,
          -3.590977668762207,
          -27.947660446166992,
          -36.77698516845703,
          19.789875030517578,
          -27.521846771240234,
          8.581527709960938,
          -41.74968338012695,
          0.09714814275503159,
          -12.515691757202148,
          27.142574310302734,
          26.958740234375,
          -48.111671447753906,
          -48.32467269897461,
          -48.92933654785156,
          -49.89720916748047,
          -49.583396911621094,
          -47.589412689208984,
          35.13416290283203,
          32.30202865600586,
          41.36164855957031,
          24.47357940673828,
          22.843189239501953,
          20.488079071044922,
          20.704959869384766,
          35.258079528808594,
          -36.94932174682617,
          3.691744804382324,
          27.10072898864746,
          1.4722275733947754,
          42.66974639892578,
          41.72629165649414,
          44.074344635009766,
          43.81692123413086,
          43.28907775878906,
          43.802207946777344
         ],
         "yaxis": "y"
        },
        {
         "customdata": [
          [
           "disgusted"
          ],
          [
           "sad"
          ],
          [
           "sad"
          ],
          [
           "sad"
          ],
          [
           "surprised"
          ],
          [
           "sad"
          ],
          [
           "disgusted"
          ],
          [
           "angry"
          ],
          [
           "angry"
          ],
          [
           "sad"
          ],
          [
           "neutral"
          ],
          [
           "surprised"
          ],
          [
           "disgusted"
          ],
          [
           "neutral"
          ],
          [
           "neutral"
          ],
          [
           "surprised"
          ]
         ],
         "hovertemplate": "Predictions=happy<br>Correct=False<br>x=%{x}<br>y=%{y}<br>Label=%{customdata[0]}<extra></extra>",
         "legendgroup": "happy, False",
         "marker": {
          "color": "#00CC96",
          "symbol": "x"
         },
         "mode": "markers",
         "name": "happy, False",
         "showlegend": true,
         "type": "scattergl",
         "x": [
          -12.336583137512207,
          -15.239240646362305,
          -14.147061347961426,
          -27.01239776611328,
          34.69827651977539,
          -42.48318862915039,
          -43.02274703979492,
          10.542195320129395,
          2.5232677459716797,
          -1.0487034320831299,
          -2.260435104370117,
          14.34352970123291,
          15.603727340698242,
          28.65789222717285,
          21.626707077026367,
          22.610260009765625
         ],
         "xaxis": "x",
         "y": [
          6.513999938964844,
          -42.23183822631836,
          6.338018894195557,
          3.156100034713745,
          -16.924644470214844,
          15.219549179077148,
          14.59908676147461,
          41.92347717285156,
          30.09262466430664,
          -49.51292037963867,
          -50.78306579589844,
          41.4537353515625,
          41.12664794921875,
          21.59801483154297,
          42.73482894897461,
          41.452552795410156
         ],
         "yaxis": "y"
        },
        {
         "customdata": [
          [
           "disgusted"
          ],
          [
           "disgusted"
          ],
          [
           "disgusted"
          ],
          [
           "disgusted"
          ],
          [
           "disgusted"
          ],
          [
           "disgusted"
          ],
          [
           "disgusted"
          ],
          [
           "disgusted"
          ],
          [
           "disgusted"
          ],
          [
           "disgusted"
          ],
          [
           "disgusted"
          ],
          [
           "disgusted"
          ],
          [
           "disgusted"
          ],
          [
           "disgusted"
          ],
          [
           "disgusted"
          ],
          [
           "disgusted"
          ],
          [
           "disgusted"
          ],
          [
           "disgusted"
          ],
          [
           "disgusted"
          ],
          [
           "disgusted"
          ],
          [
           "disgusted"
          ],
          [
           "disgusted"
          ],
          [
           "disgusted"
          ],
          [
           "disgusted"
          ],
          [
           "disgusted"
          ],
          [
           "disgusted"
          ],
          [
           "disgusted"
          ],
          [
           "disgusted"
          ],
          [
           "disgusted"
          ],
          [
           "disgusted"
          ],
          [
           "disgusted"
          ],
          [
           "disgusted"
          ],
          [
           "disgusted"
          ],
          [
           "disgusted"
          ],
          [
           "disgusted"
          ],
          [
           "disgusted"
          ],
          [
           "disgusted"
          ],
          [
           "disgusted"
          ],
          [
           "disgusted"
          ],
          [
           "disgusted"
          ],
          [
           "disgusted"
          ],
          [
           "disgusted"
          ],
          [
           "disgusted"
          ],
          [
           "disgusted"
          ],
          [
           "disgusted"
          ]
         ],
         "hovertemplate": "Predictions=disgusted<br>Correct=True<br>x=%{x}<br>y=%{y}<br>Label=%{customdata[0]}<extra></extra>",
         "legendgroup": "disgusted, True",
         "marker": {
          "color": "#EF553B",
          "symbol": "circle"
         },
         "mode": "markers",
         "name": "disgusted, True",
         "showlegend": true,
         "type": "scattergl",
         "x": [
          -40.42703628540039,
          -16.803022384643555,
          34.768436431884766,
          35.026084899902344,
          22.861284255981445,
          -39.20261764526367,
          -41.893348693847656,
          27.862638473510742,
          14.216453552246094,
          13.2725830078125,
          30.532346725463867,
          30.50922966003418,
          -21.081951141357422,
          -20.59623146057129,
          -11.156904220581055,
          -12.160935401916504,
          -12.302993774414062,
          -9.791045188903809,
          -29.2993106842041,
          25.03351593017578,
          25.25151252746582,
          24.8320369720459,
          -14.146044731140137,
          33.36556625366211,
          -1.521343469619751,
          19.867246627807617,
          20.3701229095459,
          13.679896354675293,
          30.5531063079834,
          26.914424896240234,
          29.16300392150879,
          27.682531356811523,
          28.06402587890625,
          30.405031204223633,
          -12.094525337219238,
          -11.546581268310547,
          24.133625030517578,
          29.59817886352539,
          -10.686470031738281,
          -1.6519197225570679,
          24.096498489379883,
          24.30548858642578,
          22.65831184387207,
          23.418672561645508,
          28.683666229248047
         ],
         "xaxis": "x",
         "y": [
          -22.964868545532227,
          -44.21087646484375,
          -17.316640853881836,
          -16.862483978271484,
          30.022077560424805,
          11.834027290344238,
          16.295738220214844,
          -26.054458618164062,
          37.54801940917969,
          40.1246223449707,
          -5.06476354598999,
          -5.0788984298706055,
          12.531390190124512,
          9.697164535522461,
          -34.03947830200195,
          -41.63948059082031,
          -41.63542938232422,
          -41.928916931152344,
          19.90862464904785,
          -27.042884826660156,
          -27.847030639648438,
          -27.610553741455078,
          4.492546081542969,
          -12.795058250427246,
          -48.23388671875,
          36.595558166503906,
          37.23102569580078,
          41.53892517089844,
          20.65007209777832,
          24.876333236694336,
          20.790996551513672,
          20.385019302368164,
          20.889455795288086,
          19.851959228515625,
          9.110600471496582,
          6.875887393951416,
          27.017976760864258,
          -8.573556900024414,
          6.489996433258057,
          1.2049258947372437,
          43.87137222290039,
          42.04304504394531,
          43.30411148071289,
          43.26651382446289,
          -13.176050186157227
         ],
         "yaxis": "y"
        },
        {
         "customdata": [
          [
           "angry"
          ],
          [
           "sad"
          ],
          [
           "happy"
          ],
          [
           "angry"
          ],
          [
           "happy"
          ],
          [
           "happy"
          ],
          [
           "angry"
          ],
          [
           "sad"
          ],
          [
           "angry"
          ],
          [
           "sad"
          ],
          [
           "angry"
          ],
          [
           "sad"
          ],
          [
           "sad"
          ],
          [
           "sad"
          ],
          [
           "neutral"
          ],
          [
           "angry"
          ]
         ],
         "hovertemplate": "Predictions=disgusted<br>Correct=False<br>x=%{x}<br>y=%{y}<br>Label=%{customdata[0]}<extra></extra>",
         "legendgroup": "disgusted, False",
         "marker": {
          "color": "#EF553B",
          "symbol": "x"
         },
         "mode": "markers",
         "name": "disgusted, False",
         "showlegend": true,
         "type": "scattergl",
         "x": [
          35.384849548339844,
          -42.41917037963867,
          13.37726879119873,
          11.131056785583496,
          25.270627975463867,
          -17.031051635742188,
          -16.595048904418945,
          33.06155776977539,
          -19.173377990722656,
          -17.59597396850586,
          -1.8204880952835083,
          -38.13728713989258,
          -1.4344154596328735,
          26.660999298095703,
          27.932369232177734,
          27.104196548461914
         ],
         "xaxis": "x",
         "y": [
          -17.3432674407959,
          14.168048858642578,
          39.80457305908203,
          32.20399475097656,
          -27.645124435424805,
          -40.56093978881836,
          -42.211238861083984,
          -13.05142593383789,
          1.5974539518356323,
          -0.684058427810669,
          -49.85844039916992,
          19.48723030090332,
          -48.418174743652344,
          23.735931396484375,
          21.661836624145508,
          23.21303939819336
         ],
         "yaxis": "y"
        },
        {
         "customdata": [
          [
           "sad"
          ],
          [
           "sad"
          ],
          [
           "sad"
          ],
          [
           "sad"
          ],
          [
           "sad"
          ],
          [
           "sad"
          ],
          [
           "sad"
          ],
          [
           "sad"
          ],
          [
           "sad"
          ],
          [
           "sad"
          ],
          [
           "sad"
          ],
          [
           "sad"
          ],
          [
           "sad"
          ],
          [
           "sad"
          ],
          [
           "sad"
          ],
          [
           "sad"
          ],
          [
           "sad"
          ],
          [
           "sad"
          ],
          [
           "sad"
          ],
          [
           "sad"
          ],
          [
           "sad"
          ],
          [
           "sad"
          ],
          [
           "sad"
          ],
          [
           "sad"
          ],
          [
           "sad"
          ],
          [
           "sad"
          ],
          [
           "sad"
          ],
          [
           "sad"
          ],
          [
           "sad"
          ],
          [
           "sad"
          ],
          [
           "sad"
          ],
          [
           "sad"
          ]
         ],
         "hovertemplate": "Predictions=sad<br>Correct=True<br>x=%{x}<br>y=%{y}<br>Label=%{customdata[0]}<extra></extra>",
         "legendgroup": "sad, True",
         "marker": {
          "color": "#FFA15A",
          "symbol": "circle"
         },
         "mode": "markers",
         "name": "sad, True",
         "showlegend": true,
         "type": "scattergl",
         "x": [
          22.94577980041504,
          -27.189434051513672,
          -27.794021606445312,
          -41.78894805908203,
          -40.66866683959961,
          28.033334732055664,
          33.048099517822266,
          -10.989398956298828,
          31.550914764404297,
          -10.659279823303223,
          -9.956546783447266,
          -21.01313591003418,
          -29.097497940063477,
          -29.107624053955078,
          -28.724376678466797,
          25.321491241455078,
          -28.67148780822754,
          34.57292938232422,
          23.9741268157959,
          17.51839828491211,
          14.241744995117188,
          25.271650314331055,
          26.46108627319336,
          28.861663818359375,
          30.508991241455078,
          28.812999725341797,
          18.899925231933594,
          -8.029606819152832,
          -12.73385238647461,
          -40.061248779296875,
          -39.311161041259766,
          19.693138122558594
         ],
         "xaxis": "x",
         "y": [
          30.111722946166992,
          3.7569873332977295,
          2.7867040634155273,
          15.77741527557373,
          13.129758834838867,
          -26.036151885986328,
          -20.007150650024414,
          -34.65713119506836,
          -8.996831893920898,
          7.209721565246582,
          -41.924442291259766,
          -36.90681457519531,
          19.170286178588867,
          19.912044525146484,
          19.391767501831055,
          -27.524885177612305,
          20.016448974609375,
          -12.001947402954102,
          28.337867736816406,
          32.28477096557617,
          42.06755065917969,
          23.390451431274414,
          23.331937789916992,
          21.560474395751953,
          20.908071517944336,
          21.531068801879883,
          28.681997299194336,
          -36.99026107788086,
          3.6108601093292236,
          -19.235919952392578,
          -19.67784309387207,
          24.88661003112793
         ],
         "yaxis": "y"
        },
        {
         "customdata": [
          [
           "angry"
          ],
          [
           "surprised"
          ],
          [
           "angry"
          ],
          [
           "neutral"
          ],
          [
           "disgusted"
          ],
          [
           "neutral"
          ],
          [
           "neutral"
          ],
          [
           "angry"
          ]
         ],
         "hovertemplate": "Predictions=sad<br>Correct=False<br>x=%{x}<br>y=%{y}<br>Label=%{customdata[0]}<extra></extra>",
         "legendgroup": "sad, False",
         "marker": {
          "color": "#FFA15A",
          "symbol": "x"
         },
         "mode": "markers",
         "name": "sad, False",
         "showlegend": true,
         "type": "scattergl",
         "x": [
          -40.347862243652344,
          -39.10917282104492,
          27.55339813232422,
          -17.725847244262695,
          -2.2869584560394287,
          27.227502822875977,
          -29.68750762939453,
          -15.713203430175781
         ],
         "xaxis": "x",
         "y": [
          -23.071306228637695,
          13.357952117919922,
          -26.009302139282227,
          -0.11030206084251404,
          -47.860801696777344,
          24.113162994384766,
          5.696734428405762,
          -34.444583892822266
         ],
         "yaxis": "y"
        },
        {
         "customdata": [
          [
           "angry"
          ],
          [
           "angry"
          ],
          [
           "angry"
          ],
          [
           "angry"
          ],
          [
           "angry"
          ],
          [
           "angry"
          ],
          [
           "angry"
          ],
          [
           "angry"
          ],
          [
           "angry"
          ],
          [
           "angry"
          ],
          [
           "angry"
          ],
          [
           "angry"
          ],
          [
           "angry"
          ],
          [
           "angry"
          ],
          [
           "angry"
          ],
          [
           "angry"
          ],
          [
           "angry"
          ],
          [
           "angry"
          ],
          [
           "angry"
          ],
          [
           "angry"
          ],
          [
           "angry"
          ],
          [
           "angry"
          ],
          [
           "angry"
          ],
          [
           "angry"
          ],
          [
           "angry"
          ],
          [
           "angry"
          ],
          [
           "angry"
          ],
          [
           "angry"
          ],
          [
           "angry"
          ],
          [
           "angry"
          ],
          [
           "angry"
          ]
         ],
         "hovertemplate": "Predictions=angry<br>Correct=True<br>x=%{x}<br>y=%{y}<br>Label=%{customdata[0]}<extra></extra>",
         "legendgroup": "angry, True",
         "marker": {
          "color": "#636EFA",
          "symbol": "circle"
         },
         "mode": "markers",
         "name": "angry, True",
         "showlegend": true,
         "type": "scattergl",
         "x": [
          -16.029699325561523,
          34.129722595214844,
          34.63303756713867,
          -43.48625183105469,
          -7.054405212402344,
          -40.31382751464844,
          -39.09308624267578,
          -39.54033279418945,
          16.688196182250977,
          10.73619556427002,
          13.635284423828125,
          -8.530594825744629,
          -24.444290161132812,
          -13.46400260925293,
          -12.391029357910156,
          -2.9256532192230225,
          -15.725768089294434,
          -14.321993827819824,
          -17.560962677001953,
          36.174232482910156,
          -3.2227373123168945,
          -37.656585693359375,
          15.070780754089355,
          27.20876693725586,
          28.05190086364746,
          28.648059844970703,
          27.338380813598633,
          -0.878512978553772,
          22.915485382080078,
          23.192832946777344,
          22.749101638793945
         ],
         "xaxis": "x",
         "y": [
          -36.04819107055664,
          -17.59372329711914,
          -17.653104782104492,
          16.39007568359375,
          -47.465576171875,
          12.485068321228027,
          11.548460960388184,
          13.172564506530762,
          32.889442443847656,
          42.324859619140625,
          38.229183197021484,
          -2.5583481788635254,
          9.760819435119629,
          6.300059795379639,
          -42.01194763183594,
          2.3983523845672607,
          -42.999267578125,
          9.970511436462402,
          -0.6575087308883667,
          -16.536823272705078,
          -49.98432540893555,
          19.716278076171875,
          41.663291931152344,
          20.888883590698242,
          23.143543243408203,
          -9.157988548278809,
          -9.790775299072266,
          3.501088857650757,
          42.4140510559082,
          43.45390319824219,
          44.11992645263672
         ],
         "yaxis": "y"
        },
        {
         "customdata": [
          [
           "happy"
          ],
          [
           "surprised"
          ],
          [
           "sad"
          ],
          [
           "neutral"
          ],
          [
           "surprised"
          ],
          [
           "sad"
          ],
          [
           "sad"
          ],
          [
           "happy"
          ],
          [
           "sad"
          ],
          [
           "sad"
          ],
          [
           "sad"
          ],
          [
           "sad"
          ],
          [
           "surprised"
          ],
          [
           "happy"
          ],
          [
           "disgusted"
          ],
          [
           "sad"
          ],
          [
           "disgusted"
          ],
          [
           "neutral"
          ],
          [
           "disgusted"
          ],
          [
           "happy"
          ],
          [
           "disgusted"
          ],
          [
           "sad"
          ],
          [
           "sad"
          ],
          [
           "sad"
          ],
          [
           "happy"
          ]
         ],
         "hovertemplate": "Predictions=angry<br>Correct=False<br>x=%{x}<br>y=%{y}<br>Label=%{customdata[0]}<extra></extra>",
         "legendgroup": "angry, False",
         "marker": {
          "color": "#636EFA",
          "symbol": "x"
         },
         "mode": "markers",
         "name": "angry, False",
         "showlegend": true,
         "type": "scattergl",
         "x": [
          -27.39911651611328,
          -26.605297088623047,
          -39.3524284362793,
          13.395828247070312,
          31.431543350219727,
          -14.158856391906738,
          29.386512756347656,
          -39.73685073852539,
          -13.008674621582031,
          24.76508903503418,
          -12.857624053955078,
          -19.063173294067383,
          -18.457813262939453,
          -3.0609841346740723,
          -1.393636703491211,
          -2.1029837131500244,
          15.46220588684082,
          26.928098678588867,
          -22.52216148376465,
          25.93573570251465,
          -18.218399047851562,
          35.84831619262695,
          21.217626571655273,
          24.305557250976562,
          22.25467300415039
         ],
         "xaxis": "x",
         "y": [
          4.394617080688477,
          3.129204034805298,
          11.9982328414917,
          39.655887603759766,
          -3.96148943901062,
          -36.487579345703125,
          -8.499268531799316,
          -19.6688289642334,
          7.82078218460083,
          -27.094505310058594,
          -42.85374069213867,
          0.5902104377746582,
          0.06346834450960159,
          -50.9888801574707,
          -50.50077438354492,
          -51.646427154541016,
          41.11888885498047,
          25.52338218688965,
          7.506184101104736,
          31.90155792236328,
          4.343341827392578,
          -1.9931159019470215,
          42.210208892822266,
          42.04307556152344,
          43.28887176513672
         ],
         "yaxis": "y"
        },
        {
         "customdata": [
          [
           "neutral"
          ],
          [
           "neutral"
          ],
          [
           "neutral"
          ],
          [
           "neutral"
          ],
          [
           "neutral"
          ],
          [
           "neutral"
          ],
          [
           "neutral"
          ],
          [
           "neutral"
          ],
          [
           "neutral"
          ],
          [
           "neutral"
          ],
          [
           "neutral"
          ],
          [
           "neutral"
          ],
          [
           "neutral"
          ],
          [
           "neutral"
          ],
          [
           "neutral"
          ],
          [
           "neutral"
          ],
          [
           "neutral"
          ],
          [
           "neutral"
          ],
          [
           "neutral"
          ],
          [
           "neutral"
          ],
          [
           "neutral"
          ],
          [
           "neutral"
          ],
          [
           "neutral"
          ],
          [
           "neutral"
          ],
          [
           "neutral"
          ],
          [
           "neutral"
          ],
          [
           "neutral"
          ],
          [
           "neutral"
          ],
          [
           "neutral"
          ],
          [
           "neutral"
          ],
          [
           "neutral"
          ],
          [
           "neutral"
          ],
          [
           "neutral"
          ],
          [
           "neutral"
          ]
         ],
         "hovertemplate": "Predictions=neutral<br>Correct=True<br>x=%{x}<br>y=%{y}<br>Label=%{customdata[0]}<extra></extra>",
         "legendgroup": "neutral, True",
         "marker": {
          "color": "#AB63FA",
          "symbol": "circle"
         },
         "mode": "markers",
         "name": "neutral, True",
         "showlegend": true,
         "type": "scattergl",
         "x": [
          33.996150970458984,
          -43.72062301635742,
          -43.748985290527344,
          -42.585655212402344,
          -38.77237319946289,
          -38.64978790283203,
          17.764663696289062,
          13.6104736328125,
          -23.48662757873535,
          -22.22153091430664,
          -41.16389846801758,
          -18.356332778930664,
          -12.169379234313965,
          -16.465341567993164,
          -20.06650161743164,
          -28.789779663085938,
          11.145788192749023,
          -12.635600090026855,
          19.09981346130371,
          20.817594528198242,
          -37.833187103271484,
          -37.30929946899414,
          -1.5009418725967407,
          18.7305850982666,
          19.89495277404785,
          14.271474838256836,
          27.456594467163086,
          27.087369918823242,
          16.753253936767578,
          26.261842727661133,
          -16.287967681884766,
          -11.503993034362793,
          -10.396193504333496,
          -5.13170051574707
         ],
         "xaxis": "x",
         "y": [
          -17.30267333984375,
          15.808172225952148,
          16.496177673339844,
          14.122089385986328,
          12.199338912963867,
          11.546534538269043,
          33.522705078125,
          38.32844543457031,
          10.551862716674805,
          4.252117156982422,
          -21.874332427978516,
          10.145968437194824,
          -35.038177490234375,
          -34.19129943847656,
          -36.8842887878418,
          19.503395080566406,
          32.21302795410156,
          -40.076622009277344,
          27.13822364807129,
          27.453067779541016,
          19.371685028076172,
          19.838735580444336,
          -49.173152923583984,
          33.6029167175293,
          36.35329818725586,
          42.033138275146484,
          20.99356460571289,
          23.050016403198242,
          37.56482696533203,
          -14.309172630310059,
          1.6965912580490112,
          -38.93822479248047,
          6.5800580978393555,
          0.518944263458252
         ],
         "yaxis": "y"
        },
        {
         "customdata": [
          [
           "angry"
          ],
          [
           "happy"
          ],
          [
           "happy"
          ],
          [
           "happy"
          ],
          [
           "surprised"
          ],
          [
           "surprised"
          ],
          [
           "disgusted"
          ],
          [
           "happy"
          ],
          [
           "surprised"
          ],
          [
           "surprised"
          ],
          [
           "surprised"
          ],
          [
           "surprised"
          ],
          [
           "angry"
          ]
         ],
         "hovertemplate": "Predictions=neutral<br>Correct=False<br>x=%{x}<br>y=%{y}<br>Label=%{customdata[0]}<extra></extra>",
         "legendgroup": "neutral, False",
         "marker": {
          "color": "#AB63FA",
          "symbol": "x"
         },
         "mode": "markers",
         "name": "neutral, False",
         "showlegend": true,
         "type": "scattergl",
         "x": [
          -41.330318450927734,
          -25.87444496154785,
          -16.678333282470703,
          -4.981361389160156,
          -10.635002136230469,
          -19.238588333129883,
          -1.3789411783218384,
          20.321800231933594,
          19.999731063842773,
          15.564616203308105,
          29.494369506835938,
          -21.341596603393555,
          23.33856964111328
         ],
         "xaxis": "x",
         "y": [
          13.2625732421875,
          15.047268867492676,
          8.865732192993164,
          -29.549083709716797,
          -44.840965270996094,
          -0.377390593290329,
          -47.97739791870117,
          37.165306091308594,
          43.21847915649414,
          41.17185592651367,
          20.19688606262207,
          10.108052253723145,
          42.79749298095703
         ],
         "yaxis": "y"
        },
        {
         "customdata": [
          [
           "surprised"
          ],
          [
           "surprised"
          ],
          [
           "surprised"
          ],
          [
           "surprised"
          ],
          [
           "angry"
          ],
          [
           "surprised"
          ],
          [
           "surprised"
          ],
          [
           "happy"
          ],
          [
           "surprised"
          ],
          [
           "surprised"
          ],
          [
           "sad"
          ],
          [
           "surprised"
          ],
          [
           "surprised"
          ],
          [
           "surprised"
          ],
          [
           "angry"
          ],
          [
           "surprised"
          ],
          [
           "surprised"
          ],
          [
           "surprised"
          ],
          [
           "surprised"
          ],
          [
           "surprised"
          ],
          [
           "surprised"
          ],
          [
           "surprised"
          ],
          [
           "surprised"
          ],
          [
           "surprised"
          ],
          [
           "surprised"
          ],
          [
           "surprised"
          ],
          [
           "surprised"
          ],
          [
           "neutral"
          ],
          [
           "angry"
          ],
          [
           "surprised"
          ],
          [
           "surprised"
          ],
          [
           "neutral"
          ],
          [
           "surprised"
          ],
          [
           "surprised"
          ],
          [
           "surprised"
          ],
          [
           "surprised"
          ],
          [
           "surprised"
          ],
          [
           "surprised"
          ],
          [
           "surprised"
          ],
          [
           "surprised"
          ],
          [
           "surprised"
          ],
          [
           "neutral"
          ],
          [
           "neutral"
          ],
          [
           "happy"
          ],
          [
           "surprised"
          ],
          [
           "surprised"
          ],
          [
           "neutral"
          ],
          [
           "surprised"
          ],
          [
           "surprised"
          ],
          [
           "neutral"
          ],
          [
           "surprised"
          ],
          [
           "surprised"
          ],
          [
           "surprised"
          ],
          [
           "surprised"
          ],
          [
           "surprised"
          ],
          [
           "happy"
          ]
         ],
         "hovertemplate": "Label=surprised<br>x=%{x}<br>y=%{y}<br>Predictions=%{customdata[0]}<extra></extra>",
         "legendgroup": "surprised",
         "marker": {
          "color": "#19D3F3",
          "opacity": 0.2,
          "size": 12,
          "symbol": "circle"
         },
         "mode": "markers",
         "name": "surprised",
         "showlegend": false,
         "type": "scattergl",
         "x": [
          -11.725500106811523,
          -13.533727645874023,
          -26.54584312438965,
          -26.9787654876709,
          -26.605297088623047,
          -27.105703353881836,
          34.876338958740234,
          34.69827651977539,
          20.56986427307129,
          -7.956020832061768,
          -39.10917282104492,
          28.18902015686035,
          27.955245971679688,
          27.53016471862793,
          31.431543350219727,
          35.64750671386719,
          -11.00885009765625,
          -13.179807662963867,
          -14.36856746673584,
          -11.874167442321777,
          19.843425750732422,
          -12.351123809814453,
          -3.712498188018799,
          -29.575143814086914,
          -29.589771270751953,
          -29.22947120666504,
          24.488710403442383,
          -10.635002136230469,
          -18.457813262939453,
          34.42399215698242,
          -18.732633590698242,
          -19.238588333129883,
          33.40890121459961,
          20.94757652282715,
          -2.9799160957336426,
          -0.49065589904785156,
          -37.515438079833984,
          -2.20167875289917,
          -3.343123197555542,
          -1.5783360004425049,
          18.598045349121094,
          19.999731063842773,
          15.564616203308105,
          14.34352970123291,
          28.89368438720703,
          26.05025863647461,
          29.494369506835938,
          -11.176942825317383,
          -40.4260368347168,
          -21.341596603393555,
          -40.828773498535156,
          -39.74783706665039,
          -2.9180190563201904,
          -5.076242923736572,
          24.733203887939453,
          22.610260009765625
         ],
         "xaxis": "x",
         "y": [
          11.723140716552734,
          -42.27842712402344,
          3.7338056564331055,
          4.294079303741455,
          3.129204034805298,
          3.777310609817505,
          -17.72536277770996,
          -16.924644470214844,
          -14.801640510559082,
          -47.439239501953125,
          13.357952117919922,
          -26.321956634521484,
          -26.98733139038086,
          -26.44352912902832,
          -3.96148943901062,
          -18.5686092376709,
          -34.62105178833008,
          -35.735836029052734,
          -34.91883850097656,
          -32.69963455200195,
          24.514320373535156,
          -41.958030700683594,
          0.7558667659759521,
          19.541288375854492,
          19.203386306762695,
          19.082786560058594,
          -27.127668380737305,
          -44.840965270996094,
          0.06346834450960159,
          -12.12365436553955,
          -0.6025807857513428,
          -0.377390593290329,
          -13.522680282592773,
          27.603965759277344,
          -51.019779205322266,
          -49.479652404785156,
          19.696571350097656,
          -48.99983596801758,
          -49.57712173461914,
          -47.5860710144043,
          33.52159881591797,
          43.21847915649414,
          41.17185592651367,
          41.4537353515625,
          22.648225784301758,
          22.948991775512695,
          20.19688606262207,
          -35.97902297973633,
          -21.7990665435791,
          10.108052253723145,
          -19.876522064208984,
          -20.244279861450195,
          0.7006110548973083,
          0.540727972984314,
          42.649620056152344,
          41.452552795410156
         ],
         "yaxis": "y"
        },
        {
         "customdata": [
          [
           "happy"
          ],
          [
           "disgusted"
          ],
          [
           "disgusted"
          ],
          [
           "disgusted"
          ],
          [
           "disgusted"
          ],
          [
           "disgusted"
          ],
          [
           "disgusted"
          ],
          [
           "disgusted"
          ],
          [
           "happy"
          ],
          [
           "disgusted"
          ],
          [
           "disgusted"
          ],
          [
           "disgusted"
          ],
          [
           "disgusted"
          ],
          [
           "disgusted"
          ],
          [
           "disgusted"
          ],
          [
           "disgusted"
          ],
          [
           "disgusted"
          ],
          [
           "disgusted"
          ],
          [
           "disgusted"
          ],
          [
           "disgusted"
          ],
          [
           "disgusted"
          ],
          [
           "disgusted"
          ],
          [
           "disgusted"
          ],
          [
           "disgusted"
          ],
          [
           "disgusted"
          ],
          [
           "disgusted"
          ],
          [
           "angry"
          ],
          [
           "sad"
          ],
          [
           "disgusted"
          ],
          [
           "neutral"
          ],
          [
           "disgusted"
          ],
          [
           "disgusted"
          ],
          [
           "happy"
          ],
          [
           "angry"
          ],
          [
           "disgusted"
          ],
          [
           "disgusted"
          ],
          [
           "disgusted"
          ],
          [
           "disgusted"
          ],
          [
           "disgusted"
          ],
          [
           "disgusted"
          ],
          [
           "disgusted"
          ],
          [
           "angry"
          ],
          [
           "disgusted"
          ],
          [
           "angry"
          ],
          [
           "disgusted"
          ],
          [
           "disgusted"
          ],
          [
           "disgusted"
          ],
          [
           "disgusted"
          ],
          [
           "disgusted"
          ],
          [
           "disgusted"
          ],
          [
           "disgusted"
          ],
          [
           "disgusted"
          ],
          [
           "disgusted"
          ],
          [
           "disgusted"
          ]
         ],
         "hovertemplate": "Label=disgusted<br>x=%{x}<br>y=%{y}<br>Predictions=%{customdata[0]}<extra></extra>",
         "legendgroup": "disgusted",
         "marker": {
          "color": "#EF553B",
          "opacity": 0.2,
          "size": 12,
          "symbol": "circle"
         },
         "mode": "markers",
         "name": "disgusted",
         "showlegend": false,
         "type": "scattergl",
         "x": [
          -12.336583137512207,
          -40.42703628540039,
          -16.803022384643555,
          34.768436431884766,
          35.026084899902344,
          22.861284255981445,
          -39.20261764526367,
          -41.893348693847656,
          -43.02274703979492,
          27.862638473510742,
          14.216453552246094,
          13.2725830078125,
          30.532346725463867,
          30.50922966003418,
          -21.081951141357422,
          -20.59623146057129,
          -11.156904220581055,
          -12.160935401916504,
          -12.302993774414062,
          -9.791045188903809,
          -29.2993106842041,
          25.03351593017578,
          25.25151252746582,
          24.8320369720459,
          -14.146044731140137,
          33.36556625366211,
          -1.393636703491211,
          -2.2869584560394287,
          -1.521343469619751,
          -1.3789411783218384,
          19.867246627807617,
          20.3701229095459,
          15.603727340698242,
          15.46220588684082,
          13.679896354675293,
          30.5531063079834,
          26.914424896240234,
          29.16300392150879,
          27.682531356811523,
          28.06402587890625,
          30.405031204223633,
          -22.52216148376465,
          -12.094525337219238,
          -18.218399047851562,
          -11.546581268310547,
          24.133625030517578,
          29.59817886352539,
          -10.686470031738281,
          -1.6519197225570679,
          24.096498489379883,
          24.30548858642578,
          22.65831184387207,
          23.418672561645508,
          28.683666229248047
         ],
         "xaxis": "x",
         "y": [
          6.513999938964844,
          -22.964868545532227,
          -44.21087646484375,
          -17.316640853881836,
          -16.862483978271484,
          30.022077560424805,
          11.834027290344238,
          16.295738220214844,
          14.59908676147461,
          -26.054458618164062,
          37.54801940917969,
          40.1246223449707,
          -5.06476354598999,
          -5.0788984298706055,
          12.531390190124512,
          9.697164535522461,
          -34.03947830200195,
          -41.63948059082031,
          -41.63542938232422,
          -41.928916931152344,
          19.90862464904785,
          -27.042884826660156,
          -27.847030639648438,
          -27.610553741455078,
          4.492546081542969,
          -12.795058250427246,
          -50.50077438354492,
          -47.860801696777344,
          -48.23388671875,
          -47.97739791870117,
          36.595558166503906,
          37.23102569580078,
          41.12664794921875,
          41.11888885498047,
          41.53892517089844,
          20.65007209777832,
          24.876333236694336,
          20.790996551513672,
          20.385019302368164,
          20.889455795288086,
          19.851959228515625,
          7.506184101104736,
          9.110600471496582,
          4.343341827392578,
          6.875887393951416,
          27.017976760864258,
          -8.573556900024414,
          6.489996433258057,
          1.2049258947372437,
          43.87137222290039,
          42.04304504394531,
          43.30411148071289,
          43.26651382446289,
          -13.176050186157227
         ],
         "yaxis": "y"
        },
        {
         "customdata": [
          [
           "happy"
          ],
          [
           "happy"
          ],
          [
           "angry"
          ],
          [
           "happy"
          ],
          [
           "happy"
          ],
          [
           "happy"
          ],
          [
           "happy"
          ],
          [
           "happy"
          ],
          [
           "happy"
          ],
          [
           "happy"
          ],
          [
           "happy"
          ],
          [
           "happy"
          ],
          [
           "neutral"
          ],
          [
           "happy"
          ],
          [
           "disgusted"
          ],
          [
           "happy"
          ],
          [
           "happy"
          ],
          [
           "happy"
          ],
          [
           "happy"
          ],
          [
           "happy"
          ],
          [
           "happy"
          ],
          [
           "happy"
          ],
          [
           "surprised"
          ],
          [
           "angry"
          ],
          [
           "happy"
          ],
          [
           "neutral"
          ],
          [
           "neutral"
          ],
          [
           "happy"
          ],
          [
           "happy"
          ],
          [
           "happy"
          ],
          [
           "disgusted"
          ],
          [
           "happy"
          ],
          [
           "happy"
          ],
          [
           "disgusted"
          ],
          [
           "happy"
          ],
          [
           "happy"
          ],
          [
           "happy"
          ],
          [
           "happy"
          ],
          [
           "happy"
          ],
          [
           "angry"
          ],
          [
           "happy"
          ],
          [
           "happy"
          ],
          [
           "happy"
          ],
          [
           "happy"
          ],
          [
           "happy"
          ],
          [
           "happy"
          ],
          [
           "happy"
          ],
          [
           "happy"
          ],
          [
           "neutral"
          ],
          [
           "happy"
          ],
          [
           "happy"
          ],
          [
           "happy"
          ],
          [
           "happy"
          ],
          [
           "happy"
          ],
          [
           "angry"
          ],
          [
           "happy"
          ],
          [
           "happy"
          ],
          [
           "happy"
          ],
          [
           "happy"
          ],
          [
           "happy"
          ],
          [
           "surprised"
          ],
          [
           "happy"
          ],
          [
           "happy"
          ],
          [
           "happy"
          ],
          [
           "happy"
          ],
          [
           "happy"
          ],
          [
           "angry"
          ],
          [
           "happy"
          ]
         ],
         "hovertemplate": "Label=happy<br>x=%{x}<br>y=%{y}<br>Predictions=%{customdata[0]}<extra></extra>",
         "legendgroup": "happy",
         "marker": {
          "color": "#00CC96",
          "opacity": 0.2,
          "size": 12,
          "symbol": "circle"
         },
         "mode": "markers",
         "name": "happy",
         "showlegend": false,
         "type": "scattergl",
         "x": [
          -14.765125274658203,
          -12.686431884765625,
          -27.39911651611328,
          34.82197189331055,
          -27.82823371887207,
          -43.32770919799805,
          -40.13063049316406,
          -43.730106353759766,
          -41.57694625854492,
          -42.977813720703125,
          -40.50055694580078,
          -39.677799224853516,
          -25.87444496154785,
          28.06441307067871,
          13.37726879119873,
          -12.183632850646973,
          -12.192888259887695,
          33.04597854614258,
          -12.594975471496582,
          -19.891515731811523,
          -16.136974334716797,
          -16.093982696533203,
          30.602863311767578,
          -39.73685073852539,
          32.08506774902344,
          -16.678333282470703,
          -4.981361389160156,
          -3.7894294261932373,
          -20.46196174621582,
          -29.634788513183594,
          25.270627975463867,
          24.562026977539062,
          -12.797628402709961,
          -17.031051635742188,
          -14.65580940246582,
          -18.78435516357422,
          33.641971588134766,
          18.931209564208984,
          20.313018798828125,
          -3.0609841346740723,
          -2.233682870864868,
          -2.256772041320801,
          -2.470273733139038,
          -3.1404287815093994,
          -3.2037370204925537,
          -1.9958891868591309,
          19.918474197387695,
          17.521032333374023,
          20.321800231933594,
          14.752206802368164,
          26.355716705322266,
          26.816471099853516,
          29.187231063842773,
          29.721155166625977,
          25.93573570251465,
          23.065200805664062,
          -8.881786346435547,
          -12.76051139831543,
          25.45203971862793,
          -2.35332989692688,
          35.749298095703125,
          22.78404998779297,
          22.730974197387695,
          23.390640258789062,
          23.323339462280273,
          22.255088806152344,
          22.25467300415039,
          22.556598663330078
         ],
         "xaxis": "x",
         "y": [
          -42.24330139160156,
          -37.01607894897461,
          4.394617080688477,
          -17.210430145263672,
          2.927506446838379,
          16.052072525024414,
          11.665462493896484,
          15.114078521728516,
          16.094106674194336,
          14.181212425231934,
          12.82445240020752,
          12.915325164794922,
          15.047268867492676,
          -26.622682571411133,
          39.80457305908203,
          -0.9800812602043152,
          -0.9801750779151917,
          -19.234840393066406,
          -35.046207427978516,
          5.84687614440918,
          -33.83302307128906,
          -33.47542190551758,
          -8.946255683898926,
          -19.6688289642334,
          -3.590977668762207,
          8.865732192993164,
          -29.549083709716797,
          -27.947660446166992,
          -36.77698516845703,
          19.789875030517578,
          -27.645124435424805,
          -27.521846771240234,
          8.581527709960938,
          -40.56093978881836,
          -41.74968338012695,
          0.09714814275503159,
          -12.515691757202148,
          27.142574310302734,
          26.958740234375,
          -50.9888801574707,
          -48.111671447753906,
          -48.32467269897461,
          -48.92933654785156,
          -49.89720916748047,
          -49.583396911621094,
          -47.589412689208984,
          35.13416290283203,
          32.30202865600586,
          37.165306091308594,
          41.36164855957031,
          24.47357940673828,
          22.843189239501953,
          20.488079071044922,
          20.704959869384766,
          31.90155792236328,
          35.258079528808594,
          -36.94932174682617,
          3.691744804382324,
          27.10072898864746,
          1.4722275733947754,
          -1.9505934715270996,
          42.66974639892578,
          41.72629165649414,
          44.074344635009766,
          43.81692123413086,
          43.28907775878906,
          43.28887176513672,
          43.802207946777344
         ],
         "yaxis": "y"
        },
        {
         "customdata": [
          [
           "happy"
          ],
          [
           "happy"
          ],
          [
           "sad"
          ],
          [
           "happy"
          ],
          [
           "sad"
          ],
          [
           "sad"
          ],
          [
           "sad"
          ],
          [
           "sad"
          ],
          [
           "happy"
          ],
          [
           "disgusted"
          ],
          [
           "angry"
          ],
          [
           "sad"
          ],
          [
           "sad"
          ],
          [
           "angry"
          ],
          [
           "sad"
          ],
          [
           "sad"
          ],
          [
           "angry"
          ],
          [
           "sad"
          ],
          [
           "sad"
          ],
          [
           "angry"
          ],
          [
           "sad"
          ],
          [
           "sad"
          ],
          [
           "sad"
          ],
          [
           "sad"
          ],
          [
           "sad"
          ],
          [
           "sad"
          ],
          [
           "angry"
          ],
          [
           "angry"
          ],
          [
           "angry"
          ],
          [
           "sad"
          ],
          [
           "disgusted"
          ],
          [
           "disgusted"
          ],
          [
           "happy"
          ],
          [
           "angry"
          ],
          [
           "sad"
          ],
          [
           "disgusted"
          ],
          [
           "disgusted"
          ],
          [
           "sad"
          ],
          [
           "sad"
          ],
          [
           "sad"
          ],
          [
           "sad"
          ],
          [
           "disgusted"
          ],
          [
           "sad"
          ],
          [
           "sad"
          ],
          [
           "sad"
          ],
          [
           "sad"
          ],
          [
           "sad"
          ],
          [
           "sad"
          ],
          [
           "sad"
          ],
          [
           "sad"
          ],
          [
           "sad"
          ],
          [
           "angry"
          ],
          [
           "angry"
          ],
          [
           "angry"
          ]
         ],
         "hovertemplate": "Label=sad<br>x=%{x}<br>y=%{y}<br>Predictions=%{customdata[0]}<extra></extra>",
         "legendgroup": "sad",
         "marker": {
          "color": "#FFA15A",
          "opacity": 0.2,
          "size": 12,
          "symbol": "circle"
         },
         "mode": "markers",
         "name": "sad",
         "showlegend": false,
         "type": "scattergl",
         "x": [
          -15.239240646362305,
          -14.147061347961426,
          22.94577980041504,
          -27.01239776611328,
          -27.189434051513672,
          -27.794021606445312,
          -41.78894805908203,
          -40.66866683959961,
          -42.48318862915039,
          -42.41917037963867,
          -39.3524284362793,
          28.033334732055664,
          33.048099517822266,
          -14.158856391906738,
          -10.989398956298828,
          31.550914764404297,
          29.386512756347656,
          -10.659279823303223,
          -9.956546783447266,
          -13.008674621582031,
          -21.01313591003418,
          -29.097497940063477,
          -29.107624053955078,
          -28.724376678466797,
          25.321491241455078,
          -28.67148780822754,
          24.76508903503418,
          -12.857624053955078,
          -19.063173294067383,
          34.57292938232422,
          33.06155776977539,
          -17.59597396850586,
          -1.0487034320831299,
          -2.1029837131500244,
          23.9741268157959,
          -38.13728713989258,
          -1.4344154596328735,
          17.51839828491211,
          14.241744995117188,
          25.271650314331055,
          26.46108627319336,
          26.660999298095703,
          28.861663818359375,
          30.508991241455078,
          28.812999725341797,
          18.899925231933594,
          -8.029606819152832,
          -12.73385238647461,
          -40.061248779296875,
          -39.311161041259766,
          19.693138122558594,
          35.84831619262695,
          21.217626571655273,
          24.305557250976562
         ],
         "xaxis": "x",
         "y": [
          -42.23183822631836,
          6.338018894195557,
          30.111722946166992,
          3.156100034713745,
          3.7569873332977295,
          2.7867040634155273,
          15.77741527557373,
          13.129758834838867,
          15.219549179077148,
          14.168048858642578,
          11.9982328414917,
          -26.036151885986328,
          -20.007150650024414,
          -36.487579345703125,
          -34.65713119506836,
          -8.996831893920898,
          -8.499268531799316,
          7.209721565246582,
          -41.924442291259766,
          7.82078218460083,
          -36.90681457519531,
          19.170286178588867,
          19.912044525146484,
          19.391767501831055,
          -27.524885177612305,
          20.016448974609375,
          -27.094505310058594,
          -42.85374069213867,
          0.5902104377746582,
          -12.001947402954102,
          -13.05142593383789,
          -0.684058427810669,
          -49.51292037963867,
          -51.646427154541016,
          28.337867736816406,
          19.48723030090332,
          -48.418174743652344,
          32.28477096557617,
          42.06755065917969,
          23.390451431274414,
          23.331937789916992,
          23.735931396484375,
          21.560474395751953,
          20.908071517944336,
          21.531068801879883,
          28.681997299194336,
          -36.99026107788086,
          3.6108601093292236,
          -19.235919952392578,
          -19.67784309387207,
          24.88661003112793,
          -1.9931159019470215,
          42.210208892822266,
          42.04307556152344
         ],
         "yaxis": "y"
        },
        {
         "customdata": [
          [
           "sad"
          ],
          [
           "angry"
          ],
          [
           "angry"
          ],
          [
           "angry"
          ],
          [
           "disgusted"
          ],
          [
           "neutral"
          ],
          [
           "angry"
          ],
          [
           "angry"
          ],
          [
           "angry"
          ],
          [
           "angry"
          ],
          [
           "angry"
          ],
          [
           "sad"
          ],
          [
           "angry"
          ],
          [
           "happy"
          ],
          [
           "angry"
          ],
          [
           "angry"
          ],
          [
           "angry"
          ],
          [
           "surprised"
          ],
          [
           "happy"
          ],
          [
           "angry"
          ],
          [
           "surprised"
          ],
          [
           "angry"
          ],
          [
           "angry"
          ],
          [
           "angry"
          ],
          [
           "angry"
          ],
          [
           "disgusted"
          ],
          [
           "angry"
          ],
          [
           "disgusted"
          ],
          [
           "disgusted"
          ],
          [
           "angry"
          ],
          [
           "disgusted"
          ],
          [
           "angry"
          ],
          [
           "angry"
          ],
          [
           "angry"
          ],
          [
           "angry"
          ],
          [
           "angry"
          ],
          [
           "angry"
          ],
          [
           "disgusted"
          ],
          [
           "sad"
          ],
          [
           "angry"
          ],
          [
           "angry"
          ],
          [
           "angry"
          ],
          [
           "angry"
          ],
          [
           "neutral"
          ],
          [
           "angry"
          ],
          [
           "angry"
          ]
         ],
         "hovertemplate": "Label=angry<br>x=%{x}<br>y=%{y}<br>Predictions=%{customdata[0]}<extra></extra>",
         "legendgroup": "angry",
         "marker": {
          "color": "#636EFA",
          "opacity": 0.2,
          "size": 12,
          "symbol": "circle"
         },
         "mode": "markers",
         "name": "angry",
         "showlegend": false,
         "type": "scattergl",
         "x": [
          -40.347862243652344,
          -16.029699325561523,
          34.129722595214844,
          34.63303756713867,
          35.384849548339844,
          -41.330318450927734,
          -43.48625183105469,
          -7.054405212402344,
          -40.31382751464844,
          -39.09308624267578,
          -39.54033279418945,
          27.55339813232422,
          16.688196182250977,
          10.542195320129395,
          10.73619556427002,
          13.635284423828125,
          -8.530594825744629,
          29.203916549682617,
          2.5232677459716797,
          -24.444290161132812,
          -9.232643127441406,
          -13.46400260925293,
          -12.391029357910156,
          -2.9256532192230225,
          -15.725768089294434,
          11.131056785583496,
          -14.321993827819824,
          -16.595048904418945,
          -19.173377990722656,
          -17.560962677001953,
          -1.8204880952835083,
          36.174232482910156,
          -3.2227373123168945,
          -37.656585693359375,
          15.070780754089355,
          27.20876693725586,
          28.05190086364746,
          27.104196548461914,
          -15.713203430175781,
          28.648059844970703,
          27.338380813598633,
          -0.878512978553772,
          22.915485382080078,
          23.33856964111328,
          23.192832946777344,
          22.749101638793945
         ],
         "xaxis": "x",
         "y": [
          -23.071306228637695,
          -36.04819107055664,
          -17.59372329711914,
          -17.653104782104492,
          -17.3432674407959,
          13.2625732421875,
          16.39007568359375,
          -47.465576171875,
          12.485068321228027,
          11.548460960388184,
          13.172564506530762,
          -26.009302139282227,
          32.889442443847656,
          41.92347717285156,
          42.324859619140625,
          38.229183197021484,
          -2.5583481788635254,
          -9.070046424865723,
          30.09262466430664,
          9.760819435119629,
          -41.04818344116211,
          6.300059795379639,
          -42.01194763183594,
          2.3983523845672607,
          -42.999267578125,
          32.20399475097656,
          9.970511436462402,
          -42.211238861083984,
          1.5974539518356323,
          -0.6575087308883667,
          -49.85844039916992,
          -16.536823272705078,
          -49.98432540893555,
          19.716278076171875,
          41.663291931152344,
          20.888883590698242,
          23.143543243408203,
          23.21303939819336,
          -34.444583892822266,
          -9.157988548278809,
          -9.790775299072266,
          3.501088857650757,
          42.4140510559082,
          42.79749298095703,
          43.45390319824219,
          44.11992645263672
         ],
         "yaxis": "y"
        },
        {
         "customdata": [
          [
           "neutral"
          ],
          [
           "neutral"
          ],
          [
           "neutral"
          ],
          [
           "neutral"
          ],
          [
           "neutral"
          ],
          [
           "surprised"
          ],
          [
           "neutral"
          ],
          [
           "neutral"
          ],
          [
           "angry"
          ],
          [
           "surprised"
          ],
          [
           "neutral"
          ],
          [
           "neutral"
          ],
          [
           "neutral"
          ],
          [
           "neutral"
          ],
          [
           "neutral"
          ],
          [
           "neutral"
          ],
          [
           "neutral"
          ],
          [
           "neutral"
          ],
          [
           "neutral"
          ],
          [
           "neutral"
          ],
          [
           "neutral"
          ],
          [
           "sad"
          ],
          [
           "neutral"
          ],
          [
           "neutral"
          ],
          [
           "happy"
          ],
          [
           "neutral"
          ],
          [
           "neutral"
          ],
          [
           "neutral"
          ],
          [
           "neutral"
          ],
          [
           "neutral"
          ],
          [
           "neutral"
          ],
          [
           "angry"
          ],
          [
           "sad"
          ],
          [
           "happy"
          ],
          [
           "disgusted"
          ],
          [
           "neutral"
          ],
          [
           "neutral"
          ],
          [
           "surprised"
          ],
          [
           "neutral"
          ],
          [
           "neutral"
          ],
          [
           "sad"
          ],
          [
           "neutral"
          ],
          [
           "neutral"
          ],
          [
           "neutral"
          ],
          [
           "surprised"
          ],
          [
           "neutral"
          ],
          [
           "happy"
          ]
         ],
         "hovertemplate": "Label=neutral<br>x=%{x}<br>y=%{y}<br>Predictions=%{customdata[0]}<extra></extra>",
         "legendgroup": "neutral",
         "marker": {
          "color": "#AB63FA",
          "opacity": 0.2,
          "size": 12,
          "symbol": "circle"
         },
         "mode": "markers",
         "name": "neutral",
         "showlegend": false,
         "type": "scattergl",
         "x": [
          33.996150970458984,
          -43.72062301635742,
          -43.748985290527344,
          -42.585655212402344,
          -38.77237319946289,
          -39.15742492675781,
          -38.64978790283203,
          17.764663696289062,
          13.395828247070312,
          13.871421813964844,
          13.6104736328125,
          -23.48662757873535,
          -22.22153091430664,
          -41.16389846801758,
          -18.356332778930664,
          -12.169379234313965,
          -16.465341567993164,
          -20.06650161743164,
          -28.789779663085938,
          11.145788192749023,
          -12.635600090026855,
          -17.725847244262695,
          19.09981346130371,
          20.817594528198242,
          -2.260435104370117,
          -37.833187103271484,
          -37.30929946899414,
          -1.5009418725967407,
          18.7305850982666,
          19.89495277404785,
          14.271474838256836,
          26.928098678588867,
          27.227502822875977,
          28.65789222717285,
          27.932369232177734,
          27.456594467163086,
          27.087369918823242,
          36.49604797363281,
          16.753253936767578,
          26.261842727661133,
          -29.68750762939453,
          -16.287967681884766,
          -11.503993034362793,
          -10.396193504333496,
          -4.542495250701904,
          -5.13170051574707,
          21.626707077026367
         ],
         "xaxis": "x",
         "y": [
          -17.30267333984375,
          15.808172225952148,
          16.496177673339844,
          14.122089385986328,
          12.199338912963867,
          13.275129318237305,
          11.546534538269043,
          33.522705078125,
          39.655887603759766,
          37.83897018432617,
          38.32844543457031,
          10.551862716674805,
          4.252117156982422,
          -21.874332427978516,
          10.145968437194824,
          -35.038177490234375,
          -34.19129943847656,
          -36.8842887878418,
          19.503395080566406,
          32.21302795410156,
          -40.076622009277344,
          -0.11030206084251404,
          27.13822364807129,
          27.453067779541016,
          -50.78306579589844,
          19.371685028076172,
          19.838735580444336,
          -49.173152923583984,
          33.6029167175293,
          36.35329818725586,
          42.033138275146484,
          25.52338218688965,
          24.113162994384766,
          21.59801483154297,
          21.661836624145508,
          20.99356460571289,
          23.050016403198242,
          -2.34926176071167,
          37.56482696533203,
          -14.309172630310059,
          5.696734428405762,
          1.6965912580490112,
          -38.93822479248047,
          6.5800580978393555,
          1.4443241357803345,
          0.518944263458252,
          42.73482894897461
         ],
         "yaxis": "y"
        }
       ],
       "layout": {
        "legend": {
         "title": {
          "text": "Predictions, Correct"
         },
         "tracegroupgap": 0
        },
        "margin": {
         "t": 60
        },
        "template": {
         "data": {
          "bar": [
           {
            "error_x": {
             "color": "#2a3f5f"
            },
            "error_y": {
             "color": "#2a3f5f"
            },
            "marker": {
             "line": {
              "color": "#E5ECF6",
              "width": 0.5
             },
             "pattern": {
              "fillmode": "overlay",
              "size": 10,
              "solidity": 0.2
             }
            },
            "type": "bar"
           }
          ],
          "barpolar": [
           {
            "marker": {
             "line": {
              "color": "#E5ECF6",
              "width": 0.5
             },
             "pattern": {
              "fillmode": "overlay",
              "size": 10,
              "solidity": 0.2
             }
            },
            "type": "barpolar"
           }
          ],
          "carpet": [
           {
            "aaxis": {
             "endlinecolor": "#2a3f5f",
             "gridcolor": "white",
             "linecolor": "white",
             "minorgridcolor": "white",
             "startlinecolor": "#2a3f5f"
            },
            "baxis": {
             "endlinecolor": "#2a3f5f",
             "gridcolor": "white",
             "linecolor": "white",
             "minorgridcolor": "white",
             "startlinecolor": "#2a3f5f"
            },
            "type": "carpet"
           }
          ],
          "choropleth": [
           {
            "colorbar": {
             "outlinewidth": 0,
             "ticks": ""
            },
            "type": "choropleth"
           }
          ],
          "contour": [
           {
            "colorbar": {
             "outlinewidth": 0,
             "ticks": ""
            },
            "colorscale": [
             [
              0,
              "#0d0887"
             ],
             [
              0.1111111111111111,
              "#46039f"
             ],
             [
              0.2222222222222222,
              "#7201a8"
             ],
             [
              0.3333333333333333,
              "#9c179e"
             ],
             [
              0.4444444444444444,
              "#bd3786"
             ],
             [
              0.5555555555555556,
              "#d8576b"
             ],
             [
              0.6666666666666666,
              "#ed7953"
             ],
             [
              0.7777777777777778,
              "#fb9f3a"
             ],
             [
              0.8888888888888888,
              "#fdca26"
             ],
             [
              1,
              "#f0f921"
             ]
            ],
            "type": "contour"
           }
          ],
          "contourcarpet": [
           {
            "colorbar": {
             "outlinewidth": 0,
             "ticks": ""
            },
            "type": "contourcarpet"
           }
          ],
          "heatmap": [
           {
            "colorbar": {
             "outlinewidth": 0,
             "ticks": ""
            },
            "colorscale": [
             [
              0,
              "#0d0887"
             ],
             [
              0.1111111111111111,
              "#46039f"
             ],
             [
              0.2222222222222222,
              "#7201a8"
             ],
             [
              0.3333333333333333,
              "#9c179e"
             ],
             [
              0.4444444444444444,
              "#bd3786"
             ],
             [
              0.5555555555555556,
              "#d8576b"
             ],
             [
              0.6666666666666666,
              "#ed7953"
             ],
             [
              0.7777777777777778,
              "#fb9f3a"
             ],
             [
              0.8888888888888888,
              "#fdca26"
             ],
             [
              1,
              "#f0f921"
             ]
            ],
            "type": "heatmap"
           }
          ],
          "heatmapgl": [
           {
            "colorbar": {
             "outlinewidth": 0,
             "ticks": ""
            },
            "colorscale": [
             [
              0,
              "#0d0887"
             ],
             [
              0.1111111111111111,
              "#46039f"
             ],
             [
              0.2222222222222222,
              "#7201a8"
             ],
             [
              0.3333333333333333,
              "#9c179e"
             ],
             [
              0.4444444444444444,
              "#bd3786"
             ],
             [
              0.5555555555555556,
              "#d8576b"
             ],
             [
              0.6666666666666666,
              "#ed7953"
             ],
             [
              0.7777777777777778,
              "#fb9f3a"
             ],
             [
              0.8888888888888888,
              "#fdca26"
             ],
             [
              1,
              "#f0f921"
             ]
            ],
            "type": "heatmapgl"
           }
          ],
          "histogram": [
           {
            "marker": {
             "pattern": {
              "fillmode": "overlay",
              "size": 10,
              "solidity": 0.2
             }
            },
            "type": "histogram"
           }
          ],
          "histogram2d": [
           {
            "colorbar": {
             "outlinewidth": 0,
             "ticks": ""
            },
            "colorscale": [
             [
              0,
              "#0d0887"
             ],
             [
              0.1111111111111111,
              "#46039f"
             ],
             [
              0.2222222222222222,
              "#7201a8"
             ],
             [
              0.3333333333333333,
              "#9c179e"
             ],
             [
              0.4444444444444444,
              "#bd3786"
             ],
             [
              0.5555555555555556,
              "#d8576b"
             ],
             [
              0.6666666666666666,
              "#ed7953"
             ],
             [
              0.7777777777777778,
              "#fb9f3a"
             ],
             [
              0.8888888888888888,
              "#fdca26"
             ],
             [
              1,
              "#f0f921"
             ]
            ],
            "type": "histogram2d"
           }
          ],
          "histogram2dcontour": [
           {
            "colorbar": {
             "outlinewidth": 0,
             "ticks": ""
            },
            "colorscale": [
             [
              0,
              "#0d0887"
             ],
             [
              0.1111111111111111,
              "#46039f"
             ],
             [
              0.2222222222222222,
              "#7201a8"
             ],
             [
              0.3333333333333333,
              "#9c179e"
             ],
             [
              0.4444444444444444,
              "#bd3786"
             ],
             [
              0.5555555555555556,
              "#d8576b"
             ],
             [
              0.6666666666666666,
              "#ed7953"
             ],
             [
              0.7777777777777778,
              "#fb9f3a"
             ],
             [
              0.8888888888888888,
              "#fdca26"
             ],
             [
              1,
              "#f0f921"
             ]
            ],
            "type": "histogram2dcontour"
           }
          ],
          "mesh3d": [
           {
            "colorbar": {
             "outlinewidth": 0,
             "ticks": ""
            },
            "type": "mesh3d"
           }
          ],
          "parcoords": [
           {
            "line": {
             "colorbar": {
              "outlinewidth": 0,
              "ticks": ""
             }
            },
            "type": "parcoords"
           }
          ],
          "pie": [
           {
            "automargin": true,
            "type": "pie"
           }
          ],
          "scatter": [
           {
            "fillpattern": {
             "fillmode": "overlay",
             "size": 10,
             "solidity": 0.2
            },
            "type": "scatter"
           }
          ],
          "scatter3d": [
           {
            "line": {
             "colorbar": {
              "outlinewidth": 0,
              "ticks": ""
             }
            },
            "marker": {
             "colorbar": {
              "outlinewidth": 0,
              "ticks": ""
             }
            },
            "type": "scatter3d"
           }
          ],
          "scattercarpet": [
           {
            "marker": {
             "colorbar": {
              "outlinewidth": 0,
              "ticks": ""
             }
            },
            "type": "scattercarpet"
           }
          ],
          "scattergeo": [
           {
            "marker": {
             "colorbar": {
              "outlinewidth": 0,
              "ticks": ""
             }
            },
            "type": "scattergeo"
           }
          ],
          "scattergl": [
           {
            "marker": {
             "colorbar": {
              "outlinewidth": 0,
              "ticks": ""
             }
            },
            "type": "scattergl"
           }
          ],
          "scattermapbox": [
           {
            "marker": {
             "colorbar": {
              "outlinewidth": 0,
              "ticks": ""
             }
            },
            "type": "scattermapbox"
           }
          ],
          "scatterpolar": [
           {
            "marker": {
             "colorbar": {
              "outlinewidth": 0,
              "ticks": ""
             }
            },
            "type": "scatterpolar"
           }
          ],
          "scatterpolargl": [
           {
            "marker": {
             "colorbar": {
              "outlinewidth": 0,
              "ticks": ""
             }
            },
            "type": "scatterpolargl"
           }
          ],
          "scatterternary": [
           {
            "marker": {
             "colorbar": {
              "outlinewidth": 0,
              "ticks": ""
             }
            },
            "type": "scatterternary"
           }
          ],
          "surface": [
           {
            "colorbar": {
             "outlinewidth": 0,
             "ticks": ""
            },
            "colorscale": [
             [
              0,
              "#0d0887"
             ],
             [
              0.1111111111111111,
              "#46039f"
             ],
             [
              0.2222222222222222,
              "#7201a8"
             ],
             [
              0.3333333333333333,
              "#9c179e"
             ],
             [
              0.4444444444444444,
              "#bd3786"
             ],
             [
              0.5555555555555556,
              "#d8576b"
             ],
             [
              0.6666666666666666,
              "#ed7953"
             ],
             [
              0.7777777777777778,
              "#fb9f3a"
             ],
             [
              0.8888888888888888,
              "#fdca26"
             ],
             [
              1,
              "#f0f921"
             ]
            ],
            "type": "surface"
           }
          ],
          "table": [
           {
            "cells": {
             "fill": {
              "color": "#EBF0F8"
             },
             "line": {
              "color": "white"
             }
            },
            "header": {
             "fill": {
              "color": "#C8D4E3"
             },
             "line": {
              "color": "white"
             }
            },
            "type": "table"
           }
          ]
         },
         "layout": {
          "annotationdefaults": {
           "arrowcolor": "#2a3f5f",
           "arrowhead": 0,
           "arrowwidth": 1
          },
          "autotypenumbers": "strict",
          "coloraxis": {
           "colorbar": {
            "outlinewidth": 0,
            "ticks": ""
           }
          },
          "colorscale": {
           "diverging": [
            [
             0,
             "#8e0152"
            ],
            [
             0.1,
             "#c51b7d"
            ],
            [
             0.2,
             "#de77ae"
            ],
            [
             0.3,
             "#f1b6da"
            ],
            [
             0.4,
             "#fde0ef"
            ],
            [
             0.5,
             "#f7f7f7"
            ],
            [
             0.6,
             "#e6f5d0"
            ],
            [
             0.7,
             "#b8e186"
            ],
            [
             0.8,
             "#7fbc41"
            ],
            [
             0.9,
             "#4d9221"
            ],
            [
             1,
             "#276419"
            ]
           ],
           "sequential": [
            [
             0,
             "#0d0887"
            ],
            [
             0.1111111111111111,
             "#46039f"
            ],
            [
             0.2222222222222222,
             "#7201a8"
            ],
            [
             0.3333333333333333,
             "#9c179e"
            ],
            [
             0.4444444444444444,
             "#bd3786"
            ],
            [
             0.5555555555555556,
             "#d8576b"
            ],
            [
             0.6666666666666666,
             "#ed7953"
            ],
            [
             0.7777777777777778,
             "#fb9f3a"
            ],
            [
             0.8888888888888888,
             "#fdca26"
            ],
            [
             1,
             "#f0f921"
            ]
           ],
           "sequentialminus": [
            [
             0,
             "#0d0887"
            ],
            [
             0.1111111111111111,
             "#46039f"
            ],
            [
             0.2222222222222222,
             "#7201a8"
            ],
            [
             0.3333333333333333,
             "#9c179e"
            ],
            [
             0.4444444444444444,
             "#bd3786"
            ],
            [
             0.5555555555555556,
             "#d8576b"
            ],
            [
             0.6666666666666666,
             "#ed7953"
            ],
            [
             0.7777777777777778,
             "#fb9f3a"
            ],
            [
             0.8888888888888888,
             "#fdca26"
            ],
            [
             1,
             "#f0f921"
            ]
           ]
          },
          "colorway": [
           "#636efa",
           "#EF553B",
           "#00cc96",
           "#ab63fa",
           "#FFA15A",
           "#19d3f3",
           "#FF6692",
           "#B6E880",
           "#FF97FF",
           "#FECB52"
          ],
          "font": {
           "color": "#2a3f5f"
          },
          "geo": {
           "bgcolor": "white",
           "lakecolor": "white",
           "landcolor": "#E5ECF6",
           "showlakes": true,
           "showland": true,
           "subunitcolor": "white"
          },
          "hoverlabel": {
           "align": "left"
          },
          "hovermode": "closest",
          "mapbox": {
           "style": "light"
          },
          "paper_bgcolor": "white",
          "plot_bgcolor": "#E5ECF6",
          "polar": {
           "angularaxis": {
            "gridcolor": "white",
            "linecolor": "white",
            "ticks": ""
           },
           "bgcolor": "#E5ECF6",
           "radialaxis": {
            "gridcolor": "white",
            "linecolor": "white",
            "ticks": ""
           }
          },
          "scene": {
           "xaxis": {
            "backgroundcolor": "#E5ECF6",
            "gridcolor": "white",
            "gridwidth": 2,
            "linecolor": "white",
            "showbackground": true,
            "ticks": "",
            "zerolinecolor": "white"
           },
           "yaxis": {
            "backgroundcolor": "#E5ECF6",
            "gridcolor": "white",
            "gridwidth": 2,
            "linecolor": "white",
            "showbackground": true,
            "ticks": "",
            "zerolinecolor": "white"
           },
           "zaxis": {
            "backgroundcolor": "#E5ECF6",
            "gridcolor": "white",
            "gridwidth": 2,
            "linecolor": "white",
            "showbackground": true,
            "ticks": "",
            "zerolinecolor": "white"
           }
          },
          "shapedefaults": {
           "line": {
            "color": "#2a3f5f"
           }
          },
          "ternary": {
           "aaxis": {
            "gridcolor": "white",
            "linecolor": "white",
            "ticks": ""
           },
           "baxis": {
            "gridcolor": "white",
            "linecolor": "white",
            "ticks": ""
           },
           "bgcolor": "#E5ECF6",
           "caxis": {
            "gridcolor": "white",
            "linecolor": "white",
            "ticks": ""
           }
          },
          "title": {
           "x": 0.05
          },
          "xaxis": {
           "automargin": true,
           "gridcolor": "white",
           "linecolor": "white",
           "ticks": "",
           "title": {
            "standoff": 15
           },
           "zerolinecolor": "white",
           "zerolinewidth": 2
          },
          "yaxis": {
           "automargin": true,
           "gridcolor": "white",
           "linecolor": "white",
           "ticks": "",
           "title": {
            "standoff": 15
           },
           "zerolinecolor": "white",
           "zerolinewidth": 2
          }
         }
        },
        "xaxis": {
         "anchor": "y",
         "domain": [
          0,
          1
         ],
         "title": {
          "text": "x"
         }
        },
        "yaxis": {
         "anchor": "x",
         "domain": [
          0,
          1
         ],
         "title": {
          "text": "y"
         }
        }
       }
      },
      "text/html": [
       "<div>                            <div id=\"3cf4f5c5-fdd9-47fe-a707-fb735a159d87\" class=\"plotly-graph-div\" style=\"height:525px; width:100%;\"></div>            <script type=\"text/javascript\">                require([\"plotly\"], function(Plotly) {                    window.PLOTLYENV=window.PLOTLYENV || {};                                    if (document.getElementById(\"3cf4f5c5-fdd9-47fe-a707-fb735a159d87\")) {                    Plotly.newPlot(                        \"3cf4f5c5-fdd9-47fe-a707-fb735a159d87\",                        [{\"customdata\":[[\"surprised\"],[\"surprised\"],[\"surprised\"],[\"surprised\"],[\"surprised\"],[\"surprised\"],[\"surprised\"],[\"surprised\"],[\"surprised\"],[\"surprised\"],[\"surprised\"],[\"surprised\"],[\"surprised\"],[\"surprised\"],[\"surprised\"],[\"surprised\"],[\"surprised\"],[\"surprised\"],[\"surprised\"],[\"surprised\"],[\"surprised\"],[\"surprised\"],[\"surprised\"],[\"surprised\"],[\"surprised\"],[\"surprised\"],[\"surprised\"],[\"surprised\"],[\"surprised\"],[\"surprised\"],[\"surprised\"],[\"surprised\"],[\"surprised\"],[\"surprised\"],[\"surprised\"],[\"surprised\"],[\"surprised\"],[\"surprised\"],[\"surprised\"],[\"surprised\"],[\"surprised\"],[\"surprised\"],[\"surprised\"]],\"hovertemplate\":\"Predictions=surprised\\u003cbr\\u003eCorrect=True\\u003cbr\\u003ex=%{x}\\u003cbr\\u003ey=%{y}\\u003cbr\\u003eLabel=%{customdata[0]}\\u003cextra\\u003e\\u003c\\u002fextra\\u003e\",\"legendgroup\":\"surprised, True\",\"marker\":{\"color\":\"#19D3F3\",\"symbol\":\"circle\"},\"mode\":\"markers\",\"name\":\"surprised, True\",\"showlegend\":true,\"x\":[-11.725500106811523,-13.533727645874023,-26.54584312438965,-26.9787654876709,-27.105703353881836,34.876338958740234,20.56986427307129,-7.956020832061768,28.18902015686035,27.955245971679688,27.53016471862793,35.64750671386719,-11.00885009765625,-13.179807662963867,-14.36856746673584,-11.874167442321777,19.843425750732422,-12.351123809814453,-3.712498188018799,-29.575143814086914,-29.589771270751953,-29.22947120666504,24.488710403442383,34.42399215698242,-18.732633590698242,33.40890121459961,20.94757652282715,-2.9799160957336426,-0.49065589904785156,-37.515438079833984,-2.20167875289917,-3.343123197555542,-1.5783360004425049,18.598045349121094,28.89368438720703,26.05025863647461,-11.176942825317383,-40.4260368347168,-40.828773498535156,-39.74783706665039,-2.9180190563201904,-5.076242923736572,24.733203887939453],\"xaxis\":\"x\",\"y\":[11.723140716552734,-42.27842712402344,3.7338056564331055,4.294079303741455,3.777310609817505,-17.72536277770996,-14.801640510559082,-47.439239501953125,-26.321956634521484,-26.98733139038086,-26.44352912902832,-18.5686092376709,-34.62105178833008,-35.735836029052734,-34.91883850097656,-32.69963455200195,24.514320373535156,-41.958030700683594,0.7558667659759521,19.541288375854492,19.203386306762695,19.082786560058594,-27.127668380737305,-12.12365436553955,-0.6025807857513428,-13.522680282592773,27.603965759277344,-51.019779205322266,-49.479652404785156,19.696571350097656,-48.99983596801758,-49.57712173461914,-47.5860710144043,33.52159881591797,22.648225784301758,22.948991775512695,-35.97902297973633,-21.7990665435791,-19.876522064208984,-20.244279861450195,0.7006110548973083,0.540727972984314,42.649620056152344],\"yaxis\":\"y\",\"type\":\"scattergl\"},{\"customdata\":[[\"neutral\"],[\"neutral\"],[\"angry\"],[\"happy\"],[\"angry\"],[\"neutral\"],[\"neutral\"],[\"happy\"]],\"hovertemplate\":\"Predictions=surprised\\u003cbr\\u003eCorrect=False\\u003cbr\\u003ex=%{x}\\u003cbr\\u003ey=%{y}\\u003cbr\\u003eLabel=%{customdata[0]}\\u003cextra\\u003e\\u003c\\u002fextra\\u003e\",\"legendgroup\":\"surprised, False\",\"marker\":{\"color\":\"#19D3F3\",\"symbol\":\"x\"},\"mode\":\"markers\",\"name\":\"surprised, False\",\"showlegend\":true,\"x\":[-39.15742492675781,13.871421813964844,29.203916549682617,30.602863311767578,-9.232643127441406,36.49604797363281,-4.542495250701904,35.749298095703125],\"xaxis\":\"x\",\"y\":[13.275129318237305,37.83897018432617,-9.070046424865723,-8.946255683898926,-41.04818344116211,-2.34926176071167,1.4443241357803345,-1.9505934715270996],\"yaxis\":\"y\",\"type\":\"scattergl\"},{\"customdata\":[[\"happy\"],[\"happy\"],[\"happy\"],[\"happy\"],[\"happy\"],[\"happy\"],[\"happy\"],[\"happy\"],[\"happy\"],[\"happy\"],[\"happy\"],[\"happy\"],[\"happy\"],[\"happy\"],[\"happy\"],[\"happy\"],[\"happy\"],[\"happy\"],[\"happy\"],[\"happy\"],[\"happy\"],[\"happy\"],[\"happy\"],[\"happy\"],[\"happy\"],[\"happy\"],[\"happy\"],[\"happy\"],[\"happy\"],[\"happy\"],[\"happy\"],[\"happy\"],[\"happy\"],[\"happy\"],[\"happy\"],[\"happy\"],[\"happy\"],[\"happy\"],[\"happy\"],[\"happy\"],[\"happy\"],[\"happy\"],[\"happy\"],[\"happy\"],[\"happy\"],[\"happy\"],[\"happy\"],[\"happy\"],[\"happy\"],[\"happy\"],[\"happy\"],[\"happy\"],[\"happy\"],[\"happy\"]],\"hovertemplate\":\"Predictions=happy\\u003cbr\\u003eCorrect=True\\u003cbr\\u003ex=%{x}\\u003cbr\\u003ey=%{y}\\u003cbr\\u003eLabel=%{customdata[0]}\\u003cextra\\u003e\\u003c\\u002fextra\\u003e\",\"legendgroup\":\"happy, True\",\"marker\":{\"color\":\"#00CC96\",\"symbol\":\"circle\"},\"mode\":\"markers\",\"name\":\"happy, True\",\"showlegend\":true,\"x\":[-14.765125274658203,-12.686431884765625,34.82197189331055,-27.82823371887207,-43.32770919799805,-40.13063049316406,-43.730106353759766,-41.57694625854492,-42.977813720703125,-40.50055694580078,-39.677799224853516,28.06441307067871,-12.183632850646973,-12.192888259887695,33.04597854614258,-12.594975471496582,-19.891515731811523,-16.136974334716797,-16.093982696533203,32.08506774902344,-3.7894294261932373,-20.46196174621582,-29.634788513183594,24.562026977539062,-12.797628402709961,-14.65580940246582,-18.78435516357422,33.641971588134766,18.931209564208984,20.313018798828125,-2.233682870864868,-2.256772041320801,-2.470273733139038,-3.1404287815093994,-3.2037370204925537,-1.9958891868591309,19.918474197387695,17.521032333374023,14.752206802368164,26.355716705322266,26.816471099853516,29.187231063842773,29.721155166625977,23.065200805664062,-8.881786346435547,-12.76051139831543,25.45203971862793,-2.35332989692688,22.78404998779297,22.730974197387695,23.390640258789062,23.323339462280273,22.255088806152344,22.556598663330078],\"xaxis\":\"x\",\"y\":[-42.24330139160156,-37.01607894897461,-17.210430145263672,2.927506446838379,16.052072525024414,11.665462493896484,15.114078521728516,16.094106674194336,14.181212425231934,12.82445240020752,12.915325164794922,-26.622682571411133,-0.9800812602043152,-0.9801750779151917,-19.234840393066406,-35.046207427978516,5.84687614440918,-33.83302307128906,-33.47542190551758,-3.590977668762207,-27.947660446166992,-36.77698516845703,19.789875030517578,-27.521846771240234,8.581527709960938,-41.74968338012695,0.09714814275503159,-12.515691757202148,27.142574310302734,26.958740234375,-48.111671447753906,-48.32467269897461,-48.92933654785156,-49.89720916748047,-49.583396911621094,-47.589412689208984,35.13416290283203,32.30202865600586,41.36164855957031,24.47357940673828,22.843189239501953,20.488079071044922,20.704959869384766,35.258079528808594,-36.94932174682617,3.691744804382324,27.10072898864746,1.4722275733947754,42.66974639892578,41.72629165649414,44.074344635009766,43.81692123413086,43.28907775878906,43.802207946777344],\"yaxis\":\"y\",\"type\":\"scattergl\"},{\"customdata\":[[\"disgusted\"],[\"sad\"],[\"sad\"],[\"sad\"],[\"surprised\"],[\"sad\"],[\"disgusted\"],[\"angry\"],[\"angry\"],[\"sad\"],[\"neutral\"],[\"surprised\"],[\"disgusted\"],[\"neutral\"],[\"neutral\"],[\"surprised\"]],\"hovertemplate\":\"Predictions=happy\\u003cbr\\u003eCorrect=False\\u003cbr\\u003ex=%{x}\\u003cbr\\u003ey=%{y}\\u003cbr\\u003eLabel=%{customdata[0]}\\u003cextra\\u003e\\u003c\\u002fextra\\u003e\",\"legendgroup\":\"happy, False\",\"marker\":{\"color\":\"#00CC96\",\"symbol\":\"x\"},\"mode\":\"markers\",\"name\":\"happy, False\",\"showlegend\":true,\"x\":[-12.336583137512207,-15.239240646362305,-14.147061347961426,-27.01239776611328,34.69827651977539,-42.48318862915039,-43.02274703979492,10.542195320129395,2.5232677459716797,-1.0487034320831299,-2.260435104370117,14.34352970123291,15.603727340698242,28.65789222717285,21.626707077026367,22.610260009765625],\"xaxis\":\"x\",\"y\":[6.513999938964844,-42.23183822631836,6.338018894195557,3.156100034713745,-16.924644470214844,15.219549179077148,14.59908676147461,41.92347717285156,30.09262466430664,-49.51292037963867,-50.78306579589844,41.4537353515625,41.12664794921875,21.59801483154297,42.73482894897461,41.452552795410156],\"yaxis\":\"y\",\"type\":\"scattergl\"},{\"customdata\":[[\"disgusted\"],[\"disgusted\"],[\"disgusted\"],[\"disgusted\"],[\"disgusted\"],[\"disgusted\"],[\"disgusted\"],[\"disgusted\"],[\"disgusted\"],[\"disgusted\"],[\"disgusted\"],[\"disgusted\"],[\"disgusted\"],[\"disgusted\"],[\"disgusted\"],[\"disgusted\"],[\"disgusted\"],[\"disgusted\"],[\"disgusted\"],[\"disgusted\"],[\"disgusted\"],[\"disgusted\"],[\"disgusted\"],[\"disgusted\"],[\"disgusted\"],[\"disgusted\"],[\"disgusted\"],[\"disgusted\"],[\"disgusted\"],[\"disgusted\"],[\"disgusted\"],[\"disgusted\"],[\"disgusted\"],[\"disgusted\"],[\"disgusted\"],[\"disgusted\"],[\"disgusted\"],[\"disgusted\"],[\"disgusted\"],[\"disgusted\"],[\"disgusted\"],[\"disgusted\"],[\"disgusted\"],[\"disgusted\"],[\"disgusted\"]],\"hovertemplate\":\"Predictions=disgusted\\u003cbr\\u003eCorrect=True\\u003cbr\\u003ex=%{x}\\u003cbr\\u003ey=%{y}\\u003cbr\\u003eLabel=%{customdata[0]}\\u003cextra\\u003e\\u003c\\u002fextra\\u003e\",\"legendgroup\":\"disgusted, True\",\"marker\":{\"color\":\"#EF553B\",\"symbol\":\"circle\"},\"mode\":\"markers\",\"name\":\"disgusted, True\",\"showlegend\":true,\"x\":[-40.42703628540039,-16.803022384643555,34.768436431884766,35.026084899902344,22.861284255981445,-39.20261764526367,-41.893348693847656,27.862638473510742,14.216453552246094,13.2725830078125,30.532346725463867,30.50922966003418,-21.081951141357422,-20.59623146057129,-11.156904220581055,-12.160935401916504,-12.302993774414062,-9.791045188903809,-29.2993106842041,25.03351593017578,25.25151252746582,24.8320369720459,-14.146044731140137,33.36556625366211,-1.521343469619751,19.867246627807617,20.3701229095459,13.679896354675293,30.5531063079834,26.914424896240234,29.16300392150879,27.682531356811523,28.06402587890625,30.405031204223633,-12.094525337219238,-11.546581268310547,24.133625030517578,29.59817886352539,-10.686470031738281,-1.6519197225570679,24.096498489379883,24.30548858642578,22.65831184387207,23.418672561645508,28.683666229248047],\"xaxis\":\"x\",\"y\":[-22.964868545532227,-44.21087646484375,-17.316640853881836,-16.862483978271484,30.022077560424805,11.834027290344238,16.295738220214844,-26.054458618164062,37.54801940917969,40.1246223449707,-5.06476354598999,-5.0788984298706055,12.531390190124512,9.697164535522461,-34.03947830200195,-41.63948059082031,-41.63542938232422,-41.928916931152344,19.90862464904785,-27.042884826660156,-27.847030639648438,-27.610553741455078,4.492546081542969,-12.795058250427246,-48.23388671875,36.595558166503906,37.23102569580078,41.53892517089844,20.65007209777832,24.876333236694336,20.790996551513672,20.385019302368164,20.889455795288086,19.851959228515625,9.110600471496582,6.875887393951416,27.017976760864258,-8.573556900024414,6.489996433258057,1.2049258947372437,43.87137222290039,42.04304504394531,43.30411148071289,43.26651382446289,-13.176050186157227],\"yaxis\":\"y\",\"type\":\"scattergl\"},{\"customdata\":[[\"angry\"],[\"sad\"],[\"happy\"],[\"angry\"],[\"happy\"],[\"happy\"],[\"angry\"],[\"sad\"],[\"angry\"],[\"sad\"],[\"angry\"],[\"sad\"],[\"sad\"],[\"sad\"],[\"neutral\"],[\"angry\"]],\"hovertemplate\":\"Predictions=disgusted\\u003cbr\\u003eCorrect=False\\u003cbr\\u003ex=%{x}\\u003cbr\\u003ey=%{y}\\u003cbr\\u003eLabel=%{customdata[0]}\\u003cextra\\u003e\\u003c\\u002fextra\\u003e\",\"legendgroup\":\"disgusted, False\",\"marker\":{\"color\":\"#EF553B\",\"symbol\":\"x\"},\"mode\":\"markers\",\"name\":\"disgusted, False\",\"showlegend\":true,\"x\":[35.384849548339844,-42.41917037963867,13.37726879119873,11.131056785583496,25.270627975463867,-17.031051635742188,-16.595048904418945,33.06155776977539,-19.173377990722656,-17.59597396850586,-1.8204880952835083,-38.13728713989258,-1.4344154596328735,26.660999298095703,27.932369232177734,27.104196548461914],\"xaxis\":\"x\",\"y\":[-17.3432674407959,14.168048858642578,39.80457305908203,32.20399475097656,-27.645124435424805,-40.56093978881836,-42.211238861083984,-13.05142593383789,1.5974539518356323,-0.684058427810669,-49.85844039916992,19.48723030090332,-48.418174743652344,23.735931396484375,21.661836624145508,23.21303939819336],\"yaxis\":\"y\",\"type\":\"scattergl\"},{\"customdata\":[[\"sad\"],[\"sad\"],[\"sad\"],[\"sad\"],[\"sad\"],[\"sad\"],[\"sad\"],[\"sad\"],[\"sad\"],[\"sad\"],[\"sad\"],[\"sad\"],[\"sad\"],[\"sad\"],[\"sad\"],[\"sad\"],[\"sad\"],[\"sad\"],[\"sad\"],[\"sad\"],[\"sad\"],[\"sad\"],[\"sad\"],[\"sad\"],[\"sad\"],[\"sad\"],[\"sad\"],[\"sad\"],[\"sad\"],[\"sad\"],[\"sad\"],[\"sad\"]],\"hovertemplate\":\"Predictions=sad\\u003cbr\\u003eCorrect=True\\u003cbr\\u003ex=%{x}\\u003cbr\\u003ey=%{y}\\u003cbr\\u003eLabel=%{customdata[0]}\\u003cextra\\u003e\\u003c\\u002fextra\\u003e\",\"legendgroup\":\"sad, True\",\"marker\":{\"color\":\"#FFA15A\",\"symbol\":\"circle\"},\"mode\":\"markers\",\"name\":\"sad, True\",\"showlegend\":true,\"x\":[22.94577980041504,-27.189434051513672,-27.794021606445312,-41.78894805908203,-40.66866683959961,28.033334732055664,33.048099517822266,-10.989398956298828,31.550914764404297,-10.659279823303223,-9.956546783447266,-21.01313591003418,-29.097497940063477,-29.107624053955078,-28.724376678466797,25.321491241455078,-28.67148780822754,34.57292938232422,23.9741268157959,17.51839828491211,14.241744995117188,25.271650314331055,26.46108627319336,28.861663818359375,30.508991241455078,28.812999725341797,18.899925231933594,-8.029606819152832,-12.73385238647461,-40.061248779296875,-39.311161041259766,19.693138122558594],\"xaxis\":\"x\",\"y\":[30.111722946166992,3.7569873332977295,2.7867040634155273,15.77741527557373,13.129758834838867,-26.036151885986328,-20.007150650024414,-34.65713119506836,-8.996831893920898,7.209721565246582,-41.924442291259766,-36.90681457519531,19.170286178588867,19.912044525146484,19.391767501831055,-27.524885177612305,20.016448974609375,-12.001947402954102,28.337867736816406,32.28477096557617,42.06755065917969,23.390451431274414,23.331937789916992,21.560474395751953,20.908071517944336,21.531068801879883,28.681997299194336,-36.99026107788086,3.6108601093292236,-19.235919952392578,-19.67784309387207,24.88661003112793],\"yaxis\":\"y\",\"type\":\"scattergl\"},{\"customdata\":[[\"angry\"],[\"surprised\"],[\"angry\"],[\"neutral\"],[\"disgusted\"],[\"neutral\"],[\"neutral\"],[\"angry\"]],\"hovertemplate\":\"Predictions=sad\\u003cbr\\u003eCorrect=False\\u003cbr\\u003ex=%{x}\\u003cbr\\u003ey=%{y}\\u003cbr\\u003eLabel=%{customdata[0]}\\u003cextra\\u003e\\u003c\\u002fextra\\u003e\",\"legendgroup\":\"sad, False\",\"marker\":{\"color\":\"#FFA15A\",\"symbol\":\"x\"},\"mode\":\"markers\",\"name\":\"sad, False\",\"showlegend\":true,\"x\":[-40.347862243652344,-39.10917282104492,27.55339813232422,-17.725847244262695,-2.2869584560394287,27.227502822875977,-29.68750762939453,-15.713203430175781],\"xaxis\":\"x\",\"y\":[-23.071306228637695,13.357952117919922,-26.009302139282227,-0.11030206084251404,-47.860801696777344,24.113162994384766,5.696734428405762,-34.444583892822266],\"yaxis\":\"y\",\"type\":\"scattergl\"},{\"customdata\":[[\"angry\"],[\"angry\"],[\"angry\"],[\"angry\"],[\"angry\"],[\"angry\"],[\"angry\"],[\"angry\"],[\"angry\"],[\"angry\"],[\"angry\"],[\"angry\"],[\"angry\"],[\"angry\"],[\"angry\"],[\"angry\"],[\"angry\"],[\"angry\"],[\"angry\"],[\"angry\"],[\"angry\"],[\"angry\"],[\"angry\"],[\"angry\"],[\"angry\"],[\"angry\"],[\"angry\"],[\"angry\"],[\"angry\"],[\"angry\"],[\"angry\"]],\"hovertemplate\":\"Predictions=angry\\u003cbr\\u003eCorrect=True\\u003cbr\\u003ex=%{x}\\u003cbr\\u003ey=%{y}\\u003cbr\\u003eLabel=%{customdata[0]}\\u003cextra\\u003e\\u003c\\u002fextra\\u003e\",\"legendgroup\":\"angry, True\",\"marker\":{\"color\":\"#636EFA\",\"symbol\":\"circle\"},\"mode\":\"markers\",\"name\":\"angry, True\",\"showlegend\":true,\"x\":[-16.029699325561523,34.129722595214844,34.63303756713867,-43.48625183105469,-7.054405212402344,-40.31382751464844,-39.09308624267578,-39.54033279418945,16.688196182250977,10.73619556427002,13.635284423828125,-8.530594825744629,-24.444290161132812,-13.46400260925293,-12.391029357910156,-2.9256532192230225,-15.725768089294434,-14.321993827819824,-17.560962677001953,36.174232482910156,-3.2227373123168945,-37.656585693359375,15.070780754089355,27.20876693725586,28.05190086364746,28.648059844970703,27.338380813598633,-0.878512978553772,22.915485382080078,23.192832946777344,22.749101638793945],\"xaxis\":\"x\",\"y\":[-36.04819107055664,-17.59372329711914,-17.653104782104492,16.39007568359375,-47.465576171875,12.485068321228027,11.548460960388184,13.172564506530762,32.889442443847656,42.324859619140625,38.229183197021484,-2.5583481788635254,9.760819435119629,6.300059795379639,-42.01194763183594,2.3983523845672607,-42.999267578125,9.970511436462402,-0.6575087308883667,-16.536823272705078,-49.98432540893555,19.716278076171875,41.663291931152344,20.888883590698242,23.143543243408203,-9.157988548278809,-9.790775299072266,3.501088857650757,42.4140510559082,43.45390319824219,44.11992645263672],\"yaxis\":\"y\",\"type\":\"scattergl\"},{\"customdata\":[[\"happy\"],[\"surprised\"],[\"sad\"],[\"neutral\"],[\"surprised\"],[\"sad\"],[\"sad\"],[\"happy\"],[\"sad\"],[\"sad\"],[\"sad\"],[\"sad\"],[\"surprised\"],[\"happy\"],[\"disgusted\"],[\"sad\"],[\"disgusted\"],[\"neutral\"],[\"disgusted\"],[\"happy\"],[\"disgusted\"],[\"sad\"],[\"sad\"],[\"sad\"],[\"happy\"]],\"hovertemplate\":\"Predictions=angry\\u003cbr\\u003eCorrect=False\\u003cbr\\u003ex=%{x}\\u003cbr\\u003ey=%{y}\\u003cbr\\u003eLabel=%{customdata[0]}\\u003cextra\\u003e\\u003c\\u002fextra\\u003e\",\"legendgroup\":\"angry, False\",\"marker\":{\"color\":\"#636EFA\",\"symbol\":\"x\"},\"mode\":\"markers\",\"name\":\"angry, False\",\"showlegend\":true,\"x\":[-27.39911651611328,-26.605297088623047,-39.3524284362793,13.395828247070312,31.431543350219727,-14.158856391906738,29.386512756347656,-39.73685073852539,-13.008674621582031,24.76508903503418,-12.857624053955078,-19.063173294067383,-18.457813262939453,-3.0609841346740723,-1.393636703491211,-2.1029837131500244,15.46220588684082,26.928098678588867,-22.52216148376465,25.93573570251465,-18.218399047851562,35.84831619262695,21.217626571655273,24.305557250976562,22.25467300415039],\"xaxis\":\"x\",\"y\":[4.394617080688477,3.129204034805298,11.9982328414917,39.655887603759766,-3.96148943901062,-36.487579345703125,-8.499268531799316,-19.6688289642334,7.82078218460083,-27.094505310058594,-42.85374069213867,0.5902104377746582,0.06346834450960159,-50.9888801574707,-50.50077438354492,-51.646427154541016,41.11888885498047,25.52338218688965,7.506184101104736,31.90155792236328,4.343341827392578,-1.9931159019470215,42.210208892822266,42.04307556152344,43.28887176513672],\"yaxis\":\"y\",\"type\":\"scattergl\"},{\"customdata\":[[\"neutral\"],[\"neutral\"],[\"neutral\"],[\"neutral\"],[\"neutral\"],[\"neutral\"],[\"neutral\"],[\"neutral\"],[\"neutral\"],[\"neutral\"],[\"neutral\"],[\"neutral\"],[\"neutral\"],[\"neutral\"],[\"neutral\"],[\"neutral\"],[\"neutral\"],[\"neutral\"],[\"neutral\"],[\"neutral\"],[\"neutral\"],[\"neutral\"],[\"neutral\"],[\"neutral\"],[\"neutral\"],[\"neutral\"],[\"neutral\"],[\"neutral\"],[\"neutral\"],[\"neutral\"],[\"neutral\"],[\"neutral\"],[\"neutral\"],[\"neutral\"]],\"hovertemplate\":\"Predictions=neutral\\u003cbr\\u003eCorrect=True\\u003cbr\\u003ex=%{x}\\u003cbr\\u003ey=%{y}\\u003cbr\\u003eLabel=%{customdata[0]}\\u003cextra\\u003e\\u003c\\u002fextra\\u003e\",\"legendgroup\":\"neutral, True\",\"marker\":{\"color\":\"#AB63FA\",\"symbol\":\"circle\"},\"mode\":\"markers\",\"name\":\"neutral, True\",\"showlegend\":true,\"x\":[33.996150970458984,-43.72062301635742,-43.748985290527344,-42.585655212402344,-38.77237319946289,-38.64978790283203,17.764663696289062,13.6104736328125,-23.48662757873535,-22.22153091430664,-41.16389846801758,-18.356332778930664,-12.169379234313965,-16.465341567993164,-20.06650161743164,-28.789779663085938,11.145788192749023,-12.635600090026855,19.09981346130371,20.817594528198242,-37.833187103271484,-37.30929946899414,-1.5009418725967407,18.7305850982666,19.89495277404785,14.271474838256836,27.456594467163086,27.087369918823242,16.753253936767578,26.261842727661133,-16.287967681884766,-11.503993034362793,-10.396193504333496,-5.13170051574707],\"xaxis\":\"x\",\"y\":[-17.30267333984375,15.808172225952148,16.496177673339844,14.122089385986328,12.199338912963867,11.546534538269043,33.522705078125,38.32844543457031,10.551862716674805,4.252117156982422,-21.874332427978516,10.145968437194824,-35.038177490234375,-34.19129943847656,-36.8842887878418,19.503395080566406,32.21302795410156,-40.076622009277344,27.13822364807129,27.453067779541016,19.371685028076172,19.838735580444336,-49.173152923583984,33.6029167175293,36.35329818725586,42.033138275146484,20.99356460571289,23.050016403198242,37.56482696533203,-14.309172630310059,1.6965912580490112,-38.93822479248047,6.5800580978393555,0.518944263458252],\"yaxis\":\"y\",\"type\":\"scattergl\"},{\"customdata\":[[\"angry\"],[\"happy\"],[\"happy\"],[\"happy\"],[\"surprised\"],[\"surprised\"],[\"disgusted\"],[\"happy\"],[\"surprised\"],[\"surprised\"],[\"surprised\"],[\"surprised\"],[\"angry\"]],\"hovertemplate\":\"Predictions=neutral\\u003cbr\\u003eCorrect=False\\u003cbr\\u003ex=%{x}\\u003cbr\\u003ey=%{y}\\u003cbr\\u003eLabel=%{customdata[0]}\\u003cextra\\u003e\\u003c\\u002fextra\\u003e\",\"legendgroup\":\"neutral, False\",\"marker\":{\"color\":\"#AB63FA\",\"symbol\":\"x\"},\"mode\":\"markers\",\"name\":\"neutral, False\",\"showlegend\":true,\"x\":[-41.330318450927734,-25.87444496154785,-16.678333282470703,-4.981361389160156,-10.635002136230469,-19.238588333129883,-1.3789411783218384,20.321800231933594,19.999731063842773,15.564616203308105,29.494369506835938,-21.341596603393555,23.33856964111328],\"xaxis\":\"x\",\"y\":[13.2625732421875,15.047268867492676,8.865732192993164,-29.549083709716797,-44.840965270996094,-0.377390593290329,-47.97739791870117,37.165306091308594,43.21847915649414,41.17185592651367,20.19688606262207,10.108052253723145,42.79749298095703],\"yaxis\":\"y\",\"type\":\"scattergl\"},{\"customdata\":[[\"surprised\"],[\"surprised\"],[\"surprised\"],[\"surprised\"],[\"angry\"],[\"surprised\"],[\"surprised\"],[\"happy\"],[\"surprised\"],[\"surprised\"],[\"sad\"],[\"surprised\"],[\"surprised\"],[\"surprised\"],[\"angry\"],[\"surprised\"],[\"surprised\"],[\"surprised\"],[\"surprised\"],[\"surprised\"],[\"surprised\"],[\"surprised\"],[\"surprised\"],[\"surprised\"],[\"surprised\"],[\"surprised\"],[\"surprised\"],[\"neutral\"],[\"angry\"],[\"surprised\"],[\"surprised\"],[\"neutral\"],[\"surprised\"],[\"surprised\"],[\"surprised\"],[\"surprised\"],[\"surprised\"],[\"surprised\"],[\"surprised\"],[\"surprised\"],[\"surprised\"],[\"neutral\"],[\"neutral\"],[\"happy\"],[\"surprised\"],[\"surprised\"],[\"neutral\"],[\"surprised\"],[\"surprised\"],[\"neutral\"],[\"surprised\"],[\"surprised\"],[\"surprised\"],[\"surprised\"],[\"surprised\"],[\"happy\"]],\"hovertemplate\":\"Label=surprised\\u003cbr\\u003ex=%{x}\\u003cbr\\u003ey=%{y}\\u003cbr\\u003ePredictions=%{customdata[0]}\\u003cextra\\u003e\\u003c\\u002fextra\\u003e\",\"legendgroup\":\"surprised\",\"marker\":{\"color\":\"#19D3F3\",\"opacity\":0.2,\"size\":12,\"symbol\":\"circle\"},\"mode\":\"markers\",\"name\":\"surprised\",\"showlegend\":false,\"x\":[-11.725500106811523,-13.533727645874023,-26.54584312438965,-26.9787654876709,-26.605297088623047,-27.105703353881836,34.876338958740234,34.69827651977539,20.56986427307129,-7.956020832061768,-39.10917282104492,28.18902015686035,27.955245971679688,27.53016471862793,31.431543350219727,35.64750671386719,-11.00885009765625,-13.179807662963867,-14.36856746673584,-11.874167442321777,19.843425750732422,-12.351123809814453,-3.712498188018799,-29.575143814086914,-29.589771270751953,-29.22947120666504,24.488710403442383,-10.635002136230469,-18.457813262939453,34.42399215698242,-18.732633590698242,-19.238588333129883,33.40890121459961,20.94757652282715,-2.9799160957336426,-0.49065589904785156,-37.515438079833984,-2.20167875289917,-3.343123197555542,-1.5783360004425049,18.598045349121094,19.999731063842773,15.564616203308105,14.34352970123291,28.89368438720703,26.05025863647461,29.494369506835938,-11.176942825317383,-40.4260368347168,-21.341596603393555,-40.828773498535156,-39.74783706665039,-2.9180190563201904,-5.076242923736572,24.733203887939453,22.610260009765625],\"xaxis\":\"x\",\"y\":[11.723140716552734,-42.27842712402344,3.7338056564331055,4.294079303741455,3.129204034805298,3.777310609817505,-17.72536277770996,-16.924644470214844,-14.801640510559082,-47.439239501953125,13.357952117919922,-26.321956634521484,-26.98733139038086,-26.44352912902832,-3.96148943901062,-18.5686092376709,-34.62105178833008,-35.735836029052734,-34.91883850097656,-32.69963455200195,24.514320373535156,-41.958030700683594,0.7558667659759521,19.541288375854492,19.203386306762695,19.082786560058594,-27.127668380737305,-44.840965270996094,0.06346834450960159,-12.12365436553955,-0.6025807857513428,-0.377390593290329,-13.522680282592773,27.603965759277344,-51.019779205322266,-49.479652404785156,19.696571350097656,-48.99983596801758,-49.57712173461914,-47.5860710144043,33.52159881591797,43.21847915649414,41.17185592651367,41.4537353515625,22.648225784301758,22.948991775512695,20.19688606262207,-35.97902297973633,-21.7990665435791,10.108052253723145,-19.876522064208984,-20.244279861450195,0.7006110548973083,0.540727972984314,42.649620056152344,41.452552795410156],\"yaxis\":\"y\",\"type\":\"scattergl\"},{\"customdata\":[[\"happy\"],[\"disgusted\"],[\"disgusted\"],[\"disgusted\"],[\"disgusted\"],[\"disgusted\"],[\"disgusted\"],[\"disgusted\"],[\"happy\"],[\"disgusted\"],[\"disgusted\"],[\"disgusted\"],[\"disgusted\"],[\"disgusted\"],[\"disgusted\"],[\"disgusted\"],[\"disgusted\"],[\"disgusted\"],[\"disgusted\"],[\"disgusted\"],[\"disgusted\"],[\"disgusted\"],[\"disgusted\"],[\"disgusted\"],[\"disgusted\"],[\"disgusted\"],[\"angry\"],[\"sad\"],[\"disgusted\"],[\"neutral\"],[\"disgusted\"],[\"disgusted\"],[\"happy\"],[\"angry\"],[\"disgusted\"],[\"disgusted\"],[\"disgusted\"],[\"disgusted\"],[\"disgusted\"],[\"disgusted\"],[\"disgusted\"],[\"angry\"],[\"disgusted\"],[\"angry\"],[\"disgusted\"],[\"disgusted\"],[\"disgusted\"],[\"disgusted\"],[\"disgusted\"],[\"disgusted\"],[\"disgusted\"],[\"disgusted\"],[\"disgusted\"],[\"disgusted\"]],\"hovertemplate\":\"Label=disgusted\\u003cbr\\u003ex=%{x}\\u003cbr\\u003ey=%{y}\\u003cbr\\u003ePredictions=%{customdata[0]}\\u003cextra\\u003e\\u003c\\u002fextra\\u003e\",\"legendgroup\":\"disgusted\",\"marker\":{\"color\":\"#EF553B\",\"opacity\":0.2,\"size\":12,\"symbol\":\"circle\"},\"mode\":\"markers\",\"name\":\"disgusted\",\"showlegend\":false,\"x\":[-12.336583137512207,-40.42703628540039,-16.803022384643555,34.768436431884766,35.026084899902344,22.861284255981445,-39.20261764526367,-41.893348693847656,-43.02274703979492,27.862638473510742,14.216453552246094,13.2725830078125,30.532346725463867,30.50922966003418,-21.081951141357422,-20.59623146057129,-11.156904220581055,-12.160935401916504,-12.302993774414062,-9.791045188903809,-29.2993106842041,25.03351593017578,25.25151252746582,24.8320369720459,-14.146044731140137,33.36556625366211,-1.393636703491211,-2.2869584560394287,-1.521343469619751,-1.3789411783218384,19.867246627807617,20.3701229095459,15.603727340698242,15.46220588684082,13.679896354675293,30.5531063079834,26.914424896240234,29.16300392150879,27.682531356811523,28.06402587890625,30.405031204223633,-22.52216148376465,-12.094525337219238,-18.218399047851562,-11.546581268310547,24.133625030517578,29.59817886352539,-10.686470031738281,-1.6519197225570679,24.096498489379883,24.30548858642578,22.65831184387207,23.418672561645508,28.683666229248047],\"xaxis\":\"x\",\"y\":[6.513999938964844,-22.964868545532227,-44.21087646484375,-17.316640853881836,-16.862483978271484,30.022077560424805,11.834027290344238,16.295738220214844,14.59908676147461,-26.054458618164062,37.54801940917969,40.1246223449707,-5.06476354598999,-5.0788984298706055,12.531390190124512,9.697164535522461,-34.03947830200195,-41.63948059082031,-41.63542938232422,-41.928916931152344,19.90862464904785,-27.042884826660156,-27.847030639648438,-27.610553741455078,4.492546081542969,-12.795058250427246,-50.50077438354492,-47.860801696777344,-48.23388671875,-47.97739791870117,36.595558166503906,37.23102569580078,41.12664794921875,41.11888885498047,41.53892517089844,20.65007209777832,24.876333236694336,20.790996551513672,20.385019302368164,20.889455795288086,19.851959228515625,7.506184101104736,9.110600471496582,4.343341827392578,6.875887393951416,27.017976760864258,-8.573556900024414,6.489996433258057,1.2049258947372437,43.87137222290039,42.04304504394531,43.30411148071289,43.26651382446289,-13.176050186157227],\"yaxis\":\"y\",\"type\":\"scattergl\"},{\"customdata\":[[\"happy\"],[\"happy\"],[\"angry\"],[\"happy\"],[\"happy\"],[\"happy\"],[\"happy\"],[\"happy\"],[\"happy\"],[\"happy\"],[\"happy\"],[\"happy\"],[\"neutral\"],[\"happy\"],[\"disgusted\"],[\"happy\"],[\"happy\"],[\"happy\"],[\"happy\"],[\"happy\"],[\"happy\"],[\"happy\"],[\"surprised\"],[\"angry\"],[\"happy\"],[\"neutral\"],[\"neutral\"],[\"happy\"],[\"happy\"],[\"happy\"],[\"disgusted\"],[\"happy\"],[\"happy\"],[\"disgusted\"],[\"happy\"],[\"happy\"],[\"happy\"],[\"happy\"],[\"happy\"],[\"angry\"],[\"happy\"],[\"happy\"],[\"happy\"],[\"happy\"],[\"happy\"],[\"happy\"],[\"happy\"],[\"happy\"],[\"neutral\"],[\"happy\"],[\"happy\"],[\"happy\"],[\"happy\"],[\"happy\"],[\"angry\"],[\"happy\"],[\"happy\"],[\"happy\"],[\"happy\"],[\"happy\"],[\"surprised\"],[\"happy\"],[\"happy\"],[\"happy\"],[\"happy\"],[\"happy\"],[\"angry\"],[\"happy\"]],\"hovertemplate\":\"Label=happy\\u003cbr\\u003ex=%{x}\\u003cbr\\u003ey=%{y}\\u003cbr\\u003ePredictions=%{customdata[0]}\\u003cextra\\u003e\\u003c\\u002fextra\\u003e\",\"legendgroup\":\"happy\",\"marker\":{\"color\":\"#00CC96\",\"opacity\":0.2,\"size\":12,\"symbol\":\"circle\"},\"mode\":\"markers\",\"name\":\"happy\",\"showlegend\":false,\"x\":[-14.765125274658203,-12.686431884765625,-27.39911651611328,34.82197189331055,-27.82823371887207,-43.32770919799805,-40.13063049316406,-43.730106353759766,-41.57694625854492,-42.977813720703125,-40.50055694580078,-39.677799224853516,-25.87444496154785,28.06441307067871,13.37726879119873,-12.183632850646973,-12.192888259887695,33.04597854614258,-12.594975471496582,-19.891515731811523,-16.136974334716797,-16.093982696533203,30.602863311767578,-39.73685073852539,32.08506774902344,-16.678333282470703,-4.981361389160156,-3.7894294261932373,-20.46196174621582,-29.634788513183594,25.270627975463867,24.562026977539062,-12.797628402709961,-17.031051635742188,-14.65580940246582,-18.78435516357422,33.641971588134766,18.931209564208984,20.313018798828125,-3.0609841346740723,-2.233682870864868,-2.256772041320801,-2.470273733139038,-3.1404287815093994,-3.2037370204925537,-1.9958891868591309,19.918474197387695,17.521032333374023,20.321800231933594,14.752206802368164,26.355716705322266,26.816471099853516,29.187231063842773,29.721155166625977,25.93573570251465,23.065200805664062,-8.881786346435547,-12.76051139831543,25.45203971862793,-2.35332989692688,35.749298095703125,22.78404998779297,22.730974197387695,23.390640258789062,23.323339462280273,22.255088806152344,22.25467300415039,22.556598663330078],\"xaxis\":\"x\",\"y\":[-42.24330139160156,-37.01607894897461,4.394617080688477,-17.210430145263672,2.927506446838379,16.052072525024414,11.665462493896484,15.114078521728516,16.094106674194336,14.181212425231934,12.82445240020752,12.915325164794922,15.047268867492676,-26.622682571411133,39.80457305908203,-0.9800812602043152,-0.9801750779151917,-19.234840393066406,-35.046207427978516,5.84687614440918,-33.83302307128906,-33.47542190551758,-8.946255683898926,-19.6688289642334,-3.590977668762207,8.865732192993164,-29.549083709716797,-27.947660446166992,-36.77698516845703,19.789875030517578,-27.645124435424805,-27.521846771240234,8.581527709960938,-40.56093978881836,-41.74968338012695,0.09714814275503159,-12.515691757202148,27.142574310302734,26.958740234375,-50.9888801574707,-48.111671447753906,-48.32467269897461,-48.92933654785156,-49.89720916748047,-49.583396911621094,-47.589412689208984,35.13416290283203,32.30202865600586,37.165306091308594,41.36164855957031,24.47357940673828,22.843189239501953,20.488079071044922,20.704959869384766,31.90155792236328,35.258079528808594,-36.94932174682617,3.691744804382324,27.10072898864746,1.4722275733947754,-1.9505934715270996,42.66974639892578,41.72629165649414,44.074344635009766,43.81692123413086,43.28907775878906,43.28887176513672,43.802207946777344],\"yaxis\":\"y\",\"type\":\"scattergl\"},{\"customdata\":[[\"happy\"],[\"happy\"],[\"sad\"],[\"happy\"],[\"sad\"],[\"sad\"],[\"sad\"],[\"sad\"],[\"happy\"],[\"disgusted\"],[\"angry\"],[\"sad\"],[\"sad\"],[\"angry\"],[\"sad\"],[\"sad\"],[\"angry\"],[\"sad\"],[\"sad\"],[\"angry\"],[\"sad\"],[\"sad\"],[\"sad\"],[\"sad\"],[\"sad\"],[\"sad\"],[\"angry\"],[\"angry\"],[\"angry\"],[\"sad\"],[\"disgusted\"],[\"disgusted\"],[\"happy\"],[\"angry\"],[\"sad\"],[\"disgusted\"],[\"disgusted\"],[\"sad\"],[\"sad\"],[\"sad\"],[\"sad\"],[\"disgusted\"],[\"sad\"],[\"sad\"],[\"sad\"],[\"sad\"],[\"sad\"],[\"sad\"],[\"sad\"],[\"sad\"],[\"sad\"],[\"angry\"],[\"angry\"],[\"angry\"]],\"hovertemplate\":\"Label=sad\\u003cbr\\u003ex=%{x}\\u003cbr\\u003ey=%{y}\\u003cbr\\u003ePredictions=%{customdata[0]}\\u003cextra\\u003e\\u003c\\u002fextra\\u003e\",\"legendgroup\":\"sad\",\"marker\":{\"color\":\"#FFA15A\",\"opacity\":0.2,\"size\":12,\"symbol\":\"circle\"},\"mode\":\"markers\",\"name\":\"sad\",\"showlegend\":false,\"x\":[-15.239240646362305,-14.147061347961426,22.94577980041504,-27.01239776611328,-27.189434051513672,-27.794021606445312,-41.78894805908203,-40.66866683959961,-42.48318862915039,-42.41917037963867,-39.3524284362793,28.033334732055664,33.048099517822266,-14.158856391906738,-10.989398956298828,31.550914764404297,29.386512756347656,-10.659279823303223,-9.956546783447266,-13.008674621582031,-21.01313591003418,-29.097497940063477,-29.107624053955078,-28.724376678466797,25.321491241455078,-28.67148780822754,24.76508903503418,-12.857624053955078,-19.063173294067383,34.57292938232422,33.06155776977539,-17.59597396850586,-1.0487034320831299,-2.1029837131500244,23.9741268157959,-38.13728713989258,-1.4344154596328735,17.51839828491211,14.241744995117188,25.271650314331055,26.46108627319336,26.660999298095703,28.861663818359375,30.508991241455078,28.812999725341797,18.899925231933594,-8.029606819152832,-12.73385238647461,-40.061248779296875,-39.311161041259766,19.693138122558594,35.84831619262695,21.217626571655273,24.305557250976562],\"xaxis\":\"x\",\"y\":[-42.23183822631836,6.338018894195557,30.111722946166992,3.156100034713745,3.7569873332977295,2.7867040634155273,15.77741527557373,13.129758834838867,15.219549179077148,14.168048858642578,11.9982328414917,-26.036151885986328,-20.007150650024414,-36.487579345703125,-34.65713119506836,-8.996831893920898,-8.499268531799316,7.209721565246582,-41.924442291259766,7.82078218460083,-36.90681457519531,19.170286178588867,19.912044525146484,19.391767501831055,-27.524885177612305,20.016448974609375,-27.094505310058594,-42.85374069213867,0.5902104377746582,-12.001947402954102,-13.05142593383789,-0.684058427810669,-49.51292037963867,-51.646427154541016,28.337867736816406,19.48723030090332,-48.418174743652344,32.28477096557617,42.06755065917969,23.390451431274414,23.331937789916992,23.735931396484375,21.560474395751953,20.908071517944336,21.531068801879883,28.681997299194336,-36.99026107788086,3.6108601093292236,-19.235919952392578,-19.67784309387207,24.88661003112793,-1.9931159019470215,42.210208892822266,42.04307556152344],\"yaxis\":\"y\",\"type\":\"scattergl\"},{\"customdata\":[[\"sad\"],[\"angry\"],[\"angry\"],[\"angry\"],[\"disgusted\"],[\"neutral\"],[\"angry\"],[\"angry\"],[\"angry\"],[\"angry\"],[\"angry\"],[\"sad\"],[\"angry\"],[\"happy\"],[\"angry\"],[\"angry\"],[\"angry\"],[\"surprised\"],[\"happy\"],[\"angry\"],[\"surprised\"],[\"angry\"],[\"angry\"],[\"angry\"],[\"angry\"],[\"disgusted\"],[\"angry\"],[\"disgusted\"],[\"disgusted\"],[\"angry\"],[\"disgusted\"],[\"angry\"],[\"angry\"],[\"angry\"],[\"angry\"],[\"angry\"],[\"angry\"],[\"disgusted\"],[\"sad\"],[\"angry\"],[\"angry\"],[\"angry\"],[\"angry\"],[\"neutral\"],[\"angry\"],[\"angry\"]],\"hovertemplate\":\"Label=angry\\u003cbr\\u003ex=%{x}\\u003cbr\\u003ey=%{y}\\u003cbr\\u003ePredictions=%{customdata[0]}\\u003cextra\\u003e\\u003c\\u002fextra\\u003e\",\"legendgroup\":\"angry\",\"marker\":{\"color\":\"#636EFA\",\"opacity\":0.2,\"size\":12,\"symbol\":\"circle\"},\"mode\":\"markers\",\"name\":\"angry\",\"showlegend\":false,\"x\":[-40.347862243652344,-16.029699325561523,34.129722595214844,34.63303756713867,35.384849548339844,-41.330318450927734,-43.48625183105469,-7.054405212402344,-40.31382751464844,-39.09308624267578,-39.54033279418945,27.55339813232422,16.688196182250977,10.542195320129395,10.73619556427002,13.635284423828125,-8.530594825744629,29.203916549682617,2.5232677459716797,-24.444290161132812,-9.232643127441406,-13.46400260925293,-12.391029357910156,-2.9256532192230225,-15.725768089294434,11.131056785583496,-14.321993827819824,-16.595048904418945,-19.173377990722656,-17.560962677001953,-1.8204880952835083,36.174232482910156,-3.2227373123168945,-37.656585693359375,15.070780754089355,27.20876693725586,28.05190086364746,27.104196548461914,-15.713203430175781,28.648059844970703,27.338380813598633,-0.878512978553772,22.915485382080078,23.33856964111328,23.192832946777344,22.749101638793945],\"xaxis\":\"x\",\"y\":[-23.071306228637695,-36.04819107055664,-17.59372329711914,-17.653104782104492,-17.3432674407959,13.2625732421875,16.39007568359375,-47.465576171875,12.485068321228027,11.548460960388184,13.172564506530762,-26.009302139282227,32.889442443847656,41.92347717285156,42.324859619140625,38.229183197021484,-2.5583481788635254,-9.070046424865723,30.09262466430664,9.760819435119629,-41.04818344116211,6.300059795379639,-42.01194763183594,2.3983523845672607,-42.999267578125,32.20399475097656,9.970511436462402,-42.211238861083984,1.5974539518356323,-0.6575087308883667,-49.85844039916992,-16.536823272705078,-49.98432540893555,19.716278076171875,41.663291931152344,20.888883590698242,23.143543243408203,23.21303939819336,-34.444583892822266,-9.157988548278809,-9.790775299072266,3.501088857650757,42.4140510559082,42.79749298095703,43.45390319824219,44.11992645263672],\"yaxis\":\"y\",\"type\":\"scattergl\"},{\"customdata\":[[\"neutral\"],[\"neutral\"],[\"neutral\"],[\"neutral\"],[\"neutral\"],[\"surprised\"],[\"neutral\"],[\"neutral\"],[\"angry\"],[\"surprised\"],[\"neutral\"],[\"neutral\"],[\"neutral\"],[\"neutral\"],[\"neutral\"],[\"neutral\"],[\"neutral\"],[\"neutral\"],[\"neutral\"],[\"neutral\"],[\"neutral\"],[\"sad\"],[\"neutral\"],[\"neutral\"],[\"happy\"],[\"neutral\"],[\"neutral\"],[\"neutral\"],[\"neutral\"],[\"neutral\"],[\"neutral\"],[\"angry\"],[\"sad\"],[\"happy\"],[\"disgusted\"],[\"neutral\"],[\"neutral\"],[\"surprised\"],[\"neutral\"],[\"neutral\"],[\"sad\"],[\"neutral\"],[\"neutral\"],[\"neutral\"],[\"surprised\"],[\"neutral\"],[\"happy\"]],\"hovertemplate\":\"Label=neutral\\u003cbr\\u003ex=%{x}\\u003cbr\\u003ey=%{y}\\u003cbr\\u003ePredictions=%{customdata[0]}\\u003cextra\\u003e\\u003c\\u002fextra\\u003e\",\"legendgroup\":\"neutral\",\"marker\":{\"color\":\"#AB63FA\",\"opacity\":0.2,\"size\":12,\"symbol\":\"circle\"},\"mode\":\"markers\",\"name\":\"neutral\",\"showlegend\":false,\"x\":[33.996150970458984,-43.72062301635742,-43.748985290527344,-42.585655212402344,-38.77237319946289,-39.15742492675781,-38.64978790283203,17.764663696289062,13.395828247070312,13.871421813964844,13.6104736328125,-23.48662757873535,-22.22153091430664,-41.16389846801758,-18.356332778930664,-12.169379234313965,-16.465341567993164,-20.06650161743164,-28.789779663085938,11.145788192749023,-12.635600090026855,-17.725847244262695,19.09981346130371,20.817594528198242,-2.260435104370117,-37.833187103271484,-37.30929946899414,-1.5009418725967407,18.7305850982666,19.89495277404785,14.271474838256836,26.928098678588867,27.227502822875977,28.65789222717285,27.932369232177734,27.456594467163086,27.087369918823242,36.49604797363281,16.753253936767578,26.261842727661133,-29.68750762939453,-16.287967681884766,-11.503993034362793,-10.396193504333496,-4.542495250701904,-5.13170051574707,21.626707077026367],\"xaxis\":\"x\",\"y\":[-17.30267333984375,15.808172225952148,16.496177673339844,14.122089385986328,12.199338912963867,13.275129318237305,11.546534538269043,33.522705078125,39.655887603759766,37.83897018432617,38.32844543457031,10.551862716674805,4.252117156982422,-21.874332427978516,10.145968437194824,-35.038177490234375,-34.19129943847656,-36.8842887878418,19.503395080566406,32.21302795410156,-40.076622009277344,-0.11030206084251404,27.13822364807129,27.453067779541016,-50.78306579589844,19.371685028076172,19.838735580444336,-49.173152923583984,33.6029167175293,36.35329818725586,42.033138275146484,25.52338218688965,24.113162994384766,21.59801483154297,21.661836624145508,20.99356460571289,23.050016403198242,-2.34926176071167,37.56482696533203,-14.309172630310059,5.696734428405762,1.6965912580490112,-38.93822479248047,6.5800580978393555,1.4443241357803345,0.518944263458252,42.73482894897461],\"yaxis\":\"y\",\"type\":\"scattergl\"}],                        {\"template\":{\"data\":{\"histogram2dcontour\":[{\"type\":\"histogram2dcontour\",\"colorbar\":{\"outlinewidth\":0,\"ticks\":\"\"},\"colorscale\":[[0.0,\"#0d0887\"],[0.1111111111111111,\"#46039f\"],[0.2222222222222222,\"#7201a8\"],[0.3333333333333333,\"#9c179e\"],[0.4444444444444444,\"#bd3786\"],[0.5555555555555556,\"#d8576b\"],[0.6666666666666666,\"#ed7953\"],[0.7777777777777778,\"#fb9f3a\"],[0.8888888888888888,\"#fdca26\"],[1.0,\"#f0f921\"]]}],\"choropleth\":[{\"type\":\"choropleth\",\"colorbar\":{\"outlinewidth\":0,\"ticks\":\"\"}}],\"histogram2d\":[{\"type\":\"histogram2d\",\"colorbar\":{\"outlinewidth\":0,\"ticks\":\"\"},\"colorscale\":[[0.0,\"#0d0887\"],[0.1111111111111111,\"#46039f\"],[0.2222222222222222,\"#7201a8\"],[0.3333333333333333,\"#9c179e\"],[0.4444444444444444,\"#bd3786\"],[0.5555555555555556,\"#d8576b\"],[0.6666666666666666,\"#ed7953\"],[0.7777777777777778,\"#fb9f3a\"],[0.8888888888888888,\"#fdca26\"],[1.0,\"#f0f921\"]]}],\"heatmap\":[{\"type\":\"heatmap\",\"colorbar\":{\"outlinewidth\":0,\"ticks\":\"\"},\"colorscale\":[[0.0,\"#0d0887\"],[0.1111111111111111,\"#46039f\"],[0.2222222222222222,\"#7201a8\"],[0.3333333333333333,\"#9c179e\"],[0.4444444444444444,\"#bd3786\"],[0.5555555555555556,\"#d8576b\"],[0.6666666666666666,\"#ed7953\"],[0.7777777777777778,\"#fb9f3a\"],[0.8888888888888888,\"#fdca26\"],[1.0,\"#f0f921\"]]}],\"heatmapgl\":[{\"type\":\"heatmapgl\",\"colorbar\":{\"outlinewidth\":0,\"ticks\":\"\"},\"colorscale\":[[0.0,\"#0d0887\"],[0.1111111111111111,\"#46039f\"],[0.2222222222222222,\"#7201a8\"],[0.3333333333333333,\"#9c179e\"],[0.4444444444444444,\"#bd3786\"],[0.5555555555555556,\"#d8576b\"],[0.6666666666666666,\"#ed7953\"],[0.7777777777777778,\"#fb9f3a\"],[0.8888888888888888,\"#fdca26\"],[1.0,\"#f0f921\"]]}],\"contourcarpet\":[{\"type\":\"contourcarpet\",\"colorbar\":{\"outlinewidth\":0,\"ticks\":\"\"}}],\"contour\":[{\"type\":\"contour\",\"colorbar\":{\"outlinewidth\":0,\"ticks\":\"\"},\"colorscale\":[[0.0,\"#0d0887\"],[0.1111111111111111,\"#46039f\"],[0.2222222222222222,\"#7201a8\"],[0.3333333333333333,\"#9c179e\"],[0.4444444444444444,\"#bd3786\"],[0.5555555555555556,\"#d8576b\"],[0.6666666666666666,\"#ed7953\"],[0.7777777777777778,\"#fb9f3a\"],[0.8888888888888888,\"#fdca26\"],[1.0,\"#f0f921\"]]}],\"surface\":[{\"type\":\"surface\",\"colorbar\":{\"outlinewidth\":0,\"ticks\":\"\"},\"colorscale\":[[0.0,\"#0d0887\"],[0.1111111111111111,\"#46039f\"],[0.2222222222222222,\"#7201a8\"],[0.3333333333333333,\"#9c179e\"],[0.4444444444444444,\"#bd3786\"],[0.5555555555555556,\"#d8576b\"],[0.6666666666666666,\"#ed7953\"],[0.7777777777777778,\"#fb9f3a\"],[0.8888888888888888,\"#fdca26\"],[1.0,\"#f0f921\"]]}],\"mesh3d\":[{\"type\":\"mesh3d\",\"colorbar\":{\"outlinewidth\":0,\"ticks\":\"\"}}],\"scatter\":[{\"fillpattern\":{\"fillmode\":\"overlay\",\"size\":10,\"solidity\":0.2},\"type\":\"scatter\"}],\"parcoords\":[{\"type\":\"parcoords\",\"line\":{\"colorbar\":{\"outlinewidth\":0,\"ticks\":\"\"}}}],\"scatterpolargl\":[{\"type\":\"scatterpolargl\",\"marker\":{\"colorbar\":{\"outlinewidth\":0,\"ticks\":\"\"}}}],\"bar\":[{\"error_x\":{\"color\":\"#2a3f5f\"},\"error_y\":{\"color\":\"#2a3f5f\"},\"marker\":{\"line\":{\"color\":\"#E5ECF6\",\"width\":0.5},\"pattern\":{\"fillmode\":\"overlay\",\"size\":10,\"solidity\":0.2}},\"type\":\"bar\"}],\"scattergeo\":[{\"type\":\"scattergeo\",\"marker\":{\"colorbar\":{\"outlinewidth\":0,\"ticks\":\"\"}}}],\"scatterpolar\":[{\"type\":\"scatterpolar\",\"marker\":{\"colorbar\":{\"outlinewidth\":0,\"ticks\":\"\"}}}],\"histogram\":[{\"marker\":{\"pattern\":{\"fillmode\":\"overlay\",\"size\":10,\"solidity\":0.2}},\"type\":\"histogram\"}],\"scattergl\":[{\"type\":\"scattergl\",\"marker\":{\"colorbar\":{\"outlinewidth\":0,\"ticks\":\"\"}}}],\"scatter3d\":[{\"type\":\"scatter3d\",\"line\":{\"colorbar\":{\"outlinewidth\":0,\"ticks\":\"\"}},\"marker\":{\"colorbar\":{\"outlinewidth\":0,\"ticks\":\"\"}}}],\"scattermapbox\":[{\"type\":\"scattermapbox\",\"marker\":{\"colorbar\":{\"outlinewidth\":0,\"ticks\":\"\"}}}],\"scatterternary\":[{\"type\":\"scatterternary\",\"marker\":{\"colorbar\":{\"outlinewidth\":0,\"ticks\":\"\"}}}],\"scattercarpet\":[{\"type\":\"scattercarpet\",\"marker\":{\"colorbar\":{\"outlinewidth\":0,\"ticks\":\"\"}}}],\"carpet\":[{\"aaxis\":{\"endlinecolor\":\"#2a3f5f\",\"gridcolor\":\"white\",\"linecolor\":\"white\",\"minorgridcolor\":\"white\",\"startlinecolor\":\"#2a3f5f\"},\"baxis\":{\"endlinecolor\":\"#2a3f5f\",\"gridcolor\":\"white\",\"linecolor\":\"white\",\"minorgridcolor\":\"white\",\"startlinecolor\":\"#2a3f5f\"},\"type\":\"carpet\"}],\"table\":[{\"cells\":{\"fill\":{\"color\":\"#EBF0F8\"},\"line\":{\"color\":\"white\"}},\"header\":{\"fill\":{\"color\":\"#C8D4E3\"},\"line\":{\"color\":\"white\"}},\"type\":\"table\"}],\"barpolar\":[{\"marker\":{\"line\":{\"color\":\"#E5ECF6\",\"width\":0.5},\"pattern\":{\"fillmode\":\"overlay\",\"size\":10,\"solidity\":0.2}},\"type\":\"barpolar\"}],\"pie\":[{\"automargin\":true,\"type\":\"pie\"}]},\"layout\":{\"autotypenumbers\":\"strict\",\"colorway\":[\"#636efa\",\"#EF553B\",\"#00cc96\",\"#ab63fa\",\"#FFA15A\",\"#19d3f3\",\"#FF6692\",\"#B6E880\",\"#FF97FF\",\"#FECB52\"],\"font\":{\"color\":\"#2a3f5f\"},\"hovermode\":\"closest\",\"hoverlabel\":{\"align\":\"left\"},\"paper_bgcolor\":\"white\",\"plot_bgcolor\":\"#E5ECF6\",\"polar\":{\"bgcolor\":\"#E5ECF6\",\"angularaxis\":{\"gridcolor\":\"white\",\"linecolor\":\"white\",\"ticks\":\"\"},\"radialaxis\":{\"gridcolor\":\"white\",\"linecolor\":\"white\",\"ticks\":\"\"}},\"ternary\":{\"bgcolor\":\"#E5ECF6\",\"aaxis\":{\"gridcolor\":\"white\",\"linecolor\":\"white\",\"ticks\":\"\"},\"baxis\":{\"gridcolor\":\"white\",\"linecolor\":\"white\",\"ticks\":\"\"},\"caxis\":{\"gridcolor\":\"white\",\"linecolor\":\"white\",\"ticks\":\"\"}},\"coloraxis\":{\"colorbar\":{\"outlinewidth\":0,\"ticks\":\"\"}},\"colorscale\":{\"sequential\":[[0.0,\"#0d0887\"],[0.1111111111111111,\"#46039f\"],[0.2222222222222222,\"#7201a8\"],[0.3333333333333333,\"#9c179e\"],[0.4444444444444444,\"#bd3786\"],[0.5555555555555556,\"#d8576b\"],[0.6666666666666666,\"#ed7953\"],[0.7777777777777778,\"#fb9f3a\"],[0.8888888888888888,\"#fdca26\"],[1.0,\"#f0f921\"]],\"sequentialminus\":[[0.0,\"#0d0887\"],[0.1111111111111111,\"#46039f\"],[0.2222222222222222,\"#7201a8\"],[0.3333333333333333,\"#9c179e\"],[0.4444444444444444,\"#bd3786\"],[0.5555555555555556,\"#d8576b\"],[0.6666666666666666,\"#ed7953\"],[0.7777777777777778,\"#fb9f3a\"],[0.8888888888888888,\"#fdca26\"],[1.0,\"#f0f921\"]],\"diverging\":[[0,\"#8e0152\"],[0.1,\"#c51b7d\"],[0.2,\"#de77ae\"],[0.3,\"#f1b6da\"],[0.4,\"#fde0ef\"],[0.5,\"#f7f7f7\"],[0.6,\"#e6f5d0\"],[0.7,\"#b8e186\"],[0.8,\"#7fbc41\"],[0.9,\"#4d9221\"],[1,\"#276419\"]]},\"xaxis\":{\"gridcolor\":\"white\",\"linecolor\":\"white\",\"ticks\":\"\",\"title\":{\"standoff\":15},\"zerolinecolor\":\"white\",\"automargin\":true,\"zerolinewidth\":2},\"yaxis\":{\"gridcolor\":\"white\",\"linecolor\":\"white\",\"ticks\":\"\",\"title\":{\"standoff\":15},\"zerolinecolor\":\"white\",\"automargin\":true,\"zerolinewidth\":2},\"scene\":{\"xaxis\":{\"backgroundcolor\":\"#E5ECF6\",\"gridcolor\":\"white\",\"linecolor\":\"white\",\"showbackground\":true,\"ticks\":\"\",\"zerolinecolor\":\"white\",\"gridwidth\":2},\"yaxis\":{\"backgroundcolor\":\"#E5ECF6\",\"gridcolor\":\"white\",\"linecolor\":\"white\",\"showbackground\":true,\"ticks\":\"\",\"zerolinecolor\":\"white\",\"gridwidth\":2},\"zaxis\":{\"backgroundcolor\":\"#E5ECF6\",\"gridcolor\":\"white\",\"linecolor\":\"white\",\"showbackground\":true,\"ticks\":\"\",\"zerolinecolor\":\"white\",\"gridwidth\":2}},\"shapedefaults\":{\"line\":{\"color\":\"#2a3f5f\"}},\"annotationdefaults\":{\"arrowcolor\":\"#2a3f5f\",\"arrowhead\":0,\"arrowwidth\":1},\"geo\":{\"bgcolor\":\"white\",\"landcolor\":\"#E5ECF6\",\"subunitcolor\":\"white\",\"showland\":true,\"showlakes\":true,\"lakecolor\":\"white\"},\"title\":{\"x\":0.05},\"mapbox\":{\"style\":\"light\"}}},\"xaxis\":{\"anchor\":\"y\",\"domain\":[0.0,1.0],\"title\":{\"text\":\"x\"}},\"yaxis\":{\"anchor\":\"x\",\"domain\":[0.0,1.0],\"title\":{\"text\":\"y\"}},\"legend\":{\"title\":{\"text\":\"Predictions, Correct\"},\"tracegroupgap\":0},\"margin\":{\"t\":60}},                        {\"responsive\": true}                    ).then(function(){\n",
       "                            \n",
       "var gd = document.getElementById('3cf4f5c5-fdd9-47fe-a707-fb735a159d87');\n",
       "var x = new MutationObserver(function (mutations, observer) {{\n",
       "        var display = window.getComputedStyle(gd).display;\n",
       "        if (!display || display === 'none') {{\n",
       "            console.log([gd, 'removed!']);\n",
       "            Plotly.purge(gd);\n",
       "            observer.disconnect();\n",
       "        }}\n",
       "}});\n",
       "\n",
       "// Listen for the removal of the full notebook cells\n",
       "var notebookContainer = gd.closest('#notebook-container');\n",
       "if (notebookContainer) {{\n",
       "    x.observe(notebookContainer, {childList: true});\n",
       "}}\n",
       "\n",
       "// Listen for the clearing of the current output cell\n",
       "var outputEl = gd.closest('.output');\n",
       "if (outputEl) {{\n",
       "    x.observe(outputEl, {childList: true});\n",
       "}}\n",
       "\n",
       "                        })                };                });            </script>        </div>"
      ]
     },
     "metadata": {},
     "output_type": "display_data"
    }
   ],
   "source": [
    "predictions_series = pd.Series(predictions, name=\"Predictions\").replace(range(len(CLASS_NAMES)), CLASS_NAMES) #type: ignore\n",
    "labels_series = pd.Series(labels, name=\"Label\").replace(range(len(CLASS_NAMES)), CLASS_NAMES) # type: ignore\n",
    "discrete_color_map = dict(zip(CLASS_NAMES, px.colors.qualitative.Plotly))\n",
    "symbol_map = {1: \"circle\", 0: \"x\"}\n",
    "\n",
    "correct_state = pd.Series(labels_series == predictions_series, name=\"Correct\")\n",
    "visdf = pd.concat([data_points2d_df, labels_series, predictions_series, correct_state], axis=1)\n",
    "visdf2 = pd.concat([data_points2d_df, labels_series, predictions_series, correct_state], axis=1)\n",
    "fig = px.scatter(visdf, x=\"x\", y=\"y\", color=\"Predictions\", hover_data=[\"Label\"], symbol=\"Correct\", color_discrete_map=discrete_color_map, symbol_map=symbol_map)\n",
    "fig2 = px.scatter(visdf, x=\"x\", y=\"y\", color=\"Label\", hover_data=[\"Predictions\"], opacity=0.2, color_discrete_map=discrete_color_map)\n",
    "\n",
    "fig2.update_traces(dict(\n",
    "  marker=dict(\n",
    "    size=12,\n",
    "  ),\n",
    "  showlegend=False\n",
    "))\n",
    "\n",
    "fig.add_traces(fig2.data)\n",
    "\n",
    "fig.show()"
   ]
  },
  {
   "cell_type": "code",
   "execution_count": 53,
   "metadata": {},
   "outputs": [
    {
     "data": {
      "application/vnd.plotly.v1+json": {
       "config": {
        "plotlyServerURL": "https://plot.ly"
       },
       "data": [
        {
         "hovertemplate": "Predictions=surprised<br>Correct=True<br>x=%{x}<br>y=%{y}<extra></extra>",
         "legendgroup": "surprised, True",
         "marker": {
          "color": "#19D3F3",
          "symbol": "circle"
         },
         "mode": "markers",
         "name": "surprised, True",
         "orientation": "v",
         "showlegend": true,
         "type": "scatter",
         "x": [
          -29.03413200378418,
          -28.438161849975586,
          -29.275409698486328,
          -29.275501251220703,
          -27.587202072143555,
          -28.3739070892334,
          -27.956298828125,
          -28.468860626220703,
          -29.06475257873535,
          -6.06555700302124,
          -29.183490753173828,
          -28.455615997314453,
          -24.864269256591797,
          -28.99857521057129,
          -29.045551300048828,
          -26.83577537536621,
          -24.979116439819336,
          -28.653778076171875,
          -28.69729232788086,
          -25.894372940063477,
          -28.71804428100586,
          -28.9501895904541,
          -28.470783233642578,
          -25.85606575012207,
          -28.35828971862793,
          -28.403608322143555,
          -29.276025772094727,
          -28.694232940673828,
          -29.000280380249023,
          -28.538557052612305,
          -28.34891128540039,
          -28.49088478088379,
          -25.87298011779785,
          -28.414390563964844,
          -25.379844665527344,
          -28.502548217773438,
          -28.61787223815918,
          -27.40515899658203,
          -29.263111114501953,
          -28.865007400512695,
          -29.27544593811035,
          -27.456684112548828,
          -29.09393882751465
         ],
         "xaxis": "x",
         "y": [
          -10.770391464233398,
          -10.71590518951416,
          -10.447535514831543,
          -10.446239471435547,
          -8.579465866088867,
          -10.571690559387207,
          -8.61199951171875,
          -10.113780975341797,
          -10.747953414916992,
          4.575817108154297,
          -10.122491836547852,
          -9.92562484741211,
          -9.396160125732422,
          -10.79741382598877,
          -10.045076370239258,
          -8.884658813476562,
          -8.79204273223877,
          -10.14971923828125,
          -9.34426212310791,
          -8.357933044433594,
          -9.484822273254395,
          -9.670040130615234,
          -10.149670600891113,
          -9.479110717773438,
          -10.520331382751465,
          -10.297584533691406,
          -10.446023941040039,
          -9.446516990661621,
          -9.804447174072266,
          -8.90695571899414,
          -8.954072952270508,
          -10.759408950805664,
          -9.475396156311035,
          -10.37879467010498,
          -8.87961483001709,
          -10.770337104797363,
          -10.824580192565918,
          -8.614246368408203,
          -10.480361938476562,
          -10.858428955078125,
          -10.446531295776367,
          -8.613042831420898,
          -9.956652641296387
         ],
         "yaxis": "y"
        },
        {
         "hovertemplate": "Predictions=surprised<br>Correct=False<br>x=%{x}<br>y=%{y}<extra></extra>",
         "legendgroup": "surprised, False",
         "marker": {
          "color": "#19D3F3",
          "symbol": "x"
         },
         "mode": "markers",
         "name": "surprised, False",
         "orientation": "v",
         "showlegend": true,
         "type": "scatter",
         "x": [
          -25.508031845092773,
          -26.83960723876953,
          -27.12347412109375,
          -25.737136840820312,
          -24.709869384765625,
          -25.449377059936523,
          -25.90211296081543,
          -28.855546951293945
         ],
         "xaxis": "x",
         "y": [
          -9.592011451721191,
          -8.500256538391113,
          -8.731938362121582,
          -8.3688383102417,
          -8.760528564453125,
          -8.925052642822266,
          -9.337818145751953,
          -10.861228942871094
         ],
         "yaxis": "y"
        },
        {
         "hovertemplate": "Predictions=happy<br>Correct=True<br>x=%{x}<br>y=%{y}<extra></extra>",
         "legendgroup": "happy, True",
         "marker": {
          "color": "#00CC96",
          "symbol": "circle"
         },
         "mode": "markers",
         "name": "happy, True",
         "orientation": "v",
         "showlegend": true,
         "type": "scatter",
         "x": [
          17.777645111083984,
          17.139265060424805,
          17.735422134399414,
          19.87163734436035,
          17.363277435302734,
          17.85568618774414,
          17.8631534576416,
          16.50998878479004,
          20.229040145874023,
          19.847166061401367,
          18.811683654785156,
          15.690552711486816,
          -3.6523196697235107,
          19.096771240234375,
          20.315465927124023,
          18.013330459594727,
          17.27256965637207,
          17.130001068115234,
          16.735271453857422,
          20.03704261779785,
          16.920772552490234,
          16.84446907043457,
          19.68102264404297,
          18.155794143676758,
          19.516746520996094,
          16.678171157836914,
          16.869728088378906,
          18.634197235107422,
          16.704940795898438,
          16.703304290771484,
          17.593244552612305,
          17.91265106201172,
          16.124841690063477,
          19.70167350769043,
          19.212121963500977,
          17.228111267089844,
          19.52887535095215,
          17.229467391967773,
          18.674951553344727,
          19.38349151611328,
          16.998180389404297,
          16.865720748901367,
          19.261737823486328,
          20.244312286376953,
          16.218021392822266,
          17.18649673461914,
          15.751455307006836,
          18.345638275146484,
          16.736644744873047,
          17.347375869750977,
          19.530963897705078,
          16.688486099243164,
          19.720117568969727,
          19.23339080810547
         ],
         "xaxis": "x",
         "y": [
          7.476766109466553,
          8.885516166687012,
          7.486146450042725,
          4.894120216369629,
          8.640240669250488,
          4.198237895965576,
          8.386990547180176,
          1.41948401927948,
          6.655244827270508,
          5.971275329589844,
          7.023226261138916,
          4.436695098876953,
          5.272629261016846,
          4.451888561248779,
          6.163197040557861,
          8.214483261108398,
          8.19708251953125,
          8.000288963317871,
          8.194430351257324,
          6.404102325439453,
          8.078307151794434,
          8.089269638061523,
          7.429981708526611,
          8.24683666229248,
          4.697457313537598,
          8.308638572692871,
          8.78465747833252,
          7.091565132141113,
          8.5845308303833,
          8.585869789123535,
          8.090498924255371,
          4.169414520263672,
          0.3690207898616791,
          7.4164605140686035,
          6.897019863128662,
          8.874370574951172,
          4.790968418121338,
          8.8721923828125,
          8.07689380645752,
          4.830540657043457,
          8.866530418395996,
          8.774958610534668,
          4.517741680145264,
          6.513566017150879,
          0.7250007390975952,
          8.083475112915039,
          4.449986457824707,
          8.194635391235352,
          1.8969138860702515,
          7.998287677764893,
          5.462677955627441,
          8.244873046875,
          7.474081516265869,
          6.4285712242126465
         ],
         "yaxis": "y"
        },
        {
         "hovertemplate": "Predictions=happy<br>Correct=False<br>x=%{x}<br>y=%{y}<extra></extra>",
         "legendgroup": "happy, False",
         "marker": {
          "color": "#00CC96",
          "symbol": "x"
         },
         "mode": "markers",
         "name": "happy, False",
         "orientation": "v",
         "showlegend": true,
         "type": "scatter",
         "x": [
          19.04779052734375,
          17.37485694885254,
          15.720269203186035,
          16.818359375,
          16.366390228271484,
          18.849397659301758,
          19.683042526245117,
          18.90424919128418,
          18.257068634033203,
          17.54012680053711,
          18.272764205932617,
          16.34569549560547,
          18.45415496826172,
          17.372512817382812,
          19.489477157592773,
          16.702970504760742
         ],
         "xaxis": "x",
         "y": [
          7.018116474151611,
          8.713787078857422,
          -0.8748157620429993,
          8.099214553833008,
          3.837646722793579,
          4.103569984436035,
          5.695967674255371,
          6.814971446990967,
          4.000877380371094,
          8.538737297058105,
          3.71124005317688,
          3.8212757110595703,
          4.066161155700684,
          8.776143074035645,
          7.6752166748046875,
          8.578805923461914
         ],
         "yaxis": "y"
        },
        {
         "hovertemplate": "Predictions=disgusted<br>Correct=True<br>x=%{x}<br>y=%{y}<extra></extra>",
         "legendgroup": "disgusted, True",
         "marker": {
          "color": "#EF553B",
          "symbol": "circle"
         },
         "mode": "markers",
         "name": "disgusted, True",
         "orientation": "v",
         "showlegend": true,
         "type": "scatter",
         "x": [
          -3.8826613426208496,
          -3.4701850414276123,
          -3.7799713611602783,
          -4.635378837585449,
          -4.025469779968262,
          -3.412482976913452,
          -4.570828437805176,
          -4.086112976074219,
          -3.1608595848083496,
          -3.2509992122650146,
          -3.421015739440918,
          -4.589531898498535,
          -4.304971218109131,
          -4.327728748321533,
          -3.426466464996338,
          -4.653524875640869,
          -4.556604862213135,
          -4.381330490112305,
          -4.158858299255371,
          -3.8083348274230957,
          -4.061673164367676,
          -4.072944164276123,
          -4.550745487213135,
          -4.654869079589844,
          -4.216348171234131,
          -3.4575417041778564,
          -4.65371036529541,
          -4.46317720413208,
          -3.7921345233917236,
          -4.726314544677734,
          -5.063840866088867,
          -4.687393665313721,
          -3.7766242027282715,
          -4.430552005767822,
          -4.707684516906738,
          -3.8687989711761475,
          -4.509162902832031,
          -3.8130059242248535,
          -4.086926460266113,
          -4.305004119873047,
          -3.846024513244629,
          -4.627944469451904,
          -3.7822093963623047,
          -4.268429279327393,
          -3.145789623260498
         ],
         "xaxis": "x",
         "y": [
          14.049792289733887,
          13.545248985290527,
          14.364729881286621,
          14.024860382080078,
          14.74083423614502,
          10.780465126037598,
          9.088127136230469,
          13.900487899780273,
          12.419648170471191,
          12.975469589233398,
          13.306700706481934,
          13.984129905700684,
          14.768156051635742,
          13.873271942138672,
          13.424976348876953,
          14.54366397857666,
          13.962836265563965,
          14.756519317626953,
          11.027804374694824,
          14.518527030944824,
          14.755123138427734,
          13.726543426513672,
          8.317095756530762,
          14.04443359375,
          10.871562957763672,
          9.974973678588867,
          14.544261932373047,
          14.710761070251465,
          11.530109405517578,
          14.387918472290039,
          7.109678745269775,
          14.46211051940918,
          14.418213844299316,
          9.967079162597656,
          14.213253021240234,
          13.922636985778809,
          13.936511039733887,
          14.536770820617676,
          14.130491256713867,
          14.768149375915527,
          14.639764785766602,
          8.744551658630371,
          14.45456314086914,
          10.783300399780273,
          12.504565238952637
         ],
         "yaxis": "y"
        },
        {
         "hovertemplate": "Predictions=disgusted<br>Correct=False<br>x=%{x}<br>y=%{y}<extra></extra>",
         "legendgroup": "disgusted, False",
         "marker": {
          "color": "#EF553B",
          "symbol": "x"
         },
         "mode": "markers",
         "name": "disgusted, False",
         "orientation": "v",
         "showlegend": true,
         "type": "scatter",
         "x": [
          -3.977128744125366,
          -5.103087425231934,
          -3.2145466804504395,
          -4.0990824699401855,
          -4.379537582397461,
          -3.183668613433838,
          -3.4798200130462646,
          -3.709211826324463,
          -3.3547818660736084,
          -5.140309810638428,
          -3.963205575942993,
          -4.58311653137207,
          -3.6598408222198486,
          -4.859272480010986,
          -5.091679096221924,
          -3.747767686843872
         ],
         "xaxis": "x",
         "y": [
          11.03039836883545,
          6.96401834487915,
          6.343481540679932,
          10.878339767456055,
          10.39360237121582,
          12.251802444458008,
          11.796917915344238,
          11.567525863647461,
          9.875624656677246,
          5.9063191413879395,
          9.078886032104492,
          8.62653636932373,
          11.1389799118042,
          7.788214683532715,
          7.029529571533203,
          8.653600692749023
         ],
         "yaxis": "y"
        },
        {
         "hovertemplate": "Predictions=sad<br>Correct=True<br>x=%{x}<br>y=%{y}<extra></extra>",
         "legendgroup": "sad, True",
         "marker": {
          "color": "#FFA15A",
          "symbol": "circle"
         },
         "mode": "markers",
         "name": "sad, True",
         "orientation": "v",
         "showlegend": true,
         "type": "scatter",
         "x": [
          -9.271598815917969,
          -9.33037281036377,
          -9.224763870239258,
          -8.485861778259277,
          -9.903948783874512,
          -8.64993953704834,
          -7.093002796173096,
          -9.200047492980957,
          -9.579463005065918,
          -9.8395414352417,
          -9.274335861206055,
          -8.022911071777344,
          -9.912435531616211,
          -5.682581424713135,
          -9.194907188415527,
          -9.858309745788574,
          -7.357928276062012,
          -9.585626602172852,
          -9.581683158874512,
          -9.865108489990234,
          -9.90548038482666,
          -8.833442687988281,
          -7.507470607757568,
          -9.35695743560791,
          -7.633095741271973,
          -9.319053649902344,
          -9.76821231842041,
          -9.855599403381348,
          -9.857967376708984,
          -9.832047462463379,
          -7.991255283355713,
          -9.508126258850098
         ],
         "xaxis": "x",
         "y": [
          1.9885534048080444,
          2.691148042678833,
          1.7532354593276978,
          2.754976511001587,
          1.7800873517990112,
          2.723115921020508,
          2.8310890197753906,
          1.868453860282898,
          1.5435144901275635,
          2.2287545204162598,
          1.6716474294662476,
          3.1145622730255127,
          2.0769574642181396,
          3.6446094512939453,
          2.290158271789551,
          2.2084097862243652,
          2.7815823554992676,
          1.5448684692382812,
          1.5441710948944092,
          1.7246822118759155,
          1.779832124710083,
          2.1272079944610596,
          2.7081122398376465,
          1.5525078773498535,
          2.688493251800537,
          2.3083317279815674,
          2.2807042598724365,
          2.211804151535034,
          2.208695650100708,
          1.6883777379989624,
          2.621363878250122,
          2.304304838180542
         ],
         "yaxis": "y"
        },
        {
         "hovertemplate": "Predictions=sad<br>Correct=False<br>x=%{x}<br>y=%{y}<extra></extra>",
         "legendgroup": "sad, False",
         "marker": {
          "color": "#FFA15A",
          "symbol": "x"
         },
         "mode": "markers",
         "name": "sad, False",
         "orientation": "v",
         "showlegend": true,
         "type": "scatter",
         "x": [
          -6.205018043518066,
          -8.823431968688965,
          -5.804807186126709,
          -5.227874279022217,
          -6.455664157867432,
          -5.679354190826416,
          -9.242707252502441,
          -5.49920129776001
         ],
         "xaxis": "x",
         "y": [
          4.400018215179443,
          2.441577672958374,
          4.528751850128174,
          6.125962257385254,
          4.249230861663818,
          4.5484113693237305,
          1.7074193954467773,
          5.394437313079834
         ],
         "yaxis": "y"
        },
        {
         "hovertemplate": "Predictions=angry<br>Correct=True<br>x=%{x}<br>y=%{y}<extra></extra>",
         "legendgroup": "angry, True",
         "marker": {
          "color": "#636EFA",
          "symbol": "circle"
         },
         "mode": "markers",
         "name": "angry, True",
         "orientation": "v",
         "showlegend": true,
         "type": "scatter",
         "x": [
          -2.554307222366333,
          -2.677574396133423,
          -2.134950876235962,
          -2.179893970489502,
          -1.9379245042800903,
          -1.9186007976531982,
          -2.1342902183532715,
          -1.9586238861083984,
          -2.153623580932617,
          -2.429123878479004,
          -2.379617214202881,
          -2.2688348293304443,
          -1.7130768299102783,
          -1.8953434228897095,
          -2.7418694496154785,
          -2.779087543487549,
          -2.0069005489349365,
          -2.198035955429077,
          -1.9230315685272217,
          -2.8022704124450684,
          -2.812823534011841,
          -2.3930633068084717,
          -1.6330949068069458,
          -2.4706602096557617,
          -2.3815758228302,
          -2.7331042289733887,
          -0.9540566802024841,
          -1.9820077419281006,
          -1.892398715019226,
          -0.5523034334182739,
          -2.583406686782837
         ],
         "xaxis": "x",
         "y": [
          -12.552885055541992,
          -11.885429382324219,
          -12.574810981750488,
          -12.595849990844727,
          -12.012910842895508,
          -12.26909065246582,
          -12.576960563659668,
          -11.942240715026855,
          -11.941112518310547,
          -11.477982521057129,
          -12.606209754943848,
          -9.09683895111084,
          -8.444242477416992,
          -12.22457504272461,
          -12.022438049316406,
          -12.33510971069336,
          -9.603074073791504,
          -10.782055854797363,
          -12.33761215209961,
          -12.272477149963379,
          -12.227768898010254,
          -10.685603141784668,
          -9.914387702941895,
          -10.452829360961914,
          -12.602965354919434,
          -12.40896224975586,
          -8.226823806762695,
          -9.148478507995605,
          -12.14789867401123,
          -6.855167388916016,
          -12.531425476074219
         ],
         "yaxis": "y"
        },
        {
         "hovertemplate": "Predictions=angry<br>Correct=False<br>x=%{x}<br>y=%{y}<extra></extra>",
         "legendgroup": "angry, False",
         "marker": {
          "color": "#636EFA",
          "symbol": "x"
         },
         "mode": "markers",
         "name": "angry, False",
         "orientation": "v",
         "showlegend": true,
         "type": "scatter",
         "x": [
          -3.908367156982422,
          -2.871955633163452,
          -2.3697869777679443,
          -1.9520785808563232,
          -2.7180142402648926,
          -1.8856154680252075,
          -2.670726776123047,
          -0.9836905002593994,
          -2.8108017444610596,
          -0.8526729941368103,
          -2.7457802295684814,
          -1.6860941648483276,
          -1.8657740354537964,
          -1.7658313512802124,
          -2.2844009399414062,
          -2.4998159408569336,
          -2.8622968196868896,
          -0.8888105154037476,
          -2.2687952518463135,
          -3.933295965194702,
          -2.2769553661346436,
          -2.3455731868743896,
          -2.530606269836426,
          -2.5013413429260254,
          -1.0238542556762695
         ],
         "xaxis": "x",
         "y": [
          4.786375999450684,
          -7.637679576873779,
          -9.072955131530762,
          -11.491278648376465,
          -11.923632621765137,
          -12.179651260375977,
          -7.913390636444092,
          -7.865841388702393,
          -7.823639869689941,
          -7.203855514526367,
          -12.003887176513672,
          -9.021998405456543,
          -10.531413078308105,
          -8.332984924316406,
          -8.97043514251709,
          -11.70229434967041,
          -7.598094463348389,
          -8.47971248626709,
          -9.580968856811523,
          4.893165588378906,
          -11.489346504211426,
          -11.453858375549316,
          -8.243546485900879,
          -10.191168785095215,
          -7.811984539031982
         ],
         "yaxis": "y"
        },
        {
         "hovertemplate": "Predictions=neutral<br>Correct=True<br>x=%{x}<br>y=%{y}<extra></extra>",
         "legendgroup": "neutral, True",
         "marker": {
          "color": "#AB63FA",
          "symbol": "circle"
         },
         "mode": "markers",
         "name": "neutral, True",
         "orientation": "v",
         "showlegend": true,
         "type": "scatter",
         "x": [
          15.238295555114746,
          15.915316581726074,
          16.1519775390625,
          15.882736206054688,
          15.916486740112305,
          15.739266395568848,
          15.679173469543457,
          16.12599754333496,
          15.477511405944824,
          16.077091217041016,
          15.840386390686035,
          16.124662399291992,
          15.082566261291504,
          15.91353988647461,
          16.159725189208984,
          15.293076515197754,
          15.633471488952637,
          15.68066120147705,
          14.934710502624512,
          14.045720100402832,
          15.554118156433105,
          16.15450668334961,
          14.16422176361084,
          16.124069213867188,
          15.116186141967773,
          15.665457725524902,
          15.590412139892578,
          15.753711700439453,
          15.936789512634277,
          15.496642112731934,
          15.486080169677734,
          15.548813819885254,
          15.486454010009766,
          15.715073585510254
         ],
         "xaxis": "x",
         "y": [
          -4.487245559692383,
          -6.346427917480469,
          -5.989165306091309,
          -4.968266487121582,
          -6.33436393737793,
          -5.670923233032227,
          -3.7150604724884033,
          -6.13459587097168,
          -5.663224220275879,
          -5.830653667449951,
          -4.996556282043457,
          -5.909919261932373,
          -5.175779342651367,
          -5.3327412605285645,
          -6.038741111755371,
          -3.5315375328063965,
          -2.4114534854888916,
          -1.2972184419631958,
          -4.854590892791748,
          -3.7188057899475098,
          -6.282253265380859,
          -5.998383522033691,
          -3.592693567276001,
          -5.921369552612305,
          -1.5269391536712646,
          -1.2395830154418945,
          -6.30296516418457,
          -4.742931365966797,
          -6.319787979125977,
          -6.017745018005371,
          -6.204718589782715,
          -6.278318881988525,
          -6.163032054901123,
          -3.55928897857666
         ],
         "yaxis": "y"
        },
        {
         "hovertemplate": "Predictions=neutral<br>Correct=False<br>x=%{x}<br>y=%{y}<extra></extra>",
         "legendgroup": "neutral, False",
         "marker": {
          "color": "#AB63FA",
          "symbol": "x"
         },
         "mode": "markers",
         "name": "neutral, False",
         "orientation": "v",
         "showlegend": true,
         "type": "scatter",
         "x": [
          15.194197654724121,
          15.614469528198242,
          15.37226676940918,
          15.259428977966309,
          14.504790306091309,
          15.69178581237793,
          15.78591251373291,
          15.39914321899414,
          15.463180541992188,
          13.972756385803223,
          15.177589416503906,
          13.999890327453613,
          15.67328929901123
         ],
         "xaxis": "x",
         "y": [
          -3.1938910484313965,
          -1.289006233215332,
          -2.5776684284210205,
          -5.470706462860107,
          -4.132009983062744,
          -1.0936293601989746,
          -4.892863750457764,
          -3.6014766693115234,
          -6.119029998779297,
          -3.7091829776763916,
          -5.290776252746582,
          -3.706242322921753,
          -4.262929439544678
         ],
         "yaxis": "y"
        },
        {
         "customdata": [
          [
           "surprised"
          ],
          [
           "surprised"
          ],
          [
           "surprised"
          ],
          [
           "surprised"
          ],
          [
           "angry"
          ],
          [
           "surprised"
          ],
          [
           "surprised"
          ],
          [
           "happy"
          ],
          [
           "surprised"
          ],
          [
           "surprised"
          ],
          [
           "sad"
          ],
          [
           "surprised"
          ],
          [
           "surprised"
          ],
          [
           "surprised"
          ],
          [
           "angry"
          ],
          [
           "surprised"
          ],
          [
           "surprised"
          ],
          [
           "surprised"
          ],
          [
           "surprised"
          ],
          [
           "surprised"
          ],
          [
           "surprised"
          ],
          [
           "surprised"
          ],
          [
           "surprised"
          ],
          [
           "surprised"
          ],
          [
           "surprised"
          ],
          [
           "surprised"
          ],
          [
           "surprised"
          ],
          [
           "neutral"
          ],
          [
           "angry"
          ],
          [
           "surprised"
          ],
          [
           "surprised"
          ],
          [
           "neutral"
          ],
          [
           "surprised"
          ],
          [
           "surprised"
          ],
          [
           "surprised"
          ],
          [
           "surprised"
          ],
          [
           "surprised"
          ],
          [
           "surprised"
          ],
          [
           "surprised"
          ],
          [
           "surprised"
          ],
          [
           "surprised"
          ],
          [
           "neutral"
          ],
          [
           "neutral"
          ],
          [
           "happy"
          ],
          [
           "surprised"
          ],
          [
           "surprised"
          ],
          [
           "neutral"
          ],
          [
           "surprised"
          ],
          [
           "surprised"
          ],
          [
           "neutral"
          ],
          [
           "surprised"
          ],
          [
           "surprised"
          ],
          [
           "surprised"
          ],
          [
           "surprised"
          ],
          [
           "surprised"
          ],
          [
           "happy"
          ]
         ],
         "hovertemplate": "Label=surprised<br>x=%{x}<br>y=%{y}<br>Predictions=%{customdata[0]}<extra></extra>",
         "legendgroup": "surprised",
         "marker": {
          "color": "#19D3F3",
          "opacity": 0.2,
          "size": 12,
          "symbol": "circle"
         },
         "mode": "markers",
         "name": "surprised",
         "orientation": "v",
         "showlegend": false,
         "type": "scatter",
         "x": [
          -29.03413200378418,
          -28.438161849975586,
          -29.275409698486328,
          -29.275501251220703,
          -2.871955633163452,
          -27.587202072143555,
          -28.3739070892334,
          16.366390228271484,
          -27.956298828125,
          -28.468860626220703,
          -8.823431968688965,
          -29.06475257873535,
          -6.06555700302124,
          -29.183490753173828,
          -2.7180142402648926,
          -28.455615997314453,
          -24.864269256591797,
          -28.99857521057129,
          -29.045551300048828,
          -26.83577537536621,
          -24.979116439819336,
          -28.653778076171875,
          -28.69729232788086,
          -25.894372940063477,
          -28.71804428100586,
          -28.9501895904541,
          -28.470783233642578,
          14.504790306091309,
          -1.8657740354537964,
          -25.85606575012207,
          -28.35828971862793,
          15.69178581237793,
          -28.403608322143555,
          -29.276025772094727,
          -28.694232940673828,
          -29.000280380249023,
          -28.538557052612305,
          -28.34891128540039,
          -28.49088478088379,
          -25.87298011779785,
          -28.414390563964844,
          15.463180541992188,
          13.972756385803223,
          16.34569549560547,
          -25.379844665527344,
          -28.502548217773438,
          15.177589416503906,
          -28.61787223815918,
          -27.40515899658203,
          13.999890327453613,
          -29.263111114501953,
          -28.865007400512695,
          -29.27544593811035,
          -27.456684112548828,
          -29.09393882751465,
          16.702970504760742
         ],
         "xaxis": "x",
         "y": [
          -10.770391464233398,
          -10.71590518951416,
          -10.447535514831543,
          -10.446239471435547,
          -7.637679576873779,
          -8.579465866088867,
          -10.571690559387207,
          3.837646722793579,
          -8.61199951171875,
          -10.113780975341797,
          2.441577672958374,
          -10.747953414916992,
          4.575817108154297,
          -10.122491836547852,
          -11.923632621765137,
          -9.92562484741211,
          -9.396160125732422,
          -10.79741382598877,
          -10.045076370239258,
          -8.884658813476562,
          -8.79204273223877,
          -10.14971923828125,
          -9.34426212310791,
          -8.357933044433594,
          -9.484822273254395,
          -9.670040130615234,
          -10.149670600891113,
          -4.132009983062744,
          -10.531413078308105,
          -9.479110717773438,
          -10.520331382751465,
          -1.0936293601989746,
          -10.297584533691406,
          -10.446023941040039,
          -9.446516990661621,
          -9.804447174072266,
          -8.90695571899414,
          -8.954072952270508,
          -10.759408950805664,
          -9.475396156311035,
          -10.37879467010498,
          -6.119029998779297,
          -3.7091829776763916,
          3.8212757110595703,
          -8.87961483001709,
          -10.770337104797363,
          -5.290776252746582,
          -10.824580192565918,
          -8.614246368408203,
          -3.706242322921753,
          -10.480361938476562,
          -10.858428955078125,
          -10.446531295776367,
          -8.613042831420898,
          -9.956652641296387,
          8.578805923461914
         ],
         "yaxis": "y"
        },
        {
         "customdata": [
          [
           "happy"
          ],
          [
           "disgusted"
          ],
          [
           "disgusted"
          ],
          [
           "disgusted"
          ],
          [
           "disgusted"
          ],
          [
           "disgusted"
          ],
          [
           "disgusted"
          ],
          [
           "disgusted"
          ],
          [
           "happy"
          ],
          [
           "disgusted"
          ],
          [
           "disgusted"
          ],
          [
           "disgusted"
          ],
          [
           "disgusted"
          ],
          [
           "disgusted"
          ],
          [
           "disgusted"
          ],
          [
           "disgusted"
          ],
          [
           "disgusted"
          ],
          [
           "disgusted"
          ],
          [
           "disgusted"
          ],
          [
           "disgusted"
          ],
          [
           "disgusted"
          ],
          [
           "disgusted"
          ],
          [
           "disgusted"
          ],
          [
           "disgusted"
          ],
          [
           "disgusted"
          ],
          [
           "disgusted"
          ],
          [
           "angry"
          ],
          [
           "sad"
          ],
          [
           "disgusted"
          ],
          [
           "neutral"
          ],
          [
           "disgusted"
          ],
          [
           "disgusted"
          ],
          [
           "happy"
          ],
          [
           "angry"
          ],
          [
           "disgusted"
          ],
          [
           "disgusted"
          ],
          [
           "disgusted"
          ],
          [
           "disgusted"
          ],
          [
           "disgusted"
          ],
          [
           "disgusted"
          ],
          [
           "disgusted"
          ],
          [
           "angry"
          ],
          [
           "disgusted"
          ],
          [
           "angry"
          ],
          [
           "disgusted"
          ],
          [
           "disgusted"
          ],
          [
           "disgusted"
          ],
          [
           "disgusted"
          ],
          [
           "disgusted"
          ],
          [
           "disgusted"
          ],
          [
           "disgusted"
          ],
          [
           "disgusted"
          ],
          [
           "disgusted"
          ],
          [
           "disgusted"
          ]
         ],
         "hovertemplate": "Label=disgusted<br>x=%{x}<br>y=%{y}<br>Predictions=%{customdata[0]}<extra></extra>",
         "legendgroup": "disgusted",
         "marker": {
          "color": "#EF553B",
          "opacity": 0.2,
          "size": 12,
          "symbol": "circle"
         },
         "mode": "markers",
         "name": "disgusted",
         "orientation": "v",
         "showlegend": false,
         "type": "scatter",
         "x": [
          19.04779052734375,
          -3.8826613426208496,
          -3.4701850414276123,
          -3.7799713611602783,
          -4.635378837585449,
          -4.025469779968262,
          -3.412482976913452,
          -4.570828437805176,
          19.683042526245117,
          -4.086112976074219,
          -3.1608595848083496,
          -3.2509992122650146,
          -3.421015739440918,
          -4.589531898498535,
          -4.304971218109131,
          -4.327728748321533,
          -3.426466464996338,
          -4.653524875640869,
          -4.556604862213135,
          -4.381330490112305,
          -4.158858299255371,
          -3.8083348274230957,
          -4.061673164367676,
          -4.072944164276123,
          -4.550745487213135,
          -4.654869079589844,
          -2.2844009399414062,
          -6.455664157867432,
          -4.216348171234131,
          15.78591251373291,
          -3.4575417041778564,
          -4.65371036529541,
          18.45415496826172,
          -2.8622968196868896,
          -4.46317720413208,
          -3.7921345233917236,
          -4.726314544677734,
          -5.063840866088867,
          -4.687393665313721,
          -3.7766242027282715,
          -4.430552005767822,
          -2.2687952518463135,
          -4.707684516906738,
          -2.2769553661346436,
          -3.8687989711761475,
          -4.509162902832031,
          -3.8130059242248535,
          -4.086926460266113,
          -4.305004119873047,
          -3.846024513244629,
          -4.627944469451904,
          -3.7822093963623047,
          -4.268429279327393,
          -3.145789623260498
         ],
         "xaxis": "x",
         "y": [
          7.018116474151611,
          14.049792289733887,
          13.545248985290527,
          14.364729881286621,
          14.024860382080078,
          14.74083423614502,
          10.780465126037598,
          9.088127136230469,
          5.695967674255371,
          13.900487899780273,
          12.419648170471191,
          12.975469589233398,
          13.306700706481934,
          13.984129905700684,
          14.768156051635742,
          13.873271942138672,
          13.424976348876953,
          14.54366397857666,
          13.962836265563965,
          14.756519317626953,
          11.027804374694824,
          14.518527030944824,
          14.755123138427734,
          13.726543426513672,
          8.317095756530762,
          14.04443359375,
          -8.97043514251709,
          4.249230861663818,
          10.871562957763672,
          -4.892863750457764,
          9.974973678588867,
          14.544261932373047,
          4.066161155700684,
          -7.598094463348389,
          14.710761070251465,
          11.530109405517578,
          14.387918472290039,
          7.109678745269775,
          14.46211051940918,
          14.418213844299316,
          9.967079162597656,
          -9.580968856811523,
          14.213253021240234,
          -11.489346504211426,
          13.922636985778809,
          13.936511039733887,
          14.536770820617676,
          14.130491256713867,
          14.768149375915527,
          14.639764785766602,
          8.744551658630371,
          14.45456314086914,
          10.783300399780273,
          12.504565238952637
         ],
         "yaxis": "y"
        },
        {
         "customdata": [
          [
           "happy"
          ],
          [
           "happy"
          ],
          [
           "angry"
          ],
          [
           "happy"
          ],
          [
           "happy"
          ],
          [
           "happy"
          ],
          [
           "happy"
          ],
          [
           "happy"
          ],
          [
           "happy"
          ],
          [
           "happy"
          ],
          [
           "happy"
          ],
          [
           "happy"
          ],
          [
           "neutral"
          ],
          [
           "happy"
          ],
          [
           "disgusted"
          ],
          [
           "happy"
          ],
          [
           "happy"
          ],
          [
           "happy"
          ],
          [
           "happy"
          ],
          [
           "happy"
          ],
          [
           "happy"
          ],
          [
           "happy"
          ],
          [
           "surprised"
          ],
          [
           "angry"
          ],
          [
           "happy"
          ],
          [
           "neutral"
          ],
          [
           "neutral"
          ],
          [
           "happy"
          ],
          [
           "happy"
          ],
          [
           "happy"
          ],
          [
           "disgusted"
          ],
          [
           "happy"
          ],
          [
           "happy"
          ],
          [
           "disgusted"
          ],
          [
           "happy"
          ],
          [
           "happy"
          ],
          [
           "happy"
          ],
          [
           "happy"
          ],
          [
           "happy"
          ],
          [
           "angry"
          ],
          [
           "happy"
          ],
          [
           "happy"
          ],
          [
           "happy"
          ],
          [
           "happy"
          ],
          [
           "happy"
          ],
          [
           "happy"
          ],
          [
           "happy"
          ],
          [
           "happy"
          ],
          [
           "neutral"
          ],
          [
           "happy"
          ],
          [
           "happy"
          ],
          [
           "happy"
          ],
          [
           "happy"
          ],
          [
           "happy"
          ],
          [
           "angry"
          ],
          [
           "happy"
          ],
          [
           "happy"
          ],
          [
           "happy"
          ],
          [
           "happy"
          ],
          [
           "happy"
          ],
          [
           "surprised"
          ],
          [
           "happy"
          ],
          [
           "happy"
          ],
          [
           "happy"
          ],
          [
           "happy"
          ],
          [
           "happy"
          ],
          [
           "angry"
          ],
          [
           "happy"
          ]
         ],
         "hovertemplate": "Label=happy<br>x=%{x}<br>y=%{y}<br>Predictions=%{customdata[0]}<extra></extra>",
         "legendgroup": "happy",
         "marker": {
          "color": "#00CC96",
          "opacity": 0.2,
          "size": 12,
          "symbol": "circle"
         },
         "mode": "markers",
         "name": "happy",
         "orientation": "v",
         "showlegend": false,
         "type": "scatter",
         "x": [
          17.777645111083984,
          17.139265060424805,
          -3.908367156982422,
          17.735422134399414,
          19.87163734436035,
          17.363277435302734,
          17.85568618774414,
          17.8631534576416,
          16.50998878479004,
          20.229040145874023,
          19.847166061401367,
          18.811683654785156,
          15.614469528198242,
          15.690552711486816,
          -3.2145466804504395,
          -3.6523196697235107,
          19.096771240234375,
          20.315465927124023,
          18.013330459594727,
          17.27256965637207,
          17.130001068115234,
          16.735271453857422,
          -25.737136840820312,
          -0.9836905002593994,
          20.03704261779785,
          15.37226676940918,
          15.259428977966309,
          16.920772552490234,
          16.84446907043457,
          19.68102264404297,
          -4.379537582397461,
          18.155794143676758,
          19.516746520996094,
          -3.183668613433838,
          16.678171157836914,
          16.869728088378906,
          18.634197235107422,
          16.704940795898438,
          16.703304290771484,
          -1.7658313512802124,
          17.593244552612305,
          17.91265106201172,
          16.124841690063477,
          19.70167350769043,
          19.212121963500977,
          17.228111267089844,
          19.52887535095215,
          17.229467391967773,
          15.39914321899414,
          18.674951553344727,
          19.38349151611328,
          16.998180389404297,
          16.865720748901367,
          19.261737823486328,
          -3.933295965194702,
          20.244312286376953,
          16.218021392822266,
          17.18649673461914,
          15.751455307006836,
          18.345638275146484,
          -28.855546951293945,
          16.736644744873047,
          17.347375869750977,
          19.530963897705078,
          16.688486099243164,
          19.720117568969727,
          -1.0238542556762695,
          19.23339080810547
         ],
         "xaxis": "x",
         "y": [
          7.476766109466553,
          8.885516166687012,
          4.786375999450684,
          7.486146450042725,
          4.894120216369629,
          8.640240669250488,
          4.198237895965576,
          8.386990547180176,
          1.41948401927948,
          6.655244827270508,
          5.971275329589844,
          7.023226261138916,
          -1.289006233215332,
          4.436695098876953,
          6.343481540679932,
          5.272629261016846,
          4.451888561248779,
          6.163197040557861,
          8.214483261108398,
          8.19708251953125,
          8.000288963317871,
          8.194430351257324,
          -8.3688383102417,
          -7.865841388702393,
          6.404102325439453,
          -2.5776684284210205,
          -5.470706462860107,
          8.078307151794434,
          8.089269638061523,
          7.429981708526611,
          10.39360237121582,
          8.24683666229248,
          4.697457313537598,
          12.251802444458008,
          8.308638572692871,
          8.78465747833252,
          7.091565132141113,
          8.5845308303833,
          8.585869789123535,
          -8.332984924316406,
          8.090498924255371,
          4.169414520263672,
          0.3690207898616791,
          7.4164605140686035,
          6.897019863128662,
          8.874370574951172,
          4.790968418121338,
          8.8721923828125,
          -3.6014766693115234,
          8.07689380645752,
          4.830540657043457,
          8.866530418395996,
          8.774958610534668,
          4.517741680145264,
          4.893165588378906,
          6.513566017150879,
          0.7250007390975952,
          8.083475112915039,
          4.449986457824707,
          8.194635391235352,
          -10.861228942871094,
          1.8969138860702515,
          7.998287677764893,
          5.462677955627441,
          8.244873046875,
          7.474081516265869,
          -7.811984539031982,
          6.4285712242126465
         ],
         "yaxis": "y"
        },
        {
         "customdata": [
          [
           "happy"
          ],
          [
           "happy"
          ],
          [
           "sad"
          ],
          [
           "happy"
          ],
          [
           "sad"
          ],
          [
           "sad"
          ],
          [
           "sad"
          ],
          [
           "sad"
          ],
          [
           "happy"
          ],
          [
           "disgusted"
          ],
          [
           "angry"
          ],
          [
           "sad"
          ],
          [
           "sad"
          ],
          [
           "angry"
          ],
          [
           "sad"
          ],
          [
           "sad"
          ],
          [
           "angry"
          ],
          [
           "sad"
          ],
          [
           "sad"
          ],
          [
           "angry"
          ],
          [
           "sad"
          ],
          [
           "sad"
          ],
          [
           "sad"
          ],
          [
           "sad"
          ],
          [
           "sad"
          ],
          [
           "sad"
          ],
          [
           "angry"
          ],
          [
           "angry"
          ],
          [
           "angry"
          ],
          [
           "sad"
          ],
          [
           "disgusted"
          ],
          [
           "disgusted"
          ],
          [
           "happy"
          ],
          [
           "angry"
          ],
          [
           "sad"
          ],
          [
           "disgusted"
          ],
          [
           "disgusted"
          ],
          [
           "sad"
          ],
          [
           "sad"
          ],
          [
           "sad"
          ],
          [
           "sad"
          ],
          [
           "disgusted"
          ],
          [
           "sad"
          ],
          [
           "sad"
          ],
          [
           "sad"
          ],
          [
           "sad"
          ],
          [
           "sad"
          ],
          [
           "sad"
          ],
          [
           "sad"
          ],
          [
           "sad"
          ],
          [
           "sad"
          ],
          [
           "angry"
          ],
          [
           "angry"
          ],
          [
           "angry"
          ]
         ],
         "hovertemplate": "Label=sad<br>x=%{x}<br>y=%{y}<br>Predictions=%{customdata[0]}<extra></extra>",
         "legendgroup": "sad",
         "marker": {
          "color": "#FFA15A",
          "opacity": 0.2,
          "size": 12,
          "symbol": "circle"
         },
         "mode": "markers",
         "name": "sad",
         "orientation": "v",
         "showlegend": false,
         "type": "scatter",
         "x": [
          17.37485694885254,
          15.720269203186035,
          -9.271598815917969,
          16.818359375,
          -9.33037281036377,
          -9.224763870239258,
          -8.485861778259277,
          -9.903948783874512,
          18.849397659301758,
          -5.103087425231934,
          -2.3697869777679443,
          -8.64993953704834,
          -7.093002796173096,
          -1.8856154680252075,
          -9.200047492980957,
          -9.579463005065918,
          -2.670726776123047,
          -9.8395414352417,
          -9.274335861206055,
          -2.8108017444610596,
          -8.022911071777344,
          -9.912435531616211,
          -5.682581424713135,
          -9.194907188415527,
          -9.858309745788574,
          -7.357928276062012,
          -0.8526729941368103,
          -2.7457802295684814,
          -1.6860941648483276,
          -9.585626602172852,
          -3.709211826324463,
          -5.140309810638428,
          17.54012680053711,
          -2.4998159408569336,
          -9.581683158874512,
          -4.58311653137207,
          -3.6598408222198486,
          -9.865108489990234,
          -9.90548038482666,
          -8.833442687988281,
          -7.507470607757568,
          -4.859272480010986,
          -9.35695743560791,
          -7.633095741271973,
          -9.319053649902344,
          -9.76821231842041,
          -9.855599403381348,
          -9.857967376708984,
          -9.832047462463379,
          -7.991255283355713,
          -9.508126258850098,
          -2.3455731868743896,
          -2.530606269836426,
          -2.5013413429260254
         ],
         "xaxis": "x",
         "y": [
          8.713787078857422,
          -0.8748157620429993,
          1.9885534048080444,
          8.099214553833008,
          2.691148042678833,
          1.7532354593276978,
          2.754976511001587,
          1.7800873517990112,
          4.103569984436035,
          6.96401834487915,
          -9.072955131530762,
          2.723115921020508,
          2.8310890197753906,
          -12.179651260375977,
          1.868453860282898,
          1.5435144901275635,
          -7.913390636444092,
          2.2287545204162598,
          1.6716474294662476,
          -7.823639869689941,
          3.1145622730255127,
          2.0769574642181396,
          3.6446094512939453,
          2.290158271789551,
          2.2084097862243652,
          2.7815823554992676,
          -7.203855514526367,
          -12.003887176513672,
          -9.021998405456543,
          1.5448684692382812,
          11.567525863647461,
          5.9063191413879395,
          8.538737297058105,
          -11.70229434967041,
          1.5441710948944092,
          8.62653636932373,
          11.1389799118042,
          1.7246822118759155,
          1.779832124710083,
          2.1272079944610596,
          2.7081122398376465,
          7.788214683532715,
          1.5525078773498535,
          2.688493251800537,
          2.3083317279815674,
          2.2807042598724365,
          2.211804151535034,
          2.208695650100708,
          1.6883777379989624,
          2.621363878250122,
          2.304304838180542,
          -11.453858375549316,
          -8.243546485900879,
          -10.191168785095215
         ],
         "yaxis": "y"
        },
        {
         "customdata": [
          [
           "sad"
          ],
          [
           "angry"
          ],
          [
           "angry"
          ],
          [
           "angry"
          ],
          [
           "disgusted"
          ],
          [
           "neutral"
          ],
          [
           "angry"
          ],
          [
           "angry"
          ],
          [
           "angry"
          ],
          [
           "angry"
          ],
          [
           "angry"
          ],
          [
           "sad"
          ],
          [
           "angry"
          ],
          [
           "happy"
          ],
          [
           "angry"
          ],
          [
           "angry"
          ],
          [
           "angry"
          ],
          [
           "surprised"
          ],
          [
           "happy"
          ],
          [
           "angry"
          ],
          [
           "surprised"
          ],
          [
           "angry"
          ],
          [
           "angry"
          ],
          [
           "angry"
          ],
          [
           "angry"
          ],
          [
           "disgusted"
          ],
          [
           "angry"
          ],
          [
           "disgusted"
          ],
          [
           "disgusted"
          ],
          [
           "angry"
          ],
          [
           "disgusted"
          ],
          [
           "angry"
          ],
          [
           "angry"
          ],
          [
           "angry"
          ],
          [
           "angry"
          ],
          [
           "angry"
          ],
          [
           "angry"
          ],
          [
           "disgusted"
          ],
          [
           "sad"
          ],
          [
           "angry"
          ],
          [
           "angry"
          ],
          [
           "angry"
          ],
          [
           "angry"
          ],
          [
           "neutral"
          ],
          [
           "angry"
          ],
          [
           "angry"
          ]
         ],
         "hovertemplate": "Label=angry<br>x=%{x}<br>y=%{y}<br>Predictions=%{customdata[0]}<extra></extra>",
         "legendgroup": "angry",
         "marker": {
          "color": "#636EFA",
          "opacity": 0.2,
          "size": 12,
          "symbol": "circle"
         },
         "mode": "markers",
         "name": "angry",
         "orientation": "v",
         "showlegend": false,
         "type": "scatter",
         "x": [
          -6.205018043518066,
          -2.554307222366333,
          -2.677574396133423,
          -2.134950876235962,
          -3.977128744125366,
          15.194197654724121,
          -2.179893970489502,
          -1.9379245042800903,
          -1.9186007976531982,
          -2.1342902183532715,
          -1.9586238861083984,
          -5.804807186126709,
          -2.153623580932617,
          18.90424919128418,
          -2.429123878479004,
          -2.379617214202881,
          -2.2688348293304443,
          -27.12347412109375,
          18.257068634033203,
          -1.7130768299102783,
          -24.709869384765625,
          -1.8953434228897095,
          -2.7418694496154785,
          -2.779087543487549,
          -2.0069005489349365,
          -4.0990824699401855,
          -2.198035955429077,
          -3.4798200130462646,
          -3.3547818660736084,
          -1.9230315685272217,
          -3.963205575942993,
          -2.8022704124450684,
          -2.812823534011841,
          -2.3930633068084717,
          -1.6330949068069458,
          -2.4706602096557617,
          -2.3815758228302,
          -3.747767686843872,
          -5.49920129776001,
          -2.7331042289733887,
          -0.9540566802024841,
          -1.9820077419281006,
          -1.892398715019226,
          15.67328929901123,
          -0.5523034334182739,
          -2.583406686782837
         ],
         "xaxis": "x",
         "y": [
          4.400018215179443,
          -12.552885055541992,
          -11.885429382324219,
          -12.574810981750488,
          11.03039836883545,
          -3.1938910484313965,
          -12.595849990844727,
          -12.012910842895508,
          -12.26909065246582,
          -12.576960563659668,
          -11.942240715026855,
          4.528751850128174,
          -11.941112518310547,
          6.814971446990967,
          -11.477982521057129,
          -12.606209754943848,
          -9.09683895111084,
          -8.731938362121582,
          4.000877380371094,
          -8.444242477416992,
          -8.760528564453125,
          -12.22457504272461,
          -12.022438049316406,
          -12.33510971069336,
          -9.603074073791504,
          10.878339767456055,
          -10.782055854797363,
          11.796917915344238,
          9.875624656677246,
          -12.33761215209961,
          9.078886032104492,
          -12.272477149963379,
          -12.227768898010254,
          -10.685603141784668,
          -9.914387702941895,
          -10.452829360961914,
          -12.602965354919434,
          8.653600692749023,
          5.394437313079834,
          -12.40896224975586,
          -8.226823806762695,
          -9.148478507995605,
          -12.14789867401123,
          -4.262929439544678,
          -6.855167388916016,
          -12.531425476074219
         ],
         "yaxis": "y"
        },
        {
         "customdata": [
          [
           "neutral"
          ],
          [
           "neutral"
          ],
          [
           "neutral"
          ],
          [
           "neutral"
          ],
          [
           "neutral"
          ],
          [
           "surprised"
          ],
          [
           "neutral"
          ],
          [
           "neutral"
          ],
          [
           "angry"
          ],
          [
           "surprised"
          ],
          [
           "neutral"
          ],
          [
           "neutral"
          ],
          [
           "neutral"
          ],
          [
           "neutral"
          ],
          [
           "neutral"
          ],
          [
           "neutral"
          ],
          [
           "neutral"
          ],
          [
           "neutral"
          ],
          [
           "neutral"
          ],
          [
           "neutral"
          ],
          [
           "neutral"
          ],
          [
           "sad"
          ],
          [
           "neutral"
          ],
          [
           "neutral"
          ],
          [
           "happy"
          ],
          [
           "neutral"
          ],
          [
           "neutral"
          ],
          [
           "neutral"
          ],
          [
           "neutral"
          ],
          [
           "neutral"
          ],
          [
           "neutral"
          ],
          [
           "angry"
          ],
          [
           "sad"
          ],
          [
           "happy"
          ],
          [
           "disgusted"
          ],
          [
           "neutral"
          ],
          [
           "neutral"
          ],
          [
           "surprised"
          ],
          [
           "neutral"
          ],
          [
           "neutral"
          ],
          [
           "sad"
          ],
          [
           "neutral"
          ],
          [
           "neutral"
          ],
          [
           "neutral"
          ],
          [
           "surprised"
          ],
          [
           "neutral"
          ],
          [
           "happy"
          ]
         ],
         "hovertemplate": "Label=neutral<br>x=%{x}<br>y=%{y}<br>Predictions=%{customdata[0]}<extra></extra>",
         "legendgroup": "neutral",
         "marker": {
          "color": "#AB63FA",
          "opacity": 0.2,
          "size": 12,
          "symbol": "circle"
         },
         "mode": "markers",
         "name": "neutral",
         "orientation": "v",
         "showlegend": false,
         "type": "scatter",
         "x": [
          15.238295555114746,
          15.915316581726074,
          16.1519775390625,
          15.882736206054688,
          15.916486740112305,
          -25.508031845092773,
          15.739266395568848,
          15.679173469543457,
          -1.9520785808563232,
          -26.83960723876953,
          16.12599754333496,
          15.477511405944824,
          16.077091217041016,
          15.840386390686035,
          16.124662399291992,
          15.082566261291504,
          15.91353988647461,
          16.159725189208984,
          15.293076515197754,
          15.633471488952637,
          15.68066120147705,
          -5.227874279022217,
          14.934710502624512,
          14.045720100402832,
          18.272764205932617,
          15.554118156433105,
          16.15450668334961,
          14.16422176361084,
          16.124069213867188,
          15.116186141967773,
          15.665457725524902,
          -0.8888105154037476,
          -5.679354190826416,
          17.372512817382812,
          -5.091679096221924,
          15.590412139892578,
          15.753711700439453,
          -25.449377059936523,
          15.936789512634277,
          15.496642112731934,
          -9.242707252502441,
          15.486080169677734,
          15.548813819885254,
          15.486454010009766,
          -25.90211296081543,
          15.715073585510254,
          19.489477157592773
         ],
         "xaxis": "x",
         "y": [
          -4.487245559692383,
          -6.346427917480469,
          -5.989165306091309,
          -4.968266487121582,
          -6.33436393737793,
          -9.592011451721191,
          -5.670923233032227,
          -3.7150604724884033,
          -11.491278648376465,
          -8.500256538391113,
          -6.13459587097168,
          -5.663224220275879,
          -5.830653667449951,
          -4.996556282043457,
          -5.909919261932373,
          -5.175779342651367,
          -5.3327412605285645,
          -6.038741111755371,
          -3.5315375328063965,
          -2.4114534854888916,
          -1.2972184419631958,
          6.125962257385254,
          -4.854590892791748,
          -3.7188057899475098,
          3.71124005317688,
          -6.282253265380859,
          -5.998383522033691,
          -3.592693567276001,
          -5.921369552612305,
          -1.5269391536712646,
          -1.2395830154418945,
          -8.47971248626709,
          4.5484113693237305,
          8.776143074035645,
          7.029529571533203,
          -6.30296516418457,
          -4.742931365966797,
          -8.925052642822266,
          -6.319787979125977,
          -6.017745018005371,
          1.7074193954467773,
          -6.204718589782715,
          -6.278318881988525,
          -6.163032054901123,
          -9.337818145751953,
          -3.55928897857666,
          7.6752166748046875
         ],
         "yaxis": "y"
        }
       ],
       "layout": {
        "legend": {
         "title": {
          "text": "Predictions, Correct"
         },
         "tracegroupgap": 0
        },
        "margin": {
         "t": 60
        },
        "template": {
         "data": {
          "bar": [
           {
            "error_x": {
             "color": "#2a3f5f"
            },
            "error_y": {
             "color": "#2a3f5f"
            },
            "marker": {
             "line": {
              "color": "#E5ECF6",
              "width": 0.5
             },
             "pattern": {
              "fillmode": "overlay",
              "size": 10,
              "solidity": 0.2
             }
            },
            "type": "bar"
           }
          ],
          "barpolar": [
           {
            "marker": {
             "line": {
              "color": "#E5ECF6",
              "width": 0.5
             },
             "pattern": {
              "fillmode": "overlay",
              "size": 10,
              "solidity": 0.2
             }
            },
            "type": "barpolar"
           }
          ],
          "carpet": [
           {
            "aaxis": {
             "endlinecolor": "#2a3f5f",
             "gridcolor": "white",
             "linecolor": "white",
             "minorgridcolor": "white",
             "startlinecolor": "#2a3f5f"
            },
            "baxis": {
             "endlinecolor": "#2a3f5f",
             "gridcolor": "white",
             "linecolor": "white",
             "minorgridcolor": "white",
             "startlinecolor": "#2a3f5f"
            },
            "type": "carpet"
           }
          ],
          "choropleth": [
           {
            "colorbar": {
             "outlinewidth": 0,
             "ticks": ""
            },
            "type": "choropleth"
           }
          ],
          "contour": [
           {
            "colorbar": {
             "outlinewidth": 0,
             "ticks": ""
            },
            "colorscale": [
             [
              0,
              "#0d0887"
             ],
             [
              0.1111111111111111,
              "#46039f"
             ],
             [
              0.2222222222222222,
              "#7201a8"
             ],
             [
              0.3333333333333333,
              "#9c179e"
             ],
             [
              0.4444444444444444,
              "#bd3786"
             ],
             [
              0.5555555555555556,
              "#d8576b"
             ],
             [
              0.6666666666666666,
              "#ed7953"
             ],
             [
              0.7777777777777778,
              "#fb9f3a"
             ],
             [
              0.8888888888888888,
              "#fdca26"
             ],
             [
              1,
              "#f0f921"
             ]
            ],
            "type": "contour"
           }
          ],
          "contourcarpet": [
           {
            "colorbar": {
             "outlinewidth": 0,
             "ticks": ""
            },
            "type": "contourcarpet"
           }
          ],
          "heatmap": [
           {
            "colorbar": {
             "outlinewidth": 0,
             "ticks": ""
            },
            "colorscale": [
             [
              0,
              "#0d0887"
             ],
             [
              0.1111111111111111,
              "#46039f"
             ],
             [
              0.2222222222222222,
              "#7201a8"
             ],
             [
              0.3333333333333333,
              "#9c179e"
             ],
             [
              0.4444444444444444,
              "#bd3786"
             ],
             [
              0.5555555555555556,
              "#d8576b"
             ],
             [
              0.6666666666666666,
              "#ed7953"
             ],
             [
              0.7777777777777778,
              "#fb9f3a"
             ],
             [
              0.8888888888888888,
              "#fdca26"
             ],
             [
              1,
              "#f0f921"
             ]
            ],
            "type": "heatmap"
           }
          ],
          "heatmapgl": [
           {
            "colorbar": {
             "outlinewidth": 0,
             "ticks": ""
            },
            "colorscale": [
             [
              0,
              "#0d0887"
             ],
             [
              0.1111111111111111,
              "#46039f"
             ],
             [
              0.2222222222222222,
              "#7201a8"
             ],
             [
              0.3333333333333333,
              "#9c179e"
             ],
             [
              0.4444444444444444,
              "#bd3786"
             ],
             [
              0.5555555555555556,
              "#d8576b"
             ],
             [
              0.6666666666666666,
              "#ed7953"
             ],
             [
              0.7777777777777778,
              "#fb9f3a"
             ],
             [
              0.8888888888888888,
              "#fdca26"
             ],
             [
              1,
              "#f0f921"
             ]
            ],
            "type": "heatmapgl"
           }
          ],
          "histogram": [
           {
            "marker": {
             "pattern": {
              "fillmode": "overlay",
              "size": 10,
              "solidity": 0.2
             }
            },
            "type": "histogram"
           }
          ],
          "histogram2d": [
           {
            "colorbar": {
             "outlinewidth": 0,
             "ticks": ""
            },
            "colorscale": [
             [
              0,
              "#0d0887"
             ],
             [
              0.1111111111111111,
              "#46039f"
             ],
             [
              0.2222222222222222,
              "#7201a8"
             ],
             [
              0.3333333333333333,
              "#9c179e"
             ],
             [
              0.4444444444444444,
              "#bd3786"
             ],
             [
              0.5555555555555556,
              "#d8576b"
             ],
             [
              0.6666666666666666,
              "#ed7953"
             ],
             [
              0.7777777777777778,
              "#fb9f3a"
             ],
             [
              0.8888888888888888,
              "#fdca26"
             ],
             [
              1,
              "#f0f921"
             ]
            ],
            "type": "histogram2d"
           }
          ],
          "histogram2dcontour": [
           {
            "colorbar": {
             "outlinewidth": 0,
             "ticks": ""
            },
            "colorscale": [
             [
              0,
              "#0d0887"
             ],
             [
              0.1111111111111111,
              "#46039f"
             ],
             [
              0.2222222222222222,
              "#7201a8"
             ],
             [
              0.3333333333333333,
              "#9c179e"
             ],
             [
              0.4444444444444444,
              "#bd3786"
             ],
             [
              0.5555555555555556,
              "#d8576b"
             ],
             [
              0.6666666666666666,
              "#ed7953"
             ],
             [
              0.7777777777777778,
              "#fb9f3a"
             ],
             [
              0.8888888888888888,
              "#fdca26"
             ],
             [
              1,
              "#f0f921"
             ]
            ],
            "type": "histogram2dcontour"
           }
          ],
          "mesh3d": [
           {
            "colorbar": {
             "outlinewidth": 0,
             "ticks": ""
            },
            "type": "mesh3d"
           }
          ],
          "parcoords": [
           {
            "line": {
             "colorbar": {
              "outlinewidth": 0,
              "ticks": ""
             }
            },
            "type": "parcoords"
           }
          ],
          "pie": [
           {
            "automargin": true,
            "type": "pie"
           }
          ],
          "scatter": [
           {
            "fillpattern": {
             "fillmode": "overlay",
             "size": 10,
             "solidity": 0.2
            },
            "type": "scatter"
           }
          ],
          "scatter3d": [
           {
            "line": {
             "colorbar": {
              "outlinewidth": 0,
              "ticks": ""
             }
            },
            "marker": {
             "colorbar": {
              "outlinewidth": 0,
              "ticks": ""
             }
            },
            "type": "scatter3d"
           }
          ],
          "scattercarpet": [
           {
            "marker": {
             "colorbar": {
              "outlinewidth": 0,
              "ticks": ""
             }
            },
            "type": "scattercarpet"
           }
          ],
          "scattergeo": [
           {
            "marker": {
             "colorbar": {
              "outlinewidth": 0,
              "ticks": ""
             }
            },
            "type": "scattergeo"
           }
          ],
          "scattergl": [
           {
            "marker": {
             "colorbar": {
              "outlinewidth": 0,
              "ticks": ""
             }
            },
            "type": "scattergl"
           }
          ],
          "scattermapbox": [
           {
            "marker": {
             "colorbar": {
              "outlinewidth": 0,
              "ticks": ""
             }
            },
            "type": "scattermapbox"
           }
          ],
          "scatterpolar": [
           {
            "marker": {
             "colorbar": {
              "outlinewidth": 0,
              "ticks": ""
             }
            },
            "type": "scatterpolar"
           }
          ],
          "scatterpolargl": [
           {
            "marker": {
             "colorbar": {
              "outlinewidth": 0,
              "ticks": ""
             }
            },
            "type": "scatterpolargl"
           }
          ],
          "scatterternary": [
           {
            "marker": {
             "colorbar": {
              "outlinewidth": 0,
              "ticks": ""
             }
            },
            "type": "scatterternary"
           }
          ],
          "surface": [
           {
            "colorbar": {
             "outlinewidth": 0,
             "ticks": ""
            },
            "colorscale": [
             [
              0,
              "#0d0887"
             ],
             [
              0.1111111111111111,
              "#46039f"
             ],
             [
              0.2222222222222222,
              "#7201a8"
             ],
             [
              0.3333333333333333,
              "#9c179e"
             ],
             [
              0.4444444444444444,
              "#bd3786"
             ],
             [
              0.5555555555555556,
              "#d8576b"
             ],
             [
              0.6666666666666666,
              "#ed7953"
             ],
             [
              0.7777777777777778,
              "#fb9f3a"
             ],
             [
              0.8888888888888888,
              "#fdca26"
             ],
             [
              1,
              "#f0f921"
             ]
            ],
            "type": "surface"
           }
          ],
          "table": [
           {
            "cells": {
             "fill": {
              "color": "#EBF0F8"
             },
             "line": {
              "color": "white"
             }
            },
            "header": {
             "fill": {
              "color": "#C8D4E3"
             },
             "line": {
              "color": "white"
             }
            },
            "type": "table"
           }
          ]
         },
         "layout": {
          "annotationdefaults": {
           "arrowcolor": "#2a3f5f",
           "arrowhead": 0,
           "arrowwidth": 1
          },
          "autotypenumbers": "strict",
          "coloraxis": {
           "colorbar": {
            "outlinewidth": 0,
            "ticks": ""
           }
          },
          "colorscale": {
           "diverging": [
            [
             0,
             "#8e0152"
            ],
            [
             0.1,
             "#c51b7d"
            ],
            [
             0.2,
             "#de77ae"
            ],
            [
             0.3,
             "#f1b6da"
            ],
            [
             0.4,
             "#fde0ef"
            ],
            [
             0.5,
             "#f7f7f7"
            ],
            [
             0.6,
             "#e6f5d0"
            ],
            [
             0.7,
             "#b8e186"
            ],
            [
             0.8,
             "#7fbc41"
            ],
            [
             0.9,
             "#4d9221"
            ],
            [
             1,
             "#276419"
            ]
           ],
           "sequential": [
            [
             0,
             "#0d0887"
            ],
            [
             0.1111111111111111,
             "#46039f"
            ],
            [
             0.2222222222222222,
             "#7201a8"
            ],
            [
             0.3333333333333333,
             "#9c179e"
            ],
            [
             0.4444444444444444,
             "#bd3786"
            ],
            [
             0.5555555555555556,
             "#d8576b"
            ],
            [
             0.6666666666666666,
             "#ed7953"
            ],
            [
             0.7777777777777778,
             "#fb9f3a"
            ],
            [
             0.8888888888888888,
             "#fdca26"
            ],
            [
             1,
             "#f0f921"
            ]
           ],
           "sequentialminus": [
            [
             0,
             "#0d0887"
            ],
            [
             0.1111111111111111,
             "#46039f"
            ],
            [
             0.2222222222222222,
             "#7201a8"
            ],
            [
             0.3333333333333333,
             "#9c179e"
            ],
            [
             0.4444444444444444,
             "#bd3786"
            ],
            [
             0.5555555555555556,
             "#d8576b"
            ],
            [
             0.6666666666666666,
             "#ed7953"
            ],
            [
             0.7777777777777778,
             "#fb9f3a"
            ],
            [
             0.8888888888888888,
             "#fdca26"
            ],
            [
             1,
             "#f0f921"
            ]
           ]
          },
          "colorway": [
           "#636efa",
           "#EF553B",
           "#00cc96",
           "#ab63fa",
           "#FFA15A",
           "#19d3f3",
           "#FF6692",
           "#B6E880",
           "#FF97FF",
           "#FECB52"
          ],
          "font": {
           "color": "#2a3f5f"
          },
          "geo": {
           "bgcolor": "white",
           "lakecolor": "white",
           "landcolor": "#E5ECF6",
           "showlakes": true,
           "showland": true,
           "subunitcolor": "white"
          },
          "hoverlabel": {
           "align": "left"
          },
          "hovermode": "closest",
          "mapbox": {
           "style": "light"
          },
          "paper_bgcolor": "white",
          "plot_bgcolor": "#E5ECF6",
          "polar": {
           "angularaxis": {
            "gridcolor": "white",
            "linecolor": "white",
            "ticks": ""
           },
           "bgcolor": "#E5ECF6",
           "radialaxis": {
            "gridcolor": "white",
            "linecolor": "white",
            "ticks": ""
           }
          },
          "scene": {
           "xaxis": {
            "backgroundcolor": "#E5ECF6",
            "gridcolor": "white",
            "gridwidth": 2,
            "linecolor": "white",
            "showbackground": true,
            "ticks": "",
            "zerolinecolor": "white"
           },
           "yaxis": {
            "backgroundcolor": "#E5ECF6",
            "gridcolor": "white",
            "gridwidth": 2,
            "linecolor": "white",
            "showbackground": true,
            "ticks": "",
            "zerolinecolor": "white"
           },
           "zaxis": {
            "backgroundcolor": "#E5ECF6",
            "gridcolor": "white",
            "gridwidth": 2,
            "linecolor": "white",
            "showbackground": true,
            "ticks": "",
            "zerolinecolor": "white"
           }
          },
          "shapedefaults": {
           "line": {
            "color": "#2a3f5f"
           }
          },
          "ternary": {
           "aaxis": {
            "gridcolor": "white",
            "linecolor": "white",
            "ticks": ""
           },
           "baxis": {
            "gridcolor": "white",
            "linecolor": "white",
            "ticks": ""
           },
           "bgcolor": "#E5ECF6",
           "caxis": {
            "gridcolor": "white",
            "linecolor": "white",
            "ticks": ""
           }
          },
          "title": {
           "x": 0.05
          },
          "xaxis": {
           "automargin": true,
           "gridcolor": "white",
           "linecolor": "white",
           "ticks": "",
           "title": {
            "standoff": 15
           },
           "zerolinecolor": "white",
           "zerolinewidth": 2
          },
          "yaxis": {
           "automargin": true,
           "gridcolor": "white",
           "linecolor": "white",
           "ticks": "",
           "title": {
            "standoff": 15
           },
           "zerolinecolor": "white",
           "zerolinewidth": 2
          }
         }
        },
        "xaxis": {
         "anchor": "y",
         "domain": [
          0,
          1
         ],
         "title": {
          "text": "x"
         }
        },
        "yaxis": {
         "anchor": "x",
         "domain": [
          0,
          1
         ],
         "title": {
          "text": "y"
         }
        }
       }
      },
      "text/html": [
       "<div>                            <div id=\"b2b7cc88-72ea-495c-8b99-ddc3c76debbc\" class=\"plotly-graph-div\" style=\"height:525px; width:100%;\"></div>            <script type=\"text/javascript\">                require([\"plotly\"], function(Plotly) {                    window.PLOTLYENV=window.PLOTLYENV || {};                                    if (document.getElementById(\"b2b7cc88-72ea-495c-8b99-ddc3c76debbc\")) {                    Plotly.newPlot(                        \"b2b7cc88-72ea-495c-8b99-ddc3c76debbc\",                        [{\"hovertemplate\":\"Predictions=surprised\\u003cbr\\u003eCorrect=True\\u003cbr\\u003ex=%{x}\\u003cbr\\u003ey=%{y}\\u003cextra\\u003e\\u003c\\u002fextra\\u003e\",\"legendgroup\":\"surprised, True\",\"marker\":{\"color\":\"#19D3F3\",\"symbol\":\"circle\"},\"mode\":\"markers\",\"name\":\"surprised, True\",\"orientation\":\"v\",\"showlegend\":true,\"x\":[-29.03413200378418,-28.438161849975586,-29.275409698486328,-29.275501251220703,-27.587202072143555,-28.3739070892334,-27.956298828125,-28.468860626220703,-29.06475257873535,-6.06555700302124,-29.183490753173828,-28.455615997314453,-24.864269256591797,-28.99857521057129,-29.045551300048828,-26.83577537536621,-24.979116439819336,-28.653778076171875,-28.69729232788086,-25.894372940063477,-28.71804428100586,-28.9501895904541,-28.470783233642578,-25.85606575012207,-28.35828971862793,-28.403608322143555,-29.276025772094727,-28.694232940673828,-29.000280380249023,-28.538557052612305,-28.34891128540039,-28.49088478088379,-25.87298011779785,-28.414390563964844,-25.379844665527344,-28.502548217773438,-28.61787223815918,-27.40515899658203,-29.263111114501953,-28.865007400512695,-29.27544593811035,-27.456684112548828,-29.09393882751465],\"xaxis\":\"x\",\"y\":[-10.770391464233398,-10.71590518951416,-10.447535514831543,-10.446239471435547,-8.579465866088867,-10.571690559387207,-8.61199951171875,-10.113780975341797,-10.747953414916992,4.575817108154297,-10.122491836547852,-9.92562484741211,-9.396160125732422,-10.79741382598877,-10.045076370239258,-8.884658813476562,-8.79204273223877,-10.14971923828125,-9.34426212310791,-8.357933044433594,-9.484822273254395,-9.670040130615234,-10.149670600891113,-9.479110717773438,-10.520331382751465,-10.297584533691406,-10.446023941040039,-9.446516990661621,-9.804447174072266,-8.90695571899414,-8.954072952270508,-10.759408950805664,-9.475396156311035,-10.37879467010498,-8.87961483001709,-10.770337104797363,-10.824580192565918,-8.614246368408203,-10.480361938476562,-10.858428955078125,-10.446531295776367,-8.613042831420898,-9.956652641296387],\"yaxis\":\"y\",\"type\":\"scatter\"},{\"hovertemplate\":\"Predictions=surprised\\u003cbr\\u003eCorrect=False\\u003cbr\\u003ex=%{x}\\u003cbr\\u003ey=%{y}\\u003cextra\\u003e\\u003c\\u002fextra\\u003e\",\"legendgroup\":\"surprised, False\",\"marker\":{\"color\":\"#19D3F3\",\"symbol\":\"x\"},\"mode\":\"markers\",\"name\":\"surprised, False\",\"orientation\":\"v\",\"showlegend\":true,\"x\":[-25.508031845092773,-26.83960723876953,-27.12347412109375,-25.737136840820312,-24.709869384765625,-25.449377059936523,-25.90211296081543,-28.855546951293945],\"xaxis\":\"x\",\"y\":[-9.592011451721191,-8.500256538391113,-8.731938362121582,-8.3688383102417,-8.760528564453125,-8.925052642822266,-9.337818145751953,-10.861228942871094],\"yaxis\":\"y\",\"type\":\"scatter\"},{\"hovertemplate\":\"Predictions=happy\\u003cbr\\u003eCorrect=True\\u003cbr\\u003ex=%{x}\\u003cbr\\u003ey=%{y}\\u003cextra\\u003e\\u003c\\u002fextra\\u003e\",\"legendgroup\":\"happy, True\",\"marker\":{\"color\":\"#00CC96\",\"symbol\":\"circle\"},\"mode\":\"markers\",\"name\":\"happy, True\",\"orientation\":\"v\",\"showlegend\":true,\"x\":[17.777645111083984,17.139265060424805,17.735422134399414,19.87163734436035,17.363277435302734,17.85568618774414,17.8631534576416,16.50998878479004,20.229040145874023,19.847166061401367,18.811683654785156,15.690552711486816,-3.6523196697235107,19.096771240234375,20.315465927124023,18.013330459594727,17.27256965637207,17.130001068115234,16.735271453857422,20.03704261779785,16.920772552490234,16.84446907043457,19.68102264404297,18.155794143676758,19.516746520996094,16.678171157836914,16.869728088378906,18.634197235107422,16.704940795898438,16.703304290771484,17.593244552612305,17.91265106201172,16.124841690063477,19.70167350769043,19.212121963500977,17.228111267089844,19.52887535095215,17.229467391967773,18.674951553344727,19.38349151611328,16.998180389404297,16.865720748901367,19.261737823486328,20.244312286376953,16.218021392822266,17.18649673461914,15.751455307006836,18.345638275146484,16.736644744873047,17.347375869750977,19.530963897705078,16.688486099243164,19.720117568969727,19.23339080810547],\"xaxis\":\"x\",\"y\":[7.476766109466553,8.885516166687012,7.486146450042725,4.894120216369629,8.640240669250488,4.198237895965576,8.386990547180176,1.41948401927948,6.655244827270508,5.971275329589844,7.023226261138916,4.436695098876953,5.272629261016846,4.451888561248779,6.163197040557861,8.214483261108398,8.19708251953125,8.000288963317871,8.194430351257324,6.404102325439453,8.078307151794434,8.089269638061523,7.429981708526611,8.24683666229248,4.697457313537598,8.308638572692871,8.78465747833252,7.091565132141113,8.5845308303833,8.585869789123535,8.090498924255371,4.169414520263672,0.3690207898616791,7.4164605140686035,6.897019863128662,8.874370574951172,4.790968418121338,8.8721923828125,8.07689380645752,4.830540657043457,8.866530418395996,8.774958610534668,4.517741680145264,6.513566017150879,0.7250007390975952,8.083475112915039,4.449986457824707,8.194635391235352,1.8969138860702515,7.998287677764893,5.462677955627441,8.244873046875,7.474081516265869,6.4285712242126465],\"yaxis\":\"y\",\"type\":\"scatter\"},{\"hovertemplate\":\"Predictions=happy\\u003cbr\\u003eCorrect=False\\u003cbr\\u003ex=%{x}\\u003cbr\\u003ey=%{y}\\u003cextra\\u003e\\u003c\\u002fextra\\u003e\",\"legendgroup\":\"happy, False\",\"marker\":{\"color\":\"#00CC96\",\"symbol\":\"x\"},\"mode\":\"markers\",\"name\":\"happy, False\",\"orientation\":\"v\",\"showlegend\":true,\"x\":[19.04779052734375,17.37485694885254,15.720269203186035,16.818359375,16.366390228271484,18.849397659301758,19.683042526245117,18.90424919128418,18.257068634033203,17.54012680053711,18.272764205932617,16.34569549560547,18.45415496826172,17.372512817382812,19.489477157592773,16.702970504760742],\"xaxis\":\"x\",\"y\":[7.018116474151611,8.713787078857422,-0.8748157620429993,8.099214553833008,3.837646722793579,4.103569984436035,5.695967674255371,6.814971446990967,4.000877380371094,8.538737297058105,3.71124005317688,3.8212757110595703,4.066161155700684,8.776143074035645,7.6752166748046875,8.578805923461914],\"yaxis\":\"y\",\"type\":\"scatter\"},{\"hovertemplate\":\"Predictions=disgusted\\u003cbr\\u003eCorrect=True\\u003cbr\\u003ex=%{x}\\u003cbr\\u003ey=%{y}\\u003cextra\\u003e\\u003c\\u002fextra\\u003e\",\"legendgroup\":\"disgusted, True\",\"marker\":{\"color\":\"#EF553B\",\"symbol\":\"circle\"},\"mode\":\"markers\",\"name\":\"disgusted, True\",\"orientation\":\"v\",\"showlegend\":true,\"x\":[-3.8826613426208496,-3.4701850414276123,-3.7799713611602783,-4.635378837585449,-4.025469779968262,-3.412482976913452,-4.570828437805176,-4.086112976074219,-3.1608595848083496,-3.2509992122650146,-3.421015739440918,-4.589531898498535,-4.304971218109131,-4.327728748321533,-3.426466464996338,-4.653524875640869,-4.556604862213135,-4.381330490112305,-4.158858299255371,-3.8083348274230957,-4.061673164367676,-4.072944164276123,-4.550745487213135,-4.654869079589844,-4.216348171234131,-3.4575417041778564,-4.65371036529541,-4.46317720413208,-3.7921345233917236,-4.726314544677734,-5.063840866088867,-4.687393665313721,-3.7766242027282715,-4.430552005767822,-4.707684516906738,-3.8687989711761475,-4.509162902832031,-3.8130059242248535,-4.086926460266113,-4.305004119873047,-3.846024513244629,-4.627944469451904,-3.7822093963623047,-4.268429279327393,-3.145789623260498],\"xaxis\":\"x\",\"y\":[14.049792289733887,13.545248985290527,14.364729881286621,14.024860382080078,14.74083423614502,10.780465126037598,9.088127136230469,13.900487899780273,12.419648170471191,12.975469589233398,13.306700706481934,13.984129905700684,14.768156051635742,13.873271942138672,13.424976348876953,14.54366397857666,13.962836265563965,14.756519317626953,11.027804374694824,14.518527030944824,14.755123138427734,13.726543426513672,8.317095756530762,14.04443359375,10.871562957763672,9.974973678588867,14.544261932373047,14.710761070251465,11.530109405517578,14.387918472290039,7.109678745269775,14.46211051940918,14.418213844299316,9.967079162597656,14.213253021240234,13.922636985778809,13.936511039733887,14.536770820617676,14.130491256713867,14.768149375915527,14.639764785766602,8.744551658630371,14.45456314086914,10.783300399780273,12.504565238952637],\"yaxis\":\"y\",\"type\":\"scatter\"},{\"hovertemplate\":\"Predictions=disgusted\\u003cbr\\u003eCorrect=False\\u003cbr\\u003ex=%{x}\\u003cbr\\u003ey=%{y}\\u003cextra\\u003e\\u003c\\u002fextra\\u003e\",\"legendgroup\":\"disgusted, False\",\"marker\":{\"color\":\"#EF553B\",\"symbol\":\"x\"},\"mode\":\"markers\",\"name\":\"disgusted, False\",\"orientation\":\"v\",\"showlegend\":true,\"x\":[-3.977128744125366,-5.103087425231934,-3.2145466804504395,-4.0990824699401855,-4.379537582397461,-3.183668613433838,-3.4798200130462646,-3.709211826324463,-3.3547818660736084,-5.140309810638428,-3.963205575942993,-4.58311653137207,-3.6598408222198486,-4.859272480010986,-5.091679096221924,-3.747767686843872],\"xaxis\":\"x\",\"y\":[11.03039836883545,6.96401834487915,6.343481540679932,10.878339767456055,10.39360237121582,12.251802444458008,11.796917915344238,11.567525863647461,9.875624656677246,5.9063191413879395,9.078886032104492,8.62653636932373,11.1389799118042,7.788214683532715,7.029529571533203,8.653600692749023],\"yaxis\":\"y\",\"type\":\"scatter\"},{\"hovertemplate\":\"Predictions=sad\\u003cbr\\u003eCorrect=True\\u003cbr\\u003ex=%{x}\\u003cbr\\u003ey=%{y}\\u003cextra\\u003e\\u003c\\u002fextra\\u003e\",\"legendgroup\":\"sad, True\",\"marker\":{\"color\":\"#FFA15A\",\"symbol\":\"circle\"},\"mode\":\"markers\",\"name\":\"sad, True\",\"orientation\":\"v\",\"showlegend\":true,\"x\":[-9.271598815917969,-9.33037281036377,-9.224763870239258,-8.485861778259277,-9.903948783874512,-8.64993953704834,-7.093002796173096,-9.200047492980957,-9.579463005065918,-9.8395414352417,-9.274335861206055,-8.022911071777344,-9.912435531616211,-5.682581424713135,-9.194907188415527,-9.858309745788574,-7.357928276062012,-9.585626602172852,-9.581683158874512,-9.865108489990234,-9.90548038482666,-8.833442687988281,-7.507470607757568,-9.35695743560791,-7.633095741271973,-9.319053649902344,-9.76821231842041,-9.855599403381348,-9.857967376708984,-9.832047462463379,-7.991255283355713,-9.508126258850098],\"xaxis\":\"x\",\"y\":[1.9885534048080444,2.691148042678833,1.7532354593276978,2.754976511001587,1.7800873517990112,2.723115921020508,2.8310890197753906,1.868453860282898,1.5435144901275635,2.2287545204162598,1.6716474294662476,3.1145622730255127,2.0769574642181396,3.6446094512939453,2.290158271789551,2.2084097862243652,2.7815823554992676,1.5448684692382812,1.5441710948944092,1.7246822118759155,1.779832124710083,2.1272079944610596,2.7081122398376465,1.5525078773498535,2.688493251800537,2.3083317279815674,2.2807042598724365,2.211804151535034,2.208695650100708,1.6883777379989624,2.621363878250122,2.304304838180542],\"yaxis\":\"y\",\"type\":\"scatter\"},{\"hovertemplate\":\"Predictions=sad\\u003cbr\\u003eCorrect=False\\u003cbr\\u003ex=%{x}\\u003cbr\\u003ey=%{y}\\u003cextra\\u003e\\u003c\\u002fextra\\u003e\",\"legendgroup\":\"sad, False\",\"marker\":{\"color\":\"#FFA15A\",\"symbol\":\"x\"},\"mode\":\"markers\",\"name\":\"sad, False\",\"orientation\":\"v\",\"showlegend\":true,\"x\":[-6.205018043518066,-8.823431968688965,-5.804807186126709,-5.227874279022217,-6.455664157867432,-5.679354190826416,-9.242707252502441,-5.49920129776001],\"xaxis\":\"x\",\"y\":[4.400018215179443,2.441577672958374,4.528751850128174,6.125962257385254,4.249230861663818,4.5484113693237305,1.7074193954467773,5.394437313079834],\"yaxis\":\"y\",\"type\":\"scatter\"},{\"hovertemplate\":\"Predictions=angry\\u003cbr\\u003eCorrect=True\\u003cbr\\u003ex=%{x}\\u003cbr\\u003ey=%{y}\\u003cextra\\u003e\\u003c\\u002fextra\\u003e\",\"legendgroup\":\"angry, True\",\"marker\":{\"color\":\"#636EFA\",\"symbol\":\"circle\"},\"mode\":\"markers\",\"name\":\"angry, True\",\"orientation\":\"v\",\"showlegend\":true,\"x\":[-2.554307222366333,-2.677574396133423,-2.134950876235962,-2.179893970489502,-1.9379245042800903,-1.9186007976531982,-2.1342902183532715,-1.9586238861083984,-2.153623580932617,-2.429123878479004,-2.379617214202881,-2.2688348293304443,-1.7130768299102783,-1.8953434228897095,-2.7418694496154785,-2.779087543487549,-2.0069005489349365,-2.198035955429077,-1.9230315685272217,-2.8022704124450684,-2.812823534011841,-2.3930633068084717,-1.6330949068069458,-2.4706602096557617,-2.3815758228302,-2.7331042289733887,-0.9540566802024841,-1.9820077419281006,-1.892398715019226,-0.5523034334182739,-2.583406686782837],\"xaxis\":\"x\",\"y\":[-12.552885055541992,-11.885429382324219,-12.574810981750488,-12.595849990844727,-12.012910842895508,-12.26909065246582,-12.576960563659668,-11.942240715026855,-11.941112518310547,-11.477982521057129,-12.606209754943848,-9.09683895111084,-8.444242477416992,-12.22457504272461,-12.022438049316406,-12.33510971069336,-9.603074073791504,-10.782055854797363,-12.33761215209961,-12.272477149963379,-12.227768898010254,-10.685603141784668,-9.914387702941895,-10.452829360961914,-12.602965354919434,-12.40896224975586,-8.226823806762695,-9.148478507995605,-12.14789867401123,-6.855167388916016,-12.531425476074219],\"yaxis\":\"y\",\"type\":\"scatter\"},{\"hovertemplate\":\"Predictions=angry\\u003cbr\\u003eCorrect=False\\u003cbr\\u003ex=%{x}\\u003cbr\\u003ey=%{y}\\u003cextra\\u003e\\u003c\\u002fextra\\u003e\",\"legendgroup\":\"angry, False\",\"marker\":{\"color\":\"#636EFA\",\"symbol\":\"x\"},\"mode\":\"markers\",\"name\":\"angry, False\",\"orientation\":\"v\",\"showlegend\":true,\"x\":[-3.908367156982422,-2.871955633163452,-2.3697869777679443,-1.9520785808563232,-2.7180142402648926,-1.8856154680252075,-2.670726776123047,-0.9836905002593994,-2.8108017444610596,-0.8526729941368103,-2.7457802295684814,-1.6860941648483276,-1.8657740354537964,-1.7658313512802124,-2.2844009399414062,-2.4998159408569336,-2.8622968196868896,-0.8888105154037476,-2.2687952518463135,-3.933295965194702,-2.2769553661346436,-2.3455731868743896,-2.530606269836426,-2.5013413429260254,-1.0238542556762695],\"xaxis\":\"x\",\"y\":[4.786375999450684,-7.637679576873779,-9.072955131530762,-11.491278648376465,-11.923632621765137,-12.179651260375977,-7.913390636444092,-7.865841388702393,-7.823639869689941,-7.203855514526367,-12.003887176513672,-9.021998405456543,-10.531413078308105,-8.332984924316406,-8.97043514251709,-11.70229434967041,-7.598094463348389,-8.47971248626709,-9.580968856811523,4.893165588378906,-11.489346504211426,-11.453858375549316,-8.243546485900879,-10.191168785095215,-7.811984539031982],\"yaxis\":\"y\",\"type\":\"scatter\"},{\"hovertemplate\":\"Predictions=neutral\\u003cbr\\u003eCorrect=True\\u003cbr\\u003ex=%{x}\\u003cbr\\u003ey=%{y}\\u003cextra\\u003e\\u003c\\u002fextra\\u003e\",\"legendgroup\":\"neutral, True\",\"marker\":{\"color\":\"#AB63FA\",\"symbol\":\"circle\"},\"mode\":\"markers\",\"name\":\"neutral, True\",\"orientation\":\"v\",\"showlegend\":true,\"x\":[15.238295555114746,15.915316581726074,16.1519775390625,15.882736206054688,15.916486740112305,15.739266395568848,15.679173469543457,16.12599754333496,15.477511405944824,16.077091217041016,15.840386390686035,16.124662399291992,15.082566261291504,15.91353988647461,16.159725189208984,15.293076515197754,15.633471488952637,15.68066120147705,14.934710502624512,14.045720100402832,15.554118156433105,16.15450668334961,14.16422176361084,16.124069213867188,15.116186141967773,15.665457725524902,15.590412139892578,15.753711700439453,15.936789512634277,15.496642112731934,15.486080169677734,15.548813819885254,15.486454010009766,15.715073585510254],\"xaxis\":\"x\",\"y\":[-4.487245559692383,-6.346427917480469,-5.989165306091309,-4.968266487121582,-6.33436393737793,-5.670923233032227,-3.7150604724884033,-6.13459587097168,-5.663224220275879,-5.830653667449951,-4.996556282043457,-5.909919261932373,-5.175779342651367,-5.3327412605285645,-6.038741111755371,-3.5315375328063965,-2.4114534854888916,-1.2972184419631958,-4.854590892791748,-3.7188057899475098,-6.282253265380859,-5.998383522033691,-3.592693567276001,-5.921369552612305,-1.5269391536712646,-1.2395830154418945,-6.30296516418457,-4.742931365966797,-6.319787979125977,-6.017745018005371,-6.204718589782715,-6.278318881988525,-6.163032054901123,-3.55928897857666],\"yaxis\":\"y\",\"type\":\"scatter\"},{\"hovertemplate\":\"Predictions=neutral\\u003cbr\\u003eCorrect=False\\u003cbr\\u003ex=%{x}\\u003cbr\\u003ey=%{y}\\u003cextra\\u003e\\u003c\\u002fextra\\u003e\",\"legendgroup\":\"neutral, False\",\"marker\":{\"color\":\"#AB63FA\",\"symbol\":\"x\"},\"mode\":\"markers\",\"name\":\"neutral, False\",\"orientation\":\"v\",\"showlegend\":true,\"x\":[15.194197654724121,15.614469528198242,15.37226676940918,15.259428977966309,14.504790306091309,15.69178581237793,15.78591251373291,15.39914321899414,15.463180541992188,13.972756385803223,15.177589416503906,13.999890327453613,15.67328929901123],\"xaxis\":\"x\",\"y\":[-3.1938910484313965,-1.289006233215332,-2.5776684284210205,-5.470706462860107,-4.132009983062744,-1.0936293601989746,-4.892863750457764,-3.6014766693115234,-6.119029998779297,-3.7091829776763916,-5.290776252746582,-3.706242322921753,-4.262929439544678],\"yaxis\":\"y\",\"type\":\"scatter\"},{\"customdata\":[[\"surprised\"],[\"surprised\"],[\"surprised\"],[\"surprised\"],[\"angry\"],[\"surprised\"],[\"surprised\"],[\"happy\"],[\"surprised\"],[\"surprised\"],[\"sad\"],[\"surprised\"],[\"surprised\"],[\"surprised\"],[\"angry\"],[\"surprised\"],[\"surprised\"],[\"surprised\"],[\"surprised\"],[\"surprised\"],[\"surprised\"],[\"surprised\"],[\"surprised\"],[\"surprised\"],[\"surprised\"],[\"surprised\"],[\"surprised\"],[\"neutral\"],[\"angry\"],[\"surprised\"],[\"surprised\"],[\"neutral\"],[\"surprised\"],[\"surprised\"],[\"surprised\"],[\"surprised\"],[\"surprised\"],[\"surprised\"],[\"surprised\"],[\"surprised\"],[\"surprised\"],[\"neutral\"],[\"neutral\"],[\"happy\"],[\"surprised\"],[\"surprised\"],[\"neutral\"],[\"surprised\"],[\"surprised\"],[\"neutral\"],[\"surprised\"],[\"surprised\"],[\"surprised\"],[\"surprised\"],[\"surprised\"],[\"happy\"]],\"hovertemplate\":\"Label=surprised\\u003cbr\\u003ex=%{x}\\u003cbr\\u003ey=%{y}\\u003cbr\\u003ePredictions=%{customdata[0]}\\u003cextra\\u003e\\u003c\\u002fextra\\u003e\",\"legendgroup\":\"surprised\",\"marker\":{\"color\":\"#19D3F3\",\"opacity\":0.2,\"size\":12,\"symbol\":\"circle\"},\"mode\":\"markers\",\"name\":\"surprised\",\"orientation\":\"v\",\"showlegend\":false,\"x\":[-29.03413200378418,-28.438161849975586,-29.275409698486328,-29.275501251220703,-2.871955633163452,-27.587202072143555,-28.3739070892334,16.366390228271484,-27.956298828125,-28.468860626220703,-8.823431968688965,-29.06475257873535,-6.06555700302124,-29.183490753173828,-2.7180142402648926,-28.455615997314453,-24.864269256591797,-28.99857521057129,-29.045551300048828,-26.83577537536621,-24.979116439819336,-28.653778076171875,-28.69729232788086,-25.894372940063477,-28.71804428100586,-28.9501895904541,-28.470783233642578,14.504790306091309,-1.8657740354537964,-25.85606575012207,-28.35828971862793,15.69178581237793,-28.403608322143555,-29.276025772094727,-28.694232940673828,-29.000280380249023,-28.538557052612305,-28.34891128540039,-28.49088478088379,-25.87298011779785,-28.414390563964844,15.463180541992188,13.972756385803223,16.34569549560547,-25.379844665527344,-28.502548217773438,15.177589416503906,-28.61787223815918,-27.40515899658203,13.999890327453613,-29.263111114501953,-28.865007400512695,-29.27544593811035,-27.456684112548828,-29.09393882751465,16.702970504760742],\"xaxis\":\"x\",\"y\":[-10.770391464233398,-10.71590518951416,-10.447535514831543,-10.446239471435547,-7.637679576873779,-8.579465866088867,-10.571690559387207,3.837646722793579,-8.61199951171875,-10.113780975341797,2.441577672958374,-10.747953414916992,4.575817108154297,-10.122491836547852,-11.923632621765137,-9.92562484741211,-9.396160125732422,-10.79741382598877,-10.045076370239258,-8.884658813476562,-8.79204273223877,-10.14971923828125,-9.34426212310791,-8.357933044433594,-9.484822273254395,-9.670040130615234,-10.149670600891113,-4.132009983062744,-10.531413078308105,-9.479110717773438,-10.520331382751465,-1.0936293601989746,-10.297584533691406,-10.446023941040039,-9.446516990661621,-9.804447174072266,-8.90695571899414,-8.954072952270508,-10.759408950805664,-9.475396156311035,-10.37879467010498,-6.119029998779297,-3.7091829776763916,3.8212757110595703,-8.87961483001709,-10.770337104797363,-5.290776252746582,-10.824580192565918,-8.614246368408203,-3.706242322921753,-10.480361938476562,-10.858428955078125,-10.446531295776367,-8.613042831420898,-9.956652641296387,8.578805923461914],\"yaxis\":\"y\",\"type\":\"scatter\"},{\"customdata\":[[\"happy\"],[\"disgusted\"],[\"disgusted\"],[\"disgusted\"],[\"disgusted\"],[\"disgusted\"],[\"disgusted\"],[\"disgusted\"],[\"happy\"],[\"disgusted\"],[\"disgusted\"],[\"disgusted\"],[\"disgusted\"],[\"disgusted\"],[\"disgusted\"],[\"disgusted\"],[\"disgusted\"],[\"disgusted\"],[\"disgusted\"],[\"disgusted\"],[\"disgusted\"],[\"disgusted\"],[\"disgusted\"],[\"disgusted\"],[\"disgusted\"],[\"disgusted\"],[\"angry\"],[\"sad\"],[\"disgusted\"],[\"neutral\"],[\"disgusted\"],[\"disgusted\"],[\"happy\"],[\"angry\"],[\"disgusted\"],[\"disgusted\"],[\"disgusted\"],[\"disgusted\"],[\"disgusted\"],[\"disgusted\"],[\"disgusted\"],[\"angry\"],[\"disgusted\"],[\"angry\"],[\"disgusted\"],[\"disgusted\"],[\"disgusted\"],[\"disgusted\"],[\"disgusted\"],[\"disgusted\"],[\"disgusted\"],[\"disgusted\"],[\"disgusted\"],[\"disgusted\"]],\"hovertemplate\":\"Label=disgusted\\u003cbr\\u003ex=%{x}\\u003cbr\\u003ey=%{y}\\u003cbr\\u003ePredictions=%{customdata[0]}\\u003cextra\\u003e\\u003c\\u002fextra\\u003e\",\"legendgroup\":\"disgusted\",\"marker\":{\"color\":\"#EF553B\",\"opacity\":0.2,\"size\":12,\"symbol\":\"circle\"},\"mode\":\"markers\",\"name\":\"disgusted\",\"orientation\":\"v\",\"showlegend\":false,\"x\":[19.04779052734375,-3.8826613426208496,-3.4701850414276123,-3.7799713611602783,-4.635378837585449,-4.025469779968262,-3.412482976913452,-4.570828437805176,19.683042526245117,-4.086112976074219,-3.1608595848083496,-3.2509992122650146,-3.421015739440918,-4.589531898498535,-4.304971218109131,-4.327728748321533,-3.426466464996338,-4.653524875640869,-4.556604862213135,-4.381330490112305,-4.158858299255371,-3.8083348274230957,-4.061673164367676,-4.072944164276123,-4.550745487213135,-4.654869079589844,-2.2844009399414062,-6.455664157867432,-4.216348171234131,15.78591251373291,-3.4575417041778564,-4.65371036529541,18.45415496826172,-2.8622968196868896,-4.46317720413208,-3.7921345233917236,-4.726314544677734,-5.063840866088867,-4.687393665313721,-3.7766242027282715,-4.430552005767822,-2.2687952518463135,-4.707684516906738,-2.2769553661346436,-3.8687989711761475,-4.509162902832031,-3.8130059242248535,-4.086926460266113,-4.305004119873047,-3.846024513244629,-4.627944469451904,-3.7822093963623047,-4.268429279327393,-3.145789623260498],\"xaxis\":\"x\",\"y\":[7.018116474151611,14.049792289733887,13.545248985290527,14.364729881286621,14.024860382080078,14.74083423614502,10.780465126037598,9.088127136230469,5.695967674255371,13.900487899780273,12.419648170471191,12.975469589233398,13.306700706481934,13.984129905700684,14.768156051635742,13.873271942138672,13.424976348876953,14.54366397857666,13.962836265563965,14.756519317626953,11.027804374694824,14.518527030944824,14.755123138427734,13.726543426513672,8.317095756530762,14.04443359375,-8.97043514251709,4.249230861663818,10.871562957763672,-4.892863750457764,9.974973678588867,14.544261932373047,4.066161155700684,-7.598094463348389,14.710761070251465,11.530109405517578,14.387918472290039,7.109678745269775,14.46211051940918,14.418213844299316,9.967079162597656,-9.580968856811523,14.213253021240234,-11.489346504211426,13.922636985778809,13.936511039733887,14.536770820617676,14.130491256713867,14.768149375915527,14.639764785766602,8.744551658630371,14.45456314086914,10.783300399780273,12.504565238952637],\"yaxis\":\"y\",\"type\":\"scatter\"},{\"customdata\":[[\"happy\"],[\"happy\"],[\"angry\"],[\"happy\"],[\"happy\"],[\"happy\"],[\"happy\"],[\"happy\"],[\"happy\"],[\"happy\"],[\"happy\"],[\"happy\"],[\"neutral\"],[\"happy\"],[\"disgusted\"],[\"happy\"],[\"happy\"],[\"happy\"],[\"happy\"],[\"happy\"],[\"happy\"],[\"happy\"],[\"surprised\"],[\"angry\"],[\"happy\"],[\"neutral\"],[\"neutral\"],[\"happy\"],[\"happy\"],[\"happy\"],[\"disgusted\"],[\"happy\"],[\"happy\"],[\"disgusted\"],[\"happy\"],[\"happy\"],[\"happy\"],[\"happy\"],[\"happy\"],[\"angry\"],[\"happy\"],[\"happy\"],[\"happy\"],[\"happy\"],[\"happy\"],[\"happy\"],[\"happy\"],[\"happy\"],[\"neutral\"],[\"happy\"],[\"happy\"],[\"happy\"],[\"happy\"],[\"happy\"],[\"angry\"],[\"happy\"],[\"happy\"],[\"happy\"],[\"happy\"],[\"happy\"],[\"surprised\"],[\"happy\"],[\"happy\"],[\"happy\"],[\"happy\"],[\"happy\"],[\"angry\"],[\"happy\"]],\"hovertemplate\":\"Label=happy\\u003cbr\\u003ex=%{x}\\u003cbr\\u003ey=%{y}\\u003cbr\\u003ePredictions=%{customdata[0]}\\u003cextra\\u003e\\u003c\\u002fextra\\u003e\",\"legendgroup\":\"happy\",\"marker\":{\"color\":\"#00CC96\",\"opacity\":0.2,\"size\":12,\"symbol\":\"circle\"},\"mode\":\"markers\",\"name\":\"happy\",\"orientation\":\"v\",\"showlegend\":false,\"x\":[17.777645111083984,17.139265060424805,-3.908367156982422,17.735422134399414,19.87163734436035,17.363277435302734,17.85568618774414,17.8631534576416,16.50998878479004,20.229040145874023,19.847166061401367,18.811683654785156,15.614469528198242,15.690552711486816,-3.2145466804504395,-3.6523196697235107,19.096771240234375,20.315465927124023,18.013330459594727,17.27256965637207,17.130001068115234,16.735271453857422,-25.737136840820312,-0.9836905002593994,20.03704261779785,15.37226676940918,15.259428977966309,16.920772552490234,16.84446907043457,19.68102264404297,-4.379537582397461,18.155794143676758,19.516746520996094,-3.183668613433838,16.678171157836914,16.869728088378906,18.634197235107422,16.704940795898438,16.703304290771484,-1.7658313512802124,17.593244552612305,17.91265106201172,16.124841690063477,19.70167350769043,19.212121963500977,17.228111267089844,19.52887535095215,17.229467391967773,15.39914321899414,18.674951553344727,19.38349151611328,16.998180389404297,16.865720748901367,19.261737823486328,-3.933295965194702,20.244312286376953,16.218021392822266,17.18649673461914,15.751455307006836,18.345638275146484,-28.855546951293945,16.736644744873047,17.347375869750977,19.530963897705078,16.688486099243164,19.720117568969727,-1.0238542556762695,19.23339080810547],\"xaxis\":\"x\",\"y\":[7.476766109466553,8.885516166687012,4.786375999450684,7.486146450042725,4.894120216369629,8.640240669250488,4.198237895965576,8.386990547180176,1.41948401927948,6.655244827270508,5.971275329589844,7.023226261138916,-1.289006233215332,4.436695098876953,6.343481540679932,5.272629261016846,4.451888561248779,6.163197040557861,8.214483261108398,8.19708251953125,8.000288963317871,8.194430351257324,-8.3688383102417,-7.865841388702393,6.404102325439453,-2.5776684284210205,-5.470706462860107,8.078307151794434,8.089269638061523,7.429981708526611,10.39360237121582,8.24683666229248,4.697457313537598,12.251802444458008,8.308638572692871,8.78465747833252,7.091565132141113,8.5845308303833,8.585869789123535,-8.332984924316406,8.090498924255371,4.169414520263672,0.3690207898616791,7.4164605140686035,6.897019863128662,8.874370574951172,4.790968418121338,8.8721923828125,-3.6014766693115234,8.07689380645752,4.830540657043457,8.866530418395996,8.774958610534668,4.517741680145264,4.893165588378906,6.513566017150879,0.7250007390975952,8.083475112915039,4.449986457824707,8.194635391235352,-10.861228942871094,1.8969138860702515,7.998287677764893,5.462677955627441,8.244873046875,7.474081516265869,-7.811984539031982,6.4285712242126465],\"yaxis\":\"y\",\"type\":\"scatter\"},{\"customdata\":[[\"happy\"],[\"happy\"],[\"sad\"],[\"happy\"],[\"sad\"],[\"sad\"],[\"sad\"],[\"sad\"],[\"happy\"],[\"disgusted\"],[\"angry\"],[\"sad\"],[\"sad\"],[\"angry\"],[\"sad\"],[\"sad\"],[\"angry\"],[\"sad\"],[\"sad\"],[\"angry\"],[\"sad\"],[\"sad\"],[\"sad\"],[\"sad\"],[\"sad\"],[\"sad\"],[\"angry\"],[\"angry\"],[\"angry\"],[\"sad\"],[\"disgusted\"],[\"disgusted\"],[\"happy\"],[\"angry\"],[\"sad\"],[\"disgusted\"],[\"disgusted\"],[\"sad\"],[\"sad\"],[\"sad\"],[\"sad\"],[\"disgusted\"],[\"sad\"],[\"sad\"],[\"sad\"],[\"sad\"],[\"sad\"],[\"sad\"],[\"sad\"],[\"sad\"],[\"sad\"],[\"angry\"],[\"angry\"],[\"angry\"]],\"hovertemplate\":\"Label=sad\\u003cbr\\u003ex=%{x}\\u003cbr\\u003ey=%{y}\\u003cbr\\u003ePredictions=%{customdata[0]}\\u003cextra\\u003e\\u003c\\u002fextra\\u003e\",\"legendgroup\":\"sad\",\"marker\":{\"color\":\"#FFA15A\",\"opacity\":0.2,\"size\":12,\"symbol\":\"circle\"},\"mode\":\"markers\",\"name\":\"sad\",\"orientation\":\"v\",\"showlegend\":false,\"x\":[17.37485694885254,15.720269203186035,-9.271598815917969,16.818359375,-9.33037281036377,-9.224763870239258,-8.485861778259277,-9.903948783874512,18.849397659301758,-5.103087425231934,-2.3697869777679443,-8.64993953704834,-7.093002796173096,-1.8856154680252075,-9.200047492980957,-9.579463005065918,-2.670726776123047,-9.8395414352417,-9.274335861206055,-2.8108017444610596,-8.022911071777344,-9.912435531616211,-5.682581424713135,-9.194907188415527,-9.858309745788574,-7.357928276062012,-0.8526729941368103,-2.7457802295684814,-1.6860941648483276,-9.585626602172852,-3.709211826324463,-5.140309810638428,17.54012680053711,-2.4998159408569336,-9.581683158874512,-4.58311653137207,-3.6598408222198486,-9.865108489990234,-9.90548038482666,-8.833442687988281,-7.507470607757568,-4.859272480010986,-9.35695743560791,-7.633095741271973,-9.319053649902344,-9.76821231842041,-9.855599403381348,-9.857967376708984,-9.832047462463379,-7.991255283355713,-9.508126258850098,-2.3455731868743896,-2.530606269836426,-2.5013413429260254],\"xaxis\":\"x\",\"y\":[8.713787078857422,-0.8748157620429993,1.9885534048080444,8.099214553833008,2.691148042678833,1.7532354593276978,2.754976511001587,1.7800873517990112,4.103569984436035,6.96401834487915,-9.072955131530762,2.723115921020508,2.8310890197753906,-12.179651260375977,1.868453860282898,1.5435144901275635,-7.913390636444092,2.2287545204162598,1.6716474294662476,-7.823639869689941,3.1145622730255127,2.0769574642181396,3.6446094512939453,2.290158271789551,2.2084097862243652,2.7815823554992676,-7.203855514526367,-12.003887176513672,-9.021998405456543,1.5448684692382812,11.567525863647461,5.9063191413879395,8.538737297058105,-11.70229434967041,1.5441710948944092,8.62653636932373,11.1389799118042,1.7246822118759155,1.779832124710083,2.1272079944610596,2.7081122398376465,7.788214683532715,1.5525078773498535,2.688493251800537,2.3083317279815674,2.2807042598724365,2.211804151535034,2.208695650100708,1.6883777379989624,2.621363878250122,2.304304838180542,-11.453858375549316,-8.243546485900879,-10.191168785095215],\"yaxis\":\"y\",\"type\":\"scatter\"},{\"customdata\":[[\"sad\"],[\"angry\"],[\"angry\"],[\"angry\"],[\"disgusted\"],[\"neutral\"],[\"angry\"],[\"angry\"],[\"angry\"],[\"angry\"],[\"angry\"],[\"sad\"],[\"angry\"],[\"happy\"],[\"angry\"],[\"angry\"],[\"angry\"],[\"surprised\"],[\"happy\"],[\"angry\"],[\"surprised\"],[\"angry\"],[\"angry\"],[\"angry\"],[\"angry\"],[\"disgusted\"],[\"angry\"],[\"disgusted\"],[\"disgusted\"],[\"angry\"],[\"disgusted\"],[\"angry\"],[\"angry\"],[\"angry\"],[\"angry\"],[\"angry\"],[\"angry\"],[\"disgusted\"],[\"sad\"],[\"angry\"],[\"angry\"],[\"angry\"],[\"angry\"],[\"neutral\"],[\"angry\"],[\"angry\"]],\"hovertemplate\":\"Label=angry\\u003cbr\\u003ex=%{x}\\u003cbr\\u003ey=%{y}\\u003cbr\\u003ePredictions=%{customdata[0]}\\u003cextra\\u003e\\u003c\\u002fextra\\u003e\",\"legendgroup\":\"angry\",\"marker\":{\"color\":\"#636EFA\",\"opacity\":0.2,\"size\":12,\"symbol\":\"circle\"},\"mode\":\"markers\",\"name\":\"angry\",\"orientation\":\"v\",\"showlegend\":false,\"x\":[-6.205018043518066,-2.554307222366333,-2.677574396133423,-2.134950876235962,-3.977128744125366,15.194197654724121,-2.179893970489502,-1.9379245042800903,-1.9186007976531982,-2.1342902183532715,-1.9586238861083984,-5.804807186126709,-2.153623580932617,18.90424919128418,-2.429123878479004,-2.379617214202881,-2.2688348293304443,-27.12347412109375,18.257068634033203,-1.7130768299102783,-24.709869384765625,-1.8953434228897095,-2.7418694496154785,-2.779087543487549,-2.0069005489349365,-4.0990824699401855,-2.198035955429077,-3.4798200130462646,-3.3547818660736084,-1.9230315685272217,-3.963205575942993,-2.8022704124450684,-2.812823534011841,-2.3930633068084717,-1.6330949068069458,-2.4706602096557617,-2.3815758228302,-3.747767686843872,-5.49920129776001,-2.7331042289733887,-0.9540566802024841,-1.9820077419281006,-1.892398715019226,15.67328929901123,-0.5523034334182739,-2.583406686782837],\"xaxis\":\"x\",\"y\":[4.400018215179443,-12.552885055541992,-11.885429382324219,-12.574810981750488,11.03039836883545,-3.1938910484313965,-12.595849990844727,-12.012910842895508,-12.26909065246582,-12.576960563659668,-11.942240715026855,4.528751850128174,-11.941112518310547,6.814971446990967,-11.477982521057129,-12.606209754943848,-9.09683895111084,-8.731938362121582,4.000877380371094,-8.444242477416992,-8.760528564453125,-12.22457504272461,-12.022438049316406,-12.33510971069336,-9.603074073791504,10.878339767456055,-10.782055854797363,11.796917915344238,9.875624656677246,-12.33761215209961,9.078886032104492,-12.272477149963379,-12.227768898010254,-10.685603141784668,-9.914387702941895,-10.452829360961914,-12.602965354919434,8.653600692749023,5.394437313079834,-12.40896224975586,-8.226823806762695,-9.148478507995605,-12.14789867401123,-4.262929439544678,-6.855167388916016,-12.531425476074219],\"yaxis\":\"y\",\"type\":\"scatter\"},{\"customdata\":[[\"neutral\"],[\"neutral\"],[\"neutral\"],[\"neutral\"],[\"neutral\"],[\"surprised\"],[\"neutral\"],[\"neutral\"],[\"angry\"],[\"surprised\"],[\"neutral\"],[\"neutral\"],[\"neutral\"],[\"neutral\"],[\"neutral\"],[\"neutral\"],[\"neutral\"],[\"neutral\"],[\"neutral\"],[\"neutral\"],[\"neutral\"],[\"sad\"],[\"neutral\"],[\"neutral\"],[\"happy\"],[\"neutral\"],[\"neutral\"],[\"neutral\"],[\"neutral\"],[\"neutral\"],[\"neutral\"],[\"angry\"],[\"sad\"],[\"happy\"],[\"disgusted\"],[\"neutral\"],[\"neutral\"],[\"surprised\"],[\"neutral\"],[\"neutral\"],[\"sad\"],[\"neutral\"],[\"neutral\"],[\"neutral\"],[\"surprised\"],[\"neutral\"],[\"happy\"]],\"hovertemplate\":\"Label=neutral\\u003cbr\\u003ex=%{x}\\u003cbr\\u003ey=%{y}\\u003cbr\\u003ePredictions=%{customdata[0]}\\u003cextra\\u003e\\u003c\\u002fextra\\u003e\",\"legendgroup\":\"neutral\",\"marker\":{\"color\":\"#AB63FA\",\"opacity\":0.2,\"size\":12,\"symbol\":\"circle\"},\"mode\":\"markers\",\"name\":\"neutral\",\"orientation\":\"v\",\"showlegend\":false,\"x\":[15.238295555114746,15.915316581726074,16.1519775390625,15.882736206054688,15.916486740112305,-25.508031845092773,15.739266395568848,15.679173469543457,-1.9520785808563232,-26.83960723876953,16.12599754333496,15.477511405944824,16.077091217041016,15.840386390686035,16.124662399291992,15.082566261291504,15.91353988647461,16.159725189208984,15.293076515197754,15.633471488952637,15.68066120147705,-5.227874279022217,14.934710502624512,14.045720100402832,18.272764205932617,15.554118156433105,16.15450668334961,14.16422176361084,16.124069213867188,15.116186141967773,15.665457725524902,-0.8888105154037476,-5.679354190826416,17.372512817382812,-5.091679096221924,15.590412139892578,15.753711700439453,-25.449377059936523,15.936789512634277,15.496642112731934,-9.242707252502441,15.486080169677734,15.548813819885254,15.486454010009766,-25.90211296081543,15.715073585510254,19.489477157592773],\"xaxis\":\"x\",\"y\":[-4.487245559692383,-6.346427917480469,-5.989165306091309,-4.968266487121582,-6.33436393737793,-9.592011451721191,-5.670923233032227,-3.7150604724884033,-11.491278648376465,-8.500256538391113,-6.13459587097168,-5.663224220275879,-5.830653667449951,-4.996556282043457,-5.909919261932373,-5.175779342651367,-5.3327412605285645,-6.038741111755371,-3.5315375328063965,-2.4114534854888916,-1.2972184419631958,6.125962257385254,-4.854590892791748,-3.7188057899475098,3.71124005317688,-6.282253265380859,-5.998383522033691,-3.592693567276001,-5.921369552612305,-1.5269391536712646,-1.2395830154418945,-8.47971248626709,4.5484113693237305,8.776143074035645,7.029529571533203,-6.30296516418457,-4.742931365966797,-8.925052642822266,-6.319787979125977,-6.017745018005371,1.7074193954467773,-6.204718589782715,-6.278318881988525,-6.163032054901123,-9.337818145751953,-3.55928897857666,7.6752166748046875],\"yaxis\":\"y\",\"type\":\"scatter\"}],                        {\"template\":{\"data\":{\"histogram2dcontour\":[{\"type\":\"histogram2dcontour\",\"colorbar\":{\"outlinewidth\":0,\"ticks\":\"\"},\"colorscale\":[[0.0,\"#0d0887\"],[0.1111111111111111,\"#46039f\"],[0.2222222222222222,\"#7201a8\"],[0.3333333333333333,\"#9c179e\"],[0.4444444444444444,\"#bd3786\"],[0.5555555555555556,\"#d8576b\"],[0.6666666666666666,\"#ed7953\"],[0.7777777777777778,\"#fb9f3a\"],[0.8888888888888888,\"#fdca26\"],[1.0,\"#f0f921\"]]}],\"choropleth\":[{\"type\":\"choropleth\",\"colorbar\":{\"outlinewidth\":0,\"ticks\":\"\"}}],\"histogram2d\":[{\"type\":\"histogram2d\",\"colorbar\":{\"outlinewidth\":0,\"ticks\":\"\"},\"colorscale\":[[0.0,\"#0d0887\"],[0.1111111111111111,\"#46039f\"],[0.2222222222222222,\"#7201a8\"],[0.3333333333333333,\"#9c179e\"],[0.4444444444444444,\"#bd3786\"],[0.5555555555555556,\"#d8576b\"],[0.6666666666666666,\"#ed7953\"],[0.7777777777777778,\"#fb9f3a\"],[0.8888888888888888,\"#fdca26\"],[1.0,\"#f0f921\"]]}],\"heatmap\":[{\"type\":\"heatmap\",\"colorbar\":{\"outlinewidth\":0,\"ticks\":\"\"},\"colorscale\":[[0.0,\"#0d0887\"],[0.1111111111111111,\"#46039f\"],[0.2222222222222222,\"#7201a8\"],[0.3333333333333333,\"#9c179e\"],[0.4444444444444444,\"#bd3786\"],[0.5555555555555556,\"#d8576b\"],[0.6666666666666666,\"#ed7953\"],[0.7777777777777778,\"#fb9f3a\"],[0.8888888888888888,\"#fdca26\"],[1.0,\"#f0f921\"]]}],\"heatmapgl\":[{\"type\":\"heatmapgl\",\"colorbar\":{\"outlinewidth\":0,\"ticks\":\"\"},\"colorscale\":[[0.0,\"#0d0887\"],[0.1111111111111111,\"#46039f\"],[0.2222222222222222,\"#7201a8\"],[0.3333333333333333,\"#9c179e\"],[0.4444444444444444,\"#bd3786\"],[0.5555555555555556,\"#d8576b\"],[0.6666666666666666,\"#ed7953\"],[0.7777777777777778,\"#fb9f3a\"],[0.8888888888888888,\"#fdca26\"],[1.0,\"#f0f921\"]]}],\"contourcarpet\":[{\"type\":\"contourcarpet\",\"colorbar\":{\"outlinewidth\":0,\"ticks\":\"\"}}],\"contour\":[{\"type\":\"contour\",\"colorbar\":{\"outlinewidth\":0,\"ticks\":\"\"},\"colorscale\":[[0.0,\"#0d0887\"],[0.1111111111111111,\"#46039f\"],[0.2222222222222222,\"#7201a8\"],[0.3333333333333333,\"#9c179e\"],[0.4444444444444444,\"#bd3786\"],[0.5555555555555556,\"#d8576b\"],[0.6666666666666666,\"#ed7953\"],[0.7777777777777778,\"#fb9f3a\"],[0.8888888888888888,\"#fdca26\"],[1.0,\"#f0f921\"]]}],\"surface\":[{\"type\":\"surface\",\"colorbar\":{\"outlinewidth\":0,\"ticks\":\"\"},\"colorscale\":[[0.0,\"#0d0887\"],[0.1111111111111111,\"#46039f\"],[0.2222222222222222,\"#7201a8\"],[0.3333333333333333,\"#9c179e\"],[0.4444444444444444,\"#bd3786\"],[0.5555555555555556,\"#d8576b\"],[0.6666666666666666,\"#ed7953\"],[0.7777777777777778,\"#fb9f3a\"],[0.8888888888888888,\"#fdca26\"],[1.0,\"#f0f921\"]]}],\"mesh3d\":[{\"type\":\"mesh3d\",\"colorbar\":{\"outlinewidth\":0,\"ticks\":\"\"}}],\"scatter\":[{\"fillpattern\":{\"fillmode\":\"overlay\",\"size\":10,\"solidity\":0.2},\"type\":\"scatter\"}],\"parcoords\":[{\"type\":\"parcoords\",\"line\":{\"colorbar\":{\"outlinewidth\":0,\"ticks\":\"\"}}}],\"scatterpolargl\":[{\"type\":\"scatterpolargl\",\"marker\":{\"colorbar\":{\"outlinewidth\":0,\"ticks\":\"\"}}}],\"bar\":[{\"error_x\":{\"color\":\"#2a3f5f\"},\"error_y\":{\"color\":\"#2a3f5f\"},\"marker\":{\"line\":{\"color\":\"#E5ECF6\",\"width\":0.5},\"pattern\":{\"fillmode\":\"overlay\",\"size\":10,\"solidity\":0.2}},\"type\":\"bar\"}],\"scattergeo\":[{\"type\":\"scattergeo\",\"marker\":{\"colorbar\":{\"outlinewidth\":0,\"ticks\":\"\"}}}],\"scatterpolar\":[{\"type\":\"scatterpolar\",\"marker\":{\"colorbar\":{\"outlinewidth\":0,\"ticks\":\"\"}}}],\"histogram\":[{\"marker\":{\"pattern\":{\"fillmode\":\"overlay\",\"size\":10,\"solidity\":0.2}},\"type\":\"histogram\"}],\"scattergl\":[{\"type\":\"scattergl\",\"marker\":{\"colorbar\":{\"outlinewidth\":0,\"ticks\":\"\"}}}],\"scatter3d\":[{\"type\":\"scatter3d\",\"line\":{\"colorbar\":{\"outlinewidth\":0,\"ticks\":\"\"}},\"marker\":{\"colorbar\":{\"outlinewidth\":0,\"ticks\":\"\"}}}],\"scattermapbox\":[{\"type\":\"scattermapbox\",\"marker\":{\"colorbar\":{\"outlinewidth\":0,\"ticks\":\"\"}}}],\"scatterternary\":[{\"type\":\"scatterternary\",\"marker\":{\"colorbar\":{\"outlinewidth\":0,\"ticks\":\"\"}}}],\"scattercarpet\":[{\"type\":\"scattercarpet\",\"marker\":{\"colorbar\":{\"outlinewidth\":0,\"ticks\":\"\"}}}],\"carpet\":[{\"aaxis\":{\"endlinecolor\":\"#2a3f5f\",\"gridcolor\":\"white\",\"linecolor\":\"white\",\"minorgridcolor\":\"white\",\"startlinecolor\":\"#2a3f5f\"},\"baxis\":{\"endlinecolor\":\"#2a3f5f\",\"gridcolor\":\"white\",\"linecolor\":\"white\",\"minorgridcolor\":\"white\",\"startlinecolor\":\"#2a3f5f\"},\"type\":\"carpet\"}],\"table\":[{\"cells\":{\"fill\":{\"color\":\"#EBF0F8\"},\"line\":{\"color\":\"white\"}},\"header\":{\"fill\":{\"color\":\"#C8D4E3\"},\"line\":{\"color\":\"white\"}},\"type\":\"table\"}],\"barpolar\":[{\"marker\":{\"line\":{\"color\":\"#E5ECF6\",\"width\":0.5},\"pattern\":{\"fillmode\":\"overlay\",\"size\":10,\"solidity\":0.2}},\"type\":\"barpolar\"}],\"pie\":[{\"automargin\":true,\"type\":\"pie\"}]},\"layout\":{\"autotypenumbers\":\"strict\",\"colorway\":[\"#636efa\",\"#EF553B\",\"#00cc96\",\"#ab63fa\",\"#FFA15A\",\"#19d3f3\",\"#FF6692\",\"#B6E880\",\"#FF97FF\",\"#FECB52\"],\"font\":{\"color\":\"#2a3f5f\"},\"hovermode\":\"closest\",\"hoverlabel\":{\"align\":\"left\"},\"paper_bgcolor\":\"white\",\"plot_bgcolor\":\"#E5ECF6\",\"polar\":{\"bgcolor\":\"#E5ECF6\",\"angularaxis\":{\"gridcolor\":\"white\",\"linecolor\":\"white\",\"ticks\":\"\"},\"radialaxis\":{\"gridcolor\":\"white\",\"linecolor\":\"white\",\"ticks\":\"\"}},\"ternary\":{\"bgcolor\":\"#E5ECF6\",\"aaxis\":{\"gridcolor\":\"white\",\"linecolor\":\"white\",\"ticks\":\"\"},\"baxis\":{\"gridcolor\":\"white\",\"linecolor\":\"white\",\"ticks\":\"\"},\"caxis\":{\"gridcolor\":\"white\",\"linecolor\":\"white\",\"ticks\":\"\"}},\"coloraxis\":{\"colorbar\":{\"outlinewidth\":0,\"ticks\":\"\"}},\"colorscale\":{\"sequential\":[[0.0,\"#0d0887\"],[0.1111111111111111,\"#46039f\"],[0.2222222222222222,\"#7201a8\"],[0.3333333333333333,\"#9c179e\"],[0.4444444444444444,\"#bd3786\"],[0.5555555555555556,\"#d8576b\"],[0.6666666666666666,\"#ed7953\"],[0.7777777777777778,\"#fb9f3a\"],[0.8888888888888888,\"#fdca26\"],[1.0,\"#f0f921\"]],\"sequentialminus\":[[0.0,\"#0d0887\"],[0.1111111111111111,\"#46039f\"],[0.2222222222222222,\"#7201a8\"],[0.3333333333333333,\"#9c179e\"],[0.4444444444444444,\"#bd3786\"],[0.5555555555555556,\"#d8576b\"],[0.6666666666666666,\"#ed7953\"],[0.7777777777777778,\"#fb9f3a\"],[0.8888888888888888,\"#fdca26\"],[1.0,\"#f0f921\"]],\"diverging\":[[0,\"#8e0152\"],[0.1,\"#c51b7d\"],[0.2,\"#de77ae\"],[0.3,\"#f1b6da\"],[0.4,\"#fde0ef\"],[0.5,\"#f7f7f7\"],[0.6,\"#e6f5d0\"],[0.7,\"#b8e186\"],[0.8,\"#7fbc41\"],[0.9,\"#4d9221\"],[1,\"#276419\"]]},\"xaxis\":{\"gridcolor\":\"white\",\"linecolor\":\"white\",\"ticks\":\"\",\"title\":{\"standoff\":15},\"zerolinecolor\":\"white\",\"automargin\":true,\"zerolinewidth\":2},\"yaxis\":{\"gridcolor\":\"white\",\"linecolor\":\"white\",\"ticks\":\"\",\"title\":{\"standoff\":15},\"zerolinecolor\":\"white\",\"automargin\":true,\"zerolinewidth\":2},\"scene\":{\"xaxis\":{\"backgroundcolor\":\"#E5ECF6\",\"gridcolor\":\"white\",\"linecolor\":\"white\",\"showbackground\":true,\"ticks\":\"\",\"zerolinecolor\":\"white\",\"gridwidth\":2},\"yaxis\":{\"backgroundcolor\":\"#E5ECF6\",\"gridcolor\":\"white\",\"linecolor\":\"white\",\"showbackground\":true,\"ticks\":\"\",\"zerolinecolor\":\"white\",\"gridwidth\":2},\"zaxis\":{\"backgroundcolor\":\"#E5ECF6\",\"gridcolor\":\"white\",\"linecolor\":\"white\",\"showbackground\":true,\"ticks\":\"\",\"zerolinecolor\":\"white\",\"gridwidth\":2}},\"shapedefaults\":{\"line\":{\"color\":\"#2a3f5f\"}},\"annotationdefaults\":{\"arrowcolor\":\"#2a3f5f\",\"arrowhead\":0,\"arrowwidth\":1},\"geo\":{\"bgcolor\":\"white\",\"landcolor\":\"#E5ECF6\",\"subunitcolor\":\"white\",\"showland\":true,\"showlakes\":true,\"lakecolor\":\"white\"},\"title\":{\"x\":0.05},\"mapbox\":{\"style\":\"light\"}}},\"xaxis\":{\"anchor\":\"y\",\"domain\":[0.0,1.0],\"title\":{\"text\":\"x\"}},\"yaxis\":{\"anchor\":\"x\",\"domain\":[0.0,1.0],\"title\":{\"text\":\"y\"}},\"legend\":{\"title\":{\"text\":\"Predictions, Correct\"},\"tracegroupgap\":0},\"margin\":{\"t\":60}},                        {\"responsive\": true}                    ).then(function(){\n",
       "                            \n",
       "var gd = document.getElementById('b2b7cc88-72ea-495c-8b99-ddc3c76debbc');\n",
       "var x = new MutationObserver(function (mutations, observer) {{\n",
       "        var display = window.getComputedStyle(gd).display;\n",
       "        if (!display || display === 'none') {{\n",
       "            console.log([gd, 'removed!']);\n",
       "            Plotly.purge(gd);\n",
       "            observer.disconnect();\n",
       "        }}\n",
       "}});\n",
       "\n",
       "// Listen for the removal of the full notebook cells\n",
       "var notebookContainer = gd.closest('#notebook-container');\n",
       "if (notebookContainer) {{\n",
       "    x.observe(notebookContainer, {childList: true});\n",
       "}}\n",
       "\n",
       "// Listen for the clearing of the current output cell\n",
       "var outputEl = gd.closest('.output');\n",
       "if (outputEl) {{\n",
       "    x.observe(outputEl, {childList: true});\n",
       "}}\n",
       "\n",
       "                        })                };                });            </script>        </div>"
      ]
     },
     "metadata": {},
     "output_type": "display_data"
    }
   ],
   "source": [
    "tsne_confidences = sklearn.manifold.TSNE()\n",
    "confidences_points = tsne_confidences.fit_transform(confidences)\n",
    "\n",
    "confidences_points_df = pd.DataFrame(confidences_points, columns=[\"x\", \"y\"])\n",
    "visdf = pd.concat([confidences_points_df, predictions_series, labels_series, correct_state], axis=1)\n",
    "\n",
    "fig = px.scatter(visdf, x=\"x\", y=\"y\", color=\"Predictions\", symbol=\"Correct\", symbol_map=symbol_map, color_discrete_map=discrete_color_map)\n",
    "fig2 = px.scatter(visdf, x=\"x\", y=\"y\", color=\"Label\", hover_data=[\"Predictions\"], opacity=0.2, color_discrete_map=discrete_color_map)\n",
    "fig2.update_traces(dict(\n",
    "  marker=dict(\n",
    "    size=12,\n",
    "  ),\n",
    "  showlegend=False\n",
    "))\n",
    "\n",
    "\n",
    "fig.add_traces(fig2.data)\n",
    "fig.show()"
   ]
  },
  {
   "cell_type": "code",
   "execution_count": 54,
   "metadata": {},
   "outputs": [],
   "source": [
    "model.save(EXPRESSION_RECOGNITION_MODEL_PATH)"
   ]
  }
 ],
 "metadata": {
  "kernelspec": {
   "display_name": "Venv",
   "language": "python",
   "name": "python3"
  },
  "language_info": {
   "codemirror_mode": {
    "name": "ipython",
    "version": 3
   },
   "file_extension": ".py",
   "mimetype": "text/x-python",
   "name": "python",
   "nbconvert_exporter": "python",
   "pygments_lexer": "ipython3",
   "version": "3.10.6"
  }
 },
 "nbformat": 4,
 "nbformat_minor": 2
}
