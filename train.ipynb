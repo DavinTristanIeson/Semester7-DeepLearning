{
 "cells": [
  {
   "cell_type": "code",
   "execution_count": 1,
   "metadata": {},
   "outputs": [],
   "source": [
    "from typing import cast\n",
    "import tensorflow as tf\n",
    "import keras\n",
    "import retina\n",
    "import matplotlib.pyplot as plt"
   ]
  },
  {
   "cell_type": "code",
   "execution_count": 42,
   "metadata": {},
   "outputs": [],
   "source": [
    "def normalize_image(x, y):\n",
    "  return (x / 255), y\n",
    "def clamp_zero_one(x, y):\n",
    "  return tf.maximum(tf.minimum(x, 1), 0), y\n",
    "\n",
    "def apply_transformation(dataset: tf.data.Dataset):\n",
    "  return dataset.map(normalize_image).repeat(30)"
   ]
  },
  {
   "cell_type": "code",
   "execution_count": null,
   "metadata": {},
   "outputs": [],
   "source": [
    "training_dataset = apply_transformation(cast(tf.data.Dataset, keras.utils.image_dataset_from_directory(\n",
    "  directory=retina.filesys.DATA_PATH,\n",
    "  color_mode=\"grayscale\",\n",
    "  image_size=retina.size.FACE_DIMENSIONS.tuple,\n",
    "  seed=42,\n",
    "  validation_split=0.2,\n",
    "  subset='training',\n",
    ")))\n",
    "validation_dataset = apply_transformation(cast(tf.data.Dataset, keras.utils.image_dataset_from_directory(\n",
    "  directory=retina.filesys.DATA_PATH,\n",
    "  color_mode=\"grayscale\",\n",
    "  image_size=retina.size.FACE_DIMENSIONS.tuple,\n",
    "  seed=42,\n",
    "  subset='validation',\n",
    "  validation_split=0.3,\n",
    ")))"
   ]
  },
  {
   "cell_type": "code",
   "execution_count": 44,
   "metadata": {},
   "outputs": [],
   "source": [
    "data_augmentation = keras.Sequential([\n",
    "  keras.layers.RandomFlip(\"horizontal\"),\n",
    "  keras.layers.RandomRotation(0.05),\n",
    "  keras.layers.RandomTranslation(0.1, 0.1),\n",
    "  keras.layers.RandomBrightness(0.1, value_range=(0, 1)),\n",
    "  keras.layers.RandomContrast(0.1),\n",
    "])\n",
    "\n",
    "augmented_dataset = training_dataset.map(lambda x, y: (data_augmentation(x, training=True), y))"
   ]
  },
  {
   "cell_type": "code",
   "execution_count": null,
   "metadata": {},
   "outputs": [],
   "source": [
    "for batch, labels in augmented_dataset.take(1):\n",
    "  images = list(tf.squeeze(batch).numpy())\n",
    "  str_labels = list(map(str, labels.numpy()))\n",
    "  subplots = retina.debug.collage_images_plt(images, str_labels, (4, 4))"
   ]
  },
  {
   "cell_type": "code",
   "execution_count": 62,
   "metadata": {},
   "outputs": [],
   "source": [
    "model = keras.Sequential([\n",
    "  keras.layers.Input(shape=retina.size.FACE_DIMENSIONS.tuple),\n",
    "  keras.layers.Flatten(),\n",
    "  keras.layers.Dense(512, activation=\"relu\"),\n",
    "  keras.layers.Dropout(0.5),\n",
    "  keras.layers.Dense(256, activation=\"relu\"),\n",
    "  keras.layers.Dropout(0.5),\n",
    "  keras.layers.Dense(128, activation=\"relu\"),\n",
    "  keras.layers.Dense(6),\n",
    "  keras.layers.Softmax(),\n",
    "])\n",
    "\n",
    "model.compile(\n",
    "  optimizer=keras.optimizers.Adam(), # type: ignore\n",
    "  loss=keras.losses.SparseCategoricalCrossentropy(),\n",
    "  metrics=[\"accuracy\"],\n",
    ")"
   ]
  },
  {
   "cell_type": "code",
   "execution_count": null,
   "metadata": {},
   "outputs": [],
   "source": [
    "history = model.fit(augmented_dataset, epochs=100, validation_data=validation_dataset)"
   ]
  },
  {
   "cell_type": "code",
   "execution_count": null,
   "metadata": {},
   "outputs": [],
   "source": [
    "accuracy_fig = plt.figure(figsize=(6,6))\n",
    "ax = accuracy_fig.add_subplot()\n",
    "ax.plot(history.history[\"accuracy\"], label=\"Accuracy\", marker='o')\n",
    "ax.plot(history.history[\"val_accuracy\"], label=\"Validation Accuracy\", marker='o')\n",
    "ax.legend()\n",
    "ax.set_ylim(0, 1)\n",
    "accuracy_fig.show()"
   ]
  }
 ],
 "metadata": {
  "kernelspec": {
   "display_name": "Venv",
   "language": "python",
   "name": "python3"
  },
  "language_info": {
   "codemirror_mode": {
    "name": "ipython",
    "version": 3
   },
   "file_extension": ".py",
   "mimetype": "text/x-python",
   "name": "python",
   "nbconvert_exporter": "python",
   "pygments_lexer": "ipython3",
   "version": "3.10.6"
  }
 },
 "nbformat": 4,
 "nbformat_minor": 2
}
