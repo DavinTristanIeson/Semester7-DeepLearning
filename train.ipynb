{
 "cells": [
  {
   "cell_type": "code",
   "execution_count": 1,
   "metadata": {},
   "outputs": [],
   "source": [
    "from typing import cast\n",
    "import tensorflow as tf\n",
    "import keras\n",
    "import retina\n",
    "import pandas as pd\n",
    "import matplotlib.pyplot as plt"
   ]
  },
  {
   "cell_type": "code",
   "execution_count": 21,
   "metadata": {},
   "outputs": [
    {
     "data": {
      "text/plain": [
       "0      0.0\n",
       "1      0.0\n",
       "2      0.0\n",
       "3      0.0\n",
       "4      0.0\n",
       "      ... \n",
       "408    5.0\n",
       "409    5.0\n",
       "410    5.0\n",
       "411    5.0\n",
       "412    5.0\n",
       "Name: label, Length: 413, dtype: float64"
      ]
     },
     "execution_count": 21,
     "metadata": {},
     "output_type": "execute_result"
    }
   ],
   "source": [
    "df = pd.read_csv(retina.filesys.DATA_CSV_PATH, index_col=False)\n",
    "labels = df[\"label\"]\n",
    "df = df.drop(columns=[\"label\"])\n",
    "labels"
   ]
  },
  {
   "cell_type": "code",
   "execution_count": 22,
   "metadata": {},
   "outputs": [
    {
     "data": {
      "text/plain": [
       "<_TensorSliceDataset element_spec=(TensorSpec(shape=(119,), dtype=tf.float64, name=None), TensorSpec(shape=(), dtype=tf.float64, name=None))>"
      ]
     },
     "execution_count": 22,
     "metadata": {},
     "output_type": "execute_result"
    }
   ],
   "source": [
    "dataset = tf.data.Dataset.from_tensor_slices((df, labels))\n",
    "train_dataset, test_dataset = keras.utils.split_dataset(dataset, shuffle=True, seed=42, left_size=0.7)\n",
    "train_dataset, validation_dataset = keras.utils.split_dataset(train_dataset, shuffle=True, seed=42, left_size=0.7)\n",
    "\n",
    "train_dataset = train_dataset.batch(64)\n",
    "test_dataset = test_dataset.batch(64)\n",
    "validation_dataset = validation_dataset.batch(64)\n",
    "\n",
    "dataset"
   ]
  },
  {
   "cell_type": "code",
   "execution_count": 23,
   "metadata": {},
   "outputs": [],
   "source": [
    "model = keras.Sequential([\n",
    "  keras.layers.Input(shape=dataset.element_spec[0].shape),\n",
    "  keras.layers.Dense(100, activation=\"sigmoid\"),\n",
    "  keras.layers.Dense(500, activation=\"sigmoid\"),\n",
    "  keras.layers.Dense(6),\n",
    "  keras.layers.Softmax(),\n",
    "])\n",
    "\n",
    "model.compile(\n",
    "  optimizer=keras.optimizers.Adam(), # type: ignore\n",
    "  loss=keras.losses.SparseCategoricalCrossentropy(),\n",
    "  metrics=[\"accuracy\"],\n",
    ")"
   ]
  },
  {
   "cell_type": "code",
   "execution_count": 24,
   "metadata": {},
   "outputs": [
    {
     "name": "stdout",
     "output_type": "stream",
     "text": [
      "Epoch 1/10\n",
      "\u001b[1m4/4\u001b[0m \u001b[32m━━━━━━━━━━━━━━━━━━━━\u001b[0m\u001b[37m\u001b[0m \u001b[1m2s\u001b[0m 51ms/step - accuracy: 0.1140 - loss: 2.1715 - val_accuracy: 0.1494 - val_loss: 1.9331\n",
      "Epoch 2/10\n",
      "\u001b[1m4/4\u001b[0m \u001b[32m━━━━━━━━━━━━━━━━━━━━\u001b[0m\u001b[37m\u001b[0m \u001b[1m0s\u001b[0m 11ms/step - accuracy: 0.2530 - loss: 1.7637 - val_accuracy: 0.1954 - val_loss: 2.1453\n",
      "Epoch 3/10\n",
      "\u001b[1m4/4\u001b[0m \u001b[32m━━━━━━━━━━━━━━━━━━━━\u001b[0m\u001b[37m\u001b[0m \u001b[1m0s\u001b[0m 11ms/step - accuracy: 0.2684 - loss: 1.8553 - val_accuracy: 0.1954 - val_loss: 2.0715\n",
      "Epoch 4/10\n",
      "\u001b[1m4/4\u001b[0m \u001b[32m━━━━━━━━━━━━━━━━━━━━\u001b[0m\u001b[37m\u001b[0m \u001b[1m0s\u001b[0m 8ms/step - accuracy: 0.2684 - loss: 1.8226 - val_accuracy: 0.1954 - val_loss: 2.0100\n",
      "Epoch 5/10\n",
      "\u001b[1m4/4\u001b[0m \u001b[32m━━━━━━━━━━━━━━━━━━━━\u001b[0m\u001b[37m\u001b[0m \u001b[1m0s\u001b[0m 11ms/step - accuracy: 0.2684 - loss: 1.7816 - val_accuracy: 0.1954 - val_loss: 1.9341\n",
      "Epoch 6/10\n",
      "\u001b[1m4/4\u001b[0m \u001b[32m━━━━━━━━━━━━━━━━━━━━\u001b[0m\u001b[37m\u001b[0m \u001b[1m0s\u001b[0m 8ms/step - accuracy: 0.2684 - loss: 1.7363 - val_accuracy: 0.1954 - val_loss: 1.8860\n",
      "Epoch 7/10\n",
      "\u001b[1m4/4\u001b[0m \u001b[32m━━━━━━━━━━━━━━━━━━━━\u001b[0m\u001b[37m\u001b[0m \u001b[1m0s\u001b[0m 8ms/step - accuracy: 0.2684 - loss: 1.7370 - val_accuracy: 0.1954 - val_loss: 1.8487\n",
      "Epoch 8/10\n",
      "\u001b[1m4/4\u001b[0m \u001b[32m━━━━━━━━━━━━━━━━━━━━\u001b[0m\u001b[37m\u001b[0m \u001b[1m0s\u001b[0m 11ms/step - accuracy: 0.2684 - loss: 1.7368 - val_accuracy: 0.1954 - val_loss: 1.8358\n",
      "Epoch 9/10\n",
      "\u001b[1m4/4\u001b[0m \u001b[32m━━━━━━━━━━━━━━━━━━━━\u001b[0m\u001b[37m\u001b[0m \u001b[1m0s\u001b[0m 5ms/step - accuracy: 0.2684 - loss: 1.7310 - val_accuracy: 0.1954 - val_loss: 1.8572\n",
      "Epoch 10/10\n",
      "\u001b[1m4/4\u001b[0m \u001b[32m━━━━━━━━━━━━━━━━━━━━\u001b[0m\u001b[37m\u001b[0m \u001b[1m0s\u001b[0m 8ms/step - accuracy: 0.2684 - loss: 1.7314 - val_accuracy: 0.1954 - val_loss: 1.8913\n"
     ]
    }
   ],
   "source": [
    "history = model.fit(train_dataset, epochs=10, validation_data=validation_dataset)"
   ]
  },
  {
   "cell_type": "code",
   "execution_count": 25,
   "metadata": {},
   "outputs": [
    {
     "name": "stdout",
     "output_type": "stream",
     "text": [
      "\u001b[1m2/2\u001b[0m \u001b[32m━━━━━━━━━━━━━━━━━━━━\u001b[0m\u001b[37m\u001b[0m \u001b[1m0s\u001b[0m 8ms/step - accuracy: 0.2498 - loss: 1.7939 \n"
     ]
    },
    {
     "data": {
      "text/plain": [
       "[1.8127648830413818, 0.24193547666072845]"
      ]
     },
     "execution_count": 25,
     "metadata": {},
     "output_type": "execute_result"
    }
   ],
   "source": [
    "model.evaluate(test_dataset)"
   ]
  },
  {
   "cell_type": "code",
   "execution_count": 18,
   "metadata": {},
   "outputs": [
    {
     "name": "stderr",
     "output_type": "stream",
     "text": [
      "C:\\Users\\Davin Tristan\\AppData\\Local\\Temp\\ipykernel_18484\\469801421.py:7: UserWarning: FigureCanvasAgg is non-interactive, and thus cannot be shown\n",
      "  accuracy_fig.show()\n"
     ]
    },
    {
     "data": {
      "image/png": "[encoded data removed]",
      "text/plain": [
       "<Figure size 600x600 with 1 Axes>"
      ]
     },
     "metadata": {},
     "output_type": "display_data"
    }
   ],
   "source": [
    "accuracy_fig = plt.figure(figsize=(6,6))\n",
    "ax = accuracy_fig.add_subplot()\n",
    "ax.plot(history.history[\"accuracy\"], label=\"Accuracy\", marker='o')\n",
    "ax.plot(history.history[\"val_accuracy\"], label=\"Validation Accuracy\", marker='o')\n",
    "ax.legend()\n",
    "ax.set_ylim(0, 1)\n",
    "accuracy_fig.show()"
   ]
  }
 ],
 "metadata": {
  "kernelspec": {
   "display_name": "Venv",
   "language": "python",
   "name": "python3"
  },
  "language_info": {
   "codemirror_mode": {
    "name": "ipython",
    "version": 3
   },
   "file_extension": ".py",
   "mimetype": "text/x-python",
   "name": "python",
   "nbconvert_exporter": "python",
   "pygments_lexer": "ipython3",
   "version": "3.11.3"
  }
 },
 "nbformat": 4,
 "nbformat_minor": 2
}
