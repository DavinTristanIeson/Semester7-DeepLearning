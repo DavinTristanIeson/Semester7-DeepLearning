{
 "cells": [
  {
   "cell_type": "code",
   "execution_count": 2,
   "metadata": {},
   "outputs": [],
   "source": [
    "import tensorflow as tf\n",
    "import keras\n",
    "import retina\n",
    "import pandas as pd\n",
    "import matplotlib.pyplot as plt"
   ]
  },
  {
   "cell_type": "code",
   "execution_count": 75,
   "metadata": {},
   "outputs": [
    {
     "data": {
      "text/html": [
       "<div>\n",
       "<style scoped>\n",
       "    .dataframe tbody tr th:only-of-type {\n",
       "        vertical-align: middle;\n",
       "    }\n",
       "\n",
       "    .dataframe tbody tr th {\n",
       "        vertical-align: top;\n",
       "    }\n",
       "\n",
       "    .dataframe thead th {\n",
       "        text-align: right;\n",
       "    }\n",
       "</style>\n",
       "<table border=\"1\" class=\"dataframe\">\n",
       "  <thead>\n",
       "    <tr style=\"text-align: right;\">\n",
       "      <th></th>\n",
       "      <th>texture-1</th>\n",
       "      <th>texture-2</th>\n",
       "      <th>texture-3</th>\n",
       "      <th>texture-4</th>\n",
       "      <th>texture-5</th>\n",
       "      <th>texture-6</th>\n",
       "      <th>texture-7</th>\n",
       "      <th>texture-8</th>\n",
       "      <th>texture-9</th>\n",
       "      <th>texture-10</th>\n",
       "      <th>...</th>\n",
       "      <th>texture-21</th>\n",
       "      <th>texture-22</th>\n",
       "      <th>texture-23</th>\n",
       "      <th>texture-24</th>\n",
       "      <th>texture-25</th>\n",
       "      <th>texture-26</th>\n",
       "      <th>texture-27</th>\n",
       "      <th>texture-28</th>\n",
       "      <th>texture-29</th>\n",
       "      <th>texture-30</th>\n",
       "    </tr>\n",
       "  </thead>\n",
       "  <tbody>\n",
       "    <tr>\n",
       "      <th>0</th>\n",
       "      <td>0.396201</td>\n",
       "      <td>0.016282</td>\n",
       "      <td>0.023066</td>\n",
       "      <td>0.002714</td>\n",
       "      <td>0.023066</td>\n",
       "      <td>0.005427</td>\n",
       "      <td>0.001357</td>\n",
       "      <td>0.004071</td>\n",
       "      <td>0.009498</td>\n",
       "      <td>0.020353</td>\n",
       "      <td>...</td>\n",
       "      <td>0.199457</td>\n",
       "      <td>0.005427</td>\n",
       "      <td>0.020353</td>\n",
       "      <td>0.004071</td>\n",
       "      <td>0.013569</td>\n",
       "      <td>0.006784</td>\n",
       "      <td>0.000000</td>\n",
       "      <td>0.004071</td>\n",
       "      <td>0.004071</td>\n",
       "      <td>0.010855</td>\n",
       "    </tr>\n",
       "    <tr>\n",
       "      <th>1</th>\n",
       "      <td>0.396450</td>\n",
       "      <td>0.018935</td>\n",
       "      <td>0.048521</td>\n",
       "      <td>0.007101</td>\n",
       "      <td>0.021302</td>\n",
       "      <td>0.004734</td>\n",
       "      <td>0.000000</td>\n",
       "      <td>0.007101</td>\n",
       "      <td>0.008284</td>\n",
       "      <td>0.022485</td>\n",
       "      <td>...</td>\n",
       "      <td>0.134911</td>\n",
       "      <td>0.002367</td>\n",
       "      <td>0.009467</td>\n",
       "      <td>0.004734</td>\n",
       "      <td>0.017751</td>\n",
       "      <td>0.001183</td>\n",
       "      <td>0.002367</td>\n",
       "      <td>0.003550</td>\n",
       "      <td>0.001183</td>\n",
       "      <td>0.023669</td>\n",
       "    </tr>\n",
       "    <tr>\n",
       "      <th>2</th>\n",
       "      <td>0.339009</td>\n",
       "      <td>0.021672</td>\n",
       "      <td>0.027864</td>\n",
       "      <td>0.013932</td>\n",
       "      <td>0.018576</td>\n",
       "      <td>0.003096</td>\n",
       "      <td>0.000000</td>\n",
       "      <td>0.010836</td>\n",
       "      <td>0.000000</td>\n",
       "      <td>0.023220</td>\n",
       "      <td>...</td>\n",
       "      <td>0.182663</td>\n",
       "      <td>0.017028</td>\n",
       "      <td>0.024768</td>\n",
       "      <td>0.009288</td>\n",
       "      <td>0.021672</td>\n",
       "      <td>0.000000</td>\n",
       "      <td>0.001548</td>\n",
       "      <td>0.006192</td>\n",
       "      <td>0.003096</td>\n",
       "      <td>0.013932</td>\n",
       "    </tr>\n",
       "    <tr>\n",
       "      <th>3</th>\n",
       "      <td>0.354691</td>\n",
       "      <td>0.024027</td>\n",
       "      <td>0.020595</td>\n",
       "      <td>0.006865</td>\n",
       "      <td>0.028604</td>\n",
       "      <td>0.003432</td>\n",
       "      <td>0.002288</td>\n",
       "      <td>0.005721</td>\n",
       "      <td>0.008009</td>\n",
       "      <td>0.042334</td>\n",
       "      <td>...</td>\n",
       "      <td>0.203661</td>\n",
       "      <td>0.006865</td>\n",
       "      <td>0.018307</td>\n",
       "      <td>0.006865</td>\n",
       "      <td>0.019451</td>\n",
       "      <td>0.004577</td>\n",
       "      <td>0.001144</td>\n",
       "      <td>0.004577</td>\n",
       "      <td>0.009153</td>\n",
       "      <td>0.013730</td>\n",
       "    </tr>\n",
       "    <tr>\n",
       "      <th>4</th>\n",
       "      <td>0.347982</td>\n",
       "      <td>0.023318</td>\n",
       "      <td>0.028700</td>\n",
       "      <td>0.017040</td>\n",
       "      <td>0.036771</td>\n",
       "      <td>0.002691</td>\n",
       "      <td>0.001794</td>\n",
       "      <td>0.009865</td>\n",
       "      <td>0.007175</td>\n",
       "      <td>0.034081</td>\n",
       "      <td>...</td>\n",
       "      <td>0.157848</td>\n",
       "      <td>0.009865</td>\n",
       "      <td>0.017937</td>\n",
       "      <td>0.002691</td>\n",
       "      <td>0.020628</td>\n",
       "      <td>0.001794</td>\n",
       "      <td>0.000897</td>\n",
       "      <td>0.008969</td>\n",
       "      <td>0.000897</td>\n",
       "      <td>0.017040</td>\n",
       "    </tr>\n",
       "    <tr>\n",
       "      <th>...</th>\n",
       "      <td>...</td>\n",
       "      <td>...</td>\n",
       "      <td>...</td>\n",
       "      <td>...</td>\n",
       "      <td>...</td>\n",
       "      <td>...</td>\n",
       "      <td>...</td>\n",
       "      <td>...</td>\n",
       "      <td>...</td>\n",
       "      <td>...</td>\n",
       "      <td>...</td>\n",
       "      <td>...</td>\n",
       "      <td>...</td>\n",
       "      <td>...</td>\n",
       "      <td>...</td>\n",
       "      <td>...</td>\n",
       "      <td>...</td>\n",
       "      <td>...</td>\n",
       "      <td>...</td>\n",
       "      <td>...</td>\n",
       "      <td>...</td>\n",
       "    </tr>\n",
       "    <tr>\n",
       "      <th>405</th>\n",
       "      <td>0.332847</td>\n",
       "      <td>0.030657</td>\n",
       "      <td>0.032117</td>\n",
       "      <td>0.002920</td>\n",
       "      <td>0.020438</td>\n",
       "      <td>0.000000</td>\n",
       "      <td>0.000000</td>\n",
       "      <td>0.000000</td>\n",
       "      <td>0.001460</td>\n",
       "      <td>0.029197</td>\n",
       "      <td>...</td>\n",
       "      <td>0.160584</td>\n",
       "      <td>0.007299</td>\n",
       "      <td>0.014599</td>\n",
       "      <td>0.000000</td>\n",
       "      <td>0.024818</td>\n",
       "      <td>0.001460</td>\n",
       "      <td>0.000000</td>\n",
       "      <td>0.004380</td>\n",
       "      <td>0.001460</td>\n",
       "      <td>0.058394</td>\n",
       "    </tr>\n",
       "    <tr>\n",
       "      <th>406</th>\n",
       "      <td>0.332454</td>\n",
       "      <td>0.022427</td>\n",
       "      <td>0.031662</td>\n",
       "      <td>0.013193</td>\n",
       "      <td>0.018470</td>\n",
       "      <td>0.001319</td>\n",
       "      <td>0.000000</td>\n",
       "      <td>0.003958</td>\n",
       "      <td>0.001319</td>\n",
       "      <td>0.022427</td>\n",
       "      <td>...</td>\n",
       "      <td>0.149077</td>\n",
       "      <td>0.013193</td>\n",
       "      <td>0.014512</td>\n",
       "      <td>0.002639</td>\n",
       "      <td>0.029024</td>\n",
       "      <td>0.000000</td>\n",
       "      <td>0.000000</td>\n",
       "      <td>0.001319</td>\n",
       "      <td>0.001319</td>\n",
       "      <td>0.044855</td>\n",
       "    </tr>\n",
       "    <tr>\n",
       "      <th>407</th>\n",
       "      <td>0.344459</td>\n",
       "      <td>0.021362</td>\n",
       "      <td>0.025367</td>\n",
       "      <td>0.004005</td>\n",
       "      <td>0.024032</td>\n",
       "      <td>0.000000</td>\n",
       "      <td>0.000000</td>\n",
       "      <td>0.005340</td>\n",
       "      <td>0.000000</td>\n",
       "      <td>0.030708</td>\n",
       "      <td>...</td>\n",
       "      <td>0.142857</td>\n",
       "      <td>0.010681</td>\n",
       "      <td>0.009346</td>\n",
       "      <td>0.000000</td>\n",
       "      <td>0.014686</td>\n",
       "      <td>0.000000</td>\n",
       "      <td>0.000000</td>\n",
       "      <td>0.001335</td>\n",
       "      <td>0.000000</td>\n",
       "      <td>0.022697</td>\n",
       "    </tr>\n",
       "    <tr>\n",
       "      <th>408</th>\n",
       "      <td>0.339080</td>\n",
       "      <td>0.028736</td>\n",
       "      <td>0.016092</td>\n",
       "      <td>0.003448</td>\n",
       "      <td>0.031034</td>\n",
       "      <td>0.001149</td>\n",
       "      <td>0.001149</td>\n",
       "      <td>0.004598</td>\n",
       "      <td>0.009195</td>\n",
       "      <td>0.026437</td>\n",
       "      <td>...</td>\n",
       "      <td>0.143678</td>\n",
       "      <td>0.006897</td>\n",
       "      <td>0.014943</td>\n",
       "      <td>0.003448</td>\n",
       "      <td>0.031034</td>\n",
       "      <td>0.001149</td>\n",
       "      <td>0.000000</td>\n",
       "      <td>0.003448</td>\n",
       "      <td>0.000000</td>\n",
       "      <td>0.044828</td>\n",
       "    </tr>\n",
       "    <tr>\n",
       "      <th>409</th>\n",
       "      <td>0.318735</td>\n",
       "      <td>0.024331</td>\n",
       "      <td>0.034063</td>\n",
       "      <td>0.008516</td>\n",
       "      <td>0.027981</td>\n",
       "      <td>0.002433</td>\n",
       "      <td>0.000000</td>\n",
       "      <td>0.009732</td>\n",
       "      <td>0.004866</td>\n",
       "      <td>0.013382</td>\n",
       "      <td>...</td>\n",
       "      <td>0.193431</td>\n",
       "      <td>0.014599</td>\n",
       "      <td>0.023114</td>\n",
       "      <td>0.003650</td>\n",
       "      <td>0.036496</td>\n",
       "      <td>0.003650</td>\n",
       "      <td>0.000000</td>\n",
       "      <td>0.004866</td>\n",
       "      <td>0.003650</td>\n",
       "      <td>0.024331</td>\n",
       "    </tr>\n",
       "  </tbody>\n",
       "</table>\n",
       "<p>410 rows × 30 columns</p>\n",
       "</div>"
      ],
      "text/plain": [
       "     texture-1  texture-2  texture-3  texture-4  texture-5  texture-6  \\\n",
       "0     0.396201   0.016282   0.023066   0.002714   0.023066   0.005427   \n",
       "1     0.396450   0.018935   0.048521   0.007101   0.021302   0.004734   \n",
       "2     0.339009   0.021672   0.027864   0.013932   0.018576   0.003096   \n",
       "3     0.354691   0.024027   0.020595   0.006865   0.028604   0.003432   \n",
       "4     0.347982   0.023318   0.028700   0.017040   0.036771   0.002691   \n",
       "..         ...        ...        ...        ...        ...        ...   \n",
       "405   0.332847   0.030657   0.032117   0.002920   0.020438   0.000000   \n",
       "406   0.332454   0.022427   0.031662   0.013193   0.018470   0.001319   \n",
       "407   0.344459   0.021362   0.025367   0.004005   0.024032   0.000000   \n",
       "408   0.339080   0.028736   0.016092   0.003448   0.031034   0.001149   \n",
       "409   0.318735   0.024331   0.034063   0.008516   0.027981   0.002433   \n",
       "\n",
       "     texture-7  texture-8  texture-9  texture-10  ...  texture-21  texture-22  \\\n",
       "0     0.001357   0.004071   0.009498    0.020353  ...    0.199457    0.005427   \n",
       "1     0.000000   0.007101   0.008284    0.022485  ...    0.134911    0.002367   \n",
       "2     0.000000   0.010836   0.000000    0.023220  ...    0.182663    0.017028   \n",
       "3     0.002288   0.005721   0.008009    0.042334  ...    0.203661    0.006865   \n",
       "4     0.001794   0.009865   0.007175    0.034081  ...    0.157848    0.009865   \n",
       "..         ...        ...        ...         ...  ...         ...         ...   \n",
       "405   0.000000   0.000000   0.001460    0.029197  ...    0.160584    0.007299   \n",
       "406   0.000000   0.003958   0.001319    0.022427  ...    0.149077    0.013193   \n",
       "407   0.000000   0.005340   0.000000    0.030708  ...    0.142857    0.010681   \n",
       "408   0.001149   0.004598   0.009195    0.026437  ...    0.143678    0.006897   \n",
       "409   0.000000   0.009732   0.004866    0.013382  ...    0.193431    0.014599   \n",
       "\n",
       "     texture-23  texture-24  texture-25  texture-26  texture-27  texture-28  \\\n",
       "0      0.020353    0.004071    0.013569    0.006784    0.000000    0.004071   \n",
       "1      0.009467    0.004734    0.017751    0.001183    0.002367    0.003550   \n",
       "2      0.024768    0.009288    0.021672    0.000000    0.001548    0.006192   \n",
       "3      0.018307    0.006865    0.019451    0.004577    0.001144    0.004577   \n",
       "4      0.017937    0.002691    0.020628    0.001794    0.000897    0.008969   \n",
       "..          ...         ...         ...         ...         ...         ...   \n",
       "405    0.014599    0.000000    0.024818    0.001460    0.000000    0.004380   \n",
       "406    0.014512    0.002639    0.029024    0.000000    0.000000    0.001319   \n",
       "407    0.009346    0.000000    0.014686    0.000000    0.000000    0.001335   \n",
       "408    0.014943    0.003448    0.031034    0.001149    0.000000    0.003448   \n",
       "409    0.023114    0.003650    0.036496    0.003650    0.000000    0.004866   \n",
       "\n",
       "     texture-29  texture-30  \n",
       "0      0.004071    0.010855  \n",
       "1      0.001183    0.023669  \n",
       "2      0.003096    0.013932  \n",
       "3      0.009153    0.013730  \n",
       "4      0.000897    0.017040  \n",
       "..          ...         ...  \n",
       "405    0.001460    0.058394  \n",
       "406    0.001319    0.044855  \n",
       "407    0.000000    0.022697  \n",
       "408    0.000000    0.044828  \n",
       "409    0.003650    0.024331  \n",
       "\n",
       "[410 rows x 30 columns]"
      ]
     },
     "execution_count": 75,
     "metadata": {},
     "output_type": "execute_result"
    }
   ],
   "source": [
    "df = pd.read_csv(retina.filesys.TRAINING_DATA_CSV_PATH, index_col=False)\n",
    "labels = df[\"label\"]\n",
    "df = df.drop(columns=[\"label\"])\n",
    "df"
   ]
  },
  {
   "cell_type": "code",
   "execution_count": 76,
   "metadata": {},
   "outputs": [
    {
     "data": {
      "text/plain": [
       "<_TensorSliceDataset element_spec=(TensorSpec(shape=(30,), dtype=tf.float64, name=None), TensorSpec(shape=(), dtype=tf.float64, name=None))>"
      ]
     },
     "execution_count": 76,
     "metadata": {},
     "output_type": "execute_result"
    }
   ],
   "source": [
    "dataset = tf.data.Dataset.from_tensor_slices((df, labels))\n",
    "train_dataset, test_dataset = keras.utils.split_dataset(dataset, shuffle=True, seed=42, left_size=0.7)\n",
    "train_dataset, validation_dataset = keras.utils.split_dataset(train_dataset, shuffle=True, seed=42, left_size=0.7)\n",
    "\n",
    "train_dataset = train_dataset.repeat(20).shuffle(100).batch(16)\n",
    "test_dataset = test_dataset.batch(16)\n",
    "validation_dataset = validation_dataset.batch(16)\n",
    "\n",
    "dataset"
   ]
  },
  {
   "cell_type": "code",
   "execution_count": 77,
   "metadata": {},
   "outputs": [
    {
     "data": {
      "text/html": [
       "<pre style=\"white-space:pre;overflow-x:auto;line-height:normal;font-family:Menlo,'DejaVu Sans Mono',consolas,'Courier New',monospace\"><span style=\"font-weight: bold\">Model: \"sequential_18\"</span>\n",
       "</pre>\n"
      ],
      "text/plain": [
       "\u001b[1mModel: \"sequential_18\"\u001b[0m\n"
      ]
     },
     "metadata": {},
     "output_type": "display_data"
    },
    {
     "data": {
      "text/html": [
       "<pre style=\"white-space:pre;overflow-x:auto;line-height:normal;font-family:Menlo,'DejaVu Sans Mono',consolas,'Courier New',monospace\">┏━━━━━━━━━━━━━━━━━━━━━━━━━━━━━━━━━┳━━━━━━━━━━━━━━━━━━━━━━━━┳━━━━━━━━━━━━━━━┓\n",
       "┃<span style=\"font-weight: bold\"> Layer (type)                    </span>┃<span style=\"font-weight: bold\"> Output Shape           </span>┃<span style=\"font-weight: bold\">       Param # </span>┃\n",
       "┡━━━━━━━━━━━━━━━━━━━━━━━━━━━━━━━━━╇━━━━━━━━━━━━━━━━━━━━━━━━╇━━━━━━━━━━━━━━━┩\n",
       "│ dense_54 (<span style=\"color: #0087ff; text-decoration-color: #0087ff\">Dense</span>)                │ (<span style=\"color: #00d7ff; text-decoration-color: #00d7ff\">None</span>, <span style=\"color: #00af00; text-decoration-color: #00af00\">100</span>)            │         <span style=\"color: #00af00; text-decoration-color: #00af00\">3,100</span> │\n",
       "├─────────────────────────────────┼────────────────────────┼───────────────┤\n",
       "│ dropout_18 (<span style=\"color: #0087ff; text-decoration-color: #0087ff\">Dropout</span>)            │ (<span style=\"color: #00d7ff; text-decoration-color: #00d7ff\">None</span>, <span style=\"color: #00af00; text-decoration-color: #00af00\">100</span>)            │             <span style=\"color: #00af00; text-decoration-color: #00af00\">0</span> │\n",
       "├─────────────────────────────────┼────────────────────────┼───────────────┤\n",
       "│ dense_55 (<span style=\"color: #0087ff; text-decoration-color: #0087ff\">Dense</span>)                │ (<span style=\"color: #00d7ff; text-decoration-color: #00d7ff\">None</span>, <span style=\"color: #00af00; text-decoration-color: #00af00\">500</span>)            │        <span style=\"color: #00af00; text-decoration-color: #00af00\">50,500</span> │\n",
       "├─────────────────────────────────┼────────────────────────┼───────────────┤\n",
       "│ dense_56 (<span style=\"color: #0087ff; text-decoration-color: #0087ff\">Dense</span>)                │ (<span style=\"color: #00d7ff; text-decoration-color: #00d7ff\">None</span>, <span style=\"color: #00af00; text-decoration-color: #00af00\">6</span>)              │         <span style=\"color: #00af00; text-decoration-color: #00af00\">3,006</span> │\n",
       "├─────────────────────────────────┼────────────────────────┼───────────────┤\n",
       "│ softmax_18 (<span style=\"color: #0087ff; text-decoration-color: #0087ff\">Softmax</span>)            │ (<span style=\"color: #00d7ff; text-decoration-color: #00d7ff\">None</span>, <span style=\"color: #00af00; text-decoration-color: #00af00\">6</span>)              │             <span style=\"color: #00af00; text-decoration-color: #00af00\">0</span> │\n",
       "└─────────────────────────────────┴────────────────────────┴───────────────┘\n",
       "</pre>\n"
      ],
      "text/plain": [
       "┏━━━━━━━━━━━━━━━━━━━━━━━━━━━━━━━━━┳━━━━━━━━━━━━━━━━━━━━━━━━┳━━━━━━━━━━━━━━━┓\n",
       "┃\u001b[1m \u001b[0m\u001b[1mLayer (type)                   \u001b[0m\u001b[1m \u001b[0m┃\u001b[1m \u001b[0m\u001b[1mOutput Shape          \u001b[0m\u001b[1m \u001b[0m┃\u001b[1m \u001b[0m\u001b[1m      Param #\u001b[0m\u001b[1m \u001b[0m┃\n",
       "┡━━━━━━━━━━━━━━━━━━━━━━━━━━━━━━━━━╇━━━━━━━━━━━━━━━━━━━━━━━━╇━━━━━━━━━━━━━━━┩\n",
       "│ dense_54 (\u001b[38;5;33mDense\u001b[0m)                │ (\u001b[38;5;45mNone\u001b[0m, \u001b[38;5;34m100\u001b[0m)            │         \u001b[38;5;34m3,100\u001b[0m │\n",
       "├─────────────────────────────────┼────────────────────────┼───────────────┤\n",
       "│ dropout_18 (\u001b[38;5;33mDropout\u001b[0m)            │ (\u001b[38;5;45mNone\u001b[0m, \u001b[38;5;34m100\u001b[0m)            │             \u001b[38;5;34m0\u001b[0m │\n",
       "├─────────────────────────────────┼────────────────────────┼───────────────┤\n",
       "│ dense_55 (\u001b[38;5;33mDense\u001b[0m)                │ (\u001b[38;5;45mNone\u001b[0m, \u001b[38;5;34m500\u001b[0m)            │        \u001b[38;5;34m50,500\u001b[0m │\n",
       "├─────────────────────────────────┼────────────────────────┼───────────────┤\n",
       "│ dense_56 (\u001b[38;5;33mDense\u001b[0m)                │ (\u001b[38;5;45mNone\u001b[0m, \u001b[38;5;34m6\u001b[0m)              │         \u001b[38;5;34m3,006\u001b[0m │\n",
       "├─────────────────────────────────┼────────────────────────┼───────────────┤\n",
       "│ softmax_18 (\u001b[38;5;33mSoftmax\u001b[0m)            │ (\u001b[38;5;45mNone\u001b[0m, \u001b[38;5;34m6\u001b[0m)              │             \u001b[38;5;34m0\u001b[0m │\n",
       "└─────────────────────────────────┴────────────────────────┴───────────────┘\n"
      ]
     },
     "metadata": {},
     "output_type": "display_data"
    },
    {
     "data": {
      "text/html": [
       "<pre style=\"white-space:pre;overflow-x:auto;line-height:normal;font-family:Menlo,'DejaVu Sans Mono',consolas,'Courier New',monospace\"><span style=\"font-weight: bold\"> Total params: </span><span style=\"color: #00af00; text-decoration-color: #00af00\">56,606</span> (221.12 KB)\n",
       "</pre>\n"
      ],
      "text/plain": [
       "\u001b[1m Total params: \u001b[0m\u001b[38;5;34m56,606\u001b[0m (221.12 KB)\n"
      ]
     },
     "metadata": {},
     "output_type": "display_data"
    },
    {
     "data": {
      "text/html": [
       "<pre style=\"white-space:pre;overflow-x:auto;line-height:normal;font-family:Menlo,'DejaVu Sans Mono',consolas,'Courier New',monospace\"><span style=\"font-weight: bold\"> Trainable params: </span><span style=\"color: #00af00; text-decoration-color: #00af00\">56,606</span> (221.12 KB)\n",
       "</pre>\n"
      ],
      "text/plain": [
       "\u001b[1m Trainable params: \u001b[0m\u001b[38;5;34m56,606\u001b[0m (221.12 KB)\n"
      ]
     },
     "metadata": {},
     "output_type": "display_data"
    },
    {
     "data": {
      "text/html": [
       "<pre style=\"white-space:pre;overflow-x:auto;line-height:normal;font-family:Menlo,'DejaVu Sans Mono',consolas,'Courier New',monospace\"><span style=\"font-weight: bold\"> Non-trainable params: </span><span style=\"color: #00af00; text-decoration-color: #00af00\">0</span> (0.00 B)\n",
       "</pre>\n"
      ],
      "text/plain": [
       "\u001b[1m Non-trainable params: \u001b[0m\u001b[38;5;34m0\u001b[0m (0.00 B)\n"
      ]
     },
     "metadata": {},
     "output_type": "display_data"
    }
   ],
   "source": [
    "model = keras.Sequential([\n",
    "  keras.layers.Input(shape=dataset.element_spec[0].shape),\n",
    "  keras.layers.Dense(100, activation=\"sigmoid\"),\n",
    "  keras.layers.Dropout(0.3),\n",
    "  keras.layers.Dense(500, activation=\"sigmoid\"),\n",
    "  keras.layers.Dense(6),\n",
    "  keras.layers.Softmax(),\n",
    "])\n",
    "\n",
    "model.compile(\n",
    "  optimizer=keras.optimizers.Adam(learning_rate=0.005), # type: ignore\n",
    "  loss=keras.losses.SparseCategoricalCrossentropy(),\n",
    "  metrics=[\"accuracy\"],\n",
    ")\n",
    "\n",
    "model.summary()"
   ]
  },
  {
   "cell_type": "code",
   "execution_count": 79,
   "metadata": {},
   "outputs": [
    {
     "name": "stdout",
     "output_type": "stream",
     "text": [
      "Epoch 1/10\n",
      "\u001b[1m252/252\u001b[0m \u001b[32m━━━━━━━━━━━━━━━━━━━━\u001b[0m\u001b[37m\u001b[0m \u001b[1m1s\u001b[0m 3ms/step - accuracy: 0.3069 - loss: 1.6283 - val_accuracy: 0.2791 - val_loss: 1.6947\n",
      "Epoch 2/10\n",
      "\u001b[1m252/252\u001b[0m \u001b[32m━━━━━━━━━━━━━━━━━━━━\u001b[0m\u001b[37m\u001b[0m \u001b[1m1s\u001b[0m 3ms/step - accuracy: 0.3259 - loss: 1.6147 - val_accuracy: 0.2674 - val_loss: 1.6807\n",
      "Epoch 3/10\n",
      "\u001b[1m252/252\u001b[0m \u001b[32m━━━━━━━━━━━━━━━━━━━━\u001b[0m\u001b[37m\u001b[0m \u001b[1m1s\u001b[0m 3ms/step - accuracy: 0.3392 - loss: 1.6150 - val_accuracy: 0.3488 - val_loss: 1.7020\n",
      "Epoch 4/10\n",
      "\u001b[1m252/252\u001b[0m \u001b[32m━━━━━━━━━━━━━━━━━━━━\u001b[0m\u001b[37m\u001b[0m \u001b[1m1s\u001b[0m 3ms/step - accuracy: 0.3372 - loss: 1.6043 - val_accuracy: 0.3605 - val_loss: 1.6826\n",
      "Epoch 5/10\n",
      "\u001b[1m252/252\u001b[0m \u001b[32m━━━━━━━━━━━━━━━━━━━━\u001b[0m\u001b[37m\u001b[0m \u001b[1m1s\u001b[0m 3ms/step - accuracy: 0.3356 - loss: 1.6055 - val_accuracy: 0.3488 - val_loss: 1.6543\n",
      "Epoch 6/10\n",
      "\u001b[1m252/252\u001b[0m \u001b[32m━━━━━━━━━━━━━━━━━━━━\u001b[0m\u001b[37m\u001b[0m \u001b[1m1s\u001b[0m 3ms/step - accuracy: 0.3602 - loss: 1.5757 - val_accuracy: 0.3721 - val_loss: 1.6826\n",
      "Epoch 7/10\n",
      "\u001b[1m252/252\u001b[0m \u001b[32m━━━━━━━━━━━━━━━━━━━━\u001b[0m\u001b[37m\u001b[0m \u001b[1m1s\u001b[0m 2ms/step - accuracy: 0.3599 - loss: 1.5710 - val_accuracy: 0.3605 - val_loss: 1.6357\n",
      "Epoch 8/10\n",
      "\u001b[1m252/252\u001b[0m \u001b[32m━━━━━━━━━━━━━━━━━━━━\u001b[0m\u001b[37m\u001b[0m \u001b[1m1s\u001b[0m 2ms/step - accuracy: 0.3585 - loss: 1.5614 - val_accuracy: 0.3605 - val_loss: 1.6426\n",
      "Epoch 9/10\n",
      "\u001b[1m252/252\u001b[0m \u001b[32m━━━━━━━━━━━━━━━━━━━━\u001b[0m\u001b[37m\u001b[0m \u001b[1m1s\u001b[0m 3ms/step - accuracy: 0.3713 - loss: 1.5497 - val_accuracy: 0.3837 - val_loss: 1.6460\n",
      "Epoch 10/10\n",
      "\u001b[1m252/252\u001b[0m \u001b[32m━━━━━━━━━━━━━━━━━━━━\u001b[0m\u001b[37m\u001b[0m \u001b[1m1s\u001b[0m 3ms/step - accuracy: 0.3677 - loss: 1.5452 - val_accuracy: 0.3372 - val_loss: 1.6437\n"
     ]
    }
   ],
   "source": [
    "history = model.fit(\n",
    "  train_dataset, epochs=10,\n",
    "  validation_data=validation_dataset,\n",
    "  # callbacks=keras.callbacks.EarlyStopping(\n",
    "  #   monitor='val_loss',\n",
    "  #   min_delta=0,\n",
    "  #   patience=3,\n",
    "  #   verbose=0,\n",
    "  #   mode='auto'\n",
    "  # )\n",
    ")"
   ]
  },
  {
   "cell_type": "code",
   "execution_count": 12,
   "metadata": {},
   "outputs": [
    {
     "name": "stdout",
     "output_type": "stream",
     "text": [
      "\u001b[1m1/8\u001b[0m \u001b[32m━━\u001b[0m\u001b[37m━━━━━━━━━━━━━━━━━━\u001b[0m \u001b[1m0s\u001b[0m 15ms/step - accuracy: 0.3125 - loss: 1.6313"
     ]
    },
    {
     "name": "stdout",
     "output_type": "stream",
     "text": [
      "\u001b[1m8/8\u001b[0m \u001b[32m━━━━━━━━━━━━━━━━━━━━\u001b[0m\u001b[37m\u001b[0m \u001b[1m0s\u001b[0m 3ms/step - accuracy: 0.3069 - loss: 1.5739 \n"
     ]
    },
    {
     "data": {
      "text/plain": [
       "[1.6038748025894165, 0.27642276883125305]"
      ]
     },
     "execution_count": 12,
     "metadata": {},
     "output_type": "execute_result"
    }
   ],
   "source": [
    "model.evaluate(test_dataset)"
   ]
  },
  {
   "cell_type": "code",
   "execution_count": 50,
   "metadata": {},
   "outputs": [
    {
     "ename": "FileNotFoundError",
     "evalue": "[Errno 2] No such file or directory: 'models\\\\expression_recognition.keras'",
     "output_type": "error",
     "traceback": [
      "\u001b[1;31m---------------------------------------------------------------------------\u001b[0m",
      "\u001b[1;31mFileNotFoundError\u001b[0m                         Traceback (most recent call last)",
      "Cell \u001b[1;32mIn[50], line 1\u001b[0m\n\u001b[1;32m----> 1\u001b[0m \u001b[43mmodel\u001b[49m\u001b[38;5;241;43m.\u001b[39;49m\u001b[43msave\u001b[49m\u001b[43m(\u001b[49m\u001b[43mretina\u001b[49m\u001b[38;5;241;43m.\u001b[39;49m\u001b[43mfilesys\u001b[49m\u001b[38;5;241;43m.\u001b[39;49m\u001b[43mEXPRESSION_RECOGNITION_MODEL_PATH\u001b[49m\u001b[43m)\u001b[49m\n",
      "File \u001b[1;32mh:\\Davin\\College\\Programming\\Assignments\\Deep Learning\\Venv\\lib\\site-packages\\keras\\src\\utils\\traceback_utils.py:122\u001b[0m, in \u001b[0;36mfilter_traceback.<locals>.error_handler\u001b[1;34m(*args, **kwargs)\u001b[0m\n\u001b[0;32m    119\u001b[0m     filtered_tb \u001b[38;5;241m=\u001b[39m _process_traceback_frames(e\u001b[38;5;241m.\u001b[39m__traceback__)\n\u001b[0;32m    120\u001b[0m     \u001b[38;5;66;03m# To get the full stack trace, call:\u001b[39;00m\n\u001b[0;32m    121\u001b[0m     \u001b[38;5;66;03m# `keras.config.disable_traceback_filtering()`\u001b[39;00m\n\u001b[1;32m--> 122\u001b[0m     \u001b[38;5;28;01mraise\u001b[39;00m e\u001b[38;5;241m.\u001b[39mwith_traceback(filtered_tb) \u001b[38;5;28;01mfrom\u001b[39;00m \u001b[38;5;28;01mNone\u001b[39;00m\n\u001b[0;32m    123\u001b[0m \u001b[38;5;28;01mfinally\u001b[39;00m:\n\u001b[0;32m    124\u001b[0m     \u001b[38;5;28;01mdel\u001b[39;00m filtered_tb\n",
      "File \u001b[1;32mh:\\Davin\\College\\Programming\\Assignments\\Deep Learning\\Venv\\lib\\site-packages\\keras\\src\\saving\\saving_lib.py:141\u001b[0m, in \u001b[0;36msave_model\u001b[1;34m(model, filepath, weights_format, zipped)\u001b[0m\n\u001b[0;32m    139\u001b[0m         f\u001b[38;5;241m.\u001b[39mwrite(zip_filepath\u001b[38;5;241m.\u001b[39mgetvalue())\n\u001b[0;32m    140\u001b[0m \u001b[38;5;28;01melse\u001b[39;00m:\n\u001b[1;32m--> 141\u001b[0m     \u001b[38;5;28;01mwith\u001b[39;00m \u001b[38;5;28;43mopen\u001b[39;49m\u001b[43m(\u001b[49m\u001b[43mfilepath\u001b[49m\u001b[43m,\u001b[49m\u001b[43m \u001b[49m\u001b[38;5;124;43m\"\u001b[39;49m\u001b[38;5;124;43mwb\u001b[39;49m\u001b[38;5;124;43m\"\u001b[39;49m\u001b[43m)\u001b[49m \u001b[38;5;28;01mas\u001b[39;00m f:\n\u001b[0;32m    142\u001b[0m         _save_model_to_fileobj(model, f, weights_format)\n",
      "\u001b[1;31mFileNotFoundError\u001b[0m: [Errno 2] No such file or directory: 'models\\\\expression_recognition.keras'"
     ]
    }
   ],
   "source": [
    "model.save(retina.filesys.EXPRESSION_RECOGNITION_MODEL_PATH)"
   ]
  },
  {
   "cell_type": "code",
   "execution_count": 51,
   "metadata": {},
   "outputs": [
    {
     "name": "stderr",
     "output_type": "stream",
     "text": [
      "C:\\Users\\Irsan\\AppData\\Local\\Temp\\ipykernel_14860\\469801421.py:7: UserWarning: FigureCanvasAgg is non-interactive, and thus cannot be shown\n",
      "  accuracy_fig.show()\n"
     ]
    },
    {
     "data": {
      "image/png": "[encoded data removed]",
      "text/plain": [
       "<Figure size 600x600 with 1 Axes>"
      ]
     },
     "metadata": {},
     "output_type": "display_data"
    }
   ],
   "source": [
    "accuracy_fig = plt.figure(figsize=(6,6))\n",
    "ax = accuracy_fig.add_subplot()\n",
    "ax.plot(history.history[\"accuracy\"], label=\"Accuracy\", marker='o')\n",
    "ax.plot(history.history[\"val_accuracy\"], label=\"Validation Accuracy\", marker='o')\n",
    "ax.legend()\n",
    "ax.set_ylim(0, 1)\n",
    "accuracy_fig.show()"
   ]
  }
 ],
 "metadata": {
  "kernelspec": {
   "display_name": "Venv",
   "language": "python",
   "name": "python3"
  },
  "language_info": {
   "codemirror_mode": {
    "name": "ipython",
    "version": 3
   },
   "file_extension": ".py",
   "mimetype": "text/x-python",
   "name": "python",
   "nbconvert_exporter": "python",
   "pygments_lexer": "ipython3",
   "version": "3.10.6"
  }
 },
 "nbformat": 4,
 "nbformat_minor": 2
}
